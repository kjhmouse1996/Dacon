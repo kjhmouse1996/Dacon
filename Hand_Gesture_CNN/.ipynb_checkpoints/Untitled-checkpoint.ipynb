{
 "cells": [
  {
   "cell_type": "code",
   "execution_count": 1,
   "metadata": {},
   "outputs": [],
   "source": [
    "import pandas as pd\n",
    "from sklearn.metrics import accuracy_score\n",
    "from sklearn.model_selection import train_test_split"
   ]
  },
  {
   "cell_type": "code",
   "execution_count": 2,
   "metadata": {},
   "outputs": [],
   "source": [
    "train = pd.read_csv('train.csv')\n",
    "test = pd.read_csv('test.csv')"
   ]
  },
  {
   "cell_type": "markdown",
   "metadata": {},
   "source": [
    "# 데이터 확인"
   ]
  },
  {
   "cell_type": "code",
   "execution_count": 3,
   "metadata": {},
   "outputs": [
    {
     "data": {
      "text/html": [
       "<div>\n",
       "<style scoped>\n",
       "    .dataframe tbody tr th:only-of-type {\n",
       "        vertical-align: middle;\n",
       "    }\n",
       "\n",
       "    .dataframe tbody tr th {\n",
       "        vertical-align: top;\n",
       "    }\n",
       "\n",
       "    .dataframe thead th {\n",
       "        text-align: right;\n",
       "    }\n",
       "</style>\n",
       "<table border=\"1\" class=\"dataframe\">\n",
       "  <thead>\n",
       "    <tr style=\"text-align: right;\">\n",
       "      <th></th>\n",
       "      <th>id</th>\n",
       "      <th>sensor_1</th>\n",
       "      <th>sensor_2</th>\n",
       "      <th>sensor_3</th>\n",
       "      <th>sensor_4</th>\n",
       "      <th>sensor_5</th>\n",
       "      <th>sensor_6</th>\n",
       "      <th>sensor_7</th>\n",
       "      <th>sensor_8</th>\n",
       "      <th>sensor_9</th>\n",
       "      <th>...</th>\n",
       "      <th>sensor_24</th>\n",
       "      <th>sensor_25</th>\n",
       "      <th>sensor_26</th>\n",
       "      <th>sensor_27</th>\n",
       "      <th>sensor_28</th>\n",
       "      <th>sensor_29</th>\n",
       "      <th>sensor_30</th>\n",
       "      <th>sensor_31</th>\n",
       "      <th>sensor_32</th>\n",
       "      <th>target</th>\n",
       "    </tr>\n",
       "  </thead>\n",
       "  <tbody>\n",
       "    <tr>\n",
       "      <th>0</th>\n",
       "      <td>1</td>\n",
       "      <td>-6.149463</td>\n",
       "      <td>-0.929714</td>\n",
       "      <td>9.058368</td>\n",
       "      <td>-7.017854</td>\n",
       "      <td>-2.958471</td>\n",
       "      <td>0.179233</td>\n",
       "      <td>-0.956591</td>\n",
       "      <td>-0.972401</td>\n",
       "      <td>5.956213</td>\n",
       "      <td>...</td>\n",
       "      <td>-7.026436</td>\n",
       "      <td>-6.006282</td>\n",
       "      <td>-6.005836</td>\n",
       "      <td>7.043084</td>\n",
       "      <td>21.884650</td>\n",
       "      <td>-3.064152</td>\n",
       "      <td>-5.247552</td>\n",
       "      <td>-6.026107</td>\n",
       "      <td>-11.990822</td>\n",
       "      <td>1</td>\n",
       "    </tr>\n",
       "    <tr>\n",
       "      <th>1</th>\n",
       "      <td>2</td>\n",
       "      <td>-2.238836</td>\n",
       "      <td>-1.003511</td>\n",
       "      <td>5.098079</td>\n",
       "      <td>-10.880357</td>\n",
       "      <td>-0.804562</td>\n",
       "      <td>-2.992123</td>\n",
       "      <td>26.972724</td>\n",
       "      <td>-8.900861</td>\n",
       "      <td>-5.968298</td>\n",
       "      <td>...</td>\n",
       "      <td>-1.996714</td>\n",
       "      <td>-7.933806</td>\n",
       "      <td>-3.136773</td>\n",
       "      <td>8.774211</td>\n",
       "      <td>10.944759</td>\n",
       "      <td>9.858186</td>\n",
       "      <td>-0.969241</td>\n",
       "      <td>-3.935553</td>\n",
       "      <td>-15.892421</td>\n",
       "      <td>1</td>\n",
       "    </tr>\n",
       "    <tr>\n",
       "      <th>2</th>\n",
       "      <td>3</td>\n",
       "      <td>19.087934</td>\n",
       "      <td>-2.092514</td>\n",
       "      <td>0.946750</td>\n",
       "      <td>-21.831788</td>\n",
       "      <td>9.119235</td>\n",
       "      <td>17.853587</td>\n",
       "      <td>-21.069954</td>\n",
       "      <td>-15.933212</td>\n",
       "      <td>-9.016039</td>\n",
       "      <td>...</td>\n",
       "      <td>-6.889685</td>\n",
       "      <td>54.052330</td>\n",
       "      <td>-6.109238</td>\n",
       "      <td>12.154595</td>\n",
       "      <td>6.095989</td>\n",
       "      <td>-40.195088</td>\n",
       "      <td>-3.958124</td>\n",
       "      <td>-8.079537</td>\n",
       "      <td>-5.160090</td>\n",
       "      <td>0</td>\n",
       "    </tr>\n",
       "    <tr>\n",
       "      <th>3</th>\n",
       "      <td>4</td>\n",
       "      <td>-2.211629</td>\n",
       "      <td>-1.930904</td>\n",
       "      <td>21.888406</td>\n",
       "      <td>-3.067560</td>\n",
       "      <td>-0.240634</td>\n",
       "      <td>2.985056</td>\n",
       "      <td>-29.073369</td>\n",
       "      <td>0.200774</td>\n",
       "      <td>-1.043742</td>\n",
       "      <td>...</td>\n",
       "      <td>-2.126170</td>\n",
       "      <td>-1.035526</td>\n",
       "      <td>2.178769</td>\n",
       "      <td>10.032723</td>\n",
       "      <td>-1.010897</td>\n",
       "      <td>-3.912848</td>\n",
       "      <td>-2.980338</td>\n",
       "      <td>-12.983597</td>\n",
       "      <td>-3.001077</td>\n",
       "      <td>1</td>\n",
       "    </tr>\n",
       "    <tr>\n",
       "      <th>4</th>\n",
       "      <td>5</td>\n",
       "      <td>3.953852</td>\n",
       "      <td>2.964892</td>\n",
       "      <td>-36.044802</td>\n",
       "      <td>0.899838</td>\n",
       "      <td>26.930210</td>\n",
       "      <td>11.004409</td>\n",
       "      <td>-21.962423</td>\n",
       "      <td>-11.950189</td>\n",
       "      <td>-20.933785</td>\n",
       "      <td>...</td>\n",
       "      <td>-2.051761</td>\n",
       "      <td>10.917567</td>\n",
       "      <td>1.905335</td>\n",
       "      <td>-13.004707</td>\n",
       "      <td>17.169552</td>\n",
       "      <td>2.105194</td>\n",
       "      <td>3.967986</td>\n",
       "      <td>11.861657</td>\n",
       "      <td>-27.088846</td>\n",
       "      <td>2</td>\n",
       "    </tr>\n",
       "  </tbody>\n",
       "</table>\n",
       "<p>5 rows × 34 columns</p>\n",
       "</div>"
      ],
      "text/plain": [
       "   id   sensor_1  sensor_2   sensor_3   sensor_4   sensor_5   sensor_6  \\\n",
       "0   1  -6.149463 -0.929714   9.058368  -7.017854  -2.958471   0.179233   \n",
       "1   2  -2.238836 -1.003511   5.098079 -10.880357  -0.804562  -2.992123   \n",
       "2   3  19.087934 -2.092514   0.946750 -21.831788   9.119235  17.853587   \n",
       "3   4  -2.211629 -1.930904  21.888406  -3.067560  -0.240634   2.985056   \n",
       "4   5   3.953852  2.964892 -36.044802   0.899838  26.930210  11.004409   \n",
       "\n",
       "    sensor_7   sensor_8   sensor_9  ...  sensor_24  sensor_25  sensor_26  \\\n",
       "0  -0.956591  -0.972401   5.956213  ...  -7.026436  -6.006282  -6.005836   \n",
       "1  26.972724  -8.900861  -5.968298  ...  -1.996714  -7.933806  -3.136773   \n",
       "2 -21.069954 -15.933212  -9.016039  ...  -6.889685  54.052330  -6.109238   \n",
       "3 -29.073369   0.200774  -1.043742  ...  -2.126170  -1.035526   2.178769   \n",
       "4 -21.962423 -11.950189 -20.933785  ...  -2.051761  10.917567   1.905335   \n",
       "\n",
       "   sensor_27  sensor_28  sensor_29  sensor_30  sensor_31  sensor_32  target  \n",
       "0   7.043084  21.884650  -3.064152  -5.247552  -6.026107 -11.990822       1  \n",
       "1   8.774211  10.944759   9.858186  -0.969241  -3.935553 -15.892421       1  \n",
       "2  12.154595   6.095989 -40.195088  -3.958124  -8.079537  -5.160090       0  \n",
       "3  10.032723  -1.010897  -3.912848  -2.980338 -12.983597  -3.001077       1  \n",
       "4 -13.004707  17.169552   2.105194   3.967986  11.861657 -27.088846       2  \n",
       "\n",
       "[5 rows x 34 columns]"
      ]
     },
     "execution_count": 3,
     "metadata": {},
     "output_type": "execute_result"
    }
   ],
   "source": [
    "train.head()"
   ]
  },
  {
   "cell_type": "code",
   "execution_count": 4,
   "metadata": {},
   "outputs": [
    {
     "data": {
      "text/html": [
       "<div>\n",
       "<style scoped>\n",
       "    .dataframe tbody tr th:only-of-type {\n",
       "        vertical-align: middle;\n",
       "    }\n",
       "\n",
       "    .dataframe tbody tr th {\n",
       "        vertical-align: top;\n",
       "    }\n",
       "\n",
       "    .dataframe thead th {\n",
       "        text-align: right;\n",
       "    }\n",
       "</style>\n",
       "<table border=\"1\" class=\"dataframe\">\n",
       "  <thead>\n",
       "    <tr style=\"text-align: right;\">\n",
       "      <th></th>\n",
       "      <th>id</th>\n",
       "      <th>sensor_1</th>\n",
       "      <th>sensor_2</th>\n",
       "      <th>sensor_3</th>\n",
       "      <th>sensor_4</th>\n",
       "      <th>sensor_5</th>\n",
       "      <th>sensor_6</th>\n",
       "      <th>sensor_7</th>\n",
       "      <th>sensor_8</th>\n",
       "      <th>sensor_9</th>\n",
       "      <th>...</th>\n",
       "      <th>sensor_23</th>\n",
       "      <th>sensor_24</th>\n",
       "      <th>sensor_25</th>\n",
       "      <th>sensor_26</th>\n",
       "      <th>sensor_27</th>\n",
       "      <th>sensor_28</th>\n",
       "      <th>sensor_29</th>\n",
       "      <th>sensor_30</th>\n",
       "      <th>sensor_31</th>\n",
       "      <th>sensor_32</th>\n",
       "    </tr>\n",
       "  </thead>\n",
       "  <tbody>\n",
       "    <tr>\n",
       "      <th>0</th>\n",
       "      <td>1</td>\n",
       "      <td>0.067135</td>\n",
       "      <td>5.040383</td>\n",
       "      <td>-2.965405</td>\n",
       "      <td>-12.952880</td>\n",
       "      <td>-1.938465</td>\n",
       "      <td>-10.997802</td>\n",
       "      <td>1.853669</td>\n",
       "      <td>21.077862</td>\n",
       "      <td>7.963131</td>\n",
       "      <td>...</td>\n",
       "      <td>8.128448</td>\n",
       "      <td>5.871833</td>\n",
       "      <td>1.889536</td>\n",
       "      <td>-3.926719</td>\n",
       "      <td>0.929041</td>\n",
       "      <td>4.999071</td>\n",
       "      <td>-7.963270</td>\n",
       "      <td>4.044370</td>\n",
       "      <td>-1.993315</td>\n",
       "      <td>10.855771</td>\n",
       "    </tr>\n",
       "    <tr>\n",
       "      <th>1</th>\n",
       "      <td>2</td>\n",
       "      <td>6.890655</td>\n",
       "      <td>-12.010728</td>\n",
       "      <td>24.881907</td>\n",
       "      <td>38.943245</td>\n",
       "      <td>-4.757496</td>\n",
       "      <td>5.926453</td>\n",
       "      <td>7.923851</td>\n",
       "      <td>3.925545</td>\n",
       "      <td>4.012127</td>\n",
       "      <td>...</td>\n",
       "      <td>-7.941582</td>\n",
       "      <td>-27.106928</td>\n",
       "      <td>-16.940167</td>\n",
       "      <td>-11.169073</td>\n",
       "      <td>0.202975</td>\n",
       "      <td>6.846631</td>\n",
       "      <td>7.911875</td>\n",
       "      <td>-2.852819</td>\n",
       "      <td>56.028042</td>\n",
       "      <td>52.967175</td>\n",
       "    </tr>\n",
       "    <tr>\n",
       "      <th>2</th>\n",
       "      <td>3</td>\n",
       "      <td>-4.809695</td>\n",
       "      <td>0.962863</td>\n",
       "      <td>-1.893647</td>\n",
       "      <td>-6.168084</td>\n",
       "      <td>-3.948282</td>\n",
       "      <td>0.977219</td>\n",
       "      <td>12.960620</td>\n",
       "      <td>-9.048958</td>\n",
       "      <td>5.969053</td>\n",
       "      <td>...</td>\n",
       "      <td>-0.895094</td>\n",
       "      <td>-7.984137</td>\n",
       "      <td>-0.025761</td>\n",
       "      <td>2.981749</td>\n",
       "      <td>4.948704</td>\n",
       "      <td>-10.841968</td>\n",
       "      <td>-4.860024</td>\n",
       "      <td>-6.917495</td>\n",
       "      <td>2.842422</td>\n",
       "      <td>-3.081374</td>\n",
       "    </tr>\n",
       "    <tr>\n",
       "      <th>3</th>\n",
       "      <td>4</td>\n",
       "      <td>0.018158</td>\n",
       "      <td>-3.993114</td>\n",
       "      <td>12.001667</td>\n",
       "      <td>22.960746</td>\n",
       "      <td>-2.121793</td>\n",
       "      <td>-6.002385</td>\n",
       "      <td>2.173744</td>\n",
       "      <td>1.045248</td>\n",
       "      <td>1.073869</td>\n",
       "      <td>...</td>\n",
       "      <td>-10.084452</td>\n",
       "      <td>2.828070</td>\n",
       "      <td>0.903349</td>\n",
       "      <td>5.156367</td>\n",
       "      <td>40.827713</td>\n",
       "      <td>-1.160840</td>\n",
       "      <td>-1.215552</td>\n",
       "      <td>0.037914</td>\n",
       "      <td>-24.968873</td>\n",
       "      <td>-7.148603</td>\n",
       "    </tr>\n",
       "    <tr>\n",
       "      <th>4</th>\n",
       "      <td>5</td>\n",
       "      <td>-7.841592</td>\n",
       "      <td>-2.129997</td>\n",
       "      <td>7.872448</td>\n",
       "      <td>-8.953428</td>\n",
       "      <td>28.080007</td>\n",
       "      <td>-5.019895</td>\n",
       "      <td>-10.922551</td>\n",
       "      <td>-15.045833</td>\n",
       "      <td>-56.981894</td>\n",
       "      <td>...</td>\n",
       "      <td>-2.000975</td>\n",
       "      <td>-23.942689</td>\n",
       "      <td>-6.741350</td>\n",
       "      <td>0.831967</td>\n",
       "      <td>11.905613</td>\n",
       "      <td>3.106004</td>\n",
       "      <td>46.899363</td>\n",
       "      <td>3.001353</td>\n",
       "      <td>-17.881074</td>\n",
       "      <td>-6.882390</td>\n",
       "    </tr>\n",
       "  </tbody>\n",
       "</table>\n",
       "<p>5 rows × 33 columns</p>\n",
       "</div>"
      ],
      "text/plain": [
       "   id  sensor_1   sensor_2   sensor_3   sensor_4   sensor_5   sensor_6  \\\n",
       "0   1  0.067135   5.040383  -2.965405 -12.952880  -1.938465 -10.997802   \n",
       "1   2  6.890655 -12.010728  24.881907  38.943245  -4.757496   5.926453   \n",
       "2   3 -4.809695   0.962863  -1.893647  -6.168084  -3.948282   0.977219   \n",
       "3   4  0.018158  -3.993114  12.001667  22.960746  -2.121793  -6.002385   \n",
       "4   5 -7.841592  -2.129997   7.872448  -8.953428  28.080007  -5.019895   \n",
       "\n",
       "    sensor_7   sensor_8   sensor_9  ...  sensor_23  sensor_24  sensor_25  \\\n",
       "0   1.853669  21.077862   7.963131  ...   8.128448   5.871833   1.889536   \n",
       "1   7.923851   3.925545   4.012127  ...  -7.941582 -27.106928 -16.940167   \n",
       "2  12.960620  -9.048958   5.969053  ...  -0.895094  -7.984137  -0.025761   \n",
       "3   2.173744   1.045248   1.073869  ... -10.084452   2.828070   0.903349   \n",
       "4 -10.922551 -15.045833 -56.981894  ...  -2.000975 -23.942689  -6.741350   \n",
       "\n",
       "   sensor_26  sensor_27  sensor_28  sensor_29  sensor_30  sensor_31  sensor_32  \n",
       "0  -3.926719   0.929041   4.999071  -7.963270   4.044370  -1.993315  10.855771  \n",
       "1 -11.169073   0.202975   6.846631   7.911875  -2.852819  56.028042  52.967175  \n",
       "2   2.981749   4.948704 -10.841968  -4.860024  -6.917495   2.842422  -3.081374  \n",
       "3   5.156367  40.827713  -1.160840  -1.215552   0.037914 -24.968873  -7.148603  \n",
       "4   0.831967  11.905613   3.106004  46.899363   3.001353 -17.881074  -6.882390  \n",
       "\n",
       "[5 rows x 33 columns]"
      ]
     },
     "execution_count": 4,
     "metadata": {},
     "output_type": "execute_result"
    }
   ],
   "source": [
    "test.head()"
   ]
  },
  {
   "cell_type": "code",
   "execution_count": 5,
   "metadata": {
    "scrolled": true
   },
   "outputs": [
    {
     "name": "stdout",
     "output_type": "stream",
     "text": [
      "<class 'pandas.core.frame.DataFrame'>\n",
      "RangeIndex: 2335 entries, 0 to 2334\n",
      "Data columns (total 34 columns):\n",
      " #   Column     Non-Null Count  Dtype  \n",
      "---  ------     --------------  -----  \n",
      " 0   id         2335 non-null   int64  \n",
      " 1   sensor_1   2335 non-null   float64\n",
      " 2   sensor_2   2335 non-null   float64\n",
      " 3   sensor_3   2335 non-null   float64\n",
      " 4   sensor_4   2335 non-null   float64\n",
      " 5   sensor_5   2335 non-null   float64\n",
      " 6   sensor_6   2335 non-null   float64\n",
      " 7   sensor_7   2335 non-null   float64\n",
      " 8   sensor_8   2335 non-null   float64\n",
      " 9   sensor_9   2335 non-null   float64\n",
      " 10  sensor_10  2335 non-null   float64\n",
      " 11  sensor_11  2335 non-null   float64\n",
      " 12  sensor_12  2335 non-null   float64\n",
      " 13  sensor_13  2335 non-null   float64\n",
      " 14  sensor_14  2335 non-null   float64\n",
      " 15  sensor_15  2335 non-null   float64\n",
      " 16  sensor_16  2335 non-null   float64\n",
      " 17  sensor_17  2335 non-null   float64\n",
      " 18  sensor_18  2335 non-null   float64\n",
      " 19  sensor_19  2335 non-null   float64\n",
      " 20  sensor_20  2335 non-null   float64\n",
      " 21  sensor_21  2335 non-null   float64\n",
      " 22  sensor_22  2335 non-null   float64\n",
      " 23  sensor_23  2335 non-null   float64\n",
      " 24  sensor_24  2335 non-null   float64\n",
      " 25  sensor_25  2335 non-null   float64\n",
      " 26  sensor_26  2335 non-null   float64\n",
      " 27  sensor_27  2335 non-null   float64\n",
      " 28  sensor_28  2335 non-null   float64\n",
      " 29  sensor_29  2335 non-null   float64\n",
      " 30  sensor_30  2335 non-null   float64\n",
      " 31  sensor_31  2335 non-null   float64\n",
      " 32  sensor_32  2335 non-null   float64\n",
      " 33  target     2335 non-null   int64  \n",
      "dtypes: float64(32), int64(2)\n",
      "memory usage: 620.4 KB\n"
     ]
    }
   ],
   "source": [
    "train.info()"
   ]
  },
  {
   "cell_type": "code",
   "execution_count": 6,
   "metadata": {},
   "outputs": [
    {
     "name": "stdout",
     "output_type": "stream",
     "text": [
      "<class 'pandas.core.frame.DataFrame'>\n",
      "RangeIndex: 9343 entries, 0 to 9342\n",
      "Data columns (total 33 columns):\n",
      " #   Column     Non-Null Count  Dtype  \n",
      "---  ------     --------------  -----  \n",
      " 0   id         9343 non-null   int64  \n",
      " 1   sensor_1   9343 non-null   float64\n",
      " 2   sensor_2   9343 non-null   float64\n",
      " 3   sensor_3   9343 non-null   float64\n",
      " 4   sensor_4   9343 non-null   float64\n",
      " 5   sensor_5   9343 non-null   float64\n",
      " 6   sensor_6   9343 non-null   float64\n",
      " 7   sensor_7   9343 non-null   float64\n",
      " 8   sensor_8   9343 non-null   float64\n",
      " 9   sensor_9   9343 non-null   float64\n",
      " 10  sensor_10  9343 non-null   float64\n",
      " 11  sensor_11  9343 non-null   float64\n",
      " 12  sensor_12  9343 non-null   float64\n",
      " 13  sensor_13  9343 non-null   float64\n",
      " 14  sensor_14  9343 non-null   float64\n",
      " 15  sensor_15  9343 non-null   float64\n",
      " 16  sensor_16  9343 non-null   float64\n",
      " 17  sensor_17  9343 non-null   float64\n",
      " 18  sensor_18  9343 non-null   float64\n",
      " 19  sensor_19  9343 non-null   float64\n",
      " 20  sensor_20  9343 non-null   float64\n",
      " 21  sensor_21  9343 non-null   float64\n",
      " 22  sensor_22  9343 non-null   float64\n",
      " 23  sensor_23  9343 non-null   float64\n",
      " 24  sensor_24  9343 non-null   float64\n",
      " 25  sensor_25  9343 non-null   float64\n",
      " 26  sensor_26  9343 non-null   float64\n",
      " 27  sensor_27  9343 non-null   float64\n",
      " 28  sensor_28  9343 non-null   float64\n",
      " 29  sensor_29  9343 non-null   float64\n",
      " 30  sensor_30  9343 non-null   float64\n",
      " 31  sensor_31  9343 non-null   float64\n",
      " 32  sensor_32  9343 non-null   float64\n",
      "dtypes: float64(32), int64(1)\n",
      "memory usage: 2.4 MB\n"
     ]
    }
   ],
   "source": [
    "test.info()"
   ]
  },
  {
   "cell_type": "code",
   "execution_count": 7,
   "metadata": {
    "scrolled": true
   },
   "outputs": [
    {
     "data": {
      "text/html": [
       "<div>\n",
       "<style scoped>\n",
       "    .dataframe tbody tr th:only-of-type {\n",
       "        vertical-align: middle;\n",
       "    }\n",
       "\n",
       "    .dataframe tbody tr th {\n",
       "        vertical-align: top;\n",
       "    }\n",
       "\n",
       "    .dataframe thead th {\n",
       "        text-align: right;\n",
       "    }\n",
       "</style>\n",
       "<table border=\"1\" class=\"dataframe\">\n",
       "  <thead>\n",
       "    <tr style=\"text-align: right;\">\n",
       "      <th></th>\n",
       "      <th>id</th>\n",
       "      <th>sensor_1</th>\n",
       "      <th>sensor_2</th>\n",
       "      <th>sensor_3</th>\n",
       "      <th>sensor_4</th>\n",
       "      <th>sensor_5</th>\n",
       "      <th>sensor_6</th>\n",
       "      <th>sensor_7</th>\n",
       "      <th>sensor_8</th>\n",
       "      <th>sensor_9</th>\n",
       "      <th>...</th>\n",
       "      <th>sensor_24</th>\n",
       "      <th>sensor_25</th>\n",
       "      <th>sensor_26</th>\n",
       "      <th>sensor_27</th>\n",
       "      <th>sensor_28</th>\n",
       "      <th>sensor_29</th>\n",
       "      <th>sensor_30</th>\n",
       "      <th>sensor_31</th>\n",
       "      <th>sensor_32</th>\n",
       "      <th>target</th>\n",
       "    </tr>\n",
       "  </thead>\n",
       "  <tbody>\n",
       "    <tr>\n",
       "      <th>count</th>\n",
       "      <td>2335.000000</td>\n",
       "      <td>2335.000000</td>\n",
       "      <td>2335.000000</td>\n",
       "      <td>2335.000000</td>\n",
       "      <td>2335.000000</td>\n",
       "      <td>2335.000000</td>\n",
       "      <td>2335.000000</td>\n",
       "      <td>2335.000000</td>\n",
       "      <td>2335.000000</td>\n",
       "      <td>2335.000000</td>\n",
       "      <td>...</td>\n",
       "      <td>2335.000000</td>\n",
       "      <td>2335.000000</td>\n",
       "      <td>2335.000000</td>\n",
       "      <td>2335.000000</td>\n",
       "      <td>2335.000000</td>\n",
       "      <td>2335.000000</td>\n",
       "      <td>2335.000000</td>\n",
       "      <td>2335.000000</td>\n",
       "      <td>2335.000000</td>\n",
       "      <td>2335.000000</td>\n",
       "    </tr>\n",
       "    <tr>\n",
       "      <th>mean</th>\n",
       "      <td>1168.000000</td>\n",
       "      <td>-1.122174</td>\n",
       "      <td>-1.024673</td>\n",
       "      <td>-0.672769</td>\n",
       "      <td>-0.147724</td>\n",
       "      <td>-0.327494</td>\n",
       "      <td>-0.423462</td>\n",
       "      <td>0.676275</td>\n",
       "      <td>-0.936019</td>\n",
       "      <td>-0.797432</td>\n",
       "      <td>...</td>\n",
       "      <td>-0.356441</td>\n",
       "      <td>-0.927744</td>\n",
       "      <td>-0.589060</td>\n",
       "      <td>-0.081374</td>\n",
       "      <td>-0.370812</td>\n",
       "      <td>-0.726941</td>\n",
       "      <td>-0.809534</td>\n",
       "      <td>-0.495062</td>\n",
       "      <td>-0.743585</td>\n",
       "      <td>1.523340</td>\n",
       "    </tr>\n",
       "    <tr>\n",
       "      <th>std</th>\n",
       "      <td>674.200761</td>\n",
       "      <td>11.486353</td>\n",
       "      <td>7.399859</td>\n",
       "      <td>26.519159</td>\n",
       "      <td>15.551500</td>\n",
       "      <td>11.461970</td>\n",
       "      <td>7.314322</td>\n",
       "      <td>26.869479</td>\n",
       "      <td>15.598104</td>\n",
       "      <td>12.015022</td>\n",
       "      <td>...</td>\n",
       "      <td>16.531906</td>\n",
       "      <td>12.021560</td>\n",
       "      <td>7.440983</td>\n",
       "      <td>25.923355</td>\n",
       "      <td>15.541803</td>\n",
       "      <td>11.636507</td>\n",
       "      <td>7.469744</td>\n",
       "      <td>25.291238</td>\n",
       "      <td>16.300385</td>\n",
       "      <td>1.118221</td>\n",
       "    </tr>\n",
       "    <tr>\n",
       "      <th>min</th>\n",
       "      <td>1.000000</td>\n",
       "      <td>-94.746969</td>\n",
       "      <td>-63.942094</td>\n",
       "      <td>-122.195138</td>\n",
       "      <td>-111.870691</td>\n",
       "      <td>-94.147972</td>\n",
       "      <td>-70.916786</td>\n",
       "      <td>-105.956553</td>\n",
       "      <td>-102.965354</td>\n",
       "      <td>-81.268085</td>\n",
       "      <td>...</td>\n",
       "      <td>-127.797649</td>\n",
       "      <td>-99.115177</td>\n",
       "      <td>-86.193378</td>\n",
       "      <td>-105.751637</td>\n",
       "      <td>-105.890010</td>\n",
       "      <td>-74.977182</td>\n",
       "      <td>-74.006065</td>\n",
       "      <td>-121.097086</td>\n",
       "      <td>-123.876153</td>\n",
       "      <td>0.000000</td>\n",
       "    </tr>\n",
       "    <tr>\n",
       "      <th>25%</th>\n",
       "      <td>584.500000</td>\n",
       "      <td>-4.036597</td>\n",
       "      <td>-4.031957</td>\n",
       "      <td>-14.878500</td>\n",
       "      <td>-7.116633</td>\n",
       "      <td>-3.968687</td>\n",
       "      <td>-3.957699</td>\n",
       "      <td>-13.937806</td>\n",
       "      <td>-8.053214</td>\n",
       "      <td>-4.031148</td>\n",
       "      <td>...</td>\n",
       "      <td>-7.980628</td>\n",
       "      <td>-4.004750</td>\n",
       "      <td>-4.001112</td>\n",
       "      <td>-14.096840</td>\n",
       "      <td>-8.004561</td>\n",
       "      <td>-3.981055</td>\n",
       "      <td>-3.988965</td>\n",
       "      <td>-13.998874</td>\n",
       "      <td>-7.873898</td>\n",
       "      <td>1.000000</td>\n",
       "    </tr>\n",
       "    <tr>\n",
       "      <th>50%</th>\n",
       "      <td>1168.000000</td>\n",
       "      <td>-0.951398</td>\n",
       "      <td>-1.015582</td>\n",
       "      <td>-0.961088</td>\n",
       "      <td>-0.890469</td>\n",
       "      <td>-0.871690</td>\n",
       "      <td>-0.804810</td>\n",
       "      <td>0.058910</td>\n",
       "      <td>-1.095551</td>\n",
       "      <td>-0.944613</td>\n",
       "      <td>...</td>\n",
       "      <td>-0.926120</td>\n",
       "      <td>-0.907301</td>\n",
       "      <td>-0.897015</td>\n",
       "      <td>-0.954791</td>\n",
       "      <td>-0.989293</td>\n",
       "      <td>-0.889780</td>\n",
       "      <td>-0.928504</td>\n",
       "      <td>-0.955684</td>\n",
       "      <td>-1.019547</td>\n",
       "      <td>2.000000</td>\n",
       "    </tr>\n",
       "    <tr>\n",
       "      <th>75%</th>\n",
       "      <td>1751.500000</td>\n",
       "      <td>2.895540</td>\n",
       "      <td>2.140456</td>\n",
       "      <td>13.974075</td>\n",
       "      <td>6.110973</td>\n",
       "      <td>2.970387</td>\n",
       "      <td>3.006144</td>\n",
       "      <td>13.934438</td>\n",
       "      <td>4.955494</td>\n",
       "      <td>2.235557</td>\n",
       "      <td>...</td>\n",
       "      <td>6.002985</td>\n",
       "      <td>2.863184</td>\n",
       "      <td>2.951682</td>\n",
       "      <td>13.903783</td>\n",
       "      <td>5.922250</td>\n",
       "      <td>2.972719</td>\n",
       "      <td>2.519426</td>\n",
       "      <td>13.926128</td>\n",
       "      <td>5.121679</td>\n",
       "      <td>3.000000</td>\n",
       "    </tr>\n",
       "    <tr>\n",
       "      <th>max</th>\n",
       "      <td>2335.000000</td>\n",
       "      <td>68.876142</td>\n",
       "      <td>39.913391</td>\n",
       "      <td>127.124171</td>\n",
       "      <td>102.015561</td>\n",
       "      <td>89.059852</td>\n",
       "      <td>34.923040</td>\n",
       "      <td>120.046277</td>\n",
       "      <td>125.160611</td>\n",
       "      <td>74.101715</td>\n",
       "      <td>...</td>\n",
       "      <td>127.161055</td>\n",
       "      <td>58.113657</td>\n",
       "      <td>59.105536</td>\n",
       "      <td>123.179253</td>\n",
       "      <td>111.137925</td>\n",
       "      <td>54.098746</td>\n",
       "      <td>35.896503</td>\n",
       "      <td>125.974107</td>\n",
       "      <td>104.959622</td>\n",
       "      <td>3.000000</td>\n",
       "    </tr>\n",
       "  </tbody>\n",
       "</table>\n",
       "<p>8 rows × 34 columns</p>\n",
       "</div>"
      ],
      "text/plain": [
       "                id     sensor_1     sensor_2     sensor_3     sensor_4  \\\n",
       "count  2335.000000  2335.000000  2335.000000  2335.000000  2335.000000   \n",
       "mean   1168.000000    -1.122174    -1.024673    -0.672769    -0.147724   \n",
       "std     674.200761    11.486353     7.399859    26.519159    15.551500   \n",
       "min       1.000000   -94.746969   -63.942094  -122.195138  -111.870691   \n",
       "25%     584.500000    -4.036597    -4.031957   -14.878500    -7.116633   \n",
       "50%    1168.000000    -0.951398    -1.015582    -0.961088    -0.890469   \n",
       "75%    1751.500000     2.895540     2.140456    13.974075     6.110973   \n",
       "max    2335.000000    68.876142    39.913391   127.124171   102.015561   \n",
       "\n",
       "          sensor_5     sensor_6     sensor_7     sensor_8     sensor_9  ...  \\\n",
       "count  2335.000000  2335.000000  2335.000000  2335.000000  2335.000000  ...   \n",
       "mean     -0.327494    -0.423462     0.676275    -0.936019    -0.797432  ...   \n",
       "std      11.461970     7.314322    26.869479    15.598104    12.015022  ...   \n",
       "min     -94.147972   -70.916786  -105.956553  -102.965354   -81.268085  ...   \n",
       "25%      -3.968687    -3.957699   -13.937806    -8.053214    -4.031148  ...   \n",
       "50%      -0.871690    -0.804810     0.058910    -1.095551    -0.944613  ...   \n",
       "75%       2.970387     3.006144    13.934438     4.955494     2.235557  ...   \n",
       "max      89.059852    34.923040   120.046277   125.160611    74.101715  ...   \n",
       "\n",
       "         sensor_24    sensor_25    sensor_26    sensor_27    sensor_28  \\\n",
       "count  2335.000000  2335.000000  2335.000000  2335.000000  2335.000000   \n",
       "mean     -0.356441    -0.927744    -0.589060    -0.081374    -0.370812   \n",
       "std      16.531906    12.021560     7.440983    25.923355    15.541803   \n",
       "min    -127.797649   -99.115177   -86.193378  -105.751637  -105.890010   \n",
       "25%      -7.980628    -4.004750    -4.001112   -14.096840    -8.004561   \n",
       "50%      -0.926120    -0.907301    -0.897015    -0.954791    -0.989293   \n",
       "75%       6.002985     2.863184     2.951682    13.903783     5.922250   \n",
       "max     127.161055    58.113657    59.105536   123.179253   111.137925   \n",
       "\n",
       "         sensor_29    sensor_30    sensor_31    sensor_32       target  \n",
       "count  2335.000000  2335.000000  2335.000000  2335.000000  2335.000000  \n",
       "mean     -0.726941    -0.809534    -0.495062    -0.743585     1.523340  \n",
       "std      11.636507     7.469744    25.291238    16.300385     1.118221  \n",
       "min     -74.977182   -74.006065  -121.097086  -123.876153     0.000000  \n",
       "25%      -3.981055    -3.988965   -13.998874    -7.873898     1.000000  \n",
       "50%      -0.889780    -0.928504    -0.955684    -1.019547     2.000000  \n",
       "75%       2.972719     2.519426    13.926128     5.121679     3.000000  \n",
       "max      54.098746    35.896503   125.974107   104.959622     3.000000  \n",
       "\n",
       "[8 rows x 34 columns]"
      ]
     },
     "execution_count": 7,
     "metadata": {},
     "output_type": "execute_result"
    }
   ],
   "source": [
    "train.describe()"
   ]
  },
  {
   "cell_type": "code",
   "execution_count": 8,
   "metadata": {},
   "outputs": [
    {
     "name": "stdout",
     "output_type": "stream",
     "text": [
      "결측치가 존재하지 않습니다\n"
     ]
    }
   ],
   "source": [
    "def check_missing_col(dataframe):\n",
    "    missing_col = []\n",
    "    counted_missing_col = 0\n",
    "    for i, col in enumerate(dataframe.columns):\n",
    "        missing_values = sum(dataframe[col].isna())\n",
    "        is_missing = True if missing_values >= 1 else False\n",
    "        if is_missing:\n",
    "            counted_missing_col += 1\n",
    "            print(f'결측치가 있는 컬럼은: {col}입니다')\n",
    "            print(f'해당 컬럼에 총 {missing_values}개의 결측치가 존재합니다.')\n",
    "            missing_col.append([col, dataframe[col].dtype])\n",
    "    if counted_missing_col == 0:\n",
    "        print('결측치가 존재하지 않습니다')\n",
    "    return missing_col\n",
    "\n",
    "missing_col = check_missing_col(train)"
   ]
  },
  {
   "cell_type": "markdown",
   "metadata": {},
   "source": [
    "# 데이터 분리"
   ]
  },
  {
   "cell_type": "code",
   "execution_count": 9,
   "metadata": {},
   "outputs": [],
   "source": [
    "train_X = train.drop(['id','target'],axis=1)\n",
    "train_y = train.target"
   ]
  },
  {
   "cell_type": "code",
   "execution_count": null,
   "metadata": {},
   "outputs": [],
   "source": []
  },
  {
   "cell_type": "markdown",
   "metadata": {},
   "source": [
    "# 분석"
   ]
  },
  {
   "cell_type": "markdown",
   "metadata": {},
   "source": [
    "## Random Forest"
   ]
  },
  {
   "cell_type": "code",
   "execution_count": 113,
   "metadata": {},
   "outputs": [],
   "source": [
    "from sklearn.ensemble import RandomForestClassifier"
   ]
  },
  {
   "cell_type": "code",
   "execution_count": null,
   "metadata": {},
   "outputs": [],
   "source": [
    "clf = RandomForestClassifier() #모델을 객체에 할당\n",
    "\n",
    "clf.fit(train_X,train_y) #모델 학습"
   ]
  },
  {
   "cell_type": "code",
   "execution_count": null,
   "metadata": {},
   "outputs": [],
   "source": []
  },
  {
   "cell_type": "code",
   "execution_count": 114,
   "metadata": {},
   "outputs": [
    {
     "name": "stdout",
     "output_type": "stream",
     "text": [
      "최적 하이퍼 파라미터:\n",
      " {'max_depth': 12, 'min_samples_leaf': 1, 'min_samples_split': 2, 'n_estimators': 100}\n",
      "최고 예측 정확도: 0.7221\n",
      "Wall time: 15.1 s\n"
     ]
    }
   ],
   "source": [
    "%%time\n",
    "from sklearn.model_selection import GridSearchCV\n",
    "\n",
    "params = {\n",
    "    'n_estimators':[100],\n",
    "    'max_depth' : [6, 8, 10, 12],\n",
    "    'min_samples_leaf' :  [1, 8, 12, 18],\n",
    "    'min_samples_split' : [2, 8, 16, 20]\n",
    "}\n",
    "\n",
    "# RandomForestClassifier 객체 생성 후 GridSearchCV 수행\n",
    "rf_clf = RandomForestClassifier(random_state=100, n_jobs=-1)  # n_jobs=-1 : 컴퓨터의 모든 코어를 다 사용해라\n",
    "                                                           # https://aimb.tistory.com/150\n",
    "# 그리드서치 수행\n",
    "# # n_jobs=-1  : 전체 cpu core를 사용해라.\n",
    "grid_cv = GridSearchCV(rf_clf , param_grid=params , cv=2, n_jobs=-1)\n",
    "grid_cv.fit(train_X , train_y)\n",
    "\n",
    "print('최적 하이퍼 파라미터:\\n', grid_cv.best_params_)\n",
    "print('최고 예측 정확도: {0:.4f}'.format(grid_cv.best_score_))"
   ]
  },
  {
   "cell_type": "code",
   "execution_count": 115,
   "metadata": {},
   "outputs": [],
   "source": [
    "clf = RandomForestClassifier(n_estimators=300, max_depth=12, min_samples_leaf=1, min_samples_split=2, random_state = 100)"
   ]
  },
  {
   "cell_type": "code",
   "execution_count": 116,
   "metadata": {
    "scrolled": true
   },
   "outputs": [
    {
     "data": {
      "text/plain": [
       "RandomForestClassifier(max_depth=12, n_estimators=300, random_state=100)"
      ]
     },
     "execution_count": 116,
     "metadata": {},
     "output_type": "execute_result"
    }
   ],
   "source": [
    "clf.fit(train_X,train_y)"
   ]
  },
  {
   "cell_type": "code",
   "execution_count": 117,
   "metadata": {},
   "outputs": [],
   "source": [
    "rf_clf_pred = clf.predict(test_X)"
   ]
  },
  {
   "cell_type": "code",
   "execution_count": null,
   "metadata": {},
   "outputs": [],
   "source": []
  },
  {
   "cell_type": "markdown",
   "metadata": {},
   "source": [
    "## Voting"
   ]
  },
  {
   "cell_type": "code",
   "execution_count": 30,
   "metadata": {},
   "outputs": [],
   "source": [
    "from sklearn.ensemble import VotingClassifier #앙상블, 보팅\n",
    "from sklearn.linear_model import LogisticRegression #2진분류, 둘중하나로 분류해주는 알고리즘\n",
    "from sklearn.neighbors import KNeighborsClassifier #분류알고리즘"
   ]
  },
  {
   "cell_type": "code",
   "execution_count": 65,
   "metadata": {},
   "outputs": [],
   "source": [
    "lr_clf = LogisticRegression()\n",
    "knn_clf = KNeighborsClassifier(n_neighbors=8)\n",
    "rf = RandomForestClassifier()"
   ]
  },
  {
   "cell_type": "code",
   "execution_count": 66,
   "metadata": {},
   "outputs": [
    {
     "data": {
      "text/plain": [
       "VotingClassifier(estimators=[('LR', LogisticRegression()),\n",
       "                             ('KNN', KNeighborsClassifier(n_neighbors=8))],\n",
       "                 voting='soft')"
      ]
     },
     "execution_count": 66,
     "metadata": {},
     "output_type": "execute_result"
    }
   ],
   "source": [
    "vo_clf = VotingClassifier( estimators=[('rf',RF),('LR', lr_clf),('KNN', knn_clf)] , voting='soft')\n",
    "vo_clf"
   ]
  },
  {
   "cell_type": "code",
   "execution_count": 67,
   "metadata": {},
   "outputs": [],
   "source": [
    "vo_clf.fit(train_X , train_y)\n",
    "vo_pred = vo_clf.predict(test_X)"
   ]
  },
  {
   "cell_type": "markdown",
   "metadata": {},
   "source": [
    "# GBM"
   ]
  },
  {
   "cell_type": "code",
   "execution_count": 107,
   "metadata": {},
   "outputs": [],
   "source": [
    "from sklearn.ensemble import GradientBoostingClassifier\n",
    "import time"
   ]
  },
  {
   "cell_type": "code",
   "execution_count": 108,
   "metadata": {},
   "outputs": [],
   "source": [
    "start_time = time.time()"
   ]
  },
  {
   "cell_type": "code",
   "execution_count": 109,
   "metadata": {},
   "outputs": [],
   "source": [
    "gb_clf = GradientBoostingClassifier(random_state=100)"
   ]
  },
  {
   "cell_type": "code",
   "execution_count": 110,
   "metadata": {},
   "outputs": [],
   "source": [
    "gb_clf.fit(train_X , train_y)\n",
    "gb_pred = gb_clf.predict(test_X)"
   ]
  },
  {
   "cell_type": "code",
   "execution_count": 111,
   "metadata": {},
   "outputs": [
    {
     "name": "stdout",
     "output_type": "stream",
     "text": [
      "Fitting 2 folds for each of 4 candidates, totalling 8 fits\n",
      "최적 하이퍼 파라미터:\n",
      " {'learning_rate': 0.1, 'n_estimators': 500}\n",
      "최고 예측 정확도: 0.7743\n",
      "학습에 걸린 시간: \n"
     ]
    }
   ],
   "source": [
    "from sklearn.model_selection import GridSearchCV\n",
    "\n",
    "start_time = time.time()\n",
    "params = {\n",
    "    'n_estimators':[100, 500],\n",
    "    'learning_rate' : [0.05, 0.1]\n",
    "}\n",
    "\n",
    "grid_cv = GridSearchCV(gb_clf , param_grid=params , cv=2 ,verbose=1, n_jobs=-1)\n",
    "grid_cv.fit(train_X , train_y)\n",
    "print('최적 하이퍼 파라미터:\\n', grid_cv.best_params_)\n",
    "print('최고 예측 정확도: {0:.4f}'.format(grid_cv.best_score_))\n",
    "print(\"학습에 걸린 시간: \".format(time.time() - start_time))"
   ]
  },
  {
   "cell_type": "code",
   "execution_count": 129,
   "metadata": {},
   "outputs": [],
   "source": [
    "gb_pred = grid_cv.best_estimator_.predict(test_X)"
   ]
  },
  {
   "cell_type": "markdown",
   "metadata": {},
   "source": [
    "## pycaret"
   ]
  },
  {
   "cell_type": "code",
   "execution_count": 1,
   "metadata": {},
   "outputs": [],
   "source": [
    "from pycaret.classification import *"
   ]
  },
  {
   "cell_type": "code",
   "execution_count": 12,
   "metadata": {},
   "outputs": [
    {
     "data": {
      "text/html": [
       "<style  type=\"text/css\" >\n",
       "#T_f513e2b0_9e76_11ec_beb3_7085c2294e08row44_col1{\n",
       "            background-color:  lightgreen;\n",
       "        }</style><table id=\"T_f513e2b0_9e76_11ec_beb3_7085c2294e08\" ><thead>    <tr>        <th class=\"blank level0\" ></th>        <th class=\"col_heading level0 col0\" >Description</th>        <th class=\"col_heading level0 col1\" >Value</th>    </tr></thead><tbody>\n",
       "                <tr>\n",
       "                        <th id=\"T_f513e2b0_9e76_11ec_beb3_7085c2294e08level0_row0\" class=\"row_heading level0 row0\" >0</th>\n",
       "                        <td id=\"T_f513e2b0_9e76_11ec_beb3_7085c2294e08row0_col0\" class=\"data row0 col0\" >session_id</td>\n",
       "                        <td id=\"T_f513e2b0_9e76_11ec_beb3_7085c2294e08row0_col1\" class=\"data row0 col1\" >664</td>\n",
       "            </tr>\n",
       "            <tr>\n",
       "                        <th id=\"T_f513e2b0_9e76_11ec_beb3_7085c2294e08level0_row1\" class=\"row_heading level0 row1\" >1</th>\n",
       "                        <td id=\"T_f513e2b0_9e76_11ec_beb3_7085c2294e08row1_col0\" class=\"data row1 col0\" >Target</td>\n",
       "                        <td id=\"T_f513e2b0_9e76_11ec_beb3_7085c2294e08row1_col1\" class=\"data row1 col1\" >target</td>\n",
       "            </tr>\n",
       "            <tr>\n",
       "                        <th id=\"T_f513e2b0_9e76_11ec_beb3_7085c2294e08level0_row2\" class=\"row_heading level0 row2\" >2</th>\n",
       "                        <td id=\"T_f513e2b0_9e76_11ec_beb3_7085c2294e08row2_col0\" class=\"data row2 col0\" >Target Type</td>\n",
       "                        <td id=\"T_f513e2b0_9e76_11ec_beb3_7085c2294e08row2_col1\" class=\"data row2 col1\" >Multiclass</td>\n",
       "            </tr>\n",
       "            <tr>\n",
       "                        <th id=\"T_f513e2b0_9e76_11ec_beb3_7085c2294e08level0_row3\" class=\"row_heading level0 row3\" >3</th>\n",
       "                        <td id=\"T_f513e2b0_9e76_11ec_beb3_7085c2294e08row3_col0\" class=\"data row3 col0\" >Label Encoded</td>\n",
       "                        <td id=\"T_f513e2b0_9e76_11ec_beb3_7085c2294e08row3_col1\" class=\"data row3 col1\" >None</td>\n",
       "            </tr>\n",
       "            <tr>\n",
       "                        <th id=\"T_f513e2b0_9e76_11ec_beb3_7085c2294e08level0_row4\" class=\"row_heading level0 row4\" >4</th>\n",
       "                        <td id=\"T_f513e2b0_9e76_11ec_beb3_7085c2294e08row4_col0\" class=\"data row4 col0\" >Original Data</td>\n",
       "                        <td id=\"T_f513e2b0_9e76_11ec_beb3_7085c2294e08row4_col1\" class=\"data row4 col1\" >(2335, 34)</td>\n",
       "            </tr>\n",
       "            <tr>\n",
       "                        <th id=\"T_f513e2b0_9e76_11ec_beb3_7085c2294e08level0_row5\" class=\"row_heading level0 row5\" >5</th>\n",
       "                        <td id=\"T_f513e2b0_9e76_11ec_beb3_7085c2294e08row5_col0\" class=\"data row5 col0\" >Missing Values</td>\n",
       "                        <td id=\"T_f513e2b0_9e76_11ec_beb3_7085c2294e08row5_col1\" class=\"data row5 col1\" >False</td>\n",
       "            </tr>\n",
       "            <tr>\n",
       "                        <th id=\"T_f513e2b0_9e76_11ec_beb3_7085c2294e08level0_row6\" class=\"row_heading level0 row6\" >6</th>\n",
       "                        <td id=\"T_f513e2b0_9e76_11ec_beb3_7085c2294e08row6_col0\" class=\"data row6 col0\" >Numeric Features</td>\n",
       "                        <td id=\"T_f513e2b0_9e76_11ec_beb3_7085c2294e08row6_col1\" class=\"data row6 col1\" >33</td>\n",
       "            </tr>\n",
       "            <tr>\n",
       "                        <th id=\"T_f513e2b0_9e76_11ec_beb3_7085c2294e08level0_row7\" class=\"row_heading level0 row7\" >7</th>\n",
       "                        <td id=\"T_f513e2b0_9e76_11ec_beb3_7085c2294e08row7_col0\" class=\"data row7 col0\" >Categorical Features</td>\n",
       "                        <td id=\"T_f513e2b0_9e76_11ec_beb3_7085c2294e08row7_col1\" class=\"data row7 col1\" >0</td>\n",
       "            </tr>\n",
       "            <tr>\n",
       "                        <th id=\"T_f513e2b0_9e76_11ec_beb3_7085c2294e08level0_row8\" class=\"row_heading level0 row8\" >8</th>\n",
       "                        <td id=\"T_f513e2b0_9e76_11ec_beb3_7085c2294e08row8_col0\" class=\"data row8 col0\" >Ordinal Features</td>\n",
       "                        <td id=\"T_f513e2b0_9e76_11ec_beb3_7085c2294e08row8_col1\" class=\"data row8 col1\" >False</td>\n",
       "            </tr>\n",
       "            <tr>\n",
       "                        <th id=\"T_f513e2b0_9e76_11ec_beb3_7085c2294e08level0_row9\" class=\"row_heading level0 row9\" >9</th>\n",
       "                        <td id=\"T_f513e2b0_9e76_11ec_beb3_7085c2294e08row9_col0\" class=\"data row9 col0\" >High Cardinality Features</td>\n",
       "                        <td id=\"T_f513e2b0_9e76_11ec_beb3_7085c2294e08row9_col1\" class=\"data row9 col1\" >False</td>\n",
       "            </tr>\n",
       "            <tr>\n",
       "                        <th id=\"T_f513e2b0_9e76_11ec_beb3_7085c2294e08level0_row10\" class=\"row_heading level0 row10\" >10</th>\n",
       "                        <td id=\"T_f513e2b0_9e76_11ec_beb3_7085c2294e08row10_col0\" class=\"data row10 col0\" >High Cardinality Method</td>\n",
       "                        <td id=\"T_f513e2b0_9e76_11ec_beb3_7085c2294e08row10_col1\" class=\"data row10 col1\" >None</td>\n",
       "            </tr>\n",
       "            <tr>\n",
       "                        <th id=\"T_f513e2b0_9e76_11ec_beb3_7085c2294e08level0_row11\" class=\"row_heading level0 row11\" >11</th>\n",
       "                        <td id=\"T_f513e2b0_9e76_11ec_beb3_7085c2294e08row11_col0\" class=\"data row11 col0\" >Transformed Train Set</td>\n",
       "                        <td id=\"T_f513e2b0_9e76_11ec_beb3_7085c2294e08row11_col1\" class=\"data row11 col1\" >(1634, 32)</td>\n",
       "            </tr>\n",
       "            <tr>\n",
       "                        <th id=\"T_f513e2b0_9e76_11ec_beb3_7085c2294e08level0_row12\" class=\"row_heading level0 row12\" >12</th>\n",
       "                        <td id=\"T_f513e2b0_9e76_11ec_beb3_7085c2294e08row12_col0\" class=\"data row12 col0\" >Transformed Test Set</td>\n",
       "                        <td id=\"T_f513e2b0_9e76_11ec_beb3_7085c2294e08row12_col1\" class=\"data row12 col1\" >(701, 32)</td>\n",
       "            </tr>\n",
       "            <tr>\n",
       "                        <th id=\"T_f513e2b0_9e76_11ec_beb3_7085c2294e08level0_row13\" class=\"row_heading level0 row13\" >13</th>\n",
       "                        <td id=\"T_f513e2b0_9e76_11ec_beb3_7085c2294e08row13_col0\" class=\"data row13 col0\" >Shuffle Train-Test</td>\n",
       "                        <td id=\"T_f513e2b0_9e76_11ec_beb3_7085c2294e08row13_col1\" class=\"data row13 col1\" >True</td>\n",
       "            </tr>\n",
       "            <tr>\n",
       "                        <th id=\"T_f513e2b0_9e76_11ec_beb3_7085c2294e08level0_row14\" class=\"row_heading level0 row14\" >14</th>\n",
       "                        <td id=\"T_f513e2b0_9e76_11ec_beb3_7085c2294e08row14_col0\" class=\"data row14 col0\" >Stratify Train-Test</td>\n",
       "                        <td id=\"T_f513e2b0_9e76_11ec_beb3_7085c2294e08row14_col1\" class=\"data row14 col1\" >False</td>\n",
       "            </tr>\n",
       "            <tr>\n",
       "                        <th id=\"T_f513e2b0_9e76_11ec_beb3_7085c2294e08level0_row15\" class=\"row_heading level0 row15\" >15</th>\n",
       "                        <td id=\"T_f513e2b0_9e76_11ec_beb3_7085c2294e08row15_col0\" class=\"data row15 col0\" >Fold Generator</td>\n",
       "                        <td id=\"T_f513e2b0_9e76_11ec_beb3_7085c2294e08row15_col1\" class=\"data row15 col1\" >StratifiedKFold</td>\n",
       "            </tr>\n",
       "            <tr>\n",
       "                        <th id=\"T_f513e2b0_9e76_11ec_beb3_7085c2294e08level0_row16\" class=\"row_heading level0 row16\" >16</th>\n",
       "                        <td id=\"T_f513e2b0_9e76_11ec_beb3_7085c2294e08row16_col0\" class=\"data row16 col0\" >Fold Number</td>\n",
       "                        <td id=\"T_f513e2b0_9e76_11ec_beb3_7085c2294e08row16_col1\" class=\"data row16 col1\" >10</td>\n",
       "            </tr>\n",
       "            <tr>\n",
       "                        <th id=\"T_f513e2b0_9e76_11ec_beb3_7085c2294e08level0_row17\" class=\"row_heading level0 row17\" >17</th>\n",
       "                        <td id=\"T_f513e2b0_9e76_11ec_beb3_7085c2294e08row17_col0\" class=\"data row17 col0\" >CPU Jobs</td>\n",
       "                        <td id=\"T_f513e2b0_9e76_11ec_beb3_7085c2294e08row17_col1\" class=\"data row17 col1\" >-1</td>\n",
       "            </tr>\n",
       "            <tr>\n",
       "                        <th id=\"T_f513e2b0_9e76_11ec_beb3_7085c2294e08level0_row18\" class=\"row_heading level0 row18\" >18</th>\n",
       "                        <td id=\"T_f513e2b0_9e76_11ec_beb3_7085c2294e08row18_col0\" class=\"data row18 col0\" >Use GPU</td>\n",
       "                        <td id=\"T_f513e2b0_9e76_11ec_beb3_7085c2294e08row18_col1\" class=\"data row18 col1\" >False</td>\n",
       "            </tr>\n",
       "            <tr>\n",
       "                        <th id=\"T_f513e2b0_9e76_11ec_beb3_7085c2294e08level0_row19\" class=\"row_heading level0 row19\" >19</th>\n",
       "                        <td id=\"T_f513e2b0_9e76_11ec_beb3_7085c2294e08row19_col0\" class=\"data row19 col0\" >Log Experiment</td>\n",
       "                        <td id=\"T_f513e2b0_9e76_11ec_beb3_7085c2294e08row19_col1\" class=\"data row19 col1\" >False</td>\n",
       "            </tr>\n",
       "            <tr>\n",
       "                        <th id=\"T_f513e2b0_9e76_11ec_beb3_7085c2294e08level0_row20\" class=\"row_heading level0 row20\" >20</th>\n",
       "                        <td id=\"T_f513e2b0_9e76_11ec_beb3_7085c2294e08row20_col0\" class=\"data row20 col0\" >Experiment Name</td>\n",
       "                        <td id=\"T_f513e2b0_9e76_11ec_beb3_7085c2294e08row20_col1\" class=\"data row20 col1\" >clf-default-name</td>\n",
       "            </tr>\n",
       "            <tr>\n",
       "                        <th id=\"T_f513e2b0_9e76_11ec_beb3_7085c2294e08level0_row21\" class=\"row_heading level0 row21\" >21</th>\n",
       "                        <td id=\"T_f513e2b0_9e76_11ec_beb3_7085c2294e08row21_col0\" class=\"data row21 col0\" >USI</td>\n",
       "                        <td id=\"T_f513e2b0_9e76_11ec_beb3_7085c2294e08row21_col1\" class=\"data row21 col1\" >ea5e</td>\n",
       "            </tr>\n",
       "            <tr>\n",
       "                        <th id=\"T_f513e2b0_9e76_11ec_beb3_7085c2294e08level0_row22\" class=\"row_heading level0 row22\" >22</th>\n",
       "                        <td id=\"T_f513e2b0_9e76_11ec_beb3_7085c2294e08row22_col0\" class=\"data row22 col0\" >Imputation Type</td>\n",
       "                        <td id=\"T_f513e2b0_9e76_11ec_beb3_7085c2294e08row22_col1\" class=\"data row22 col1\" >simple</td>\n",
       "            </tr>\n",
       "            <tr>\n",
       "                        <th id=\"T_f513e2b0_9e76_11ec_beb3_7085c2294e08level0_row23\" class=\"row_heading level0 row23\" >23</th>\n",
       "                        <td id=\"T_f513e2b0_9e76_11ec_beb3_7085c2294e08row23_col0\" class=\"data row23 col0\" >Iterative Imputation Iteration</td>\n",
       "                        <td id=\"T_f513e2b0_9e76_11ec_beb3_7085c2294e08row23_col1\" class=\"data row23 col1\" >None</td>\n",
       "            </tr>\n",
       "            <tr>\n",
       "                        <th id=\"T_f513e2b0_9e76_11ec_beb3_7085c2294e08level0_row24\" class=\"row_heading level0 row24\" >24</th>\n",
       "                        <td id=\"T_f513e2b0_9e76_11ec_beb3_7085c2294e08row24_col0\" class=\"data row24 col0\" >Numeric Imputer</td>\n",
       "                        <td id=\"T_f513e2b0_9e76_11ec_beb3_7085c2294e08row24_col1\" class=\"data row24 col1\" >mean</td>\n",
       "            </tr>\n",
       "            <tr>\n",
       "                        <th id=\"T_f513e2b0_9e76_11ec_beb3_7085c2294e08level0_row25\" class=\"row_heading level0 row25\" >25</th>\n",
       "                        <td id=\"T_f513e2b0_9e76_11ec_beb3_7085c2294e08row25_col0\" class=\"data row25 col0\" >Iterative Imputation Numeric Model</td>\n",
       "                        <td id=\"T_f513e2b0_9e76_11ec_beb3_7085c2294e08row25_col1\" class=\"data row25 col1\" >None</td>\n",
       "            </tr>\n",
       "            <tr>\n",
       "                        <th id=\"T_f513e2b0_9e76_11ec_beb3_7085c2294e08level0_row26\" class=\"row_heading level0 row26\" >26</th>\n",
       "                        <td id=\"T_f513e2b0_9e76_11ec_beb3_7085c2294e08row26_col0\" class=\"data row26 col0\" >Categorical Imputer</td>\n",
       "                        <td id=\"T_f513e2b0_9e76_11ec_beb3_7085c2294e08row26_col1\" class=\"data row26 col1\" >constant</td>\n",
       "            </tr>\n",
       "            <tr>\n",
       "                        <th id=\"T_f513e2b0_9e76_11ec_beb3_7085c2294e08level0_row27\" class=\"row_heading level0 row27\" >27</th>\n",
       "                        <td id=\"T_f513e2b0_9e76_11ec_beb3_7085c2294e08row27_col0\" class=\"data row27 col0\" >Iterative Imputation Categorical Model</td>\n",
       "                        <td id=\"T_f513e2b0_9e76_11ec_beb3_7085c2294e08row27_col1\" class=\"data row27 col1\" >None</td>\n",
       "            </tr>\n",
       "            <tr>\n",
       "                        <th id=\"T_f513e2b0_9e76_11ec_beb3_7085c2294e08level0_row28\" class=\"row_heading level0 row28\" >28</th>\n",
       "                        <td id=\"T_f513e2b0_9e76_11ec_beb3_7085c2294e08row28_col0\" class=\"data row28 col0\" >Unknown Categoricals Handling</td>\n",
       "                        <td id=\"T_f513e2b0_9e76_11ec_beb3_7085c2294e08row28_col1\" class=\"data row28 col1\" >least_frequent</td>\n",
       "            </tr>\n",
       "            <tr>\n",
       "                        <th id=\"T_f513e2b0_9e76_11ec_beb3_7085c2294e08level0_row29\" class=\"row_heading level0 row29\" >29</th>\n",
       "                        <td id=\"T_f513e2b0_9e76_11ec_beb3_7085c2294e08row29_col0\" class=\"data row29 col0\" >Normalize</td>\n",
       "                        <td id=\"T_f513e2b0_9e76_11ec_beb3_7085c2294e08row29_col1\" class=\"data row29 col1\" >False</td>\n",
       "            </tr>\n",
       "            <tr>\n",
       "                        <th id=\"T_f513e2b0_9e76_11ec_beb3_7085c2294e08level0_row30\" class=\"row_heading level0 row30\" >30</th>\n",
       "                        <td id=\"T_f513e2b0_9e76_11ec_beb3_7085c2294e08row30_col0\" class=\"data row30 col0\" >Normalize Method</td>\n",
       "                        <td id=\"T_f513e2b0_9e76_11ec_beb3_7085c2294e08row30_col1\" class=\"data row30 col1\" >None</td>\n",
       "            </tr>\n",
       "            <tr>\n",
       "                        <th id=\"T_f513e2b0_9e76_11ec_beb3_7085c2294e08level0_row31\" class=\"row_heading level0 row31\" >31</th>\n",
       "                        <td id=\"T_f513e2b0_9e76_11ec_beb3_7085c2294e08row31_col0\" class=\"data row31 col0\" >Transformation</td>\n",
       "                        <td id=\"T_f513e2b0_9e76_11ec_beb3_7085c2294e08row31_col1\" class=\"data row31 col1\" >False</td>\n",
       "            </tr>\n",
       "            <tr>\n",
       "                        <th id=\"T_f513e2b0_9e76_11ec_beb3_7085c2294e08level0_row32\" class=\"row_heading level0 row32\" >32</th>\n",
       "                        <td id=\"T_f513e2b0_9e76_11ec_beb3_7085c2294e08row32_col0\" class=\"data row32 col0\" >Transformation Method</td>\n",
       "                        <td id=\"T_f513e2b0_9e76_11ec_beb3_7085c2294e08row32_col1\" class=\"data row32 col1\" >None</td>\n",
       "            </tr>\n",
       "            <tr>\n",
       "                        <th id=\"T_f513e2b0_9e76_11ec_beb3_7085c2294e08level0_row33\" class=\"row_heading level0 row33\" >33</th>\n",
       "                        <td id=\"T_f513e2b0_9e76_11ec_beb3_7085c2294e08row33_col0\" class=\"data row33 col0\" >PCA</td>\n",
       "                        <td id=\"T_f513e2b0_9e76_11ec_beb3_7085c2294e08row33_col1\" class=\"data row33 col1\" >False</td>\n",
       "            </tr>\n",
       "            <tr>\n",
       "                        <th id=\"T_f513e2b0_9e76_11ec_beb3_7085c2294e08level0_row34\" class=\"row_heading level0 row34\" >34</th>\n",
       "                        <td id=\"T_f513e2b0_9e76_11ec_beb3_7085c2294e08row34_col0\" class=\"data row34 col0\" >PCA Method</td>\n",
       "                        <td id=\"T_f513e2b0_9e76_11ec_beb3_7085c2294e08row34_col1\" class=\"data row34 col1\" >None</td>\n",
       "            </tr>\n",
       "            <tr>\n",
       "                        <th id=\"T_f513e2b0_9e76_11ec_beb3_7085c2294e08level0_row35\" class=\"row_heading level0 row35\" >35</th>\n",
       "                        <td id=\"T_f513e2b0_9e76_11ec_beb3_7085c2294e08row35_col0\" class=\"data row35 col0\" >PCA Components</td>\n",
       "                        <td id=\"T_f513e2b0_9e76_11ec_beb3_7085c2294e08row35_col1\" class=\"data row35 col1\" >None</td>\n",
       "            </tr>\n",
       "            <tr>\n",
       "                        <th id=\"T_f513e2b0_9e76_11ec_beb3_7085c2294e08level0_row36\" class=\"row_heading level0 row36\" >36</th>\n",
       "                        <td id=\"T_f513e2b0_9e76_11ec_beb3_7085c2294e08row36_col0\" class=\"data row36 col0\" >Ignore Low Variance</td>\n",
       "                        <td id=\"T_f513e2b0_9e76_11ec_beb3_7085c2294e08row36_col1\" class=\"data row36 col1\" >False</td>\n",
       "            </tr>\n",
       "            <tr>\n",
       "                        <th id=\"T_f513e2b0_9e76_11ec_beb3_7085c2294e08level0_row37\" class=\"row_heading level0 row37\" >37</th>\n",
       "                        <td id=\"T_f513e2b0_9e76_11ec_beb3_7085c2294e08row37_col0\" class=\"data row37 col0\" >Combine Rare Levels</td>\n",
       "                        <td id=\"T_f513e2b0_9e76_11ec_beb3_7085c2294e08row37_col1\" class=\"data row37 col1\" >False</td>\n",
       "            </tr>\n",
       "            <tr>\n",
       "                        <th id=\"T_f513e2b0_9e76_11ec_beb3_7085c2294e08level0_row38\" class=\"row_heading level0 row38\" >38</th>\n",
       "                        <td id=\"T_f513e2b0_9e76_11ec_beb3_7085c2294e08row38_col0\" class=\"data row38 col0\" >Rare Level Threshold</td>\n",
       "                        <td id=\"T_f513e2b0_9e76_11ec_beb3_7085c2294e08row38_col1\" class=\"data row38 col1\" >None</td>\n",
       "            </tr>\n",
       "            <tr>\n",
       "                        <th id=\"T_f513e2b0_9e76_11ec_beb3_7085c2294e08level0_row39\" class=\"row_heading level0 row39\" >39</th>\n",
       "                        <td id=\"T_f513e2b0_9e76_11ec_beb3_7085c2294e08row39_col0\" class=\"data row39 col0\" >Numeric Binning</td>\n",
       "                        <td id=\"T_f513e2b0_9e76_11ec_beb3_7085c2294e08row39_col1\" class=\"data row39 col1\" >False</td>\n",
       "            </tr>\n",
       "            <tr>\n",
       "                        <th id=\"T_f513e2b0_9e76_11ec_beb3_7085c2294e08level0_row40\" class=\"row_heading level0 row40\" >40</th>\n",
       "                        <td id=\"T_f513e2b0_9e76_11ec_beb3_7085c2294e08row40_col0\" class=\"data row40 col0\" >Remove Outliers</td>\n",
       "                        <td id=\"T_f513e2b0_9e76_11ec_beb3_7085c2294e08row40_col1\" class=\"data row40 col1\" >False</td>\n",
       "            </tr>\n",
       "            <tr>\n",
       "                        <th id=\"T_f513e2b0_9e76_11ec_beb3_7085c2294e08level0_row41\" class=\"row_heading level0 row41\" >41</th>\n",
       "                        <td id=\"T_f513e2b0_9e76_11ec_beb3_7085c2294e08row41_col0\" class=\"data row41 col0\" >Outliers Threshold</td>\n",
       "                        <td id=\"T_f513e2b0_9e76_11ec_beb3_7085c2294e08row41_col1\" class=\"data row41 col1\" >None</td>\n",
       "            </tr>\n",
       "            <tr>\n",
       "                        <th id=\"T_f513e2b0_9e76_11ec_beb3_7085c2294e08level0_row42\" class=\"row_heading level0 row42\" >42</th>\n",
       "                        <td id=\"T_f513e2b0_9e76_11ec_beb3_7085c2294e08row42_col0\" class=\"data row42 col0\" >Remove Multicollinearity</td>\n",
       "                        <td id=\"T_f513e2b0_9e76_11ec_beb3_7085c2294e08row42_col1\" class=\"data row42 col1\" >False</td>\n",
       "            </tr>\n",
       "            <tr>\n",
       "                        <th id=\"T_f513e2b0_9e76_11ec_beb3_7085c2294e08level0_row43\" class=\"row_heading level0 row43\" >43</th>\n",
       "                        <td id=\"T_f513e2b0_9e76_11ec_beb3_7085c2294e08row43_col0\" class=\"data row43 col0\" >Multicollinearity Threshold</td>\n",
       "                        <td id=\"T_f513e2b0_9e76_11ec_beb3_7085c2294e08row43_col1\" class=\"data row43 col1\" >None</td>\n",
       "            </tr>\n",
       "            <tr>\n",
       "                        <th id=\"T_f513e2b0_9e76_11ec_beb3_7085c2294e08level0_row44\" class=\"row_heading level0 row44\" >44</th>\n",
       "                        <td id=\"T_f513e2b0_9e76_11ec_beb3_7085c2294e08row44_col0\" class=\"data row44 col0\" >Remove Perfect Collinearity</td>\n",
       "                        <td id=\"T_f513e2b0_9e76_11ec_beb3_7085c2294e08row44_col1\" class=\"data row44 col1\" >True</td>\n",
       "            </tr>\n",
       "            <tr>\n",
       "                        <th id=\"T_f513e2b0_9e76_11ec_beb3_7085c2294e08level0_row45\" class=\"row_heading level0 row45\" >45</th>\n",
       "                        <td id=\"T_f513e2b0_9e76_11ec_beb3_7085c2294e08row45_col0\" class=\"data row45 col0\" >Clustering</td>\n",
       "                        <td id=\"T_f513e2b0_9e76_11ec_beb3_7085c2294e08row45_col1\" class=\"data row45 col1\" >False</td>\n",
       "            </tr>\n",
       "            <tr>\n",
       "                        <th id=\"T_f513e2b0_9e76_11ec_beb3_7085c2294e08level0_row46\" class=\"row_heading level0 row46\" >46</th>\n",
       "                        <td id=\"T_f513e2b0_9e76_11ec_beb3_7085c2294e08row46_col0\" class=\"data row46 col0\" >Clustering Iteration</td>\n",
       "                        <td id=\"T_f513e2b0_9e76_11ec_beb3_7085c2294e08row46_col1\" class=\"data row46 col1\" >None</td>\n",
       "            </tr>\n",
       "            <tr>\n",
       "                        <th id=\"T_f513e2b0_9e76_11ec_beb3_7085c2294e08level0_row47\" class=\"row_heading level0 row47\" >47</th>\n",
       "                        <td id=\"T_f513e2b0_9e76_11ec_beb3_7085c2294e08row47_col0\" class=\"data row47 col0\" >Polynomial Features</td>\n",
       "                        <td id=\"T_f513e2b0_9e76_11ec_beb3_7085c2294e08row47_col1\" class=\"data row47 col1\" >False</td>\n",
       "            </tr>\n",
       "            <tr>\n",
       "                        <th id=\"T_f513e2b0_9e76_11ec_beb3_7085c2294e08level0_row48\" class=\"row_heading level0 row48\" >48</th>\n",
       "                        <td id=\"T_f513e2b0_9e76_11ec_beb3_7085c2294e08row48_col0\" class=\"data row48 col0\" >Polynomial Degree</td>\n",
       "                        <td id=\"T_f513e2b0_9e76_11ec_beb3_7085c2294e08row48_col1\" class=\"data row48 col1\" >None</td>\n",
       "            </tr>\n",
       "            <tr>\n",
       "                        <th id=\"T_f513e2b0_9e76_11ec_beb3_7085c2294e08level0_row49\" class=\"row_heading level0 row49\" >49</th>\n",
       "                        <td id=\"T_f513e2b0_9e76_11ec_beb3_7085c2294e08row49_col0\" class=\"data row49 col0\" >Trignometry Features</td>\n",
       "                        <td id=\"T_f513e2b0_9e76_11ec_beb3_7085c2294e08row49_col1\" class=\"data row49 col1\" >False</td>\n",
       "            </tr>\n",
       "            <tr>\n",
       "                        <th id=\"T_f513e2b0_9e76_11ec_beb3_7085c2294e08level0_row50\" class=\"row_heading level0 row50\" >50</th>\n",
       "                        <td id=\"T_f513e2b0_9e76_11ec_beb3_7085c2294e08row50_col0\" class=\"data row50 col0\" >Polynomial Threshold</td>\n",
       "                        <td id=\"T_f513e2b0_9e76_11ec_beb3_7085c2294e08row50_col1\" class=\"data row50 col1\" >None</td>\n",
       "            </tr>\n",
       "            <tr>\n",
       "                        <th id=\"T_f513e2b0_9e76_11ec_beb3_7085c2294e08level0_row51\" class=\"row_heading level0 row51\" >51</th>\n",
       "                        <td id=\"T_f513e2b0_9e76_11ec_beb3_7085c2294e08row51_col0\" class=\"data row51 col0\" >Group Features</td>\n",
       "                        <td id=\"T_f513e2b0_9e76_11ec_beb3_7085c2294e08row51_col1\" class=\"data row51 col1\" >False</td>\n",
       "            </tr>\n",
       "            <tr>\n",
       "                        <th id=\"T_f513e2b0_9e76_11ec_beb3_7085c2294e08level0_row52\" class=\"row_heading level0 row52\" >52</th>\n",
       "                        <td id=\"T_f513e2b0_9e76_11ec_beb3_7085c2294e08row52_col0\" class=\"data row52 col0\" >Feature Selection</td>\n",
       "                        <td id=\"T_f513e2b0_9e76_11ec_beb3_7085c2294e08row52_col1\" class=\"data row52 col1\" >False</td>\n",
       "            </tr>\n",
       "            <tr>\n",
       "                        <th id=\"T_f513e2b0_9e76_11ec_beb3_7085c2294e08level0_row53\" class=\"row_heading level0 row53\" >53</th>\n",
       "                        <td id=\"T_f513e2b0_9e76_11ec_beb3_7085c2294e08row53_col0\" class=\"data row53 col0\" >Feature Selection Method</td>\n",
       "                        <td id=\"T_f513e2b0_9e76_11ec_beb3_7085c2294e08row53_col1\" class=\"data row53 col1\" >classic</td>\n",
       "            </tr>\n",
       "            <tr>\n",
       "                        <th id=\"T_f513e2b0_9e76_11ec_beb3_7085c2294e08level0_row54\" class=\"row_heading level0 row54\" >54</th>\n",
       "                        <td id=\"T_f513e2b0_9e76_11ec_beb3_7085c2294e08row54_col0\" class=\"data row54 col0\" >Features Selection Threshold</td>\n",
       "                        <td id=\"T_f513e2b0_9e76_11ec_beb3_7085c2294e08row54_col1\" class=\"data row54 col1\" >None</td>\n",
       "            </tr>\n",
       "            <tr>\n",
       "                        <th id=\"T_f513e2b0_9e76_11ec_beb3_7085c2294e08level0_row55\" class=\"row_heading level0 row55\" >55</th>\n",
       "                        <td id=\"T_f513e2b0_9e76_11ec_beb3_7085c2294e08row55_col0\" class=\"data row55 col0\" >Feature Interaction</td>\n",
       "                        <td id=\"T_f513e2b0_9e76_11ec_beb3_7085c2294e08row55_col1\" class=\"data row55 col1\" >False</td>\n",
       "            </tr>\n",
       "            <tr>\n",
       "                        <th id=\"T_f513e2b0_9e76_11ec_beb3_7085c2294e08level0_row56\" class=\"row_heading level0 row56\" >56</th>\n",
       "                        <td id=\"T_f513e2b0_9e76_11ec_beb3_7085c2294e08row56_col0\" class=\"data row56 col0\" >Feature Ratio</td>\n",
       "                        <td id=\"T_f513e2b0_9e76_11ec_beb3_7085c2294e08row56_col1\" class=\"data row56 col1\" >False</td>\n",
       "            </tr>\n",
       "            <tr>\n",
       "                        <th id=\"T_f513e2b0_9e76_11ec_beb3_7085c2294e08level0_row57\" class=\"row_heading level0 row57\" >57</th>\n",
       "                        <td id=\"T_f513e2b0_9e76_11ec_beb3_7085c2294e08row57_col0\" class=\"data row57 col0\" >Interaction Threshold</td>\n",
       "                        <td id=\"T_f513e2b0_9e76_11ec_beb3_7085c2294e08row57_col1\" class=\"data row57 col1\" >None</td>\n",
       "            </tr>\n",
       "            <tr>\n",
       "                        <th id=\"T_f513e2b0_9e76_11ec_beb3_7085c2294e08level0_row58\" class=\"row_heading level0 row58\" >58</th>\n",
       "                        <td id=\"T_f513e2b0_9e76_11ec_beb3_7085c2294e08row58_col0\" class=\"data row58 col0\" >Fix Imbalance</td>\n",
       "                        <td id=\"T_f513e2b0_9e76_11ec_beb3_7085c2294e08row58_col1\" class=\"data row58 col1\" >False</td>\n",
       "            </tr>\n",
       "            <tr>\n",
       "                        <th id=\"T_f513e2b0_9e76_11ec_beb3_7085c2294e08level0_row59\" class=\"row_heading level0 row59\" >59</th>\n",
       "                        <td id=\"T_f513e2b0_9e76_11ec_beb3_7085c2294e08row59_col0\" class=\"data row59 col0\" >Fix Imbalance Method</td>\n",
       "                        <td id=\"T_f513e2b0_9e76_11ec_beb3_7085c2294e08row59_col1\" class=\"data row59 col1\" >SMOTE</td>\n",
       "            </tr>\n",
       "    </tbody></table>"
      ],
      "text/plain": [
       "<pandas.io.formats.style.Styler at 0x2addaccf970>"
      ]
     },
     "metadata": {},
     "output_type": "display_data"
    }
   ],
   "source": [
    "setup_clf = setup(data = train, target= 'target', fold_shuffle=True)"
   ]
  },
  {
   "cell_type": "code",
   "execution_count": 12,
   "metadata": {},
   "outputs": [
    {
     "data": {
      "text/html": [
       "<style  type=\"text/css\" >\n",
       "    #T_8fb61c75_9dc9_11ec_b1c9_7085c2294e08 th {\n",
       "          text-align: left;\n",
       "    }#T_8fb61c75_9dc9_11ec_b1c9_7085c2294e08row0_col0,#T_8fb61c75_9dc9_11ec_b1c9_7085c2294e08row1_col0,#T_8fb61c75_9dc9_11ec_b1c9_7085c2294e08row1_col1,#T_8fb61c75_9dc9_11ec_b1c9_7085c2294e08row1_col2,#T_8fb61c75_9dc9_11ec_b1c9_7085c2294e08row1_col3,#T_8fb61c75_9dc9_11ec_b1c9_7085c2294e08row1_col4,#T_8fb61c75_9dc9_11ec_b1c9_7085c2294e08row1_col5,#T_8fb61c75_9dc9_11ec_b1c9_7085c2294e08row1_col6,#T_8fb61c75_9dc9_11ec_b1c9_7085c2294e08row1_col7,#T_8fb61c75_9dc9_11ec_b1c9_7085c2294e08row2_col0,#T_8fb61c75_9dc9_11ec_b1c9_7085c2294e08row2_col1,#T_8fb61c75_9dc9_11ec_b1c9_7085c2294e08row2_col2,#T_8fb61c75_9dc9_11ec_b1c9_7085c2294e08row2_col3,#T_8fb61c75_9dc9_11ec_b1c9_7085c2294e08row2_col4,#T_8fb61c75_9dc9_11ec_b1c9_7085c2294e08row2_col5,#T_8fb61c75_9dc9_11ec_b1c9_7085c2294e08row2_col6,#T_8fb61c75_9dc9_11ec_b1c9_7085c2294e08row2_col7,#T_8fb61c75_9dc9_11ec_b1c9_7085c2294e08row3_col0,#T_8fb61c75_9dc9_11ec_b1c9_7085c2294e08row3_col1,#T_8fb61c75_9dc9_11ec_b1c9_7085c2294e08row3_col2,#T_8fb61c75_9dc9_11ec_b1c9_7085c2294e08row3_col3,#T_8fb61c75_9dc9_11ec_b1c9_7085c2294e08row3_col4,#T_8fb61c75_9dc9_11ec_b1c9_7085c2294e08row3_col5,#T_8fb61c75_9dc9_11ec_b1c9_7085c2294e08row3_col6,#T_8fb61c75_9dc9_11ec_b1c9_7085c2294e08row3_col7,#T_8fb61c75_9dc9_11ec_b1c9_7085c2294e08row4_col0,#T_8fb61c75_9dc9_11ec_b1c9_7085c2294e08row4_col1,#T_8fb61c75_9dc9_11ec_b1c9_7085c2294e08row4_col2,#T_8fb61c75_9dc9_11ec_b1c9_7085c2294e08row4_col3,#T_8fb61c75_9dc9_11ec_b1c9_7085c2294e08row4_col4,#T_8fb61c75_9dc9_11ec_b1c9_7085c2294e08row4_col5,#T_8fb61c75_9dc9_11ec_b1c9_7085c2294e08row4_col6,#T_8fb61c75_9dc9_11ec_b1c9_7085c2294e08row4_col7,#T_8fb61c75_9dc9_11ec_b1c9_7085c2294e08row5_col0,#T_8fb61c75_9dc9_11ec_b1c9_7085c2294e08row5_col1,#T_8fb61c75_9dc9_11ec_b1c9_7085c2294e08row5_col2,#T_8fb61c75_9dc9_11ec_b1c9_7085c2294e08row5_col3,#T_8fb61c75_9dc9_11ec_b1c9_7085c2294e08row5_col4,#T_8fb61c75_9dc9_11ec_b1c9_7085c2294e08row5_col5,#T_8fb61c75_9dc9_11ec_b1c9_7085c2294e08row5_col6,#T_8fb61c75_9dc9_11ec_b1c9_7085c2294e08row5_col7,#T_8fb61c75_9dc9_11ec_b1c9_7085c2294e08row6_col0,#T_8fb61c75_9dc9_11ec_b1c9_7085c2294e08row6_col1,#T_8fb61c75_9dc9_11ec_b1c9_7085c2294e08row6_col2,#T_8fb61c75_9dc9_11ec_b1c9_7085c2294e08row6_col3,#T_8fb61c75_9dc9_11ec_b1c9_7085c2294e08row6_col4,#T_8fb61c75_9dc9_11ec_b1c9_7085c2294e08row6_col5,#T_8fb61c75_9dc9_11ec_b1c9_7085c2294e08row6_col6,#T_8fb61c75_9dc9_11ec_b1c9_7085c2294e08row6_col7,#T_8fb61c75_9dc9_11ec_b1c9_7085c2294e08row7_col0,#T_8fb61c75_9dc9_11ec_b1c9_7085c2294e08row7_col1,#T_8fb61c75_9dc9_11ec_b1c9_7085c2294e08row7_col2,#T_8fb61c75_9dc9_11ec_b1c9_7085c2294e08row7_col3,#T_8fb61c75_9dc9_11ec_b1c9_7085c2294e08row7_col4,#T_8fb61c75_9dc9_11ec_b1c9_7085c2294e08row7_col5,#T_8fb61c75_9dc9_11ec_b1c9_7085c2294e08row7_col6,#T_8fb61c75_9dc9_11ec_b1c9_7085c2294e08row7_col7,#T_8fb61c75_9dc9_11ec_b1c9_7085c2294e08row8_col0,#T_8fb61c75_9dc9_11ec_b1c9_7085c2294e08row8_col1,#T_8fb61c75_9dc9_11ec_b1c9_7085c2294e08row8_col2,#T_8fb61c75_9dc9_11ec_b1c9_7085c2294e08row8_col3,#T_8fb61c75_9dc9_11ec_b1c9_7085c2294e08row8_col4,#T_8fb61c75_9dc9_11ec_b1c9_7085c2294e08row8_col5,#T_8fb61c75_9dc9_11ec_b1c9_7085c2294e08row8_col6,#T_8fb61c75_9dc9_11ec_b1c9_7085c2294e08row8_col7,#T_8fb61c75_9dc9_11ec_b1c9_7085c2294e08row9_col0,#T_8fb61c75_9dc9_11ec_b1c9_7085c2294e08row9_col1,#T_8fb61c75_9dc9_11ec_b1c9_7085c2294e08row9_col2,#T_8fb61c75_9dc9_11ec_b1c9_7085c2294e08row9_col3,#T_8fb61c75_9dc9_11ec_b1c9_7085c2294e08row9_col4,#T_8fb61c75_9dc9_11ec_b1c9_7085c2294e08row9_col5,#T_8fb61c75_9dc9_11ec_b1c9_7085c2294e08row9_col6,#T_8fb61c75_9dc9_11ec_b1c9_7085c2294e08row9_col7,#T_8fb61c75_9dc9_11ec_b1c9_7085c2294e08row10_col0,#T_8fb61c75_9dc9_11ec_b1c9_7085c2294e08row10_col1,#T_8fb61c75_9dc9_11ec_b1c9_7085c2294e08row10_col2,#T_8fb61c75_9dc9_11ec_b1c9_7085c2294e08row10_col3,#T_8fb61c75_9dc9_11ec_b1c9_7085c2294e08row10_col4,#T_8fb61c75_9dc9_11ec_b1c9_7085c2294e08row10_col5,#T_8fb61c75_9dc9_11ec_b1c9_7085c2294e08row10_col6,#T_8fb61c75_9dc9_11ec_b1c9_7085c2294e08row10_col7,#T_8fb61c75_9dc9_11ec_b1c9_7085c2294e08row11_col0,#T_8fb61c75_9dc9_11ec_b1c9_7085c2294e08row11_col1,#T_8fb61c75_9dc9_11ec_b1c9_7085c2294e08row11_col2,#T_8fb61c75_9dc9_11ec_b1c9_7085c2294e08row11_col3,#T_8fb61c75_9dc9_11ec_b1c9_7085c2294e08row11_col4,#T_8fb61c75_9dc9_11ec_b1c9_7085c2294e08row11_col5,#T_8fb61c75_9dc9_11ec_b1c9_7085c2294e08row11_col6,#T_8fb61c75_9dc9_11ec_b1c9_7085c2294e08row11_col7,#T_8fb61c75_9dc9_11ec_b1c9_7085c2294e08row12_col0,#T_8fb61c75_9dc9_11ec_b1c9_7085c2294e08row12_col1,#T_8fb61c75_9dc9_11ec_b1c9_7085c2294e08row12_col2,#T_8fb61c75_9dc9_11ec_b1c9_7085c2294e08row12_col3,#T_8fb61c75_9dc9_11ec_b1c9_7085c2294e08row12_col4,#T_8fb61c75_9dc9_11ec_b1c9_7085c2294e08row12_col5,#T_8fb61c75_9dc9_11ec_b1c9_7085c2294e08row12_col6,#T_8fb61c75_9dc9_11ec_b1c9_7085c2294e08row12_col7,#T_8fb61c75_9dc9_11ec_b1c9_7085c2294e08row13_col0,#T_8fb61c75_9dc9_11ec_b1c9_7085c2294e08row13_col1,#T_8fb61c75_9dc9_11ec_b1c9_7085c2294e08row13_col2,#T_8fb61c75_9dc9_11ec_b1c9_7085c2294e08row13_col3,#T_8fb61c75_9dc9_11ec_b1c9_7085c2294e08row13_col4,#T_8fb61c75_9dc9_11ec_b1c9_7085c2294e08row13_col5,#T_8fb61c75_9dc9_11ec_b1c9_7085c2294e08row13_col6,#T_8fb61c75_9dc9_11ec_b1c9_7085c2294e08row13_col7,#T_8fb61c75_9dc9_11ec_b1c9_7085c2294e08row14_col0,#T_8fb61c75_9dc9_11ec_b1c9_7085c2294e08row14_col1,#T_8fb61c75_9dc9_11ec_b1c9_7085c2294e08row14_col2,#T_8fb61c75_9dc9_11ec_b1c9_7085c2294e08row14_col3,#T_8fb61c75_9dc9_11ec_b1c9_7085c2294e08row14_col4,#T_8fb61c75_9dc9_11ec_b1c9_7085c2294e08row14_col5,#T_8fb61c75_9dc9_11ec_b1c9_7085c2294e08row14_col6,#T_8fb61c75_9dc9_11ec_b1c9_7085c2294e08row14_col7,#T_8fb61c75_9dc9_11ec_b1c9_7085c2294e08row15_col0,#T_8fb61c75_9dc9_11ec_b1c9_7085c2294e08row15_col1,#T_8fb61c75_9dc9_11ec_b1c9_7085c2294e08row15_col2,#T_8fb61c75_9dc9_11ec_b1c9_7085c2294e08row15_col3,#T_8fb61c75_9dc9_11ec_b1c9_7085c2294e08row15_col4,#T_8fb61c75_9dc9_11ec_b1c9_7085c2294e08row15_col5,#T_8fb61c75_9dc9_11ec_b1c9_7085c2294e08row15_col6,#T_8fb61c75_9dc9_11ec_b1c9_7085c2294e08row15_col7{\n",
       "            text-align:  left;\n",
       "            text-align:  left;\n",
       "        }#T_8fb61c75_9dc9_11ec_b1c9_7085c2294e08row0_col1,#T_8fb61c75_9dc9_11ec_b1c9_7085c2294e08row0_col2,#T_8fb61c75_9dc9_11ec_b1c9_7085c2294e08row0_col3,#T_8fb61c75_9dc9_11ec_b1c9_7085c2294e08row0_col4,#T_8fb61c75_9dc9_11ec_b1c9_7085c2294e08row0_col5,#T_8fb61c75_9dc9_11ec_b1c9_7085c2294e08row0_col6,#T_8fb61c75_9dc9_11ec_b1c9_7085c2294e08row0_col7{\n",
       "            text-align:  left;\n",
       "            text-align:  left;\n",
       "            background-color:  yellow;\n",
       "        }#T_8fb61c75_9dc9_11ec_b1c9_7085c2294e08row0_col8,#T_8fb61c75_9dc9_11ec_b1c9_7085c2294e08row1_col8,#T_8fb61c75_9dc9_11ec_b1c9_7085c2294e08row2_col8,#T_8fb61c75_9dc9_11ec_b1c9_7085c2294e08row3_col8,#T_8fb61c75_9dc9_11ec_b1c9_7085c2294e08row4_col8,#T_8fb61c75_9dc9_11ec_b1c9_7085c2294e08row5_col8,#T_8fb61c75_9dc9_11ec_b1c9_7085c2294e08row6_col8,#T_8fb61c75_9dc9_11ec_b1c9_7085c2294e08row8_col8,#T_8fb61c75_9dc9_11ec_b1c9_7085c2294e08row9_col8,#T_8fb61c75_9dc9_11ec_b1c9_7085c2294e08row10_col8,#T_8fb61c75_9dc9_11ec_b1c9_7085c2294e08row11_col8,#T_8fb61c75_9dc9_11ec_b1c9_7085c2294e08row12_col8,#T_8fb61c75_9dc9_11ec_b1c9_7085c2294e08row13_col8,#T_8fb61c75_9dc9_11ec_b1c9_7085c2294e08row14_col8,#T_8fb61c75_9dc9_11ec_b1c9_7085c2294e08row15_col8{\n",
       "            text-align:  left;\n",
       "            text-align:  left;\n",
       "            background-color:  lightgrey;\n",
       "        }#T_8fb61c75_9dc9_11ec_b1c9_7085c2294e08row7_col8{\n",
       "            text-align:  left;\n",
       "            text-align:  left;\n",
       "            background-color:  yellow;\n",
       "            background-color:  lightgrey;\n",
       "        }</style><table id=\"T_8fb61c75_9dc9_11ec_b1c9_7085c2294e08\" ><thead>    <tr>        <th class=\"blank level0\" ></th>        <th class=\"col_heading level0 col0\" >Model</th>        <th class=\"col_heading level0 col1\" >Accuracy</th>        <th class=\"col_heading level0 col2\" >AUC</th>        <th class=\"col_heading level0 col3\" >Recall</th>        <th class=\"col_heading level0 col4\" >Prec.</th>        <th class=\"col_heading level0 col5\" >F1</th>        <th class=\"col_heading level0 col6\" >Kappa</th>        <th class=\"col_heading level0 col7\" >MCC</th>        <th class=\"col_heading level0 col8\" >TT (Sec)</th>    </tr></thead><tbody>\n",
       "                <tr>\n",
       "                        <th id=\"T_8fb61c75_9dc9_11ec_b1c9_7085c2294e08level0_row0\" class=\"row_heading level0 row0\" >catboost</th>\n",
       "                        <td id=\"T_8fb61c75_9dc9_11ec_b1c9_7085c2294e08row0_col0\" class=\"data row0 col0\" >CatBoost Classifier</td>\n",
       "                        <td id=\"T_8fb61c75_9dc9_11ec_b1c9_7085c2294e08row0_col1\" class=\"data row0 col1\" >0.8158</td>\n",
       "                        <td id=\"T_8fb61c75_9dc9_11ec_b1c9_7085c2294e08row0_col2\" class=\"data row0 col2\" >0.9576</td>\n",
       "                        <td id=\"T_8fb61c75_9dc9_11ec_b1c9_7085c2294e08row0_col3\" class=\"data row0 col3\" >0.8156</td>\n",
       "                        <td id=\"T_8fb61c75_9dc9_11ec_b1c9_7085c2294e08row0_col4\" class=\"data row0 col4\" >0.8168</td>\n",
       "                        <td id=\"T_8fb61c75_9dc9_11ec_b1c9_7085c2294e08row0_col5\" class=\"data row0 col5\" >0.8147</td>\n",
       "                        <td id=\"T_8fb61c75_9dc9_11ec_b1c9_7085c2294e08row0_col6\" class=\"data row0 col6\" >0.7542</td>\n",
       "                        <td id=\"T_8fb61c75_9dc9_11ec_b1c9_7085c2294e08row0_col7\" class=\"data row0 col7\" >0.7552</td>\n",
       "                        <td id=\"T_8fb61c75_9dc9_11ec_b1c9_7085c2294e08row0_col8\" class=\"data row0 col8\" >18.8880</td>\n",
       "            </tr>\n",
       "            <tr>\n",
       "                        <th id=\"T_8fb61c75_9dc9_11ec_b1c9_7085c2294e08level0_row1\" class=\"row_heading level0 row1\" >xgboost</th>\n",
       "                        <td id=\"T_8fb61c75_9dc9_11ec_b1c9_7085c2294e08row1_col0\" class=\"data row1 col0\" >Extreme Gradient Boosting</td>\n",
       "                        <td id=\"T_8fb61c75_9dc9_11ec_b1c9_7085c2294e08row1_col1\" class=\"data row1 col1\" >0.7944</td>\n",
       "                        <td id=\"T_8fb61c75_9dc9_11ec_b1c9_7085c2294e08row1_col2\" class=\"data row1 col2\" >0.9494</td>\n",
       "                        <td id=\"T_8fb61c75_9dc9_11ec_b1c9_7085c2294e08row1_col3\" class=\"data row1 col3\" >0.7940</td>\n",
       "                        <td id=\"T_8fb61c75_9dc9_11ec_b1c9_7085c2294e08row1_col4\" class=\"data row1 col4\" >0.7959</td>\n",
       "                        <td id=\"T_8fb61c75_9dc9_11ec_b1c9_7085c2294e08row1_col5\" class=\"data row1 col5\" >0.7934</td>\n",
       "                        <td id=\"T_8fb61c75_9dc9_11ec_b1c9_7085c2294e08row1_col6\" class=\"data row1 col6\" >0.7256</td>\n",
       "                        <td id=\"T_8fb61c75_9dc9_11ec_b1c9_7085c2294e08row1_col7\" class=\"data row1 col7\" >0.7266</td>\n",
       "                        <td id=\"T_8fb61c75_9dc9_11ec_b1c9_7085c2294e08row1_col8\" class=\"data row1 col8\" >1.2840</td>\n",
       "            </tr>\n",
       "            <tr>\n",
       "                        <th id=\"T_8fb61c75_9dc9_11ec_b1c9_7085c2294e08level0_row2\" class=\"row_heading level0 row2\" >lightgbm</th>\n",
       "                        <td id=\"T_8fb61c75_9dc9_11ec_b1c9_7085c2294e08row2_col0\" class=\"data row2 col0\" >Light Gradient Boosting Machine</td>\n",
       "                        <td id=\"T_8fb61c75_9dc9_11ec_b1c9_7085c2294e08row2_col1\" class=\"data row2 col1\" >0.7944</td>\n",
       "                        <td id=\"T_8fb61c75_9dc9_11ec_b1c9_7085c2294e08row2_col2\" class=\"data row2 col2\" >0.9496</td>\n",
       "                        <td id=\"T_8fb61c75_9dc9_11ec_b1c9_7085c2294e08row2_col3\" class=\"data row2 col3\" >0.7941</td>\n",
       "                        <td id=\"T_8fb61c75_9dc9_11ec_b1c9_7085c2294e08row2_col4\" class=\"data row2 col4\" >0.7975</td>\n",
       "                        <td id=\"T_8fb61c75_9dc9_11ec_b1c9_7085c2294e08row2_col5\" class=\"data row2 col5\" >0.7938</td>\n",
       "                        <td id=\"T_8fb61c75_9dc9_11ec_b1c9_7085c2294e08row2_col6\" class=\"data row2 col6\" >0.7256</td>\n",
       "                        <td id=\"T_8fb61c75_9dc9_11ec_b1c9_7085c2294e08row2_col7\" class=\"data row2 col7\" >0.7268</td>\n",
       "                        <td id=\"T_8fb61c75_9dc9_11ec_b1c9_7085c2294e08row2_col8\" class=\"data row2 col8\" >0.8580</td>\n",
       "            </tr>\n",
       "            <tr>\n",
       "                        <th id=\"T_8fb61c75_9dc9_11ec_b1c9_7085c2294e08level0_row3\" class=\"row_heading level0 row3\" >qda</th>\n",
       "                        <td id=\"T_8fb61c75_9dc9_11ec_b1c9_7085c2294e08row3_col0\" class=\"data row3 col0\" >Quadratic Discriminant Analysis</td>\n",
       "                        <td id=\"T_8fb61c75_9dc9_11ec_b1c9_7085c2294e08row3_col1\" class=\"data row3 col1\" >0.7778</td>\n",
       "                        <td id=\"T_8fb61c75_9dc9_11ec_b1c9_7085c2294e08row3_col2\" class=\"data row3 col2\" >0.9385</td>\n",
       "                        <td id=\"T_8fb61c75_9dc9_11ec_b1c9_7085c2294e08row3_col3\" class=\"data row3 col3\" >0.7752</td>\n",
       "                        <td id=\"T_8fb61c75_9dc9_11ec_b1c9_7085c2294e08row3_col4\" class=\"data row3 col4\" >0.7820</td>\n",
       "                        <td id=\"T_8fb61c75_9dc9_11ec_b1c9_7085c2294e08row3_col5\" class=\"data row3 col5\" >0.7744</td>\n",
       "                        <td id=\"T_8fb61c75_9dc9_11ec_b1c9_7085c2294e08row3_col6\" class=\"data row3 col6\" >0.7033</td>\n",
       "                        <td id=\"T_8fb61c75_9dc9_11ec_b1c9_7085c2294e08row3_col7\" class=\"data row3 col7\" >0.7061</td>\n",
       "                        <td id=\"T_8fb61c75_9dc9_11ec_b1c9_7085c2294e08row3_col8\" class=\"data row3 col8\" >0.0140</td>\n",
       "            </tr>\n",
       "            <tr>\n",
       "                        <th id=\"T_8fb61c75_9dc9_11ec_b1c9_7085c2294e08level0_row4\" class=\"row_heading level0 row4\" >et</th>\n",
       "                        <td id=\"T_8fb61c75_9dc9_11ec_b1c9_7085c2294e08row4_col0\" class=\"data row4 col0\" >Extra Trees Classifier</td>\n",
       "                        <td id=\"T_8fb61c75_9dc9_11ec_b1c9_7085c2294e08row4_col1\" class=\"data row4 col1\" >0.7766</td>\n",
       "                        <td id=\"T_8fb61c75_9dc9_11ec_b1c9_7085c2294e08row4_col2\" class=\"data row4 col2\" >0.9386</td>\n",
       "                        <td id=\"T_8fb61c75_9dc9_11ec_b1c9_7085c2294e08row4_col3\" class=\"data row4 col3\" >0.7757</td>\n",
       "                        <td id=\"T_8fb61c75_9dc9_11ec_b1c9_7085c2294e08row4_col4\" class=\"data row4 col4\" >0.7807</td>\n",
       "                        <td id=\"T_8fb61c75_9dc9_11ec_b1c9_7085c2294e08row4_col5\" class=\"data row4 col5\" >0.7732</td>\n",
       "                        <td id=\"T_8fb61c75_9dc9_11ec_b1c9_7085c2294e08row4_col6\" class=\"data row4 col6\" >0.7019</td>\n",
       "                        <td id=\"T_8fb61c75_9dc9_11ec_b1c9_7085c2294e08row4_col7\" class=\"data row4 col7\" >0.7051</td>\n",
       "                        <td id=\"T_8fb61c75_9dc9_11ec_b1c9_7085c2294e08row4_col8\" class=\"data row4 col8\" >0.2860</td>\n",
       "            </tr>\n",
       "            <tr>\n",
       "                        <th id=\"T_8fb61c75_9dc9_11ec_b1c9_7085c2294e08level0_row5\" class=\"row_heading level0 row5\" >gbc</th>\n",
       "                        <td id=\"T_8fb61c75_9dc9_11ec_b1c9_7085c2294e08row5_col0\" class=\"data row5 col0\" >Gradient Boosting Classifier</td>\n",
       "                        <td id=\"T_8fb61c75_9dc9_11ec_b1c9_7085c2294e08row5_col1\" class=\"data row5 col1\" >0.7674</td>\n",
       "                        <td id=\"T_8fb61c75_9dc9_11ec_b1c9_7085c2294e08row5_col2\" class=\"data row5 col2\" >0.9355</td>\n",
       "                        <td id=\"T_8fb61c75_9dc9_11ec_b1c9_7085c2294e08row5_col3\" class=\"data row5 col3\" >0.7668</td>\n",
       "                        <td id=\"T_8fb61c75_9dc9_11ec_b1c9_7085c2294e08row5_col4\" class=\"data row5 col4\" >0.7691</td>\n",
       "                        <td id=\"T_8fb61c75_9dc9_11ec_b1c9_7085c2294e08row5_col5\" class=\"data row5 col5\" >0.7661</td>\n",
       "                        <td id=\"T_8fb61c75_9dc9_11ec_b1c9_7085c2294e08row5_col6\" class=\"data row5 col6\" >0.6896</td>\n",
       "                        <td id=\"T_8fb61c75_9dc9_11ec_b1c9_7085c2294e08row5_col7\" class=\"data row5 col7\" >0.6909</td>\n",
       "                        <td id=\"T_8fb61c75_9dc9_11ec_b1c9_7085c2294e08row5_col8\" class=\"data row5 col8\" >2.1460</td>\n",
       "            </tr>\n",
       "            <tr>\n",
       "                        <th id=\"T_8fb61c75_9dc9_11ec_b1c9_7085c2294e08level0_row6\" class=\"row_heading level0 row6\" >rf</th>\n",
       "                        <td id=\"T_8fb61c75_9dc9_11ec_b1c9_7085c2294e08row6_col0\" class=\"data row6 col0\" >Random Forest Classifier</td>\n",
       "                        <td id=\"T_8fb61c75_9dc9_11ec_b1c9_7085c2294e08row6_col1\" class=\"data row6 col1\" >0.7650</td>\n",
       "                        <td id=\"T_8fb61c75_9dc9_11ec_b1c9_7085c2294e08row6_col2\" class=\"data row6 col2\" >0.9310</td>\n",
       "                        <td id=\"T_8fb61c75_9dc9_11ec_b1c9_7085c2294e08row6_col3\" class=\"data row6 col3\" >0.7644</td>\n",
       "                        <td id=\"T_8fb61c75_9dc9_11ec_b1c9_7085c2294e08row6_col4\" class=\"data row6 col4\" >0.7656</td>\n",
       "                        <td id=\"T_8fb61c75_9dc9_11ec_b1c9_7085c2294e08row6_col5\" class=\"data row6 col5\" >0.7612</td>\n",
       "                        <td id=\"T_8fb61c75_9dc9_11ec_b1c9_7085c2294e08row6_col6\" class=\"data row6 col6\" >0.6864</td>\n",
       "                        <td id=\"T_8fb61c75_9dc9_11ec_b1c9_7085c2294e08row6_col7\" class=\"data row6 col7\" >0.6890</td>\n",
       "                        <td id=\"T_8fb61c75_9dc9_11ec_b1c9_7085c2294e08row6_col8\" class=\"data row6 col8\" >0.2780</td>\n",
       "            </tr>\n",
       "            <tr>\n",
       "                        <th id=\"T_8fb61c75_9dc9_11ec_b1c9_7085c2294e08level0_row7\" class=\"row_heading level0 row7\" >nb</th>\n",
       "                        <td id=\"T_8fb61c75_9dc9_11ec_b1c9_7085c2294e08row7_col0\" class=\"data row7 col0\" >Naive Bayes</td>\n",
       "                        <td id=\"T_8fb61c75_9dc9_11ec_b1c9_7085c2294e08row7_col1\" class=\"data row7 col1\" >0.6646</td>\n",
       "                        <td id=\"T_8fb61c75_9dc9_11ec_b1c9_7085c2294e08row7_col2\" class=\"data row7 col2\" >0.8893</td>\n",
       "                        <td id=\"T_8fb61c75_9dc9_11ec_b1c9_7085c2294e08row7_col3\" class=\"data row7 col3\" >0.6627</td>\n",
       "                        <td id=\"T_8fb61c75_9dc9_11ec_b1c9_7085c2294e08row7_col4\" class=\"data row7 col4\" >0.6730</td>\n",
       "                        <td id=\"T_8fb61c75_9dc9_11ec_b1c9_7085c2294e08row7_col5\" class=\"data row7 col5\" >0.6552</td>\n",
       "                        <td id=\"T_8fb61c75_9dc9_11ec_b1c9_7085c2294e08row7_col6\" class=\"data row7 col6\" >0.5521</td>\n",
       "                        <td id=\"T_8fb61c75_9dc9_11ec_b1c9_7085c2294e08row7_col7\" class=\"data row7 col7\" >0.5606</td>\n",
       "                        <td id=\"T_8fb61c75_9dc9_11ec_b1c9_7085c2294e08row7_col8\" class=\"data row7 col8\" >0.0080</td>\n",
       "            </tr>\n",
       "            <tr>\n",
       "                        <th id=\"T_8fb61c75_9dc9_11ec_b1c9_7085c2294e08level0_row8\" class=\"row_heading level0 row8\" >ada</th>\n",
       "                        <td id=\"T_8fb61c75_9dc9_11ec_b1c9_7085c2294e08row8_col0\" class=\"data row8 col0\" >Ada Boost Classifier</td>\n",
       "                        <td id=\"T_8fb61c75_9dc9_11ec_b1c9_7085c2294e08row8_col1\" class=\"data row8 col1\" >0.6052</td>\n",
       "                        <td id=\"T_8fb61c75_9dc9_11ec_b1c9_7085c2294e08row8_col2\" class=\"data row8 col2\" >0.8135</td>\n",
       "                        <td id=\"T_8fb61c75_9dc9_11ec_b1c9_7085c2294e08row8_col3\" class=\"data row8 col3\" >0.6055</td>\n",
       "                        <td id=\"T_8fb61c75_9dc9_11ec_b1c9_7085c2294e08row8_col4\" class=\"data row8 col4\" >0.6109</td>\n",
       "                        <td id=\"T_8fb61c75_9dc9_11ec_b1c9_7085c2294e08row8_col5\" class=\"data row8 col5\" >0.6049</td>\n",
       "                        <td id=\"T_8fb61c75_9dc9_11ec_b1c9_7085c2294e08row8_col6\" class=\"data row8 col6\" >0.4734</td>\n",
       "                        <td id=\"T_8fb61c75_9dc9_11ec_b1c9_7085c2294e08row8_col7\" class=\"data row8 col7\" >0.4753</td>\n",
       "                        <td id=\"T_8fb61c75_9dc9_11ec_b1c9_7085c2294e08row8_col8\" class=\"data row8 col8\" >0.1440</td>\n",
       "            </tr>\n",
       "            <tr>\n",
       "                        <th id=\"T_8fb61c75_9dc9_11ec_b1c9_7085c2294e08level0_row9\" class=\"row_heading level0 row9\" >dt</th>\n",
       "                        <td id=\"T_8fb61c75_9dc9_11ec_b1c9_7085c2294e08row9_col0\" class=\"data row9 col0\" >Decision Tree Classifier</td>\n",
       "                        <td id=\"T_8fb61c75_9dc9_11ec_b1c9_7085c2294e08row9_col1\" class=\"data row9 col1\" >0.5453</td>\n",
       "                        <td id=\"T_8fb61c75_9dc9_11ec_b1c9_7085c2294e08row9_col2\" class=\"data row9 col2\" >0.6968</td>\n",
       "                        <td id=\"T_8fb61c75_9dc9_11ec_b1c9_7085c2294e08row9_col3\" class=\"data row9 col3\" >0.5441</td>\n",
       "                        <td id=\"T_8fb61c75_9dc9_11ec_b1c9_7085c2294e08row9_col4\" class=\"data row9 col4\" >0.5486</td>\n",
       "                        <td id=\"T_8fb61c75_9dc9_11ec_b1c9_7085c2294e08row9_col5\" class=\"data row9 col5\" >0.5455</td>\n",
       "                        <td id=\"T_8fb61c75_9dc9_11ec_b1c9_7085c2294e08row9_col6\" class=\"data row9 col6\" >0.3933</td>\n",
       "                        <td id=\"T_8fb61c75_9dc9_11ec_b1c9_7085c2294e08row9_col7\" class=\"data row9 col7\" >0.3940</td>\n",
       "                        <td id=\"T_8fb61c75_9dc9_11ec_b1c9_7085c2294e08row9_col8\" class=\"data row9 col8\" >0.0320</td>\n",
       "            </tr>\n",
       "            <tr>\n",
       "                        <th id=\"T_8fb61c75_9dc9_11ec_b1c9_7085c2294e08level0_row10\" class=\"row_heading level0 row10\" >knn</th>\n",
       "                        <td id=\"T_8fb61c75_9dc9_11ec_b1c9_7085c2294e08row10_col0\" class=\"data row10 col0\" >K Neighbors Classifier</td>\n",
       "                        <td id=\"T_8fb61c75_9dc9_11ec_b1c9_7085c2294e08row10_col1\" class=\"data row10 col1\" >0.4853</td>\n",
       "                        <td id=\"T_8fb61c75_9dc9_11ec_b1c9_7085c2294e08row10_col2\" class=\"data row10 col2\" >0.7726</td>\n",
       "                        <td id=\"T_8fb61c75_9dc9_11ec_b1c9_7085c2294e08row10_col3\" class=\"data row10 col3\" >0.4892</td>\n",
       "                        <td id=\"T_8fb61c75_9dc9_11ec_b1c9_7085c2294e08row10_col4\" class=\"data row10 col4\" >0.6264</td>\n",
       "                        <td id=\"T_8fb61c75_9dc9_11ec_b1c9_7085c2294e08row10_col5\" class=\"data row10 col5\" >0.4487</td>\n",
       "                        <td id=\"T_8fb61c75_9dc9_11ec_b1c9_7085c2294e08row10_col6\" class=\"data row10 col6\" >0.3141</td>\n",
       "                        <td id=\"T_8fb61c75_9dc9_11ec_b1c9_7085c2294e08row10_col7\" class=\"data row10 col7\" >0.3733</td>\n",
       "                        <td id=\"T_8fb61c75_9dc9_11ec_b1c9_7085c2294e08row10_col8\" class=\"data row10 col8\" >0.0360</td>\n",
       "            </tr>\n",
       "            <tr>\n",
       "                        <th id=\"T_8fb61c75_9dc9_11ec_b1c9_7085c2294e08level0_row11\" class=\"row_heading level0 row11\" >lr</th>\n",
       "                        <td id=\"T_8fb61c75_9dc9_11ec_b1c9_7085c2294e08row11_col0\" class=\"data row11 col0\" >Logistic Regression</td>\n",
       "                        <td id=\"T_8fb61c75_9dc9_11ec_b1c9_7085c2294e08row11_col1\" class=\"data row11 col1\" >0.3048</td>\n",
       "                        <td id=\"T_8fb61c75_9dc9_11ec_b1c9_7085c2294e08row11_col2\" class=\"data row11 col2\" >0.5130</td>\n",
       "                        <td id=\"T_8fb61c75_9dc9_11ec_b1c9_7085c2294e08row11_col3\" class=\"data row11 col3\" >0.3025</td>\n",
       "                        <td id=\"T_8fb61c75_9dc9_11ec_b1c9_7085c2294e08row11_col4\" class=\"data row11 col4\" >0.3049</td>\n",
       "                        <td id=\"T_8fb61c75_9dc9_11ec_b1c9_7085c2294e08row11_col5\" class=\"data row11 col5\" >0.3012</td>\n",
       "                        <td id=\"T_8fb61c75_9dc9_11ec_b1c9_7085c2294e08row11_col6\" class=\"data row11 col6\" >0.0708</td>\n",
       "                        <td id=\"T_8fb61c75_9dc9_11ec_b1c9_7085c2294e08row11_col7\" class=\"data row11 col7\" >0.0713</td>\n",
       "                        <td id=\"T_8fb61c75_9dc9_11ec_b1c9_7085c2294e08row11_col8\" class=\"data row11 col8\" >1.1280</td>\n",
       "            </tr>\n",
       "            <tr>\n",
       "                        <th id=\"T_8fb61c75_9dc9_11ec_b1c9_7085c2294e08level0_row12\" class=\"row_heading level0 row12\" >lda</th>\n",
       "                        <td id=\"T_8fb61c75_9dc9_11ec_b1c9_7085c2294e08row12_col0\" class=\"data row12 col0\" >Linear Discriminant Analysis</td>\n",
       "                        <td id=\"T_8fb61c75_9dc9_11ec_b1c9_7085c2294e08row12_col1\" class=\"data row12 col1\" >0.3011</td>\n",
       "                        <td id=\"T_8fb61c75_9dc9_11ec_b1c9_7085c2294e08row12_col2\" class=\"data row12 col2\" >0.5143</td>\n",
       "                        <td id=\"T_8fb61c75_9dc9_11ec_b1c9_7085c2294e08row12_col3\" class=\"data row12 col3\" >0.2989</td>\n",
       "                        <td id=\"T_8fb61c75_9dc9_11ec_b1c9_7085c2294e08row12_col4\" class=\"data row12 col4\" >0.3016</td>\n",
       "                        <td id=\"T_8fb61c75_9dc9_11ec_b1c9_7085c2294e08row12_col5\" class=\"data row12 col5\" >0.2979</td>\n",
       "                        <td id=\"T_8fb61c75_9dc9_11ec_b1c9_7085c2294e08row12_col6\" class=\"data row12 col6\" >0.0659</td>\n",
       "                        <td id=\"T_8fb61c75_9dc9_11ec_b1c9_7085c2294e08row12_col7\" class=\"data row12 col7\" >0.0663</td>\n",
       "                        <td id=\"T_8fb61c75_9dc9_11ec_b1c9_7085c2294e08row12_col8\" class=\"data row12 col8\" >0.0160</td>\n",
       "            </tr>\n",
       "            <tr>\n",
       "                        <th id=\"T_8fb61c75_9dc9_11ec_b1c9_7085c2294e08level0_row13\" class=\"row_heading level0 row13\" >ridge</th>\n",
       "                        <td id=\"T_8fb61c75_9dc9_11ec_b1c9_7085c2294e08row13_col0\" class=\"data row13 col0\" >Ridge Classifier</td>\n",
       "                        <td id=\"T_8fb61c75_9dc9_11ec_b1c9_7085c2294e08row13_col1\" class=\"data row13 col1\" >0.2993</td>\n",
       "                        <td id=\"T_8fb61c75_9dc9_11ec_b1c9_7085c2294e08row13_col2\" class=\"data row13 col2\" >0.0000</td>\n",
       "                        <td id=\"T_8fb61c75_9dc9_11ec_b1c9_7085c2294e08row13_col3\" class=\"data row13 col3\" >0.2967</td>\n",
       "                        <td id=\"T_8fb61c75_9dc9_11ec_b1c9_7085c2294e08row13_col4\" class=\"data row13 col4\" >0.2981</td>\n",
       "                        <td id=\"T_8fb61c75_9dc9_11ec_b1c9_7085c2294e08row13_col5\" class=\"data row13 col5\" >0.2939</td>\n",
       "                        <td id=\"T_8fb61c75_9dc9_11ec_b1c9_7085c2294e08row13_col6\" class=\"data row13 col6\" >0.0630</td>\n",
       "                        <td id=\"T_8fb61c75_9dc9_11ec_b1c9_7085c2294e08row13_col7\" class=\"data row13 col7\" >0.0635</td>\n",
       "                        <td id=\"T_8fb61c75_9dc9_11ec_b1c9_7085c2294e08row13_col8\" class=\"data row13 col8\" >0.0160</td>\n",
       "            </tr>\n",
       "            <tr>\n",
       "                        <th id=\"T_8fb61c75_9dc9_11ec_b1c9_7085c2294e08level0_row14\" class=\"row_heading level0 row14\" >svm</th>\n",
       "                        <td id=\"T_8fb61c75_9dc9_11ec_b1c9_7085c2294e08row14_col0\" class=\"data row14 col0\" >SVM - Linear Kernel</td>\n",
       "                        <td id=\"T_8fb61c75_9dc9_11ec_b1c9_7085c2294e08row14_col1\" class=\"data row14 col1\" >0.2754</td>\n",
       "                        <td id=\"T_8fb61c75_9dc9_11ec_b1c9_7085c2294e08row14_col2\" class=\"data row14 col2\" >0.0000</td>\n",
       "                        <td id=\"T_8fb61c75_9dc9_11ec_b1c9_7085c2294e08row14_col3\" class=\"data row14 col3\" >0.2749</td>\n",
       "                        <td id=\"T_8fb61c75_9dc9_11ec_b1c9_7085c2294e08row14_col4\" class=\"data row14 col4\" >0.2784</td>\n",
       "                        <td id=\"T_8fb61c75_9dc9_11ec_b1c9_7085c2294e08row14_col5\" class=\"data row14 col5\" >0.2574</td>\n",
       "                        <td id=\"T_8fb61c75_9dc9_11ec_b1c9_7085c2294e08row14_col6\" class=\"data row14 col6\" >0.0331</td>\n",
       "                        <td id=\"T_8fb61c75_9dc9_11ec_b1c9_7085c2294e08row14_col7\" class=\"data row14 col7\" >0.0351</td>\n",
       "                        <td id=\"T_8fb61c75_9dc9_11ec_b1c9_7085c2294e08row14_col8\" class=\"data row14 col8\" >0.0300</td>\n",
       "            </tr>\n",
       "            <tr>\n",
       "                        <th id=\"T_8fb61c75_9dc9_11ec_b1c9_7085c2294e08level0_row15\" class=\"row_heading level0 row15\" >dummy</th>\n",
       "                        <td id=\"T_8fb61c75_9dc9_11ec_b1c9_7085c2294e08row15_col0\" class=\"data row15 col0\" >Dummy Classifier</td>\n",
       "                        <td id=\"T_8fb61c75_9dc9_11ec_b1c9_7085c2294e08row15_col1\" class=\"data row15 col1\" >0.2576</td>\n",
       "                        <td id=\"T_8fb61c75_9dc9_11ec_b1c9_7085c2294e08row15_col2\" class=\"data row15 col2\" >0.5000</td>\n",
       "                        <td id=\"T_8fb61c75_9dc9_11ec_b1c9_7085c2294e08row15_col3\" class=\"data row15 col3\" >0.2500</td>\n",
       "                        <td id=\"T_8fb61c75_9dc9_11ec_b1c9_7085c2294e08row15_col4\" class=\"data row15 col4\" >0.0664</td>\n",
       "                        <td id=\"T_8fb61c75_9dc9_11ec_b1c9_7085c2294e08row15_col5\" class=\"data row15 col5\" >0.1056</td>\n",
       "                        <td id=\"T_8fb61c75_9dc9_11ec_b1c9_7085c2294e08row15_col6\" class=\"data row15 col6\" >0.0000</td>\n",
       "                        <td id=\"T_8fb61c75_9dc9_11ec_b1c9_7085c2294e08row15_col7\" class=\"data row15 col7\" >0.0000</td>\n",
       "                        <td id=\"T_8fb61c75_9dc9_11ec_b1c9_7085c2294e08row15_col8\" class=\"data row15 col8\" >0.0120</td>\n",
       "            </tr>\n",
       "    </tbody></table>"
      ],
      "text/plain": [
       "<pandas.io.formats.style.Styler at 0x18846546850>"
      ]
     },
     "metadata": {},
     "output_type": "display_data"
    }
   ],
   "source": [
    "top10 = compare_models(sort='Accuracy', n_select=10, fold=5)"
   ]
  },
  {
   "cell_type": "code",
   "execution_count": 13,
   "metadata": {},
   "outputs": [
    {
     "data": {
      "text/html": [
       "<style  type=\"text/css\" >\n",
       "#T_dd131f00_9dc9_11ec_9f07_7085c2294e08row5_col0,#T_dd131f00_9dc9_11ec_9f07_7085c2294e08row5_col1,#T_dd131f00_9dc9_11ec_9f07_7085c2294e08row5_col2,#T_dd131f00_9dc9_11ec_9f07_7085c2294e08row5_col3,#T_dd131f00_9dc9_11ec_9f07_7085c2294e08row5_col4,#T_dd131f00_9dc9_11ec_9f07_7085c2294e08row5_col5,#T_dd131f00_9dc9_11ec_9f07_7085c2294e08row5_col6{\n",
       "            background:  yellow;\n",
       "        }</style><table id=\"T_dd131f00_9dc9_11ec_9f07_7085c2294e08\" ><thead>    <tr>        <th class=\"blank level0\" ></th>        <th class=\"col_heading level0 col0\" >Accuracy</th>        <th class=\"col_heading level0 col1\" >AUC</th>        <th class=\"col_heading level0 col2\" >Recall</th>        <th class=\"col_heading level0 col3\" >Prec.</th>        <th class=\"col_heading level0 col4\" >F1</th>        <th class=\"col_heading level0 col5\" >Kappa</th>        <th class=\"col_heading level0 col6\" >MCC</th>    </tr></thead><tbody>\n",
       "                <tr>\n",
       "                        <th id=\"T_dd131f00_9dc9_11ec_9f07_7085c2294e08level0_row0\" class=\"row_heading level0 row0\" >0</th>\n",
       "                        <td id=\"T_dd131f00_9dc9_11ec_9f07_7085c2294e08row0_col0\" class=\"data row0 col0\" >0.5688</td>\n",
       "                        <td id=\"T_dd131f00_9dc9_11ec_9f07_7085c2294e08row0_col1\" class=\"data row0 col1\" >0.7951</td>\n",
       "                        <td id=\"T_dd131f00_9dc9_11ec_9f07_7085c2294e08row0_col2\" class=\"data row0 col2\" >0.5664</td>\n",
       "                        <td id=\"T_dd131f00_9dc9_11ec_9f07_7085c2294e08row0_col3\" class=\"data row0 col3\" >0.5610</td>\n",
       "                        <td id=\"T_dd131f00_9dc9_11ec_9f07_7085c2294e08row0_col4\" class=\"data row0 col4\" >0.5619</td>\n",
       "                        <td id=\"T_dd131f00_9dc9_11ec_9f07_7085c2294e08row0_col5\" class=\"data row0 col5\" >0.4242</td>\n",
       "                        <td id=\"T_dd131f00_9dc9_11ec_9f07_7085c2294e08row0_col6\" class=\"data row0 col6\" >0.4257</td>\n",
       "            </tr>\n",
       "            <tr>\n",
       "                        <th id=\"T_dd131f00_9dc9_11ec_9f07_7085c2294e08level0_row1\" class=\"row_heading level0 row1\" >1</th>\n",
       "                        <td id=\"T_dd131f00_9dc9_11ec_9f07_7085c2294e08row1_col0\" class=\"data row1 col0\" >0.5291</td>\n",
       "                        <td id=\"T_dd131f00_9dc9_11ec_9f07_7085c2294e08row1_col1\" class=\"data row1 col1\" >0.7787</td>\n",
       "                        <td id=\"T_dd131f00_9dc9_11ec_9f07_7085c2294e08row1_col2\" class=\"data row1 col2\" >0.5288</td>\n",
       "                        <td id=\"T_dd131f00_9dc9_11ec_9f07_7085c2294e08row1_col3\" class=\"data row1 col3\" >0.5496</td>\n",
       "                        <td id=\"T_dd131f00_9dc9_11ec_9f07_7085c2294e08row1_col4\" class=\"data row1 col4\" >0.5213</td>\n",
       "                        <td id=\"T_dd131f00_9dc9_11ec_9f07_7085c2294e08row1_col5\" class=\"data row1 col5\" >0.3729</td>\n",
       "                        <td id=\"T_dd131f00_9dc9_11ec_9f07_7085c2294e08row1_col6\" class=\"data row1 col6\" >0.3795</td>\n",
       "            </tr>\n",
       "            <tr>\n",
       "                        <th id=\"T_dd131f00_9dc9_11ec_9f07_7085c2294e08level0_row2\" class=\"row_heading level0 row2\" >2</th>\n",
       "                        <td id=\"T_dd131f00_9dc9_11ec_9f07_7085c2294e08row2_col0\" class=\"data row2 col0\" >0.5229</td>\n",
       "                        <td id=\"T_dd131f00_9dc9_11ec_9f07_7085c2294e08row2_col1\" class=\"data row2 col1\" >0.7656</td>\n",
       "                        <td id=\"T_dd131f00_9dc9_11ec_9f07_7085c2294e08row2_col2\" class=\"data row2 col2\" >0.5180</td>\n",
       "                        <td id=\"T_dd131f00_9dc9_11ec_9f07_7085c2294e08row2_col3\" class=\"data row2 col3\" >0.5129</td>\n",
       "                        <td id=\"T_dd131f00_9dc9_11ec_9f07_7085c2294e08row2_col4\" class=\"data row2 col4\" >0.4940</td>\n",
       "                        <td id=\"T_dd131f00_9dc9_11ec_9f07_7085c2294e08row2_col5\" class=\"data row2 col5\" >0.3619</td>\n",
       "                        <td id=\"T_dd131f00_9dc9_11ec_9f07_7085c2294e08row2_col6\" class=\"data row2 col6\" >0.3730</td>\n",
       "            </tr>\n",
       "            <tr>\n",
       "                        <th id=\"T_dd131f00_9dc9_11ec_9f07_7085c2294e08level0_row3\" class=\"row_heading level0 row3\" >3</th>\n",
       "                        <td id=\"T_dd131f00_9dc9_11ec_9f07_7085c2294e08row3_col0\" class=\"data row3 col0\" >0.5229</td>\n",
       "                        <td id=\"T_dd131f00_9dc9_11ec_9f07_7085c2294e08row3_col1\" class=\"data row3 col1\" >0.7953</td>\n",
       "                        <td id=\"T_dd131f00_9dc9_11ec_9f07_7085c2294e08row3_col2\" class=\"data row3 col2\" >0.5233</td>\n",
       "                        <td id=\"T_dd131f00_9dc9_11ec_9f07_7085c2294e08row3_col3\" class=\"data row3 col3\" >0.5271</td>\n",
       "                        <td id=\"T_dd131f00_9dc9_11ec_9f07_7085c2294e08row3_col4\" class=\"data row3 col4\" >0.5001</td>\n",
       "                        <td id=\"T_dd131f00_9dc9_11ec_9f07_7085c2294e08row3_col5\" class=\"data row3 col5\" >0.3650</td>\n",
       "                        <td id=\"T_dd131f00_9dc9_11ec_9f07_7085c2294e08row3_col6\" class=\"data row3 col6\" >0.3740</td>\n",
       "            </tr>\n",
       "            <tr>\n",
       "                        <th id=\"T_dd131f00_9dc9_11ec_9f07_7085c2294e08level0_row4\" class=\"row_heading level0 row4\" >4</th>\n",
       "                        <td id=\"T_dd131f00_9dc9_11ec_9f07_7085c2294e08row4_col0\" class=\"data row4 col0\" >0.5123</td>\n",
       "                        <td id=\"T_dd131f00_9dc9_11ec_9f07_7085c2294e08row4_col1\" class=\"data row4 col1\" >0.7579</td>\n",
       "                        <td id=\"T_dd131f00_9dc9_11ec_9f07_7085c2294e08row4_col2\" class=\"data row4 col2\" >0.5119</td>\n",
       "                        <td id=\"T_dd131f00_9dc9_11ec_9f07_7085c2294e08row4_col3\" class=\"data row4 col3\" >0.5121</td>\n",
       "                        <td id=\"T_dd131f00_9dc9_11ec_9f07_7085c2294e08row4_col4\" class=\"data row4 col4\" >0.4856</td>\n",
       "                        <td id=\"T_dd131f00_9dc9_11ec_9f07_7085c2294e08row4_col5\" class=\"data row4 col5\" >0.3490</td>\n",
       "                        <td id=\"T_dd131f00_9dc9_11ec_9f07_7085c2294e08row4_col6\" class=\"data row4 col6\" >0.3599</td>\n",
       "            </tr>\n",
       "            <tr>\n",
       "                        <th id=\"T_dd131f00_9dc9_11ec_9f07_7085c2294e08level0_row5\" class=\"row_heading level0 row5\" >Mean</th>\n",
       "                        <td id=\"T_dd131f00_9dc9_11ec_9f07_7085c2294e08row5_col0\" class=\"data row5 col0\" >0.5312</td>\n",
       "                        <td id=\"T_dd131f00_9dc9_11ec_9f07_7085c2294e08row5_col1\" class=\"data row5 col1\" >0.7785</td>\n",
       "                        <td id=\"T_dd131f00_9dc9_11ec_9f07_7085c2294e08row5_col2\" class=\"data row5 col2\" >0.5297</td>\n",
       "                        <td id=\"T_dd131f00_9dc9_11ec_9f07_7085c2294e08row5_col3\" class=\"data row5 col3\" >0.5325</td>\n",
       "                        <td id=\"T_dd131f00_9dc9_11ec_9f07_7085c2294e08row5_col4\" class=\"data row5 col4\" >0.5126</td>\n",
       "                        <td id=\"T_dd131f00_9dc9_11ec_9f07_7085c2294e08row5_col5\" class=\"data row5 col5\" >0.3746</td>\n",
       "                        <td id=\"T_dd131f00_9dc9_11ec_9f07_7085c2294e08row5_col6\" class=\"data row5 col6\" >0.3824</td>\n",
       "            </tr>\n",
       "            <tr>\n",
       "                        <th id=\"T_dd131f00_9dc9_11ec_9f07_7085c2294e08level0_row6\" class=\"row_heading level0 row6\" >SD</th>\n",
       "                        <td id=\"T_dd131f00_9dc9_11ec_9f07_7085c2294e08row6_col0\" class=\"data row6 col0\" >0.0196</td>\n",
       "                        <td id=\"T_dd131f00_9dc9_11ec_9f07_7085c2294e08row6_col1\" class=\"data row6 col1\" >0.0151</td>\n",
       "                        <td id=\"T_dd131f00_9dc9_11ec_9f07_7085c2294e08row6_col2\" class=\"data row6 col2\" >0.0192</td>\n",
       "                        <td id=\"T_dd131f00_9dc9_11ec_9f07_7085c2294e08row6_col3\" class=\"data row6 col3\" >0.0196</td>\n",
       "                        <td id=\"T_dd131f00_9dc9_11ec_9f07_7085c2294e08row6_col4\" class=\"data row6 col4\" >0.0273</td>\n",
       "                        <td id=\"T_dd131f00_9dc9_11ec_9f07_7085c2294e08row6_col5\" class=\"data row6 col5\" >0.0260</td>\n",
       "                        <td id=\"T_dd131f00_9dc9_11ec_9f07_7085c2294e08row6_col6\" class=\"data row6 col6\" >0.0226</td>\n",
       "            </tr>\n",
       "    </tbody></table>"
      ],
      "text/plain": [
       "<pandas.io.formats.style.Styler at 0x188470ece50>"
      ]
     },
     "metadata": {},
     "output_type": "display_data"
    }
   ],
   "source": [
    "tuned_top10 = [tune_model(i, fold=5) for i in top10[1:]]"
   ]
  },
  {
   "cell_type": "code",
   "execution_count": 14,
   "metadata": {},
   "outputs": [
    {
     "data": {
      "text/html": [
       "<style  type=\"text/css\" >\n",
       "#T_f74f4184_9dc9_11ec_b91a_7085c2294e08row10_col0,#T_f74f4184_9dc9_11ec_b91a_7085c2294e08row10_col1,#T_f74f4184_9dc9_11ec_b91a_7085c2294e08row10_col2,#T_f74f4184_9dc9_11ec_b91a_7085c2294e08row10_col3,#T_f74f4184_9dc9_11ec_b91a_7085c2294e08row10_col4,#T_f74f4184_9dc9_11ec_b91a_7085c2294e08row10_col5,#T_f74f4184_9dc9_11ec_b91a_7085c2294e08row10_col6{\n",
       "            background:  yellow;\n",
       "        }</style><table id=\"T_f74f4184_9dc9_11ec_b91a_7085c2294e08\" ><thead>    <tr>        <th class=\"blank level0\" ></th>        <th class=\"col_heading level0 col0\" >Accuracy</th>        <th class=\"col_heading level0 col1\" >AUC</th>        <th class=\"col_heading level0 col2\" >Recall</th>        <th class=\"col_heading level0 col3\" >Prec.</th>        <th class=\"col_heading level0 col4\" >F1</th>        <th class=\"col_heading level0 col5\" >Kappa</th>        <th class=\"col_heading level0 col6\" >MCC</th>    </tr></thead><tbody>\n",
       "                <tr>\n",
       "                        <th id=\"T_f74f4184_9dc9_11ec_b91a_7085c2294e08level0_row0\" class=\"row_heading level0 row0\" >0</th>\n",
       "                        <td id=\"T_f74f4184_9dc9_11ec_b91a_7085c2294e08row0_col0\" class=\"data row0 col0\" >0.8415</td>\n",
       "                        <td id=\"T_f74f4184_9dc9_11ec_b91a_7085c2294e08row0_col1\" class=\"data row0 col1\" >0.9738</td>\n",
       "                        <td id=\"T_f74f4184_9dc9_11ec_b91a_7085c2294e08row0_col2\" class=\"data row0 col2\" >0.8408</td>\n",
       "                        <td id=\"T_f74f4184_9dc9_11ec_b91a_7085c2294e08row0_col3\" class=\"data row0 col3\" >0.8461</td>\n",
       "                        <td id=\"T_f74f4184_9dc9_11ec_b91a_7085c2294e08row0_col4\" class=\"data row0 col4\" >0.8399</td>\n",
       "                        <td id=\"T_f74f4184_9dc9_11ec_b91a_7085c2294e08row0_col5\" class=\"data row0 col5\" >0.7884</td>\n",
       "                        <td id=\"T_f74f4184_9dc9_11ec_b91a_7085c2294e08row0_col6\" class=\"data row0 col6\" >0.7909</td>\n",
       "            </tr>\n",
       "            <tr>\n",
       "                        <th id=\"T_f74f4184_9dc9_11ec_b91a_7085c2294e08level0_row1\" class=\"row_heading level0 row1\" >1</th>\n",
       "                        <td id=\"T_f74f4184_9dc9_11ec_b91a_7085c2294e08row1_col0\" class=\"data row1 col0\" >0.8415</td>\n",
       "                        <td id=\"T_f74f4184_9dc9_11ec_b91a_7085c2294e08row1_col1\" class=\"data row1 col1\" >0.9631</td>\n",
       "                        <td id=\"T_f74f4184_9dc9_11ec_b91a_7085c2294e08row1_col2\" class=\"data row1 col2\" >0.8418</td>\n",
       "                        <td id=\"T_f74f4184_9dc9_11ec_b91a_7085c2294e08row1_col3\" class=\"data row1 col3\" >0.8434</td>\n",
       "                        <td id=\"T_f74f4184_9dc9_11ec_b91a_7085c2294e08row1_col4\" class=\"data row1 col4\" >0.8395</td>\n",
       "                        <td id=\"T_f74f4184_9dc9_11ec_b91a_7085c2294e08row1_col5\" class=\"data row1 col5\" >0.7886</td>\n",
       "                        <td id=\"T_f74f4184_9dc9_11ec_b91a_7085c2294e08row1_col6\" class=\"data row1 col6\" >0.7905</td>\n",
       "            </tr>\n",
       "            <tr>\n",
       "                        <th id=\"T_f74f4184_9dc9_11ec_b91a_7085c2294e08level0_row2\" class=\"row_heading level0 row2\" >2</th>\n",
       "                        <td id=\"T_f74f4184_9dc9_11ec_b91a_7085c2294e08row2_col0\" class=\"data row2 col0\" >0.7805</td>\n",
       "                        <td id=\"T_f74f4184_9dc9_11ec_b91a_7085c2294e08row2_col1\" class=\"data row2 col1\" >0.9426</td>\n",
       "                        <td id=\"T_f74f4184_9dc9_11ec_b91a_7085c2294e08row2_col2\" class=\"data row2 col2\" >0.7806</td>\n",
       "                        <td id=\"T_f74f4184_9dc9_11ec_b91a_7085c2294e08row2_col3\" class=\"data row2 col3\" >0.7809</td>\n",
       "                        <td id=\"T_f74f4184_9dc9_11ec_b91a_7085c2294e08row2_col4\" class=\"data row2 col4\" >0.7795</td>\n",
       "                        <td id=\"T_f74f4184_9dc9_11ec_b91a_7085c2294e08row2_col5\" class=\"data row2 col5\" >0.7072</td>\n",
       "                        <td id=\"T_f74f4184_9dc9_11ec_b91a_7085c2294e08row2_col6\" class=\"data row2 col6\" >0.7079</td>\n",
       "            </tr>\n",
       "            <tr>\n",
       "                        <th id=\"T_f74f4184_9dc9_11ec_b91a_7085c2294e08level0_row3\" class=\"row_heading level0 row3\" >3</th>\n",
       "                        <td id=\"T_f74f4184_9dc9_11ec_b91a_7085c2294e08row3_col0\" class=\"data row3 col0\" >0.7805</td>\n",
       "                        <td id=\"T_f74f4184_9dc9_11ec_b91a_7085c2294e08row3_col1\" class=\"data row3 col1\" >0.9327</td>\n",
       "                        <td id=\"T_f74f4184_9dc9_11ec_b91a_7085c2294e08row3_col2\" class=\"data row3 col2\" >0.7804</td>\n",
       "                        <td id=\"T_f74f4184_9dc9_11ec_b91a_7085c2294e08row3_col3\" class=\"data row3 col3\" >0.7872</td>\n",
       "                        <td id=\"T_f74f4184_9dc9_11ec_b91a_7085c2294e08row3_col4\" class=\"data row3 col4\" >0.7778</td>\n",
       "                        <td id=\"T_f74f4184_9dc9_11ec_b91a_7085c2294e08row3_col5\" class=\"data row3 col5\" >0.7070</td>\n",
       "                        <td id=\"T_f74f4184_9dc9_11ec_b91a_7085c2294e08row3_col6\" class=\"data row3 col6\" >0.7107</td>\n",
       "            </tr>\n",
       "            <tr>\n",
       "                        <th id=\"T_f74f4184_9dc9_11ec_b91a_7085c2294e08level0_row4\" class=\"row_heading level0 row4\" >4</th>\n",
       "                        <td id=\"T_f74f4184_9dc9_11ec_b91a_7085c2294e08row4_col0\" class=\"data row4 col0\" >0.7669</td>\n",
       "                        <td id=\"T_f74f4184_9dc9_11ec_b91a_7085c2294e08row4_col1\" class=\"data row4 col1\" >0.9316</td>\n",
       "                        <td id=\"T_f74f4184_9dc9_11ec_b91a_7085c2294e08row4_col2\" class=\"data row4 col2\" >0.7661</td>\n",
       "                        <td id=\"T_f74f4184_9dc9_11ec_b91a_7085c2294e08row4_col3\" class=\"data row4 col3\" >0.7666</td>\n",
       "                        <td id=\"T_f74f4184_9dc9_11ec_b91a_7085c2294e08row4_col4\" class=\"data row4 col4\" >0.7666</td>\n",
       "                        <td id=\"T_f74f4184_9dc9_11ec_b91a_7085c2294e08row4_col5\" class=\"data row4 col5\" >0.6889</td>\n",
       "                        <td id=\"T_f74f4184_9dc9_11ec_b91a_7085c2294e08row4_col6\" class=\"data row4 col6\" >0.6890</td>\n",
       "            </tr>\n",
       "            <tr>\n",
       "                        <th id=\"T_f74f4184_9dc9_11ec_b91a_7085c2294e08level0_row5\" class=\"row_heading level0 row5\" >5</th>\n",
       "                        <td id=\"T_f74f4184_9dc9_11ec_b91a_7085c2294e08row5_col0\" class=\"data row5 col0\" >0.8405</td>\n",
       "                        <td id=\"T_f74f4184_9dc9_11ec_b91a_7085c2294e08row5_col1\" class=\"data row5 col1\" >0.9637</td>\n",
       "                        <td id=\"T_f74f4184_9dc9_11ec_b91a_7085c2294e08row5_col2\" class=\"data row5 col2\" >0.8405</td>\n",
       "                        <td id=\"T_f74f4184_9dc9_11ec_b91a_7085c2294e08row5_col3\" class=\"data row5 col3\" >0.8456</td>\n",
       "                        <td id=\"T_f74f4184_9dc9_11ec_b91a_7085c2294e08row5_col4\" class=\"data row5 col4\" >0.8403</td>\n",
       "                        <td id=\"T_f74f4184_9dc9_11ec_b91a_7085c2294e08row5_col5\" class=\"data row5 col5\" >0.7870</td>\n",
       "                        <td id=\"T_f74f4184_9dc9_11ec_b91a_7085c2294e08row5_col6\" class=\"data row5 col6\" >0.7887</td>\n",
       "            </tr>\n",
       "            <tr>\n",
       "                        <th id=\"T_f74f4184_9dc9_11ec_b91a_7085c2294e08level0_row6\" class=\"row_heading level0 row6\" >6</th>\n",
       "                        <td id=\"T_f74f4184_9dc9_11ec_b91a_7085c2294e08row6_col0\" class=\"data row6 col0\" >0.8037</td>\n",
       "                        <td id=\"T_f74f4184_9dc9_11ec_b91a_7085c2294e08row6_col1\" class=\"data row6 col1\" >0.9455</td>\n",
       "                        <td id=\"T_f74f4184_9dc9_11ec_b91a_7085c2294e08row6_col2\" class=\"data row6 col2\" >0.8032</td>\n",
       "                        <td id=\"T_f74f4184_9dc9_11ec_b91a_7085c2294e08row6_col3\" class=\"data row6 col3\" >0.8062</td>\n",
       "                        <td id=\"T_f74f4184_9dc9_11ec_b91a_7085c2294e08row6_col4\" class=\"data row6 col4\" >0.7987</td>\n",
       "                        <td id=\"T_f74f4184_9dc9_11ec_b91a_7085c2294e08row6_col5\" class=\"data row6 col5\" >0.7381</td>\n",
       "                        <td id=\"T_f74f4184_9dc9_11ec_b91a_7085c2294e08row6_col6\" class=\"data row6 col6\" >0.7417</td>\n",
       "            </tr>\n",
       "            <tr>\n",
       "                        <th id=\"T_f74f4184_9dc9_11ec_b91a_7085c2294e08level0_row7\" class=\"row_heading level0 row7\" >7</th>\n",
       "                        <td id=\"T_f74f4184_9dc9_11ec_b91a_7085c2294e08row7_col0\" class=\"data row7 col0\" >0.7853</td>\n",
       "                        <td id=\"T_f74f4184_9dc9_11ec_b91a_7085c2294e08row7_col1\" class=\"data row7 col1\" >0.9471</td>\n",
       "                        <td id=\"T_f74f4184_9dc9_11ec_b91a_7085c2294e08row7_col2\" class=\"data row7 col2\" >0.7849</td>\n",
       "                        <td id=\"T_f74f4184_9dc9_11ec_b91a_7085c2294e08row7_col3\" class=\"data row7 col3\" >0.7862</td>\n",
       "                        <td id=\"T_f74f4184_9dc9_11ec_b91a_7085c2294e08row7_col4\" class=\"data row7 col4\" >0.7845</td>\n",
       "                        <td id=\"T_f74f4184_9dc9_11ec_b91a_7085c2294e08row7_col5\" class=\"data row7 col5\" >0.7134</td>\n",
       "                        <td id=\"T_f74f4184_9dc9_11ec_b91a_7085c2294e08row7_col6\" class=\"data row7 col6\" >0.7140</td>\n",
       "            </tr>\n",
       "            <tr>\n",
       "                        <th id=\"T_f74f4184_9dc9_11ec_b91a_7085c2294e08level0_row8\" class=\"row_heading level0 row8\" >8</th>\n",
       "                        <td id=\"T_f74f4184_9dc9_11ec_b91a_7085c2294e08row8_col0\" class=\"data row8 col0\" >0.7914</td>\n",
       "                        <td id=\"T_f74f4184_9dc9_11ec_b91a_7085c2294e08row8_col1\" class=\"data row8 col1\" >0.9475</td>\n",
       "                        <td id=\"T_f74f4184_9dc9_11ec_b91a_7085c2294e08row8_col2\" class=\"data row8 col2\" >0.7921</td>\n",
       "                        <td id=\"T_f74f4184_9dc9_11ec_b91a_7085c2294e08row8_col3\" class=\"data row8 col3\" >0.7937</td>\n",
       "                        <td id=\"T_f74f4184_9dc9_11ec_b91a_7085c2294e08row8_col4\" class=\"data row8 col4\" >0.7906</td>\n",
       "                        <td id=\"T_f74f4184_9dc9_11ec_b91a_7085c2294e08row8_col5\" class=\"data row8 col5\" >0.7216</td>\n",
       "                        <td id=\"T_f74f4184_9dc9_11ec_b91a_7085c2294e08row8_col6\" class=\"data row8 col6\" >0.7228</td>\n",
       "            </tr>\n",
       "            <tr>\n",
       "                        <th id=\"T_f74f4184_9dc9_11ec_b91a_7085c2294e08level0_row9\" class=\"row_heading level0 row9\" >9</th>\n",
       "                        <td id=\"T_f74f4184_9dc9_11ec_b91a_7085c2294e08row9_col0\" class=\"data row9 col0\" >0.7975</td>\n",
       "                        <td id=\"T_f74f4184_9dc9_11ec_b91a_7085c2294e08row9_col1\" class=\"data row9 col1\" >0.9377</td>\n",
       "                        <td id=\"T_f74f4184_9dc9_11ec_b91a_7085c2294e08row9_col2\" class=\"data row9 col2\" >0.7961</td>\n",
       "                        <td id=\"T_f74f4184_9dc9_11ec_b91a_7085c2294e08row9_col3\" class=\"data row9 col3\" >0.7950</td>\n",
       "                        <td id=\"T_f74f4184_9dc9_11ec_b91a_7085c2294e08row9_col4\" class=\"data row9 col4\" >0.7931</td>\n",
       "                        <td id=\"T_f74f4184_9dc9_11ec_b91a_7085c2294e08row9_col5\" class=\"data row9 col5\" >0.7298</td>\n",
       "                        <td id=\"T_f74f4184_9dc9_11ec_b91a_7085c2294e08row9_col6\" class=\"data row9 col6\" >0.7318</td>\n",
       "            </tr>\n",
       "            <tr>\n",
       "                        <th id=\"T_f74f4184_9dc9_11ec_b91a_7085c2294e08level0_row10\" class=\"row_heading level0 row10\" >Mean</th>\n",
       "                        <td id=\"T_f74f4184_9dc9_11ec_b91a_7085c2294e08row10_col0\" class=\"data row10 col0\" >0.8029</td>\n",
       "                        <td id=\"T_f74f4184_9dc9_11ec_b91a_7085c2294e08row10_col1\" class=\"data row10 col1\" >0.9485</td>\n",
       "                        <td id=\"T_f74f4184_9dc9_11ec_b91a_7085c2294e08row10_col2\" class=\"data row10 col2\" >0.8026</td>\n",
       "                        <td id=\"T_f74f4184_9dc9_11ec_b91a_7085c2294e08row10_col3\" class=\"data row10 col3\" >0.8051</td>\n",
       "                        <td id=\"T_f74f4184_9dc9_11ec_b91a_7085c2294e08row10_col4\" class=\"data row10 col4\" >0.8011</td>\n",
       "                        <td id=\"T_f74f4184_9dc9_11ec_b91a_7085c2294e08row10_col5\" class=\"data row10 col5\" >0.7370</td>\n",
       "                        <td id=\"T_f74f4184_9dc9_11ec_b91a_7085c2294e08row10_col6\" class=\"data row10 col6\" >0.7388</td>\n",
       "            </tr>\n",
       "            <tr>\n",
       "                        <th id=\"T_f74f4184_9dc9_11ec_b91a_7085c2294e08level0_row11\" class=\"row_heading level0 row11\" >SD</th>\n",
       "                        <td id=\"T_f74f4184_9dc9_11ec_b91a_7085c2294e08row11_col0\" class=\"data row11 col0\" >0.0268</td>\n",
       "                        <td id=\"T_f74f4184_9dc9_11ec_b91a_7085c2294e08row11_col1\" class=\"data row11 col1\" >0.0133</td>\n",
       "                        <td id=\"T_f74f4184_9dc9_11ec_b91a_7085c2294e08row11_col2\" class=\"data row11 col2\" >0.0268</td>\n",
       "                        <td id=\"T_f74f4184_9dc9_11ec_b91a_7085c2294e08row11_col3\" class=\"data row11 col3\" >0.0279</td>\n",
       "                        <td id=\"T_f74f4184_9dc9_11ec_b91a_7085c2294e08row11_col4\" class=\"data row11 col4\" >0.0268</td>\n",
       "                        <td id=\"T_f74f4184_9dc9_11ec_b91a_7085c2294e08row11_col5\" class=\"data row11 col5\" >0.0357</td>\n",
       "                        <td id=\"T_f74f4184_9dc9_11ec_b91a_7085c2294e08row11_col6\" class=\"data row11 col6\" >0.0361</td>\n",
       "            </tr>\n",
       "    </tbody></table>"
      ],
      "text/plain": [
       "<pandas.io.formats.style.Styler at 0x1884b5d1f40>"
      ]
     },
     "metadata": {},
     "output_type": "display_data"
    }
   ],
   "source": [
    "blender_top10 = blend_models(estimator_list=tuned_top10)"
   ]
  },
  {
   "cell_type": "code",
   "execution_count": 15,
   "metadata": {},
   "outputs": [],
   "source": [
    "final_model = finalize_model(blender_top10)"
   ]
  },
  {
   "cell_type": "code",
   "execution_count": 16,
   "metadata": {},
   "outputs": [],
   "source": [
    "prediction = predict_model(final_model, data=test)"
   ]
  },
  {
   "cell_type": "code",
   "execution_count": null,
   "metadata": {},
   "outputs": [],
   "source": []
  },
  {
   "cell_type": "code",
   "execution_count": 17,
   "metadata": {},
   "outputs": [
    {
     "data": {
      "text/plain": [
       "0       0\n",
       "1       0\n",
       "2       1\n",
       "3       3\n",
       "4       2\n",
       "       ..\n",
       "9338    3\n",
       "9339    1\n",
       "9340    2\n",
       "9341    0\n",
       "9342    3\n",
       "Name: Label, Length: 9343, dtype: int32"
      ]
     },
     "execution_count": 17,
     "metadata": {},
     "output_type": "execute_result"
    }
   ],
   "source": [
    "prediction['Label']"
   ]
  },
  {
   "cell_type": "markdown",
   "metadata": {},
   "source": [
    "## XGBoost"
   ]
  },
  {
   "cell_type": "code",
   "execution_count": 79,
   "metadata": {},
   "outputs": [],
   "source": [
    "import xgboost as xgb"
   ]
  },
  {
   "cell_type": "code",
   "execution_count": 80,
   "metadata": {},
   "outputs": [],
   "source": [
    "dtrain = xgb.DMatrix(data=train_X , label=train_y)\n",
    "dtest = xgb.DMatrix(data=test_X , label=test_y)"
   ]
  },
  {
   "cell_type": "code",
   "execution_count": 81,
   "metadata": {},
   "outputs": [],
   "source": [
    "params = { 'max_depth':3,\n",
    "           'eta': 0.1,\n",
    "           'objective':'binary:logistic',  # 예측 결정 함수 : 이진 분류\n",
    "           'eval_metric':'logloss',\n",
    "           'early_stoppings':100   # 100번동안 성능향상 없으면 학습 조기종료\n",
    "        }\n",
    "\n",
    "# 학습 횟수\n",
    "num_rounds = 400"
   ]
  },
  {
   "cell_type": "code",
   "execution_count": 82,
   "metadata": {
    "scrolled": true
   },
   "outputs": [
    {
     "name": "stdout",
     "output_type": "stream",
     "text": [
      "[10:52:57] WARNING: ..\\src\\learner.cc:576: \n",
      "Parameters: { \"early_stoppings\" } might not be used.\n",
      "\n",
      "  This could be a false alarm, with some parameters getting used by language bindings but\n",
      "  then being mistakenly passed down to XGBoost core, or some parameter actually being used\n",
      "  but getting flagged wrongly here. Please open an issue if you find any such cases.\n",
      "\n",
      "\n"
     ]
    },
    {
     "ename": "XGBoostError",
     "evalue": "[10:52:57] c:\\ci\\xgboost-split_1638290375667\\work\\src\\objective\\regression_obj.cu:120: label must be in [0,1] for logistic regression",
     "output_type": "error",
     "traceback": [
      "\u001b[1;31m---------------------------------------------------------------------------\u001b[0m",
      "\u001b[1;31mXGBoostError\u001b[0m                              Traceback (most recent call last)",
      "\u001b[1;32m<ipython-input-82-85240bde7ec5>\u001b[0m in \u001b[0;36m<module>\u001b[1;34m\u001b[0m\n\u001b[0;32m      3\u001b[0m \u001b[1;33m\u001b[0m\u001b[0m\n\u001b[0;32m      4\u001b[0m \u001b[1;31m# 하이퍼 파라미터와 early stopping 파라미터를 train( ) 함수의 파라미터로 전달\u001b[0m\u001b[1;33m\u001b[0m\u001b[1;33m\u001b[0m\u001b[1;33m\u001b[0m\u001b[0m\n\u001b[1;32m----> 5\u001b[1;33m \u001b[0mxgb_model\u001b[0m \u001b[1;33m=\u001b[0m \u001b[0mxgb\u001b[0m\u001b[1;33m.\u001b[0m\u001b[0mtrain\u001b[0m\u001b[1;33m(\u001b[0m\u001b[0mparams\u001b[0m \u001b[1;33m=\u001b[0m \u001b[0mparams\u001b[0m\u001b[1;33m,\u001b[0m \u001b[0mdtrain\u001b[0m\u001b[1;33m=\u001b[0m\u001b[0mdtrain\u001b[0m\u001b[1;33m,\u001b[0m \u001b[0mnum_boost_round\u001b[0m\u001b[1;33m=\u001b[0m\u001b[0mnum_rounds\u001b[0m\u001b[1;33m,\u001b[0m \u001b[0mevals\u001b[0m\u001b[1;33m=\u001b[0m\u001b[0mwlist\u001b[0m\u001b[1;33m)\u001b[0m\u001b[1;33m\u001b[0m\u001b[1;33m\u001b[0m\u001b[0m\n\u001b[0m\u001b[0;32m      6\u001b[0m \u001b[0mxgb_model\u001b[0m\u001b[1;33m\u001b[0m\u001b[1;33m\u001b[0m\u001b[0m\n",
      "\u001b[1;32m~\\anaconda3\\lib\\site-packages\\xgboost\\training.py\u001b[0m in \u001b[0;36mtrain\u001b[1;34m(params, dtrain, num_boost_round, evals, obj, feval, maximize, early_stopping_rounds, evals_result, verbose_eval, xgb_model, callbacks)\u001b[0m\n\u001b[0;32m    186\u001b[0m     \u001b[0mBooster\u001b[0m \u001b[1;33m:\u001b[0m \u001b[0ma\u001b[0m \u001b[0mtrained\u001b[0m \u001b[0mbooster\u001b[0m \u001b[0mmodel\u001b[0m\u001b[1;33m\u001b[0m\u001b[1;33m\u001b[0m\u001b[0m\n\u001b[0;32m    187\u001b[0m     \"\"\"\n\u001b[1;32m--> 188\u001b[1;33m     bst = _train_internal(params, dtrain,\n\u001b[0m\u001b[0;32m    189\u001b[0m                           \u001b[0mnum_boost_round\u001b[0m\u001b[1;33m=\u001b[0m\u001b[0mnum_boost_round\u001b[0m\u001b[1;33m,\u001b[0m\u001b[1;33m\u001b[0m\u001b[1;33m\u001b[0m\u001b[0m\n\u001b[0;32m    190\u001b[0m                           \u001b[0mevals\u001b[0m\u001b[1;33m=\u001b[0m\u001b[0mevals\u001b[0m\u001b[1;33m,\u001b[0m\u001b[1;33m\u001b[0m\u001b[1;33m\u001b[0m\u001b[0m\n",
      "\u001b[1;32m~\\anaconda3\\lib\\site-packages\\xgboost\\training.py\u001b[0m in \u001b[0;36m_train_internal\u001b[1;34m(params, dtrain, num_boost_round, evals, obj, feval, xgb_model, callbacks, evals_result, maximize, verbose_eval, early_stopping_rounds)\u001b[0m\n\u001b[0;32m     79\u001b[0m         \u001b[1;32mif\u001b[0m \u001b[0mcallbacks\u001b[0m\u001b[1;33m.\u001b[0m\u001b[0mbefore_iteration\u001b[0m\u001b[1;33m(\u001b[0m\u001b[0mbst\u001b[0m\u001b[1;33m,\u001b[0m \u001b[0mi\u001b[0m\u001b[1;33m,\u001b[0m \u001b[0mdtrain\u001b[0m\u001b[1;33m,\u001b[0m \u001b[0mevals\u001b[0m\u001b[1;33m)\u001b[0m\u001b[1;33m:\u001b[0m\u001b[1;33m\u001b[0m\u001b[1;33m\u001b[0m\u001b[0m\n\u001b[0;32m     80\u001b[0m             \u001b[1;32mbreak\u001b[0m\u001b[1;33m\u001b[0m\u001b[1;33m\u001b[0m\u001b[0m\n\u001b[1;32m---> 81\u001b[1;33m         \u001b[0mbst\u001b[0m\u001b[1;33m.\u001b[0m\u001b[0mupdate\u001b[0m\u001b[1;33m(\u001b[0m\u001b[0mdtrain\u001b[0m\u001b[1;33m,\u001b[0m \u001b[0mi\u001b[0m\u001b[1;33m,\u001b[0m \u001b[0mobj\u001b[0m\u001b[1;33m)\u001b[0m\u001b[1;33m\u001b[0m\u001b[1;33m\u001b[0m\u001b[0m\n\u001b[0m\u001b[0;32m     82\u001b[0m         \u001b[1;32mif\u001b[0m \u001b[0mcallbacks\u001b[0m\u001b[1;33m.\u001b[0m\u001b[0mafter_iteration\u001b[0m\u001b[1;33m(\u001b[0m\u001b[0mbst\u001b[0m\u001b[1;33m,\u001b[0m \u001b[0mi\u001b[0m\u001b[1;33m,\u001b[0m \u001b[0mdtrain\u001b[0m\u001b[1;33m,\u001b[0m \u001b[0mevals\u001b[0m\u001b[1;33m)\u001b[0m\u001b[1;33m:\u001b[0m\u001b[1;33m\u001b[0m\u001b[1;33m\u001b[0m\u001b[0m\n\u001b[0;32m     83\u001b[0m             \u001b[1;32mbreak\u001b[0m\u001b[1;33m\u001b[0m\u001b[1;33m\u001b[0m\u001b[0m\n",
      "\u001b[1;32m~\\anaconda3\\lib\\site-packages\\xgboost\\core.py\u001b[0m in \u001b[0;36mupdate\u001b[1;34m(self, dtrain, iteration, fobj)\u001b[0m\n\u001b[0;32m   1678\u001b[0m \u001b[1;33m\u001b[0m\u001b[0m\n\u001b[0;32m   1679\u001b[0m         \u001b[1;32mif\u001b[0m \u001b[0mfobj\u001b[0m \u001b[1;32mis\u001b[0m \u001b[1;32mNone\u001b[0m\u001b[1;33m:\u001b[0m\u001b[1;33m\u001b[0m\u001b[1;33m\u001b[0m\u001b[0m\n\u001b[1;32m-> 1680\u001b[1;33m             _check_call(_LIB.XGBoosterUpdateOneIter(self.handle,\n\u001b[0m\u001b[0;32m   1681\u001b[0m                                                     \u001b[0mctypes\u001b[0m\u001b[1;33m.\u001b[0m\u001b[0mc_int\u001b[0m\u001b[1;33m(\u001b[0m\u001b[0miteration\u001b[0m\u001b[1;33m)\u001b[0m\u001b[1;33m,\u001b[0m\u001b[1;33m\u001b[0m\u001b[1;33m\u001b[0m\u001b[0m\n\u001b[0;32m   1682\u001b[0m                                                     dtrain.handle))\n",
      "\u001b[1;32m~\\anaconda3\\lib\\site-packages\\xgboost\\core.py\u001b[0m in \u001b[0;36m_check_call\u001b[1;34m(ret)\u001b[0m\n\u001b[0;32m    216\u001b[0m     \"\"\"\n\u001b[0;32m    217\u001b[0m     \u001b[1;32mif\u001b[0m \u001b[0mret\u001b[0m \u001b[1;33m!=\u001b[0m \u001b[1;36m0\u001b[0m\u001b[1;33m:\u001b[0m\u001b[1;33m\u001b[0m\u001b[1;33m\u001b[0m\u001b[0m\n\u001b[1;32m--> 218\u001b[1;33m         \u001b[1;32mraise\u001b[0m \u001b[0mXGBoostError\u001b[0m\u001b[1;33m(\u001b[0m\u001b[0mpy_str\u001b[0m\u001b[1;33m(\u001b[0m\u001b[0m_LIB\u001b[0m\u001b[1;33m.\u001b[0m\u001b[0mXGBGetLastError\u001b[0m\u001b[1;33m(\u001b[0m\u001b[1;33m)\u001b[0m\u001b[1;33m)\u001b[0m\u001b[1;33m)\u001b[0m\u001b[1;33m\u001b[0m\u001b[1;33m\u001b[0m\u001b[0m\n\u001b[0m\u001b[0;32m    219\u001b[0m \u001b[1;33m\u001b[0m\u001b[0m\n\u001b[0;32m    220\u001b[0m \u001b[1;33m\u001b[0m\u001b[0m\n",
      "\u001b[1;31mXGBoostError\u001b[0m: [10:52:57] c:\\ci\\xgboost-split_1638290375667\\work\\src\\objective\\regression_obj.cu:120: label must be in [0,1] for logistic regression"
     ]
    }
   ],
   "source": [
    "# 데이터를 학습용은 ‘train’ , 검증용은 ‘eval’로 표시\n",
    "wlist = [(dtrain,'train'),(dtest,'eval') ]\n",
    "\n",
    "# 하이퍼 파라미터와 early stopping 파라미터를 train( ) 함수의 파라미터로 전달\n",
    "xgb_model = xgb.train(params = params, dtrain=dtrain, num_boost_round=num_rounds, evals=wlist)\n",
    "xgb_model"
   ]
  },
  {
   "cell_type": "code",
   "execution_count": null,
   "metadata": {},
   "outputs": [],
   "source": []
  },
  {
   "cell_type": "markdown",
   "metadata": {},
   "source": [
    "## stacking 앙상블"
   ]
  },
  {
   "cell_type": "code",
   "execution_count": 83,
   "metadata": {},
   "outputs": [],
   "source": [
    "from sklearn.neighbors import KNeighborsClassifier\n",
    "from sklearn.ensemble import RandomForestClassifier\n",
    "from sklearn.ensemble import AdaBoostClassifier\n",
    "from sklearn.tree import DecisionTreeClassifier\n",
    "from sklearn.linear_model import LogisticRegression"
   ]
  },
  {
   "cell_type": "code",
   "execution_count": 84,
   "metadata": {},
   "outputs": [],
   "source": [
    "# 개별 ML 모델을 위한 Classifier 생성.\n",
    "knn_clf  = KNeighborsClassifier(n_neighbors=4)\n",
    "rf_clf = RandomForestClassifier(n_estimators=100, random_state=100)\n",
    "dt_clf = DecisionTreeClassifier()\n",
    "ada_clf = AdaBoostClassifier(n_estimators=100)\n",
    "\n",
    "# 최종 Stacking 모델을 위한 Classifier생성. \n",
    "lr_final = LogisticRegression(C=10)"
   ]
  },
  {
   "cell_type": "code",
   "execution_count": 85,
   "metadata": {},
   "outputs": [
    {
     "data": {
      "text/plain": [
       "AdaBoostClassifier(n_estimators=100)"
      ]
     },
     "execution_count": 85,
     "metadata": {},
     "output_type": "execute_result"
    }
   ],
   "source": [
    "# 개별 모델들을 학습. \n",
    "knn_clf.fit(train_X, train_y)\n",
    "rf_clf.fit(train_X, train_y)\n",
    "dt_clf.fit(train_X, train_y)\n",
    "ada_clf.fit(train_X, train_y)"
   ]
  },
  {
   "cell_type": "code",
   "execution_count": 88,
   "metadata": {},
   "outputs": [
    {
     "name": "stdout",
     "output_type": "stream",
     "text": [
      "KNN 정확도: 0.5012\n",
      "랜덤 포레스트 정확도: 0.8998\n",
      "결정 트리 정확도: 0.6146\n",
      "에이다부스트 정확도: 0.7476 :\n"
     ]
    }
   ],
   "source": [
    "knn_pred = knn_clf.predict(test_X)\n",
    "rf_pred = rf_clf.predict(test_X)\n",
    "dt_pred = dt_clf.predict(test_X)\n",
    "ada_pred = ada_clf.predict(test_X)\n",
    "\n",
    "print('KNN 정확도: {0:.4f}'.format(accuracy_score(test_y, knn_pred)))\n",
    "print('랜덤 포레스트 정확도: {0:.4f}'.format(accuracy_score(test_y, rf_pred)))\n",
    "print('결정 트리 정확도: {0:.4f}'.format(accuracy_score(test_y, dt_pred)))\n",
    "print('에이다부스트 정확도: {0:.4f} :'.format(accuracy_score(test_y, ada_pred)))"
   ]
  },
  {
   "cell_type": "code",
   "execution_count": 89,
   "metadata": {},
   "outputs": [
    {
     "name": "stdout",
     "output_type": "stream",
     "text": [
      "(4, 9343)\n",
      "(9343, 4)\n"
     ]
    }
   ],
   "source": [
    "pred = np.array([knn_pred, rf_pred, dt_pred, ada_pred])\n",
    "print(pred.shape)\n",
    "\n",
    "# transpose를 이용해 행과 열의 위치 교환. 컬럼 레벨로 각 알고리즘의 예측 결과를 피처로 만듦. \n",
    "pred = np.transpose(pred)\n",
    "print(pred.shape)"
   ]
  },
  {
   "cell_type": "code",
   "execution_count": 93,
   "metadata": {},
   "outputs": [
    {
     "name": "stdout",
     "output_type": "stream",
     "text": [
      "최종 메타 모델의 예측 정확도: 0.8624\n"
     ]
    }
   ],
   "source": [
    "lr_final.fit(pred, test_y)\n",
    "final = lr_final.predict(pred)\n",
    "\n",
    "print('최종 메타 모델의 예측 정확도: {0:.4f}'.format(accuracy_score(test_y , final)))"
   ]
  },
  {
   "cell_type": "code",
   "execution_count": 101,
   "metadata": {},
   "outputs": [],
   "source": [
    "from sklearn.model_selection import KFold\n",
    "from sklearn.metrics import mean_absolute_error\n",
    "\n",
    "# 개별 기반 모델에서 최종 메타 모델이 사용할 학습 및 테스트용 데이터를 생성하기 위한 함수. \n",
    "def get_stacking_base_datasets(model, X_train_n, y_train_n, X_test_n, n_folds ):\n",
    "    # 지정된 n_folds값으로 KFold 생성.\n",
    "    kf = KFold(n_splits=n_folds, shuffle=False, random_state=None)\n",
    "    \n",
    "    #추후에 메타 모델이 사용할 학습 데이터 반환을 위한 넘파이 배열 초기화 \n",
    "    train_fold_pred = np.zeros((X_train_n.shape[0] ,1 ))\n",
    "    test_pred = np.zeros((X_test_n.shape[0],n_folds))\n",
    "    print(model.__class__.__name__ , ' model 시작 ')\n",
    "    \n",
    "    for folder_counter , (train_index, valid_index) in enumerate(kf.split(X_train_n)):\n",
    "        #입력된 학습 데이터에서 기반 모델이 학습/예측할 폴드 데이터 셋 추출 \n",
    "        print('\\t 폴드 세트: ',folder_counter,' 시작 ')\n",
    "        X_tr = X_train_n[train_index] \n",
    "        y_tr = y_train_n[train_index] \n",
    "        X_te = X_train_n[valid_index]  \n",
    "        \n",
    "        #폴드 세트 내부에서 다시 만들어진 학습 데이터로 기반 모델의 학습 수행.\n",
    "        model.fit(X_tr , y_tr)\n",
    "        \n",
    "        #폴드 세트 내부에서 다시 만들어진 검증 데이터로 기반 모델 예측 후 데이터 저장.\n",
    "        train_fold_pred[valid_index, :] = model.predict(X_te).reshape(-1,1)\n",
    "        \n",
    "        #입력된 원본 테스트 데이터를 폴드 세트내 학습된 기반 모델에서 예측 후 데이터 저장. \n",
    "        test_pred[:, folder_counter] = model.predict(X_test_n)\n",
    "            \n",
    "    # 폴드 세트 내에서 원본 테스트 데이터를 예측한 데이터를 평균하여 테스트 데이터로 생성 \n",
    "    test_pred_mean = np.mean(test_pred, axis=1).reshape(-1,1)    \n",
    "    \n",
    "    #train_fold_pred는 최종 메타 모델이 사용하는 학습 데이터, test_pred_mean은 테스트 데이터\n",
    "    return train_fold_pred , test_pred_mean"
   ]
  },
  {
   "cell_type": "code",
   "execution_count": 102,
   "metadata": {},
   "outputs": [
    {
     "name": "stdout",
     "output_type": "stream",
     "text": [
      "KNeighborsClassifier  model 시작 \n",
      "\t 폴드 세트:  0  시작 \n"
     ]
    },
    {
     "ename": "KeyError",
     "evalue": "\"None of [Int64Index([ 334,  335,  336,  337,  338,  339,  340,  341,  342,  343,\\n            ...\\n            2325, 2326, 2327, 2328, 2329, 2330, 2331, 2332, 2333, 2334],\\n           dtype='int64', length=2001)] are in the [columns]\"",
     "output_type": "error",
     "traceback": [
      "\u001b[1;31m---------------------------------------------------------------------------\u001b[0m",
      "\u001b[1;31mKeyError\u001b[0m                                  Traceback (most recent call last)",
      "\u001b[1;32m<ipython-input-102-0337ad7dc99f>\u001b[0m in \u001b[0;36m<module>\u001b[1;34m\u001b[0m\n\u001b[1;32m----> 1\u001b[1;33m \u001b[0mknn_train\u001b[0m\u001b[1;33m,\u001b[0m \u001b[0mknn_test\u001b[0m \u001b[1;33m=\u001b[0m \u001b[0mget_stacking_base_datasets\u001b[0m\u001b[1;33m(\u001b[0m\u001b[0mknn_clf\u001b[0m\u001b[1;33m,\u001b[0m \u001b[0mtrain_X\u001b[0m\u001b[1;33m,\u001b[0m \u001b[0mtrain_y\u001b[0m\u001b[1;33m,\u001b[0m \u001b[0mtest_X\u001b[0m\u001b[1;33m,\u001b[0m\u001b[1;36m7\u001b[0m\u001b[1;33m)\u001b[0m\u001b[1;33m\u001b[0m\u001b[1;33m\u001b[0m\u001b[0m\n\u001b[0m\u001b[0;32m      2\u001b[0m \u001b[0mrf_train\u001b[0m\u001b[1;33m,\u001b[0m \u001b[0mrf_test\u001b[0m \u001b[1;33m=\u001b[0m \u001b[0mget_stacking_base_datasets\u001b[0m\u001b[1;33m(\u001b[0m\u001b[0mrf_clf\u001b[0m\u001b[1;33m,\u001b[0m \u001b[0mtrain_X\u001b[0m\u001b[1;33m,\u001b[0m \u001b[0mtrain_y\u001b[0m\u001b[1;33m,\u001b[0m \u001b[0mtest_X\u001b[0m\u001b[1;33m,\u001b[0m\u001b[1;36m7\u001b[0m\u001b[1;33m)\u001b[0m\u001b[1;33m\u001b[0m\u001b[1;33m\u001b[0m\u001b[0m\n\u001b[0;32m      3\u001b[0m \u001b[0mdt_train\u001b[0m\u001b[1;33m,\u001b[0m \u001b[0mdt_test\u001b[0m \u001b[1;33m=\u001b[0m \u001b[0mget_stacking_base_datasets\u001b[0m\u001b[1;33m(\u001b[0m\u001b[0mdt_clf\u001b[0m\u001b[1;33m,\u001b[0m \u001b[0mtrain_X\u001b[0m\u001b[1;33m,\u001b[0m \u001b[0mtrain_y\u001b[0m\u001b[1;33m,\u001b[0m \u001b[0mtest_X\u001b[0m\u001b[1;33m,\u001b[0m\u001b[1;36m7\u001b[0m\u001b[1;33m)\u001b[0m\u001b[1;33m\u001b[0m\u001b[1;33m\u001b[0m\u001b[0m\n\u001b[0;32m      4\u001b[0m \u001b[0mada_train\u001b[0m\u001b[1;33m,\u001b[0m \u001b[0mada_test\u001b[0m \u001b[1;33m=\u001b[0m \u001b[0mget_stacking_base_datasets\u001b[0m\u001b[1;33m(\u001b[0m\u001b[0mada_clf\u001b[0m\u001b[1;33m,\u001b[0m \u001b[0mtrain_X\u001b[0m\u001b[1;33m,\u001b[0m \u001b[0mtrain_y\u001b[0m\u001b[1;33m,\u001b[0m \u001b[0mtest_X\u001b[0m\u001b[1;33m,\u001b[0m\u001b[1;36m7\u001b[0m\u001b[1;33m)\u001b[0m\u001b[1;33m\u001b[0m\u001b[1;33m\u001b[0m\u001b[0m\n",
      "\u001b[1;32m<ipython-input-101-4e4783ef2ad6>\u001b[0m in \u001b[0;36mget_stacking_base_datasets\u001b[1;34m(model, X_train_n, y_train_n, X_test_n, n_folds)\u001b[0m\n\u001b[0;32m     15\u001b[0m         \u001b[1;31m#입력된 학습 데이터에서 기반 모델이 학습/예측할 폴드 데이터 셋 추출\u001b[0m\u001b[1;33m\u001b[0m\u001b[1;33m\u001b[0m\u001b[1;33m\u001b[0m\u001b[0m\n\u001b[0;32m     16\u001b[0m         \u001b[0mprint\u001b[0m\u001b[1;33m(\u001b[0m\u001b[1;34m'\\t 폴드 세트: '\u001b[0m\u001b[1;33m,\u001b[0m\u001b[0mfolder_counter\u001b[0m\u001b[1;33m,\u001b[0m\u001b[1;34m' 시작 '\u001b[0m\u001b[1;33m)\u001b[0m\u001b[1;33m\u001b[0m\u001b[1;33m\u001b[0m\u001b[0m\n\u001b[1;32m---> 17\u001b[1;33m         \u001b[0mX_tr\u001b[0m \u001b[1;33m=\u001b[0m \u001b[0mX_train_n\u001b[0m\u001b[1;33m[\u001b[0m\u001b[0mtrain_index\u001b[0m\u001b[1;33m]\u001b[0m\u001b[1;33m\u001b[0m\u001b[1;33m\u001b[0m\u001b[0m\n\u001b[0m\u001b[0;32m     18\u001b[0m         \u001b[0my_tr\u001b[0m \u001b[1;33m=\u001b[0m \u001b[0my_train_n\u001b[0m\u001b[1;33m[\u001b[0m\u001b[0mtrain_index\u001b[0m\u001b[1;33m]\u001b[0m\u001b[1;33m\u001b[0m\u001b[1;33m\u001b[0m\u001b[0m\n\u001b[0;32m     19\u001b[0m         \u001b[0mX_te\u001b[0m \u001b[1;33m=\u001b[0m \u001b[0mX_train_n\u001b[0m\u001b[1;33m[\u001b[0m\u001b[0mvalid_index\u001b[0m\u001b[1;33m]\u001b[0m\u001b[1;33m\u001b[0m\u001b[1;33m\u001b[0m\u001b[0m\n",
      "\u001b[1;32m~\\anaconda3\\lib\\site-packages\\pandas\\core\\frame.py\u001b[0m in \u001b[0;36m__getitem__\u001b[1;34m(self, key)\u001b[0m\n\u001b[0;32m   2906\u001b[0m             \u001b[1;32mif\u001b[0m \u001b[0mis_iterator\u001b[0m\u001b[1;33m(\u001b[0m\u001b[0mkey\u001b[0m\u001b[1;33m)\u001b[0m\u001b[1;33m:\u001b[0m\u001b[1;33m\u001b[0m\u001b[1;33m\u001b[0m\u001b[0m\n\u001b[0;32m   2907\u001b[0m                 \u001b[0mkey\u001b[0m \u001b[1;33m=\u001b[0m \u001b[0mlist\u001b[0m\u001b[1;33m(\u001b[0m\u001b[0mkey\u001b[0m\u001b[1;33m)\u001b[0m\u001b[1;33m\u001b[0m\u001b[1;33m\u001b[0m\u001b[0m\n\u001b[1;32m-> 2908\u001b[1;33m             \u001b[0mindexer\u001b[0m \u001b[1;33m=\u001b[0m \u001b[0mself\u001b[0m\u001b[1;33m.\u001b[0m\u001b[0mloc\u001b[0m\u001b[1;33m.\u001b[0m\u001b[0m_get_listlike_indexer\u001b[0m\u001b[1;33m(\u001b[0m\u001b[0mkey\u001b[0m\u001b[1;33m,\u001b[0m \u001b[0maxis\u001b[0m\u001b[1;33m=\u001b[0m\u001b[1;36m1\u001b[0m\u001b[1;33m,\u001b[0m \u001b[0mraise_missing\u001b[0m\u001b[1;33m=\u001b[0m\u001b[1;32mTrue\u001b[0m\u001b[1;33m)\u001b[0m\u001b[1;33m[\u001b[0m\u001b[1;36m1\u001b[0m\u001b[1;33m]\u001b[0m\u001b[1;33m\u001b[0m\u001b[1;33m\u001b[0m\u001b[0m\n\u001b[0m\u001b[0;32m   2909\u001b[0m \u001b[1;33m\u001b[0m\u001b[0m\n\u001b[0;32m   2910\u001b[0m         \u001b[1;31m# take() does not accept boolean indexers\u001b[0m\u001b[1;33m\u001b[0m\u001b[1;33m\u001b[0m\u001b[1;33m\u001b[0m\u001b[0m\n",
      "\u001b[1;32m~\\anaconda3\\lib\\site-packages\\pandas\\core\\indexing.py\u001b[0m in \u001b[0;36m_get_listlike_indexer\u001b[1;34m(self, key, axis, raise_missing)\u001b[0m\n\u001b[0;32m   1252\u001b[0m             \u001b[0mkeyarr\u001b[0m\u001b[1;33m,\u001b[0m \u001b[0mindexer\u001b[0m\u001b[1;33m,\u001b[0m \u001b[0mnew_indexer\u001b[0m \u001b[1;33m=\u001b[0m \u001b[0max\u001b[0m\u001b[1;33m.\u001b[0m\u001b[0m_reindex_non_unique\u001b[0m\u001b[1;33m(\u001b[0m\u001b[0mkeyarr\u001b[0m\u001b[1;33m)\u001b[0m\u001b[1;33m\u001b[0m\u001b[1;33m\u001b[0m\u001b[0m\n\u001b[0;32m   1253\u001b[0m \u001b[1;33m\u001b[0m\u001b[0m\n\u001b[1;32m-> 1254\u001b[1;33m         \u001b[0mself\u001b[0m\u001b[1;33m.\u001b[0m\u001b[0m_validate_read_indexer\u001b[0m\u001b[1;33m(\u001b[0m\u001b[0mkeyarr\u001b[0m\u001b[1;33m,\u001b[0m \u001b[0mindexer\u001b[0m\u001b[1;33m,\u001b[0m \u001b[0maxis\u001b[0m\u001b[1;33m,\u001b[0m \u001b[0mraise_missing\u001b[0m\u001b[1;33m=\u001b[0m\u001b[0mraise_missing\u001b[0m\u001b[1;33m)\u001b[0m\u001b[1;33m\u001b[0m\u001b[1;33m\u001b[0m\u001b[0m\n\u001b[0m\u001b[0;32m   1255\u001b[0m         \u001b[1;32mreturn\u001b[0m \u001b[0mkeyarr\u001b[0m\u001b[1;33m,\u001b[0m \u001b[0mindexer\u001b[0m\u001b[1;33m\u001b[0m\u001b[1;33m\u001b[0m\u001b[0m\n\u001b[0;32m   1256\u001b[0m \u001b[1;33m\u001b[0m\u001b[0m\n",
      "\u001b[1;32m~\\anaconda3\\lib\\site-packages\\pandas\\core\\indexing.py\u001b[0m in \u001b[0;36m_validate_read_indexer\u001b[1;34m(self, key, indexer, axis, raise_missing)\u001b[0m\n\u001b[0;32m   1296\u001b[0m             \u001b[1;32mif\u001b[0m \u001b[0mmissing\u001b[0m \u001b[1;33m==\u001b[0m \u001b[0mlen\u001b[0m\u001b[1;33m(\u001b[0m\u001b[0mindexer\u001b[0m\u001b[1;33m)\u001b[0m\u001b[1;33m:\u001b[0m\u001b[1;33m\u001b[0m\u001b[1;33m\u001b[0m\u001b[0m\n\u001b[0;32m   1297\u001b[0m                 \u001b[0maxis_name\u001b[0m \u001b[1;33m=\u001b[0m \u001b[0mself\u001b[0m\u001b[1;33m.\u001b[0m\u001b[0mobj\u001b[0m\u001b[1;33m.\u001b[0m\u001b[0m_get_axis_name\u001b[0m\u001b[1;33m(\u001b[0m\u001b[0maxis\u001b[0m\u001b[1;33m)\u001b[0m\u001b[1;33m\u001b[0m\u001b[1;33m\u001b[0m\u001b[0m\n\u001b[1;32m-> 1298\u001b[1;33m                 \u001b[1;32mraise\u001b[0m \u001b[0mKeyError\u001b[0m\u001b[1;33m(\u001b[0m\u001b[1;34mf\"None of [{key}] are in the [{axis_name}]\"\u001b[0m\u001b[1;33m)\u001b[0m\u001b[1;33m\u001b[0m\u001b[1;33m\u001b[0m\u001b[0m\n\u001b[0m\u001b[0;32m   1299\u001b[0m \u001b[1;33m\u001b[0m\u001b[0m\n\u001b[0;32m   1300\u001b[0m             \u001b[1;31m# We (temporarily) allow for some missing keys with .loc, except in\u001b[0m\u001b[1;33m\u001b[0m\u001b[1;33m\u001b[0m\u001b[1;33m\u001b[0m\u001b[0m\n",
      "\u001b[1;31mKeyError\u001b[0m: \"None of [Int64Index([ 334,  335,  336,  337,  338,  339,  340,  341,  342,  343,\\n            ...\\n            2325, 2326, 2327, 2328, 2329, 2330, 2331, 2332, 2333, 2334],\\n           dtype='int64', length=2001)] are in the [columns]\""
     ]
    }
   ],
   "source": [
    "knn_train, knn_test = get_stacking_base_datasets(knn_clf, train_X, train_y, test_X,7)\n",
    "rf_train, rf_test = get_stacking_base_datasets(rf_clf, train_X, train_y, test_X,7)\n",
    "dt_train, dt_test = get_stacking_base_datasets(dt_clf, train_X, train_y, test_X,7)    \n",
    "ada_train, ada_test = get_stacking_base_datasets(ada_clf, train_X, train_y, test_X,7)"
   ]
  },
  {
   "cell_type": "markdown",
   "metadata": {},
   "source": [
    "## CNN"
   ]
  },
  {
   "cell_type": "code",
   "execution_count": 10,
   "metadata": {},
   "outputs": [],
   "source": [
    "import matplotlib.pyplot as plt\n",
    "%matplotlib inline\n",
    "from sklearn.preprocessing import OneHotEncoder\n",
    "from sklearn.model_selection import StratifiedKFold\n",
    "from sklearn.metrics import accuracy_score"
   ]
  },
  {
   "cell_type": "code",
   "execution_count": 11,
   "metadata": {},
   "outputs": [],
   "source": [
    "from tensorflow.keras.layers import *\n",
    "from tensorflow.keras.models import *\n",
    "from tensorflow.keras.optimizers import *\n",
    "from tensorflow.keras.callbacks import *"
   ]
  },
  {
   "cell_type": "code",
   "execution_count": 12,
   "metadata": {},
   "outputs": [],
   "source": [
    "import itertools\n",
    "from IPython.display import Image\n",
    "from IPython import display\n",
    "import matplotlib.pyplot as plt\n",
    "\n",
    "import torch \n",
    "import torch.nn as nn\n",
    "import torch.nn.functional as F\n",
    "import torch.optim as optim\n",
    "from torchvision import datasets, transforms"
   ]
  },
  {
   "cell_type": "code",
   "execution_count": 13,
   "metadata": {},
   "outputs": [
    {
     "data": {
      "text/html": [
       "<div>\n",
       "<style scoped>\n",
       "    .dataframe tbody tr th:only-of-type {\n",
       "        vertical-align: middle;\n",
       "    }\n",
       "\n",
       "    .dataframe tbody tr th {\n",
       "        vertical-align: top;\n",
       "    }\n",
       "\n",
       "    .dataframe thead th {\n",
       "        text-align: right;\n",
       "    }\n",
       "</style>\n",
       "<table border=\"1\" class=\"dataframe\">\n",
       "  <thead>\n",
       "    <tr style=\"text-align: right;\">\n",
       "      <th></th>\n",
       "      <th>sensor_1</th>\n",
       "      <th>sensor_2</th>\n",
       "      <th>sensor_3</th>\n",
       "      <th>sensor_4</th>\n",
       "      <th>sensor_5</th>\n",
       "      <th>sensor_6</th>\n",
       "      <th>sensor_7</th>\n",
       "      <th>sensor_8</th>\n",
       "      <th>sensor_9</th>\n",
       "      <th>sensor_10</th>\n",
       "      <th>...</th>\n",
       "      <th>sensor_23</th>\n",
       "      <th>sensor_24</th>\n",
       "      <th>sensor_25</th>\n",
       "      <th>sensor_26</th>\n",
       "      <th>sensor_27</th>\n",
       "      <th>sensor_28</th>\n",
       "      <th>sensor_29</th>\n",
       "      <th>sensor_30</th>\n",
       "      <th>sensor_31</th>\n",
       "      <th>sensor_32</th>\n",
       "    </tr>\n",
       "    <tr>\n",
       "      <th>target</th>\n",
       "      <th></th>\n",
       "      <th></th>\n",
       "      <th></th>\n",
       "      <th></th>\n",
       "      <th></th>\n",
       "      <th></th>\n",
       "      <th></th>\n",
       "      <th></th>\n",
       "      <th></th>\n",
       "      <th></th>\n",
       "      <th></th>\n",
       "      <th></th>\n",
       "      <th></th>\n",
       "      <th></th>\n",
       "      <th></th>\n",
       "      <th></th>\n",
       "      <th></th>\n",
       "      <th></th>\n",
       "      <th></th>\n",
       "      <th></th>\n",
       "      <th></th>\n",
       "    </tr>\n",
       "  </thead>\n",
       "  <tbody>\n",
       "    <tr>\n",
       "      <th>0</th>\n",
       "      <td>-0.425433</td>\n",
       "      <td>-0.922978</td>\n",
       "      <td>1.389976</td>\n",
       "      <td>0.559473</td>\n",
       "      <td>-0.694207</td>\n",
       "      <td>0.015784</td>\n",
       "      <td>0.793226</td>\n",
       "      <td>-0.913523</td>\n",
       "      <td>-0.561867</td>\n",
       "      <td>-0.802052</td>\n",
       "      <td>...</td>\n",
       "      <td>0.022476</td>\n",
       "      <td>-0.056393</td>\n",
       "      <td>-1.587852</td>\n",
       "      <td>-0.420015</td>\n",
       "      <td>0.905688</td>\n",
       "      <td>0.151944</td>\n",
       "      <td>-0.626062</td>\n",
       "      <td>-0.822711</td>\n",
       "      <td>-0.621473</td>\n",
       "      <td>-1.962038</td>\n",
       "    </tr>\n",
       "    <tr>\n",
       "      <th>1</th>\n",
       "      <td>-0.692796</td>\n",
       "      <td>-0.776260</td>\n",
       "      <td>-1.040046</td>\n",
       "      <td>-0.796645</td>\n",
       "      <td>-0.716867</td>\n",
       "      <td>-0.864049</td>\n",
       "      <td>0.217547</td>\n",
       "      <td>-0.588134</td>\n",
       "      <td>-0.795507</td>\n",
       "      <td>-0.470282</td>\n",
       "      <td>...</td>\n",
       "      <td>-0.727154</td>\n",
       "      <td>-0.841780</td>\n",
       "      <td>-0.605011</td>\n",
       "      <td>-0.622476</td>\n",
       "      <td>0.257340</td>\n",
       "      <td>-0.515845</td>\n",
       "      <td>-0.883002</td>\n",
       "      <td>-0.682358</td>\n",
       "      <td>0.154507</td>\n",
       "      <td>-0.607232</td>\n",
       "    </tr>\n",
       "    <tr>\n",
       "      <th>2</th>\n",
       "      <td>-2.346430</td>\n",
       "      <td>-0.822219</td>\n",
       "      <td>1.015480</td>\n",
       "      <td>0.079543</td>\n",
       "      <td>0.805130</td>\n",
       "      <td>-0.322211</td>\n",
       "      <td>-1.559588</td>\n",
       "      <td>-1.354339</td>\n",
       "      <td>-1.188115</td>\n",
       "      <td>-1.084991</td>\n",
       "      <td>...</td>\n",
       "      <td>0.926393</td>\n",
       "      <td>-0.561614</td>\n",
       "      <td>-0.598858</td>\n",
       "      <td>-0.591853</td>\n",
       "      <td>-2.619469</td>\n",
       "      <td>-0.660750</td>\n",
       "      <td>-0.706551</td>\n",
       "      <td>-0.714254</td>\n",
       "      <td>-0.997320</td>\n",
       "      <td>-0.504212</td>\n",
       "    </tr>\n",
       "    <tr>\n",
       "      <th>3</th>\n",
       "      <td>-0.983485</td>\n",
       "      <td>-1.559744</td>\n",
       "      <td>-3.951593</td>\n",
       "      <td>-0.422654</td>\n",
       "      <td>-0.727304</td>\n",
       "      <td>-0.518749</td>\n",
       "      <td>3.218229</td>\n",
       "      <td>-0.876624</td>\n",
       "      <td>-0.636275</td>\n",
       "      <td>-0.459929</td>\n",
       "      <td>...</td>\n",
       "      <td>-0.134662</td>\n",
       "      <td>0.026740</td>\n",
       "      <td>-0.935549</td>\n",
       "      <td>-0.714854</td>\n",
       "      <td>1.169092</td>\n",
       "      <td>-0.441372</td>\n",
       "      <td>-0.693405</td>\n",
       "      <td>-1.013212</td>\n",
       "      <td>-0.500214</td>\n",
       "      <td>0.046207</td>\n",
       "    </tr>\n",
       "  </tbody>\n",
       "</table>\n",
       "<p>4 rows × 32 columns</p>\n",
       "</div>"
      ],
      "text/plain": [
       "        sensor_1  sensor_2  sensor_3  sensor_4  sensor_5  sensor_6  sensor_7  \\\n",
       "target                                                                         \n",
       "0      -0.425433 -0.922978  1.389976  0.559473 -0.694207  0.015784  0.793226   \n",
       "1      -0.692796 -0.776260 -1.040046 -0.796645 -0.716867 -0.864049  0.217547   \n",
       "2      -2.346430 -0.822219  1.015480  0.079543  0.805130 -0.322211 -1.559588   \n",
       "3      -0.983485 -1.559744 -3.951593 -0.422654 -0.727304 -0.518749  3.218229   \n",
       "\n",
       "        sensor_8  sensor_9  sensor_10  ...  sensor_23  sensor_24  sensor_25  \\\n",
       "target                                 ...                                    \n",
       "0      -0.913523 -0.561867  -0.802052  ...   0.022476  -0.056393  -1.587852   \n",
       "1      -0.588134 -0.795507  -0.470282  ...  -0.727154  -0.841780  -0.605011   \n",
       "2      -1.354339 -1.188115  -1.084991  ...   0.926393  -0.561614  -0.598858   \n",
       "3      -0.876624 -0.636275  -0.459929  ...  -0.134662   0.026740  -0.935549   \n",
       "\n",
       "        sensor_26  sensor_27  sensor_28  sensor_29  sensor_30  sensor_31  \\\n",
       "target                                                                     \n",
       "0       -0.420015   0.905688   0.151944  -0.626062  -0.822711  -0.621473   \n",
       "1       -0.622476   0.257340  -0.515845  -0.883002  -0.682358   0.154507   \n",
       "2       -0.591853  -2.619469  -0.660750  -0.706551  -0.714254  -0.997320   \n",
       "3       -0.714854   1.169092  -0.441372  -0.693405  -1.013212  -0.500214   \n",
       "\n",
       "        sensor_32  \n",
       "target             \n",
       "0       -1.962038  \n",
       "1       -0.607232  \n",
       "2       -0.504212  \n",
       "3        0.046207  \n",
       "\n",
       "[4 rows x 32 columns]"
      ]
     },
     "execution_count": 13,
     "metadata": {},
     "output_type": "execute_result"
    }
   ],
   "source": [
    "gr_mu = train.groupby('target').mean().iloc[:, 1 :]\n",
    "gr_mu"
   ]
  },
  {
   "cell_type": "code",
   "execution_count": 14,
   "metadata": {},
   "outputs": [
    {
     "data": {
      "image/png": "[encoded data removed]",
      "text/plain": [
       "<Figure size 864x432 with 4 Axes>"
      ]
     },
     "metadata": {
      "needs_background": "light"
     },
     "output_type": "display_data"
    }
   ],
   "source": [
    "f, a = plt.subplots(1, 4, figsize = (12, 6))\n",
    "for i in range(4) :\n",
    "    a[i].set_title(f'target {i} Image')\n",
    "    a[i].imshow(np.array(gr_mu.iloc[i]).reshape(8, 4))"
   ]
  },
  {
   "cell_type": "code",
   "execution_count": 15,
   "metadata": {},
   "outputs": [],
   "source": [
    "X = train.iloc[:, 1:-1]\n",
    "target = test.iloc[:, 1:]"
   ]
  },
  {
   "cell_type": "code",
   "execution_count": 16,
   "metadata": {},
   "outputs": [],
   "source": [
    "X = np.array(X).reshape(-1, 8, 4, 1)\n",
    "target = np.array(target).reshape(-1, 8, 4, 1)"
   ]
  },
  {
   "cell_type": "code",
   "execution_count": 17,
   "metadata": {},
   "outputs": [],
   "source": [
    "ohe = OneHotEncoder(sparse = False)"
   ]
  },
  {
   "cell_type": "code",
   "execution_count": 18,
   "metadata": {},
   "outputs": [],
   "source": [
    "y = ohe.fit_transform(train[['target']])"
   ]
  },
  {
   "cell_type": "code",
   "execution_count": 19,
   "metadata": {},
   "outputs": [],
   "source": [
    "skf = StratifiedKFold(n_splits = 10, random_state = 1000, shuffle = True)"
   ]
  },
  {
   "cell_type": "code",
   "execution_count": 20,
   "metadata": {},
   "outputs": [],
   "source": [
    "es = EarlyStopping(monitor = 'val_acc', patience = 50, mode = 'auto', verbose = 0) #patience수 올리고, mode=min, max, auto선택가능"
   ]
  },
  {
   "cell_type": "code",
   "execution_count": 84,
   "metadata": {},
   "outputs": [],
   "source": [
    "from adabelief_tf import AdaBeliefOptimizer"
   ]
  },
  {
   "cell_type": "code",
   "execution_count": 87,
   "metadata": {},
   "outputs": [
    {
     "name": "stdout",
     "output_type": "stream",
     "text": [
      "Collecting adabelief-tf==0.2.0\n",
      "  Using cached adabelief_tf-0.2.0-py3-none-any.whl (6.4 kB)\n",
      "Requirement already satisfied: tensorflow>=2.0.0 in c:\\users\\seo\\anaconda3\\lib\\site-packages (from adabelief-tf==0.2.0) (2.8.0)\n",
      "Requirement already satisfied: tabulate>=0.7 in c:\\users\\seo\\anaconda3\\lib\\site-packages (from adabelief-tf==0.2.0) (0.8.9)\n",
      "Requirement already satisfied: colorama>=0.4.0 in c:\\users\\seo\\anaconda3\\lib\\site-packages (from adabelief-tf==0.2.0) (0.4.4)\n",
      "Requirement already satisfied: protobuf>=3.9.2 in c:\\users\\seo\\anaconda3\\lib\\site-packages (from tensorflow>=2.0.0->adabelief-tf==0.2.0) (3.19.4)\n",
      "Requirement already satisfied: h5py>=2.9.0 in c:\\users\\seo\\anaconda3\\lib\\site-packages (from tensorflow>=2.0.0->adabelief-tf==0.2.0) (2.10.0)\n",
      "Requirement already satisfied: six>=1.12.0 in c:\\users\\seo\\anaconda3\\lib\\site-packages (from tensorflow>=2.0.0->adabelief-tf==0.2.0) (1.15.0)\n",
      "Requirement already satisfied: setuptools in c:\\users\\seo\\anaconda3\\lib\\site-packages (from tensorflow>=2.0.0->adabelief-tf==0.2.0) (50.3.1.post20201107)\n",
      "Requirement already satisfied: tf-estimator-nightly==2.8.0.dev2021122109 in c:\\users\\seo\\anaconda3\\lib\\site-packages (from tensorflow>=2.0.0->adabelief-tf==0.2.0) (2.8.0.dev2021122109)\n",
      "Requirement already satisfied: typing-extensions>=3.6.6 in c:\\users\\seo\\anaconda3\\lib\\site-packages (from tensorflow>=2.0.0->adabelief-tf==0.2.0) (3.7.4.3)\n",
      "Requirement already satisfied: flatbuffers>=1.12 in c:\\users\\seo\\anaconda3\\lib\\site-packages (from tensorflow>=2.0.0->adabelief-tf==0.2.0) (2.0)\n",
      "Requirement already satisfied: libclang>=9.0.1 in c:\\users\\seo\\anaconda3\\lib\\site-packages (from tensorflow>=2.0.0->adabelief-tf==0.2.0) (13.0.0)\n",
      "Requirement already satisfied: gast>=0.2.1 in c:\\users\\seo\\anaconda3\\lib\\site-packages (from tensorflow>=2.0.0->adabelief-tf==0.2.0) (0.5.3)\n",
      "Requirement already satisfied: google-pasta>=0.1.1 in c:\\users\\seo\\anaconda3\\lib\\site-packages (from tensorflow>=2.0.0->adabelief-tf==0.2.0) (0.2.0)\n",
      "Requirement already satisfied: tensorboard<2.9,>=2.8 in c:\\users\\seo\\anaconda3\\lib\\site-packages (from tensorflow>=2.0.0->adabelief-tf==0.2.0) (2.8.0)\n",
      "Requirement already satisfied: termcolor>=1.1.0 in c:\\users\\seo\\anaconda3\\lib\\site-packages (from tensorflow>=2.0.0->adabelief-tf==0.2.0) (1.1.0)\n",
      "Requirement already satisfied: numpy>=1.20 in c:\\users\\seo\\anaconda3\\lib\\site-packages (from tensorflow>=2.0.0->adabelief-tf==0.2.0) (1.22.3)\n",
      "Requirement already satisfied: astunparse>=1.6.0 in c:\\users\\seo\\anaconda3\\lib\\site-packages (from tensorflow>=2.0.0->adabelief-tf==0.2.0) (1.6.3)\n",
      "Requirement already satisfied: absl-py>=0.4.0 in c:\\users\\seo\\anaconda3\\lib\\site-packages (from tensorflow>=2.0.0->adabelief-tf==0.2.0) (1.0.0)\n",
      "Requirement already satisfied: grpcio<2.0,>=1.24.3 in c:\\users\\seo\\anaconda3\\lib\\site-packages (from tensorflow>=2.0.0->adabelief-tf==0.2.0) (1.44.0)\n",
      "Requirement already satisfied: wrapt>=1.11.0 in c:\\users\\seo\\anaconda3\\lib\\site-packages (from tensorflow>=2.0.0->adabelief-tf==0.2.0) (1.11.2)\n",
      "Requirement already satisfied: keras<2.9,>=2.8.0rc0 in c:\\users\\seo\\anaconda3\\lib\\site-packages (from tensorflow>=2.0.0->adabelief-tf==0.2.0) (2.8.0)\n",
      "Requirement already satisfied: opt-einsum>=2.3.2 in c:\\users\\seo\\anaconda3\\lib\\site-packages (from tensorflow>=2.0.0->adabelief-tf==0.2.0) (3.3.0)\n",
      "Requirement already satisfied: keras-preprocessing>=1.1.1 in c:\\users\\seo\\anaconda3\\lib\\site-packages (from tensorflow>=2.0.0->adabelief-tf==0.2.0) (1.1.2)\n",
      "Requirement already satisfied: tensorflow-io-gcs-filesystem>=0.23.1 in c:\\users\\seo\\anaconda3\\lib\\site-packages (from tensorflow>=2.0.0->adabelief-tf==0.2.0) (0.24.0)\n",
      "Requirement already satisfied: wheel<1.0,>=0.23.0 in c:\\users\\seo\\anaconda3\\lib\\site-packages (from astunparse>=1.6.0->tensorflow>=2.0.0->adabelief-tf==0.2.0) (0.35.1)\n",
      "Requirement already satisfied: requests<3,>=2.21.0 in c:\\users\\seo\\anaconda3\\lib\\site-packages (from tensorboard<2.9,>=2.8->tensorflow>=2.0.0->adabelief-tf==0.2.0) (2.24.0)\n",
      "Requirement already satisfied: tensorboard-plugin-wit>=1.6.0 in c:\\users\\seo\\anaconda3\\lib\\site-packages (from tensorboard<2.9,>=2.8->tensorflow>=2.0.0->adabelief-tf==0.2.0) (1.8.1)\n",
      "Requirement already satisfied: google-auth-oauthlib<0.5,>=0.4.1 in c:\\users\\seo\\anaconda3\\lib\\site-packages (from tensorboard<2.9,>=2.8->tensorflow>=2.0.0->adabelief-tf==0.2.0) (0.4.6)\n",
      "Requirement already satisfied: google-auth<3,>=1.6.3 in c:\\users\\seo\\anaconda3\\lib\\site-packages (from tensorboard<2.9,>=2.8->tensorflow>=2.0.0->adabelief-tf==0.2.0) (2.6.0)\n",
      "Requirement already satisfied: markdown>=2.6.8 in c:\\users\\seo\\anaconda3\\lib\\site-packages (from tensorboard<2.9,>=2.8->tensorflow>=2.0.0->adabelief-tf==0.2.0) (3.3.6)\n",
      "Requirement already satisfied: werkzeug>=0.11.15 in c:\\users\\seo\\anaconda3\\lib\\site-packages (from tensorboard<2.9,>=2.8->tensorflow>=2.0.0->adabelief-tf==0.2.0) (1.0.1)\n",
      "Requirement already satisfied: tensorboard-data-server<0.7.0,>=0.6.0 in c:\\users\\seo\\anaconda3\\lib\\site-packages (from tensorboard<2.9,>=2.8->tensorflow>=2.0.0->adabelief-tf==0.2.0) (0.6.1)\n",
      "Requirement already satisfied: cachetools<6.0,>=2.0.0 in c:\\users\\seo\\anaconda3\\lib\\site-packages (from google-auth<3,>=1.6.3->tensorboard<2.9,>=2.8->tensorflow>=2.0.0->adabelief-tf==0.2.0) (5.0.0)\n",
      "Requirement already satisfied: pyasn1-modules>=0.2.1 in c:\\users\\seo\\anaconda3\\lib\\site-packages (from google-auth<3,>=1.6.3->tensorboard<2.9,>=2.8->tensorflow>=2.0.0->adabelief-tf==0.2.0) (0.2.8)\n",
      "Requirement already satisfied: rsa<5,>=3.1.4 in c:\\users\\seo\\anaconda3\\lib\\site-packages (from google-auth<3,>=1.6.3->tensorboard<2.9,>=2.8->tensorflow>=2.0.0->adabelief-tf==0.2.0) (4.8)\n",
      "Requirement already satisfied: requests-oauthlib>=0.7.0 in c:\\users\\seo\\anaconda3\\lib\\site-packages (from google-auth-oauthlib<0.5,>=0.4.1->tensorboard<2.9,>=2.8->tensorflow>=2.0.0->adabelief-tf==0.2.0) (1.3.1)\n",
      "Requirement already satisfied: importlib-metadata>=4.4 in c:\\users\\seo\\anaconda3\\lib\\site-packages (from markdown>=2.6.8->tensorboard<2.9,>=2.8->tensorflow>=2.0.0->adabelief-tf==0.2.0) (4.11.1)\n",
      "Requirement already satisfied: idna<3,>=2.5 in c:\\users\\seo\\anaconda3\\lib\\site-packages (from requests<3,>=2.21.0->tensorboard<2.9,>=2.8->tensorflow>=2.0.0->adabelief-tf==0.2.0) (2.10)\n",
      "Requirement already satisfied: urllib3!=1.25.0,!=1.25.1,<1.26,>=1.21.1 in c:\\users\\seo\\anaconda3\\lib\\site-packages (from requests<3,>=2.21.0->tensorboard<2.9,>=2.8->tensorflow>=2.0.0->adabelief-tf==0.2.0) (1.25.11)\n",
      "Requirement already satisfied: certifi>=2017.4.17 in c:\\users\\seo\\anaconda3\\lib\\site-packages (from requests<3,>=2.21.0->tensorboard<2.9,>=2.8->tensorflow>=2.0.0->adabelief-tf==0.2.0) (2020.6.20)\n",
      "Requirement already satisfied: chardet<4,>=3.0.2 in c:\\users\\seo\\anaconda3\\lib\\site-packages (from requests<3,>=2.21.0->tensorboard<2.9,>=2.8->tensorflow>=2.0.0->adabelief-tf==0.2.0) (3.0.4)\n",
      "Requirement already satisfied: zipp>=0.5 in c:\\users\\seo\\anaconda3\\lib\\site-packages (from importlib-metadata>=4.4->markdown>=2.6.8->tensorboard<2.9,>=2.8->tensorflow>=2.0.0->adabelief-tf==0.2.0) (3.4.0)\n",
      "Requirement already satisfied: pyasn1<0.5.0,>=0.4.6 in c:\\users\\seo\\anaconda3\\lib\\site-packages (from pyasn1-modules>=0.2.1->google-auth<3,>=1.6.3->tensorboard<2.9,>=2.8->tensorflow>=2.0.0->adabelief-tf==0.2.0) (0.4.8)\n",
      "Requirement already satisfied: oauthlib>=3.0.0 in c:\\users\\seo\\anaconda3\\lib\\site-packages (from requests-oauthlib>=0.7.0->google-auth-oauthlib<0.5,>=0.4.1->tensorboard<2.9,>=2.8->tensorflow>=2.0.0->adabelief-tf==0.2.0) (3.2.0)\n",
      "Installing collected packages: adabelief-tf\n",
      "  Attempting uninstall: adabelief-tf\n",
      "    Found existing installation: adabelief-tf 0.1.0\n",
      "    Uninstalling adabelief-tf-0.1.0:\n",
      "      Successfully uninstalled adabelief-tf-0.1.0\n",
      "Successfully installed adabelief-tf-0.2.0\n"
     ]
    }
   ],
   "source": [
    "!pip install adabelief-tf==0.2.0"
   ]
  },
  {
   "cell_type": "code",
   "execution_count": 89,
   "metadata": {},
   "outputs": [
    {
     "name": "stdout",
     "output_type": "stream",
     "text": [
      "1 Fold Training.....\n",
      "\u001b[31mPlease check your arguments if you have upgraded adabelief-tf from version 0.0.1.\n",
      "\u001b[31mModifications to default arguments:\n",
      "\u001b[31m                           eps  weight_decouple    rectify\n",
      "-----------------------  -----  -----------------  -------------\n",
      "adabelief-tf=0.0.1       1e-08  Not supported      Not supported\n",
      "Current version (0.1.0)  1e-14  supported          default: True\n",
      "\u001b[31mFor a complete table of recommended hyperparameters, see\n",
      "\u001b[31mhttps://github.com/juntang-zhuang/Adabelief-Optimizer\n",
      "\u001b[0m\n",
      "\u001b[31mPlease check your arguments if you have upgraded adabelief-tf from version 0.0.1.\n",
      "\u001b[31mModifications to default arguments:\n",
      "\u001b[31m                           eps  weight_decouple    rectify\n",
      "-----------------------  -----  -----------------  -------------\n",
      "adabelief-tf=0.0.1       1e-08  Not supported      Not supported\n",
      "Current version (0.1.0)  1e-14  supported          default: True\n",
      "\u001b[31mFor a complete table of recommended hyperparameters, see\n",
      "\u001b[31mhttps://github.com/juntang-zhuang/Adabelief-Optimizer\n",
      "\u001b[0m\n",
      "1 Fold ACC of CNN = 0.8675213675213675\n",
      "\n",
      "2 Fold Training.....\n",
      "\u001b[31mPlease check your arguments if you have upgraded adabelief-tf from version 0.0.1.\n",
      "\u001b[31mModifications to default arguments:\n",
      "\u001b[31m                           eps  weight_decouple    rectify\n",
      "-----------------------  -----  -----------------  -------------\n",
      "adabelief-tf=0.0.1       1e-08  Not supported      Not supported\n",
      "Current version (0.1.0)  1e-14  supported          default: True\n",
      "\u001b[31mFor a complete table of recommended hyperparameters, see\n",
      "\u001b[31mhttps://github.com/juntang-zhuang/Adabelief-Optimizer\n",
      "\u001b[0m\n",
      "\u001b[31mPlease check your arguments if you have upgraded adabelief-tf from version 0.0.1.\n",
      "\u001b[31mModifications to default arguments:\n",
      "\u001b[31m                           eps  weight_decouple    rectify\n",
      "-----------------------  -----  -----------------  -------------\n",
      "adabelief-tf=0.0.1       1e-08  Not supported      Not supported\n",
      "Current version (0.1.0)  1e-14  supported          default: True\n",
      "\u001b[31mFor a complete table of recommended hyperparameters, see\n",
      "\u001b[31mhttps://github.com/juntang-zhuang/Adabelief-Optimizer\n",
      "\u001b[0m\n",
      "2 Fold ACC of CNN = 0.9188034188034188\n",
      "\n",
      "3 Fold Training.....\n",
      "\u001b[31mPlease check your arguments if you have upgraded adabelief-tf from version 0.0.1.\n",
      "\u001b[31mModifications to default arguments:\n",
      "\u001b[31m                           eps  weight_decouple    rectify\n",
      "-----------------------  -----  -----------------  -------------\n",
      "adabelief-tf=0.0.1       1e-08  Not supported      Not supported\n",
      "Current version (0.1.0)  1e-14  supported          default: True\n",
      "\u001b[31mFor a complete table of recommended hyperparameters, see\n",
      "\u001b[31mhttps://github.com/juntang-zhuang/Adabelief-Optimizer\n",
      "\u001b[0m\n",
      "\u001b[31mPlease check your arguments if you have upgraded adabelief-tf from version 0.0.1.\n",
      "\u001b[31mModifications to default arguments:\n",
      "\u001b[31m                           eps  weight_decouple    rectify\n",
      "-----------------------  -----  -----------------  -------------\n",
      "adabelief-tf=0.0.1       1e-08  Not supported      Not supported\n",
      "Current version (0.1.0)  1e-14  supported          default: True\n",
      "\u001b[31mFor a complete table of recommended hyperparameters, see\n",
      "\u001b[31mhttps://github.com/juntang-zhuang/Adabelief-Optimizer\n",
      "\u001b[0m\n",
      "3 Fold ACC of CNN = 0.8547008547008547\n",
      "\n",
      "4 Fold Training.....\n",
      "\u001b[31mPlease check your arguments if you have upgraded adabelief-tf from version 0.0.1.\n",
      "\u001b[31mModifications to default arguments:\n",
      "\u001b[31m                           eps  weight_decouple    rectify\n",
      "-----------------------  -----  -----------------  -------------\n",
      "adabelief-tf=0.0.1       1e-08  Not supported      Not supported\n",
      "Current version (0.1.0)  1e-14  supported          default: True\n",
      "\u001b[31mFor a complete table of recommended hyperparameters, see\n",
      "\u001b[31mhttps://github.com/juntang-zhuang/Adabelief-Optimizer\n",
      "\u001b[0m\n",
      "\u001b[31mPlease check your arguments if you have upgraded adabelief-tf from version 0.0.1.\n",
      "\u001b[31mModifications to default arguments:\n",
      "\u001b[31m                           eps  weight_decouple    rectify\n",
      "-----------------------  -----  -----------------  -------------\n",
      "adabelief-tf=0.0.1       1e-08  Not supported      Not supported\n",
      "Current version (0.1.0)  1e-14  supported          default: True\n",
      "\u001b[31mFor a complete table of recommended hyperparameters, see\n",
      "\u001b[31mhttps://github.com/juntang-zhuang/Adabelief-Optimizer\n",
      "\u001b[0m\n",
      "4 Fold ACC of CNN = 0.8803418803418803\n",
      "\n",
      "5 Fold Training.....\n",
      "\u001b[31mPlease check your arguments if you have upgraded adabelief-tf from version 0.0.1.\n",
      "\u001b[31mModifications to default arguments:\n",
      "\u001b[31m                           eps  weight_decouple    rectify\n",
      "-----------------------  -----  -----------------  -------------\n",
      "adabelief-tf=0.0.1       1e-08  Not supported      Not supported\n",
      "Current version (0.1.0)  1e-14  supported          default: True\n",
      "\u001b[31mFor a complete table of recommended hyperparameters, see\n",
      "\u001b[31mhttps://github.com/juntang-zhuang/Adabelief-Optimizer\n",
      "\u001b[0m\n",
      "\u001b[31mPlease check your arguments if you have upgraded adabelief-tf from version 0.0.1.\n",
      "\u001b[31mModifications to default arguments:\n",
      "\u001b[31m                           eps  weight_decouple    rectify\n",
      "-----------------------  -----  -----------------  -------------\n",
      "adabelief-tf=0.0.1       1e-08  Not supported      Not supported\n",
      "Current version (0.1.0)  1e-14  supported          default: True\n",
      "\u001b[31mFor a complete table of recommended hyperparameters, see\n",
      "\u001b[31mhttps://github.com/juntang-zhuang/Adabelief-Optimizer\n",
      "\u001b[0m\n",
      "5 Fold ACC of CNN = 0.8931623931623932\n",
      "\n",
      "6 Fold Training.....\n",
      "\u001b[31mPlease check your arguments if you have upgraded adabelief-tf from version 0.0.1.\n",
      "\u001b[31mModifications to default arguments:\n",
      "\u001b[31m                           eps  weight_decouple    rectify\n",
      "-----------------------  -----  -----------------  -------------\n",
      "adabelief-tf=0.0.1       1e-08  Not supported      Not supported\n",
      "Current version (0.1.0)  1e-14  supported          default: True\n",
      "\u001b[31mFor a complete table of recommended hyperparameters, see\n",
      "\u001b[31mhttps://github.com/juntang-zhuang/Adabelief-Optimizer\n",
      "\u001b[0m\n",
      "\u001b[31mPlease check your arguments if you have upgraded adabelief-tf from version 0.0.1.\n",
      "\u001b[31mModifications to default arguments:\n",
      "\u001b[31m                           eps  weight_decouple    rectify\n",
      "-----------------------  -----  -----------------  -------------\n",
      "adabelief-tf=0.0.1       1e-08  Not supported      Not supported\n",
      "Current version (0.1.0)  1e-14  supported          default: True\n",
      "\u001b[31mFor a complete table of recommended hyperparameters, see\n",
      "\u001b[31mhttps://github.com/juntang-zhuang/Adabelief-Optimizer\n",
      "\u001b[0m\n",
      "6 Fold ACC of CNN = 0.871244635193133\n",
      "\n",
      "7 Fold Training.....\n",
      "\u001b[31mPlease check your arguments if you have upgraded adabelief-tf from version 0.0.1.\n",
      "\u001b[31mModifications to default arguments:\n",
      "\u001b[31m                           eps  weight_decouple    rectify\n",
      "-----------------------  -----  -----------------  -------------\n",
      "adabelief-tf=0.0.1       1e-08  Not supported      Not supported\n",
      "Current version (0.1.0)  1e-14  supported          default: True\n",
      "\u001b[31mFor a complete table of recommended hyperparameters, see\n",
      "\u001b[31mhttps://github.com/juntang-zhuang/Adabelief-Optimizer\n",
      "\u001b[0m\n",
      "\u001b[31mPlease check your arguments if you have upgraded adabelief-tf from version 0.0.1.\n",
      "\u001b[31mModifications to default arguments:\n",
      "\u001b[31m                           eps  weight_decouple    rectify\n",
      "-----------------------  -----  -----------------  -------------\n",
      "adabelief-tf=0.0.1       1e-08  Not supported      Not supported\n",
      "Current version (0.1.0)  1e-14  supported          default: True\n",
      "\u001b[31mFor a complete table of recommended hyperparameters, see\n",
      "\u001b[31mhttps://github.com/juntang-zhuang/Adabelief-Optimizer\n",
      "\u001b[0m\n",
      "7 Fold ACC of CNN = 0.927038626609442\n",
      "\n",
      "8 Fold Training.....\n",
      "\u001b[31mPlease check your arguments if you have upgraded adabelief-tf from version 0.0.1.\n",
      "\u001b[31mModifications to default arguments:\n",
      "\u001b[31m                           eps  weight_decouple    rectify\n",
      "-----------------------  -----  -----------------  -------------\n",
      "adabelief-tf=0.0.1       1e-08  Not supported      Not supported\n",
      "Current version (0.1.0)  1e-14  supported          default: True\n",
      "\u001b[31mFor a complete table of recommended hyperparameters, see\n",
      "\u001b[31mhttps://github.com/juntang-zhuang/Adabelief-Optimizer\n",
      "\u001b[0m\n",
      "\u001b[31mPlease check your arguments if you have upgraded adabelief-tf from version 0.0.1.\n",
      "\u001b[31mModifications to default arguments:\n",
      "\u001b[31m                           eps  weight_decouple    rectify\n",
      "-----------------------  -----  -----------------  -------------\n",
      "adabelief-tf=0.0.1       1e-08  Not supported      Not supported\n",
      "Current version (0.1.0)  1e-14  supported          default: True\n",
      "\u001b[31mFor a complete table of recommended hyperparameters, see\n",
      "\u001b[31mhttps://github.com/juntang-zhuang/Adabelief-Optimizer\n",
      "\u001b[0m\n"
     ]
    },
    {
     "name": "stdout",
     "output_type": "stream",
     "text": [
      "8 Fold ACC of CNN = 0.871244635193133\n",
      "\n",
      "9 Fold Training.....\n",
      "\u001b[31mPlease check your arguments if you have upgraded adabelief-tf from version 0.0.1.\n",
      "\u001b[31mModifications to default arguments:\n",
      "\u001b[31m                           eps  weight_decouple    rectify\n",
      "-----------------------  -----  -----------------  -------------\n",
      "adabelief-tf=0.0.1       1e-08  Not supported      Not supported\n",
      "Current version (0.1.0)  1e-14  supported          default: True\n",
      "\u001b[31mFor a complete table of recommended hyperparameters, see\n",
      "\u001b[31mhttps://github.com/juntang-zhuang/Adabelief-Optimizer\n",
      "\u001b[0m\n",
      "\u001b[31mPlease check your arguments if you have upgraded adabelief-tf from version 0.0.1.\n",
      "\u001b[31mModifications to default arguments:\n",
      "\u001b[31m                           eps  weight_decouple    rectify\n",
      "-----------------------  -----  -----------------  -------------\n",
      "adabelief-tf=0.0.1       1e-08  Not supported      Not supported\n",
      "Current version (0.1.0)  1e-14  supported          default: True\n",
      "\u001b[31mFor a complete table of recommended hyperparameters, see\n",
      "\u001b[31mhttps://github.com/juntang-zhuang/Adabelief-Optimizer\n",
      "\u001b[0m\n",
      "9 Fold ACC of CNN = 0.8798283261802575\n",
      "\n",
      "10 Fold Training.....\n",
      "\u001b[31mPlease check your arguments if you have upgraded adabelief-tf from version 0.0.1.\n",
      "\u001b[31mModifications to default arguments:\n",
      "\u001b[31m                           eps  weight_decouple    rectify\n",
      "-----------------------  -----  -----------------  -------------\n",
      "adabelief-tf=0.0.1       1e-08  Not supported      Not supported\n",
      "Current version (0.1.0)  1e-14  supported          default: True\n",
      "\u001b[31mFor a complete table of recommended hyperparameters, see\n",
      "\u001b[31mhttps://github.com/juntang-zhuang/Adabelief-Optimizer\n",
      "\u001b[0m\n",
      "\u001b[31mPlease check your arguments if you have upgraded adabelief-tf from version 0.0.1.\n",
      "\u001b[31mModifications to default arguments:\n",
      "\u001b[31m                           eps  weight_decouple    rectify\n",
      "-----------------------  -----  -----------------  -------------\n",
      "adabelief-tf=0.0.1       1e-08  Not supported      Not supported\n",
      "Current version (0.1.0)  1e-14  supported          default: True\n",
      "\u001b[31mFor a complete table of recommended hyperparameters, see\n",
      "\u001b[31mhttps://github.com/juntang-zhuang/Adabelief-Optimizer\n",
      "\u001b[0m\n",
      "10 Fold ACC of CNN = 0.9012875536480687\n",
      "\n"
     ]
    }
   ],
   "source": [
    "cnn_acc = []\n",
    "cnn_pred = np.zeros((target.shape[0], 4))\n",
    "for i, (tr_idx, val_idx) in enumerate(skf.split(X, train.target)) :\n",
    "    print(f'{i + 1} Fold Training.....')\n",
    "    tr_x, tr_y = X[tr_idx], y[tr_idx]\n",
    "    val_x, val_y = X[val_idx], y[val_idx]\n",
    "    \n",
    "    ### CNN 모델\n",
    "    #레이어 수는 output class랑 같은 수여야됨, 이경우 4개\n",
    "    cnn = Sequential()\n",
    "    cnn.add(Conv2D(64, (3,1), padding = \"same\", activation = 'elu', input_shape = (8, 4, 1)))\n",
    "    cnn.add(BatchNormalization())\n",
    "    cnn.add(Conv2D(16, (2, 1), padding = \"same\", activation = 'elu')) # elu가  relu의 장점만 가져온 것\n",
    "    cnn.add(BatchNormalization())\n",
    "    cnn.add(Conv2D(64, (3, 1), padding = \"same\", activation = 'elu'))\n",
    "    cnn.add(BatchNormalization())\n",
    "    cnn.add(Conv2D(16, (2, 2), padding = \"same\", activation = 'elu'))\n",
    "    cnn.add(BatchNormalization())\n",
    "    cnn.add(Conv2D(64, (4, 3), padding = \"same\", activation = 'elu'))\n",
    "    cnn.add(BatchNormalization())\n",
    "    cnn.add(GlobalAveragePooling2D())\n",
    "    cnn.add(Dense(32, activation = 'relu'))\n",
    "    \n",
    "    cnn.add(Dense(4, activation = 'softmax'))\n",
    "\n",
    "    ### ModelCheckPoint Fold마다 갱신\n",
    "    mc = ModelCheckpoint(f'model_{i + 1}.h5', save_best_only = True, monitor = 'val_acc', mode = 'max', verbose = 0)\n",
    "    reduce_lr = ReduceLROnPlateau(monitor='val_acc', factor=0.1, patience=5, mode='max')\n",
    "\n",
    "    ### 모델 compile\n",
    "    cnn.compile(optimizer = AdaBeliefOptimizer(learning_rate= 0.04), loss = 'categorical_crossentropy', metrics = ['acc'])\n",
    "    #optimizer = Adam, RMSprop, Nadam, AdabelifOptimizer\n",
    "    cnn.fit(tr_x, tr_y, validation_data = (val_x, val_y), epochs = 100, batch_size = 32, callbacks = [es, mc,reduce_lr\n",
    "], verbose = 0)\n",
    "\n",
    "    ### 최고 성능 기록 모델 Load\n",
    "    best = load_model(f'model_{i + 1}.h5')\n",
    "    ### validation predict\n",
    "    val_pred = best.predict(val_x)\n",
    "    ### 확률값 중 최대값을 클래스로 매칭\n",
    "    val_cls = np.argmax(val_pred, axis = 1)\n",
    "    ### Fold별 정확도 산출\n",
    "    fold_cnn_acc = accuracy_score(np.argmax(val_y, axis = 1), val_cls)\n",
    "    cnn_acc.append(fold_cnn_acc)\n",
    "    print(f'{i + 1} Fold ACC of CNN = {fold_cnn_acc}\\n')\n",
    "\n",
    "    ### Fold별 test 데이터에 대한 예측값 생성 및 앙상블\n",
    "    fold_pred = best.predict(target) / skf.n_splits\n",
    "    cnn_pred += fold_pred"
   ]
  },
  {
   "cell_type": "code",
   "execution_count": 90,
   "metadata": {},
   "outputs": [
    {
     "data": {
      "text/plain": [
       "0.8865173691353949"
      ]
     },
     "execution_count": 90,
     "metadata": {},
     "output_type": "execute_result"
    }
   ],
   "source": [
    "np.mean(cnn_acc)  #0.8929"
   ]
  },
  {
   "cell_type": "code",
   "execution_count": 91,
   "metadata": {},
   "outputs": [],
   "source": [
    "submission['target'] = np.argmax(cnn_pred, axis = 1)"
   ]
  },
  {
   "cell_type": "code",
   "execution_count": 92,
   "metadata": {},
   "outputs": [],
   "source": [
    "submission.to_csv(\"cnn_rect_adabelief_submission.csv\", index = False)"
   ]
  },
  {
   "cell_type": "code",
   "execution_count": 46,
   "metadata": {},
   "outputs": [
    {
     "name": "stdout",
     "output_type": "stream",
     "text": [
      "1 Fold Training.....\n",
      "1 Fold ACC of CNN = 0.9017094017094017\n",
      "\n",
      "2 Fold Training.....\n",
      "2 Fold ACC of CNN = 0.8504273504273504\n",
      "\n",
      "3 Fold Training.....\n",
      "3 Fold ACC of CNN = 0.8888888888888888\n",
      "\n",
      "4 Fold Training.....\n",
      "4 Fold ACC of CNN = 0.8888888888888888\n",
      "\n",
      "5 Fold Training.....\n",
      "5 Fold ACC of CNN = 0.8846153846153846\n",
      "\n",
      "6 Fold Training.....\n",
      "6 Fold ACC of CNN = 0.8755364806866953\n",
      "\n",
      "7 Fold Training.....\n",
      "7 Fold ACC of CNN = 0.8798283261802575\n",
      "\n",
      "8 Fold Training.....\n",
      "8 Fold ACC of CNN = 0.9012875536480687\n",
      "\n",
      "9 Fold Training.....\n",
      "9 Fold ACC of CNN = 0.8798283261802575\n",
      "\n",
      "10 Fold Training.....\n",
      "10 Fold ACC of CNN = 0.871244635193133\n",
      "\n"
     ]
    }
   ],
   "source": [
    "cnn_acc = []\n",
    "cnn_pred = np.zeros((target.shape[0], 4))\n",
    "for i, (tr_idx, val_idx) in enumerate(skf.split(X, train.target)) :\n",
    "    print(f'{i + 1} Fold Training.....')\n",
    "    tr_x, tr_y = X[tr_idx], y[tr_idx]\n",
    "    val_x, val_y = X[val_idx], y[val_idx]\n",
    "    \n",
    "    ### CNN 모델\n",
    "    #레이어 수는 output class랑 같은 수여야됨, 이경우 4개\n",
    "    cnn = Sequential()\n",
    "    cnn.add(Conv2D(16, (1, 1), padding = \"same\", activation = 'elu', input_shape = (8, 4, 1)))\n",
    "    cnn.add(BatchNormalization())\n",
    "    cnn.add(Conv2D(32, (3, 3), padding = \"same\", activation = 'elu')) # elu가  relu의 장점만 가져온 것\n",
    "    cnn.add(BatchNormalization())\n",
    "    cnn.add(Conv2D(16, (1, 1), padding = \"same\", activation = 'elu'))\n",
    "    cnn.add(BatchNormalization())\n",
    "    cnn.add(Conv2D(64, (4, 4), padding = \"same\", activation = 'elu'))\n",
    "    cnn.add(BatchNormalization())\n",
    "    cnn.add(GlobalAveragePooling2D())\n",
    "    cnn.add(Dense(64, activation = 'relu'))\n",
    "    cnn.add(Dense(4, activation = 'softmax'))\n",
    "\n",
    "    ### ModelCheckPoint Fold마다 갱신\n",
    "    mc = ModelCheckpoint(f'model_{i + 1}.h5', save_best_only = True, monitor = 'val_acc', mode = 'max', verbose = 0)\n",
    "    \n",
    "    ### 모델 compile\n",
    "    cnn.compile(optimizer = RMSprop(learning_rate= 1e-4), loss = 'categorical_crossentropy', metrics = ['acc'])\n",
    "    \n",
    "    cnn.fit(tr_x, tr_y, validation_data = (val_x, val_y), epochs = 500, batch_size = 128, callbacks = [es, mc], verbose = 0)\n",
    "\n",
    "    ### 최고 성능 기록 모델 Load\n",
    "    best = load_model(f'model_{i + 1}.h5')\n",
    "    ### validation predict\n",
    "    val_pred = best.predict(val_x)\n",
    "    ### 확률값 중 최대값을 클래스로 매칭\n",
    "    val_cls = np.argmax(val_pred, axis = 1)\n",
    "    ### Fold별 정확도 산출\n",
    "    fold_cnn_acc = accuracy_score(np.argmax(val_y, axis = 1), val_cls)\n",
    "    cnn_acc.append(fold_cnn_acc)\n",
    "    print(f'{i + 1} Fold ACC of CNN = {fold_cnn_acc}\\n')\n",
    "\n",
    "    ### Fold별 test 데이터에 대한 예측값 생성 및 앙상블\n",
    "    fold_pred = best.predict(target) / skf.n_splits\n",
    "    cnn_pred += fold_pred"
   ]
  },
  {
   "cell_type": "code",
   "execution_count": 29,
   "metadata": {},
   "outputs": [],
   "source": [
    "import efficientnet.tfkeras as efn"
   ]
  },
  {
   "cell_type": "code",
   "execution_count": null,
   "metadata": {},
   "outputs": [],
   "source": [
    "cnn_acc = []\n",
    "cnn_pred = np.zeros((target.shape[0], 4))\n",
    "for i, (tr_idx, val_idx) in enumerate(skf.split(X, train.target)) :\n",
    "    print(f'{i + 1} Fold Training.....')\n",
    "    tr_x, tr_y = X[tr_idx], y[tr_idx]\n",
    "    val_x, val_y = X[val_idx], y[val_idx]\n",
    "    \n",
    "    ### CNN 모델\n",
    "    cnn = Sequential()\n",
    "    pre_trained_model = efn.EfficientNetB4(input_shape=(32, 32, 3), \n",
    "                                  include_top=False, \n",
    "                                  weights='imagenet')\n",
    "    cnn.add(pre_trained_model)\n",
    "    cnn.add(Conv2D(64, (2, 2), padding = \"same\", activation = 'elu'))\n",
    "    cnn.add(BatchNormalization())\n",
    "    cnn.add(Conv2D(32, (2, 2), padding = \"same\", activation = 'elu')) # elu가  relu의 장점만 가져온 것\n",
    "    cnn.add(BatchNormalization())\n",
    "    cnn.add(Conv2D(16, (3, 3), padding = \"same\", activation = 'elu'))\n",
    "    cnn.add(BatchNormalization())\n",
    "    cnn.add(Conv2D(32, (3, 3), padding = \"same\", activation = 'elu'))\n",
    "    cnn.add(BatchNormalization())\n",
    "    cnn.add(GlobalAveragePooling2D())\n",
    "    cnn.add(Dense(32, activation = 'relu'))\n",
    "    cnn.add(Dense(4, activation = 'softmax'))\n",
    "\n",
    "    ### ModelCheckPoint Fold마다 갱신\n",
    "    mc = ModelCheckpoint(f'model_{i + 1}.h5', save_best_only = True, monitor = 'val_acc', mode = 'max', verbose = 0)\n",
    "    \n",
    "    ### 모델 compile\n",
    "    cnn.compile(optimizer = RMSprop(learning_rate= 1e-3), loss = 'categorical_crossentropy', metrics = ['acc'])\n",
    "    \n",
    "    cnn.fit(tr_x, tr_y, validation_data = (val_x, val_y), epochs = 1000, batch_size = 128, callbacks = [es, mc], verbose = 0)\n",
    "\n",
    "    ### 최고 성능 기록 모델 Load\n",
    "    best = load_model(f'model_{i + 1}.h5')\n",
    "    ### validation predict\n",
    "    val_pred = best.predict(val_x)\n",
    "    ### 확률값 중 최대값을 클래스로 매칭\n",
    "    val_cls = np.argmax(val_pred, axis = 1)\n",
    "    ### Fold별 정확도 산출\n",
    "    fold_cnn_acc = accuracy_score(np.argmax(val_y, axis = 1), val_cls)\n",
    "    cnn_acc.append(fold_cnn_acc)\n",
    "    print(f'{i + 1} Fold ACC of CNN = {fold_cnn_acc}\\n')\n",
    "\n",
    "    ### Fold별 test 데이터에 대한 예측값 생성 및 앙상블\n",
    "    fold_pred = best.predict(target) / skf.n_splits\n",
    "    cnn_pred += fold_pred"
   ]
  },
  {
   "cell_type": "code",
   "execution_count": null,
   "metadata": {},
   "outputs": [],
   "source": [
    "cnn_acc = []\n",
    "cnn_pred = np.zeros((target.shape[0], 4))\n",
    "for i, (tr_idx, val_idx) in enumerate(skf.split(X, train.target)) :\n",
    "    print(f'{i + 1} Fold Training.....')\n",
    "    tr_x, tr_y = X[tr_idx], y[tr_idx]\n",
    "    val_x, val_y = X[val_idx], y[val_idx]\n",
    "    \n",
    "    ### CNN 모델\n",
    "    cnn = Sequential()\n",
    "    cnn.add(Conv2D(64, (2, 2), padding = \"same\", activation = 'elu', input_shape = (8, 4, 1)))\n",
    "    cnn.add(BatchNormalization())\n",
    "    cnn.add(Conv2D(16, (1, 1), padding = \"same\", activation = 'elu')) # elu가  relu의 장점만 가져온 것\n",
    "    cnn.add(BatchNormalization())\n",
    "    cnn.add(Conv2D(64, (3, 3), padding = \"same\", activation = 'elu'))\n",
    "    cnn.add(BatchNormalization())\n",
    "    cnn.add(Conv2D(16, (1, 1), padding = \"same\", activation = 'elu'))\n",
    "    cnn.add(BatchNormalization())\n",
    "    cnn.add(Conv2D(64, (4, 4), padding = \"same\", activation = 'elu'))\n",
    "    cnn.add(BatchNormalization())\n",
    "    cnn.add(GlobalAveragePooling2D())\n",
    "    cnn.add(Dense(32, activation = 'relu'))\n",
    "    cnn.add(Dense(4, activation = 'softmax'))\n",
    "\n",
    "    ### ModelCheckPoint Fold마다 갱신\n",
    "    mc = ModelCheckpoint(f'model_{i + 1}.h5', save_best_only = True, monitor = 'val_acc', mode = 'max', verbose = 0)\n",
    "    \n",
    "    ### 모델 compile\n",
    "    cnn.compile(optimizer = SGD(learning_rate = 1e-3), loss = 'categorical_crossentropy', metrics = ['acc'])\n",
    "    \n",
    "    cnn.fit(tr_x, tr_y, validation_data = (val_x, val_y), epochs = 100, batch_size = 32, callbacks = [es, mc], verbose = 0)\n",
    "\n",
    "    ### 최고 성능 기록 모델 Load\n",
    "    best = load_model(f'model_{i + 1}.h5')\n",
    "    ### validation predict\n",
    "    val_pred = best.predict(val_x)\n",
    "    ### 확률값 중 최대값을 클래스로 매칭\n",
    "    val_cls = np.argmax(val_pred, axis = 1)\n",
    "    ### Fold별 정확도 산출\n",
    "    fold_cnn_acc = accuracy_score(np.argmax(val_y, axis = 1), val_cls)\n",
    "    cnn_acc.append(fold_cnn_acc)\n",
    "    print(f'{i + 1} Fold ACC of CNN = {fold_cnn_acc}\\n')\n",
    "\n",
    "    ### Fold별 test 데이터에 대한 예측값 생성 및 앙상블\n",
    "    fold_pred = best.predict(target) / skf.n_splits\n",
    "    cnn_pred += fold_pred"
   ]
  },
  {
   "cell_type": "code",
   "execution_count": 39,
   "metadata": {},
   "outputs": [
    {
     "name": "stdout",
     "output_type": "stream",
     "text": [
      "1 Fold Training.....\n",
      "1 Fold ACC of CNN = 0.8333333333333334\n",
      "\n",
      "2 Fold Training.....\n",
      "2 Fold ACC of CNN = 0.905982905982906\n",
      "\n",
      "3 Fold Training.....\n",
      "3 Fold ACC of CNN = 0.8247863247863247\n",
      "\n",
      "4 Fold Training.....\n",
      "4 Fold ACC of CNN = 0.8803418803418803\n",
      "\n",
      "5 Fold Training.....\n",
      "5 Fold ACC of CNN = 0.8760683760683761\n",
      "\n",
      "6 Fold Training.....\n",
      "6 Fold ACC of CNN = 0.8626609442060086\n",
      "\n",
      "7 Fold Training.....\n",
      "7 Fold ACC of CNN = 0.9055793991416309\n",
      "\n",
      "8 Fold Training.....\n",
      "8 Fold ACC of CNN = 0.8369098712446352\n",
      "\n",
      "9 Fold Training.....\n",
      "9 Fold ACC of CNN = 0.8540772532188842\n",
      "\n",
      "10 Fold Training.....\n",
      "10 Fold ACC of CNN = 0.9098712446351931\n",
      "\n"
     ]
    }
   ],
   "source": [
    "cnn_acc = []\n",
    "cnn_pred = np.zeros((target.shape[0], 4))\n",
    "for i, (tr_idx, val_idx) in enumerate(skf.split(X, train.target)) :\n",
    "    print(f'{i + 1} Fold Training.....')\n",
    "    tr_x, tr_y = X[tr_idx], y[tr_idx]\n",
    "    val_x, val_y = X[val_idx], y[val_idx]\n",
    "    \n",
    "    ### CNN 모델\n",
    "    cnn = Sequential()\n",
    "    cnn.add(Conv2D(16, (1, 1), activation = 'elu', input_shape = (8, 4, 1)))\n",
    "    # padding = 'valid'로 바꿔보기\n",
    "    cnn.add(BatchNormalization()) # cnn.add(Dropout(0.2)) BatchNormalization이 있으면 사용안해도됨\n",
    "    cnn.add(Conv2D(32, (2, 2), activation = 'elu')) # elu가  relu의 장점만 가져온 것\n",
    "    cnn.add(BatchNormalization())\n",
    "    cnn.add(ZeroPadding2D(padding=(1, 1)))\n",
    "    cnn.add(Conv2D(32, (2, 2),padding = \"same\", activation = 'elu'))\n",
    "    cnn.add(BatchNormalization())\n",
    "    cnn.add(Conv2D(64, (3, 3),padding = \"same\", activation = 'elu'))\n",
    "    cnn.add(BatchNormalization())\n",
    "    cnn.add(ZeroPadding2D(padding=(1, 1)))\n",
    "    cnn.add(Conv2D(128, (3, 3),padding = \"same\", activation = 'elu'))\n",
    "    cnn.add(BatchNormalization())\n",
    "    cnn.add(Conv2D(64, (3, 3),padding = \"same\", activation = 'elu'))\n",
    "    cnn.add(BatchNormalization())\n",
    "    cnn.add(Conv2D(64, (3, 3),padding = \"same\", activation = 'elu'))\n",
    "    cnn.add(BatchNormalization())\n",
    "    cnn.add(Conv2D(128, (4, 4), padding = \"same\", activation = 'elu'))\n",
    "    cnn.add(BatchNormalization())\n",
    "    cnn.add(GlobalAveragePooling2D())\n",
    "    cnn.add(Dense(64, activation = 'relu'))\n",
    "    cnn.add(Dense(4, activation = 'softmax'))\n",
    "\n",
    "    ### ModelCheckPoint Fold마다 갱신\n",
    "    mc = ModelCheckpoint(f'model_{i + 1}.h5', save_best_only = True, monitor = 'val_acc', mode = 'max', verbose = 0)\n",
    "    \n",
    "    ### 모델 compile\n",
    "    cnn.compile(optimizer = RMSprop(learning_rate= 1e-4), loss = 'categorical_crossentropy', metrics = ['acc'])\n",
    "    \n",
    "    cnn.fit(tr_x, tr_y, validation_data = (val_x, val_y), epochs = 1000, batch_size = 128, callbacks = [es, mc], verbose = 0)\n",
    "    # batch_sieze, epochs 높을 수록 학습률이 높을 수 있음\n",
    "    \n",
    "    ### 최고 성능 기록 모델 Load\n",
    "    best = load_model(f'model_{i + 1}.h5')\n",
    "    ### validation predict\n",
    "    val_pred = best.predict(val_x)\n",
    "    ### 확률값 중 최대값을 클래스로 매칭\n",
    "    val_cls = np.argmax(val_pred, axis = 1)\n",
    "    ### Fold별 정확도 산출\n",
    "    fold_cnn_acc = accuracy_score(np.argmax(val_y, axis = 1), val_cls)\n",
    "    cnn_acc.append(fold_cnn_acc)\n",
    "    print(f'{i + 1} Fold ACC of CNN = {fold_cnn_acc}\\n')\n",
    "\n",
    "    ### Fold별 test 데이터에 대한 예측값 생성 및 앙상블\n",
    "    fold_pred = best.predict(target) / skf.n_splits\n",
    "    cnn_pred += fold_pred"
   ]
  },
  {
   "cell_type": "code",
   "execution_count": null,
   "metadata": {},
   "outputs": [],
   "source": []
  },
  {
   "cell_type": "markdown",
   "metadata": {},
   "source": [
    "# rectangularCNN_Swap Noise_ Normalize"
   ]
  },
  {
   "cell_type": "code",
   "execution_count": 10,
   "metadata": {},
   "outputs": [],
   "source": [
    "from matplotlib import pyplot as plt\n",
    "from scipy import stats\n",
    "import pandas as pd\n",
    "import numpy as np\n",
    "import seaborn as sns\n",
    "import tensorflow as tf\n",
    "%matplotlib inline"
   ]
  },
  {
   "cell_type": "code",
   "execution_count": 11,
   "metadata": {},
   "outputs": [],
   "source": [
    "train_X = train.drop(['target', 'id'], axis = 1)\n",
    "train_X = (train_X+130)/260 \n",
    "train_X = np.array(train_X)\n",
    "train_X = np.array(train_X).reshape(-1, 8, 4, 1)\n",
    "\n",
    "train_Y = train['target']\n",
    "train_Y = np.array(train_Y)\n",
    "\n",
    "X_test = test.drop('id', axis = 1)\n",
    "X_test = (X_test+130)/260\n",
    "X_test = np.array(X_test).reshape(-1, 8, 4, 1)"
   ]
  },
  {
   "cell_type": "code",
   "execution_count": 12,
   "metadata": {},
   "outputs": [
    {
     "name": "stdout",
     "output_type": "stream",
     "text": [
      "min : 0.008470580769230797 \n",
      "max : 0.9890809815384616\n"
     ]
    }
   ],
   "source": [
    "print(\"min :\", train_X.min(), \"\\nmax :\", train_X.max())"
   ]
  },
  {
   "cell_type": "code",
   "execution_count": 41,
   "metadata": {},
   "outputs": [
    {
     "data": {
      "text/plain": [
       "(2335, 8, 4, 1)"
      ]
     },
     "execution_count": 41,
     "metadata": {},
     "output_type": "execute_result"
    }
   ],
   "source": [
    "train_X.shape"
   ]
  },
  {
   "cell_type": "code",
   "execution_count": 42,
   "metadata": {},
   "outputs": [
    {
     "data": {
      "text/plain": [
       "(2335,)"
      ]
     },
     "execution_count": 42,
     "metadata": {},
     "output_type": "execute_result"
    }
   ],
   "source": [
    "train_Y.shape"
   ]
  },
  {
   "cell_type": "code",
   "execution_count": 37,
   "metadata": {},
   "outputs": [],
   "source": [
    "def identity_block(X, filters, kernel_size):\n",
    "    X_shortcut = X\n",
    "    \n",
    "    X = tf.keras.layers.Conv2D(filters, (1,1), padding='SAME')(X)\n",
    "    X = tf.keras.layers.BatchNormalization()(X)\n",
    "    X = tf.keras.layers.Activation('elu')(X)\n",
    "    \n",
    "    X = tf.keras.layers.Conv2D(filters, kernel_size, padding='SAME')(X)\n",
    "    X = tf.keras.layers.BatchNormalization()(X)\n",
    "    X = tf.keras.layers.Activation('elu')(X)\n",
    "    \n",
    "    X = tf.keras.layers.Conv2D(filters*4, (1,1), padding='SAME')(X)\n",
    "    X = tf.keras.layers.BatchNormalization()(X)\n",
    "    \n",
    "    # Add\n",
    "    X = tf.keras.layers.Add()([X, X_shortcut])\n",
    "    X = tf.keras.layers.Activation('elu')(X)\n",
    "    \n",
    "    return X"
   ]
  },
  {
   "cell_type": "code",
   "execution_count": 38,
   "metadata": {},
   "outputs": [],
   "source": [
    "def convolutional_block(X, filters, kernel_size):\n",
    "    X_shortcut = X\n",
    "    \n",
    "    X = tf.keras.layers.Conv2D(filters, (1,1), padding='SAME')(X)\n",
    "    X = tf.keras.layers.BatchNormalization()(X)\n",
    "    X = tf.keras.layers.Activation('elu')(X)\n",
    "    \n",
    "    X = tf.keras.layers.Conv2D(filters, kernel_size, padding='SAME')(X)\n",
    "    X = tf.keras.layers.BatchNormalization()(X)\n",
    "    X = tf.keras.layers.Activation('elu')(X)\n",
    "    \n",
    "    X = tf.keras.layers.Conv2D(filters*4, (1,1), padding='SAME')(X)\n",
    "    X = tf.keras.layers.BatchNormalization()(X)\n",
    "\n",
    "    X_shortcut = tf.keras.layers.Conv2D(filters*4, (1,1), padding='SAME')(X_shortcut) #use 1x1 conv to make shape same\n",
    "    X_shortcut = tf.keras.layers.BatchNormalization()(X_shortcut)\n",
    "    \n",
    "    # Add\n",
    "    X = tf.keras.layers.Add()([X, X_shortcut])\n",
    "    X = tf.keras.layers.Activation('elu')(X)\n",
    "    \n",
    "    return X"
   ]
  },
  {
   "cell_type": "code",
   "execution_count": 43,
   "metadata": {},
   "outputs": [],
   "source": [
    "def CustomModel(input_shape = (8, 4, 1), classes = 4):\n",
    "    X_input = tf.keras.layers.Input(input_shape)\n",
    "    X = X_input\n",
    "    \n",
    "    X = convolutional_block(X, 16, (3,2)) #(3,3) 보다는 직사각형 이미지이기때문에 (3,2)처럼 직사각형 필터를 사용\n",
    "    X = identity_block(X, 16, (3,2))\n",
    "    X = identity_block(X, 16, (3,2))\n",
    "    \n",
    "    X = tf.keras.layers.AveragePooling2D(2,2)(X) #Max보다는 Average pool이 성능이 잘나옴\n",
    "\n",
    "    X = convolutional_block(X, 64, (2,1)) #(2,1) 직사각형 필터를 사용\n",
    "    X = identity_block(X, 64, (2,1))\n",
    "    X = identity_block(X, 64, (2,1))\n",
    "    \n",
    "    X = tf.keras.layers.GlobalAveragePooling2D()(X) #Flatten 대신 사용\n",
    "    \n",
    "    X = tf.keras.layers.Dense(128, activation = \"relu\")(X)\n",
    "    \n",
    "    X = tf.keras.layers.Dropout(0.5)(X)\n",
    "    \n",
    "    X = tf.keras.layers.Dense(classes, activation = \"softmax\")(X)\n",
    "\n",
    "    model = tf.keras.models.Model(inputs = X_input, outputs = X, name = \"CustomModel\")\n",
    "    \n",
    "    return model"
   ]
  },
  {
   "cell_type": "code",
   "execution_count": null,
   "metadata": {
    "scrolled": true
   },
   "outputs": [],
   "source": [
    "from sklearn.model_selection import StratifiedKFold\n",
    "from sklearn.utils import shuffle\n",
    "\n",
    "skf = StratifiedKFold(n_splits = 15, random_state = 1000, shuffle = True) #총 15번의 fold 진행\n",
    "n = 0 #x번째 fold인지 기록\n",
    "\n",
    "cnn_pred = [] #모델의 예측값 모두 저장\n",
    "\n",
    "for train_index, valid_index in skf.split(train_X, train_Y):\n",
    "    n += 1\n",
    "    X_train, X_valid = train_X[train_index], train_X[valid_index]\n",
    "    y_train, y_valid = train_Y[train_index], train_Y[valid_index]\n",
    "\n",
    "    ### Swap Noise ###\n",
    "    X_train_mix = np.array(X_train)\n",
    "    for x in range(X_train_mix.shape[0]):\n",
    "        for i in range(5):\n",
    "            y = np.random.randint(0, 8)\n",
    "            z = np.random.randint(0, 4)\n",
    "            \n",
    "            while True:\n",
    "                c = np.random.randint(0, X_train_mix.shape[0]-1)\n",
    "                if ((x != c)and(y_train[x] == y_train[c])):\n",
    "                    break\n",
    "                    \n",
    "            X_train_mix[x][y][z] = X_train[c][y][z]\n",
    "\n",
    "    X_train = np.append(X_train, X_train_mix, axis = 0)\n",
    "    y_train = np.append(y_train, y_train, axis = 0)\n",
    "    \n",
    "    ### Mix Data Again ####\n",
    "    X_train, y_train = shuffle(X_train, y_train, random_state=42)\n",
    "    \n",
    "    y_train = tf.one_hot(y_train, 4)\n",
    "    y_train = tf.reshape(y_train, [-1,4])\n",
    "    y_train = np.array(y_train)\n",
    "    \n",
    "    y_valid = tf.one_hot(y_valid, 4)\n",
    "    y_valid = tf.reshape(y_valid, [-1,4])\n",
    "    y_valid = np.array(y_valid)\n",
    "    \n",
    "    ### Create Model ###\n",
    "    model = CustomModel()\n",
    "    \n",
    "    ### Compile Model ###\n",
    "    model.compile(optimizer='RMSprop', # 무난한 adam 사용\n",
    "                  \n",
    "                  loss='categorical_crossentropy',\n",
    "                  metrics=['accuracy'])\n",
    "    \n",
    "    ### Create callbacks ###\n",
    "    filename = 'CNN-checkpoint.h5'\n",
    "    checkpoint = tf.keras.callbacks.ModelCheckpoint(filename,             # file명을 지정합니다\n",
    "                                                    monitor='val_accuracy',   # val_accuracy 값이 개선되었을때 호출됩니다\n",
    "                                                    verbose=0,            # 로그를 출력합니다 0일경우 출력 X\n",
    "                                                    save_best_only=True,  # 가장 best 값만 저장합니다\n",
    "                                                    mode='auto'           # auto는 알아서 best를 찾습니다. min/max (loss->min, accuracy->max)\n",
    "                                                   )\n",
    "    earlystopping = tf.keras.callbacks.EarlyStopping(monitor='val_accuracy',  # 모니터 기준 설정 (val loss) \n",
    "                                  patience=50,         # 12 Epoch동안 개선되지 않는다면 종료\n",
    "                                 )\n",
    "    reduceLR = tf.keras.callbacks.ReduceLROnPlateau(\n",
    "        monitor='val_accuracy', # val_accuracy 값이 개선되었을때 호출됩니다\n",
    "        factor=0.5, # learning rate이 0.5배 줄어듬\n",
    "        patience=6, # 6 Epoch동안 개선되지 않는다면 호출\n",
    "    )\n",
    "    \n",
    "    ### fit model ###\n",
    "    data = model.fit(X_train, \n",
    "                     y_train, \n",
    "                     validation_data=(X_valid, y_valid), \n",
    "                     epochs=100, \n",
    "                     batch_size=32, # batch size가 32일때 가장 좋은 성능을 보임\n",
    "                     callbacks=[reduceLR, earlystopping, checkpoint],\n",
    "                     verbose=0 # 로그 출력을 없앰, 어짜피 아래 print에서 한번에 best_accuracy만 출력할것이기 때문이다.\n",
    "                    )\n",
    "    \n",
    "    idx = data.history['val_accuracy'].index(max(data.history['val_accuracy']))\n",
    "    \n",
    "    print(\"fold %d / val_accuracy : %0.4f / val_loss : %0.4f\" %(n,\n",
    "                                                                data.history['val_accuracy'][idx], \n",
    "                                                                data.history['val_loss'][idx]))\n",
    "    \n",
    "    ### predict model ###\n",
    "    model = tf.keras.models.load_model('./CNN-checkpoint.h5') # best accuracy를 기록한 모델을 불러옴\n",
    "    pred_proba = model.predict(X_test) # 테스트 셋에 대한 예측 수행\n",
    "    cnn_pred.append(pred_proba) # 예측값을 cnn_pred 리스트에 저장"
   ]
  },
  {
   "cell_type": "code",
   "execution_count": null,
   "metadata": {},
   "outputs": [],
   "source": [
    "pred_proba = cnn_pred[0]\n",
    "pred_proba = np.array(pred_proba)\n",
    "print(pred_proba[0])\n",
    "\n",
    "for x in range(1, 15):\n",
    "    pred_proba += cnn_pred[x]\n",
    "    print(cnn_pred[x][0])\n",
    "\n",
    "pred_class = []\n",
    "\n",
    "for i in pred_proba:\n",
    "    pred = np.argmax(i)\n",
    "    pred_class.append(pred)"
   ]
  },
  {
   "cell_type": "code",
   "execution_count": 22,
   "metadata": {},
   "outputs": [],
   "source": [
    "import pandas as pd\n",
    "\n",
    "sample_submission = pd.read_csv(\"./sample_submission.csv\")\n",
    "\n",
    "sample_submission.target = pred_class\n",
    "sample_submission.to_csv(\"cnn_rectangular_elu_submission.csv\",index=False)"
   ]
  },
  {
   "cell_type": "markdown",
   "metadata": {},
   "source": [
    "# catboost"
   ]
  },
  {
   "cell_type": "code",
   "execution_count": 28,
   "metadata": {},
   "outputs": [],
   "source": [
    "from catboost import CatBoostClassifier, Pool"
   ]
  },
  {
   "cell_type": "code",
   "execution_count": 29,
   "metadata": {},
   "outputs": [],
   "source": [
    "from sklearn.model_selection import KFold "
   ]
  },
  {
   "cell_type": "code",
   "execution_count": 12,
   "metadata": {},
   "outputs": [],
   "source": [
    "def catboost_modeling(x_train, y_train, x_test, grow_policy, depth, learning_rate, l2_leaf_reg, random_seed, n):\n",
    "  \n",
    "  # 빈 Series인 test_pred 생성\n",
    "    test_pred = pd.Series([0 for x in range(len(x_test))], index=x_test.index)\n",
    "  \n",
    "  # 10-fold 모델링을 n회 반복할 것\n",
    "    for i in range(n):\n",
    "        kf = KFold(n_splits=10, random_state=random_seed+i)\n",
    "        for train_index, valid_index in kf.split(x_train):\n",
    "            train_X, train_y = x_train.iloc[train_index], y_train[train_index]\n",
    "            valid_X, valid_y = x_train.iloc[valid_index], y_train[valid_index]\n",
    "      \n",
    "      # catBoost(grow_policy='Depthwise')\n",
    "            model = CatBoostClassifier(eval_metric = 'AUC',              # AUC로 성능 측정\n",
    "                                 iterations = 25000,               # 반복횟수 최대 25000\n",
    "                                 metric_period = 25000,            # 중간결과 출력X\n",
    "                                 early_stopping_rounds = 1000,     # 1000iteration 동안 AUC 증가 없으면 학습 중단\n",
    "                                 task_type = 'GPU',                # GPU 사용\n",
    "                                 grow_policy = grow_policy,        # 트리 노드 생성 방식\n",
    "                                                                   # 1) Depthwise(지정한 depth에 이를 때까지 level 순으로 노드 분할)\n",
    "                                                                   # 2) Lossguide(loss 변화가 큰 순으로 노드 분할)\n",
    "                                 depth = depth,                    # 트리 깊이\n",
    "                                 learning_rate = learning_rate,    # 러닝레이트\n",
    "                                 l2_leaf_reg = l2_leaf_reg,        # L2 정규화\n",
    "                                 random_seed = random_seed+i,      # 랜덤시드 고정\n",
    "                                 )\n",
    "      # 모델 학습\n",
    "            model.fit(train_X, train_y, eval_set=(valid_X, valid_y))\n",
    "    \n",
    "      # 모델 적용\n",
    "            test_pred += model.predict_proba(x_test)[:,1] /(10*n)\n",
    "    sample_submission = pd.read_csv('sample_submission.csv', index_col=0)\n",
    "\n",
    "    submission = pd.DataFrame(data=test_pred, columns=sample_submission.columns, index=sample_submission.index)\n",
    "    submission.to_csv('CatBoost_'+grow_policy+'_'+str(depth)+2+'.csv', index=True)\n",
    "\n",
    "    return test_pred"
   ]
  },
  {
   "cell_type": "code",
   "execution_count": 30,
   "metadata": {},
   "outputs": [],
   "source": [
    "def catboost_modeling(x_train, y_train, x_test, grow_policy, depth, learning_rate, l2_leaf_reg, random_seed, n):\n",
    "  \n",
    "  # 빈 Series인 test_pred 생성\n",
    "    test_pred = pd.Series([0 for x in range(len(x_test))], index=x_test.index)\n",
    "  \n",
    "  # 10-fold 모델링을 n회 반복할 것\n",
    "    for i in range(n):\n",
    "        kf = KFold(n_splits=10, random_state=random_seed+i)\n",
    "        for train_index, valid_index in kf.split(x_train):\n",
    "            train_X, train_y = x_train.iloc[train_index], y_train[train_index]\n",
    "            valid_X, valid_y = x_train.iloc[valid_index], y_train[valid_index]\n",
    "      \n",
    "      # catBoost(grow_policy='Depthwise')\n",
    "            model = CatBoostClassifier(eval_metric = 'AUC',              # AUC로 성능 측정\n",
    "                                 iterations = 25000,               # 반복횟수 최대 25000\n",
    "                                 metric_period = 25000,            # 중간결과 출력X\n",
    "                                 early_stopping_rounds = 1000,     # 1000iteration 동안 AUC 증가 없으면 학습 중단\n",
    "                                 task_type = 'GPU',                # GPU 사용\n",
    "                                 grow_policy = grow_policy,        # 트리 노드 생성 방식\n",
    "                                                                   # 1) Depthwise(지정한 depth에 이를 때까지 level 순으로 노드 분할)\n",
    "                                                                   # 2) Lossguide(loss 변화가 큰 순으로 노드 분할)\n",
    "                                 depth = depth,                    # 트리 깊이\n",
    "                                 learning_rate = learning_rate,    # 러닝레이트\n",
    "                                 l2_leaf_reg = l2_leaf_reg,        # L2 정규화\n",
    "                                 random_seed = random_seed+i,      # 랜덤시드 고정\n",
    "                                 )\n",
    "      # 모델 학습\n",
    "            model.fit(train_X, train_y, eval_set=(valid_X, valid_y))\n",
    "    \n",
    "      # 모델 적용\n",
    "            test_pred += model.predict(x_test)[:,0]/(10*n)\n",
    "    sample_submission = pd.read_csv('sample_submission.csv', index_col=0)\n",
    "\n",
    "    submission = pd.DataFrame(data=test_pred, columns=sample_submission.columns, index=sample_submission.index)\n",
    "    submission.to_csv('CatBoost_'+grow_policy+'_'+str(depth)+'pred'+'.csv', index=True)\n",
    "\n",
    "    return test_pred"
   ]
  },
  {
   "cell_type": "code",
   "execution_count": 12,
   "metadata": {
    "scrolled": true
   },
   "outputs": [
    {
     "name": "stderr",
     "output_type": "stream",
     "text": [
      "C:\\Users\\Seo\\anaconda3\\lib\\site-packages\\sklearn\\model_selection\\_split.py:293: FutureWarning: Setting a random_state has no effect since shuffle is False. This will raise an error in 0.24. You should leave random_state to its default (None), or set shuffle=True.\n",
      "  warnings.warn(\n",
      "AUC is not implemented on GPU. Will use CPU for metric computation, this could significantly affect learning time\n"
     ]
    },
    {
     "name": "stdout",
     "output_type": "stream",
     "text": [
      "0:\ttest: 0.7605442\tbest: 0.7605442 (0)\ttotal: 32.5ms\tremaining: 13m 32s\n",
      "bestTest = 0.9864241074\n",
      "bestIteration = 10500\n",
      "Shrink model to first 10501 iterations.\n"
     ]
    },
    {
     "ename": "NameError",
     "evalue": "name 'n' is not defined",
     "output_type": "error",
     "traceback": [
      "\u001b[1;31m---------------------------------------------------------------------------\u001b[0m",
      "\u001b[1;31mNameError\u001b[0m                                 Traceback (most recent call last)",
      "\u001b[1;32m<ipython-input-12-df443430480c>\u001b[0m in \u001b[0;36m<module>\u001b[1;34m\u001b[0m\n\u001b[0;32m     27\u001b[0m \u001b[1;33m\u001b[0m\u001b[0m\n\u001b[0;32m     28\u001b[0m   \u001b[1;31m# 모델 적용\u001b[0m\u001b[1;33m\u001b[0m\u001b[1;33m\u001b[0m\u001b[1;33m\u001b[0m\u001b[0m\n\u001b[1;32m---> 29\u001b[1;33m         \u001b[0mtest_pred\u001b[0m\u001b[1;33m+=\u001b[0m\u001b[0mmodel\u001b[0m\u001b[1;33m.\u001b[0m\u001b[0mpredict\u001b[0m\u001b[1;33m(\u001b[0m\u001b[0mtest\u001b[0m\u001b[1;33m)\u001b[0m\u001b[1;33m[\u001b[0m\u001b[1;33m:\u001b[0m\u001b[1;33m,\u001b[0m\u001b[1;36m0\u001b[0m\u001b[1;33m]\u001b[0m\u001b[1;33m/\u001b[0m\u001b[1;33m(\u001b[0m\u001b[1;36m10\u001b[0m\u001b[1;33m*\u001b[0m\u001b[0mn\u001b[0m\u001b[1;33m)\u001b[0m\u001b[1;33m\u001b[0m\u001b[1;33m\u001b[0m\u001b[0m\n\u001b[0m",
      "\u001b[1;31mNameError\u001b[0m: name 'n' is not defined"
     ]
    }
   ],
   "source": [
    "# 빈 Series인 test_pred 생성\n",
    "\n",
    "test_pred = pd.Series([0 for x in range(len(test))], index=test.index)\n",
    "# 10-fold 모델링을 n회 반복할 것\n",
    "for i in range(2):\n",
    "    kf = KFold(n_splits=10, random_state=2014+i)\n",
    "    for train_index, valid_index in kf.split(train_X):\n",
    "        train_x, train_Y = train_X.iloc[train_index], train_y[train_index]\n",
    "        valid_X, valid_y = train_X.iloc[valid_index], train_y[valid_index]\n",
    "\n",
    "  # catBoost(grow_policy='Depthwise')\n",
    "        model = CatBoostClassifier(eval_metric = 'AUC',              # AUC로 성능 측정\n",
    "                             iterations = 25000,               # 반복횟수 최대 25000\n",
    "                             metric_period = 25000,            # 중간결과 출력X\n",
    "                             early_stopping_rounds = 1000,     # 1000iteration 동안 AUC 증가 없으면 학습 중단\n",
    "                             task_type = 'GPU',                # GPU 사용\n",
    "                             grow_policy = 'Lossguide',        # 트리 노드 생성 방식\n",
    "                                                               # 1) Depthwise(지정한 depth에 이를 때까지 level 순으로 노드 분할)\n",
    "                                                               # 2) Lossguide(loss 변화가 큰 순으로 노드 분할)\n",
    "                             depth = 8,                    # 트리 깊이\n",
    "                             learning_rate = 0.01063,    # 러닝레이트\n",
    "                             l2_leaf_reg = 5.127,        # L2 정규화\n",
    "                             random_seed = 2014+i,      # 랜덤시드 고정\n",
    "                             )\n",
    "  # 모델 학습\n",
    "        model.fit(train_x, train_Y, eval_set=(valid_X, valid_y))\n",
    "\n",
    "  # 모델 적용\n",
    "        test_pred+=model.predict(test)[:,0]/(10*n)"
   ]
  },
  {
   "cell_type": "code",
   "execution_count": 82,
   "metadata": {},
   "outputs": [
    {
     "data": {
      "text/plain": [
       "0        0\n",
       "1        0\n",
       "2       20\n",
       "3       60\n",
       "4       40\n",
       "        ..\n",
       "9338    60\n",
       "9339    20\n",
       "9340    16\n",
       "9341     0\n",
       "9342    60\n",
       "Length: 9343, dtype: int64"
      ]
     },
     "execution_count": 82,
     "metadata": {},
     "output_type": "execute_result"
    }
   ],
   "source": [
    "test_pred"
   ]
  },
  {
   "cell_type": "code",
   "execution_count": 62,
   "metadata": {},
   "outputs": [
    {
     "data": {
      "text/plain": [
       "0       0\n",
       "1       0\n",
       "2       0\n",
       "3       0\n",
       "4       0\n",
       "       ..\n",
       "9338    0\n",
       "9339    0\n",
       "9340    0\n",
       "9341    0\n",
       "9342    0\n",
       "Length: 9343, dtype: int64"
      ]
     },
     "execution_count": 62,
     "metadata": {},
     "output_type": "execute_result"
    }
   ],
   "source": []
  },
  {
   "cell_type": "code",
   "execution_count": 57,
   "metadata": {},
   "outputs": [
    {
     "data": {
      "text/plain": [
       "array([], shape=(9343, 0), dtype=float64)"
      ]
     },
     "execution_count": 57,
     "metadata": {},
     "output_type": "execute_result"
    }
   ],
   "source": [
    "pred"
   ]
  },
  {
   "cell_type": "code",
   "execution_count": 45,
   "metadata": {
    "scrolled": false
   },
   "outputs": [
    {
     "data": {
      "text/plain": [
       "0       0.009996\n",
       "1       0.003381\n",
       "2       0.885006\n",
       "3       0.225346\n",
       "4       0.001205\n",
       "          ...   \n",
       "9338    0.034956\n",
       "9339    0.843496\n",
       "9340    0.006086\n",
       "9341    0.000485\n",
       "9342    0.002170\n",
       "Length: 9343, dtype: float64"
      ]
     },
     "execution_count": 45,
     "metadata": {},
     "output_type": "execute_result"
    }
   ],
   "source": [
    "test_pred"
   ]
  },
  {
   "cell_type": "code",
   "execution_count": 17,
   "metadata": {
    "scrolled": true
   },
   "outputs": [
    {
     "data": {
      "text/plain": [
       "0       0.0\n",
       "1       0.0\n",
       "2       1.0\n",
       "3       3.0\n",
       "4       2.0\n",
       "       ... \n",
       "9338    3.0\n",
       "9339    1.0\n",
       "9340    0.8\n",
       "9341    0.0\n",
       "9342    3.0\n",
       "Length: 9343, dtype: float64"
      ]
     },
     "execution_count": 17,
     "metadata": {},
     "output_type": "execute_result"
    }
   ],
   "source": [
    "data2"
   ]
  },
  {
   "cell_type": "code",
   "execution_count": 15,
   "metadata": {},
   "outputs": [
    {
     "data": {
      "text/plain": [
       "array([0.  , 1.  , 3.  , 2.  , 1.4 , 1.8 , 1.1 , 2.05, 1.7 , 2.6 , 1.1 ,\n",
       "       0.2 , 1.5 , 1.6 , 0.3 , 2.6 , 1.5 , 2.1 , 2.9 , 1.25, 2.35, 1.  ,\n",
       "       1.9 , 1.6 , 2.8 , 2.  , 2.7 , 1.75, 0.4 , 1.55, 0.1 , 2.35, 1.3 ,\n",
       "       1.2 , 1.05, 2.8 , 1.95, 2.  , 1.7 , 1.4 , 1.2 , 2.55, 2.85, 2.65,\n",
       "       0.7 , 0.6 , 2.3 , 0.15, 0.5 , 2.15, 2.2 , 2.2 , 2.4 , 1.35, 0.75,\n",
       "       0.45, 2.  , 1.85, 2.5 , 1.9 , 2.4 , 2.3 , 0.9 , 1.5 , 0.85, 2.05,\n",
       "       1.6 , 1.95, 2.1 , 0.15, 2.95, 0.3 , 2.45, 1.7 , 1.1 , 0.95, 1.95,\n",
       "       0.8 , 2.2 , 1.05, 2.3 , 0.95, 1.3 , 0.9 , 2.5 , 1.2 , 1.3 , 0.4 ,\n",
       "       1.75, 1.65, 2.55, 1.65, 1.95, 1.9 , 1.8 , 2.7 , 0.7 , 0.05, 1.7 ,\n",
       "       1.35, 2.4 , 2.95, 2.55, 2.9 , 1.8 , 2.25, 2.25, 2.6 , 0.8 , 0.55,\n",
       "       0.9 , 1.55, 1.5 , 0.25, 0.8 , 1.15, 1.9 , 2.1 , 2.1 , 1.35, 0.5 ,\n",
       "       2.65, 0.75, 2.6 , 1.1 , 1.2 , 1.8 , 0.75, 1.4 , 1.85, 1.8 , 2.3 ,\n",
       "       2.5 , 1.35, 2.7 , 1.3 , 1.45, 0.35, 2.8 , 2.25, 1.9 , 1.95, 2.5 ,\n",
       "       2.65, 1.6 , 2.35, 1.15, 1.15, 2.75, 0.65, 1.45, 1.65, 1.85, 2.45,\n",
       "       2.2 , 0.55, 2.3 , 1.45, 2.  , 2.25, 0.65, 1.8 , 2.15, 1.  , 1.45,\n",
       "       1.4 , 1.15, 2.05, 1.5 ])"
      ]
     },
     "execution_count": 15,
     "metadata": {},
     "output_type": "execute_result"
    }
   ],
   "source": [
    "data2.unique()"
   ]
  },
  {
   "cell_type": "code",
   "execution_count": 19,
   "metadata": {},
   "outputs": [],
   "source": [
    "data2_int = data2.round(0)"
   ]
  },
  {
   "cell_type": "code",
   "execution_count": 25,
   "metadata": {
    "scrolled": true
   },
   "outputs": [],
   "source": [
    "data2_int = data2_int.astype(int)"
   ]
  },
  {
   "cell_type": "code",
   "execution_count": 24,
   "metadata": {},
   "outputs": [
    {
     "data": {
      "text/plain": [
       "0       0.0\n",
       "1       0.0\n",
       "2       1.0\n",
       "3       3.0\n",
       "4       2.0\n",
       "       ... \n",
       "9338    3.0\n",
       "9339    1.0\n",
       "9340    1.0\n",
       "9341    0.0\n",
       "9342    3.0\n",
       "Length: 9343, dtype: float64"
      ]
     },
     "execution_count": 24,
     "metadata": {},
     "output_type": "execute_result"
    }
   ],
   "source": [
    "data2_int"
   ]
  },
  {
   "cell_type": "code",
   "execution_count": 49,
   "metadata": {},
   "outputs": [],
   "source": [
    "test_pred2 = model.predict(data = test_pred)*(10*2)"
   ]
  },
  {
   "cell_type": "code",
   "execution_count": 43,
   "metadata": {
    "scrolled": true
   },
   "outputs": [
    {
     "name": "stderr",
     "output_type": "stream",
     "text": [
      "C:\\Users\\Seo\\anaconda3\\lib\\site-packages\\sklearn\\model_selection\\_split.py:293: FutureWarning: Setting a random_state has no effect since shuffle is False. This will raise an error in 0.24. You should leave random_state to its default (None), or set shuffle=True.\n",
      "  warnings.warn(\n",
      "AUC is not implemented on GPU. Will use CPU for metric computation, this could significantly affect learning time\n"
     ]
    },
    {
     "name": "stdout",
     "output_type": "stream",
     "text": [
      "0:\ttest: 0.7605442\tbest: 0.7605442 (0)\ttotal: 24.5ms\tremaining: 10m 12s\n",
      "bestTest = 0.9864241074\n",
      "bestIteration = 10500\n",
      "Shrink model to first 10501 iterations.\n"
     ]
    },
    {
     "name": "stderr",
     "output_type": "stream",
     "text": [
      "AUC is not implemented on GPU. Will use CPU for metric computation, this could significantly affect learning time\n"
     ]
    },
    {
     "name": "stdout",
     "output_type": "stream",
     "text": [
      "0:\ttest: 0.7792670\tbest: 0.7792670 (0)\ttotal: 26.4ms\tremaining: 11m\n",
      "bestTest = 0.9850427659\n",
      "bestIteration = 5050\n",
      "Shrink model to first 5051 iterations.\n"
     ]
    },
    {
     "name": "stderr",
     "output_type": "stream",
     "text": [
      "AUC is not implemented on GPU. Will use CPU for metric computation, this could significantly affect learning time\n"
     ]
    },
    {
     "name": "stdout",
     "output_type": "stream",
     "text": [
      "0:\ttest: 0.7717544\tbest: 0.7717544 (0)\ttotal: 25.8ms\tremaining: 10m 45s\n",
      "bestTest = 0.9822148618\n",
      "bestIteration = 6509\n",
      "Shrink model to first 6510 iterations.\n"
     ]
    },
    {
     "name": "stderr",
     "output_type": "stream",
     "text": [
      "AUC is not implemented on GPU. Will use CPU for metric computation, this could significantly affect learning time\n"
     ]
    },
    {
     "name": "stdout",
     "output_type": "stream",
     "text": [
      "0:\ttest: 0.7761678\tbest: 0.7761678 (0)\ttotal: 27.2ms\tremaining: 11m 19s\n",
      "bestTest = 0.9872766532\n",
      "bestIteration = 2812\n",
      "Shrink model to first 2813 iterations.\n"
     ]
    },
    {
     "name": "stderr",
     "output_type": "stream",
     "text": [
      "AUC is not implemented on GPU. Will use CPU for metric computation, this could significantly affect learning time\n"
     ]
    },
    {
     "name": "stdout",
     "output_type": "stream",
     "text": [
      "0:\ttest: 0.7369226\tbest: 0.7369226 (0)\ttotal: 24.2ms\tremaining: 10m 5s\n",
      "bestTest = 0.9751476687\n",
      "bestIteration = 4723\n",
      "Shrink model to first 4724 iterations.\n"
     ]
    },
    {
     "name": "stderr",
     "output_type": "stream",
     "text": [
      "AUC is not implemented on GPU. Will use CPU for metric computation, this could significantly affect learning time\n"
     ]
    },
    {
     "name": "stdout",
     "output_type": "stream",
     "text": [
      "0:\ttest: 0.7588889\tbest: 0.7588889 (0)\ttotal: 28.6ms\tremaining: 11m 55s\n",
      "bestTest = 0.9790544746\n",
      "bestIteration = 8085\n",
      "Shrink model to first 8086 iterations.\n"
     ]
    },
    {
     "name": "stderr",
     "output_type": "stream",
     "text": [
      "AUC is not implemented on GPU. Will use CPU for metric computation, this could significantly affect learning time\n"
     ]
    },
    {
     "name": "stdout",
     "output_type": "stream",
     "text": [
      "0:\ttest: 0.7531898\tbest: 0.7531898 (0)\ttotal: 26.1ms\tremaining: 10m 52s\n",
      "bestTest = 0.9743581264\n",
      "bestIteration = 4559\n",
      "Shrink model to first 4560 iterations.\n"
     ]
    },
    {
     "name": "stderr",
     "output_type": "stream",
     "text": [
      "AUC is not implemented on GPU. Will use CPU for metric computation, this could significantly affect learning time\n"
     ]
    },
    {
     "name": "stdout",
     "output_type": "stream",
     "text": [
      "0:\ttest: 0.7638669\tbest: 0.7638669 (0)\ttotal: 30.4ms\tremaining: 12m 40s\n",
      "bestTest = 0.9807931629\n",
      "bestIteration = 4357\n",
      "Shrink model to first 4358 iterations.\n"
     ]
    },
    {
     "name": "stderr",
     "output_type": "stream",
     "text": [
      "AUC is not implemented on GPU. Will use CPU for metric computation, this could significantly affect learning time\n"
     ]
    },
    {
     "name": "stdout",
     "output_type": "stream",
     "text": [
      "0:\ttest: 0.7583339\tbest: 0.7583339 (0)\ttotal: 34ms\tremaining: 14m 9s\n",
      "bestTest = 0.9638240232\n",
      "bestIteration = 4596\n",
      "Shrink model to first 4597 iterations.\n"
     ]
    },
    {
     "name": "stderr",
     "output_type": "stream",
     "text": [
      "AUC is not implemented on GPU. Will use CPU for metric computation, this could significantly affect learning time\n"
     ]
    },
    {
     "name": "stdout",
     "output_type": "stream",
     "text": [
      "0:\ttest: 0.7191695\tbest: 0.7191695 (0)\ttotal: 67.1ms\tremaining: 27m 56s\n",
      "bestTest = 0.9835227681\n",
      "bestIteration = 6741\n",
      "Shrink model to first 6742 iterations.\n"
     ]
    },
    {
     "name": "stderr",
     "output_type": "stream",
     "text": [
      "AUC is not implemented on GPU. Will use CPU for metric computation, this could significantly affect learning time\n"
     ]
    },
    {
     "name": "stdout",
     "output_type": "stream",
     "text": [
      "0:\ttest: 0.7576738\tbest: 0.7576738 (0)\ttotal: 31.6ms\tremaining: 13m 11s\n",
      "bestTest = 0.9858720589\n",
      "bestIteration = 4208\n",
      "Shrink model to first 4209 iterations.\n"
     ]
    },
    {
     "name": "stderr",
     "output_type": "stream",
     "text": [
      "AUC is not implemented on GPU. Will use CPU for metric computation, this could significantly affect learning time\n"
     ]
    },
    {
     "name": "stdout",
     "output_type": "stream",
     "text": [
      "0:\ttest: 0.7775206\tbest: 0.7775206 (0)\ttotal: 23.6ms\tremaining: 9m 49s\n",
      "bestTest = 0.9846467497\n",
      "bestIteration = 3599\n",
      "Shrink model to first 3600 iterations.\n"
     ]
    },
    {
     "name": "stderr",
     "output_type": "stream",
     "text": [
      "AUC is not implemented on GPU. Will use CPU for metric computation, this could significantly affect learning time\n"
     ]
    },
    {
     "name": "stdout",
     "output_type": "stream",
     "text": [
      "0:\ttest: 0.7843917\tbest: 0.7843917 (0)\ttotal: 25.1ms\tremaining: 10m 26s\n",
      "bestTest = 0.9822635708\n",
      "bestIteration = 2883\n",
      "Shrink model to first 2884 iterations.\n"
     ]
    },
    {
     "name": "stderr",
     "output_type": "stream",
     "text": [
      "AUC is not implemented on GPU. Will use CPU for metric computation, this could significantly affect learning time\n"
     ]
    },
    {
     "name": "stdout",
     "output_type": "stream",
     "text": [
      "0:\ttest: 0.7898342\tbest: 0.7898342 (0)\ttotal: 25.5ms\tremaining: 10m 37s\n",
      "bestTest = 0.9859058909\n",
      "bestIteration = 3127\n",
      "Shrink model to first 3128 iterations.\n"
     ]
    },
    {
     "name": "stderr",
     "output_type": "stream",
     "text": [
      "AUC is not implemented on GPU. Will use CPU for metric computation, this could significantly affect learning time\n"
     ]
    },
    {
     "name": "stdout",
     "output_type": "stream",
     "text": [
      "0:\ttest: 0.7654506\tbest: 0.7654506 (0)\ttotal: 22.3ms\tremaining: 9m 17s\n",
      "bestTest = 0.9754240864\n",
      "bestIteration = 3327\n",
      "Shrink model to first 3328 iterations.\n"
     ]
    },
    {
     "name": "stderr",
     "output_type": "stream",
     "text": [
      "AUC is not implemented on GPU. Will use CPU for metric computation, this could significantly affect learning time\n"
     ]
    },
    {
     "name": "stdout",
     "output_type": "stream",
     "text": [
      "0:\ttest: 0.7566367\tbest: 0.7566367 (0)\ttotal: 25.8ms\tremaining: 10m 45s\n",
      "bestTest = 0.9797538325\n",
      "bestIteration = 4508\n",
      "Shrink model to first 4509 iterations.\n"
     ]
    },
    {
     "name": "stderr",
     "output_type": "stream",
     "text": [
      "AUC is not implemented on GPU. Will use CPU for metric computation, this could significantly affect learning time\n"
     ]
    },
    {
     "name": "stdout",
     "output_type": "stream",
     "text": [
      "0:\ttest: 0.7709628\tbest: 0.7709628 (0)\ttotal: 21.3ms\tremaining: 8m 51s\n",
      "bestTest = 0.9743709329\n",
      "bestIteration = 4517\n",
      "Shrink model to first 4518 iterations.\n"
     ]
    },
    {
     "name": "stderr",
     "output_type": "stream",
     "text": [
      "AUC is not implemented on GPU. Will use CPU for metric computation, this could significantly affect learning time\n"
     ]
    },
    {
     "name": "stdout",
     "output_type": "stream",
     "text": [
      "0:\ttest: 0.7739880\tbest: 0.7739880 (0)\ttotal: 23.9ms\tremaining: 9m 56s\n",
      "bestTest = 0.9803197655\n",
      "bestIteration = 5711\n",
      "Shrink model to first 5712 iterations.\n"
     ]
    },
    {
     "name": "stderr",
     "output_type": "stream",
     "text": [
      "AUC is not implemented on GPU. Will use CPU for metric computation, this could significantly affect learning time\n"
     ]
    },
    {
     "name": "stdout",
     "output_type": "stream",
     "text": [
      "0:\ttest: 0.7622172\tbest: 0.7622172 (0)\ttotal: 41.1ms\tremaining: 17m 7s\n",
      "bestTest = 0.9631522377\n",
      "bestIteration = 3442\n",
      "Shrink model to first 3443 iterations.\n"
     ]
    },
    {
     "name": "stderr",
     "output_type": "stream",
     "text": [
      "AUC is not implemented on GPU. Will use CPU for metric computation, this could significantly affect learning time\n"
     ]
    },
    {
     "name": "stdout",
     "output_type": "stream",
     "text": [
      "0:\ttest: 0.7779829\tbest: 0.7779829 (0)\ttotal: 51.7ms\tremaining: 21m 33s\n",
      "bestTest = 0.9849967679\n",
      "bestIteration = 6136\n",
      "Shrink model to first 6137 iterations.\n"
     ]
    }
   ],
   "source": [
    "data2 = catboost_modeling(train_X, train_y, test, 'Lossguide', 8, 0.01063, 5.127, 2014, 2)"
   ]
  },
  {
   "cell_type": "code",
   "execution_count": 44,
   "metadata": {
    "scrolled": true
   },
   "outputs": [
    {
     "name": "stderr",
     "output_type": "stream",
     "text": [
      "C:\\Users\\Seo\\anaconda3\\lib\\site-packages\\sklearn\\model_selection\\_split.py:293: FutureWarning: Setting a random_state has no effect since shuffle is False. This will raise an error in 0.24. You should leave random_state to its default (None), or set shuffle=True.\n",
      "  warnings.warn(\n",
      "AUC is not implemented on GPU. Will use CPU for metric computation, this could significantly affect learning time\n"
     ]
    },
    {
     "name": "stdout",
     "output_type": "stream",
     "text": [
      "0:\ttest: 0.7868345\tbest: 0.7868345 (0)\ttotal: 75.5ms\tremaining: 31m 27s\n",
      "bestTest = 0.9793371029\n",
      "bestIteration = 1726\n",
      "Shrink model to first 1727 iterations.\n"
     ]
    },
    {
     "name": "stderr",
     "output_type": "stream",
     "text": [
      "AUC is not implemented on GPU. Will use CPU for metric computation, this could significantly affect learning time\n"
     ]
    },
    {
     "name": "stdout",
     "output_type": "stream",
     "text": [
      "0:\ttest: 0.7957143\tbest: 0.7957143 (0)\ttotal: 45.2ms\tremaining: 18m 49s\n",
      "bestTest = 0.9821765267\n",
      "bestIteration = 3614\n",
      "Shrink model to first 3615 iterations.\n"
     ]
    },
    {
     "name": "stderr",
     "output_type": "stream",
     "text": [
      "AUC is not implemented on GPU. Will use CPU for metric computation, this could significantly affect learning time\n"
     ]
    },
    {
     "name": "stdout",
     "output_type": "stream",
     "text": [
      "0:\ttest: 0.7866432\tbest: 0.7866432 (0)\ttotal: 55.3ms\tremaining: 23m 1s\n",
      "bestTest = 0.980848892\n",
      "bestIteration = 5942\n",
      "Shrink model to first 5943 iterations.\n"
     ]
    },
    {
     "name": "stderr",
     "output_type": "stream",
     "text": [
      "AUC is not implemented on GPU. Will use CPU for metric computation, this could significantly affect learning time\n"
     ]
    },
    {
     "name": "stdout",
     "output_type": "stream",
     "text": [
      "0:\ttest: 0.7944736\tbest: 0.7944736 (0)\ttotal: 121ms\tremaining: 50m 27s\n",
      "bestTest = 0.982734856\n",
      "bestIteration = 3351\n",
      "Shrink model to first 3352 iterations.\n"
     ]
    },
    {
     "name": "stderr",
     "output_type": "stream",
     "text": [
      "AUC is not implemented on GPU. Will use CPU for metric computation, this could significantly affect learning time\n"
     ]
    },
    {
     "name": "stdout",
     "output_type": "stream",
     "text": [
      "0:\ttest: 0.7901951\tbest: 0.7901951 (0)\ttotal: 49.4ms\tremaining: 20m 33s\n",
      "bestTest = 0.9709205685\n",
      "bestIteration = 4469\n",
      "Shrink model to first 4470 iterations.\n"
     ]
    },
    {
     "name": "stderr",
     "output_type": "stream",
     "text": [
      "AUC is not implemented on GPU. Will use CPU for metric computation, this could significantly affect learning time\n"
     ]
    },
    {
     "name": "stdout",
     "output_type": "stream",
     "text": [
      "0:\ttest: 0.7538614\tbest: 0.7538614 (0)\ttotal: 89.7ms\tremaining: 37m 21s\n",
      "bestTest = 0.9761578949\n",
      "bestIteration = 4335\n",
      "Shrink model to first 4336 iterations.\n"
     ]
    },
    {
     "name": "stderr",
     "output_type": "stream",
     "text": [
      "AUC is not implemented on GPU. Will use CPU for metric computation, this could significantly affect learning time\n"
     ]
    },
    {
     "name": "stdout",
     "output_type": "stream",
     "text": [
      "0:\ttest: 0.7676177\tbest: 0.7676177 (0)\ttotal: 62.8ms\tremaining: 26m 9s\n",
      "bestTest = 0.9690195208\n",
      "bestIteration = 4573\n",
      "Shrink model to first 4574 iterations.\n"
     ]
    },
    {
     "name": "stderr",
     "output_type": "stream",
     "text": [
      "AUC is not implemented on GPU. Will use CPU for metric computation, this could significantly affect learning time\n"
     ]
    },
    {
     "name": "stdout",
     "output_type": "stream",
     "text": [
      "0:\ttest: 0.7851376\tbest: 0.7851376 (0)\ttotal: 130ms\tremaining: 54m 7s\n",
      "bestTest = 0.9782059647\n",
      "bestIteration = 2426\n",
      "Shrink model to first 2427 iterations.\n"
     ]
    },
    {
     "name": "stderr",
     "output_type": "stream",
     "text": [
      "AUC is not implemented on GPU. Will use CPU for metric computation, this could significantly affect learning time\n"
     ]
    },
    {
     "name": "stdout",
     "output_type": "stream",
     "text": [
      "0:\ttest: 0.7953372\tbest: 0.7953372 (0)\ttotal: 93.1ms\tremaining: 38m 46s\n",
      "bestTest = 0.9601249178\n",
      "bestIteration = 7563\n",
      "Shrink model to first 7564 iterations.\n"
     ]
    },
    {
     "name": "stderr",
     "output_type": "stream",
     "text": [
      "AUC is not implemented on GPU. Will use CPU for metric computation, this could significantly affect learning time\n"
     ]
    },
    {
     "name": "stdout",
     "output_type": "stream",
     "text": [
      "0:\ttest: 0.7271829\tbest: 0.7271829 (0)\ttotal: 140ms\tremaining: 58m 13s\n",
      "bestTest = 0.982384364\n",
      "bestIteration = 13510\n",
      "Shrink model to first 13511 iterations.\n"
     ]
    },
    {
     "name": "stderr",
     "output_type": "stream",
     "text": [
      "AUC is not implemented on GPU. Will use CPU for metric computation, this could significantly affect learning time\n"
     ]
    },
    {
     "name": "stdout",
     "output_type": "stream",
     "text": [
      "0:\ttest: 0.7752384\tbest: 0.7752384 (0)\ttotal: 80.8ms\tremaining: 33m 39s\n",
      "bestTest = 0.9797469346\n",
      "bestIteration = 1120\n",
      "Shrink model to first 1121 iterations.\n"
     ]
    },
    {
     "name": "stderr",
     "output_type": "stream",
     "text": [
      "AUC is not implemented on GPU. Will use CPU for metric computation, this could significantly affect learning time\n"
     ]
    },
    {
     "name": "stdout",
     "output_type": "stream",
     "text": [
      "0:\ttest: 0.7902758\tbest: 0.7902758 (0)\ttotal: 51.5ms\tremaining: 21m 26s\n",
      "bestTest = 0.9830044929\n",
      "bestIteration = 6581\n",
      "Shrink model to first 6582 iterations.\n"
     ]
    },
    {
     "name": "stderr",
     "output_type": "stream",
     "text": [
      "AUC is not implemented on GPU. Will use CPU for metric computation, this could significantly affect learning time\n"
     ]
    },
    {
     "name": "stdout",
     "output_type": "stream",
     "text": [
      "0:\ttest: 0.7901987\tbest: 0.7901987 (0)\ttotal: 64.8ms\tremaining: 27m\n",
      "bestTest = 0.9803163873\n",
      "bestIteration = 7201\n",
      "Shrink model to first 7202 iterations.\n"
     ]
    },
    {
     "name": "stderr",
     "output_type": "stream",
     "text": [
      "AUC is not implemented on GPU. Will use CPU for metric computation, this could significantly affect learning time\n"
     ]
    },
    {
     "name": "stdout",
     "output_type": "stream",
     "text": [
      "0:\ttest: 0.8112293\tbest: 0.8112293 (0)\ttotal: 27.4ms\tremaining: 11m 25s\n",
      "bestTest = 0.9830747205\n",
      "bestIteration = 4485\n",
      "Shrink model to first 4486 iterations.\n"
     ]
    },
    {
     "name": "stderr",
     "output_type": "stream",
     "text": [
      "AUC is not implemented on GPU. Will use CPU for metric computation, this could significantly affect learning time\n"
     ]
    },
    {
     "name": "stdout",
     "output_type": "stream",
     "text": [
      "0:\ttest: 0.7871482\tbest: 0.7871482 (0)\ttotal: 29.4ms\tremaining: 12m 14s\n",
      "bestTest = 0.9704230997\n",
      "bestIteration = 3451\n",
      "Shrink model to first 3452 iterations.\n"
     ]
    },
    {
     "name": "stderr",
     "output_type": "stream",
     "text": [
      "AUC is not implemented on GPU. Will use CPU for metric computation, this could significantly affect learning time\n"
     ]
    },
    {
     "name": "stdout",
     "output_type": "stream",
     "text": [
      "0:\ttest: 0.7600784\tbest: 0.7600784 (0)\ttotal: 22.6ms\tremaining: 9m 24s\n",
      "bestTest = 0.9762025845\n",
      "bestIteration = 5210\n",
      "Shrink model to first 5211 iterations.\n"
     ]
    },
    {
     "name": "stderr",
     "output_type": "stream",
     "text": [
      "AUC is not implemented on GPU. Will use CPU for metric computation, this could significantly affect learning time\n"
     ]
    },
    {
     "name": "stdout",
     "output_type": "stream",
     "text": [
      "0:\ttest: 0.7898167\tbest: 0.7898167 (0)\ttotal: 32.8ms\tremaining: 13m 39s\n",
      "bestTest = 0.9688332713\n",
      "bestIteration = 6815\n",
      "Shrink model to first 6816 iterations.\n"
     ]
    },
    {
     "name": "stderr",
     "output_type": "stream",
     "text": [
      "AUC is not implemented on GPU. Will use CPU for metric computation, this could significantly affect learning time\n"
     ]
    },
    {
     "name": "stdout",
     "output_type": "stream",
     "text": [
      "0:\ttest: 0.7585416\tbest: 0.7585416 (0)\ttotal: 29.4ms\tremaining: 12m 13s\n",
      "bestTest = 0.9792605473\n",
      "bestIteration = 4290\n",
      "Shrink model to first 4291 iterations.\n"
     ]
    },
    {
     "name": "stderr",
     "output_type": "stream",
     "text": [
      "AUC is not implemented on GPU. Will use CPU for metric computation, this could significantly affect learning time\n"
     ]
    },
    {
     "name": "stdout",
     "output_type": "stream",
     "text": [
      "0:\ttest: 0.7651568\tbest: 0.7651568 (0)\ttotal: 28.8ms\tremaining: 11m 59s\n",
      "bestTest = 0.956170224\n",
      "bestIteration = 4492\n",
      "Shrink model to first 4493 iterations.\n"
     ]
    },
    {
     "name": "stderr",
     "output_type": "stream",
     "text": [
      "AUC is not implemented on GPU. Will use CPU for metric computation, this could significantly affect learning time\n"
     ]
    },
    {
     "name": "stdout",
     "output_type": "stream",
     "text": [
      "0:\ttest: 0.7796185\tbest: 0.7796185 (0)\ttotal: 26.1ms\tremaining: 10m 53s\n",
      "bestTest = 0.9828640559\n",
      "bestIteration = 9636\n",
      "Shrink model to first 9637 iterations.\n"
     ]
    }
   ],
   "source": [
    "data1 = catboost_modeling(train_X, train_y, test, 'Depthwise', 10, 0.02423, 20.35, 2014, 2)"
   ]
  },
  {
   "cell_type": "code",
   "execution_count": 32,
   "metadata": {
    "scrolled": true
   },
   "outputs": [
    {
     "name": "stderr",
     "output_type": "stream",
     "text": [
      "Custom logger is already specified. Specify more than one logger at same time is not thread safe.AUC is not implemented on GPU. Will use CPU for metric computation, this could significantly affect learning time\n"
     ]
    },
    {
     "name": "stdout",
     "output_type": "stream",
     "text": [
      "0:\ttest: 0.7892507\tbest: 0.7892507 (0)\ttotal: 41.8ms\tremaining: 17m 23s\n",
      "bestTest = 0.9783951981\n",
      "bestIteration = 9448\n",
      "Shrink model to first 9449 iterations.\n"
     ]
    },
    {
     "name": "stderr",
     "output_type": "stream",
     "text": [
      "AUC is not implemented on GPU. Will use CPU for metric computation, this could significantly affect learning time\n"
     ]
    },
    {
     "name": "stdout",
     "output_type": "stream",
     "text": [
      "0:\ttest: 0.8161805\tbest: 0.8161805 (0)\ttotal: 40.8ms\tremaining: 16m 59s\n",
      "bestTest = 0.9739331424\n",
      "bestIteration = 12456\n",
      "Shrink model to first 12457 iterations.\n"
     ]
    },
    {
     "name": "stderr",
     "output_type": "stream",
     "text": [
      "AUC is not implemented on GPU. Will use CPU for metric computation, this could significantly affect learning time\n"
     ]
    },
    {
     "name": "stdout",
     "output_type": "stream",
     "text": [
      "0:\ttest: 0.8148753\tbest: 0.8148753 (0)\ttotal: 60.3ms\tremaining: 25m 7s\n",
      "bestTest = 0.9720320924\n",
      "bestIteration = 4545\n",
      "Shrink model to first 4546 iterations.\n"
     ]
    },
    {
     "name": "stderr",
     "output_type": "stream",
     "text": [
      "AUC is not implemented on GPU. Will use CPU for metric computation, this could significantly affect learning time\n"
     ]
    },
    {
     "name": "stdout",
     "output_type": "stream",
     "text": [
      "0:\ttest: 0.8105339\tbest: 0.8105339 (0)\ttotal: 36.5ms\tremaining: 15m 12s\n",
      "bestTest = 0.9779649372\n",
      "bestIteration = 4039\n",
      "Shrink model to first 4040 iterations.\n"
     ]
    },
    {
     "name": "stderr",
     "output_type": "stream",
     "text": [
      "AUC is not implemented on GPU. Will use CPU for metric computation, this could significantly affect learning time\n"
     ]
    },
    {
     "name": "stdout",
     "output_type": "stream",
     "text": [
      "0:\ttest: 0.7558147\tbest: 0.7558147 (0)\ttotal: 40.4ms\tremaining: 16m 49s\n",
      "bestTest = 0.9657012864\n",
      "bestIteration = 4459\n",
      "Shrink model to first 4460 iterations.\n"
     ]
    },
    {
     "name": "stderr",
     "output_type": "stream",
     "text": [
      "AUC is not implemented on GPU. Will use CPU for metric computation, this could significantly affect learning time\n"
     ]
    },
    {
     "name": "stdout",
     "output_type": "stream",
     "text": [
      "0:\ttest: 0.7664979\tbest: 0.7664979 (0)\ttotal: 36.1ms\tremaining: 15m 1s\n",
      "bestTest = 0.9730201431\n",
      "bestIteration = 18157\n",
      "Shrink model to first 18158 iterations.\n"
     ]
    },
    {
     "name": "stderr",
     "output_type": "stream",
     "text": [
      "AUC is not implemented on GPU. Will use CPU for metric computation, this could significantly affect learning time\n"
     ]
    },
    {
     "name": "stdout",
     "output_type": "stream",
     "text": [
      "0:\ttest: 0.7760736\tbest: 0.7760736 (0)\ttotal: 35.8ms\tremaining: 14m 55s\n",
      "bestTest = 0.9629352448\n",
      "bestIteration = 8121\n",
      "Shrink model to first 8122 iterations.\n"
     ]
    },
    {
     "name": "stderr",
     "output_type": "stream",
     "text": [
      "AUC is not implemented on GPU. Will use CPU for metric computation, this could significantly affect learning time\n"
     ]
    },
    {
     "name": "stdout",
     "output_type": "stream",
     "text": [
      "0:\ttest: 0.7978292\tbest: 0.7978292 (0)\ttotal: 34.7ms\tremaining: 14m 28s\n",
      "bestTest = 0.9718199253\n",
      "bestIteration = 9888\n",
      "Shrink model to first 9889 iterations.\n"
     ]
    },
    {
     "name": "stderr",
     "output_type": "stream",
     "text": [
      "AUC is not implemented on GPU. Will use CPU for metric computation, this could significantly affect learning time\n"
     ]
    },
    {
     "name": "stdout",
     "output_type": "stream",
     "text": [
      "0:\ttest: 0.7432302\tbest: 0.7432302 (0)\ttotal: 39.3ms\tremaining: 16m 23s\n",
      "bestTest = 0.9499624307\n",
      "bestIteration = 5154\n",
      "Shrink model to first 5155 iterations.\n"
     ]
    },
    {
     "name": "stderr",
     "output_type": "stream",
     "text": [
      "AUC is not implemented on GPU. Will use CPU for metric computation, this could significantly affect learning time\n"
     ]
    },
    {
     "name": "stdout",
     "output_type": "stream",
     "text": [
      "0:\ttest: 0.8143162\tbest: 0.8143162 (0)\ttotal: 40.9ms\tremaining: 17m 1s\n",
      "bestTest = 0.9725870861\n",
      "bestIteration = 6805\n",
      "Shrink model to first 6806 iterations.\n"
     ]
    },
    {
     "name": "stderr",
     "output_type": "stream",
     "text": [
      "AUC is not implemented on GPU. Will use CPU for metric computation, this could significantly affect learning time\n"
     ]
    },
    {
     "name": "stdout",
     "output_type": "stream",
     "text": [
      "0:\ttest: 0.7889766\tbest: 0.7889766 (0)\ttotal: 35.2ms\tremaining: 14m 39s\n",
      "bestTest = 0.9774768007\n",
      "bestIteration = 8250\n",
      "Shrink model to first 8251 iterations.\n"
     ]
    },
    {
     "name": "stderr",
     "output_type": "stream",
     "text": [
      "AUC is not implemented on GPU. Will use CPU for metric computation, this could significantly affect learning time\n"
     ]
    },
    {
     "name": "stdout",
     "output_type": "stream",
     "text": [
      "0:\ttest: 0.7789816\tbest: 0.7789816 (0)\ttotal: 37.9ms\tremaining: 15m 48s\n",
      "bestTest = 0.9742800643\n",
      "bestIteration = 9331\n",
      "Shrink model to first 9332 iterations.\n"
     ]
    },
    {
     "name": "stderr",
     "output_type": "stream",
     "text": [
      "AUC is not implemented on GPU. Will use CPU for metric computation, this could significantly affect learning time\n"
     ]
    },
    {
     "name": "stdout",
     "output_type": "stream",
     "text": [
      "0:\ttest: 0.8099427\tbest: 0.8099427 (0)\ttotal: 40.3ms\tremaining: 16m 46s\n",
      "bestTest = 0.9731681651\n",
      "bestIteration = 5339\n",
      "Shrink model to first 5340 iterations.\n"
     ]
    },
    {
     "name": "stderr",
     "output_type": "stream",
     "text": [
      "AUC is not implemented on GPU. Will use CPU for metric computation, this could significantly affect learning time\n"
     ]
    },
    {
     "name": "stdout",
     "output_type": "stream",
     "text": [
      "0:\ttest: 0.7975847\tbest: 0.7975847 (0)\ttotal: 37.5ms\tremaining: 15m 37s\n",
      "bestTest = 0.9811915291\n",
      "bestIteration = 6730\n",
      "Shrink model to first 6731 iterations.\n"
     ]
    },
    {
     "name": "stderr",
     "output_type": "stream",
     "text": [
      "AUC is not implemented on GPU. Will use CPU for metric computation, this could significantly affect learning time\n"
     ]
    },
    {
     "name": "stdout",
     "output_type": "stream",
     "text": [
      "0:\ttest: 0.8067870\tbest: 0.8067870 (0)\ttotal: 40.6ms\tremaining: 16m 55s\n",
      "bestTest = 0.9672389551\n",
      "bestIteration = 6888\n",
      "Shrink model to first 6889 iterations.\n"
     ]
    },
    {
     "name": "stderr",
     "output_type": "stream",
     "text": [
      "AUC is not implemented on GPU. Will use CPU for metric computation, this could significantly affect learning time\n"
     ]
    },
    {
     "name": "stdout",
     "output_type": "stream",
     "text": [
      "0:\ttest: 0.7802009\tbest: 0.7802009 (0)\ttotal: 38.4ms\tremaining: 15m 59s\n",
      "bestTest = 0.971514909\n",
      "bestIteration = 12439\n",
      "Shrink model to first 12440 iterations.\n"
     ]
    },
    {
     "name": "stderr",
     "output_type": "stream",
     "text": [
      "AUC is not implemented on GPU. Will use CPU for metric computation, this could significantly affect learning time\n"
     ]
    },
    {
     "name": "stdout",
     "output_type": "stream",
     "text": [
      "0:\ttest: 0.7769474\tbest: 0.7769474 (0)\ttotal: 35.3ms\tremaining: 14m 42s\n",
      "bestTest = 0.9676034693\n",
      "bestIteration = 15523\n",
      "Shrink model to first 15524 iterations.\n"
     ]
    },
    {
     "name": "stderr",
     "output_type": "stream",
     "text": [
      "AUC is not implemented on GPU. Will use CPU for metric computation, this could significantly affect learning time\n"
     ]
    },
    {
     "name": "stdout",
     "output_type": "stream",
     "text": [
      "0:\ttest: 0.7953203\tbest: 0.7953203 (0)\ttotal: 38.6ms\tremaining: 16m 4s\n",
      "bestTest = 0.9754384983\n",
      "bestIteration = 11404\n",
      "Shrink model to first 11405 iterations.\n"
     ]
    },
    {
     "name": "stderr",
     "output_type": "stream",
     "text": [
      "AUC is not implemented on GPU. Will use CPU for metric computation, this could significantly affect learning time\n"
     ]
    },
    {
     "name": "stdout",
     "output_type": "stream",
     "text": [
      "0:\ttest: 0.7834408\tbest: 0.7834408 (0)\ttotal: 41.8ms\tremaining: 17m 24s\n",
      "bestTest = 0.9502689725\n",
      "bestIteration = 7307\n",
      "Shrink model to first 7308 iterations.\n"
     ]
    },
    {
     "name": "stderr",
     "output_type": "stream",
     "text": [
      "AUC is not implemented on GPU. Will use CPU for metric computation, this could significantly affect learning time\n"
     ]
    },
    {
     "name": "stdout",
     "output_type": "stream",
     "text": [
      "0:\ttest: 0.8071100\tbest: 0.8071100 (0)\ttotal: 36.1ms\tremaining: 15m 3s\n",
      "bestTest = 0.9742344203\n",
      "bestIteration = 18187\n",
      "Shrink model to first 18188 iterations.\n"
     ]
    }
   ],
   "source": [
    "data3 = catboost_modeling(train_X, train_y, test, 'Depthwise', 12, 0.01564, 49.99, 2022, 2)"
   ]
  },
  {
   "cell_type": "code",
   "execution_count": 33,
   "metadata": {},
   "outputs": [
    {
     "name": "stderr",
     "output_type": "stream",
     "text": [
      "C:\\Users\\Seo\\anaconda3\\lib\\site-packages\\sklearn\\model_selection\\_split.py:293: FutureWarning: Setting a random_state has no effect since shuffle is False. This will raise an error in 0.24. You should leave random_state to its default (None), or set shuffle=True.\n",
      "  warnings.warn(\n",
      "AUC is not implemented on GPU. Will use CPU for metric computation, this could significantly affect learning time\n"
     ]
    },
    {
     "name": "stdout",
     "output_type": "stream",
     "text": [
      "0:\ttest: 0.8011475\tbest: 0.8011475 (0)\ttotal: 30ms\tremaining: 12m 30s\n",
      "bestTest = 0.9859609783\n",
      "bestIteration = 8267\n",
      "Shrink model to first 8268 iterations.\n"
     ]
    },
    {
     "name": "stderr",
     "output_type": "stream",
     "text": [
      "AUC is not implemented on GPU. Will use CPU for metric computation, this could significantly affect learning time\n"
     ]
    },
    {
     "name": "stdout",
     "output_type": "stream",
     "text": [
      "0:\ttest: 0.8292790\tbest: 0.8292790 (0)\ttotal: 25.4ms\tremaining: 10m 36s\n",
      "bestTest = 0.9852369688\n",
      "bestIteration = 3228\n",
      "Shrink model to first 3229 iterations.\n"
     ]
    },
    {
     "name": "stderr",
     "output_type": "stream",
     "text": [
      "AUC is not implemented on GPU. Will use CPU for metric computation, this could significantly affect learning time\n"
     ]
    },
    {
     "name": "stdout",
     "output_type": "stream",
     "text": [
      "0:\ttest: 0.8313657\tbest: 0.8313657 (0)\ttotal: 26.8ms\tremaining: 11m 9s\n",
      "bestTest = 0.9826557135\n",
      "bestIteration = 5614\n",
      "Shrink model to first 5615 iterations.\n"
     ]
    },
    {
     "name": "stderr",
     "output_type": "stream",
     "text": [
      "AUC is not implemented on GPU. Will use CPU for metric computation, this could significantly affect learning time\n"
     ]
    },
    {
     "name": "stdout",
     "output_type": "stream",
     "text": [
      "0:\ttest: 0.8047416\tbest: 0.8047416 (0)\ttotal: 30.9ms\tremaining: 12m 52s\n",
      "bestTest = 0.9870171336\n",
      "bestIteration = 2407\n",
      "Shrink model to first 2408 iterations.\n"
     ]
    },
    {
     "name": "stderr",
     "output_type": "stream",
     "text": [
      "AUC is not implemented on GPU. Will use CPU for metric computation, this could significantly affect learning time\n"
     ]
    },
    {
     "name": "stdout",
     "output_type": "stream",
     "text": [
      "0:\ttest: 0.8037178\tbest: 0.8037178 (0)\ttotal: 24.7ms\tremaining: 10m 18s\n",
      "bestTest = 0.9750842572\n",
      "bestIteration = 1712\n",
      "Shrink model to first 1713 iterations.\n"
     ]
    },
    {
     "name": "stderr",
     "output_type": "stream",
     "text": [
      "AUC is not implemented on GPU. Will use CPU for metric computation, this could significantly affect learning time\n"
     ]
    },
    {
     "name": "stdout",
     "output_type": "stream",
     "text": [
      "0:\ttest: 0.7881548\tbest: 0.7881548 (0)\ttotal: 23ms\tremaining: 9m 35s\n",
      "bestTest = 0.9807652577\n",
      "bestIteration = 9104\n",
      "Shrink model to first 9105 iterations.\n"
     ]
    },
    {
     "name": "stderr",
     "output_type": "stream",
     "text": [
      "AUC is not implemented on GPU. Will use CPU for metric computation, this could significantly affect learning time\n"
     ]
    },
    {
     "name": "stdout",
     "output_type": "stream",
     "text": [
      "0:\ttest: 0.7858252\tbest: 0.7858252 (0)\ttotal: 23.6ms\tremaining: 9m 50s\n",
      "bestTest = 0.9736390047\n",
      "bestIteration = 5476\n",
      "Shrink model to first 5477 iterations.\n"
     ]
    },
    {
     "name": "stderr",
     "output_type": "stream",
     "text": [
      "AUC is not implemented on GPU. Will use CPU for metric computation, this could significantly affect learning time\n"
     ]
    },
    {
     "name": "stdout",
     "output_type": "stream",
     "text": [
      "0:\ttest: 0.8191060\tbest: 0.8191060 (0)\ttotal: 26.1ms\tremaining: 10m 53s\n",
      "bestTest = 0.9806532167\n",
      "bestIteration = 6147\n",
      "Shrink model to first 6148 iterations.\n"
     ]
    },
    {
     "name": "stderr",
     "output_type": "stream",
     "text": [
      "AUC is not implemented on GPU. Will use CPU for metric computation, this could significantly affect learning time\n"
     ]
    },
    {
     "name": "stdout",
     "output_type": "stream",
     "text": [
      "0:\ttest: 0.7733654\tbest: 0.7733654 (0)\ttotal: 24.5ms\tremaining: 10m 13s\n",
      "bestTest = 0.9635191838\n",
      "bestIteration = 4035\n",
      "Shrink model to first 4036 iterations.\n"
     ]
    },
    {
     "name": "stderr",
     "output_type": "stream",
     "text": [
      "AUC is not implemented on GPU. Will use CPU for metric computation, this could significantly affect learning time\n"
     ]
    },
    {
     "name": "stdout",
     "output_type": "stream",
     "text": [
      "0:\ttest: 0.8114604\tbest: 0.8114604 (0)\ttotal: 50.1ms\tremaining: 20m 51s\n",
      "bestTest = 0.9831075379\n",
      "bestIteration = 7748\n",
      "Shrink model to first 7749 iterations.\n"
     ]
    },
    {
     "name": "stderr",
     "output_type": "stream",
     "text": [
      "AUC is not implemented on GPU. Will use CPU for metric computation, this could significantly affect learning time\n"
     ]
    },
    {
     "name": "stdout",
     "output_type": "stream",
     "text": [
      "0:\ttest: 0.7980442\tbest: 0.7980442 (0)\ttotal: 24.1ms\tremaining: 10m 1s\n",
      "bestTest = 0.9849347384\n",
      "bestIteration = 2350\n",
      "Shrink model to first 2351 iterations.\n"
     ]
    },
    {
     "name": "stderr",
     "output_type": "stream",
     "text": [
      "AUC is not implemented on GPU. Will use CPU for metric computation, this could significantly affect learning time\n"
     ]
    },
    {
     "name": "stdout",
     "output_type": "stream",
     "text": [
      "0:\ttest: 0.8067869\tbest: 0.8067869 (0)\ttotal: 26ms\tremaining: 10m 50s\n",
      "bestTest = 0.9854831843\n",
      "bestIteration = 2183\n",
      "Shrink model to first 2184 iterations.\n"
     ]
    },
    {
     "name": "stderr",
     "output_type": "stream",
     "text": [
      "AUC is not implemented on GPU. Will use CPU for metric computation, this could significantly affect learning time\n"
     ]
    },
    {
     "name": "stdout",
     "output_type": "stream",
     "text": [
      "0:\ttest: 0.8191800\tbest: 0.8191800 (0)\ttotal: 25.4ms\tremaining: 10m 36s\n",
      "bestTest = 0.9834390577\n",
      "bestIteration = 6581\n",
      "Shrink model to first 6582 iterations.\n"
     ]
    },
    {
     "name": "stderr",
     "output_type": "stream",
     "text": [
      "AUC is not implemented on GPU. Will use CPU for metric computation, this could significantly affect learning time\n"
     ]
    },
    {
     "name": "stdout",
     "output_type": "stream",
     "text": [
      "0:\ttest: 0.8156432\tbest: 0.8156432 (0)\ttotal: 21.5ms\tremaining: 8m 57s\n",
      "bestTest = 0.9871604061\n",
      "bestIteration = 2334\n",
      "Shrink model to first 2335 iterations.\n"
     ]
    },
    {
     "name": "stderr",
     "output_type": "stream",
     "text": [
      "AUC is not implemented on GPU. Will use CPU for metric computation, this could significantly affect learning time\n"
     ]
    },
    {
     "name": "stdout",
     "output_type": "stream",
     "text": [
      "0:\ttest: 0.8181478\tbest: 0.8181478 (0)\ttotal: 22.8ms\tremaining: 9m 29s\n",
      "bestTest = 0.9757239871\n",
      "bestIteration = 5922\n",
      "Shrink model to first 5923 iterations.\n"
     ]
    },
    {
     "name": "stderr",
     "output_type": "stream",
     "text": [
      "AUC is not implemented on GPU. Will use CPU for metric computation, this could significantly affect learning time\n"
     ]
    },
    {
     "name": "stdout",
     "output_type": "stream",
     "text": [
      "0:\ttest: 0.8321850\tbest: 0.8321850 (0)\ttotal: 27.7ms\tremaining: 11m 32s\n",
      "bestTest = 0.9811324264\n",
      "bestIteration = 8455\n",
      "Shrink model to first 8456 iterations.\n"
     ]
    },
    {
     "name": "stderr",
     "output_type": "stream",
     "text": [
      "AUC is not implemented on GPU. Will use CPU for metric computation, this could significantly affect learning time\n"
     ]
    },
    {
     "name": "stdout",
     "output_type": "stream",
     "text": [
      "0:\ttest: 0.8048933\tbest: 0.8048933 (0)\ttotal: 26.2ms\tremaining: 10m 54s\n",
      "bestTest = 0.9740293391\n",
      "bestIteration = 6976\n",
      "Shrink model to first 6977 iterations.\n"
     ]
    },
    {
     "name": "stderr",
     "output_type": "stream",
     "text": [
      "AUC is not implemented on GPU. Will use CPU for metric computation, this could significantly affect learning time\n"
     ]
    },
    {
     "name": "stdout",
     "output_type": "stream",
     "text": [
      "0:\ttest: 0.7776041\tbest: 0.7776041 (0)\ttotal: 24.1ms\tremaining: 10m 1s\n",
      "bestTest = 0.980511317\n",
      "bestIteration = 4602\n",
      "Shrink model to first 4603 iterations.\n"
     ]
    },
    {
     "name": "stderr",
     "output_type": "stream",
     "text": [
      "AUC is not implemented on GPU. Will use CPU for metric computation, this could significantly affect learning time\n"
     ]
    },
    {
     "name": "stdout",
     "output_type": "stream",
     "text": [
      "0:\ttest: 0.8130302\tbest: 0.8130302 (0)\ttotal: 27.6ms\tremaining: 11m 29s\n",
      "bestTest = 0.9639903259\n",
      "bestIteration = 7833\n",
      "Shrink model to first 7834 iterations.\n"
     ]
    },
    {
     "name": "stderr",
     "output_type": "stream",
     "text": [
      "AUC is not implemented on GPU. Will use CPU for metric computation, this could significantly affect learning time\n"
     ]
    },
    {
     "name": "stdout",
     "output_type": "stream",
     "text": [
      "0:\ttest: 0.7822046\tbest: 0.7822046 (0)\ttotal: 24ms\tremaining: 9m 59s\n",
      "bestTest = 0.9840757799\n",
      "bestIteration = 7897\n",
      "Shrink model to first 7898 iterations.\n"
     ]
    }
   ],
   "source": [
    "data4 = catboost_modeling(train_X, train_y, test, 'Lossguide', 16, 0.01213, 5.027, 2022, 2)"
   ]
  },
  {
   "cell_type": "code",
   "execution_count": 45,
   "metadata": {},
   "outputs": [],
   "source": [
    "data_final = pd.DataFrame((data1+data2)/2 *1/3 + (data3+data4)/2 *2/3)"
   ]
  },
  {
   "cell_type": "code",
   "execution_count": 47,
   "metadata": {},
   "outputs": [],
   "source": [
    "data_final_int = data_final.round(0).astype(int)"
   ]
  },
  {
   "cell_type": "code",
   "execution_count": 48,
   "metadata": {},
   "outputs": [
    {
     "data": {
      "text/html": [
       "<div>\n",
       "<style scoped>\n",
       "    .dataframe tbody tr th:only-of-type {\n",
       "        vertical-align: middle;\n",
       "    }\n",
       "\n",
       "    .dataframe tbody tr th {\n",
       "        vertical-align: top;\n",
       "    }\n",
       "\n",
       "    .dataframe thead th {\n",
       "        text-align: right;\n",
       "    }\n",
       "</style>\n",
       "<table border=\"1\" class=\"dataframe\">\n",
       "  <thead>\n",
       "    <tr style=\"text-align: right;\">\n",
       "      <th></th>\n",
       "      <th>0</th>\n",
       "    </tr>\n",
       "  </thead>\n",
       "  <tbody>\n",
       "    <tr>\n",
       "      <th>0</th>\n",
       "      <td>0</td>\n",
       "    </tr>\n",
       "    <tr>\n",
       "      <th>1</th>\n",
       "      <td>0</td>\n",
       "    </tr>\n",
       "    <tr>\n",
       "      <th>2</th>\n",
       "      <td>1</td>\n",
       "    </tr>\n",
       "    <tr>\n",
       "      <th>3</th>\n",
       "      <td>3</td>\n",
       "    </tr>\n",
       "    <tr>\n",
       "      <th>4</th>\n",
       "      <td>2</td>\n",
       "    </tr>\n",
       "    <tr>\n",
       "      <th>...</th>\n",
       "      <td>...</td>\n",
       "    </tr>\n",
       "    <tr>\n",
       "      <th>9338</th>\n",
       "      <td>3</td>\n",
       "    </tr>\n",
       "    <tr>\n",
       "      <th>9339</th>\n",
       "      <td>1</td>\n",
       "    </tr>\n",
       "    <tr>\n",
       "      <th>9340</th>\n",
       "      <td>2</td>\n",
       "    </tr>\n",
       "    <tr>\n",
       "      <th>9341</th>\n",
       "      <td>0</td>\n",
       "    </tr>\n",
       "    <tr>\n",
       "      <th>9342</th>\n",
       "      <td>3</td>\n",
       "    </tr>\n",
       "  </tbody>\n",
       "</table>\n",
       "<p>9343 rows × 1 columns</p>\n",
       "</div>"
      ],
      "text/plain": [
       "      0\n",
       "0     0\n",
       "1     0\n",
       "2     1\n",
       "3     3\n",
       "4     2\n",
       "...  ..\n",
       "9338  3\n",
       "9339  1\n",
       "9340  2\n",
       "9341  0\n",
       "9342  3\n",
       "\n",
       "[9343 rows x 1 columns]"
      ]
     },
     "execution_count": 48,
     "metadata": {},
     "output_type": "execute_result"
    }
   ],
   "source": [
    "data_final_int"
   ]
  },
  {
   "cell_type": "code",
   "execution_count": 54,
   "metadata": {},
   "outputs": [],
   "source": [
    "data1_int = data1.round(0).astype(int) "
   ]
  },
  {
   "cell_type": "code",
   "execution_count": 56,
   "metadata": {},
   "outputs": [],
   "source": [
    "data3_int = data3.round(0).astype(int) "
   ]
  },
  {
   "cell_type": "code",
   "execution_count": 57,
   "metadata": {},
   "outputs": [],
   "source": [
    "data4_int = data4.round(0).astype(int)"
   ]
  },
  {
   "cell_type": "code",
   "execution_count": null,
   "metadata": {},
   "outputs": [],
   "source": []
  },
  {
   "cell_type": "code",
   "execution_count": 60,
   "metadata": {
    "scrolled": true
   },
   "outputs": [
    {
     "data": {
      "text/html": [
       "<div>\n",
       "<style scoped>\n",
       "    .dataframe tbody tr th:only-of-type {\n",
       "        vertical-align: middle;\n",
       "    }\n",
       "\n",
       "    .dataframe tbody tr th {\n",
       "        vertical-align: top;\n",
       "    }\n",
       "\n",
       "    .dataframe thead th {\n",
       "        text-align: right;\n",
       "    }\n",
       "</style>\n",
       "<table border=\"1\" class=\"dataframe\">\n",
       "  <thead>\n",
       "    <tr style=\"text-align: right;\">\n",
       "      <th></th>\n",
       "      <th>id</th>\n",
       "      <th>target</th>\n",
       "    </tr>\n",
       "  </thead>\n",
       "  <tbody>\n",
       "    <tr>\n",
       "      <th>0</th>\n",
       "      <td>1</td>\n",
       "      <td>0.022578</td>\n",
       "    </tr>\n",
       "    <tr>\n",
       "      <th>1</th>\n",
       "      <td>2</td>\n",
       "      <td>0.023472</td>\n",
       "    </tr>\n",
       "    <tr>\n",
       "      <th>2</th>\n",
       "      <td>3</td>\n",
       "      <td>0.903723</td>\n",
       "    </tr>\n",
       "    <tr>\n",
       "      <th>3</th>\n",
       "      <td>4</td>\n",
       "      <td>0.205070</td>\n",
       "    </tr>\n",
       "    <tr>\n",
       "      <th>4</th>\n",
       "      <td>5</td>\n",
       "      <td>0.013162</td>\n",
       "    </tr>\n",
       "    <tr>\n",
       "      <th>...</th>\n",
       "      <td>...</td>\n",
       "      <td>...</td>\n",
       "    </tr>\n",
       "    <tr>\n",
       "      <th>9338</th>\n",
       "      <td>9339</td>\n",
       "      <td>0.066096</td>\n",
       "    </tr>\n",
       "    <tr>\n",
       "      <th>9339</th>\n",
       "      <td>9340</td>\n",
       "      <td>0.789391</td>\n",
       "    </tr>\n",
       "    <tr>\n",
       "      <th>9340</th>\n",
       "      <td>9341</td>\n",
       "      <td>0.021991</td>\n",
       "    </tr>\n",
       "    <tr>\n",
       "      <th>9341</th>\n",
       "      <td>9342</td>\n",
       "      <td>0.025022</td>\n",
       "    </tr>\n",
       "    <tr>\n",
       "      <th>9342</th>\n",
       "      <td>9343</td>\n",
       "      <td>0.006257</td>\n",
       "    </tr>\n",
       "  </tbody>\n",
       "</table>\n",
       "<p>9343 rows × 2 columns</p>\n",
       "</div>"
      ],
      "text/plain": [
       "        id    target\n",
       "0        1  0.022578\n",
       "1        2  0.023472\n",
       "2        3  0.903723\n",
       "3        4  0.205070\n",
       "4        5  0.013162\n",
       "...    ...       ...\n",
       "9338  9339  0.066096\n",
       "9339  9340  0.789391\n",
       "9340  9341  0.021991\n",
       "9341  9342  0.025022\n",
       "9342  9343  0.006257\n",
       "\n",
       "[9343 rows x 2 columns]"
      ]
     },
     "execution_count": 60,
     "metadata": {},
     "output_type": "execute_result"
    }
   ],
   "source": [
    "sample_submission = pd.read_csv('sample_submission.csv', index_col=0)\n",
    "data_final = pd.DataFrame((data1+data2)/2 *1/3 + (data3+data4)/2 *2/3)\n",
    "data_final.columns = sample_submission.columns\n",
    "submission.to_csv('cat_all_submission.csv', index =True)\n",
    "submission"
   ]
  },
  {
   "cell_type": "code",
   "execution_count": 58,
   "metadata": {},
   "outputs": [
    {
     "data": {
      "text/plain": [
       "0       0.022578\n",
       "1       0.023472\n",
       "2       0.903723\n",
       "3       0.205070\n",
       "4       0.013162\n",
       "          ...   \n",
       "9338    0.066096\n",
       "9339    0.789391\n",
       "9340    0.021991\n",
       "9341    0.025022\n",
       "9342    0.006257\n",
       "Length: 9343, dtype: float64"
      ]
     },
     "execution_count": 58,
     "metadata": {},
     "output_type": "execute_result"
    }
   ],
   "source": [
    "(data1+data2)/2 *1/3 + (data3+data4)/2 *2/3"
   ]
  },
  {
   "cell_type": "markdown",
   "metadata": {},
   "source": [
    "# 제출"
   ]
  },
  {
   "cell_type": "code",
   "execution_count": 31,
   "metadata": {},
   "outputs": [],
   "source": [
    "submission = pd.read_csv('sample_submission.csv')"
   ]
  },
  {
   "cell_type": "code",
   "execution_count": 32,
   "metadata": {},
   "outputs": [
    {
     "data": {
      "text/html": [
       "<div>\n",
       "<style scoped>\n",
       "    .dataframe tbody tr th:only-of-type {\n",
       "        vertical-align: middle;\n",
       "    }\n",
       "\n",
       "    .dataframe tbody tr th {\n",
       "        vertical-align: top;\n",
       "    }\n",
       "\n",
       "    .dataframe thead th {\n",
       "        text-align: right;\n",
       "    }\n",
       "</style>\n",
       "<table border=\"1\" class=\"dataframe\">\n",
       "  <thead>\n",
       "    <tr style=\"text-align: right;\">\n",
       "      <th></th>\n",
       "      <th>id</th>\n",
       "      <th>target</th>\n",
       "    </tr>\n",
       "  </thead>\n",
       "  <tbody>\n",
       "    <tr>\n",
       "      <th>0</th>\n",
       "      <td>1</td>\n",
       "      <td>0</td>\n",
       "    </tr>\n",
       "    <tr>\n",
       "      <th>1</th>\n",
       "      <td>2</td>\n",
       "      <td>0</td>\n",
       "    </tr>\n",
       "    <tr>\n",
       "      <th>2</th>\n",
       "      <td>3</td>\n",
       "      <td>0</td>\n",
       "    </tr>\n",
       "    <tr>\n",
       "      <th>3</th>\n",
       "      <td>4</td>\n",
       "      <td>0</td>\n",
       "    </tr>\n",
       "    <tr>\n",
       "      <th>4</th>\n",
       "      <td>5</td>\n",
       "      <td>0</td>\n",
       "    </tr>\n",
       "  </tbody>\n",
       "</table>\n",
       "</div>"
      ],
      "text/plain": [
       "   id  target\n",
       "0   1       0\n",
       "1   2       0\n",
       "2   3       0\n",
       "3   4       0\n",
       "4   5       0"
      ]
     },
     "execution_count": 32,
     "metadata": {},
     "output_type": "execute_result"
    }
   ],
   "source": [
    "submission.head()"
   ]
  },
  {
   "cell_type": "code",
   "execution_count": 62,
   "metadata": {},
   "outputs": [
    {
     "data": {
      "text/html": [
       "<div>\n",
       "<style scoped>\n",
       "    .dataframe tbody tr th:only-of-type {\n",
       "        vertical-align: middle;\n",
       "    }\n",
       "\n",
       "    .dataframe tbody tr th {\n",
       "        vertical-align: top;\n",
       "    }\n",
       "\n",
       "    .dataframe thead th {\n",
       "        text-align: right;\n",
       "    }\n",
       "</style>\n",
       "<table border=\"1\" class=\"dataframe\">\n",
       "  <thead>\n",
       "    <tr style=\"text-align: right;\">\n",
       "      <th></th>\n",
       "      <th>id</th>\n",
       "      <th>target</th>\n",
       "    </tr>\n",
       "  </thead>\n",
       "  <tbody>\n",
       "    <tr>\n",
       "      <th>0</th>\n",
       "      <td>1</td>\n",
       "      <td>0</td>\n",
       "    </tr>\n",
       "    <tr>\n",
       "      <th>1</th>\n",
       "      <td>2</td>\n",
       "      <td>0</td>\n",
       "    </tr>\n",
       "    <tr>\n",
       "      <th>2</th>\n",
       "      <td>3</td>\n",
       "      <td>1</td>\n",
       "    </tr>\n",
       "    <tr>\n",
       "      <th>3</th>\n",
       "      <td>4</td>\n",
       "      <td>3</td>\n",
       "    </tr>\n",
       "    <tr>\n",
       "      <th>4</th>\n",
       "      <td>5</td>\n",
       "      <td>2</td>\n",
       "    </tr>\n",
       "    <tr>\n",
       "      <th>...</th>\n",
       "      <td>...</td>\n",
       "      <td>...</td>\n",
       "    </tr>\n",
       "    <tr>\n",
       "      <th>9338</th>\n",
       "      <td>9339</td>\n",
       "      <td>3</td>\n",
       "    </tr>\n",
       "    <tr>\n",
       "      <th>9339</th>\n",
       "      <td>9340</td>\n",
       "      <td>1</td>\n",
       "    </tr>\n",
       "    <tr>\n",
       "      <th>9340</th>\n",
       "      <td>9341</td>\n",
       "      <td>2</td>\n",
       "    </tr>\n",
       "    <tr>\n",
       "      <th>9341</th>\n",
       "      <td>9342</td>\n",
       "      <td>0</td>\n",
       "    </tr>\n",
       "    <tr>\n",
       "      <th>9342</th>\n",
       "      <td>9343</td>\n",
       "      <td>3</td>\n",
       "    </tr>\n",
       "  </tbody>\n",
       "</table>\n",
       "<p>9343 rows × 2 columns</p>\n",
       "</div>"
      ],
      "text/plain": [
       "        id  target\n",
       "0        1       0\n",
       "1        2       0\n",
       "2        3       1\n",
       "3        4       3\n",
       "4        5       2\n",
       "...    ...     ...\n",
       "9338  9339       3\n",
       "9339  9340       1\n",
       "9340  9341       2\n",
       "9341  9342       0\n",
       "9342  9343       3\n",
       "\n",
       "[9343 rows x 2 columns]"
      ]
     },
     "execution_count": 62,
     "metadata": {},
     "output_type": "execute_result"
    }
   ],
   "source": [
    "submission['target'] = data4_int\n",
    "submission"
   ]
  },
  {
   "cell_type": "code",
   "execution_count": 63,
   "metadata": {},
   "outputs": [],
   "source": [
    "submission.to_csv(\"catboost_data4_int_submission.csv\", index = False)"
   ]
  },
  {
   "cell_type": "code",
   "execution_count": null,
   "metadata": {},
   "outputs": [],
   "source": []
  }
 ],
 "metadata": {
  "kernelspec": {
   "display_name": "Python 3",
   "language": "python",
   "name": "python3"
  },
  "language_info": {
   "codemirror_mode": {
    "name": "ipython",
    "version": 3
   },
   "file_extension": ".py",
   "mimetype": "text/x-python",
   "name": "python",
   "nbconvert_exporter": "python",
   "pygments_lexer": "ipython3",
   "version": "3.8.5"
  },
  "toc": {
   "base_numbering": 1,
   "nav_menu": {},
   "number_sections": true,
   "sideBar": true,
   "skip_h1_title": false,
   "title_cell": "Table of Contents",
   "title_sidebar": "Contents",
   "toc_cell": false,
   "toc_position": {},
   "toc_section_display": true,
   "toc_window_display": false
  },
  "varInspector": {
   "cols": {
    "lenName": 16,
    "lenType": 16,
    "lenVar": 40
   },
   "kernels_config": {
    "python": {
     "delete_cmd_postfix": "",
     "delete_cmd_prefix": "del ",
     "library": "var_list.py",
     "varRefreshCmd": "print(var_dic_list())"
    },
    "r": {
     "delete_cmd_postfix": ") ",
     "delete_cmd_prefix": "rm(",
     "library": "var_list.r",
     "varRefreshCmd": "cat(var_dic_list()) "
    }
   },
   "types_to_exclude": [
    "module",
    "function",
    "builtin_function_or_method",
    "instance",
    "_Feature"
   ],
   "window_display": false
  }
 },
 "nbformat": 4,
 "nbformat_minor": 4
}

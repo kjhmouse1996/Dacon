{
 "cells": [
  {
   "cell_type": "markdown",
   "metadata": {},
   "source": [
    "# 학습 데이터 불러오기"
   ]
  },
  {
   "cell_type": "code",
   "execution_count": 1,
   "metadata": {
    "scrolled": true
   },
   "outputs": [
    {
     "data": {
      "text/html": [
       "<div>\n",
       "<style scoped>\n",
       "    .dataframe tbody tr th:only-of-type {\n",
       "        vertical-align: middle;\n",
       "    }\n",
       "\n",
       "    .dataframe tbody tr th {\n",
       "        vertical-align: top;\n",
       "    }\n",
       "\n",
       "    .dataframe thead th {\n",
       "        text-align: right;\n",
       "    }\n",
       "</style>\n",
       "<table border=\"1\" class=\"dataframe\">\n",
       "  <thead>\n",
       "    <tr style=\"text-align: right;\">\n",
       "      <th></th>\n",
       "      <th>id</th>\n",
       "      <th>Gender</th>\n",
       "      <th>Lenght</th>\n",
       "      <th>Diameter</th>\n",
       "      <th>Height</th>\n",
       "      <th>Whole Weight</th>\n",
       "      <th>Shucked Weight</th>\n",
       "      <th>Viscra Weight</th>\n",
       "      <th>Shell Weight</th>\n",
       "      <th>Target</th>\n",
       "    </tr>\n",
       "  </thead>\n",
       "  <tbody>\n",
       "    <tr>\n",
       "      <th>0</th>\n",
       "      <td>1</td>\n",
       "      <td>M</td>\n",
       "      <td>0.605</td>\n",
       "      <td>0.470</td>\n",
       "      <td>0.115</td>\n",
       "      <td>1.1140</td>\n",
       "      <td>0.3925</td>\n",
       "      <td>0.2910</td>\n",
       "      <td>0.3100</td>\n",
       "      <td>15</td>\n",
       "    </tr>\n",
       "    <tr>\n",
       "      <th>1</th>\n",
       "      <td>2</td>\n",
       "      <td>I</td>\n",
       "      <td>0.430</td>\n",
       "      <td>0.315</td>\n",
       "      <td>0.095</td>\n",
       "      <td>0.3780</td>\n",
       "      <td>0.1750</td>\n",
       "      <td>0.0800</td>\n",
       "      <td>0.1045</td>\n",
       "      <td>8</td>\n",
       "    </tr>\n",
       "    <tr>\n",
       "      <th>2</th>\n",
       "      <td>3</td>\n",
       "      <td>I</td>\n",
       "      <td>0.580</td>\n",
       "      <td>0.490</td>\n",
       "      <td>0.195</td>\n",
       "      <td>1.3165</td>\n",
       "      <td>0.5305</td>\n",
       "      <td>0.2540</td>\n",
       "      <td>0.4100</td>\n",
       "      <td>18</td>\n",
       "    </tr>\n",
       "    <tr>\n",
       "      <th>3</th>\n",
       "      <td>4</td>\n",
       "      <td>M</td>\n",
       "      <td>0.535</td>\n",
       "      <td>0.405</td>\n",
       "      <td>0.175</td>\n",
       "      <td>1.2705</td>\n",
       "      <td>0.5480</td>\n",
       "      <td>0.3265</td>\n",
       "      <td>0.3370</td>\n",
       "      <td>13</td>\n",
       "    </tr>\n",
       "    <tr>\n",
       "      <th>4</th>\n",
       "      <td>5</td>\n",
       "      <td>I</td>\n",
       "      <td>0.310</td>\n",
       "      <td>0.235</td>\n",
       "      <td>0.090</td>\n",
       "      <td>0.1270</td>\n",
       "      <td>0.0480</td>\n",
       "      <td>0.0310</td>\n",
       "      <td>0.0400</td>\n",
       "      <td>6</td>\n",
       "    </tr>\n",
       "  </tbody>\n",
       "</table>\n",
       "</div>"
      ],
      "text/plain": [
       "   id Gender  Lenght  Diameter  Height  Whole Weight  Shucked Weight  \\\n",
       "0   1      M   0.605     0.470   0.115        1.1140          0.3925   \n",
       "1   2      I   0.430     0.315   0.095        0.3780          0.1750   \n",
       "2   3      I   0.580     0.490   0.195        1.3165          0.5305   \n",
       "3   4      M   0.535     0.405   0.175        1.2705          0.5480   \n",
       "4   5      I   0.310     0.235   0.090        0.1270          0.0480   \n",
       "\n",
       "   Viscra Weight  Shell Weight  Target  \n",
       "0         0.2910        0.3100      15  \n",
       "1         0.0800        0.1045       8  \n",
       "2         0.2540        0.4100      18  \n",
       "3         0.3265        0.3370      13  \n",
       "4         0.0310        0.0400       6  "
      ]
     },
     "execution_count": 1,
     "metadata": {},
     "output_type": "execute_result"
    }
   ],
   "source": [
    "import warnings\n",
    "warnings.filterwarnings('ignore')\n",
    "\n",
    "import pandas as pd\n",
    "\n",
    "# csv형식으로 된 데이터 파일을 읽어옵니다.\n",
    "train = pd.read_csv('data/train.csv')\n",
    "train.head()"
   ]
  },
  {
   "cell_type": "code",
   "execution_count": 2,
   "metadata": {},
   "outputs": [
    {
     "data": {
      "text/html": [
       "<div>\n",
       "<style scoped>\n",
       "    .dataframe tbody tr th:only-of-type {\n",
       "        vertical-align: middle;\n",
       "    }\n",
       "\n",
       "    .dataframe tbody tr th {\n",
       "        vertical-align: top;\n",
       "    }\n",
       "\n",
       "    .dataframe thead th {\n",
       "        text-align: right;\n",
       "    }\n",
       "</style>\n",
       "<table border=\"1\" class=\"dataframe\">\n",
       "  <thead>\n",
       "    <tr style=\"text-align: right;\">\n",
       "      <th></th>\n",
       "      <th>id</th>\n",
       "      <th>Gender</th>\n",
       "      <th>Lenght</th>\n",
       "      <th>Diameter</th>\n",
       "      <th>Height</th>\n",
       "      <th>Whole Weight</th>\n",
       "      <th>Shucked Weight</th>\n",
       "      <th>Viscra Weight</th>\n",
       "      <th>Shell Weight</th>\n",
       "    </tr>\n",
       "  </thead>\n",
       "  <tbody>\n",
       "    <tr>\n",
       "      <th>0</th>\n",
       "      <td>1</td>\n",
       "      <td>F</td>\n",
       "      <td>0.595</td>\n",
       "      <td>0.470</td>\n",
       "      <td>0.155</td>\n",
       "      <td>1.121</td>\n",
       "      <td>0.4515</td>\n",
       "      <td>0.1780</td>\n",
       "      <td>0.1550</td>\n",
       "    </tr>\n",
       "    <tr>\n",
       "      <th>1</th>\n",
       "      <td>2</td>\n",
       "      <td>M</td>\n",
       "      <td>0.580</td>\n",
       "      <td>0.450</td>\n",
       "      <td>0.150</td>\n",
       "      <td>0.927</td>\n",
       "      <td>0.2760</td>\n",
       "      <td>0.1815</td>\n",
       "      <td>0.3600</td>\n",
       "    </tr>\n",
       "    <tr>\n",
       "      <th>2</th>\n",
       "      <td>3</td>\n",
       "      <td>I</td>\n",
       "      <td>0.260</td>\n",
       "      <td>0.205</td>\n",
       "      <td>0.070</td>\n",
       "      <td>0.097</td>\n",
       "      <td>0.0415</td>\n",
       "      <td>0.0190</td>\n",
       "      <td>0.0305</td>\n",
       "    </tr>\n",
       "    <tr>\n",
       "      <th>3</th>\n",
       "      <td>4</td>\n",
       "      <td>M</td>\n",
       "      <td>0.590</td>\n",
       "      <td>0.460</td>\n",
       "      <td>0.130</td>\n",
       "      <td>1.102</td>\n",
       "      <td>0.4550</td>\n",
       "      <td>0.2055</td>\n",
       "      <td>0.3300</td>\n",
       "    </tr>\n",
       "    <tr>\n",
       "      <th>4</th>\n",
       "      <td>5</td>\n",
       "      <td>F</td>\n",
       "      <td>0.595</td>\n",
       "      <td>0.465</td>\n",
       "      <td>0.140</td>\n",
       "      <td>1.113</td>\n",
       "      <td>0.5175</td>\n",
       "      <td>0.2440</td>\n",
       "      <td>0.3050</td>\n",
       "    </tr>\n",
       "  </tbody>\n",
       "</table>\n",
       "</div>"
      ],
      "text/plain": [
       "   id Gender  Lenght  Diameter  Height  Whole Weight  Shucked Weight  \\\n",
       "0   1      F   0.595     0.470   0.155         1.121          0.4515   \n",
       "1   2      M   0.580     0.450   0.150         0.927          0.2760   \n",
       "2   3      I   0.260     0.205   0.070         0.097          0.0415   \n",
       "3   4      M   0.590     0.460   0.130         1.102          0.4550   \n",
       "4   5      F   0.595     0.465   0.140         1.113          0.5175   \n",
       "\n",
       "   Viscra Weight  Shell Weight  \n",
       "0         0.1780        0.1550  \n",
       "1         0.1815        0.3600  \n",
       "2         0.0190        0.0305  \n",
       "3         0.2055        0.3300  \n",
       "4         0.2440        0.3050  "
      ]
     },
     "execution_count": 2,
     "metadata": {},
     "output_type": "execute_result"
    }
   ],
   "source": [
    "test = pd.read_csv('data/test.csv')\n",
    "test.head()"
   ]
  },
  {
   "cell_type": "markdown",
   "metadata": {},
   "source": [
    "## 결측치 확인"
   ]
  },
  {
   "cell_type": "code",
   "execution_count": 3,
   "metadata": {},
   "outputs": [
    {
     "name": "stdout",
     "output_type": "stream",
     "text": [
      "결측치가 존재하지 않습니다\n"
     ]
    }
   ],
   "source": [
    "def check_missing_col(dataframe):\n",
    "    missing_col = []\n",
    "    counted_missing_col = 0\n",
    "    for i, col in enumerate(dataframe.columns):\n",
    "        missing_values = sum(dataframe[col].isna())\n",
    "        is_missing = True if missing_values >= 1 else False\n",
    "        if is_missing:\n",
    "            counted_missing_col += 1\n",
    "            print(f'결측치가 있는 컬럼은: {col}입니다')\n",
    "            print(f'해당 컬럼에 총 {missing_values}개의 결측치가 존재합니다.')\n",
    "            missing_col.append([col, dataframe[col].dtype])\n",
    "    if counted_missing_col == 0:\n",
    "        print('결측치가 존재하지 않습니다')\n",
    "    return missing_col\n",
    "\n",
    "missing_col = check_missing_col(train)"
   ]
  },
  {
   "cell_type": "markdown",
   "metadata": {},
   "source": [
    "# 데이터 전처리"
   ]
  },
  {
   "cell_type": "code",
   "execution_count": 4,
   "metadata": {},
   "outputs": [],
   "source": [
    "\n",
    "#라벨인코딩을 하기 위함 dictionary map 생성 함수\n",
    "def make_label_map(dataframe):\n",
    "    label_maps = {}\n",
    "    for col in dataframe.columns:\n",
    "        if dataframe[col].dtype=='object':\n",
    "            label_map = {'unknown':0}\n",
    "            for i, key in enumerate(dataframe[col].unique()):\n",
    "                label_map[key] = i+1  #새로 등장하는 유니크 값들에 대해 1부터 1씩 증가시켜 키값을 부여해줍니다.\n",
    "            label_maps[col] = label_map\n",
    "    print(label_maps)\n",
    "    return label_maps\n",
    "\n",
    "# 각 범주형 변수에 인코딩 값을 부여하는 함수\n",
    "def label_encoder(dataframe, label_map):\n",
    "    for col in dataframe.columns:\n",
    "        if dataframe[col].dtype=='object':\n",
    "            dataframe[col] = dataframe[col].map(label_map[col])\n",
    "            dataframe[col] = dataframe[col].fillna(label_map[col]['unknown']) #혹시 모를 결측값은 unknown의 값(0)으로 채워줍니다.\n",
    "    return dataframe"
   ]
  },
  {
   "cell_type": "code",
   "execution_count": 5,
   "metadata": {},
   "outputs": [
    {
     "name": "stdout",
     "output_type": "stream",
     "text": [
      "{'Gender': {'unknown': 0, 'M': 1, 'I': 2, 'F': 3}}\n"
     ]
    }
   ],
   "source": [
    "train_le = make_label_map(train[['Gender']])\n",
    "gender_df = label_encoder(train[['Gender']], train_le)\n",
    "train['Gender'] = gender_df[['Gender']]"
   ]
  },
  {
   "cell_type": "code",
   "execution_count": 6,
   "metadata": {},
   "outputs": [
    {
     "data": {
      "text/html": [
       "<div>\n",
       "<style scoped>\n",
       "    .dataframe tbody tr th:only-of-type {\n",
       "        vertical-align: middle;\n",
       "    }\n",
       "\n",
       "    .dataframe tbody tr th {\n",
       "        vertical-align: top;\n",
       "    }\n",
       "\n",
       "    .dataframe thead th {\n",
       "        text-align: right;\n",
       "    }\n",
       "</style>\n",
       "<table border=\"1\" class=\"dataframe\">\n",
       "  <thead>\n",
       "    <tr style=\"text-align: right;\">\n",
       "      <th></th>\n",
       "      <th>id</th>\n",
       "      <th>Gender</th>\n",
       "      <th>Lenght</th>\n",
       "      <th>Diameter</th>\n",
       "      <th>Height</th>\n",
       "      <th>Whole Weight</th>\n",
       "      <th>Shucked Weight</th>\n",
       "      <th>Viscra Weight</th>\n",
       "      <th>Shell Weight</th>\n",
       "      <th>Target</th>\n",
       "    </tr>\n",
       "  </thead>\n",
       "  <tbody>\n",
       "    <tr>\n",
       "      <th>0</th>\n",
       "      <td>1</td>\n",
       "      <td>1</td>\n",
       "      <td>0.605</td>\n",
       "      <td>0.470</td>\n",
       "      <td>0.115</td>\n",
       "      <td>1.1140</td>\n",
       "      <td>0.3925</td>\n",
       "      <td>0.2910</td>\n",
       "      <td>0.3100</td>\n",
       "      <td>15</td>\n",
       "    </tr>\n",
       "    <tr>\n",
       "      <th>1</th>\n",
       "      <td>2</td>\n",
       "      <td>2</td>\n",
       "      <td>0.430</td>\n",
       "      <td>0.315</td>\n",
       "      <td>0.095</td>\n",
       "      <td>0.3780</td>\n",
       "      <td>0.1750</td>\n",
       "      <td>0.0800</td>\n",
       "      <td>0.1045</td>\n",
       "      <td>8</td>\n",
       "    </tr>\n",
       "    <tr>\n",
       "      <th>2</th>\n",
       "      <td>3</td>\n",
       "      <td>2</td>\n",
       "      <td>0.580</td>\n",
       "      <td>0.490</td>\n",
       "      <td>0.195</td>\n",
       "      <td>1.3165</td>\n",
       "      <td>0.5305</td>\n",
       "      <td>0.2540</td>\n",
       "      <td>0.4100</td>\n",
       "      <td>18</td>\n",
       "    </tr>\n",
       "    <tr>\n",
       "      <th>3</th>\n",
       "      <td>4</td>\n",
       "      <td>1</td>\n",
       "      <td>0.535</td>\n",
       "      <td>0.405</td>\n",
       "      <td>0.175</td>\n",
       "      <td>1.2705</td>\n",
       "      <td>0.5480</td>\n",
       "      <td>0.3265</td>\n",
       "      <td>0.3370</td>\n",
       "      <td>13</td>\n",
       "    </tr>\n",
       "    <tr>\n",
       "      <th>4</th>\n",
       "      <td>5</td>\n",
       "      <td>2</td>\n",
       "      <td>0.310</td>\n",
       "      <td>0.235</td>\n",
       "      <td>0.090</td>\n",
       "      <td>0.1270</td>\n",
       "      <td>0.0480</td>\n",
       "      <td>0.0310</td>\n",
       "      <td>0.0400</td>\n",
       "      <td>6</td>\n",
       "    </tr>\n",
       "  </tbody>\n",
       "</table>\n",
       "</div>"
      ],
      "text/plain": [
       "   id  Gender  Lenght  Diameter  Height  Whole Weight  Shucked Weight  \\\n",
       "0   1       1   0.605     0.470   0.115        1.1140          0.3925   \n",
       "1   2       2   0.430     0.315   0.095        0.3780          0.1750   \n",
       "2   3       2   0.580     0.490   0.195        1.3165          0.5305   \n",
       "3   4       1   0.535     0.405   0.175        1.2705          0.5480   \n",
       "4   5       2   0.310     0.235   0.090        0.1270          0.0480   \n",
       "\n",
       "   Viscra Weight  Shell Weight  Target  \n",
       "0         0.2910        0.3100      15  \n",
       "1         0.0800        0.1045       8  \n",
       "2         0.2540        0.4100      18  \n",
       "3         0.3265        0.3370      13  \n",
       "4         0.0310        0.0400       6  "
      ]
     },
     "execution_count": 6,
     "metadata": {},
     "output_type": "execute_result"
    }
   ],
   "source": [
    "train.head()"
   ]
  },
  {
   "cell_type": "code",
   "execution_count": 7,
   "metadata": {},
   "outputs": [
    {
     "name": "stdout",
     "output_type": "stream",
     "text": [
      "{'Gender': {'unknown': 0, 'F': 1, 'M': 2, 'I': 3}}\n"
     ]
    }
   ],
   "source": [
    "test_le = make_label_map(test[['Gender']])\n",
    "gender_df = label_encoder(test[['Gender']], test_le)\n",
    "test['Gender'] = gender_df[['Gender']]"
   ]
  },
  {
   "cell_type": "code",
   "execution_count": 8,
   "metadata": {},
   "outputs": [
    {
     "data": {
      "text/html": [
       "<div>\n",
       "<style scoped>\n",
       "    .dataframe tbody tr th:only-of-type {\n",
       "        vertical-align: middle;\n",
       "    }\n",
       "\n",
       "    .dataframe tbody tr th {\n",
       "        vertical-align: top;\n",
       "    }\n",
       "\n",
       "    .dataframe thead th {\n",
       "        text-align: right;\n",
       "    }\n",
       "</style>\n",
       "<table border=\"1\" class=\"dataframe\">\n",
       "  <thead>\n",
       "    <tr style=\"text-align: right;\">\n",
       "      <th></th>\n",
       "      <th>id</th>\n",
       "      <th>Gender</th>\n",
       "      <th>Lenght</th>\n",
       "      <th>Diameter</th>\n",
       "      <th>Height</th>\n",
       "      <th>Whole Weight</th>\n",
       "      <th>Shucked Weight</th>\n",
       "      <th>Viscra Weight</th>\n",
       "      <th>Shell Weight</th>\n",
       "    </tr>\n",
       "  </thead>\n",
       "  <tbody>\n",
       "    <tr>\n",
       "      <th>0</th>\n",
       "      <td>1</td>\n",
       "      <td>1</td>\n",
       "      <td>0.595</td>\n",
       "      <td>0.470</td>\n",
       "      <td>0.155</td>\n",
       "      <td>1.121</td>\n",
       "      <td>0.4515</td>\n",
       "      <td>0.1780</td>\n",
       "      <td>0.1550</td>\n",
       "    </tr>\n",
       "    <tr>\n",
       "      <th>1</th>\n",
       "      <td>2</td>\n",
       "      <td>2</td>\n",
       "      <td>0.580</td>\n",
       "      <td>0.450</td>\n",
       "      <td>0.150</td>\n",
       "      <td>0.927</td>\n",
       "      <td>0.2760</td>\n",
       "      <td>0.1815</td>\n",
       "      <td>0.3600</td>\n",
       "    </tr>\n",
       "    <tr>\n",
       "      <th>2</th>\n",
       "      <td>3</td>\n",
       "      <td>3</td>\n",
       "      <td>0.260</td>\n",
       "      <td>0.205</td>\n",
       "      <td>0.070</td>\n",
       "      <td>0.097</td>\n",
       "      <td>0.0415</td>\n",
       "      <td>0.0190</td>\n",
       "      <td>0.0305</td>\n",
       "    </tr>\n",
       "    <tr>\n",
       "      <th>3</th>\n",
       "      <td>4</td>\n",
       "      <td>2</td>\n",
       "      <td>0.590</td>\n",
       "      <td>0.460</td>\n",
       "      <td>0.130</td>\n",
       "      <td>1.102</td>\n",
       "      <td>0.4550</td>\n",
       "      <td>0.2055</td>\n",
       "      <td>0.3300</td>\n",
       "    </tr>\n",
       "    <tr>\n",
       "      <th>4</th>\n",
       "      <td>5</td>\n",
       "      <td>1</td>\n",
       "      <td>0.595</td>\n",
       "      <td>0.465</td>\n",
       "      <td>0.140</td>\n",
       "      <td>1.113</td>\n",
       "      <td>0.5175</td>\n",
       "      <td>0.2440</td>\n",
       "      <td>0.3050</td>\n",
       "    </tr>\n",
       "  </tbody>\n",
       "</table>\n",
       "</div>"
      ],
      "text/plain": [
       "   id  Gender  Lenght  Diameter  Height  Whole Weight  Shucked Weight  \\\n",
       "0   1       1   0.595     0.470   0.155         1.121          0.4515   \n",
       "1   2       2   0.580     0.450   0.150         0.927          0.2760   \n",
       "2   3       3   0.260     0.205   0.070         0.097          0.0415   \n",
       "3   4       2   0.590     0.460   0.130         1.102          0.4550   \n",
       "4   5       1   0.595     0.465   0.140         1.113          0.5175   \n",
       "\n",
       "   Viscra Weight  Shell Weight  \n",
       "0         0.1780        0.1550  \n",
       "1         0.1815        0.3600  \n",
       "2         0.0190        0.0305  \n",
       "3         0.2055        0.3300  \n",
       "4         0.2440        0.3050  "
      ]
     },
     "execution_count": 8,
     "metadata": {},
     "output_type": "execute_result"
    }
   ],
   "source": [
    "test.head()"
   ]
  },
  {
   "cell_type": "code",
   "execution_count": 15,
   "metadata": {},
   "outputs": [],
   "source": [
    "train_x = train.drop(['id', 'Target'], axis=1)\n",
    "train_y = train.Target"
   ]
  },
  {
   "cell_type": "code",
   "execution_count": 16,
   "metadata": {},
   "outputs": [],
   "source": [
    "test_x = test.drop(['id'], axis=1)"
   ]
  },
  {
   "cell_type": "code",
   "execution_count": null,
   "metadata": {},
   "outputs": [],
   "source": []
  },
  {
   "cell_type": "code",
   "execution_count": 12,
   "metadata": {},
   "outputs": [
    {
     "ename": "SyntaxError",
     "evalue": "invalid syntax (<ipython-input-12-921ce146f99a>, line 1)",
     "output_type": "error",
     "traceback": [
      "\u001b[1;36m  File \u001b[1;32m\"<ipython-input-12-921ce146f99a>\"\u001b[1;36m, line \u001b[1;32m1\u001b[0m\n\u001b[1;33m    pip3 install auto-sklearn\u001b[0m\n\u001b[1;37m         ^\u001b[0m\n\u001b[1;31mSyntaxError\u001b[0m\u001b[1;31m:\u001b[0m invalid syntax\n"
     ]
    }
   ],
   "source": [
    "pip3 install auto-sklearn"
   ]
  },
  {
   "cell_type": "code",
   "execution_count": 5,
   "metadata": {},
   "outputs": [
    {
     "ename": "ModuleNotFoundError",
     "evalue": "No module named 'autosklearn'",
     "output_type": "error",
     "traceback": [
      "\u001b[1;31m---------------------------------------------------------------------------\u001b[0m",
      "\u001b[1;31mModuleNotFoundError\u001b[0m                       Traceback (most recent call last)",
      "\u001b[1;32m<ipython-input-5-4846e30d0154>\u001b[0m in \u001b[0;36m<module>\u001b[1;34m\u001b[0m\n\u001b[1;32m----> 1\u001b[1;33m \u001b[1;32mimport\u001b[0m \u001b[0mautosklearn\u001b[0m\u001b[1;33m.\u001b[0m\u001b[0mregression\u001b[0m\u001b[1;33m\u001b[0m\u001b[1;33m\u001b[0m\u001b[0m\n\u001b[0m\u001b[0;32m      2\u001b[0m \u001b[1;33m\u001b[0m\u001b[0m\n\u001b[0;32m      3\u001b[0m \u001b[1;32mfrom\u001b[0m \u001b[0mfeature_engine\u001b[0m \u001b[1;32mimport\u001b[0m \u001b[0mtransformation\u001b[0m \u001b[1;32mas\u001b[0m \u001b[0mvt\u001b[0m\u001b[1;33m\u001b[0m\u001b[1;33m\u001b[0m\u001b[0m\n",
      "\u001b[1;31mModuleNotFoundError\u001b[0m: No module named 'autosklearn'"
     ]
    }
   ],
   "source": [
    "import autosklearn.regression\n",
    "\n",
    "from feature_engine import transformation as vt"
   ]
  },
  {
   "cell_type": "code",
   "execution_count": 4,
   "metadata": {},
   "outputs": [
    {
     "ename": "NameError",
     "evalue": "name 'vt' is not defined",
     "output_type": "error",
     "traceback": [
      "\u001b[1;31m---------------------------------------------------------------------------\u001b[0m",
      "\u001b[1;31mNameError\u001b[0m                                 Traceback (most recent call last)",
      "\u001b[1;32m<ipython-input-4-1235f55d1ecc>\u001b[0m in \u001b[0;36m<module>\u001b[1;34m\u001b[0m\n\u001b[1;32m----> 1\u001b[1;33m \u001b[0mtransformer\u001b[0m \u001b[1;33m=\u001b[0m \u001b[0mvt\u001b[0m\u001b[1;33m.\u001b[0m\u001b[0mYeoJohnsonTransformer\u001b[0m\u001b[1;33m(\u001b[0m\u001b[0mvariables\u001b[0m\u001b[1;33m=\u001b[0m\u001b[1;33m[\u001b[0m\u001b[1;34m\"Lenght\"\u001b[0m\u001b[1;33m,\u001b[0m \u001b[1;34m\"Diameter\"\u001b[0m\u001b[1;33m,\u001b[0m \u001b[1;34m\"Height\"\u001b[0m\u001b[1;33m,\u001b[0m \u001b[1;34m\"Whole Weight\"\u001b[0m\u001b[1;33m,\u001b[0m \u001b[1;34m\"Shucked Weight\"\u001b[0m\u001b[1;33m,\u001b[0m \u001b[1;34m\"Viscra Weight\"\u001b[0m\u001b[1;33m,\u001b[0m \u001b[1;34m\"Shell Weight\"\u001b[0m\u001b[1;33m]\u001b[0m\u001b[1;33m)\u001b[0m\u001b[1;33m\u001b[0m\u001b[1;33m\u001b[0m\u001b[0m\n\u001b[0m\u001b[0;32m      2\u001b[0m \u001b[0mtransformer\u001b[0m\u001b[1;33m.\u001b[0m\u001b[0mfit\u001b[0m\u001b[1;33m(\u001b[0m\u001b[0mdf_train\u001b[0m\u001b[1;33m)\u001b[0m\u001b[1;33m\u001b[0m\u001b[1;33m\u001b[0m\u001b[0m\n\u001b[0;32m      3\u001b[0m \u001b[0mdf_train\u001b[0m \u001b[1;33m=\u001b[0m \u001b[0mtransformer\u001b[0m\u001b[1;33m.\u001b[0m\u001b[0mtransform\u001b[0m\u001b[1;33m(\u001b[0m\u001b[0mdf_train\u001b[0m\u001b[1;33m)\u001b[0m\u001b[1;33m\u001b[0m\u001b[1;33m\u001b[0m\u001b[0m\n",
      "\u001b[1;31mNameError\u001b[0m: name 'vt' is not defined"
     ]
    }
   ],
   "source": [
    "transformer = vt.YeoJohnsonTransformer(variables=[\"Lenght\", \"Diameter\", \"Height\", \"Whole Weight\", \"Shucked Weight\", \"Viscra Weight\", \"Shell Weight\"])\n",
    "transformer.fit(df_train)\n",
    "df_train = transformer.transform(df_train)"
   ]
  },
  {
   "cell_type": "code",
   "execution_count": null,
   "metadata": {},
   "outputs": [],
   "source": []
  },
  {
   "cell_type": "code",
   "execution_count": 74,
   "metadata": {},
   "outputs": [],
   "source": [
    "#-*- coding: utf-8 -*-\n",
    "from keras.models import Sequential\n",
    "from keras.layers import Dense\n",
    "from tensorflow.keras.layers import Dropout, Dense\n",
    "from keras.callbacks import ModelCheckpoint,EarlyStopping\n",
    "import tensorflow as tf\n",
    "import os\n",
    "from tensorflow.keras.layers import *\n",
    "from tensorflow.keras.models import *\n",
    "from tensorflow.keras.optimizers import *\n",
    "from tensorflow.keras.callbacks import *"
   ]
  },
  {
   "cell_type": "code",
   "execution_count": 306,
   "metadata": {},
   "outputs": [],
   "source": [
    "# 딥러닝 모델 선언\n",
    "model = Sequential()\n",
    "model.add(Dense(30, input_dim=8, activation='relu'))  # 입력층\n",
    "model.add(Dropout(0))                                                      # 은닉층1\n",
    "model.add(Dense(25, activation='relu'))\n",
    "model.add(Dropout(0))\n",
    "model.add(Dense(15, activation='relu'))  \n",
    "model.add(Dropout(0))\n",
    "model.add(Dense(6, activation='relu'))  # \n",
    "model.add(Dropout(0))\n",
    "model.add(Dense(1))                                      # 출력층\n",
    "# 선형 회귀는 마지막에 참과 거짓을 구분할 필요가 없음. 출력층에 활성화 함수를 지정할 필요도 없음\n",
    "\n",
    "model.compile(loss='mean_squared_error',\n",
    "              optimizer='RMSprop', \n",
    "              metrics=['mae'])"
   ]
  },
  {
   "cell_type": "code",
   "execution_count": 307,
   "metadata": {},
   "outputs": [],
   "source": [
    "# 모델 저장 폴더 만들기\n",
    "MODEL_DIR = './model/'\n",
    "if not os.path.exists(MODEL_DIR):\n",
    "    os.mkdir(MODEL_DIR)\n",
    "\n",
    "modelpath = \"./model/{epoch:02d}-{val_loss:.4f}.hdf5\"\n",
    "\n",
    "# 모델 업데이트 및 저장\n",
    "checkpointer = ModelCheckpoint(filepath=modelpath, monitor='mae', verbose=0, save_best_only=True, mode='min')\n",
    "# 콜백함수\n",
    "reduce_lr = ReduceLROnPlateau(monitor='mae', factor=0.1, patience=150, mode='min')\n",
    "\n",
    "# 학습 자동 중단 설정\n",
    "#early_stopping_callback = EarlyStopping(monitor='mae', patience=200, mode='min') early_stopping_callback,"
   ]
  },
  {
   "cell_type": "code",
   "execution_count": 308,
   "metadata": {
    "scrolled": true
   },
   "outputs": [
    {
     "name": "stdout",
     "output_type": "stream",
     "text": [
      "Epoch 1/1000\n",
      "14/14 [==============================] - 1s 14ms/step - loss: 108.7572 - mae: 9.9420 - val_loss: 107.3711 - val_mae: 9.8206 - lr: 0.0010\n",
      "Epoch 2/1000\n",
      "14/14 [==============================] - 0s 5ms/step - loss: 101.4398 - mae: 9.5732 - val_loss: 101.8215 - val_mae: 9.5479 - lr: 0.0010\n",
      "Epoch 3/1000\n",
      "14/14 [==============================] - 0s 5ms/step - loss: 93.3522 - mae: 9.1574 - val_loss: 89.5536 - val_mae: 8.9050 - lr: 0.0010\n",
      "Epoch 4/1000\n",
      "14/14 [==============================] - 0s 5ms/step - loss: 79.3472 - mae: 8.3790 - val_loss: 73.0022 - val_mae: 7.9542 - lr: 0.0010\n",
      "Epoch 5/1000\n",
      "14/14 [==============================] - 0s 4ms/step - loss: 61.2397 - mae: 7.2518 - val_loss: 52.0891 - val_mae: 6.5528 - lr: 0.0010\n",
      "Epoch 6/1000\n",
      "14/14 [==============================] - 0s 5ms/step - loss: 40.4933 - mae: 5.6743 - val_loss: 31.3633 - val_mae: 4.7638 - lr: 0.0010\n",
      "Epoch 7/1000\n",
      "14/14 [==============================] - 0s 5ms/step - loss: 22.2102 - mae: 3.7828 - val_loss: 15.8742 - val_mae: 2.9028 - lr: 0.0010\n",
      "Epoch 8/1000\n",
      "14/14 [==============================] - 0s 5ms/step - loss: 11.6199 - mae: 2.3937 - val_loss: 9.9749 - val_mae: 2.2036 - lr: 0.0010\n",
      "Epoch 9/1000\n",
      "14/14 [==============================] - 0s 5ms/step - loss: 9.0190 - mae: 2.1420 - val_loss: 9.2877 - val_mae: 2.2284 - lr: 0.0010\n",
      "Epoch 10/1000\n",
      "14/14 [==============================] - 0s 4ms/step - loss: 8.7034 - mae: 2.1231 - val_loss: 9.3541 - val_mae: 2.1520 - lr: 0.0010\n",
      "Epoch 11/1000\n",
      "14/14 [==============================] - 0s 4ms/step - loss: 8.5299 - mae: 2.0882 - val_loss: 8.9290 - val_mae: 2.1654 - lr: 0.0010\n",
      "Epoch 12/1000\n",
      "14/14 [==============================] - 0s 4ms/step - loss: 8.2858 - mae: 2.0652 - val_loss: 8.8848 - val_mae: 2.2156 - lr: 0.0010\n",
      "Epoch 13/1000\n",
      "14/14 [==============================] - 0s 4ms/step - loss: 8.1102 - mae: 2.0574 - val_loss: 8.6624 - val_mae: 2.1364 - lr: 0.0010\n",
      "Epoch 14/1000\n",
      "14/14 [==============================] - 0s 5ms/step - loss: 7.9967 - mae: 2.0277 - val_loss: 8.6557 - val_mae: 2.1885 - lr: 0.0010\n",
      "Epoch 15/1000\n",
      "14/14 [==============================] - 0s 5ms/step - loss: 7.8588 - mae: 2.0176 - val_loss: 8.4492 - val_mae: 2.1159 - lr: 0.0010\n",
      "Epoch 16/1000\n",
      "14/14 [==============================] - 0s 4ms/step - loss: 7.6791 - mae: 1.9906 - val_loss: 8.3756 - val_mae: 2.0700 - lr: 0.0010\n",
      "Epoch 17/1000\n",
      "14/14 [==============================] - 0s 5ms/step - loss: 7.5822 - mae: 1.9703 - val_loss: 8.3467 - val_mae: 2.0438 - lr: 0.0010\n",
      "Epoch 18/1000\n",
      "14/14 [==============================] - 0s 4ms/step - loss: 7.4708 - mae: 1.9551 - val_loss: 8.4236 - val_mae: 2.2120 - lr: 0.0010\n",
      "Epoch 19/1000\n",
      "14/14 [==============================] - 0s 3ms/step - loss: 7.3395 - mae: 1.9714 - val_loss: 8.0635 - val_mae: 2.0886 - lr: 0.0010\n",
      "Epoch 20/1000\n",
      "14/14 [==============================] - 0s 4ms/step - loss: 7.3203 - mae: 1.9470 - val_loss: 7.9914 - val_mae: 2.0635 - lr: 0.0010\n",
      "Epoch 21/1000\n",
      "14/14 [==============================] - 0s 5ms/step - loss: 7.1933 - mae: 1.9465 - val_loss: 8.2491 - val_mae: 1.9850 - lr: 0.0010\n",
      "Epoch 22/1000\n",
      "14/14 [==============================] - 0s 5ms/step - loss: 7.1287 - mae: 1.9110 - val_loss: 7.9219 - val_mae: 2.0139 - lr: 0.0010\n",
      "Epoch 23/1000\n",
      "14/14 [==============================] - 0s 4ms/step - loss: 6.9903 - mae: 1.9052 - val_loss: 7.8679 - val_mae: 2.0955 - lr: 0.0010\n",
      "Epoch 24/1000\n",
      "14/14 [==============================] - 0s 5ms/step - loss: 7.0005 - mae: 1.9041 - val_loss: 7.7925 - val_mae: 2.0026 - lr: 0.0010\n",
      "Epoch 25/1000\n",
      "14/14 [==============================] - 0s 5ms/step - loss: 6.8407 - mae: 1.8873 - val_loss: 8.0064 - val_mae: 2.1812 - lr: 0.0010\n",
      "Epoch 26/1000\n",
      "14/14 [==============================] - 0s 3ms/step - loss: 6.8689 - mae: 1.9211 - val_loss: 7.7319 - val_mae: 1.9935 - lr: 0.0010\n",
      "Epoch 27/1000\n",
      "14/14 [==============================] - 0s 5ms/step - loss: 6.7638 - mae: 1.8718 - val_loss: 8.1007 - val_mae: 2.2316 - lr: 0.0010\n",
      "Epoch 28/1000\n",
      "14/14 [==============================] - 0s 3ms/step - loss: 6.7316 - mae: 1.9169 - val_loss: 7.5883 - val_mae: 1.9939 - lr: 0.0010\n",
      "Epoch 29/1000\n",
      "14/14 [==============================] - 0s 4ms/step - loss: 6.6123 - mae: 1.8634 - val_loss: 7.6345 - val_mae: 1.9511 - lr: 0.0010\n",
      "Epoch 30/1000\n",
      "14/14 [==============================] - 0s 3ms/step - loss: 6.6223 - mae: 1.8697 - val_loss: 7.5395 - val_mae: 2.0637 - lr: 0.0010\n",
      "Epoch 31/1000\n",
      "14/14 [==============================] - 0s 3ms/step - loss: 6.5855 - mae: 1.8817 - val_loss: 7.4987 - val_mae: 1.9651 - lr: 0.0010\n",
      "Epoch 32/1000\n",
      "14/14 [==============================] - 0s 5ms/step - loss: 6.5693 - mae: 1.8624 - val_loss: 7.4581 - val_mae: 1.9712 - lr: 0.0010\n",
      "Epoch 33/1000\n",
      "14/14 [==============================] - 0s 3ms/step - loss: 6.5475 - mae: 1.8697 - val_loss: 7.5103 - val_mae: 1.9242 - lr: 0.0010\n",
      "Epoch 34/1000\n",
      "14/14 [==============================] - 0s 5ms/step - loss: 6.4755 - mae: 1.8408 - val_loss: 7.5096 - val_mae: 1.9187 - lr: 0.0010\n",
      "Epoch 35/1000\n",
      "14/14 [==============================] - 0s 3ms/step - loss: 6.4130 - mae: 1.8411 - val_loss: 7.9566 - val_mae: 1.8926 - lr: 0.0010\n",
      "Epoch 36/1000\n",
      "14/14 [==============================] - 0s 5ms/step - loss: 6.4651 - mae: 1.8122 - val_loss: 7.4091 - val_mae: 1.9168 - lr: 0.0010\n",
      "Epoch 37/1000\n",
      "14/14 [==============================] - 0s 3ms/step - loss: 6.3572 - mae: 1.8308 - val_loss: 7.7871 - val_mae: 1.8846 - lr: 0.0010\n",
      "Epoch 38/1000\n",
      "14/14 [==============================] - 0s 9ms/step - loss: 6.3792 - mae: 1.8028 - val_loss: 7.3447 - val_mae: 1.9265 - lr: 0.0010\n",
      "Epoch 39/1000\n",
      "14/14 [==============================] - 0s 6ms/step - loss: 6.2919 - mae: 1.8223 - val_loss: 7.5730 - val_mae: 2.1532 - lr: 0.0010\n",
      "Epoch 40/1000\n",
      "14/14 [==============================] - 0s 6ms/step - loss: 6.3132 - mae: 1.8607 - val_loss: 7.3145 - val_mae: 2.0739 - lr: 0.0010\n",
      "Epoch 41/1000\n",
      "14/14 [==============================] - 0s 4ms/step - loss: 6.2352 - mae: 1.8339 - val_loss: 7.6221 - val_mae: 2.1795 - lr: 0.0010\n",
      "Epoch 42/1000\n",
      "14/14 [==============================] - 0s 3ms/step - loss: 6.2967 - mae: 1.8758 - val_loss: 7.5093 - val_mae: 1.8751 - lr: 0.0010\n",
      "Epoch 43/1000\n",
      "14/14 [==============================] - 0s 3ms/step - loss: 6.1755 - mae: 1.8055 - val_loss: 7.4909 - val_mae: 1.8648 - lr: 0.0010\n",
      "Epoch 44/1000\n",
      "14/14 [==============================] - 0s 5ms/step - loss: 6.1914 - mae: 1.7954 - val_loss: 7.3063 - val_mae: 1.8718 - lr: 0.0010\n",
      "Epoch 45/1000\n",
      "14/14 [==============================] - 0s 4ms/step - loss: 6.1784 - mae: 1.8022 - val_loss: 7.1648 - val_mae: 1.9020 - lr: 0.0010\n",
      "Epoch 46/1000\n",
      "14/14 [==============================] - 0s 5ms/step - loss: 6.0979 - mae: 1.7910 - val_loss: 7.1003 - val_mae: 1.9079 - lr: 0.0010\n",
      "Epoch 47/1000\n",
      "14/14 [==============================] - 0s 5ms/step - loss: 6.0699 - mae: 1.7751 - val_loss: 7.1283 - val_mae: 2.0313 - lr: 0.0010\n",
      "Epoch 48/1000\n",
      "14/14 [==============================] - 0s 5ms/step - loss: 6.1404 - mae: 1.8202 - val_loss: 7.1974 - val_mae: 1.8628 - lr: 0.0010\n",
      "Epoch 49/1000\n",
      "14/14 [==============================] - 0s 3ms/step - loss: 6.0294 - mae: 1.7762 - val_loss: 7.0359 - val_mae: 1.9105 - lr: 0.0010\n",
      "Epoch 50/1000\n",
      "14/14 [==============================] - 0s 3ms/step - loss: 6.0127 - mae: 1.7892 - val_loss: 7.4151 - val_mae: 1.8416 - lr: 0.0010\n",
      "Epoch 51/1000\n",
      "14/14 [==============================] - 0s 4ms/step - loss: 6.0098 - mae: 1.7552 - val_loss: 6.9573 - val_mae: 1.8973 - lr: 0.0010\n",
      "Epoch 52/1000\n",
      "14/14 [==============================] - 0s 3ms/step - loss: 5.9913 - mae: 1.7798 - val_loss: 6.9355 - val_mae: 1.9573 - lr: 0.0010\n",
      "Epoch 53/1000\n",
      "14/14 [==============================] - 0s 3ms/step - loss: 5.9223 - mae: 1.7809 - val_loss: 6.8969 - val_mae: 1.8963 - lr: 0.0010\n",
      "Epoch 54/1000\n",
      "14/14 [==============================] - 0s 3ms/step - loss: 5.9111 - mae: 1.7616 - val_loss: 7.2910 - val_mae: 2.1256 - lr: 0.0010\n",
      "Epoch 55/1000\n",
      "14/14 [==============================] - 0s 4ms/step - loss: 5.9472 - mae: 1.8077 - val_loss: 6.8604 - val_mae: 1.9258 - lr: 0.0010\n",
      "Epoch 56/1000\n",
      "14/14 [==============================] - 0s 3ms/step - loss: 5.9004 - mae: 1.7700 - val_loss: 7.0512 - val_mae: 1.8318 - lr: 0.0010\n",
      "Epoch 57/1000\n"
     ]
    },
    {
     "name": "stdout",
     "output_type": "stream",
     "text": [
      "14/14 [==============================] - 0s 4ms/step - loss: 5.8827 - mae: 1.7563 - val_loss: 6.9292 - val_mae: 1.8374 - lr: 0.0010\n",
      "Epoch 58/1000\n",
      "14/14 [==============================] - 0s 9ms/step - loss: 5.8366 - mae: 1.7401 - val_loss: 6.8858 - val_mae: 1.9932 - lr: 0.0010\n",
      "Epoch 59/1000\n",
      "14/14 [==============================] - 0s 4ms/step - loss: 5.7754 - mae: 1.7793 - val_loss: 7.3743 - val_mae: 1.8151 - lr: 0.0010\n",
      "Epoch 60/1000\n",
      "14/14 [==============================] - 0s 6ms/step - loss: 5.8200 - mae: 1.7263 - val_loss: 6.7855 - val_mae: 1.8967 - lr: 0.0010\n",
      "Epoch 61/1000\n",
      "14/14 [==============================] - 0s 3ms/step - loss: 5.7397 - mae: 1.7448 - val_loss: 7.1666 - val_mae: 1.8175 - lr: 0.0010\n",
      "Epoch 62/1000\n",
      "14/14 [==============================] - 0s 5ms/step - loss: 5.7646 - mae: 1.7096 - val_loss: 6.7172 - val_mae: 1.8880 - lr: 0.0010\n",
      "Epoch 63/1000\n",
      "14/14 [==============================] - 0s 4ms/step - loss: 5.7125 - mae: 1.7381 - val_loss: 7.0194 - val_mae: 1.8050 - lr: 0.0010\n",
      "Epoch 64/1000\n",
      "14/14 [==============================] - 0s 3ms/step - loss: 5.7325 - mae: 1.7137 - val_loss: 6.8801 - val_mae: 2.0114 - lr: 0.0010\n",
      "Epoch 65/1000\n",
      "14/14 [==============================] - 0s 4ms/step - loss: 5.6886 - mae: 1.7528 - val_loss: 6.6534 - val_mae: 1.8838 - lr: 0.0010\n",
      "Epoch 66/1000\n",
      "14/14 [==============================] - 0s 5ms/step - loss: 5.6628 - mae: 1.7383 - val_loss: 6.6134 - val_mae: 1.8524 - lr: 0.0010\n",
      "Epoch 67/1000\n",
      "14/14 [==============================] - 0s 3ms/step - loss: 5.6458 - mae: 1.7188 - val_loss: 6.7058 - val_mae: 1.7924 - lr: 0.0010\n",
      "Epoch 68/1000\n",
      "14/14 [==============================] - 0s 5ms/step - loss: 5.6223 - mae: 1.7031 - val_loss: 6.6620 - val_mae: 1.7907 - lr: 0.0010\n",
      "Epoch 69/1000\n",
      "14/14 [==============================] - 0s 3ms/step - loss: 5.6217 - mae: 1.7085 - val_loss: 6.8556 - val_mae: 1.7802 - lr: 0.0010\n",
      "Epoch 70/1000\n",
      "14/14 [==============================] - 0s 5ms/step - loss: 5.5567 - mae: 1.6899 - val_loss: 6.5337 - val_mae: 1.8805 - lr: 0.0010\n",
      "Epoch 71/1000\n",
      "14/14 [==============================] - 0s 3ms/step - loss: 5.5390 - mae: 1.7145 - val_loss: 6.7137 - val_mae: 1.7832 - lr: 0.0010\n",
      "Epoch 72/1000\n",
      "14/14 [==============================] - 0s 4ms/step - loss: 5.5378 - mae: 1.6748 - val_loss: 6.5015 - val_mae: 1.8614 - lr: 0.0010\n",
      "Epoch 73/1000\n",
      "14/14 [==============================] - 0s 5ms/step - loss: 5.4804 - mae: 1.6817 - val_loss: 6.5403 - val_mae: 1.7802 - lr: 0.0010\n",
      "Epoch 74/1000\n",
      "14/14 [==============================] - 0s 3ms/step - loss: 5.4949 - mae: 1.6765 - val_loss: 6.3859 - val_mae: 1.8489 - lr: 0.0010\n",
      "Epoch 75/1000\n",
      "14/14 [==============================] - 0s 6ms/step - loss: 5.4268 - mae: 1.6777 - val_loss: 6.6470 - val_mae: 1.7588 - lr: 0.0010\n",
      "Epoch 76/1000\n",
      "14/14 [==============================] - 0s 5ms/step - loss: 5.4417 - mae: 1.6690 - val_loss: 6.4524 - val_mae: 1.7856 - lr: 0.0010\n",
      "Epoch 77/1000\n",
      "14/14 [==============================] - 0s 5ms/step - loss: 5.4010 - mae: 1.6640 - val_loss: 6.3631 - val_mae: 1.7996 - lr: 0.0010\n",
      "Epoch 78/1000\n",
      "14/14 [==============================] - 0s 4ms/step - loss: 5.4031 - mae: 1.6858 - val_loss: 6.3593 - val_mae: 1.8004 - lr: 0.0010\n",
      "Epoch 79/1000\n",
      "14/14 [==============================] - 0s 4ms/step - loss: 5.3815 - mae: 1.6738 - val_loss: 6.4702 - val_mae: 1.7539 - lr: 0.0010\n",
      "Epoch 80/1000\n",
      "14/14 [==============================] - 0s 5ms/step - loss: 5.3202 - mae: 1.6452 - val_loss: 6.4656 - val_mae: 1.9516 - lr: 0.0010\n",
      "Epoch 81/1000\n",
      "14/14 [==============================] - 0s 3ms/step - loss: 5.4083 - mae: 1.6774 - val_loss: 6.3175 - val_mae: 1.7518 - lr: 0.0010\n",
      "Epoch 82/1000\n",
      "14/14 [==============================] - 0s 3ms/step - loss: 5.3120 - mae: 1.6505 - val_loss: 6.4174 - val_mae: 1.7511 - lr: 0.0010\n",
      "Epoch 83/1000\n",
      "14/14 [==============================] - 0s 7ms/step - loss: 5.3386 - mae: 1.6609 - val_loss: 6.7643 - val_mae: 1.7456 - lr: 0.0010\n",
      "Epoch 84/1000\n",
      "14/14 [==============================] - 0s 7ms/step - loss: 5.3753 - mae: 1.6435 - val_loss: 6.4340 - val_mae: 1.7374 - lr: 0.0010\n",
      "Epoch 85/1000\n",
      "14/14 [==============================] - 0s 3ms/step - loss: 5.2538 - mae: 1.6537 - val_loss: 6.5920 - val_mae: 1.7319 - lr: 0.0010\n",
      "Epoch 86/1000\n",
      "14/14 [==============================] - 0s 7ms/step - loss: 5.2360 - mae: 1.6195 - val_loss: 6.2326 - val_mae: 1.7755 - lr: 0.0010\n",
      "Epoch 87/1000\n",
      "14/14 [==============================] - 0s 5ms/step - loss: 5.3125 - mae: 1.6605 - val_loss: 6.3268 - val_mae: 1.7274 - lr: 0.0010\n",
      "Epoch 88/1000\n",
      "14/14 [==============================] - 0s 4ms/step - loss: 5.2078 - mae: 1.6239 - val_loss: 6.2751 - val_mae: 1.8904 - lr: 0.0010\n",
      "Epoch 89/1000\n",
      "14/14 [==============================] - 0s 4ms/step - loss: 5.2089 - mae: 1.6410 - val_loss: 6.3344 - val_mae: 1.7273 - lr: 0.0010\n",
      "Epoch 90/1000\n",
      "14/14 [==============================] - 0s 3ms/step - loss: 5.1544 - mae: 1.6204 - val_loss: 6.1373 - val_mae: 1.8408 - lr: 0.0010\n",
      "Epoch 91/1000\n",
      "14/14 [==============================] - 0s 5ms/step - loss: 5.2079 - mae: 1.6347 - val_loss: 6.1810 - val_mae: 1.8561 - lr: 0.0010\n",
      "Epoch 92/1000\n",
      "14/14 [==============================] - 0s 4ms/step - loss: 5.1447 - mae: 1.6373 - val_loss: 6.5933 - val_mae: 2.0100 - lr: 0.0010\n",
      "Epoch 93/1000\n",
      "14/14 [==============================] - 0s 4ms/step - loss: 5.2102 - mae: 1.6652 - val_loss: 6.3844 - val_mae: 1.9462 - lr: 0.0010\n",
      "Epoch 94/1000\n",
      "14/14 [==============================] - 0s 3ms/step - loss: 5.1509 - mae: 1.6507 - val_loss: 6.6252 - val_mae: 2.0240 - lr: 0.0010\n",
      "Epoch 95/1000\n",
      "14/14 [==============================] - 0s 3ms/step - loss: 5.1922 - mae: 1.6662 - val_loss: 6.4606 - val_mae: 1.7114 - lr: 0.0010\n",
      "Epoch 96/1000\n",
      "14/14 [==============================] - 0s 5ms/step - loss: 5.1136 - mae: 1.5927 - val_loss: 6.6237 - val_mae: 2.0326 - lr: 0.0010\n",
      "Epoch 97/1000\n",
      "14/14 [==============================] - 0s 4ms/step - loss: 5.2021 - mae: 1.6898 - val_loss: 6.1166 - val_mae: 1.7078 - lr: 0.0010\n",
      "Epoch 98/1000\n",
      "14/14 [==============================] - 0s 4ms/step - loss: 5.0924 - mae: 1.5966 - val_loss: 6.3714 - val_mae: 1.7017 - lr: 0.0010\n",
      "Epoch 99/1000\n",
      "14/14 [==============================] - 0s 5ms/step - loss: 5.1040 - mae: 1.5899 - val_loss: 6.0204 - val_mae: 1.7749 - lr: 0.0010\n",
      "Epoch 100/1000\n",
      "14/14 [==============================] - 0s 3ms/step - loss: 5.0666 - mae: 1.6167 - val_loss: 6.0729 - val_mae: 1.7346 - lr: 0.0010\n",
      "Epoch 101/1000\n",
      "14/14 [==============================] - 0s 4ms/step - loss: 5.0788 - mae: 1.6171 - val_loss: 6.2268 - val_mae: 1.8822 - lr: 0.0010\n",
      "Epoch 102/1000\n",
      "14/14 [==============================] - 0s 4ms/step - loss: 5.0845 - mae: 1.6345 - val_loss: 5.9933 - val_mae: 1.7401 - lr: 0.0010\n",
      "Epoch 103/1000\n",
      "14/14 [==============================] - 0s 4ms/step - loss: 4.9802 - mae: 1.5886 - val_loss: 6.9553 - val_mae: 2.1146 - lr: 0.0010\n",
      "Epoch 104/1000\n",
      "14/14 [==============================] - 0s 3ms/step - loss: 5.1347 - mae: 1.6665 - val_loss: 6.6260 - val_mae: 1.7168 - lr: 0.0010\n",
      "Epoch 105/1000\n",
      "14/14 [==============================] - 0s 5ms/step - loss: 5.0631 - mae: 1.5754 - val_loss: 6.1754 - val_mae: 1.6859 - lr: 0.0010\n",
      "Epoch 106/1000\n",
      "14/14 [==============================] - 0s 3ms/step - loss: 4.9993 - mae: 1.5880 - val_loss: 6.2973 - val_mae: 1.6982 - lr: 0.0010\n",
      "Epoch 107/1000\n",
      "14/14 [==============================] - 0s 3ms/step - loss: 5.0150 - mae: 1.5901 - val_loss: 5.9028 - val_mae: 1.7583 - lr: 0.0010\n",
      "Epoch 108/1000\n",
      "14/14 [==============================] - 0s 3ms/step - loss: 4.9457 - mae: 1.5945 - val_loss: 6.0158 - val_mae: 1.8317 - lr: 0.0010\n",
      "Epoch 109/1000\n",
      "14/14 [==============================] - 0s 3ms/step - loss: 4.9786 - mae: 1.6097 - val_loss: 6.1428 - val_mae: 1.8803 - lr: 0.0010\n",
      "Epoch 110/1000\n",
      "14/14 [==============================] - 0s 4ms/step - loss: 4.9468 - mae: 1.6109 - val_loss: 5.9446 - val_mae: 1.7824 - lr: 0.0010\n",
      "Epoch 111/1000\n",
      "14/14 [==============================] - 0s 9ms/step - loss: 4.9316 - mae: 1.5812 - val_loss: 6.1441 - val_mae: 1.6987 - lr: 0.0010\n",
      "Epoch 112/1000\n",
      "14/14 [==============================] - 0s 20ms/step - loss: 4.9190 - mae: 1.5737 - val_loss: 5.9814 - val_mae: 1.8102 - lr: 0.0010\n",
      "Epoch 113/1000\n"
     ]
    },
    {
     "name": "stdout",
     "output_type": "stream",
     "text": [
      "14/14 [==============================] - 0s 16ms/step - loss: 4.8787 - mae: 1.5812 - val_loss: 5.8114 - val_mae: 1.7028 - lr: 0.0010\n",
      "Epoch 114/1000\n",
      "14/14 [==============================] - 0s 10ms/step - loss: 4.8610 - mae: 1.5734 - val_loss: 6.5977 - val_mae: 1.7225 - lr: 0.0010\n",
      "Epoch 115/1000\n",
      "14/14 [==============================] - 0s 7ms/step - loss: 4.9545 - mae: 1.5768 - val_loss: 5.9083 - val_mae: 1.7465 - lr: 0.0010\n",
      "Epoch 116/1000\n",
      "14/14 [==============================] - 0s 7ms/step - loss: 4.8847 - mae: 1.5784 - val_loss: 5.8480 - val_mae: 1.7634 - lr: 0.0010\n",
      "Epoch 117/1000\n",
      "14/14 [==============================] - 0s 6ms/step - loss: 4.8851 - mae: 1.5747 - val_loss: 5.8060 - val_mae: 1.7656 - lr: 0.0010\n",
      "Epoch 118/1000\n",
      "14/14 [==============================] - 0s 8ms/step - loss: 4.8679 - mae: 1.5892 - val_loss: 6.2335 - val_mae: 1.6806 - lr: 0.0010\n",
      "Epoch 119/1000\n",
      "14/14 [==============================] - 0s 7ms/step - loss: 4.8840 - mae: 1.5665 - val_loss: 5.8973 - val_mae: 1.7921 - lr: 0.0010\n",
      "Epoch 120/1000\n",
      "14/14 [==============================] - 0s 4ms/step - loss: 4.8125 - mae: 1.5771 - val_loss: 6.2141 - val_mae: 1.6845 - lr: 0.0010\n",
      "Epoch 121/1000\n",
      "14/14 [==============================] - 0s 7ms/step - loss: 4.8488 - mae: 1.5585 - val_loss: 5.8107 - val_mae: 1.6855 - lr: 0.0010\n",
      "Epoch 122/1000\n",
      "14/14 [==============================] - 0s 7ms/step - loss: 4.7604 - mae: 1.5534 - val_loss: 5.8820 - val_mae: 1.6710 - lr: 0.0010\n",
      "Epoch 123/1000\n",
      "14/14 [==============================] - 0s 4ms/step - loss: 4.7880 - mae: 1.5539 - val_loss: 6.4658 - val_mae: 1.9862 - lr: 0.0010\n",
      "Epoch 124/1000\n",
      "14/14 [==============================] - 0s 6ms/step - loss: 4.8913 - mae: 1.6078 - val_loss: 5.8872 - val_mae: 1.8126 - lr: 0.0010\n",
      "Epoch 125/1000\n",
      "14/14 [==============================] - 0s 3ms/step - loss: 4.8269 - mae: 1.5751 - val_loss: 6.1596 - val_mae: 1.9153 - lr: 0.0010\n",
      "Epoch 126/1000\n",
      "14/14 [==============================] - 0s 6ms/step - loss: 4.8544 - mae: 1.5862 - val_loss: 6.4228 - val_mae: 1.9718 - lr: 0.0010\n",
      "Epoch 127/1000\n",
      "14/14 [==============================] - 0s 3ms/step - loss: 4.8120 - mae: 1.5913 - val_loss: 5.8460 - val_mae: 1.7855 - lr: 0.0010\n",
      "Epoch 128/1000\n",
      "14/14 [==============================] - 0s 5ms/step - loss: 4.7834 - mae: 1.5665 - val_loss: 5.9272 - val_mae: 1.6567 - lr: 0.0010\n",
      "Epoch 129/1000\n",
      "14/14 [==============================] - 0s 5ms/step - loss: 4.7788 - mae: 1.5500 - val_loss: 5.8844 - val_mae: 1.7868 - lr: 0.0010\n",
      "Epoch 130/1000\n",
      "14/14 [==============================] - 0s 3ms/step - loss: 4.7877 - mae: 1.5584 - val_loss: 5.7494 - val_mae: 1.7372 - lr: 0.0010\n",
      "Epoch 131/1000\n",
      "14/14 [==============================] - 0s 4ms/step - loss: 4.8028 - mae: 1.5610 - val_loss: 5.7291 - val_mae: 1.7309 - lr: 0.0010\n",
      "Epoch 132/1000\n",
      "14/14 [==============================] - 0s 4ms/step - loss: 4.7681 - mae: 1.5609 - val_loss: 5.7512 - val_mae: 1.7144 - lr: 0.0010\n",
      "Epoch 133/1000\n",
      "14/14 [==============================] - 0s 4ms/step - loss: 4.7222 - mae: 1.5532 - val_loss: 5.7431 - val_mae: 1.6475 - lr: 0.0010\n",
      "Epoch 134/1000\n",
      "14/14 [==============================] - 0s 4ms/step - loss: 4.7348 - mae: 1.5574 - val_loss: 5.6466 - val_mae: 1.6959 - lr: 0.0010\n",
      "Epoch 135/1000\n",
      "14/14 [==============================] - 0s 6ms/step - loss: 4.7372 - mae: 1.5427 - val_loss: 5.9336 - val_mae: 1.6548 - lr: 0.0010\n",
      "Epoch 136/1000\n",
      "14/14 [==============================] - 0s 6ms/step - loss: 4.7717 - mae: 1.5385 - val_loss: 5.7956 - val_mae: 1.7762 - lr: 0.0010\n",
      "Epoch 137/1000\n",
      "14/14 [==============================] - 0s 4ms/step - loss: 4.6809 - mae: 1.5585 - val_loss: 6.0522 - val_mae: 1.6597 - lr: 0.0010\n",
      "Epoch 138/1000\n",
      "14/14 [==============================] - 0s 4ms/step - loss: 4.7346 - mae: 1.5367 - val_loss: 5.9844 - val_mae: 1.6634 - lr: 0.0010\n",
      "Epoch 139/1000\n",
      "14/14 [==============================] - 0s 6ms/step - loss: 4.6919 - mae: 1.5298 - val_loss: 6.9019 - val_mae: 2.0864 - lr: 0.0010\n",
      "Epoch 140/1000\n",
      "14/14 [==============================] - 0s 4ms/step - loss: 4.7847 - mae: 1.5820 - val_loss: 6.2419 - val_mae: 1.9237 - lr: 0.0010\n",
      "Epoch 141/1000\n",
      "14/14 [==============================] - 0s 3ms/step - loss: 4.7993 - mae: 1.5754 - val_loss: 5.7556 - val_mae: 1.6710 - lr: 0.0010\n",
      "Epoch 142/1000\n",
      "14/14 [==============================] - 0s 4ms/step - loss: 4.6460 - mae: 1.5299 - val_loss: 5.6949 - val_mae: 1.6493 - lr: 0.0010\n",
      "Epoch 143/1000\n",
      "14/14 [==============================] - 0s 4ms/step - loss: 4.6674 - mae: 1.5322 - val_loss: 6.0426 - val_mae: 1.6559 - lr: 0.0010\n",
      "Epoch 144/1000\n",
      "14/14 [==============================] - 0s 8ms/step - loss: 4.6559 - mae: 1.5290 - val_loss: 5.7475 - val_mae: 1.7653 - lr: 0.0010\n",
      "Epoch 145/1000\n",
      "14/14 [==============================] - 0s 5ms/step - loss: 4.6428 - mae: 1.5422 - val_loss: 5.6136 - val_mae: 1.6656 - lr: 0.0010\n",
      "Epoch 146/1000\n",
      "14/14 [==============================] - 0s 4ms/step - loss: 4.7396 - mae: 1.5359 - val_loss: 5.9423 - val_mae: 1.8245 - lr: 0.0010\n",
      "Epoch 147/1000\n",
      "14/14 [==============================] - 0s 4ms/step - loss: 4.7013 - mae: 1.5477 - val_loss: 5.9121 - val_mae: 1.6368 - lr: 0.0010\n",
      "Epoch 148/1000\n",
      "14/14 [==============================] - 0s 6ms/step - loss: 4.7282 - mae: 1.5209 - val_loss: 5.7158 - val_mae: 1.6347 - lr: 0.0010\n",
      "Epoch 149/1000\n",
      "14/14 [==============================] - 0s 5ms/step - loss: 4.6486 - mae: 1.5148 - val_loss: 5.8145 - val_mae: 1.6340 - lr: 0.0010\n",
      "Epoch 150/1000\n",
      "14/14 [==============================] - 0s 6ms/step - loss: 4.5872 - mae: 1.5100 - val_loss: 6.6294 - val_mae: 1.7292 - lr: 0.0010\n",
      "Epoch 151/1000\n",
      "14/14 [==============================] - 0s 4ms/step - loss: 4.7315 - mae: 1.5171 - val_loss: 5.7717 - val_mae: 1.6297 - lr: 0.0010\n",
      "Epoch 152/1000\n",
      "14/14 [==============================] - 0s 4ms/step - loss: 4.6396 - mae: 1.5162 - val_loss: 5.6811 - val_mae: 1.6388 - lr: 0.0010\n",
      "Epoch 153/1000\n",
      "14/14 [==============================] - 0s 3ms/step - loss: 4.6379 - mae: 1.5247 - val_loss: 6.0508 - val_mae: 1.8742 - lr: 0.0010\n",
      "Epoch 154/1000\n",
      "14/14 [==============================] - 0s 3ms/step - loss: 4.5994 - mae: 1.5488 - val_loss: 5.6837 - val_mae: 1.6350 - lr: 0.0010\n",
      "Epoch 155/1000\n",
      "14/14 [==============================] - 0s 3ms/step - loss: 4.6514 - mae: 1.5339 - val_loss: 6.1580 - val_mae: 1.6668 - lr: 0.0010\n",
      "Epoch 156/1000\n",
      "14/14 [==============================] - 0s 4ms/step - loss: 4.6604 - mae: 1.5221 - val_loss: 6.2175 - val_mae: 1.9217 - lr: 0.0010\n",
      "Epoch 157/1000\n",
      "14/14 [==============================] - 0s 4ms/step - loss: 4.6191 - mae: 1.5723 - val_loss: 5.7377 - val_mae: 1.7602 - lr: 0.0010\n",
      "Epoch 158/1000\n",
      "14/14 [==============================] - 0s 4ms/step - loss: 4.6135 - mae: 1.5339 - val_loss: 5.7008 - val_mae: 1.6947 - lr: 0.0010\n",
      "Epoch 159/1000\n",
      "14/14 [==============================] - 0s 4ms/step - loss: 4.5707 - mae: 1.5158 - val_loss: 5.6731 - val_mae: 1.6479 - lr: 0.0010\n",
      "Epoch 160/1000\n",
      "14/14 [==============================] - 0s 6ms/step - loss: 4.6192 - mae: 1.5228 - val_loss: 6.0760 - val_mae: 1.6669 - lr: 0.0010\n",
      "Epoch 161/1000\n",
      "14/14 [==============================] - 0s 4ms/step - loss: 4.6420 - mae: 1.5143 - val_loss: 5.7271 - val_mae: 1.7372 - lr: 0.0010\n",
      "Epoch 162/1000\n",
      "14/14 [==============================] - 0s 3ms/step - loss: 4.6860 - mae: 1.5365 - val_loss: 5.8849 - val_mae: 1.6358 - lr: 0.0010\n",
      "Epoch 163/1000\n",
      "14/14 [==============================] - 0s 5ms/step - loss: 4.5871 - mae: 1.4999 - val_loss: 5.6017 - val_mae: 1.6468 - lr: 0.0010\n",
      "Epoch 164/1000\n",
      "14/14 [==============================] - 0s 4ms/step - loss: 4.5581 - mae: 1.5118 - val_loss: 5.7215 - val_mae: 1.6271 - lr: 0.0010\n",
      "Epoch 165/1000\n",
      "14/14 [==============================] - 0s 3ms/step - loss: 4.6256 - mae: 1.5110 - val_loss: 5.6240 - val_mae: 1.6867 - lr: 0.0010\n",
      "Epoch 166/1000\n",
      "14/14 [==============================] - 0s 3ms/step - loss: 4.5237 - mae: 1.5085 - val_loss: 5.6705 - val_mae: 1.6389 - lr: 0.0010\n",
      "Epoch 167/1000\n",
      "14/14 [==============================] - 0s 3ms/step - loss: 4.6180 - mae: 1.5260 - val_loss: 6.0350 - val_mae: 1.8524 - lr: 0.0010\n",
      "Epoch 168/1000\n",
      "14/14 [==============================] - 0s 3ms/step - loss: 4.5915 - mae: 1.5350 - val_loss: 5.9315 - val_mae: 1.6423 - lr: 0.0010\n"
     ]
    },
    {
     "name": "stdout",
     "output_type": "stream",
     "text": [
      "Epoch 169/1000\n",
      "14/14 [==============================] - 0s 4ms/step - loss: 4.6258 - mae: 1.5032 - val_loss: 5.8291 - val_mae: 1.6347 - lr: 0.0010\n",
      "Epoch 170/1000\n",
      "14/14 [==============================] - 0s 6ms/step - loss: 4.5451 - mae: 1.4974 - val_loss: 5.6574 - val_mae: 1.7053 - lr: 0.0010\n",
      "Epoch 171/1000\n",
      "14/14 [==============================] - 0s 6ms/step - loss: 4.5594 - mae: 1.5212 - val_loss: 6.0038 - val_mae: 1.6497 - lr: 0.0010\n",
      "Epoch 172/1000\n",
      "14/14 [==============================] - 0s 8ms/step - loss: 4.5931 - mae: 1.5040 - val_loss: 5.7980 - val_mae: 1.7628 - lr: 0.0010\n",
      "Epoch 173/1000\n",
      "14/14 [==============================] - 0s 5ms/step - loss: 4.6532 - mae: 1.5396 - val_loss: 5.8748 - val_mae: 1.6402 - lr: 0.0010\n",
      "Epoch 174/1000\n",
      "14/14 [==============================] - 0s 5ms/step - loss: 4.5262 - mae: 1.5002 - val_loss: 5.7727 - val_mae: 1.6350 - lr: 0.0010\n",
      "Epoch 175/1000\n",
      "14/14 [==============================] - 0s 4ms/step - loss: 4.5280 - mae: 1.5076 - val_loss: 5.7199 - val_mae: 1.6358 - lr: 0.0010\n",
      "Epoch 176/1000\n",
      "14/14 [==============================] - 0s 4ms/step - loss: 4.5574 - mae: 1.5073 - val_loss: 6.7946 - val_mae: 2.0573 - lr: 0.0010\n",
      "Epoch 177/1000\n",
      "14/14 [==============================] - 0s 4ms/step - loss: 4.6412 - mae: 1.5584 - val_loss: 5.9287 - val_mae: 1.8177 - lr: 0.0010\n",
      "Epoch 178/1000\n",
      "14/14 [==============================] - 0s 4ms/step - loss: 4.6073 - mae: 1.5365 - val_loss: 6.1006 - val_mae: 1.6651 - lr: 0.0010\n",
      "Epoch 179/1000\n",
      "14/14 [==============================] - 0s 5ms/step - loss: 4.5820 - mae: 1.5046 - val_loss: 6.0190 - val_mae: 1.6470 - lr: 0.0010\n",
      "Epoch 180/1000\n",
      "14/14 [==============================] - 0s 5ms/step - loss: 4.5879 - mae: 1.5041 - val_loss: 5.9513 - val_mae: 1.6487 - lr: 0.0010\n",
      "Epoch 181/1000\n",
      "14/14 [==============================] - 0s 4ms/step - loss: 4.5842 - mae: 1.5169 - val_loss: 5.6256 - val_mae: 1.6410 - lr: 0.0010\n",
      "Epoch 182/1000\n",
      "14/14 [==============================] - 0s 4ms/step - loss: 4.5535 - mae: 1.5090 - val_loss: 5.8522 - val_mae: 1.6367 - lr: 0.0010\n",
      "Epoch 183/1000\n",
      "14/14 [==============================] - 0s 6ms/step - loss: 4.5068 - mae: 1.4968 - val_loss: 7.1805 - val_mae: 2.1408 - lr: 0.0010\n",
      "Epoch 184/1000\n",
      "14/14 [==============================] - 0s 5ms/step - loss: 4.6385 - mae: 1.5714 - val_loss: 5.6732 - val_mae: 1.7320 - lr: 0.0010\n",
      "Epoch 185/1000\n",
      "14/14 [==============================] - 0s 4ms/step - loss: 4.5307 - mae: 1.5051 - val_loss: 5.6071 - val_mae: 1.6594 - lr: 0.0010\n",
      "Epoch 186/1000\n",
      "14/14 [==============================] - 0s 3ms/step - loss: 4.5145 - mae: 1.5124 - val_loss: 5.9815 - val_mae: 1.6495 - lr: 0.0010\n",
      "Epoch 187/1000\n",
      "14/14 [==============================] - 0s 4ms/step - loss: 4.5944 - mae: 1.5068 - val_loss: 5.9235 - val_mae: 1.8058 - lr: 0.0010\n",
      "Epoch 188/1000\n",
      "14/14 [==============================] - 0s 4ms/step - loss: 4.5379 - mae: 1.5271 - val_loss: 5.6856 - val_mae: 1.6968 - lr: 0.0010\n",
      "Epoch 189/1000\n",
      "14/14 [==============================] - 0s 5ms/step - loss: 4.5399 - mae: 1.5190 - val_loss: 6.1098 - val_mae: 1.8777 - lr: 0.0010\n",
      "Epoch 190/1000\n",
      "14/14 [==============================] - 0s 4ms/step - loss: 4.5922 - mae: 1.5409 - val_loss: 5.7960 - val_mae: 1.6281 - lr: 0.0010\n",
      "Epoch 191/1000\n",
      "14/14 [==============================] - 0s 4ms/step - loss: 4.5508 - mae: 1.5167 - val_loss: 6.0542 - val_mae: 1.6566 - lr: 0.0010\n",
      "Epoch 192/1000\n",
      "14/14 [==============================] - 0s 5ms/step - loss: 4.5381 - mae: 1.4866 - val_loss: 5.6335 - val_mae: 1.6406 - lr: 0.0010\n",
      "Epoch 193/1000\n",
      "14/14 [==============================] - 0s 4ms/step - loss: 4.5203 - mae: 1.5062 - val_loss: 5.7459 - val_mae: 1.7427 - lr: 0.0010\n",
      "Epoch 194/1000\n",
      "14/14 [==============================] - 0s 3ms/step - loss: 4.4811 - mae: 1.5189 - val_loss: 5.9863 - val_mae: 1.6574 - lr: 0.0010\n",
      "Epoch 195/1000\n",
      "14/14 [==============================] - 0s 4ms/step - loss: 4.5469 - mae: 1.5019 - val_loss: 5.7224 - val_mae: 1.6292 - lr: 0.0010\n",
      "Epoch 196/1000\n",
      "14/14 [==============================] - 0s 3ms/step - loss: 4.5503 - mae: 1.4994 - val_loss: 6.1226 - val_mae: 1.8738 - lr: 0.0010\n",
      "Epoch 197/1000\n",
      "14/14 [==============================] - 0s 4ms/step - loss: 4.5442 - mae: 1.5340 - val_loss: 5.6877 - val_mae: 1.6430 - lr: 0.0010\n",
      "Epoch 198/1000\n",
      "14/14 [==============================] - 0s 4ms/step - loss: 4.4863 - mae: 1.5040 - val_loss: 5.8004 - val_mae: 1.6352 - lr: 0.0010\n",
      "Epoch 199/1000\n",
      "14/14 [==============================] - 0s 3ms/step - loss: 4.5587 - mae: 1.5108 - val_loss: 5.7414 - val_mae: 1.6263 - lr: 0.0010\n",
      "Epoch 200/1000\n",
      "14/14 [==============================] - 0s 3ms/step - loss: 4.5638 - mae: 1.5065 - val_loss: 5.9626 - val_mae: 1.8210 - lr: 0.0010\n",
      "Epoch 201/1000\n",
      "14/14 [==============================] - 0s 3ms/step - loss: 4.4844 - mae: 1.5083 - val_loss: 5.6743 - val_mae: 1.6418 - lr: 0.0010\n",
      "Epoch 202/1000\n",
      "14/14 [==============================] - 0s 5ms/step - loss: 4.4417 - mae: 1.4987 - val_loss: 6.1487 - val_mae: 1.6773 - lr: 0.0010\n",
      "Epoch 203/1000\n",
      "14/14 [==============================] - 0s 5ms/step - loss: 4.4929 - mae: 1.4995 - val_loss: 5.7128 - val_mae: 1.6270 - lr: 0.0010\n",
      "Epoch 204/1000\n",
      "14/14 [==============================] - 0s 4ms/step - loss: 4.5339 - mae: 1.5183 - val_loss: 5.5889 - val_mae: 1.6589 - lr: 0.0010\n",
      "Epoch 205/1000\n",
      "14/14 [==============================] - 0s 3ms/step - loss: 4.4574 - mae: 1.4974 - val_loss: 6.1689 - val_mae: 1.6762 - lr: 0.0010\n",
      "Epoch 206/1000\n",
      "14/14 [==============================] - 0s 4ms/step - loss: 4.4957 - mae: 1.4997 - val_loss: 5.8011 - val_mae: 1.7533 - lr: 0.0010\n",
      "Epoch 207/1000\n",
      "14/14 [==============================] - 0s 5ms/step - loss: 4.5353 - mae: 1.5123 - val_loss: 5.6800 - val_mae: 1.6471 - lr: 0.0010\n",
      "Epoch 208/1000\n",
      "14/14 [==============================] - 0s 4ms/step - loss: 4.4688 - mae: 1.5004 - val_loss: 5.8100 - val_mae: 1.6444 - lr: 0.0010\n",
      "Epoch 209/1000\n",
      "14/14 [==============================] - 0s 4ms/step - loss: 4.5097 - mae: 1.4902 - val_loss: 6.1995 - val_mae: 1.8678 - lr: 0.0010\n",
      "Epoch 210/1000\n",
      "14/14 [==============================] - 0s 3ms/step - loss: 4.4749 - mae: 1.5120 - val_loss: 5.6134 - val_mae: 1.6291 - lr: 0.0010\n",
      "Epoch 211/1000\n",
      "14/14 [==============================] - 0s 3ms/step - loss: 4.4721 - mae: 1.4939 - val_loss: 5.8769 - val_mae: 1.7898 - lr: 0.0010\n",
      "Epoch 212/1000\n",
      "14/14 [==============================] - 0s 4ms/step - loss: 4.5181 - mae: 1.5051 - val_loss: 5.6266 - val_mae: 1.6700 - lr: 0.0010\n",
      "Epoch 213/1000\n",
      "14/14 [==============================] - 0s 4ms/step - loss: 4.4438 - mae: 1.4988 - val_loss: 6.0334 - val_mae: 1.6680 - lr: 0.0010\n",
      "Epoch 214/1000\n",
      "14/14 [==============================] - 0s 3ms/step - loss: 4.5900 - mae: 1.5001 - val_loss: 6.3864 - val_mae: 1.9414 - lr: 0.0010\n",
      "Epoch 215/1000\n",
      "14/14 [==============================] - 0s 3ms/step - loss: 4.6053 - mae: 1.5364 - val_loss: 5.6545 - val_mae: 1.6288 - lr: 0.0010\n",
      "Epoch 216/1000\n",
      "14/14 [==============================] - 0s 3ms/step - loss: 4.5213 - mae: 1.5004 - val_loss: 5.6663 - val_mae: 1.6966 - lr: 0.0010\n",
      "Epoch 217/1000\n",
      "14/14 [==============================] - 0s 4ms/step - loss: 4.4861 - mae: 1.5013 - val_loss: 5.9387 - val_mae: 1.8045 - lr: 0.0010\n",
      "Epoch 218/1000\n",
      "14/14 [==============================] - 0s 4ms/step - loss: 4.5154 - mae: 1.5178 - val_loss: 5.8088 - val_mae: 1.7602 - lr: 0.0010\n",
      "Epoch 219/1000\n",
      "14/14 [==============================] - 0s 3ms/step - loss: 4.4784 - mae: 1.5084 - val_loss: 6.0218 - val_mae: 1.6625 - lr: 0.0010\n",
      "Epoch 220/1000\n",
      "14/14 [==============================] - 0s 5ms/step - loss: 4.4763 - mae: 1.4729 - val_loss: 6.0335 - val_mae: 1.8502 - lr: 0.0010\n",
      "Epoch 221/1000\n",
      "14/14 [==============================] - 0s 7ms/step - loss: 4.5298 - mae: 1.5256 - val_loss: 5.7853 - val_mae: 1.6283 - lr: 0.0010\n",
      "Epoch 222/1000\n",
      "14/14 [==============================] - 0s 3ms/step - loss: 4.4548 - mae: 1.4962 - val_loss: 6.1265 - val_mae: 1.6691 - lr: 0.0010\n",
      "Epoch 223/1000\n",
      "14/14 [==============================] - 0s 3ms/step - loss: 4.5314 - mae: 1.5034 - val_loss: 5.6841 - val_mae: 1.6689 - lr: 0.0010\n",
      "Epoch 224/1000\n",
      "14/14 [==============================] - 0s 3ms/step - loss: 4.5123 - mae: 1.5051 - val_loss: 5.8580 - val_mae: 1.7489 - lr: 0.0010\n"
     ]
    },
    {
     "name": "stdout",
     "output_type": "stream",
     "text": [
      "Epoch 225/1000\n",
      "14/14 [==============================] - 0s 5ms/step - loss: 4.5323 - mae: 1.5069 - val_loss: 5.6410 - val_mae: 1.6467 - lr: 0.0010\n",
      "Epoch 226/1000\n",
      "14/14 [==============================] - 0s 4ms/step - loss: 4.4843 - mae: 1.4813 - val_loss: 5.8932 - val_mae: 1.7947 - lr: 0.0010\n",
      "Epoch 227/1000\n",
      "14/14 [==============================] - 0s 4ms/step - loss: 4.4950 - mae: 1.4981 - val_loss: 5.6256 - val_mae: 1.6345 - lr: 0.0010\n",
      "Epoch 228/1000\n",
      "14/14 [==============================] - 0s 3ms/step - loss: 4.5232 - mae: 1.4890 - val_loss: 6.7733 - val_mae: 2.0452 - lr: 0.0010\n",
      "Epoch 229/1000\n",
      "14/14 [==============================] - 0s 3ms/step - loss: 4.5791 - mae: 1.5418 - val_loss: 5.7320 - val_mae: 1.6260 - lr: 0.0010\n",
      "Epoch 230/1000\n",
      "14/14 [==============================] - 0s 3ms/step - loss: 4.4388 - mae: 1.4844 - val_loss: 6.1993 - val_mae: 1.8919 - lr: 0.0010\n",
      "Epoch 231/1000\n",
      "14/14 [==============================] - 0s 5ms/step - loss: 4.4630 - mae: 1.5133 - val_loss: 6.2590 - val_mae: 1.6875 - lr: 0.0010\n",
      "Epoch 232/1000\n",
      "14/14 [==============================] - 0s 3ms/step - loss: 4.5358 - mae: 1.4955 - val_loss: 5.8267 - val_mae: 1.6400 - lr: 0.0010\n",
      "Epoch 233/1000\n",
      "14/14 [==============================] - 0s 3ms/step - loss: 4.4828 - mae: 1.4849 - val_loss: 5.7262 - val_mae: 1.7463 - lr: 0.0010\n",
      "Epoch 234/1000\n",
      "14/14 [==============================] - 0s 3ms/step - loss: 4.4680 - mae: 1.4949 - val_loss: 6.0104 - val_mae: 1.6536 - lr: 0.0010\n",
      "Epoch 235/1000\n",
      "14/14 [==============================] - 0s 3ms/step - loss: 4.4909 - mae: 1.4888 - val_loss: 6.4198 - val_mae: 1.7086 - lr: 0.0010\n",
      "Epoch 236/1000\n",
      "14/14 [==============================] - 0s 4ms/step - loss: 4.5136 - mae: 1.4898 - val_loss: 5.6689 - val_mae: 1.7070 - lr: 0.0010\n",
      "Epoch 237/1000\n",
      "14/14 [==============================] - 0s 4ms/step - loss: 4.4926 - mae: 1.4967 - val_loss: 5.6406 - val_mae: 1.6312 - lr: 0.0010\n",
      "Epoch 238/1000\n",
      "14/14 [==============================] - 0s 4ms/step - loss: 4.4355 - mae: 1.4898 - val_loss: 5.6397 - val_mae: 1.6646 - lr: 0.0010\n",
      "Epoch 239/1000\n",
      "14/14 [==============================] - 0s 4ms/step - loss: 4.4616 - mae: 1.4887 - val_loss: 5.6700 - val_mae: 1.7069 - lr: 0.0010\n",
      "Epoch 240/1000\n",
      "14/14 [==============================] - 0s 4ms/step - loss: 4.5337 - mae: 1.5119 - val_loss: 5.6978 - val_mae: 1.6335 - lr: 0.0010\n",
      "Epoch 241/1000\n",
      "14/14 [==============================] - 0s 5ms/step - loss: 4.4527 - mae: 1.4881 - val_loss: 6.3899 - val_mae: 1.9407 - lr: 0.0010\n",
      "Epoch 242/1000\n",
      "14/14 [==============================] - 0s 4ms/step - loss: 4.5438 - mae: 1.5320 - val_loss: 5.5636 - val_mae: 1.6564 - lr: 0.0010\n",
      "Epoch 243/1000\n",
      "14/14 [==============================] - 0s 4ms/step - loss: 4.4252 - mae: 1.4807 - val_loss: 5.9337 - val_mae: 1.8064 - lr: 0.0010\n",
      "Epoch 244/1000\n",
      "14/14 [==============================] - 0s 4ms/step - loss: 4.4613 - mae: 1.4926 - val_loss: 5.7635 - val_mae: 1.7048 - lr: 0.0010\n",
      "Epoch 245/1000\n",
      "14/14 [==============================] - 0s 4ms/step - loss: 4.5038 - mae: 1.4993 - val_loss: 5.7494 - val_mae: 1.7163 - lr: 0.0010\n",
      "Epoch 246/1000\n",
      "14/14 [==============================] - 0s 3ms/step - loss: 4.4922 - mae: 1.5080 - val_loss: 5.7221 - val_mae: 1.6350 - lr: 0.0010\n",
      "Epoch 247/1000\n",
      "14/14 [==============================] - 0s 4ms/step - loss: 4.4766 - mae: 1.4971 - val_loss: 5.6132 - val_mae: 1.6616 - lr: 0.0010\n",
      "Epoch 248/1000\n",
      "14/14 [==============================] - 0s 3ms/step - loss: 4.4462 - mae: 1.4794 - val_loss: 5.6173 - val_mae: 1.6825 - lr: 0.0010\n",
      "Epoch 249/1000\n",
      "14/14 [==============================] - 0s 3ms/step - loss: 4.4171 - mae: 1.4901 - val_loss: 5.6068 - val_mae: 1.7004 - lr: 0.0010\n",
      "Epoch 250/1000\n",
      "14/14 [==============================] - 0s 3ms/step - loss: 4.4491 - mae: 1.4922 - val_loss: 5.5705 - val_mae: 1.6628 - lr: 0.0010\n",
      "Epoch 251/1000\n",
      "14/14 [==============================] - 0s 3ms/step - loss: 4.4496 - mae: 1.4947 - val_loss: 5.6772 - val_mae: 1.6608 - lr: 0.0010\n",
      "Epoch 252/1000\n",
      "14/14 [==============================] - 0s 4ms/step - loss: 4.4328 - mae: 1.4795 - val_loss: 5.6786 - val_mae: 1.6283 - lr: 0.0010\n",
      "Epoch 253/1000\n",
      "14/14 [==============================] - 0s 4ms/step - loss: 4.4868 - mae: 1.4746 - val_loss: 6.6396 - val_mae: 2.0092 - lr: 0.0010\n",
      "Epoch 254/1000\n",
      "14/14 [==============================] - 0s 4ms/step - loss: 4.6084 - mae: 1.5469 - val_loss: 5.9646 - val_mae: 1.8043 - lr: 0.0010\n",
      "Epoch 255/1000\n",
      "14/14 [==============================] - 0s 4ms/step - loss: 4.4549 - mae: 1.5143 - val_loss: 6.0126 - val_mae: 1.6542 - lr: 0.0010\n",
      "Epoch 256/1000\n",
      "14/14 [==============================] - 0s 5ms/step - loss: 4.4987 - mae: 1.4904 - val_loss: 5.6192 - val_mae: 1.6839 - lr: 0.0010\n",
      "Epoch 257/1000\n",
      "14/14 [==============================] - 0s 4ms/step - loss: 4.4686 - mae: 1.4964 - val_loss: 5.6249 - val_mae: 1.6505 - lr: 0.0010\n",
      "Epoch 258/1000\n",
      "14/14 [==============================] - 0s 4ms/step - loss: 4.4447 - mae: 1.5057 - val_loss: 5.6657 - val_mae: 1.7096 - lr: 0.0010\n",
      "Epoch 259/1000\n",
      "14/14 [==============================] - 0s 5ms/step - loss: 4.4636 - mae: 1.5016 - val_loss: 5.6286 - val_mae: 1.6436 - lr: 0.0010\n",
      "Epoch 260/1000\n",
      "14/14 [==============================] - 0s 3ms/step - loss: 4.5298 - mae: 1.5156 - val_loss: 6.1021 - val_mae: 1.6623 - lr: 0.0010\n",
      "Epoch 261/1000\n",
      "14/14 [==============================] - 0s 3ms/step - loss: 4.4173 - mae: 1.4780 - val_loss: 5.8096 - val_mae: 1.7608 - lr: 0.0010\n",
      "Epoch 262/1000\n",
      "14/14 [==============================] - 0s 4ms/step - loss: 4.5562 - mae: 1.5196 - val_loss: 5.6871 - val_mae: 1.6871 - lr: 0.0010\n",
      "Epoch 263/1000\n",
      "14/14 [==============================] - 0s 3ms/step - loss: 4.5085 - mae: 1.4967 - val_loss: 5.6172 - val_mae: 1.6611 - lr: 0.0010\n",
      "Epoch 264/1000\n",
      "14/14 [==============================] - 0s 4ms/step - loss: 4.4128 - mae: 1.4865 - val_loss: 6.0644 - val_mae: 1.6648 - lr: 0.0010\n",
      "Epoch 265/1000\n",
      "14/14 [==============================] - 0s 4ms/step - loss: 4.4392 - mae: 1.4838 - val_loss: 6.3148 - val_mae: 1.7001 - lr: 0.0010\n",
      "Epoch 266/1000\n",
      "14/14 [==============================] - 0s 4ms/step - loss: 4.5150 - mae: 1.4828 - val_loss: 5.6693 - val_mae: 1.6207 - lr: 0.0010\n",
      "Epoch 267/1000\n",
      "14/14 [==============================] - 0s 4ms/step - loss: 4.4046 - mae: 1.4815 - val_loss: 5.6531 - val_mae: 1.6266 - lr: 0.0010\n",
      "Epoch 268/1000\n",
      "14/14 [==============================] - 0s 4ms/step - loss: 4.4344 - mae: 1.4875 - val_loss: 5.6139 - val_mae: 1.6301 - lr: 0.0010\n",
      "Epoch 269/1000\n",
      "14/14 [==============================] - 0s 4ms/step - loss: 4.4070 - mae: 1.4805 - val_loss: 5.9571 - val_mae: 1.8284 - lr: 0.0010\n",
      "Epoch 270/1000\n",
      "14/14 [==============================] - 0s 3ms/step - loss: 4.4424 - mae: 1.4950 - val_loss: 6.0141 - val_mae: 1.8516 - lr: 0.0010\n",
      "Epoch 271/1000\n",
      "14/14 [==============================] - 0s 3ms/step - loss: 4.4344 - mae: 1.5036 - val_loss: 5.5293 - val_mae: 1.6310 - lr: 0.0010\n",
      "Epoch 272/1000\n",
      "14/14 [==============================] - 0s 3ms/step - loss: 4.4015 - mae: 1.4809 - val_loss: 5.6897 - val_mae: 1.7291 - lr: 0.0010\n",
      "Epoch 273/1000\n",
      "14/14 [==============================] - 0s 5ms/step - loss: 4.4309 - mae: 1.4981 - val_loss: 5.6731 - val_mae: 1.7142 - lr: 0.0010\n",
      "Epoch 274/1000\n",
      "14/14 [==============================] - 0s 3ms/step - loss: 4.5022 - mae: 1.5123 - val_loss: 5.5853 - val_mae: 1.6402 - lr: 0.0010\n",
      "Epoch 275/1000\n",
      "14/14 [==============================] - 0s 3ms/step - loss: 4.4202 - mae: 1.4911 - val_loss: 5.7227 - val_mae: 1.7409 - lr: 0.0010\n",
      "Epoch 276/1000\n",
      "14/14 [==============================] - 0s 3ms/step - loss: 4.3976 - mae: 1.4889 - val_loss: 6.5929 - val_mae: 1.9927 - lr: 0.0010\n",
      "Epoch 277/1000\n",
      "14/14 [==============================] - 0s 3ms/step - loss: 4.4484 - mae: 1.5194 - val_loss: 5.7243 - val_mae: 1.6314 - lr: 0.0010\n",
      "Epoch 278/1000\n",
      "14/14 [==============================] - 0s 4ms/step - loss: 4.4583 - mae: 1.4900 - val_loss: 6.4366 - val_mae: 1.9512 - lr: 0.0010\n",
      "Epoch 279/1000\n",
      "14/14 [==============================] - 0s 4ms/step - loss: 4.4990 - mae: 1.5240 - val_loss: 5.6500 - val_mae: 1.6998 - lr: 0.0010\n",
      "Epoch 280/1000\n",
      "14/14 [==============================] - 0s 7ms/step - loss: 4.3920 - mae: 1.4863 - val_loss: 6.2740 - val_mae: 1.9057 - lr: 0.0010\n"
     ]
    },
    {
     "name": "stdout",
     "output_type": "stream",
     "text": [
      "Epoch 281/1000\n",
      "14/14 [==============================] - 0s 4ms/step - loss: 4.4688 - mae: 1.5157 - val_loss: 5.7242 - val_mae: 1.6276 - lr: 0.0010\n",
      "Epoch 282/1000\n",
      "14/14 [==============================] - 0s 8ms/step - loss: 4.4142 - mae: 1.4759 - val_loss: 5.8480 - val_mae: 1.7865 - lr: 0.0010\n",
      "Epoch 283/1000\n",
      "14/14 [==============================] - 0s 4ms/step - loss: 4.4482 - mae: 1.5002 - val_loss: 5.6038 - val_mae: 1.6162 - lr: 0.0010\n",
      "Epoch 284/1000\n",
      "14/14 [==============================] - 0s 6ms/step - loss: 4.3581 - mae: 1.4797 - val_loss: 6.2119 - val_mae: 1.6860 - lr: 0.0010\n",
      "Epoch 285/1000\n",
      "14/14 [==============================] - 0s 6ms/step - loss: 4.4482 - mae: 1.4964 - val_loss: 6.0814 - val_mae: 1.6627 - lr: 0.0010\n",
      "Epoch 286/1000\n",
      "14/14 [==============================] - 0s 4ms/step - loss: 4.4922 - mae: 1.4904 - val_loss: 5.8147 - val_mae: 1.6343 - lr: 0.0010\n",
      "Epoch 287/1000\n",
      "14/14 [==============================] - 0s 4ms/step - loss: 4.4220 - mae: 1.4806 - val_loss: 5.9358 - val_mae: 1.8202 - lr: 0.0010\n",
      "Epoch 288/1000\n",
      "14/14 [==============================] - 0s 11ms/step - loss: 4.4500 - mae: 1.5003 - val_loss: 5.6103 - val_mae: 1.6481 - lr: 0.0010\n",
      "Epoch 289/1000\n",
      "14/14 [==============================] - 0s 4ms/step - loss: 4.4011 - mae: 1.4904 - val_loss: 5.5541 - val_mae: 1.6513 - lr: 0.0010\n",
      "Epoch 290/1000\n",
      "14/14 [==============================] - 0s 4ms/step - loss: 4.4296 - mae: 1.4931 - val_loss: 5.6204 - val_mae: 1.7039 - lr: 0.0010\n",
      "Epoch 291/1000\n",
      "14/14 [==============================] - 0s 5ms/step - loss: 4.3961 - mae: 1.4943 - val_loss: 5.6785 - val_mae: 1.7142 - lr: 0.0010\n",
      "Epoch 292/1000\n",
      "14/14 [==============================] - 0s 3ms/step - loss: 4.5187 - mae: 1.5152 - val_loss: 5.5350 - val_mae: 1.6356 - lr: 0.0010\n",
      "Epoch 293/1000\n",
      "14/14 [==============================] - 0s 4ms/step - loss: 4.3720 - mae: 1.4795 - val_loss: 5.7184 - val_mae: 1.6194 - lr: 0.0010\n",
      "Epoch 294/1000\n",
      "14/14 [==============================] - 0s 6ms/step - loss: 4.4148 - mae: 1.4804 - val_loss: 5.6302 - val_mae: 1.7115 - lr: 0.0010\n",
      "Epoch 295/1000\n",
      "14/14 [==============================] - 0s 11ms/step - loss: 4.3803 - mae: 1.4864 - val_loss: 6.1371 - val_mae: 1.6641 - lr: 0.0010\n",
      "Epoch 296/1000\n",
      "14/14 [==============================] - 0s 6ms/step - loss: 4.4489 - mae: 1.4774 - val_loss: 5.7617 - val_mae: 1.7802 - lr: 0.0010\n",
      "Epoch 297/1000\n",
      "14/14 [==============================] - 0s 8ms/step - loss: 4.4402 - mae: 1.4936 - val_loss: 5.5800 - val_mae: 1.6211 - lr: 0.0010\n",
      "Epoch 298/1000\n",
      "14/14 [==============================] - 0s 10ms/step - loss: 4.3596 - mae: 1.4876 - val_loss: 5.8334 - val_mae: 1.7847 - lr: 0.0010\n",
      "Epoch 299/1000\n",
      "14/14 [==============================] - 0s 7ms/step - loss: 4.4060 - mae: 1.4999 - val_loss: 5.6023 - val_mae: 1.6856 - lr: 0.0010\n",
      "Epoch 300/1000\n",
      "14/14 [==============================] - 0s 5ms/step - loss: 4.4196 - mae: 1.4938 - val_loss: 6.2843 - val_mae: 1.7053 - lr: 0.0010\n",
      "Epoch 301/1000\n",
      "14/14 [==============================] - 0s 4ms/step - loss: 4.4326 - mae: 1.4879 - val_loss: 5.6368 - val_mae: 1.7260 - lr: 0.0010\n",
      "Epoch 302/1000\n",
      "14/14 [==============================] - 0s 3ms/step - loss: 4.4227 - mae: 1.5031 - val_loss: 5.5913 - val_mae: 1.6841 - lr: 0.0010\n",
      "Epoch 303/1000\n",
      "14/14 [==============================] - 0s 3ms/step - loss: 4.4594 - mae: 1.4873 - val_loss: 5.8298 - val_mae: 1.7780 - lr: 0.0010\n",
      "Epoch 304/1000\n",
      "14/14 [==============================] - 0s 3ms/step - loss: 4.3343 - mae: 1.4859 - val_loss: 6.2085 - val_mae: 1.9091 - lr: 0.0010\n",
      "Epoch 305/1000\n",
      "14/14 [==============================] - 0s 3ms/step - loss: 4.4179 - mae: 1.5047 - val_loss: 5.8618 - val_mae: 1.6371 - lr: 0.0010\n",
      "Epoch 306/1000\n",
      "14/14 [==============================] - 0s 3ms/step - loss: 4.4074 - mae: 1.4826 - val_loss: 5.5261 - val_mae: 1.6394 - lr: 0.0010\n",
      "Epoch 307/1000\n",
      "14/14 [==============================] - 0s 3ms/step - loss: 4.4262 - mae: 1.4818 - val_loss: 5.5039 - val_mae: 1.6555 - lr: 0.0010\n",
      "Epoch 308/1000\n",
      "14/14 [==============================] - 0s 3ms/step - loss: 4.5059 - mae: 1.4994 - val_loss: 5.6935 - val_mae: 1.6282 - lr: 0.0010\n",
      "Epoch 309/1000\n",
      "14/14 [==============================] - 0s 3ms/step - loss: 4.4739 - mae: 1.4950 - val_loss: 5.8291 - val_mae: 1.7899 - lr: 0.0010\n",
      "Epoch 310/1000\n",
      "14/14 [==============================] - 0s 3ms/step - loss: 4.4509 - mae: 1.5056 - val_loss: 5.6494 - val_mae: 1.6233 - lr: 0.0010\n",
      "Epoch 311/1000\n",
      "14/14 [==============================] - 0s 3ms/step - loss: 4.3947 - mae: 1.4748 - val_loss: 5.5939 - val_mae: 1.7095 - lr: 0.0010\n",
      "Epoch 312/1000\n",
      "14/14 [==============================] - 0s 3ms/step - loss: 4.4214 - mae: 1.4842 - val_loss: 5.6057 - val_mae: 1.6242 - lr: 0.0010\n",
      "Epoch 313/1000\n",
      "14/14 [==============================] - 0s 3ms/step - loss: 4.3897 - mae: 1.4852 - val_loss: 5.8139 - val_mae: 1.7650 - lr: 0.0010\n",
      "Epoch 314/1000\n",
      "14/14 [==============================] - 0s 3ms/step - loss: 4.4362 - mae: 1.5071 - val_loss: 5.6380 - val_mae: 1.6217 - lr: 0.0010\n",
      "Epoch 315/1000\n",
      "14/14 [==============================] - 0s 3ms/step - loss: 4.4135 - mae: 1.4877 - val_loss: 5.7492 - val_mae: 1.6253 - lr: 0.0010\n",
      "Epoch 316/1000\n",
      "14/14 [==============================] - 0s 4ms/step - loss: 4.4107 - mae: 1.4781 - val_loss: 6.1571 - val_mae: 1.6725 - lr: 0.0010\n",
      "Epoch 317/1000\n",
      "14/14 [==============================] - 0s 5ms/step - loss: 4.3901 - mae: 1.4724 - val_loss: 5.7030 - val_mae: 1.7530 - lr: 0.0010\n",
      "Epoch 318/1000\n",
      "14/14 [==============================] - 0s 3ms/step - loss: 4.4290 - mae: 1.4991 - val_loss: 6.2401 - val_mae: 1.6864 - lr: 0.0010\n",
      "Epoch 319/1000\n",
      "14/14 [==============================] - 0s 3ms/step - loss: 4.4745 - mae: 1.4908 - val_loss: 5.8014 - val_mae: 1.6317 - lr: 0.0010\n",
      "Epoch 320/1000\n",
      "14/14 [==============================] - 0s 3ms/step - loss: 4.3935 - mae: 1.4762 - val_loss: 6.0615 - val_mae: 1.6665 - lr: 0.0010\n",
      "Epoch 321/1000\n",
      "14/14 [==============================] - 0s 4ms/step - loss: 4.4065 - mae: 1.4676 - val_loss: 5.5435 - val_mae: 1.6221 - lr: 0.0010\n",
      "Epoch 322/1000\n",
      "14/14 [==============================] - 0s 3ms/step - loss: 4.4070 - mae: 1.4890 - val_loss: 5.6144 - val_mae: 1.6117 - lr: 0.0010\n",
      "Epoch 323/1000\n",
      "14/14 [==============================] - 0s 3ms/step - loss: 4.3942 - mae: 1.4812 - val_loss: 5.8460 - val_mae: 1.6430 - lr: 0.0010\n",
      "Epoch 324/1000\n",
      "14/14 [==============================] - 0s 3ms/step - loss: 4.4032 - mae: 1.4828 - val_loss: 5.5773 - val_mae: 1.6417 - lr: 0.0010\n",
      "Epoch 325/1000\n",
      "14/14 [==============================] - 0s 4ms/step - loss: 4.3888 - mae: 1.4849 - val_loss: 5.6509 - val_mae: 1.6113 - lr: 0.0010\n",
      "Epoch 326/1000\n",
      "14/14 [==============================] - 0s 3ms/step - loss: 4.4090 - mae: 1.4757 - val_loss: 5.5041 - val_mae: 1.6256 - lr: 0.0010\n",
      "Epoch 327/1000\n",
      "14/14 [==============================] - 0s 3ms/step - loss: 4.3787 - mae: 1.4870 - val_loss: 6.2212 - val_mae: 1.6797 - lr: 0.0010\n",
      "Epoch 328/1000\n",
      "14/14 [==============================] - 0s 3ms/step - loss: 4.4391 - mae: 1.4835 - val_loss: 5.5393 - val_mae: 1.6388 - lr: 0.0010\n",
      "Epoch 329/1000\n",
      "14/14 [==============================] - 0s 4ms/step - loss: 4.3631 - mae: 1.4773 - val_loss: 6.3552 - val_mae: 1.9354 - lr: 0.0010\n",
      "Epoch 330/1000\n",
      "14/14 [==============================] - 0s 5ms/step - loss: 4.4504 - mae: 1.5039 - val_loss: 5.6107 - val_mae: 1.6404 - lr: 0.0010\n",
      "Epoch 331/1000\n",
      "14/14 [==============================] - 0s 5ms/step - loss: 4.3910 - mae: 1.4755 - val_loss: 6.1874 - val_mae: 1.6811 - lr: 0.0010\n",
      "Epoch 332/1000\n",
      "14/14 [==============================] - 0s 4ms/step - loss: 4.4411 - mae: 1.4813 - val_loss: 5.5037 - val_mae: 1.6477 - lr: 0.0010\n",
      "Epoch 333/1000\n",
      "14/14 [==============================] - 0s 3ms/step - loss: 4.4054 - mae: 1.4923 - val_loss: 5.6636 - val_mae: 1.7297 - lr: 0.0010\n",
      "Epoch 334/1000\n",
      "14/14 [==============================] - 0s 5ms/step - loss: 4.3622 - mae: 1.4839 - val_loss: 5.5593 - val_mae: 1.6570 - lr: 0.0010\n",
      "Epoch 335/1000\n",
      "14/14 [==============================] - 0s 5ms/step - loss: 4.3643 - mae: 1.4892 - val_loss: 6.1380 - val_mae: 1.6733 - lr: 0.0010\n",
      "Epoch 336/1000\n",
      "14/14 [==============================] - 0s 8ms/step - loss: 4.3797 - mae: 1.4730 - val_loss: 6.2283 - val_mae: 1.6918 - lr: 0.0010\n"
     ]
    },
    {
     "name": "stdout",
     "output_type": "stream",
     "text": [
      "Epoch 337/1000\n",
      "14/14 [==============================] - 0s 5ms/step - loss: 4.4203 - mae: 1.4736 - val_loss: 5.6136 - val_mae: 1.7057 - lr: 0.0010\n",
      "Epoch 338/1000\n",
      "14/14 [==============================] - 0s 5ms/step - loss: 4.4172 - mae: 1.4850 - val_loss: 5.9129 - val_mae: 1.6414 - lr: 0.0010\n",
      "Epoch 339/1000\n",
      "14/14 [==============================] - 0s 4ms/step - loss: 4.4140 - mae: 1.4730 - val_loss: 5.7893 - val_mae: 1.6334 - lr: 0.0010\n",
      "Epoch 340/1000\n",
      "14/14 [==============================] - 0s 5ms/step - loss: 4.4710 - mae: 1.4872 - val_loss: 5.8432 - val_mae: 1.6345 - lr: 0.0010\n",
      "Epoch 341/1000\n",
      "14/14 [==============================] - 0s 4ms/step - loss: 4.3895 - mae: 1.4693 - val_loss: 5.6562 - val_mae: 1.6176 - lr: 0.0010\n",
      "Epoch 342/1000\n",
      "14/14 [==============================] - 0s 5ms/step - loss: 4.3947 - mae: 1.4823 - val_loss: 6.0811 - val_mae: 1.6636 - lr: 0.0010\n",
      "Epoch 343/1000\n",
      "14/14 [==============================] - 0s 5ms/step - loss: 4.3957 - mae: 1.4792 - val_loss: 5.5735 - val_mae: 1.6013 - lr: 0.0010\n",
      "Epoch 344/1000\n",
      "14/14 [==============================] - 0s 4ms/step - loss: 4.4064 - mae: 1.4810 - val_loss: 5.8179 - val_mae: 1.6291 - lr: 0.0010\n",
      "Epoch 345/1000\n",
      "14/14 [==============================] - 0s 5ms/step - loss: 4.3689 - mae: 1.4669 - val_loss: 6.1881 - val_mae: 1.6752 - lr: 0.0010\n",
      "Epoch 346/1000\n",
      "14/14 [==============================] - 0s 5ms/step - loss: 4.4821 - mae: 1.4811 - val_loss: 5.5468 - val_mae: 1.6748 - lr: 0.0010\n",
      "Epoch 347/1000\n",
      "14/14 [==============================] - 0s 6ms/step - loss: 4.3633 - mae: 1.4741 - val_loss: 5.8253 - val_mae: 1.6338 - lr: 0.0010\n",
      "Epoch 348/1000\n",
      "14/14 [==============================] - 0s 5ms/step - loss: 4.4179 - mae: 1.4813 - val_loss: 5.5309 - val_mae: 1.6127 - lr: 0.0010\n",
      "Epoch 349/1000\n",
      "14/14 [==============================] - 0s 5ms/step - loss: 4.4189 - mae: 1.4841 - val_loss: 5.7958 - val_mae: 1.6238 - lr: 0.0010\n",
      "Epoch 350/1000\n",
      "14/14 [==============================] - 0s 3ms/step - loss: 4.4360 - mae: 1.4793 - val_loss: 6.6354 - val_mae: 2.0050 - lr: 0.0010\n",
      "Epoch 351/1000\n",
      "14/14 [==============================] - 0s 3ms/step - loss: 4.4381 - mae: 1.5267 - val_loss: 5.5957 - val_mae: 1.6432 - lr: 0.0010\n",
      "Epoch 352/1000\n",
      "14/14 [==============================] - 0s 5ms/step - loss: 4.3818 - mae: 1.4764 - val_loss: 5.6946 - val_mae: 1.7371 - lr: 0.0010\n",
      "Epoch 353/1000\n",
      "14/14 [==============================] - 0s 4ms/step - loss: 4.3231 - mae: 1.4862 - val_loss: 5.7134 - val_mae: 1.6277 - lr: 0.0010\n",
      "Epoch 354/1000\n",
      "14/14 [==============================] - 0s 3ms/step - loss: 4.3481 - mae: 1.4676 - val_loss: 6.0319 - val_mae: 1.6584 - lr: 0.0010\n",
      "Epoch 355/1000\n",
      "14/14 [==============================] - 0s 7ms/step - loss: 4.3526 - mae: 1.4663 - val_loss: 5.5687 - val_mae: 1.6490 - lr: 0.0010\n",
      "Epoch 356/1000\n",
      "14/14 [==============================] - 0s 5ms/step - loss: 4.3779 - mae: 1.4780 - val_loss: 5.8985 - val_mae: 1.6494 - lr: 0.0010\n",
      "Epoch 357/1000\n",
      "14/14 [==============================] - 0s 7ms/step - loss: 4.3864 - mae: 1.4763 - val_loss: 5.7900 - val_mae: 1.7593 - lr: 0.0010\n",
      "Epoch 358/1000\n",
      "14/14 [==============================] - 0s 6ms/step - loss: 4.3939 - mae: 1.4945 - val_loss: 5.7653 - val_mae: 1.6193 - lr: 0.0010\n",
      "Epoch 359/1000\n",
      "14/14 [==============================] - 0s 4ms/step - loss: 4.3841 - mae: 1.4800 - val_loss: 5.8405 - val_mae: 1.6310 - lr: 0.0010\n",
      "Epoch 360/1000\n",
      "14/14 [==============================] - 0s 4ms/step - loss: 4.3778 - mae: 1.4787 - val_loss: 5.5544 - val_mae: 1.6138 - lr: 0.0010\n",
      "Epoch 361/1000\n",
      "14/14 [==============================] - 0s 5ms/step - loss: 4.3958 - mae: 1.4901 - val_loss: 5.6449 - val_mae: 1.6099 - lr: 0.0010\n",
      "Epoch 362/1000\n",
      "14/14 [==============================] - 0s 7ms/step - loss: 4.4506 - mae: 1.5034 - val_loss: 5.5782 - val_mae: 1.6322 - lr: 0.0010\n",
      "Epoch 363/1000\n",
      "14/14 [==============================] - 0s 6ms/step - loss: 4.3590 - mae: 1.4679 - val_loss: 5.5532 - val_mae: 1.6459 - lr: 0.0010\n",
      "Epoch 364/1000\n",
      "14/14 [==============================] - 0s 5ms/step - loss: 4.3990 - mae: 1.4759 - val_loss: 5.8086 - val_mae: 1.7728 - lr: 0.0010\n",
      "Epoch 365/1000\n",
      "14/14 [==============================] - 0s 6ms/step - loss: 4.3753 - mae: 1.4880 - val_loss: 5.7934 - val_mae: 1.6312 - lr: 0.0010\n",
      "Epoch 366/1000\n",
      "14/14 [==============================] - 0s 5ms/step - loss: 4.4210 - mae: 1.4740 - val_loss: 5.6208 - val_mae: 1.6803 - lr: 0.0010\n",
      "Epoch 367/1000\n",
      "14/14 [==============================] - 0s 4ms/step - loss: 4.4069 - mae: 1.4823 - val_loss: 5.7425 - val_mae: 1.6310 - lr: 0.0010\n",
      "Epoch 368/1000\n",
      "14/14 [==============================] - 0s 4ms/step - loss: 4.3917 - mae: 1.4842 - val_loss: 6.1548 - val_mae: 1.6769 - lr: 0.0010\n",
      "Epoch 369/1000\n",
      "14/14 [==============================] - 0s 3ms/step - loss: 4.4328 - mae: 1.4686 - val_loss: 5.5153 - val_mae: 1.6420 - lr: 0.0010\n",
      "Epoch 370/1000\n",
      "14/14 [==============================] - 0s 3ms/step - loss: 4.4037 - mae: 1.4777 - val_loss: 5.7894 - val_mae: 1.7686 - lr: 0.0010\n",
      "Epoch 371/1000\n",
      "14/14 [==============================] - 0s 3ms/step - loss: 4.3808 - mae: 1.4936 - val_loss: 5.7035 - val_mae: 1.6120 - lr: 0.0010\n",
      "Epoch 372/1000\n",
      "14/14 [==============================] - 0s 3ms/step - loss: 4.3681 - mae: 1.4787 - val_loss: 5.6952 - val_mae: 1.6401 - lr: 0.0010\n",
      "Epoch 373/1000\n",
      "14/14 [==============================] - 0s 3ms/step - loss: 4.3364 - mae: 1.4712 - val_loss: 6.1638 - val_mae: 1.8787 - lr: 0.0010\n",
      "Epoch 374/1000\n",
      "14/14 [==============================] - 0s 3ms/step - loss: 4.4000 - mae: 1.5008 - val_loss: 5.9188 - val_mae: 1.6461 - lr: 0.0010\n",
      "Epoch 375/1000\n",
      "14/14 [==============================] - 0s 6ms/step - loss: 4.4023 - mae: 1.4659 - val_loss: 5.9806 - val_mae: 1.6479 - lr: 0.0010\n",
      "Epoch 376/1000\n",
      "14/14 [==============================] - 0s 7ms/step - loss: 4.3666 - mae: 1.4578 - val_loss: 5.7683 - val_mae: 1.7699 - lr: 0.0010\n",
      "Epoch 377/1000\n",
      "14/14 [==============================] - 0s 7ms/step - loss: 4.3625 - mae: 1.4748 - val_loss: 6.3027 - val_mae: 1.6973 - lr: 0.0010\n",
      "Epoch 378/1000\n",
      "14/14 [==============================] - 0s 4ms/step - loss: 4.4506 - mae: 1.4738 - val_loss: 5.5077 - val_mae: 1.6209 - lr: 0.0010\n",
      "Epoch 379/1000\n",
      "14/14 [==============================] - 0s 4ms/step - loss: 4.3757 - mae: 1.4782 - val_loss: 5.5555 - val_mae: 1.6150 - lr: 0.0010\n",
      "Epoch 380/1000\n",
      "14/14 [==============================] - 0s 7ms/step - loss: 4.3855 - mae: 1.4724 - val_loss: 5.5110 - val_mae: 1.6615 - lr: 0.0010\n",
      "Epoch 381/1000\n",
      "14/14 [==============================] - 0s 6ms/step - loss: 4.3277 - mae: 1.4743 - val_loss: 5.8931 - val_mae: 1.8025 - lr: 0.0010\n",
      "Epoch 382/1000\n",
      "14/14 [==============================] - 0s 4ms/step - loss: 4.4381 - mae: 1.4950 - val_loss: 5.5641 - val_mae: 1.6569 - lr: 0.0010\n",
      "Epoch 383/1000\n",
      "14/14 [==============================] - 0s 4ms/step - loss: 4.3178 - mae: 1.4712 - val_loss: 6.1576 - val_mae: 1.6865 - lr: 0.0010\n",
      "Epoch 384/1000\n",
      "14/14 [==============================] - 0s 4ms/step - loss: 4.4238 - mae: 1.4840 - val_loss: 5.8142 - val_mae: 1.6426 - lr: 0.0010\n",
      "Epoch 385/1000\n",
      "14/14 [==============================] - 0s 4ms/step - loss: 4.4038 - mae: 1.4811 - val_loss: 5.7979 - val_mae: 1.6285 - lr: 0.0010\n",
      "Epoch 386/1000\n",
      "14/14 [==============================] - 0s 5ms/step - loss: 4.3497 - mae: 1.4715 - val_loss: 5.9471 - val_mae: 1.6543 - lr: 0.0010\n",
      "Epoch 387/1000\n",
      "14/14 [==============================] - 0s 3ms/step - loss: 4.3676 - mae: 1.4737 - val_loss: 6.3863 - val_mae: 1.7132 - lr: 0.0010\n",
      "Epoch 388/1000\n",
      "14/14 [==============================] - 0s 5ms/step - loss: 4.4310 - mae: 1.4669 - val_loss: 5.6815 - val_mae: 1.7286 - lr: 0.0010\n",
      "Epoch 389/1000\n",
      "14/14 [==============================] - 0s 5ms/step - loss: 4.3510 - mae: 1.4822 - val_loss: 5.8577 - val_mae: 1.7983 - lr: 0.0010\n",
      "Epoch 390/1000\n",
      "14/14 [==============================] - 0s 4ms/step - loss: 4.3959 - mae: 1.4850 - val_loss: 5.9496 - val_mae: 1.8091 - lr: 0.0010\n",
      "Epoch 391/1000\n",
      "14/14 [==============================] - 0s 3ms/step - loss: 4.4058 - mae: 1.4947 - val_loss: 5.6553 - val_mae: 1.6984 - lr: 0.0010\n",
      "Epoch 392/1000\n",
      "14/14 [==============================] - 0s 4ms/step - loss: 4.3148 - mae: 1.4796 - val_loss: 5.5639 - val_mae: 1.6424 - lr: 0.0010\n"
     ]
    },
    {
     "name": "stdout",
     "output_type": "stream",
     "text": [
      "Epoch 393/1000\n",
      "14/14 [==============================] - 0s 8ms/step - loss: 4.3362 - mae: 1.4719 - val_loss: 5.6470 - val_mae: 1.7217 - lr: 0.0010\n",
      "Epoch 394/1000\n",
      "14/14 [==============================] - 0s 7ms/step - loss: 4.3131 - mae: 1.4691 - val_loss: 5.6669 - val_mae: 1.6193 - lr: 0.0010\n",
      "Epoch 395/1000\n",
      "14/14 [==============================] - 0s 8ms/step - loss: 4.4004 - mae: 1.4702 - val_loss: 6.1750 - val_mae: 1.6790 - lr: 0.0010\n",
      "Epoch 396/1000\n",
      "14/14 [==============================] - 0s 6ms/step - loss: 4.4024 - mae: 1.4670 - val_loss: 5.4968 - val_mae: 1.6196 - lr: 0.0010\n",
      "Epoch 397/1000\n",
      "14/14 [==============================] - 0s 6ms/step - loss: 4.3146 - mae: 1.4711 - val_loss: 5.6900 - val_mae: 1.6224 - lr: 0.0010\n",
      "Epoch 398/1000\n",
      "14/14 [==============================] - 0s 5ms/step - loss: 4.3381 - mae: 1.4731 - val_loss: 5.7298 - val_mae: 1.6212 - lr: 0.0010\n",
      "Epoch 399/1000\n",
      "14/14 [==============================] - 0s 8ms/step - loss: 4.3926 - mae: 1.4716 - val_loss: 5.4763 - val_mae: 1.6585 - lr: 0.0010\n",
      "Epoch 400/1000\n",
      "14/14 [==============================] - 0s 6ms/step - loss: 4.3780 - mae: 1.4734 - val_loss: 5.8047 - val_mae: 1.7788 - lr: 0.0010\n",
      "Epoch 401/1000\n",
      "14/14 [==============================] - 0s 8ms/step - loss: 4.3304 - mae: 1.4848 - val_loss: 5.9382 - val_mae: 1.6472 - lr: 0.0010\n",
      "Epoch 402/1000\n",
      "14/14 [==============================] - 0s 5ms/step - loss: 4.3275 - mae: 1.4655 - val_loss: 6.5725 - val_mae: 1.7396 - lr: 0.0010\n",
      "Epoch 403/1000\n",
      "14/14 [==============================] - 0s 5ms/step - loss: 4.4698 - mae: 1.4713 - val_loss: 5.7342 - val_mae: 1.7370 - lr: 0.0010\n",
      "Epoch 404/1000\n",
      "14/14 [==============================] - 0s 6ms/step - loss: 4.3614 - mae: 1.4758 - val_loss: 6.3215 - val_mae: 1.7001 - lr: 0.0010\n",
      "Epoch 405/1000\n",
      "14/14 [==============================] - 0s 6ms/step - loss: 4.3680 - mae: 1.4659 - val_loss: 5.5901 - val_mae: 1.6987 - lr: 0.0010\n",
      "Epoch 406/1000\n",
      "14/14 [==============================] - 0s 6ms/step - loss: 4.4040 - mae: 1.4931 - val_loss: 5.6191 - val_mae: 1.6066 - lr: 0.0010\n",
      "Epoch 407/1000\n",
      "14/14 [==============================] - 0s 8ms/step - loss: 4.3023 - mae: 1.4552 - val_loss: 5.4959 - val_mae: 1.6190 - lr: 0.0010\n",
      "Epoch 408/1000\n",
      "14/14 [==============================] - 0s 4ms/step - loss: 4.3671 - mae: 1.4739 - val_loss: 5.4321 - val_mae: 1.6304 - lr: 0.0010\n",
      "Epoch 409/1000\n",
      "14/14 [==============================] - 0s 5ms/step - loss: 4.3706 - mae: 1.4833 - val_loss: 5.7954 - val_mae: 1.6211 - lr: 0.0010\n",
      "Epoch 410/1000\n",
      "14/14 [==============================] - 0s 5ms/step - loss: 4.3278 - mae: 1.4676 - val_loss: 5.7525 - val_mae: 1.6266 - lr: 0.0010\n",
      "Epoch 411/1000\n",
      "14/14 [==============================] - 0s 4ms/step - loss: 4.3530 - mae: 1.4579 - val_loss: 5.5218 - val_mae: 1.6202 - lr: 0.0010\n",
      "Epoch 412/1000\n",
      "14/14 [==============================] - 0s 4ms/step - loss: 4.3332 - mae: 1.4733 - val_loss: 5.5351 - val_mae: 1.6750 - lr: 0.0010\n",
      "Epoch 413/1000\n",
      "14/14 [==============================] - 0s 4ms/step - loss: 4.3569 - mae: 1.4647 - val_loss: 5.4909 - val_mae: 1.6718 - lr: 0.0010\n",
      "Epoch 414/1000\n",
      "14/14 [==============================] - 0s 4ms/step - loss: 4.3350 - mae: 1.4718 - val_loss: 5.4960 - val_mae: 1.6409 - lr: 0.0010\n",
      "Epoch 415/1000\n",
      "14/14 [==============================] - 0s 3ms/step - loss: 4.3729 - mae: 1.4882 - val_loss: 5.5405 - val_mae: 1.6582 - lr: 0.0010\n",
      "Epoch 416/1000\n",
      "14/14 [==============================] - 0s 3ms/step - loss: 4.3042 - mae: 1.4681 - val_loss: 5.5374 - val_mae: 1.6877 - lr: 0.0010\n",
      "Epoch 417/1000\n",
      "14/14 [==============================] - 0s 3ms/step - loss: 4.3497 - mae: 1.4817 - val_loss: 5.9739 - val_mae: 1.6411 - lr: 0.0010\n",
      "Epoch 418/1000\n",
      "14/14 [==============================] - 0s 4ms/step - loss: 4.3703 - mae: 1.4509 - val_loss: 5.6443 - val_mae: 1.5973 - lr: 0.0010\n",
      "Epoch 419/1000\n",
      "14/14 [==============================] - 0s 4ms/step - loss: 4.4121 - mae: 1.4718 - val_loss: 5.5383 - val_mae: 1.6783 - lr: 0.0010\n",
      "Epoch 420/1000\n",
      "14/14 [==============================] - 0s 3ms/step - loss: 4.3647 - mae: 1.4861 - val_loss: 6.3144 - val_mae: 1.7116 - lr: 0.0010\n",
      "Epoch 421/1000\n",
      "14/14 [==============================] - 0s 3ms/step - loss: 4.3782 - mae: 1.4696 - val_loss: 5.9083 - val_mae: 1.6456 - lr: 0.0010\n",
      "Epoch 422/1000\n",
      "14/14 [==============================] - 0s 3ms/step - loss: 4.3218 - mae: 1.4691 - val_loss: 5.6578 - val_mae: 1.6384 - lr: 0.0010\n",
      "Epoch 423/1000\n",
      "14/14 [==============================] - 0s 4ms/step - loss: 4.3290 - mae: 1.4741 - val_loss: 5.4834 - val_mae: 1.6063 - lr: 0.0010\n",
      "Epoch 424/1000\n",
      "14/14 [==============================] - 0s 4ms/step - loss: 4.3477 - mae: 1.4794 - val_loss: 6.6231 - val_mae: 1.7401 - lr: 0.0010\n",
      "Epoch 425/1000\n",
      "14/14 [==============================] - 0s 7ms/step - loss: 4.4285 - mae: 1.4440 - val_loss: 6.1329 - val_mae: 1.8969 - lr: 0.0010\n",
      "Epoch 426/1000\n",
      "14/14 [==============================] - 0s 6ms/step - loss: 4.3872 - mae: 1.5029 - val_loss: 5.5696 - val_mae: 1.6119 - lr: 0.0010\n",
      "Epoch 427/1000\n",
      "14/14 [==============================] - 0s 5ms/step - loss: 4.3568 - mae: 1.4696 - val_loss: 5.4782 - val_mae: 1.6089 - lr: 0.0010\n",
      "Epoch 428/1000\n",
      "14/14 [==============================] - 0s 7ms/step - loss: 4.3304 - mae: 1.4660 - val_loss: 5.5389 - val_mae: 1.7034 - lr: 0.0010\n",
      "Epoch 429/1000\n",
      "14/14 [==============================] - 0s 10ms/step - loss: 4.3821 - mae: 1.4836 - val_loss: 6.4731 - val_mae: 1.9784 - lr: 0.0010\n",
      "Epoch 430/1000\n",
      "14/14 [==============================] - 0s 9ms/step - loss: 4.4502 - mae: 1.5182 - val_loss: 5.4475 - val_mae: 1.6292 - lr: 0.0010\n",
      "Epoch 431/1000\n",
      "14/14 [==============================] - 0s 8ms/step - loss: 4.3069 - mae: 1.4647 - val_loss: 5.4703 - val_mae: 1.6665 - lr: 0.0010\n",
      "Epoch 432/1000\n",
      "14/14 [==============================] - 0s 4ms/step - loss: 4.3054 - mae: 1.4642 - val_loss: 5.5173 - val_mae: 1.5997 - lr: 0.0010\n",
      "Epoch 433/1000\n",
      "14/14 [==============================] - 0s 4ms/step - loss: 4.3460 - mae: 1.4645 - val_loss: 5.9355 - val_mae: 1.6362 - lr: 0.0010\n",
      "Epoch 434/1000\n",
      "14/14 [==============================] - 0s 6ms/step - loss: 4.3315 - mae: 1.4595 - val_loss: 5.6612 - val_mae: 1.6063 - lr: 0.0010\n",
      "Epoch 435/1000\n",
      "14/14 [==============================] - 0s 5ms/step - loss: 4.3407 - mae: 1.4558 - val_loss: 5.4856 - val_mae: 1.6355 - lr: 0.0010\n",
      "Epoch 436/1000\n",
      "14/14 [==============================] - 0s 7ms/step - loss: 4.3505 - mae: 1.4746 - val_loss: 5.5699 - val_mae: 1.5969 - lr: 0.0010\n",
      "Epoch 437/1000\n",
      "14/14 [==============================] - 0s 6ms/step - loss: 4.2944 - mae: 1.4540 - val_loss: 5.6614 - val_mae: 1.6030 - lr: 0.0010\n",
      "Epoch 438/1000\n",
      "14/14 [==============================] - 0s 4ms/step - loss: 4.3406 - mae: 1.4516 - val_loss: 5.4819 - val_mae: 1.6024 - lr: 0.0010\n",
      "Epoch 439/1000\n",
      "14/14 [==============================] - 0s 4ms/step - loss: 4.2911 - mae: 1.4507 - val_loss: 5.9822 - val_mae: 1.8465 - lr: 0.0010\n",
      "Epoch 440/1000\n",
      "14/14 [==============================] - 0s 5ms/step - loss: 4.3147 - mae: 1.4762 - val_loss: 5.6683 - val_mae: 1.6204 - lr: 0.0010\n",
      "Epoch 441/1000\n",
      "14/14 [==============================] - 0s 9ms/step - loss: 4.3125 - mae: 1.4666 - val_loss: 5.7240 - val_mae: 1.6282 - lr: 0.0010\n",
      "Epoch 442/1000\n",
      "14/14 [==============================] - 0s 4ms/step - loss: 4.3429 - mae: 1.4559 - val_loss: 5.4863 - val_mae: 1.6745 - lr: 0.0010\n",
      "Epoch 443/1000\n",
      "14/14 [==============================] - 0s 3ms/step - loss: 4.3251 - mae: 1.4704 - val_loss: 5.5459 - val_mae: 1.6032 - lr: 0.0010\n",
      "Epoch 444/1000\n",
      "14/14 [==============================] - 0s 4ms/step - loss: 4.3773 - mae: 1.4660 - val_loss: 5.6575 - val_mae: 1.6105 - lr: 0.0010\n",
      "Epoch 445/1000\n",
      "14/14 [==============================] - 0s 5ms/step - loss: 4.3112 - mae: 1.4581 - val_loss: 5.7323 - val_mae: 1.6135 - lr: 0.0010\n",
      "Epoch 446/1000\n",
      "14/14 [==============================] - 0s 5ms/step - loss: 4.3400 - mae: 1.4726 - val_loss: 6.1716 - val_mae: 1.6682 - lr: 0.0010\n",
      "Epoch 447/1000\n",
      "14/14 [==============================] - 0s 5ms/step - loss: 4.3286 - mae: 1.4583 - val_loss: 6.0902 - val_mae: 1.6506 - lr: 0.0010\n",
      "Epoch 448/1000\n",
      "14/14 [==============================] - 0s 5ms/step - loss: 4.3249 - mae: 1.4444 - val_loss: 5.4093 - val_mae: 1.6369 - lr: 0.0010\n"
     ]
    },
    {
     "name": "stdout",
     "output_type": "stream",
     "text": [
      "Epoch 449/1000\n",
      "14/14 [==============================] - 0s 4ms/step - loss: 4.3657 - mae: 1.4693 - val_loss: 5.5136 - val_mae: 1.6817 - lr: 0.0010\n",
      "Epoch 450/1000\n",
      "14/14 [==============================] - 0s 5ms/step - loss: 4.2628 - mae: 1.4562 - val_loss: 5.4289 - val_mae: 1.6133 - lr: 0.0010\n",
      "Epoch 451/1000\n",
      "14/14 [==============================] - 0s 8ms/step - loss: 4.3248 - mae: 1.4692 - val_loss: 5.5408 - val_mae: 1.7024 - lr: 0.0010\n",
      "Epoch 452/1000\n",
      "14/14 [==============================] - 0s 6ms/step - loss: 4.2649 - mae: 1.4650 - val_loss: 5.6670 - val_mae: 1.6134 - lr: 0.0010\n",
      "Epoch 453/1000\n",
      "14/14 [==============================] - 0s 6ms/step - loss: 4.3184 - mae: 1.4663 - val_loss: 5.5194 - val_mae: 1.6062 - lr: 0.0010\n",
      "Epoch 454/1000\n",
      "14/14 [==============================] - 0s 5ms/step - loss: 4.2823 - mae: 1.4585 - val_loss: 5.7077 - val_mae: 1.6199 - lr: 0.0010\n",
      "Epoch 455/1000\n",
      "14/14 [==============================] - 0s 5ms/step - loss: 4.3218 - mae: 1.4656 - val_loss: 5.6281 - val_mae: 1.6163 - lr: 0.0010\n",
      "Epoch 456/1000\n",
      "14/14 [==============================] - 0s 4ms/step - loss: 4.3626 - mae: 1.4726 - val_loss: 5.5071 - val_mae: 1.6787 - lr: 0.0010\n",
      "Epoch 457/1000\n",
      "14/14 [==============================] - 0s 4ms/step - loss: 4.2990 - mae: 1.4620 - val_loss: 6.1952 - val_mae: 1.8937 - lr: 0.0010\n",
      "Epoch 458/1000\n",
      "14/14 [==============================] - 0s 4ms/step - loss: 4.3948 - mae: 1.4968 - val_loss: 6.1504 - val_mae: 1.6752 - lr: 0.0010\n",
      "Epoch 459/1000\n",
      "14/14 [==============================] - 0s 5ms/step - loss: 4.2963 - mae: 1.4508 - val_loss: 5.9700 - val_mae: 1.6454 - lr: 0.0010\n",
      "Epoch 460/1000\n",
      "14/14 [==============================] - 0s 6ms/step - loss: 4.2948 - mae: 1.4455 - val_loss: 6.0719 - val_mae: 1.6620 - lr: 0.0010\n",
      "Epoch 461/1000\n",
      "14/14 [==============================] - 0s 6ms/step - loss: 4.2587 - mae: 1.4300 - val_loss: 6.3714 - val_mae: 1.9527 - lr: 0.0010\n",
      "Epoch 462/1000\n",
      "14/14 [==============================] - 0s 3ms/step - loss: 4.3552 - mae: 1.4969 - val_loss: 5.4361 - val_mae: 1.6003 - lr: 0.0010\n",
      "Epoch 463/1000\n",
      "14/14 [==============================] - 0s 3ms/step - loss: 4.2713 - mae: 1.4444 - val_loss: 5.8891 - val_mae: 1.8136 - lr: 0.0010\n",
      "Epoch 464/1000\n",
      "14/14 [==============================] - 0s 3ms/step - loss: 4.2829 - mae: 1.4800 - val_loss: 6.0874 - val_mae: 1.6587 - lr: 0.0010\n",
      "Epoch 465/1000\n",
      "14/14 [==============================] - 0s 4ms/step - loss: 4.2961 - mae: 1.4501 - val_loss: 5.5273 - val_mae: 1.7057 - lr: 0.0010\n",
      "Epoch 466/1000\n",
      "14/14 [==============================] - 0s 4ms/step - loss: 4.3143 - mae: 1.4704 - val_loss: 5.5291 - val_mae: 1.6787 - lr: 0.0010\n",
      "Epoch 467/1000\n",
      "14/14 [==============================] - 0s 3ms/step - loss: 4.3159 - mae: 1.4653 - val_loss: 5.4650 - val_mae: 1.6213 - lr: 0.0010\n",
      "Epoch 468/1000\n",
      "14/14 [==============================] - 0s 4ms/step - loss: 4.2930 - mae: 1.4584 - val_loss: 5.6590 - val_mae: 1.6116 - lr: 0.0010\n",
      "Epoch 469/1000\n",
      "14/14 [==============================] - 0s 3ms/step - loss: 4.2986 - mae: 1.4430 - val_loss: 6.1695 - val_mae: 1.6774 - lr: 0.0010\n",
      "Epoch 470/1000\n",
      "14/14 [==============================] - 0s 4ms/step - loss: 4.3705 - mae: 1.4573 - val_loss: 5.5695 - val_mae: 1.6982 - lr: 0.0010\n",
      "Epoch 471/1000\n",
      "14/14 [==============================] - 0s 4ms/step - loss: 4.2384 - mae: 1.4576 - val_loss: 5.4282 - val_mae: 1.6028 - lr: 0.0010\n",
      "Epoch 472/1000\n",
      "14/14 [==============================] - 0s 3ms/step - loss: 4.2900 - mae: 1.4519 - val_loss: 5.5069 - val_mae: 1.6715 - lr: 0.0010\n",
      "Epoch 473/1000\n",
      "14/14 [==============================] - 0s 3ms/step - loss: 4.2401 - mae: 1.4509 - val_loss: 5.5148 - val_mae: 1.5928 - lr: 0.0010\n",
      "Epoch 474/1000\n",
      "14/14 [==============================] - 0s 3ms/step - loss: 4.2867 - mae: 1.4510 - val_loss: 5.6707 - val_mae: 1.6053 - lr: 0.0010\n",
      "Epoch 475/1000\n",
      "14/14 [==============================] - 0s 3ms/step - loss: 4.2892 - mae: 1.4417 - val_loss: 5.4332 - val_mae: 1.6074 - lr: 0.0010\n",
      "Epoch 476/1000\n",
      "14/14 [==============================] - 0s 3ms/step - loss: 4.2662 - mae: 1.4365 - val_loss: 5.6267 - val_mae: 1.7213 - lr: 0.0010\n",
      "Epoch 477/1000\n",
      "14/14 [==============================] - 0s 3ms/step - loss: 4.2326 - mae: 1.4540 - val_loss: 5.4400 - val_mae: 1.6185 - lr: 0.0010\n",
      "Epoch 478/1000\n",
      "14/14 [==============================] - 0s 3ms/step - loss: 4.2974 - mae: 1.4619 - val_loss: 5.7361 - val_mae: 1.6192 - lr: 0.0010\n",
      "Epoch 479/1000\n",
      "14/14 [==============================] - 0s 5ms/step - loss: 4.2538 - mae: 1.4305 - val_loss: 5.4358 - val_mae: 1.6304 - lr: 0.0010\n",
      "Epoch 480/1000\n",
      "14/14 [==============================] - 0s 7ms/step - loss: 4.2422 - mae: 1.4513 - val_loss: 5.4542 - val_mae: 1.6180 - lr: 0.0010\n",
      "Epoch 481/1000\n",
      "14/14 [==============================] - 0s 10ms/step - loss: 4.2854 - mae: 1.4574 - val_loss: 5.7117 - val_mae: 1.7628 - lr: 0.0010\n",
      "Epoch 482/1000\n",
      "14/14 [==============================] - 0s 4ms/step - loss: 4.3102 - mae: 1.4721 - val_loss: 5.5018 - val_mae: 1.5941 - lr: 0.0010\n",
      "Epoch 483/1000\n",
      "14/14 [==============================] - 0s 4ms/step - loss: 4.2564 - mae: 1.4480 - val_loss: 5.6640 - val_mae: 1.6141 - lr: 0.0010\n",
      "Epoch 484/1000\n",
      "14/14 [==============================] - 0s 4ms/step - loss: 4.2455 - mae: 1.4320 - val_loss: 5.6542 - val_mae: 1.6065 - lr: 0.0010\n",
      "Epoch 485/1000\n",
      "14/14 [==============================] - 0s 11ms/step - loss: 4.2962 - mae: 1.4415 - val_loss: 5.5338 - val_mae: 1.6551 - lr: 0.0010\n",
      "Epoch 486/1000\n",
      "14/14 [==============================] - 0s 6ms/step - loss: 4.2881 - mae: 1.4558 - val_loss: 6.2793 - val_mae: 1.6977 - lr: 0.0010\n",
      "Epoch 487/1000\n",
      "14/14 [==============================] - 0s 5ms/step - loss: 4.3690 - mae: 1.4483 - val_loss: 5.4226 - val_mae: 1.6192 - lr: 0.0010\n",
      "Epoch 488/1000\n",
      "14/14 [==============================] - 0s 7ms/step - loss: 4.2347 - mae: 1.4485 - val_loss: 5.5192 - val_mae: 1.6936 - lr: 0.0010\n",
      "Epoch 489/1000\n",
      "14/14 [==============================] - 0s 7ms/step - loss: 4.2604 - mae: 1.4547 - val_loss: 5.4849 - val_mae: 1.6237 - lr: 0.0010\n",
      "Epoch 490/1000\n",
      "14/14 [==============================] - 0s 4ms/step - loss: 4.3647 - mae: 1.4514 - val_loss: 5.4641 - val_mae: 1.5957 - lr: 0.0010\n",
      "Epoch 491/1000\n",
      "14/14 [==============================] - 0s 4ms/step - loss: 4.2583 - mae: 1.4388 - val_loss: 5.7524 - val_mae: 1.6120 - lr: 0.0010\n",
      "Epoch 492/1000\n",
      "14/14 [==============================] - 0s 4ms/step - loss: 4.2926 - mae: 1.4492 - val_loss: 5.6192 - val_mae: 1.7271 - lr: 0.0010\n",
      "Epoch 493/1000\n",
      "14/14 [==============================] - 0s 7ms/step - loss: 4.3259 - mae: 1.4716 - val_loss: 5.3974 - val_mae: 1.6087 - lr: 0.0010\n",
      "Epoch 494/1000\n",
      "14/14 [==============================] - 0s 5ms/step - loss: 4.2610 - mae: 1.4430 - val_loss: 6.4586 - val_mae: 1.9724 - lr: 0.0010\n",
      "Epoch 495/1000\n",
      "14/14 [==============================] - 0s 8ms/step - loss: 4.3580 - mae: 1.4844 - val_loss: 5.5689 - val_mae: 1.6816 - lr: 0.0010\n",
      "Epoch 496/1000\n",
      "14/14 [==============================] - 0s 6ms/step - loss: 4.2687 - mae: 1.4579 - val_loss: 5.4226 - val_mae: 1.5912 - lr: 0.0010\n",
      "Epoch 497/1000\n",
      "14/14 [==============================] - 0s 8ms/step - loss: 4.3058 - mae: 1.4558 - val_loss: 5.5630 - val_mae: 1.6017 - lr: 0.0010\n",
      "Epoch 498/1000\n",
      "14/14 [==============================] - 0s 6ms/step - loss: 4.2441 - mae: 1.4497 - val_loss: 5.7411 - val_mae: 1.6128 - lr: 0.0010\n",
      "Epoch 499/1000\n",
      "14/14 [==============================] - 0s 5ms/step - loss: 4.2830 - mae: 1.4513 - val_loss: 5.7860 - val_mae: 1.8048 - lr: 0.0010\n",
      "Epoch 500/1000\n",
      "14/14 [==============================] - 0s 6ms/step - loss: 4.2516 - mae: 1.4624 - val_loss: 5.9033 - val_mae: 1.8252 - lr: 0.0010\n",
      "Epoch 501/1000\n",
      "14/14 [==============================] - 0s 6ms/step - loss: 4.2955 - mae: 1.4869 - val_loss: 6.2597 - val_mae: 1.6826 - lr: 0.0010\n",
      "Epoch 502/1000\n",
      "14/14 [==============================] - 0s 7ms/step - loss: 4.3723 - mae: 1.4558 - val_loss: 5.9813 - val_mae: 1.8329 - lr: 0.0010\n",
      "Epoch 503/1000\n",
      "14/14 [==============================] - 0s 4ms/step - loss: 4.2991 - mae: 1.4750 - val_loss: 5.5764 - val_mae: 1.6022 - lr: 0.0010\n",
      "Epoch 504/1000\n",
      "14/14 [==============================] - 0s 6ms/step - loss: 4.2903 - mae: 1.4446 - val_loss: 5.7448 - val_mae: 1.6280 - lr: 0.0010\n"
     ]
    },
    {
     "name": "stdout",
     "output_type": "stream",
     "text": [
      "Epoch 505/1000\n",
      "14/14 [==============================] - 0s 5ms/step - loss: 4.3082 - mae: 1.4559 - val_loss: 5.8754 - val_mae: 1.8089 - lr: 0.0010\n",
      "Epoch 506/1000\n",
      "14/14 [==============================] - 0s 4ms/step - loss: 4.3368 - mae: 1.4785 - val_loss: 5.4718 - val_mae: 1.6367 - lr: 0.0010\n",
      "Epoch 507/1000\n",
      "14/14 [==============================] - 0s 4ms/step - loss: 4.2679 - mae: 1.4617 - val_loss: 5.5169 - val_mae: 1.6044 - lr: 0.0010\n",
      "Epoch 508/1000\n",
      "14/14 [==============================] - 0s 4ms/step - loss: 4.2592 - mae: 1.4551 - val_loss: 5.5993 - val_mae: 1.7034 - lr: 0.0010\n",
      "Epoch 509/1000\n",
      "14/14 [==============================] - 0s 5ms/step - loss: 4.2927 - mae: 1.4614 - val_loss: 5.4843 - val_mae: 1.6612 - lr: 0.0010\n",
      "Epoch 510/1000\n",
      "14/14 [==============================] - 0s 4ms/step - loss: 4.2141 - mae: 1.4475 - val_loss: 5.4140 - val_mae: 1.5970 - lr: 0.0010\n",
      "Epoch 511/1000\n",
      "14/14 [==============================] - 0s 5ms/step - loss: 4.3382 - mae: 1.4602 - val_loss: 5.4546 - val_mae: 1.6406 - lr: 0.0010\n",
      "Epoch 512/1000\n",
      "14/14 [==============================] - 0s 5ms/step - loss: 4.2825 - mae: 1.4490 - val_loss: 5.5073 - val_mae: 1.6121 - lr: 0.0010\n",
      "Epoch 513/1000\n",
      "14/14 [==============================] - 0s 5ms/step - loss: 4.2504 - mae: 1.4460 - val_loss: 5.6545 - val_mae: 1.5979 - lr: 0.0010\n",
      "Epoch 514/1000\n",
      "14/14 [==============================] - 0s 4ms/step - loss: 4.3739 - mae: 1.4702 - val_loss: 6.0277 - val_mae: 1.6501 - lr: 0.0010\n",
      "Epoch 515/1000\n",
      "14/14 [==============================] - 0s 4ms/step - loss: 4.2852 - mae: 1.4343 - val_loss: 5.5016 - val_mae: 1.5917 - lr: 0.0010\n",
      "Epoch 516/1000\n",
      "14/14 [==============================] - 0s 4ms/step - loss: 4.2715 - mae: 1.4473 - val_loss: 5.4872 - val_mae: 1.5911 - lr: 0.0010\n",
      "Epoch 517/1000\n",
      "14/14 [==============================] - 0s 3ms/step - loss: 4.2631 - mae: 1.4485 - val_loss: 5.5201 - val_mae: 1.7007 - lr: 0.0010\n",
      "Epoch 518/1000\n",
      "14/14 [==============================] - 0s 4ms/step - loss: 4.2103 - mae: 1.4541 - val_loss: 5.3775 - val_mae: 1.6057 - lr: 0.0010\n",
      "Epoch 519/1000\n",
      "14/14 [==============================] - 0s 3ms/step - loss: 4.3159 - mae: 1.4549 - val_loss: 5.4120 - val_mae: 1.6074 - lr: 0.0010\n",
      "Epoch 520/1000\n",
      "14/14 [==============================] - 0s 3ms/step - loss: 4.2357 - mae: 1.4477 - val_loss: 5.9226 - val_mae: 1.6456 - lr: 0.0010\n",
      "Epoch 521/1000\n",
      "14/14 [==============================] - 0s 4ms/step - loss: 4.3513 - mae: 1.4460 - val_loss: 5.5638 - val_mae: 1.5931 - lr: 0.0010\n",
      "Epoch 522/1000\n",
      "14/14 [==============================] - 0s 7ms/step - loss: 4.2488 - mae: 1.4329 - val_loss: 5.4705 - val_mae: 1.6782 - lr: 0.0010\n",
      "Epoch 523/1000\n",
      "14/14 [==============================] - 0s 9ms/step - loss: 4.2262 - mae: 1.4479 - val_loss: 5.4719 - val_mae: 1.6183 - lr: 0.0010\n",
      "Epoch 524/1000\n",
      "14/14 [==============================] - 0s 6ms/step - loss: 4.2200 - mae: 1.4348 - val_loss: 5.5218 - val_mae: 1.6719 - lr: 0.0010\n",
      "Epoch 525/1000\n",
      "14/14 [==============================] - 0s 4ms/step - loss: 4.2561 - mae: 1.4477 - val_loss: 5.4765 - val_mae: 1.5937 - lr: 0.0010\n",
      "Epoch 526/1000\n",
      "14/14 [==============================] - 0s 4ms/step - loss: 4.3184 - mae: 1.4423 - val_loss: 5.5115 - val_mae: 1.6037 - lr: 0.0010\n",
      "Epoch 527/1000\n",
      "14/14 [==============================] - 0s 4ms/step - loss: 4.2585 - mae: 1.4502 - val_loss: 5.5950 - val_mae: 1.6803 - lr: 0.0010\n",
      "Epoch 528/1000\n",
      "14/14 [==============================] - 0s 4ms/step - loss: 4.2614 - mae: 1.4719 - val_loss: 5.5350 - val_mae: 1.6574 - lr: 0.0010\n",
      "Epoch 529/1000\n",
      "14/14 [==============================] - 0s 3ms/step - loss: 4.2765 - mae: 1.4604 - val_loss: 5.6717 - val_mae: 1.6060 - lr: 0.0010\n",
      "Epoch 530/1000\n",
      "14/14 [==============================] - 0s 5ms/step - loss: 4.2707 - mae: 1.4385 - val_loss: 5.4370 - val_mae: 1.6107 - lr: 0.0010\n",
      "Epoch 531/1000\n",
      "14/14 [==============================] - 0s 4ms/step - loss: 4.2922 - mae: 1.4494 - val_loss: 5.7416 - val_mae: 1.6093 - lr: 0.0010\n",
      "Epoch 532/1000\n",
      "14/14 [==============================] - 0s 6ms/step - loss: 4.2940 - mae: 1.4410 - val_loss: 5.8136 - val_mae: 1.6123 - lr: 0.0010\n",
      "Epoch 533/1000\n",
      "14/14 [==============================] - 0s 3ms/step - loss: 4.2837 - mae: 1.4342 - val_loss: 5.4110 - val_mae: 1.6303 - lr: 0.0010\n",
      "Epoch 534/1000\n",
      "14/14 [==============================] - 0s 3ms/step - loss: 4.2442 - mae: 1.4371 - val_loss: 5.4338 - val_mae: 1.6083 - lr: 0.0010\n",
      "Epoch 535/1000\n",
      "14/14 [==============================] - 0s 3ms/step - loss: 4.2649 - mae: 1.4448 - val_loss: 5.5230 - val_mae: 1.6766 - lr: 0.0010\n",
      "Epoch 536/1000\n",
      "14/14 [==============================] - 0s 4ms/step - loss: 4.2890 - mae: 1.4594 - val_loss: 5.5038 - val_mae: 1.6081 - lr: 0.0010\n",
      "Epoch 537/1000\n",
      "14/14 [==============================] - 0s 3ms/step - loss: 4.2598 - mae: 1.4474 - val_loss: 5.6659 - val_mae: 1.6045 - lr: 0.0010\n",
      "Epoch 538/1000\n",
      "14/14 [==============================] - 0s 3ms/step - loss: 4.3346 - mae: 1.4693 - val_loss: 5.4598 - val_mae: 1.6647 - lr: 0.0010\n",
      "Epoch 539/1000\n",
      "14/14 [==============================] - 0s 3ms/step - loss: 4.2463 - mae: 1.4515 - val_loss: 5.9347 - val_mae: 1.6296 - lr: 0.0010\n",
      "Epoch 540/1000\n",
      "14/14 [==============================] - 0s 4ms/step - loss: 4.2741 - mae: 1.4363 - val_loss: 5.4175 - val_mae: 1.6457 - lr: 0.0010\n",
      "Epoch 541/1000\n",
      "14/14 [==============================] - 0s 3ms/step - loss: 4.2324 - mae: 1.4397 - val_loss: 5.8252 - val_mae: 1.6220 - lr: 0.0010\n",
      "Epoch 542/1000\n",
      "14/14 [==============================] - 0s 3ms/step - loss: 4.2663 - mae: 1.4444 - val_loss: 6.0436 - val_mae: 1.8536 - lr: 0.0010\n",
      "Epoch 543/1000\n",
      "14/14 [==============================] - 0s 3ms/step - loss: 4.2236 - mae: 1.4651 - val_loss: 5.4018 - val_mae: 1.6524 - lr: 0.0010\n",
      "Epoch 544/1000\n",
      "14/14 [==============================] - 0s 4ms/step - loss: 4.3291 - mae: 1.4666 - val_loss: 5.5981 - val_mae: 1.5927 - lr: 0.0010\n",
      "Epoch 545/1000\n",
      "14/14 [==============================] - 0s 3ms/step - loss: 4.2699 - mae: 1.4464 - val_loss: 5.5600 - val_mae: 1.6992 - lr: 0.0010\n",
      "Epoch 546/1000\n",
      "14/14 [==============================] - 0s 3ms/step - loss: 4.2013 - mae: 1.4573 - val_loss: 6.0565 - val_mae: 1.6396 - lr: 0.0010\n",
      "Epoch 547/1000\n",
      "14/14 [==============================] - 0s 3ms/step - loss: 4.2967 - mae: 1.4471 - val_loss: 6.2225 - val_mae: 1.6753 - lr: 0.0010\n",
      "Epoch 548/1000\n",
      "14/14 [==============================] - 0s 3ms/step - loss: 4.2508 - mae: 1.4511 - val_loss: 6.0970 - val_mae: 1.8745 - lr: 0.0010\n",
      "Epoch 549/1000\n",
      "14/14 [==============================] - 0s 4ms/step - loss: 4.2880 - mae: 1.4690 - val_loss: 5.6027 - val_mae: 1.5940 - lr: 0.0010\n",
      "Epoch 550/1000\n",
      "14/14 [==============================] - 0s 4ms/step - loss: 4.3120 - mae: 1.4380 - val_loss: 5.5944 - val_mae: 1.5985 - lr: 0.0010\n",
      "Epoch 551/1000\n",
      "14/14 [==============================] - 0s 3ms/step - loss: 4.2877 - mae: 1.4512 - val_loss: 5.4198 - val_mae: 1.6247 - lr: 0.0010\n",
      "Epoch 552/1000\n",
      "14/14 [==============================] - 0s 4ms/step - loss: 4.2415 - mae: 1.4494 - val_loss: 5.5090 - val_mae: 1.6211 - lr: 0.0010\n",
      "Epoch 553/1000\n",
      "14/14 [==============================] - 0s 3ms/step - loss: 4.2069 - mae: 1.4472 - val_loss: 5.9931 - val_mae: 1.6345 - lr: 0.0010\n",
      "Epoch 554/1000\n",
      "14/14 [==============================] - 0s 6ms/step - loss: 4.2760 - mae: 1.4395 - val_loss: 5.6258 - val_mae: 1.7150 - lr: 0.0010\n",
      "Epoch 555/1000\n",
      "14/14 [==============================] - 0s 4ms/step - loss: 4.3160 - mae: 1.4551 - val_loss: 6.3341 - val_mae: 1.9425 - lr: 0.0010\n",
      "Epoch 556/1000\n",
      "14/14 [==============================] - 0s 4ms/step - loss: 4.2266 - mae: 1.4739 - val_loss: 5.4530 - val_mae: 1.5861 - lr: 0.0010\n",
      "Epoch 557/1000\n",
      "14/14 [==============================] - 0s 3ms/step - loss: 4.2300 - mae: 1.4414 - val_loss: 6.0476 - val_mae: 1.6634 - lr: 0.0010\n",
      "Epoch 558/1000\n",
      "14/14 [==============================] - 0s 4ms/step - loss: 4.3200 - mae: 1.4454 - val_loss: 5.4894 - val_mae: 1.6377 - lr: 0.0010\n",
      "Epoch 559/1000\n",
      "14/14 [==============================] - 0s 4ms/step - loss: 4.2214 - mae: 1.4498 - val_loss: 5.6931 - val_mae: 1.6057 - lr: 0.0010\n",
      "Epoch 560/1000\n",
      "14/14 [==============================] - 0s 3ms/step - loss: 4.2178 - mae: 1.4462 - val_loss: 5.7773 - val_mae: 1.6212 - lr: 0.0010\n"
     ]
    },
    {
     "name": "stdout",
     "output_type": "stream",
     "text": [
      "Epoch 561/1000\n",
      "14/14 [==============================] - 0s 4ms/step - loss: 4.2486 - mae: 1.4365 - val_loss: 5.6412 - val_mae: 1.7537 - lr: 0.0010\n",
      "Epoch 562/1000\n",
      "14/14 [==============================] - 0s 4ms/step - loss: 4.2461 - mae: 1.4598 - val_loss: 5.4687 - val_mae: 1.6557 - lr: 0.0010\n",
      "Epoch 563/1000\n",
      "14/14 [==============================] - 0s 3ms/step - loss: 4.2348 - mae: 1.4456 - val_loss: 5.7842 - val_mae: 1.6250 - lr: 0.0010\n",
      "Epoch 564/1000\n",
      "14/14 [==============================] - 0s 3ms/step - loss: 4.2976 - mae: 1.4512 - val_loss: 5.4672 - val_mae: 1.6558 - lr: 0.0010\n",
      "Epoch 565/1000\n",
      "14/14 [==============================] - 0s 3ms/step - loss: 4.2285 - mae: 1.4322 - val_loss: 5.7099 - val_mae: 1.7294 - lr: 0.0010\n",
      "Epoch 566/1000\n",
      "14/14 [==============================] - 0s 3ms/step - loss: 4.2758 - mae: 1.4638 - val_loss: 6.0210 - val_mae: 1.8423 - lr: 0.0010\n",
      "Epoch 567/1000\n",
      "14/14 [==============================] - 0s 3ms/step - loss: 4.3983 - mae: 1.4948 - val_loss: 5.6006 - val_mae: 1.7074 - lr: 0.0010\n",
      "Epoch 568/1000\n",
      "14/14 [==============================] - 0s 3ms/step - loss: 4.2622 - mae: 1.4646 - val_loss: 5.4274 - val_mae: 1.6402 - lr: 0.0010\n",
      "Epoch 569/1000\n",
      "14/14 [==============================] - 0s 4ms/step - loss: 4.2887 - mae: 1.4436 - val_loss: 5.6381 - val_mae: 1.7178 - lr: 0.0010\n",
      "Epoch 570/1000\n",
      "14/14 [==============================] - 0s 5ms/step - loss: 4.2669 - mae: 1.4607 - val_loss: 5.4656 - val_mae: 1.6601 - lr: 0.0010\n",
      "Epoch 571/1000\n",
      "14/14 [==============================] - 0s 5ms/step - loss: 4.2252 - mae: 1.4466 - val_loss: 5.7010 - val_mae: 1.6175 - lr: 0.0010\n",
      "Epoch 572/1000\n",
      "14/14 [==============================] - 0s 4ms/step - loss: 4.2702 - mae: 1.4423 - val_loss: 5.4679 - val_mae: 1.5952 - lr: 0.0010\n",
      "Epoch 573/1000\n",
      "14/14 [==============================] - 0s 3ms/step - loss: 4.2788 - mae: 1.4514 - val_loss: 5.7140 - val_mae: 1.7785 - lr: 0.0010\n",
      "Epoch 574/1000\n",
      "14/14 [==============================] - 0s 4ms/step - loss: 4.2114 - mae: 1.4423 - val_loss: 5.3791 - val_mae: 1.6060 - lr: 0.0010\n",
      "Epoch 575/1000\n",
      "14/14 [==============================] - 0s 4ms/step - loss: 4.2116 - mae: 1.4405 - val_loss: 5.4403 - val_mae: 1.5965 - lr: 0.0010\n",
      "Epoch 576/1000\n",
      "14/14 [==============================] - 0s 4ms/step - loss: 4.2515 - mae: 1.4556 - val_loss: 5.6079 - val_mae: 1.7119 - lr: 0.0010\n",
      "Epoch 577/1000\n",
      "14/14 [==============================] - 0s 4ms/step - loss: 4.2583 - mae: 1.4456 - val_loss: 5.4185 - val_mae: 1.5855 - lr: 0.0010\n",
      "Epoch 578/1000\n",
      "14/14 [==============================] - 0s 9ms/step - loss: 4.2018 - mae: 1.4395 - val_loss: 5.6269 - val_mae: 1.5917 - lr: 0.0010\n",
      "Epoch 579/1000\n",
      "14/14 [==============================] - 0s 5ms/step - loss: 4.2627 - mae: 1.4563 - val_loss: 5.4215 - val_mae: 1.5874 - lr: 0.0010\n",
      "Epoch 580/1000\n",
      "14/14 [==============================] - 0s 3ms/step - loss: 4.2803 - mae: 1.4488 - val_loss: 5.4428 - val_mae: 1.5936 - lr: 0.0010\n",
      "Epoch 581/1000\n",
      "14/14 [==============================] - 0s 3ms/step - loss: 4.2271 - mae: 1.4403 - val_loss: 5.4256 - val_mae: 1.5972 - lr: 0.0010\n",
      "Epoch 582/1000\n",
      "14/14 [==============================] - 0s 3ms/step - loss: 4.2178 - mae: 1.4401 - val_loss: 5.7160 - val_mae: 1.6090 - lr: 0.0010\n",
      "Epoch 583/1000\n",
      "14/14 [==============================] - 0s 4ms/step - loss: 4.2957 - mae: 1.4470 - val_loss: 5.3760 - val_mae: 1.6258 - lr: 0.0010\n",
      "Epoch 584/1000\n",
      "14/14 [==============================] - 0s 3ms/step - loss: 4.2609 - mae: 1.4460 - val_loss: 5.5222 - val_mae: 1.6058 - lr: 0.0010\n",
      "Epoch 585/1000\n",
      "14/14 [==============================] - 0s 4ms/step - loss: 4.2490 - mae: 1.4461 - val_loss: 5.6826 - val_mae: 1.6103 - lr: 0.0010\n",
      "Epoch 586/1000\n",
      "14/14 [==============================] - 0s 4ms/step - loss: 4.2385 - mae: 1.4276 - val_loss: 5.5268 - val_mae: 1.5950 - lr: 0.0010\n",
      "Epoch 587/1000\n",
      "14/14 [==============================] - 0s 3ms/step - loss: 4.2212 - mae: 1.4390 - val_loss: 5.9003 - val_mae: 1.6325 - lr: 0.0010\n",
      "Epoch 588/1000\n",
      "14/14 [==============================] - 0s 3ms/step - loss: 4.2897 - mae: 1.4490 - val_loss: 5.3469 - val_mae: 1.6127 - lr: 0.0010\n",
      "Epoch 589/1000\n",
      "14/14 [==============================] - 0s 3ms/step - loss: 4.2132 - mae: 1.4318 - val_loss: 5.4289 - val_mae: 1.6329 - lr: 0.0010\n",
      "Epoch 590/1000\n",
      "14/14 [==============================] - 0s 3ms/step - loss: 4.2273 - mae: 1.4378 - val_loss: 5.6005 - val_mae: 1.5969 - lr: 0.0010\n",
      "Epoch 591/1000\n",
      "14/14 [==============================] - 0s 4ms/step - loss: 4.2667 - mae: 1.4432 - val_loss: 5.6706 - val_mae: 1.5902 - lr: 0.0010\n",
      "Epoch 592/1000\n",
      "14/14 [==============================] - 0s 3ms/step - loss: 4.2932 - mae: 1.4424 - val_loss: 5.3846 - val_mae: 1.6368 - lr: 0.0010\n",
      "Epoch 593/1000\n",
      "14/14 [==============================] - 0s 3ms/step - loss: 4.1807 - mae: 1.4423 - val_loss: 6.3263 - val_mae: 1.6850 - lr: 0.0010\n",
      "Epoch 594/1000\n",
      "14/14 [==============================] - 0s 3ms/step - loss: 4.3619 - mae: 1.4552 - val_loss: 5.7802 - val_mae: 1.6194 - lr: 0.0010\n",
      "Epoch 595/1000\n",
      "14/14 [==============================] - 0s 7ms/step - loss: 4.1792 - mae: 1.4260 - val_loss: 5.4203 - val_mae: 1.6476 - lr: 0.0010\n",
      "Epoch 596/1000\n",
      "14/14 [==============================] - 0s 4ms/step - loss: 4.3287 - mae: 1.4579 - val_loss: 5.5164 - val_mae: 1.6873 - lr: 0.0010\n",
      "Epoch 597/1000\n",
      "14/14 [==============================] - 0s 4ms/step - loss: 4.2736 - mae: 1.4590 - val_loss: 5.3814 - val_mae: 1.6063 - lr: 0.0010\n",
      "Epoch 598/1000\n",
      "14/14 [==============================] - 0s 5ms/step - loss: 4.1604 - mae: 1.4211 - val_loss: 5.3722 - val_mae: 1.6469 - lr: 0.0010\n",
      "Epoch 599/1000\n",
      "14/14 [==============================] - 0s 4ms/step - loss: 4.2886 - mae: 1.4567 - val_loss: 5.6064 - val_mae: 1.6027 - lr: 0.0010\n",
      "Epoch 600/1000\n",
      "14/14 [==============================] - 0s 4ms/step - loss: 4.2147 - mae: 1.4296 - val_loss: 5.3656 - val_mae: 1.5977 - lr: 0.0010\n",
      "Epoch 601/1000\n",
      "14/14 [==============================] - 0s 7ms/step - loss: 4.2552 - mae: 1.4537 - val_loss: 5.8010 - val_mae: 1.7908 - lr: 0.0010\n",
      "Epoch 602/1000\n",
      "14/14 [==============================] - 0s 4ms/step - loss: 4.2296 - mae: 1.4593 - val_loss: 5.6152 - val_mae: 1.7248 - lr: 0.0010\n",
      "Epoch 603/1000\n",
      "14/14 [==============================] - 0s 4ms/step - loss: 4.2330 - mae: 1.4523 - val_loss: 5.4345 - val_mae: 1.5915 - lr: 0.0010\n",
      "Epoch 604/1000\n",
      "14/14 [==============================] - 0s 4ms/step - loss: 4.2637 - mae: 1.4427 - val_loss: 5.5238 - val_mae: 1.6019 - lr: 0.0010\n",
      "Epoch 605/1000\n",
      "14/14 [==============================] - 0s 4ms/step - loss: 4.2362 - mae: 1.4372 - val_loss: 5.5878 - val_mae: 1.6019 - lr: 0.0010\n",
      "Epoch 606/1000\n",
      "14/14 [==============================] - 0s 6ms/step - loss: 4.2167 - mae: 1.4282 - val_loss: 5.4198 - val_mae: 1.5983 - lr: 0.0010\n",
      "Epoch 607/1000\n",
      "14/14 [==============================] - 0s 4ms/step - loss: 4.2812 - mae: 1.4439 - val_loss: 5.4164 - val_mae: 1.5910 - lr: 0.0010\n",
      "Epoch 608/1000\n",
      "14/14 [==============================] - 0s 3ms/step - loss: 4.2447 - mae: 1.4433 - val_loss: 5.5019 - val_mae: 1.6907 - lr: 0.0010\n",
      "Epoch 609/1000\n",
      "14/14 [==============================] - 0s 4ms/step - loss: 4.2439 - mae: 1.4453 - val_loss: 5.5489 - val_mae: 1.5833 - lr: 0.0010\n",
      "Epoch 610/1000\n",
      "14/14 [==============================] - 0s 3ms/step - loss: 4.2258 - mae: 1.4353 - val_loss: 5.5192 - val_mae: 1.6002 - lr: 0.0010\n",
      "Epoch 611/1000\n",
      "14/14 [==============================] - 0s 3ms/step - loss: 4.2511 - mae: 1.4376 - val_loss: 5.7234 - val_mae: 1.6129 - lr: 0.0010\n",
      "Epoch 612/1000\n",
      "14/14 [==============================] - 0s 3ms/step - loss: 4.2633 - mae: 1.4430 - val_loss: 5.4296 - val_mae: 1.6295 - lr: 0.0010\n",
      "Epoch 613/1000\n",
      "14/14 [==============================] - 0s 4ms/step - loss: 4.2216 - mae: 1.4425 - val_loss: 5.3378 - val_mae: 1.6189 - lr: 0.0010\n",
      "Epoch 614/1000\n",
      "14/14 [==============================] - 0s 3ms/step - loss: 4.2907 - mae: 1.4617 - val_loss: 5.7900 - val_mae: 1.6253 - lr: 0.0010\n",
      "Epoch 615/1000\n",
      "14/14 [==============================] - 0s 3ms/step - loss: 4.2778 - mae: 1.4418 - val_loss: 5.3570 - val_mae: 1.6139 - lr: 0.0010\n",
      "Epoch 616/1000\n",
      "14/14 [==============================] - 0s 3ms/step - loss: 4.2043 - mae: 1.4305 - val_loss: 5.4976 - val_mae: 1.6282 - lr: 0.0010\n"
     ]
    },
    {
     "name": "stdout",
     "output_type": "stream",
     "text": [
      "Epoch 617/1000\n",
      "14/14 [==============================] - 0s 4ms/step - loss: 4.2200 - mae: 1.4395 - val_loss: 5.8788 - val_mae: 1.6259 - lr: 0.0010\n",
      "Epoch 618/1000\n",
      "14/14 [==============================] - 0s 5ms/step - loss: 4.2932 - mae: 1.4422 - val_loss: 5.4927 - val_mae: 1.6081 - lr: 0.0010\n",
      "Epoch 619/1000\n",
      "14/14 [==============================] - 0s 4ms/step - loss: 4.2903 - mae: 1.4624 - val_loss: 5.5655 - val_mae: 1.6227 - lr: 0.0010\n",
      "Epoch 620/1000\n",
      "14/14 [==============================] - 0s 3ms/step - loss: 4.2115 - mae: 1.4420 - val_loss: 5.4908 - val_mae: 1.6993 - lr: 0.0010\n",
      "Epoch 621/1000\n",
      "14/14 [==============================] - 0s 3ms/step - loss: 4.2905 - mae: 1.4683 - val_loss: 5.5182 - val_mae: 1.5824 - lr: 0.0010\n",
      "Epoch 622/1000\n",
      "14/14 [==============================] - 0s 3ms/step - loss: 4.3129 - mae: 1.4461 - val_loss: 5.3846 - val_mae: 1.6144 - lr: 0.0010\n",
      "Epoch 623/1000\n",
      "14/14 [==============================] - 0s 4ms/step - loss: 4.2365 - mae: 1.4314 - val_loss: 5.6810 - val_mae: 1.7497 - lr: 0.0010\n",
      "Epoch 624/1000\n",
      "14/14 [==============================] - 0s 3ms/step - loss: 4.2329 - mae: 1.4533 - val_loss: 5.6803 - val_mae: 1.6096 - lr: 0.0010\n",
      "Epoch 625/1000\n",
      "14/14 [==============================] - 0s 3ms/step - loss: 4.2215 - mae: 1.4265 - val_loss: 6.1169 - val_mae: 1.8497 - lr: 0.0010\n",
      "Epoch 626/1000\n",
      "14/14 [==============================] - 0s 3ms/step - loss: 4.3198 - mae: 1.4675 - val_loss: 5.3745 - val_mae: 1.5878 - lr: 0.0010\n",
      "Epoch 627/1000\n",
      "14/14 [==============================] - 0s 4ms/step - loss: 4.1930 - mae: 1.4246 - val_loss: 6.7731 - val_mae: 2.0299 - lr: 0.0010\n",
      "Epoch 628/1000\n",
      "14/14 [==============================] - 0s 3ms/step - loss: 4.3556 - mae: 1.4921 - val_loss: 5.4647 - val_mae: 1.6344 - lr: 0.0010\n",
      "Epoch 629/1000\n",
      "14/14 [==============================] - 0s 3ms/step - loss: 4.2412 - mae: 1.4413 - val_loss: 5.4184 - val_mae: 1.5931 - lr: 0.0010\n",
      "Epoch 630/1000\n",
      "14/14 [==============================] - 0s 3ms/step - loss: 4.2076 - mae: 1.4344 - val_loss: 5.7585 - val_mae: 1.7593 - lr: 0.0010\n",
      "Epoch 631/1000\n",
      "14/14 [==============================] - 0s 3ms/step - loss: 4.1953 - mae: 1.4452 - val_loss: 5.4242 - val_mae: 1.5858 - lr: 0.0010\n",
      "Epoch 632/1000\n",
      "14/14 [==============================] - 0s 3ms/step - loss: 4.2162 - mae: 1.4315 - val_loss: 5.5322 - val_mae: 1.6598 - lr: 0.0010\n",
      "Epoch 633/1000\n",
      "14/14 [==============================] - 0s 3ms/step - loss: 4.3074 - mae: 1.4578 - val_loss: 5.4775 - val_mae: 1.6877 - lr: 0.0010\n",
      "Epoch 634/1000\n",
      "14/14 [==============================] - 0s 3ms/step - loss: 4.2303 - mae: 1.4447 - val_loss: 5.4870 - val_mae: 1.5990 - lr: 0.0010\n",
      "Epoch 635/1000\n",
      "14/14 [==============================] - 0s 3ms/step - loss: 4.2954 - mae: 1.4454 - val_loss: 5.8941 - val_mae: 1.6291 - lr: 0.0010\n",
      "Epoch 636/1000\n",
      "14/14 [==============================] - 0s 3ms/step - loss: 4.2848 - mae: 1.4285 - val_loss: 5.7024 - val_mae: 1.6184 - lr: 0.0010\n",
      "Epoch 637/1000\n",
      "14/14 [==============================] - 0s 3ms/step - loss: 4.2336 - mae: 1.4338 - val_loss: 5.6467 - val_mae: 1.5994 - lr: 0.0010\n",
      "Epoch 638/1000\n",
      "14/14 [==============================] - 0s 3ms/step - loss: 4.2042 - mae: 1.4385 - val_loss: 6.7546 - val_mae: 2.0362 - lr: 0.0010\n",
      "Epoch 639/1000\n",
      "14/14 [==============================] - 0s 3ms/step - loss: 4.3692 - mae: 1.4900 - val_loss: 5.8951 - val_mae: 1.7931 - lr: 0.0010\n",
      "Epoch 640/1000\n",
      "14/14 [==============================] - 0s 3ms/step - loss: 4.2922 - mae: 1.4740 - val_loss: 5.6557 - val_mae: 1.7123 - lr: 0.0010\n",
      "Epoch 641/1000\n",
      "14/14 [==============================] - 0s 3ms/step - loss: 4.2712 - mae: 1.4561 - val_loss: 5.6507 - val_mae: 1.6056 - lr: 0.0010\n",
      "Epoch 642/1000\n",
      "14/14 [==============================] - 0s 3ms/step - loss: 4.1951 - mae: 1.4333 - val_loss: 5.5040 - val_mae: 1.6688 - lr: 0.0010\n",
      "Epoch 643/1000\n",
      "14/14 [==============================] - 0s 3ms/step - loss: 4.2045 - mae: 1.4346 - val_loss: 5.4512 - val_mae: 1.6738 - lr: 0.0010\n",
      "Epoch 644/1000\n",
      "14/14 [==============================] - 0s 3ms/step - loss: 4.2310 - mae: 1.4357 - val_loss: 5.4266 - val_mae: 1.6067 - lr: 0.0010\n",
      "Epoch 645/1000\n",
      "14/14 [==============================] - 0s 3ms/step - loss: 4.2386 - mae: 1.4451 - val_loss: 5.4828 - val_mae: 1.5888 - lr: 0.0010\n",
      "Epoch 646/1000\n",
      "14/14 [==============================] - 0s 3ms/step - loss: 4.2111 - mae: 1.4248 - val_loss: 5.4027 - val_mae: 1.6169 - lr: 0.0010\n",
      "Epoch 647/1000\n",
      "14/14 [==============================] - 0s 3ms/step - loss: 4.2626 - mae: 1.4471 - val_loss: 5.4266 - val_mae: 1.6628 - lr: 0.0010\n",
      "Epoch 648/1000\n",
      "14/14 [==============================] - 0s 3ms/step - loss: 4.3011 - mae: 1.4616 - val_loss: 5.7398 - val_mae: 1.7649 - lr: 0.0010\n",
      "Epoch 649/1000\n",
      "14/14 [==============================] - 0s 3ms/step - loss: 4.2391 - mae: 1.4493 - val_loss: 5.6106 - val_mae: 1.7149 - lr: 0.0010\n",
      "Epoch 650/1000\n",
      "14/14 [==============================] - 0s 3ms/step - loss: 4.2149 - mae: 1.4456 - val_loss: 5.5815 - val_mae: 1.7034 - lr: 0.0010\n",
      "Epoch 651/1000\n",
      "14/14 [==============================] - 0s 3ms/step - loss: 4.2545 - mae: 1.4483 - val_loss: 5.3498 - val_mae: 1.6076 - lr: 0.0010\n",
      "Epoch 652/1000\n",
      "14/14 [==============================] - 0s 3ms/step - loss: 4.2375 - mae: 1.4328 - val_loss: 5.5706 - val_mae: 1.6495 - lr: 0.0010\n",
      "Epoch 653/1000\n",
      "14/14 [==============================] - 0s 3ms/step - loss: 4.2754 - mae: 1.4536 - val_loss: 5.4408 - val_mae: 1.6480 - lr: 0.0010\n",
      "Epoch 654/1000\n",
      "14/14 [==============================] - 0s 6ms/step - loss: 4.2497 - mae: 1.4566 - val_loss: 5.3945 - val_mae: 1.6357 - lr: 0.0010\n",
      "Epoch 655/1000\n",
      "14/14 [==============================] - 0s 4ms/step - loss: 4.2225 - mae: 1.4412 - val_loss: 5.4753 - val_mae: 1.5831 - lr: 0.0010\n",
      "Epoch 656/1000\n",
      "14/14 [==============================] - 0s 4ms/step - loss: 4.2362 - mae: 1.4404 - val_loss: 5.9659 - val_mae: 1.6423 - lr: 0.0010\n",
      "Epoch 657/1000\n",
      "14/14 [==============================] - 0s 4ms/step - loss: 4.2191 - mae: 1.4385 - val_loss: 5.5065 - val_mae: 1.5876 - lr: 0.0010\n",
      "Epoch 658/1000\n",
      "14/14 [==============================] - 0s 3ms/step - loss: 4.2491 - mae: 1.4361 - val_loss: 5.7391 - val_mae: 1.6172 - lr: 0.0010\n",
      "Epoch 659/1000\n",
      "14/14 [==============================] - 0s 3ms/step - loss: 4.2182 - mae: 1.4337 - val_loss: 5.9912 - val_mae: 1.6450 - lr: 0.0010\n",
      "Epoch 660/1000\n",
      "14/14 [==============================] - 0s 3ms/step - loss: 4.2485 - mae: 1.4391 - val_loss: 5.9237 - val_mae: 1.6347 - lr: 0.0010\n",
      "Epoch 661/1000\n",
      "14/14 [==============================] - 0s 5ms/step - loss: 4.2258 - mae: 1.4203 - val_loss: 5.3737 - val_mae: 1.5989 - lr: 0.0010\n",
      "Epoch 662/1000\n",
      "14/14 [==============================] - 0s 3ms/step - loss: 4.2088 - mae: 1.4421 - val_loss: 5.6683 - val_mae: 1.6037 - lr: 0.0010\n",
      "Epoch 663/1000\n",
      "14/14 [==============================] - 0s 4ms/step - loss: 4.2371 - mae: 1.4233 - val_loss: 5.5328 - val_mae: 1.7003 - lr: 0.0010\n",
      "Epoch 664/1000\n",
      "14/14 [==============================] - 0s 4ms/step - loss: 4.2882 - mae: 1.4430 - val_loss: 5.4118 - val_mae: 1.6391 - lr: 0.0010\n",
      "Epoch 665/1000\n",
      "14/14 [==============================] - 0s 3ms/step - loss: 4.2175 - mae: 1.4411 - val_loss: 6.1952 - val_mae: 1.8921 - lr: 0.0010\n",
      "Epoch 666/1000\n",
      "14/14 [==============================] - 0s 3ms/step - loss: 4.2749 - mae: 1.4635 - val_loss: 5.4966 - val_mae: 1.6404 - lr: 0.0010\n",
      "Epoch 667/1000\n",
      "14/14 [==============================] - 0s 3ms/step - loss: 4.1742 - mae: 1.4316 - val_loss: 5.7678 - val_mae: 1.7902 - lr: 0.0010\n",
      "Epoch 668/1000\n",
      "14/14 [==============================] - 0s 3ms/step - loss: 4.2561 - mae: 1.4525 - val_loss: 5.5274 - val_mae: 1.6949 - lr: 0.0010\n",
      "Epoch 669/1000\n",
      "14/14 [==============================] - 0s 3ms/step - loss: 4.2178 - mae: 1.4469 - val_loss: 6.1837 - val_mae: 1.6814 - lr: 0.0010\n",
      "Epoch 670/1000\n",
      "14/14 [==============================] - 0s 3ms/step - loss: 4.2518 - mae: 1.4385 - val_loss: 6.7630 - val_mae: 1.7736 - lr: 0.0010\n",
      "Epoch 671/1000\n",
      "14/14 [==============================] - 0s 3ms/step - loss: 4.3095 - mae: 1.4517 - val_loss: 5.5421 - val_mae: 1.6974 - lr: 0.0010\n",
      "Epoch 672/1000\n",
      "14/14 [==============================] - 0s 4ms/step - loss: 4.1634 - mae: 1.4405 - val_loss: 5.4170 - val_mae: 1.6030 - lr: 0.0010\n"
     ]
    },
    {
     "name": "stdout",
     "output_type": "stream",
     "text": [
      "Epoch 673/1000\n",
      "14/14 [==============================] - 0s 5ms/step - loss: 4.2645 - mae: 1.4378 - val_loss: 5.5901 - val_mae: 1.5938 - lr: 0.0010\n",
      "Epoch 674/1000\n",
      "14/14 [==============================] - 0s 5ms/step - loss: 4.1579 - mae: 1.4199 - val_loss: 5.4904 - val_mae: 1.6053 - lr: 0.0010\n",
      "Epoch 675/1000\n",
      "14/14 [==============================] - 0s 4ms/step - loss: 4.2229 - mae: 1.4293 - val_loss: 5.7758 - val_mae: 1.6189 - lr: 0.0010\n",
      "Epoch 676/1000\n",
      "14/14 [==============================] - 0s 3ms/step - loss: 4.2458 - mae: 1.4335 - val_loss: 5.4107 - val_mae: 1.5920 - lr: 0.0010\n",
      "Epoch 677/1000\n",
      "14/14 [==============================] - 0s 3ms/step - loss: 4.2263 - mae: 1.4341 - val_loss: 5.4448 - val_mae: 1.6201 - lr: 0.0010\n",
      "Epoch 678/1000\n",
      "14/14 [==============================] - 0s 3ms/step - loss: 4.1712 - mae: 1.4306 - val_loss: 5.5360 - val_mae: 1.6018 - lr: 0.0010\n",
      "Epoch 679/1000\n",
      "14/14 [==============================] - 0s 3ms/step - loss: 4.1627 - mae: 1.4320 - val_loss: 5.7128 - val_mae: 1.7447 - lr: 0.0010\n",
      "Epoch 680/1000\n",
      "14/14 [==============================] - 0s 3ms/step - loss: 4.2105 - mae: 1.4598 - val_loss: 6.0043 - val_mae: 1.6385 - lr: 0.0010\n",
      "Epoch 681/1000\n",
      "14/14 [==============================] - 0s 3ms/step - loss: 4.2896 - mae: 1.4438 - val_loss: 5.5152 - val_mae: 1.5958 - lr: 0.0010\n",
      "Epoch 682/1000\n",
      "14/14 [==============================] - 0s 3ms/step - loss: 4.2602 - mae: 1.4399 - val_loss: 5.4605 - val_mae: 1.6433 - lr: 0.0010\n",
      "Epoch 683/1000\n",
      "14/14 [==============================] - 0s 3ms/step - loss: 4.1617 - mae: 1.4375 - val_loss: 5.7372 - val_mae: 1.6110 - lr: 0.0010\n",
      "Epoch 684/1000\n",
      "14/14 [==============================] - 0s 3ms/step - loss: 4.1934 - mae: 1.4298 - val_loss: 5.4946 - val_mae: 1.6362 - lr: 0.0010\n",
      "Epoch 685/1000\n",
      "14/14 [==============================] - 0s 3ms/step - loss: 4.2137 - mae: 1.4441 - val_loss: 5.5251 - val_mae: 1.5950 - lr: 0.0010\n",
      "Epoch 686/1000\n",
      "14/14 [==============================] - 0s 3ms/step - loss: 4.2197 - mae: 1.4379 - val_loss: 5.9591 - val_mae: 1.8417 - lr: 0.0010\n",
      "Epoch 687/1000\n",
      "14/14 [==============================] - 0s 4ms/step - loss: 4.2833 - mae: 1.4681 - val_loss: 5.4171 - val_mae: 1.6040 - lr: 0.0010\n",
      "Epoch 688/1000\n",
      "14/14 [==============================] - 0s 3ms/step - loss: 4.2196 - mae: 1.4386 - val_loss: 5.5775 - val_mae: 1.5983 - lr: 0.0010\n",
      "Epoch 689/1000\n",
      "14/14 [==============================] - 0s 3ms/step - loss: 4.2170 - mae: 1.4242 - val_loss: 6.0718 - val_mae: 1.8667 - lr: 0.0010\n",
      "Epoch 690/1000\n",
      "14/14 [==============================] - 0s 4ms/step - loss: 4.2315 - mae: 1.4550 - val_loss: 5.7849 - val_mae: 1.7754 - lr: 0.0010\n",
      "Epoch 691/1000\n",
      "14/14 [==============================] - 0s 3ms/step - loss: 4.2957 - mae: 1.4567 - val_loss: 5.5209 - val_mae: 1.6079 - lr: 0.0010\n",
      "Epoch 692/1000\n",
      "14/14 [==============================] - 0s 3ms/step - loss: 4.1989 - mae: 1.4320 - val_loss: 5.3867 - val_mae: 1.6075 - lr: 0.0010\n",
      "Epoch 693/1000\n",
      "14/14 [==============================] - 0s 4ms/step - loss: 4.2521 - mae: 1.4497 - val_loss: 5.5195 - val_mae: 1.5869 - lr: 0.0010\n",
      "Epoch 694/1000\n",
      "14/14 [==============================] - 0s 3ms/step - loss: 4.1809 - mae: 1.4254 - val_loss: 5.4078 - val_mae: 1.6231 - lr: 0.0010\n",
      "Epoch 695/1000\n",
      "14/14 [==============================] - 0s 5ms/step - loss: 4.1865 - mae: 1.4181 - val_loss: 5.4635 - val_mae: 1.5952 - lr: 0.0010\n",
      "Epoch 696/1000\n",
      "14/14 [==============================] - 0s 3ms/step - loss: 4.2397 - mae: 1.4396 - val_loss: 5.4140 - val_mae: 1.6414 - lr: 0.0010\n",
      "Epoch 697/1000\n",
      "14/14 [==============================] - 0s 3ms/step - loss: 4.2445 - mae: 1.4388 - val_loss: 5.5631 - val_mae: 1.6778 - lr: 0.0010\n",
      "Epoch 698/1000\n",
      "14/14 [==============================] - 0s 3ms/step - loss: 4.2164 - mae: 1.4276 - val_loss: 6.3032 - val_mae: 1.9410 - lr: 0.0010\n",
      "Epoch 699/1000\n",
      "14/14 [==============================] - 0s 3ms/step - loss: 4.2141 - mae: 1.4569 - val_loss: 5.7791 - val_mae: 1.6170 - lr: 0.0010\n",
      "Epoch 700/1000\n",
      "14/14 [==============================] - 0s 3ms/step - loss: 4.2218 - mae: 1.4298 - val_loss: 5.5851 - val_mae: 1.5862 - lr: 0.0010\n",
      "Epoch 701/1000\n",
      "14/14 [==============================] - 0s 3ms/step - loss: 4.3101 - mae: 1.4473 - val_loss: 5.3955 - val_mae: 1.6068 - lr: 0.0010\n",
      "Epoch 702/1000\n",
      "14/14 [==============================] - 0s 3ms/step - loss: 4.2096 - mae: 1.4366 - val_loss: 5.4598 - val_mae: 1.5900 - lr: 0.0010\n",
      "Epoch 703/1000\n",
      "14/14 [==============================] - 0s 3ms/step - loss: 4.1481 - mae: 1.4291 - val_loss: 5.4563 - val_mae: 1.6084 - lr: 0.0010\n",
      "Epoch 704/1000\n",
      "14/14 [==============================] - 0s 4ms/step - loss: 4.2047 - mae: 1.4404 - val_loss: 6.2882 - val_mae: 1.6922 - lr: 0.0010\n",
      "Epoch 705/1000\n",
      "14/14 [==============================] - 0s 3ms/step - loss: 4.3032 - mae: 1.4304 - val_loss: 5.3547 - val_mae: 1.6119 - lr: 0.0010\n",
      "Epoch 706/1000\n",
      "14/14 [==============================] - 0s 3ms/step - loss: 4.1760 - mae: 1.4353 - val_loss: 5.6746 - val_mae: 1.5991 - lr: 0.0010\n",
      "Epoch 707/1000\n",
      "14/14 [==============================] - 0s 3ms/step - loss: 4.2089 - mae: 1.4261 - val_loss: 5.4166 - val_mae: 1.6371 - lr: 0.0010\n",
      "Epoch 708/1000\n",
      "14/14 [==============================] - 0s 4ms/step - loss: 4.2096 - mae: 1.4346 - val_loss: 6.1740 - val_mae: 1.8931 - lr: 0.0010\n",
      "Epoch 709/1000\n",
      "14/14 [==============================] - 0s 3ms/step - loss: 4.2923 - mae: 1.4557 - val_loss: 5.4785 - val_mae: 1.6133 - lr: 0.0010\n",
      "Epoch 710/1000\n",
      "14/14 [==============================] - 0s 3ms/step - loss: 4.2208 - mae: 1.4319 - val_loss: 5.5141 - val_mae: 1.5878 - lr: 0.0010\n",
      "Epoch 711/1000\n",
      "14/14 [==============================] - 0s 3ms/step - loss: 4.2110 - mae: 1.4248 - val_loss: 5.5079 - val_mae: 1.5808 - lr: 0.0010\n",
      "Epoch 712/1000\n",
      "14/14 [==============================] - 0s 3ms/step - loss: 4.2226 - mae: 1.4281 - val_loss: 6.1029 - val_mae: 1.6556 - lr: 0.0010\n",
      "Epoch 713/1000\n",
      "14/14 [==============================] - 0s 4ms/step - loss: 4.2067 - mae: 1.4160 - val_loss: 5.3916 - val_mae: 1.5917 - lr: 0.0010\n",
      "Epoch 714/1000\n",
      "14/14 [==============================] - 0s 3ms/step - loss: 4.2247 - mae: 1.4368 - val_loss: 5.4709 - val_mae: 1.6124 - lr: 0.0010\n",
      "Epoch 715/1000\n",
      "14/14 [==============================] - 0s 3ms/step - loss: 4.1466 - mae: 1.4301 - val_loss: 5.7985 - val_mae: 1.6151 - lr: 0.0010\n",
      "Epoch 716/1000\n",
      "14/14 [==============================] - 0s 3ms/step - loss: 4.2321 - mae: 1.4398 - val_loss: 5.4747 - val_mae: 1.6214 - lr: 0.0010\n",
      "Epoch 717/1000\n",
      "14/14 [==============================] - 0s 3ms/step - loss: 4.2336 - mae: 1.4430 - val_loss: 5.5862 - val_mae: 1.5996 - lr: 0.0010\n",
      "Epoch 718/1000\n",
      "14/14 [==============================] - 0s 4ms/step - loss: 4.2336 - mae: 1.4295 - val_loss: 5.6186 - val_mae: 1.7384 - lr: 0.0010\n",
      "Epoch 719/1000\n",
      "14/14 [==============================] - 0s 13ms/step - loss: 4.1905 - mae: 1.4616 - val_loss: 5.6372 - val_mae: 1.5950 - lr: 0.0010\n",
      "Epoch 720/1000\n",
      "14/14 [==============================] - 0s 7ms/step - loss: 4.2827 - mae: 1.4396 - val_loss: 5.4225 - val_mae: 1.6611 - lr: 0.0010\n",
      "Epoch 721/1000\n",
      "14/14 [==============================] - 0s 4ms/step - loss: 4.2314 - mae: 1.4363 - val_loss: 5.5172 - val_mae: 1.6001 - lr: 0.0010\n",
      "Epoch 722/1000\n",
      "14/14 [==============================] - 0s 4ms/step - loss: 4.1471 - mae: 1.4322 - val_loss: 5.7019 - val_mae: 1.6134 - lr: 0.0010\n",
      "Epoch 723/1000\n",
      "14/14 [==============================] - 0s 3ms/step - loss: 4.2078 - mae: 1.4263 - val_loss: 5.6000 - val_mae: 1.7233 - lr: 0.0010\n",
      "Epoch 724/1000\n",
      "14/14 [==============================] - 0s 5ms/step - loss: 4.2472 - mae: 1.4524 - val_loss: 5.6270 - val_mae: 1.6027 - lr: 0.0010\n",
      "Epoch 725/1000\n",
      "14/14 [==============================] - 0s 3ms/step - loss: 4.2151 - mae: 1.4296 - val_loss: 5.8065 - val_mae: 1.6307 - lr: 0.0010\n",
      "Epoch 726/1000\n",
      "14/14 [==============================] - 0s 3ms/step - loss: 4.3308 - mae: 1.4435 - val_loss: 5.5069 - val_mae: 1.7016 - lr: 0.0010\n",
      "Epoch 727/1000\n",
      "14/14 [==============================] - 0s 3ms/step - loss: 4.2099 - mae: 1.4401 - val_loss: 5.3805 - val_mae: 1.5925 - lr: 0.0010\n",
      "Epoch 728/1000\n",
      "14/14 [==============================] - 0s 3ms/step - loss: 4.1616 - mae: 1.4255 - val_loss: 5.8872 - val_mae: 1.8122 - lr: 0.0010\n"
     ]
    },
    {
     "name": "stdout",
     "output_type": "stream",
     "text": [
      "Epoch 729/1000\n",
      "14/14 [==============================] - 0s 3ms/step - loss: 4.2396 - mae: 1.4595 - val_loss: 5.4498 - val_mae: 1.5999 - lr: 0.0010\n",
      "Epoch 730/1000\n",
      "14/14 [==============================] - 0s 3ms/step - loss: 4.1547 - mae: 1.4248 - val_loss: 5.5035 - val_mae: 1.6790 - lr: 0.0010\n",
      "Epoch 731/1000\n",
      "14/14 [==============================] - 0s 3ms/step - loss: 4.1711 - mae: 1.4352 - val_loss: 5.4446 - val_mae: 1.6171 - lr: 0.0010\n",
      "Epoch 732/1000\n",
      "14/14 [==============================] - 0s 4ms/step - loss: 4.1895 - mae: 1.4443 - val_loss: 6.3246 - val_mae: 1.6846 - lr: 0.0010\n",
      "Epoch 733/1000\n",
      "14/14 [==============================] - 0s 8ms/step - loss: 4.2227 - mae: 1.4390 - val_loss: 6.1461 - val_mae: 1.6576 - lr: 0.0010\n",
      "Epoch 734/1000\n",
      "14/14 [==============================] - 0s 4ms/step - loss: 4.2402 - mae: 1.4299 - val_loss: 5.5912 - val_mae: 1.6867 - lr: 0.0010\n",
      "Epoch 735/1000\n",
      "14/14 [==============================] - 0s 4ms/step - loss: 4.1884 - mae: 1.4243 - val_loss: 5.4566 - val_mae: 1.6132 - lr: 0.0010\n",
      "Epoch 736/1000\n",
      "14/14 [==============================] - 0s 4ms/step - loss: 4.1514 - mae: 1.4360 - val_loss: 5.4218 - val_mae: 1.5912 - lr: 0.0010\n",
      "Epoch 737/1000\n",
      "14/14 [==============================] - 0s 4ms/step - loss: 4.1905 - mae: 1.4312 - val_loss: 5.6489 - val_mae: 1.7541 - lr: 0.0010\n",
      "Epoch 738/1000\n",
      "14/14 [==============================] - 0s 4ms/step - loss: 4.1564 - mae: 1.4413 - val_loss: 5.3832 - val_mae: 1.6437 - lr: 0.0010\n",
      "Epoch 739/1000\n",
      "14/14 [==============================] - 0s 3ms/step - loss: 4.1673 - mae: 1.4397 - val_loss: 5.6355 - val_mae: 1.5959 - lr: 0.0010\n",
      "Epoch 740/1000\n",
      "14/14 [==============================] - 0s 3ms/step - loss: 4.2937 - mae: 1.4381 - val_loss: 5.4757 - val_mae: 1.6572 - lr: 0.0010\n",
      "Epoch 741/1000\n",
      "14/14 [==============================] - 0s 3ms/step - loss: 4.2293 - mae: 1.4487 - val_loss: 5.5694 - val_mae: 1.7131 - lr: 0.0010\n",
      "Epoch 742/1000\n",
      "14/14 [==============================] - 0s 3ms/step - loss: 4.1899 - mae: 1.4301 - val_loss: 5.5979 - val_mae: 1.6018 - lr: 0.0010\n",
      "Epoch 743/1000\n",
      "14/14 [==============================] - 0s 3ms/step - loss: 4.1666 - mae: 1.4233 - val_loss: 5.5826 - val_mae: 1.6918 - lr: 0.0010\n",
      "Epoch 744/1000\n",
      "14/14 [==============================] - 0s 3ms/step - loss: 4.2183 - mae: 1.4520 - val_loss: 5.9996 - val_mae: 1.6454 - lr: 0.0010\n",
      "Epoch 745/1000\n",
      "14/14 [==============================] - 0s 3ms/step - loss: 4.2532 - mae: 1.4392 - val_loss: 5.7840 - val_mae: 1.6110 - lr: 0.0010\n",
      "Epoch 746/1000\n",
      "14/14 [==============================] - 0s 3ms/step - loss: 4.2487 - mae: 1.4279 - val_loss: 5.5290 - val_mae: 1.6115 - lr: 0.0010\n",
      "Epoch 747/1000\n",
      "14/14 [==============================] - 0s 3ms/step - loss: 4.1413 - mae: 1.4177 - val_loss: 5.4234 - val_mae: 1.6408 - lr: 0.0010\n",
      "Epoch 748/1000\n",
      "14/14 [==============================] - 0s 4ms/step - loss: 4.1987 - mae: 1.4394 - val_loss: 5.6187 - val_mae: 1.6013 - lr: 0.0010\n",
      "Epoch 749/1000\n",
      "14/14 [==============================] - 0s 4ms/step - loss: 4.1812 - mae: 1.4272 - val_loss: 5.8241 - val_mae: 1.6267 - lr: 0.0010\n",
      "Epoch 750/1000\n",
      "14/14 [==============================] - 0s 5ms/step - loss: 4.2177 - mae: 1.4306 - val_loss: 5.4742 - val_mae: 1.6666 - lr: 0.0010\n",
      "Epoch 751/1000\n",
      "14/14 [==============================] - 0s 5ms/step - loss: 4.1964 - mae: 1.4356 - val_loss: 5.5451 - val_mae: 1.5836 - lr: 0.0010\n",
      "Epoch 752/1000\n",
      "14/14 [==============================] - 0s 3ms/step - loss: 4.1825 - mae: 1.4237 - val_loss: 5.3885 - val_mae: 1.5878 - lr: 0.0010\n",
      "Epoch 753/1000\n",
      "14/14 [==============================] - 0s 5ms/step - loss: 4.2012 - mae: 1.4398 - val_loss: 6.2460 - val_mae: 1.9181 - lr: 0.0010\n",
      "Epoch 754/1000\n",
      "14/14 [==============================] - 0s 4ms/step - loss: 4.3015 - mae: 1.4646 - val_loss: 5.5280 - val_mae: 1.5901 - lr: 0.0010\n",
      "Epoch 755/1000\n",
      "14/14 [==============================] - 0s 4ms/step - loss: 4.2337 - mae: 1.4344 - val_loss: 5.8781 - val_mae: 1.6360 - lr: 0.0010\n",
      "Epoch 756/1000\n",
      "14/14 [==============================] - 0s 5ms/step - loss: 4.2435 - mae: 1.4291 - val_loss: 5.8497 - val_mae: 1.7861 - lr: 0.0010\n",
      "Epoch 757/1000\n",
      "14/14 [==============================] - 0s 4ms/step - loss: 4.2587 - mae: 1.4680 - val_loss: 5.8715 - val_mae: 1.6279 - lr: 0.0010\n",
      "Epoch 758/1000\n",
      "14/14 [==============================] - 0s 3ms/step - loss: 4.2267 - mae: 1.4219 - val_loss: 5.5661 - val_mae: 1.5840 - lr: 0.0010\n",
      "Epoch 759/1000\n",
      "14/14 [==============================] - 0s 6ms/step - loss: 4.1691 - mae: 1.4209 - val_loss: 5.3937 - val_mae: 1.6118 - lr: 0.0010\n",
      "Epoch 760/1000\n",
      "14/14 [==============================] - 0s 4ms/step - loss: 4.2072 - mae: 1.4247 - val_loss: 5.4139 - val_mae: 1.6247 - lr: 0.0010\n",
      "Epoch 761/1000\n",
      "14/14 [==============================] - 0s 4ms/step - loss: 4.1607 - mae: 1.4171 - val_loss: 6.1942 - val_mae: 1.8944 - lr: 0.0010\n",
      "Epoch 762/1000\n",
      "14/14 [==============================] - 0s 4ms/step - loss: 4.2494 - mae: 1.4550 - val_loss: 5.8176 - val_mae: 1.6212 - lr: 0.0010\n",
      "Epoch 763/1000\n",
      "14/14 [==============================] - 0s 4ms/step - loss: 4.2387 - mae: 1.4302 - val_loss: 6.3249 - val_mae: 1.6902 - lr: 0.0010\n",
      "Epoch 764/1000\n",
      "14/14 [==============================] - 0s 4ms/step - loss: 4.2368 - mae: 1.4268 - val_loss: 5.6376 - val_mae: 1.7172 - lr: 0.0010\n",
      "Epoch 765/1000\n",
      "14/14 [==============================] - 0s 3ms/step - loss: 4.2333 - mae: 1.4529 - val_loss: 5.3576 - val_mae: 1.6388 - lr: 0.0010\n",
      "Epoch 766/1000\n",
      "14/14 [==============================] - 0s 3ms/step - loss: 4.1712 - mae: 1.4361 - val_loss: 5.9649 - val_mae: 1.6380 - lr: 0.0010\n",
      "Epoch 767/1000\n",
      "14/14 [==============================] - 0s 3ms/step - loss: 4.2841 - mae: 1.4407 - val_loss: 5.3709 - val_mae: 1.5970 - lr: 0.0010\n",
      "Epoch 768/1000\n",
      "14/14 [==============================] - 0s 3ms/step - loss: 4.1635 - mae: 1.4311 - val_loss: 5.4421 - val_mae: 1.6765 - lr: 0.0010\n",
      "Epoch 769/1000\n",
      "14/14 [==============================] - 0s 3ms/step - loss: 4.2042 - mae: 1.4290 - val_loss: 5.3956 - val_mae: 1.6278 - lr: 0.0010\n",
      "Epoch 770/1000\n",
      "14/14 [==============================] - 0s 4ms/step - loss: 4.2325 - mae: 1.4370 - val_loss: 5.4066 - val_mae: 1.6184 - lr: 0.0010\n",
      "Epoch 771/1000\n",
      "14/14 [==============================] - 0s 6ms/step - loss: 4.1725 - mae: 1.4198 - val_loss: 6.0485 - val_mae: 1.8627 - lr: 0.0010\n",
      "Epoch 772/1000\n",
      "14/14 [==============================] - 0s 4ms/step - loss: 4.1895 - mae: 1.4601 - val_loss: 5.4011 - val_mae: 1.5877 - lr: 0.0010\n",
      "Epoch 773/1000\n",
      "14/14 [==============================] - 0s 4ms/step - loss: 4.1658 - mae: 1.4210 - val_loss: 5.6897 - val_mae: 1.6147 - lr: 0.0010\n",
      "Epoch 774/1000\n",
      "14/14 [==============================] - 0s 3ms/step - loss: 4.2224 - mae: 1.4385 - val_loss: 5.4030 - val_mae: 1.6113 - lr: 0.0010\n",
      "Epoch 775/1000\n",
      "14/14 [==============================] - 0s 3ms/step - loss: 4.1443 - mae: 1.4236 - val_loss: 5.5751 - val_mae: 1.5989 - lr: 0.0010\n",
      "Epoch 776/1000\n",
      "14/14 [==============================] - 0s 4ms/step - loss: 4.2300 - mae: 1.4382 - val_loss: 5.4585 - val_mae: 1.5905 - lr: 0.0010\n",
      "Epoch 777/1000\n",
      "14/14 [==============================] - 0s 4ms/step - loss: 4.1638 - mae: 1.4217 - val_loss: 5.9570 - val_mae: 1.6421 - lr: 0.0010\n",
      "Epoch 778/1000\n",
      "14/14 [==============================] - 0s 4ms/step - loss: 4.2267 - mae: 1.4373 - val_loss: 5.4774 - val_mae: 1.5902 - lr: 0.0010\n",
      "Epoch 779/1000\n",
      "14/14 [==============================] - 0s 3ms/step - loss: 4.1708 - mae: 1.4259 - val_loss: 5.3446 - val_mae: 1.5974 - lr: 0.0010\n",
      "Epoch 780/1000\n",
      "14/14 [==============================] - 0s 3ms/step - loss: 4.1505 - mae: 1.4402 - val_loss: 5.5190 - val_mae: 1.5830 - lr: 0.0010\n",
      "Epoch 781/1000\n",
      "14/14 [==============================] - 0s 4ms/step - loss: 4.1796 - mae: 1.4375 - val_loss: 5.7995 - val_mae: 1.7934 - lr: 0.0010\n",
      "Epoch 782/1000\n",
      "14/14 [==============================] - 0s 3ms/step - loss: 4.2257 - mae: 1.4419 - val_loss: 6.1082 - val_mae: 1.8771 - lr: 0.0010\n",
      "Epoch 783/1000\n",
      "14/14 [==============================] - 0s 3ms/step - loss: 4.1959 - mae: 1.4538 - val_loss: 6.1022 - val_mae: 1.6489 - lr: 0.0010\n",
      "Epoch 784/1000\n",
      "14/14 [==============================] - 0s 4ms/step - loss: 4.1776 - mae: 1.4125 - val_loss: 5.4205 - val_mae: 1.6246 - lr: 0.0010\n"
     ]
    },
    {
     "name": "stdout",
     "output_type": "stream",
     "text": [
      "Epoch 785/1000\n",
      "14/14 [==============================] - 0s 6ms/step - loss: 4.1542 - mae: 1.4432 - val_loss: 6.1446 - val_mae: 1.6607 - lr: 0.0010\n",
      "Epoch 786/1000\n",
      "14/14 [==============================] - 0s 5ms/step - loss: 4.2597 - mae: 1.4400 - val_loss: 5.4945 - val_mae: 1.5783 - lr: 0.0010\n",
      "Epoch 787/1000\n",
      "14/14 [==============================] - 0s 6ms/step - loss: 4.1682 - mae: 1.4212 - val_loss: 5.4642 - val_mae: 1.6779 - lr: 0.0010\n",
      "Epoch 788/1000\n",
      "14/14 [==============================] - 0s 6ms/step - loss: 4.1495 - mae: 1.4266 - val_loss: 5.4015 - val_mae: 1.6445 - lr: 0.0010\n",
      "Epoch 789/1000\n",
      "14/14 [==============================] - 0s 3ms/step - loss: 4.1834 - mae: 1.4337 - val_loss: 5.5946 - val_mae: 1.7200 - lr: 0.0010\n",
      "Epoch 790/1000\n",
      "14/14 [==============================] - 0s 3ms/step - loss: 4.2147 - mae: 1.4488 - val_loss: 5.7087 - val_mae: 1.6130 - lr: 0.0010\n",
      "Epoch 791/1000\n",
      "14/14 [==============================] - 0s 4ms/step - loss: 4.1878 - mae: 1.4307 - val_loss: 5.8103 - val_mae: 1.7734 - lr: 0.0010\n",
      "Epoch 792/1000\n",
      "14/14 [==============================] - 0s 4ms/step - loss: 4.2431 - mae: 1.4583 - val_loss: 5.6919 - val_mae: 1.6073 - lr: 0.0010\n",
      "Epoch 793/1000\n",
      "14/14 [==============================] - 0s 3ms/step - loss: 4.2674 - mae: 1.4379 - val_loss: 5.3689 - val_mae: 1.5931 - lr: 0.0010\n",
      "Epoch 794/1000\n",
      "14/14 [==============================] - 0s 4ms/step - loss: 4.1728 - mae: 1.4212 - val_loss: 5.9226 - val_mae: 1.6386 - lr: 0.0010\n",
      "Epoch 795/1000\n",
      "14/14 [==============================] - 0s 3ms/step - loss: 4.2010 - mae: 1.4312 - val_loss: 5.4010 - val_mae: 1.6198 - lr: 0.0010\n",
      "Epoch 796/1000\n",
      "14/14 [==============================] - 0s 3ms/step - loss: 4.1650 - mae: 1.4268 - val_loss: 6.9426 - val_mae: 2.0833 - lr: 0.0010\n",
      "Epoch 797/1000\n",
      "14/14 [==============================] - 0s 3ms/step - loss: 4.3047 - mae: 1.4871 - val_loss: 5.5339 - val_mae: 1.6084 - lr: 0.0010\n",
      "Epoch 798/1000\n",
      "14/14 [==============================] - 0s 3ms/step - loss: 4.1708 - mae: 1.4259 - val_loss: 5.5175 - val_mae: 1.5868 - lr: 0.0010\n",
      "Epoch 799/1000\n",
      "14/14 [==============================] - 0s 3ms/step - loss: 4.1945 - mae: 1.4254 - val_loss: 5.9823 - val_mae: 1.8273 - lr: 0.0010\n",
      "Epoch 800/1000\n",
      "14/14 [==============================] - 0s 3ms/step - loss: 4.1359 - mae: 1.4353 - val_loss: 6.0685 - val_mae: 1.6642 - lr: 0.0010\n",
      "Epoch 801/1000\n",
      "14/14 [==============================] - 0s 3ms/step - loss: 4.1837 - mae: 1.4260 - val_loss: 5.4407 - val_mae: 1.6265 - lr: 0.0010\n",
      "Epoch 802/1000\n",
      "14/14 [==============================] - 0s 3ms/step - loss: 4.1409 - mae: 1.4206 - val_loss: 5.6518 - val_mae: 1.5998 - lr: 0.0010\n",
      "Epoch 803/1000\n",
      "14/14 [==============================] - 0s 5ms/step - loss: 4.1182 - mae: 1.4258 - val_loss: 5.7194 - val_mae: 1.7448 - lr: 0.0010\n",
      "Epoch 804/1000\n",
      "14/14 [==============================] - 0s 4ms/step - loss: 4.2371 - mae: 1.4354 - val_loss: 5.4899 - val_mae: 1.5889 - lr: 0.0010\n",
      "Epoch 805/1000\n",
      "14/14 [==============================] - 0s 3ms/step - loss: 4.1494 - mae: 1.4188 - val_loss: 5.8312 - val_mae: 1.6139 - lr: 0.0010\n",
      "Epoch 806/1000\n",
      "14/14 [==============================] - 0s 4ms/step - loss: 4.2271 - mae: 1.4187 - val_loss: 5.5526 - val_mae: 1.5833 - lr: 0.0010\n",
      "Epoch 807/1000\n",
      "14/14 [==============================] - 0s 3ms/step - loss: 4.1618 - mae: 1.4204 - val_loss: 5.3354 - val_mae: 1.6330 - lr: 0.0010\n",
      "Epoch 808/1000\n",
      "14/14 [==============================] - 0s 5ms/step - loss: 4.1768 - mae: 1.4343 - val_loss: 5.6659 - val_mae: 1.6008 - lr: 0.0010\n",
      "Epoch 809/1000\n",
      "14/14 [==============================] - 0s 9ms/step - loss: 4.1743 - mae: 1.4293 - val_loss: 5.5951 - val_mae: 1.7222 - lr: 0.0010\n",
      "Epoch 810/1000\n",
      "14/14 [==============================] - 0s 6ms/step - loss: 4.2198 - mae: 1.4458 - val_loss: 5.5445 - val_mae: 1.6882 - lr: 0.0010\n",
      "Epoch 811/1000\n",
      "14/14 [==============================] - 0s 4ms/step - loss: 4.1398 - mae: 1.4235 - val_loss: 5.5175 - val_mae: 1.5964 - lr: 0.0010\n",
      "Epoch 812/1000\n",
      "14/14 [==============================] - 0s 3ms/step - loss: 4.1574 - mae: 1.4150 - val_loss: 5.4562 - val_mae: 1.6774 - lr: 0.0010\n",
      "Epoch 813/1000\n",
      "14/14 [==============================] - 0s 4ms/step - loss: 4.1809 - mae: 1.4418 - val_loss: 5.3261 - val_mae: 1.6074 - lr: 0.0010\n",
      "Epoch 814/1000\n",
      "14/14 [==============================] - 0s 3ms/step - loss: 4.2161 - mae: 1.4394 - val_loss: 5.6409 - val_mae: 1.6041 - lr: 0.0010\n",
      "Epoch 815/1000\n",
      "14/14 [==============================] - 0s 3ms/step - loss: 4.1573 - mae: 1.4171 - val_loss: 5.7959 - val_mae: 1.6239 - lr: 0.0010\n",
      "Epoch 816/1000\n",
      "14/14 [==============================] - 0s 3ms/step - loss: 4.1411 - mae: 1.4238 - val_loss: 5.7084 - val_mae: 1.6145 - lr: 0.0010\n",
      "Epoch 817/1000\n",
      "14/14 [==============================] - 0s 3ms/step - loss: 4.1051 - mae: 1.4215 - val_loss: 5.6301 - val_mae: 1.5974 - lr: 0.0010\n",
      "Epoch 818/1000\n",
      "14/14 [==============================] - 0s 3ms/step - loss: 4.1789 - mae: 1.4288 - val_loss: 5.5562 - val_mae: 1.7173 - lr: 0.0010\n",
      "Epoch 819/1000\n",
      "14/14 [==============================] - 0s 3ms/step - loss: 4.2234 - mae: 1.4433 - val_loss: 5.5672 - val_mae: 1.5789 - lr: 0.0010\n",
      "Epoch 820/1000\n",
      "14/14 [==============================] - 0s 5ms/step - loss: 4.1449 - mae: 1.4111 - val_loss: 5.4940 - val_mae: 1.5840 - lr: 0.0010\n",
      "Epoch 821/1000\n",
      "14/14 [==============================] - 0s 4ms/step - loss: 4.1287 - mae: 1.4125 - val_loss: 5.3659 - val_mae: 1.6509 - lr: 0.0010\n",
      "Epoch 822/1000\n",
      "14/14 [==============================] - 0s 3ms/step - loss: 4.1673 - mae: 1.4231 - val_loss: 5.5365 - val_mae: 1.5885 - lr: 0.0010\n",
      "Epoch 823/1000\n",
      "14/14 [==============================] - 0s 3ms/step - loss: 4.1256 - mae: 1.4236 - val_loss: 5.7583 - val_mae: 1.6216 - lr: 0.0010\n",
      "Epoch 824/1000\n",
      "14/14 [==============================] - 0s 3ms/step - loss: 4.2513 - mae: 1.4427 - val_loss: 6.0618 - val_mae: 1.6521 - lr: 0.0010\n",
      "Epoch 825/1000\n",
      "14/14 [==============================] - 0s 3ms/step - loss: 4.2239 - mae: 1.4285 - val_loss: 6.6384 - val_mae: 2.0122 - lr: 0.0010\n",
      "Epoch 826/1000\n",
      "14/14 [==============================] - 0s 4ms/step - loss: 4.3278 - mae: 1.4861 - val_loss: 5.4022 - val_mae: 1.5865 - lr: 0.0010\n",
      "Epoch 827/1000\n",
      "14/14 [==============================] - 0s 4ms/step - loss: 4.1843 - mae: 1.4292 - val_loss: 5.4227 - val_mae: 1.6207 - lr: 0.0010\n",
      "Epoch 828/1000\n",
      "14/14 [==============================] - 0s 3ms/step - loss: 4.1468 - mae: 1.4278 - val_loss: 5.6864 - val_mae: 1.6108 - lr: 0.0010\n",
      "Epoch 829/1000\n",
      "14/14 [==============================] - 0s 3ms/step - loss: 4.2398 - mae: 1.4392 - val_loss: 5.5680 - val_mae: 1.5884 - lr: 0.0010\n",
      "Epoch 830/1000\n",
      "14/14 [==============================] - 0s 3ms/step - loss: 4.1994 - mae: 1.4205 - val_loss: 5.5899 - val_mae: 1.5936 - lr: 0.0010\n",
      "Epoch 831/1000\n",
      "14/14 [==============================] - 0s 3ms/step - loss: 4.1973 - mae: 1.4299 - val_loss: 5.4599 - val_mae: 1.5839 - lr: 0.0010\n",
      "Epoch 832/1000\n",
      "14/14 [==============================] - 0s 4ms/step - loss: 4.1076 - mae: 1.4110 - val_loss: 5.3532 - val_mae: 1.6385 - lr: 0.0010\n",
      "Epoch 833/1000\n",
      "14/14 [==============================] - 0s 3ms/step - loss: 4.2116 - mae: 1.4336 - val_loss: 5.5826 - val_mae: 1.7418 - lr: 0.0010\n",
      "Epoch 834/1000\n",
      "14/14 [==============================] - 0s 3ms/step - loss: 4.1599 - mae: 1.4305 - val_loss: 5.9794 - val_mae: 1.8699 - lr: 0.0010\n",
      "Epoch 835/1000\n",
      "14/14 [==============================] - 0s 3ms/step - loss: 4.2077 - mae: 1.4537 - val_loss: 5.3448 - val_mae: 1.6156 - lr: 0.0010\n",
      "Epoch 836/1000\n",
      "14/14 [==============================] - 0s 3ms/step - loss: 4.1130 - mae: 1.4173 - val_loss: 6.5284 - val_mae: 1.7192 - lr: 0.0010\n",
      "Epoch 837/1000\n",
      "14/14 [==============================] - 0s 4ms/step - loss: 4.1896 - mae: 1.4234 - val_loss: 5.3798 - val_mae: 1.6426 - lr: 0.0010\n",
      "Epoch 838/1000\n",
      "14/14 [==============================] - 0s 3ms/step - loss: 4.1937 - mae: 1.4331 - val_loss: 5.3790 - val_mae: 1.6459 - lr: 0.0010\n",
      "Epoch 839/1000\n",
      "14/14 [==============================] - 0s 4ms/step - loss: 4.1789 - mae: 1.4381 - val_loss: 5.4761 - val_mae: 1.5936 - lr: 0.0010\n",
      "Epoch 840/1000\n",
      "14/14 [==============================] - 0s 6ms/step - loss: 4.1671 - mae: 1.4266 - val_loss: 5.7595 - val_mae: 1.7937 - lr: 0.0010\n"
     ]
    },
    {
     "name": "stdout",
     "output_type": "stream",
     "text": [
      "Epoch 841/1000\n",
      "14/14 [==============================] - 0s 5ms/step - loss: 4.1698 - mae: 1.4541 - val_loss: 5.3316 - val_mae: 1.6140 - lr: 0.0010\n",
      "Epoch 842/1000\n",
      "14/14 [==============================] - 0s 4ms/step - loss: 4.1526 - mae: 1.4318 - val_loss: 5.7985 - val_mae: 1.6384 - lr: 0.0010\n",
      "Epoch 843/1000\n",
      "14/14 [==============================] - 0s 3ms/step - loss: 4.1866 - mae: 1.4159 - val_loss: 5.4280 - val_mae: 1.6029 - lr: 0.0010\n",
      "Epoch 844/1000\n",
      "14/14 [==============================] - 0s 3ms/step - loss: 4.1571 - mae: 1.4253 - val_loss: 5.3733 - val_mae: 1.6438 - lr: 0.0010\n",
      "Epoch 845/1000\n",
      "14/14 [==============================] - 0s 3ms/step - loss: 4.1598 - mae: 1.4305 - val_loss: 5.3903 - val_mae: 1.6350 - lr: 0.0010\n",
      "Epoch 846/1000\n",
      "14/14 [==============================] - 0s 3ms/step - loss: 4.1317 - mae: 1.4277 - val_loss: 5.9204 - val_mae: 1.6344 - lr: 0.0010\n",
      "Epoch 847/1000\n",
      "14/14 [==============================] - 0s 5ms/step - loss: 4.1488 - mae: 1.4053 - val_loss: 5.9343 - val_mae: 1.8366 - lr: 0.0010\n",
      "Epoch 848/1000\n",
      "14/14 [==============================] - 0s 3ms/step - loss: 4.2320 - mae: 1.4431 - val_loss: 5.4679 - val_mae: 1.6946 - lr: 0.0010\n",
      "Epoch 849/1000\n",
      "14/14 [==============================] - 0s 4ms/step - loss: 4.1739 - mae: 1.4366 - val_loss: 5.8024 - val_mae: 1.7850 - lr: 0.0010\n",
      "Epoch 850/1000\n",
      "14/14 [==============================] - 0s 3ms/step - loss: 4.2224 - mae: 1.4485 - val_loss: 5.3691 - val_mae: 1.5891 - lr: 0.0010\n",
      "Epoch 851/1000\n",
      "14/14 [==============================] - 0s 3ms/step - loss: 4.1427 - mae: 1.4219 - val_loss: 5.4464 - val_mae: 1.6563 - lr: 0.0010\n",
      "Epoch 852/1000\n",
      "14/14 [==============================] - 0s 3ms/step - loss: 4.1919 - mae: 1.4480 - val_loss: 5.5455 - val_mae: 1.5956 - lr: 0.0010\n",
      "Epoch 853/1000\n",
      "14/14 [==============================] - 0s 3ms/step - loss: 4.1639 - mae: 1.4229 - val_loss: 5.3689 - val_mae: 1.5682 - lr: 0.0010\n",
      "Epoch 854/1000\n",
      "14/14 [==============================] - 0s 3ms/step - loss: 4.1807 - mae: 1.4326 - val_loss: 5.6301 - val_mae: 1.6057 - lr: 0.0010\n",
      "Epoch 855/1000\n",
      "14/14 [==============================] - 0s 3ms/step - loss: 4.1598 - mae: 1.4156 - val_loss: 5.3496 - val_mae: 1.6139 - lr: 0.0010\n",
      "Epoch 856/1000\n",
      "14/14 [==============================] - 0s 3ms/step - loss: 4.1553 - mae: 1.4272 - val_loss: 5.4019 - val_mae: 1.5745 - lr: 0.0010\n",
      "Epoch 857/1000\n",
      "14/14 [==============================] - 0s 3ms/step - loss: 4.1822 - mae: 1.4249 - val_loss: 5.4556 - val_mae: 1.5909 - lr: 0.0010\n",
      "Epoch 858/1000\n",
      "14/14 [==============================] - 0s 4ms/step - loss: 4.1498 - mae: 1.4185 - val_loss: 6.1404 - val_mae: 1.6625 - lr: 0.0010\n",
      "Epoch 859/1000\n",
      "14/14 [==============================] - 0s 4ms/step - loss: 4.1876 - mae: 1.4122 - val_loss: 5.7566 - val_mae: 1.6203 - lr: 0.0010\n",
      "Epoch 860/1000\n",
      "14/14 [==============================] - 0s 4ms/step - loss: 4.1794 - mae: 1.4265 - val_loss: 5.7810 - val_mae: 1.8043 - lr: 0.0010\n",
      "Epoch 861/1000\n",
      "14/14 [==============================] - 0s 3ms/step - loss: 4.1340 - mae: 1.4213 - val_loss: 5.4733 - val_mae: 1.6855 - lr: 0.0010\n",
      "Epoch 862/1000\n",
      "14/14 [==============================] - 0s 3ms/step - loss: 4.1687 - mae: 1.4387 - val_loss: 5.7798 - val_mae: 1.7953 - lr: 0.0010\n",
      "Epoch 863/1000\n",
      "14/14 [==============================] - 0s 4ms/step - loss: 4.1234 - mae: 1.4420 - val_loss: 5.7183 - val_mae: 1.7607 - lr: 0.0010\n",
      "Epoch 864/1000\n",
      "14/14 [==============================] - 0s 3ms/step - loss: 4.2624 - mae: 1.4471 - val_loss: 5.8434 - val_mae: 1.8157 - lr: 0.0010\n",
      "Epoch 865/1000\n",
      "14/14 [==============================] - 0s 3ms/step - loss: 4.1930 - mae: 1.4494 - val_loss: 5.4918 - val_mae: 1.6669 - lr: 0.0010\n",
      "Epoch 866/1000\n",
      "14/14 [==============================] - 0s 3ms/step - loss: 4.1488 - mae: 1.4302 - val_loss: 5.9128 - val_mae: 1.8257 - lr: 0.0010\n",
      "Epoch 867/1000\n",
      "14/14 [==============================] - 0s 3ms/step - loss: 4.1545 - mae: 1.4588 - val_loss: 5.8417 - val_mae: 1.6336 - lr: 0.0010\n",
      "Epoch 868/1000\n",
      "14/14 [==============================] - 0s 4ms/step - loss: 4.2139 - mae: 1.4238 - val_loss: 6.1984 - val_mae: 1.6800 - lr: 0.0010\n",
      "Epoch 869/1000\n",
      "14/14 [==============================] - 0s 5ms/step - loss: 4.1165 - mae: 1.4042 - val_loss: 7.2549 - val_mae: 2.1539 - lr: 0.0010\n",
      "Epoch 870/1000\n",
      "14/14 [==============================] - 0s 4ms/step - loss: 4.3241 - mae: 1.5071 - val_loss: 6.1582 - val_mae: 1.6714 - lr: 0.0010\n",
      "Epoch 871/1000\n",
      "14/14 [==============================] - 0s 3ms/step - loss: 4.2050 - mae: 1.4081 - val_loss: 5.3227 - val_mae: 1.5912 - lr: 0.0010\n",
      "Epoch 872/1000\n",
      "14/14 [==============================] - 0s 3ms/step - loss: 4.1343 - mae: 1.4240 - val_loss: 5.5943 - val_mae: 1.5933 - lr: 0.0010\n",
      "Epoch 873/1000\n",
      "14/14 [==============================] - 0s 4ms/step - loss: 4.1656 - mae: 1.4343 - val_loss: 5.5147 - val_mae: 1.5814 - lr: 0.0010\n",
      "Epoch 874/1000\n",
      "14/14 [==============================] - 0s 3ms/step - loss: 4.1186 - mae: 1.4148 - val_loss: 5.3247 - val_mae: 1.6364 - lr: 0.0010\n",
      "Epoch 875/1000\n",
      "14/14 [==============================] - 0s 3ms/step - loss: 4.1749 - mae: 1.4316 - val_loss: 5.4494 - val_mae: 1.6855 - lr: 0.0010\n",
      "Epoch 876/1000\n",
      "14/14 [==============================] - 0s 4ms/step - loss: 4.2093 - mae: 1.4412 - val_loss: 5.6246 - val_mae: 1.5959 - lr: 0.0010\n",
      "Epoch 877/1000\n",
      "14/14 [==============================] - 0s 4ms/step - loss: 4.1866 - mae: 1.4261 - val_loss: 5.7963 - val_mae: 1.6218 - lr: 0.0010\n",
      "Epoch 878/1000\n",
      "14/14 [==============================] - 0s 5ms/step - loss: 4.1111 - mae: 1.4038 - val_loss: 5.7623 - val_mae: 1.6253 - lr: 0.0010\n",
      "Epoch 879/1000\n",
      "14/14 [==============================] - 0s 3ms/step - loss: 4.1758 - mae: 1.4348 - val_loss: 5.2758 - val_mae: 1.5884 - lr: 0.0010\n",
      "Epoch 880/1000\n",
      "14/14 [==============================] - 0s 5ms/step - loss: 4.1890 - mae: 1.4375 - val_loss: 5.4189 - val_mae: 1.6277 - lr: 0.0010\n",
      "Epoch 881/1000\n",
      "14/14 [==============================] - 0s 3ms/step - loss: 4.2467 - mae: 1.4342 - val_loss: 5.4078 - val_mae: 1.6408 - lr: 0.0010\n",
      "Epoch 882/1000\n",
      "14/14 [==============================] - 0s 3ms/step - loss: 4.1103 - mae: 1.4243 - val_loss: 6.1325 - val_mae: 1.6533 - lr: 0.0010\n",
      "Epoch 883/1000\n",
      "14/14 [==============================] - 0s 3ms/step - loss: 4.1480 - mae: 1.4119 - val_loss: 6.7504 - val_mae: 2.0343 - lr: 0.0010\n",
      "Epoch 884/1000\n",
      "14/14 [==============================] - 0s 3ms/step - loss: 4.2666 - mae: 1.4817 - val_loss: 5.5742 - val_mae: 1.5890 - lr: 0.0010\n",
      "Epoch 885/1000\n",
      "14/14 [==============================] - 0s 4ms/step - loss: 4.1705 - mae: 1.4247 - val_loss: 5.6219 - val_mae: 1.5841 - lr: 0.0010\n",
      "Epoch 886/1000\n",
      "14/14 [==============================] - 0s 4ms/step - loss: 4.1782 - mae: 1.4300 - val_loss: 5.6377 - val_mae: 1.6034 - lr: 0.0010\n",
      "Epoch 887/1000\n",
      "14/14 [==============================] - 0s 4ms/step - loss: 4.1662 - mae: 1.4276 - val_loss: 5.3734 - val_mae: 1.6005 - lr: 0.0010\n",
      "Epoch 888/1000\n",
      "14/14 [==============================] - 0s 4ms/step - loss: 4.1634 - mae: 1.4246 - val_loss: 5.4023 - val_mae: 1.5848 - lr: 0.0010\n",
      "Epoch 889/1000\n",
      "14/14 [==============================] - 0s 5ms/step - loss: 4.1382 - mae: 1.4155 - val_loss: 5.3712 - val_mae: 1.6211 - lr: 0.0010\n",
      "Epoch 890/1000\n",
      "14/14 [==============================] - 0s 5ms/step - loss: 4.1795 - mae: 1.4258 - val_loss: 5.6993 - val_mae: 1.6013 - lr: 0.0010\n",
      "Epoch 891/1000\n",
      "14/14 [==============================] - 0s 4ms/step - loss: 4.1297 - mae: 1.4160 - val_loss: 5.3633 - val_mae: 1.5889 - lr: 0.0010\n",
      "Epoch 892/1000\n",
      "14/14 [==============================] - 0s 3ms/step - loss: 4.1903 - mae: 1.4253 - val_loss: 5.3969 - val_mae: 1.5969 - lr: 0.0010\n",
      "Epoch 893/1000\n",
      "14/14 [==============================] - 0s 3ms/step - loss: 4.1922 - mae: 1.4205 - val_loss: 5.5785 - val_mae: 1.5879 - lr: 0.0010\n",
      "Epoch 894/1000\n",
      "14/14 [==============================] - 0s 3ms/step - loss: 4.0771 - mae: 1.4147 - val_loss: 5.3241 - val_mae: 1.6141 - lr: 0.0010\n",
      "Epoch 895/1000\n",
      "14/14 [==============================] - 0s 3ms/step - loss: 4.1296 - mae: 1.4378 - val_loss: 5.6581 - val_mae: 1.7600 - lr: 0.0010\n",
      "Epoch 896/1000\n",
      "14/14 [==============================] - 0s 3ms/step - loss: 4.1532 - mae: 1.4450 - val_loss: 5.3243 - val_mae: 1.6075 - lr: 0.0010\n"
     ]
    },
    {
     "name": "stdout",
     "output_type": "stream",
     "text": [
      "Epoch 897/1000\n",
      "14/14 [==============================] - 0s 3ms/step - loss: 4.1271 - mae: 1.4285 - val_loss: 5.4647 - val_mae: 1.6832 - lr: 0.0010\n",
      "Epoch 898/1000\n",
      "14/14 [==============================] - 0s 3ms/step - loss: 4.1411 - mae: 1.4326 - val_loss: 5.8903 - val_mae: 1.8281 - lr: 0.0010\n",
      "Epoch 899/1000\n",
      "14/14 [==============================] - 0s 3ms/step - loss: 4.1829 - mae: 1.4512 - val_loss: 6.0602 - val_mae: 1.6513 - lr: 0.0010\n",
      "Epoch 900/1000\n",
      "14/14 [==============================] - 0s 3ms/step - loss: 4.1700 - mae: 1.4076 - val_loss: 5.3689 - val_mae: 1.5640 - lr: 0.0010\n",
      "Epoch 901/1000\n",
      "14/14 [==============================] - 0s 3ms/step - loss: 4.1774 - mae: 1.4130 - val_loss: 5.3346 - val_mae: 1.5750 - lr: 0.0010\n",
      "Epoch 902/1000\n",
      "14/14 [==============================] - 0s 3ms/step - loss: 4.0987 - mae: 1.4180 - val_loss: 6.6740 - val_mae: 1.7597 - lr: 0.0010\n",
      "Epoch 903/1000\n",
      "14/14 [==============================] - 0s 3ms/step - loss: 4.2579 - mae: 1.4225 - val_loss: 5.4626 - val_mae: 1.5880 - lr: 0.0010\n",
      "Epoch 904/1000\n",
      "14/14 [==============================] - 0s 3ms/step - loss: 4.1375 - mae: 1.4079 - val_loss: 5.7909 - val_mae: 1.7975 - lr: 0.0010\n",
      "Epoch 905/1000\n",
      "14/14 [==============================] - 0s 3ms/step - loss: 4.1467 - mae: 1.4367 - val_loss: 5.3529 - val_mae: 1.6147 - lr: 0.0010\n",
      "Epoch 906/1000\n",
      "14/14 [==============================] - 0s 3ms/step - loss: 4.1429 - mae: 1.4203 - val_loss: 6.0290 - val_mae: 1.8828 - lr: 0.0010\n",
      "Epoch 907/1000\n",
      "14/14 [==============================] - 0s 5ms/step - loss: 4.2202 - mae: 1.4446 - val_loss: 5.5297 - val_mae: 1.5781 - lr: 0.0010\n",
      "Epoch 908/1000\n",
      "14/14 [==============================] - 0s 3ms/step - loss: 4.1819 - mae: 1.4282 - val_loss: 5.5183 - val_mae: 1.7105 - lr: 0.0010\n",
      "Epoch 909/1000\n",
      "14/14 [==============================] - 0s 3ms/step - loss: 4.0946 - mae: 1.4234 - val_loss: 5.8157 - val_mae: 1.6326 - lr: 0.0010\n",
      "Epoch 910/1000\n",
      "14/14 [==============================] - 0s 4ms/step - loss: 4.2393 - mae: 1.4311 - val_loss: 5.4612 - val_mae: 1.6795 - lr: 0.0010\n",
      "Epoch 911/1000\n",
      "14/14 [==============================] - 0s 4ms/step - loss: 4.1642 - mae: 1.4286 - val_loss: 5.2524 - val_mae: 1.5898 - lr: 0.0010\n",
      "Epoch 912/1000\n",
      "14/14 [==============================] - 0s 3ms/step - loss: 4.0922 - mae: 1.4149 - val_loss: 6.0297 - val_mae: 1.6587 - lr: 0.0010\n",
      "Epoch 913/1000\n",
      "14/14 [==============================] - 0s 3ms/step - loss: 4.1409 - mae: 1.4176 - val_loss: 5.4970 - val_mae: 1.5923 - lr: 0.0010\n",
      "Epoch 914/1000\n",
      "14/14 [==============================] - 0s 4ms/step - loss: 4.1384 - mae: 1.4230 - val_loss: 5.5312 - val_mae: 1.5846 - lr: 0.0010\n",
      "Epoch 915/1000\n",
      "14/14 [==============================] - 0s 4ms/step - loss: 4.1759 - mae: 1.4307 - val_loss: 6.2096 - val_mae: 1.6735 - lr: 0.0010\n",
      "Epoch 916/1000\n",
      "14/14 [==============================] - 0s 4ms/step - loss: 4.1634 - mae: 1.4321 - val_loss: 5.7062 - val_mae: 1.6143 - lr: 0.0010\n",
      "Epoch 917/1000\n",
      "14/14 [==============================] - 0s 3ms/step - loss: 4.2136 - mae: 1.4357 - val_loss: 5.5034 - val_mae: 1.5855 - lr: 0.0010\n",
      "Epoch 918/1000\n",
      "14/14 [==============================] - 0s 4ms/step - loss: 4.1198 - mae: 1.4198 - val_loss: 5.3619 - val_mae: 1.6480 - lr: 0.0010\n",
      "Epoch 919/1000\n",
      "14/14 [==============================] - 0s 3ms/step - loss: 4.0957 - mae: 1.4210 - val_loss: 5.5223 - val_mae: 1.7287 - lr: 0.0010\n",
      "Epoch 920/1000\n",
      "14/14 [==============================] - 0s 5ms/step - loss: 4.1645 - mae: 1.4396 - val_loss: 5.3260 - val_mae: 1.6016 - lr: 0.0010\n",
      "Epoch 921/1000\n",
      "14/14 [==============================] - 0s 3ms/step - loss: 4.1356 - mae: 1.4241 - val_loss: 5.3235 - val_mae: 1.5836 - lr: 0.0010\n",
      "Epoch 922/1000\n",
      "14/14 [==============================] - 0s 3ms/step - loss: 4.1648 - mae: 1.4293 - val_loss: 5.3387 - val_mae: 1.5817 - lr: 0.0010\n",
      "Epoch 923/1000\n",
      "14/14 [==============================] - 0s 4ms/step - loss: 4.1608 - mae: 1.4274 - val_loss: 5.5512 - val_mae: 1.7148 - lr: 0.0010\n",
      "Epoch 924/1000\n",
      "14/14 [==============================] - 0s 4ms/step - loss: 4.1422 - mae: 1.4352 - val_loss: 5.3961 - val_mae: 1.6497 - lr: 0.0010\n",
      "Epoch 925/1000\n",
      "14/14 [==============================] - 0s 3ms/step - loss: 4.1603 - mae: 1.4245 - val_loss: 5.5431 - val_mae: 1.7217 - lr: 0.0010\n",
      "Epoch 926/1000\n",
      "14/14 [==============================] - 0s 3ms/step - loss: 4.1078 - mae: 1.4360 - val_loss: 5.3679 - val_mae: 1.5666 - lr: 0.0010\n",
      "Epoch 927/1000\n",
      "14/14 [==============================] - 0s 3ms/step - loss: 4.1265 - mae: 1.4071 - val_loss: 6.2336 - val_mae: 1.9304 - lr: 0.0010\n",
      "Epoch 928/1000\n",
      "14/14 [==============================] - 0s 4ms/step - loss: 4.1642 - mae: 1.4448 - val_loss: 5.3357 - val_mae: 1.5705 - lr: 0.0010\n",
      "Epoch 929/1000\n",
      "14/14 [==============================] - 0s 3ms/step - loss: 4.1097 - mae: 1.4139 - val_loss: 6.1094 - val_mae: 1.6697 - lr: 0.0010\n",
      "Epoch 930/1000\n",
      "14/14 [==============================] - 0s 3ms/step - loss: 4.1634 - mae: 1.4144 - val_loss: 5.2841 - val_mae: 1.6098 - lr: 0.0010\n",
      "Epoch 931/1000\n",
      "14/14 [==============================] - 0s 3ms/step - loss: 4.1266 - mae: 1.4153 - val_loss: 5.4040 - val_mae: 1.5876 - lr: 0.0010\n",
      "Epoch 932/1000\n",
      "14/14 [==============================] - 0s 4ms/step - loss: 4.1659 - mae: 1.4317 - val_loss: 5.3493 - val_mae: 1.5797 - lr: 0.0010\n",
      "Epoch 933/1000\n",
      "14/14 [==============================] - 0s 3ms/step - loss: 4.1542 - mae: 1.4123 - val_loss: 5.5563 - val_mae: 1.7008 - lr: 0.0010\n",
      "Epoch 934/1000\n",
      "14/14 [==============================] - 0s 3ms/step - loss: 4.1768 - mae: 1.4266 - val_loss: 5.4942 - val_mae: 1.5828 - lr: 0.0010\n",
      "Epoch 935/1000\n",
      "14/14 [==============================] - 0s 3ms/step - loss: 4.0816 - mae: 1.4038 - val_loss: 5.3703 - val_mae: 1.6611 - lr: 0.0010\n",
      "Epoch 936/1000\n",
      "14/14 [==============================] - 0s 3ms/step - loss: 4.1461 - mae: 1.4348 - val_loss: 5.2745 - val_mae: 1.6092 - lr: 0.0010\n",
      "Epoch 937/1000\n",
      "14/14 [==============================] - 0s 3ms/step - loss: 4.2266 - mae: 1.4417 - val_loss: 5.9064 - val_mae: 1.6382 - lr: 0.0010\n",
      "Epoch 938/1000\n",
      "14/14 [==============================] - 0s 3ms/step - loss: 4.2046 - mae: 1.4275 - val_loss: 5.5484 - val_mae: 1.5896 - lr: 0.0010\n",
      "Epoch 939/1000\n",
      "14/14 [==============================] - 0s 3ms/step - loss: 4.1658 - mae: 1.4131 - val_loss: 5.4302 - val_mae: 1.6812 - lr: 0.0010\n",
      "Epoch 940/1000\n",
      "14/14 [==============================] - 0s 3ms/step - loss: 4.1646 - mae: 1.4356 - val_loss: 5.3132 - val_mae: 1.5818 - lr: 0.0010\n",
      "Epoch 941/1000\n",
      "14/14 [==============================] - 0s 3ms/step - loss: 4.1442 - mae: 1.4116 - val_loss: 5.5891 - val_mae: 1.5990 - lr: 0.0010\n",
      "Epoch 942/1000\n",
      "14/14 [==============================] - 0s 3ms/step - loss: 4.1511 - mae: 1.4197 - val_loss: 5.4648 - val_mae: 1.5729 - lr: 0.0010\n",
      "Epoch 943/1000\n",
      "14/14 [==============================] - 0s 3ms/step - loss: 4.1397 - mae: 1.4153 - val_loss: 5.4666 - val_mae: 1.5825 - lr: 0.0010\n",
      "Epoch 944/1000\n",
      "14/14 [==============================] - 0s 4ms/step - loss: 4.1860 - mae: 1.4227 - val_loss: 5.3530 - val_mae: 1.6106 - lr: 0.0010\n",
      "Epoch 945/1000\n",
      "14/14 [==============================] - 0s 3ms/step - loss: 4.1069 - mae: 1.4319 - val_loss: 5.3832 - val_mae: 1.6471 - lr: 0.0010\n",
      "Epoch 946/1000\n",
      "14/14 [==============================] - 0s 3ms/step - loss: 4.1147 - mae: 1.4161 - val_loss: 5.7739 - val_mae: 1.6029 - lr: 0.0010\n",
      "Epoch 947/1000\n",
      "14/14 [==============================] - 0s 3ms/step - loss: 4.1631 - mae: 1.4140 - val_loss: 5.4443 - val_mae: 1.5729 - lr: 0.0010\n",
      "Epoch 948/1000\n",
      "14/14 [==============================] - 0s 3ms/step - loss: 4.1579 - mae: 1.4268 - val_loss: 5.4752 - val_mae: 1.5697 - lr: 0.0010\n",
      "Epoch 949/1000\n",
      "14/14 [==============================] - 0s 3ms/step - loss: 4.1786 - mae: 1.4197 - val_loss: 5.2745 - val_mae: 1.6112 - lr: 0.0010\n",
      "Epoch 950/1000\n",
      "14/14 [==============================] - 0s 3ms/step - loss: 4.0967 - mae: 1.4191 - val_loss: 5.2391 - val_mae: 1.6037 - lr: 0.0010\n",
      "Epoch 951/1000\n",
      "14/14 [==============================] - 0s 3ms/step - loss: 4.2277 - mae: 1.4273 - val_loss: 5.5008 - val_mae: 1.6916 - lr: 0.0010\n",
      "Epoch 952/1000\n",
      "14/14 [==============================] - 0s 3ms/step - loss: 4.2049 - mae: 1.4424 - val_loss: 5.3638 - val_mae: 1.5772 - lr: 0.0010\n"
     ]
    },
    {
     "name": "stdout",
     "output_type": "stream",
     "text": [
      "Epoch 953/1000\n",
      "14/14 [==============================] - 0s 3ms/step - loss: 4.1314 - mae: 1.4153 - val_loss: 5.5482 - val_mae: 1.7089 - lr: 0.0010\n",
      "Epoch 954/1000\n",
      "14/14 [==============================] - 0s 3ms/step - loss: 4.0990 - mae: 1.4271 - val_loss: 5.6727 - val_mae: 1.6021 - lr: 0.0010\n",
      "Epoch 955/1000\n",
      "14/14 [==============================] - 0s 3ms/step - loss: 4.1729 - mae: 1.4168 - val_loss: 5.3938 - val_mae: 1.6132 - lr: 0.0010\n",
      "Epoch 956/1000\n",
      "14/14 [==============================] - 0s 3ms/step - loss: 4.1366 - mae: 1.4310 - val_loss: 5.2850 - val_mae: 1.6230 - lr: 0.0010\n",
      "Epoch 957/1000\n",
      "14/14 [==============================] - 0s 3ms/step - loss: 4.1886 - mae: 1.4256 - val_loss: 5.3741 - val_mae: 1.5884 - lr: 0.0010\n",
      "Epoch 958/1000\n",
      "14/14 [==============================] - 0s 3ms/step - loss: 4.1799 - mae: 1.4365 - val_loss: 5.4356 - val_mae: 1.6800 - lr: 0.0010\n",
      "Epoch 959/1000\n",
      "14/14 [==============================] - 0s 3ms/step - loss: 4.1235 - mae: 1.4232 - val_loss: 5.4000 - val_mae: 1.6458 - lr: 0.0010\n",
      "Epoch 960/1000\n",
      "14/14 [==============================] - 0s 6ms/step - loss: 4.1143 - mae: 1.4327 - val_loss: 5.6118 - val_mae: 1.6019 - lr: 0.0010\n",
      "Epoch 961/1000\n",
      "14/14 [==============================] - 0s 4ms/step - loss: 4.0962 - mae: 1.4106 - val_loss: 5.3642 - val_mae: 1.5809 - lr: 0.0010\n",
      "Epoch 962/1000\n",
      "14/14 [==============================] - 0s 3ms/step - loss: 4.1309 - mae: 1.4227 - val_loss: 5.6010 - val_mae: 1.6096 - lr: 0.0010\n",
      "Epoch 963/1000\n",
      "14/14 [==============================] - 0s 3ms/step - loss: 4.1355 - mae: 1.4161 - val_loss: 5.8152 - val_mae: 1.8287 - lr: 0.0010\n",
      "Epoch 964/1000\n",
      "14/14 [==============================] - 0s 3ms/step - loss: 4.1511 - mae: 1.4373 - val_loss: 5.9338 - val_mae: 1.8462 - lr: 0.0010\n",
      "Epoch 965/1000\n",
      "14/14 [==============================] - 0s 3ms/step - loss: 4.1757 - mae: 1.4405 - val_loss: 5.3796 - val_mae: 1.6733 - lr: 0.0010\n",
      "Epoch 966/1000\n",
      "14/14 [==============================] - 0s 3ms/step - loss: 4.1501 - mae: 1.4285 - val_loss: 5.7789 - val_mae: 1.6245 - lr: 0.0010\n",
      "Epoch 967/1000\n",
      "14/14 [==============================] - 0s 3ms/step - loss: 4.1084 - mae: 1.4101 - val_loss: 5.3817 - val_mae: 1.6175 - lr: 0.0010\n",
      "Epoch 968/1000\n",
      "14/14 [==============================] - 0s 3ms/step - loss: 4.1229 - mae: 1.4230 - val_loss: 5.6397 - val_mae: 1.5958 - lr: 0.0010\n",
      "Epoch 969/1000\n",
      "14/14 [==============================] - 0s 3ms/step - loss: 4.1999 - mae: 1.4325 - val_loss: 5.3840 - val_mae: 1.5765 - lr: 0.0010\n",
      "Epoch 970/1000\n",
      "14/14 [==============================] - 0s 3ms/step - loss: 4.1638 - mae: 1.4267 - val_loss: 5.2641 - val_mae: 1.5935 - lr: 0.0010\n",
      "Epoch 971/1000\n",
      "14/14 [==============================] - 0s 3ms/step - loss: 4.1129 - mae: 1.4120 - val_loss: 6.2747 - val_mae: 1.6907 - lr: 0.0010\n",
      "Epoch 972/1000\n",
      "14/14 [==============================] - 0s 4ms/step - loss: 4.1863 - mae: 1.4037 - val_loss: 5.3537 - val_mae: 1.6453 - lr: 0.0010\n",
      "Epoch 973/1000\n",
      "14/14 [==============================] - 0s 3ms/step - loss: 4.1260 - mae: 1.4317 - val_loss: 5.3007 - val_mae: 1.5656 - lr: 0.0010\n",
      "Epoch 974/1000\n",
      "14/14 [==============================] - 0s 3ms/step - loss: 4.1185 - mae: 1.4071 - val_loss: 6.1534 - val_mae: 1.6592 - lr: 0.0010\n",
      "Epoch 975/1000\n",
      "14/14 [==============================] - 0s 3ms/step - loss: 4.2061 - mae: 1.4142 - val_loss: 5.3083 - val_mae: 1.6146 - lr: 0.0010\n",
      "Epoch 976/1000\n",
      "14/14 [==============================] - 0s 3ms/step - loss: 4.0885 - mae: 1.4081 - val_loss: 5.3231 - val_mae: 1.6113 - lr: 0.0010\n",
      "Epoch 977/1000\n",
      "14/14 [==============================] - 0s 3ms/step - loss: 4.1771 - mae: 1.4427 - val_loss: 6.0523 - val_mae: 1.6365 - lr: 0.0010\n",
      "Epoch 978/1000\n",
      "14/14 [==============================] - 0s 4ms/step - loss: 4.1413 - mae: 1.4102 - val_loss: 5.7510 - val_mae: 1.6104 - lr: 0.0010\n",
      "Epoch 979/1000\n",
      "14/14 [==============================] - 0s 3ms/step - loss: 4.1460 - mae: 1.4057 - val_loss: 5.6211 - val_mae: 1.7409 - lr: 0.0010\n",
      "Epoch 980/1000\n",
      "14/14 [==============================] - 0s 3ms/step - loss: 4.0857 - mae: 1.4295 - val_loss: 6.0194 - val_mae: 1.8444 - lr: 0.0010\n",
      "Epoch 981/1000\n",
      "14/14 [==============================] - 0s 3ms/step - loss: 4.3190 - mae: 1.4590 - val_loss: 5.3136 - val_mae: 1.5775 - lr: 0.0010\n",
      "Epoch 982/1000\n",
      "14/14 [==============================] - 0s 3ms/step - loss: 4.0798 - mae: 1.4075 - val_loss: 5.9890 - val_mae: 1.6447 - lr: 0.0010\n",
      "Epoch 983/1000\n",
      "14/14 [==============================] - 0s 5ms/step - loss: 4.1301 - mae: 1.4031 - val_loss: 5.5479 - val_mae: 1.5902 - lr: 0.0010\n",
      "Epoch 984/1000\n",
      "14/14 [==============================] - 0s 3ms/step - loss: 4.1383 - mae: 1.4326 - val_loss: 6.1923 - val_mae: 1.6716 - lr: 0.0010\n",
      "Epoch 985/1000\n",
      "14/14 [==============================] - 0s 3ms/step - loss: 4.2299 - mae: 1.4305 - val_loss: 5.3338 - val_mae: 1.6372 - lr: 0.0010\n",
      "Epoch 986/1000\n",
      "14/14 [==============================] - 0s 3ms/step - loss: 4.1152 - mae: 1.4263 - val_loss: 5.9645 - val_mae: 1.6368 - lr: 0.0010\n",
      "Epoch 987/1000\n",
      "14/14 [==============================] - 0s 4ms/step - loss: 4.2329 - mae: 1.4371 - val_loss: 5.3364 - val_mae: 1.5713 - lr: 0.0010\n",
      "Epoch 988/1000\n",
      "14/14 [==============================] - 0s 3ms/step - loss: 4.0917 - mae: 1.4109 - val_loss: 5.5069 - val_mae: 1.5885 - lr: 0.0010\n",
      "Epoch 989/1000\n",
      "14/14 [==============================] - 0s 5ms/step - loss: 4.0935 - mae: 1.3979 - val_loss: 5.8284 - val_mae: 1.8404 - lr: 0.0010\n",
      "Epoch 990/1000\n",
      "14/14 [==============================] - 0s 3ms/step - loss: 4.2205 - mae: 1.4516 - val_loss: 5.3861 - val_mae: 1.6447 - lr: 0.0010\n",
      "Epoch 991/1000\n",
      "14/14 [==============================] - 0s 3ms/step - loss: 4.1638 - mae: 1.4270 - val_loss: 5.3827 - val_mae: 1.6650 - lr: 0.0010\n",
      "Epoch 992/1000\n",
      "14/14 [==============================] - 0s 3ms/step - loss: 4.2292 - mae: 1.4347 - val_loss: 5.4397 - val_mae: 1.5828 - lr: 0.0010\n",
      "Epoch 993/1000\n",
      "14/14 [==============================] - 0s 4ms/step - loss: 4.1241 - mae: 1.4030 - val_loss: 5.8372 - val_mae: 1.8139 - lr: 0.0010\n",
      "Epoch 994/1000\n",
      "14/14 [==============================] - 0s 4ms/step - loss: 4.2199 - mae: 1.4459 - val_loss: 5.2952 - val_mae: 1.6395 - lr: 0.0010\n",
      "Epoch 995/1000\n",
      "14/14 [==============================] - 0s 3ms/step - loss: 4.1579 - mae: 1.4356 - val_loss: 5.7028 - val_mae: 1.6156 - lr: 0.0010\n",
      "Epoch 996/1000\n",
      "14/14 [==============================] - 0s 3ms/step - loss: 4.0888 - mae: 1.4049 - val_loss: 5.4552 - val_mae: 1.5993 - lr: 0.0010\n",
      "Epoch 997/1000\n",
      "14/14 [==============================] - 0s 3ms/step - loss: 4.1523 - mae: 1.4291 - val_loss: 5.4666 - val_mae: 1.6582 - lr: 0.0010\n",
      "Epoch 998/1000\n",
      "14/14 [==============================] - 0s 3ms/step - loss: 4.1031 - mae: 1.4273 - val_loss: 6.3209 - val_mae: 1.7002 - lr: 0.0010\n",
      "Epoch 999/1000\n",
      "14/14 [==============================] - 0s 3ms/step - loss: 4.1976 - mae: 1.4169 - val_loss: 5.8893 - val_mae: 1.6398 - lr: 0.0010\n",
      "Epoch 1000/1000\n",
      "14/14 [==============================] - 0s 4ms/step - loss: 4.1727 - mae: 1.4122 - val_loss: 5.4567 - val_mae: 1.5857 - lr: 0.0010\n"
     ]
    }
   ],
   "source": [
    "# 모델 학습\n",
    "history = model.fit(train_x, train_y, validation_split=0.33, epochs=1000, batch_size=64, verbose=1, callbacks=[checkpointer,reduce_lr ])"
   ]
  },
  {
   "cell_type": "code",
   "execution_count": 312,
   "metadata": {},
   "outputs": [],
   "source": [
    "Y_prediction = model.predict(test_x) #1.3911,RMSprop,60,128"
   ]
  },
  {
   "cell_type": "code",
   "execution_count": 313,
   "metadata": {
    "scrolled": true
   },
   "outputs": [
    {
     "data": {
      "text/plain": [
       "array([[10.510117 ],\n",
       "       [14.393444 ],\n",
       "       [ 6.3187976],\n",
       "       ...,\n",
       "       [ 9.181968 ],\n",
       "       [10.13212  ],\n",
       "       [11.820642 ]], dtype=float32)"
      ]
     },
     "execution_count": 313,
     "metadata": {},
     "output_type": "execute_result"
    }
   ],
   "source": [
    "Y_prediction"
   ]
  },
  {
   "cell_type": "code",
   "execution_count": 287,
   "metadata": {},
   "outputs": [
    {
     "data": {
      "text/html": [
       "<div>\n",
       "<style scoped>\n",
       "    .dataframe tbody tr th:only-of-type {\n",
       "        vertical-align: middle;\n",
       "    }\n",
       "\n",
       "    .dataframe tbody tr th {\n",
       "        vertical-align: top;\n",
       "    }\n",
       "\n",
       "    .dataframe thead th {\n",
       "        text-align: right;\n",
       "    }\n",
       "</style>\n",
       "<table border=\"1\" class=\"dataframe\">\n",
       "  <thead>\n",
       "    <tr style=\"text-align: right;\">\n",
       "      <th></th>\n",
       "      <th>id</th>\n",
       "      <th>Target</th>\n",
       "    </tr>\n",
       "  </thead>\n",
       "  <tbody>\n",
       "    <tr>\n",
       "      <th>0</th>\n",
       "      <td>1</td>\n",
       "      <td>12.230926</td>\n",
       "    </tr>\n",
       "    <tr>\n",
       "      <th>1</th>\n",
       "      <td>2</td>\n",
       "      <td>15.482023</td>\n",
       "    </tr>\n",
       "    <tr>\n",
       "      <th>2</th>\n",
       "      <td>3</td>\n",
       "      <td>6.696159</td>\n",
       "    </tr>\n",
       "    <tr>\n",
       "      <th>3</th>\n",
       "      <td>4</td>\n",
       "      <td>14.303687</td>\n",
       "    </tr>\n",
       "    <tr>\n",
       "      <th>4</th>\n",
       "      <td>5</td>\n",
       "      <td>10.827878</td>\n",
       "    </tr>\n",
       "    <tr>\n",
       "      <th>...</th>\n",
       "      <td>...</td>\n",
       "      <td>...</td>\n",
       "    </tr>\n",
       "    <tr>\n",
       "      <th>2919</th>\n",
       "      <td>2920</td>\n",
       "      <td>4.648263</td>\n",
       "    </tr>\n",
       "    <tr>\n",
       "      <th>2920</th>\n",
       "      <td>2921</td>\n",
       "      <td>10.214509</td>\n",
       "    </tr>\n",
       "    <tr>\n",
       "      <th>2921</th>\n",
       "      <td>2922</td>\n",
       "      <td>11.697254</td>\n",
       "    </tr>\n",
       "    <tr>\n",
       "      <th>2922</th>\n",
       "      <td>2923</td>\n",
       "      <td>13.220867</td>\n",
       "    </tr>\n",
       "    <tr>\n",
       "      <th>2923</th>\n",
       "      <td>2924</td>\n",
       "      <td>14.601551</td>\n",
       "    </tr>\n",
       "  </tbody>\n",
       "</table>\n",
       "<p>2924 rows × 2 columns</p>\n",
       "</div>"
      ],
      "text/plain": [
       "        id     Target\n",
       "0        1  12.230926\n",
       "1        2  15.482023\n",
       "2        3   6.696159\n",
       "3        4  14.303687\n",
       "4        5  10.827878\n",
       "...    ...        ...\n",
       "2919  2920   4.648263\n",
       "2920  2921  10.214509\n",
       "2921  2922  11.697254\n",
       "2922  2923  13.220867\n",
       "2923  2924  14.601551\n",
       "\n",
       "[2924 rows x 2 columns]"
      ]
     },
     "execution_count": 287,
     "metadata": {},
     "output_type": "execute_result"
    }
   ],
   "source": [
    "submission = pd.read_csv('data/sample_submission.csv')\n",
    "submission['Target'] = Y_prediction\n",
    "\n",
    "# 데이터가 잘 들어갔는지 확인합니다\n",
    "submission"
   ]
  },
  {
   "cell_type": "code",
   "execution_count": 309,
   "metadata": {},
   "outputs": [],
   "source": [
    "submission.to_csv('deep1.38451_submit.csv', index=False)"
   ]
  },
  {
   "cell_type": "code",
   "execution_count": 310,
   "metadata": {},
   "outputs": [],
   "source": [
    "s = pd.read_csv('deep1.38451_submit.csv')"
   ]
  },
  {
   "cell_type": "code",
   "execution_count": 311,
   "metadata": {},
   "outputs": [
    {
     "data": {
      "text/html": [
       "<div>\n",
       "<style scoped>\n",
       "    .dataframe tbody tr th:only-of-type {\n",
       "        vertical-align: middle;\n",
       "    }\n",
       "\n",
       "    .dataframe tbody tr th {\n",
       "        vertical-align: top;\n",
       "    }\n",
       "\n",
       "    .dataframe thead th {\n",
       "        text-align: right;\n",
       "    }\n",
       "</style>\n",
       "<table border=\"1\" class=\"dataframe\">\n",
       "  <thead>\n",
       "    <tr style=\"text-align: right;\">\n",
       "      <th></th>\n",
       "      <th>id</th>\n",
       "      <th>Target</th>\n",
       "    </tr>\n",
       "  </thead>\n",
       "  <tbody>\n",
       "    <tr>\n",
       "      <th>0</th>\n",
       "      <td>1</td>\n",
       "      <td>12.230926</td>\n",
       "    </tr>\n",
       "    <tr>\n",
       "      <th>1</th>\n",
       "      <td>2</td>\n",
       "      <td>15.482023</td>\n",
       "    </tr>\n",
       "    <tr>\n",
       "      <th>2</th>\n",
       "      <td>3</td>\n",
       "      <td>6.696159</td>\n",
       "    </tr>\n",
       "    <tr>\n",
       "      <th>3</th>\n",
       "      <td>4</td>\n",
       "      <td>14.303687</td>\n",
       "    </tr>\n",
       "    <tr>\n",
       "      <th>4</th>\n",
       "      <td>5</td>\n",
       "      <td>10.827878</td>\n",
       "    </tr>\n",
       "    <tr>\n",
       "      <th>...</th>\n",
       "      <td>...</td>\n",
       "      <td>...</td>\n",
       "    </tr>\n",
       "    <tr>\n",
       "      <th>2919</th>\n",
       "      <td>2920</td>\n",
       "      <td>4.648263</td>\n",
       "    </tr>\n",
       "    <tr>\n",
       "      <th>2920</th>\n",
       "      <td>2921</td>\n",
       "      <td>10.214509</td>\n",
       "    </tr>\n",
       "    <tr>\n",
       "      <th>2921</th>\n",
       "      <td>2922</td>\n",
       "      <td>11.697254</td>\n",
       "    </tr>\n",
       "    <tr>\n",
       "      <th>2922</th>\n",
       "      <td>2923</td>\n",
       "      <td>13.220867</td>\n",
       "    </tr>\n",
       "    <tr>\n",
       "      <th>2923</th>\n",
       "      <td>2924</td>\n",
       "      <td>14.601551</td>\n",
       "    </tr>\n",
       "  </tbody>\n",
       "</table>\n",
       "<p>2924 rows × 2 columns</p>\n",
       "</div>"
      ],
      "text/plain": [
       "        id     Target\n",
       "0        1  12.230926\n",
       "1        2  15.482023\n",
       "2        3   6.696159\n",
       "3        4  14.303687\n",
       "4        5  10.827878\n",
       "...    ...        ...\n",
       "2919  2920   4.648263\n",
       "2920  2921  10.214509\n",
       "2921  2922  11.697254\n",
       "2922  2923  13.220867\n",
       "2923  2924  14.601551\n",
       "\n",
       "[2924 rows x 2 columns]"
      ]
     },
     "execution_count": 311,
     "metadata": {},
     "output_type": "execute_result"
    }
   ],
   "source": [
    "s"
   ]
  },
  {
   "cell_type": "markdown",
   "metadata": {},
   "source": [
    "# RandomForest"
   ]
  },
  {
   "cell_type": "markdown",
   "metadata": {},
   "source": [
    "## 배깅"
   ]
  },
  {
   "cell_type": "code",
   "execution_count": 9,
   "metadata": {},
   "outputs": [],
   "source": [
    "from sklearn.ensemble import RandomForestRegressor"
   ]
  },
  {
   "cell_type": "code",
   "execution_count": 10,
   "metadata": {},
   "outputs": [
    {
     "data": {
      "text/plain": [
       "RandomForestRegressor()"
      ]
     },
     "execution_count": 10,
     "metadata": {},
     "output_type": "execute_result"
    }
   ],
   "source": [
    "model = RandomForestRegressor() # 모델을 객체에 할당\n",
    "\n",
    "model.fit(train_x, train_y) # 모델 학습"
   ]
  },
  {
   "cell_type": "code",
   "execution_count": 12,
   "metadata": {},
   "outputs": [
    {
     "data": {
      "text/html": [
       "<div>\n",
       "<style scoped>\n",
       "    .dataframe tbody tr th:only-of-type {\n",
       "        vertical-align: middle;\n",
       "    }\n",
       "\n",
       "    .dataframe tbody tr th {\n",
       "        vertical-align: top;\n",
       "    }\n",
       "\n",
       "    .dataframe thead th {\n",
       "        text-align: right;\n",
       "    }\n",
       "</style>\n",
       "<table border=\"1\" class=\"dataframe\">\n",
       "  <thead>\n",
       "    <tr style=\"text-align: right;\">\n",
       "      <th></th>\n",
       "      <th>id</th>\n",
       "      <th>Gender</th>\n",
       "      <th>Lenght</th>\n",
       "      <th>Diameter</th>\n",
       "      <th>Height</th>\n",
       "      <th>Whole Weight</th>\n",
       "      <th>Shucked Weight</th>\n",
       "      <th>Viscra Weight</th>\n",
       "      <th>Shell Weight</th>\n",
       "    </tr>\n",
       "  </thead>\n",
       "  <tbody>\n",
       "    <tr>\n",
       "      <th>0</th>\n",
       "      <td>1</td>\n",
       "      <td>F</td>\n",
       "      <td>0.595</td>\n",
       "      <td>0.470</td>\n",
       "      <td>0.155</td>\n",
       "      <td>1.121</td>\n",
       "      <td>0.4515</td>\n",
       "      <td>0.1780</td>\n",
       "      <td>0.1550</td>\n",
       "    </tr>\n",
       "    <tr>\n",
       "      <th>1</th>\n",
       "      <td>2</td>\n",
       "      <td>M</td>\n",
       "      <td>0.580</td>\n",
       "      <td>0.450</td>\n",
       "      <td>0.150</td>\n",
       "      <td>0.927</td>\n",
       "      <td>0.2760</td>\n",
       "      <td>0.1815</td>\n",
       "      <td>0.3600</td>\n",
       "    </tr>\n",
       "    <tr>\n",
       "      <th>2</th>\n",
       "      <td>3</td>\n",
       "      <td>I</td>\n",
       "      <td>0.260</td>\n",
       "      <td>0.205</td>\n",
       "      <td>0.070</td>\n",
       "      <td>0.097</td>\n",
       "      <td>0.0415</td>\n",
       "      <td>0.0190</td>\n",
       "      <td>0.0305</td>\n",
       "    </tr>\n",
       "    <tr>\n",
       "      <th>3</th>\n",
       "      <td>4</td>\n",
       "      <td>M</td>\n",
       "      <td>0.590</td>\n",
       "      <td>0.460</td>\n",
       "      <td>0.130</td>\n",
       "      <td>1.102</td>\n",
       "      <td>0.4550</td>\n",
       "      <td>0.2055</td>\n",
       "      <td>0.3300</td>\n",
       "    </tr>\n",
       "    <tr>\n",
       "      <th>4</th>\n",
       "      <td>5</td>\n",
       "      <td>F</td>\n",
       "      <td>0.595</td>\n",
       "      <td>0.465</td>\n",
       "      <td>0.140</td>\n",
       "      <td>1.113</td>\n",
       "      <td>0.5175</td>\n",
       "      <td>0.2440</td>\n",
       "      <td>0.3050</td>\n",
       "    </tr>\n",
       "  </tbody>\n",
       "</table>\n",
       "</div>"
      ],
      "text/plain": [
       "   id Gender  Lenght  Diameter  Height  Whole Weight  Shucked Weight  \\\n",
       "0   1      F   0.595     0.470   0.155         1.121          0.4515   \n",
       "1   2      M   0.580     0.450   0.150         0.927          0.2760   \n",
       "2   3      I   0.260     0.205   0.070         0.097          0.0415   \n",
       "3   4      M   0.590     0.460   0.130         1.102          0.4550   \n",
       "4   5      F   0.595     0.465   0.140         1.113          0.5175   \n",
       "\n",
       "   Viscra Weight  Shell Weight  \n",
       "0         0.1780        0.1550  \n",
       "1         0.1815        0.3600  \n",
       "2         0.0190        0.0305  \n",
       "3         0.2055        0.3300  \n",
       "4         0.2440        0.3050  "
      ]
     },
     "execution_count": 12,
     "metadata": {},
     "output_type": "execute_result"
    }
   ],
   "source": [
    "test_df = pd.read_csv('data/test.csv')\n",
    "test_df.head()"
   ]
  },
  {
   "cell_type": "code",
   "execution_count": 13,
   "metadata": {
    "scrolled": true
   },
   "outputs": [
    {
     "data": {
      "text/html": [
       "<div>\n",
       "<style scoped>\n",
       "    .dataframe tbody tr th:only-of-type {\n",
       "        vertical-align: middle;\n",
       "    }\n",
       "\n",
       "    .dataframe tbody tr th {\n",
       "        vertical-align: top;\n",
       "    }\n",
       "\n",
       "    .dataframe thead th {\n",
       "        text-align: right;\n",
       "    }\n",
       "</style>\n",
       "<table border=\"1\" class=\"dataframe\">\n",
       "  <thead>\n",
       "    <tr style=\"text-align: right;\">\n",
       "      <th></th>\n",
       "      <th>id</th>\n",
       "      <th>Gender</th>\n",
       "      <th>Lenght</th>\n",
       "      <th>Diameter</th>\n",
       "      <th>Height</th>\n",
       "      <th>Whole Weight</th>\n",
       "      <th>Shucked Weight</th>\n",
       "      <th>Viscra Weight</th>\n",
       "      <th>Shell Weight</th>\n",
       "    </tr>\n",
       "  </thead>\n",
       "  <tbody>\n",
       "    <tr>\n",
       "      <th>0</th>\n",
       "      <td>1</td>\n",
       "      <td>3</td>\n",
       "      <td>0.595</td>\n",
       "      <td>0.470</td>\n",
       "      <td>0.155</td>\n",
       "      <td>1.121</td>\n",
       "      <td>0.4515</td>\n",
       "      <td>0.1780</td>\n",
       "      <td>0.1550</td>\n",
       "    </tr>\n",
       "    <tr>\n",
       "      <th>1</th>\n",
       "      <td>2</td>\n",
       "      <td>1</td>\n",
       "      <td>0.580</td>\n",
       "      <td>0.450</td>\n",
       "      <td>0.150</td>\n",
       "      <td>0.927</td>\n",
       "      <td>0.2760</td>\n",
       "      <td>0.1815</td>\n",
       "      <td>0.3600</td>\n",
       "    </tr>\n",
       "    <tr>\n",
       "      <th>2</th>\n",
       "      <td>3</td>\n",
       "      <td>2</td>\n",
       "      <td>0.260</td>\n",
       "      <td>0.205</td>\n",
       "      <td>0.070</td>\n",
       "      <td>0.097</td>\n",
       "      <td>0.0415</td>\n",
       "      <td>0.0190</td>\n",
       "      <td>0.0305</td>\n",
       "    </tr>\n",
       "    <tr>\n",
       "      <th>3</th>\n",
       "      <td>4</td>\n",
       "      <td>1</td>\n",
       "      <td>0.590</td>\n",
       "      <td>0.460</td>\n",
       "      <td>0.130</td>\n",
       "      <td>1.102</td>\n",
       "      <td>0.4550</td>\n",
       "      <td>0.2055</td>\n",
       "      <td>0.3300</td>\n",
       "    </tr>\n",
       "    <tr>\n",
       "      <th>4</th>\n",
       "      <td>5</td>\n",
       "      <td>3</td>\n",
       "      <td>0.595</td>\n",
       "      <td>0.465</td>\n",
       "      <td>0.140</td>\n",
       "      <td>1.113</td>\n",
       "      <td>0.5175</td>\n",
       "      <td>0.2440</td>\n",
       "      <td>0.3050</td>\n",
       "    </tr>\n",
       "  </tbody>\n",
       "</table>\n",
       "</div>"
      ],
      "text/plain": [
       "   id  Gender  Lenght  Diameter  Height  Whole Weight  Shucked Weight  \\\n",
       "0   1       3   0.595     0.470   0.155         1.121          0.4515   \n",
       "1   2       1   0.580     0.450   0.150         0.927          0.2760   \n",
       "2   3       2   0.260     0.205   0.070         0.097          0.0415   \n",
       "3   4       1   0.590     0.460   0.130         1.102          0.4550   \n",
       "4   5       3   0.595     0.465   0.140         1.113          0.5175   \n",
       "\n",
       "   Viscra Weight  Shell Weight  \n",
       "0         0.1780        0.1550  \n",
       "1         0.1815        0.3600  \n",
       "2         0.0190        0.0305  \n",
       "3         0.2055        0.3300  \n",
       "4         0.2440        0.3050  "
      ]
     },
     "execution_count": 13,
     "metadata": {},
     "output_type": "execute_result"
    }
   ],
   "source": [
    "gender_df = label_encoder(test_df[['Gender']], train_le)\n",
    "test_df['Gender'] = gender_df[['Gender']]\n",
    "\n",
    "test_df.head()"
   ]
  },
  {
   "cell_type": "code",
   "execution_count": 16,
   "metadata": {},
   "outputs": [],
   "source": [
    "test_x = test_df.drop(['id'],axis=1)"
   ]
  },
  {
   "cell_type": "code",
   "execution_count": 17,
   "metadata": {},
   "outputs": [],
   "source": [
    "# 전처리가 완료된 테스트 데이터셋을 통해 본격적으로 학습한 모델로 추론을 시작합니다.\n",
    "prediction = model.predict(test_x)"
   ]
  },
  {
   "cell_type": "code",
   "execution_count": null,
   "metadata": {},
   "outputs": [],
   "source": []
  },
  {
   "cell_type": "code",
   "execution_count": null,
   "metadata": {},
   "outputs": [],
   "source": []
  },
  {
   "cell_type": "code",
   "execution_count": 11,
   "metadata": {},
   "outputs": [],
   "source": [
    "# 딥러닝을 구동하는 데 필요한 케라스 함수를 불러옵니다.\n",
    "from tensorflow.keras.models import Sequential\n",
    "from tensorflow.keras.layers import Dense\n",
    "\n",
    "# 필요한 라이브러리를 불러옵니다.\n",
    "import numpy\n",
    "import tensorflow as tf\n",
    "\n",
    "# 실행할 때마다 같은 결과를 출력하기 위해 설정하는 부분입니다.\n",
    "numpy.random.seed(3)\n",
    "tf.random.set_seed(3)\n",
    "\n",
    "\n",
    "\n",
    "# 모델을 설정합니다.#레이어 3개\n",
    "model = Sequential()\n",
    "model.add(Dense(12, input_dim=8, activation='relu'))#숫자는 몇을 줘야 가장 좋은 결과가 나오는지 알아내야되긴함\n",
    "model.add(Dense(8, activation='relu'))\n",
    "model.add(Dense(1, activation='sigmoid'))\n",
    "\n",
    "# 모델을 컴파일합니다.\n",
    "model.compile(loss='mae',\n",
    "             optimizer='adam',\n",
    "             metrics=['mae'])"
   ]
  },
  {
   "cell_type": "code",
   "execution_count": 13,
   "metadata": {},
   "outputs": [
    {
     "name": "stdout",
     "output_type": "stream",
     "text": [
      "Epoch 1/200\n",
      "126/126 [==============================] - 0s 1ms/step - loss: 8.9122 - mae: 8.9122\n",
      "Epoch 2/200\n",
      "126/126 [==============================] - 0s 966us/step - loss: 8.9122 - mae: 8.9122\n",
      "Epoch 3/200\n",
      "126/126 [==============================] - 0s 988us/step - loss: 8.9122 - mae: 8.9122\n",
      "Epoch 4/200\n",
      "126/126 [==============================] - 0s 1ms/step - loss: 8.9122 - mae: 8.9122\n",
      "Epoch 5/200\n",
      "126/126 [==============================] - 0s 1ms/step - loss: 8.9122 - mae: 8.9122\n",
      "Epoch 6/200\n",
      "126/126 [==============================] - 0s 1ms/step - loss: 8.9122 - mae: 8.9122\n",
      "Epoch 7/200\n",
      "126/126 [==============================] - 0s 999us/step - loss: 8.9122 - mae: 8.9122\n",
      "Epoch 8/200\n",
      "126/126 [==============================] - 0s 1ms/step - loss: 8.9122 - mae: 8.9122\n",
      "Epoch 9/200\n",
      "126/126 [==============================] - 0s 976us/step - loss: 8.9122 - mae: 8.9122\n",
      "Epoch 10/200\n",
      "126/126 [==============================] - 0s 804us/step - loss: 8.9122 - mae: 8.9122\n",
      "Epoch 11/200\n",
      "126/126 [==============================] - 0s 854us/step - loss: 8.9122 - mae: 8.9122\n",
      "Epoch 12/200\n",
      "126/126 [==============================] - 0s 877us/step - loss: 8.9122 - mae: 8.9122\n",
      "Epoch 13/200\n",
      "126/126 [==============================] - 0s 907us/step - loss: 8.9122 - mae: 8.9122\n",
      "Epoch 14/200\n",
      "126/126 [==============================] - 0s 878us/step - loss: 8.9122 - mae: 8.9122\n",
      "Epoch 15/200\n",
      "126/126 [==============================] - 0s 957us/step - loss: 8.9122 - mae: 8.9122\n",
      "Epoch 16/200\n",
      "126/126 [==============================] - 0s 806us/step - loss: 8.9122 - mae: 8.9122\n",
      "Epoch 17/200\n",
      "126/126 [==============================] - 0s 846us/step - loss: 8.9122 - mae: 8.9122\n",
      "Epoch 18/200\n",
      "126/126 [==============================] - 0s 822us/step - loss: 8.9122 - mae: 8.9122\n",
      "Epoch 19/200\n",
      "126/126 [==============================] - 0s 878us/step - loss: 8.9122 - mae: 8.9122\n",
      "Epoch 20/200\n",
      "126/126 [==============================] - 0s 870us/step - loss: 8.9122 - mae: 8.9122\n",
      "Epoch 21/200\n",
      "126/126 [==============================] - 0s 894us/step - loss: 8.9122 - mae: 8.9122\n",
      "Epoch 22/200\n",
      "126/126 [==============================] - 0s 862us/step - loss: 8.9122 - mae: 8.9122\n",
      "Epoch 23/200\n",
      "126/126 [==============================] - 0s 846us/step - loss: 8.9122 - mae: 8.9122\n",
      "Epoch 24/200\n",
      "126/126 [==============================] - 0s 830us/step - loss: 8.9122 - mae: 8.9122\n",
      "Epoch 25/200\n",
      "126/126 [==============================] - 0s 846us/step - loss: 8.9122 - mae: 8.9122\n",
      "Epoch 26/200\n",
      "126/126 [==============================] - 0s 1ms/step - loss: 8.9122 - mae: 8.9122\n",
      "Epoch 27/200\n",
      "126/126 [==============================] - 0s 830us/step - loss: 8.9122 - mae: 8.9122\n",
      "Epoch 28/200\n",
      "126/126 [==============================] - 0s 798us/step - loss: 8.9122 - mae: 8.9122\n",
      "Epoch 29/200\n",
      "126/126 [==============================] - 0s 918us/step - loss: 8.9122 - mae: 8.9122\n",
      "Epoch 30/200\n",
      "126/126 [==============================] - 0s 933us/step - loss: 8.9122 - mae: 8.9122\n",
      "Epoch 31/200\n",
      "126/126 [==============================] - 0s 854us/step - loss: 8.9122 - mae: 8.9122\n",
      "Epoch 32/200\n",
      "126/126 [==============================] - 0s 798us/step - loss: 8.9122 - mae: 8.9122\n",
      "Epoch 33/200\n",
      "126/126 [==============================] - 0s 870us/step - loss: 8.9122 - mae: 8.9122\n",
      "Epoch 34/200\n",
      "126/126 [==============================] - 0s 880us/step - loss: 8.9122 - mae: 8.9122\n",
      "Epoch 35/200\n",
      "126/126 [==============================] - 0s 901us/step - loss: 8.9122 - mae: 8.9122\n",
      "Epoch 36/200\n",
      "126/126 [==============================] - 0s 898us/step - loss: 8.9122 - mae: 8.9122\n",
      "Epoch 37/200\n",
      "126/126 [==============================] - 0s 846us/step - loss: 8.9122 - mae: 8.9122\n",
      "Epoch 38/200\n",
      "126/126 [==============================] - 0s 846us/step - loss: 8.9122 - mae: 8.9122\n",
      "Epoch 39/200\n",
      "126/126 [==============================] - 0s 861us/step - loss: 8.9122 - mae: 8.9122\n",
      "Epoch 40/200\n",
      "126/126 [==============================] - 0s 874us/step - loss: 8.9122 - mae: 8.9122\n",
      "Epoch 41/200\n",
      "126/126 [==============================] - 0s 926us/step - loss: 8.9122 - mae: 8.9122\n",
      "Epoch 42/200\n",
      "126/126 [==============================] - 0s 798us/step - loss: 8.9122 - mae: 8.9122\n",
      "Epoch 43/200\n",
      "126/126 [==============================] - 0s 798us/step - loss: 8.9122 - mae: 8.9122\n",
      "Epoch 44/200\n",
      "126/126 [==============================] - 0s 854us/step - loss: 8.9122 - mae: 8.9122\n",
      "Epoch 45/200\n",
      "126/126 [==============================] - 0s 902us/step - loss: 8.9122 - mae: 8.9122\n",
      "Epoch 46/200\n",
      "126/126 [==============================] - 0s 918us/step - loss: 8.9122 - mae: 8.9122\n",
      "Epoch 47/200\n",
      "126/126 [==============================] - 0s 846us/step - loss: 8.9122 - mae: 8.9122\n",
      "Epoch 48/200\n",
      "126/126 [==============================] - 0s 862us/step - loss: 8.9122 - mae: 8.9122\n",
      "Epoch 49/200\n",
      "126/126 [==============================] - 0s 926us/step - loss: 8.9122 - mae: 8.9122\n",
      "Epoch 50/200\n",
      "126/126 [==============================] - 0s 926us/step - loss: 8.9122 - mae: 8.9122\n",
      "Epoch 51/200\n",
      "126/126 [==============================] - 0s 845us/step - loss: 8.9122 - mae: 8.9122\n",
      "Epoch 52/200\n",
      "126/126 [==============================] - 0s 835us/step - loss: 8.9122 - mae: 8.9122\n",
      "Epoch 53/200\n",
      "126/126 [==============================] - 0s 902us/step - loss: 8.9122 - mae: 8.9122\n",
      "Epoch 54/200\n",
      "126/126 [==============================] - 0s 926us/step - loss: 8.9122 - mae: 8.9122\n",
      "Epoch 55/200\n",
      "126/126 [==============================] - 0s 806us/step - loss: 8.9122 - mae: 8.9122\n",
      "Epoch 56/200\n",
      "126/126 [==============================] - 0s 854us/step - loss: 8.9122 - mae: 8.9122\n",
      "Epoch 57/200\n",
      "126/126 [==============================] - 0s 894us/step - loss: 8.9122 - mae: 8.9122\n",
      "Epoch 58/200\n",
      "126/126 [==============================] - 0s 870us/step - loss: 8.9122 - mae: 8.9122\n",
      "Epoch 59/200\n",
      "126/126 [==============================] - 0s 854us/step - loss: 8.9122 - mae: 8.9122\n",
      "Epoch 60/200\n",
      "126/126 [==============================] - 0s 846us/step - loss: 8.9122 - mae: 8.9122\n",
      "Epoch 61/200\n",
      "126/126 [==============================] - 0s 830us/step - loss: 8.9122 - mae: 8.9122\n",
      "Epoch 62/200\n",
      "126/126 [==============================] - 0s 858us/step - loss: 8.9122 - mae: 8.9122\n",
      "Epoch 63/200\n",
      "126/126 [==============================] - 0s 867us/step - loss: 8.9122 - mae: 8.9122\n",
      "Epoch 64/200\n",
      "126/126 [==============================] - 0s 854us/step - loss: 8.9122 - mae: 8.9122\n",
      "Epoch 65/200\n",
      "126/126 [==============================] - 0s 846us/step - loss: 8.9122 - mae: 8.9122\n",
      "Epoch 66/200\n",
      "126/126 [==============================] - 0s 821us/step - loss: 8.9122 - mae: 8.9122\n",
      "Epoch 67/200\n",
      "126/126 [==============================] - 0s 878us/step - loss: 8.9122 - mae: 8.9122\n",
      "Epoch 68/200\n",
      "126/126 [==============================] - 0s 941us/step - loss: 8.9122 - mae: 8.9122\n",
      "Epoch 69/200\n",
      "126/126 [==============================] - 0s 798us/step - loss: 8.9122 - mae: 8.9122\n",
      "Epoch 70/200\n",
      "126/126 [==============================] - 0s 822us/step - loss: 8.9122 - mae: 8.9122\n",
      "Epoch 71/200\n",
      "126/126 [==============================] - 0s 854us/step - loss: 8.9122 - mae: 8.9122\n",
      "Epoch 72/200\n",
      "126/126 [==============================] - 0s 822us/step - loss: 8.9122 - mae: 8.9122\n",
      "Epoch 73/200\n",
      "126/126 [==============================] - 0s 838us/step - loss: 8.9122 - mae: 8.9122\n",
      "Epoch 74/200\n",
      "126/126 [==============================] - 0s 830us/step - loss: 8.9122 - mae: 8.9122\n",
      "Epoch 75/200\n",
      "126/126 [==============================] - 0s 846us/step - loss: 8.9122 - mae: 8.9122\n",
      "Epoch 76/200\n",
      "126/126 [==============================] - 0s 838us/step - loss: 8.9122 - mae: 8.9122\n",
      "Epoch 77/200\n",
      "126/126 [==============================] - 0s 806us/step - loss: 8.9122 - mae: 8.9122\n",
      "Epoch 78/200\n",
      "126/126 [==============================] - 0s 826us/step - loss: 8.9122 - mae: 8.9122\n",
      "Epoch 79/200\n",
      "126/126 [==============================] - 0s 981us/step - loss: 8.9122 - mae: 8.9122\n",
      "Epoch 80/200\n",
      "126/126 [==============================] - 0s 1ms/step - loss: 8.9122 - mae: 8.9122\n",
      "Epoch 81/200\n",
      "126/126 [==============================] - 0s 830us/step - loss: 8.9122 - mae: 8.9122\n",
      "Epoch 82/200\n",
      "126/126 [==============================] - 0s 774us/step - loss: 8.9122 - mae: 8.9122\n",
      "Epoch 83/200\n",
      "126/126 [==============================] - 0s 790us/step - loss: 8.9122 - mae: 8.9122\n"
     ]
    },
    {
     "name": "stdout",
     "output_type": "stream",
     "text": [
      "Epoch 84/200\n",
      "126/126 [==============================] - 0s 997us/step - loss: 8.9122 - mae: 8.9122\n",
      "Epoch 85/200\n",
      "126/126 [==============================] - 0s 989us/step - loss: 8.9122 - mae: 8.9122\n",
      "Epoch 86/200\n",
      "126/126 [==============================] - 0s 941us/step - loss: 8.9122 - mae: 8.9122\n",
      "Epoch 87/200\n",
      "126/126 [==============================] - 0s 912us/step - loss: 8.9122 - mae: 8.9122\n",
      "Epoch 88/200\n",
      "126/126 [==============================] - 0s 893us/step - loss: 8.9122 - mae: 8.9122\n",
      "Epoch 89/200\n",
      "126/126 [==============================] - 0s 870us/step - loss: 8.9122 - mae: 8.9122\n",
      "Epoch 90/200\n",
      "126/126 [==============================] - 0s 835us/step - loss: 8.9122 - mae: 8.9122\n",
      "Epoch 91/200\n",
      "126/126 [==============================] - 0s 846us/step - loss: 8.9122 - mae: 8.9122\n",
      "Epoch 92/200\n",
      "126/126 [==============================] - 0s 830us/step - loss: 8.9122 - mae: 8.9122\n",
      "Epoch 93/200\n",
      "126/126 [==============================] - 0s 798us/step - loss: 8.9122 - mae: 8.9122\n",
      "Epoch 94/200\n",
      "126/126 [==============================] - 0s 854us/step - loss: 8.9122 - mae: 8.9122\n",
      "Epoch 95/200\n",
      "126/126 [==============================] - 0s 846us/step - loss: 8.9122 - mae: 8.9122\n",
      "Epoch 96/200\n",
      "126/126 [==============================] - 0s 894us/step - loss: 8.9122 - mae: 8.9122\n",
      "Epoch 97/200\n",
      "126/126 [==============================] - 0s 822us/step - loss: 8.9122 - mae: 8.9122\n",
      "Epoch 98/200\n",
      "126/126 [==============================] - 0s 846us/step - loss: 8.9122 - mae: 8.9122\n",
      "Epoch 99/200\n",
      "126/126 [==============================] - 0s 862us/step - loss: 8.9122 - mae: 8.9122\n",
      "Epoch 100/200\n",
      "126/126 [==============================] - 0s 903us/step - loss: 8.9122 - mae: 8.9122\n",
      "Epoch 101/200\n",
      "126/126 [==============================] - 0s 830us/step - loss: 8.9122 - mae: 8.9122\n",
      "Epoch 102/200\n",
      "126/126 [==============================] - 0s 878us/step - loss: 8.9122 - mae: 8.9122\n",
      "Epoch 103/200\n",
      "126/126 [==============================] - 0s 831us/step - loss: 8.9122 - mae: 8.9122\n",
      "Epoch 104/200\n",
      "126/126 [==============================] - 0s 957us/step - loss: 8.9122 - mae: 8.9122\n",
      "Epoch 105/200\n",
      "126/126 [==============================] - 0s 830us/step - loss: 8.9122 - mae: 8.9122\n",
      "Epoch 106/200\n",
      "126/126 [==============================] - 0s 798us/step - loss: 8.9122 - mae: 8.9122\n",
      "Epoch 107/200\n",
      "126/126 [==============================] - 0s 918us/step - loss: 8.9122 - mae: 8.9122\n",
      "Epoch 108/200\n",
      "126/126 [==============================] - 0s 838us/step - loss: 8.9122 - mae: 8.9122\n",
      "Epoch 109/200\n",
      "126/126 [==============================] - 0s 806us/step - loss: 8.9122 - mae: 8.9122\n",
      "Epoch 110/200\n",
      "126/126 [==============================] - 0s 862us/step - loss: 8.9122 - mae: 8.9122\n",
      "Epoch 111/200\n",
      "126/126 [==============================] - 0s 902us/step - loss: 8.9122 - mae: 8.9122\n",
      "Epoch 112/200\n",
      "126/126 [==============================] - 0s 846us/step - loss: 8.9122 - mae: 8.9122\n",
      "Epoch 113/200\n",
      "126/126 [==============================] - 0s 910us/step - loss: 8.9122 - mae: 8.9122\n",
      "Epoch 114/200\n",
      "126/126 [==============================] - 0s 822us/step - loss: 8.9122 - mae: 8.9122\n",
      "Epoch 115/200\n",
      "126/126 [==============================] - 0s 948us/step - loss: 8.9122 - mae: 8.9122\n",
      "Epoch 116/200\n",
      "126/126 [==============================] - 0s 862us/step - loss: 8.9122 - mae: 8.9122\n",
      "Epoch 117/200\n",
      "126/126 [==============================] - 0s 910us/step - loss: 8.9122 - mae: 8.9122\n",
      "Epoch 118/200\n",
      "126/126 [==============================] - 0s 1ms/step - loss: 8.9122 - mae: 8.9122\n",
      "Epoch 119/200\n",
      "126/126 [==============================] - 0s 822us/step - loss: 8.9122 - mae: 8.9122\n",
      "Epoch 120/200\n",
      "126/126 [==============================] - 0s 894us/step - loss: 8.9122 - mae: 8.9122\n",
      "Epoch 121/200\n",
      "126/126 [==============================] - 0s 981us/step - loss: 8.9122 - mae: 8.9122\n",
      "Epoch 122/200\n",
      "126/126 [==============================] - 0s 965us/step - loss: 8.9122 - mae: 8.9122\n",
      "Epoch 123/200\n",
      "126/126 [==============================] - 0s 910us/step - loss: 8.9122 - mae: 8.9122\n",
      "Epoch 124/200\n",
      "126/126 [==============================] - 0s 790us/step - loss: 8.9122 - mae: 8.9122\n",
      "Epoch 125/200\n",
      "126/126 [==============================] - 0s 854us/step - loss: 8.9122 - mae: 8.9122\n",
      "Epoch 126/200\n",
      "126/126 [==============================] - 0s 854us/step - loss: 8.9122 - mae: 8.9122\n",
      "Epoch 127/200\n",
      "126/126 [==============================] - 0s 846us/step - loss: 8.9122 - mae: 8.9122\n",
      "Epoch 128/200\n",
      "126/126 [==============================] - 0s 1ms/step - loss: 8.9122 - mae: 8.9122\n",
      "Epoch 129/200\n",
      "126/126 [==============================] - 0s 821us/step - loss: 8.9122 - mae: 8.9122\n",
      "Epoch 130/200\n",
      "126/126 [==============================] - 0s 798us/step - loss: 8.9122 - mae: 8.9122\n",
      "Epoch 131/200\n",
      "126/126 [==============================] - 0s 854us/step - loss: 8.9122 - mae: 8.9122\n",
      "Epoch 132/200\n",
      "126/126 [==============================] - 0s 1ms/step - loss: 8.9122 - mae: 8.9122\n",
      "Epoch 133/200\n",
      "126/126 [==============================] - 0s 918us/step - loss: 8.9122 - mae: 8.9122\n",
      "Epoch 134/200\n",
      "126/126 [==============================] - 0s 830us/step - loss: 8.9122 - mae: 8.9122\n",
      "Epoch 135/200\n",
      "126/126 [==============================] - 0s 886us/step - loss: 8.9122 - mae: 8.9122\n",
      "Epoch 136/200\n",
      "126/126 [==============================] - 0s 1ms/step - loss: 8.9122 - mae: 8.9122\n",
      "Epoch 137/200\n",
      "126/126 [==============================] - 0s 926us/step - loss: 8.9122 - mae: 8.9122\n",
      "Epoch 138/200\n",
      "126/126 [==============================] - 0s 838us/step - loss: 8.9122 - mae: 8.9122\n",
      "Epoch 139/200\n",
      "126/126 [==============================] - 0s 941us/step - loss: 8.9122 - mae: 8.9122\n",
      "Epoch 140/200\n",
      "126/126 [==============================] - 0s 854us/step - loss: 8.9122 - mae: 8.9122\n",
      "Epoch 141/200\n",
      "126/126 [==============================] - 0s 806us/step - loss: 8.9122 - mae: 8.9122\n",
      "Epoch 142/200\n",
      "126/126 [==============================] - 0s 863us/step - loss: 8.9122 - mae: 8.9122\n",
      "Epoch 143/200\n",
      "126/126 [==============================] - 0s 863us/step - loss: 8.9122 - mae: 8.9122\n",
      "Epoch 144/200\n",
      "126/126 [==============================] - 0s 854us/step - loss: 8.9122 - mae: 8.9122\n",
      "Epoch 145/200\n",
      "126/126 [==============================] - 0s 878us/step - loss: 8.9122 - mae: 8.9122\n",
      "Epoch 146/200\n",
      "126/126 [==============================] - 0s 843us/step - loss: 8.9122 - mae: 8.9122\n",
      "Epoch 147/200\n",
      "126/126 [==============================] - 0s 854us/step - loss: 8.9122 - mae: 8.9122\n",
      "Epoch 148/200\n",
      "126/126 [==============================] - 0s 870us/step - loss: 8.9122 - mae: 8.9122\n",
      "Epoch 149/200\n",
      "126/126 [==============================] - 0s 1ms/step - loss: 8.9122 - mae: 8.9122\n",
      "Epoch 150/200\n",
      "126/126 [==============================] - 0s 1ms/step - loss: 8.9122 - mae: 8.9122\n",
      "Epoch 151/200\n",
      "126/126 [==============================] - 0s 1ms/step - loss: 8.9122 - mae: 8.9122\n",
      "Epoch 152/200\n",
      "126/126 [==============================] - 0s 846us/step - loss: 8.9122 - mae: 8.9122\n",
      "Epoch 153/200\n",
      "126/126 [==============================] - 0s 798us/step - loss: 8.9122 - mae: 8.9122\n",
      "Epoch 154/200\n",
      "126/126 [==============================] - 0s 806us/step - loss: 8.9122 - mae: 8.9122\n",
      "Epoch 155/200\n",
      "126/126 [==============================] - 0s 830us/step - loss: 8.9122 - mae: 8.9122\n",
      "Epoch 156/200\n",
      "126/126 [==============================] - 0s 871us/step - loss: 8.9122 - mae: 8.9122\n",
      "Epoch 157/200\n",
      "126/126 [==============================] - 0s 817us/step - loss: 8.9122 - mae: 8.9122\n",
      "Epoch 158/200\n",
      "126/126 [==============================] - 0s 835us/step - loss: 8.9122 - mae: 8.9122\n",
      "Epoch 159/200\n",
      "126/126 [==============================] - 0s 838us/step - loss: 8.9122 - mae: 8.9122\n",
      "Epoch 160/200\n",
      "126/126 [==============================] - 0s 904us/step - loss: 8.9122 - mae: 8.9122\n",
      "Epoch 161/200\n",
      "126/126 [==============================] - 0s 965us/step - loss: 8.9122 - mae: 8.9122\n",
      "Epoch 162/200\n",
      "126/126 [==============================] - 0s 1ms/step - loss: 8.9122 - mae: 8.9122\n",
      "Epoch 163/200\n",
      "126/126 [==============================] - 0s 846us/step - loss: 8.9122 - mae: 8.9122\n",
      "Epoch 164/200\n",
      "126/126 [==============================] - 0s 846us/step - loss: 8.9122 - mae: 8.9122\n",
      "Epoch 165/200\n",
      "126/126 [==============================] - 0s 934us/step - loss: 8.9122 - mae: 8.9122\n",
      "Epoch 166/200\n",
      "126/126 [==============================] - 0s 1ms/step - loss: 8.9122 - mae: 8.9122\n",
      "Epoch 167/200\n",
      "126/126 [==============================] - 0s 965us/step - loss: 8.9122 - mae: 8.9122\n",
      "Epoch 168/200\n",
      "126/126 [==============================] - 0s 902us/step - loss: 8.9122 - mae: 8.9122\n",
      "Epoch 169/200\n",
      "126/126 [==============================] - 0s 860us/step - loss: 8.9122 - mae: 8.9122\n",
      "Epoch 170/200\n",
      "126/126 [==============================] - 0s 901us/step - loss: 8.9122 - mae: 8.9122\n",
      "Epoch 171/200\n",
      "126/126 [==============================] - 0s 894us/step - loss: 8.9122 - mae: 8.9122\n",
      "Epoch 172/200\n",
      "126/126 [==============================] - 0s 818us/step - loss: 8.9122 - mae: 8.9122\n",
      "Epoch 173/200\n",
      "126/126 [==============================] - 0s 840us/step - loss: 8.9122 - mae: 8.9122\n",
      "Epoch 174/200\n",
      "126/126 [==============================] - 0s 822us/step - loss: 8.9122 - mae: 8.9122\n",
      "Epoch 175/200\n",
      "126/126 [==============================] - 0s 870us/step - loss: 8.9122 - mae: 8.9122\n",
      "Epoch 176/200\n",
      "126/126 [==============================] - 0s 894us/step - loss: 8.9122 - mae: 8.9122\n",
      "Epoch 177/200\n",
      "126/126 [==============================] - 0s 1ms/step - loss: 8.9122 - mae: 8.9122\n",
      "Epoch 178/200\n",
      "126/126 [==============================] - 0s 965us/step - loss: 8.9122 - mae: 8.9122\n",
      "Epoch 179/200\n",
      "126/126 [==============================] - 0s 790us/step - loss: 8.9122 - mae: 8.9122\n",
      "Epoch 180/200\n",
      "126/126 [==============================] - 0s 774us/step - loss: 8.9122 - mae: 8.9122\n",
      "Epoch 181/200\n",
      "126/126 [==============================] - 0s 861us/step - loss: 8.9122 - mae: 8.9122\n",
      "Epoch 182/200\n",
      "126/126 [==============================] - 0s 838us/step - loss: 8.9122 - mae: 8.9122\n",
      "Epoch 183/200\n",
      "126/126 [==============================] - 0s 837us/step - loss: 8.9122 - mae: 8.9122\n",
      "Epoch 184/200\n",
      "126/126 [==============================] - 0s 862us/step - loss: 8.9122 - mae: 8.9122\n",
      "Epoch 185/200\n",
      "126/126 [==============================] - 0s 888us/step - loss: 8.9122 - mae: 8.9122\n",
      "Epoch 186/200\n",
      "126/126 [==============================] - 0s 926us/step - loss: 8.9122 - mae: 8.9122\n",
      "Epoch 187/200\n",
      "126/126 [==============================] - 0s 846us/step - loss: 8.9122 - mae: 8.9122\n",
      "Epoch 188/200\n",
      "126/126 [==============================] - 0s 910us/step - loss: 8.9122 - mae: 8.9122\n",
      "Epoch 189/200\n",
      "126/126 [==============================] - 0s 870us/step - loss: 8.9122 - mae: 8.9122\n",
      "Epoch 190/200\n",
      "126/126 [==============================] - 0s 878us/step - loss: 8.9122 - mae: 8.9122\n",
      "Epoch 191/200\n",
      "126/126 [==============================] - 0s 934us/step - loss: 8.9122 - mae: 8.9122\n",
      "Epoch 192/200\n",
      "126/126 [==============================] - 0s 806us/step - loss: 8.9122 - mae: 8.9122\n",
      "Epoch 193/200\n",
      "126/126 [==============================] - 0s 870us/step - loss: 8.9122 - mae: 8.9122\n",
      "Epoch 194/200\n",
      "126/126 [==============================] - 0s 886us/step - loss: 8.9122 - mae: 8.9122\n",
      "Epoch 195/200\n",
      "126/126 [==============================] - 0s 796us/step - loss: 8.9122 - mae: 8.9122\n",
      "Epoch 196/200\n",
      "126/126 [==============================] - 0s 846us/step - loss: 8.9122 - mae: 8.9122\n",
      "Epoch 197/200\n",
      "126/126 [==============================] - 0s 838us/step - loss: 8.9122 - mae: 8.9122\n",
      "Epoch 198/200\n",
      "126/126 [==============================] - 0s 829us/step - loss: 8.9122 - mae: 8.9122\n",
      "Epoch 199/200\n",
      "126/126 [==============================] - 0s 804us/step - loss: 8.9122 - mae: 8.9122\n",
      "Epoch 200/200\n",
      "126/126 [==============================] - 0s 846us/step - loss: 8.9122 - mae: 8.9122\n"
     ]
    },
    {
     "ename": "AttributeError",
     "evalue": "'Sequential' object has no attribute 'accuracy'",
     "output_type": "error",
     "traceback": [
      "\u001b[1;31m---------------------------------------------------------------------------\u001b[0m",
      "\u001b[1;31mAttributeError\u001b[0m                            Traceback (most recent call last)",
      "\u001b[1;32m<ipython-input-13-2a118219f335>\u001b[0m in \u001b[0;36m<module>\u001b[1;34m\u001b[0m\n\u001b[0;32m      3\u001b[0m \u001b[1;33m\u001b[0m\u001b[0m\n\u001b[0;32m      4\u001b[0m \u001b[1;31m# 결과를 출력합니다.\u001b[0m\u001b[1;33m\u001b[0m\u001b[1;33m\u001b[0m\u001b[1;33m\u001b[0m\u001b[0m\n\u001b[1;32m----> 5\u001b[1;33m \u001b[0mprint\u001b[0m\u001b[1;33m(\u001b[0m\u001b[1;34m\"\\n Accuracy: %.4f\"\u001b[0m \u001b[1;33m%\u001b[0m \u001b[1;33m(\u001b[0m\u001b[0mmodel\u001b[0m\u001b[1;33m.\u001b[0m\u001b[0maccuracy\u001b[0m\u001b[1;33m(\u001b[0m\u001b[0mtrain_x\u001b[0m\u001b[1;33m,\u001b[0m\u001b[0mtrain_y\u001b[0m\u001b[1;33m)\u001b[0m\u001b[1;33m[\u001b[0m\u001b[1;36m1\u001b[0m\u001b[1;33m]\u001b[0m\u001b[1;33m)\u001b[0m\u001b[1;33m)\u001b[0m\u001b[1;33m\u001b[0m\u001b[1;33m\u001b[0m\u001b[0m\n\u001b[0m",
      "\u001b[1;31mAttributeError\u001b[0m: 'Sequential' object has no attribute 'accuracy'"
     ]
    }
   ],
   "source": [
    "# 모델을 실행합니다.\n",
    "model.fit(train_x, train_y, epochs=200, batch_size=10)\n",
    "\n",
    "# 결과를 출력합니다.\n",
    "print(\"\\n Accuracy: %.4f\" % (model.evaluate(train_x,train_y)[1]))"
   ]
  },
  {
   "cell_type": "code",
   "execution_count": null,
   "metadata": {},
   "outputs": [],
   "source": []
  },
  {
   "cell_type": "code",
   "execution_count": null,
   "metadata": {},
   "outputs": [],
   "source": []
  },
  {
   "cell_type": "code",
   "execution_count": 60,
   "metadata": {},
   "outputs": [],
   "source": [
    "from bayes_opt import BayesianOptimization"
   ]
  },
  {
   "cell_type": "code",
   "execution_count": 22,
   "metadata": {},
   "outputs": [],
   "source": [
    "from sklearn.preprocessing import LabelEncoder\n",
    "\n",
    "encoder = LabelEncoder()\n",
    "encoder.fit(train['Gender'])\n",
    "gender_encoded_train = encoder.transform(train['Gender'])\n",
    "gender_encoded_test = encoder.transform(test['Gender'])\n",
    "train['Gender'] = gender_encoded_train\n",
    "test['Gender'] = gender_encoded_test\n",
    "\n",
    "X = train.drop('Target', axis=1)\n",
    "y = train['Target']"
   ]
  },
  {
   "cell_type": "code",
   "execution_count": 65,
   "metadata": {},
   "outputs": [
    {
     "name": "stdout",
     "output_type": "stream",
     "text": [
      "***********1th fold start***********\n",
      "|   iter    |  target   |   gamma   | learni... | max_depth | n_esti... |\n",
      "-------------------------------------------------------------------------\n"
     ]
    },
    {
     "ename": "TypeError",
     "evalue": "'LGBMRegressor' object is not callable",
     "output_type": "error",
     "traceback": [
      "\u001b[1;31m---------------------------------------------------------------------------\u001b[0m",
      "\u001b[1;31mKeyError\u001b[0m                                  Traceback (most recent call last)",
      "\u001b[1;32m~\\anaconda3\\lib\\site-packages\\bayes_opt\\target_space.py\u001b[0m in \u001b[0;36mprobe\u001b[1;34m(self, params)\u001b[0m\n\u001b[0;32m    190\u001b[0m         \u001b[1;32mtry\u001b[0m\u001b[1;33m:\u001b[0m\u001b[1;33m\u001b[0m\u001b[1;33m\u001b[0m\u001b[0m\n\u001b[1;32m--> 191\u001b[1;33m             \u001b[0mtarget\u001b[0m \u001b[1;33m=\u001b[0m \u001b[0mself\u001b[0m\u001b[1;33m.\u001b[0m\u001b[0m_cache\u001b[0m\u001b[1;33m[\u001b[0m\u001b[0m_hashable\u001b[0m\u001b[1;33m(\u001b[0m\u001b[0mx\u001b[0m\u001b[1;33m)\u001b[0m\u001b[1;33m]\u001b[0m\u001b[1;33m\u001b[0m\u001b[1;33m\u001b[0m\u001b[0m\n\u001b[0m\u001b[0;32m    192\u001b[0m         \u001b[1;32mexcept\u001b[0m \u001b[0mKeyError\u001b[0m\u001b[1;33m:\u001b[0m\u001b[1;33m\u001b[0m\u001b[1;33m\u001b[0m\u001b[0m\n",
      "\u001b[1;31mKeyError\u001b[0m: (2.132583393805355, 0.07264709827933052, 3.3143616510863767, 368.5263827221192)",
      "\nDuring handling of the above exception, another exception occurred:\n",
      "\u001b[1;31mTypeError\u001b[0m                                 Traceback (most recent call last)",
      "\u001b[1;32m<ipython-input-65-03e6415400ce>\u001b[0m in \u001b[0;36m<module>\u001b[1;34m\u001b[0m\n\u001b[0;32m     18\u001b[0m         n_estimators=500, random_state=1000, learning_rate=0.2, categorical_feature=[0]), pbounds=pbounds)\n\u001b[0;32m     19\u001b[0m \u001b[1;33m\u001b[0m\u001b[0m\n\u001b[1;32m---> 20\u001b[1;33m     \u001b[0mlgb\u001b[0m\u001b[1;33m.\u001b[0m\u001b[0mmaximize\u001b[0m\u001b[1;33m(\u001b[0m\u001b[0minit_points\u001b[0m\u001b[1;33m=\u001b[0m\u001b[1;36m5\u001b[0m\u001b[1;33m,\u001b[0m \u001b[0mn_iter\u001b[0m\u001b[1;33m=\u001b[0m\u001b[1;36m50\u001b[0m\u001b[1;33m)\u001b[0m\u001b[1;33m\u001b[0m\u001b[1;33m\u001b[0m\u001b[0m\n\u001b[0m\u001b[0;32m     21\u001b[0m \u001b[1;33m\u001b[0m\u001b[0m\n\u001b[0;32m     22\u001b[0m     \u001b[0mpred\u001b[0m \u001b[1;33m=\u001b[0m \u001b[0mlgb\u001b[0m\u001b[1;33m.\u001b[0m\u001b[0mpredict\u001b[0m\u001b[1;33m(\u001b[0m\u001b[0mx_val\u001b[0m\u001b[1;33m)\u001b[0m\u001b[1;33m\u001b[0m\u001b[1;33m\u001b[0m\u001b[0m\n",
      "\u001b[1;32m~\\anaconda3\\lib\\site-packages\\bayes_opt\\bayesian_optimization.py\u001b[0m in \u001b[0;36mmaximize\u001b[1;34m(self, init_points, n_iter, acq, kappa, kappa_decay, kappa_decay_delay, xi, **gp_params)\u001b[0m\n\u001b[0;32m    183\u001b[0m                 \u001b[0miteration\u001b[0m \u001b[1;33m+=\u001b[0m \u001b[1;36m1\u001b[0m\u001b[1;33m\u001b[0m\u001b[1;33m\u001b[0m\u001b[0m\n\u001b[0;32m    184\u001b[0m \u001b[1;33m\u001b[0m\u001b[0m\n\u001b[1;32m--> 185\u001b[1;33m             \u001b[0mself\u001b[0m\u001b[1;33m.\u001b[0m\u001b[0mprobe\u001b[0m\u001b[1;33m(\u001b[0m\u001b[0mx_probe\u001b[0m\u001b[1;33m,\u001b[0m \u001b[0mlazy\u001b[0m\u001b[1;33m=\u001b[0m\u001b[1;32mFalse\u001b[0m\u001b[1;33m)\u001b[0m\u001b[1;33m\u001b[0m\u001b[1;33m\u001b[0m\u001b[0m\n\u001b[0m\u001b[0;32m    186\u001b[0m \u001b[1;33m\u001b[0m\u001b[0m\n\u001b[0;32m    187\u001b[0m             \u001b[1;32mif\u001b[0m \u001b[0mself\u001b[0m\u001b[1;33m.\u001b[0m\u001b[0m_bounds_transformer\u001b[0m\u001b[1;33m:\u001b[0m\u001b[1;33m\u001b[0m\u001b[1;33m\u001b[0m\u001b[0m\n",
      "\u001b[1;32m~\\anaconda3\\lib\\site-packages\\bayes_opt\\bayesian_optimization.py\u001b[0m in \u001b[0;36mprobe\u001b[1;34m(self, params, lazy)\u001b[0m\n\u001b[0;32m    114\u001b[0m             \u001b[0mself\u001b[0m\u001b[1;33m.\u001b[0m\u001b[0m_queue\u001b[0m\u001b[1;33m.\u001b[0m\u001b[0madd\u001b[0m\u001b[1;33m(\u001b[0m\u001b[0mparams\u001b[0m\u001b[1;33m)\u001b[0m\u001b[1;33m\u001b[0m\u001b[1;33m\u001b[0m\u001b[0m\n\u001b[0;32m    115\u001b[0m         \u001b[1;32melse\u001b[0m\u001b[1;33m:\u001b[0m\u001b[1;33m\u001b[0m\u001b[1;33m\u001b[0m\u001b[0m\n\u001b[1;32m--> 116\u001b[1;33m             \u001b[0mself\u001b[0m\u001b[1;33m.\u001b[0m\u001b[0m_space\u001b[0m\u001b[1;33m.\u001b[0m\u001b[0mprobe\u001b[0m\u001b[1;33m(\u001b[0m\u001b[0mparams\u001b[0m\u001b[1;33m)\u001b[0m\u001b[1;33m\u001b[0m\u001b[1;33m\u001b[0m\u001b[0m\n\u001b[0m\u001b[0;32m    117\u001b[0m             \u001b[0mself\u001b[0m\u001b[1;33m.\u001b[0m\u001b[0mdispatch\u001b[0m\u001b[1;33m(\u001b[0m\u001b[0mEvents\u001b[0m\u001b[1;33m.\u001b[0m\u001b[0mOPTIMIZATION_STEP\u001b[0m\u001b[1;33m)\u001b[0m\u001b[1;33m\u001b[0m\u001b[1;33m\u001b[0m\u001b[0m\n\u001b[0;32m    118\u001b[0m \u001b[1;33m\u001b[0m\u001b[0m\n",
      "\u001b[1;32m~\\anaconda3\\lib\\site-packages\\bayes_opt\\target_space.py\u001b[0m in \u001b[0;36mprobe\u001b[1;34m(self, params)\u001b[0m\n\u001b[0;32m    192\u001b[0m         \u001b[1;32mexcept\u001b[0m \u001b[0mKeyError\u001b[0m\u001b[1;33m:\u001b[0m\u001b[1;33m\u001b[0m\u001b[1;33m\u001b[0m\u001b[0m\n\u001b[0;32m    193\u001b[0m             \u001b[0mparams\u001b[0m \u001b[1;33m=\u001b[0m \u001b[0mdict\u001b[0m\u001b[1;33m(\u001b[0m\u001b[0mzip\u001b[0m\u001b[1;33m(\u001b[0m\u001b[0mself\u001b[0m\u001b[1;33m.\u001b[0m\u001b[0m_keys\u001b[0m\u001b[1;33m,\u001b[0m \u001b[0mx\u001b[0m\u001b[1;33m)\u001b[0m\u001b[1;33m)\u001b[0m\u001b[1;33m\u001b[0m\u001b[1;33m\u001b[0m\u001b[0m\n\u001b[1;32m--> 194\u001b[1;33m             \u001b[0mtarget\u001b[0m \u001b[1;33m=\u001b[0m \u001b[0mself\u001b[0m\u001b[1;33m.\u001b[0m\u001b[0mtarget_func\u001b[0m\u001b[1;33m(\u001b[0m\u001b[1;33m**\u001b[0m\u001b[0mparams\u001b[0m\u001b[1;33m)\u001b[0m\u001b[1;33m\u001b[0m\u001b[1;33m\u001b[0m\u001b[0m\n\u001b[0m\u001b[0;32m    195\u001b[0m             \u001b[0mself\u001b[0m\u001b[1;33m.\u001b[0m\u001b[0mregister\u001b[0m\u001b[1;33m(\u001b[0m\u001b[0mx\u001b[0m\u001b[1;33m,\u001b[0m \u001b[0mtarget\u001b[0m\u001b[1;33m)\u001b[0m\u001b[1;33m\u001b[0m\u001b[1;33m\u001b[0m\u001b[0m\n\u001b[0;32m    196\u001b[0m         \u001b[1;32mreturn\u001b[0m \u001b[0mtarget\u001b[0m\u001b[1;33m\u001b[0m\u001b[1;33m\u001b[0m\u001b[0m\n",
      "\u001b[1;31mTypeError\u001b[0m: 'LGBMRegressor' object is not callable"
     ]
    }
   ],
   "source": [
    "from sklearn.model_selection import StratifiedKFold\n",
    "from sklearn.metrics import mean_absolute_error\n",
    "\n",
    "\n",
    "skf = StratifiedKFold(n_splits=15, shuffle=True, random_state=1000)\n",
    "skf.split(X, X['Gender'])\n",
    "\n",
    "pred_list = []\n",
    "mae_list = []\n",
    "\n",
    "for fold,(train_index, val_index) in enumerate(skf.split(X,  X['Gender'])):\n",
    "\n",
    "    print(f'***********{fold+1}th fold start***********')\n",
    "    x_train, x_val, y_train, y_val = X.loc[train_index], X.loc[val_index], y.loc[train_index], y.loc[val_index]\n",
    "\n",
    "    pbounds = {  'learning_rate': (0.01, 1.0),  'n_estimators': (100, 1000), 'max_depth': (3,10), 'gamma': (0, 5)}  \n",
    "    lgb = BayesianOptimization(lightgbm.LGBMRegressor(max_bin = 300, max_depth = 5, num_leaves=32,\n",
    "        n_estimators=500, random_state=1000, learning_rate=0.2, categorical_feature=[0]), pbounds=pbounds)\n",
    "\n",
    "    lgb.maximize(init_points=5, n_iter=50)\n",
    "\n",
    "    pred = lgb.predict(x_val)\n",
    "    result = mean_absolute_error(pred,y_val)\n",
    "    mae_list.append(result)\n",
    "    \n",
    "    pred_test = lgb.predict(test)\n",
    "    pred_list.append(pred_test)\n",
    "    \n",
    "    print(f'mae : {result:.4f}', end='\\n\\n')\n",
    "    \n",
    "print(f'mean mae {np.mean(mae_list):.4f}')"
   ]
  },
  {
   "cell_type": "code",
   "execution_count": 126,
   "metadata": {},
   "outputs": [
    {
     "name": "stdout",
     "output_type": "stream",
     "text": [
      "***********1th fold start***********\n",
      "mae : 1.4586\n",
      "\n",
      "***********2th fold start***********\n",
      "mae : 1.4392\n",
      "\n",
      "***********3th fold start***********\n",
      "mae : 1.4807\n",
      "\n",
      "***********4th fold start***********\n",
      "mae : 1.5597\n",
      "\n",
      "***********5th fold start***********\n",
      "mae : 1.3530\n",
      "\n",
      "***********6th fold start***********\n",
      "mae : 1.4553\n",
      "\n",
      "***********7th fold start***********\n",
      "mae : 1.7350\n",
      "\n",
      "***********8th fold start***********\n",
      "mae : 1.8670\n",
      "\n",
      "***********9th fold start***********\n",
      "mae : 1.8975\n",
      "\n",
      "***********10th fold start***********\n",
      "mae : 1.6651\n",
      "\n",
      "***********11th fold start***********\n",
      "mae : 1.5729\n",
      "\n",
      "***********12th fold start***********\n",
      "mae : 1.7321\n",
      "\n",
      "***********13th fold start***********\n",
      "mae : 1.7785\n",
      "\n",
      "***********14th fold start***********\n",
      "mae : 1.5123\n",
      "\n",
      "***********15th fold start***********\n",
      "mae : 1.5549\n",
      "\n",
      "***********16th fold start***********\n",
      "mae : 1.2290\n",
      "\n",
      "***********17th fold start***********\n",
      "mae : 1.2712\n",
      "\n",
      "***********18th fold start***********\n",
      "mae : 1.4958\n",
      "\n",
      "***********19th fold start***********\n",
      "mae : 1.4530\n",
      "\n",
      "***********20th fold start***********\n",
      "mae : 1.3877\n",
      "\n",
      "mean mae 1.5449\n"
     ]
    }
   ],
   "source": [
    "from sklearn.model_selection import StratifiedKFold\n",
    "from sklearn.metrics import mean_absolute_error\n",
    "\n",
    "\n",
    "skf = StratifiedKFold(n_splits=20, shuffle=True, random_state=1000)\n",
    "skf.split(X, X['Gender'])\n",
    "\n",
    "pred_list = []\n",
    "mae_list = []\n",
    "\n",
    "for fold,(train_index, val_index) in enumerate(skf.split(X,  X['Gender'])):\n",
    "\n",
    "    print(f'***********{fold+1}th fold start***********')\n",
    "    x_train, x_val, y_train, y_val = X.loc[train_index], X.loc[val_index], y.loc[train_index], y.loc[val_index]\n",
    "\n",
    "     \n",
    "    lgb = lightgbm.LGBMRegressor(boosting_type='gbdt', max_bin = 300, max_depth = 5, num_leaves=32,\n",
    "        n_estimators=40, random_state=1000, learning_rate=0.2, categorical_feature=[0])\n",
    "\n",
    "    lgb.fit(x_train, y_train,\n",
    "            eval_set=(x_val,y_val),\n",
    "            eval_metric='l1', verbose=False, early_stopping_rounds=50)\n",
    "\n",
    "    pred = lgb.predict(x_val)\n",
    "    result = mean_absolute_error(pred,y_val)\n",
    "    mae_list.append(result)\n",
    "    \n",
    "    pred_test = lgb.predict(test)\n",
    "    pred_list.append(pred_test)\n",
    "    \n",
    "    print(f'mae : {result:.4f}', end='\\n\\n')\n",
    "    \n",
    "print(f'mean mae {np.mean(mae_list):.4f}')"
   ]
  },
  {
   "cell_type": "code",
   "execution_count": 30,
   "metadata": {},
   "outputs": [
    {
     "data": {
      "text/plain": [
       "[array([ 8.17611924, 12.83489144,  6.03524088, ...,  9.70506153,\n",
       "         9.21194556, 11.52044295]),\n",
       " array([ 8.75130008, 12.37807675,  6.33010709, ...,  9.1242709 ,\n",
       "        10.11032559, 11.35994508]),\n",
       " array([ 8.64260745, 12.65807181,  6.00547175, ...,  9.50304843,\n",
       "        10.20180093, 11.05835792]),\n",
       " array([ 8.58921059, 12.35118494,  6.15160702, ...,  9.32139287,\n",
       "         9.92594337, 11.40955843]),\n",
       " array([ 9.07852946, 12.46337855,  5.65426688, ...,  9.64886549,\n",
       "         9.96099416, 10.86420339]),\n",
       " array([ 8.57864842, 12.93116895,  6.0755026 , ...,  9.56522548,\n",
       "         9.53377307, 11.64208026]),\n",
       " array([ 8.5477902 , 13.01678266,  6.15259871, ...,  9.22649429,\n",
       "         9.92285491, 11.15622056]),\n",
       " array([ 8.87747945, 11.90581532,  5.95105121, ...,  9.01586599,\n",
       "        10.43730887, 11.66971735]),\n",
       " array([ 8.83184331, 12.59940465,  6.13336987, ...,  9.04234691,\n",
       "        10.14482433, 11.04763702]),\n",
       " array([ 9.03915376, 13.07825595,  5.90545543, ...,  9.56109023,\n",
       "        10.11426189, 11.70678696]),\n",
       " array([ 8.9691389 , 12.54289079,  6.25056766, ...,  9.33400123,\n",
       "         9.92486239, 10.92940532]),\n",
       " array([ 8.74167351, 12.48591026,  6.18202269, ...,  9.26249773,\n",
       "        10.0218651 , 11.11869826]),\n",
       " array([ 8.85970661, 12.42779322,  6.2408978 , ...,  9.73669928,\n",
       "        10.41181315, 11.16719922]),\n",
       " array([ 9.06891544, 12.91517228,  5.8486311 , ...,  9.65920923,\n",
       "        10.51105001, 10.69532109]),\n",
       " array([ 8.87082252, 12.03526482,  5.64943106, ...,  9.83299103,\n",
       "        10.0532217 , 11.31594548])]"
      ]
     },
     "execution_count": 30,
     "metadata": {},
     "output_type": "execute_result"
    }
   ],
   "source": [
    "pred_list"
   ]
  },
  {
   "cell_type": "code",
   "execution_count": 73,
   "metadata": {},
   "outputs": [
    {
     "data": {
      "text/plain": [
       "64"
      ]
     },
     "execution_count": 73,
     "metadata": {},
     "output_type": "execute_result"
    }
   ],
   "source": [
    "2**6"
   ]
  },
  {
   "cell_type": "code",
   "execution_count": 3,
   "metadata": {},
   "outputs": [],
   "source": [
    "from pycaret.regression import *"
   ]
  },
  {
   "cell_type": "code",
   "execution_count": 11,
   "metadata": {},
   "outputs": [
    {
     "data": {
      "text/html": [
       "<style  type=\"text/css\" >\n",
       "#T_cc97c226_aa7e_11ec_ba9f_7085c2294e08row42_col1{\n",
       "            background-color:  lightgreen;\n",
       "        }</style><table id=\"T_cc97c226_aa7e_11ec_ba9f_7085c2294e08\" ><thead>    <tr>        <th class=\"blank level0\" ></th>        <th class=\"col_heading level0 col0\" >Description</th>        <th class=\"col_heading level0 col1\" >Value</th>    </tr></thead><tbody>\n",
       "                <tr>\n",
       "                        <th id=\"T_cc97c226_aa7e_11ec_ba9f_7085c2294e08level0_row0\" class=\"row_heading level0 row0\" >0</th>\n",
       "                        <td id=\"T_cc97c226_aa7e_11ec_ba9f_7085c2294e08row0_col0\" class=\"data row0 col0\" >session_id</td>\n",
       "                        <td id=\"T_cc97c226_aa7e_11ec_ba9f_7085c2294e08row0_col1\" class=\"data row0 col1\" >5514</td>\n",
       "            </tr>\n",
       "            <tr>\n",
       "                        <th id=\"T_cc97c226_aa7e_11ec_ba9f_7085c2294e08level0_row1\" class=\"row_heading level0 row1\" >1</th>\n",
       "                        <td id=\"T_cc97c226_aa7e_11ec_ba9f_7085c2294e08row1_col0\" class=\"data row1 col0\" >Target</td>\n",
       "                        <td id=\"T_cc97c226_aa7e_11ec_ba9f_7085c2294e08row1_col1\" class=\"data row1 col1\" >Target</td>\n",
       "            </tr>\n",
       "            <tr>\n",
       "                        <th id=\"T_cc97c226_aa7e_11ec_ba9f_7085c2294e08level0_row2\" class=\"row_heading level0 row2\" >2</th>\n",
       "                        <td id=\"T_cc97c226_aa7e_11ec_ba9f_7085c2294e08row2_col0\" class=\"data row2 col0\" >Original Data</td>\n",
       "                        <td id=\"T_cc97c226_aa7e_11ec_ba9f_7085c2294e08row2_col1\" class=\"data row2 col1\" >(1253, 10)</td>\n",
       "            </tr>\n",
       "            <tr>\n",
       "                        <th id=\"T_cc97c226_aa7e_11ec_ba9f_7085c2294e08level0_row3\" class=\"row_heading level0 row3\" >3</th>\n",
       "                        <td id=\"T_cc97c226_aa7e_11ec_ba9f_7085c2294e08row3_col0\" class=\"data row3 col0\" >Missing Values</td>\n",
       "                        <td id=\"T_cc97c226_aa7e_11ec_ba9f_7085c2294e08row3_col1\" class=\"data row3 col1\" >False</td>\n",
       "            </tr>\n",
       "            <tr>\n",
       "                        <th id=\"T_cc97c226_aa7e_11ec_ba9f_7085c2294e08level0_row4\" class=\"row_heading level0 row4\" >4</th>\n",
       "                        <td id=\"T_cc97c226_aa7e_11ec_ba9f_7085c2294e08row4_col0\" class=\"data row4 col0\" >Numeric Features</td>\n",
       "                        <td id=\"T_cc97c226_aa7e_11ec_ba9f_7085c2294e08row4_col1\" class=\"data row4 col1\" >8</td>\n",
       "            </tr>\n",
       "            <tr>\n",
       "                        <th id=\"T_cc97c226_aa7e_11ec_ba9f_7085c2294e08level0_row5\" class=\"row_heading level0 row5\" >5</th>\n",
       "                        <td id=\"T_cc97c226_aa7e_11ec_ba9f_7085c2294e08row5_col0\" class=\"data row5 col0\" >Categorical Features</td>\n",
       "                        <td id=\"T_cc97c226_aa7e_11ec_ba9f_7085c2294e08row5_col1\" class=\"data row5 col1\" >1</td>\n",
       "            </tr>\n",
       "            <tr>\n",
       "                        <th id=\"T_cc97c226_aa7e_11ec_ba9f_7085c2294e08level0_row6\" class=\"row_heading level0 row6\" >6</th>\n",
       "                        <td id=\"T_cc97c226_aa7e_11ec_ba9f_7085c2294e08row6_col0\" class=\"data row6 col0\" >Ordinal Features</td>\n",
       "                        <td id=\"T_cc97c226_aa7e_11ec_ba9f_7085c2294e08row6_col1\" class=\"data row6 col1\" >False</td>\n",
       "            </tr>\n",
       "            <tr>\n",
       "                        <th id=\"T_cc97c226_aa7e_11ec_ba9f_7085c2294e08level0_row7\" class=\"row_heading level0 row7\" >7</th>\n",
       "                        <td id=\"T_cc97c226_aa7e_11ec_ba9f_7085c2294e08row7_col0\" class=\"data row7 col0\" >High Cardinality Features</td>\n",
       "                        <td id=\"T_cc97c226_aa7e_11ec_ba9f_7085c2294e08row7_col1\" class=\"data row7 col1\" >False</td>\n",
       "            </tr>\n",
       "            <tr>\n",
       "                        <th id=\"T_cc97c226_aa7e_11ec_ba9f_7085c2294e08level0_row8\" class=\"row_heading level0 row8\" >8</th>\n",
       "                        <td id=\"T_cc97c226_aa7e_11ec_ba9f_7085c2294e08row8_col0\" class=\"data row8 col0\" >High Cardinality Method</td>\n",
       "                        <td id=\"T_cc97c226_aa7e_11ec_ba9f_7085c2294e08row8_col1\" class=\"data row8 col1\" >None</td>\n",
       "            </tr>\n",
       "            <tr>\n",
       "                        <th id=\"T_cc97c226_aa7e_11ec_ba9f_7085c2294e08level0_row9\" class=\"row_heading level0 row9\" >9</th>\n",
       "                        <td id=\"T_cc97c226_aa7e_11ec_ba9f_7085c2294e08row9_col0\" class=\"data row9 col0\" >Transformed Train Set</td>\n",
       "                        <td id=\"T_cc97c226_aa7e_11ec_ba9f_7085c2294e08row9_col1\" class=\"data row9 col1\" >(877, 10)</td>\n",
       "            </tr>\n",
       "            <tr>\n",
       "                        <th id=\"T_cc97c226_aa7e_11ec_ba9f_7085c2294e08level0_row10\" class=\"row_heading level0 row10\" >10</th>\n",
       "                        <td id=\"T_cc97c226_aa7e_11ec_ba9f_7085c2294e08row10_col0\" class=\"data row10 col0\" >Transformed Test Set</td>\n",
       "                        <td id=\"T_cc97c226_aa7e_11ec_ba9f_7085c2294e08row10_col1\" class=\"data row10 col1\" >(376, 10)</td>\n",
       "            </tr>\n",
       "            <tr>\n",
       "                        <th id=\"T_cc97c226_aa7e_11ec_ba9f_7085c2294e08level0_row11\" class=\"row_heading level0 row11\" >11</th>\n",
       "                        <td id=\"T_cc97c226_aa7e_11ec_ba9f_7085c2294e08row11_col0\" class=\"data row11 col0\" >Shuffle Train-Test</td>\n",
       "                        <td id=\"T_cc97c226_aa7e_11ec_ba9f_7085c2294e08row11_col1\" class=\"data row11 col1\" >True</td>\n",
       "            </tr>\n",
       "            <tr>\n",
       "                        <th id=\"T_cc97c226_aa7e_11ec_ba9f_7085c2294e08level0_row12\" class=\"row_heading level0 row12\" >12</th>\n",
       "                        <td id=\"T_cc97c226_aa7e_11ec_ba9f_7085c2294e08row12_col0\" class=\"data row12 col0\" >Stratify Train-Test</td>\n",
       "                        <td id=\"T_cc97c226_aa7e_11ec_ba9f_7085c2294e08row12_col1\" class=\"data row12 col1\" >False</td>\n",
       "            </tr>\n",
       "            <tr>\n",
       "                        <th id=\"T_cc97c226_aa7e_11ec_ba9f_7085c2294e08level0_row13\" class=\"row_heading level0 row13\" >13</th>\n",
       "                        <td id=\"T_cc97c226_aa7e_11ec_ba9f_7085c2294e08row13_col0\" class=\"data row13 col0\" >Fold Generator</td>\n",
       "                        <td id=\"T_cc97c226_aa7e_11ec_ba9f_7085c2294e08row13_col1\" class=\"data row13 col1\" >KFold</td>\n",
       "            </tr>\n",
       "            <tr>\n",
       "                        <th id=\"T_cc97c226_aa7e_11ec_ba9f_7085c2294e08level0_row14\" class=\"row_heading level0 row14\" >14</th>\n",
       "                        <td id=\"T_cc97c226_aa7e_11ec_ba9f_7085c2294e08row14_col0\" class=\"data row14 col0\" >Fold Number</td>\n",
       "                        <td id=\"T_cc97c226_aa7e_11ec_ba9f_7085c2294e08row14_col1\" class=\"data row14 col1\" >5</td>\n",
       "            </tr>\n",
       "            <tr>\n",
       "                        <th id=\"T_cc97c226_aa7e_11ec_ba9f_7085c2294e08level0_row15\" class=\"row_heading level0 row15\" >15</th>\n",
       "                        <td id=\"T_cc97c226_aa7e_11ec_ba9f_7085c2294e08row15_col0\" class=\"data row15 col0\" >CPU Jobs</td>\n",
       "                        <td id=\"T_cc97c226_aa7e_11ec_ba9f_7085c2294e08row15_col1\" class=\"data row15 col1\" >-1</td>\n",
       "            </tr>\n",
       "            <tr>\n",
       "                        <th id=\"T_cc97c226_aa7e_11ec_ba9f_7085c2294e08level0_row16\" class=\"row_heading level0 row16\" >16</th>\n",
       "                        <td id=\"T_cc97c226_aa7e_11ec_ba9f_7085c2294e08row16_col0\" class=\"data row16 col0\" >Use GPU</td>\n",
       "                        <td id=\"T_cc97c226_aa7e_11ec_ba9f_7085c2294e08row16_col1\" class=\"data row16 col1\" >False</td>\n",
       "            </tr>\n",
       "            <tr>\n",
       "                        <th id=\"T_cc97c226_aa7e_11ec_ba9f_7085c2294e08level0_row17\" class=\"row_heading level0 row17\" >17</th>\n",
       "                        <td id=\"T_cc97c226_aa7e_11ec_ba9f_7085c2294e08row17_col0\" class=\"data row17 col0\" >Log Experiment</td>\n",
       "                        <td id=\"T_cc97c226_aa7e_11ec_ba9f_7085c2294e08row17_col1\" class=\"data row17 col1\" >False</td>\n",
       "            </tr>\n",
       "            <tr>\n",
       "                        <th id=\"T_cc97c226_aa7e_11ec_ba9f_7085c2294e08level0_row18\" class=\"row_heading level0 row18\" >18</th>\n",
       "                        <td id=\"T_cc97c226_aa7e_11ec_ba9f_7085c2294e08row18_col0\" class=\"data row18 col0\" >Experiment Name</td>\n",
       "                        <td id=\"T_cc97c226_aa7e_11ec_ba9f_7085c2294e08row18_col1\" class=\"data row18 col1\" >reg-default-name</td>\n",
       "            </tr>\n",
       "            <tr>\n",
       "                        <th id=\"T_cc97c226_aa7e_11ec_ba9f_7085c2294e08level0_row19\" class=\"row_heading level0 row19\" >19</th>\n",
       "                        <td id=\"T_cc97c226_aa7e_11ec_ba9f_7085c2294e08row19_col0\" class=\"data row19 col0\" >USI</td>\n",
       "                        <td id=\"T_cc97c226_aa7e_11ec_ba9f_7085c2294e08row19_col1\" class=\"data row19 col1\" >16b3</td>\n",
       "            </tr>\n",
       "            <tr>\n",
       "                        <th id=\"T_cc97c226_aa7e_11ec_ba9f_7085c2294e08level0_row20\" class=\"row_heading level0 row20\" >20</th>\n",
       "                        <td id=\"T_cc97c226_aa7e_11ec_ba9f_7085c2294e08row20_col0\" class=\"data row20 col0\" >Imputation Type</td>\n",
       "                        <td id=\"T_cc97c226_aa7e_11ec_ba9f_7085c2294e08row20_col1\" class=\"data row20 col1\" >simple</td>\n",
       "            </tr>\n",
       "            <tr>\n",
       "                        <th id=\"T_cc97c226_aa7e_11ec_ba9f_7085c2294e08level0_row21\" class=\"row_heading level0 row21\" >21</th>\n",
       "                        <td id=\"T_cc97c226_aa7e_11ec_ba9f_7085c2294e08row21_col0\" class=\"data row21 col0\" >Iterative Imputation Iteration</td>\n",
       "                        <td id=\"T_cc97c226_aa7e_11ec_ba9f_7085c2294e08row21_col1\" class=\"data row21 col1\" >None</td>\n",
       "            </tr>\n",
       "            <tr>\n",
       "                        <th id=\"T_cc97c226_aa7e_11ec_ba9f_7085c2294e08level0_row22\" class=\"row_heading level0 row22\" >22</th>\n",
       "                        <td id=\"T_cc97c226_aa7e_11ec_ba9f_7085c2294e08row22_col0\" class=\"data row22 col0\" >Numeric Imputer</td>\n",
       "                        <td id=\"T_cc97c226_aa7e_11ec_ba9f_7085c2294e08row22_col1\" class=\"data row22 col1\" >mean</td>\n",
       "            </tr>\n",
       "            <tr>\n",
       "                        <th id=\"T_cc97c226_aa7e_11ec_ba9f_7085c2294e08level0_row23\" class=\"row_heading level0 row23\" >23</th>\n",
       "                        <td id=\"T_cc97c226_aa7e_11ec_ba9f_7085c2294e08row23_col0\" class=\"data row23 col0\" >Iterative Imputation Numeric Model</td>\n",
       "                        <td id=\"T_cc97c226_aa7e_11ec_ba9f_7085c2294e08row23_col1\" class=\"data row23 col1\" >None</td>\n",
       "            </tr>\n",
       "            <tr>\n",
       "                        <th id=\"T_cc97c226_aa7e_11ec_ba9f_7085c2294e08level0_row24\" class=\"row_heading level0 row24\" >24</th>\n",
       "                        <td id=\"T_cc97c226_aa7e_11ec_ba9f_7085c2294e08row24_col0\" class=\"data row24 col0\" >Categorical Imputer</td>\n",
       "                        <td id=\"T_cc97c226_aa7e_11ec_ba9f_7085c2294e08row24_col1\" class=\"data row24 col1\" >constant</td>\n",
       "            </tr>\n",
       "            <tr>\n",
       "                        <th id=\"T_cc97c226_aa7e_11ec_ba9f_7085c2294e08level0_row25\" class=\"row_heading level0 row25\" >25</th>\n",
       "                        <td id=\"T_cc97c226_aa7e_11ec_ba9f_7085c2294e08row25_col0\" class=\"data row25 col0\" >Iterative Imputation Categorical Model</td>\n",
       "                        <td id=\"T_cc97c226_aa7e_11ec_ba9f_7085c2294e08row25_col1\" class=\"data row25 col1\" >None</td>\n",
       "            </tr>\n",
       "            <tr>\n",
       "                        <th id=\"T_cc97c226_aa7e_11ec_ba9f_7085c2294e08level0_row26\" class=\"row_heading level0 row26\" >26</th>\n",
       "                        <td id=\"T_cc97c226_aa7e_11ec_ba9f_7085c2294e08row26_col0\" class=\"data row26 col0\" >Unknown Categoricals Handling</td>\n",
       "                        <td id=\"T_cc97c226_aa7e_11ec_ba9f_7085c2294e08row26_col1\" class=\"data row26 col1\" >least_frequent</td>\n",
       "            </tr>\n",
       "            <tr>\n",
       "                        <th id=\"T_cc97c226_aa7e_11ec_ba9f_7085c2294e08level0_row27\" class=\"row_heading level0 row27\" >27</th>\n",
       "                        <td id=\"T_cc97c226_aa7e_11ec_ba9f_7085c2294e08row27_col0\" class=\"data row27 col0\" >Normalize</td>\n",
       "                        <td id=\"T_cc97c226_aa7e_11ec_ba9f_7085c2294e08row27_col1\" class=\"data row27 col1\" >False</td>\n",
       "            </tr>\n",
       "            <tr>\n",
       "                        <th id=\"T_cc97c226_aa7e_11ec_ba9f_7085c2294e08level0_row28\" class=\"row_heading level0 row28\" >28</th>\n",
       "                        <td id=\"T_cc97c226_aa7e_11ec_ba9f_7085c2294e08row28_col0\" class=\"data row28 col0\" >Normalize Method</td>\n",
       "                        <td id=\"T_cc97c226_aa7e_11ec_ba9f_7085c2294e08row28_col1\" class=\"data row28 col1\" >None</td>\n",
       "            </tr>\n",
       "            <tr>\n",
       "                        <th id=\"T_cc97c226_aa7e_11ec_ba9f_7085c2294e08level0_row29\" class=\"row_heading level0 row29\" >29</th>\n",
       "                        <td id=\"T_cc97c226_aa7e_11ec_ba9f_7085c2294e08row29_col0\" class=\"data row29 col0\" >Transformation</td>\n",
       "                        <td id=\"T_cc97c226_aa7e_11ec_ba9f_7085c2294e08row29_col1\" class=\"data row29 col1\" >False</td>\n",
       "            </tr>\n",
       "            <tr>\n",
       "                        <th id=\"T_cc97c226_aa7e_11ec_ba9f_7085c2294e08level0_row30\" class=\"row_heading level0 row30\" >30</th>\n",
       "                        <td id=\"T_cc97c226_aa7e_11ec_ba9f_7085c2294e08row30_col0\" class=\"data row30 col0\" >Transformation Method</td>\n",
       "                        <td id=\"T_cc97c226_aa7e_11ec_ba9f_7085c2294e08row30_col1\" class=\"data row30 col1\" >None</td>\n",
       "            </tr>\n",
       "            <tr>\n",
       "                        <th id=\"T_cc97c226_aa7e_11ec_ba9f_7085c2294e08level0_row31\" class=\"row_heading level0 row31\" >31</th>\n",
       "                        <td id=\"T_cc97c226_aa7e_11ec_ba9f_7085c2294e08row31_col0\" class=\"data row31 col0\" >PCA</td>\n",
       "                        <td id=\"T_cc97c226_aa7e_11ec_ba9f_7085c2294e08row31_col1\" class=\"data row31 col1\" >False</td>\n",
       "            </tr>\n",
       "            <tr>\n",
       "                        <th id=\"T_cc97c226_aa7e_11ec_ba9f_7085c2294e08level0_row32\" class=\"row_heading level0 row32\" >32</th>\n",
       "                        <td id=\"T_cc97c226_aa7e_11ec_ba9f_7085c2294e08row32_col0\" class=\"data row32 col0\" >PCA Method</td>\n",
       "                        <td id=\"T_cc97c226_aa7e_11ec_ba9f_7085c2294e08row32_col1\" class=\"data row32 col1\" >None</td>\n",
       "            </tr>\n",
       "            <tr>\n",
       "                        <th id=\"T_cc97c226_aa7e_11ec_ba9f_7085c2294e08level0_row33\" class=\"row_heading level0 row33\" >33</th>\n",
       "                        <td id=\"T_cc97c226_aa7e_11ec_ba9f_7085c2294e08row33_col0\" class=\"data row33 col0\" >PCA Components</td>\n",
       "                        <td id=\"T_cc97c226_aa7e_11ec_ba9f_7085c2294e08row33_col1\" class=\"data row33 col1\" >None</td>\n",
       "            </tr>\n",
       "            <tr>\n",
       "                        <th id=\"T_cc97c226_aa7e_11ec_ba9f_7085c2294e08level0_row34\" class=\"row_heading level0 row34\" >34</th>\n",
       "                        <td id=\"T_cc97c226_aa7e_11ec_ba9f_7085c2294e08row34_col0\" class=\"data row34 col0\" >Ignore Low Variance</td>\n",
       "                        <td id=\"T_cc97c226_aa7e_11ec_ba9f_7085c2294e08row34_col1\" class=\"data row34 col1\" >False</td>\n",
       "            </tr>\n",
       "            <tr>\n",
       "                        <th id=\"T_cc97c226_aa7e_11ec_ba9f_7085c2294e08level0_row35\" class=\"row_heading level0 row35\" >35</th>\n",
       "                        <td id=\"T_cc97c226_aa7e_11ec_ba9f_7085c2294e08row35_col0\" class=\"data row35 col0\" >Combine Rare Levels</td>\n",
       "                        <td id=\"T_cc97c226_aa7e_11ec_ba9f_7085c2294e08row35_col1\" class=\"data row35 col1\" >False</td>\n",
       "            </tr>\n",
       "            <tr>\n",
       "                        <th id=\"T_cc97c226_aa7e_11ec_ba9f_7085c2294e08level0_row36\" class=\"row_heading level0 row36\" >36</th>\n",
       "                        <td id=\"T_cc97c226_aa7e_11ec_ba9f_7085c2294e08row36_col0\" class=\"data row36 col0\" >Rare Level Threshold</td>\n",
       "                        <td id=\"T_cc97c226_aa7e_11ec_ba9f_7085c2294e08row36_col1\" class=\"data row36 col1\" >None</td>\n",
       "            </tr>\n",
       "            <tr>\n",
       "                        <th id=\"T_cc97c226_aa7e_11ec_ba9f_7085c2294e08level0_row37\" class=\"row_heading level0 row37\" >37</th>\n",
       "                        <td id=\"T_cc97c226_aa7e_11ec_ba9f_7085c2294e08row37_col0\" class=\"data row37 col0\" >Numeric Binning</td>\n",
       "                        <td id=\"T_cc97c226_aa7e_11ec_ba9f_7085c2294e08row37_col1\" class=\"data row37 col1\" >False</td>\n",
       "            </tr>\n",
       "            <tr>\n",
       "                        <th id=\"T_cc97c226_aa7e_11ec_ba9f_7085c2294e08level0_row38\" class=\"row_heading level0 row38\" >38</th>\n",
       "                        <td id=\"T_cc97c226_aa7e_11ec_ba9f_7085c2294e08row38_col0\" class=\"data row38 col0\" >Remove Outliers</td>\n",
       "                        <td id=\"T_cc97c226_aa7e_11ec_ba9f_7085c2294e08row38_col1\" class=\"data row38 col1\" >False</td>\n",
       "            </tr>\n",
       "            <tr>\n",
       "                        <th id=\"T_cc97c226_aa7e_11ec_ba9f_7085c2294e08level0_row39\" class=\"row_heading level0 row39\" >39</th>\n",
       "                        <td id=\"T_cc97c226_aa7e_11ec_ba9f_7085c2294e08row39_col0\" class=\"data row39 col0\" >Outliers Threshold</td>\n",
       "                        <td id=\"T_cc97c226_aa7e_11ec_ba9f_7085c2294e08row39_col1\" class=\"data row39 col1\" >None</td>\n",
       "            </tr>\n",
       "            <tr>\n",
       "                        <th id=\"T_cc97c226_aa7e_11ec_ba9f_7085c2294e08level0_row40\" class=\"row_heading level0 row40\" >40</th>\n",
       "                        <td id=\"T_cc97c226_aa7e_11ec_ba9f_7085c2294e08row40_col0\" class=\"data row40 col0\" >Remove Multicollinearity</td>\n",
       "                        <td id=\"T_cc97c226_aa7e_11ec_ba9f_7085c2294e08row40_col1\" class=\"data row40 col1\" >False</td>\n",
       "            </tr>\n",
       "            <tr>\n",
       "                        <th id=\"T_cc97c226_aa7e_11ec_ba9f_7085c2294e08level0_row41\" class=\"row_heading level0 row41\" >41</th>\n",
       "                        <td id=\"T_cc97c226_aa7e_11ec_ba9f_7085c2294e08row41_col0\" class=\"data row41 col0\" >Multicollinearity Threshold</td>\n",
       "                        <td id=\"T_cc97c226_aa7e_11ec_ba9f_7085c2294e08row41_col1\" class=\"data row41 col1\" >None</td>\n",
       "            </tr>\n",
       "            <tr>\n",
       "                        <th id=\"T_cc97c226_aa7e_11ec_ba9f_7085c2294e08level0_row42\" class=\"row_heading level0 row42\" >42</th>\n",
       "                        <td id=\"T_cc97c226_aa7e_11ec_ba9f_7085c2294e08row42_col0\" class=\"data row42 col0\" >Remove Perfect Collinearity</td>\n",
       "                        <td id=\"T_cc97c226_aa7e_11ec_ba9f_7085c2294e08row42_col1\" class=\"data row42 col1\" >True</td>\n",
       "            </tr>\n",
       "            <tr>\n",
       "                        <th id=\"T_cc97c226_aa7e_11ec_ba9f_7085c2294e08level0_row43\" class=\"row_heading level0 row43\" >43</th>\n",
       "                        <td id=\"T_cc97c226_aa7e_11ec_ba9f_7085c2294e08row43_col0\" class=\"data row43 col0\" >Clustering</td>\n",
       "                        <td id=\"T_cc97c226_aa7e_11ec_ba9f_7085c2294e08row43_col1\" class=\"data row43 col1\" >False</td>\n",
       "            </tr>\n",
       "            <tr>\n",
       "                        <th id=\"T_cc97c226_aa7e_11ec_ba9f_7085c2294e08level0_row44\" class=\"row_heading level0 row44\" >44</th>\n",
       "                        <td id=\"T_cc97c226_aa7e_11ec_ba9f_7085c2294e08row44_col0\" class=\"data row44 col0\" >Clustering Iteration</td>\n",
       "                        <td id=\"T_cc97c226_aa7e_11ec_ba9f_7085c2294e08row44_col1\" class=\"data row44 col1\" >None</td>\n",
       "            </tr>\n",
       "            <tr>\n",
       "                        <th id=\"T_cc97c226_aa7e_11ec_ba9f_7085c2294e08level0_row45\" class=\"row_heading level0 row45\" >45</th>\n",
       "                        <td id=\"T_cc97c226_aa7e_11ec_ba9f_7085c2294e08row45_col0\" class=\"data row45 col0\" >Polynomial Features</td>\n",
       "                        <td id=\"T_cc97c226_aa7e_11ec_ba9f_7085c2294e08row45_col1\" class=\"data row45 col1\" >False</td>\n",
       "            </tr>\n",
       "            <tr>\n",
       "                        <th id=\"T_cc97c226_aa7e_11ec_ba9f_7085c2294e08level0_row46\" class=\"row_heading level0 row46\" >46</th>\n",
       "                        <td id=\"T_cc97c226_aa7e_11ec_ba9f_7085c2294e08row46_col0\" class=\"data row46 col0\" >Polynomial Degree</td>\n",
       "                        <td id=\"T_cc97c226_aa7e_11ec_ba9f_7085c2294e08row46_col1\" class=\"data row46 col1\" >None</td>\n",
       "            </tr>\n",
       "            <tr>\n",
       "                        <th id=\"T_cc97c226_aa7e_11ec_ba9f_7085c2294e08level0_row47\" class=\"row_heading level0 row47\" >47</th>\n",
       "                        <td id=\"T_cc97c226_aa7e_11ec_ba9f_7085c2294e08row47_col0\" class=\"data row47 col0\" >Trignometry Features</td>\n",
       "                        <td id=\"T_cc97c226_aa7e_11ec_ba9f_7085c2294e08row47_col1\" class=\"data row47 col1\" >False</td>\n",
       "            </tr>\n",
       "            <tr>\n",
       "                        <th id=\"T_cc97c226_aa7e_11ec_ba9f_7085c2294e08level0_row48\" class=\"row_heading level0 row48\" >48</th>\n",
       "                        <td id=\"T_cc97c226_aa7e_11ec_ba9f_7085c2294e08row48_col0\" class=\"data row48 col0\" >Polynomial Threshold</td>\n",
       "                        <td id=\"T_cc97c226_aa7e_11ec_ba9f_7085c2294e08row48_col1\" class=\"data row48 col1\" >None</td>\n",
       "            </tr>\n",
       "            <tr>\n",
       "                        <th id=\"T_cc97c226_aa7e_11ec_ba9f_7085c2294e08level0_row49\" class=\"row_heading level0 row49\" >49</th>\n",
       "                        <td id=\"T_cc97c226_aa7e_11ec_ba9f_7085c2294e08row49_col0\" class=\"data row49 col0\" >Group Features</td>\n",
       "                        <td id=\"T_cc97c226_aa7e_11ec_ba9f_7085c2294e08row49_col1\" class=\"data row49 col1\" >False</td>\n",
       "            </tr>\n",
       "            <tr>\n",
       "                        <th id=\"T_cc97c226_aa7e_11ec_ba9f_7085c2294e08level0_row50\" class=\"row_heading level0 row50\" >50</th>\n",
       "                        <td id=\"T_cc97c226_aa7e_11ec_ba9f_7085c2294e08row50_col0\" class=\"data row50 col0\" >Feature Selection</td>\n",
       "                        <td id=\"T_cc97c226_aa7e_11ec_ba9f_7085c2294e08row50_col1\" class=\"data row50 col1\" >False</td>\n",
       "            </tr>\n",
       "            <tr>\n",
       "                        <th id=\"T_cc97c226_aa7e_11ec_ba9f_7085c2294e08level0_row51\" class=\"row_heading level0 row51\" >51</th>\n",
       "                        <td id=\"T_cc97c226_aa7e_11ec_ba9f_7085c2294e08row51_col0\" class=\"data row51 col0\" >Feature Selection Method</td>\n",
       "                        <td id=\"T_cc97c226_aa7e_11ec_ba9f_7085c2294e08row51_col1\" class=\"data row51 col1\" >classic</td>\n",
       "            </tr>\n",
       "            <tr>\n",
       "                        <th id=\"T_cc97c226_aa7e_11ec_ba9f_7085c2294e08level0_row52\" class=\"row_heading level0 row52\" >52</th>\n",
       "                        <td id=\"T_cc97c226_aa7e_11ec_ba9f_7085c2294e08row52_col0\" class=\"data row52 col0\" >Features Selection Threshold</td>\n",
       "                        <td id=\"T_cc97c226_aa7e_11ec_ba9f_7085c2294e08row52_col1\" class=\"data row52 col1\" >None</td>\n",
       "            </tr>\n",
       "            <tr>\n",
       "                        <th id=\"T_cc97c226_aa7e_11ec_ba9f_7085c2294e08level0_row53\" class=\"row_heading level0 row53\" >53</th>\n",
       "                        <td id=\"T_cc97c226_aa7e_11ec_ba9f_7085c2294e08row53_col0\" class=\"data row53 col0\" >Feature Interaction</td>\n",
       "                        <td id=\"T_cc97c226_aa7e_11ec_ba9f_7085c2294e08row53_col1\" class=\"data row53 col1\" >False</td>\n",
       "            </tr>\n",
       "            <tr>\n",
       "                        <th id=\"T_cc97c226_aa7e_11ec_ba9f_7085c2294e08level0_row54\" class=\"row_heading level0 row54\" >54</th>\n",
       "                        <td id=\"T_cc97c226_aa7e_11ec_ba9f_7085c2294e08row54_col0\" class=\"data row54 col0\" >Feature Ratio</td>\n",
       "                        <td id=\"T_cc97c226_aa7e_11ec_ba9f_7085c2294e08row54_col1\" class=\"data row54 col1\" >False</td>\n",
       "            </tr>\n",
       "            <tr>\n",
       "                        <th id=\"T_cc97c226_aa7e_11ec_ba9f_7085c2294e08level0_row55\" class=\"row_heading level0 row55\" >55</th>\n",
       "                        <td id=\"T_cc97c226_aa7e_11ec_ba9f_7085c2294e08row55_col0\" class=\"data row55 col0\" >Interaction Threshold</td>\n",
       "                        <td id=\"T_cc97c226_aa7e_11ec_ba9f_7085c2294e08row55_col1\" class=\"data row55 col1\" >None</td>\n",
       "            </tr>\n",
       "            <tr>\n",
       "                        <th id=\"T_cc97c226_aa7e_11ec_ba9f_7085c2294e08level0_row56\" class=\"row_heading level0 row56\" >56</th>\n",
       "                        <td id=\"T_cc97c226_aa7e_11ec_ba9f_7085c2294e08row56_col0\" class=\"data row56 col0\" >Transform Target</td>\n",
       "                        <td id=\"T_cc97c226_aa7e_11ec_ba9f_7085c2294e08row56_col1\" class=\"data row56 col1\" >False</td>\n",
       "            </tr>\n",
       "            <tr>\n",
       "                        <th id=\"T_cc97c226_aa7e_11ec_ba9f_7085c2294e08level0_row57\" class=\"row_heading level0 row57\" >57</th>\n",
       "                        <td id=\"T_cc97c226_aa7e_11ec_ba9f_7085c2294e08row57_col0\" class=\"data row57 col0\" >Transform Target Method</td>\n",
       "                        <td id=\"T_cc97c226_aa7e_11ec_ba9f_7085c2294e08row57_col1\" class=\"data row57 col1\" >box-cox</td>\n",
       "            </tr>\n",
       "    </tbody></table>"
      ],
      "text/plain": [
       "<pandas.io.formats.style.Styler at 0x1d65f089700>"
      ]
     },
     "metadata": {},
     "output_type": "display_data"
    }
   ],
   "source": [
    "setup_clf = setup(data = train, target='Target', fold=5, silent=True)"
   ]
  },
  {
   "cell_type": "code",
   "execution_count": 13,
   "metadata": {
    "scrolled": true
   },
   "outputs": [
    {
     "data": {
      "text/html": [
       "<style  type=\"text/css\" >\n",
       "    #T_29cfa169_aa7f_11ec_a4df_7085c2294e08 th {\n",
       "          text-align: left;\n",
       "    }#T_29cfa169_aa7f_11ec_a4df_7085c2294e08row0_col0,#T_29cfa169_aa7f_11ec_a4df_7085c2294e08row0_col2,#T_29cfa169_aa7f_11ec_a4df_7085c2294e08row0_col3,#T_29cfa169_aa7f_11ec_a4df_7085c2294e08row0_col4,#T_29cfa169_aa7f_11ec_a4df_7085c2294e08row0_col5,#T_29cfa169_aa7f_11ec_a4df_7085c2294e08row1_col0,#T_29cfa169_aa7f_11ec_a4df_7085c2294e08row1_col1,#T_29cfa169_aa7f_11ec_a4df_7085c2294e08row1_col2,#T_29cfa169_aa7f_11ec_a4df_7085c2294e08row1_col3,#T_29cfa169_aa7f_11ec_a4df_7085c2294e08row1_col4,#T_29cfa169_aa7f_11ec_a4df_7085c2294e08row1_col5,#T_29cfa169_aa7f_11ec_a4df_7085c2294e08row1_col6,#T_29cfa169_aa7f_11ec_a4df_7085c2294e08row2_col0,#T_29cfa169_aa7f_11ec_a4df_7085c2294e08row2_col1,#T_29cfa169_aa7f_11ec_a4df_7085c2294e08row2_col2,#T_29cfa169_aa7f_11ec_a4df_7085c2294e08row2_col3,#T_29cfa169_aa7f_11ec_a4df_7085c2294e08row2_col4,#T_29cfa169_aa7f_11ec_a4df_7085c2294e08row2_col5,#T_29cfa169_aa7f_11ec_a4df_7085c2294e08row2_col6,#T_29cfa169_aa7f_11ec_a4df_7085c2294e08row3_col0,#T_29cfa169_aa7f_11ec_a4df_7085c2294e08row3_col1,#T_29cfa169_aa7f_11ec_a4df_7085c2294e08row3_col5,#T_29cfa169_aa7f_11ec_a4df_7085c2294e08row3_col6,#T_29cfa169_aa7f_11ec_a4df_7085c2294e08row4_col0,#T_29cfa169_aa7f_11ec_a4df_7085c2294e08row4_col1,#T_29cfa169_aa7f_11ec_a4df_7085c2294e08row4_col2,#T_29cfa169_aa7f_11ec_a4df_7085c2294e08row4_col3,#T_29cfa169_aa7f_11ec_a4df_7085c2294e08row4_col4,#T_29cfa169_aa7f_11ec_a4df_7085c2294e08row4_col5,#T_29cfa169_aa7f_11ec_a4df_7085c2294e08row4_col6,#T_29cfa169_aa7f_11ec_a4df_7085c2294e08row5_col0,#T_29cfa169_aa7f_11ec_a4df_7085c2294e08row5_col1,#T_29cfa169_aa7f_11ec_a4df_7085c2294e08row5_col2,#T_29cfa169_aa7f_11ec_a4df_7085c2294e08row5_col3,#T_29cfa169_aa7f_11ec_a4df_7085c2294e08row5_col4,#T_29cfa169_aa7f_11ec_a4df_7085c2294e08row5_col6,#T_29cfa169_aa7f_11ec_a4df_7085c2294e08row6_col0,#T_29cfa169_aa7f_11ec_a4df_7085c2294e08row6_col1,#T_29cfa169_aa7f_11ec_a4df_7085c2294e08row6_col2,#T_29cfa169_aa7f_11ec_a4df_7085c2294e08row6_col3,#T_29cfa169_aa7f_11ec_a4df_7085c2294e08row6_col4,#T_29cfa169_aa7f_11ec_a4df_7085c2294e08row6_col5,#T_29cfa169_aa7f_11ec_a4df_7085c2294e08row6_col6,#T_29cfa169_aa7f_11ec_a4df_7085c2294e08row7_col0,#T_29cfa169_aa7f_11ec_a4df_7085c2294e08row7_col1,#T_29cfa169_aa7f_11ec_a4df_7085c2294e08row7_col2,#T_29cfa169_aa7f_11ec_a4df_7085c2294e08row7_col3,#T_29cfa169_aa7f_11ec_a4df_7085c2294e08row7_col4,#T_29cfa169_aa7f_11ec_a4df_7085c2294e08row7_col5,#T_29cfa169_aa7f_11ec_a4df_7085c2294e08row7_col6,#T_29cfa169_aa7f_11ec_a4df_7085c2294e08row8_col0,#T_29cfa169_aa7f_11ec_a4df_7085c2294e08row8_col1,#T_29cfa169_aa7f_11ec_a4df_7085c2294e08row8_col2,#T_29cfa169_aa7f_11ec_a4df_7085c2294e08row8_col3,#T_29cfa169_aa7f_11ec_a4df_7085c2294e08row8_col4,#T_29cfa169_aa7f_11ec_a4df_7085c2294e08row8_col5,#T_29cfa169_aa7f_11ec_a4df_7085c2294e08row8_col6,#T_29cfa169_aa7f_11ec_a4df_7085c2294e08row9_col0,#T_29cfa169_aa7f_11ec_a4df_7085c2294e08row9_col1,#T_29cfa169_aa7f_11ec_a4df_7085c2294e08row9_col2,#T_29cfa169_aa7f_11ec_a4df_7085c2294e08row9_col3,#T_29cfa169_aa7f_11ec_a4df_7085c2294e08row9_col4,#T_29cfa169_aa7f_11ec_a4df_7085c2294e08row9_col5,#T_29cfa169_aa7f_11ec_a4df_7085c2294e08row9_col6,#T_29cfa169_aa7f_11ec_a4df_7085c2294e08row10_col0,#T_29cfa169_aa7f_11ec_a4df_7085c2294e08row10_col1,#T_29cfa169_aa7f_11ec_a4df_7085c2294e08row10_col2,#T_29cfa169_aa7f_11ec_a4df_7085c2294e08row10_col3,#T_29cfa169_aa7f_11ec_a4df_7085c2294e08row10_col4,#T_29cfa169_aa7f_11ec_a4df_7085c2294e08row10_col5,#T_29cfa169_aa7f_11ec_a4df_7085c2294e08row10_col6,#T_29cfa169_aa7f_11ec_a4df_7085c2294e08row11_col0,#T_29cfa169_aa7f_11ec_a4df_7085c2294e08row11_col1,#T_29cfa169_aa7f_11ec_a4df_7085c2294e08row11_col2,#T_29cfa169_aa7f_11ec_a4df_7085c2294e08row11_col3,#T_29cfa169_aa7f_11ec_a4df_7085c2294e08row11_col4,#T_29cfa169_aa7f_11ec_a4df_7085c2294e08row11_col5,#T_29cfa169_aa7f_11ec_a4df_7085c2294e08row11_col6,#T_29cfa169_aa7f_11ec_a4df_7085c2294e08row12_col0,#T_29cfa169_aa7f_11ec_a4df_7085c2294e08row12_col1,#T_29cfa169_aa7f_11ec_a4df_7085c2294e08row12_col2,#T_29cfa169_aa7f_11ec_a4df_7085c2294e08row12_col3,#T_29cfa169_aa7f_11ec_a4df_7085c2294e08row12_col4,#T_29cfa169_aa7f_11ec_a4df_7085c2294e08row12_col5,#T_29cfa169_aa7f_11ec_a4df_7085c2294e08row12_col6,#T_29cfa169_aa7f_11ec_a4df_7085c2294e08row13_col0,#T_29cfa169_aa7f_11ec_a4df_7085c2294e08row13_col1,#T_29cfa169_aa7f_11ec_a4df_7085c2294e08row13_col2,#T_29cfa169_aa7f_11ec_a4df_7085c2294e08row13_col3,#T_29cfa169_aa7f_11ec_a4df_7085c2294e08row13_col4,#T_29cfa169_aa7f_11ec_a4df_7085c2294e08row13_col5,#T_29cfa169_aa7f_11ec_a4df_7085c2294e08row13_col6,#T_29cfa169_aa7f_11ec_a4df_7085c2294e08row14_col0,#T_29cfa169_aa7f_11ec_a4df_7085c2294e08row14_col1,#T_29cfa169_aa7f_11ec_a4df_7085c2294e08row14_col2,#T_29cfa169_aa7f_11ec_a4df_7085c2294e08row14_col3,#T_29cfa169_aa7f_11ec_a4df_7085c2294e08row14_col4,#T_29cfa169_aa7f_11ec_a4df_7085c2294e08row14_col5,#T_29cfa169_aa7f_11ec_a4df_7085c2294e08row14_col6,#T_29cfa169_aa7f_11ec_a4df_7085c2294e08row15_col0,#T_29cfa169_aa7f_11ec_a4df_7085c2294e08row15_col1,#T_29cfa169_aa7f_11ec_a4df_7085c2294e08row15_col2,#T_29cfa169_aa7f_11ec_a4df_7085c2294e08row15_col3,#T_29cfa169_aa7f_11ec_a4df_7085c2294e08row15_col4,#T_29cfa169_aa7f_11ec_a4df_7085c2294e08row15_col5,#T_29cfa169_aa7f_11ec_a4df_7085c2294e08row15_col6,#T_29cfa169_aa7f_11ec_a4df_7085c2294e08row16_col0,#T_29cfa169_aa7f_11ec_a4df_7085c2294e08row16_col1,#T_29cfa169_aa7f_11ec_a4df_7085c2294e08row16_col2,#T_29cfa169_aa7f_11ec_a4df_7085c2294e08row16_col3,#T_29cfa169_aa7f_11ec_a4df_7085c2294e08row16_col4,#T_29cfa169_aa7f_11ec_a4df_7085c2294e08row16_col5,#T_29cfa169_aa7f_11ec_a4df_7085c2294e08row16_col6,#T_29cfa169_aa7f_11ec_a4df_7085c2294e08row17_col0,#T_29cfa169_aa7f_11ec_a4df_7085c2294e08row17_col1,#T_29cfa169_aa7f_11ec_a4df_7085c2294e08row17_col2,#T_29cfa169_aa7f_11ec_a4df_7085c2294e08row17_col3,#T_29cfa169_aa7f_11ec_a4df_7085c2294e08row17_col4,#T_29cfa169_aa7f_11ec_a4df_7085c2294e08row17_col5,#T_29cfa169_aa7f_11ec_a4df_7085c2294e08row17_col6,#T_29cfa169_aa7f_11ec_a4df_7085c2294e08row18_col0,#T_29cfa169_aa7f_11ec_a4df_7085c2294e08row18_col1,#T_29cfa169_aa7f_11ec_a4df_7085c2294e08row18_col2,#T_29cfa169_aa7f_11ec_a4df_7085c2294e08row18_col3,#T_29cfa169_aa7f_11ec_a4df_7085c2294e08row18_col4,#T_29cfa169_aa7f_11ec_a4df_7085c2294e08row18_col5,#T_29cfa169_aa7f_11ec_a4df_7085c2294e08row18_col6,#T_29cfa169_aa7f_11ec_a4df_7085c2294e08row19_col0,#T_29cfa169_aa7f_11ec_a4df_7085c2294e08row19_col1,#T_29cfa169_aa7f_11ec_a4df_7085c2294e08row19_col2,#T_29cfa169_aa7f_11ec_a4df_7085c2294e08row19_col3,#T_29cfa169_aa7f_11ec_a4df_7085c2294e08row19_col4,#T_29cfa169_aa7f_11ec_a4df_7085c2294e08row19_col5,#T_29cfa169_aa7f_11ec_a4df_7085c2294e08row19_col6{\n",
       "            text-align:  left;\n",
       "            text-align:  left;\n",
       "        }#T_29cfa169_aa7f_11ec_a4df_7085c2294e08row0_col1,#T_29cfa169_aa7f_11ec_a4df_7085c2294e08row0_col6,#T_29cfa169_aa7f_11ec_a4df_7085c2294e08row3_col2,#T_29cfa169_aa7f_11ec_a4df_7085c2294e08row3_col3,#T_29cfa169_aa7f_11ec_a4df_7085c2294e08row3_col4,#T_29cfa169_aa7f_11ec_a4df_7085c2294e08row5_col5{\n",
       "            text-align:  left;\n",
       "            text-align:  left;\n",
       "            background-color:  yellow;\n",
       "        }#T_29cfa169_aa7f_11ec_a4df_7085c2294e08row0_col7,#T_29cfa169_aa7f_11ec_a4df_7085c2294e08row2_col7,#T_29cfa169_aa7f_11ec_a4df_7085c2294e08row3_col7,#T_29cfa169_aa7f_11ec_a4df_7085c2294e08row5_col7,#T_29cfa169_aa7f_11ec_a4df_7085c2294e08row6_col7,#T_29cfa169_aa7f_11ec_a4df_7085c2294e08row7_col7,#T_29cfa169_aa7f_11ec_a4df_7085c2294e08row8_col7,#T_29cfa169_aa7f_11ec_a4df_7085c2294e08row9_col7,#T_29cfa169_aa7f_11ec_a4df_7085c2294e08row10_col7,#T_29cfa169_aa7f_11ec_a4df_7085c2294e08row11_col7,#T_29cfa169_aa7f_11ec_a4df_7085c2294e08row13_col7,#T_29cfa169_aa7f_11ec_a4df_7085c2294e08row15_col7,#T_29cfa169_aa7f_11ec_a4df_7085c2294e08row16_col7{\n",
       "            text-align:  left;\n",
       "            text-align:  left;\n",
       "            background-color:  lightgrey;\n",
       "        }#T_29cfa169_aa7f_11ec_a4df_7085c2294e08row1_col7,#T_29cfa169_aa7f_11ec_a4df_7085c2294e08row4_col7,#T_29cfa169_aa7f_11ec_a4df_7085c2294e08row12_col7,#T_29cfa169_aa7f_11ec_a4df_7085c2294e08row14_col7,#T_29cfa169_aa7f_11ec_a4df_7085c2294e08row17_col7,#T_29cfa169_aa7f_11ec_a4df_7085c2294e08row18_col7,#T_29cfa169_aa7f_11ec_a4df_7085c2294e08row19_col7{\n",
       "            text-align:  left;\n",
       "            text-align:  left;\n",
       "            background-color:  yellow;\n",
       "            background-color:  lightgrey;\n",
       "        }</style><table id=\"T_29cfa169_aa7f_11ec_a4df_7085c2294e08\" ><thead>    <tr>        <th class=\"blank level0\" ></th>        <th class=\"col_heading level0 col0\" >Model</th>        <th class=\"col_heading level0 col1\" >MAE</th>        <th class=\"col_heading level0 col2\" >MSE</th>        <th class=\"col_heading level0 col3\" >RMSE</th>        <th class=\"col_heading level0 col4\" >R2</th>        <th class=\"col_heading level0 col5\" >RMSLE</th>        <th class=\"col_heading level0 col6\" >MAPE</th>        <th class=\"col_heading level0 col7\" >TT (Sec)</th>    </tr></thead><tbody>\n",
       "                <tr>\n",
       "                        <th id=\"T_29cfa169_aa7f_11ec_a4df_7085c2294e08level0_row0\" class=\"row_heading level0 row0\" >huber</th>\n",
       "                        <td id=\"T_29cfa169_aa7f_11ec_a4df_7085c2294e08row0_col0\" class=\"data row0 col0\" >Huber Regressor</td>\n",
       "                        <td id=\"T_29cfa169_aa7f_11ec_a4df_7085c2294e08row0_col1\" class=\"data row0 col1\" >1.5827</td>\n",
       "                        <td id=\"T_29cfa169_aa7f_11ec_a4df_7085c2294e08row0_col2\" class=\"data row0 col2\" >5.2018</td>\n",
       "                        <td id=\"T_29cfa169_aa7f_11ec_a4df_7085c2294e08row0_col3\" class=\"data row0 col3\" >2.2770</td>\n",
       "                        <td id=\"T_29cfa169_aa7f_11ec_a4df_7085c2294e08row0_col4\" class=\"data row0 col4\" >0.4683</td>\n",
       "                        <td id=\"T_29cfa169_aa7f_11ec_a4df_7085c2294e08row0_col5\" class=\"data row0 col5\" >0.1887</td>\n",
       "                        <td id=\"T_29cfa169_aa7f_11ec_a4df_7085c2294e08row0_col6\" class=\"data row0 col6\" >0.1539</td>\n",
       "                        <td id=\"T_29cfa169_aa7f_11ec_a4df_7085c2294e08row0_col7\" class=\"data row0 col7\" >0.0180</td>\n",
       "            </tr>\n",
       "            <tr>\n",
       "                        <th id=\"T_29cfa169_aa7f_11ec_a4df_7085c2294e08level0_row1\" class=\"row_heading level0 row1\" >lr</th>\n",
       "                        <td id=\"T_29cfa169_aa7f_11ec_a4df_7085c2294e08row1_col0\" class=\"data row1 col0\" >Linear Regression</td>\n",
       "                        <td id=\"T_29cfa169_aa7f_11ec_a4df_7085c2294e08row1_col1\" class=\"data row1 col1\" >1.6238</td>\n",
       "                        <td id=\"T_29cfa169_aa7f_11ec_a4df_7085c2294e08row1_col2\" class=\"data row1 col2\" >5.0891</td>\n",
       "                        <td id=\"T_29cfa169_aa7f_11ec_a4df_7085c2294e08row1_col3\" class=\"data row1 col3\" >2.2525</td>\n",
       "                        <td id=\"T_29cfa169_aa7f_11ec_a4df_7085c2294e08row1_col4\" class=\"data row1 col4\" >0.4764</td>\n",
       "                        <td id=\"T_29cfa169_aa7f_11ec_a4df_7085c2294e08row1_col5\" class=\"data row1 col5\" >0.1884</td>\n",
       "                        <td id=\"T_29cfa169_aa7f_11ec_a4df_7085c2294e08row1_col6\" class=\"data row1 col6\" >0.1654</td>\n",
       "                        <td id=\"T_29cfa169_aa7f_11ec_a4df_7085c2294e08row1_col7\" class=\"data row1 col7\" >0.0060</td>\n",
       "            </tr>\n",
       "            <tr>\n",
       "                        <th id=\"T_29cfa169_aa7f_11ec_a4df_7085c2294e08level0_row2\" class=\"row_heading level0 row2\" >lar</th>\n",
       "                        <td id=\"T_29cfa169_aa7f_11ec_a4df_7085c2294e08row2_col0\" class=\"data row2 col0\" >Least Angle Regression</td>\n",
       "                        <td id=\"T_29cfa169_aa7f_11ec_a4df_7085c2294e08row2_col1\" class=\"data row2 col1\" >1.6238</td>\n",
       "                        <td id=\"T_29cfa169_aa7f_11ec_a4df_7085c2294e08row2_col2\" class=\"data row2 col2\" >5.0890</td>\n",
       "                        <td id=\"T_29cfa169_aa7f_11ec_a4df_7085c2294e08row2_col3\" class=\"data row2 col3\" >2.2525</td>\n",
       "                        <td id=\"T_29cfa169_aa7f_11ec_a4df_7085c2294e08row2_col4\" class=\"data row2 col4\" >0.4764</td>\n",
       "                        <td id=\"T_29cfa169_aa7f_11ec_a4df_7085c2294e08row2_col5\" class=\"data row2 col5\" >0.1884</td>\n",
       "                        <td id=\"T_29cfa169_aa7f_11ec_a4df_7085c2294e08row2_col6\" class=\"data row2 col6\" >0.1654</td>\n",
       "                        <td id=\"T_29cfa169_aa7f_11ec_a4df_7085c2294e08row2_col7\" class=\"data row2 col7\" >0.0080</td>\n",
       "            </tr>\n",
       "            <tr>\n",
       "                        <th id=\"T_29cfa169_aa7f_11ec_a4df_7085c2294e08level0_row3\" class=\"row_heading level0 row3\" >br</th>\n",
       "                        <td id=\"T_29cfa169_aa7f_11ec_a4df_7085c2294e08row3_col0\" class=\"data row3 col0\" >Bayesian Ridge</td>\n",
       "                        <td id=\"T_29cfa169_aa7f_11ec_a4df_7085c2294e08row3_col1\" class=\"data row3 col1\" >1.6238</td>\n",
       "                        <td id=\"T_29cfa169_aa7f_11ec_a4df_7085c2294e08row3_col2\" class=\"data row3 col2\" >5.0817</td>\n",
       "                        <td id=\"T_29cfa169_aa7f_11ec_a4df_7085c2294e08row3_col3\" class=\"data row3 col3\" >2.2514</td>\n",
       "                        <td id=\"T_29cfa169_aa7f_11ec_a4df_7085c2294e08row3_col4\" class=\"data row3 col4\" >0.4779</td>\n",
       "                        <td id=\"T_29cfa169_aa7f_11ec_a4df_7085c2294e08row3_col5\" class=\"data row3 col5\" >0.1891</td>\n",
       "                        <td id=\"T_29cfa169_aa7f_11ec_a4df_7085c2294e08row3_col6\" class=\"data row3 col6\" >0.1655</td>\n",
       "                        <td id=\"T_29cfa169_aa7f_11ec_a4df_7085c2294e08row3_col7\" class=\"data row3 col7\" >0.0080</td>\n",
       "            </tr>\n",
       "            <tr>\n",
       "                        <th id=\"T_29cfa169_aa7f_11ec_a4df_7085c2294e08level0_row4\" class=\"row_heading level0 row4\" >ridge</th>\n",
       "                        <td id=\"T_29cfa169_aa7f_11ec_a4df_7085c2294e08row4_col0\" class=\"data row4 col0\" >Ridge Regression</td>\n",
       "                        <td id=\"T_29cfa169_aa7f_11ec_a4df_7085c2294e08row4_col1\" class=\"data row4 col1\" >1.6389</td>\n",
       "                        <td id=\"T_29cfa169_aa7f_11ec_a4df_7085c2294e08row4_col2\" class=\"data row4 col2\" >5.1863</td>\n",
       "                        <td id=\"T_29cfa169_aa7f_11ec_a4df_7085c2294e08row4_col3\" class=\"data row4 col3\" >2.2750</td>\n",
       "                        <td id=\"T_29cfa169_aa7f_11ec_a4df_7085c2294e08row4_col4\" class=\"data row4 col4\" >0.4699</td>\n",
       "                        <td id=\"T_29cfa169_aa7f_11ec_a4df_7085c2294e08row4_col5\" class=\"data row4 col5\" >0.1917</td>\n",
       "                        <td id=\"T_29cfa169_aa7f_11ec_a4df_7085c2294e08row4_col6\" class=\"data row4 col6\" >0.1684</td>\n",
       "                        <td id=\"T_29cfa169_aa7f_11ec_a4df_7085c2294e08row4_col7\" class=\"data row4 col7\" >0.0060</td>\n",
       "            </tr>\n",
       "            <tr>\n",
       "                        <th id=\"T_29cfa169_aa7f_11ec_a4df_7085c2294e08level0_row5\" class=\"row_heading level0 row5\" >rf</th>\n",
       "                        <td id=\"T_29cfa169_aa7f_11ec_a4df_7085c2294e08row5_col0\" class=\"data row5 col0\" >Random Forest Regressor</td>\n",
       "                        <td id=\"T_29cfa169_aa7f_11ec_a4df_7085c2294e08row5_col1\" class=\"data row5 col1\" >1.6424</td>\n",
       "                        <td id=\"T_29cfa169_aa7f_11ec_a4df_7085c2294e08row5_col2\" class=\"data row5 col2\" >5.2736</td>\n",
       "                        <td id=\"T_29cfa169_aa7f_11ec_a4df_7085c2294e08row5_col3\" class=\"data row5 col3\" >2.2932</td>\n",
       "                        <td id=\"T_29cfa169_aa7f_11ec_a4df_7085c2294e08row5_col4\" class=\"data row5 col4\" >0.4586</td>\n",
       "                        <td id=\"T_29cfa169_aa7f_11ec_a4df_7085c2294e08row5_col5\" class=\"data row5 col5\" >0.1879</td>\n",
       "                        <td id=\"T_29cfa169_aa7f_11ec_a4df_7085c2294e08row5_col6\" class=\"data row5 col6\" >0.1650</td>\n",
       "                        <td id=\"T_29cfa169_aa7f_11ec_a4df_7085c2294e08row5_col7\" class=\"data row5 col7\" >0.1600</td>\n",
       "            </tr>\n",
       "            <tr>\n",
       "                        <th id=\"T_29cfa169_aa7f_11ec_a4df_7085c2294e08level0_row6\" class=\"row_heading level0 row6\" >gbr</th>\n",
       "                        <td id=\"T_29cfa169_aa7f_11ec_a4df_7085c2294e08row6_col0\" class=\"data row6 col0\" >Gradient Boosting Regressor</td>\n",
       "                        <td id=\"T_29cfa169_aa7f_11ec_a4df_7085c2294e08row6_col1\" class=\"data row6 col1\" >1.6449</td>\n",
       "                        <td id=\"T_29cfa169_aa7f_11ec_a4df_7085c2294e08row6_col2\" class=\"data row6 col2\" >5.3179</td>\n",
       "                        <td id=\"T_29cfa169_aa7f_11ec_a4df_7085c2294e08row6_col3\" class=\"data row6 col3\" >2.3049</td>\n",
       "                        <td id=\"T_29cfa169_aa7f_11ec_a4df_7085c2294e08row6_col4\" class=\"data row6 col4\" >0.4499</td>\n",
       "                        <td id=\"T_29cfa169_aa7f_11ec_a4df_7085c2294e08row6_col5\" class=\"data row6 col5\" >0.1886</td>\n",
       "                        <td id=\"T_29cfa169_aa7f_11ec_a4df_7085c2294e08row6_col6\" class=\"data row6 col6\" >0.1662</td>\n",
       "                        <td id=\"T_29cfa169_aa7f_11ec_a4df_7085c2294e08row6_col7\" class=\"data row6 col7\" >0.0560</td>\n",
       "            </tr>\n",
       "            <tr>\n",
       "                        <th id=\"T_29cfa169_aa7f_11ec_a4df_7085c2294e08level0_row7\" class=\"row_heading level0 row7\" >et</th>\n",
       "                        <td id=\"T_29cfa169_aa7f_11ec_a4df_7085c2294e08row7_col0\" class=\"data row7 col0\" >Extra Trees Regressor</td>\n",
       "                        <td id=\"T_29cfa169_aa7f_11ec_a4df_7085c2294e08row7_col1\" class=\"data row7 col1\" >1.6506</td>\n",
       "                        <td id=\"T_29cfa169_aa7f_11ec_a4df_7085c2294e08row7_col2\" class=\"data row7 col2\" >5.3070</td>\n",
       "                        <td id=\"T_29cfa169_aa7f_11ec_a4df_7085c2294e08row7_col3\" class=\"data row7 col3\" >2.3000</td>\n",
       "                        <td id=\"T_29cfa169_aa7f_11ec_a4df_7085c2294e08row7_col4\" class=\"data row7 col4\" >0.4559</td>\n",
       "                        <td id=\"T_29cfa169_aa7f_11ec_a4df_7085c2294e08row7_col5\" class=\"data row7 col5\" >0.1891</td>\n",
       "                        <td id=\"T_29cfa169_aa7f_11ec_a4df_7085c2294e08row7_col6\" class=\"data row7 col6\" >0.1667</td>\n",
       "                        <td id=\"T_29cfa169_aa7f_11ec_a4df_7085c2294e08row7_col7\" class=\"data row7 col7\" >0.1160</td>\n",
       "            </tr>\n",
       "            <tr>\n",
       "                        <th id=\"T_29cfa169_aa7f_11ec_a4df_7085c2294e08level0_row8\" class=\"row_heading level0 row8\" >catboost</th>\n",
       "                        <td id=\"T_29cfa169_aa7f_11ec_a4df_7085c2294e08row8_col0\" class=\"data row8 col0\" >CatBoost Regressor</td>\n",
       "                        <td id=\"T_29cfa169_aa7f_11ec_a4df_7085c2294e08row8_col1\" class=\"data row8 col1\" >1.6662</td>\n",
       "                        <td id=\"T_29cfa169_aa7f_11ec_a4df_7085c2294e08row8_col2\" class=\"data row8 col2\" >5.3537</td>\n",
       "                        <td id=\"T_29cfa169_aa7f_11ec_a4df_7085c2294e08row8_col3\" class=\"data row8 col3\" >2.3120</td>\n",
       "                        <td id=\"T_29cfa169_aa7f_11ec_a4df_7085c2294e08row8_col4\" class=\"data row8 col4\" >0.4485</td>\n",
       "                        <td id=\"T_29cfa169_aa7f_11ec_a4df_7085c2294e08row8_col5\" class=\"data row8 col5\" >0.1891</td>\n",
       "                        <td id=\"T_29cfa169_aa7f_11ec_a4df_7085c2294e08row8_col6\" class=\"data row8 col6\" >0.1669</td>\n",
       "                        <td id=\"T_29cfa169_aa7f_11ec_a4df_7085c2294e08row8_col7\" class=\"data row8 col7\" >1.1560</td>\n",
       "            </tr>\n",
       "            <tr>\n",
       "                        <th id=\"T_29cfa169_aa7f_11ec_a4df_7085c2294e08level0_row9\" class=\"row_heading level0 row9\" >knn</th>\n",
       "                        <td id=\"T_29cfa169_aa7f_11ec_a4df_7085c2294e08row9_col0\" class=\"data row9 col0\" >K Neighbors Regressor</td>\n",
       "                        <td id=\"T_29cfa169_aa7f_11ec_a4df_7085c2294e08row9_col1\" class=\"data row9 col1\" >1.6797</td>\n",
       "                        <td id=\"T_29cfa169_aa7f_11ec_a4df_7085c2294e08row9_col2\" class=\"data row9 col2\" >5.6296</td>\n",
       "                        <td id=\"T_29cfa169_aa7f_11ec_a4df_7085c2294e08row9_col3\" class=\"data row9 col3\" >2.3696</td>\n",
       "                        <td id=\"T_29cfa169_aa7f_11ec_a4df_7085c2294e08row9_col4\" class=\"data row9 col4\" >0.4235</td>\n",
       "                        <td id=\"T_29cfa169_aa7f_11ec_a4df_7085c2294e08row9_col5\" class=\"data row9 col5\" >0.1961</td>\n",
       "                        <td id=\"T_29cfa169_aa7f_11ec_a4df_7085c2294e08row9_col6\" class=\"data row9 col6\" >0.1689</td>\n",
       "                        <td id=\"T_29cfa169_aa7f_11ec_a4df_7085c2294e08row9_col7\" class=\"data row9 col7\" >0.0120</td>\n",
       "            </tr>\n",
       "            <tr>\n",
       "                        <th id=\"T_29cfa169_aa7f_11ec_a4df_7085c2294e08level0_row10\" class=\"row_heading level0 row10\" >lightgbm</th>\n",
       "                        <td id=\"T_29cfa169_aa7f_11ec_a4df_7085c2294e08row10_col0\" class=\"data row10 col0\" >Light Gradient Boosting Machine</td>\n",
       "                        <td id=\"T_29cfa169_aa7f_11ec_a4df_7085c2294e08row10_col1\" class=\"data row10 col1\" >1.6893</td>\n",
       "                        <td id=\"T_29cfa169_aa7f_11ec_a4df_7085c2294e08row10_col2\" class=\"data row10 col2\" >5.4572</td>\n",
       "                        <td id=\"T_29cfa169_aa7f_11ec_a4df_7085c2294e08row10_col3\" class=\"data row10 col3\" >2.3340</td>\n",
       "                        <td id=\"T_29cfa169_aa7f_11ec_a4df_7085c2294e08row10_col4\" class=\"data row10 col4\" >0.4367</td>\n",
       "                        <td id=\"T_29cfa169_aa7f_11ec_a4df_7085c2294e08row10_col5\" class=\"data row10 col5\" >0.1948</td>\n",
       "                        <td id=\"T_29cfa169_aa7f_11ec_a4df_7085c2294e08row10_col6\" class=\"data row10 col6\" >0.1711</td>\n",
       "                        <td id=\"T_29cfa169_aa7f_11ec_a4df_7085c2294e08row10_col7\" class=\"data row10 col7\" >0.0760</td>\n",
       "            </tr>\n",
       "            <tr>\n",
       "                        <th id=\"T_29cfa169_aa7f_11ec_a4df_7085c2294e08level0_row11\" class=\"row_heading level0 row11\" >xgboost</th>\n",
       "                        <td id=\"T_29cfa169_aa7f_11ec_a4df_7085c2294e08row11_col0\" class=\"data row11 col0\" >Extreme Gradient Boosting</td>\n",
       "                        <td id=\"T_29cfa169_aa7f_11ec_a4df_7085c2294e08row11_col1\" class=\"data row11 col1\" >1.7876</td>\n",
       "                        <td id=\"T_29cfa169_aa7f_11ec_a4df_7085c2294e08row11_col2\" class=\"data row11 col2\" >6.0272</td>\n",
       "                        <td id=\"T_29cfa169_aa7f_11ec_a4df_7085c2294e08row11_col3\" class=\"data row11 col3\" >2.4534</td>\n",
       "                        <td id=\"T_29cfa169_aa7f_11ec_a4df_7085c2294e08row11_col4\" class=\"data row11 col4\" >0.3761</td>\n",
       "                        <td id=\"T_29cfa169_aa7f_11ec_a4df_7085c2294e08row11_col5\" class=\"data row11 col5\" >0.2033</td>\n",
       "                        <td id=\"T_29cfa169_aa7f_11ec_a4df_7085c2294e08row11_col6\" class=\"data row11 col6\" >0.1812</td>\n",
       "                        <td id=\"T_29cfa169_aa7f_11ec_a4df_7085c2294e08row11_col7\" class=\"data row11 col7\" >0.1320</td>\n",
       "            </tr>\n",
       "            <tr>\n",
       "                        <th id=\"T_29cfa169_aa7f_11ec_a4df_7085c2294e08level0_row12\" class=\"row_heading level0 row12\" >omp</th>\n",
       "                        <td id=\"T_29cfa169_aa7f_11ec_a4df_7085c2294e08row12_col0\" class=\"data row12 col0\" >Orthogonal Matching Pursuit</td>\n",
       "                        <td id=\"T_29cfa169_aa7f_11ec_a4df_7085c2294e08row12_col1\" class=\"data row12 col1\" >1.8198</td>\n",
       "                        <td id=\"T_29cfa169_aa7f_11ec_a4df_7085c2294e08row12_col2\" class=\"data row12 col2\" >6.0910</td>\n",
       "                        <td id=\"T_29cfa169_aa7f_11ec_a4df_7085c2294e08row12_col3\" class=\"data row12 col3\" >2.4646</td>\n",
       "                        <td id=\"T_29cfa169_aa7f_11ec_a4df_7085c2294e08row12_col4\" class=\"data row12 col4\" >0.3784</td>\n",
       "                        <td id=\"T_29cfa169_aa7f_11ec_a4df_7085c2294e08row12_col5\" class=\"data row12 col5\" >0.2094</td>\n",
       "                        <td id=\"T_29cfa169_aa7f_11ec_a4df_7085c2294e08row12_col6\" class=\"data row12 col6\" >0.1879</td>\n",
       "                        <td id=\"T_29cfa169_aa7f_11ec_a4df_7085c2294e08row12_col7\" class=\"data row12 col7\" >0.0060</td>\n",
       "            </tr>\n",
       "            <tr>\n",
       "                        <th id=\"T_29cfa169_aa7f_11ec_a4df_7085c2294e08level0_row13\" class=\"row_heading level0 row13\" >par</th>\n",
       "                        <td id=\"T_29cfa169_aa7f_11ec_a4df_7085c2294e08row13_col0\" class=\"data row13 col0\" >Passive Aggressive Regressor</td>\n",
       "                        <td id=\"T_29cfa169_aa7f_11ec_a4df_7085c2294e08row13_col1\" class=\"data row13 col1\" >1.9833</td>\n",
       "                        <td id=\"T_29cfa169_aa7f_11ec_a4df_7085c2294e08row13_col2\" class=\"data row13 col2\" >7.6013</td>\n",
       "                        <td id=\"T_29cfa169_aa7f_11ec_a4df_7085c2294e08row13_col3\" class=\"data row13 col3\" >2.7520</td>\n",
       "                        <td id=\"T_29cfa169_aa7f_11ec_a4df_7085c2294e08row13_col4\" class=\"data row13 col4\" >0.2170</td>\n",
       "                        <td id=\"T_29cfa169_aa7f_11ec_a4df_7085c2294e08row13_col5\" class=\"data row13 col5\" >0.2341</td>\n",
       "                        <td id=\"T_29cfa169_aa7f_11ec_a4df_7085c2294e08row13_col6\" class=\"data row13 col6\" >0.1882</td>\n",
       "                        <td id=\"T_29cfa169_aa7f_11ec_a4df_7085c2294e08row13_col7\" class=\"data row13 col7\" >0.0100</td>\n",
       "            </tr>\n",
       "            <tr>\n",
       "                        <th id=\"T_29cfa169_aa7f_11ec_a4df_7085c2294e08level0_row14\" class=\"row_heading level0 row14\" >en</th>\n",
       "                        <td id=\"T_29cfa169_aa7f_11ec_a4df_7085c2294e08row14_col0\" class=\"data row14 col0\" >Elastic Net</td>\n",
       "                        <td id=\"T_29cfa169_aa7f_11ec_a4df_7085c2294e08row14_col1\" class=\"data row14 col1\" >2.2195</td>\n",
       "                        <td id=\"T_29cfa169_aa7f_11ec_a4df_7085c2294e08row14_col2\" class=\"data row14 col2\" >9.0687</td>\n",
       "                        <td id=\"T_29cfa169_aa7f_11ec_a4df_7085c2294e08row14_col3\" class=\"data row14 col3\" >3.0029</td>\n",
       "                        <td id=\"T_29cfa169_aa7f_11ec_a4df_7085c2294e08row14_col4\" class=\"data row14 col4\" >0.0825</td>\n",
       "                        <td id=\"T_29cfa169_aa7f_11ec_a4df_7085c2294e08row14_col5\" class=\"data row14 col5\" >0.2729</td>\n",
       "                        <td id=\"T_29cfa169_aa7f_11ec_a4df_7085c2294e08row14_col6\" class=\"data row14 col6\" >0.2522</td>\n",
       "                        <td id=\"T_29cfa169_aa7f_11ec_a4df_7085c2294e08row14_col7\" class=\"data row14 col7\" >0.0060</td>\n",
       "            </tr>\n",
       "            <tr>\n",
       "                        <th id=\"T_29cfa169_aa7f_11ec_a4df_7085c2294e08level0_row15\" class=\"row_heading level0 row15\" >ada</th>\n",
       "                        <td id=\"T_29cfa169_aa7f_11ec_a4df_7085c2294e08row15_col0\" class=\"data row15 col0\" >AdaBoost Regressor</td>\n",
       "                        <td id=\"T_29cfa169_aa7f_11ec_a4df_7085c2294e08row15_col1\" class=\"data row15 col1\" >2.2294</td>\n",
       "                        <td id=\"T_29cfa169_aa7f_11ec_a4df_7085c2294e08row15_col2\" class=\"data row15 col2\" >7.4012</td>\n",
       "                        <td id=\"T_29cfa169_aa7f_11ec_a4df_7085c2294e08row15_col3\" class=\"data row15 col3\" >2.7195</td>\n",
       "                        <td id=\"T_29cfa169_aa7f_11ec_a4df_7085c2294e08row15_col4\" class=\"data row15 col4\" >0.2298</td>\n",
       "                        <td id=\"T_29cfa169_aa7f_11ec_a4df_7085c2294e08row15_col5\" class=\"data row15 col5\" >0.2345</td>\n",
       "                        <td id=\"T_29cfa169_aa7f_11ec_a4df_7085c2294e08row15_col6\" class=\"data row15 col6\" >0.2460</td>\n",
       "                        <td id=\"T_29cfa169_aa7f_11ec_a4df_7085c2294e08row15_col7\" class=\"data row15 col7\" >0.0560</td>\n",
       "            </tr>\n",
       "            <tr>\n",
       "                        <th id=\"T_29cfa169_aa7f_11ec_a4df_7085c2294e08level0_row16\" class=\"row_heading level0 row16\" >dt</th>\n",
       "                        <td id=\"T_29cfa169_aa7f_11ec_a4df_7085c2294e08row16_col0\" class=\"data row16 col0\" >Decision Tree Regressor</td>\n",
       "                        <td id=\"T_29cfa169_aa7f_11ec_a4df_7085c2294e08row16_col1\" class=\"data row16 col1\" >2.2997</td>\n",
       "                        <td id=\"T_29cfa169_aa7f_11ec_a4df_7085c2294e08row16_col2\" class=\"data row16 col2\" >11.3205</td>\n",
       "                        <td id=\"T_29cfa169_aa7f_11ec_a4df_7085c2294e08row16_col3\" class=\"data row16 col3\" >3.3640</td>\n",
       "                        <td id=\"T_29cfa169_aa7f_11ec_a4df_7085c2294e08row16_col4\" class=\"data row16 col4\" >-0.1731</td>\n",
       "                        <td id=\"T_29cfa169_aa7f_11ec_a4df_7085c2294e08row16_col5\" class=\"data row16 col5\" >0.2700</td>\n",
       "                        <td id=\"T_29cfa169_aa7f_11ec_a4df_7085c2294e08row16_col6\" class=\"data row16 col6\" >0.2294</td>\n",
       "                        <td id=\"T_29cfa169_aa7f_11ec_a4df_7085c2294e08row16_col7\" class=\"data row16 col7\" >0.0080</td>\n",
       "            </tr>\n",
       "            <tr>\n",
       "                        <th id=\"T_29cfa169_aa7f_11ec_a4df_7085c2294e08level0_row17\" class=\"row_heading level0 row17\" >llar</th>\n",
       "                        <td id=\"T_29cfa169_aa7f_11ec_a4df_7085c2294e08row17_col0\" class=\"data row17 col0\" >Lasso Least Angle Regression</td>\n",
       "                        <td id=\"T_29cfa169_aa7f_11ec_a4df_7085c2294e08row17_col1\" class=\"data row17 col1\" >2.3484</td>\n",
       "                        <td id=\"T_29cfa169_aa7f_11ec_a4df_7085c2294e08row17_col2\" class=\"data row17 col2\" >9.9355</td>\n",
       "                        <td id=\"T_29cfa169_aa7f_11ec_a4df_7085c2294e08row17_col3\" class=\"data row17 col3\" >3.1441</td>\n",
       "                        <td id=\"T_29cfa169_aa7f_11ec_a4df_7085c2294e08row17_col4\" class=\"data row17 col4\" >-0.0064</td>\n",
       "                        <td id=\"T_29cfa169_aa7f_11ec_a4df_7085c2294e08row17_col5\" class=\"data row17 col5\" >0.2872</td>\n",
       "                        <td id=\"T_29cfa169_aa7f_11ec_a4df_7085c2294e08row17_col6\" class=\"data row17 col6\" >0.2690</td>\n",
       "                        <td id=\"T_29cfa169_aa7f_11ec_a4df_7085c2294e08row17_col7\" class=\"data row17 col7\" >0.0060</td>\n",
       "            </tr>\n",
       "            <tr>\n",
       "                        <th id=\"T_29cfa169_aa7f_11ec_a4df_7085c2294e08level0_row18\" class=\"row_heading level0 row18\" >lasso</th>\n",
       "                        <td id=\"T_29cfa169_aa7f_11ec_a4df_7085c2294e08row18_col0\" class=\"data row18 col0\" >Lasso Regression</td>\n",
       "                        <td id=\"T_29cfa169_aa7f_11ec_a4df_7085c2294e08row18_col1\" class=\"data row18 col1\" >2.3484</td>\n",
       "                        <td id=\"T_29cfa169_aa7f_11ec_a4df_7085c2294e08row18_col2\" class=\"data row18 col2\" >9.9355</td>\n",
       "                        <td id=\"T_29cfa169_aa7f_11ec_a4df_7085c2294e08row18_col3\" class=\"data row18 col3\" >3.1441</td>\n",
       "                        <td id=\"T_29cfa169_aa7f_11ec_a4df_7085c2294e08row18_col4\" class=\"data row18 col4\" >-0.0064</td>\n",
       "                        <td id=\"T_29cfa169_aa7f_11ec_a4df_7085c2294e08row18_col5\" class=\"data row18 col5\" >0.2872</td>\n",
       "                        <td id=\"T_29cfa169_aa7f_11ec_a4df_7085c2294e08row18_col6\" class=\"data row18 col6\" >0.2690</td>\n",
       "                        <td id=\"T_29cfa169_aa7f_11ec_a4df_7085c2294e08row18_col7\" class=\"data row18 col7\" >0.0060</td>\n",
       "            </tr>\n",
       "            <tr>\n",
       "                        <th id=\"T_29cfa169_aa7f_11ec_a4df_7085c2294e08level0_row19\" class=\"row_heading level0 row19\" >dummy</th>\n",
       "                        <td id=\"T_29cfa169_aa7f_11ec_a4df_7085c2294e08row19_col0\" class=\"data row19 col0\" >Dummy Regressor</td>\n",
       "                        <td id=\"T_29cfa169_aa7f_11ec_a4df_7085c2294e08row19_col1\" class=\"data row19 col1\" >2.3484</td>\n",
       "                        <td id=\"T_29cfa169_aa7f_11ec_a4df_7085c2294e08row19_col2\" class=\"data row19 col2\" >9.9355</td>\n",
       "                        <td id=\"T_29cfa169_aa7f_11ec_a4df_7085c2294e08row19_col3\" class=\"data row19 col3\" >3.1441</td>\n",
       "                        <td id=\"T_29cfa169_aa7f_11ec_a4df_7085c2294e08row19_col4\" class=\"data row19 col4\" >-0.0064</td>\n",
       "                        <td id=\"T_29cfa169_aa7f_11ec_a4df_7085c2294e08row19_col5\" class=\"data row19 col5\" >0.2872</td>\n",
       "                        <td id=\"T_29cfa169_aa7f_11ec_a4df_7085c2294e08row19_col6\" class=\"data row19 col6\" >0.2690</td>\n",
       "                        <td id=\"T_29cfa169_aa7f_11ec_a4df_7085c2294e08row19_col7\" class=\"data row19 col7\" >0.0060</td>\n",
       "            </tr>\n",
       "    </tbody></table>"
      ],
      "text/plain": [
       "<pandas.io.formats.style.Styler at 0x1d65c644070>"
      ]
     },
     "metadata": {},
     "output_type": "display_data"
    }
   ],
   "source": [
    "top10 = compare_models(sort='MAE',  n_select=10, fold=5)"
   ]
  },
  {
   "cell_type": "code",
   "execution_count": 23,
   "metadata": {},
   "outputs": [
    {
     "data": {
      "text/html": [
       "<style  type=\"text/css\" >\n",
       "#T_a1953b51_aa80_11ec_9787_7085c2294e08row5_col0,#T_a1953b51_aa80_11ec_9787_7085c2294e08row5_col1,#T_a1953b51_aa80_11ec_9787_7085c2294e08row5_col2,#T_a1953b51_aa80_11ec_9787_7085c2294e08row5_col3,#T_a1953b51_aa80_11ec_9787_7085c2294e08row5_col4,#T_a1953b51_aa80_11ec_9787_7085c2294e08row5_col5{\n",
       "            background:  yellow;\n",
       "        }</style><table id=\"T_a1953b51_aa80_11ec_9787_7085c2294e08\" ><thead>    <tr>        <th class=\"blank level0\" ></th>        <th class=\"col_heading level0 col0\" >MAE</th>        <th class=\"col_heading level0 col1\" >MSE</th>        <th class=\"col_heading level0 col2\" >RMSE</th>        <th class=\"col_heading level0 col3\" >R2</th>        <th class=\"col_heading level0 col4\" >RMSLE</th>        <th class=\"col_heading level0 col5\" >MAPE</th>    </tr></thead><tbody>\n",
       "                <tr>\n",
       "                        <th id=\"T_a1953b51_aa80_11ec_9787_7085c2294e08level0_row0\" class=\"row_heading level0 row0\" >0</th>\n",
       "                        <td id=\"T_a1953b51_aa80_11ec_9787_7085c2294e08row0_col0\" class=\"data row0 col0\" >1.6120</td>\n",
       "                        <td id=\"T_a1953b51_aa80_11ec_9787_7085c2294e08row0_col1\" class=\"data row0 col1\" >4.5546</td>\n",
       "                        <td id=\"T_a1953b51_aa80_11ec_9787_7085c2294e08row0_col2\" class=\"data row0 col2\" >2.1342</td>\n",
       "                        <td id=\"T_a1953b51_aa80_11ec_9787_7085c2294e08row0_col3\" class=\"data row0 col3\" >0.3997</td>\n",
       "                        <td id=\"T_a1953b51_aa80_11ec_9787_7085c2294e08row0_col4\" class=\"data row0 col4\" >0.1877</td>\n",
       "                        <td id=\"T_a1953b51_aa80_11ec_9787_7085c2294e08row0_col5\" class=\"data row0 col5\" >0.1688</td>\n",
       "            </tr>\n",
       "            <tr>\n",
       "                        <th id=\"T_a1953b51_aa80_11ec_9787_7085c2294e08level0_row1\" class=\"row_heading level0 row1\" >1</th>\n",
       "                        <td id=\"T_a1953b51_aa80_11ec_9787_7085c2294e08row1_col0\" class=\"data row1 col0\" >1.6584</td>\n",
       "                        <td id=\"T_a1953b51_aa80_11ec_9787_7085c2294e08row1_col1\" class=\"data row1 col1\" >5.7434</td>\n",
       "                        <td id=\"T_a1953b51_aa80_11ec_9787_7085c2294e08row1_col2\" class=\"data row1 col2\" >2.3965</td>\n",
       "                        <td id=\"T_a1953b51_aa80_11ec_9787_7085c2294e08row1_col3\" class=\"data row1 col3\" >0.4603</td>\n",
       "                        <td id=\"T_a1953b51_aa80_11ec_9787_7085c2294e08row1_col4\" class=\"data row1 col4\" >0.2015</td>\n",
       "                        <td id=\"T_a1953b51_aa80_11ec_9787_7085c2294e08row1_col5\" class=\"data row1 col5\" >0.1687</td>\n",
       "            </tr>\n",
       "            <tr>\n",
       "                        <th id=\"T_a1953b51_aa80_11ec_9787_7085c2294e08level0_row2\" class=\"row_heading level0 row2\" >2</th>\n",
       "                        <td id=\"T_a1953b51_aa80_11ec_9787_7085c2294e08row2_col0\" class=\"data row2 col0\" >1.7164</td>\n",
       "                        <td id=\"T_a1953b51_aa80_11ec_9787_7085c2294e08row2_col1\" class=\"data row2 col1\" >6.1575</td>\n",
       "                        <td id=\"T_a1953b51_aa80_11ec_9787_7085c2294e08row2_col2\" class=\"data row2 col2\" >2.4814</td>\n",
       "                        <td id=\"T_a1953b51_aa80_11ec_9787_7085c2294e08row2_col3\" class=\"data row2 col3\" >0.4142</td>\n",
       "                        <td id=\"T_a1953b51_aa80_11ec_9787_7085c2294e08row2_col4\" class=\"data row2 col4\" >0.1918</td>\n",
       "                        <td id=\"T_a1953b51_aa80_11ec_9787_7085c2294e08row2_col5\" class=\"data row2 col5\" >0.1583</td>\n",
       "            </tr>\n",
       "            <tr>\n",
       "                        <th id=\"T_a1953b51_aa80_11ec_9787_7085c2294e08level0_row3\" class=\"row_heading level0 row3\" >3</th>\n",
       "                        <td id=\"T_a1953b51_aa80_11ec_9787_7085c2294e08row3_col0\" class=\"data row3 col0\" >1.5401</td>\n",
       "                        <td id=\"T_a1953b51_aa80_11ec_9787_7085c2294e08row3_col1\" class=\"data row3 col1\" >4.5723</td>\n",
       "                        <td id=\"T_a1953b51_aa80_11ec_9787_7085c2294e08row3_col2\" class=\"data row3 col2\" >2.1383</td>\n",
       "                        <td id=\"T_a1953b51_aa80_11ec_9787_7085c2294e08row3_col3\" class=\"data row3 col3\" >0.4986</td>\n",
       "                        <td id=\"T_a1953b51_aa80_11ec_9787_7085c2294e08row3_col4\" class=\"data row3 col4\" >0.1815</td>\n",
       "                        <td id=\"T_a1953b51_aa80_11ec_9787_7085c2294e08row3_col5\" class=\"data row3 col5\" >0.1608</td>\n",
       "            </tr>\n",
       "            <tr>\n",
       "                        <th id=\"T_a1953b51_aa80_11ec_9787_7085c2294e08level0_row4\" class=\"row_heading level0 row4\" >4</th>\n",
       "                        <td id=\"T_a1953b51_aa80_11ec_9787_7085c2294e08row4_col0\" class=\"data row4 col0\" >1.6116</td>\n",
       "                        <td id=\"T_a1953b51_aa80_11ec_9787_7085c2294e08row4_col1\" class=\"data row4 col1\" >5.3975</td>\n",
       "                        <td id=\"T_a1953b51_aa80_11ec_9787_7085c2294e08row4_col2\" class=\"data row4 col2\" >2.3232</td>\n",
       "                        <td id=\"T_a1953b51_aa80_11ec_9787_7085c2294e08row4_col3\" class=\"data row4 col3\" >0.5309</td>\n",
       "                        <td id=\"T_a1953b51_aa80_11ec_9787_7085c2294e08row4_col4\" class=\"data row4 col4\" >0.1831</td>\n",
       "                        <td id=\"T_a1953b51_aa80_11ec_9787_7085c2294e08row4_col5\" class=\"data row4 col5\" >0.1579</td>\n",
       "            </tr>\n",
       "            <tr>\n",
       "                        <th id=\"T_a1953b51_aa80_11ec_9787_7085c2294e08level0_row5\" class=\"row_heading level0 row5\" >Mean</th>\n",
       "                        <td id=\"T_a1953b51_aa80_11ec_9787_7085c2294e08row5_col0\" class=\"data row5 col0\" >1.6277</td>\n",
       "                        <td id=\"T_a1953b51_aa80_11ec_9787_7085c2294e08row5_col1\" class=\"data row5 col1\" >5.2851</td>\n",
       "                        <td id=\"T_a1953b51_aa80_11ec_9787_7085c2294e08row5_col2\" class=\"data row5 col2\" >2.2947</td>\n",
       "                        <td id=\"T_a1953b51_aa80_11ec_9787_7085c2294e08row5_col3\" class=\"data row5 col3\" >0.4607</td>\n",
       "                        <td id=\"T_a1953b51_aa80_11ec_9787_7085c2294e08row5_col4\" class=\"data row5 col4\" >0.1891</td>\n",
       "                        <td id=\"T_a1953b51_aa80_11ec_9787_7085c2294e08row5_col5\" class=\"data row5 col5\" >0.1629</td>\n",
       "            </tr>\n",
       "            <tr>\n",
       "                        <th id=\"T_a1953b51_aa80_11ec_9787_7085c2294e08level0_row6\" class=\"row_heading level0 row6\" >SD</th>\n",
       "                        <td id=\"T_a1953b51_aa80_11ec_9787_7085c2294e08row6_col0\" class=\"data row6 col0\" >0.0583</td>\n",
       "                        <td id=\"T_a1953b51_aa80_11ec_9787_7085c2294e08row6_col1\" class=\"data row6 col1\" >0.6365</td>\n",
       "                        <td id=\"T_a1953b51_aa80_11ec_9787_7085c2294e08row6_col2\" class=\"data row6 col2\" >0.1388</td>\n",
       "                        <td id=\"T_a1953b51_aa80_11ec_9787_7085c2294e08row6_col3\" class=\"data row6 col3\" >0.0495</td>\n",
       "                        <td id=\"T_a1953b51_aa80_11ec_9787_7085c2294e08row6_col4\" class=\"data row6 col4\" >0.0072</td>\n",
       "                        <td id=\"T_a1953b51_aa80_11ec_9787_7085c2294e08row6_col5\" class=\"data row6 col5\" >0.0049</td>\n",
       "            </tr>\n",
       "    </tbody></table>"
      ],
      "text/plain": [
       "<pandas.io.formats.style.Styler at 0x1d6606a96a0>"
      ]
     },
     "metadata": {},
     "output_type": "display_data"
    }
   ],
   "source": [
    "tuned_top10 = [tune_model(i, fold=5) for i in top10"
   ]
  },
  {
   "cell_type": "code",
   "execution_count": 24,
   "metadata": {},
   "outputs": [
    {
     "data": {
      "text/html": [
       "<style  type=\"text/css\" >\n",
       "#T_b104fd50_aa80_11ec_8062_7085c2294e08row5_col0,#T_b104fd50_aa80_11ec_8062_7085c2294e08row5_col1,#T_b104fd50_aa80_11ec_8062_7085c2294e08row5_col2,#T_b104fd50_aa80_11ec_8062_7085c2294e08row5_col3,#T_b104fd50_aa80_11ec_8062_7085c2294e08row5_col4,#T_b104fd50_aa80_11ec_8062_7085c2294e08row5_col5{\n",
       "            background:  yellow;\n",
       "        }</style><table id=\"T_b104fd50_aa80_11ec_8062_7085c2294e08\" ><thead>    <tr>        <th class=\"blank level0\" ></th>        <th class=\"col_heading level0 col0\" >MAE</th>        <th class=\"col_heading level0 col1\" >MSE</th>        <th class=\"col_heading level0 col2\" >RMSE</th>        <th class=\"col_heading level0 col3\" >R2</th>        <th class=\"col_heading level0 col4\" >RMSLE</th>        <th class=\"col_heading level0 col5\" >MAPE</th>    </tr></thead><tbody>\n",
       "                <tr>\n",
       "                        <th id=\"T_b104fd50_aa80_11ec_8062_7085c2294e08level0_row0\" class=\"row_heading level0 row0\" >0</th>\n",
       "                        <td id=\"T_b104fd50_aa80_11ec_8062_7085c2294e08row0_col0\" class=\"data row0 col0\" >1.5314</td>\n",
       "                        <td id=\"T_b104fd50_aa80_11ec_8062_7085c2294e08row0_col1\" class=\"data row0 col1\" >4.2887</td>\n",
       "                        <td id=\"T_b104fd50_aa80_11ec_8062_7085c2294e08row0_col2\" class=\"data row0 col2\" >2.0709</td>\n",
       "                        <td id=\"T_b104fd50_aa80_11ec_8062_7085c2294e08row0_col3\" class=\"data row0 col3\" >0.4347</td>\n",
       "                        <td id=\"T_b104fd50_aa80_11ec_8062_7085c2294e08row0_col4\" class=\"data row0 col4\" >0.1811</td>\n",
       "                        <td id=\"T_b104fd50_aa80_11ec_8062_7085c2294e08row0_col5\" class=\"data row0 col5\" >0.1621</td>\n",
       "            </tr>\n",
       "            <tr>\n",
       "                        <th id=\"T_b104fd50_aa80_11ec_8062_7085c2294e08level0_row1\" class=\"row_heading level0 row1\" >1</th>\n",
       "                        <td id=\"T_b104fd50_aa80_11ec_8062_7085c2294e08row1_col0\" class=\"data row1 col0\" >1.7023</td>\n",
       "                        <td id=\"T_b104fd50_aa80_11ec_8062_7085c2294e08row1_col1\" class=\"data row1 col1\" >5.6296</td>\n",
       "                        <td id=\"T_b104fd50_aa80_11ec_8062_7085c2294e08row1_col2\" class=\"data row1 col2\" >2.3727</td>\n",
       "                        <td id=\"T_b104fd50_aa80_11ec_8062_7085c2294e08row1_col3\" class=\"data row1 col3\" >0.4710</td>\n",
       "                        <td id=\"T_b104fd50_aa80_11ec_8062_7085c2294e08row1_col4\" class=\"data row1 col4\" >0.2023</td>\n",
       "                        <td id=\"T_b104fd50_aa80_11ec_8062_7085c2294e08row1_col5\" class=\"data row1 col5\" >0.1756</td>\n",
       "            </tr>\n",
       "            <tr>\n",
       "                        <th id=\"T_b104fd50_aa80_11ec_8062_7085c2294e08level0_row2\" class=\"row_heading level0 row2\" >2</th>\n",
       "                        <td id=\"T_b104fd50_aa80_11ec_8062_7085c2294e08row2_col0\" class=\"data row2 col0\" >1.5946</td>\n",
       "                        <td id=\"T_b104fd50_aa80_11ec_8062_7085c2294e08row2_col1\" class=\"data row2 col1\" >5.2534</td>\n",
       "                        <td id=\"T_b104fd50_aa80_11ec_8062_7085c2294e08row2_col2\" class=\"data row2 col2\" >2.2920</td>\n",
       "                        <td id=\"T_b104fd50_aa80_11ec_8062_7085c2294e08row2_col3\" class=\"data row2 col3\" >0.5002</td>\n",
       "                        <td id=\"T_b104fd50_aa80_11ec_8062_7085c2294e08row2_col4\" class=\"data row2 col4\" >0.1764</td>\n",
       "                        <td id=\"T_b104fd50_aa80_11ec_8062_7085c2294e08row2_col5\" class=\"data row2 col5\" >0.1491</td>\n",
       "            </tr>\n",
       "            <tr>\n",
       "                        <th id=\"T_b104fd50_aa80_11ec_8062_7085c2294e08level0_row3\" class=\"row_heading level0 row3\" >3</th>\n",
       "                        <td id=\"T_b104fd50_aa80_11ec_8062_7085c2294e08row3_col0\" class=\"data row3 col0\" >1.5444</td>\n",
       "                        <td id=\"T_b104fd50_aa80_11ec_8062_7085c2294e08row3_col1\" class=\"data row3 col1\" >4.4803</td>\n",
       "                        <td id=\"T_b104fd50_aa80_11ec_8062_7085c2294e08row3_col2\" class=\"data row3 col2\" >2.1167</td>\n",
       "                        <td id=\"T_b104fd50_aa80_11ec_8062_7085c2294e08row3_col3\" class=\"data row3 col3\" >0.5087</td>\n",
       "                        <td id=\"T_b104fd50_aa80_11ec_8062_7085c2294e08row3_col4\" class=\"data row3 col4\" >0.1793</td>\n",
       "                        <td id=\"T_b104fd50_aa80_11ec_8062_7085c2294e08row3_col5\" class=\"data row3 col5\" >0.1614</td>\n",
       "            </tr>\n",
       "            <tr>\n",
       "                        <th id=\"T_b104fd50_aa80_11ec_8062_7085c2294e08level0_row4\" class=\"row_heading level0 row4\" >4</th>\n",
       "                        <td id=\"T_b104fd50_aa80_11ec_8062_7085c2294e08row4_col0\" class=\"data row4 col0\" >1.5205</td>\n",
       "                        <td id=\"T_b104fd50_aa80_11ec_8062_7085c2294e08row4_col1\" class=\"data row4 col1\" >5.1501</td>\n",
       "                        <td id=\"T_b104fd50_aa80_11ec_8062_7085c2294e08row4_col2\" class=\"data row4 col2\" >2.2694</td>\n",
       "                        <td id=\"T_b104fd50_aa80_11ec_8062_7085c2294e08row4_col3\" class=\"data row4 col3\" >0.5524</td>\n",
       "                        <td id=\"T_b104fd50_aa80_11ec_8062_7085c2294e08row4_col4\" class=\"data row4 col4\" >0.1757</td>\n",
       "                        <td id=\"T_b104fd50_aa80_11ec_8062_7085c2294e08row4_col5\" class=\"data row4 col5\" >0.1479</td>\n",
       "            </tr>\n",
       "            <tr>\n",
       "                        <th id=\"T_b104fd50_aa80_11ec_8062_7085c2294e08level0_row5\" class=\"row_heading level0 row5\" >Mean</th>\n",
       "                        <td id=\"T_b104fd50_aa80_11ec_8062_7085c2294e08row5_col0\" class=\"data row5 col0\" >1.5786</td>\n",
       "                        <td id=\"T_b104fd50_aa80_11ec_8062_7085c2294e08row5_col1\" class=\"data row5 col1\" >4.9604</td>\n",
       "                        <td id=\"T_b104fd50_aa80_11ec_8062_7085c2294e08row5_col2\" class=\"data row5 col2\" >2.2243</td>\n",
       "                        <td id=\"T_b104fd50_aa80_11ec_8062_7085c2294e08row5_col3\" class=\"data row5 col3\" >0.4934</td>\n",
       "                        <td id=\"T_b104fd50_aa80_11ec_8062_7085c2294e08row5_col4\" class=\"data row5 col4\" >0.1830</td>\n",
       "                        <td id=\"T_b104fd50_aa80_11ec_8062_7085c2294e08row5_col5\" class=\"data row5 col5\" >0.1592</td>\n",
       "            </tr>\n",
       "            <tr>\n",
       "                        <th id=\"T_b104fd50_aa80_11ec_8062_7085c2294e08level0_row6\" class=\"row_heading level0 row6\" >SD</th>\n",
       "                        <td id=\"T_b104fd50_aa80_11ec_8062_7085c2294e08row6_col0\" class=\"data row6 col0\" >0.0668</td>\n",
       "                        <td id=\"T_b104fd50_aa80_11ec_8062_7085c2294e08row6_col1\" class=\"data row6 col1\" >0.5002</td>\n",
       "                        <td id=\"T_b104fd50_aa80_11ec_8062_7085c2294e08row6_col2\" class=\"data row6 col2\" >0.1129</td>\n",
       "                        <td id=\"T_b104fd50_aa80_11ec_8062_7085c2294e08row6_col3\" class=\"data row6 col3\" >0.0393</td>\n",
       "                        <td id=\"T_b104fd50_aa80_11ec_8062_7085c2294e08row6_col4\" class=\"data row6 col4\" >0.0099</td>\n",
       "                        <td id=\"T_b104fd50_aa80_11ec_8062_7085c2294e08row6_col5\" class=\"data row6 col5\" >0.0101</td>\n",
       "            </tr>\n",
       "    </tbody></table>"
      ],
      "text/plain": [
       "<pandas.io.formats.style.Styler at 0x1d65f2c9280>"
      ]
     },
     "metadata": {},
     "output_type": "display_data"
    }
   ],
   "source": [
    "blender_top10 = blend_models(estimator_list=tuned_top10)"
   ]
  },
  {
   "cell_type": "code",
   "execution_count": 25,
   "metadata": {},
   "outputs": [],
   "source": [
    "final_model = finalize_model(blender_top10)"
   ]
  },
  {
   "cell_type": "code",
   "execution_count": 26,
   "metadata": {},
   "outputs": [],
   "source": [
    "prediction = predict_model(final_model, data=test)"
   ]
  },
  {
   "cell_type": "code",
   "execution_count": 27,
   "metadata": {},
   "outputs": [
    {
     "data": {
      "text/plain": [
       "0       10.368103\n",
       "1       12.643237\n",
       "2        6.913024\n",
       "3       11.005625\n",
       "4       10.088853\n",
       "          ...    \n",
       "2919     5.623465\n",
       "2920     8.960253\n",
       "2921    10.150870\n",
       "2922     9.870779\n",
       "2923    11.519187\n",
       "Name: Label, Length: 2924, dtype: float64"
      ]
     },
     "execution_count": 27,
     "metadata": {},
     "output_type": "execute_result"
    }
   ],
   "source": [
    "prediction['Label']"
   ]
  },
  {
   "cell_type": "code",
   "execution_count": null,
   "metadata": {},
   "outputs": [],
   "source": []
  },
  {
   "cell_type": "code",
   "execution_count": null,
   "metadata": {},
   "outputs": [],
   "source": []
  },
  {
   "cell_type": "code",
   "execution_count": 30,
   "metadata": {},
   "outputs": [],
   "source": [
    "from sklearn.linear_model import LogisticRegression"
   ]
  },
  {
   "cell_type": "code",
   "execution_count": 31,
   "metadata": {},
   "outputs": [],
   "source": [
    "# LogisticRegression 모델 변수 생성\n",
    "model = LogisticRegression()"
   ]
  },
  {
   "cell_type": "code",
   "execution_count": 33,
   "metadata": {},
   "outputs": [
    {
     "data": {
      "text/plain": [
       "LogisticRegression(C=1.0, class_weight=None, dual=False, fit_intercept=True,\n",
       "                   intercept_scaling=1, l1_ratio=None, max_iter=100,\n",
       "                   multi_class='auto', n_jobs=None, penalty='l2',\n",
       "                   random_state=None, solver='lbfgs', tol=0.0001, verbose=0,\n",
       "                   warm_start=False)"
      ]
     },
     "execution_count": 33,
     "metadata": {},
     "output_type": "execute_result"
    }
   ],
   "source": [
    "# 모델 학습\n",
    "model.fit(train_x, train_y)"
   ]
  },
  {
   "cell_type": "code",
   "execution_count": 34,
   "metadata": {
    "scrolled": true
   },
   "outputs": [
    {
     "data": {
      "text/plain": [
       "array([[-0.1047935 , -1.21030353, -0.93400691, -0.32034673, -1.83416112,\n",
       "        -0.7825425 , -0.39799117, -0.55470562],\n",
       "       [-0.31164732, -1.99824534, -1.58650393, -0.52612704, -3.06091554,\n",
       "        -1.32498067, -0.6757225 , -0.92354412],\n",
       "       [ 0.48310211, -2.32191084, -1.99165399, -0.70205743, -4.17607294,\n",
       "        -1.32307772, -0.89604533, -1.34214122],\n",
       "       [ 0.11727789, -0.70509432, -0.89887165, -0.42066059, -3.04281684,\n",
       "        -0.6766196 , -0.79242552, -1.72388334],\n",
       "       [ 0.05088941,  0.23828367, -0.10663253, -0.24998406, -2.41680905,\n",
       "         0.65829429, -0.57131332, -1.64556409],\n",
       "       [-0.19127896,  1.26370555,  0.67451149, -0.27007863, -1.34644597,\n",
       "         1.56415485, -0.57989816, -1.53095244],\n",
       "       [-0.0361856 ,  1.70364884,  1.32920278,  0.00538017, -0.7407885 ,\n",
       "         1.64660877,  0.45001265, -1.3495687 ],\n",
       "       [ 0.07588818,  0.87384046,  0.54661995, -0.01721491,  0.19261997,\n",
       "         2.30866782,  0.78390013, -0.97809005],\n",
       "       [-0.03420829,  0.51129945,  0.67191814, -0.00960374,  1.11227667,\n",
       "         1.06341459,  0.50755855, -0.34558964],\n",
       "       [ 0.06449327, -0.05059029, -0.0074813 ,  0.42328012,  1.34092003,\n",
       "         0.66952639,  0.19091303, -0.03964219],\n",
       "       [-0.11581517,  0.28948619,  0.25300157,  0.32763916,  1.15212839,\n",
       "        -0.99815524,  0.43372426,  1.19585683],\n",
       "       [-0.08441099,  0.24210774,  0.31942397,  0.33121576,  1.12023201,\n",
       "        -1.02587319,  0.61480144,  1.21111555],\n",
       "       [-0.66878538,  0.31956963,  0.48757967,  0.25612434,  1.59969452,\n",
       "        -0.5758676 ,  0.09173667,  1.17036636],\n",
       "       [-0.05628914,  0.07969447,  0.2017995 ,  0.22963187,  1.38316582,\n",
       "        -0.87413696,  0.16548768,  1.608663  ],\n",
       "       [ 0.1114136 ,  0.09642218,  0.1277112 ,  0.27866937,  1.02940563,\n",
       "        -0.47886698,  0.0847828 ,  0.88369921],\n",
       "       [ 0.20876527,  0.18279892,  0.18546247,  0.16746498,  1.40092318,\n",
       "        -0.09696584, -0.11054965,  1.31586565],\n",
       "       [-0.5287048 ,  0.22794148,  0.196015  ,  0.15008102,  1.31023751,\n",
       "         0.28488989,  0.20213343,  0.35159444],\n",
       "       [ 0.11790968,  0.31375348,  0.41785839,  0.15796677,  1.76466717,\n",
       "        -0.20367278,  0.18056997,  1.16474984],\n",
       "       [-0.17111245,  0.26740331,  0.24935478,  0.1378598 ,  1.43642642,\n",
       "         0.07751887,  0.20587122,  0.91700837],\n",
       "       [-0.116438  , -0.05294711,  0.01186612,  0.06806603,  1.2427919 ,\n",
       "         0.15424126,  0.08458386,  0.45311263],\n",
       "       [ 0.97517358, -0.19875978, -0.13234633,  0.00500244, -0.07216116,\n",
       "        -0.25414889, -0.02702736,  0.04169723],\n",
       "       [ 0.21475661, -0.07210415, -0.01482841, -0.0223087 ,  0.60468191,\n",
       "         0.18759126,  0.0548973 ,  0.1199523 ]])"
      ]
     },
     "execution_count": 34,
     "metadata": {},
     "output_type": "execute_result"
    }
   ],
   "source": [
    "# Coefficient 확인\n",
    "model.coef_"
   ]
  },
  {
   "cell_type": "code",
   "execution_count": 48,
   "metadata": {},
   "outputs": [],
   "source": [
    "test_x = test.drop(['id'],axis=1)"
   ]
  },
  {
   "cell_type": "code",
   "execution_count": 49,
   "metadata": {},
   "outputs": [],
   "source": [
    "# predict : 예측\n",
    "pred = model.predict(test_x)"
   ]
  },
  {
   "cell_type": "code",
   "execution_count": 50,
   "metadata": {},
   "outputs": [
    {
     "data": {
      "text/plain": [
       "array([10,  9,  6, ...,  9,  9,  9], dtype=int64)"
      ]
     },
     "execution_count": 50,
     "metadata": {},
     "output_type": "execute_result"
    }
   ],
   "source": [
    "pred"
   ]
  },
  {
   "cell_type": "code",
   "execution_count": null,
   "metadata": {},
   "outputs": [],
   "source": []
  },
  {
   "cell_type": "code",
   "execution_count": null,
   "metadata": {},
   "outputs": [],
   "source": []
  },
  {
   "cell_type": "code",
   "execution_count": 127,
   "metadata": {},
   "outputs": [
    {
     "name": "stdout",
     "output_type": "stream",
     "text": [
      "Collecting pytorch-ignite\n",
      "  Downloading pytorch_ignite-0.4.8-py3-none-any.whl (251 kB)\n",
      "     -------------------------------------- 251.9/251.9 KB 5.3 MB/s eta 0:00:00\n",
      "Requirement already satisfied: torch<2,>=1.3 in c:\\users\\seo\\anaconda3\\lib\\site-packages (from pytorch-ignite) (1.10.0)\n",
      "Requirement already satisfied: typing-extensions in c:\\users\\seo\\anaconda3\\lib\\site-packages (from torch<2,>=1.3->pytorch-ignite) (3.7.4.3)\n",
      "Installing collected packages: pytorch-ignite\n",
      "Successfully installed pytorch-ignite-0.4.8\n"
     ]
    }
   ],
   "source": [
    "!pip install pytorch-ignite"
   ]
  },
  {
   "cell_type": "code",
   "execution_count": 128,
   "metadata": {},
   "outputs": [],
   "source": [
    "import torch\n",
    "import torch.nn as nn\n",
    "\n",
    "import numpy as np\n",
    "\n",
    "import pandas as pd"
   ]
  },
  {
   "cell_type": "code",
   "execution_count": 129,
   "metadata": {},
   "outputs": [],
   "source": [
    "class Attention(nn.Module):\n",
    "\n",
    "    def __init__(self):\n",
    "        super().__init__()\n",
    "        self.soft = nn.Softmax(dim = -1)\n",
    "        pass\n",
    "\n",
    "    def forward(self, q, k ,v):\n",
    "        # |q| = (batch_size * num_of_ head, 1, hidden_size // num_of_head)\n",
    "        # |k| = |v| = |q|\n",
    "\n",
    "        w = torch.bmm(q, k.transpose(1, 2))\n",
    "        # |w| = (batch_size, 1, 1)\n",
    "        w = self.soft(w.div(q.size(-1) ** .5))\n",
    "        c = torch.bmm(w, v)\n",
    "        # |c| = (batch_size * num_of_ head, 1, hidden_size // num_of_head)\n",
    "        return c\n",
    "\n",
    "class MultiheadAttention(nn.Module):\n",
    "\n",
    "    def __init__(self, hidden_size, number_of_head):\n",
    "        self.hidden_size = hidden_size\n",
    "        self.number_of_head = number_of_head\n",
    "\n",
    "        super().__init__()\n",
    "\n",
    "        self.attention = Attention()\n",
    "        self.Q_linear = nn.Linear(hidden_size, hidden_size, bias =False)\n",
    "        self.K_linear = nn.Linear(hidden_size, hidden_size, bias =False)\n",
    "        self.V_linear = nn.Linear(hidden_size, hidden_size, bias =False)\n",
    "\n",
    "        self.O_linear = nn.Linear(hidden_size, hidden_size, bias =False)\n",
    "        pass\n",
    "\n",
    "    def forward(self, q, k ,v):\n",
    "        # |q| = (batch_size, 1, 128)\n",
    "        # |k| = (batch_size, 1, 128)\n",
    "        # |v| = (batch_size, 1, 128)\n",
    "        \n",
    "        q_ = self.Q_linear(q)\n",
    "        # |q_| = (batch_size, 1, 128)\n",
    "        q_ = q_.split(self.hidden_size // self.number_of_head, dim = -1)\n",
    "        q_ = torch.cat(q_, dim = 0)\n",
    "        # |q_| = (batch_size * number_of_head, 1, hidden_size // number_of_head)\n",
    "\n",
    "        k_ = self.K_linear(k)\n",
    "        # |k_| = (batch_size, 1, 128)\n",
    "        k_ = k_.split(self.hidden_size // self.number_of_head, dim = -1)\n",
    "        k_ = torch.cat(k_, dim = 0)\n",
    "        # |k_| = (batch_size * number_of_head, 1, hidden_size // number_of_head)\n",
    "\n",
    "        v_ = self.V_linear(v)\n",
    "        # |v_| = (batch_size, 1, 128)\n",
    "        v_ = v_.split(self.hidden_size // self.number_of_head, dim = -1)\n",
    "        v_ = torch.cat(v_, dim = 0)\n",
    "        # |v_| = (batch_size * number_of_head, 1, hidden_size // number_of_head)\n",
    "\n",
    "        context_vector = self.attention(q_, k_, v_)\n",
    "        # |context_vector| = (batch_size * number_of_head, 1, hidden_size // number_of_head)\n",
    "        context_vector = torch.cat(context_vector.split(q.size(0), dim = 0), dim = -1)\n",
    "        # |context_vector| = (batch_size , 1, 128)\n",
    "\n",
    "        return self.O_linear(context_vector).squeeze(1)\n",
    "\n",
    "class EncoderBlock(nn.Module):\n",
    "\n",
    "    def __init__(self, hidden_size, number_of_head):\n",
    "        super().__init__()\n",
    "        # hidden_size = 256\n",
    "        # number_of_head = 4\n",
    "        self.multi_head_attention = MultiheadAttention(hidden_size, \n",
    "                                                       number_of_head)\n",
    "        \n",
    "        self.multi_head_attention_norm = nn.BatchNorm1d(hidden_size)\n",
    "        self.multi_head_attention_dropout = nn.Dropout(p = 0.1)\n",
    "\n",
    "        self.fc_layer = nn.Sequential(\n",
    "            nn.Linear(hidden_size, hidden_size * 3),\n",
    "            nn.LeakyReLU(),\n",
    "            nn.Linear(hidden_size * 3, hidden_size),\n",
    "            nn.Dropout(p = 0.1)\n",
    "        )\n",
    "        self.fc_norm = nn.BatchNorm1d(hidden_size)\n",
    "\n",
    "    def forward(self, x):\n",
    "        # |x| = (batch_size, hidden_size)\n",
    "        x_norm = self.multi_head_attention_norm(x)\n",
    "        # |x_norm| = (batch_size, hidden_size)\n",
    "        # print(\"x_norm : \", x_norm.shape)\n",
    "        x_norm = x_norm.unsqueeze(1)\n",
    "        # |x_norm| = (batch_size, 1, hidden_size)\n",
    "        context_ = x + self.multi_head_attention_dropout(self.multi_head_attention(x_norm, x_norm, x_norm))\n",
    "        # print(\"context_ : \",context_.shape)\n",
    "        # |context_| = (batch_size, hidden_size)\n",
    "\n",
    "        context_ = self.fc_norm(context_)\n",
    "        # |context_| = (batch_size, hidden_size)\n",
    "        context = context_ + self.fc_layer(context_)\n",
    "        # |context| = (batch_size, hidden_size)\n",
    "\n",
    "        return context\n",
    "\n",
    "# |x| = (batch_size, 8)\n",
    "# |mapping_x| = (batch_size, 128)\n",
    "class SampleToMapping(nn.Module):\n",
    "    def __init__(self, input_size, hidden_size):\n",
    "        super().__init__()\n",
    "        self.mapping_layer = nn.Sequential(\n",
    "            nn.Linear(input_size, hidden_size),\n",
    "            nn.LeakyReLU(),\n",
    "        )\n",
    "        self.mapping_norm = nn.BatchNorm1d(input_size)\n",
    "    def forward(self, x):\n",
    "        # |x| = (batch_size, 8)\n",
    "        x = self.mapping_norm(x)\n",
    "        mapped_x = self.mapping_layer(x)\n",
    "        # |mapeed_x| = (batch_size, 128)\n",
    "\n",
    "        return mapped_x\n",
    "\n",
    "\n",
    "class HaliotisModel(nn.Module):\n",
    "\n",
    "    def __init__(self, \n",
    "                 input_size, \n",
    "                 hidden_size, \n",
    "                 number_of_head,\n",
    "                 enc_num):\n",
    "        super().__init__()\n",
    "        self.mapping_layer = SampleToMapping(input_size, hidden_size)\n",
    "        \n",
    "        self.encoder = nn.Sequential(\n",
    "            *[EncoderBlock(hidden_size, number_of_head) for _ in range(enc_num)]\n",
    "        )\n",
    "\n",
    "        self.fc_layer = nn.Sequential(\n",
    "            nn.BatchNorm1d(hidden_size),\n",
    "            nn.Linear(hidden_size, 32),\n",
    "            nn.LeakyReLU(),\n",
    "            nn.BatchNorm1d(32),\n",
    "            nn.Linear(32, 1),\n",
    "        )\n",
    "\n",
    "    def forward(self, x):\n",
    "        # |x| = (batch_size, 8)\n",
    "        mapped_x = self.mapping_layer(x)\n",
    "        # print(\"mapped_x : \", mapped_x.shape)\n",
    "        # |mapped_x| = (batch_size, 128)\n",
    "        context_x = self.encoder(mapped_x)\n",
    "        # print(\"context_x : \", context_x.shape)\n",
    "        # |context_x| = (batch_size, 128)\n",
    "\n",
    "        y_hat = self.fc_layer(context_x)\n",
    "        # print(\"y_hat : \", y_hat.shape)\n",
    "        # |y_hat| = (batch_size, 1)\n",
    "        return y_hat.contiguous().view(-1)"
   ]
  },
  {
   "cell_type": "code",
   "execution_count": 130,
   "metadata": {},
   "outputs": [],
   "source": [
    "from ignite.engine import Engine, Events\n",
    "from ignite.metrics import RunningAverage\n",
    "from ignite.contrib.handlers.tqdm_logger import ProgressBar\n",
    "from ignite.handlers import EarlyStopping\n",
    "\n",
    "import copy \n",
    "\n",
    "class HaliotisEngine(Engine):\n",
    "    \n",
    "    def __init__(self, process_function, model, crit, optimizer, config):\n",
    "\n",
    "        super().__init__(process_function)\n",
    "\n",
    "        self.model = model\n",
    "        self.crit = crit\n",
    "        self.optimizer = optimizer\n",
    "        self.best_loss = np.inf\n",
    "        self.best_model = None\n",
    "        self.device = next(model.parameters()).device\n",
    "        self.config = config\n",
    "\n",
    "    @staticmethod\n",
    "    def train(self, batch):\n",
    "        self.model.train()\n",
    "        x, y = batch\n",
    "        x = x.to(self.device)\n",
    "        # |x| = (batch_size, 8)\n",
    "        y = y.to(self.device)\n",
    "        # |x| = (batch_size,)\n",
    "\n",
    "        self.optimizer.zero_grad()\n",
    "\n",
    "        y_hat = self.model(x)\n",
    "\n",
    "        loss = self.crit(y_hat, y)\n",
    "        # print('y_hat : ',y_hat.shape)\n",
    "        # print('y : ',y.shape)\n",
    "        # print('torch.sum(torch.abs(y_hat.float() - y.float())) : ', torch.sum(torch.abs(y_hat.float() - y.float())).shape)\n",
    "        # loss = (torch.sum(torch.abs(y_hat.float() - y.float())) /\n",
    "        #                   torch.LongTensor([len(batch)]).squeeze(0).to(self.device))\n",
    "\n",
    "        loss.backward()\n",
    "        self.optimizer.step()\n",
    "\n",
    "        return {\n",
    "            'loss' : float(loss),\n",
    "        }\n",
    "\n",
    "    @staticmethod\n",
    "    def validation(self, batch):\n",
    "        self.model.eval()\n",
    "        x, y = batch\n",
    "        x = x.to(self.device)\n",
    "        y = y.to(self.device)\n",
    "\n",
    "        with torch.no_grad():\n",
    "            y_hat = self.model(x)\n",
    "            loss = self.crit(y_hat, y)\n",
    "        \n",
    "        return {\n",
    "            'loss' : float(loss),\n",
    "        }\n",
    "\n",
    "def run_validation(engine, validation_engine, validation_loader):\n",
    "    validation_engine.run(validation_loader, max_epochs = 1)\n",
    "\n",
    "def Trainer(model, crit, optimizer, train_loader, valid_loader, config):\n",
    "    train_engine = HaliotisEngine(HaliotisEngine.train, model, crit, optimizer, config)\n",
    "    validation_engine = HaliotisEngine(HaliotisEngine.validation, model, crit, optimizer, config)\n",
    "\n",
    "    RunningAverage(output_transform = lambda x: x['loss']).attach(train_engine, 'loss')\n",
    "    RunningAverage(output_transform = lambda x: x['loss']).attach(validation_engine, 'loss')\n",
    "    \n",
    "    train_pbar = ProgressBar()\n",
    "    train_pbar.attach(train_engine, ['loss'])\n",
    "    validation_pbar = ProgressBar()\n",
    "    validation_pbar.attach(validation_engine, ['loss'])\n",
    "\n",
    "    @train_engine.on(Events.EPOCH_COMPLETED)\n",
    "    def log_training_results(trainer):\n",
    "        print(f\"Training Results - Epoch[{trainer.state.epoch}/{trainer.state.max_epochs}] Loss : {trainer.state.metrics['loss']}\")\n",
    "\n",
    "    train_engine.add_event_handler(Events.EPOCH_COMPLETED, run_validation, validation_engine, valid_loader)\n",
    "\n",
    "    @validation_engine.on(Events.EPOCH_COMPLETED)\n",
    "    def check(engine):\n",
    "        loss = float(engine.state.metrics['loss'])\n",
    "        if loss <= engine.best_loss:\n",
    "            engine.best_loss = loss\n",
    "            engine.best_model = copy.deepcopy(engine.model.state_dict())\n",
    "\n",
    "    def score_function(engine):\n",
    "        val_loss = engine.state.metrics['loss']\n",
    "        return -val_loss\n",
    "\n",
    "    handler = EarlyStopping(patience=config.patience, score_function=score_function, trainer=train_engine)\n",
    "    validation_engine.add_event_handler(Events.COMPLETED, handler)\n",
    "\n",
    "    train_engine.run(train_loader, max_epochs = config.max_epochs)\n",
    "\n",
    "    print(\"Best Loss : \", validation_engine.best_loss)\n",
    "    return train_engine, validation_engine\n",
    "\n",
    "def Trainer_vall(model, crit, optimizer, train_loader, valid_loader, config):\n",
    "    train_engine = HaliotisEngine(HaliotisEngine.train, model, crit, optimizer, config)\n",
    "    validation_engine = HaliotisEngine(HaliotisEngine.validation, model, crit, optimizer, config)\n",
    "\n",
    "    RunningAverage(output_transform = lambda x: x['loss']).attach(train_engine, 'loss')\n",
    "    \n",
    "    train_pbar = ProgressBar()\n",
    "    train_pbar.attach(train_engine, ['loss'])\n",
    "\n",
    "    @train_engine.on(Events.EPOCH_COMPLETED)\n",
    "    def log_training_results(trainer):\n",
    "        print(f\"Training Results - Epoch[{trainer.state.epoch}/{trainer.state.max_epochs}] Loss : {trainer.state.metrics['loss']}\")\n",
    "\n",
    "    @train_engine.on(Events.EPOCH_COMPLETED)\n",
    "    def check(engine):\n",
    "        loss = float(engine.state.metrics['loss'])\n",
    "        if loss <= engine.best_loss:\n",
    "            engine.best_loss = loss\n",
    "            engine.best_model = copy.deepcopy(engine.model.state_dict())\n",
    "\n",
    "    def score_function(engine):\n",
    "        val_loss = engine.state.metrics['loss']\n",
    "        return -val_loss\n",
    "\n",
    "    handler = EarlyStopping(patience=config.patience, score_function=score_function, trainer=train_engine)\n",
    "    train_engine.add_event_handler(Events.EPOCH_COMPLETED, handler)\n",
    "\n",
    "    train_engine.run(train_loader, max_epochs = config.max_epochs)\n",
    "\n",
    "    print(\"Best Loss : \", train_engine.best_loss)\n",
    "    return train_engine    "
   ]
  },
  {
   "cell_type": "code",
   "execution_count": 132,
   "metadata": {},
   "outputs": [],
   "source": [
    "from torch.utils.data import Dataset, DataLoader\n",
    "\n",
    "class HaliotisDataset(Dataset):\n",
    "\n",
    "    def __init__(self, x, y):\n",
    "        self.x = torch.FloatTensor(x)\n",
    "        self.y = torch.FloatTensor(y)\n",
    "\n",
    "    def __len__(self):\n",
    "        return self.x.size(0)\n",
    "\n",
    "    def __getitem__(self, idx):\n",
    "        return self.x[idx], self.y[idx]\n",
    "\n",
    "def main(config):\n",
    "    train = pd.read_csv(\"data/train.csv\")\n",
    "    test = pd.read_csv(\"data/test.csv\")\n",
    "\n",
    "    gender2number = {}\n",
    "\n",
    "    for idx, value in enumerate(train['Gender'].unique()):\n",
    "        gender2number[value] = (idx+1) / 10\n",
    "\n",
    "    for idx, value in enumerate(train['Gender'].unique()):\n",
    "        train['Gender'].replace(value, gender2number[value], inplace = True)\n",
    "        test['Gender'].replace(value, gender2number[value], inplace = True)\n",
    "\n",
    "    model = HaliotisModel(input_size = config.input_size,\n",
    "                          hidden_size = config.hidden_size,\n",
    "                          number_of_head = config.number_of_head,\n",
    "                          enc_num = config.enc_num)\n",
    "    model.to('cuda' if torch.cuda.is_available() else 'cpu')\n",
    "    \n",
    "    crit = nn.MSELoss()\n",
    "    optimizer = torch.optim.Adam(model.parameters())\n",
    "\n",
    "    haliotis_dataset = HaliotisDataset(train.iloc[:, 1:-1].values, train.iloc[:, -1].values)\n",
    "\n",
    "    train_size = int(len(haliotis_dataset) * config.train_size)\n",
    "    valid_size = len(haliotis_dataset) - train_size\n",
    "\n",
    "    train_dataset, valid_dataset = torch.utils.data.random_split(haliotis_dataset, [train_size, valid_size])\n",
    "\n",
    "    train_loader = DataLoader(train_dataset, batch_size = 100, shuffle = True)\n",
    "    valid_loader = DataLoader(valid_dataset, batch_size = 10, shuffle = True)\n",
    "\n",
    "    train_engine, validation_engine = Trainer(model, crit, optimizer, train_loader, valid_loader, config)\n",
    "    # train_engine = Trainer_vall(model, crit, optimizer, DataLoader(haliotis_dataset, batch_size = 128, shuffle = True), None, config)\n",
    "\n",
    "\n",
    "    # model.load_state_dict(train_engine.best_model)\n",
    "    model.load_state_dict(validation_engine.best_model)\n",
    "\n",
    "    with torch.no_grad():\n",
    "        y_hat = model(torch.FloatTensor(test.iloc[:, 1:].values).to('cuda'))\n",
    "    \n",
    "    return y_hat"
   ]
  },
  {
   "cell_type": "code",
   "execution_count": 133,
   "metadata": {},
   "outputs": [],
   "source": [
    "from argparse import Namespace\n",
    "\n",
    "\"\"\"\n",
    "    input_size : 입력 특징 벡터\n",
    "    hidden_size : 확장된 차원의 수\n",
    "    number_of_head : 헤드의 수\n",
    "    enc_num : 인코더 레이어 층의 수\n",
    "    max_epochs : 최대 에폭\n",
    "    train_size : 학습 데이터 사이즈\n",
    "    valid_size : 검증 데이터 사이즈\n",
    "    patience : EarlyStopping을 위한 파리미터 값\n",
    "\"\"\"\n",
    "\n",
    "config = {\n",
    "    'input_size': 8,\n",
    "    'hidden_size': 256,\n",
    "    'number_of_head': 4,\n",
    "    'enc_num': 8,\n",
    "    'max_epochs': 1000,\n",
    "    'train_size' : .9,\n",
    "    'valid_size' : .1,\n",
    "    'patience' : 100,\n",
    "}\n",
    "\n",
    "config = Namespace(**config)"
   ]
  },
  {
   "cell_type": "code",
   "execution_count": 142,
   "metadata": {
    "scrolled": true
   },
   "outputs": [
    {
     "data": {
      "application/vnd.jupyter.widget-view+json": {
       "model_id": "",
       "version_major": 2,
       "version_minor": 0
      },
      "text/plain": [
       "HBox(children=(HTML(value=''), FloatProgress(value=0.0, max=12.0), HTML(value='')))"
      ]
     },
     "metadata": {},
     "output_type": "display_data"
    },
    {
     "name": "stdout",
     "output_type": "stream",
     "text": [
      "Training Results - Epoch[1/1000] Loss : 109.24241959221892\n"
     ]
    },
    {
     "data": {
      "application/vnd.jupyter.widget-view+json": {
       "model_id": "",
       "version_major": 2,
       "version_minor": 0
      },
      "text/plain": [
       "HBox(children=(HTML(value=''), FloatProgress(value=0.0, max=13.0), HTML(value='')))"
      ]
     },
     "metadata": {},
     "output_type": "display_data"
    },
    {
     "data": {
      "application/vnd.jupyter.widget-view+json": {
       "model_id": "",
       "version_major": 2,
       "version_minor": 0
      },
      "text/plain": [
       "HBox(children=(HTML(value=''), FloatProgress(value=0.0, max=12.0), HTML(value='')))"
      ]
     },
     "metadata": {},
     "output_type": "display_data"
    },
    {
     "name": "stdout",
     "output_type": "stream",
     "text": [
      "Training Results - Epoch[2/1000] Loss : 94.71131243687132\n"
     ]
    },
    {
     "data": {
      "application/vnd.jupyter.widget-view+json": {
       "model_id": "",
       "version_major": 2,
       "version_minor": 0
      },
      "text/plain": [
       "HBox(children=(HTML(value=''), FloatProgress(value=0.0, max=13.0), HTML(value='')))"
      ]
     },
     "metadata": {},
     "output_type": "display_data"
    },
    {
     "data": {
      "application/vnd.jupyter.widget-view+json": {
       "model_id": "",
       "version_major": 2,
       "version_minor": 0
      },
      "text/plain": [
       "HBox(children=(HTML(value=''), FloatProgress(value=0.0, max=12.0), HTML(value='')))"
      ]
     },
     "metadata": {},
     "output_type": "display_data"
    },
    {
     "name": "stdout",
     "output_type": "stream",
     "text": [
      "Training Results - Epoch[3/1000] Loss : 100.50411334307317\n"
     ]
    },
    {
     "data": {
      "application/vnd.jupyter.widget-view+json": {
       "model_id": "",
       "version_major": 2,
       "version_minor": 0
      },
      "text/plain": [
       "HBox(children=(HTML(value=''), FloatProgress(value=0.0, max=13.0), HTML(value='')))"
      ]
     },
     "metadata": {},
     "output_type": "display_data"
    },
    {
     "data": {
      "application/vnd.jupyter.widget-view+json": {
       "model_id": "",
       "version_major": 2,
       "version_minor": 0
      },
      "text/plain": [
       "HBox(children=(HTML(value=''), FloatProgress(value=0.0, max=12.0), HTML(value='')))"
      ]
     },
     "metadata": {},
     "output_type": "display_data"
    },
    {
     "name": "stdout",
     "output_type": "stream",
     "text": [
      "Training Results - Epoch[4/1000] Loss : 107.56088249251606\n"
     ]
    },
    {
     "data": {
      "application/vnd.jupyter.widget-view+json": {
       "model_id": "",
       "version_major": 2,
       "version_minor": 0
      },
      "text/plain": [
       "HBox(children=(HTML(value=''), FloatProgress(value=0.0, max=13.0), HTML(value='')))"
      ]
     },
     "metadata": {},
     "output_type": "display_data"
    },
    {
     "data": {
      "application/vnd.jupyter.widget-view+json": {
       "model_id": "",
       "version_major": 2,
       "version_minor": 0
      },
      "text/plain": [
       "HBox(children=(HTML(value=''), FloatProgress(value=0.0, max=12.0), HTML(value='')))"
      ]
     },
     "metadata": {},
     "output_type": "display_data"
    },
    {
     "name": "stdout",
     "output_type": "stream",
     "text": [
      "Training Results - Epoch[5/1000] Loss : 93.20855748674019\n"
     ]
    },
    {
     "data": {
      "application/vnd.jupyter.widget-view+json": {
       "model_id": "",
       "version_major": 2,
       "version_minor": 0
      },
      "text/plain": [
       "HBox(children=(HTML(value=''), FloatProgress(value=0.0, max=13.0), HTML(value='')))"
      ]
     },
     "metadata": {},
     "output_type": "display_data"
    },
    {
     "data": {
      "application/vnd.jupyter.widget-view+json": {
       "model_id": "",
       "version_major": 2,
       "version_minor": 0
      },
      "text/plain": [
       "HBox(children=(HTML(value=''), FloatProgress(value=0.0, max=12.0), HTML(value='')))"
      ]
     },
     "metadata": {},
     "output_type": "display_data"
    },
    {
     "name": "stdout",
     "output_type": "stream",
     "text": [
      "Training Results - Epoch[6/1000] Loss : 103.51189214078124\n"
     ]
    },
    {
     "data": {
      "application/vnd.jupyter.widget-view+json": {
       "model_id": "",
       "version_major": 2,
       "version_minor": 0
      },
      "text/plain": [
       "HBox(children=(HTML(value=''), FloatProgress(value=0.0, max=13.0), HTML(value='')))"
      ]
     },
     "metadata": {},
     "output_type": "display_data"
    },
    {
     "data": {
      "application/vnd.jupyter.widget-view+json": {
       "model_id": "",
       "version_major": 2,
       "version_minor": 0
      },
      "text/plain": [
       "HBox(children=(HTML(value=''), FloatProgress(value=0.0, max=12.0), HTML(value='')))"
      ]
     },
     "metadata": {},
     "output_type": "display_data"
    },
    {
     "name": "stdout",
     "output_type": "stream",
     "text": [
      "Training Results - Epoch[7/1000] Loss : 93.51862832408314\n"
     ]
    },
    {
     "data": {
      "application/vnd.jupyter.widget-view+json": {
       "model_id": "",
       "version_major": 2,
       "version_minor": 0
      },
      "text/plain": [
       "HBox(children=(HTML(value=''), FloatProgress(value=0.0, max=13.0), HTML(value='')))"
      ]
     },
     "metadata": {},
     "output_type": "display_data"
    },
    {
     "data": {
      "application/vnd.jupyter.widget-view+json": {
       "model_id": "",
       "version_major": 2,
       "version_minor": 0
      },
      "text/plain": [
       "HBox(children=(HTML(value=''), FloatProgress(value=0.0, max=12.0), HTML(value='')))"
      ]
     },
     "metadata": {},
     "output_type": "display_data"
    },
    {
     "name": "stdout",
     "output_type": "stream",
     "text": [
      "Training Results - Epoch[8/1000] Loss : 89.74120242562181\n"
     ]
    },
    {
     "data": {
      "application/vnd.jupyter.widget-view+json": {
       "model_id": "",
       "version_major": 2,
       "version_minor": 0
      },
      "text/plain": [
       "HBox(children=(HTML(value=''), FloatProgress(value=0.0, max=13.0), HTML(value='')))"
      ]
     },
     "metadata": {},
     "output_type": "display_data"
    },
    {
     "data": {
      "application/vnd.jupyter.widget-view+json": {
       "model_id": "",
       "version_major": 2,
       "version_minor": 0
      },
      "text/plain": [
       "HBox(children=(HTML(value=''), FloatProgress(value=0.0, max=12.0), HTML(value='')))"
      ]
     },
     "metadata": {},
     "output_type": "display_data"
    },
    {
     "name": "stdout",
     "output_type": "stream",
     "text": [
      "Training Results - Epoch[9/1000] Loss : 88.17778742751955\n"
     ]
    },
    {
     "data": {
      "application/vnd.jupyter.widget-view+json": {
       "model_id": "",
       "version_major": 2,
       "version_minor": 0
      },
      "text/plain": [
       "HBox(children=(HTML(value=''), FloatProgress(value=0.0, max=13.0), HTML(value='')))"
      ]
     },
     "metadata": {},
     "output_type": "display_data"
    },
    {
     "data": {
      "application/vnd.jupyter.widget-view+json": {
       "model_id": "",
       "version_major": 2,
       "version_minor": 0
      },
      "text/plain": [
       "HBox(children=(HTML(value=''), FloatProgress(value=0.0, max=12.0), HTML(value='')))"
      ]
     },
     "metadata": {},
     "output_type": "display_data"
    },
    {
     "name": "stdout",
     "output_type": "stream",
     "text": [
      "Training Results - Epoch[10/1000] Loss : 91.0213514209327\n"
     ]
    },
    {
     "data": {
      "application/vnd.jupyter.widget-view+json": {
       "model_id": "",
       "version_major": 2,
       "version_minor": 0
      },
      "text/plain": [
       "HBox(children=(HTML(value=''), FloatProgress(value=0.0, max=13.0), HTML(value='')))"
      ]
     },
     "metadata": {},
     "output_type": "display_data"
    },
    {
     "data": {
      "application/vnd.jupyter.widget-view+json": {
       "model_id": "",
       "version_major": 2,
       "version_minor": 0
      },
      "text/plain": [
       "HBox(children=(HTML(value=''), FloatProgress(value=0.0, max=12.0), HTML(value='')))"
      ]
     },
     "metadata": {},
     "output_type": "display_data"
    },
    {
     "name": "stdout",
     "output_type": "stream",
     "text": [
      "Training Results - Epoch[11/1000] Loss : 86.71589274768824\n"
     ]
    },
    {
     "data": {
      "application/vnd.jupyter.widget-view+json": {
       "model_id": "",
       "version_major": 2,
       "version_minor": 0
      },
      "text/plain": [
       "HBox(children=(HTML(value=''), FloatProgress(value=0.0, max=13.0), HTML(value='')))"
      ]
     },
     "metadata": {},
     "output_type": "display_data"
    },
    {
     "data": {
      "application/vnd.jupyter.widget-view+json": {
       "model_id": "",
       "version_major": 2,
       "version_minor": 0
      },
      "text/plain": [
       "HBox(children=(HTML(value=''), FloatProgress(value=0.0, max=12.0), HTML(value='')))"
      ]
     },
     "metadata": {},
     "output_type": "display_data"
    },
    {
     "name": "stdout",
     "output_type": "stream",
     "text": [
      "Training Results - Epoch[12/1000] Loss : 77.32089674052142\n"
     ]
    },
    {
     "data": {
      "application/vnd.jupyter.widget-view+json": {
       "model_id": "",
       "version_major": 2,
       "version_minor": 0
      },
      "text/plain": [
       "HBox(children=(HTML(value=''), FloatProgress(value=0.0, max=13.0), HTML(value='')))"
      ]
     },
     "metadata": {},
     "output_type": "display_data"
    },
    {
     "data": {
      "application/vnd.jupyter.widget-view+json": {
       "model_id": "",
       "version_major": 2,
       "version_minor": 0
      },
      "text/plain": [
       "HBox(children=(HTML(value=''), FloatProgress(value=0.0, max=12.0), HTML(value='')))"
      ]
     },
     "metadata": {},
     "output_type": "display_data"
    },
    {
     "name": "stdout",
     "output_type": "stream",
     "text": [
      "Training Results - Epoch[13/1000] Loss : 73.3476912799071\n"
     ]
    },
    {
     "data": {
      "application/vnd.jupyter.widget-view+json": {
       "model_id": "",
       "version_major": 2,
       "version_minor": 0
      },
      "text/plain": [
       "HBox(children=(HTML(value=''), FloatProgress(value=0.0, max=13.0), HTML(value='')))"
      ]
     },
     "metadata": {},
     "output_type": "display_data"
    },
    {
     "data": {
      "application/vnd.jupyter.widget-view+json": {
       "model_id": "",
       "version_major": 2,
       "version_minor": 0
      },
      "text/plain": [
       "HBox(children=(HTML(value=''), FloatProgress(value=0.0, max=12.0), HTML(value='')))"
      ]
     },
     "metadata": {},
     "output_type": "display_data"
    },
    {
     "name": "stdout",
     "output_type": "stream",
     "text": [
      "Training Results - Epoch[14/1000] Loss : 78.97449483892049\n"
     ]
    },
    {
     "data": {
      "application/vnd.jupyter.widget-view+json": {
       "model_id": "",
       "version_major": 2,
       "version_minor": 0
      },
      "text/plain": [
       "HBox(children=(HTML(value=''), FloatProgress(value=0.0, max=13.0), HTML(value='')))"
      ]
     },
     "metadata": {},
     "output_type": "display_data"
    },
    {
     "data": {
      "application/vnd.jupyter.widget-view+json": {
       "model_id": "",
       "version_major": 2,
       "version_minor": 0
      },
      "text/plain": [
       "HBox(children=(HTML(value=''), FloatProgress(value=0.0, max=12.0), HTML(value='')))"
      ]
     },
     "metadata": {},
     "output_type": "display_data"
    },
    {
     "name": "stdout",
     "output_type": "stream",
     "text": [
      "Training Results - Epoch[15/1000] Loss : 70.3532162911596\n"
     ]
    },
    {
     "data": {
      "application/vnd.jupyter.widget-view+json": {
       "model_id": "",
       "version_major": 2,
       "version_minor": 0
      },
      "text/plain": [
       "HBox(children=(HTML(value=''), FloatProgress(value=0.0, max=13.0), HTML(value='')))"
      ]
     },
     "metadata": {},
     "output_type": "display_data"
    },
    {
     "data": {
      "application/vnd.jupyter.widget-view+json": {
       "model_id": "",
       "version_major": 2,
       "version_minor": 0
      },
      "text/plain": [
       "HBox(children=(HTML(value=''), FloatProgress(value=0.0, max=12.0), HTML(value='')))"
      ]
     },
     "metadata": {},
     "output_type": "display_data"
    },
    {
     "name": "stdout",
     "output_type": "stream",
     "text": [
      "Training Results - Epoch[16/1000] Loss : 63.519842712412554\n"
     ]
    },
    {
     "data": {
      "application/vnd.jupyter.widget-view+json": {
       "model_id": "",
       "version_major": 2,
       "version_minor": 0
      },
      "text/plain": [
       "HBox(children=(HTML(value=''), FloatProgress(value=0.0, max=13.0), HTML(value='')))"
      ]
     },
     "metadata": {},
     "output_type": "display_data"
    },
    {
     "data": {
      "application/vnd.jupyter.widget-view+json": {
       "model_id": "",
       "version_major": 2,
       "version_minor": 0
      },
      "text/plain": [
       "HBox(children=(HTML(value=''), FloatProgress(value=0.0, max=12.0), HTML(value='')))"
      ]
     },
     "metadata": {},
     "output_type": "display_data"
    },
    {
     "name": "stdout",
     "output_type": "stream",
     "text": [
      "Training Results - Epoch[17/1000] Loss : 62.721787434473995\n"
     ]
    },
    {
     "data": {
      "application/vnd.jupyter.widget-view+json": {
       "model_id": "",
       "version_major": 2,
       "version_minor": 0
      },
      "text/plain": [
       "HBox(children=(HTML(value=''), FloatProgress(value=0.0, max=13.0), HTML(value='')))"
      ]
     },
     "metadata": {},
     "output_type": "display_data"
    },
    {
     "data": {
      "application/vnd.jupyter.widget-view+json": {
       "model_id": "",
       "version_major": 2,
       "version_minor": 0
      },
      "text/plain": [
       "HBox(children=(HTML(value=''), FloatProgress(value=0.0, max=12.0), HTML(value='')))"
      ]
     },
     "metadata": {},
     "output_type": "display_data"
    },
    {
     "name": "stdout",
     "output_type": "stream",
     "text": [
      "Training Results - Epoch[18/1000] Loss : 56.912975629521256\n"
     ]
    },
    {
     "data": {
      "application/vnd.jupyter.widget-view+json": {
       "model_id": "",
       "version_major": 2,
       "version_minor": 0
      },
      "text/plain": [
       "HBox(children=(HTML(value=''), FloatProgress(value=0.0, max=13.0), HTML(value='')))"
      ]
     },
     "metadata": {},
     "output_type": "display_data"
    },
    {
     "data": {
      "application/vnd.jupyter.widget-view+json": {
       "model_id": "",
       "version_major": 2,
       "version_minor": 0
      },
      "text/plain": [
       "HBox(children=(HTML(value=''), FloatProgress(value=0.0, max=12.0), HTML(value='')))"
      ]
     },
     "metadata": {},
     "output_type": "display_data"
    },
    {
     "name": "stdout",
     "output_type": "stream",
     "text": [
      "Training Results - Epoch[19/1000] Loss : 42.721377244671245\n"
     ]
    },
    {
     "data": {
      "application/vnd.jupyter.widget-view+json": {
       "model_id": "",
       "version_major": 2,
       "version_minor": 0
      },
      "text/plain": [
       "HBox(children=(HTML(value=''), FloatProgress(value=0.0, max=13.0), HTML(value='')))"
      ]
     },
     "metadata": {},
     "output_type": "display_data"
    },
    {
     "data": {
      "application/vnd.jupyter.widget-view+json": {
       "model_id": "",
       "version_major": 2,
       "version_minor": 0
      },
      "text/plain": [
       "HBox(children=(HTML(value=''), FloatProgress(value=0.0, max=12.0), HTML(value='')))"
      ]
     },
     "metadata": {},
     "output_type": "display_data"
    },
    {
     "name": "stdout",
     "output_type": "stream",
     "text": [
      "Training Results - Epoch[20/1000] Loss : 51.13749140877573\n"
     ]
    },
    {
     "data": {
      "application/vnd.jupyter.widget-view+json": {
       "model_id": "",
       "version_major": 2,
       "version_minor": 0
      },
      "text/plain": [
       "HBox(children=(HTML(value=''), FloatProgress(value=0.0, max=13.0), HTML(value='')))"
      ]
     },
     "metadata": {},
     "output_type": "display_data"
    },
    {
     "data": {
      "application/vnd.jupyter.widget-view+json": {
       "model_id": "",
       "version_major": 2,
       "version_minor": 0
      },
      "text/plain": [
       "HBox(children=(HTML(value=''), FloatProgress(value=0.0, max=12.0), HTML(value='')))"
      ]
     },
     "metadata": {},
     "output_type": "display_data"
    },
    {
     "name": "stdout",
     "output_type": "stream",
     "text": [
      "Training Results - Epoch[21/1000] Loss : 44.470547185230224\n"
     ]
    },
    {
     "data": {
      "application/vnd.jupyter.widget-view+json": {
       "model_id": "",
       "version_major": 2,
       "version_minor": 0
      },
      "text/plain": [
       "HBox(children=(HTML(value=''), FloatProgress(value=0.0, max=13.0), HTML(value='')))"
      ]
     },
     "metadata": {},
     "output_type": "display_data"
    },
    {
     "data": {
      "application/vnd.jupyter.widget-view+json": {
       "model_id": "",
       "version_major": 2,
       "version_minor": 0
      },
      "text/plain": [
       "HBox(children=(HTML(value=''), FloatProgress(value=0.0, max=12.0), HTML(value='')))"
      ]
     },
     "metadata": {},
     "output_type": "display_data"
    },
    {
     "name": "stdout",
     "output_type": "stream",
     "text": [
      "Training Results - Epoch[22/1000] Loss : 32.48721994061031\n"
     ]
    },
    {
     "data": {
      "application/vnd.jupyter.widget-view+json": {
       "model_id": "",
       "version_major": 2,
       "version_minor": 0
      },
      "text/plain": [
       "HBox(children=(HTML(value=''), FloatProgress(value=0.0, max=13.0), HTML(value='')))"
      ]
     },
     "metadata": {},
     "output_type": "display_data"
    },
    {
     "data": {
      "application/vnd.jupyter.widget-view+json": {
       "model_id": "",
       "version_major": 2,
       "version_minor": 0
      },
      "text/plain": [
       "HBox(children=(HTML(value=''), FloatProgress(value=0.0, max=12.0), HTML(value='')))"
      ]
     },
     "metadata": {},
     "output_type": "display_data"
    },
    {
     "name": "stdout",
     "output_type": "stream",
     "text": [
      "Training Results - Epoch[23/1000] Loss : 34.040091706971374\n"
     ]
    },
    {
     "data": {
      "application/vnd.jupyter.widget-view+json": {
       "model_id": "",
       "version_major": 2,
       "version_minor": 0
      },
      "text/plain": [
       "HBox(children=(HTML(value=''), FloatProgress(value=0.0, max=13.0), HTML(value='')))"
      ]
     },
     "metadata": {},
     "output_type": "display_data"
    },
    {
     "data": {
      "application/vnd.jupyter.widget-view+json": {
       "model_id": "",
       "version_major": 2,
       "version_minor": 0
      },
      "text/plain": [
       "HBox(children=(HTML(value=''), FloatProgress(value=0.0, max=12.0), HTML(value='')))"
      ]
     },
     "metadata": {},
     "output_type": "display_data"
    },
    {
     "name": "stdout",
     "output_type": "stream",
     "text": [
      "Training Results - Epoch[24/1000] Loss : 25.035246974595566\n"
     ]
    },
    {
     "data": {
      "application/vnd.jupyter.widget-view+json": {
       "model_id": "",
       "version_major": 2,
       "version_minor": 0
      },
      "text/plain": [
       "HBox(children=(HTML(value=''), FloatProgress(value=0.0, max=13.0), HTML(value='')))"
      ]
     },
     "metadata": {},
     "output_type": "display_data"
    },
    {
     "data": {
      "application/vnd.jupyter.widget-view+json": {
       "model_id": "",
       "version_major": 2,
       "version_minor": 0
      },
      "text/plain": [
       "HBox(children=(HTML(value=''), FloatProgress(value=0.0, max=12.0), HTML(value='')))"
      ]
     },
     "metadata": {},
     "output_type": "display_data"
    },
    {
     "name": "stdout",
     "output_type": "stream",
     "text": [
      "Training Results - Epoch[25/1000] Loss : 30.685973424307335\n"
     ]
    },
    {
     "data": {
      "application/vnd.jupyter.widget-view+json": {
       "model_id": "",
       "version_major": 2,
       "version_minor": 0
      },
      "text/plain": [
       "HBox(children=(HTML(value=''), FloatProgress(value=0.0, max=13.0), HTML(value='')))"
      ]
     },
     "metadata": {},
     "output_type": "display_data"
    },
    {
     "data": {
      "application/vnd.jupyter.widget-view+json": {
       "model_id": "",
       "version_major": 2,
       "version_minor": 0
      },
      "text/plain": [
       "HBox(children=(HTML(value=''), FloatProgress(value=0.0, max=12.0), HTML(value='')))"
      ]
     },
     "metadata": {},
     "output_type": "display_data"
    },
    {
     "name": "stdout",
     "output_type": "stream",
     "text": [
      "Training Results - Epoch[26/1000] Loss : 23.16037042961413\n"
     ]
    },
    {
     "data": {
      "application/vnd.jupyter.widget-view+json": {
       "model_id": "",
       "version_major": 2,
       "version_minor": 0
      },
      "text/plain": [
       "HBox(children=(HTML(value=''), FloatProgress(value=0.0, max=13.0), HTML(value='')))"
      ]
     },
     "metadata": {},
     "output_type": "display_data"
    },
    {
     "data": {
      "application/vnd.jupyter.widget-view+json": {
       "model_id": "",
       "version_major": 2,
       "version_minor": 0
      },
      "text/plain": [
       "HBox(children=(HTML(value=''), FloatProgress(value=0.0, max=12.0), HTML(value='')))"
      ]
     },
     "metadata": {},
     "output_type": "display_data"
    },
    {
     "name": "stdout",
     "output_type": "stream",
     "text": [
      "Training Results - Epoch[27/1000] Loss : 18.500453024970568\n"
     ]
    },
    {
     "data": {
      "application/vnd.jupyter.widget-view+json": {
       "model_id": "",
       "version_major": 2,
       "version_minor": 0
      },
      "text/plain": [
       "HBox(children=(HTML(value=''), FloatProgress(value=0.0, max=13.0), HTML(value='')))"
      ]
     },
     "metadata": {},
     "output_type": "display_data"
    },
    {
     "data": {
      "application/vnd.jupyter.widget-view+json": {
       "model_id": "",
       "version_major": 2,
       "version_minor": 0
      },
      "text/plain": [
       "HBox(children=(HTML(value=''), FloatProgress(value=0.0, max=12.0), HTML(value='')))"
      ]
     },
     "metadata": {},
     "output_type": "display_data"
    },
    {
     "name": "stdout",
     "output_type": "stream",
     "text": [
      "Training Results - Epoch[28/1000] Loss : 14.084575570222825\n"
     ]
    },
    {
     "data": {
      "application/vnd.jupyter.widget-view+json": {
       "model_id": "",
       "version_major": 2,
       "version_minor": 0
      },
      "text/plain": [
       "HBox(children=(HTML(value=''), FloatProgress(value=0.0, max=13.0), HTML(value='')))"
      ]
     },
     "metadata": {},
     "output_type": "display_data"
    },
    {
     "data": {
      "application/vnd.jupyter.widget-view+json": {
       "model_id": "",
       "version_major": 2,
       "version_minor": 0
      },
      "text/plain": [
       "HBox(children=(HTML(value=''), FloatProgress(value=0.0, max=12.0), HTML(value='')))"
      ]
     },
     "metadata": {},
     "output_type": "display_data"
    },
    {
     "name": "stdout",
     "output_type": "stream",
     "text": [
      "Training Results - Epoch[29/1000] Loss : 11.118262293062958\n"
     ]
    },
    {
     "data": {
      "application/vnd.jupyter.widget-view+json": {
       "model_id": "",
       "version_major": 2,
       "version_minor": 0
      },
      "text/plain": [
       "HBox(children=(HTML(value=''), FloatProgress(value=0.0, max=13.0), HTML(value='')))"
      ]
     },
     "metadata": {},
     "output_type": "display_data"
    },
    {
     "data": {
      "application/vnd.jupyter.widget-view+json": {
       "model_id": "",
       "version_major": 2,
       "version_minor": 0
      },
      "text/plain": [
       "HBox(children=(HTML(value=''), FloatProgress(value=0.0, max=12.0), HTML(value='')))"
      ]
     },
     "metadata": {},
     "output_type": "display_data"
    },
    {
     "name": "stdout",
     "output_type": "stream",
     "text": [
      "Training Results - Epoch[30/1000] Loss : 10.641830106961926\n"
     ]
    },
    {
     "data": {
      "application/vnd.jupyter.widget-view+json": {
       "model_id": "",
       "version_major": 2,
       "version_minor": 0
      },
      "text/plain": [
       "HBox(children=(HTML(value=''), FloatProgress(value=0.0, max=13.0), HTML(value='')))"
      ]
     },
     "metadata": {},
     "output_type": "display_data"
    },
    {
     "data": {
      "application/vnd.jupyter.widget-view+json": {
       "model_id": "",
       "version_major": 2,
       "version_minor": 0
      },
      "text/plain": [
       "HBox(children=(HTML(value=''), FloatProgress(value=0.0, max=12.0), HTML(value='')))"
      ]
     },
     "metadata": {},
     "output_type": "display_data"
    },
    {
     "name": "stdout",
     "output_type": "stream",
     "text": [
      "Training Results - Epoch[31/1000] Loss : 10.363065149589499\n"
     ]
    },
    {
     "data": {
      "application/vnd.jupyter.widget-view+json": {
       "model_id": "",
       "version_major": 2,
       "version_minor": 0
      },
      "text/plain": [
       "HBox(children=(HTML(value=''), FloatProgress(value=0.0, max=13.0), HTML(value='')))"
      ]
     },
     "metadata": {},
     "output_type": "display_data"
    },
    {
     "data": {
      "application/vnd.jupyter.widget-view+json": {
       "model_id": "",
       "version_major": 2,
       "version_minor": 0
      },
      "text/plain": [
       "HBox(children=(HTML(value=''), FloatProgress(value=0.0, max=12.0), HTML(value='')))"
      ]
     },
     "metadata": {},
     "output_type": "display_data"
    },
    {
     "name": "stdout",
     "output_type": "stream",
     "text": [
      "Training Results - Epoch[32/1000] Loss : 8.764018929173552\n"
     ]
    },
    {
     "data": {
      "application/vnd.jupyter.widget-view+json": {
       "model_id": "",
       "version_major": 2,
       "version_minor": 0
      },
      "text/plain": [
       "HBox(children=(HTML(value=''), FloatProgress(value=0.0, max=13.0), HTML(value='')))"
      ]
     },
     "metadata": {},
     "output_type": "display_data"
    },
    {
     "data": {
      "application/vnd.jupyter.widget-view+json": {
       "model_id": "",
       "version_major": 2,
       "version_minor": 0
      },
      "text/plain": [
       "HBox(children=(HTML(value=''), FloatProgress(value=0.0, max=12.0), HTML(value='')))"
      ]
     },
     "metadata": {},
     "output_type": "display_data"
    },
    {
     "name": "stdout",
     "output_type": "stream",
     "text": [
      "Training Results - Epoch[33/1000] Loss : 8.438297842256393\n"
     ]
    },
    {
     "data": {
      "application/vnd.jupyter.widget-view+json": {
       "model_id": "",
       "version_major": 2,
       "version_minor": 0
      },
      "text/plain": [
       "HBox(children=(HTML(value=''), FloatProgress(value=0.0, max=13.0), HTML(value='')))"
      ]
     },
     "metadata": {},
     "output_type": "display_data"
    },
    {
     "data": {
      "application/vnd.jupyter.widget-view+json": {
       "model_id": "",
       "version_major": 2,
       "version_minor": 0
      },
      "text/plain": [
       "HBox(children=(HTML(value=''), FloatProgress(value=0.0, max=12.0), HTML(value='')))"
      ]
     },
     "metadata": {},
     "output_type": "display_data"
    },
    {
     "name": "stdout",
     "output_type": "stream",
     "text": [
      "Training Results - Epoch[34/1000] Loss : 8.614627411400399\n"
     ]
    },
    {
     "data": {
      "application/vnd.jupyter.widget-view+json": {
       "model_id": "",
       "version_major": 2,
       "version_minor": 0
      },
      "text/plain": [
       "HBox(children=(HTML(value=''), FloatProgress(value=0.0, max=13.0), HTML(value='')))"
      ]
     },
     "metadata": {},
     "output_type": "display_data"
    },
    {
     "data": {
      "application/vnd.jupyter.widget-view+json": {
       "model_id": "",
       "version_major": 2,
       "version_minor": 0
      },
      "text/plain": [
       "HBox(children=(HTML(value=''), FloatProgress(value=0.0, max=12.0), HTML(value='')))"
      ]
     },
     "metadata": {},
     "output_type": "display_data"
    },
    {
     "name": "stdout",
     "output_type": "stream",
     "text": [
      "Training Results - Epoch[35/1000] Loss : 6.65785669965335\n"
     ]
    },
    {
     "data": {
      "application/vnd.jupyter.widget-view+json": {
       "model_id": "",
       "version_major": 2,
       "version_minor": 0
      },
      "text/plain": [
       "HBox(children=(HTML(value=''), FloatProgress(value=0.0, max=13.0), HTML(value='')))"
      ]
     },
     "metadata": {},
     "output_type": "display_data"
    },
    {
     "data": {
      "application/vnd.jupyter.widget-view+json": {
       "model_id": "",
       "version_major": 2,
       "version_minor": 0
      },
      "text/plain": [
       "HBox(children=(HTML(value=''), FloatProgress(value=0.0, max=12.0), HTML(value='')))"
      ]
     },
     "metadata": {},
     "output_type": "display_data"
    },
    {
     "name": "stdout",
     "output_type": "stream",
     "text": [
      "Training Results - Epoch[36/1000] Loss : 5.590109941826522\n"
     ]
    },
    {
     "data": {
      "application/vnd.jupyter.widget-view+json": {
       "model_id": "",
       "version_major": 2,
       "version_minor": 0
      },
      "text/plain": [
       "HBox(children=(HTML(value=''), FloatProgress(value=0.0, max=13.0), HTML(value='')))"
      ]
     },
     "metadata": {},
     "output_type": "display_data"
    },
    {
     "data": {
      "application/vnd.jupyter.widget-view+json": {
       "model_id": "",
       "version_major": 2,
       "version_minor": 0
      },
      "text/plain": [
       "HBox(children=(HTML(value=''), FloatProgress(value=0.0, max=12.0), HTML(value='')))"
      ]
     },
     "metadata": {},
     "output_type": "display_data"
    },
    {
     "name": "stdout",
     "output_type": "stream",
     "text": [
      "Training Results - Epoch[37/1000] Loss : 4.351305258273337\n"
     ]
    },
    {
     "data": {
      "application/vnd.jupyter.widget-view+json": {
       "model_id": "",
       "version_major": 2,
       "version_minor": 0
      },
      "text/plain": [
       "HBox(children=(HTML(value=''), FloatProgress(value=0.0, max=13.0), HTML(value='')))"
      ]
     },
     "metadata": {},
     "output_type": "display_data"
    },
    {
     "data": {
      "application/vnd.jupyter.widget-view+json": {
       "model_id": "",
       "version_major": 2,
       "version_minor": 0
      },
      "text/plain": [
       "HBox(children=(HTML(value=''), FloatProgress(value=0.0, max=12.0), HTML(value='')))"
      ]
     },
     "metadata": {},
     "output_type": "display_data"
    },
    {
     "name": "stdout",
     "output_type": "stream",
     "text": [
      "Training Results - Epoch[38/1000] Loss : 5.150105506483189\n"
     ]
    },
    {
     "data": {
      "application/vnd.jupyter.widget-view+json": {
       "model_id": "",
       "version_major": 2,
       "version_minor": 0
      },
      "text/plain": [
       "HBox(children=(HTML(value=''), FloatProgress(value=0.0, max=13.0), HTML(value='')))"
      ]
     },
     "metadata": {},
     "output_type": "display_data"
    },
    {
     "data": {
      "application/vnd.jupyter.widget-view+json": {
       "model_id": "",
       "version_major": 2,
       "version_minor": 0
      },
      "text/plain": [
       "HBox(children=(HTML(value=''), FloatProgress(value=0.0, max=12.0), HTML(value='')))"
      ]
     },
     "metadata": {},
     "output_type": "display_data"
    },
    {
     "name": "stdout",
     "output_type": "stream",
     "text": [
      "Training Results - Epoch[39/1000] Loss : 5.310510907747207\n"
     ]
    },
    {
     "data": {
      "application/vnd.jupyter.widget-view+json": {
       "model_id": "",
       "version_major": 2,
       "version_minor": 0
      },
      "text/plain": [
       "HBox(children=(HTML(value=''), FloatProgress(value=0.0, max=13.0), HTML(value='')))"
      ]
     },
     "metadata": {},
     "output_type": "display_data"
    },
    {
     "data": {
      "application/vnd.jupyter.widget-view+json": {
       "model_id": "",
       "version_major": 2,
       "version_minor": 0
      },
      "text/plain": [
       "HBox(children=(HTML(value=''), FloatProgress(value=0.0, max=12.0), HTML(value='')))"
      ]
     },
     "metadata": {},
     "output_type": "display_data"
    },
    {
     "name": "stdout",
     "output_type": "stream",
     "text": [
      "Training Results - Epoch[40/1000] Loss : 4.918032300632048\n"
     ]
    },
    {
     "data": {
      "application/vnd.jupyter.widget-view+json": {
       "model_id": "",
       "version_major": 2,
       "version_minor": 0
      },
      "text/plain": [
       "HBox(children=(HTML(value=''), FloatProgress(value=0.0, max=13.0), HTML(value='')))"
      ]
     },
     "metadata": {},
     "output_type": "display_data"
    },
    {
     "data": {
      "application/vnd.jupyter.widget-view+json": {
       "model_id": "",
       "version_major": 2,
       "version_minor": 0
      },
      "text/plain": [
       "HBox(children=(HTML(value=''), FloatProgress(value=0.0, max=12.0), HTML(value='')))"
      ]
     },
     "metadata": {},
     "output_type": "display_data"
    },
    {
     "name": "stdout",
     "output_type": "stream",
     "text": [
      "Training Results - Epoch[41/1000] Loss : 4.491579063026959\n"
     ]
    },
    {
     "data": {
      "application/vnd.jupyter.widget-view+json": {
       "model_id": "",
       "version_major": 2,
       "version_minor": 0
      },
      "text/plain": [
       "HBox(children=(HTML(value=''), FloatProgress(value=0.0, max=13.0), HTML(value='')))"
      ]
     },
     "metadata": {},
     "output_type": "display_data"
    },
    {
     "data": {
      "application/vnd.jupyter.widget-view+json": {
       "model_id": "",
       "version_major": 2,
       "version_minor": 0
      },
      "text/plain": [
       "HBox(children=(HTML(value=''), FloatProgress(value=0.0, max=12.0), HTML(value='')))"
      ]
     },
     "metadata": {},
     "output_type": "display_data"
    },
    {
     "name": "stdout",
     "output_type": "stream",
     "text": [
      "Training Results - Epoch[42/1000] Loss : 6.8248037705381694\n"
     ]
    },
    {
     "data": {
      "application/vnd.jupyter.widget-view+json": {
       "model_id": "",
       "version_major": 2,
       "version_minor": 0
      },
      "text/plain": [
       "HBox(children=(HTML(value=''), FloatProgress(value=0.0, max=13.0), HTML(value='')))"
      ]
     },
     "metadata": {},
     "output_type": "display_data"
    },
    {
     "data": {
      "application/vnd.jupyter.widget-view+json": {
       "model_id": "",
       "version_major": 2,
       "version_minor": 0
      },
      "text/plain": [
       "HBox(children=(HTML(value=''), FloatProgress(value=0.0, max=12.0), HTML(value='')))"
      ]
     },
     "metadata": {},
     "output_type": "display_data"
    },
    {
     "name": "stdout",
     "output_type": "stream",
     "text": [
      "Training Results - Epoch[43/1000] Loss : 3.8612831242359373\n"
     ]
    },
    {
     "data": {
      "application/vnd.jupyter.widget-view+json": {
       "model_id": "",
       "version_major": 2,
       "version_minor": 0
      },
      "text/plain": [
       "HBox(children=(HTML(value=''), FloatProgress(value=0.0, max=13.0), HTML(value='')))"
      ]
     },
     "metadata": {},
     "output_type": "display_data"
    },
    {
     "data": {
      "application/vnd.jupyter.widget-view+json": {
       "model_id": "",
       "version_major": 2,
       "version_minor": 0
      },
      "text/plain": [
       "HBox(children=(HTML(value=''), FloatProgress(value=0.0, max=12.0), HTML(value='')))"
      ]
     },
     "metadata": {},
     "output_type": "display_data"
    },
    {
     "name": "stdout",
     "output_type": "stream",
     "text": [
      "Training Results - Epoch[44/1000] Loss : 3.617506324721882\n"
     ]
    },
    {
     "data": {
      "application/vnd.jupyter.widget-view+json": {
       "model_id": "",
       "version_major": 2,
       "version_minor": 0
      },
      "text/plain": [
       "HBox(children=(HTML(value=''), FloatProgress(value=0.0, max=13.0), HTML(value='')))"
      ]
     },
     "metadata": {},
     "output_type": "display_data"
    },
    {
     "data": {
      "application/vnd.jupyter.widget-view+json": {
       "model_id": "",
       "version_major": 2,
       "version_minor": 0
      },
      "text/plain": [
       "HBox(children=(HTML(value=''), FloatProgress(value=0.0, max=12.0), HTML(value='')))"
      ]
     },
     "metadata": {},
     "output_type": "display_data"
    },
    {
     "name": "stdout",
     "output_type": "stream",
     "text": [
      "Training Results - Epoch[45/1000] Loss : 5.224253394151596\n"
     ]
    },
    {
     "data": {
      "application/vnd.jupyter.widget-view+json": {
       "model_id": "",
       "version_major": 2,
       "version_minor": 0
      },
      "text/plain": [
       "HBox(children=(HTML(value=''), FloatProgress(value=0.0, max=13.0), HTML(value='')))"
      ]
     },
     "metadata": {},
     "output_type": "display_data"
    },
    {
     "data": {
      "application/vnd.jupyter.widget-view+json": {
       "model_id": "",
       "version_major": 2,
       "version_minor": 0
      },
      "text/plain": [
       "HBox(children=(HTML(value=''), FloatProgress(value=0.0, max=12.0), HTML(value='')))"
      ]
     },
     "metadata": {},
     "output_type": "display_data"
    },
    {
     "name": "stdout",
     "output_type": "stream",
     "text": [
      "Training Results - Epoch[46/1000] Loss : 3.7203904477245446\n"
     ]
    },
    {
     "data": {
      "application/vnd.jupyter.widget-view+json": {
       "model_id": "",
       "version_major": 2,
       "version_minor": 0
      },
      "text/plain": [
       "HBox(children=(HTML(value=''), FloatProgress(value=0.0, max=13.0), HTML(value='')))"
      ]
     },
     "metadata": {},
     "output_type": "display_data"
    },
    {
     "data": {
      "application/vnd.jupyter.widget-view+json": {
       "model_id": "",
       "version_major": 2,
       "version_minor": 0
      },
      "text/plain": [
       "HBox(children=(HTML(value=''), FloatProgress(value=0.0, max=12.0), HTML(value='')))"
      ]
     },
     "metadata": {},
     "output_type": "display_data"
    },
    {
     "name": "stdout",
     "output_type": "stream",
     "text": [
      "Training Results - Epoch[47/1000] Loss : 4.607210076449515\n"
     ]
    },
    {
     "data": {
      "application/vnd.jupyter.widget-view+json": {
       "model_id": "",
       "version_major": 2,
       "version_minor": 0
      },
      "text/plain": [
       "HBox(children=(HTML(value=''), FloatProgress(value=0.0, max=13.0), HTML(value='')))"
      ]
     },
     "metadata": {},
     "output_type": "display_data"
    },
    {
     "data": {
      "application/vnd.jupyter.widget-view+json": {
       "model_id": "",
       "version_major": 2,
       "version_minor": 0
      },
      "text/plain": [
       "HBox(children=(HTML(value=''), FloatProgress(value=0.0, max=12.0), HTML(value='')))"
      ]
     },
     "metadata": {},
     "output_type": "display_data"
    },
    {
     "name": "stdout",
     "output_type": "stream",
     "text": [
      "Training Results - Epoch[48/1000] Loss : 2.7999218735275195\n"
     ]
    },
    {
     "data": {
      "application/vnd.jupyter.widget-view+json": {
       "model_id": "",
       "version_major": 2,
       "version_minor": 0
      },
      "text/plain": [
       "HBox(children=(HTML(value=''), FloatProgress(value=0.0, max=13.0), HTML(value='')))"
      ]
     },
     "metadata": {},
     "output_type": "display_data"
    },
    {
     "data": {
      "application/vnd.jupyter.widget-view+json": {
       "model_id": "",
       "version_major": 2,
       "version_minor": 0
      },
      "text/plain": [
       "HBox(children=(HTML(value=''), FloatProgress(value=0.0, max=12.0), HTML(value='')))"
      ]
     },
     "metadata": {},
     "output_type": "display_data"
    },
    {
     "name": "stdout",
     "output_type": "stream",
     "text": [
      "Training Results - Epoch[49/1000] Loss : 3.5129732112424548\n"
     ]
    },
    {
     "data": {
      "application/vnd.jupyter.widget-view+json": {
       "model_id": "",
       "version_major": 2,
       "version_minor": 0
      },
      "text/plain": [
       "HBox(children=(HTML(value=''), FloatProgress(value=0.0, max=13.0), HTML(value='')))"
      ]
     },
     "metadata": {},
     "output_type": "display_data"
    },
    {
     "data": {
      "application/vnd.jupyter.widget-view+json": {
       "model_id": "",
       "version_major": 2,
       "version_minor": 0
      },
      "text/plain": [
       "HBox(children=(HTML(value=''), FloatProgress(value=0.0, max=12.0), HTML(value='')))"
      ]
     },
     "metadata": {},
     "output_type": "display_data"
    },
    {
     "name": "stdout",
     "output_type": "stream",
     "text": [
      "Training Results - Epoch[50/1000] Loss : 3.774067058334118\n"
     ]
    },
    {
     "data": {
      "application/vnd.jupyter.widget-view+json": {
       "model_id": "",
       "version_major": 2,
       "version_minor": 0
      },
      "text/plain": [
       "HBox(children=(HTML(value=''), FloatProgress(value=0.0, max=13.0), HTML(value='')))"
      ]
     },
     "metadata": {},
     "output_type": "display_data"
    },
    {
     "data": {
      "application/vnd.jupyter.widget-view+json": {
       "model_id": "",
       "version_major": 2,
       "version_minor": 0
      },
      "text/plain": [
       "HBox(children=(HTML(value=''), FloatProgress(value=0.0, max=12.0), HTML(value='')))"
      ]
     },
     "metadata": {},
     "output_type": "display_data"
    },
    {
     "name": "stdout",
     "output_type": "stream",
     "text": [
      "Training Results - Epoch[51/1000] Loss : 3.5087573126657077\n"
     ]
    },
    {
     "data": {
      "application/vnd.jupyter.widget-view+json": {
       "model_id": "",
       "version_major": 2,
       "version_minor": 0
      },
      "text/plain": [
       "HBox(children=(HTML(value=''), FloatProgress(value=0.0, max=13.0), HTML(value='')))"
      ]
     },
     "metadata": {},
     "output_type": "display_data"
    },
    {
     "data": {
      "application/vnd.jupyter.widget-view+json": {
       "model_id": "",
       "version_major": 2,
       "version_minor": 0
      },
      "text/plain": [
       "HBox(children=(HTML(value=''), FloatProgress(value=0.0, max=12.0), HTML(value='')))"
      ]
     },
     "metadata": {},
     "output_type": "display_data"
    },
    {
     "name": "stdout",
     "output_type": "stream",
     "text": [
      "Training Results - Epoch[52/1000] Loss : 3.1116291501493096\n"
     ]
    },
    {
     "data": {
      "application/vnd.jupyter.widget-view+json": {
       "model_id": "",
       "version_major": 2,
       "version_minor": 0
      },
      "text/plain": [
       "HBox(children=(HTML(value=''), FloatProgress(value=0.0, max=13.0), HTML(value='')))"
      ]
     },
     "metadata": {},
     "output_type": "display_data"
    },
    {
     "data": {
      "application/vnd.jupyter.widget-view+json": {
       "model_id": "",
       "version_major": 2,
       "version_minor": 0
      },
      "text/plain": [
       "HBox(children=(HTML(value=''), FloatProgress(value=0.0, max=12.0), HTML(value='')))"
      ]
     },
     "metadata": {},
     "output_type": "display_data"
    },
    {
     "name": "stdout",
     "output_type": "stream",
     "text": [
      "Training Results - Epoch[53/1000] Loss : 3.7363447848014286\n"
     ]
    },
    {
     "data": {
      "application/vnd.jupyter.widget-view+json": {
       "model_id": "",
       "version_major": 2,
       "version_minor": 0
      },
      "text/plain": [
       "HBox(children=(HTML(value=''), FloatProgress(value=0.0, max=13.0), HTML(value='')))"
      ]
     },
     "metadata": {},
     "output_type": "display_data"
    },
    {
     "data": {
      "application/vnd.jupyter.widget-view+json": {
       "model_id": "",
       "version_major": 2,
       "version_minor": 0
      },
      "text/plain": [
       "HBox(children=(HTML(value=''), FloatProgress(value=0.0, max=12.0), HTML(value='')))"
      ]
     },
     "metadata": {},
     "output_type": "display_data"
    },
    {
     "name": "stdout",
     "output_type": "stream",
     "text": [
      "Training Results - Epoch[54/1000] Loss : 5.200876388485493\n"
     ]
    },
    {
     "data": {
      "application/vnd.jupyter.widget-view+json": {
       "model_id": "",
       "version_major": 2,
       "version_minor": 0
      },
      "text/plain": [
       "HBox(children=(HTML(value=''), FloatProgress(value=0.0, max=13.0), HTML(value='')))"
      ]
     },
     "metadata": {},
     "output_type": "display_data"
    },
    {
     "data": {
      "application/vnd.jupyter.widget-view+json": {
       "model_id": "",
       "version_major": 2,
       "version_minor": 0
      },
      "text/plain": [
       "HBox(children=(HTML(value=''), FloatProgress(value=0.0, max=12.0), HTML(value='')))"
      ]
     },
     "metadata": {},
     "output_type": "display_data"
    },
    {
     "name": "stdout",
     "output_type": "stream",
     "text": [
      "Training Results - Epoch[55/1000] Loss : 4.286899187740425\n"
     ]
    },
    {
     "data": {
      "application/vnd.jupyter.widget-view+json": {
       "model_id": "",
       "version_major": 2,
       "version_minor": 0
      },
      "text/plain": [
       "HBox(children=(HTML(value=''), FloatProgress(value=0.0, max=13.0), HTML(value='')))"
      ]
     },
     "metadata": {},
     "output_type": "display_data"
    },
    {
     "data": {
      "application/vnd.jupyter.widget-view+json": {
       "model_id": "",
       "version_major": 2,
       "version_minor": 0
      },
      "text/plain": [
       "HBox(children=(HTML(value=''), FloatProgress(value=0.0, max=12.0), HTML(value='')))"
      ]
     },
     "metadata": {},
     "output_type": "display_data"
    },
    {
     "name": "stdout",
     "output_type": "stream",
     "text": [
      "Training Results - Epoch[56/1000] Loss : 3.890858687261185\n"
     ]
    },
    {
     "data": {
      "application/vnd.jupyter.widget-view+json": {
       "model_id": "",
       "version_major": 2,
       "version_minor": 0
      },
      "text/plain": [
       "HBox(children=(HTML(value=''), FloatProgress(value=0.0, max=13.0), HTML(value='')))"
      ]
     },
     "metadata": {},
     "output_type": "display_data"
    },
    {
     "data": {
      "application/vnd.jupyter.widget-view+json": {
       "model_id": "",
       "version_major": 2,
       "version_minor": 0
      },
      "text/plain": [
       "HBox(children=(HTML(value=''), FloatProgress(value=0.0, max=12.0), HTML(value='')))"
      ]
     },
     "metadata": {},
     "output_type": "display_data"
    },
    {
     "name": "stdout",
     "output_type": "stream",
     "text": [
      "Training Results - Epoch[57/1000] Loss : 3.310919331301628\n"
     ]
    },
    {
     "data": {
      "application/vnd.jupyter.widget-view+json": {
       "model_id": "",
       "version_major": 2,
       "version_minor": 0
      },
      "text/plain": [
       "HBox(children=(HTML(value=''), FloatProgress(value=0.0, max=13.0), HTML(value='')))"
      ]
     },
     "metadata": {},
     "output_type": "display_data"
    },
    {
     "data": {
      "application/vnd.jupyter.widget-view+json": {
       "model_id": "",
       "version_major": 2,
       "version_minor": 0
      },
      "text/plain": [
       "HBox(children=(HTML(value=''), FloatProgress(value=0.0, max=12.0), HTML(value='')))"
      ]
     },
     "metadata": {},
     "output_type": "display_data"
    },
    {
     "name": "stdout",
     "output_type": "stream",
     "text": [
      "Training Results - Epoch[58/1000] Loss : 3.627192806750084\n"
     ]
    },
    {
     "data": {
      "application/vnd.jupyter.widget-view+json": {
       "model_id": "",
       "version_major": 2,
       "version_minor": 0
      },
      "text/plain": [
       "HBox(children=(HTML(value=''), FloatProgress(value=0.0, max=13.0), HTML(value='')))"
      ]
     },
     "metadata": {},
     "output_type": "display_data"
    },
    {
     "data": {
      "application/vnd.jupyter.widget-view+json": {
       "model_id": "",
       "version_major": 2,
       "version_minor": 0
      },
      "text/plain": [
       "HBox(children=(HTML(value=''), FloatProgress(value=0.0, max=12.0), HTML(value='')))"
      ]
     },
     "metadata": {},
     "output_type": "display_data"
    },
    {
     "name": "stdout",
     "output_type": "stream",
     "text": [
      "Training Results - Epoch[59/1000] Loss : 4.098364260527975\n"
     ]
    },
    {
     "data": {
      "application/vnd.jupyter.widget-view+json": {
       "model_id": "",
       "version_major": 2,
       "version_minor": 0
      },
      "text/plain": [
       "HBox(children=(HTML(value=''), FloatProgress(value=0.0, max=13.0), HTML(value='')))"
      ]
     },
     "metadata": {},
     "output_type": "display_data"
    },
    {
     "data": {
      "application/vnd.jupyter.widget-view+json": {
       "model_id": "",
       "version_major": 2,
       "version_minor": 0
      },
      "text/plain": [
       "HBox(children=(HTML(value=''), FloatProgress(value=0.0, max=12.0), HTML(value='')))"
      ]
     },
     "metadata": {},
     "output_type": "display_data"
    },
    {
     "name": "stdout",
     "output_type": "stream",
     "text": [
      "Training Results - Epoch[60/1000] Loss : 3.743421166229092\n"
     ]
    },
    {
     "data": {
      "application/vnd.jupyter.widget-view+json": {
       "model_id": "",
       "version_major": 2,
       "version_minor": 0
      },
      "text/plain": [
       "HBox(children=(HTML(value=''), FloatProgress(value=0.0, max=13.0), HTML(value='')))"
      ]
     },
     "metadata": {},
     "output_type": "display_data"
    },
    {
     "data": {
      "application/vnd.jupyter.widget-view+json": {
       "model_id": "",
       "version_major": 2,
       "version_minor": 0
      },
      "text/plain": [
       "HBox(children=(HTML(value=''), FloatProgress(value=0.0, max=12.0), HTML(value='')))"
      ]
     },
     "metadata": {},
     "output_type": "display_data"
    },
    {
     "name": "stdout",
     "output_type": "stream",
     "text": [
      "Training Results - Epoch[61/1000] Loss : 3.539288911913797\n"
     ]
    },
    {
     "data": {
      "application/vnd.jupyter.widget-view+json": {
       "model_id": "",
       "version_major": 2,
       "version_minor": 0
      },
      "text/plain": [
       "HBox(children=(HTML(value=''), FloatProgress(value=0.0, max=13.0), HTML(value='')))"
      ]
     },
     "metadata": {},
     "output_type": "display_data"
    },
    {
     "data": {
      "application/vnd.jupyter.widget-view+json": {
       "model_id": "",
       "version_major": 2,
       "version_minor": 0
      },
      "text/plain": [
       "HBox(children=(HTML(value=''), FloatProgress(value=0.0, max=12.0), HTML(value='')))"
      ]
     },
     "metadata": {},
     "output_type": "display_data"
    },
    {
     "name": "stdout",
     "output_type": "stream",
     "text": [
      "Training Results - Epoch[62/1000] Loss : 6.673412799623374\n"
     ]
    },
    {
     "data": {
      "application/vnd.jupyter.widget-view+json": {
       "model_id": "",
       "version_major": 2,
       "version_minor": 0
      },
      "text/plain": [
       "HBox(children=(HTML(value=''), FloatProgress(value=0.0, max=13.0), HTML(value='')))"
      ]
     },
     "metadata": {},
     "output_type": "display_data"
    },
    {
     "data": {
      "application/vnd.jupyter.widget-view+json": {
       "model_id": "",
       "version_major": 2,
       "version_minor": 0
      },
      "text/plain": [
       "HBox(children=(HTML(value=''), FloatProgress(value=0.0, max=12.0), HTML(value='')))"
      ]
     },
     "metadata": {},
     "output_type": "display_data"
    },
    {
     "name": "stdout",
     "output_type": "stream",
     "text": [
      "Training Results - Epoch[63/1000] Loss : 4.267560407428379\n"
     ]
    },
    {
     "data": {
      "application/vnd.jupyter.widget-view+json": {
       "model_id": "",
       "version_major": 2,
       "version_minor": 0
      },
      "text/plain": [
       "HBox(children=(HTML(value=''), FloatProgress(value=0.0, max=13.0), HTML(value='')))"
      ]
     },
     "metadata": {},
     "output_type": "display_data"
    },
    {
     "data": {
      "application/vnd.jupyter.widget-view+json": {
       "model_id": "",
       "version_major": 2,
       "version_minor": 0
      },
      "text/plain": [
       "HBox(children=(HTML(value=''), FloatProgress(value=0.0, max=12.0), HTML(value='')))"
      ]
     },
     "metadata": {},
     "output_type": "display_data"
    },
    {
     "name": "stdout",
     "output_type": "stream",
     "text": [
      "Training Results - Epoch[64/1000] Loss : 3.5793620627195213\n"
     ]
    },
    {
     "data": {
      "application/vnd.jupyter.widget-view+json": {
       "model_id": "",
       "version_major": 2,
       "version_minor": 0
      },
      "text/plain": [
       "HBox(children=(HTML(value=''), FloatProgress(value=0.0, max=13.0), HTML(value='')))"
      ]
     },
     "metadata": {},
     "output_type": "display_data"
    },
    {
     "data": {
      "application/vnd.jupyter.widget-view+json": {
       "model_id": "",
       "version_major": 2,
       "version_minor": 0
      },
      "text/plain": [
       "HBox(children=(HTML(value=''), FloatProgress(value=0.0, max=12.0), HTML(value='')))"
      ]
     },
     "metadata": {},
     "output_type": "display_data"
    },
    {
     "name": "stdout",
     "output_type": "stream",
     "text": [
      "Training Results - Epoch[65/1000] Loss : 3.2717248616910153\n"
     ]
    },
    {
     "data": {
      "application/vnd.jupyter.widget-view+json": {
       "model_id": "",
       "version_major": 2,
       "version_minor": 0
      },
      "text/plain": [
       "HBox(children=(HTML(value=''), FloatProgress(value=0.0, max=13.0), HTML(value='')))"
      ]
     },
     "metadata": {},
     "output_type": "display_data"
    },
    {
     "data": {
      "application/vnd.jupyter.widget-view+json": {
       "model_id": "",
       "version_major": 2,
       "version_minor": 0
      },
      "text/plain": [
       "HBox(children=(HTML(value=''), FloatProgress(value=0.0, max=12.0), HTML(value='')))"
      ]
     },
     "metadata": {},
     "output_type": "display_data"
    },
    {
     "name": "stdout",
     "output_type": "stream",
     "text": [
      "Training Results - Epoch[66/1000] Loss : 3.2598779964939317\n"
     ]
    },
    {
     "data": {
      "application/vnd.jupyter.widget-view+json": {
       "model_id": "",
       "version_major": 2,
       "version_minor": 0
      },
      "text/plain": [
       "HBox(children=(HTML(value=''), FloatProgress(value=0.0, max=13.0), HTML(value='')))"
      ]
     },
     "metadata": {},
     "output_type": "display_data"
    },
    {
     "data": {
      "application/vnd.jupyter.widget-view+json": {
       "model_id": "",
       "version_major": 2,
       "version_minor": 0
      },
      "text/plain": [
       "HBox(children=(HTML(value=''), FloatProgress(value=0.0, max=12.0), HTML(value='')))"
      ]
     },
     "metadata": {},
     "output_type": "display_data"
    },
    {
     "name": "stdout",
     "output_type": "stream",
     "text": [
      "Training Results - Epoch[67/1000] Loss : 4.978395517338571\n"
     ]
    },
    {
     "data": {
      "application/vnd.jupyter.widget-view+json": {
       "model_id": "",
       "version_major": 2,
       "version_minor": 0
      },
      "text/plain": [
       "HBox(children=(HTML(value=''), FloatProgress(value=0.0, max=13.0), HTML(value='')))"
      ]
     },
     "metadata": {},
     "output_type": "display_data"
    },
    {
     "data": {
      "application/vnd.jupyter.widget-view+json": {
       "model_id": "",
       "version_major": 2,
       "version_minor": 0
      },
      "text/plain": [
       "HBox(children=(HTML(value=''), FloatProgress(value=0.0, max=12.0), HTML(value='')))"
      ]
     },
     "metadata": {},
     "output_type": "display_data"
    },
    {
     "name": "stdout",
     "output_type": "stream",
     "text": [
      "Training Results - Epoch[68/1000] Loss : 2.8846884254537333\n"
     ]
    },
    {
     "data": {
      "application/vnd.jupyter.widget-view+json": {
       "model_id": "",
       "version_major": 2,
       "version_minor": 0
      },
      "text/plain": [
       "HBox(children=(HTML(value=''), FloatProgress(value=0.0, max=13.0), HTML(value='')))"
      ]
     },
     "metadata": {},
     "output_type": "display_data"
    },
    {
     "data": {
      "application/vnd.jupyter.widget-view+json": {
       "model_id": "",
       "version_major": 2,
       "version_minor": 0
      },
      "text/plain": [
       "HBox(children=(HTML(value=''), FloatProgress(value=0.0, max=12.0), HTML(value='')))"
      ]
     },
     "metadata": {},
     "output_type": "display_data"
    },
    {
     "name": "stdout",
     "output_type": "stream",
     "text": [
      "Training Results - Epoch[69/1000] Loss : 4.148030151131201\n"
     ]
    },
    {
     "data": {
      "application/vnd.jupyter.widget-view+json": {
       "model_id": "",
       "version_major": 2,
       "version_minor": 0
      },
      "text/plain": [
       "HBox(children=(HTML(value=''), FloatProgress(value=0.0, max=13.0), HTML(value='')))"
      ]
     },
     "metadata": {},
     "output_type": "display_data"
    },
    {
     "data": {
      "application/vnd.jupyter.widget-view+json": {
       "model_id": "",
       "version_major": 2,
       "version_minor": 0
      },
      "text/plain": [
       "HBox(children=(HTML(value=''), FloatProgress(value=0.0, max=12.0), HTML(value='')))"
      ]
     },
     "metadata": {},
     "output_type": "display_data"
    },
    {
     "name": "stdout",
     "output_type": "stream",
     "text": [
      "Training Results - Epoch[70/1000] Loss : 4.040168217071365\n"
     ]
    },
    {
     "data": {
      "application/vnd.jupyter.widget-view+json": {
       "model_id": "",
       "version_major": 2,
       "version_minor": 0
      },
      "text/plain": [
       "HBox(children=(HTML(value=''), FloatProgress(value=0.0, max=13.0), HTML(value='')))"
      ]
     },
     "metadata": {},
     "output_type": "display_data"
    },
    {
     "data": {
      "application/vnd.jupyter.widget-view+json": {
       "model_id": "",
       "version_major": 2,
       "version_minor": 0
      },
      "text/plain": [
       "HBox(children=(HTML(value=''), FloatProgress(value=0.0, max=12.0), HTML(value='')))"
      ]
     },
     "metadata": {},
     "output_type": "display_data"
    },
    {
     "name": "stdout",
     "output_type": "stream",
     "text": [
      "Training Results - Epoch[71/1000] Loss : 4.058019711357267\n"
     ]
    },
    {
     "data": {
      "application/vnd.jupyter.widget-view+json": {
       "model_id": "",
       "version_major": 2,
       "version_minor": 0
      },
      "text/plain": [
       "HBox(children=(HTML(value=''), FloatProgress(value=0.0, max=13.0), HTML(value='')))"
      ]
     },
     "metadata": {},
     "output_type": "display_data"
    },
    {
     "data": {
      "application/vnd.jupyter.widget-view+json": {
       "model_id": "",
       "version_major": 2,
       "version_minor": 0
      },
      "text/plain": [
       "HBox(children=(HTML(value=''), FloatProgress(value=0.0, max=12.0), HTML(value='')))"
      ]
     },
     "metadata": {},
     "output_type": "display_data"
    },
    {
     "name": "stdout",
     "output_type": "stream",
     "text": [
      "Training Results - Epoch[72/1000] Loss : 3.4577283748367127\n"
     ]
    },
    {
     "data": {
      "application/vnd.jupyter.widget-view+json": {
       "model_id": "",
       "version_major": 2,
       "version_minor": 0
      },
      "text/plain": [
       "HBox(children=(HTML(value=''), FloatProgress(value=0.0, max=13.0), HTML(value='')))"
      ]
     },
     "metadata": {},
     "output_type": "display_data"
    },
    {
     "data": {
      "application/vnd.jupyter.widget-view+json": {
       "model_id": "",
       "version_major": 2,
       "version_minor": 0
      },
      "text/plain": [
       "HBox(children=(HTML(value=''), FloatProgress(value=0.0, max=12.0), HTML(value='')))"
      ]
     },
     "metadata": {},
     "output_type": "display_data"
    },
    {
     "name": "stdout",
     "output_type": "stream",
     "text": [
      "Training Results - Epoch[73/1000] Loss : 4.704504453796355\n"
     ]
    },
    {
     "data": {
      "application/vnd.jupyter.widget-view+json": {
       "model_id": "",
       "version_major": 2,
       "version_minor": 0
      },
      "text/plain": [
       "HBox(children=(HTML(value=''), FloatProgress(value=0.0, max=13.0), HTML(value='')))"
      ]
     },
     "metadata": {},
     "output_type": "display_data"
    },
    {
     "data": {
      "application/vnd.jupyter.widget-view+json": {
       "model_id": "",
       "version_major": 2,
       "version_minor": 0
      },
      "text/plain": [
       "HBox(children=(HTML(value=''), FloatProgress(value=0.0, max=12.0), HTML(value='')))"
      ]
     },
     "metadata": {},
     "output_type": "display_data"
    },
    {
     "name": "stdout",
     "output_type": "stream",
     "text": [
      "Training Results - Epoch[74/1000] Loss : 3.747742454336066\n"
     ]
    },
    {
     "data": {
      "application/vnd.jupyter.widget-view+json": {
       "model_id": "",
       "version_major": 2,
       "version_minor": 0
      },
      "text/plain": [
       "HBox(children=(HTML(value=''), FloatProgress(value=0.0, max=13.0), HTML(value='')))"
      ]
     },
     "metadata": {},
     "output_type": "display_data"
    },
    {
     "data": {
      "application/vnd.jupyter.widget-view+json": {
       "model_id": "",
       "version_major": 2,
       "version_minor": 0
      },
      "text/plain": [
       "HBox(children=(HTML(value=''), FloatProgress(value=0.0, max=12.0), HTML(value='')))"
      ]
     },
     "metadata": {},
     "output_type": "display_data"
    },
    {
     "name": "stdout",
     "output_type": "stream",
     "text": [
      "Training Results - Epoch[75/1000] Loss : 3.2519201333118497\n"
     ]
    },
    {
     "data": {
      "application/vnd.jupyter.widget-view+json": {
       "model_id": "",
       "version_major": 2,
       "version_minor": 0
      },
      "text/plain": [
       "HBox(children=(HTML(value=''), FloatProgress(value=0.0, max=13.0), HTML(value='')))"
      ]
     },
     "metadata": {},
     "output_type": "display_data"
    },
    {
     "data": {
      "application/vnd.jupyter.widget-view+json": {
       "model_id": "",
       "version_major": 2,
       "version_minor": 0
      },
      "text/plain": [
       "HBox(children=(HTML(value=''), FloatProgress(value=0.0, max=12.0), HTML(value='')))"
      ]
     },
     "metadata": {},
     "output_type": "display_data"
    },
    {
     "name": "stdout",
     "output_type": "stream",
     "text": [
      "Training Results - Epoch[76/1000] Loss : 3.764761532001978\n"
     ]
    },
    {
     "data": {
      "application/vnd.jupyter.widget-view+json": {
       "model_id": "",
       "version_major": 2,
       "version_minor": 0
      },
      "text/plain": [
       "HBox(children=(HTML(value=''), FloatProgress(value=0.0, max=13.0), HTML(value='')))"
      ]
     },
     "metadata": {},
     "output_type": "display_data"
    },
    {
     "data": {
      "application/vnd.jupyter.widget-view+json": {
       "model_id": "",
       "version_major": 2,
       "version_minor": 0
      },
      "text/plain": [
       "HBox(children=(HTML(value=''), FloatProgress(value=0.0, max=12.0), HTML(value='')))"
      ]
     },
     "metadata": {},
     "output_type": "display_data"
    },
    {
     "name": "stdout",
     "output_type": "stream",
     "text": [
      "Training Results - Epoch[77/1000] Loss : 3.706215669234558\n"
     ]
    },
    {
     "data": {
      "application/vnd.jupyter.widget-view+json": {
       "model_id": "",
       "version_major": 2,
       "version_minor": 0
      },
      "text/plain": [
       "HBox(children=(HTML(value=''), FloatProgress(value=0.0, max=13.0), HTML(value='')))"
      ]
     },
     "metadata": {},
     "output_type": "display_data"
    },
    {
     "data": {
      "application/vnd.jupyter.widget-view+json": {
       "model_id": "",
       "version_major": 2,
       "version_minor": 0
      },
      "text/plain": [
       "HBox(children=(HTML(value=''), FloatProgress(value=0.0, max=12.0), HTML(value='')))"
      ]
     },
     "metadata": {},
     "output_type": "display_data"
    },
    {
     "name": "stdout",
     "output_type": "stream",
     "text": [
      "Training Results - Epoch[78/1000] Loss : 5.408511684887977\n"
     ]
    },
    {
     "data": {
      "application/vnd.jupyter.widget-view+json": {
       "model_id": "",
       "version_major": 2,
       "version_minor": 0
      },
      "text/plain": [
       "HBox(children=(HTML(value=''), FloatProgress(value=0.0, max=13.0), HTML(value='')))"
      ]
     },
     "metadata": {},
     "output_type": "display_data"
    },
    {
     "data": {
      "application/vnd.jupyter.widget-view+json": {
       "model_id": "",
       "version_major": 2,
       "version_minor": 0
      },
      "text/plain": [
       "HBox(children=(HTML(value=''), FloatProgress(value=0.0, max=12.0), HTML(value='')))"
      ]
     },
     "metadata": {},
     "output_type": "display_data"
    },
    {
     "name": "stdout",
     "output_type": "stream",
     "text": [
      "Training Results - Epoch[79/1000] Loss : 3.468124961241799\n"
     ]
    },
    {
     "data": {
      "application/vnd.jupyter.widget-view+json": {
       "model_id": "",
       "version_major": 2,
       "version_minor": 0
      },
      "text/plain": [
       "HBox(children=(HTML(value=''), FloatProgress(value=0.0, max=13.0), HTML(value='')))"
      ]
     },
     "metadata": {},
     "output_type": "display_data"
    },
    {
     "data": {
      "application/vnd.jupyter.widget-view+json": {
       "model_id": "",
       "version_major": 2,
       "version_minor": 0
      },
      "text/plain": [
       "HBox(children=(HTML(value=''), FloatProgress(value=0.0, max=12.0), HTML(value='')))"
      ]
     },
     "metadata": {},
     "output_type": "display_data"
    },
    {
     "name": "stdout",
     "output_type": "stream",
     "text": [
      "Training Results - Epoch[80/1000] Loss : 2.8878359378827483\n"
     ]
    },
    {
     "data": {
      "application/vnd.jupyter.widget-view+json": {
       "model_id": "",
       "version_major": 2,
       "version_minor": 0
      },
      "text/plain": [
       "HBox(children=(HTML(value=''), FloatProgress(value=0.0, max=13.0), HTML(value='')))"
      ]
     },
     "metadata": {},
     "output_type": "display_data"
    },
    {
     "data": {
      "application/vnd.jupyter.widget-view+json": {
       "model_id": "",
       "version_major": 2,
       "version_minor": 0
      },
      "text/plain": [
       "HBox(children=(HTML(value=''), FloatProgress(value=0.0, max=12.0), HTML(value='')))"
      ]
     },
     "metadata": {},
     "output_type": "display_data"
    },
    {
     "name": "stdout",
     "output_type": "stream",
     "text": [
      "Training Results - Epoch[81/1000] Loss : 3.3411322685967075\n"
     ]
    },
    {
     "data": {
      "application/vnd.jupyter.widget-view+json": {
       "model_id": "",
       "version_major": 2,
       "version_minor": 0
      },
      "text/plain": [
       "HBox(children=(HTML(value=''), FloatProgress(value=0.0, max=13.0), HTML(value='')))"
      ]
     },
     "metadata": {},
     "output_type": "display_data"
    },
    {
     "data": {
      "application/vnd.jupyter.widget-view+json": {
       "model_id": "",
       "version_major": 2,
       "version_minor": 0
      },
      "text/plain": [
       "HBox(children=(HTML(value=''), FloatProgress(value=0.0, max=12.0), HTML(value='')))"
      ]
     },
     "metadata": {},
     "output_type": "display_data"
    },
    {
     "name": "stdout",
     "output_type": "stream",
     "text": [
      "Training Results - Epoch[82/1000] Loss : 3.1531413233791854\n"
     ]
    },
    {
     "data": {
      "application/vnd.jupyter.widget-view+json": {
       "model_id": "",
       "version_major": 2,
       "version_minor": 0
      },
      "text/plain": [
       "HBox(children=(HTML(value=''), FloatProgress(value=0.0, max=13.0), HTML(value='')))"
      ]
     },
     "metadata": {},
     "output_type": "display_data"
    },
    {
     "data": {
      "application/vnd.jupyter.widget-view+json": {
       "model_id": "",
       "version_major": 2,
       "version_minor": 0
      },
      "text/plain": [
       "HBox(children=(HTML(value=''), FloatProgress(value=0.0, max=12.0), HTML(value='')))"
      ]
     },
     "metadata": {},
     "output_type": "display_data"
    },
    {
     "name": "stdout",
     "output_type": "stream",
     "text": [
      "Training Results - Epoch[83/1000] Loss : 3.416988172003045\n"
     ]
    },
    {
     "data": {
      "application/vnd.jupyter.widget-view+json": {
       "model_id": "",
       "version_major": 2,
       "version_minor": 0
      },
      "text/plain": [
       "HBox(children=(HTML(value=''), FloatProgress(value=0.0, max=13.0), HTML(value='')))"
      ]
     },
     "metadata": {},
     "output_type": "display_data"
    },
    {
     "data": {
      "application/vnd.jupyter.widget-view+json": {
       "model_id": "",
       "version_major": 2,
       "version_minor": 0
      },
      "text/plain": [
       "HBox(children=(HTML(value=''), FloatProgress(value=0.0, max=12.0), HTML(value='')))"
      ]
     },
     "metadata": {},
     "output_type": "display_data"
    },
    {
     "name": "stdout",
     "output_type": "stream",
     "text": [
      "Training Results - Epoch[84/1000] Loss : 4.100201730205431\n"
     ]
    },
    {
     "data": {
      "application/vnd.jupyter.widget-view+json": {
       "model_id": "",
       "version_major": 2,
       "version_minor": 0
      },
      "text/plain": [
       "HBox(children=(HTML(value=''), FloatProgress(value=0.0, max=13.0), HTML(value='')))"
      ]
     },
     "metadata": {},
     "output_type": "display_data"
    },
    {
     "data": {
      "application/vnd.jupyter.widget-view+json": {
       "model_id": "",
       "version_major": 2,
       "version_minor": 0
      },
      "text/plain": [
       "HBox(children=(HTML(value=''), FloatProgress(value=0.0, max=12.0), HTML(value='')))"
      ]
     },
     "metadata": {},
     "output_type": "display_data"
    },
    {
     "name": "stdout",
     "output_type": "stream",
     "text": [
      "Training Results - Epoch[85/1000] Loss : 3.2514817744407547\n"
     ]
    },
    {
     "data": {
      "application/vnd.jupyter.widget-view+json": {
       "model_id": "",
       "version_major": 2,
       "version_minor": 0
      },
      "text/plain": [
       "HBox(children=(HTML(value=''), FloatProgress(value=0.0, max=13.0), HTML(value='')))"
      ]
     },
     "metadata": {},
     "output_type": "display_data"
    },
    {
     "data": {
      "application/vnd.jupyter.widget-view+json": {
       "model_id": "",
       "version_major": 2,
       "version_minor": 0
      },
      "text/plain": [
       "HBox(children=(HTML(value=''), FloatProgress(value=0.0, max=12.0), HTML(value='')))"
      ]
     },
     "metadata": {},
     "output_type": "display_data"
    },
    {
     "name": "stdout",
     "output_type": "stream",
     "text": [
      "Training Results - Epoch[86/1000] Loss : 3.1732340348268417\n"
     ]
    },
    {
     "data": {
      "application/vnd.jupyter.widget-view+json": {
       "model_id": "",
       "version_major": 2,
       "version_minor": 0
      },
      "text/plain": [
       "HBox(children=(HTML(value=''), FloatProgress(value=0.0, max=13.0), HTML(value='')))"
      ]
     },
     "metadata": {},
     "output_type": "display_data"
    },
    {
     "data": {
      "application/vnd.jupyter.widget-view+json": {
       "model_id": "",
       "version_major": 2,
       "version_minor": 0
      },
      "text/plain": [
       "HBox(children=(HTML(value=''), FloatProgress(value=0.0, max=12.0), HTML(value='')))"
      ]
     },
     "metadata": {},
     "output_type": "display_data"
    },
    {
     "name": "stdout",
     "output_type": "stream",
     "text": [
      "Training Results - Epoch[87/1000] Loss : 3.2159027946475622\n"
     ]
    },
    {
     "data": {
      "application/vnd.jupyter.widget-view+json": {
       "model_id": "",
       "version_major": 2,
       "version_minor": 0
      },
      "text/plain": [
       "HBox(children=(HTML(value=''), FloatProgress(value=0.0, max=13.0), HTML(value='')))"
      ]
     },
     "metadata": {},
     "output_type": "display_data"
    },
    {
     "data": {
      "application/vnd.jupyter.widget-view+json": {
       "model_id": "",
       "version_major": 2,
       "version_minor": 0
      },
      "text/plain": [
       "HBox(children=(HTML(value=''), FloatProgress(value=0.0, max=12.0), HTML(value='')))"
      ]
     },
     "metadata": {},
     "output_type": "display_data"
    },
    {
     "name": "stdout",
     "output_type": "stream",
     "text": [
      "Training Results - Epoch[88/1000] Loss : 2.910403848378077\n"
     ]
    },
    {
     "data": {
      "application/vnd.jupyter.widget-view+json": {
       "model_id": "",
       "version_major": 2,
       "version_minor": 0
      },
      "text/plain": [
       "HBox(children=(HTML(value=''), FloatProgress(value=0.0, max=13.0), HTML(value='')))"
      ]
     },
     "metadata": {},
     "output_type": "display_data"
    },
    {
     "data": {
      "application/vnd.jupyter.widget-view+json": {
       "model_id": "",
       "version_major": 2,
       "version_minor": 0
      },
      "text/plain": [
       "HBox(children=(HTML(value=''), FloatProgress(value=0.0, max=12.0), HTML(value='')))"
      ]
     },
     "metadata": {},
     "output_type": "display_data"
    },
    {
     "name": "stdout",
     "output_type": "stream",
     "text": [
      "Training Results - Epoch[89/1000] Loss : 3.7766064997663094\n"
     ]
    },
    {
     "data": {
      "application/vnd.jupyter.widget-view+json": {
       "model_id": "",
       "version_major": 2,
       "version_minor": 0
      },
      "text/plain": [
       "HBox(children=(HTML(value=''), FloatProgress(value=0.0, max=13.0), HTML(value='')))"
      ]
     },
     "metadata": {},
     "output_type": "display_data"
    },
    {
     "data": {
      "application/vnd.jupyter.widget-view+json": {
       "model_id": "",
       "version_major": 2,
       "version_minor": 0
      },
      "text/plain": [
       "HBox(children=(HTML(value=''), FloatProgress(value=0.0, max=12.0), HTML(value='')))"
      ]
     },
     "metadata": {},
     "output_type": "display_data"
    },
    {
     "name": "stdout",
     "output_type": "stream",
     "text": [
      "Training Results - Epoch[90/1000] Loss : 3.4359283220686256\n"
     ]
    },
    {
     "data": {
      "application/vnd.jupyter.widget-view+json": {
       "model_id": "",
       "version_major": 2,
       "version_minor": 0
      },
      "text/plain": [
       "HBox(children=(HTML(value=''), FloatProgress(value=0.0, max=13.0), HTML(value='')))"
      ]
     },
     "metadata": {},
     "output_type": "display_data"
    },
    {
     "data": {
      "application/vnd.jupyter.widget-view+json": {
       "model_id": "",
       "version_major": 2,
       "version_minor": 0
      },
      "text/plain": [
       "HBox(children=(HTML(value=''), FloatProgress(value=0.0, max=12.0), HTML(value='')))"
      ]
     },
     "metadata": {},
     "output_type": "display_data"
    },
    {
     "name": "stdout",
     "output_type": "stream",
     "text": [
      "Training Results - Epoch[91/1000] Loss : 2.8570845527753295\n"
     ]
    },
    {
     "data": {
      "application/vnd.jupyter.widget-view+json": {
       "model_id": "",
       "version_major": 2,
       "version_minor": 0
      },
      "text/plain": [
       "HBox(children=(HTML(value=''), FloatProgress(value=0.0, max=13.0), HTML(value='')))"
      ]
     },
     "metadata": {},
     "output_type": "display_data"
    },
    {
     "data": {
      "application/vnd.jupyter.widget-view+json": {
       "model_id": "",
       "version_major": 2,
       "version_minor": 0
      },
      "text/plain": [
       "HBox(children=(HTML(value=''), FloatProgress(value=0.0, max=12.0), HTML(value='')))"
      ]
     },
     "metadata": {},
     "output_type": "display_data"
    },
    {
     "name": "stdout",
     "output_type": "stream",
     "text": [
      "Training Results - Epoch[92/1000] Loss : 2.5525333685930667\n"
     ]
    },
    {
     "data": {
      "application/vnd.jupyter.widget-view+json": {
       "model_id": "",
       "version_major": 2,
       "version_minor": 0
      },
      "text/plain": [
       "HBox(children=(HTML(value=''), FloatProgress(value=0.0, max=13.0), HTML(value='')))"
      ]
     },
     "metadata": {},
     "output_type": "display_data"
    },
    {
     "data": {
      "application/vnd.jupyter.widget-view+json": {
       "model_id": "",
       "version_major": 2,
       "version_minor": 0
      },
      "text/plain": [
       "HBox(children=(HTML(value=''), FloatProgress(value=0.0, max=12.0), HTML(value='')))"
      ]
     },
     "metadata": {},
     "output_type": "display_data"
    },
    {
     "name": "stdout",
     "output_type": "stream",
     "text": [
      "Training Results - Epoch[93/1000] Loss : 3.6524848117093884\n"
     ]
    },
    {
     "data": {
      "application/vnd.jupyter.widget-view+json": {
       "model_id": "",
       "version_major": 2,
       "version_minor": 0
      },
      "text/plain": [
       "HBox(children=(HTML(value=''), FloatProgress(value=0.0, max=13.0), HTML(value='')))"
      ]
     },
     "metadata": {},
     "output_type": "display_data"
    },
    {
     "data": {
      "application/vnd.jupyter.widget-view+json": {
       "model_id": "",
       "version_major": 2,
       "version_minor": 0
      },
      "text/plain": [
       "HBox(children=(HTML(value=''), FloatProgress(value=0.0, max=12.0), HTML(value='')))"
      ]
     },
     "metadata": {},
     "output_type": "display_data"
    },
    {
     "name": "stdout",
     "output_type": "stream",
     "text": [
      "Training Results - Epoch[94/1000] Loss : 3.763330390169987\n"
     ]
    },
    {
     "data": {
      "application/vnd.jupyter.widget-view+json": {
       "model_id": "",
       "version_major": 2,
       "version_minor": 0
      },
      "text/plain": [
       "HBox(children=(HTML(value=''), FloatProgress(value=0.0, max=13.0), HTML(value='')))"
      ]
     },
     "metadata": {},
     "output_type": "display_data"
    },
    {
     "data": {
      "application/vnd.jupyter.widget-view+json": {
       "model_id": "",
       "version_major": 2,
       "version_minor": 0
      },
      "text/plain": [
       "HBox(children=(HTML(value=''), FloatProgress(value=0.0, max=12.0), HTML(value='')))"
      ]
     },
     "metadata": {},
     "output_type": "display_data"
    },
    {
     "name": "stdout",
     "output_type": "stream",
     "text": [
      "Training Results - Epoch[95/1000] Loss : 3.3830904483562545\n"
     ]
    },
    {
     "data": {
      "application/vnd.jupyter.widget-view+json": {
       "model_id": "",
       "version_major": 2,
       "version_minor": 0
      },
      "text/plain": [
       "HBox(children=(HTML(value=''), FloatProgress(value=0.0, max=13.0), HTML(value='')))"
      ]
     },
     "metadata": {},
     "output_type": "display_data"
    },
    {
     "data": {
      "application/vnd.jupyter.widget-view+json": {
       "model_id": "",
       "version_major": 2,
       "version_minor": 0
      },
      "text/plain": [
       "HBox(children=(HTML(value=''), FloatProgress(value=0.0, max=12.0), HTML(value='')))"
      ]
     },
     "metadata": {},
     "output_type": "display_data"
    },
    {
     "name": "stdout",
     "output_type": "stream",
     "text": [
      "Training Results - Epoch[96/1000] Loss : 3.165427263065486\n"
     ]
    },
    {
     "data": {
      "application/vnd.jupyter.widget-view+json": {
       "model_id": "",
       "version_major": 2,
       "version_minor": 0
      },
      "text/plain": [
       "HBox(children=(HTML(value=''), FloatProgress(value=0.0, max=13.0), HTML(value='')))"
      ]
     },
     "metadata": {},
     "output_type": "display_data"
    },
    {
     "data": {
      "application/vnd.jupyter.widget-view+json": {
       "model_id": "",
       "version_major": 2,
       "version_minor": 0
      },
      "text/plain": [
       "HBox(children=(HTML(value=''), FloatProgress(value=0.0, max=12.0), HTML(value='')))"
      ]
     },
     "metadata": {},
     "output_type": "display_data"
    },
    {
     "name": "stdout",
     "output_type": "stream",
     "text": [
      "Training Results - Epoch[97/1000] Loss : 4.035663934715122\n"
     ]
    },
    {
     "data": {
      "application/vnd.jupyter.widget-view+json": {
       "model_id": "",
       "version_major": 2,
       "version_minor": 0
      },
      "text/plain": [
       "HBox(children=(HTML(value=''), FloatProgress(value=0.0, max=13.0), HTML(value='')))"
      ]
     },
     "metadata": {},
     "output_type": "display_data"
    },
    {
     "data": {
      "application/vnd.jupyter.widget-view+json": {
       "model_id": "",
       "version_major": 2,
       "version_minor": 0
      },
      "text/plain": [
       "HBox(children=(HTML(value=''), FloatProgress(value=0.0, max=12.0), HTML(value='')))"
      ]
     },
     "metadata": {},
     "output_type": "display_data"
    },
    {
     "name": "stdout",
     "output_type": "stream",
     "text": [
      "Training Results - Epoch[98/1000] Loss : 3.174130485857415\n"
     ]
    },
    {
     "data": {
      "application/vnd.jupyter.widget-view+json": {
       "model_id": "",
       "version_major": 2,
       "version_minor": 0
      },
      "text/plain": [
       "HBox(children=(HTML(value=''), FloatProgress(value=0.0, max=13.0), HTML(value='')))"
      ]
     },
     "metadata": {},
     "output_type": "display_data"
    },
    {
     "data": {
      "application/vnd.jupyter.widget-view+json": {
       "model_id": "",
       "version_major": 2,
       "version_minor": 0
      },
      "text/plain": [
       "HBox(children=(HTML(value=''), FloatProgress(value=0.0, max=12.0), HTML(value='')))"
      ]
     },
     "metadata": {},
     "output_type": "display_data"
    },
    {
     "name": "stdout",
     "output_type": "stream",
     "text": [
      "Training Results - Epoch[99/1000] Loss : 3.801022909673215\n"
     ]
    },
    {
     "data": {
      "application/vnd.jupyter.widget-view+json": {
       "model_id": "",
       "version_major": 2,
       "version_minor": 0
      },
      "text/plain": [
       "HBox(children=(HTML(value=''), FloatProgress(value=0.0, max=13.0), HTML(value='')))"
      ]
     },
     "metadata": {},
     "output_type": "display_data"
    },
    {
     "data": {
      "application/vnd.jupyter.widget-view+json": {
       "model_id": "",
       "version_major": 2,
       "version_minor": 0
      },
      "text/plain": [
       "HBox(children=(HTML(value=''), FloatProgress(value=0.0, max=12.0), HTML(value='')))"
      ]
     },
     "metadata": {},
     "output_type": "display_data"
    },
    {
     "name": "stdout",
     "output_type": "stream",
     "text": [
      "Training Results - Epoch[100/1000] Loss : 3.653724307439096\n"
     ]
    },
    {
     "data": {
      "application/vnd.jupyter.widget-view+json": {
       "model_id": "",
       "version_major": 2,
       "version_minor": 0
      },
      "text/plain": [
       "HBox(children=(HTML(value=''), FloatProgress(value=0.0, max=13.0), HTML(value='')))"
      ]
     },
     "metadata": {},
     "output_type": "display_data"
    },
    {
     "data": {
      "application/vnd.jupyter.widget-view+json": {
       "model_id": "",
       "version_major": 2,
       "version_minor": 0
      },
      "text/plain": [
       "HBox(children=(HTML(value=''), FloatProgress(value=0.0, max=12.0), HTML(value='')))"
      ]
     },
     "metadata": {},
     "output_type": "display_data"
    },
    {
     "name": "stdout",
     "output_type": "stream",
     "text": [
      "Training Results - Epoch[101/1000] Loss : 3.3124722240026356\n"
     ]
    },
    {
     "data": {
      "application/vnd.jupyter.widget-view+json": {
       "model_id": "",
       "version_major": 2,
       "version_minor": 0
      },
      "text/plain": [
       "HBox(children=(HTML(value=''), FloatProgress(value=0.0, max=13.0), HTML(value='')))"
      ]
     },
     "metadata": {},
     "output_type": "display_data"
    },
    {
     "data": {
      "application/vnd.jupyter.widget-view+json": {
       "model_id": "",
       "version_major": 2,
       "version_minor": 0
      },
      "text/plain": [
       "HBox(children=(HTML(value=''), FloatProgress(value=0.0, max=12.0), HTML(value='')))"
      ]
     },
     "metadata": {},
     "output_type": "display_data"
    },
    {
     "name": "stdout",
     "output_type": "stream",
     "text": [
      "Training Results - Epoch[102/1000] Loss : 4.908099396837845\n"
     ]
    },
    {
     "data": {
      "application/vnd.jupyter.widget-view+json": {
       "model_id": "",
       "version_major": 2,
       "version_minor": 0
      },
      "text/plain": [
       "HBox(children=(HTML(value=''), FloatProgress(value=0.0, max=13.0), HTML(value='')))"
      ]
     },
     "metadata": {},
     "output_type": "display_data"
    },
    {
     "data": {
      "application/vnd.jupyter.widget-view+json": {
       "model_id": "",
       "version_major": 2,
       "version_minor": 0
      },
      "text/plain": [
       "HBox(children=(HTML(value=''), FloatProgress(value=0.0, max=12.0), HTML(value='')))"
      ]
     },
     "metadata": {},
     "output_type": "display_data"
    },
    {
     "name": "stdout",
     "output_type": "stream",
     "text": [
      "Training Results - Epoch[103/1000] Loss : 3.579771017429406\n"
     ]
    },
    {
     "data": {
      "application/vnd.jupyter.widget-view+json": {
       "model_id": "",
       "version_major": 2,
       "version_minor": 0
      },
      "text/plain": [
       "HBox(children=(HTML(value=''), FloatProgress(value=0.0, max=13.0), HTML(value='')))"
      ]
     },
     "metadata": {},
     "output_type": "display_data"
    },
    {
     "data": {
      "application/vnd.jupyter.widget-view+json": {
       "model_id": "",
       "version_major": 2,
       "version_minor": 0
      },
      "text/plain": [
       "HBox(children=(HTML(value=''), FloatProgress(value=0.0, max=12.0), HTML(value='')))"
      ]
     },
     "metadata": {},
     "output_type": "display_data"
    },
    {
     "name": "stdout",
     "output_type": "stream",
     "text": [
      "Training Results - Epoch[104/1000] Loss : 3.2102870483316894\n"
     ]
    },
    {
     "data": {
      "application/vnd.jupyter.widget-view+json": {
       "model_id": "",
       "version_major": 2,
       "version_minor": 0
      },
      "text/plain": [
       "HBox(children=(HTML(value=''), FloatProgress(value=0.0, max=13.0), HTML(value='')))"
      ]
     },
     "metadata": {},
     "output_type": "display_data"
    },
    {
     "data": {
      "application/vnd.jupyter.widget-view+json": {
       "model_id": "",
       "version_major": 2,
       "version_minor": 0
      },
      "text/plain": [
       "HBox(children=(HTML(value=''), FloatProgress(value=0.0, max=12.0), HTML(value='')))"
      ]
     },
     "metadata": {},
     "output_type": "display_data"
    },
    {
     "name": "stdout",
     "output_type": "stream",
     "text": [
      "Training Results - Epoch[105/1000] Loss : 4.2823735447764895\n"
     ]
    },
    {
     "data": {
      "application/vnd.jupyter.widget-view+json": {
       "model_id": "",
       "version_major": 2,
       "version_minor": 0
      },
      "text/plain": [
       "HBox(children=(HTML(value=''), FloatProgress(value=0.0, max=13.0), HTML(value='')))"
      ]
     },
     "metadata": {},
     "output_type": "display_data"
    },
    {
     "data": {
      "application/vnd.jupyter.widget-view+json": {
       "model_id": "",
       "version_major": 2,
       "version_minor": 0
      },
      "text/plain": [
       "HBox(children=(HTML(value=''), FloatProgress(value=0.0, max=12.0), HTML(value='')))"
      ]
     },
     "metadata": {},
     "output_type": "display_data"
    },
    {
     "name": "stdout",
     "output_type": "stream",
     "text": [
      "Training Results - Epoch[106/1000] Loss : 3.616092877067214\n"
     ]
    },
    {
     "data": {
      "application/vnd.jupyter.widget-view+json": {
       "model_id": "",
       "version_major": 2,
       "version_minor": 0
      },
      "text/plain": [
       "HBox(children=(HTML(value=''), FloatProgress(value=0.0, max=13.0), HTML(value='')))"
      ]
     },
     "metadata": {},
     "output_type": "display_data"
    },
    {
     "data": {
      "application/vnd.jupyter.widget-view+json": {
       "model_id": "",
       "version_major": 2,
       "version_minor": 0
      },
      "text/plain": [
       "HBox(children=(HTML(value=''), FloatProgress(value=0.0, max=12.0), HTML(value='')))"
      ]
     },
     "metadata": {},
     "output_type": "display_data"
    },
    {
     "name": "stdout",
     "output_type": "stream",
     "text": [
      "Training Results - Epoch[107/1000] Loss : 4.441533668718858\n"
     ]
    },
    {
     "data": {
      "application/vnd.jupyter.widget-view+json": {
       "model_id": "",
       "version_major": 2,
       "version_minor": 0
      },
      "text/plain": [
       "HBox(children=(HTML(value=''), FloatProgress(value=0.0, max=13.0), HTML(value='')))"
      ]
     },
     "metadata": {},
     "output_type": "display_data"
    },
    {
     "data": {
      "application/vnd.jupyter.widget-view+json": {
       "model_id": "",
       "version_major": 2,
       "version_minor": 0
      },
      "text/plain": [
       "HBox(children=(HTML(value=''), FloatProgress(value=0.0, max=12.0), HTML(value='')))"
      ]
     },
     "metadata": {},
     "output_type": "display_data"
    },
    {
     "name": "stdout",
     "output_type": "stream",
     "text": [
      "Training Results - Epoch[108/1000] Loss : 3.2804179933949147\n"
     ]
    },
    {
     "data": {
      "application/vnd.jupyter.widget-view+json": {
       "model_id": "",
       "version_major": 2,
       "version_minor": 0
      },
      "text/plain": [
       "HBox(children=(HTML(value=''), FloatProgress(value=0.0, max=13.0), HTML(value='')))"
      ]
     },
     "metadata": {},
     "output_type": "display_data"
    },
    {
     "data": {
      "application/vnd.jupyter.widget-view+json": {
       "model_id": "",
       "version_major": 2,
       "version_minor": 0
      },
      "text/plain": [
       "HBox(children=(HTML(value=''), FloatProgress(value=0.0, max=12.0), HTML(value='')))"
      ]
     },
     "metadata": {},
     "output_type": "display_data"
    },
    {
     "name": "stdout",
     "output_type": "stream",
     "text": [
      "Training Results - Epoch[109/1000] Loss : 4.008802470430253\n"
     ]
    },
    {
     "data": {
      "application/vnd.jupyter.widget-view+json": {
       "model_id": "",
       "version_major": 2,
       "version_minor": 0
      },
      "text/plain": [
       "HBox(children=(HTML(value=''), FloatProgress(value=0.0, max=13.0), HTML(value='')))"
      ]
     },
     "metadata": {},
     "output_type": "display_data"
    },
    {
     "data": {
      "application/vnd.jupyter.widget-view+json": {
       "model_id": "",
       "version_major": 2,
       "version_minor": 0
      },
      "text/plain": [
       "HBox(children=(HTML(value=''), FloatProgress(value=0.0, max=12.0), HTML(value='')))"
      ]
     },
     "metadata": {},
     "output_type": "display_data"
    },
    {
     "name": "stdout",
     "output_type": "stream",
     "text": [
      "Training Results - Epoch[110/1000] Loss : 4.259749738468861\n"
     ]
    },
    {
     "data": {
      "application/vnd.jupyter.widget-view+json": {
       "model_id": "",
       "version_major": 2,
       "version_minor": 0
      },
      "text/plain": [
       "HBox(children=(HTML(value=''), FloatProgress(value=0.0, max=13.0), HTML(value='')))"
      ]
     },
     "metadata": {},
     "output_type": "display_data"
    },
    {
     "data": {
      "application/vnd.jupyter.widget-view+json": {
       "model_id": "",
       "version_major": 2,
       "version_minor": 0
      },
      "text/plain": [
       "HBox(children=(HTML(value=''), FloatProgress(value=0.0, max=12.0), HTML(value='')))"
      ]
     },
     "metadata": {},
     "output_type": "display_data"
    },
    {
     "name": "stdout",
     "output_type": "stream",
     "text": [
      "Training Results - Epoch[111/1000] Loss : 3.5793659136416864\n"
     ]
    },
    {
     "data": {
      "application/vnd.jupyter.widget-view+json": {
       "model_id": "",
       "version_major": 2,
       "version_minor": 0
      },
      "text/plain": [
       "HBox(children=(HTML(value=''), FloatProgress(value=0.0, max=13.0), HTML(value='')))"
      ]
     },
     "metadata": {},
     "output_type": "display_data"
    },
    {
     "data": {
      "application/vnd.jupyter.widget-view+json": {
       "model_id": "",
       "version_major": 2,
       "version_minor": 0
      },
      "text/plain": [
       "HBox(children=(HTML(value=''), FloatProgress(value=0.0, max=12.0), HTML(value='')))"
      ]
     },
     "metadata": {},
     "output_type": "display_data"
    },
    {
     "name": "stdout",
     "output_type": "stream",
     "text": [
      "Training Results - Epoch[112/1000] Loss : 3.2910259463741967\n"
     ]
    },
    {
     "data": {
      "application/vnd.jupyter.widget-view+json": {
       "model_id": "",
       "version_major": 2,
       "version_minor": 0
      },
      "text/plain": [
       "HBox(children=(HTML(value=''), FloatProgress(value=0.0, max=13.0), HTML(value='')))"
      ]
     },
     "metadata": {},
     "output_type": "display_data"
    },
    {
     "data": {
      "application/vnd.jupyter.widget-view+json": {
       "model_id": "",
       "version_major": 2,
       "version_minor": 0
      },
      "text/plain": [
       "HBox(children=(HTML(value=''), FloatProgress(value=0.0, max=12.0), HTML(value='')))"
      ]
     },
     "metadata": {},
     "output_type": "display_data"
    },
    {
     "name": "stdout",
     "output_type": "stream",
     "text": [
      "Training Results - Epoch[113/1000] Loss : 3.6731039467524247\n"
     ]
    },
    {
     "data": {
      "application/vnd.jupyter.widget-view+json": {
       "model_id": "",
       "version_major": 2,
       "version_minor": 0
      },
      "text/plain": [
       "HBox(children=(HTML(value=''), FloatProgress(value=0.0, max=13.0), HTML(value='')))"
      ]
     },
     "metadata": {},
     "output_type": "display_data"
    },
    {
     "data": {
      "application/vnd.jupyter.widget-view+json": {
       "model_id": "",
       "version_major": 2,
       "version_minor": 0
      },
      "text/plain": [
       "HBox(children=(HTML(value=''), FloatProgress(value=0.0, max=12.0), HTML(value='')))"
      ]
     },
     "metadata": {},
     "output_type": "display_data"
    },
    {
     "name": "stdout",
     "output_type": "stream",
     "text": [
      "Training Results - Epoch[114/1000] Loss : 3.7570466973336676\n"
     ]
    },
    {
     "data": {
      "application/vnd.jupyter.widget-view+json": {
       "model_id": "",
       "version_major": 2,
       "version_minor": 0
      },
      "text/plain": [
       "HBox(children=(HTML(value=''), FloatProgress(value=0.0, max=13.0), HTML(value='')))"
      ]
     },
     "metadata": {},
     "output_type": "display_data"
    },
    {
     "data": {
      "application/vnd.jupyter.widget-view+json": {
       "model_id": "",
       "version_major": 2,
       "version_minor": 0
      },
      "text/plain": [
       "HBox(children=(HTML(value=''), FloatProgress(value=0.0, max=12.0), HTML(value='')))"
      ]
     },
     "metadata": {},
     "output_type": "display_data"
    },
    {
     "name": "stdout",
     "output_type": "stream",
     "text": [
      "Training Results - Epoch[115/1000] Loss : 4.136628482183899\n"
     ]
    },
    {
     "data": {
      "application/vnd.jupyter.widget-view+json": {
       "model_id": "",
       "version_major": 2,
       "version_minor": 0
      },
      "text/plain": [
       "HBox(children=(HTML(value=''), FloatProgress(value=0.0, max=13.0), HTML(value='')))"
      ]
     },
     "metadata": {},
     "output_type": "display_data"
    },
    {
     "data": {
      "application/vnd.jupyter.widget-view+json": {
       "model_id": "",
       "version_major": 2,
       "version_minor": 0
      },
      "text/plain": [
       "HBox(children=(HTML(value=''), FloatProgress(value=0.0, max=12.0), HTML(value='')))"
      ]
     },
     "metadata": {},
     "output_type": "display_data"
    },
    {
     "name": "stdout",
     "output_type": "stream",
     "text": [
      "Training Results - Epoch[116/1000] Loss : 4.0465972255650415\n"
     ]
    },
    {
     "data": {
      "application/vnd.jupyter.widget-view+json": {
       "model_id": "",
       "version_major": 2,
       "version_minor": 0
      },
      "text/plain": [
       "HBox(children=(HTML(value=''), FloatProgress(value=0.0, max=13.0), HTML(value='')))"
      ]
     },
     "metadata": {},
     "output_type": "display_data"
    },
    {
     "data": {
      "application/vnd.jupyter.widget-view+json": {
       "model_id": "",
       "version_major": 2,
       "version_minor": 0
      },
      "text/plain": [
       "HBox(children=(HTML(value=''), FloatProgress(value=0.0, max=12.0), HTML(value='')))"
      ]
     },
     "metadata": {},
     "output_type": "display_data"
    },
    {
     "name": "stdout",
     "output_type": "stream",
     "text": [
      "Training Results - Epoch[117/1000] Loss : 3.299100265311587\n"
     ]
    },
    {
     "data": {
      "application/vnd.jupyter.widget-view+json": {
       "model_id": "",
       "version_major": 2,
       "version_minor": 0
      },
      "text/plain": [
       "HBox(children=(HTML(value=''), FloatProgress(value=0.0, max=13.0), HTML(value='')))"
      ]
     },
     "metadata": {},
     "output_type": "display_data"
    },
    {
     "data": {
      "application/vnd.jupyter.widget-view+json": {
       "model_id": "",
       "version_major": 2,
       "version_minor": 0
      },
      "text/plain": [
       "HBox(children=(HTML(value=''), FloatProgress(value=0.0, max=12.0), HTML(value='')))"
      ]
     },
     "metadata": {},
     "output_type": "display_data"
    },
    {
     "name": "stdout",
     "output_type": "stream",
     "text": [
      "Training Results - Epoch[118/1000] Loss : 3.81804721298296\n"
     ]
    },
    {
     "data": {
      "application/vnd.jupyter.widget-view+json": {
       "model_id": "",
       "version_major": 2,
       "version_minor": 0
      },
      "text/plain": [
       "HBox(children=(HTML(value=''), FloatProgress(value=0.0, max=13.0), HTML(value='')))"
      ]
     },
     "metadata": {},
     "output_type": "display_data"
    },
    {
     "data": {
      "application/vnd.jupyter.widget-view+json": {
       "model_id": "",
       "version_major": 2,
       "version_minor": 0
      },
      "text/plain": [
       "HBox(children=(HTML(value=''), FloatProgress(value=0.0, max=12.0), HTML(value='')))"
      ]
     },
     "metadata": {},
     "output_type": "display_data"
    },
    {
     "name": "stdout",
     "output_type": "stream",
     "text": [
      "Training Results - Epoch[119/1000] Loss : 2.7965862753676376\n"
     ]
    },
    {
     "data": {
      "application/vnd.jupyter.widget-view+json": {
       "model_id": "",
       "version_major": 2,
       "version_minor": 0
      },
      "text/plain": [
       "HBox(children=(HTML(value=''), FloatProgress(value=0.0, max=13.0), HTML(value='')))"
      ]
     },
     "metadata": {},
     "output_type": "display_data"
    },
    {
     "data": {
      "application/vnd.jupyter.widget-view+json": {
       "model_id": "",
       "version_major": 2,
       "version_minor": 0
      },
      "text/plain": [
       "HBox(children=(HTML(value=''), FloatProgress(value=0.0, max=12.0), HTML(value='')))"
      ]
     },
     "metadata": {},
     "output_type": "display_data"
    },
    {
     "name": "stdout",
     "output_type": "stream",
     "text": [
      "Training Results - Epoch[120/1000] Loss : 3.3400839447221786\n"
     ]
    },
    {
     "data": {
      "application/vnd.jupyter.widget-view+json": {
       "model_id": "",
       "version_major": 2,
       "version_minor": 0
      },
      "text/plain": [
       "HBox(children=(HTML(value=''), FloatProgress(value=0.0, max=13.0), HTML(value='')))"
      ]
     },
     "metadata": {},
     "output_type": "display_data"
    },
    {
     "data": {
      "application/vnd.jupyter.widget-view+json": {
       "model_id": "",
       "version_major": 2,
       "version_minor": 0
      },
      "text/plain": [
       "HBox(children=(HTML(value=''), FloatProgress(value=0.0, max=12.0), HTML(value='')))"
      ]
     },
     "metadata": {},
     "output_type": "display_data"
    },
    {
     "name": "stdout",
     "output_type": "stream",
     "text": [
      "Training Results - Epoch[121/1000] Loss : 4.545827769105322\n"
     ]
    },
    {
     "data": {
      "application/vnd.jupyter.widget-view+json": {
       "model_id": "",
       "version_major": 2,
       "version_minor": 0
      },
      "text/plain": [
       "HBox(children=(HTML(value=''), FloatProgress(value=0.0, max=13.0), HTML(value='')))"
      ]
     },
     "metadata": {},
     "output_type": "display_data"
    },
    {
     "data": {
      "application/vnd.jupyter.widget-view+json": {
       "model_id": "",
       "version_major": 2,
       "version_minor": 0
      },
      "text/plain": [
       "HBox(children=(HTML(value=''), FloatProgress(value=0.0, max=12.0), HTML(value='')))"
      ]
     },
     "metadata": {},
     "output_type": "display_data"
    },
    {
     "name": "stdout",
     "output_type": "stream",
     "text": [
      "Training Results - Epoch[122/1000] Loss : 3.078509863940114\n"
     ]
    },
    {
     "data": {
      "application/vnd.jupyter.widget-view+json": {
       "model_id": "",
       "version_major": 2,
       "version_minor": 0
      },
      "text/plain": [
       "HBox(children=(HTML(value=''), FloatProgress(value=0.0, max=13.0), HTML(value='')))"
      ]
     },
     "metadata": {},
     "output_type": "display_data"
    },
    {
     "data": {
      "application/vnd.jupyter.widget-view+json": {
       "model_id": "",
       "version_major": 2,
       "version_minor": 0
      },
      "text/plain": [
       "HBox(children=(HTML(value=''), FloatProgress(value=0.0, max=12.0), HTML(value='')))"
      ]
     },
     "metadata": {},
     "output_type": "display_data"
    },
    {
     "name": "stdout",
     "output_type": "stream",
     "text": [
      "Training Results - Epoch[123/1000] Loss : 3.7209612595945334\n"
     ]
    },
    {
     "data": {
      "application/vnd.jupyter.widget-view+json": {
       "model_id": "",
       "version_major": 2,
       "version_minor": 0
      },
      "text/plain": [
       "HBox(children=(HTML(value=''), FloatProgress(value=0.0, max=13.0), HTML(value='')))"
      ]
     },
     "metadata": {},
     "output_type": "display_data"
    },
    {
     "data": {
      "application/vnd.jupyter.widget-view+json": {
       "model_id": "",
       "version_major": 2,
       "version_minor": 0
      },
      "text/plain": [
       "HBox(children=(HTML(value=''), FloatProgress(value=0.0, max=12.0), HTML(value='')))"
      ]
     },
     "metadata": {},
     "output_type": "display_data"
    },
    {
     "name": "stdout",
     "output_type": "stream",
     "text": [
      "Training Results - Epoch[124/1000] Loss : 2.7749149080539697\n"
     ]
    },
    {
     "data": {
      "application/vnd.jupyter.widget-view+json": {
       "model_id": "",
       "version_major": 2,
       "version_minor": 0
      },
      "text/plain": [
       "HBox(children=(HTML(value=''), FloatProgress(value=0.0, max=13.0), HTML(value='')))"
      ]
     },
     "metadata": {},
     "output_type": "display_data"
    },
    {
     "data": {
      "application/vnd.jupyter.widget-view+json": {
       "model_id": "",
       "version_major": 2,
       "version_minor": 0
      },
      "text/plain": [
       "HBox(children=(HTML(value=''), FloatProgress(value=0.0, max=12.0), HTML(value='')))"
      ]
     },
     "metadata": {},
     "output_type": "display_data"
    },
    {
     "name": "stdout",
     "output_type": "stream",
     "text": [
      "Training Results - Epoch[125/1000] Loss : 3.9084806301424315\n"
     ]
    },
    {
     "data": {
      "application/vnd.jupyter.widget-view+json": {
       "model_id": "",
       "version_major": 2,
       "version_minor": 0
      },
      "text/plain": [
       "HBox(children=(HTML(value=''), FloatProgress(value=0.0, max=13.0), HTML(value='')))"
      ]
     },
     "metadata": {},
     "output_type": "display_data"
    },
    {
     "data": {
      "application/vnd.jupyter.widget-view+json": {
       "model_id": "",
       "version_major": 2,
       "version_minor": 0
      },
      "text/plain": [
       "HBox(children=(HTML(value=''), FloatProgress(value=0.0, max=12.0), HTML(value='')))"
      ]
     },
     "metadata": {},
     "output_type": "display_data"
    },
    {
     "name": "stdout",
     "output_type": "stream",
     "text": [
      "Training Results - Epoch[126/1000] Loss : 4.463986744211156\n"
     ]
    },
    {
     "data": {
      "application/vnd.jupyter.widget-view+json": {
       "model_id": "",
       "version_major": 2,
       "version_minor": 0
      },
      "text/plain": [
       "HBox(children=(HTML(value=''), FloatProgress(value=0.0, max=13.0), HTML(value='')))"
      ]
     },
     "metadata": {},
     "output_type": "display_data"
    },
    {
     "data": {
      "application/vnd.jupyter.widget-view+json": {
       "model_id": "",
       "version_major": 2,
       "version_minor": 0
      },
      "text/plain": [
       "HBox(children=(HTML(value=''), FloatProgress(value=0.0, max=12.0), HTML(value='')))"
      ]
     },
     "metadata": {},
     "output_type": "display_data"
    },
    {
     "name": "stdout",
     "output_type": "stream",
     "text": [
      "Training Results - Epoch[127/1000] Loss : 3.3956887835884975\n"
     ]
    },
    {
     "data": {
      "application/vnd.jupyter.widget-view+json": {
       "model_id": "",
       "version_major": 2,
       "version_minor": 0
      },
      "text/plain": [
       "HBox(children=(HTML(value=''), FloatProgress(value=0.0, max=13.0), HTML(value='')))"
      ]
     },
     "metadata": {},
     "output_type": "display_data"
    },
    {
     "data": {
      "application/vnd.jupyter.widget-view+json": {
       "model_id": "",
       "version_major": 2,
       "version_minor": 0
      },
      "text/plain": [
       "HBox(children=(HTML(value=''), FloatProgress(value=0.0, max=12.0), HTML(value='')))"
      ]
     },
     "metadata": {},
     "output_type": "display_data"
    },
    {
     "name": "stdout",
     "output_type": "stream",
     "text": [
      "Training Results - Epoch[128/1000] Loss : 3.1901700908895885\n"
     ]
    },
    {
     "data": {
      "application/vnd.jupyter.widget-view+json": {
       "model_id": "",
       "version_major": 2,
       "version_minor": 0
      },
      "text/plain": [
       "HBox(children=(HTML(value=''), FloatProgress(value=0.0, max=13.0), HTML(value='')))"
      ]
     },
     "metadata": {},
     "output_type": "display_data"
    },
    {
     "data": {
      "application/vnd.jupyter.widget-view+json": {
       "model_id": "",
       "version_major": 2,
       "version_minor": 0
      },
      "text/plain": [
       "HBox(children=(HTML(value=''), FloatProgress(value=0.0, max=12.0), HTML(value='')))"
      ]
     },
     "metadata": {},
     "output_type": "display_data"
    },
    {
     "name": "stdout",
     "output_type": "stream",
     "text": [
      "Training Results - Epoch[129/1000] Loss : 2.861558804628632\n"
     ]
    },
    {
     "data": {
      "application/vnd.jupyter.widget-view+json": {
       "model_id": "",
       "version_major": 2,
       "version_minor": 0
      },
      "text/plain": [
       "HBox(children=(HTML(value=''), FloatProgress(value=0.0, max=13.0), HTML(value='')))"
      ]
     },
     "metadata": {},
     "output_type": "display_data"
    },
    {
     "data": {
      "application/vnd.jupyter.widget-view+json": {
       "model_id": "",
       "version_major": 2,
       "version_minor": 0
      },
      "text/plain": [
       "HBox(children=(HTML(value=''), FloatProgress(value=0.0, max=12.0), HTML(value='')))"
      ]
     },
     "metadata": {},
     "output_type": "display_data"
    },
    {
     "name": "stdout",
     "output_type": "stream",
     "text": [
      "Training Results - Epoch[130/1000] Loss : 3.3825914175312257\n"
     ]
    },
    {
     "data": {
      "application/vnd.jupyter.widget-view+json": {
       "model_id": "",
       "version_major": 2,
       "version_minor": 0
      },
      "text/plain": [
       "HBox(children=(HTML(value=''), FloatProgress(value=0.0, max=13.0), HTML(value='')))"
      ]
     },
     "metadata": {},
     "output_type": "display_data"
    },
    {
     "data": {
      "application/vnd.jupyter.widget-view+json": {
       "model_id": "",
       "version_major": 2,
       "version_minor": 0
      },
      "text/plain": [
       "HBox(children=(HTML(value=''), FloatProgress(value=0.0, max=12.0), HTML(value='')))"
      ]
     },
     "metadata": {},
     "output_type": "display_data"
    },
    {
     "name": "stdout",
     "output_type": "stream",
     "text": [
      "Training Results - Epoch[131/1000] Loss : 2.7999129158504585\n"
     ]
    },
    {
     "data": {
      "application/vnd.jupyter.widget-view+json": {
       "model_id": "",
       "version_major": 2,
       "version_minor": 0
      },
      "text/plain": [
       "HBox(children=(HTML(value=''), FloatProgress(value=0.0, max=13.0), HTML(value='')))"
      ]
     },
     "metadata": {},
     "output_type": "display_data"
    },
    {
     "data": {
      "application/vnd.jupyter.widget-view+json": {
       "model_id": "",
       "version_major": 2,
       "version_minor": 0
      },
      "text/plain": [
       "HBox(children=(HTML(value=''), FloatProgress(value=0.0, max=12.0), HTML(value='')))"
      ]
     },
     "metadata": {},
     "output_type": "display_data"
    },
    {
     "name": "stdout",
     "output_type": "stream",
     "text": [
      "Training Results - Epoch[132/1000] Loss : 3.307797505779598\n"
     ]
    },
    {
     "data": {
      "application/vnd.jupyter.widget-view+json": {
       "model_id": "",
       "version_major": 2,
       "version_minor": 0
      },
      "text/plain": [
       "HBox(children=(HTML(value=''), FloatProgress(value=0.0, max=13.0), HTML(value='')))"
      ]
     },
     "metadata": {},
     "output_type": "display_data"
    },
    {
     "data": {
      "application/vnd.jupyter.widget-view+json": {
       "model_id": "",
       "version_major": 2,
       "version_minor": 0
      },
      "text/plain": [
       "HBox(children=(HTML(value=''), FloatProgress(value=0.0, max=12.0), HTML(value='')))"
      ]
     },
     "metadata": {},
     "output_type": "display_data"
    },
    {
     "name": "stdout",
     "output_type": "stream",
     "text": [
      "Training Results - Epoch[133/1000] Loss : 2.5150696230889564\n"
     ]
    },
    {
     "data": {
      "application/vnd.jupyter.widget-view+json": {
       "model_id": "",
       "version_major": 2,
       "version_minor": 0
      },
      "text/plain": [
       "HBox(children=(HTML(value=''), FloatProgress(value=0.0, max=13.0), HTML(value='')))"
      ]
     },
     "metadata": {},
     "output_type": "display_data"
    },
    {
     "data": {
      "application/vnd.jupyter.widget-view+json": {
       "model_id": "",
       "version_major": 2,
       "version_minor": 0
      },
      "text/plain": [
       "HBox(children=(HTML(value=''), FloatProgress(value=0.0, max=12.0), HTML(value='')))"
      ]
     },
     "metadata": {},
     "output_type": "display_data"
    },
    {
     "name": "stdout",
     "output_type": "stream",
     "text": [
      "Training Results - Epoch[134/1000] Loss : 3.1645932949570845\n"
     ]
    },
    {
     "data": {
      "application/vnd.jupyter.widget-view+json": {
       "model_id": "",
       "version_major": 2,
       "version_minor": 0
      },
      "text/plain": [
       "HBox(children=(HTML(value=''), FloatProgress(value=0.0, max=13.0), HTML(value='')))"
      ]
     },
     "metadata": {},
     "output_type": "display_data"
    },
    {
     "data": {
      "application/vnd.jupyter.widget-view+json": {
       "model_id": "",
       "version_major": 2,
       "version_minor": 0
      },
      "text/plain": [
       "HBox(children=(HTML(value=''), FloatProgress(value=0.0, max=12.0), HTML(value='')))"
      ]
     },
     "metadata": {},
     "output_type": "display_data"
    },
    {
     "name": "stdout",
     "output_type": "stream",
     "text": [
      "Training Results - Epoch[135/1000] Loss : 2.8403320625937627\n"
     ]
    },
    {
     "data": {
      "application/vnd.jupyter.widget-view+json": {
       "model_id": "",
       "version_major": 2,
       "version_minor": 0
      },
      "text/plain": [
       "HBox(children=(HTML(value=''), FloatProgress(value=0.0, max=13.0), HTML(value='')))"
      ]
     },
     "metadata": {},
     "output_type": "display_data"
    },
    {
     "data": {
      "application/vnd.jupyter.widget-view+json": {
       "model_id": "",
       "version_major": 2,
       "version_minor": 0
      },
      "text/plain": [
       "HBox(children=(HTML(value=''), FloatProgress(value=0.0, max=12.0), HTML(value='')))"
      ]
     },
     "metadata": {},
     "output_type": "display_data"
    },
    {
     "name": "stdout",
     "output_type": "stream",
     "text": [
      "Training Results - Epoch[136/1000] Loss : 2.659063445225013\n"
     ]
    },
    {
     "data": {
      "application/vnd.jupyter.widget-view+json": {
       "model_id": "",
       "version_major": 2,
       "version_minor": 0
      },
      "text/plain": [
       "HBox(children=(HTML(value=''), FloatProgress(value=0.0, max=13.0), HTML(value='')))"
      ]
     },
     "metadata": {},
     "output_type": "display_data"
    },
    {
     "data": {
      "application/vnd.jupyter.widget-view+json": {
       "model_id": "",
       "version_major": 2,
       "version_minor": 0
      },
      "text/plain": [
       "HBox(children=(HTML(value=''), FloatProgress(value=0.0, max=12.0), HTML(value='')))"
      ]
     },
     "metadata": {},
     "output_type": "display_data"
    },
    {
     "name": "stdout",
     "output_type": "stream",
     "text": [
      "Training Results - Epoch[137/1000] Loss : 3.014391297141275\n"
     ]
    },
    {
     "data": {
      "application/vnd.jupyter.widget-view+json": {
       "model_id": "",
       "version_major": 2,
       "version_minor": 0
      },
      "text/plain": [
       "HBox(children=(HTML(value=''), FloatProgress(value=0.0, max=13.0), HTML(value='')))"
      ]
     },
     "metadata": {},
     "output_type": "display_data"
    },
    {
     "data": {
      "application/vnd.jupyter.widget-view+json": {
       "model_id": "",
       "version_major": 2,
       "version_minor": 0
      },
      "text/plain": [
       "HBox(children=(HTML(value=''), FloatProgress(value=0.0, max=12.0), HTML(value='')))"
      ]
     },
     "metadata": {},
     "output_type": "display_data"
    },
    {
     "name": "stdout",
     "output_type": "stream",
     "text": [
      "Training Results - Epoch[138/1000] Loss : 2.787135881952438\n"
     ]
    },
    {
     "data": {
      "application/vnd.jupyter.widget-view+json": {
       "model_id": "",
       "version_major": 2,
       "version_minor": 0
      },
      "text/plain": [
       "HBox(children=(HTML(value=''), FloatProgress(value=0.0, max=13.0), HTML(value='')))"
      ]
     },
     "metadata": {},
     "output_type": "display_data"
    },
    {
     "data": {
      "application/vnd.jupyter.widget-view+json": {
       "model_id": "",
       "version_major": 2,
       "version_minor": 0
      },
      "text/plain": [
       "HBox(children=(HTML(value=''), FloatProgress(value=0.0, max=12.0), HTML(value='')))"
      ]
     },
     "metadata": {},
     "output_type": "display_data"
    },
    {
     "name": "stdout",
     "output_type": "stream",
     "text": [
      "Training Results - Epoch[139/1000] Loss : 3.22341983903185\n"
     ]
    },
    {
     "data": {
      "application/vnd.jupyter.widget-view+json": {
       "model_id": "",
       "version_major": 2,
       "version_minor": 0
      },
      "text/plain": [
       "HBox(children=(HTML(value=''), FloatProgress(value=0.0, max=13.0), HTML(value='')))"
      ]
     },
     "metadata": {},
     "output_type": "display_data"
    },
    {
     "data": {
      "application/vnd.jupyter.widget-view+json": {
       "model_id": "",
       "version_major": 2,
       "version_minor": 0
      },
      "text/plain": [
       "HBox(children=(HTML(value=''), FloatProgress(value=0.0, max=12.0), HTML(value='')))"
      ]
     },
     "metadata": {},
     "output_type": "display_data"
    },
    {
     "name": "stdout",
     "output_type": "stream",
     "text": [
      "Training Results - Epoch[140/1000] Loss : 2.2468208272013164\n"
     ]
    },
    {
     "data": {
      "application/vnd.jupyter.widget-view+json": {
       "model_id": "",
       "version_major": 2,
       "version_minor": 0
      },
      "text/plain": [
       "HBox(children=(HTML(value=''), FloatProgress(value=0.0, max=13.0), HTML(value='')))"
      ]
     },
     "metadata": {},
     "output_type": "display_data"
    },
    {
     "data": {
      "application/vnd.jupyter.widget-view+json": {
       "model_id": "",
       "version_major": 2,
       "version_minor": 0
      },
      "text/plain": [
       "HBox(children=(HTML(value=''), FloatProgress(value=0.0, max=12.0), HTML(value='')))"
      ]
     },
     "metadata": {},
     "output_type": "display_data"
    },
    {
     "name": "stdout",
     "output_type": "stream",
     "text": [
      "Training Results - Epoch[141/1000] Loss : 2.5710400387098127\n"
     ]
    },
    {
     "data": {
      "application/vnd.jupyter.widget-view+json": {
       "model_id": "",
       "version_major": 2,
       "version_minor": 0
      },
      "text/plain": [
       "HBox(children=(HTML(value=''), FloatProgress(value=0.0, max=13.0), HTML(value='')))"
      ]
     },
     "metadata": {},
     "output_type": "display_data"
    },
    {
     "data": {
      "application/vnd.jupyter.widget-view+json": {
       "model_id": "",
       "version_major": 2,
       "version_minor": 0
      },
      "text/plain": [
       "HBox(children=(HTML(value=''), FloatProgress(value=0.0, max=12.0), HTML(value='')))"
      ]
     },
     "metadata": {},
     "output_type": "display_data"
    },
    {
     "name": "stdout",
     "output_type": "stream",
     "text": [
      "Training Results - Epoch[142/1000] Loss : 3.7101587599969172\n"
     ]
    },
    {
     "data": {
      "application/vnd.jupyter.widget-view+json": {
       "model_id": "",
       "version_major": 2,
       "version_minor": 0
      },
      "text/plain": [
       "HBox(children=(HTML(value=''), FloatProgress(value=0.0, max=13.0), HTML(value='')))"
      ]
     },
     "metadata": {},
     "output_type": "display_data"
    },
    {
     "data": {
      "application/vnd.jupyter.widget-view+json": {
       "model_id": "",
       "version_major": 2,
       "version_minor": 0
      },
      "text/plain": [
       "HBox(children=(HTML(value=''), FloatProgress(value=0.0, max=12.0), HTML(value='')))"
      ]
     },
     "metadata": {},
     "output_type": "display_data"
    },
    {
     "name": "stdout",
     "output_type": "stream",
     "text": [
      "Training Results - Epoch[143/1000] Loss : 4.086643795157608\n"
     ]
    },
    {
     "data": {
      "application/vnd.jupyter.widget-view+json": {
       "model_id": "",
       "version_major": 2,
       "version_minor": 0
      },
      "text/plain": [
       "HBox(children=(HTML(value=''), FloatProgress(value=0.0, max=13.0), HTML(value='')))"
      ]
     },
     "metadata": {},
     "output_type": "display_data"
    },
    {
     "data": {
      "application/vnd.jupyter.widget-view+json": {
       "model_id": "",
       "version_major": 2,
       "version_minor": 0
      },
      "text/plain": [
       "HBox(children=(HTML(value=''), FloatProgress(value=0.0, max=12.0), HTML(value='')))"
      ]
     },
     "metadata": {},
     "output_type": "display_data"
    },
    {
     "name": "stdout",
     "output_type": "stream",
     "text": [
      "Training Results - Epoch[144/1000] Loss : 2.673427600452406\n"
     ]
    },
    {
     "data": {
      "application/vnd.jupyter.widget-view+json": {
       "model_id": "",
       "version_major": 2,
       "version_minor": 0
      },
      "text/plain": [
       "HBox(children=(HTML(value=''), FloatProgress(value=0.0, max=13.0), HTML(value='')))"
      ]
     },
     "metadata": {},
     "output_type": "display_data"
    },
    {
     "data": {
      "application/vnd.jupyter.widget-view+json": {
       "model_id": "",
       "version_major": 2,
       "version_minor": 0
      },
      "text/plain": [
       "HBox(children=(HTML(value=''), FloatProgress(value=0.0, max=12.0), HTML(value='')))"
      ]
     },
     "metadata": {},
     "output_type": "display_data"
    },
    {
     "name": "stdout",
     "output_type": "stream",
     "text": [
      "Training Results - Epoch[145/1000] Loss : 2.3894497479407515\n"
     ]
    },
    {
     "data": {
      "application/vnd.jupyter.widget-view+json": {
       "model_id": "",
       "version_major": 2,
       "version_minor": 0
      },
      "text/plain": [
       "HBox(children=(HTML(value=''), FloatProgress(value=0.0, max=13.0), HTML(value='')))"
      ]
     },
     "metadata": {},
     "output_type": "display_data"
    },
    {
     "data": {
      "application/vnd.jupyter.widget-view+json": {
       "model_id": "",
       "version_major": 2,
       "version_minor": 0
      },
      "text/plain": [
       "HBox(children=(HTML(value=''), FloatProgress(value=0.0, max=12.0), HTML(value='')))"
      ]
     },
     "metadata": {},
     "output_type": "display_data"
    },
    {
     "name": "stdout",
     "output_type": "stream",
     "text": [
      "Training Results - Epoch[146/1000] Loss : 3.0361840701994773\n"
     ]
    },
    {
     "data": {
      "application/vnd.jupyter.widget-view+json": {
       "model_id": "",
       "version_major": 2,
       "version_minor": 0
      },
      "text/plain": [
       "HBox(children=(HTML(value=''), FloatProgress(value=0.0, max=13.0), HTML(value='')))"
      ]
     },
     "metadata": {},
     "output_type": "display_data"
    },
    {
     "data": {
      "application/vnd.jupyter.widget-view+json": {
       "model_id": "",
       "version_major": 2,
       "version_minor": 0
      },
      "text/plain": [
       "HBox(children=(HTML(value=''), FloatProgress(value=0.0, max=12.0), HTML(value='')))"
      ]
     },
     "metadata": {},
     "output_type": "display_data"
    },
    {
     "name": "stdout",
     "output_type": "stream",
     "text": [
      "Training Results - Epoch[147/1000] Loss : 2.4909812621122316\n"
     ]
    },
    {
     "data": {
      "application/vnd.jupyter.widget-view+json": {
       "model_id": "",
       "version_major": 2,
       "version_minor": 0
      },
      "text/plain": [
       "HBox(children=(HTML(value=''), FloatProgress(value=0.0, max=13.0), HTML(value='')))"
      ]
     },
     "metadata": {},
     "output_type": "display_data"
    },
    {
     "data": {
      "application/vnd.jupyter.widget-view+json": {
       "model_id": "",
       "version_major": 2,
       "version_minor": 0
      },
      "text/plain": [
       "HBox(children=(HTML(value=''), FloatProgress(value=0.0, max=12.0), HTML(value='')))"
      ]
     },
     "metadata": {},
     "output_type": "display_data"
    },
    {
     "name": "stdout",
     "output_type": "stream",
     "text": [
      "Training Results - Epoch[148/1000] Loss : 4.245239521378354\n"
     ]
    },
    {
     "data": {
      "application/vnd.jupyter.widget-view+json": {
       "model_id": "",
       "version_major": 2,
       "version_minor": 0
      },
      "text/plain": [
       "HBox(children=(HTML(value=''), FloatProgress(value=0.0, max=13.0), HTML(value='')))"
      ]
     },
     "metadata": {},
     "output_type": "display_data"
    },
    {
     "data": {
      "application/vnd.jupyter.widget-view+json": {
       "model_id": "",
       "version_major": 2,
       "version_minor": 0
      },
      "text/plain": [
       "HBox(children=(HTML(value=''), FloatProgress(value=0.0, max=12.0), HTML(value='')))"
      ]
     },
     "metadata": {},
     "output_type": "display_data"
    },
    {
     "name": "stdout",
     "output_type": "stream",
     "text": [
      "Training Results - Epoch[149/1000] Loss : 3.261965170754132\n"
     ]
    },
    {
     "data": {
      "application/vnd.jupyter.widget-view+json": {
       "model_id": "",
       "version_major": 2,
       "version_minor": 0
      },
      "text/plain": [
       "HBox(children=(HTML(value=''), FloatProgress(value=0.0, max=13.0), HTML(value='')))"
      ]
     },
     "metadata": {},
     "output_type": "display_data"
    },
    {
     "data": {
      "application/vnd.jupyter.widget-view+json": {
       "model_id": "",
       "version_major": 2,
       "version_minor": 0
      },
      "text/plain": [
       "HBox(children=(HTML(value=''), FloatProgress(value=0.0, max=12.0), HTML(value='')))"
      ]
     },
     "metadata": {},
     "output_type": "display_data"
    },
    {
     "name": "stdout",
     "output_type": "stream",
     "text": [
      "Training Results - Epoch[150/1000] Loss : 2.7918724588060084\n"
     ]
    },
    {
     "data": {
      "application/vnd.jupyter.widget-view+json": {
       "model_id": "",
       "version_major": 2,
       "version_minor": 0
      },
      "text/plain": [
       "HBox(children=(HTML(value=''), FloatProgress(value=0.0, max=13.0), HTML(value='')))"
      ]
     },
     "metadata": {},
     "output_type": "display_data"
    },
    {
     "data": {
      "application/vnd.jupyter.widget-view+json": {
       "model_id": "",
       "version_major": 2,
       "version_minor": 0
      },
      "text/plain": [
       "HBox(children=(HTML(value=''), FloatProgress(value=0.0, max=12.0), HTML(value='')))"
      ]
     },
     "metadata": {},
     "output_type": "display_data"
    },
    {
     "name": "stdout",
     "output_type": "stream",
     "text": [
      "Training Results - Epoch[151/1000] Loss : 2.9185126190453294\n"
     ]
    },
    {
     "data": {
      "application/vnd.jupyter.widget-view+json": {
       "model_id": "",
       "version_major": 2,
       "version_minor": 0
      },
      "text/plain": [
       "HBox(children=(HTML(value=''), FloatProgress(value=0.0, max=13.0), HTML(value='')))"
      ]
     },
     "metadata": {},
     "output_type": "display_data"
    },
    {
     "data": {
      "application/vnd.jupyter.widget-view+json": {
       "model_id": "",
       "version_major": 2,
       "version_minor": 0
      },
      "text/plain": [
       "HBox(children=(HTML(value=''), FloatProgress(value=0.0, max=12.0), HTML(value='')))"
      ]
     },
     "metadata": {},
     "output_type": "display_data"
    },
    {
     "name": "stdout",
     "output_type": "stream",
     "text": [
      "Training Results - Epoch[152/1000] Loss : 3.077492119240264\n"
     ]
    },
    {
     "data": {
      "application/vnd.jupyter.widget-view+json": {
       "model_id": "",
       "version_major": 2,
       "version_minor": 0
      },
      "text/plain": [
       "HBox(children=(HTML(value=''), FloatProgress(value=0.0, max=13.0), HTML(value='')))"
      ]
     },
     "metadata": {},
     "output_type": "display_data"
    },
    {
     "data": {
      "application/vnd.jupyter.widget-view+json": {
       "model_id": "",
       "version_major": 2,
       "version_minor": 0
      },
      "text/plain": [
       "HBox(children=(HTML(value=''), FloatProgress(value=0.0, max=12.0), HTML(value='')))"
      ]
     },
     "metadata": {},
     "output_type": "display_data"
    },
    {
     "name": "stdout",
     "output_type": "stream",
     "text": [
      "Training Results - Epoch[153/1000] Loss : 3.634660305925093\n"
     ]
    },
    {
     "data": {
      "application/vnd.jupyter.widget-view+json": {
       "model_id": "",
       "version_major": 2,
       "version_minor": 0
      },
      "text/plain": [
       "HBox(children=(HTML(value=''), FloatProgress(value=0.0, max=13.0), HTML(value='')))"
      ]
     },
     "metadata": {},
     "output_type": "display_data"
    },
    {
     "data": {
      "application/vnd.jupyter.widget-view+json": {
       "model_id": "",
       "version_major": 2,
       "version_minor": 0
      },
      "text/plain": [
       "HBox(children=(HTML(value=''), FloatProgress(value=0.0, max=12.0), HTML(value='')))"
      ]
     },
     "metadata": {},
     "output_type": "display_data"
    },
    {
     "name": "stdout",
     "output_type": "stream",
     "text": [
      "Training Results - Epoch[154/1000] Loss : 2.3258554572339953\n"
     ]
    },
    {
     "data": {
      "application/vnd.jupyter.widget-view+json": {
       "model_id": "",
       "version_major": 2,
       "version_minor": 0
      },
      "text/plain": [
       "HBox(children=(HTML(value=''), FloatProgress(value=0.0, max=13.0), HTML(value='')))"
      ]
     },
     "metadata": {},
     "output_type": "display_data"
    },
    {
     "data": {
      "application/vnd.jupyter.widget-view+json": {
       "model_id": "",
       "version_major": 2,
       "version_minor": 0
      },
      "text/plain": [
       "HBox(children=(HTML(value=''), FloatProgress(value=0.0, max=12.0), HTML(value='')))"
      ]
     },
     "metadata": {},
     "output_type": "display_data"
    },
    {
     "name": "stdout",
     "output_type": "stream",
     "text": [
      "Training Results - Epoch[155/1000] Loss : 3.879696703520073\n"
     ]
    },
    {
     "data": {
      "application/vnd.jupyter.widget-view+json": {
       "model_id": "",
       "version_major": 2,
       "version_minor": 0
      },
      "text/plain": [
       "HBox(children=(HTML(value=''), FloatProgress(value=0.0, max=13.0), HTML(value='')))"
      ]
     },
     "metadata": {},
     "output_type": "display_data"
    },
    {
     "data": {
      "application/vnd.jupyter.widget-view+json": {
       "model_id": "",
       "version_major": 2,
       "version_minor": 0
      },
      "text/plain": [
       "HBox(children=(HTML(value=''), FloatProgress(value=0.0, max=12.0), HTML(value='')))"
      ]
     },
     "metadata": {},
     "output_type": "display_data"
    },
    {
     "name": "stdout",
     "output_type": "stream",
     "text": [
      "Training Results - Epoch[156/1000] Loss : 2.9440443111808228\n"
     ]
    },
    {
     "data": {
      "application/vnd.jupyter.widget-view+json": {
       "model_id": "",
       "version_major": 2,
       "version_minor": 0
      },
      "text/plain": [
       "HBox(children=(HTML(value=''), FloatProgress(value=0.0, max=13.0), HTML(value='')))"
      ]
     },
     "metadata": {},
     "output_type": "display_data"
    },
    {
     "data": {
      "application/vnd.jupyter.widget-view+json": {
       "model_id": "",
       "version_major": 2,
       "version_minor": 0
      },
      "text/plain": [
       "HBox(children=(HTML(value=''), FloatProgress(value=0.0, max=12.0), HTML(value='')))"
      ]
     },
     "metadata": {},
     "output_type": "display_data"
    },
    {
     "name": "stdout",
     "output_type": "stream",
     "text": [
      "Training Results - Epoch[157/1000] Loss : 2.7109167609519353\n"
     ]
    },
    {
     "data": {
      "application/vnd.jupyter.widget-view+json": {
       "model_id": "",
       "version_major": 2,
       "version_minor": 0
      },
      "text/plain": [
       "HBox(children=(HTML(value=''), FloatProgress(value=0.0, max=13.0), HTML(value='')))"
      ]
     },
     "metadata": {},
     "output_type": "display_data"
    },
    {
     "data": {
      "application/vnd.jupyter.widget-view+json": {
       "model_id": "",
       "version_major": 2,
       "version_minor": 0
      },
      "text/plain": [
       "HBox(children=(HTML(value=''), FloatProgress(value=0.0, max=12.0), HTML(value='')))"
      ]
     },
     "metadata": {},
     "output_type": "display_data"
    },
    {
     "name": "stdout",
     "output_type": "stream",
     "text": [
      "Training Results - Epoch[158/1000] Loss : 2.4411834541722977\n"
     ]
    },
    {
     "data": {
      "application/vnd.jupyter.widget-view+json": {
       "model_id": "",
       "version_major": 2,
       "version_minor": 0
      },
      "text/plain": [
       "HBox(children=(HTML(value=''), FloatProgress(value=0.0, max=13.0), HTML(value='')))"
      ]
     },
     "metadata": {},
     "output_type": "display_data"
    },
    {
     "data": {
      "application/vnd.jupyter.widget-view+json": {
       "model_id": "",
       "version_major": 2,
       "version_minor": 0
      },
      "text/plain": [
       "HBox(children=(HTML(value=''), FloatProgress(value=0.0, max=12.0), HTML(value='')))"
      ]
     },
     "metadata": {},
     "output_type": "display_data"
    },
    {
     "name": "stdout",
     "output_type": "stream",
     "text": [
      "Training Results - Epoch[159/1000] Loss : 4.140545890553461\n"
     ]
    },
    {
     "data": {
      "application/vnd.jupyter.widget-view+json": {
       "model_id": "",
       "version_major": 2,
       "version_minor": 0
      },
      "text/plain": [
       "HBox(children=(HTML(value=''), FloatProgress(value=0.0, max=13.0), HTML(value='')))"
      ]
     },
     "metadata": {},
     "output_type": "display_data"
    },
    {
     "data": {
      "application/vnd.jupyter.widget-view+json": {
       "model_id": "",
       "version_major": 2,
       "version_minor": 0
      },
      "text/plain": [
       "HBox(children=(HTML(value=''), FloatProgress(value=0.0, max=12.0), HTML(value='')))"
      ]
     },
     "metadata": {},
     "output_type": "display_data"
    },
    {
     "name": "stdout",
     "output_type": "stream",
     "text": [
      "Training Results - Epoch[160/1000] Loss : 4.0251940293887225\n"
     ]
    },
    {
     "data": {
      "application/vnd.jupyter.widget-view+json": {
       "model_id": "",
       "version_major": 2,
       "version_minor": 0
      },
      "text/plain": [
       "HBox(children=(HTML(value=''), FloatProgress(value=0.0, max=13.0), HTML(value='')))"
      ]
     },
     "metadata": {},
     "output_type": "display_data"
    },
    {
     "data": {
      "application/vnd.jupyter.widget-view+json": {
       "model_id": "",
       "version_major": 2,
       "version_minor": 0
      },
      "text/plain": [
       "HBox(children=(HTML(value=''), FloatProgress(value=0.0, max=12.0), HTML(value='')))"
      ]
     },
     "metadata": {},
     "output_type": "display_data"
    },
    {
     "name": "stdout",
     "output_type": "stream",
     "text": [
      "Training Results - Epoch[161/1000] Loss : 3.7211055925251078\n"
     ]
    },
    {
     "data": {
      "application/vnd.jupyter.widget-view+json": {
       "model_id": "",
       "version_major": 2,
       "version_minor": 0
      },
      "text/plain": [
       "HBox(children=(HTML(value=''), FloatProgress(value=0.0, max=13.0), HTML(value='')))"
      ]
     },
     "metadata": {},
     "output_type": "display_data"
    },
    {
     "data": {
      "application/vnd.jupyter.widget-view+json": {
       "model_id": "",
       "version_major": 2,
       "version_minor": 0
      },
      "text/plain": [
       "HBox(children=(HTML(value=''), FloatProgress(value=0.0, max=12.0), HTML(value='')))"
      ]
     },
     "metadata": {},
     "output_type": "display_data"
    },
    {
     "name": "stdout",
     "output_type": "stream",
     "text": [
      "Training Results - Epoch[162/1000] Loss : 3.3768379237633397\n"
     ]
    },
    {
     "data": {
      "application/vnd.jupyter.widget-view+json": {
       "model_id": "",
       "version_major": 2,
       "version_minor": 0
      },
      "text/plain": [
       "HBox(children=(HTML(value=''), FloatProgress(value=0.0, max=13.0), HTML(value='')))"
      ]
     },
     "metadata": {},
     "output_type": "display_data"
    },
    {
     "data": {
      "application/vnd.jupyter.widget-view+json": {
       "model_id": "",
       "version_major": 2,
       "version_minor": 0
      },
      "text/plain": [
       "HBox(children=(HTML(value=''), FloatProgress(value=0.0, max=12.0), HTML(value='')))"
      ]
     },
     "metadata": {},
     "output_type": "display_data"
    },
    {
     "name": "stdout",
     "output_type": "stream",
     "text": [
      "Training Results - Epoch[163/1000] Loss : 2.7718465970311\n"
     ]
    },
    {
     "data": {
      "application/vnd.jupyter.widget-view+json": {
       "model_id": "",
       "version_major": 2,
       "version_minor": 0
      },
      "text/plain": [
       "HBox(children=(HTML(value=''), FloatProgress(value=0.0, max=13.0), HTML(value='')))"
      ]
     },
     "metadata": {},
     "output_type": "display_data"
    },
    {
     "data": {
      "application/vnd.jupyter.widget-view+json": {
       "model_id": "",
       "version_major": 2,
       "version_minor": 0
      },
      "text/plain": [
       "HBox(children=(HTML(value=''), FloatProgress(value=0.0, max=12.0), HTML(value='')))"
      ]
     },
     "metadata": {},
     "output_type": "display_data"
    },
    {
     "name": "stdout",
     "output_type": "stream",
     "text": [
      "Training Results - Epoch[164/1000] Loss : 2.9468731562775665\n"
     ]
    },
    {
     "data": {
      "application/vnd.jupyter.widget-view+json": {
       "model_id": "",
       "version_major": 2,
       "version_minor": 0
      },
      "text/plain": [
       "HBox(children=(HTML(value=''), FloatProgress(value=0.0, max=13.0), HTML(value='')))"
      ]
     },
     "metadata": {},
     "output_type": "display_data"
    },
    {
     "data": {
      "application/vnd.jupyter.widget-view+json": {
       "model_id": "",
       "version_major": 2,
       "version_minor": 0
      },
      "text/plain": [
       "HBox(children=(HTML(value=''), FloatProgress(value=0.0, max=12.0), HTML(value='')))"
      ]
     },
     "metadata": {},
     "output_type": "display_data"
    },
    {
     "name": "stdout",
     "output_type": "stream",
     "text": [
      "Training Results - Epoch[165/1000] Loss : 2.8358137836731663\n"
     ]
    },
    {
     "data": {
      "application/vnd.jupyter.widget-view+json": {
       "model_id": "",
       "version_major": 2,
       "version_minor": 0
      },
      "text/plain": [
       "HBox(children=(HTML(value=''), FloatProgress(value=0.0, max=13.0), HTML(value='')))"
      ]
     },
     "metadata": {},
     "output_type": "display_data"
    },
    {
     "data": {
      "application/vnd.jupyter.widget-view+json": {
       "model_id": "",
       "version_major": 2,
       "version_minor": 0
      },
      "text/plain": [
       "HBox(children=(HTML(value=''), FloatProgress(value=0.0, max=12.0), HTML(value='')))"
      ]
     },
     "metadata": {},
     "output_type": "display_data"
    },
    {
     "name": "stdout",
     "output_type": "stream",
     "text": [
      "Training Results - Epoch[166/1000] Loss : 3.206292527076834\n"
     ]
    },
    {
     "data": {
      "application/vnd.jupyter.widget-view+json": {
       "model_id": "",
       "version_major": 2,
       "version_minor": 0
      },
      "text/plain": [
       "HBox(children=(HTML(value=''), FloatProgress(value=0.0, max=13.0), HTML(value='')))"
      ]
     },
     "metadata": {},
     "output_type": "display_data"
    },
    {
     "data": {
      "application/vnd.jupyter.widget-view+json": {
       "model_id": "",
       "version_major": 2,
       "version_minor": 0
      },
      "text/plain": [
       "HBox(children=(HTML(value=''), FloatProgress(value=0.0, max=12.0), HTML(value='')))"
      ]
     },
     "metadata": {},
     "output_type": "display_data"
    },
    {
     "name": "stdout",
     "output_type": "stream",
     "text": [
      "Training Results - Epoch[167/1000] Loss : 3.5891310204243947\n"
     ]
    },
    {
     "data": {
      "application/vnd.jupyter.widget-view+json": {
       "model_id": "",
       "version_major": 2,
       "version_minor": 0
      },
      "text/plain": [
       "HBox(children=(HTML(value=''), FloatProgress(value=0.0, max=13.0), HTML(value='')))"
      ]
     },
     "metadata": {},
     "output_type": "display_data"
    },
    {
     "data": {
      "application/vnd.jupyter.widget-view+json": {
       "model_id": "",
       "version_major": 2,
       "version_minor": 0
      },
      "text/plain": [
       "HBox(children=(HTML(value=''), FloatProgress(value=0.0, max=12.0), HTML(value='')))"
      ]
     },
     "metadata": {},
     "output_type": "display_data"
    },
    {
     "name": "stdout",
     "output_type": "stream",
     "text": [
      "Training Results - Epoch[168/1000] Loss : 2.6841859565195207\n"
     ]
    },
    {
     "data": {
      "application/vnd.jupyter.widget-view+json": {
       "model_id": "",
       "version_major": 2,
       "version_minor": 0
      },
      "text/plain": [
       "HBox(children=(HTML(value=''), FloatProgress(value=0.0, max=13.0), HTML(value='')))"
      ]
     },
     "metadata": {},
     "output_type": "display_data"
    },
    {
     "data": {
      "application/vnd.jupyter.widget-view+json": {
       "model_id": "",
       "version_major": 2,
       "version_minor": 0
      },
      "text/plain": [
       "HBox(children=(HTML(value=''), FloatProgress(value=0.0, max=12.0), HTML(value='')))"
      ]
     },
     "metadata": {},
     "output_type": "display_data"
    },
    {
     "name": "stdout",
     "output_type": "stream",
     "text": [
      "Training Results - Epoch[169/1000] Loss : 5.350592539567346\n"
     ]
    },
    {
     "data": {
      "application/vnd.jupyter.widget-view+json": {
       "model_id": "",
       "version_major": 2,
       "version_minor": 0
      },
      "text/plain": [
       "HBox(children=(HTML(value=''), FloatProgress(value=0.0, max=13.0), HTML(value='')))"
      ]
     },
     "metadata": {},
     "output_type": "display_data"
    },
    {
     "data": {
      "application/vnd.jupyter.widget-view+json": {
       "model_id": "",
       "version_major": 2,
       "version_minor": 0
      },
      "text/plain": [
       "HBox(children=(HTML(value=''), FloatProgress(value=0.0, max=12.0), HTML(value='')))"
      ]
     },
     "metadata": {},
     "output_type": "display_data"
    },
    {
     "name": "stdout",
     "output_type": "stream",
     "text": [
      "Training Results - Epoch[170/1000] Loss : 2.471484770087734\n"
     ]
    },
    {
     "data": {
      "application/vnd.jupyter.widget-view+json": {
       "model_id": "",
       "version_major": 2,
       "version_minor": 0
      },
      "text/plain": [
       "HBox(children=(HTML(value=''), FloatProgress(value=0.0, max=13.0), HTML(value='')))"
      ]
     },
     "metadata": {},
     "output_type": "display_data"
    },
    {
     "data": {
      "application/vnd.jupyter.widget-view+json": {
       "model_id": "",
       "version_major": 2,
       "version_minor": 0
      },
      "text/plain": [
       "HBox(children=(HTML(value=''), FloatProgress(value=0.0, max=12.0), HTML(value='')))"
      ]
     },
     "metadata": {},
     "output_type": "display_data"
    },
    {
     "name": "stdout",
     "output_type": "stream",
     "text": [
      "Training Results - Epoch[171/1000] Loss : 2.583618419259885\n"
     ]
    },
    {
     "data": {
      "application/vnd.jupyter.widget-view+json": {
       "model_id": "",
       "version_major": 2,
       "version_minor": 0
      },
      "text/plain": [
       "HBox(children=(HTML(value=''), FloatProgress(value=0.0, max=13.0), HTML(value='')))"
      ]
     },
     "metadata": {},
     "output_type": "display_data"
    },
    {
     "data": {
      "application/vnd.jupyter.widget-view+json": {
       "model_id": "",
       "version_major": 2,
       "version_minor": 0
      },
      "text/plain": [
       "HBox(children=(HTML(value=''), FloatProgress(value=0.0, max=12.0), HTML(value='')))"
      ]
     },
     "metadata": {},
     "output_type": "display_data"
    },
    {
     "name": "stdout",
     "output_type": "stream",
     "text": [
      "Training Results - Epoch[172/1000] Loss : 4.776999915042811\n"
     ]
    },
    {
     "data": {
      "application/vnd.jupyter.widget-view+json": {
       "model_id": "",
       "version_major": 2,
       "version_minor": 0
      },
      "text/plain": [
       "HBox(children=(HTML(value=''), FloatProgress(value=0.0, max=13.0), HTML(value='')))"
      ]
     },
     "metadata": {},
     "output_type": "display_data"
    },
    {
     "data": {
      "application/vnd.jupyter.widget-view+json": {
       "model_id": "",
       "version_major": 2,
       "version_minor": 0
      },
      "text/plain": [
       "HBox(children=(HTML(value=''), FloatProgress(value=0.0, max=12.0), HTML(value='')))"
      ]
     },
     "metadata": {},
     "output_type": "display_data"
    },
    {
     "name": "stdout",
     "output_type": "stream",
     "text": [
      "Training Results - Epoch[173/1000] Loss : 2.695040462540707\n"
     ]
    },
    {
     "data": {
      "application/vnd.jupyter.widget-view+json": {
       "model_id": "",
       "version_major": 2,
       "version_minor": 0
      },
      "text/plain": [
       "HBox(children=(HTML(value=''), FloatProgress(value=0.0, max=13.0), HTML(value='')))"
      ]
     },
     "metadata": {},
     "output_type": "display_data"
    },
    {
     "data": {
      "application/vnd.jupyter.widget-view+json": {
       "model_id": "",
       "version_major": 2,
       "version_minor": 0
      },
      "text/plain": [
       "HBox(children=(HTML(value=''), FloatProgress(value=0.0, max=12.0), HTML(value='')))"
      ]
     },
     "metadata": {},
     "output_type": "display_data"
    },
    {
     "name": "stdout",
     "output_type": "stream",
     "text": [
      "Training Results - Epoch[174/1000] Loss : 4.271348719549734\n"
     ]
    },
    {
     "data": {
      "application/vnd.jupyter.widget-view+json": {
       "model_id": "",
       "version_major": 2,
       "version_minor": 0
      },
      "text/plain": [
       "HBox(children=(HTML(value=''), FloatProgress(value=0.0, max=13.0), HTML(value='')))"
      ]
     },
     "metadata": {},
     "output_type": "display_data"
    },
    {
     "data": {
      "application/vnd.jupyter.widget-view+json": {
       "model_id": "",
       "version_major": 2,
       "version_minor": 0
      },
      "text/plain": [
       "HBox(children=(HTML(value=''), FloatProgress(value=0.0, max=12.0), HTML(value='')))"
      ]
     },
     "metadata": {},
     "output_type": "display_data"
    },
    {
     "name": "stdout",
     "output_type": "stream",
     "text": [
      "Training Results - Epoch[175/1000] Loss : 3.1790145276204615\n"
     ]
    },
    {
     "data": {
      "application/vnd.jupyter.widget-view+json": {
       "model_id": "",
       "version_major": 2,
       "version_minor": 0
      },
      "text/plain": [
       "HBox(children=(HTML(value=''), FloatProgress(value=0.0, max=13.0), HTML(value='')))"
      ]
     },
     "metadata": {},
     "output_type": "display_data"
    },
    {
     "data": {
      "application/vnd.jupyter.widget-view+json": {
       "model_id": "",
       "version_major": 2,
       "version_minor": 0
      },
      "text/plain": [
       "HBox(children=(HTML(value=''), FloatProgress(value=0.0, max=12.0), HTML(value='')))"
      ]
     },
     "metadata": {},
     "output_type": "display_data"
    },
    {
     "name": "stdout",
     "output_type": "stream",
     "text": [
      "Training Results - Epoch[176/1000] Loss : 3.3511782306528675\n"
     ]
    },
    {
     "data": {
      "application/vnd.jupyter.widget-view+json": {
       "model_id": "",
       "version_major": 2,
       "version_minor": 0
      },
      "text/plain": [
       "HBox(children=(HTML(value=''), FloatProgress(value=0.0, max=13.0), HTML(value='')))"
      ]
     },
     "metadata": {},
     "output_type": "display_data"
    },
    {
     "data": {
      "application/vnd.jupyter.widget-view+json": {
       "model_id": "",
       "version_major": 2,
       "version_minor": 0
      },
      "text/plain": [
       "HBox(children=(HTML(value=''), FloatProgress(value=0.0, max=12.0), HTML(value='')))"
      ]
     },
     "metadata": {},
     "output_type": "display_data"
    },
    {
     "name": "stdout",
     "output_type": "stream",
     "text": [
      "Training Results - Epoch[177/1000] Loss : 2.5271533228850234\n"
     ]
    },
    {
     "data": {
      "application/vnd.jupyter.widget-view+json": {
       "model_id": "",
       "version_major": 2,
       "version_minor": 0
      },
      "text/plain": [
       "HBox(children=(HTML(value=''), FloatProgress(value=0.0, max=13.0), HTML(value='')))"
      ]
     },
     "metadata": {},
     "output_type": "display_data"
    },
    {
     "data": {
      "application/vnd.jupyter.widget-view+json": {
       "model_id": "",
       "version_major": 2,
       "version_minor": 0
      },
      "text/plain": [
       "HBox(children=(HTML(value=''), FloatProgress(value=0.0, max=12.0), HTML(value='')))"
      ]
     },
     "metadata": {},
     "output_type": "display_data"
    },
    {
     "name": "stdout",
     "output_type": "stream",
     "text": [
      "Training Results - Epoch[178/1000] Loss : 3.515359234229146\n"
     ]
    },
    {
     "data": {
      "application/vnd.jupyter.widget-view+json": {
       "model_id": "",
       "version_major": 2,
       "version_minor": 0
      },
      "text/plain": [
       "HBox(children=(HTML(value=''), FloatProgress(value=0.0, max=13.0), HTML(value='')))"
      ]
     },
     "metadata": {},
     "output_type": "display_data"
    },
    {
     "data": {
      "application/vnd.jupyter.widget-view+json": {
       "model_id": "",
       "version_major": 2,
       "version_minor": 0
      },
      "text/plain": [
       "HBox(children=(HTML(value=''), FloatProgress(value=0.0, max=12.0), HTML(value='')))"
      ]
     },
     "metadata": {},
     "output_type": "display_data"
    },
    {
     "name": "stdout",
     "output_type": "stream",
     "text": [
      "Training Results - Epoch[179/1000] Loss : 2.5759750215626354\n"
     ]
    },
    {
     "data": {
      "application/vnd.jupyter.widget-view+json": {
       "model_id": "",
       "version_major": 2,
       "version_minor": 0
      },
      "text/plain": [
       "HBox(children=(HTML(value=''), FloatProgress(value=0.0, max=13.0), HTML(value='')))"
      ]
     },
     "metadata": {},
     "output_type": "display_data"
    },
    {
     "data": {
      "application/vnd.jupyter.widget-view+json": {
       "model_id": "",
       "version_major": 2,
       "version_minor": 0
      },
      "text/plain": [
       "HBox(children=(HTML(value=''), FloatProgress(value=0.0, max=12.0), HTML(value='')))"
      ]
     },
     "metadata": {},
     "output_type": "display_data"
    },
    {
     "name": "stdout",
     "output_type": "stream",
     "text": [
      "Training Results - Epoch[180/1000] Loss : 1.7981001639099505\n"
     ]
    },
    {
     "data": {
      "application/vnd.jupyter.widget-view+json": {
       "model_id": "",
       "version_major": 2,
       "version_minor": 0
      },
      "text/plain": [
       "HBox(children=(HTML(value=''), FloatProgress(value=0.0, max=13.0), HTML(value='')))"
      ]
     },
     "metadata": {},
     "output_type": "display_data"
    },
    {
     "data": {
      "application/vnd.jupyter.widget-view+json": {
       "model_id": "",
       "version_major": 2,
       "version_minor": 0
      },
      "text/plain": [
       "HBox(children=(HTML(value=''), FloatProgress(value=0.0, max=12.0), HTML(value='')))"
      ]
     },
     "metadata": {},
     "output_type": "display_data"
    },
    {
     "name": "stdout",
     "output_type": "stream",
     "text": [
      "Training Results - Epoch[181/1000] Loss : 1.8525361743699562\n"
     ]
    },
    {
     "data": {
      "application/vnd.jupyter.widget-view+json": {
       "model_id": "",
       "version_major": 2,
       "version_minor": 0
      },
      "text/plain": [
       "HBox(children=(HTML(value=''), FloatProgress(value=0.0, max=13.0), HTML(value='')))"
      ]
     },
     "metadata": {},
     "output_type": "display_data"
    },
    {
     "data": {
      "application/vnd.jupyter.widget-view+json": {
       "model_id": "",
       "version_major": 2,
       "version_minor": 0
      },
      "text/plain": [
       "HBox(children=(HTML(value=''), FloatProgress(value=0.0, max=12.0), HTML(value='')))"
      ]
     },
     "metadata": {},
     "output_type": "display_data"
    },
    {
     "name": "stdout",
     "output_type": "stream",
     "text": [
      "Training Results - Epoch[182/1000] Loss : 2.4073963626191652\n"
     ]
    },
    {
     "data": {
      "application/vnd.jupyter.widget-view+json": {
       "model_id": "",
       "version_major": 2,
       "version_minor": 0
      },
      "text/plain": [
       "HBox(children=(HTML(value=''), FloatProgress(value=0.0, max=13.0), HTML(value='')))"
      ]
     },
     "metadata": {},
     "output_type": "display_data"
    },
    {
     "data": {
      "application/vnd.jupyter.widget-view+json": {
       "model_id": "",
       "version_major": 2,
       "version_minor": 0
      },
      "text/plain": [
       "HBox(children=(HTML(value=''), FloatProgress(value=0.0, max=12.0), HTML(value='')))"
      ]
     },
     "metadata": {},
     "output_type": "display_data"
    },
    {
     "name": "stdout",
     "output_type": "stream",
     "text": [
      "Training Results - Epoch[183/1000] Loss : 3.2690947710717624\n"
     ]
    },
    {
     "data": {
      "application/vnd.jupyter.widget-view+json": {
       "model_id": "",
       "version_major": 2,
       "version_minor": 0
      },
      "text/plain": [
       "HBox(children=(HTML(value=''), FloatProgress(value=0.0, max=13.0), HTML(value='')))"
      ]
     },
     "metadata": {},
     "output_type": "display_data"
    },
    {
     "data": {
      "application/vnd.jupyter.widget-view+json": {
       "model_id": "",
       "version_major": 2,
       "version_minor": 0
      },
      "text/plain": [
       "HBox(children=(HTML(value=''), FloatProgress(value=0.0, max=12.0), HTML(value='')))"
      ]
     },
     "metadata": {},
     "output_type": "display_data"
    },
    {
     "name": "stdout",
     "output_type": "stream",
     "text": [
      "Training Results - Epoch[184/1000] Loss : 2.7509041477847846\n"
     ]
    },
    {
     "data": {
      "application/vnd.jupyter.widget-view+json": {
       "model_id": "",
       "version_major": 2,
       "version_minor": 0
      },
      "text/plain": [
       "HBox(children=(HTML(value=''), FloatProgress(value=0.0, max=13.0), HTML(value='')))"
      ]
     },
     "metadata": {},
     "output_type": "display_data"
    },
    {
     "data": {
      "application/vnd.jupyter.widget-view+json": {
       "model_id": "",
       "version_major": 2,
       "version_minor": 0
      },
      "text/plain": [
       "HBox(children=(HTML(value=''), FloatProgress(value=0.0, max=12.0), HTML(value='')))"
      ]
     },
     "metadata": {},
     "output_type": "display_data"
    },
    {
     "name": "stdout",
     "output_type": "stream",
     "text": [
      "Training Results - Epoch[185/1000] Loss : 2.9729225486050295\n"
     ]
    },
    {
     "data": {
      "application/vnd.jupyter.widget-view+json": {
       "model_id": "",
       "version_major": 2,
       "version_minor": 0
      },
      "text/plain": [
       "HBox(children=(HTML(value=''), FloatProgress(value=0.0, max=13.0), HTML(value='')))"
      ]
     },
     "metadata": {},
     "output_type": "display_data"
    },
    {
     "data": {
      "application/vnd.jupyter.widget-view+json": {
       "model_id": "",
       "version_major": 2,
       "version_minor": 0
      },
      "text/plain": [
       "HBox(children=(HTML(value=''), FloatProgress(value=0.0, max=12.0), HTML(value='')))"
      ]
     },
     "metadata": {},
     "output_type": "display_data"
    },
    {
     "name": "stdout",
     "output_type": "stream",
     "text": [
      "Training Results - Epoch[186/1000] Loss : 3.172013852932983\n"
     ]
    },
    {
     "data": {
      "application/vnd.jupyter.widget-view+json": {
       "model_id": "",
       "version_major": 2,
       "version_minor": 0
      },
      "text/plain": [
       "HBox(children=(HTML(value=''), FloatProgress(value=0.0, max=13.0), HTML(value='')))"
      ]
     },
     "metadata": {},
     "output_type": "display_data"
    },
    {
     "data": {
      "application/vnd.jupyter.widget-view+json": {
       "model_id": "",
       "version_major": 2,
       "version_minor": 0
      },
      "text/plain": [
       "HBox(children=(HTML(value=''), FloatProgress(value=0.0, max=12.0), HTML(value='')))"
      ]
     },
     "metadata": {},
     "output_type": "display_data"
    },
    {
     "name": "stdout",
     "output_type": "stream",
     "text": [
      "Training Results - Epoch[187/1000] Loss : 2.103237296687693\n"
     ]
    },
    {
     "data": {
      "application/vnd.jupyter.widget-view+json": {
       "model_id": "",
       "version_major": 2,
       "version_minor": 0
      },
      "text/plain": [
       "HBox(children=(HTML(value=''), FloatProgress(value=0.0, max=13.0), HTML(value='')))"
      ]
     },
     "metadata": {},
     "output_type": "display_data"
    },
    {
     "data": {
      "application/vnd.jupyter.widget-view+json": {
       "model_id": "",
       "version_major": 2,
       "version_minor": 0
      },
      "text/plain": [
       "HBox(children=(HTML(value=''), FloatProgress(value=0.0, max=12.0), HTML(value='')))"
      ]
     },
     "metadata": {},
     "output_type": "display_data"
    },
    {
     "name": "stdout",
     "output_type": "stream",
     "text": [
      "Training Results - Epoch[188/1000] Loss : 3.1877488336893163\n"
     ]
    },
    {
     "data": {
      "application/vnd.jupyter.widget-view+json": {
       "model_id": "",
       "version_major": 2,
       "version_minor": 0
      },
      "text/plain": [
       "HBox(children=(HTML(value=''), FloatProgress(value=0.0, max=13.0), HTML(value='')))"
      ]
     },
     "metadata": {},
     "output_type": "display_data"
    },
    {
     "data": {
      "application/vnd.jupyter.widget-view+json": {
       "model_id": "",
       "version_major": 2,
       "version_minor": 0
      },
      "text/plain": [
       "HBox(children=(HTML(value=''), FloatProgress(value=0.0, max=12.0), HTML(value='')))"
      ]
     },
     "metadata": {},
     "output_type": "display_data"
    },
    {
     "name": "stdout",
     "output_type": "stream",
     "text": [
      "Training Results - Epoch[189/1000] Loss : 3.5482148479545677\n"
     ]
    },
    {
     "data": {
      "application/vnd.jupyter.widget-view+json": {
       "model_id": "",
       "version_major": 2,
       "version_minor": 0
      },
      "text/plain": [
       "HBox(children=(HTML(value=''), FloatProgress(value=0.0, max=13.0), HTML(value='')))"
      ]
     },
     "metadata": {},
     "output_type": "display_data"
    },
    {
     "data": {
      "application/vnd.jupyter.widget-view+json": {
       "model_id": "",
       "version_major": 2,
       "version_minor": 0
      },
      "text/plain": [
       "HBox(children=(HTML(value=''), FloatProgress(value=0.0, max=12.0), HTML(value='')))"
      ]
     },
     "metadata": {},
     "output_type": "display_data"
    },
    {
     "name": "stdout",
     "output_type": "stream",
     "text": [
      "Training Results - Epoch[190/1000] Loss : 3.428541417083515\n"
     ]
    },
    {
     "data": {
      "application/vnd.jupyter.widget-view+json": {
       "model_id": "",
       "version_major": 2,
       "version_minor": 0
      },
      "text/plain": [
       "HBox(children=(HTML(value=''), FloatProgress(value=0.0, max=13.0), HTML(value='')))"
      ]
     },
     "metadata": {},
     "output_type": "display_data"
    },
    {
     "data": {
      "application/vnd.jupyter.widget-view+json": {
       "model_id": "",
       "version_major": 2,
       "version_minor": 0
      },
      "text/plain": [
       "HBox(children=(HTML(value=''), FloatProgress(value=0.0, max=12.0), HTML(value='')))"
      ]
     },
     "metadata": {},
     "output_type": "display_data"
    },
    {
     "name": "stdout",
     "output_type": "stream",
     "text": [
      "Training Results - Epoch[191/1000] Loss : 3.2926850520113535\n"
     ]
    },
    {
     "data": {
      "application/vnd.jupyter.widget-view+json": {
       "model_id": "",
       "version_major": 2,
       "version_minor": 0
      },
      "text/plain": [
       "HBox(children=(HTML(value=''), FloatProgress(value=0.0, max=13.0), HTML(value='')))"
      ]
     },
     "metadata": {},
     "output_type": "display_data"
    },
    {
     "data": {
      "application/vnd.jupyter.widget-view+json": {
       "model_id": "",
       "version_major": 2,
       "version_minor": 0
      },
      "text/plain": [
       "HBox(children=(HTML(value=''), FloatProgress(value=0.0, max=12.0), HTML(value='')))"
      ]
     },
     "metadata": {},
     "output_type": "display_data"
    },
    {
     "name": "stdout",
     "output_type": "stream",
     "text": [
      "Training Results - Epoch[192/1000] Loss : 3.9995387103437534\n"
     ]
    },
    {
     "data": {
      "application/vnd.jupyter.widget-view+json": {
       "model_id": "",
       "version_major": 2,
       "version_minor": 0
      },
      "text/plain": [
       "HBox(children=(HTML(value=''), FloatProgress(value=0.0, max=13.0), HTML(value='')))"
      ]
     },
     "metadata": {},
     "output_type": "display_data"
    },
    {
     "data": {
      "application/vnd.jupyter.widget-view+json": {
       "model_id": "",
       "version_major": 2,
       "version_minor": 0
      },
      "text/plain": [
       "HBox(children=(HTML(value=''), FloatProgress(value=0.0, max=12.0), HTML(value='')))"
      ]
     },
     "metadata": {},
     "output_type": "display_data"
    },
    {
     "name": "stdout",
     "output_type": "stream",
     "text": [
      "Training Results - Epoch[193/1000] Loss : 3.094947875683204\n"
     ]
    },
    {
     "data": {
      "application/vnd.jupyter.widget-view+json": {
       "model_id": "",
       "version_major": 2,
       "version_minor": 0
      },
      "text/plain": [
       "HBox(children=(HTML(value=''), FloatProgress(value=0.0, max=13.0), HTML(value='')))"
      ]
     },
     "metadata": {},
     "output_type": "display_data"
    },
    {
     "data": {
      "application/vnd.jupyter.widget-view+json": {
       "model_id": "",
       "version_major": 2,
       "version_minor": 0
      },
      "text/plain": [
       "HBox(children=(HTML(value=''), FloatProgress(value=0.0, max=12.0), HTML(value='')))"
      ]
     },
     "metadata": {},
     "output_type": "display_data"
    },
    {
     "name": "stdout",
     "output_type": "stream",
     "text": [
      "Training Results - Epoch[194/1000] Loss : 3.3766037304485303\n"
     ]
    },
    {
     "data": {
      "application/vnd.jupyter.widget-view+json": {
       "model_id": "",
       "version_major": 2,
       "version_minor": 0
      },
      "text/plain": [
       "HBox(children=(HTML(value=''), FloatProgress(value=0.0, max=13.0), HTML(value='')))"
      ]
     },
     "metadata": {},
     "output_type": "display_data"
    },
    {
     "data": {
      "application/vnd.jupyter.widget-view+json": {
       "model_id": "",
       "version_major": 2,
       "version_minor": 0
      },
      "text/plain": [
       "HBox(children=(HTML(value=''), FloatProgress(value=0.0, max=12.0), HTML(value='')))"
      ]
     },
     "metadata": {},
     "output_type": "display_data"
    },
    {
     "name": "stdout",
     "output_type": "stream",
     "text": [
      "Training Results - Epoch[195/1000] Loss : 3.158524586358693\n"
     ]
    },
    {
     "data": {
      "application/vnd.jupyter.widget-view+json": {
       "model_id": "",
       "version_major": 2,
       "version_minor": 0
      },
      "text/plain": [
       "HBox(children=(HTML(value=''), FloatProgress(value=0.0, max=13.0), HTML(value='')))"
      ]
     },
     "metadata": {},
     "output_type": "display_data"
    },
    {
     "data": {
      "application/vnd.jupyter.widget-view+json": {
       "model_id": "",
       "version_major": 2,
       "version_minor": 0
      },
      "text/plain": [
       "HBox(children=(HTML(value=''), FloatProgress(value=0.0, max=12.0), HTML(value='')))"
      ]
     },
     "metadata": {},
     "output_type": "display_data"
    },
    {
     "name": "stdout",
     "output_type": "stream",
     "text": [
      "Training Results - Epoch[196/1000] Loss : 2.426663663523149\n"
     ]
    },
    {
     "data": {
      "application/vnd.jupyter.widget-view+json": {
       "model_id": "",
       "version_major": 2,
       "version_minor": 0
      },
      "text/plain": [
       "HBox(children=(HTML(value=''), FloatProgress(value=0.0, max=13.0), HTML(value='')))"
      ]
     },
     "metadata": {},
     "output_type": "display_data"
    },
    {
     "data": {
      "application/vnd.jupyter.widget-view+json": {
       "model_id": "",
       "version_major": 2,
       "version_minor": 0
      },
      "text/plain": [
       "HBox(children=(HTML(value=''), FloatProgress(value=0.0, max=12.0), HTML(value='')))"
      ]
     },
     "metadata": {},
     "output_type": "display_data"
    },
    {
     "name": "stdout",
     "output_type": "stream",
     "text": [
      "Training Results - Epoch[197/1000] Loss : 2.8153031363436583\n"
     ]
    },
    {
     "data": {
      "application/vnd.jupyter.widget-view+json": {
       "model_id": "",
       "version_major": 2,
       "version_minor": 0
      },
      "text/plain": [
       "HBox(children=(HTML(value=''), FloatProgress(value=0.0, max=13.0), HTML(value='')))"
      ]
     },
     "metadata": {},
     "output_type": "display_data"
    },
    {
     "data": {
      "application/vnd.jupyter.widget-view+json": {
       "model_id": "",
       "version_major": 2,
       "version_minor": 0
      },
      "text/plain": [
       "HBox(children=(HTML(value=''), FloatProgress(value=0.0, max=12.0), HTML(value='')))"
      ]
     },
     "metadata": {},
     "output_type": "display_data"
    },
    {
     "name": "stdout",
     "output_type": "stream",
     "text": [
      "Training Results - Epoch[198/1000] Loss : 3.0531232769482233\n"
     ]
    },
    {
     "data": {
      "application/vnd.jupyter.widget-view+json": {
       "model_id": "",
       "version_major": 2,
       "version_minor": 0
      },
      "text/plain": [
       "HBox(children=(HTML(value=''), FloatProgress(value=0.0, max=13.0), HTML(value='')))"
      ]
     },
     "metadata": {},
     "output_type": "display_data"
    },
    {
     "data": {
      "application/vnd.jupyter.widget-view+json": {
       "model_id": "",
       "version_major": 2,
       "version_minor": 0
      },
      "text/plain": [
       "HBox(children=(HTML(value=''), FloatProgress(value=0.0, max=12.0), HTML(value='')))"
      ]
     },
     "metadata": {},
     "output_type": "display_data"
    },
    {
     "name": "stdout",
     "output_type": "stream",
     "text": [
      "Training Results - Epoch[199/1000] Loss : 2.9693750592802037\n"
     ]
    },
    {
     "data": {
      "application/vnd.jupyter.widget-view+json": {
       "model_id": "",
       "version_major": 2,
       "version_minor": 0
      },
      "text/plain": [
       "HBox(children=(HTML(value=''), FloatProgress(value=0.0, max=13.0), HTML(value='')))"
      ]
     },
     "metadata": {},
     "output_type": "display_data"
    },
    {
     "data": {
      "application/vnd.jupyter.widget-view+json": {
       "model_id": "",
       "version_major": 2,
       "version_minor": 0
      },
      "text/plain": [
       "HBox(children=(HTML(value=''), FloatProgress(value=0.0, max=12.0), HTML(value='')))"
      ]
     },
     "metadata": {},
     "output_type": "display_data"
    },
    {
     "name": "stdout",
     "output_type": "stream",
     "text": [
      "Training Results - Epoch[200/1000] Loss : 2.612624681638463\n"
     ]
    },
    {
     "data": {
      "application/vnd.jupyter.widget-view+json": {
       "model_id": "",
       "version_major": 2,
       "version_minor": 0
      },
      "text/plain": [
       "HBox(children=(HTML(value=''), FloatProgress(value=0.0, max=13.0), HTML(value='')))"
      ]
     },
     "metadata": {},
     "output_type": "display_data"
    },
    {
     "data": {
      "application/vnd.jupyter.widget-view+json": {
       "model_id": "",
       "version_major": 2,
       "version_minor": 0
      },
      "text/plain": [
       "HBox(children=(HTML(value=''), FloatProgress(value=0.0, max=12.0), HTML(value='')))"
      ]
     },
     "metadata": {},
     "output_type": "display_data"
    },
    {
     "name": "stdout",
     "output_type": "stream",
     "text": [
      "Training Results - Epoch[201/1000] Loss : 2.9740082593047066\n"
     ]
    },
    {
     "data": {
      "application/vnd.jupyter.widget-view+json": {
       "model_id": "",
       "version_major": 2,
       "version_minor": 0
      },
      "text/plain": [
       "HBox(children=(HTML(value=''), FloatProgress(value=0.0, max=13.0), HTML(value='')))"
      ]
     },
     "metadata": {},
     "output_type": "display_data"
    },
    {
     "data": {
      "application/vnd.jupyter.widget-view+json": {
       "model_id": "",
       "version_major": 2,
       "version_minor": 0
      },
      "text/plain": [
       "HBox(children=(HTML(value=''), FloatProgress(value=0.0, max=12.0), HTML(value='')))"
      ]
     },
     "metadata": {},
     "output_type": "display_data"
    },
    {
     "name": "stdout",
     "output_type": "stream",
     "text": [
      "Training Results - Epoch[202/1000] Loss : 2.5695261563925014\n"
     ]
    },
    {
     "data": {
      "application/vnd.jupyter.widget-view+json": {
       "model_id": "",
       "version_major": 2,
       "version_minor": 0
      },
      "text/plain": [
       "HBox(children=(HTML(value=''), FloatProgress(value=0.0, max=13.0), HTML(value='')))"
      ]
     },
     "metadata": {},
     "output_type": "display_data"
    },
    {
     "data": {
      "application/vnd.jupyter.widget-view+json": {
       "model_id": "",
       "version_major": 2,
       "version_minor": 0
      },
      "text/plain": [
       "HBox(children=(HTML(value=''), FloatProgress(value=0.0, max=12.0), HTML(value='')))"
      ]
     },
     "metadata": {},
     "output_type": "display_data"
    },
    {
     "name": "stdout",
     "output_type": "stream",
     "text": [
      "Training Results - Epoch[203/1000] Loss : 2.445292326958114\n"
     ]
    },
    {
     "data": {
      "application/vnd.jupyter.widget-view+json": {
       "model_id": "",
       "version_major": 2,
       "version_minor": 0
      },
      "text/plain": [
       "HBox(children=(HTML(value=''), FloatProgress(value=0.0, max=13.0), HTML(value='')))"
      ]
     },
     "metadata": {},
     "output_type": "display_data"
    },
    {
     "data": {
      "application/vnd.jupyter.widget-view+json": {
       "model_id": "",
       "version_major": 2,
       "version_minor": 0
      },
      "text/plain": [
       "HBox(children=(HTML(value=''), FloatProgress(value=0.0, max=12.0), HTML(value='')))"
      ]
     },
     "metadata": {},
     "output_type": "display_data"
    },
    {
     "name": "stdout",
     "output_type": "stream",
     "text": [
      "Training Results - Epoch[204/1000] Loss : 2.6893865747493604\n"
     ]
    },
    {
     "data": {
      "application/vnd.jupyter.widget-view+json": {
       "model_id": "",
       "version_major": 2,
       "version_minor": 0
      },
      "text/plain": [
       "HBox(children=(HTML(value=''), FloatProgress(value=0.0, max=13.0), HTML(value='')))"
      ]
     },
     "metadata": {},
     "output_type": "display_data"
    },
    {
     "data": {
      "application/vnd.jupyter.widget-view+json": {
       "model_id": "",
       "version_major": 2,
       "version_minor": 0
      },
      "text/plain": [
       "HBox(children=(HTML(value=''), FloatProgress(value=0.0, max=12.0), HTML(value='')))"
      ]
     },
     "metadata": {},
     "output_type": "display_data"
    },
    {
     "name": "stdout",
     "output_type": "stream",
     "text": [
      "Training Results - Epoch[205/1000] Loss : 3.062376933735465\n"
     ]
    },
    {
     "data": {
      "application/vnd.jupyter.widget-view+json": {
       "model_id": "",
       "version_major": 2,
       "version_minor": 0
      },
      "text/plain": [
       "HBox(children=(HTML(value=''), FloatProgress(value=0.0, max=13.0), HTML(value='')))"
      ]
     },
     "metadata": {},
     "output_type": "display_data"
    },
    {
     "data": {
      "application/vnd.jupyter.widget-view+json": {
       "model_id": "",
       "version_major": 2,
       "version_minor": 0
      },
      "text/plain": [
       "HBox(children=(HTML(value=''), FloatProgress(value=0.0, max=12.0), HTML(value='')))"
      ]
     },
     "metadata": {},
     "output_type": "display_data"
    },
    {
     "name": "stdout",
     "output_type": "stream",
     "text": [
      "Training Results - Epoch[206/1000] Loss : 3.1434063983140184\n"
     ]
    },
    {
     "data": {
      "application/vnd.jupyter.widget-view+json": {
       "model_id": "",
       "version_major": 2,
       "version_minor": 0
      },
      "text/plain": [
       "HBox(children=(HTML(value=''), FloatProgress(value=0.0, max=13.0), HTML(value='')))"
      ]
     },
     "metadata": {},
     "output_type": "display_data"
    },
    {
     "data": {
      "application/vnd.jupyter.widget-view+json": {
       "model_id": "",
       "version_major": 2,
       "version_minor": 0
      },
      "text/plain": [
       "HBox(children=(HTML(value=''), FloatProgress(value=0.0, max=12.0), HTML(value='')))"
      ]
     },
     "metadata": {},
     "output_type": "display_data"
    },
    {
     "name": "stdout",
     "output_type": "stream",
     "text": [
      "Training Results - Epoch[207/1000] Loss : 2.550354647476388\n"
     ]
    },
    {
     "data": {
      "application/vnd.jupyter.widget-view+json": {
       "model_id": "",
       "version_major": 2,
       "version_minor": 0
      },
      "text/plain": [
       "HBox(children=(HTML(value=''), FloatProgress(value=0.0, max=13.0), HTML(value='')))"
      ]
     },
     "metadata": {},
     "output_type": "display_data"
    },
    {
     "data": {
      "application/vnd.jupyter.widget-view+json": {
       "model_id": "",
       "version_major": 2,
       "version_minor": 0
      },
      "text/plain": [
       "HBox(children=(HTML(value=''), FloatProgress(value=0.0, max=12.0), HTML(value='')))"
      ]
     },
     "metadata": {},
     "output_type": "display_data"
    },
    {
     "name": "stdout",
     "output_type": "stream",
     "text": [
      "Training Results - Epoch[208/1000] Loss : 2.2776848786516433\n"
     ]
    },
    {
     "data": {
      "application/vnd.jupyter.widget-view+json": {
       "model_id": "",
       "version_major": 2,
       "version_minor": 0
      },
      "text/plain": [
       "HBox(children=(HTML(value=''), FloatProgress(value=0.0, max=13.0), HTML(value='')))"
      ]
     },
     "metadata": {},
     "output_type": "display_data"
    },
    {
     "data": {
      "application/vnd.jupyter.widget-view+json": {
       "model_id": "",
       "version_major": 2,
       "version_minor": 0
      },
      "text/plain": [
       "HBox(children=(HTML(value=''), FloatProgress(value=0.0, max=12.0), HTML(value='')))"
      ]
     },
     "metadata": {},
     "output_type": "display_data"
    },
    {
     "name": "stdout",
     "output_type": "stream",
     "text": [
      "Training Results - Epoch[209/1000] Loss : 2.8088065377221456\n"
     ]
    },
    {
     "data": {
      "application/vnd.jupyter.widget-view+json": {
       "model_id": "",
       "version_major": 2,
       "version_minor": 0
      },
      "text/plain": [
       "HBox(children=(HTML(value=''), FloatProgress(value=0.0, max=13.0), HTML(value='')))"
      ]
     },
     "metadata": {},
     "output_type": "display_data"
    },
    {
     "data": {
      "application/vnd.jupyter.widget-view+json": {
       "model_id": "",
       "version_major": 2,
       "version_minor": 0
      },
      "text/plain": [
       "HBox(children=(HTML(value=''), FloatProgress(value=0.0, max=12.0), HTML(value='')))"
      ]
     },
     "metadata": {},
     "output_type": "display_data"
    },
    {
     "name": "stdout",
     "output_type": "stream",
     "text": [
      "Training Results - Epoch[210/1000] Loss : 3.146970292511664\n"
     ]
    },
    {
     "data": {
      "application/vnd.jupyter.widget-view+json": {
       "model_id": "",
       "version_major": 2,
       "version_minor": 0
      },
      "text/plain": [
       "HBox(children=(HTML(value=''), FloatProgress(value=0.0, max=13.0), HTML(value='')))"
      ]
     },
     "metadata": {},
     "output_type": "display_data"
    },
    {
     "data": {
      "application/vnd.jupyter.widget-view+json": {
       "model_id": "",
       "version_major": 2,
       "version_minor": 0
      },
      "text/plain": [
       "HBox(children=(HTML(value=''), FloatProgress(value=0.0, max=12.0), HTML(value='')))"
      ]
     },
     "metadata": {},
     "output_type": "display_data"
    },
    {
     "name": "stdout",
     "output_type": "stream",
     "text": [
      "Training Results - Epoch[211/1000] Loss : 2.8417559123997442\n"
     ]
    },
    {
     "data": {
      "application/vnd.jupyter.widget-view+json": {
       "model_id": "",
       "version_major": 2,
       "version_minor": 0
      },
      "text/plain": [
       "HBox(children=(HTML(value=''), FloatProgress(value=0.0, max=13.0), HTML(value='')))"
      ]
     },
     "metadata": {},
     "output_type": "display_data"
    },
    {
     "data": {
      "application/vnd.jupyter.widget-view+json": {
       "model_id": "",
       "version_major": 2,
       "version_minor": 0
      },
      "text/plain": [
       "HBox(children=(HTML(value=''), FloatProgress(value=0.0, max=12.0), HTML(value='')))"
      ]
     },
     "metadata": {},
     "output_type": "display_data"
    },
    {
     "name": "stdout",
     "output_type": "stream",
     "text": [
      "Training Results - Epoch[212/1000] Loss : 3.021318288509872\n"
     ]
    },
    {
     "data": {
      "application/vnd.jupyter.widget-view+json": {
       "model_id": "",
       "version_major": 2,
       "version_minor": 0
      },
      "text/plain": [
       "HBox(children=(HTML(value=''), FloatProgress(value=0.0, max=13.0), HTML(value='')))"
      ]
     },
     "metadata": {},
     "output_type": "display_data"
    },
    {
     "data": {
      "application/vnd.jupyter.widget-view+json": {
       "model_id": "",
       "version_major": 2,
       "version_minor": 0
      },
      "text/plain": [
       "HBox(children=(HTML(value=''), FloatProgress(value=0.0, max=12.0), HTML(value='')))"
      ]
     },
     "metadata": {},
     "output_type": "display_data"
    },
    {
     "name": "stdout",
     "output_type": "stream",
     "text": [
      "Training Results - Epoch[213/1000] Loss : 2.4632583280181284\n"
     ]
    },
    {
     "data": {
      "application/vnd.jupyter.widget-view+json": {
       "model_id": "",
       "version_major": 2,
       "version_minor": 0
      },
      "text/plain": [
       "HBox(children=(HTML(value=''), FloatProgress(value=0.0, max=13.0), HTML(value='')))"
      ]
     },
     "metadata": {},
     "output_type": "display_data"
    },
    {
     "data": {
      "application/vnd.jupyter.widget-view+json": {
       "model_id": "",
       "version_major": 2,
       "version_minor": 0
      },
      "text/plain": [
       "HBox(children=(HTML(value=''), FloatProgress(value=0.0, max=12.0), HTML(value='')))"
      ]
     },
     "metadata": {},
     "output_type": "display_data"
    },
    {
     "name": "stdout",
     "output_type": "stream",
     "text": [
      "Training Results - Epoch[214/1000] Loss : 3.519630247731035\n"
     ]
    },
    {
     "data": {
      "application/vnd.jupyter.widget-view+json": {
       "model_id": "",
       "version_major": 2,
       "version_minor": 0
      },
      "text/plain": [
       "HBox(children=(HTML(value=''), FloatProgress(value=0.0, max=13.0), HTML(value='')))"
      ]
     },
     "metadata": {},
     "output_type": "display_data"
    },
    {
     "data": {
      "application/vnd.jupyter.widget-view+json": {
       "model_id": "",
       "version_major": 2,
       "version_minor": 0
      },
      "text/plain": [
       "HBox(children=(HTML(value=''), FloatProgress(value=0.0, max=12.0), HTML(value='')))"
      ]
     },
     "metadata": {},
     "output_type": "display_data"
    },
    {
     "name": "stdout",
     "output_type": "stream",
     "text": [
      "Training Results - Epoch[215/1000] Loss : 3.3219114432713757\n"
     ]
    },
    {
     "data": {
      "application/vnd.jupyter.widget-view+json": {
       "model_id": "",
       "version_major": 2,
       "version_minor": 0
      },
      "text/plain": [
       "HBox(children=(HTML(value=''), FloatProgress(value=0.0, max=13.0), HTML(value='')))"
      ]
     },
     "metadata": {},
     "output_type": "display_data"
    },
    {
     "data": {
      "application/vnd.jupyter.widget-view+json": {
       "model_id": "",
       "version_major": 2,
       "version_minor": 0
      },
      "text/plain": [
       "HBox(children=(HTML(value=''), FloatProgress(value=0.0, max=12.0), HTML(value='')))"
      ]
     },
     "metadata": {},
     "output_type": "display_data"
    },
    {
     "name": "stdout",
     "output_type": "stream",
     "text": [
      "Training Results - Epoch[216/1000] Loss : 3.052866604818969\n"
     ]
    },
    {
     "data": {
      "application/vnd.jupyter.widget-view+json": {
       "model_id": "",
       "version_major": 2,
       "version_minor": 0
      },
      "text/plain": [
       "HBox(children=(HTML(value=''), FloatProgress(value=0.0, max=13.0), HTML(value='')))"
      ]
     },
     "metadata": {},
     "output_type": "display_data"
    },
    {
     "data": {
      "application/vnd.jupyter.widget-view+json": {
       "model_id": "",
       "version_major": 2,
       "version_minor": 0
      },
      "text/plain": [
       "HBox(children=(HTML(value=''), FloatProgress(value=0.0, max=12.0), HTML(value='')))"
      ]
     },
     "metadata": {},
     "output_type": "display_data"
    },
    {
     "name": "stdout",
     "output_type": "stream",
     "text": [
      "Training Results - Epoch[217/1000] Loss : 2.416189606818503\n"
     ]
    },
    {
     "data": {
      "application/vnd.jupyter.widget-view+json": {
       "model_id": "",
       "version_major": 2,
       "version_minor": 0
      },
      "text/plain": [
       "HBox(children=(HTML(value=''), FloatProgress(value=0.0, max=13.0), HTML(value='')))"
      ]
     },
     "metadata": {},
     "output_type": "display_data"
    },
    {
     "data": {
      "application/vnd.jupyter.widget-view+json": {
       "model_id": "",
       "version_major": 2,
       "version_minor": 0
      },
      "text/plain": [
       "HBox(children=(HTML(value=''), FloatProgress(value=0.0, max=12.0), HTML(value='')))"
      ]
     },
     "metadata": {},
     "output_type": "display_data"
    },
    {
     "name": "stdout",
     "output_type": "stream",
     "text": [
      "Training Results - Epoch[218/1000] Loss : 3.5521728383008186\n"
     ]
    },
    {
     "data": {
      "application/vnd.jupyter.widget-view+json": {
       "model_id": "",
       "version_major": 2,
       "version_minor": 0
      },
      "text/plain": [
       "HBox(children=(HTML(value=''), FloatProgress(value=0.0, max=13.0), HTML(value='')))"
      ]
     },
     "metadata": {},
     "output_type": "display_data"
    },
    {
     "data": {
      "application/vnd.jupyter.widget-view+json": {
       "model_id": "",
       "version_major": 2,
       "version_minor": 0
      },
      "text/plain": [
       "HBox(children=(HTML(value=''), FloatProgress(value=0.0, max=12.0), HTML(value='')))"
      ]
     },
     "metadata": {},
     "output_type": "display_data"
    },
    {
     "name": "stdout",
     "output_type": "stream",
     "text": [
      "Training Results - Epoch[219/1000] Loss : 2.435231087827046\n"
     ]
    },
    {
     "data": {
      "application/vnd.jupyter.widget-view+json": {
       "model_id": "",
       "version_major": 2,
       "version_minor": 0
      },
      "text/plain": [
       "HBox(children=(HTML(value=''), FloatProgress(value=0.0, max=13.0), HTML(value='')))"
      ]
     },
     "metadata": {},
     "output_type": "display_data"
    },
    {
     "data": {
      "application/vnd.jupyter.widget-view+json": {
       "model_id": "",
       "version_major": 2,
       "version_minor": 0
      },
      "text/plain": [
       "HBox(children=(HTML(value=''), FloatProgress(value=0.0, max=12.0), HTML(value='')))"
      ]
     },
     "metadata": {},
     "output_type": "display_data"
    },
    {
     "name": "stdout",
     "output_type": "stream",
     "text": [
      "Training Results - Epoch[220/1000] Loss : 1.9899313161798902\n"
     ]
    },
    {
     "data": {
      "application/vnd.jupyter.widget-view+json": {
       "model_id": "",
       "version_major": 2,
       "version_minor": 0
      },
      "text/plain": [
       "HBox(children=(HTML(value=''), FloatProgress(value=0.0, max=13.0), HTML(value='')))"
      ]
     },
     "metadata": {},
     "output_type": "display_data"
    },
    {
     "data": {
      "application/vnd.jupyter.widget-view+json": {
       "model_id": "",
       "version_major": 2,
       "version_minor": 0
      },
      "text/plain": [
       "HBox(children=(HTML(value=''), FloatProgress(value=0.0, max=12.0), HTML(value='')))"
      ]
     },
     "metadata": {},
     "output_type": "display_data"
    },
    {
     "name": "stdout",
     "output_type": "stream",
     "text": [
      "Training Results - Epoch[221/1000] Loss : 2.977361619760658\n"
     ]
    },
    {
     "data": {
      "application/vnd.jupyter.widget-view+json": {
       "model_id": "",
       "version_major": 2,
       "version_minor": 0
      },
      "text/plain": [
       "HBox(children=(HTML(value=''), FloatProgress(value=0.0, max=13.0), HTML(value='')))"
      ]
     },
     "metadata": {},
     "output_type": "display_data"
    },
    {
     "data": {
      "application/vnd.jupyter.widget-view+json": {
       "model_id": "",
       "version_major": 2,
       "version_minor": 0
      },
      "text/plain": [
       "HBox(children=(HTML(value=''), FloatProgress(value=0.0, max=12.0), HTML(value='')))"
      ]
     },
     "metadata": {},
     "output_type": "display_data"
    },
    {
     "name": "stdout",
     "output_type": "stream",
     "text": [
      "Training Results - Epoch[222/1000] Loss : 2.3473653493490896\n"
     ]
    },
    {
     "data": {
      "application/vnd.jupyter.widget-view+json": {
       "model_id": "",
       "version_major": 2,
       "version_minor": 0
      },
      "text/plain": [
       "HBox(children=(HTML(value=''), FloatProgress(value=0.0, max=13.0), HTML(value='')))"
      ]
     },
     "metadata": {},
     "output_type": "display_data"
    },
    {
     "data": {
      "application/vnd.jupyter.widget-view+json": {
       "model_id": "",
       "version_major": 2,
       "version_minor": 0
      },
      "text/plain": [
       "HBox(children=(HTML(value=''), FloatProgress(value=0.0, max=12.0), HTML(value='')))"
      ]
     },
     "metadata": {},
     "output_type": "display_data"
    },
    {
     "name": "stdout",
     "output_type": "stream",
     "text": [
      "Training Results - Epoch[223/1000] Loss : 3.2563433370983987\n"
     ]
    },
    {
     "data": {
      "application/vnd.jupyter.widget-view+json": {
       "model_id": "",
       "version_major": 2,
       "version_minor": 0
      },
      "text/plain": [
       "HBox(children=(HTML(value=''), FloatProgress(value=0.0, max=13.0), HTML(value='')))"
      ]
     },
     "metadata": {},
     "output_type": "display_data"
    },
    {
     "data": {
      "application/vnd.jupyter.widget-view+json": {
       "model_id": "",
       "version_major": 2,
       "version_minor": 0
      },
      "text/plain": [
       "HBox(children=(HTML(value=''), FloatProgress(value=0.0, max=12.0), HTML(value='')))"
      ]
     },
     "metadata": {},
     "output_type": "display_data"
    },
    {
     "name": "stdout",
     "output_type": "stream",
     "text": [
      "Training Results - Epoch[224/1000] Loss : 2.60664737562778\n"
     ]
    },
    {
     "data": {
      "application/vnd.jupyter.widget-view+json": {
       "model_id": "",
       "version_major": 2,
       "version_minor": 0
      },
      "text/plain": [
       "HBox(children=(HTML(value=''), FloatProgress(value=0.0, max=13.0), HTML(value='')))"
      ]
     },
     "metadata": {},
     "output_type": "display_data"
    },
    {
     "data": {
      "application/vnd.jupyter.widget-view+json": {
       "model_id": "",
       "version_major": 2,
       "version_minor": 0
      },
      "text/plain": [
       "HBox(children=(HTML(value=''), FloatProgress(value=0.0, max=12.0), HTML(value='')))"
      ]
     },
     "metadata": {},
     "output_type": "display_data"
    },
    {
     "name": "stdout",
     "output_type": "stream",
     "text": [
      "Training Results - Epoch[225/1000] Loss : 3.3842677396011465\n"
     ]
    },
    {
     "data": {
      "application/vnd.jupyter.widget-view+json": {
       "model_id": "",
       "version_major": 2,
       "version_minor": 0
      },
      "text/plain": [
       "HBox(children=(HTML(value=''), FloatProgress(value=0.0, max=13.0), HTML(value='')))"
      ]
     },
     "metadata": {},
     "output_type": "display_data"
    },
    {
     "data": {
      "application/vnd.jupyter.widget-view+json": {
       "model_id": "",
       "version_major": 2,
       "version_minor": 0
      },
      "text/plain": [
       "HBox(children=(HTML(value=''), FloatProgress(value=0.0, max=12.0), HTML(value='')))"
      ]
     },
     "metadata": {},
     "output_type": "display_data"
    },
    {
     "name": "stdout",
     "output_type": "stream",
     "text": [
      "Training Results - Epoch[226/1000] Loss : 4.051586792728442\n"
     ]
    },
    {
     "data": {
      "application/vnd.jupyter.widget-view+json": {
       "model_id": "",
       "version_major": 2,
       "version_minor": 0
      },
      "text/plain": [
       "HBox(children=(HTML(value=''), FloatProgress(value=0.0, max=13.0), HTML(value='')))"
      ]
     },
     "metadata": {},
     "output_type": "display_data"
    },
    {
     "data": {
      "application/vnd.jupyter.widget-view+json": {
       "model_id": "",
       "version_major": 2,
       "version_minor": 0
      },
      "text/plain": [
       "HBox(children=(HTML(value=''), FloatProgress(value=0.0, max=12.0), HTML(value='')))"
      ]
     },
     "metadata": {},
     "output_type": "display_data"
    },
    {
     "name": "stdout",
     "output_type": "stream",
     "text": [
      "Training Results - Epoch[227/1000] Loss : 3.23852197065782\n"
     ]
    },
    {
     "data": {
      "application/vnd.jupyter.widget-view+json": {
       "model_id": "",
       "version_major": 2,
       "version_minor": 0
      },
      "text/plain": [
       "HBox(children=(HTML(value=''), FloatProgress(value=0.0, max=13.0), HTML(value='')))"
      ]
     },
     "metadata": {},
     "output_type": "display_data"
    },
    {
     "data": {
      "application/vnd.jupyter.widget-view+json": {
       "model_id": "",
       "version_major": 2,
       "version_minor": 0
      },
      "text/plain": [
       "HBox(children=(HTML(value=''), FloatProgress(value=0.0, max=12.0), HTML(value='')))"
      ]
     },
     "metadata": {},
     "output_type": "display_data"
    },
    {
     "name": "stdout",
     "output_type": "stream",
     "text": [
      "Training Results - Epoch[228/1000] Loss : 4.428185654923623\n"
     ]
    },
    {
     "data": {
      "application/vnd.jupyter.widget-view+json": {
       "model_id": "",
       "version_major": 2,
       "version_minor": 0
      },
      "text/plain": [
       "HBox(children=(HTML(value=''), FloatProgress(value=0.0, max=13.0), HTML(value='')))"
      ]
     },
     "metadata": {},
     "output_type": "display_data"
    },
    {
     "data": {
      "application/vnd.jupyter.widget-view+json": {
       "model_id": "",
       "version_major": 2,
       "version_minor": 0
      },
      "text/plain": [
       "HBox(children=(HTML(value=''), FloatProgress(value=0.0, max=12.0), HTML(value='')))"
      ]
     },
     "metadata": {},
     "output_type": "display_data"
    },
    {
     "name": "stdout",
     "output_type": "stream",
     "text": [
      "Training Results - Epoch[229/1000] Loss : 3.297311799265749\n"
     ]
    },
    {
     "data": {
      "application/vnd.jupyter.widget-view+json": {
       "model_id": "",
       "version_major": 2,
       "version_minor": 0
      },
      "text/plain": [
       "HBox(children=(HTML(value=''), FloatProgress(value=0.0, max=13.0), HTML(value='')))"
      ]
     },
     "metadata": {},
     "output_type": "display_data"
    },
    {
     "data": {
      "application/vnd.jupyter.widget-view+json": {
       "model_id": "",
       "version_major": 2,
       "version_minor": 0
      },
      "text/plain": [
       "HBox(children=(HTML(value=''), FloatProgress(value=0.0, max=12.0), HTML(value='')))"
      ]
     },
     "metadata": {},
     "output_type": "display_data"
    },
    {
     "name": "stdout",
     "output_type": "stream",
     "text": [
      "Training Results - Epoch[230/1000] Loss : 3.6754035243834595\n"
     ]
    },
    {
     "data": {
      "application/vnd.jupyter.widget-view+json": {
       "model_id": "",
       "version_major": 2,
       "version_minor": 0
      },
      "text/plain": [
       "HBox(children=(HTML(value=''), FloatProgress(value=0.0, max=13.0), HTML(value='')))"
      ]
     },
     "metadata": {},
     "output_type": "display_data"
    },
    {
     "data": {
      "application/vnd.jupyter.widget-view+json": {
       "model_id": "",
       "version_major": 2,
       "version_minor": 0
      },
      "text/plain": [
       "HBox(children=(HTML(value=''), FloatProgress(value=0.0, max=12.0), HTML(value='')))"
      ]
     },
     "metadata": {},
     "output_type": "display_data"
    },
    {
     "name": "stdout",
     "output_type": "stream",
     "text": [
      "Training Results - Epoch[231/1000] Loss : 2.3017902859069452\n"
     ]
    },
    {
     "data": {
      "application/vnd.jupyter.widget-view+json": {
       "model_id": "",
       "version_major": 2,
       "version_minor": 0
      },
      "text/plain": [
       "HBox(children=(HTML(value=''), FloatProgress(value=0.0, max=13.0), HTML(value='')))"
      ]
     },
     "metadata": {},
     "output_type": "display_data"
    },
    {
     "data": {
      "application/vnd.jupyter.widget-view+json": {
       "model_id": "",
       "version_major": 2,
       "version_minor": 0
      },
      "text/plain": [
       "HBox(children=(HTML(value=''), FloatProgress(value=0.0, max=12.0), HTML(value='')))"
      ]
     },
     "metadata": {},
     "output_type": "display_data"
    },
    {
     "name": "stdout",
     "output_type": "stream",
     "text": [
      "Training Results - Epoch[232/1000] Loss : 2.1309016004944685\n"
     ]
    },
    {
     "data": {
      "application/vnd.jupyter.widget-view+json": {
       "model_id": "",
       "version_major": 2,
       "version_minor": 0
      },
      "text/plain": [
       "HBox(children=(HTML(value=''), FloatProgress(value=0.0, max=13.0), HTML(value='')))"
      ]
     },
     "metadata": {},
     "output_type": "display_data"
    },
    {
     "data": {
      "application/vnd.jupyter.widget-view+json": {
       "model_id": "",
       "version_major": 2,
       "version_minor": 0
      },
      "text/plain": [
       "HBox(children=(HTML(value=''), FloatProgress(value=0.0, max=12.0), HTML(value='')))"
      ]
     },
     "metadata": {},
     "output_type": "display_data"
    },
    {
     "name": "stdout",
     "output_type": "stream",
     "text": [
      "Training Results - Epoch[233/1000] Loss : 4.03288129538999\n"
     ]
    },
    {
     "data": {
      "application/vnd.jupyter.widget-view+json": {
       "model_id": "",
       "version_major": 2,
       "version_minor": 0
      },
      "text/plain": [
       "HBox(children=(HTML(value=''), FloatProgress(value=0.0, max=13.0), HTML(value='')))"
      ]
     },
     "metadata": {},
     "output_type": "display_data"
    },
    {
     "data": {
      "application/vnd.jupyter.widget-view+json": {
       "model_id": "",
       "version_major": 2,
       "version_minor": 0
      },
      "text/plain": [
       "HBox(children=(HTML(value=''), FloatProgress(value=0.0, max=12.0), HTML(value='')))"
      ]
     },
     "metadata": {},
     "output_type": "display_data"
    },
    {
     "name": "stdout",
     "output_type": "stream",
     "text": [
      "Training Results - Epoch[234/1000] Loss : 3.9391852449289386\n"
     ]
    },
    {
     "data": {
      "application/vnd.jupyter.widget-view+json": {
       "model_id": "",
       "version_major": 2,
       "version_minor": 0
      },
      "text/plain": [
       "HBox(children=(HTML(value=''), FloatProgress(value=0.0, max=13.0), HTML(value='')))"
      ]
     },
     "metadata": {},
     "output_type": "display_data"
    },
    {
     "data": {
      "application/vnd.jupyter.widget-view+json": {
       "model_id": "",
       "version_major": 2,
       "version_minor": 0
      },
      "text/plain": [
       "HBox(children=(HTML(value=''), FloatProgress(value=0.0, max=12.0), HTML(value='')))"
      ]
     },
     "metadata": {},
     "output_type": "display_data"
    },
    {
     "name": "stdout",
     "output_type": "stream",
     "text": [
      "Training Results - Epoch[235/1000] Loss : 3.4300352236173897\n"
     ]
    },
    {
     "data": {
      "application/vnd.jupyter.widget-view+json": {
       "model_id": "",
       "version_major": 2,
       "version_minor": 0
      },
      "text/plain": [
       "HBox(children=(HTML(value=''), FloatProgress(value=0.0, max=13.0), HTML(value='')))"
      ]
     },
     "metadata": {},
     "output_type": "display_data"
    },
    {
     "data": {
      "application/vnd.jupyter.widget-view+json": {
       "model_id": "",
       "version_major": 2,
       "version_minor": 0
      },
      "text/plain": [
       "HBox(children=(HTML(value=''), FloatProgress(value=0.0, max=12.0), HTML(value='')))"
      ]
     },
     "metadata": {},
     "output_type": "display_data"
    },
    {
     "name": "stdout",
     "output_type": "stream",
     "text": [
      "Training Results - Epoch[236/1000] Loss : 2.9784987674093966\n"
     ]
    },
    {
     "data": {
      "application/vnd.jupyter.widget-view+json": {
       "model_id": "",
       "version_major": 2,
       "version_minor": 0
      },
      "text/plain": [
       "HBox(children=(HTML(value=''), FloatProgress(value=0.0, max=13.0), HTML(value='')))"
      ]
     },
     "metadata": {},
     "output_type": "display_data"
    },
    {
     "data": {
      "application/vnd.jupyter.widget-view+json": {
       "model_id": "",
       "version_major": 2,
       "version_minor": 0
      },
      "text/plain": [
       "HBox(children=(HTML(value=''), FloatProgress(value=0.0, max=12.0), HTML(value='')))"
      ]
     },
     "metadata": {},
     "output_type": "display_data"
    },
    {
     "name": "stdout",
     "output_type": "stream",
     "text": [
      "Training Results - Epoch[237/1000] Loss : 3.4600411539660327\n"
     ]
    },
    {
     "data": {
      "application/vnd.jupyter.widget-view+json": {
       "model_id": "",
       "version_major": 2,
       "version_minor": 0
      },
      "text/plain": [
       "HBox(children=(HTML(value=''), FloatProgress(value=0.0, max=13.0), HTML(value='')))"
      ]
     },
     "metadata": {},
     "output_type": "display_data"
    },
    {
     "data": {
      "application/vnd.jupyter.widget-view+json": {
       "model_id": "",
       "version_major": 2,
       "version_minor": 0
      },
      "text/plain": [
       "HBox(children=(HTML(value=''), FloatProgress(value=0.0, max=12.0), HTML(value='')))"
      ]
     },
     "metadata": {},
     "output_type": "display_data"
    },
    {
     "name": "stdout",
     "output_type": "stream",
     "text": [
      "Training Results - Epoch[238/1000] Loss : 3.22610575458833\n"
     ]
    },
    {
     "data": {
      "application/vnd.jupyter.widget-view+json": {
       "model_id": "",
       "version_major": 2,
       "version_minor": 0
      },
      "text/plain": [
       "HBox(children=(HTML(value=''), FloatProgress(value=0.0, max=13.0), HTML(value='')))"
      ]
     },
     "metadata": {},
     "output_type": "display_data"
    },
    {
     "data": {
      "application/vnd.jupyter.widget-view+json": {
       "model_id": "",
       "version_major": 2,
       "version_minor": 0
      },
      "text/plain": [
       "HBox(children=(HTML(value=''), FloatProgress(value=0.0, max=12.0), HTML(value='')))"
      ]
     },
     "metadata": {},
     "output_type": "display_data"
    },
    {
     "name": "stdout",
     "output_type": "stream",
     "text": [
      "Training Results - Epoch[239/1000] Loss : 2.4243054240974504\n"
     ]
    },
    {
     "data": {
      "application/vnd.jupyter.widget-view+json": {
       "model_id": "",
       "version_major": 2,
       "version_minor": 0
      },
      "text/plain": [
       "HBox(children=(HTML(value=''), FloatProgress(value=0.0, max=13.0), HTML(value='')))"
      ]
     },
     "metadata": {},
     "output_type": "display_data"
    },
    {
     "data": {
      "application/vnd.jupyter.widget-view+json": {
       "model_id": "",
       "version_major": 2,
       "version_minor": 0
      },
      "text/plain": [
       "HBox(children=(HTML(value=''), FloatProgress(value=0.0, max=12.0), HTML(value='')))"
      ]
     },
     "metadata": {},
     "output_type": "display_data"
    },
    {
     "name": "stdout",
     "output_type": "stream",
     "text": [
      "Training Results - Epoch[240/1000] Loss : 3.220092821069415\n"
     ]
    },
    {
     "data": {
      "application/vnd.jupyter.widget-view+json": {
       "model_id": "",
       "version_major": 2,
       "version_minor": 0
      },
      "text/plain": [
       "HBox(children=(HTML(value=''), FloatProgress(value=0.0, max=13.0), HTML(value='')))"
      ]
     },
     "metadata": {},
     "output_type": "display_data"
    },
    {
     "data": {
      "application/vnd.jupyter.widget-view+json": {
       "model_id": "",
       "version_major": 2,
       "version_minor": 0
      },
      "text/plain": [
       "HBox(children=(HTML(value=''), FloatProgress(value=0.0, max=12.0), HTML(value='')))"
      ]
     },
     "metadata": {},
     "output_type": "display_data"
    },
    {
     "name": "stdout",
     "output_type": "stream",
     "text": [
      "Training Results - Epoch[241/1000] Loss : 4.122734462648239\n"
     ]
    },
    {
     "data": {
      "application/vnd.jupyter.widget-view+json": {
       "model_id": "",
       "version_major": 2,
       "version_minor": 0
      },
      "text/plain": [
       "HBox(children=(HTML(value=''), FloatProgress(value=0.0, max=13.0), HTML(value='')))"
      ]
     },
     "metadata": {},
     "output_type": "display_data"
    },
    {
     "data": {
      "application/vnd.jupyter.widget-view+json": {
       "model_id": "",
       "version_major": 2,
       "version_minor": 0
      },
      "text/plain": [
       "HBox(children=(HTML(value=''), FloatProgress(value=0.0, max=12.0), HTML(value='')))"
      ]
     },
     "metadata": {},
     "output_type": "display_data"
    },
    {
     "name": "stdout",
     "output_type": "stream",
     "text": [
      "Training Results - Epoch[242/1000] Loss : 3.117765277515634\n"
     ]
    },
    {
     "data": {
      "application/vnd.jupyter.widget-view+json": {
       "model_id": "",
       "version_major": 2,
       "version_minor": 0
      },
      "text/plain": [
       "HBox(children=(HTML(value=''), FloatProgress(value=0.0, max=13.0), HTML(value='')))"
      ]
     },
     "metadata": {},
     "output_type": "display_data"
    },
    {
     "data": {
      "application/vnd.jupyter.widget-view+json": {
       "model_id": "",
       "version_major": 2,
       "version_minor": 0
      },
      "text/plain": [
       "HBox(children=(HTML(value=''), FloatProgress(value=0.0, max=12.0), HTML(value='')))"
      ]
     },
     "metadata": {},
     "output_type": "display_data"
    },
    {
     "name": "stdout",
     "output_type": "stream",
     "text": [
      "Training Results - Epoch[243/1000] Loss : 2.7250564412788707\n"
     ]
    },
    {
     "data": {
      "application/vnd.jupyter.widget-view+json": {
       "model_id": "",
       "version_major": 2,
       "version_minor": 0
      },
      "text/plain": [
       "HBox(children=(HTML(value=''), FloatProgress(value=0.0, max=13.0), HTML(value='')))"
      ]
     },
     "metadata": {},
     "output_type": "display_data"
    },
    {
     "data": {
      "application/vnd.jupyter.widget-view+json": {
       "model_id": "",
       "version_major": 2,
       "version_minor": 0
      },
      "text/plain": [
       "HBox(children=(HTML(value=''), FloatProgress(value=0.0, max=12.0), HTML(value='')))"
      ]
     },
     "metadata": {},
     "output_type": "display_data"
    },
    {
     "name": "stdout",
     "output_type": "stream",
     "text": [
      "Training Results - Epoch[244/1000] Loss : 2.7224023761703253\n"
     ]
    },
    {
     "data": {
      "application/vnd.jupyter.widget-view+json": {
       "model_id": "",
       "version_major": 2,
       "version_minor": 0
      },
      "text/plain": [
       "HBox(children=(HTML(value=''), FloatProgress(value=0.0, max=13.0), HTML(value='')))"
      ]
     },
     "metadata": {},
     "output_type": "display_data"
    },
    {
     "data": {
      "application/vnd.jupyter.widget-view+json": {
       "model_id": "",
       "version_major": 2,
       "version_minor": 0
      },
      "text/plain": [
       "HBox(children=(HTML(value=''), FloatProgress(value=0.0, max=12.0), HTML(value='')))"
      ]
     },
     "metadata": {},
     "output_type": "display_data"
    },
    {
     "name": "stdout",
     "output_type": "stream",
     "text": [
      "Training Results - Epoch[245/1000] Loss : 3.1037219607645516\n"
     ]
    },
    {
     "data": {
      "application/vnd.jupyter.widget-view+json": {
       "model_id": "",
       "version_major": 2,
       "version_minor": 0
      },
      "text/plain": [
       "HBox(children=(HTML(value=''), FloatProgress(value=0.0, max=13.0), HTML(value='')))"
      ]
     },
     "metadata": {},
     "output_type": "display_data"
    },
    {
     "data": {
      "application/vnd.jupyter.widget-view+json": {
       "model_id": "",
       "version_major": 2,
       "version_minor": 0
      },
      "text/plain": [
       "HBox(children=(HTML(value=''), FloatProgress(value=0.0, max=12.0), HTML(value='')))"
      ]
     },
     "metadata": {},
     "output_type": "display_data"
    },
    {
     "name": "stdout",
     "output_type": "stream",
     "text": [
      "Training Results - Epoch[246/1000] Loss : 3.2408569058319987\n"
     ]
    },
    {
     "data": {
      "application/vnd.jupyter.widget-view+json": {
       "model_id": "",
       "version_major": 2,
       "version_minor": 0
      },
      "text/plain": [
       "HBox(children=(HTML(value=''), FloatProgress(value=0.0, max=13.0), HTML(value='')))"
      ]
     },
     "metadata": {},
     "output_type": "display_data"
    },
    {
     "data": {
      "application/vnd.jupyter.widget-view+json": {
       "model_id": "",
       "version_major": 2,
       "version_minor": 0
      },
      "text/plain": [
       "HBox(children=(HTML(value=''), FloatProgress(value=0.0, max=12.0), HTML(value='')))"
      ]
     },
     "metadata": {},
     "output_type": "display_data"
    },
    {
     "name": "stdout",
     "output_type": "stream",
     "text": [
      "Training Results - Epoch[247/1000] Loss : 2.694037923439406\n"
     ]
    },
    {
     "data": {
      "application/vnd.jupyter.widget-view+json": {
       "model_id": "",
       "version_major": 2,
       "version_minor": 0
      },
      "text/plain": [
       "HBox(children=(HTML(value=''), FloatProgress(value=0.0, max=13.0), HTML(value='')))"
      ]
     },
     "metadata": {},
     "output_type": "display_data"
    },
    {
     "data": {
      "application/vnd.jupyter.widget-view+json": {
       "model_id": "",
       "version_major": 2,
       "version_minor": 0
      },
      "text/plain": [
       "HBox(children=(HTML(value=''), FloatProgress(value=0.0, max=12.0), HTML(value='')))"
      ]
     },
     "metadata": {},
     "output_type": "display_data"
    },
    {
     "name": "stdout",
     "output_type": "stream",
     "text": [
      "Training Results - Epoch[248/1000] Loss : 3.5858667100059893\n"
     ]
    },
    {
     "data": {
      "application/vnd.jupyter.widget-view+json": {
       "model_id": "",
       "version_major": 2,
       "version_minor": 0
      },
      "text/plain": [
       "HBox(children=(HTML(value=''), FloatProgress(value=0.0, max=13.0), HTML(value='')))"
      ]
     },
     "metadata": {},
     "output_type": "display_data"
    },
    {
     "data": {
      "application/vnd.jupyter.widget-view+json": {
       "model_id": "",
       "version_major": 2,
       "version_minor": 0
      },
      "text/plain": [
       "HBox(children=(HTML(value=''), FloatProgress(value=0.0, max=12.0), HTML(value='')))"
      ]
     },
     "metadata": {},
     "output_type": "display_data"
    },
    {
     "name": "stdout",
     "output_type": "stream",
     "text": [
      "Training Results - Epoch[249/1000] Loss : 3.0195986516839164\n"
     ]
    },
    {
     "data": {
      "application/vnd.jupyter.widget-view+json": {
       "model_id": "",
       "version_major": 2,
       "version_minor": 0
      },
      "text/plain": [
       "HBox(children=(HTML(value=''), FloatProgress(value=0.0, max=13.0), HTML(value='')))"
      ]
     },
     "metadata": {},
     "output_type": "display_data"
    },
    {
     "data": {
      "application/vnd.jupyter.widget-view+json": {
       "model_id": "",
       "version_major": 2,
       "version_minor": 0
      },
      "text/plain": [
       "HBox(children=(HTML(value=''), FloatProgress(value=0.0, max=12.0), HTML(value='')))"
      ]
     },
     "metadata": {},
     "output_type": "display_data"
    },
    {
     "name": "stdout",
     "output_type": "stream",
     "text": [
      "Training Results - Epoch[250/1000] Loss : 2.462643696872602\n"
     ]
    },
    {
     "data": {
      "application/vnd.jupyter.widget-view+json": {
       "model_id": "",
       "version_major": 2,
       "version_minor": 0
      },
      "text/plain": [
       "HBox(children=(HTML(value=''), FloatProgress(value=0.0, max=13.0), HTML(value='')))"
      ]
     },
     "metadata": {},
     "output_type": "display_data"
    },
    {
     "data": {
      "application/vnd.jupyter.widget-view+json": {
       "model_id": "",
       "version_major": 2,
       "version_minor": 0
      },
      "text/plain": [
       "HBox(children=(HTML(value=''), FloatProgress(value=0.0, max=12.0), HTML(value='')))"
      ]
     },
     "metadata": {},
     "output_type": "display_data"
    },
    {
     "name": "stdout",
     "output_type": "stream",
     "text": [
      "Training Results - Epoch[251/1000] Loss : 3.4878294130234115\n"
     ]
    },
    {
     "data": {
      "application/vnd.jupyter.widget-view+json": {
       "model_id": "",
       "version_major": 2,
       "version_minor": 0
      },
      "text/plain": [
       "HBox(children=(HTML(value=''), FloatProgress(value=0.0, max=13.0), HTML(value='')))"
      ]
     },
     "metadata": {},
     "output_type": "display_data"
    },
    {
     "data": {
      "application/vnd.jupyter.widget-view+json": {
       "model_id": "",
       "version_major": 2,
       "version_minor": 0
      },
      "text/plain": [
       "HBox(children=(HTML(value=''), FloatProgress(value=0.0, max=12.0), HTML(value='')))"
      ]
     },
     "metadata": {},
     "output_type": "display_data"
    },
    {
     "name": "stdout",
     "output_type": "stream",
     "text": [
      "Training Results - Epoch[252/1000] Loss : 3.154083183318748\n"
     ]
    },
    {
     "data": {
      "application/vnd.jupyter.widget-view+json": {
       "model_id": "",
       "version_major": 2,
       "version_minor": 0
      },
      "text/plain": [
       "HBox(children=(HTML(value=''), FloatProgress(value=0.0, max=13.0), HTML(value='')))"
      ]
     },
     "metadata": {},
     "output_type": "display_data"
    },
    {
     "data": {
      "application/vnd.jupyter.widget-view+json": {
       "model_id": "",
       "version_major": 2,
       "version_minor": 0
      },
      "text/plain": [
       "HBox(children=(HTML(value=''), FloatProgress(value=0.0, max=12.0), HTML(value='')))"
      ]
     },
     "metadata": {},
     "output_type": "display_data"
    },
    {
     "name": "stdout",
     "output_type": "stream",
     "text": [
      "Training Results - Epoch[253/1000] Loss : 3.3607838410432023\n"
     ]
    },
    {
     "data": {
      "application/vnd.jupyter.widget-view+json": {
       "model_id": "",
       "version_major": 2,
       "version_minor": 0
      },
      "text/plain": [
       "HBox(children=(HTML(value=''), FloatProgress(value=0.0, max=13.0), HTML(value='')))"
      ]
     },
     "metadata": {},
     "output_type": "display_data"
    },
    {
     "data": {
      "application/vnd.jupyter.widget-view+json": {
       "model_id": "",
       "version_major": 2,
       "version_minor": 0
      },
      "text/plain": [
       "HBox(children=(HTML(value=''), FloatProgress(value=0.0, max=12.0), HTML(value='')))"
      ]
     },
     "metadata": {},
     "output_type": "display_data"
    },
    {
     "name": "stdout",
     "output_type": "stream",
     "text": [
      "Training Results - Epoch[254/1000] Loss : 2.253885317281841\n"
     ]
    },
    {
     "data": {
      "application/vnd.jupyter.widget-view+json": {
       "model_id": "",
       "version_major": 2,
       "version_minor": 0
      },
      "text/plain": [
       "HBox(children=(HTML(value=''), FloatProgress(value=0.0, max=13.0), HTML(value='')))"
      ]
     },
     "metadata": {},
     "output_type": "display_data"
    },
    {
     "data": {
      "application/vnd.jupyter.widget-view+json": {
       "model_id": "",
       "version_major": 2,
       "version_minor": 0
      },
      "text/plain": [
       "HBox(children=(HTML(value=''), FloatProgress(value=0.0, max=12.0), HTML(value='')))"
      ]
     },
     "metadata": {},
     "output_type": "display_data"
    },
    {
     "name": "stdout",
     "output_type": "stream",
     "text": [
      "Training Results - Epoch[255/1000] Loss : 3.024313241937148\n"
     ]
    },
    {
     "data": {
      "application/vnd.jupyter.widget-view+json": {
       "model_id": "",
       "version_major": 2,
       "version_minor": 0
      },
      "text/plain": [
       "HBox(children=(HTML(value=''), FloatProgress(value=0.0, max=13.0), HTML(value='')))"
      ]
     },
     "metadata": {},
     "output_type": "display_data"
    },
    {
     "data": {
      "application/vnd.jupyter.widget-view+json": {
       "model_id": "",
       "version_major": 2,
       "version_minor": 0
      },
      "text/plain": [
       "HBox(children=(HTML(value=''), FloatProgress(value=0.0, max=12.0), HTML(value='')))"
      ]
     },
     "metadata": {},
     "output_type": "display_data"
    },
    {
     "name": "stdout",
     "output_type": "stream",
     "text": [
      "Training Results - Epoch[256/1000] Loss : 4.4109829723853595\n"
     ]
    },
    {
     "data": {
      "application/vnd.jupyter.widget-view+json": {
       "model_id": "",
       "version_major": 2,
       "version_minor": 0
      },
      "text/plain": [
       "HBox(children=(HTML(value=''), FloatProgress(value=0.0, max=13.0), HTML(value='')))"
      ]
     },
     "metadata": {},
     "output_type": "display_data"
    },
    {
     "data": {
      "application/vnd.jupyter.widget-view+json": {
       "model_id": "",
       "version_major": 2,
       "version_minor": 0
      },
      "text/plain": [
       "HBox(children=(HTML(value=''), FloatProgress(value=0.0, max=12.0), HTML(value='')))"
      ]
     },
     "metadata": {},
     "output_type": "display_data"
    },
    {
     "name": "stdout",
     "output_type": "stream",
     "text": [
      "Training Results - Epoch[257/1000] Loss : 2.466934106522794\n"
     ]
    },
    {
     "data": {
      "application/vnd.jupyter.widget-view+json": {
       "model_id": "",
       "version_major": 2,
       "version_minor": 0
      },
      "text/plain": [
       "HBox(children=(HTML(value=''), FloatProgress(value=0.0, max=13.0), HTML(value='')))"
      ]
     },
     "metadata": {},
     "output_type": "display_data"
    },
    {
     "data": {
      "application/vnd.jupyter.widget-view+json": {
       "model_id": "",
       "version_major": 2,
       "version_minor": 0
      },
      "text/plain": [
       "HBox(children=(HTML(value=''), FloatProgress(value=0.0, max=12.0), HTML(value='')))"
      ]
     },
     "metadata": {},
     "output_type": "display_data"
    },
    {
     "name": "stdout",
     "output_type": "stream",
     "text": [
      "Training Results - Epoch[258/1000] Loss : 2.64630163810925\n"
     ]
    },
    {
     "data": {
      "application/vnd.jupyter.widget-view+json": {
       "model_id": "",
       "version_major": 2,
       "version_minor": 0
      },
      "text/plain": [
       "HBox(children=(HTML(value=''), FloatProgress(value=0.0, max=13.0), HTML(value='')))"
      ]
     },
     "metadata": {},
     "output_type": "display_data"
    },
    {
     "data": {
      "application/vnd.jupyter.widget-view+json": {
       "model_id": "",
       "version_major": 2,
       "version_minor": 0
      },
      "text/plain": [
       "HBox(children=(HTML(value=''), FloatProgress(value=0.0, max=12.0), HTML(value='')))"
      ]
     },
     "metadata": {},
     "output_type": "display_data"
    },
    {
     "name": "stdout",
     "output_type": "stream",
     "text": [
      "Training Results - Epoch[259/1000] Loss : 2.426548627227698\n"
     ]
    },
    {
     "data": {
      "application/vnd.jupyter.widget-view+json": {
       "model_id": "",
       "version_major": 2,
       "version_minor": 0
      },
      "text/plain": [
       "HBox(children=(HTML(value=''), FloatProgress(value=0.0, max=13.0), HTML(value='')))"
      ]
     },
     "metadata": {},
     "output_type": "display_data"
    },
    {
     "name": "stderr",
     "output_type": "stream",
     "text": [
      "2022-03-24 11:11:20,147 ignite.handlers.early_stopping.EarlyStopping INFO: EarlyStopping: Stop training\n"
     ]
    },
    {
     "name": "stdout",
     "output_type": "stream",
     "text": [
      "Best Loss :  1.861958354164267\n"
     ]
    },
    {
     "ename": "AssertionError",
     "evalue": "Torch not compiled with CUDA enabled",
     "output_type": "error",
     "traceback": [
      "\u001b[1;31m---------------------------------------------------------------------------\u001b[0m",
      "\u001b[1;31mAssertionError\u001b[0m                            Traceback (most recent call last)",
      "\u001b[1;32m<ipython-input-142-e6dfdeaca2c8>\u001b[0m in \u001b[0;36m<module>\u001b[1;34m\u001b[0m\n\u001b[1;32m----> 1\u001b[1;33m \u001b[0my_hat\u001b[0m \u001b[1;33m=\u001b[0m \u001b[0mmain\u001b[0m\u001b[1;33m(\u001b[0m\u001b[0mconfig\u001b[0m\u001b[1;33m)\u001b[0m\u001b[1;33m\u001b[0m\u001b[1;33m\u001b[0m\u001b[0m\n\u001b[0m\u001b[0;32m      2\u001b[0m \u001b[0mprint\u001b[0m\u001b[1;33m(\u001b[0m\u001b[0my_hat\u001b[0m\u001b[1;33m)\u001b[0m\u001b[1;33m\u001b[0m\u001b[1;33m\u001b[0m\u001b[0m\n",
      "\u001b[1;32m<ipython-input-132-804bf656e4d9>\u001b[0m in \u001b[0;36mmain\u001b[1;34m(config)\u001b[0m\n\u001b[0;32m     53\u001b[0m \u001b[1;33m\u001b[0m\u001b[0m\n\u001b[0;32m     54\u001b[0m     \u001b[1;32mwith\u001b[0m \u001b[0mtorch\u001b[0m\u001b[1;33m.\u001b[0m\u001b[0mno_grad\u001b[0m\u001b[1;33m(\u001b[0m\u001b[1;33m)\u001b[0m\u001b[1;33m:\u001b[0m\u001b[1;33m\u001b[0m\u001b[1;33m\u001b[0m\u001b[0m\n\u001b[1;32m---> 55\u001b[1;33m         \u001b[0my_hat\u001b[0m \u001b[1;33m=\u001b[0m \u001b[0mmodel\u001b[0m\u001b[1;33m(\u001b[0m\u001b[0mtorch\u001b[0m\u001b[1;33m.\u001b[0m\u001b[0mFloatTensor\u001b[0m\u001b[1;33m(\u001b[0m\u001b[0mtest\u001b[0m\u001b[1;33m.\u001b[0m\u001b[0miloc\u001b[0m\u001b[1;33m[\u001b[0m\u001b[1;33m:\u001b[0m\u001b[1;33m,\u001b[0m \u001b[1;36m1\u001b[0m\u001b[1;33m:\u001b[0m\u001b[1;33m]\u001b[0m\u001b[1;33m.\u001b[0m\u001b[0mvalues\u001b[0m\u001b[1;33m)\u001b[0m\u001b[1;33m.\u001b[0m\u001b[0mto\u001b[0m\u001b[1;33m(\u001b[0m\u001b[1;34m'cuda'\u001b[0m\u001b[1;33m)\u001b[0m\u001b[1;33m)\u001b[0m\u001b[1;33m\u001b[0m\u001b[1;33m\u001b[0m\u001b[0m\n\u001b[0m\u001b[0;32m     56\u001b[0m \u001b[1;33m\u001b[0m\u001b[0m\n\u001b[0;32m     57\u001b[0m     \u001b[1;32mreturn\u001b[0m \u001b[0my_hat\u001b[0m\u001b[1;33m\u001b[0m\u001b[1;33m\u001b[0m\u001b[0m\n",
      "\u001b[1;32m~\\anaconda3\\lib\\site-packages\\torch\\cuda\\__init__.py\u001b[0m in \u001b[0;36m_lazy_init\u001b[1;34m()\u001b[0m\n\u001b[0;32m    206\u001b[0m                 \"multiprocessing, you must use the 'spawn' start method\")\n\u001b[0;32m    207\u001b[0m         \u001b[1;32mif\u001b[0m \u001b[1;32mnot\u001b[0m \u001b[0mhasattr\u001b[0m\u001b[1;33m(\u001b[0m\u001b[0mtorch\u001b[0m\u001b[1;33m.\u001b[0m\u001b[0m_C\u001b[0m\u001b[1;33m,\u001b[0m \u001b[1;34m'_cuda_getDeviceCount'\u001b[0m\u001b[1;33m)\u001b[0m\u001b[1;33m:\u001b[0m\u001b[1;33m\u001b[0m\u001b[1;33m\u001b[0m\u001b[0m\n\u001b[1;32m--> 208\u001b[1;33m             \u001b[1;32mraise\u001b[0m \u001b[0mAssertionError\u001b[0m\u001b[1;33m(\u001b[0m\u001b[1;34m\"Torch not compiled with CUDA enabled\"\u001b[0m\u001b[1;33m)\u001b[0m\u001b[1;33m\u001b[0m\u001b[1;33m\u001b[0m\u001b[0m\n\u001b[0m\u001b[0;32m    209\u001b[0m         \u001b[1;32mif\u001b[0m \u001b[0m_cudart\u001b[0m \u001b[1;32mis\u001b[0m \u001b[1;32mNone\u001b[0m\u001b[1;33m:\u001b[0m\u001b[1;33m\u001b[0m\u001b[1;33m\u001b[0m\u001b[0m\n\u001b[0;32m    210\u001b[0m             raise AssertionError(\n",
      "\u001b[1;31mAssertionError\u001b[0m: Torch not compiled with CUDA enabled"
     ]
    }
   ],
   "source": [
    "y_hat = main(config)\n",
    "print(y_hat)"
   ]
  },
  {
   "cell_type": "code",
   "execution_count": 140,
   "metadata": {},
   "outputs": [
    {
     "ename": "NameError",
     "evalue": "name 'y_h' is not defined",
     "output_type": "error",
     "traceback": [
      "\u001b[1;31m---------------------------------------------------------------------------\u001b[0m",
      "\u001b[1;31mNameError\u001b[0m                                 Traceback (most recent call last)",
      "\u001b[1;32m<ipython-input-140-5d7fe26e9b50>\u001b[0m in \u001b[0;36m<module>\u001b[1;34m\u001b[0m\n\u001b[1;32m----> 1\u001b[1;33m \u001b[0my_h\u001b[0m\u001b[1;33m\u001b[0m\u001b[1;33m\u001b[0m\u001b[0m\n\u001b[0m",
      "\u001b[1;31mNameError\u001b[0m: name 'y_h' is not defined"
     ]
    }
   ],
   "source": [
    "y_hat"
   ]
  },
  {
   "cell_type": "code",
   "execution_count": null,
   "metadata": {},
   "outputs": [],
   "source": []
  },
  {
   "cell_type": "code",
   "execution_count": null,
   "metadata": {},
   "outputs": [],
   "source": []
  },
  {
   "cell_type": "code",
   "execution_count": null,
   "metadata": {},
   "outputs": [],
   "source": []
  },
  {
   "cell_type": "markdown",
   "metadata": {},
   "source": [
    "# 제출"
   ]
  },
  {
   "cell_type": "code",
   "execution_count": 29,
   "metadata": {},
   "outputs": [
    {
     "data": {
      "text/html": [
       "<div>\n",
       "<style scoped>\n",
       "    .dataframe tbody tr th:only-of-type {\n",
       "        vertical-align: middle;\n",
       "    }\n",
       "\n",
       "    .dataframe tbody tr th {\n",
       "        vertical-align: top;\n",
       "    }\n",
       "\n",
       "    .dataframe thead th {\n",
       "        text-align: right;\n",
       "    }\n",
       "</style>\n",
       "<table border=\"1\" class=\"dataframe\">\n",
       "  <thead>\n",
       "    <tr style=\"text-align: right;\">\n",
       "      <th></th>\n",
       "      <th>id</th>\n",
       "      <th>Target</th>\n",
       "    </tr>\n",
       "  </thead>\n",
       "  <tbody>\n",
       "    <tr>\n",
       "      <th>0</th>\n",
       "      <td>1</td>\n",
       "      <td>0</td>\n",
       "    </tr>\n",
       "    <tr>\n",
       "      <th>1</th>\n",
       "      <td>2</td>\n",
       "      <td>0</td>\n",
       "    </tr>\n",
       "    <tr>\n",
       "      <th>2</th>\n",
       "      <td>3</td>\n",
       "      <td>0</td>\n",
       "    </tr>\n",
       "    <tr>\n",
       "      <th>3</th>\n",
       "      <td>4</td>\n",
       "      <td>0</td>\n",
       "    </tr>\n",
       "    <tr>\n",
       "      <th>4</th>\n",
       "      <td>5</td>\n",
       "      <td>0</td>\n",
       "    </tr>\n",
       "  </tbody>\n",
       "</table>\n",
       "</div>"
      ],
      "text/plain": [
       "   id  Target\n",
       "0   1       0\n",
       "1   2       0\n",
       "2   3       0\n",
       "3   4       0\n",
       "4   5       0"
      ]
     },
     "execution_count": 29,
     "metadata": {},
     "output_type": "execute_result"
    }
   ],
   "source": [
    "submission = pd.read_csv('data/sample_submission.csv')\n",
    "submission.head()"
   ]
  },
  {
   "cell_type": "code",
   "execution_count": 137,
   "metadata": {},
   "outputs": [
    {
     "ename": "NameError",
     "evalue": "name 'y_hat' is not defined",
     "output_type": "error",
     "traceback": [
      "\u001b[1;31m---------------------------------------------------------------------------\u001b[0m",
      "\u001b[1;31mNameError\u001b[0m                                 Traceback (most recent call last)",
      "\u001b[1;32m<ipython-input-137-c3da9b1aecd3>\u001b[0m in \u001b[0;36m<module>\u001b[1;34m\u001b[0m\n\u001b[1;32m----> 1\u001b[1;33m \u001b[0msubmission\u001b[0m\u001b[1;33m[\u001b[0m\u001b[1;34m'Target'\u001b[0m\u001b[1;33m]\u001b[0m \u001b[1;33m=\u001b[0m \u001b[0my_hat\u001b[0m\u001b[1;33m.\u001b[0m\u001b[0mto\u001b[0m\u001b[1;33m(\u001b[0m\u001b[1;34m\"cpu\"\u001b[0m\u001b[1;33m)\u001b[0m\u001b[1;33m.\u001b[0m\u001b[0mdetach\u001b[0m\u001b[1;33m(\u001b[0m\u001b[1;33m)\u001b[0m\u001b[1;33m.\u001b[0m\u001b[0mnumpy\u001b[0m\u001b[1;33m(\u001b[0m\u001b[1;33m)\u001b[0m\u001b[1;33m\u001b[0m\u001b[1;33m\u001b[0m\u001b[0m\n\u001b[0m\u001b[0;32m      2\u001b[0m \u001b[1;33m\u001b[0m\u001b[0m\n\u001b[0;32m      3\u001b[0m \u001b[1;31m# 데이터가 잘 들어갔는지 확인합니다\u001b[0m\u001b[1;33m\u001b[0m\u001b[1;33m\u001b[0m\u001b[1;33m\u001b[0m\u001b[0m\n\u001b[0;32m      4\u001b[0m \u001b[0msubmission\u001b[0m\u001b[1;33m\u001b[0m\u001b[1;33m\u001b[0m\u001b[0m\n",
      "\u001b[1;31mNameError\u001b[0m: name 'y_hat' is not defined"
     ]
    }
   ],
   "source": [
    "submission['Target'] = y_hat.to(\"cpu\").detach().numpy()\n",
    "\n",
    "# 데이터가 잘 들어갔는지 확인합니다\n",
    "submission"
   ]
  },
  {
   "cell_type": "code",
   "execution_count": 32,
   "metadata": {},
   "outputs": [],
   "source": [
    "submission.to_csv('bidirectional_submit.csv', index=False)"
   ]
  },
  {
   "cell_type": "code",
   "execution_count": null,
   "metadata": {},
   "outputs": [],
   "source": []
  }
 ],
 "metadata": {
  "kernelspec": {
   "display_name": "Python 3",
   "language": "python",
   "name": "python3"
  },
  "language_info": {
   "codemirror_mode": {
    "name": "ipython",
    "version": 3
   },
   "file_extension": ".py",
   "mimetype": "text/x-python",
   "name": "python",
   "nbconvert_exporter": "python",
   "pygments_lexer": "ipython3",
   "version": "3.8.5"
  },
  "toc": {
   "base_numbering": 1,
   "nav_menu": {},
   "number_sections": true,
   "sideBar": true,
   "skip_h1_title": false,
   "title_cell": "Table of Contents",
   "title_sidebar": "Contents",
   "toc_cell": false,
   "toc_position": {},
   "toc_section_display": true,
   "toc_window_display": false
  },
  "varInspector": {
   "cols": {
    "lenName": 16,
    "lenType": 16,
    "lenVar": 40
   },
   "kernels_config": {
    "python": {
     "delete_cmd_postfix": "",
     "delete_cmd_prefix": "del ",
     "library": "var_list.py",
     "varRefreshCmd": "print(var_dic_list())"
    },
    "r": {
     "delete_cmd_postfix": ") ",
     "delete_cmd_prefix": "rm(",
     "library": "var_list.r",
     "varRefreshCmd": "cat(var_dic_list()) "
    }
   },
   "types_to_exclude": [
    "module",
    "function",
    "builtin_function_or_method",
    "instance",
    "_Feature"
   ],
   "window_display": false
  }
 },
 "nbformat": 4,
 "nbformat_minor": 4
}

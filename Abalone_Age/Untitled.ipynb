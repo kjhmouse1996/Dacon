{
 "cells": [
  {
   "cell_type": "markdown",
   "metadata": {},
   "source": [
    "# 학습 데이터 불러오기"
   ]
  },
  {
   "cell_type": "code",
   "execution_count": 1,
   "metadata": {
    "scrolled": false
   },
   "outputs": [
    {
     "data": {
      "text/html": [
       "<div>\n",
       "<style scoped>\n",
       "    .dataframe tbody tr th:only-of-type {\n",
       "        vertical-align: middle;\n",
       "    }\n",
       "\n",
       "    .dataframe tbody tr th {\n",
       "        vertical-align: top;\n",
       "    }\n",
       "\n",
       "    .dataframe thead th {\n",
       "        text-align: right;\n",
       "    }\n",
       "</style>\n",
       "<table border=\"1\" class=\"dataframe\">\n",
       "  <thead>\n",
       "    <tr style=\"text-align: right;\">\n",
       "      <th></th>\n",
       "      <th>id</th>\n",
       "      <th>Gender</th>\n",
       "      <th>Lenght</th>\n",
       "      <th>Diameter</th>\n",
       "      <th>Height</th>\n",
       "      <th>Whole Weight</th>\n",
       "      <th>Shucked Weight</th>\n",
       "      <th>Viscra Weight</th>\n",
       "      <th>Shell Weight</th>\n",
       "      <th>Target</th>\n",
       "    </tr>\n",
       "  </thead>\n",
       "  <tbody>\n",
       "    <tr>\n",
       "      <th>0</th>\n",
       "      <td>1</td>\n",
       "      <td>M</td>\n",
       "      <td>0.605</td>\n",
       "      <td>0.470</td>\n",
       "      <td>0.115</td>\n",
       "      <td>1.1140</td>\n",
       "      <td>0.3925</td>\n",
       "      <td>0.2910</td>\n",
       "      <td>0.3100</td>\n",
       "      <td>15</td>\n",
       "    </tr>\n",
       "    <tr>\n",
       "      <th>1</th>\n",
       "      <td>2</td>\n",
       "      <td>I</td>\n",
       "      <td>0.430</td>\n",
       "      <td>0.315</td>\n",
       "      <td>0.095</td>\n",
       "      <td>0.3780</td>\n",
       "      <td>0.1750</td>\n",
       "      <td>0.0800</td>\n",
       "      <td>0.1045</td>\n",
       "      <td>8</td>\n",
       "    </tr>\n",
       "    <tr>\n",
       "      <th>2</th>\n",
       "      <td>3</td>\n",
       "      <td>I</td>\n",
       "      <td>0.580</td>\n",
       "      <td>0.490</td>\n",
       "      <td>0.195</td>\n",
       "      <td>1.3165</td>\n",
       "      <td>0.5305</td>\n",
       "      <td>0.2540</td>\n",
       "      <td>0.4100</td>\n",
       "      <td>18</td>\n",
       "    </tr>\n",
       "    <tr>\n",
       "      <th>3</th>\n",
       "      <td>4</td>\n",
       "      <td>M</td>\n",
       "      <td>0.535</td>\n",
       "      <td>0.405</td>\n",
       "      <td>0.175</td>\n",
       "      <td>1.2705</td>\n",
       "      <td>0.5480</td>\n",
       "      <td>0.3265</td>\n",
       "      <td>0.3370</td>\n",
       "      <td>13</td>\n",
       "    </tr>\n",
       "    <tr>\n",
       "      <th>4</th>\n",
       "      <td>5</td>\n",
       "      <td>I</td>\n",
       "      <td>0.310</td>\n",
       "      <td>0.235</td>\n",
       "      <td>0.090</td>\n",
       "      <td>0.1270</td>\n",
       "      <td>0.0480</td>\n",
       "      <td>0.0310</td>\n",
       "      <td>0.0400</td>\n",
       "      <td>6</td>\n",
       "    </tr>\n",
       "    <tr>\n",
       "      <th>...</th>\n",
       "      <td>...</td>\n",
       "      <td>...</td>\n",
       "      <td>...</td>\n",
       "      <td>...</td>\n",
       "      <td>...</td>\n",
       "      <td>...</td>\n",
       "      <td>...</td>\n",
       "      <td>...</td>\n",
       "      <td>...</td>\n",
       "      <td>...</td>\n",
       "    </tr>\n",
       "    <tr>\n",
       "      <th>1248</th>\n",
       "      <td>1249</td>\n",
       "      <td>I</td>\n",
       "      <td>0.190</td>\n",
       "      <td>0.145</td>\n",
       "      <td>0.040</td>\n",
       "      <td>0.0380</td>\n",
       "      <td>0.0165</td>\n",
       "      <td>0.0065</td>\n",
       "      <td>0.0150</td>\n",
       "      <td>4</td>\n",
       "    </tr>\n",
       "    <tr>\n",
       "      <th>1249</th>\n",
       "      <td>1250</td>\n",
       "      <td>I</td>\n",
       "      <td>0.395</td>\n",
       "      <td>0.310</td>\n",
       "      <td>0.085</td>\n",
       "      <td>0.3170</td>\n",
       "      <td>0.1530</td>\n",
       "      <td>0.0505</td>\n",
       "      <td>0.0935</td>\n",
       "      <td>7</td>\n",
       "    </tr>\n",
       "    <tr>\n",
       "      <th>1250</th>\n",
       "      <td>1251</td>\n",
       "      <td>F</td>\n",
       "      <td>0.525</td>\n",
       "      <td>0.410</td>\n",
       "      <td>0.115</td>\n",
       "      <td>0.7745</td>\n",
       "      <td>0.4160</td>\n",
       "      <td>0.1630</td>\n",
       "      <td>0.1800</td>\n",
       "      <td>7</td>\n",
       "    </tr>\n",
       "    <tr>\n",
       "      <th>1251</th>\n",
       "      <td>1252</td>\n",
       "      <td>F</td>\n",
       "      <td>0.445</td>\n",
       "      <td>0.335</td>\n",
       "      <td>0.110</td>\n",
       "      <td>0.4355</td>\n",
       "      <td>0.2025</td>\n",
       "      <td>0.1095</td>\n",
       "      <td>0.1195</td>\n",
       "      <td>6</td>\n",
       "    </tr>\n",
       "    <tr>\n",
       "      <th>1252</th>\n",
       "      <td>1253</td>\n",
       "      <td>F</td>\n",
       "      <td>0.750</td>\n",
       "      <td>0.550</td>\n",
       "      <td>0.195</td>\n",
       "      <td>1.8325</td>\n",
       "      <td>0.8300</td>\n",
       "      <td>0.3660</td>\n",
       "      <td>0.4400</td>\n",
       "      <td>11</td>\n",
       "    </tr>\n",
       "  </tbody>\n",
       "</table>\n",
       "<p>1253 rows × 10 columns</p>\n",
       "</div>"
      ],
      "text/plain": [
       "        id Gender  Lenght  Diameter  Height  Whole Weight  Shucked Weight  \\\n",
       "0        1      M   0.605     0.470   0.115        1.1140          0.3925   \n",
       "1        2      I   0.430     0.315   0.095        0.3780          0.1750   \n",
       "2        3      I   0.580     0.490   0.195        1.3165          0.5305   \n",
       "3        4      M   0.535     0.405   0.175        1.2705          0.5480   \n",
       "4        5      I   0.310     0.235   0.090        0.1270          0.0480   \n",
       "...    ...    ...     ...       ...     ...           ...             ...   \n",
       "1248  1249      I   0.190     0.145   0.040        0.0380          0.0165   \n",
       "1249  1250      I   0.395     0.310   0.085        0.3170          0.1530   \n",
       "1250  1251      F   0.525     0.410   0.115        0.7745          0.4160   \n",
       "1251  1252      F   0.445     0.335   0.110        0.4355          0.2025   \n",
       "1252  1253      F   0.750     0.550   0.195        1.8325          0.8300   \n",
       "\n",
       "      Viscra Weight  Shell Weight  Target  \n",
       "0            0.2910        0.3100      15  \n",
       "1            0.0800        0.1045       8  \n",
       "2            0.2540        0.4100      18  \n",
       "3            0.3265        0.3370      13  \n",
       "4            0.0310        0.0400       6  \n",
       "...             ...           ...     ...  \n",
       "1248         0.0065        0.0150       4  \n",
       "1249         0.0505        0.0935       7  \n",
       "1250         0.1630        0.1800       7  \n",
       "1251         0.1095        0.1195       6  \n",
       "1252         0.3660        0.4400      11  \n",
       "\n",
       "[1253 rows x 10 columns]"
      ]
     },
     "execution_count": 1,
     "metadata": {},
     "output_type": "execute_result"
    }
   ],
   "source": [
    "import warnings\n",
    "warnings.filterwarnings('ignore')\n",
    "\n",
    "import pandas as pd\n",
    "\n",
    "# csv형식으로 된 데이터 파일을 읽어옵니다.\n",
    "train = pd.read_csv('data/train.csv')\n",
    "train"
   ]
  },
  {
   "cell_type": "code",
   "execution_count": 2,
   "metadata": {},
   "outputs": [
    {
     "data": {
      "text/html": [
       "<div>\n",
       "<style scoped>\n",
       "    .dataframe tbody tr th:only-of-type {\n",
       "        vertical-align: middle;\n",
       "    }\n",
       "\n",
       "    .dataframe tbody tr th {\n",
       "        vertical-align: top;\n",
       "    }\n",
       "\n",
       "    .dataframe thead th {\n",
       "        text-align: right;\n",
       "    }\n",
       "</style>\n",
       "<table border=\"1\" class=\"dataframe\">\n",
       "  <thead>\n",
       "    <tr style=\"text-align: right;\">\n",
       "      <th></th>\n",
       "      <th>id</th>\n",
       "      <th>Gender</th>\n",
       "      <th>Lenght</th>\n",
       "      <th>Diameter</th>\n",
       "      <th>Height</th>\n",
       "      <th>Whole Weight</th>\n",
       "      <th>Shucked Weight</th>\n",
       "      <th>Viscra Weight</th>\n",
       "      <th>Shell Weight</th>\n",
       "    </tr>\n",
       "  </thead>\n",
       "  <tbody>\n",
       "    <tr>\n",
       "      <th>0</th>\n",
       "      <td>1</td>\n",
       "      <td>F</td>\n",
       "      <td>0.595</td>\n",
       "      <td>0.470</td>\n",
       "      <td>0.155</td>\n",
       "      <td>1.121</td>\n",
       "      <td>0.4515</td>\n",
       "      <td>0.1780</td>\n",
       "      <td>0.1550</td>\n",
       "    </tr>\n",
       "    <tr>\n",
       "      <th>1</th>\n",
       "      <td>2</td>\n",
       "      <td>M</td>\n",
       "      <td>0.580</td>\n",
       "      <td>0.450</td>\n",
       "      <td>0.150</td>\n",
       "      <td>0.927</td>\n",
       "      <td>0.2760</td>\n",
       "      <td>0.1815</td>\n",
       "      <td>0.3600</td>\n",
       "    </tr>\n",
       "    <tr>\n",
       "      <th>2</th>\n",
       "      <td>3</td>\n",
       "      <td>I</td>\n",
       "      <td>0.260</td>\n",
       "      <td>0.205</td>\n",
       "      <td>0.070</td>\n",
       "      <td>0.097</td>\n",
       "      <td>0.0415</td>\n",
       "      <td>0.0190</td>\n",
       "      <td>0.0305</td>\n",
       "    </tr>\n",
       "    <tr>\n",
       "      <th>3</th>\n",
       "      <td>4</td>\n",
       "      <td>M</td>\n",
       "      <td>0.590</td>\n",
       "      <td>0.460</td>\n",
       "      <td>0.130</td>\n",
       "      <td>1.102</td>\n",
       "      <td>0.4550</td>\n",
       "      <td>0.2055</td>\n",
       "      <td>0.3300</td>\n",
       "    </tr>\n",
       "    <tr>\n",
       "      <th>4</th>\n",
       "      <td>5</td>\n",
       "      <td>F</td>\n",
       "      <td>0.595</td>\n",
       "      <td>0.465</td>\n",
       "      <td>0.140</td>\n",
       "      <td>1.113</td>\n",
       "      <td>0.5175</td>\n",
       "      <td>0.2440</td>\n",
       "      <td>0.3050</td>\n",
       "    </tr>\n",
       "  </tbody>\n",
       "</table>\n",
       "</div>"
      ],
      "text/plain": [
       "   id Gender  Lenght  Diameter  Height  Whole Weight  Shucked Weight  \\\n",
       "0   1      F   0.595     0.470   0.155         1.121          0.4515   \n",
       "1   2      M   0.580     0.450   0.150         0.927          0.2760   \n",
       "2   3      I   0.260     0.205   0.070         0.097          0.0415   \n",
       "3   4      M   0.590     0.460   0.130         1.102          0.4550   \n",
       "4   5      F   0.595     0.465   0.140         1.113          0.5175   \n",
       "\n",
       "   Viscra Weight  Shell Weight  \n",
       "0         0.1780        0.1550  \n",
       "1         0.1815        0.3600  \n",
       "2         0.0190        0.0305  \n",
       "3         0.2055        0.3300  \n",
       "4         0.2440        0.3050  "
      ]
     },
     "execution_count": 2,
     "metadata": {},
     "output_type": "execute_result"
    }
   ],
   "source": [
    "test = pd.read_csv('data/test.csv')\n",
    "test.head()"
   ]
  },
  {
   "cell_type": "markdown",
   "metadata": {},
   "source": [
    "## 결측치 확인"
   ]
  },
  {
   "cell_type": "code",
   "execution_count": 255,
   "metadata": {},
   "outputs": [
    {
     "name": "stdout",
     "output_type": "stream",
     "text": [
      "결측치가 존재하지 않습니다\n"
     ]
    }
   ],
   "source": [
    "def check_missing_col(dataframe):\n",
    "    missing_col = []\n",
    "    counted_missing_col = 0\n",
    "    for i, col in enumerate(dataframe.columns):\n",
    "        missing_values = sum(dataframe[col].isna())\n",
    "        is_missing = True if missing_values >= 1 else False\n",
    "        if is_missing:\n",
    "            counted_missing_col += 1\n",
    "            print(f'결측치가 있는 컬럼은: {col}입니다')\n",
    "            print(f'해당 컬럼에 총 {missing_values}개의 결측치가 존재합니다.')\n",
    "            missing_col.append([col, dataframe[col].dtype])\n",
    "    if counted_missing_col == 0:\n",
    "        print('결측치가 존재하지 않습니다')\n",
    "    return missing_col\n",
    "\n",
    "missing_col = check_missing_col(train)"
   ]
  },
  {
   "cell_type": "markdown",
   "metadata": {},
   "source": [
    "# 데이터 전처리"
   ]
  },
  {
   "cell_type": "code",
   "execution_count": 196,
   "metadata": {},
   "outputs": [],
   "source": [
    "\n",
    "#라벨인코딩을 하기 위함 dictionary map 생성 함수\n",
    "def make_label_map(dataframe):\n",
    "    label_maps = {}\n",
    "    for col in dataframe.columns:\n",
    "        if dataframe[col].dtype=='object':\n",
    "            label_map = {'unknown':0}\n",
    "            for i, key in enumerate(dataframe[col].unique()):\n",
    "                label_map[key] = i+1  #새로 등장하는 유니크 값들에 대해 1부터 1씩 증가시켜 키값을 부여해줍니다.\n",
    "            label_maps[col] = label_map\n",
    "    print(label_maps)\n",
    "    return label_maps\n",
    "\n",
    "# 각 범주형 변수에 인코딩 값을 부여하는 함수\n",
    "def label_encoder(dataframe, label_map):\n",
    "    for col in dataframe.columns:\n",
    "        if dataframe[col].dtype=='object':\n",
    "            dataframe[col] = dataframe[col].map(label_map[col])\n",
    "            dataframe[col] = dataframe[col].fillna(label_map[col]['unknown']) #혹시 모를 결측값은 unknown의 값(0)으로 채워줍니다.\n",
    "    return dataframe"
   ]
  },
  {
   "cell_type": "code",
   "execution_count": 197,
   "metadata": {},
   "outputs": [
    {
     "name": "stdout",
     "output_type": "stream",
     "text": [
      "{'Gender': {'unknown': 0, 'M': 1, 'I': 2, 'F': 3}}\n"
     ]
    }
   ],
   "source": [
    "train_le = make_label_map(train[['Gender']])\n",
    "gender_df = label_encoder(train[['Gender']], train_le)\n",
    "train['Gender'] = gender_df[['Gender']]"
   ]
  },
  {
   "cell_type": "code",
   "execution_count": 198,
   "metadata": {},
   "outputs": [
    {
     "data": {
      "text/html": [
       "<div>\n",
       "<style scoped>\n",
       "    .dataframe tbody tr th:only-of-type {\n",
       "        vertical-align: middle;\n",
       "    }\n",
       "\n",
       "    .dataframe tbody tr th {\n",
       "        vertical-align: top;\n",
       "    }\n",
       "\n",
       "    .dataframe thead th {\n",
       "        text-align: right;\n",
       "    }\n",
       "</style>\n",
       "<table border=\"1\" class=\"dataframe\">\n",
       "  <thead>\n",
       "    <tr style=\"text-align: right;\">\n",
       "      <th></th>\n",
       "      <th>id</th>\n",
       "      <th>Gender</th>\n",
       "      <th>Lenght</th>\n",
       "      <th>Diameter</th>\n",
       "      <th>Height</th>\n",
       "      <th>Whole Weight</th>\n",
       "      <th>Shucked Weight</th>\n",
       "      <th>Viscra Weight</th>\n",
       "      <th>Shell Weight</th>\n",
       "      <th>Target</th>\n",
       "    </tr>\n",
       "  </thead>\n",
       "  <tbody>\n",
       "    <tr>\n",
       "      <th>0</th>\n",
       "      <td>1</td>\n",
       "      <td>1</td>\n",
       "      <td>0.605</td>\n",
       "      <td>0.470</td>\n",
       "      <td>0.115</td>\n",
       "      <td>1.1140</td>\n",
       "      <td>0.3925</td>\n",
       "      <td>0.2910</td>\n",
       "      <td>0.3100</td>\n",
       "      <td>15</td>\n",
       "    </tr>\n",
       "    <tr>\n",
       "      <th>1</th>\n",
       "      <td>2</td>\n",
       "      <td>2</td>\n",
       "      <td>0.430</td>\n",
       "      <td>0.315</td>\n",
       "      <td>0.095</td>\n",
       "      <td>0.3780</td>\n",
       "      <td>0.1750</td>\n",
       "      <td>0.0800</td>\n",
       "      <td>0.1045</td>\n",
       "      <td>8</td>\n",
       "    </tr>\n",
       "    <tr>\n",
       "      <th>2</th>\n",
       "      <td>3</td>\n",
       "      <td>2</td>\n",
       "      <td>0.580</td>\n",
       "      <td>0.490</td>\n",
       "      <td>0.195</td>\n",
       "      <td>1.3165</td>\n",
       "      <td>0.5305</td>\n",
       "      <td>0.2540</td>\n",
       "      <td>0.4100</td>\n",
       "      <td>18</td>\n",
       "    </tr>\n",
       "    <tr>\n",
       "      <th>3</th>\n",
       "      <td>4</td>\n",
       "      <td>1</td>\n",
       "      <td>0.535</td>\n",
       "      <td>0.405</td>\n",
       "      <td>0.175</td>\n",
       "      <td>1.2705</td>\n",
       "      <td>0.5480</td>\n",
       "      <td>0.3265</td>\n",
       "      <td>0.3370</td>\n",
       "      <td>13</td>\n",
       "    </tr>\n",
       "    <tr>\n",
       "      <th>4</th>\n",
       "      <td>5</td>\n",
       "      <td>2</td>\n",
       "      <td>0.310</td>\n",
       "      <td>0.235</td>\n",
       "      <td>0.090</td>\n",
       "      <td>0.1270</td>\n",
       "      <td>0.0480</td>\n",
       "      <td>0.0310</td>\n",
       "      <td>0.0400</td>\n",
       "      <td>6</td>\n",
       "    </tr>\n",
       "  </tbody>\n",
       "</table>\n",
       "</div>"
      ],
      "text/plain": [
       "   id  Gender  Lenght  Diameter  Height  Whole Weight  Shucked Weight  \\\n",
       "0   1       1   0.605     0.470   0.115        1.1140          0.3925   \n",
       "1   2       2   0.430     0.315   0.095        0.3780          0.1750   \n",
       "2   3       2   0.580     0.490   0.195        1.3165          0.5305   \n",
       "3   4       1   0.535     0.405   0.175        1.2705          0.5480   \n",
       "4   5       2   0.310     0.235   0.090        0.1270          0.0480   \n",
       "\n",
       "   Viscra Weight  Shell Weight  Target  \n",
       "0         0.2910        0.3100      15  \n",
       "1         0.0800        0.1045       8  \n",
       "2         0.2540        0.4100      18  \n",
       "3         0.3265        0.3370      13  \n",
       "4         0.0310        0.0400       6  "
      ]
     },
     "execution_count": 198,
     "metadata": {},
     "output_type": "execute_result"
    }
   ],
   "source": [
    "train.head()"
   ]
  },
  {
   "cell_type": "code",
   "execution_count": 199,
   "metadata": {},
   "outputs": [
    {
     "name": "stdout",
     "output_type": "stream",
     "text": [
      "{'Gender': {'unknown': 0, 'F': 1, 'M': 2, 'I': 3}}\n"
     ]
    }
   ],
   "source": [
    "test_le = make_label_map(test[['Gender']])\n",
    "gender_df = label_encoder(test[['Gender']], test_le)\n",
    "test['Gender'] = gender_df[['Gender']]"
   ]
  },
  {
   "cell_type": "code",
   "execution_count": 200,
   "metadata": {},
   "outputs": [
    {
     "data": {
      "text/html": [
       "<div>\n",
       "<style scoped>\n",
       "    .dataframe tbody tr th:only-of-type {\n",
       "        vertical-align: middle;\n",
       "    }\n",
       "\n",
       "    .dataframe tbody tr th {\n",
       "        vertical-align: top;\n",
       "    }\n",
       "\n",
       "    .dataframe thead th {\n",
       "        text-align: right;\n",
       "    }\n",
       "</style>\n",
       "<table border=\"1\" class=\"dataframe\">\n",
       "  <thead>\n",
       "    <tr style=\"text-align: right;\">\n",
       "      <th></th>\n",
       "      <th>id</th>\n",
       "      <th>Gender</th>\n",
       "      <th>Lenght</th>\n",
       "      <th>Diameter</th>\n",
       "      <th>Height</th>\n",
       "      <th>Whole Weight</th>\n",
       "      <th>Shucked Weight</th>\n",
       "      <th>Viscra Weight</th>\n",
       "      <th>Shell Weight</th>\n",
       "    </tr>\n",
       "  </thead>\n",
       "  <tbody>\n",
       "    <tr>\n",
       "      <th>0</th>\n",
       "      <td>1</td>\n",
       "      <td>1</td>\n",
       "      <td>0.595</td>\n",
       "      <td>0.470</td>\n",
       "      <td>0.155</td>\n",
       "      <td>1.121</td>\n",
       "      <td>0.4515</td>\n",
       "      <td>0.1780</td>\n",
       "      <td>0.1550</td>\n",
       "    </tr>\n",
       "    <tr>\n",
       "      <th>1</th>\n",
       "      <td>2</td>\n",
       "      <td>2</td>\n",
       "      <td>0.580</td>\n",
       "      <td>0.450</td>\n",
       "      <td>0.150</td>\n",
       "      <td>0.927</td>\n",
       "      <td>0.2760</td>\n",
       "      <td>0.1815</td>\n",
       "      <td>0.3600</td>\n",
       "    </tr>\n",
       "    <tr>\n",
       "      <th>2</th>\n",
       "      <td>3</td>\n",
       "      <td>3</td>\n",
       "      <td>0.260</td>\n",
       "      <td>0.205</td>\n",
       "      <td>0.070</td>\n",
       "      <td>0.097</td>\n",
       "      <td>0.0415</td>\n",
       "      <td>0.0190</td>\n",
       "      <td>0.0305</td>\n",
       "    </tr>\n",
       "    <tr>\n",
       "      <th>3</th>\n",
       "      <td>4</td>\n",
       "      <td>2</td>\n",
       "      <td>0.590</td>\n",
       "      <td>0.460</td>\n",
       "      <td>0.130</td>\n",
       "      <td>1.102</td>\n",
       "      <td>0.4550</td>\n",
       "      <td>0.2055</td>\n",
       "      <td>0.3300</td>\n",
       "    </tr>\n",
       "    <tr>\n",
       "      <th>4</th>\n",
       "      <td>5</td>\n",
       "      <td>1</td>\n",
       "      <td>0.595</td>\n",
       "      <td>0.465</td>\n",
       "      <td>0.140</td>\n",
       "      <td>1.113</td>\n",
       "      <td>0.5175</td>\n",
       "      <td>0.2440</td>\n",
       "      <td>0.3050</td>\n",
       "    </tr>\n",
       "  </tbody>\n",
       "</table>\n",
       "</div>"
      ],
      "text/plain": [
       "   id  Gender  Lenght  Diameter  Height  Whole Weight  Shucked Weight  \\\n",
       "0   1       1   0.595     0.470   0.155         1.121          0.4515   \n",
       "1   2       2   0.580     0.450   0.150         0.927          0.2760   \n",
       "2   3       3   0.260     0.205   0.070         0.097          0.0415   \n",
       "3   4       2   0.590     0.460   0.130         1.102          0.4550   \n",
       "4   5       1   0.595     0.465   0.140         1.113          0.5175   \n",
       "\n",
       "   Viscra Weight  Shell Weight  \n",
       "0         0.1780        0.1550  \n",
       "1         0.1815        0.3600  \n",
       "2         0.0190        0.0305  \n",
       "3         0.2055        0.3300  \n",
       "4         0.2440        0.3050  "
      ]
     },
     "execution_count": 200,
     "metadata": {},
     "output_type": "execute_result"
    }
   ],
   "source": [
    "test.head()"
   ]
  },
  {
   "cell_type": "code",
   "execution_count": 3,
   "metadata": {},
   "outputs": [],
   "source": [
    "train_x = train.drop(['id', 'Target'], axis=1)\n",
    "train_y = train.Target"
   ]
  },
  {
   "cell_type": "code",
   "execution_count": 4,
   "metadata": {},
   "outputs": [],
   "source": [
    "test_x = test.drop(['id'], axis=1)"
   ]
  },
  {
   "cell_type": "code",
   "execution_count": null,
   "metadata": {},
   "outputs": [],
   "source": []
  },
  {
   "cell_type": "code",
   "execution_count": null,
   "metadata": {},
   "outputs": [],
   "source": []
  },
  {
   "cell_type": "code",
   "execution_count": 3,
   "metadata": {},
   "outputs": [],
   "source": [
    "from matplotlib import pyplot as plt\n",
    "import pandas as pd\n",
    "import numpy as np\n",
    "import seaborn as sns\n",
    "%matplotlib inline\n",
    "\n",
    "import warnings\n",
    "from pandas.core.common import SettingWithCopyWarning\n",
    "warnings.simplefilter(action=\"ignore\", category=SettingWithCopyWarning)"
   ]
  },
  {
   "cell_type": "code",
   "execution_count": 30,
   "metadata": {},
   "outputs": [],
   "source": [
    "train.rename(columns = {\"Lenght\":\"Length\"}, inplace = True)\n",
    "test.rename(columns = {\"Lenght\":\"Length\"}, inplace = True)"
   ]
  },
  {
   "cell_type": "code",
   "execution_count": 31,
   "metadata": {},
   "outputs": [
    {
     "data": {
      "image/png": "[encoded data removed]",
      "text/plain": [
       "<Figure size 432x288 with 1 Axes>"
      ]
     },
     "metadata": {
      "needs_background": "light"
     },
     "output_type": "display_data"
    }
   ],
   "source": [
    "x = [\"data_train\", \"data test\"]\n",
    "y = [train.shape[0], test.shape[0]]\n",
    "ax = sns.barplot(x=x, y=y)"
   ]
  },
  {
   "cell_type": "code",
   "execution_count": 32,
   "metadata": {},
   "outputs": [
    {
     "data": {
      "image/png": "[encoded data removed]",
      "text/plain": [
       "<Figure size 1008x1008 with 9 Axes>"
      ]
     },
     "metadata": {
      "needs_background": "light"
     },
     "output_type": "display_data"
    }
   ],
   "source": [
    "fig, ax = plt.subplots(3, 3, figsize = (14, 14))\n",
    "\n",
    "plt.suptitle(\"feature / target\", fontsize=40)\n",
    "\n",
    "feature = [\"Length\", \"Diameter\", \"Height\", \"Whole Weight\", \"Shucked Weight\", \"Viscra Weight\", \"Shell Weight\", \"Gender\"]\n",
    "\n",
    "xvalue = 0\n",
    "yvalue = 0\n",
    "\n",
    "for xstr in feature:\n",
    "    if xstr == \"Gender\":\n",
    "        sns.violinplot(x = xstr, y = 'Target', data = train)\n",
    "    else:\n",
    "        sns.scatterplot(x = xstr, y = 'Target', data = train, ax = ax[yvalue][xvalue])\n",
    "        \n",
    "    if xvalue == 2:\n",
    "        xvalue = 0\n",
    "        yvalue += 1\n",
    "    else:\n",
    "        xvalue += 1"
   ]
  },
  {
   "cell_type": "code",
   "execution_count": 33,
   "metadata": {},
   "outputs": [
    {
     "data": {
      "text/html": [
       "<div>\n",
       "<style scoped>\n",
       "    .dataframe tbody tr th:only-of-type {\n",
       "        vertical-align: middle;\n",
       "    }\n",
       "\n",
       "    .dataframe tbody tr th {\n",
       "        vertical-align: top;\n",
       "    }\n",
       "\n",
       "    .dataframe thead th {\n",
       "        text-align: right;\n",
       "    }\n",
       "</style>\n",
       "<table border=\"1\" class=\"dataframe\">\n",
       "  <thead>\n",
       "    <tr style=\"text-align: right;\">\n",
       "      <th></th>\n",
       "      <th>id</th>\n",
       "      <th>Gender</th>\n",
       "      <th>Length</th>\n",
       "      <th>Diameter</th>\n",
       "      <th>Height</th>\n",
       "      <th>Whole Weight</th>\n",
       "      <th>Shucked Weight</th>\n",
       "      <th>Viscra Weight</th>\n",
       "      <th>Shell Weight</th>\n",
       "      <th>Target</th>\n",
       "    </tr>\n",
       "  </thead>\n",
       "  <tbody>\n",
       "    <tr>\n",
       "      <th>216</th>\n",
       "      <td>217</td>\n",
       "      <td>M</td>\n",
       "      <td>0.675</td>\n",
       "      <td>0.555</td>\n",
       "      <td>0.200</td>\n",
       "      <td>1.4385</td>\n",
       "      <td>0.5450</td>\n",
       "      <td>0.2665</td>\n",
       "      <td>0.465</td>\n",
       "      <td>21</td>\n",
       "    </tr>\n",
       "    <tr>\n",
       "      <th>448</th>\n",
       "      <td>449</td>\n",
       "      <td>F</td>\n",
       "      <td>0.680</td>\n",
       "      <td>0.550</td>\n",
       "      <td>0.200</td>\n",
       "      <td>1.5960</td>\n",
       "      <td>0.5250</td>\n",
       "      <td>0.4075</td>\n",
       "      <td>0.585</td>\n",
       "      <td>21</td>\n",
       "    </tr>\n",
       "    <tr>\n",
       "      <th>553</th>\n",
       "      <td>554</td>\n",
       "      <td>F</td>\n",
       "      <td>0.450</td>\n",
       "      <td>0.380</td>\n",
       "      <td>0.165</td>\n",
       "      <td>0.8165</td>\n",
       "      <td>0.2500</td>\n",
       "      <td>0.1915</td>\n",
       "      <td>0.265</td>\n",
       "      <td>23</td>\n",
       "    </tr>\n",
       "    <tr>\n",
       "      <th>629</th>\n",
       "      <td>630</td>\n",
       "      <td>M</td>\n",
       "      <td>0.655</td>\n",
       "      <td>0.540</td>\n",
       "      <td>0.215</td>\n",
       "      <td>1.8440</td>\n",
       "      <td>0.7425</td>\n",
       "      <td>0.3270</td>\n",
       "      <td>0.585</td>\n",
       "      <td>22</td>\n",
       "    </tr>\n",
       "    <tr>\n",
       "      <th>735</th>\n",
       "      <td>736</td>\n",
       "      <td>F</td>\n",
       "      <td>0.640</td>\n",
       "      <td>0.525</td>\n",
       "      <td>0.215</td>\n",
       "      <td>1.7790</td>\n",
       "      <td>0.4535</td>\n",
       "      <td>0.2855</td>\n",
       "      <td>0.550</td>\n",
       "      <td>22</td>\n",
       "    </tr>\n",
       "    <tr>\n",
       "      <th>762</th>\n",
       "      <td>763</td>\n",
       "      <td>F</td>\n",
       "      <td>0.700</td>\n",
       "      <td>0.585</td>\n",
       "      <td>0.185</td>\n",
       "      <td>1.8075</td>\n",
       "      <td>0.7055</td>\n",
       "      <td>0.3215</td>\n",
       "      <td>0.475</td>\n",
       "      <td>29</td>\n",
       "    </tr>\n",
       "    <tr>\n",
       "      <th>792</th>\n",
       "      <td>793</td>\n",
       "      <td>M</td>\n",
       "      <td>0.735</td>\n",
       "      <td>0.590</td>\n",
       "      <td>0.225</td>\n",
       "      <td>1.7560</td>\n",
       "      <td>0.6370</td>\n",
       "      <td>0.3405</td>\n",
       "      <td>0.580</td>\n",
       "      <td>21</td>\n",
       "    </tr>\n",
       "    <tr>\n",
       "      <th>1131</th>\n",
       "      <td>1132</td>\n",
       "      <td>F</td>\n",
       "      <td>0.550</td>\n",
       "      <td>0.415</td>\n",
       "      <td>0.135</td>\n",
       "      <td>0.7750</td>\n",
       "      <td>0.3020</td>\n",
       "      <td>0.1790</td>\n",
       "      <td>0.260</td>\n",
       "      <td>23</td>\n",
       "    </tr>\n",
       "    <tr>\n",
       "      <th>1140</th>\n",
       "      <td>1141</td>\n",
       "      <td>M</td>\n",
       "      <td>0.490</td>\n",
       "      <td>0.390</td>\n",
       "      <td>0.150</td>\n",
       "      <td>0.5730</td>\n",
       "      <td>0.2250</td>\n",
       "      <td>0.1240</td>\n",
       "      <td>0.170</td>\n",
       "      <td>21</td>\n",
       "    </tr>\n",
       "    <tr>\n",
       "      <th>1172</th>\n",
       "      <td>1173</td>\n",
       "      <td>F</td>\n",
       "      <td>0.665</td>\n",
       "      <td>0.500</td>\n",
       "      <td>0.175</td>\n",
       "      <td>1.7420</td>\n",
       "      <td>0.5950</td>\n",
       "      <td>0.3025</td>\n",
       "      <td>0.725</td>\n",
       "      <td>21</td>\n",
       "    </tr>\n",
       "    <tr>\n",
       "      <th>1234</th>\n",
       "      <td>1235</td>\n",
       "      <td>F</td>\n",
       "      <td>0.490</td>\n",
       "      <td>0.385</td>\n",
       "      <td>0.150</td>\n",
       "      <td>0.7865</td>\n",
       "      <td>0.2410</td>\n",
       "      <td>0.1400</td>\n",
       "      <td>0.240</td>\n",
       "      <td>23</td>\n",
       "    </tr>\n",
       "  </tbody>\n",
       "</table>\n",
       "</div>"
      ],
      "text/plain": [
       "        id Gender  Length  Diameter  Height  Whole Weight  Shucked Weight  \\\n",
       "216    217      M   0.675     0.555   0.200        1.4385          0.5450   \n",
       "448    449      F   0.680     0.550   0.200        1.5960          0.5250   \n",
       "553    554      F   0.450     0.380   0.165        0.8165          0.2500   \n",
       "629    630      M   0.655     0.540   0.215        1.8440          0.7425   \n",
       "735    736      F   0.640     0.525   0.215        1.7790          0.4535   \n",
       "762    763      F   0.700     0.585   0.185        1.8075          0.7055   \n",
       "792    793      M   0.735     0.590   0.225        1.7560          0.6370   \n",
       "1131  1132      F   0.550     0.415   0.135        0.7750          0.3020   \n",
       "1140  1141      M   0.490     0.390   0.150        0.5730          0.2250   \n",
       "1172  1173      F   0.665     0.500   0.175        1.7420          0.5950   \n",
       "1234  1235      F   0.490     0.385   0.150        0.7865          0.2410   \n",
       "\n",
       "      Viscra Weight  Shell Weight  Target  \n",
       "216          0.2665         0.465      21  \n",
       "448          0.4075         0.585      21  \n",
       "553          0.1915         0.265      23  \n",
       "629          0.3270         0.585      22  \n",
       "735          0.2855         0.550      22  \n",
       "762          0.3215         0.475      29  \n",
       "792          0.3405         0.580      21  \n",
       "1131         0.1790         0.260      23  \n",
       "1140         0.1240         0.170      21  \n",
       "1172         0.3025         0.725      21  \n",
       "1234         0.1400         0.240      23  "
      ]
     },
     "execution_count": 33,
     "metadata": {},
     "output_type": "execute_result"
    }
   ],
   "source": [
    "train[train[\"Target\"]>20]"
   ]
  },
  {
   "cell_type": "code",
   "execution_count": 34,
   "metadata": {},
   "outputs": [],
   "source": [
    "data_train = train.drop(index = [762], axis = 0)"
   ]
  },
  {
   "cell_type": "code",
   "execution_count": 35,
   "metadata": {},
   "outputs": [
    {
     "data": {
      "text/html": [
       "<div>\n",
       "<style scoped>\n",
       "    .dataframe tbody tr th:only-of-type {\n",
       "        vertical-align: middle;\n",
       "    }\n",
       "\n",
       "    .dataframe tbody tr th {\n",
       "        vertical-align: top;\n",
       "    }\n",
       "\n",
       "    .dataframe thead th {\n",
       "        text-align: right;\n",
       "    }\n",
       "</style>\n",
       "<table border=\"1\" class=\"dataframe\">\n",
       "  <thead>\n",
       "    <tr style=\"text-align: right;\">\n",
       "      <th></th>\n",
       "      <th>id</th>\n",
       "      <th>Gender</th>\n",
       "      <th>Length</th>\n",
       "      <th>Diameter</th>\n",
       "      <th>Height</th>\n",
       "      <th>Whole Weight</th>\n",
       "      <th>Shucked Weight</th>\n",
       "      <th>Viscra Weight</th>\n",
       "      <th>Shell Weight</th>\n",
       "      <th>Target</th>\n",
       "    </tr>\n",
       "  </thead>\n",
       "  <tbody>\n",
       "    <tr>\n",
       "      <th>47</th>\n",
       "      <td>48</td>\n",
       "      <td>I</td>\n",
       "      <td>0.380</td>\n",
       "      <td>0.275</td>\n",
       "      <td>0.095</td>\n",
       "      <td>0.1375</td>\n",
       "      <td>0.0860</td>\n",
       "      <td>0.0585</td>\n",
       "      <td>0.0605</td>\n",
       "      <td>7</td>\n",
       "    </tr>\n",
       "    <tr>\n",
       "      <th>382</th>\n",
       "      <td>383</td>\n",
       "      <td>I</td>\n",
       "      <td>0.455</td>\n",
       "      <td>0.330</td>\n",
       "      <td>0.100</td>\n",
       "      <td>0.3720</td>\n",
       "      <td>0.3580</td>\n",
       "      <td>0.0775</td>\n",
       "      <td>0.1100</td>\n",
       "      <td>8</td>\n",
       "    </tr>\n",
       "    <tr>\n",
       "      <th>435</th>\n",
       "      <td>436</td>\n",
       "      <td>I</td>\n",
       "      <td>0.475</td>\n",
       "      <td>0.365</td>\n",
       "      <td>0.100</td>\n",
       "      <td>0.1315</td>\n",
       "      <td>0.2025</td>\n",
       "      <td>0.0875</td>\n",
       "      <td>0.1230</td>\n",
       "      <td>7</td>\n",
       "    </tr>\n",
       "    <tr>\n",
       "      <th>847</th>\n",
       "      <td>848</td>\n",
       "      <td>I</td>\n",
       "      <td>0.230</td>\n",
       "      <td>0.165</td>\n",
       "      <td>0.060</td>\n",
       "      <td>0.0515</td>\n",
       "      <td>0.0190</td>\n",
       "      <td>0.0145</td>\n",
       "      <td>0.0360</td>\n",
       "      <td>4</td>\n",
       "    </tr>\n",
       "    <tr>\n",
       "      <th>1078</th>\n",
       "      <td>1079</td>\n",
       "      <td>I</td>\n",
       "      <td>0.275</td>\n",
       "      <td>0.205</td>\n",
       "      <td>0.070</td>\n",
       "      <td>0.1055</td>\n",
       "      <td>0.4950</td>\n",
       "      <td>0.0190</td>\n",
       "      <td>0.0315</td>\n",
       "      <td>5</td>\n",
       "    </tr>\n",
       "  </tbody>\n",
       "</table>\n",
       "</div>"
      ],
      "text/plain": [
       "        id Gender  Length  Diameter  Height  Whole Weight  Shucked Weight  \\\n",
       "47      48      I   0.380     0.275   0.095        0.1375          0.0860   \n",
       "382    383      I   0.455     0.330   0.100        0.3720          0.3580   \n",
       "435    436      I   0.475     0.365   0.100        0.1315          0.2025   \n",
       "847    848      I   0.230     0.165   0.060        0.0515          0.0190   \n",
       "1078  1079      I   0.275     0.205   0.070        0.1055          0.4950   \n",
       "\n",
       "      Viscra Weight  Shell Weight  Target  \n",
       "47           0.0585        0.0605       7  \n",
       "382          0.0775        0.1100       8  \n",
       "435          0.0875        0.1230       7  \n",
       "847          0.0145        0.0360       4  \n",
       "1078         0.0190        0.0315       5  "
      ]
     },
     "execution_count": 35,
     "metadata": {},
     "output_type": "execute_result"
    }
   ],
   "source": [
    "data_train[data_train[\"Whole Weight\"] < data_train[\"Shucked Weight\"] + data_train[\"Shell Weight\"]]"
   ]
  },
  {
   "cell_type": "code",
   "execution_count": 36,
   "metadata": {},
   "outputs": [],
   "source": [
    "data_train = data_train.drop(index = [47, 382, 435, 847, 1078], axis = 0)"
   ]
  },
  {
   "cell_type": "code",
   "execution_count": 37,
   "metadata": {},
   "outputs": [
    {
     "data": {
      "text/html": [
       "<div>\n",
       "<style scoped>\n",
       "    .dataframe tbody tr th:only-of-type {\n",
       "        vertical-align: middle;\n",
       "    }\n",
       "\n",
       "    .dataframe tbody tr th {\n",
       "        vertical-align: top;\n",
       "    }\n",
       "\n",
       "    .dataframe thead th {\n",
       "        text-align: right;\n",
       "    }\n",
       "</style>\n",
       "<table border=\"1\" class=\"dataframe\">\n",
       "  <thead>\n",
       "    <tr style=\"text-align: right;\">\n",
       "      <th></th>\n",
       "      <th>id</th>\n",
       "      <th>Gender</th>\n",
       "      <th>Length</th>\n",
       "      <th>Diameter</th>\n",
       "      <th>Height</th>\n",
       "      <th>Whole Weight</th>\n",
       "      <th>Shucked Weight</th>\n",
       "      <th>Viscra Weight</th>\n",
       "      <th>Shell Weight</th>\n",
       "      <th>Target</th>\n",
       "    </tr>\n",
       "  </thead>\n",
       "  <tbody>\n",
       "    <tr>\n",
       "      <th>465</th>\n",
       "      <td>466</td>\n",
       "      <td>M</td>\n",
       "      <td>0.415</td>\n",
       "      <td>0.315</td>\n",
       "      <td>0.125</td>\n",
       "      <td>0.388</td>\n",
       "      <td>0.068</td>\n",
       "      <td>0.09</td>\n",
       "      <td>0.125</td>\n",
       "      <td>12</td>\n",
       "    </tr>\n",
       "  </tbody>\n",
       "</table>\n",
       "</div>"
      ],
      "text/plain": [
       "      id Gender  Length  Diameter  Height  Whole Weight  Shucked Weight  \\\n",
       "465  466      M   0.415     0.315   0.125         0.388           0.068   \n",
       "\n",
       "     Viscra Weight  Shell Weight  Target  \n",
       "465           0.09         0.125      12  "
      ]
     },
     "execution_count": 37,
     "metadata": {},
     "output_type": "execute_result"
    }
   ],
   "source": [
    "data_train[data_train[\"Shucked Weight\"] < data_train[\"Viscra Weight\"]]"
   ]
  },
  {
   "cell_type": "code",
   "execution_count": 38,
   "metadata": {},
   "outputs": [],
   "source": [
    "data_train = data_train.drop(index = [465], axis = 0)"
   ]
  },
  {
   "cell_type": "code",
   "execution_count": 39,
   "metadata": {},
   "outputs": [
    {
     "data": {
      "text/html": [
       "<div>\n",
       "<style scoped>\n",
       "    .dataframe tbody tr th:only-of-type {\n",
       "        vertical-align: middle;\n",
       "    }\n",
       "\n",
       "    .dataframe tbody tr th {\n",
       "        vertical-align: top;\n",
       "    }\n",
       "\n",
       "    .dataframe thead th {\n",
       "        text-align: right;\n",
       "    }\n",
       "</style>\n",
       "<table border=\"1\" class=\"dataframe\">\n",
       "  <thead>\n",
       "    <tr style=\"text-align: right;\">\n",
       "      <th></th>\n",
       "      <th>id</th>\n",
       "      <th>Gender</th>\n",
       "      <th>Length</th>\n",
       "      <th>Diameter</th>\n",
       "      <th>Height</th>\n",
       "      <th>Whole Weight</th>\n",
       "      <th>Shucked Weight</th>\n",
       "      <th>Viscra Weight</th>\n",
       "      <th>Shell Weight</th>\n",
       "      <th>Target</th>\n",
       "    </tr>\n",
       "  </thead>\n",
       "  <tbody>\n",
       "  </tbody>\n",
       "</table>\n",
       "</div>"
      ],
      "text/plain": [
       "Empty DataFrame\n",
       "Columns: [id, Gender, Length, Diameter, Height, Whole Weight, Shucked Weight, Viscra Weight, Shell Weight, Target]\n",
       "Index: []"
      ]
     },
     "execution_count": 39,
     "metadata": {},
     "output_type": "execute_result"
    }
   ],
   "source": [
    "data_train[data_train[\"Length\"] < data_train[\"Diameter\"]]"
   ]
  },
  {
   "cell_type": "code",
   "execution_count": 40,
   "metadata": {},
   "outputs": [],
   "source": [
    "data_test = test"
   ]
  },
  {
   "cell_type": "code",
   "execution_count": 41,
   "metadata": {},
   "outputs": [],
   "source": [
    "data_train[\"Shell Water\"] = data_train[\"Whole Weight\"] - (data_train[\"Shucked Weight\"] + data_train[\"Shell Weight\"])\n",
    "data_train[\"Whole Weight\"] = data_train[\"Whole Weight\"] - data_train[\"Shell Water\"]\n",
    "data_train = data_train.drop(columns = ['Shell Water', 'id'], axis = 1)\n",
    "\n",
    "data_test[\"Shell Water\"] = data_test[\"Whole Weight\"] - (data_test[\"Shucked Weight\"] + data_test[\"Shell Weight\"])\n",
    "data_test[\"Whole Weight\"] = data_test[\"Whole Weight\"] - data_test[\"Shell Water\"]\n",
    "data_test = data_test.drop(columns = ['Shell Water', 'id'], axis = 1)"
   ]
  },
  {
   "cell_type": "code",
   "execution_count": 42,
   "metadata": {},
   "outputs": [
    {
     "data": {
      "text/plain": [
       "<AxesSubplot:xlabel='Target', ylabel='Count'>"
      ]
     },
     "execution_count": 42,
     "metadata": {},
     "output_type": "execute_result"
    },
    {
     "data": {
      "image/png": "[encoded data removed]",
      "text/plain": [
       "<Figure size 432x288 with 1 Axes>"
      ]
     },
     "metadata": {
      "needs_background": "light"
     },
     "output_type": "display_data"
    }
   ],
   "source": [
    "sns.histplot(data_train['Target'])"
   ]
  },
  {
   "cell_type": "code",
   "execution_count": 43,
   "metadata": {},
   "outputs": [],
   "source": [
    "data_train_T=data_train['Target']\n",
    "target=[]\n",
    "for i in range(len(data_train_T)):\n",
    "    if data_train_T.iloc[i] < 10:\n",
    "        target.append(1)\n",
    "    elif data_train_T.iloc[i] < 15:\n",
    "        target.append(2)\n",
    "    else:\n",
    "        target.append(3)\n",
    "        \n",
    "data_train[\"Range\"] = target"
   ]
  },
  {
   "cell_type": "code",
   "execution_count": 44,
   "metadata": {},
   "outputs": [
    {
     "data": {
      "text/plain": [
       "<AxesSubplot:xlabel='Range', ylabel='count'>"
      ]
     },
     "execution_count": 44,
     "metadata": {},
     "output_type": "execute_result"
    },
    {
     "data": {
      "image/png": "[encoded data removed]",
      "text/plain": [
       "<Figure size 432x288 with 1 Axes>"
      ]
     },
     "metadata": {
      "needs_background": "light"
     },
     "output_type": "display_data"
    }
   ],
   "source": [
    "sns.countplot(x = data_train[\"Range\"])"
   ]
  },
  {
   "cell_type": "code",
   "execution_count": 45,
   "metadata": {},
   "outputs": [],
   "source": [
    "data_train_3 = data_train[data_train['Range']==3]"
   ]
  },
  {
   "cell_type": "code",
   "execution_count": 46,
   "metadata": {},
   "outputs": [],
   "source": [
    "data_train = data_train.append(data_train_3)"
   ]
  },
  {
   "cell_type": "code",
   "execution_count": 47,
   "metadata": {},
   "outputs": [
    {
     "data": {
      "text/plain": [
       "<AxesSubplot:xlabel='Range', ylabel='count'>"
      ]
     },
     "execution_count": 47,
     "metadata": {},
     "output_type": "execute_result"
    },
    {
     "data": {
      "image/png": "[encoded data removed]",
      "text/plain": [
       "<Figure size 432x288 with 1 Axes>"
      ]
     },
     "metadata": {
      "needs_background": "light"
     },
     "output_type": "display_data"
    }
   ],
   "source": [
    "sns.countplot(x = data_train[\"Range\"])"
   ]
  },
  {
   "cell_type": "code",
   "execution_count": 48,
   "metadata": {},
   "outputs": [
    {
     "data": {
      "text/html": [
       "<div>\n",
       "<style scoped>\n",
       "    .dataframe tbody tr th:only-of-type {\n",
       "        vertical-align: middle;\n",
       "    }\n",
       "\n",
       "    .dataframe tbody tr th {\n",
       "        vertical-align: top;\n",
       "    }\n",
       "\n",
       "    .dataframe thead th {\n",
       "        text-align: right;\n",
       "    }\n",
       "</style>\n",
       "<table border=\"1\" class=\"dataframe\">\n",
       "  <thead>\n",
       "    <tr style=\"text-align: right;\">\n",
       "      <th></th>\n",
       "      <th>Length</th>\n",
       "      <th>Diameter</th>\n",
       "      <th>Height</th>\n",
       "      <th>Whole Weight</th>\n",
       "      <th>Shucked Weight</th>\n",
       "      <th>Viscra Weight</th>\n",
       "      <th>Shell Weight</th>\n",
       "      <th>Gender_F</th>\n",
       "      <th>Gender_I</th>\n",
       "      <th>Gender_M</th>\n",
       "    </tr>\n",
       "  </thead>\n",
       "  <tbody>\n",
       "    <tr>\n",
       "      <th>0</th>\n",
       "      <td>0.595</td>\n",
       "      <td>0.470</td>\n",
       "      <td>0.155</td>\n",
       "      <td>0.6065</td>\n",
       "      <td>0.4515</td>\n",
       "      <td>0.1780</td>\n",
       "      <td>0.1550</td>\n",
       "      <td>1</td>\n",
       "      <td>0</td>\n",
       "      <td>0</td>\n",
       "    </tr>\n",
       "    <tr>\n",
       "      <th>1</th>\n",
       "      <td>0.580</td>\n",
       "      <td>0.450</td>\n",
       "      <td>0.150</td>\n",
       "      <td>0.6360</td>\n",
       "      <td>0.2760</td>\n",
       "      <td>0.1815</td>\n",
       "      <td>0.3600</td>\n",
       "      <td>0</td>\n",
       "      <td>0</td>\n",
       "      <td>1</td>\n",
       "    </tr>\n",
       "    <tr>\n",
       "      <th>2</th>\n",
       "      <td>0.260</td>\n",
       "      <td>0.205</td>\n",
       "      <td>0.070</td>\n",
       "      <td>0.0720</td>\n",
       "      <td>0.0415</td>\n",
       "      <td>0.0190</td>\n",
       "      <td>0.0305</td>\n",
       "      <td>0</td>\n",
       "      <td>1</td>\n",
       "      <td>0</td>\n",
       "    </tr>\n",
       "    <tr>\n",
       "      <th>3</th>\n",
       "      <td>0.590</td>\n",
       "      <td>0.460</td>\n",
       "      <td>0.130</td>\n",
       "      <td>0.7850</td>\n",
       "      <td>0.4550</td>\n",
       "      <td>0.2055</td>\n",
       "      <td>0.3300</td>\n",
       "      <td>0</td>\n",
       "      <td>0</td>\n",
       "      <td>1</td>\n",
       "    </tr>\n",
       "    <tr>\n",
       "      <th>4</th>\n",
       "      <td>0.595</td>\n",
       "      <td>0.465</td>\n",
       "      <td>0.140</td>\n",
       "      <td>0.8225</td>\n",
       "      <td>0.5175</td>\n",
       "      <td>0.2440</td>\n",
       "      <td>0.3050</td>\n",
       "      <td>1</td>\n",
       "      <td>0</td>\n",
       "      <td>0</td>\n",
       "    </tr>\n",
       "  </tbody>\n",
       "</table>\n",
       "</div>"
      ],
      "text/plain": [
       "   Length  Diameter  Height  Whole Weight  Shucked Weight  Viscra Weight  \\\n",
       "0   0.595     0.470   0.155        0.6065          0.4515         0.1780   \n",
       "1   0.580     0.450   0.150        0.6360          0.2760         0.1815   \n",
       "2   0.260     0.205   0.070        0.0720          0.0415         0.0190   \n",
       "3   0.590     0.460   0.130        0.7850          0.4550         0.2055   \n",
       "4   0.595     0.465   0.140        0.8225          0.5175         0.2440   \n",
       "\n",
       "   Shell Weight  Gender_F  Gender_I  Gender_M  \n",
       "0        0.1550         1         0         0  \n",
       "1        0.3600         0         0         1  \n",
       "2        0.0305         0         1         0  \n",
       "3        0.3300         0         0         1  \n",
       "4        0.3050         1         0         0  "
      ]
     },
     "execution_count": 48,
     "metadata": {},
     "output_type": "execute_result"
    }
   ],
   "source": [
    "data_test = pd.get_dummies(data_test)\n",
    "data_test.head()"
   ]
  },
  {
   "cell_type": "code",
   "execution_count": 49,
   "metadata": {},
   "outputs": [
    {
     "data": {
      "text/html": [
       "<div>\n",
       "<style scoped>\n",
       "    .dataframe tbody tr th:only-of-type {\n",
       "        vertical-align: middle;\n",
       "    }\n",
       "\n",
       "    .dataframe tbody tr th {\n",
       "        vertical-align: top;\n",
       "    }\n",
       "\n",
       "    .dataframe thead th {\n",
       "        text-align: right;\n",
       "    }\n",
       "</style>\n",
       "<table border=\"1\" class=\"dataframe\">\n",
       "  <thead>\n",
       "    <tr style=\"text-align: right;\">\n",
       "      <th></th>\n",
       "      <th>Length</th>\n",
       "      <th>Diameter</th>\n",
       "      <th>Height</th>\n",
       "      <th>Whole Weight</th>\n",
       "      <th>Shucked Weight</th>\n",
       "      <th>Viscra Weight</th>\n",
       "      <th>Shell Weight</th>\n",
       "      <th>Target</th>\n",
       "      <th>Range</th>\n",
       "      <th>Gender_F</th>\n",
       "      <th>Gender_I</th>\n",
       "      <th>Gender_M</th>\n",
       "    </tr>\n",
       "  </thead>\n",
       "  <tbody>\n",
       "    <tr>\n",
       "      <th>0</th>\n",
       "      <td>0.605</td>\n",
       "      <td>0.470</td>\n",
       "      <td>0.115</td>\n",
       "      <td>0.7025</td>\n",
       "      <td>0.3925</td>\n",
       "      <td>0.2910</td>\n",
       "      <td>0.3100</td>\n",
       "      <td>15</td>\n",
       "      <td>3</td>\n",
       "      <td>0</td>\n",
       "      <td>0</td>\n",
       "      <td>1</td>\n",
       "    </tr>\n",
       "    <tr>\n",
       "      <th>1</th>\n",
       "      <td>0.430</td>\n",
       "      <td>0.315</td>\n",
       "      <td>0.095</td>\n",
       "      <td>0.2795</td>\n",
       "      <td>0.1750</td>\n",
       "      <td>0.0800</td>\n",
       "      <td>0.1045</td>\n",
       "      <td>8</td>\n",
       "      <td>1</td>\n",
       "      <td>0</td>\n",
       "      <td>1</td>\n",
       "      <td>0</td>\n",
       "    </tr>\n",
       "    <tr>\n",
       "      <th>2</th>\n",
       "      <td>0.580</td>\n",
       "      <td>0.490</td>\n",
       "      <td>0.195</td>\n",
       "      <td>0.9405</td>\n",
       "      <td>0.5305</td>\n",
       "      <td>0.2540</td>\n",
       "      <td>0.4100</td>\n",
       "      <td>18</td>\n",
       "      <td>3</td>\n",
       "      <td>0</td>\n",
       "      <td>1</td>\n",
       "      <td>0</td>\n",
       "    </tr>\n",
       "    <tr>\n",
       "      <th>3</th>\n",
       "      <td>0.535</td>\n",
       "      <td>0.405</td>\n",
       "      <td>0.175</td>\n",
       "      <td>0.8850</td>\n",
       "      <td>0.5480</td>\n",
       "      <td>0.3265</td>\n",
       "      <td>0.3370</td>\n",
       "      <td>13</td>\n",
       "      <td>2</td>\n",
       "      <td>0</td>\n",
       "      <td>0</td>\n",
       "      <td>1</td>\n",
       "    </tr>\n",
       "    <tr>\n",
       "      <th>4</th>\n",
       "      <td>0.310</td>\n",
       "      <td>0.235</td>\n",
       "      <td>0.090</td>\n",
       "      <td>0.0880</td>\n",
       "      <td>0.0480</td>\n",
       "      <td>0.0310</td>\n",
       "      <td>0.0400</td>\n",
       "      <td>6</td>\n",
       "      <td>1</td>\n",
       "      <td>0</td>\n",
       "      <td>1</td>\n",
       "      <td>0</td>\n",
       "    </tr>\n",
       "  </tbody>\n",
       "</table>\n",
       "</div>"
      ],
      "text/plain": [
       "   Length  Diameter  Height  Whole Weight  Shucked Weight  Viscra Weight  \\\n",
       "0   0.605     0.470   0.115        0.7025          0.3925         0.2910   \n",
       "1   0.430     0.315   0.095        0.2795          0.1750         0.0800   \n",
       "2   0.580     0.490   0.195        0.9405          0.5305         0.2540   \n",
       "3   0.535     0.405   0.175        0.8850          0.5480         0.3265   \n",
       "4   0.310     0.235   0.090        0.0880          0.0480         0.0310   \n",
       "\n",
       "   Shell Weight  Target  Range  Gender_F  Gender_I  Gender_M  \n",
       "0        0.3100      15      3         0         0         1  \n",
       "1        0.1045       8      1         0         1         0  \n",
       "2        0.4100      18      3         0         1         0  \n",
       "3        0.3370      13      2         0         0         1  \n",
       "4        0.0400       6      1         0         1         0  "
      ]
     },
     "execution_count": 49,
     "metadata": {},
     "output_type": "execute_result"
    }
   ],
   "source": [
    "data_train = pd.get_dummies(data_train)\n",
    "data_train.head()"
   ]
  },
  {
   "cell_type": "code",
   "execution_count": 50,
   "metadata": {},
   "outputs": [
    {
     "data": {
      "text/html": [
       "<div>\n",
       "<style scoped>\n",
       "    .dataframe tbody tr th:only-of-type {\n",
       "        vertical-align: middle;\n",
       "    }\n",
       "\n",
       "    .dataframe tbody tr th {\n",
       "        vertical-align: top;\n",
       "    }\n",
       "\n",
       "    .dataframe thead th {\n",
       "        text-align: right;\n",
       "    }\n",
       "</style>\n",
       "<table border=\"1\" class=\"dataframe\">\n",
       "  <thead>\n",
       "    <tr style=\"text-align: right;\">\n",
       "      <th></th>\n",
       "      <th>Length</th>\n",
       "      <th>Diameter</th>\n",
       "      <th>Height</th>\n",
       "      <th>Whole Weight</th>\n",
       "      <th>Shucked Weight</th>\n",
       "      <th>Viscra Weight</th>\n",
       "      <th>Shell Weight</th>\n",
       "      <th>Range</th>\n",
       "      <th>Gender_F</th>\n",
       "      <th>Gender_I</th>\n",
       "      <th>Gender_M</th>\n",
       "    </tr>\n",
       "  </thead>\n",
       "  <tbody>\n",
       "    <tr>\n",
       "      <th>0</th>\n",
       "      <td>0.605</td>\n",
       "      <td>0.470</td>\n",
       "      <td>0.115</td>\n",
       "      <td>0.7025</td>\n",
       "      <td>0.3925</td>\n",
       "      <td>0.2910</td>\n",
       "      <td>0.3100</td>\n",
       "      <td>3</td>\n",
       "      <td>0</td>\n",
       "      <td>0</td>\n",
       "      <td>1</td>\n",
       "    </tr>\n",
       "    <tr>\n",
       "      <th>1</th>\n",
       "      <td>0.430</td>\n",
       "      <td>0.315</td>\n",
       "      <td>0.095</td>\n",
       "      <td>0.2795</td>\n",
       "      <td>0.1750</td>\n",
       "      <td>0.0800</td>\n",
       "      <td>0.1045</td>\n",
       "      <td>1</td>\n",
       "      <td>0</td>\n",
       "      <td>1</td>\n",
       "      <td>0</td>\n",
       "    </tr>\n",
       "    <tr>\n",
       "      <th>2</th>\n",
       "      <td>0.580</td>\n",
       "      <td>0.490</td>\n",
       "      <td>0.195</td>\n",
       "      <td>0.9405</td>\n",
       "      <td>0.5305</td>\n",
       "      <td>0.2540</td>\n",
       "      <td>0.4100</td>\n",
       "      <td>3</td>\n",
       "      <td>0</td>\n",
       "      <td>1</td>\n",
       "      <td>0</td>\n",
       "    </tr>\n",
       "    <tr>\n",
       "      <th>3</th>\n",
       "      <td>0.535</td>\n",
       "      <td>0.405</td>\n",
       "      <td>0.175</td>\n",
       "      <td>0.8850</td>\n",
       "      <td>0.5480</td>\n",
       "      <td>0.3265</td>\n",
       "      <td>0.3370</td>\n",
       "      <td>2</td>\n",
       "      <td>0</td>\n",
       "      <td>0</td>\n",
       "      <td>1</td>\n",
       "    </tr>\n",
       "    <tr>\n",
       "      <th>4</th>\n",
       "      <td>0.310</td>\n",
       "      <td>0.235</td>\n",
       "      <td>0.090</td>\n",
       "      <td>0.0880</td>\n",
       "      <td>0.0480</td>\n",
       "      <td>0.0310</td>\n",
       "      <td>0.0400</td>\n",
       "      <td>1</td>\n",
       "      <td>0</td>\n",
       "      <td>1</td>\n",
       "      <td>0</td>\n",
       "    </tr>\n",
       "  </tbody>\n",
       "</table>\n",
       "</div>"
      ],
      "text/plain": [
       "   Length  Diameter  Height  Whole Weight  Shucked Weight  Viscra Weight  \\\n",
       "0   0.605     0.470   0.115        0.7025          0.3925         0.2910   \n",
       "1   0.430     0.315   0.095        0.2795          0.1750         0.0800   \n",
       "2   0.580     0.490   0.195        0.9405          0.5305         0.2540   \n",
       "3   0.535     0.405   0.175        0.8850          0.5480         0.3265   \n",
       "4   0.310     0.235   0.090        0.0880          0.0480         0.0310   \n",
       "\n",
       "   Shell Weight  Range  Gender_F  Gender_I  Gender_M  \n",
       "0        0.3100      3         0         0         1  \n",
       "1        0.1045      1         0         1         0  \n",
       "2        0.4100      3         0         1         0  \n",
       "3        0.3370      2         0         0         1  \n",
       "4        0.0400      1         0         1         0  "
      ]
     },
     "execution_count": 50,
     "metadata": {},
     "output_type": "execute_result"
    }
   ],
   "source": [
    "data_train_X = data_train.drop(columns = ['Target'], axis = 1)\n",
    "data_train_X.head()"
   ]
  },
  {
   "cell_type": "code",
   "execution_count": 51,
   "metadata": {},
   "outputs": [
    {
     "data": {
      "text/plain": [
       "0    15\n",
       "1     8\n",
       "2    18\n",
       "3    13\n",
       "4     6\n",
       "Name: Target, dtype: int64"
      ]
     },
     "execution_count": 51,
     "metadata": {},
     "output_type": "execute_result"
    }
   ],
   "source": [
    "data_train_y = data_train['Target']\n",
    "data_train_y.head()"
   ]
  },
  {
   "cell_type": "code",
   "execution_count": 26,
   "metadata": {},
   "outputs": [],
   "source": [
    "def NMAE(true, pred):\n",
    "    score = np.mean(np.abs(true - pred) / true)\n",
    "    return score"
   ]
  },
  {
   "cell_type": "code",
   "execution_count": 43,
   "metadata": {},
   "outputs": [
    {
     "ename": "ValueError",
     "evalue": "The activation 'elu' is not supported. Supported activations are ['identity', 'logistic', 'relu', 'softmax', 'tanh'].",
     "output_type": "error",
     "traceback": [
      "\u001b[1;31m---------------------------------------------------------------------------\u001b[0m",
      "\u001b[1;31mValueError\u001b[0m                                Traceback (most recent call last)",
      "\u001b[1;32m<ipython-input-43-c48210e43f70>\u001b[0m in \u001b[0;36m<module>\u001b[1;34m\u001b[0m\n\u001b[0;32m     35\u001b[0m     \u001b[1;31m### MLPRegressor ###\u001b[0m\u001b[1;33m\u001b[0m\u001b[1;33m\u001b[0m\u001b[1;33m\u001b[0m\u001b[0m\n\u001b[0;32m     36\u001b[0m     \u001b[0mmodel\u001b[0m \u001b[1;33m=\u001b[0m \u001b[0mMLPRegressor\u001b[0m\u001b[1;33m(\u001b[0m\u001b[0mrandom_state\u001b[0m \u001b[1;33m=\u001b[0m \u001b[1;36m1000\u001b[0m\u001b[1;33m,\u001b[0m \u001b[0mactivation\u001b[0m \u001b[1;33m=\u001b[0m \u001b[1;34m'elu'\u001b[0m\u001b[1;33m)\u001b[0m\u001b[1;33m\u001b[0m\u001b[1;33m\u001b[0m\u001b[0m\n\u001b[1;32m---> 37\u001b[1;33m     \u001b[0mmodel\u001b[0m\u001b[1;33m.\u001b[0m\u001b[0mfit\u001b[0m\u001b[1;33m(\u001b[0m\u001b[0mX_train\u001b[0m\u001b[1;33m,\u001b[0m \u001b[0my_train\u001b[0m\u001b[1;33m)\u001b[0m \u001b[1;31m# 모델 학습\u001b[0m\u001b[1;33m\u001b[0m\u001b[1;33m\u001b[0m\u001b[0m\n\u001b[0m\u001b[0;32m     38\u001b[0m \u001b[1;33m\u001b[0m\u001b[0m\n\u001b[0;32m     39\u001b[0m     \u001b[0mval_pred_name\u001b[0m\u001b[1;33m.\u001b[0m\u001b[0mappend\u001b[0m\u001b[1;33m(\u001b[0m\u001b[1;34m\"MLPRegressor\"\u001b[0m\u001b[1;33m)\u001b[0m      \u001b[1;31m# 모델 이름 저장\u001b[0m\u001b[1;33m\u001b[0m\u001b[1;33m\u001b[0m\u001b[0m\n",
      "\u001b[1;32m~\\anaconda3\\lib\\site-packages\\sklearn\\neural_network\\_multilayer_perceptron.py\u001b[0m in \u001b[0;36mfit\u001b[1;34m(self, X, y)\u001b[0m\n\u001b[0;32m    639\u001b[0m         \u001b[0mself\u001b[0m \u001b[1;33m:\u001b[0m \u001b[0mreturns\u001b[0m \u001b[0ma\u001b[0m \u001b[0mtrained\u001b[0m \u001b[0mMLP\u001b[0m \u001b[0mmodel\u001b[0m\u001b[1;33m.\u001b[0m\u001b[1;33m\u001b[0m\u001b[1;33m\u001b[0m\u001b[0m\n\u001b[0;32m    640\u001b[0m         \"\"\"\n\u001b[1;32m--> 641\u001b[1;33m         \u001b[1;32mreturn\u001b[0m \u001b[0mself\u001b[0m\u001b[1;33m.\u001b[0m\u001b[0m_fit\u001b[0m\u001b[1;33m(\u001b[0m\u001b[0mX\u001b[0m\u001b[1;33m,\u001b[0m \u001b[0my\u001b[0m\u001b[1;33m,\u001b[0m \u001b[0mincremental\u001b[0m\u001b[1;33m=\u001b[0m\u001b[1;32mFalse\u001b[0m\u001b[1;33m)\u001b[0m\u001b[1;33m\u001b[0m\u001b[1;33m\u001b[0m\u001b[0m\n\u001b[0m\u001b[0;32m    642\u001b[0m \u001b[1;33m\u001b[0m\u001b[0m\n\u001b[0;32m    643\u001b[0m     \u001b[1;33m@\u001b[0m\u001b[0mproperty\u001b[0m\u001b[1;33m\u001b[0m\u001b[1;33m\u001b[0m\u001b[0m\n",
      "\u001b[1;32m~\\anaconda3\\lib\\site-packages\\sklearn\\neural_network\\_multilayer_perceptron.py\u001b[0m in \u001b[0;36m_fit\u001b[1;34m(self, X, y, incremental)\u001b[0m\n\u001b[0;32m    319\u001b[0m \u001b[1;33m\u001b[0m\u001b[0m\n\u001b[0;32m    320\u001b[0m         \u001b[1;31m# Validate input parameters.\u001b[0m\u001b[1;33m\u001b[0m\u001b[1;33m\u001b[0m\u001b[1;33m\u001b[0m\u001b[0m\n\u001b[1;32m--> 321\u001b[1;33m         \u001b[0mself\u001b[0m\u001b[1;33m.\u001b[0m\u001b[0m_validate_hyperparameters\u001b[0m\u001b[1;33m(\u001b[0m\u001b[1;33m)\u001b[0m\u001b[1;33m\u001b[0m\u001b[1;33m\u001b[0m\u001b[0m\n\u001b[0m\u001b[0;32m    322\u001b[0m         \u001b[1;32mif\u001b[0m \u001b[0mnp\u001b[0m\u001b[1;33m.\u001b[0m\u001b[0many\u001b[0m\u001b[1;33m(\u001b[0m\u001b[0mnp\u001b[0m\u001b[1;33m.\u001b[0m\u001b[0marray\u001b[0m\u001b[1;33m(\u001b[0m\u001b[0mhidden_layer_sizes\u001b[0m\u001b[1;33m)\u001b[0m \u001b[1;33m<=\u001b[0m \u001b[1;36m0\u001b[0m\u001b[1;33m)\u001b[0m\u001b[1;33m:\u001b[0m\u001b[1;33m\u001b[0m\u001b[1;33m\u001b[0m\u001b[0m\n\u001b[0;32m    323\u001b[0m             raise ValueError(\"hidden_layer_sizes must be > 0, got %s.\" %\n",
      "\u001b[1;32m~\\anaconda3\\lib\\site-packages\\sklearn\\neural_network\\_multilayer_perceptron.py\u001b[0m in \u001b[0;36m_validate_hyperparameters\u001b[1;34m(self)\u001b[0m\n\u001b[0;32m    417\u001b[0m         \u001b[1;31m# raise ValueError if not registered\u001b[0m\u001b[1;33m\u001b[0m\u001b[1;33m\u001b[0m\u001b[1;33m\u001b[0m\u001b[0m\n\u001b[0;32m    418\u001b[0m         \u001b[1;32mif\u001b[0m \u001b[0mself\u001b[0m\u001b[1;33m.\u001b[0m\u001b[0mactivation\u001b[0m \u001b[1;32mnot\u001b[0m \u001b[1;32min\u001b[0m \u001b[0mACTIVATIONS\u001b[0m\u001b[1;33m:\u001b[0m\u001b[1;33m\u001b[0m\u001b[1;33m\u001b[0m\u001b[0m\n\u001b[1;32m--> 419\u001b[1;33m             raise ValueError(\"The activation '%s' is not supported. Supported \"\n\u001b[0m\u001b[0;32m    420\u001b[0m                              \u001b[1;34m\"activations are %s.\"\u001b[0m\u001b[1;33m\u001b[0m\u001b[1;33m\u001b[0m\u001b[0m\n\u001b[0;32m    421\u001b[0m                              % (self.activation, list(sorted(ACTIVATIONS))))\n",
      "\u001b[1;31mValueError\u001b[0m: The activation 'elu' is not supported. Supported activations are ['identity', 'logistic', 'relu', 'softmax', 'tanh']."
     ]
    }
   ],
   "source": [
    "from sklearn.model_selection import StratifiedKFold\n",
    "from sklearn.neural_network import MLPRegressor\n",
    "from sklearn.linear_model import HuberRegressor\n",
    "from sklearn.utils import shuffle\n",
    "from catboost import CatBoostRegressor\n",
    "from xgboost import XGBRegressor\n",
    "from lightgbm import LGBMRegressor\n",
    "from ngboost import NGBRegressor\n",
    "\n",
    "\n",
    "skf = StratifiedKFold(n_splits = 15, random_state = 1000, shuffle = True) #총 15번의 fold 진행\n",
    "n = 0 #x번째 fold인지 기록\n",
    "# random_state 1000해보기\n",
    "fold_target_pred = []\n",
    "\n",
    "for train_index, valid_index in skf.split(data_train_X, data_train_X['Range']):\n",
    "    n += 1\n",
    "    \n",
    "    val_pred_name = [] #validation pred model 이름 저장\n",
    "    val_pred = []      #validation set pred 결과 저장\n",
    "    target_pred = []   #test set pred 결과 저장\n",
    "    \n",
    "    train_X = np.array(data_train_X.drop(\"Range\", axis = 1)) #분배된 학습을 위해 만들어둔 Range feature 제거\n",
    "    train_Y = np.array(data_train_y)\n",
    "    \n",
    "    X_train, X_valid = train_X[train_index], train_X[valid_index]\n",
    "    y_train, y_valid = train_Y[train_index], train_Y[valid_index]\n",
    "    \n",
    "    X_test = np.array(data_test)\n",
    "\n",
    "    ### Create Model ###\n",
    "    \n",
    "    ###모델을 생성하고 집어넣으면 됩니다.\n",
    "    \n",
    "    ### MLPRegressor ###\n",
    "    model = MLPRegressor(random_state = 1000, activation = 'tanh')\n",
    "    model.fit(X_train, y_train) # 모델 학습\n",
    "    \n",
    "    val_pred_name.append(\"MLPRegressor\")      # 모델 이름 저장\n",
    "    val_pred.append(model.predict(X_valid))   # validation set pred 결과 저장\n",
    "    target_pred.append(model.predict(X_test)) # test set pred 결과 저장\n",
    "    \n",
    "    ### NGBRegressor ###\n",
    "    model = NGBRegressor(random_state = 1000, verbose = 0)\n",
    "    model.fit(X_train, y_train)\n",
    "    \n",
    "    val_pred_name.append(\"NGBRegressor\")      # 모델 이름 저장\n",
    "    val_pred.append(model.predict(X_valid))   # validation set pred 결과 저장\n",
    "    target_pred.append(model.predict(X_test)) # test set pred 결과 저장\n",
    "    \n",
    "    ### XGBRegressor ###\n",
    "    model = XGBRegressor(random_state = 1000,)\n",
    "    model.fit(X_train, y_train)\n",
    "    \n",
    "    val_pred_name.append(\"XGBRegressor\")      # 모델 이름 저장\n",
    "    val_pred.append(model.predict(X_valid))   # validation set pred 결과 저장\n",
    "    target_pred.append(model.predict(X_test)) # test set pred 결과 저장\n",
    "    \n",
    "    ### CatBoostRegressor ###\n",
    "    model = CatBoostRegressor(iterations = 1000, verbose = 0, task_type=\"GPU\", random_state = 1000)\n",
    "    model.fit(X_train, y_train)\n",
    "    \n",
    "    val_pred_name.append(\"CatBoostRegressor\")      # 모델 이름 저장\n",
    "    val_pred.append(model.predict(X_valid))   # validation set pred 결과 저장\n",
    "    target_pred.append(model.predict(X_test)) # test set pred 결과 저장\n",
    "    \n",
    "    ### voting ###\n",
    "    \n",
    "    ### average validation pred ###\n",
    "    preds = np.array(val_pred[0])\n",
    "    for i in range(1, len(val_pred)):\n",
    "        preds += val_pred[i]\n",
    "    \n",
    "    preds = preds/len(val_pred)\n",
    "    \n",
    "    ### average target pred ###\n",
    "    target_preds = np.array(target_pred[0])\n",
    "    for i in range(1, len(target_pred)):\n",
    "        target_preds += target_pred[i]\n",
    "    \n",
    "    target_preds = target_preds/len(target_pred)\n",
    "    \n",
    "    fold_target_pred.append(target_preds) # append final target pred\n",
    "    \n",
    "    print(\"========== fold %d ==========\" %(n))\n",
    "    for i in range(len(val_pred)):\n",
    "        print(\"%s model NMAE : %0.4f\" %(val_pred_name[i], NMAE(y_valid, val_pred[i].astype(int))))\n",
    "        \n",
    "    print(\"==============================\")\n",
    "    print(\"Average NMAE %0.4f\" %(NMAE(y_valid, preds.astype(int))))\n",
    "    print(\"\")"
   ]
  },
  {
   "cell_type": "code",
   "execution_count": 34,
   "metadata": {},
   "outputs": [
    {
     "data": {
      "text/plain": [
       "(15, 2924)"
      ]
     },
     "execution_count": 34,
     "metadata": {},
     "output_type": "execute_result"
    }
   ],
   "source": [
    "np.array(fold_target_pred).shape"
   ]
  },
  {
   "cell_type": "code",
   "execution_count": 35,
   "metadata": {},
   "outputs": [],
   "source": [
    "### average target pred ###\n",
    "final_pred = np.array(fold_target_pred[0])\n",
    "for i in range(1, len(fold_target_pred)):\n",
    "    final_pred += fold_target_pred[i]\n",
    "\n",
    "final_pred = final_pred/len(fold_target_pred)\n",
    "final_pred = final_pred.astype(int)"
   ]
  },
  {
   "cell_type": "code",
   "execution_count": 36,
   "metadata": {},
   "outputs": [
    {
     "data": {
      "text/html": [
       "<div>\n",
       "<style scoped>\n",
       "    .dataframe tbody tr th:only-of-type {\n",
       "        vertical-align: middle;\n",
       "    }\n",
       "\n",
       "    .dataframe tbody tr th {\n",
       "        vertical-align: top;\n",
       "    }\n",
       "\n",
       "    .dataframe thead th {\n",
       "        text-align: right;\n",
       "    }\n",
       "</style>\n",
       "<table border=\"1\" class=\"dataframe\">\n",
       "  <thead>\n",
       "    <tr style=\"text-align: right;\">\n",
       "      <th></th>\n",
       "      <th>id</th>\n",
       "      <th>Target</th>\n",
       "    </tr>\n",
       "  </thead>\n",
       "  <tbody>\n",
       "    <tr>\n",
       "      <th>0</th>\n",
       "      <td>1</td>\n",
       "      <td>0</td>\n",
       "    </tr>\n",
       "    <tr>\n",
       "      <th>1</th>\n",
       "      <td>2</td>\n",
       "      <td>0</td>\n",
       "    </tr>\n",
       "    <tr>\n",
       "      <th>2</th>\n",
       "      <td>3</td>\n",
       "      <td>0</td>\n",
       "    </tr>\n",
       "    <tr>\n",
       "      <th>3</th>\n",
       "      <td>4</td>\n",
       "      <td>0</td>\n",
       "    </tr>\n",
       "    <tr>\n",
       "      <th>4</th>\n",
       "      <td>5</td>\n",
       "      <td>0</td>\n",
       "    </tr>\n",
       "  </tbody>\n",
       "</table>\n",
       "</div>"
      ],
      "text/plain": [
       "   id  Target\n",
       "0   1       0\n",
       "1   2       0\n",
       "2   3       0\n",
       "3   4       0\n",
       "4   5       0"
      ]
     },
     "execution_count": 36,
     "metadata": {},
     "output_type": "execute_result"
    }
   ],
   "source": [
    "submission = pd.read_csv(\"data/sample_submission.csv\")\n",
    "submission.head()"
   ]
  },
  {
   "cell_type": "code",
   "execution_count": 41,
   "metadata": {},
   "outputs": [
    {
     "data": {
      "text/html": [
       "<div>\n",
       "<style scoped>\n",
       "    .dataframe tbody tr th:only-of-type {\n",
       "        vertical-align: middle;\n",
       "    }\n",
       "\n",
       "    .dataframe tbody tr th {\n",
       "        vertical-align: top;\n",
       "    }\n",
       "\n",
       "    .dataframe thead th {\n",
       "        text-align: right;\n",
       "    }\n",
       "</style>\n",
       "<table border=\"1\" class=\"dataframe\">\n",
       "  <thead>\n",
       "    <tr style=\"text-align: right;\">\n",
       "      <th></th>\n",
       "      <th>id</th>\n",
       "      <th>Target</th>\n",
       "    </tr>\n",
       "  </thead>\n",
       "  <tbody>\n",
       "    <tr>\n",
       "      <th>0</th>\n",
       "      <td>1</td>\n",
       "      <td>9</td>\n",
       "    </tr>\n",
       "    <tr>\n",
       "      <th>1</th>\n",
       "      <td>2</td>\n",
       "      <td>12</td>\n",
       "    </tr>\n",
       "    <tr>\n",
       "      <th>2</th>\n",
       "      <td>3</td>\n",
       "      <td>5</td>\n",
       "    </tr>\n",
       "    <tr>\n",
       "      <th>3</th>\n",
       "      <td>4</td>\n",
       "      <td>11</td>\n",
       "    </tr>\n",
       "    <tr>\n",
       "      <th>4</th>\n",
       "      <td>5</td>\n",
       "      <td>10</td>\n",
       "    </tr>\n",
       "  </tbody>\n",
       "</table>\n",
       "</div>"
      ],
      "text/plain": [
       "   id  Target\n",
       "0   1       9\n",
       "1   2      12\n",
       "2   3       5\n",
       "3   4      11\n",
       "4   5      10"
      ]
     },
     "execution_count": 41,
     "metadata": {},
     "output_type": "execute_result"
    }
   ],
   "source": [
    "submission['Target'] = final_pred\n",
    "submission.head()"
   ]
  },
  {
   "cell_type": "code",
   "execution_count": 42,
   "metadata": {},
   "outputs": [],
   "source": [
    "submission.to_csv(\"mlp,ngb,xgb,cat15_1000_submit.csv\",index=False)"
   ]
  },
  {
   "cell_type": "code",
   "execution_count": null,
   "metadata": {},
   "outputs": [],
   "source": []
  },
  {
   "cell_type": "code",
   "execution_count": null,
   "metadata": {},
   "outputs": [],
   "source": []
  },
  {
   "cell_type": "code",
   "execution_count": null,
   "metadata": {},
   "outputs": [],
   "source": []
  },
  {
   "cell_type": "code",
   "execution_count": null,
   "metadata": {},
   "outputs": [],
   "source": []
  },
  {
   "cell_type": "code",
   "execution_count": 12,
   "metadata": {},
   "outputs": [
    {
     "ename": "SyntaxError",
     "evalue": "invalid syntax (<ipython-input-12-921ce146f99a>, line 1)",
     "output_type": "error",
     "traceback": [
      "\u001b[1;36m  File \u001b[1;32m\"<ipython-input-12-921ce146f99a>\"\u001b[1;36m, line \u001b[1;32m1\u001b[0m\n\u001b[1;33m    pip3 install auto-sklearn\u001b[0m\n\u001b[1;37m         ^\u001b[0m\n\u001b[1;31mSyntaxError\u001b[0m\u001b[1;31m:\u001b[0m invalid syntax\n"
     ]
    }
   ],
   "source": [
    "pip3 install auto-sklearn"
   ]
  },
  {
   "cell_type": "code",
   "execution_count": 5,
   "metadata": {},
   "outputs": [
    {
     "ename": "ModuleNotFoundError",
     "evalue": "No module named 'autosklearn'",
     "output_type": "error",
     "traceback": [
      "\u001b[1;31m---------------------------------------------------------------------------\u001b[0m",
      "\u001b[1;31mModuleNotFoundError\u001b[0m                       Traceback (most recent call last)",
      "\u001b[1;32m<ipython-input-5-4846e30d0154>\u001b[0m in \u001b[0;36m<module>\u001b[1;34m\u001b[0m\n\u001b[1;32m----> 1\u001b[1;33m \u001b[1;32mimport\u001b[0m \u001b[0mautosklearn\u001b[0m\u001b[1;33m.\u001b[0m\u001b[0mregression\u001b[0m\u001b[1;33m\u001b[0m\u001b[1;33m\u001b[0m\u001b[0m\n\u001b[0m\u001b[0;32m      2\u001b[0m \u001b[1;33m\u001b[0m\u001b[0m\n\u001b[0;32m      3\u001b[0m \u001b[1;32mfrom\u001b[0m \u001b[0mfeature_engine\u001b[0m \u001b[1;32mimport\u001b[0m \u001b[0mtransformation\u001b[0m \u001b[1;32mas\u001b[0m \u001b[0mvt\u001b[0m\u001b[1;33m\u001b[0m\u001b[1;33m\u001b[0m\u001b[0m\n",
      "\u001b[1;31mModuleNotFoundError\u001b[0m: No module named 'autosklearn'"
     ]
    }
   ],
   "source": [
    "import autosklearn.regression\n",
    "\n",
    "from feature_engine import transformation as vt"
   ]
  },
  {
   "cell_type": "code",
   "execution_count": 4,
   "metadata": {},
   "outputs": [
    {
     "ename": "NameError",
     "evalue": "name 'vt' is not defined",
     "output_type": "error",
     "traceback": [
      "\u001b[1;31m---------------------------------------------------------------------------\u001b[0m",
      "\u001b[1;31mNameError\u001b[0m                                 Traceback (most recent call last)",
      "\u001b[1;32m<ipython-input-4-1235f55d1ecc>\u001b[0m in \u001b[0;36m<module>\u001b[1;34m\u001b[0m\n\u001b[1;32m----> 1\u001b[1;33m \u001b[0mtransformer\u001b[0m \u001b[1;33m=\u001b[0m \u001b[0mvt\u001b[0m\u001b[1;33m.\u001b[0m\u001b[0mYeoJohnsonTransformer\u001b[0m\u001b[1;33m(\u001b[0m\u001b[0mvariables\u001b[0m\u001b[1;33m=\u001b[0m\u001b[1;33m[\u001b[0m\u001b[1;34m\"Lenght\"\u001b[0m\u001b[1;33m,\u001b[0m \u001b[1;34m\"Diameter\"\u001b[0m\u001b[1;33m,\u001b[0m \u001b[1;34m\"Height\"\u001b[0m\u001b[1;33m,\u001b[0m \u001b[1;34m\"Whole Weight\"\u001b[0m\u001b[1;33m,\u001b[0m \u001b[1;34m\"Shucked Weight\"\u001b[0m\u001b[1;33m,\u001b[0m \u001b[1;34m\"Viscra Weight\"\u001b[0m\u001b[1;33m,\u001b[0m \u001b[1;34m\"Shell Weight\"\u001b[0m\u001b[1;33m]\u001b[0m\u001b[1;33m)\u001b[0m\u001b[1;33m\u001b[0m\u001b[1;33m\u001b[0m\u001b[0m\n\u001b[0m\u001b[0;32m      2\u001b[0m \u001b[0mtransformer\u001b[0m\u001b[1;33m.\u001b[0m\u001b[0mfit\u001b[0m\u001b[1;33m(\u001b[0m\u001b[0mdf_train\u001b[0m\u001b[1;33m)\u001b[0m\u001b[1;33m\u001b[0m\u001b[1;33m\u001b[0m\u001b[0m\n\u001b[0;32m      3\u001b[0m \u001b[0mdf_train\u001b[0m \u001b[1;33m=\u001b[0m \u001b[0mtransformer\u001b[0m\u001b[1;33m.\u001b[0m\u001b[0mtransform\u001b[0m\u001b[1;33m(\u001b[0m\u001b[0mdf_train\u001b[0m\u001b[1;33m)\u001b[0m\u001b[1;33m\u001b[0m\u001b[1;33m\u001b[0m\u001b[0m\n",
      "\u001b[1;31mNameError\u001b[0m: name 'vt' is not defined"
     ]
    }
   ],
   "source": [
    "transformer = vt.YeoJohnsonTransformer(variables=[\"Lenght\", \"Diameter\", \"Height\", \"Whole Weight\", \"Shucked Weight\", \"Viscra Weight\", \"Shell Weight\"])\n",
    "transformer.fit(df_train)\n",
    "df_train = transformer.transform(df_train)"
   ]
  },
  {
   "cell_type": "code",
   "execution_count": null,
   "metadata": {},
   "outputs": [],
   "source": []
  },
  {
   "cell_type": "code",
   "execution_count": 62,
   "metadata": {},
   "outputs": [
    {
     "name": "stdout",
     "output_type": "stream",
     "text": [
      "Epoch 1/1000\n",
      "28/28 [==============================] - 1s 10ms/step - loss: 6.8134 - mae: 6.8134 - val_loss: 3.2330 - val_mae: 3.2330 - lr: 0.0010\n",
      "Epoch 2/1000\n",
      "28/28 [==============================] - 0s 4ms/step - loss: 2.0515 - mae: 2.0515 - val_loss: 3.0917 - val_mae: 3.0917 - lr: 0.0010\n",
      "Epoch 3/1000\n",
      "28/28 [==============================] - 0s 3ms/step - loss: 1.9968 - mae: 1.9968 - val_loss: 3.0958 - val_mae: 3.0958 - lr: 0.0010\n",
      "Epoch 4/1000\n",
      "28/28 [==============================] - 0s 3ms/step - loss: 1.9172 - mae: 1.9172 - val_loss: 3.1547 - val_mae: 3.1547 - lr: 0.0010\n",
      "Epoch 5/1000\n",
      "28/28 [==============================] - 0s 4ms/step - loss: 1.9013 - mae: 1.9013 - val_loss: 3.0796 - val_mae: 3.0796 - lr: 0.0010\n",
      "Epoch 6/1000\n",
      "28/28 [==============================] - 0s 3ms/step - loss: 1.8408 - mae: 1.8408 - val_loss: 3.1350 - val_mae: 3.1350 - lr: 0.0010\n",
      "Epoch 7/1000\n",
      "28/28 [==============================] - 0s 3ms/step - loss: 1.8292 - mae: 1.8292 - val_loss: 3.0851 - val_mae: 3.0851 - lr: 0.0010\n",
      "Epoch 8/1000\n",
      "28/28 [==============================] - 0s 3ms/step - loss: 1.8284 - mae: 1.8284 - val_loss: 3.2028 - val_mae: 3.2028 - lr: 0.0010\n",
      "Epoch 9/1000\n",
      "28/28 [==============================] - 0s 3ms/step - loss: 1.8421 - mae: 1.8421 - val_loss: 3.1461 - val_mae: 3.1461 - lr: 0.0010\n",
      "Epoch 10/1000\n",
      "28/28 [==============================] - 0s 2ms/step - loss: 1.8139 - mae: 1.8139 - val_loss: 3.2772 - val_mae: 3.2772 - lr: 0.0010\n",
      "Epoch 11/1000\n",
      "28/28 [==============================] - 0s 2ms/step - loss: 1.8182 - mae: 1.8182 - val_loss: 3.0974 - val_mae: 3.0974 - lr: 0.0010\n",
      "Epoch 12/1000\n",
      "28/28 [==============================] - 0s 2ms/step - loss: 1.7754 - mae: 1.7754 - val_loss: 3.1422 - val_mae: 3.1422 - lr: 0.0010\n",
      "Epoch 13/1000\n",
      "28/28 [==============================] - 0s 2ms/step - loss: 1.8071 - mae: 1.8071 - val_loss: 3.1969 - val_mae: 3.1969 - lr: 0.0010\n",
      "Epoch 14/1000\n",
      "28/28 [==============================] - 0s 3ms/step - loss: 1.7818 - mae: 1.7818 - val_loss: 3.0826 - val_mae: 3.0826 - lr: 0.0010\n",
      "Epoch 15/1000\n",
      "28/28 [==============================] - 0s 4ms/step - loss: 1.7806 - mae: 1.7806 - val_loss: 3.1265 - val_mae: 3.1265 - lr: 0.0010\n",
      "Epoch 16/1000\n",
      "28/28 [==============================] - 0s 3ms/step - loss: 1.7596 - mae: 1.7596 - val_loss: 3.0886 - val_mae: 3.0886 - lr: 0.0010\n",
      "Epoch 17/1000\n",
      "28/28 [==============================] - 0s 3ms/step - loss: 1.7554 - mae: 1.7554 - val_loss: 3.2142 - val_mae: 3.2142 - lr: 0.0010\n",
      "Epoch 18/1000\n",
      "28/28 [==============================] - 0s 4ms/step - loss: 1.7628 - mae: 1.7628 - val_loss: 3.2271 - val_mae: 3.2271 - lr: 0.0010\n",
      "Epoch 19/1000\n",
      "28/28 [==============================] - 0s 3ms/step - loss: 1.7530 - mae: 1.7530 - val_loss: 3.1118 - val_mae: 3.1118 - lr: 0.0010\n",
      "Epoch 20/1000\n",
      "28/28 [==============================] - 0s 3ms/step - loss: 1.7383 - mae: 1.7383 - val_loss: 3.1067 - val_mae: 3.1067 - lr: 0.0010\n",
      "Epoch 21/1000\n",
      "28/28 [==============================] - 0s 4ms/step - loss: 1.7540 - mae: 1.7540 - val_loss: 3.0466 - val_mae: 3.0466 - lr: 0.0010\n",
      "Epoch 22/1000\n",
      "28/28 [==============================] - 0s 3ms/step - loss: 1.7186 - mae: 1.7186 - val_loss: 3.1318 - val_mae: 3.1318 - lr: 0.0010\n",
      "Epoch 23/1000\n",
      "28/28 [==============================] - 0s 3ms/step - loss: 1.7470 - mae: 1.7470 - val_loss: 3.0703 - val_mae: 3.0703 - lr: 0.0010\n",
      "Epoch 24/1000\n",
      "28/28 [==============================] - 0s 3ms/step - loss: 1.7489 - mae: 1.7489 - val_loss: 3.0684 - val_mae: 3.0684 - lr: 0.0010\n",
      "Epoch 25/1000\n",
      "28/28 [==============================] - 0s 4ms/step - loss: 1.7795 - mae: 1.7795 - val_loss: 3.0333 - val_mae: 3.0333 - lr: 0.0010\n",
      "Epoch 26/1000\n",
      "28/28 [==============================] - 0s 3ms/step - loss: 1.7278 - mae: 1.7278 - val_loss: 3.1510 - val_mae: 3.1510 - lr: 0.0010\n",
      "Epoch 27/1000\n",
      "28/28 [==============================] - 0s 3ms/step - loss: 1.7098 - mae: 1.7098 - val_loss: 3.1766 - val_mae: 3.1766 - lr: 0.0010\n",
      "Epoch 28/1000\n",
      "28/28 [==============================] - 0s 3ms/step - loss: 1.7287 - mae: 1.7287 - val_loss: 3.0431 - val_mae: 3.0431 - lr: 0.0010\n",
      "Epoch 29/1000\n",
      "28/28 [==============================] - 0s 4ms/step - loss: 1.6812 - mae: 1.6812 - val_loss: 3.0078 - val_mae: 3.0078 - lr: 0.0010\n",
      "Epoch 30/1000\n",
      "28/28 [==============================] - 0s 4ms/step - loss: 1.6729 - mae: 1.6729 - val_loss: 2.9604 - val_mae: 2.9604 - lr: 0.0010\n",
      "Epoch 31/1000\n",
      "28/28 [==============================] - 0s 2ms/step - loss: 1.6965 - mae: 1.6965 - val_loss: 3.0235 - val_mae: 3.0235 - lr: 0.0010\n",
      "Epoch 32/1000\n",
      "28/28 [==============================] - 0s 4ms/step - loss: 1.6959 - mae: 1.6959 - val_loss: 2.9021 - val_mae: 2.9021 - lr: 0.0010\n",
      "Epoch 33/1000\n",
      "28/28 [==============================] - 0s 5ms/step - loss: 1.6645 - mae: 1.6645 - val_loss: 2.8318 - val_mae: 2.8318 - lr: 0.0010\n",
      "Epoch 34/1000\n",
      "28/28 [==============================] - 0s 2ms/step - loss: 1.6455 - mae: 1.6455 - val_loss: 2.9274 - val_mae: 2.9274 - lr: 0.0010\n",
      "Epoch 35/1000\n",
      "28/28 [==============================] - 0s 3ms/step - loss: 1.6407 - mae: 1.6407 - val_loss: 2.9471 - val_mae: 2.9471 - lr: 0.0010\n",
      "Epoch 36/1000\n",
      "28/28 [==============================] - 0s 3ms/step - loss: 1.6368 - mae: 1.6368 - val_loss: 2.8711 - val_mae: 2.8711 - lr: 0.0010\n",
      "Epoch 37/1000\n",
      "28/28 [==============================] - 0s 4ms/step - loss: 1.5937 - mae: 1.5937 - val_loss: 2.7069 - val_mae: 2.7069 - lr: 0.0010\n",
      "Epoch 38/1000\n",
      "28/28 [==============================] - 0s 3ms/step - loss: 1.6059 - mae: 1.6059 - val_loss: 2.8855 - val_mae: 2.8855 - lr: 0.0010\n",
      "Epoch 39/1000\n",
      "28/28 [==============================] - 0s 4ms/step - loss: 1.6313 - mae: 1.6313 - val_loss: 2.6320 - val_mae: 2.6320 - lr: 0.0010\n",
      "Epoch 40/1000\n",
      "28/28 [==============================] - 0s 3ms/step - loss: 1.5868 - mae: 1.5868 - val_loss: 2.6572 - val_mae: 2.6572 - lr: 0.0010\n",
      "Epoch 41/1000\n",
      "28/28 [==============================] - 0s 3ms/step - loss: 1.5772 - mae: 1.5772 - val_loss: 2.7202 - val_mae: 2.7202 - lr: 0.0010\n",
      "Epoch 42/1000\n",
      "28/28 [==============================] - 0s 2ms/step - loss: 1.6018 - mae: 1.6018 - val_loss: 2.7556 - val_mae: 2.7556 - lr: 0.0010\n",
      "Epoch 43/1000\n",
      "28/28 [==============================] - 0s 4ms/step - loss: 1.5746 - mae: 1.5746 - val_loss: 2.5584 - val_mae: 2.5584 - lr: 0.0010\n",
      "Epoch 44/1000\n",
      "28/28 [==============================] - 0s 3ms/step - loss: 1.5718 - mae: 1.5718 - val_loss: 2.6297 - val_mae: 2.6297 - lr: 0.0010\n",
      "Epoch 45/1000\n",
      "28/28 [==============================] - 0s 3ms/step - loss: 1.5806 - mae: 1.5806 - val_loss: 2.6988 - val_mae: 2.6988 - lr: 0.0010\n",
      "Epoch 46/1000\n",
      "28/28 [==============================] - 0s 3ms/step - loss: 1.5620 - mae: 1.5620 - val_loss: 2.6517 - val_mae: 2.6517 - lr: 0.0010\n",
      "Epoch 47/1000\n",
      "28/28 [==============================] - 0s 2ms/step - loss: 1.5988 - mae: 1.5988 - val_loss: 2.6388 - val_mae: 2.6388 - lr: 0.0010\n",
      "Epoch 48/1000\n",
      "28/28 [==============================] - 0s 2ms/step - loss: 1.5761 - mae: 1.5761 - val_loss: 2.5915 - val_mae: 2.5915 - lr: 0.0010\n",
      "Epoch 49/1000\n",
      "28/28 [==============================] - 0s 2ms/step - loss: 1.5508 - mae: 1.5508 - val_loss: 2.6163 - val_mae: 2.6163 - lr: 0.0010\n",
      "Epoch 50/1000\n",
      "28/28 [==============================] - 0s 2ms/step - loss: 1.5647 - mae: 1.5647 - val_loss: 2.6058 - val_mae: 2.6058 - lr: 0.0010\n",
      "Epoch 51/1000\n",
      "28/28 [==============================] - 0s 2ms/step - loss: 1.5198 - mae: 1.5198 - val_loss: 2.6475 - val_mae: 2.6475 - lr: 0.0010\n",
      "Epoch 52/1000\n",
      "28/28 [==============================] - 0s 3ms/step - loss: 1.5766 - mae: 1.5766 - val_loss: 2.6223 - val_mae: 2.6223 - lr: 0.0010\n",
      "Epoch 53/1000\n",
      "28/28 [==============================] - 0s 7ms/step - loss: 1.5241 - mae: 1.5241 - val_loss: 2.5221 - val_mae: 2.5221 - lr: 0.0010\n",
      "Epoch 54/1000\n",
      "28/28 [==============================] - 0s 3ms/step - loss: 1.5488 - mae: 1.5488 - val_loss: 2.6278 - val_mae: 2.6278 - lr: 0.0010\n",
      "Epoch 55/1000\n",
      "28/28 [==============================] - 0s 4ms/step - loss: 1.5404 - mae: 1.5404 - val_loss: 2.5140 - val_mae: 2.5140 - lr: 0.0010\n",
      "Epoch 56/1000\n",
      "28/28 [==============================] - 0s 3ms/step - loss: 1.5310 - mae: 1.5310 - val_loss: 2.7765 - val_mae: 2.7765 - lr: 0.0010\n",
      "Epoch 57/1000\n",
      "28/28 [==============================] - 0s 4ms/step - loss: 1.5557 - mae: 1.5557 - val_loss: 2.5742 - val_mae: 2.5742 - lr: 0.0010\n",
      "Epoch 58/1000\n",
      "28/28 [==============================] - 0s 4ms/step - loss: 1.5626 - mae: 1.5626 - val_loss: 2.5609 - val_mae: 2.5609 - lr: 0.0010\n",
      "Epoch 59/1000\n",
      "28/28 [==============================] - 0s 3ms/step - loss: 1.5602 - mae: 1.5602 - val_loss: 2.5863 - val_mae: 2.5863 - lr: 0.0010\n",
      "Epoch 60/1000\n",
      "28/28 [==============================] - 0s 3ms/step - loss: 1.5562 - mae: 1.5562 - val_loss: 2.5468 - val_mae: 2.5468 - lr: 0.0010\n",
      "Epoch 61/1000\n",
      "28/28 [==============================] - 0s 3ms/step - loss: 1.5174 - mae: 1.5174 - val_loss: 2.7877 - val_mae: 2.7877 - lr: 0.0010\n",
      "Epoch 62/1000\n",
      "28/28 [==============================] - 0s 4ms/step - loss: 1.5263 - mae: 1.5263 - val_loss: 2.5537 - val_mae: 2.5537 - lr: 0.0010\n",
      "Epoch 63/1000\n",
      "28/28 [==============================] - 0s 4ms/step - loss: 1.5439 - mae: 1.5439 - val_loss: 2.6748 - val_mae: 2.6748 - lr: 0.0010\n",
      "Epoch 64/1000\n",
      "28/28 [==============================] - 0s 5ms/step - loss: 1.5251 - mae: 1.5251 - val_loss: 2.4457 - val_mae: 2.4457 - lr: 0.0010\n",
      "Epoch 65/1000\n",
      "28/28 [==============================] - 0s 3ms/step - loss: 1.5415 - mae: 1.5415 - val_loss: 2.6154 - val_mae: 2.6154 - lr: 0.0010\n",
      "Epoch 66/1000\n",
      "28/28 [==============================] - 0s 2ms/step - loss: 1.5402 - mae: 1.5402 - val_loss: 2.6203 - val_mae: 2.6203 - lr: 0.0010\n",
      "Epoch 67/1000\n",
      "28/28 [==============================] - 0s 2ms/step - loss: 1.5600 - mae: 1.5600 - val_loss: 2.5049 - val_mae: 2.5049 - lr: 0.0010\n",
      "Epoch 68/1000\n",
      "28/28 [==============================] - 0s 3ms/step - loss: 1.5176 - mae: 1.5176 - val_loss: 2.5789 - val_mae: 2.5789 - lr: 0.0010\n",
      "Epoch 69/1000\n",
      "28/28 [==============================] - 0s 3ms/step - loss: 1.5290 - mae: 1.5290 - val_loss: 2.5143 - val_mae: 2.5143 - lr: 0.0010\n",
      "Epoch 70/1000\n",
      "28/28 [==============================] - 0s 3ms/step - loss: 1.5244 - mae: 1.5244 - val_loss: 2.4429 - val_mae: 2.4429 - lr: 0.0010\n",
      "Epoch 71/1000\n",
      "28/28 [==============================] - 0s 2ms/step - loss: 1.5422 - mae: 1.5422 - val_loss: 2.4569 - val_mae: 2.4569 - lr: 0.0010\n",
      "Epoch 72/1000\n",
      "28/28 [==============================] - 0s 3ms/step - loss: 1.5684 - mae: 1.5684 - val_loss: 2.6428 - val_mae: 2.6428 - lr: 0.0010\n",
      "Epoch 73/1000\n",
      "28/28 [==============================] - 0s 2ms/step - loss: 1.5325 - mae: 1.5325 - val_loss: 2.5415 - val_mae: 2.5415 - lr: 0.0010\n",
      "Epoch 74/1000\n",
      "28/28 [==============================] - 0s 2ms/step - loss: 1.5297 - mae: 1.5297 - val_loss: 2.6388 - val_mae: 2.6388 - lr: 0.0010\n",
      "Epoch 75/1000\n",
      "28/28 [==============================] - 0s 3ms/step - loss: 1.5247 - mae: 1.5247 - val_loss: 2.5433 - val_mae: 2.5433 - lr: 0.0010\n",
      "Epoch 76/1000\n",
      "28/28 [==============================] - 0s 3ms/step - loss: 1.5286 - mae: 1.5286 - val_loss: 2.5457 - val_mae: 2.5457 - lr: 0.0010\n",
      "Epoch 77/1000\n",
      "28/28 [==============================] - 0s 3ms/step - loss: 1.5027 - mae: 1.5027 - val_loss: 2.4904 - val_mae: 2.4904 - lr: 0.0010\n",
      "Epoch 78/1000\n",
      "28/28 [==============================] - 0s 3ms/step - loss: 1.5022 - mae: 1.5022 - val_loss: 2.6493 - val_mae: 2.6493 - lr: 0.0010\n",
      "Epoch 79/1000\n",
      "28/28 [==============================] - 0s 4ms/step - loss: 1.5319 - mae: 1.5319 - val_loss: 2.4073 - val_mae: 2.4073 - lr: 0.0010\n",
      "Epoch 80/1000\n",
      "28/28 [==============================] - 0s 3ms/step - loss: 1.5062 - mae: 1.5062 - val_loss: 2.4356 - val_mae: 2.4356 - lr: 0.0010\n",
      "Epoch 81/1000\n",
      "28/28 [==============================] - 0s 2ms/step - loss: 1.5280 - mae: 1.5280 - val_loss: 2.6162 - val_mae: 2.6162 - lr: 0.0010\n",
      "Epoch 82/1000\n",
      "28/28 [==============================] - 0s 3ms/step - loss: 1.5136 - mae: 1.5136 - val_loss: 2.4997 - val_mae: 2.4997 - lr: 0.0010\n",
      "Epoch 83/1000\n",
      "28/28 [==============================] - 0s 3ms/step - loss: 1.5173 - mae: 1.5173 - val_loss: 2.5198 - val_mae: 2.5198 - lr: 0.0010\n",
      "Epoch 84/1000\n",
      "28/28 [==============================] - 0s 3ms/step - loss: 1.5122 - mae: 1.5122 - val_loss: 2.4159 - val_mae: 2.4159 - lr: 0.0010\n",
      "Epoch 85/1000\n",
      "28/28 [==============================] - 0s 3ms/step - loss: 1.5208 - mae: 1.5208 - val_loss: 2.6280 - val_mae: 2.6280 - lr: 0.0010\n",
      "Epoch 86/1000\n",
      "28/28 [==============================] - 0s 3ms/step - loss: 1.5111 - mae: 1.5111 - val_loss: 2.4085 - val_mae: 2.4085 - lr: 0.0010\n",
      "Epoch 87/1000\n",
      "28/28 [==============================] - 0s 3ms/step - loss: 1.5117 - mae: 1.5117 - val_loss: 2.4356 - val_mae: 2.4356 - lr: 0.0010\n",
      "Epoch 88/1000\n",
      "28/28 [==============================] - 0s 4ms/step - loss: 1.4860 - mae: 1.4860 - val_loss: 2.4077 - val_mae: 2.4077 - lr: 0.0010\n",
      "Epoch 89/1000\n",
      "28/28 [==============================] - 0s 3ms/step - loss: 1.5176 - mae: 1.5176 - val_loss: 2.5917 - val_mae: 2.5917 - lr: 0.0010\n",
      "Epoch 90/1000\n",
      "28/28 [==============================] - 0s 2ms/step - loss: 1.4878 - mae: 1.4878 - val_loss: 2.5931 - val_mae: 2.5931 - lr: 0.0010\n",
      "Epoch 91/1000\n",
      "28/28 [==============================] - 0s 2ms/step - loss: 1.5126 - mae: 1.5126 - val_loss: 2.6402 - val_mae: 2.6402 - lr: 0.0010\n",
      "Epoch 92/1000\n",
      "28/28 [==============================] - 0s 2ms/step - loss: 1.5089 - mae: 1.5089 - val_loss: 2.4313 - val_mae: 2.4313 - lr: 0.0010\n",
      "Epoch 93/1000\n",
      "28/28 [==============================] - 0s 3ms/step - loss: 1.5052 - mae: 1.5052 - val_loss: 2.4782 - val_mae: 2.4782 - lr: 0.0010\n",
      "Epoch 94/1000\n",
      "28/28 [==============================] - 0s 2ms/step - loss: 1.5175 - mae: 1.5175 - val_loss: 2.4982 - val_mae: 2.4982 - lr: 0.0010\n",
      "Epoch 95/1000\n",
      "28/28 [==============================] - 0s 2ms/step - loss: 1.5027 - mae: 1.5027 - val_loss: 2.5077 - val_mae: 2.5077 - lr: 0.0010\n",
      "Epoch 96/1000\n",
      "28/28 [==============================] - 0s 2ms/step - loss: 1.5021 - mae: 1.5021 - val_loss: 2.6920 - val_mae: 2.6920 - lr: 0.0010\n",
      "Epoch 97/1000\n",
      "28/28 [==============================] - 0s 2ms/step - loss: 1.5112 - mae: 1.5112 - val_loss: 2.5331 - val_mae: 2.5331 - lr: 0.0010\n",
      "Epoch 98/1000\n",
      "28/28 [==============================] - 0s 4ms/step - loss: 1.4927 - mae: 1.4927 - val_loss: 2.3955 - val_mae: 2.3955 - lr: 0.0010\n",
      "Epoch 99/1000\n",
      "28/28 [==============================] - 0s 2ms/step - loss: 1.4941 - mae: 1.4941 - val_loss: 2.5693 - val_mae: 2.5693 - lr: 0.0010\n",
      "Epoch 100/1000\n",
      "28/28 [==============================] - 0s 2ms/step - loss: 1.4959 - mae: 1.4959 - val_loss: 2.4431 - val_mae: 2.4431 - lr: 0.0010\n",
      "Epoch 101/1000\n",
      "28/28 [==============================] - 0s 2ms/step - loss: 1.5012 - mae: 1.5012 - val_loss: 2.4675 - val_mae: 2.4675 - lr: 0.0010\n",
      "Epoch 102/1000\n",
      "28/28 [==============================] - 0s 2ms/step - loss: 1.4840 - mae: 1.4840 - val_loss: 2.4080 - val_mae: 2.4080 - lr: 0.0010\n",
      "Epoch 103/1000\n",
      "28/28 [==============================] - 0s 2ms/step - loss: 1.5037 - mae: 1.5037 - val_loss: 2.4126 - val_mae: 2.4126 - lr: 0.0010\n",
      "Epoch 104/1000\n",
      "28/28 [==============================] - 0s 2ms/step - loss: 1.4979 - mae: 1.4979 - val_loss: 2.5213 - val_mae: 2.5213 - lr: 0.0010\n",
      "Epoch 105/1000\n",
      "28/28 [==============================] - 0s 2ms/step - loss: 1.5070 - mae: 1.5070 - val_loss: 2.6901 - val_mae: 2.6901 - lr: 0.0010\n",
      "Epoch 106/1000\n",
      "28/28 [==============================] - 0s 3ms/step - loss: 1.5061 - mae: 1.5061 - val_loss: 2.4292 - val_mae: 2.4292 - lr: 0.0010\n",
      "Epoch 107/1000\n",
      "28/28 [==============================] - 0s 2ms/step - loss: 1.4714 - mae: 1.4714 - val_loss: 2.4533 - val_mae: 2.4533 - lr: 0.0010\n",
      "Epoch 108/1000\n",
      "28/28 [==============================] - 0s 2ms/step - loss: 1.5031 - mae: 1.5031 - val_loss: 2.5789 - val_mae: 2.5789 - lr: 0.0010\n",
      "Epoch 109/1000\n",
      "28/28 [==============================] - 0s 2ms/step - loss: 1.4924 - mae: 1.4924 - val_loss: 2.5827 - val_mae: 2.5827 - lr: 0.0010\n",
      "Epoch 110/1000\n",
      "28/28 [==============================] - 0s 2ms/step - loss: 1.4969 - mae: 1.4969 - val_loss: 2.5397 - val_mae: 2.5397 - lr: 0.0010\n",
      "Epoch 111/1000\n",
      "28/28 [==============================] - 0s 4ms/step - loss: 1.4694 - mae: 1.4694 - val_loss: 2.4922 - val_mae: 2.4922 - lr: 0.0010\n",
      "Epoch 112/1000\n",
      "28/28 [==============================] - 0s 4ms/step - loss: 1.4731 - mae: 1.4731 - val_loss: 2.3797 - val_mae: 2.3797 - lr: 0.0010\n",
      "Epoch 113/1000\n"
     ]
    },
    {
     "name": "stdout",
     "output_type": "stream",
     "text": [
      "28/28 [==============================] - 0s 3ms/step - loss: 1.4886 - mae: 1.4886 - val_loss: 2.4658 - val_mae: 2.4658 - lr: 0.0010\n",
      "Epoch 114/1000\n",
      "28/28 [==============================] - 0s 2ms/step - loss: 1.4977 - mae: 1.4977 - val_loss: 2.3915 - val_mae: 2.3915 - lr: 0.0010\n",
      "Epoch 115/1000\n",
      "28/28 [==============================] - 0s 2ms/step - loss: 1.4918 - mae: 1.4918 - val_loss: 2.5987 - val_mae: 2.5987 - lr: 0.0010\n",
      "Epoch 116/1000\n",
      "28/28 [==============================] - 0s 2ms/step - loss: 1.4930 - mae: 1.4930 - val_loss: 2.6343 - val_mae: 2.6343 - lr: 0.0010\n",
      "Epoch 117/1000\n",
      "28/28 [==============================] - 0s 2ms/step - loss: 1.4957 - mae: 1.4957 - val_loss: 2.4107 - val_mae: 2.4107 - lr: 0.0010\n",
      "Epoch 118/1000\n",
      "28/28 [==============================] - 0s 2ms/step - loss: 1.4629 - mae: 1.4629 - val_loss: 2.5232 - val_mae: 2.5232 - lr: 0.0010\n",
      "Epoch 119/1000\n",
      "28/28 [==============================] - 0s 3ms/step - loss: 1.4759 - mae: 1.4759 - val_loss: 2.4195 - val_mae: 2.4195 - lr: 0.0010\n",
      "Epoch 120/1000\n",
      "28/28 [==============================] - 0s 3ms/step - loss: 1.4711 - mae: 1.4711 - val_loss: 2.4697 - val_mae: 2.4697 - lr: 0.0010\n",
      "Epoch 121/1000\n",
      "28/28 [==============================] - 0s 2ms/step - loss: 1.4958 - mae: 1.4958 - val_loss: 2.4267 - val_mae: 2.4267 - lr: 0.0010\n",
      "Epoch 122/1000\n",
      "28/28 [==============================] - 0s 2ms/step - loss: 1.4764 - mae: 1.4764 - val_loss: 2.4117 - val_mae: 2.4117 - lr: 0.0010\n",
      "Epoch 123/1000\n",
      "28/28 [==============================] - 0s 2ms/step - loss: 1.4630 - mae: 1.4630 - val_loss: 2.3853 - val_mae: 2.3853 - lr: 0.0010\n",
      "Epoch 124/1000\n",
      "28/28 [==============================] - 0s 2ms/step - loss: 1.4937 - mae: 1.4937 - val_loss: 2.4481 - val_mae: 2.4481 - lr: 0.0010\n",
      "Epoch 125/1000\n",
      "28/28 [==============================] - 0s 3ms/step - loss: 1.4655 - mae: 1.4655 - val_loss: 2.4070 - val_mae: 2.4070 - lr: 0.0010\n",
      "Epoch 126/1000\n",
      "28/28 [==============================] - 0s 2ms/step - loss: 1.4682 - mae: 1.4682 - val_loss: 2.6563 - val_mae: 2.6563 - lr: 0.0010\n",
      "Epoch 127/1000\n",
      "28/28 [==============================] - 0s 3ms/step - loss: 1.4850 - mae: 1.4850 - val_loss: 2.4198 - val_mae: 2.4198 - lr: 0.0010\n",
      "Epoch 128/1000\n",
      "28/28 [==============================] - 0s 3ms/step - loss: 1.4779 - mae: 1.4779 - val_loss: 2.3364 - val_mae: 2.3364 - lr: 0.0010\n",
      "Epoch 129/1000\n",
      "28/28 [==============================] - 0s 3ms/step - loss: 1.4530 - mae: 1.4530 - val_loss: 2.4290 - val_mae: 2.4290 - lr: 0.0010\n",
      "Epoch 130/1000\n",
      "28/28 [==============================] - 0s 2ms/step - loss: 1.4855 - mae: 1.4855 - val_loss: 2.4651 - val_mae: 2.4651 - lr: 0.0010\n",
      "Epoch 131/1000\n",
      "28/28 [==============================] - 0s 4ms/step - loss: 1.4445 - mae: 1.4445 - val_loss: 2.3178 - val_mae: 2.3178 - lr: 0.0010\n",
      "Epoch 132/1000\n",
      "28/28 [==============================] - 0s 2ms/step - loss: 1.5126 - mae: 1.5126 - val_loss: 2.6170 - val_mae: 2.6170 - lr: 0.0010\n",
      "Epoch 133/1000\n",
      "28/28 [==============================] - 0s 2ms/step - loss: 1.4861 - mae: 1.4861 - val_loss: 2.4699 - val_mae: 2.4699 - lr: 0.0010\n",
      "Epoch 134/1000\n",
      "28/28 [==============================] - 0s 2ms/step - loss: 1.4452 - mae: 1.4452 - val_loss: 2.3441 - val_mae: 2.3441 - lr: 0.0010\n",
      "Epoch 135/1000\n",
      "28/28 [==============================] - 0s 3ms/step - loss: 1.4643 - mae: 1.4643 - val_loss: 2.3852 - val_mae: 2.3852 - lr: 0.0010\n",
      "Epoch 136/1000\n",
      "28/28 [==============================] - 0s 2ms/step - loss: 1.4724 - mae: 1.4724 - val_loss: 2.5187 - val_mae: 2.5187 - lr: 0.0010\n",
      "Epoch 137/1000\n",
      "28/28 [==============================] - 0s 3ms/step - loss: 1.4631 - mae: 1.4631 - val_loss: 2.3429 - val_mae: 2.3429 - lr: 0.0010\n",
      "Epoch 138/1000\n",
      "28/28 [==============================] - 0s 3ms/step - loss: 1.4508 - mae: 1.4508 - val_loss: 2.4246 - val_mae: 2.4246 - lr: 0.0010\n",
      "Epoch 139/1000\n",
      "28/28 [==============================] - 0s 2ms/step - loss: 1.4740 - mae: 1.4740 - val_loss: 2.5269 - val_mae: 2.5269 - lr: 0.0010\n",
      "Epoch 140/1000\n",
      "28/28 [==============================] - 0s 2ms/step - loss: 1.4569 - mae: 1.4569 - val_loss: 2.3940 - val_mae: 2.3940 - lr: 0.0010\n",
      "Epoch 141/1000\n",
      "28/28 [==============================] - 0s 3ms/step - loss: 1.4531 - mae: 1.4531 - val_loss: 2.3647 - val_mae: 2.3647 - lr: 0.0010\n",
      "Epoch 142/1000\n",
      "28/28 [==============================] - 0s 3ms/step - loss: 1.4465 - mae: 1.4465 - val_loss: 2.4200 - val_mae: 2.4200 - lr: 0.0010\n",
      "Epoch 143/1000\n",
      "28/28 [==============================] - 0s 2ms/step - loss: 1.4469 - mae: 1.4469 - val_loss: 2.5223 - val_mae: 2.5223 - lr: 0.0010\n",
      "Epoch 144/1000\n",
      "28/28 [==============================] - 0s 3ms/step - loss: 1.4506 - mae: 1.4506 - val_loss: 2.3116 - val_mae: 2.3116 - lr: 0.0010\n",
      "Epoch 145/1000\n",
      "28/28 [==============================] - 0s 3ms/step - loss: 1.4505 - mae: 1.4505 - val_loss: 2.3619 - val_mae: 2.3619 - lr: 0.0010\n",
      "Epoch 146/1000\n",
      "28/28 [==============================] - 0s 3ms/step - loss: 1.4476 - mae: 1.4476 - val_loss: 2.3049 - val_mae: 2.3049 - lr: 0.0010\n",
      "Epoch 147/1000\n",
      "28/28 [==============================] - 0s 3ms/step - loss: 1.4616 - mae: 1.4616 - val_loss: 2.4119 - val_mae: 2.4119 - lr: 0.0010\n",
      "Epoch 148/1000\n",
      "28/28 [==============================] - 0s 3ms/step - loss: 1.4613 - mae: 1.4613 - val_loss: 2.4323 - val_mae: 2.4323 - lr: 0.0010\n",
      "Epoch 149/1000\n",
      "28/28 [==============================] - 0s 3ms/step - loss: 1.4597 - mae: 1.4597 - val_loss: 2.3894 - val_mae: 2.3894 - lr: 0.0010\n",
      "Epoch 150/1000\n",
      "28/28 [==============================] - 0s 3ms/step - loss: 1.4555 - mae: 1.4555 - val_loss: 2.2980 - val_mae: 2.2980 - lr: 0.0010\n",
      "Epoch 151/1000\n",
      "28/28 [==============================] - 0s 3ms/step - loss: 1.4580 - mae: 1.4580 - val_loss: 2.3066 - val_mae: 2.3066 - lr: 0.0010\n",
      "Epoch 152/1000\n",
      "28/28 [==============================] - 0s 2ms/step - loss: 1.4507 - mae: 1.4507 - val_loss: 2.4276 - val_mae: 2.4276 - lr: 0.0010\n",
      "Epoch 153/1000\n",
      "28/28 [==============================] - 0s 5ms/step - loss: 1.4262 - mae: 1.4262 - val_loss: 2.2952 - val_mae: 2.2952 - lr: 0.0010\n",
      "Epoch 154/1000\n",
      "28/28 [==============================] - 0s 3ms/step - loss: 1.4406 - mae: 1.4406 - val_loss: 2.3213 - val_mae: 2.3213 - lr: 0.0010\n",
      "Epoch 155/1000\n",
      "28/28 [==============================] - 0s 3ms/step - loss: 1.4496 - mae: 1.4496 - val_loss: 2.3231 - val_mae: 2.3231 - lr: 0.0010\n",
      "Epoch 156/1000\n",
      "28/28 [==============================] - 0s 2ms/step - loss: 1.4533 - mae: 1.4533 - val_loss: 2.3896 - val_mae: 2.3896 - lr: 0.0010\n",
      "Epoch 157/1000\n",
      "28/28 [==============================] - 0s 4ms/step - loss: 1.4459 - mae: 1.4459 - val_loss: 2.2672 - val_mae: 2.2672 - lr: 0.0010\n",
      "Epoch 158/1000\n",
      "28/28 [==============================] - 0s 3ms/step - loss: 1.4505 - mae: 1.4505 - val_loss: 2.3724 - val_mae: 2.3724 - lr: 0.0010\n",
      "Epoch 159/1000\n",
      "28/28 [==============================] - 0s 2ms/step - loss: 1.4356 - mae: 1.4356 - val_loss: 2.3611 - val_mae: 2.3611 - lr: 0.0010\n",
      "Epoch 160/1000\n",
      "28/28 [==============================] - 0s 3ms/step - loss: 1.4396 - mae: 1.4396 - val_loss: 2.4714 - val_mae: 2.4714 - lr: 0.0010\n",
      "Epoch 161/1000\n",
      "28/28 [==============================] - 0s 3ms/step - loss: 1.4664 - mae: 1.4664 - val_loss: 2.4619 - val_mae: 2.4619 - lr: 0.0010\n",
      "Epoch 162/1000\n",
      "28/28 [==============================] - 0s 3ms/step - loss: 1.4367 - mae: 1.4367 - val_loss: 2.5924 - val_mae: 2.5924 - lr: 0.0010\n",
      "Epoch 163/1000\n",
      "28/28 [==============================] - 0s 4ms/step - loss: 1.4764 - mae: 1.4764 - val_loss: 2.2472 - val_mae: 2.2472 - lr: 0.0010\n",
      "Epoch 164/1000\n",
      "28/28 [==============================] - 0s 2ms/step - loss: 1.4553 - mae: 1.4553 - val_loss: 2.3955 - val_mae: 2.3955 - lr: 0.0010\n",
      "Epoch 165/1000\n",
      "28/28 [==============================] - 0s 2ms/step - loss: 1.4624 - mae: 1.4624 - val_loss: 2.4580 - val_mae: 2.4580 - lr: 0.0010\n",
      "Epoch 166/1000\n",
      "28/28 [==============================] - 0s 4ms/step - loss: 1.4486 - mae: 1.4486 - val_loss: 2.2472 - val_mae: 2.2472 - lr: 0.0010\n",
      "Epoch 167/1000\n",
      "28/28 [==============================] - 0s 3ms/step - loss: 1.4555 - mae: 1.4555 - val_loss: 2.4157 - val_mae: 2.4157 - lr: 0.0010\n",
      "Epoch 168/1000\n",
      "28/28 [==============================] - 0s 3ms/step - loss: 1.4478 - mae: 1.4478 - val_loss: 2.4878 - val_mae: 2.4878 - lr: 0.0010\n"
     ]
    },
    {
     "name": "stdout",
     "output_type": "stream",
     "text": [
      "Epoch 169/1000\n",
      "28/28 [==============================] - 0s 3ms/step - loss: 1.4449 - mae: 1.4449 - val_loss: 2.3067 - val_mae: 2.3067 - lr: 0.0010\n",
      "Epoch 170/1000\n",
      "28/28 [==============================] - 0s 3ms/step - loss: 1.4446 - mae: 1.4446 - val_loss: 2.3882 - val_mae: 2.3882 - lr: 0.0010\n",
      "Epoch 171/1000\n",
      "28/28 [==============================] - 0s 4ms/step - loss: 1.4435 - mae: 1.4435 - val_loss: 2.1988 - val_mae: 2.1988 - lr: 0.0010\n",
      "Epoch 172/1000\n",
      "28/28 [==============================] - 0s 3ms/step - loss: 1.4289 - mae: 1.4289 - val_loss: 2.3946 - val_mae: 2.3946 - lr: 0.0010\n",
      "Epoch 173/1000\n",
      "28/28 [==============================] - 0s 2ms/step - loss: 1.4459 - mae: 1.4459 - val_loss: 2.3924 - val_mae: 2.3924 - lr: 0.0010\n",
      "Epoch 174/1000\n",
      "28/28 [==============================] - 0s 2ms/step - loss: 1.4528 - mae: 1.4528 - val_loss: 2.3698 - val_mae: 2.3698 - lr: 0.0010\n",
      "Epoch 175/1000\n",
      "28/28 [==============================] - 0s 2ms/step - loss: 1.4244 - mae: 1.4244 - val_loss: 2.4637 - val_mae: 2.4637 - lr: 0.0010\n",
      "Epoch 176/1000\n",
      "28/28 [==============================] - 0s 3ms/step - loss: 1.4570 - mae: 1.4570 - val_loss: 2.3795 - val_mae: 2.3795 - lr: 0.0010\n",
      "Epoch 177/1000\n",
      "28/28 [==============================] - 0s 3ms/step - loss: 1.4541 - mae: 1.4541 - val_loss: 2.4048 - val_mae: 2.4048 - lr: 0.0010\n",
      "Epoch 178/1000\n",
      "28/28 [==============================] - 0s 2ms/step - loss: 1.4410 - mae: 1.4410 - val_loss: 2.4169 - val_mae: 2.4169 - lr: 0.0010\n",
      "Epoch 179/1000\n",
      "28/28 [==============================] - 0s 3ms/step - loss: 1.4248 - mae: 1.4248 - val_loss: 2.5220 - val_mae: 2.5220 - lr: 0.0010\n",
      "Epoch 180/1000\n",
      "28/28 [==============================] - 0s 3ms/step - loss: 1.4557 - mae: 1.4557 - val_loss: 2.4921 - val_mae: 2.4921 - lr: 0.0010\n",
      "Epoch 181/1000\n",
      "28/28 [==============================] - 0s 3ms/step - loss: 1.4670 - mae: 1.4670 - val_loss: 2.4062 - val_mae: 2.4062 - lr: 0.0010\n",
      "Epoch 182/1000\n",
      "28/28 [==============================] - 0s 3ms/step - loss: 1.4297 - mae: 1.4297 - val_loss: 2.3243 - val_mae: 2.3243 - lr: 0.0010\n",
      "Epoch 183/1000\n",
      "28/28 [==============================] - 0s 3ms/step - loss: 1.4360 - mae: 1.4360 - val_loss: 2.2804 - val_mae: 2.2804 - lr: 0.0010\n",
      "Epoch 184/1000\n",
      "28/28 [==============================] - 0s 3ms/step - loss: 1.4424 - mae: 1.4424 - val_loss: 2.3473 - val_mae: 2.3473 - lr: 0.0010\n",
      "Epoch 185/1000\n",
      "28/28 [==============================] - 0s 2ms/step - loss: 1.4419 - mae: 1.4419 - val_loss: 2.2976 - val_mae: 2.2976 - lr: 0.0010\n",
      "Epoch 186/1000\n",
      "28/28 [==============================] - 0s 2ms/step - loss: 1.4540 - mae: 1.4540 - val_loss: 2.3335 - val_mae: 2.3335 - lr: 0.0010\n",
      "Epoch 187/1000\n",
      "28/28 [==============================] - 0s 3ms/step - loss: 1.4345 - mae: 1.4345 - val_loss: 2.2549 - val_mae: 2.2549 - lr: 0.0010\n",
      "Epoch 188/1000\n",
      "28/28 [==============================] - 0s 3ms/step - loss: 1.4295 - mae: 1.4295 - val_loss: 2.2591 - val_mae: 2.2591 - lr: 0.0010\n",
      "Epoch 189/1000\n",
      "28/28 [==============================] - 0s 2ms/step - loss: 1.4637 - mae: 1.4637 - val_loss: 2.3147 - val_mae: 2.3147 - lr: 0.0010\n",
      "Epoch 190/1000\n",
      "28/28 [==============================] - 0s 3ms/step - loss: 1.4420 - mae: 1.4420 - val_loss: 2.3019 - val_mae: 2.3019 - lr: 0.0010\n",
      "Epoch 191/1000\n",
      "28/28 [==============================] - 0s 3ms/step - loss: 1.4348 - mae: 1.4348 - val_loss: 2.3015 - val_mae: 2.3015 - lr: 0.0010\n",
      "Epoch 192/1000\n",
      "28/28 [==============================] - 0s 5ms/step - loss: 1.4364 - mae: 1.4364 - val_loss: 2.2877 - val_mae: 2.2877 - lr: 0.0010\n",
      "Epoch 193/1000\n",
      "28/28 [==============================] - 0s 3ms/step - loss: 1.4547 - mae: 1.4547 - val_loss: 2.2462 - val_mae: 2.2462 - lr: 0.0010\n",
      "Epoch 194/1000\n",
      "28/28 [==============================] - 0s 3ms/step - loss: 1.4601 - mae: 1.4601 - val_loss: 2.2368 - val_mae: 2.2368 - lr: 0.0010\n",
      "Epoch 195/1000\n",
      "28/28 [==============================] - 0s 3ms/step - loss: 1.4390 - mae: 1.4390 - val_loss: 2.2914 - val_mae: 2.2914 - lr: 0.0010\n",
      "Epoch 196/1000\n",
      "28/28 [==============================] - 0s 3ms/step - loss: 1.4423 - mae: 1.4423 - val_loss: 2.4587 - val_mae: 2.4587 - lr: 0.0010\n",
      "Epoch 197/1000\n",
      "28/28 [==============================] - 0s 3ms/step - loss: 1.4580 - mae: 1.4580 - val_loss: 2.3388 - val_mae: 2.3388 - lr: 0.0010\n",
      "Epoch 198/1000\n",
      "28/28 [==============================] - 0s 2ms/step - loss: 1.4237 - mae: 1.4237 - val_loss: 2.3140 - val_mae: 2.3140 - lr: 0.0010\n",
      "Epoch 199/1000\n",
      "28/28 [==============================] - 0s 3ms/step - loss: 1.4356 - mae: 1.4356 - val_loss: 2.3017 - val_mae: 2.3017 - lr: 0.0010\n",
      "Epoch 200/1000\n",
      "28/28 [==============================] - 0s 3ms/step - loss: 1.4457 - mae: 1.4457 - val_loss: 2.4551 - val_mae: 2.4551 - lr: 0.0010\n",
      "Epoch 201/1000\n",
      "28/28 [==============================] - 0s 2ms/step - loss: 1.4417 - mae: 1.4417 - val_loss: 2.3027 - val_mae: 2.3027 - lr: 0.0010\n",
      "Epoch 202/1000\n",
      "28/28 [==============================] - 0s 2ms/step - loss: 1.4266 - mae: 1.4266 - val_loss: 2.4575 - val_mae: 2.4575 - lr: 0.0010\n",
      "Epoch 203/1000\n",
      "28/28 [==============================] - 0s 3ms/step - loss: 1.4254 - mae: 1.4254 - val_loss: 2.2799 - val_mae: 2.2799 - lr: 0.0010\n",
      "Epoch 204/1000\n",
      "28/28 [==============================] - 0s 3ms/step - loss: 1.4265 - mae: 1.4265 - val_loss: 2.3685 - val_mae: 2.3685 - lr: 0.0010\n",
      "Epoch 205/1000\n",
      "28/28 [==============================] - 0s 3ms/step - loss: 1.4084 - mae: 1.4084 - val_loss: 2.5103 - val_mae: 2.5103 - lr: 0.0010\n",
      "Epoch 206/1000\n",
      "28/28 [==============================] - 0s 3ms/step - loss: 1.4175 - mae: 1.4175 - val_loss: 2.2582 - val_mae: 2.2582 - lr: 0.0010\n",
      "Epoch 207/1000\n",
      "28/28 [==============================] - 0s 2ms/step - loss: 1.4588 - mae: 1.4588 - val_loss: 2.3116 - val_mae: 2.3116 - lr: 0.0010\n",
      "Epoch 208/1000\n",
      "28/28 [==============================] - 0s 2ms/step - loss: 1.4353 - mae: 1.4353 - val_loss: 2.4199 - val_mae: 2.4199 - lr: 0.0010\n",
      "Epoch 209/1000\n",
      "28/28 [==============================] - 0s 2ms/step - loss: 1.4141 - mae: 1.4141 - val_loss: 2.4386 - val_mae: 2.4386 - lr: 0.0010\n",
      "Epoch 210/1000\n",
      "28/28 [==============================] - 0s 2ms/step - loss: 1.4442 - mae: 1.4442 - val_loss: 2.2744 - val_mae: 2.2744 - lr: 0.0010\n",
      "Epoch 211/1000\n",
      "28/28 [==============================] - 0s 3ms/step - loss: 1.4423 - mae: 1.4423 - val_loss: 2.2206 - val_mae: 2.2206 - lr: 0.0010\n",
      "Epoch 212/1000\n",
      "28/28 [==============================] - 0s 3ms/step - loss: 1.4243 - mae: 1.4243 - val_loss: 2.3447 - val_mae: 2.3447 - lr: 2.0000e-04\n",
      "Epoch 213/1000\n",
      "28/28 [==============================] - 0s 2ms/step - loss: 1.4028 - mae: 1.4028 - val_loss: 2.3466 - val_mae: 2.3466 - lr: 2.0000e-04\n",
      "Epoch 214/1000\n",
      "28/28 [==============================] - 0s 3ms/step - loss: 1.4221 - mae: 1.4221 - val_loss: 2.3487 - val_mae: 2.3487 - lr: 2.0000e-04\n",
      "Epoch 215/1000\n",
      "28/28 [==============================] - 0s 3ms/step - loss: 1.4279 - mae: 1.4279 - val_loss: 2.3502 - val_mae: 2.3502 - lr: 2.0000e-04\n",
      "Epoch 216/1000\n",
      "28/28 [==============================] - 0s 2ms/step - loss: 1.4015 - mae: 1.4015 - val_loss: 2.3435 - val_mae: 2.3435 - lr: 2.0000e-04\n",
      "Epoch 217/1000\n",
      "28/28 [==============================] - 0s 2ms/step - loss: 1.4159 - mae: 1.4159 - val_loss: 2.2964 - val_mae: 2.2964 - lr: 2.0000e-04\n",
      "Epoch 218/1000\n",
      "28/28 [==============================] - 0s 2ms/step - loss: 1.4171 - mae: 1.4171 - val_loss: 2.3099 - val_mae: 2.3099 - lr: 2.0000e-04\n",
      "Epoch 219/1000\n",
      "28/28 [==============================] - 0s 2ms/step - loss: 1.4239 - mae: 1.4239 - val_loss: 2.2917 - val_mae: 2.2917 - lr: 2.0000e-04\n",
      "Epoch 220/1000\n",
      "28/28 [==============================] - 0s 2ms/step - loss: 1.4155 - mae: 1.4155 - val_loss: 2.3242 - val_mae: 2.3242 - lr: 2.0000e-04\n",
      "Epoch 221/1000\n",
      "28/28 [==============================] - 0s 2ms/step - loss: 1.4136 - mae: 1.4136 - val_loss: 2.2668 - val_mae: 2.2668 - lr: 2.0000e-04\n"
     ]
    },
    {
     "ename": "OSError",
     "evalue": "No file or directory found at model_1246.h5",
     "output_type": "error",
     "traceback": [
      "\u001b[1;31m---------------------------------------------------------------------------\u001b[0m",
      "\u001b[1;31mOSError\u001b[0m                                   Traceback (most recent call last)",
      "\u001b[1;32m<ipython-input-62-77518873119f>\u001b[0m in \u001b[0;36m<module>\u001b[1;34m\u001b[0m\n\u001b[0;32m     66\u001b[0m     \u001b[0mhistory\u001b[0m \u001b[1;33m=\u001b[0m \u001b[0mmodel\u001b[0m\u001b[1;33m.\u001b[0m\u001b[0mfit\u001b[0m\u001b[1;33m(\u001b[0m\u001b[0mX_train\u001b[0m\u001b[1;33m,\u001b[0m \u001b[0my_train\u001b[0m\u001b[1;33m,\u001b[0m \u001b[0mvalidation_split\u001b[0m\u001b[1;33m=\u001b[0m\u001b[1;36m0.3\u001b[0m\u001b[1;33m,\u001b[0m \u001b[0mepochs\u001b[0m\u001b[1;33m=\u001b[0m\u001b[1;36m1000\u001b[0m\u001b[1;33m,\u001b[0m \u001b[0mbatch_size\u001b[0m\u001b[1;33m=\u001b[0m\u001b[1;36m32\u001b[0m\u001b[1;33m,\u001b[0m \u001b[0mverbose\u001b[0m\u001b[1;33m=\u001b[0m\u001b[1;36m1\u001b[0m\u001b[1;33m,\u001b[0m \u001b[0mcallbacks\u001b[0m\u001b[1;33m=\u001b[0m\u001b[1;33m[\u001b[0m\u001b[0mearly_stopping_callback\u001b[0m\u001b[1;33m,\u001b[0m\u001b[0mcheckpointer\u001b[0m\u001b[1;33m,\u001b[0m\u001b[0mreduce_lr\u001b[0m\u001b[1;33m]\u001b[0m\u001b[1;33m)\u001b[0m\u001b[1;33m\u001b[0m\u001b[1;33m\u001b[0m\u001b[0m\n\u001b[0;32m     67\u001b[0m \u001b[1;33m\u001b[0m\u001b[0m\n\u001b[1;32m---> 68\u001b[1;33m     \u001b[0mbest\u001b[0m \u001b[1;33m=\u001b[0m \u001b[0mload_model\u001b[0m\u001b[1;33m(\u001b[0m\u001b[1;34mf'model_{i + 1}.h5'\u001b[0m\u001b[1;33m)\u001b[0m\u001b[1;33m\u001b[0m\u001b[1;33m\u001b[0m\u001b[0m\n\u001b[0m\u001b[0;32m     69\u001b[0m     \u001b[0mval_pred\u001b[0m \u001b[1;33m=\u001b[0m \u001b[0mbest\u001b[0m\u001b[1;33m.\u001b[0m\u001b[0mpredict\u001b[0m\u001b[1;33m(\u001b[0m\u001b[0mtest\u001b[0m\u001b[1;33m)\u001b[0m\u001b[1;33m.\u001b[0m\u001b[0mflatten\u001b[0m\u001b[1;33m(\u001b[0m\u001b[1;33m)\u001b[0m \u001b[1;31m#1.5217\u001b[0m\u001b[1;33m\u001b[0m\u001b[1;33m\u001b[0m\u001b[0m\n\u001b[0;32m     70\u001b[0m     \u001b[0mval_cls\u001b[0m \u001b[1;33m=\u001b[0m \u001b[0mnp\u001b[0m\u001b[1;33m.\u001b[0m\u001b[0margmin\u001b[0m\u001b[1;33m(\u001b[0m\u001b[0mval_pred\u001b[0m\u001b[1;33m,\u001b[0m \u001b[0maxis\u001b[0m \u001b[1;33m=\u001b[0m \u001b[1;36m1\u001b[0m\u001b[1;33m)\u001b[0m\u001b[1;33m\u001b[0m\u001b[1;33m\u001b[0m\u001b[0m\n",
      "\u001b[1;32m~\\anaconda3\\lib\\site-packages\\keras\\utils\\traceback_utils.py\u001b[0m in \u001b[0;36merror_handler\u001b[1;34m(*args, **kwargs)\u001b[0m\n\u001b[0;32m     65\u001b[0m     \u001b[1;32mexcept\u001b[0m \u001b[0mException\u001b[0m \u001b[1;32mas\u001b[0m \u001b[0me\u001b[0m\u001b[1;33m:\u001b[0m  \u001b[1;31m# pylint: disable=broad-except\u001b[0m\u001b[1;33m\u001b[0m\u001b[1;33m\u001b[0m\u001b[0m\n\u001b[0;32m     66\u001b[0m       \u001b[0mfiltered_tb\u001b[0m \u001b[1;33m=\u001b[0m \u001b[0m_process_traceback_frames\u001b[0m\u001b[1;33m(\u001b[0m\u001b[0me\u001b[0m\u001b[1;33m.\u001b[0m\u001b[0m__traceback__\u001b[0m\u001b[1;33m)\u001b[0m\u001b[1;33m\u001b[0m\u001b[1;33m\u001b[0m\u001b[0m\n\u001b[1;32m---> 67\u001b[1;33m       \u001b[1;32mraise\u001b[0m \u001b[0me\u001b[0m\u001b[1;33m.\u001b[0m\u001b[0mwith_traceback\u001b[0m\u001b[1;33m(\u001b[0m\u001b[0mfiltered_tb\u001b[0m\u001b[1;33m)\u001b[0m \u001b[1;32mfrom\u001b[0m \u001b[1;32mNone\u001b[0m\u001b[1;33m\u001b[0m\u001b[1;33m\u001b[0m\u001b[0m\n\u001b[0m\u001b[0;32m     68\u001b[0m     \u001b[1;32mfinally\u001b[0m\u001b[1;33m:\u001b[0m\u001b[1;33m\u001b[0m\u001b[1;33m\u001b[0m\u001b[0m\n\u001b[0;32m     69\u001b[0m       \u001b[1;32mdel\u001b[0m \u001b[0mfiltered_tb\u001b[0m\u001b[1;33m\u001b[0m\u001b[1;33m\u001b[0m\u001b[0m\n",
      "\u001b[1;32m~\\anaconda3\\lib\\site-packages\\keras\\saving\\save.py\u001b[0m in \u001b[0;36mload_model\u001b[1;34m(filepath, custom_objects, compile, options)\u001b[0m\n\u001b[0;32m    202\u001b[0m         \u001b[1;32mif\u001b[0m \u001b[0misinstance\u001b[0m\u001b[1;33m(\u001b[0m\u001b[0mfilepath_str\u001b[0m\u001b[1;33m,\u001b[0m \u001b[0mstr\u001b[0m\u001b[1;33m)\u001b[0m\u001b[1;33m:\u001b[0m\u001b[1;33m\u001b[0m\u001b[1;33m\u001b[0m\u001b[0m\n\u001b[0;32m    203\u001b[0m           \u001b[1;32mif\u001b[0m \u001b[1;32mnot\u001b[0m \u001b[0mtf\u001b[0m\u001b[1;33m.\u001b[0m\u001b[0mio\u001b[0m\u001b[1;33m.\u001b[0m\u001b[0mgfile\u001b[0m\u001b[1;33m.\u001b[0m\u001b[0mexists\u001b[0m\u001b[1;33m(\u001b[0m\u001b[0mfilepath_str\u001b[0m\u001b[1;33m)\u001b[0m\u001b[1;33m:\u001b[0m\u001b[1;33m\u001b[0m\u001b[1;33m\u001b[0m\u001b[0m\n\u001b[1;32m--> 204\u001b[1;33m             \u001b[1;32mraise\u001b[0m \u001b[0mIOError\u001b[0m\u001b[1;33m(\u001b[0m\u001b[1;34mf'No file or directory found at {filepath_str}'\u001b[0m\u001b[1;33m)\u001b[0m\u001b[1;33m\u001b[0m\u001b[1;33m\u001b[0m\u001b[0m\n\u001b[0m\u001b[0;32m    205\u001b[0m \u001b[1;33m\u001b[0m\u001b[0m\n\u001b[0;32m    206\u001b[0m           \u001b[1;32mif\u001b[0m \u001b[0mtf\u001b[0m\u001b[1;33m.\u001b[0m\u001b[0mio\u001b[0m\u001b[1;33m.\u001b[0m\u001b[0mgfile\u001b[0m\u001b[1;33m.\u001b[0m\u001b[0misdir\u001b[0m\u001b[1;33m(\u001b[0m\u001b[0mfilepath_str\u001b[0m\u001b[1;33m)\u001b[0m\u001b[1;33m:\u001b[0m\u001b[1;33m\u001b[0m\u001b[1;33m\u001b[0m\u001b[0m\n",
      "\u001b[1;31mOSError\u001b[0m: No file or directory found at model_1246.h5"
     ]
    }
   ],
   "source": [
    "from sklearn.model_selection import StratifiedKFold\n",
    "from sklearn.neural_network import MLPRegressor\n",
    "from sklearn.linear_model import HuberRegressor\n",
    "from sklearn.utils import shuffle\n",
    "from catboost import CatBoostRegressor\n",
    "from xgboost import XGBRegressor\n",
    "from lightgbm import LGBMRegressor\n",
    "from ngboost import NGBRegressor\n",
    "\n",
    "\n",
    "skf = StratifiedKFold(n_splits = 15, random_state = 1000, shuffle = True) #총 15번의 fold 진행\n",
    "n = 0 #x번째 fold인지 기록\n",
    "# random_state 1000해보기\n",
    "fold_target_pred = []\n",
    "\n",
    "for train_index, valid_index in skf.split(data_train_X, data_train_X['Range']):\n",
    "    n += 1\n",
    "    \n",
    "    val_pred_name = [] #validation pred model 이름 저장\n",
    "    val_pred = []      #validation set pred 결과 저장\n",
    "    target_pred = []   #test set pred 결과 저장\n",
    "    \n",
    "    train_X = np.array(data_train_X.drop(\"Range\", axis = 1)) #분배된 학습을 위해 만들어둔 Range feature 제거\n",
    "    train_Y = np.array(data_train_y)\n",
    "    \n",
    "    X_train, X_valid = train_X[train_index], train_X[valid_index]\n",
    "    y_train, y_valid = train_Y[train_index], train_Y[valid_index]\n",
    "    \n",
    "    X_test = np.array(data_test)\n",
    "\n",
    "    ### Create Model ###\n",
    "    \n",
    "    ###모델을 생성하고 집어넣으면 됩니다.\n",
    "    # 딥러닝 모델 선언\n",
    "    model = Sequential()\n",
    "    model.add(Dense(16, input_dim=11, activation='elu'))  # 입력층\n",
    "    model.add(Dense(32, activation='elu'))      # 은닉층1\n",
    "    model.add(Dense(64, activation='elu'))  \n",
    "    model.add(Dropout(0.5))\n",
    "    model.add(Dense(32, activation='elu'))  # \n",
    "    model.add(Dense(16, activation='elu'))\n",
    "    model.add(Dense(1))# 출력층\n",
    "    # 선형 회귀는 마지막에 참과 거짓을 구분할 필요가 없음. 출력층에 활성화 함수를 지정할 필요도 없음\n",
    "\n",
    "    model.compile(loss='mean_absolute_error',\n",
    "                  optimizer='Nadam', \n",
    "                  metrics=['mae'])\n",
    "    \n",
    "    \n",
    "    # 모델 저장 폴더 만들기\n",
    "    MODEL_DIR = './model/'\n",
    "    if not os.path.exists(MODEL_DIR):\n",
    "        os.mkdir(MODEL_DIR)\n",
    "\n",
    "    modelpath = \"./model/{epoch:02d}-{i+1}.hdf5\"\n",
    "\n",
    "    # 모델 업데이트 및 저장\n",
    "    checkpointer = ModelCheckpoint(filepath=modelpath, monitor='val_mae', verbose=0, save_best_only=True, mode='min')\n",
    "    # 콜백함수\n",
    "    reduce_lr = ReduceLROnPlateau(monitor='val_mae', factor=0.2, patience=40, mode='min')\n",
    "\n",
    "    # 학습 자동 중단 설정\n",
    "    early_stopping_callback = EarlyStopping(monitor='val_mae', patience=50, mode='min') \n",
    "    \n",
    "    # 모델 학습\n",
    "    history = model.fit(X_train, y_train, validation_split=0.3, epochs=1000, batch_size=32, verbose=1, callbacks=[early_stopping_callback,checkpointer,reduce_lr])\n",
    "    \n",
    "    best = load_model(f'model_{i + 1}.h5')\n",
    "    val_pred = best.predict(test).flatten() #1.5217 \n",
    "    val_cls = np.argmin(val_pred, axis = 1)\n",
    "    \n",
    "    fold_acc = accuracy_score(np.argmin(y_valid, axis = 1), val_cls)\n",
    "    fold_target_pred.append(fold_acc)\n",
    "    print(f'{i + 1} Fold ACC of CNN = {fold_acc}\\n')\n",
    "\n",
    "    ### Fold별 test 데이터에 대한 예측값 생성 및 앙상블\n",
    "    fold_pred = best.predict(target) / skf.n_splits\n",
    "    cnn_pred += fold_pred"
   ]
  },
  {
   "cell_type": "code",
   "execution_count": null,
   "metadata": {},
   "outputs": [],
   "source": []
  },
  {
   "cell_type": "code",
   "execution_count": null,
   "metadata": {},
   "outputs": [],
   "source": []
  },
  {
   "cell_type": "code",
   "execution_count": null,
   "metadata": {},
   "outputs": [],
   "source": []
  },
  {
   "cell_type": "code",
   "execution_count": null,
   "metadata": {},
   "outputs": [],
   "source": []
  },
  {
   "cell_type": "code",
   "execution_count": null,
   "metadata": {},
   "outputs": [],
   "source": [
    "# featrue 추가"
   ]
  },
  {
   "cell_type": "code",
   "execution_count": null,
   "metadata": {},
   "outputs": [],
   "source": [
    "whole weight: 전복 전체 무게\n",
    "shucked weight: 껍질을 제외한 무게\n",
    "viscra weight: 내장 무게(피 제외)\n",
    "shell weight: 빈껍질 무게\n"
   ]
  },
  {
   "cell_type": "code",
   "execution_count": 5,
   "metadata": {
    "scrolled": true
   },
   "outputs": [
    {
     "data": {
      "text/html": [
       "<div>\n",
       "<style scoped>\n",
       "    .dataframe tbody tr th:only-of-type {\n",
       "        vertical-align: middle;\n",
       "    }\n",
       "\n",
       "    .dataframe tbody tr th {\n",
       "        vertical-align: top;\n",
       "    }\n",
       "\n",
       "    .dataframe thead th {\n",
       "        text-align: right;\n",
       "    }\n",
       "</style>\n",
       "<table border=\"1\" class=\"dataframe\">\n",
       "  <thead>\n",
       "    <tr style=\"text-align: right;\">\n",
       "      <th></th>\n",
       "      <th>Gender</th>\n",
       "      <th>Lenght</th>\n",
       "      <th>Diameter</th>\n",
       "      <th>Height</th>\n",
       "      <th>Whole Weight</th>\n",
       "      <th>Shucked Weight</th>\n",
       "      <th>Viscra Weight</th>\n",
       "      <th>Shell Weight</th>\n",
       "    </tr>\n",
       "  </thead>\n",
       "  <tbody>\n",
       "    <tr>\n",
       "      <th>0</th>\n",
       "      <td>M</td>\n",
       "      <td>0.605</td>\n",
       "      <td>0.470</td>\n",
       "      <td>0.115</td>\n",
       "      <td>1.1140</td>\n",
       "      <td>0.3925</td>\n",
       "      <td>0.2910</td>\n",
       "      <td>0.3100</td>\n",
       "    </tr>\n",
       "    <tr>\n",
       "      <th>1</th>\n",
       "      <td>I</td>\n",
       "      <td>0.430</td>\n",
       "      <td>0.315</td>\n",
       "      <td>0.095</td>\n",
       "      <td>0.3780</td>\n",
       "      <td>0.1750</td>\n",
       "      <td>0.0800</td>\n",
       "      <td>0.1045</td>\n",
       "    </tr>\n",
       "    <tr>\n",
       "      <th>2</th>\n",
       "      <td>I</td>\n",
       "      <td>0.580</td>\n",
       "      <td>0.490</td>\n",
       "      <td>0.195</td>\n",
       "      <td>1.3165</td>\n",
       "      <td>0.5305</td>\n",
       "      <td>0.2540</td>\n",
       "      <td>0.4100</td>\n",
       "    </tr>\n",
       "    <tr>\n",
       "      <th>3</th>\n",
       "      <td>M</td>\n",
       "      <td>0.535</td>\n",
       "      <td>0.405</td>\n",
       "      <td>0.175</td>\n",
       "      <td>1.2705</td>\n",
       "      <td>0.5480</td>\n",
       "      <td>0.3265</td>\n",
       "      <td>0.3370</td>\n",
       "    </tr>\n",
       "    <tr>\n",
       "      <th>4</th>\n",
       "      <td>I</td>\n",
       "      <td>0.310</td>\n",
       "      <td>0.235</td>\n",
       "      <td>0.090</td>\n",
       "      <td>0.1270</td>\n",
       "      <td>0.0480</td>\n",
       "      <td>0.0310</td>\n",
       "      <td>0.0400</td>\n",
       "    </tr>\n",
       "    <tr>\n",
       "      <th>...</th>\n",
       "      <td>...</td>\n",
       "      <td>...</td>\n",
       "      <td>...</td>\n",
       "      <td>...</td>\n",
       "      <td>...</td>\n",
       "      <td>...</td>\n",
       "      <td>...</td>\n",
       "      <td>...</td>\n",
       "    </tr>\n",
       "    <tr>\n",
       "      <th>1248</th>\n",
       "      <td>I</td>\n",
       "      <td>0.190</td>\n",
       "      <td>0.145</td>\n",
       "      <td>0.040</td>\n",
       "      <td>0.0380</td>\n",
       "      <td>0.0165</td>\n",
       "      <td>0.0065</td>\n",
       "      <td>0.0150</td>\n",
       "    </tr>\n",
       "    <tr>\n",
       "      <th>1249</th>\n",
       "      <td>I</td>\n",
       "      <td>0.395</td>\n",
       "      <td>0.310</td>\n",
       "      <td>0.085</td>\n",
       "      <td>0.3170</td>\n",
       "      <td>0.1530</td>\n",
       "      <td>0.0505</td>\n",
       "      <td>0.0935</td>\n",
       "    </tr>\n",
       "    <tr>\n",
       "      <th>1250</th>\n",
       "      <td>F</td>\n",
       "      <td>0.525</td>\n",
       "      <td>0.410</td>\n",
       "      <td>0.115</td>\n",
       "      <td>0.7745</td>\n",
       "      <td>0.4160</td>\n",
       "      <td>0.1630</td>\n",
       "      <td>0.1800</td>\n",
       "    </tr>\n",
       "    <tr>\n",
       "      <th>1251</th>\n",
       "      <td>F</td>\n",
       "      <td>0.445</td>\n",
       "      <td>0.335</td>\n",
       "      <td>0.110</td>\n",
       "      <td>0.4355</td>\n",
       "      <td>0.2025</td>\n",
       "      <td>0.1095</td>\n",
       "      <td>0.1195</td>\n",
       "    </tr>\n",
       "    <tr>\n",
       "      <th>1252</th>\n",
       "      <td>F</td>\n",
       "      <td>0.750</td>\n",
       "      <td>0.550</td>\n",
       "      <td>0.195</td>\n",
       "      <td>1.8325</td>\n",
       "      <td>0.8300</td>\n",
       "      <td>0.3660</td>\n",
       "      <td>0.4400</td>\n",
       "    </tr>\n",
       "  </tbody>\n",
       "</table>\n",
       "<p>1253 rows × 8 columns</p>\n",
       "</div>"
      ],
      "text/plain": [
       "     Gender  Lenght  Diameter  Height  Whole Weight  Shucked Weight  \\\n",
       "0         M   0.605     0.470   0.115        1.1140          0.3925   \n",
       "1         I   0.430     0.315   0.095        0.3780          0.1750   \n",
       "2         I   0.580     0.490   0.195        1.3165          0.5305   \n",
       "3         M   0.535     0.405   0.175        1.2705          0.5480   \n",
       "4         I   0.310     0.235   0.090        0.1270          0.0480   \n",
       "...     ...     ...       ...     ...           ...             ...   \n",
       "1248      I   0.190     0.145   0.040        0.0380          0.0165   \n",
       "1249      I   0.395     0.310   0.085        0.3170          0.1530   \n",
       "1250      F   0.525     0.410   0.115        0.7745          0.4160   \n",
       "1251      F   0.445     0.335   0.110        0.4355          0.2025   \n",
       "1252      F   0.750     0.550   0.195        1.8325          0.8300   \n",
       "\n",
       "      Viscra Weight  Shell Weight  \n",
       "0            0.2910        0.3100  \n",
       "1            0.0800        0.1045  \n",
       "2            0.2540        0.4100  \n",
       "3            0.3265        0.3370  \n",
       "4            0.0310        0.0400  \n",
       "...             ...           ...  \n",
       "1248         0.0065        0.0150  \n",
       "1249         0.0505        0.0935  \n",
       "1250         0.1630        0.1800  \n",
       "1251         0.1095        0.1195  \n",
       "1252         0.3660        0.4400  \n",
       "\n",
       "[1253 rows x 8 columns]"
      ]
     },
     "execution_count": 5,
     "metadata": {},
     "output_type": "execute_result"
    }
   ],
   "source": [
    "train_x"
   ]
  },
  {
   "cell_type": "code",
   "execution_count": 6,
   "metadata": {},
   "outputs": [],
   "source": [
    "train_x = pd.get_dummies(data=train_x, columns=['Gender'], prefix = 'Gender')\n",
    "test_x = pd.get_dummies(data=test, columns=['Gender'], prefix = 'Gender')"
   ]
  },
  {
   "cell_type": "code",
   "execution_count": 7,
   "metadata": {},
   "outputs": [],
   "source": [
    "foreign_body = train_x['Whole Weight'] - (train_x['Shucked Weight'] + train_x['Shell Weight'])"
   ]
  },
  {
   "cell_type": "code",
   "execution_count": 8,
   "metadata": {},
   "outputs": [],
   "source": [
    "train_x['foreign body'] = foreign_body"
   ]
  },
  {
   "cell_type": "code",
   "execution_count": 9,
   "metadata": {},
   "outputs": [
    {
     "data": {
      "text/html": [
       "<div>\n",
       "<style scoped>\n",
       "    .dataframe tbody tr th:only-of-type {\n",
       "        vertical-align: middle;\n",
       "    }\n",
       "\n",
       "    .dataframe tbody tr th {\n",
       "        vertical-align: top;\n",
       "    }\n",
       "\n",
       "    .dataframe thead th {\n",
       "        text-align: right;\n",
       "    }\n",
       "</style>\n",
       "<table border=\"1\" class=\"dataframe\">\n",
       "  <thead>\n",
       "    <tr style=\"text-align: right;\">\n",
       "      <th></th>\n",
       "      <th>Lenght</th>\n",
       "      <th>Diameter</th>\n",
       "      <th>Height</th>\n",
       "      <th>Whole Weight</th>\n",
       "      <th>Shucked Weight</th>\n",
       "      <th>Viscra Weight</th>\n",
       "      <th>Shell Weight</th>\n",
       "      <th>Gender_F</th>\n",
       "      <th>Gender_I</th>\n",
       "      <th>Gender_M</th>\n",
       "      <th>foreign body</th>\n",
       "    </tr>\n",
       "  </thead>\n",
       "  <tbody>\n",
       "    <tr>\n",
       "      <th>0</th>\n",
       "      <td>0.605</td>\n",
       "      <td>0.470</td>\n",
       "      <td>0.115</td>\n",
       "      <td>1.1140</td>\n",
       "      <td>0.3925</td>\n",
       "      <td>0.2910</td>\n",
       "      <td>0.3100</td>\n",
       "      <td>0</td>\n",
       "      <td>0</td>\n",
       "      <td>1</td>\n",
       "      <td>0.4115</td>\n",
       "    </tr>\n",
       "    <tr>\n",
       "      <th>1</th>\n",
       "      <td>0.430</td>\n",
       "      <td>0.315</td>\n",
       "      <td>0.095</td>\n",
       "      <td>0.3780</td>\n",
       "      <td>0.1750</td>\n",
       "      <td>0.0800</td>\n",
       "      <td>0.1045</td>\n",
       "      <td>0</td>\n",
       "      <td>1</td>\n",
       "      <td>0</td>\n",
       "      <td>0.0985</td>\n",
       "    </tr>\n",
       "    <tr>\n",
       "      <th>2</th>\n",
       "      <td>0.580</td>\n",
       "      <td>0.490</td>\n",
       "      <td>0.195</td>\n",
       "      <td>1.3165</td>\n",
       "      <td>0.5305</td>\n",
       "      <td>0.2540</td>\n",
       "      <td>0.4100</td>\n",
       "      <td>0</td>\n",
       "      <td>1</td>\n",
       "      <td>0</td>\n",
       "      <td>0.3760</td>\n",
       "    </tr>\n",
       "    <tr>\n",
       "      <th>3</th>\n",
       "      <td>0.535</td>\n",
       "      <td>0.405</td>\n",
       "      <td>0.175</td>\n",
       "      <td>1.2705</td>\n",
       "      <td>0.5480</td>\n",
       "      <td>0.3265</td>\n",
       "      <td>0.3370</td>\n",
       "      <td>0</td>\n",
       "      <td>0</td>\n",
       "      <td>1</td>\n",
       "      <td>0.3855</td>\n",
       "    </tr>\n",
       "    <tr>\n",
       "      <th>4</th>\n",
       "      <td>0.310</td>\n",
       "      <td>0.235</td>\n",
       "      <td>0.090</td>\n",
       "      <td>0.1270</td>\n",
       "      <td>0.0480</td>\n",
       "      <td>0.0310</td>\n",
       "      <td>0.0400</td>\n",
       "      <td>0</td>\n",
       "      <td>1</td>\n",
       "      <td>0</td>\n",
       "      <td>0.0390</td>\n",
       "    </tr>\n",
       "    <tr>\n",
       "      <th>...</th>\n",
       "      <td>...</td>\n",
       "      <td>...</td>\n",
       "      <td>...</td>\n",
       "      <td>...</td>\n",
       "      <td>...</td>\n",
       "      <td>...</td>\n",
       "      <td>...</td>\n",
       "      <td>...</td>\n",
       "      <td>...</td>\n",
       "      <td>...</td>\n",
       "      <td>...</td>\n",
       "    </tr>\n",
       "    <tr>\n",
       "      <th>1248</th>\n",
       "      <td>0.190</td>\n",
       "      <td>0.145</td>\n",
       "      <td>0.040</td>\n",
       "      <td>0.0380</td>\n",
       "      <td>0.0165</td>\n",
       "      <td>0.0065</td>\n",
       "      <td>0.0150</td>\n",
       "      <td>0</td>\n",
       "      <td>1</td>\n",
       "      <td>0</td>\n",
       "      <td>0.0065</td>\n",
       "    </tr>\n",
       "    <tr>\n",
       "      <th>1249</th>\n",
       "      <td>0.395</td>\n",
       "      <td>0.310</td>\n",
       "      <td>0.085</td>\n",
       "      <td>0.3170</td>\n",
       "      <td>0.1530</td>\n",
       "      <td>0.0505</td>\n",
       "      <td>0.0935</td>\n",
       "      <td>0</td>\n",
       "      <td>1</td>\n",
       "      <td>0</td>\n",
       "      <td>0.0705</td>\n",
       "    </tr>\n",
       "    <tr>\n",
       "      <th>1250</th>\n",
       "      <td>0.525</td>\n",
       "      <td>0.410</td>\n",
       "      <td>0.115</td>\n",
       "      <td>0.7745</td>\n",
       "      <td>0.4160</td>\n",
       "      <td>0.1630</td>\n",
       "      <td>0.1800</td>\n",
       "      <td>1</td>\n",
       "      <td>0</td>\n",
       "      <td>0</td>\n",
       "      <td>0.1785</td>\n",
       "    </tr>\n",
       "    <tr>\n",
       "      <th>1251</th>\n",
       "      <td>0.445</td>\n",
       "      <td>0.335</td>\n",
       "      <td>0.110</td>\n",
       "      <td>0.4355</td>\n",
       "      <td>0.2025</td>\n",
       "      <td>0.1095</td>\n",
       "      <td>0.1195</td>\n",
       "      <td>1</td>\n",
       "      <td>0</td>\n",
       "      <td>0</td>\n",
       "      <td>0.1135</td>\n",
       "    </tr>\n",
       "    <tr>\n",
       "      <th>1252</th>\n",
       "      <td>0.750</td>\n",
       "      <td>0.550</td>\n",
       "      <td>0.195</td>\n",
       "      <td>1.8325</td>\n",
       "      <td>0.8300</td>\n",
       "      <td>0.3660</td>\n",
       "      <td>0.4400</td>\n",
       "      <td>1</td>\n",
       "      <td>0</td>\n",
       "      <td>0</td>\n",
       "      <td>0.5625</td>\n",
       "    </tr>\n",
       "  </tbody>\n",
       "</table>\n",
       "<p>1253 rows × 11 columns</p>\n",
       "</div>"
      ],
      "text/plain": [
       "      Lenght  Diameter  Height  Whole Weight  Shucked Weight  Viscra Weight  \\\n",
       "0      0.605     0.470   0.115        1.1140          0.3925         0.2910   \n",
       "1      0.430     0.315   0.095        0.3780          0.1750         0.0800   \n",
       "2      0.580     0.490   0.195        1.3165          0.5305         0.2540   \n",
       "3      0.535     0.405   0.175        1.2705          0.5480         0.3265   \n",
       "4      0.310     0.235   0.090        0.1270          0.0480         0.0310   \n",
       "...      ...       ...     ...           ...             ...            ...   \n",
       "1248   0.190     0.145   0.040        0.0380          0.0165         0.0065   \n",
       "1249   0.395     0.310   0.085        0.3170          0.1530         0.0505   \n",
       "1250   0.525     0.410   0.115        0.7745          0.4160         0.1630   \n",
       "1251   0.445     0.335   0.110        0.4355          0.2025         0.1095   \n",
       "1252   0.750     0.550   0.195        1.8325          0.8300         0.3660   \n",
       "\n",
       "      Shell Weight  Gender_F  Gender_I  Gender_M  foreign body  \n",
       "0           0.3100         0         0         1        0.4115  \n",
       "1           0.1045         0         1         0        0.0985  \n",
       "2           0.4100         0         1         0        0.3760  \n",
       "3           0.3370         0         0         1        0.3855  \n",
       "4           0.0400         0         1         0        0.0390  \n",
       "...            ...       ...       ...       ...           ...  \n",
       "1248        0.0150         0         1         0        0.0065  \n",
       "1249        0.0935         0         1         0        0.0705  \n",
       "1250        0.1800         1         0         0        0.1785  \n",
       "1251        0.1195         1         0         0        0.1135  \n",
       "1252        0.4400         1         0         0        0.5625  \n",
       "\n",
       "[1253 rows x 11 columns]"
      ]
     },
     "execution_count": 9,
     "metadata": {},
     "output_type": "execute_result"
    }
   ],
   "source": [
    "train_x"
   ]
  },
  {
   "cell_type": "code",
   "execution_count": 10,
   "metadata": {
    "scrolled": true
   },
   "outputs": [],
   "source": [
    "train_x.loc[train_x['foreign body']<0, 'foreign body'] = 0"
   ]
  },
  {
   "cell_type": "code",
   "execution_count": null,
   "metadata": {},
   "outputs": [],
   "source": []
  },
  {
   "cell_type": "code",
   "execution_count": 34,
   "metadata": {},
   "outputs": [],
   "source": [
    "ratio = train_x['Shucked Weight'] / train_x['Whole Weight']"
   ]
  },
  {
   "cell_type": "code",
   "execution_count": 35,
   "metadata": {},
   "outputs": [],
   "source": [
    "ratio_test = test_x['Shucked Weight'] / test_x['Whole Weight']"
   ]
  },
  {
   "cell_type": "code",
   "execution_count": 304,
   "metadata": {},
   "outputs": [
    {
     "data": {
      "text/plain": [
       "0       0.352334\n",
       "1       0.462963\n",
       "2       0.402962\n",
       "3       0.431326\n",
       "4       0.377953\n",
       "          ...   \n",
       "1248    0.434211\n",
       "1249    0.482650\n",
       "1250    0.537121\n",
       "1251    0.464983\n",
       "1252    0.452933\n",
       "Length: 1253, dtype: float64"
      ]
     },
     "execution_count": 304,
     "metadata": {},
     "output_type": "execute_result"
    }
   ],
   "source": [
    "ratio"
   ]
  },
  {
   "cell_type": "code",
   "execution_count": 36,
   "metadata": {},
   "outputs": [],
   "source": [
    "train_x['ratio'] = ratio\n",
    "test_x['ratio'] = ratio"
   ]
  },
  {
   "cell_type": "code",
   "execution_count": null,
   "metadata": {},
   "outputs": [],
   "source": []
  },
  {
   "cell_type": "code",
   "execution_count": 11,
   "metadata": {},
   "outputs": [],
   "source": [
    "foreign_body = test_x['Whole Weight'] - (test_x['Shucked Weight'] + test_x['Shell Weight'])"
   ]
  },
  {
   "cell_type": "code",
   "execution_count": 12,
   "metadata": {},
   "outputs": [],
   "source": [
    "test_x['foreign body'] = foreign_body"
   ]
  },
  {
   "cell_type": "code",
   "execution_count": 13,
   "metadata": {},
   "outputs": [],
   "source": [
    "test_x.loc[test_x['foreign body'] < 0, 'foreign body'] =0"
   ]
  },
  {
   "cell_type": "code",
   "execution_count": 14,
   "metadata": {
    "scrolled": true
   },
   "outputs": [],
   "source": [
    "test_x = test_x.drop(['id'], axis=1)"
   ]
  },
  {
   "cell_type": "code",
   "execution_count": 15,
   "metadata": {},
   "outputs": [
    {
     "data": {
      "text/html": [
       "<div>\n",
       "<style scoped>\n",
       "    .dataframe tbody tr th:only-of-type {\n",
       "        vertical-align: middle;\n",
       "    }\n",
       "\n",
       "    .dataframe tbody tr th {\n",
       "        vertical-align: top;\n",
       "    }\n",
       "\n",
       "    .dataframe thead th {\n",
       "        text-align: right;\n",
       "    }\n",
       "</style>\n",
       "<table border=\"1\" class=\"dataframe\">\n",
       "  <thead>\n",
       "    <tr style=\"text-align: right;\">\n",
       "      <th></th>\n",
       "      <th>Lenght</th>\n",
       "      <th>Diameter</th>\n",
       "      <th>Height</th>\n",
       "      <th>Whole Weight</th>\n",
       "      <th>Shucked Weight</th>\n",
       "      <th>Viscra Weight</th>\n",
       "      <th>Shell Weight</th>\n",
       "      <th>Gender_F</th>\n",
       "      <th>Gender_I</th>\n",
       "      <th>Gender_M</th>\n",
       "      <th>foreign body</th>\n",
       "    </tr>\n",
       "  </thead>\n",
       "  <tbody>\n",
       "    <tr>\n",
       "      <th>0</th>\n",
       "      <td>0.595</td>\n",
       "      <td>0.470</td>\n",
       "      <td>0.155</td>\n",
       "      <td>1.1210</td>\n",
       "      <td>0.4515</td>\n",
       "      <td>0.1780</td>\n",
       "      <td>0.1550</td>\n",
       "      <td>1</td>\n",
       "      <td>0</td>\n",
       "      <td>0</td>\n",
       "      <td>0.5145</td>\n",
       "    </tr>\n",
       "    <tr>\n",
       "      <th>1</th>\n",
       "      <td>0.580</td>\n",
       "      <td>0.450</td>\n",
       "      <td>0.150</td>\n",
       "      <td>0.9270</td>\n",
       "      <td>0.2760</td>\n",
       "      <td>0.1815</td>\n",
       "      <td>0.3600</td>\n",
       "      <td>0</td>\n",
       "      <td>0</td>\n",
       "      <td>1</td>\n",
       "      <td>0.2910</td>\n",
       "    </tr>\n",
       "    <tr>\n",
       "      <th>2</th>\n",
       "      <td>0.260</td>\n",
       "      <td>0.205</td>\n",
       "      <td>0.070</td>\n",
       "      <td>0.0970</td>\n",
       "      <td>0.0415</td>\n",
       "      <td>0.0190</td>\n",
       "      <td>0.0305</td>\n",
       "      <td>0</td>\n",
       "      <td>1</td>\n",
       "      <td>0</td>\n",
       "      <td>0.0250</td>\n",
       "    </tr>\n",
       "    <tr>\n",
       "      <th>3</th>\n",
       "      <td>0.590</td>\n",
       "      <td>0.460</td>\n",
       "      <td>0.130</td>\n",
       "      <td>1.1020</td>\n",
       "      <td>0.4550</td>\n",
       "      <td>0.2055</td>\n",
       "      <td>0.3300</td>\n",
       "      <td>0</td>\n",
       "      <td>0</td>\n",
       "      <td>1</td>\n",
       "      <td>0.3170</td>\n",
       "    </tr>\n",
       "    <tr>\n",
       "      <th>4</th>\n",
       "      <td>0.595</td>\n",
       "      <td>0.465</td>\n",
       "      <td>0.140</td>\n",
       "      <td>1.1130</td>\n",
       "      <td>0.5175</td>\n",
       "      <td>0.2440</td>\n",
       "      <td>0.3050</td>\n",
       "      <td>1</td>\n",
       "      <td>0</td>\n",
       "      <td>0</td>\n",
       "      <td>0.2905</td>\n",
       "    </tr>\n",
       "    <tr>\n",
       "      <th>...</th>\n",
       "      <td>...</td>\n",
       "      <td>...</td>\n",
       "      <td>...</td>\n",
       "      <td>...</td>\n",
       "      <td>...</td>\n",
       "      <td>...</td>\n",
       "      <td>...</td>\n",
       "      <td>...</td>\n",
       "      <td>...</td>\n",
       "      <td>...</td>\n",
       "      <td>...</td>\n",
       "    </tr>\n",
       "    <tr>\n",
       "      <th>2919</th>\n",
       "      <td>0.170</td>\n",
       "      <td>0.105</td>\n",
       "      <td>0.035</td>\n",
       "      <td>0.0340</td>\n",
       "      <td>0.0120</td>\n",
       "      <td>0.0085</td>\n",
       "      <td>0.0050</td>\n",
       "      <td>0</td>\n",
       "      <td>1</td>\n",
       "      <td>0</td>\n",
       "      <td>0.0170</td>\n",
       "    </tr>\n",
       "    <tr>\n",
       "      <th>2920</th>\n",
       "      <td>0.435</td>\n",
       "      <td>0.345</td>\n",
       "      <td>0.115</td>\n",
       "      <td>0.4180</td>\n",
       "      <td>0.2220</td>\n",
       "      <td>0.0735</td>\n",
       "      <td>0.1060</td>\n",
       "      <td>0</td>\n",
       "      <td>1</td>\n",
       "      <td>0</td>\n",
       "      <td>0.0900</td>\n",
       "    </tr>\n",
       "    <tr>\n",
       "      <th>2921</th>\n",
       "      <td>0.570</td>\n",
       "      <td>0.450</td>\n",
       "      <td>0.135</td>\n",
       "      <td>0.7940</td>\n",
       "      <td>0.3815</td>\n",
       "      <td>0.1415</td>\n",
       "      <td>0.2450</td>\n",
       "      <td>0</td>\n",
       "      <td>1</td>\n",
       "      <td>0</td>\n",
       "      <td>0.1675</td>\n",
       "    </tr>\n",
       "    <tr>\n",
       "      <th>2922</th>\n",
       "      <td>0.460</td>\n",
       "      <td>0.350</td>\n",
       "      <td>0.120</td>\n",
       "      <td>0.4885</td>\n",
       "      <td>0.1930</td>\n",
       "      <td>0.1050</td>\n",
       "      <td>0.1550</td>\n",
       "      <td>0</td>\n",
       "      <td>1</td>\n",
       "      <td>0</td>\n",
       "      <td>0.1405</td>\n",
       "    </tr>\n",
       "    <tr>\n",
       "      <th>2923</th>\n",
       "      <td>0.565</td>\n",
       "      <td>0.440</td>\n",
       "      <td>0.160</td>\n",
       "      <td>0.9150</td>\n",
       "      <td>0.3540</td>\n",
       "      <td>0.1935</td>\n",
       "      <td>0.3200</td>\n",
       "      <td>1</td>\n",
       "      <td>0</td>\n",
       "      <td>0</td>\n",
       "      <td>0.2410</td>\n",
       "    </tr>\n",
       "  </tbody>\n",
       "</table>\n",
       "<p>2924 rows × 11 columns</p>\n",
       "</div>"
      ],
      "text/plain": [
       "      Lenght  Diameter  Height  Whole Weight  Shucked Weight  Viscra Weight  \\\n",
       "0      0.595     0.470   0.155        1.1210          0.4515         0.1780   \n",
       "1      0.580     0.450   0.150        0.9270          0.2760         0.1815   \n",
       "2      0.260     0.205   0.070        0.0970          0.0415         0.0190   \n",
       "3      0.590     0.460   0.130        1.1020          0.4550         0.2055   \n",
       "4      0.595     0.465   0.140        1.1130          0.5175         0.2440   \n",
       "...      ...       ...     ...           ...             ...            ...   \n",
       "2919   0.170     0.105   0.035        0.0340          0.0120         0.0085   \n",
       "2920   0.435     0.345   0.115        0.4180          0.2220         0.0735   \n",
       "2921   0.570     0.450   0.135        0.7940          0.3815         0.1415   \n",
       "2922   0.460     0.350   0.120        0.4885          0.1930         0.1050   \n",
       "2923   0.565     0.440   0.160        0.9150          0.3540         0.1935   \n",
       "\n",
       "      Shell Weight  Gender_F  Gender_I  Gender_M  foreign body  \n",
       "0           0.1550         1         0         0        0.5145  \n",
       "1           0.3600         0         0         1        0.2910  \n",
       "2           0.0305         0         1         0        0.0250  \n",
       "3           0.3300         0         0         1        0.3170  \n",
       "4           0.3050         1         0         0        0.2905  \n",
       "...            ...       ...       ...       ...           ...  \n",
       "2919        0.0050         0         1         0        0.0170  \n",
       "2920        0.1060         0         1         0        0.0900  \n",
       "2921        0.2450         0         1         0        0.1675  \n",
       "2922        0.1550         0         1         0        0.1405  \n",
       "2923        0.3200         1         0         0        0.2410  \n",
       "\n",
       "[2924 rows x 11 columns]"
      ]
     },
     "execution_count": 15,
     "metadata": {},
     "output_type": "execute_result"
    }
   ],
   "source": [
    "test_x"
   ]
  },
  {
   "cell_type": "code",
   "execution_count": 16,
   "metadata": {
    "scrolled": true
   },
   "outputs": [
    {
     "data": {
      "text/html": [
       "<div>\n",
       "<style scoped>\n",
       "    .dataframe tbody tr th:only-of-type {\n",
       "        vertical-align: middle;\n",
       "    }\n",
       "\n",
       "    .dataframe tbody tr th {\n",
       "        vertical-align: top;\n",
       "    }\n",
       "\n",
       "    .dataframe thead th {\n",
       "        text-align: right;\n",
       "    }\n",
       "</style>\n",
       "<table border=\"1\" class=\"dataframe\">\n",
       "  <thead>\n",
       "    <tr style=\"text-align: right;\">\n",
       "      <th></th>\n",
       "      <th>Lenght</th>\n",
       "      <th>Diameter</th>\n",
       "      <th>Height</th>\n",
       "      <th>Whole Weight</th>\n",
       "      <th>Shucked Weight</th>\n",
       "      <th>Viscra Weight</th>\n",
       "      <th>Shell Weight</th>\n",
       "      <th>Gender_F</th>\n",
       "      <th>Gender_I</th>\n",
       "      <th>Gender_M</th>\n",
       "      <th>foreign body</th>\n",
       "    </tr>\n",
       "  </thead>\n",
       "  <tbody>\n",
       "    <tr>\n",
       "      <th>0</th>\n",
       "      <td>0.605</td>\n",
       "      <td>0.470</td>\n",
       "      <td>0.115</td>\n",
       "      <td>1.1140</td>\n",
       "      <td>0.3925</td>\n",
       "      <td>0.2910</td>\n",
       "      <td>0.3100</td>\n",
       "      <td>0</td>\n",
       "      <td>0</td>\n",
       "      <td>1</td>\n",
       "      <td>0.4115</td>\n",
       "    </tr>\n",
       "    <tr>\n",
       "      <th>1</th>\n",
       "      <td>0.430</td>\n",
       "      <td>0.315</td>\n",
       "      <td>0.095</td>\n",
       "      <td>0.3780</td>\n",
       "      <td>0.1750</td>\n",
       "      <td>0.0800</td>\n",
       "      <td>0.1045</td>\n",
       "      <td>0</td>\n",
       "      <td>1</td>\n",
       "      <td>0</td>\n",
       "      <td>0.0985</td>\n",
       "    </tr>\n",
       "    <tr>\n",
       "      <th>2</th>\n",
       "      <td>0.580</td>\n",
       "      <td>0.490</td>\n",
       "      <td>0.195</td>\n",
       "      <td>1.3165</td>\n",
       "      <td>0.5305</td>\n",
       "      <td>0.2540</td>\n",
       "      <td>0.4100</td>\n",
       "      <td>0</td>\n",
       "      <td>1</td>\n",
       "      <td>0</td>\n",
       "      <td>0.3760</td>\n",
       "    </tr>\n",
       "    <tr>\n",
       "      <th>3</th>\n",
       "      <td>0.535</td>\n",
       "      <td>0.405</td>\n",
       "      <td>0.175</td>\n",
       "      <td>1.2705</td>\n",
       "      <td>0.5480</td>\n",
       "      <td>0.3265</td>\n",
       "      <td>0.3370</td>\n",
       "      <td>0</td>\n",
       "      <td>0</td>\n",
       "      <td>1</td>\n",
       "      <td>0.3855</td>\n",
       "    </tr>\n",
       "    <tr>\n",
       "      <th>4</th>\n",
       "      <td>0.310</td>\n",
       "      <td>0.235</td>\n",
       "      <td>0.090</td>\n",
       "      <td>0.1270</td>\n",
       "      <td>0.0480</td>\n",
       "      <td>0.0310</td>\n",
       "      <td>0.0400</td>\n",
       "      <td>0</td>\n",
       "      <td>1</td>\n",
       "      <td>0</td>\n",
       "      <td>0.0390</td>\n",
       "    </tr>\n",
       "    <tr>\n",
       "      <th>...</th>\n",
       "      <td>...</td>\n",
       "      <td>...</td>\n",
       "      <td>...</td>\n",
       "      <td>...</td>\n",
       "      <td>...</td>\n",
       "      <td>...</td>\n",
       "      <td>...</td>\n",
       "      <td>...</td>\n",
       "      <td>...</td>\n",
       "      <td>...</td>\n",
       "      <td>...</td>\n",
       "    </tr>\n",
       "    <tr>\n",
       "      <th>1248</th>\n",
       "      <td>0.190</td>\n",
       "      <td>0.145</td>\n",
       "      <td>0.040</td>\n",
       "      <td>0.0380</td>\n",
       "      <td>0.0165</td>\n",
       "      <td>0.0065</td>\n",
       "      <td>0.0150</td>\n",
       "      <td>0</td>\n",
       "      <td>1</td>\n",
       "      <td>0</td>\n",
       "      <td>0.0065</td>\n",
       "    </tr>\n",
       "    <tr>\n",
       "      <th>1249</th>\n",
       "      <td>0.395</td>\n",
       "      <td>0.310</td>\n",
       "      <td>0.085</td>\n",
       "      <td>0.3170</td>\n",
       "      <td>0.1530</td>\n",
       "      <td>0.0505</td>\n",
       "      <td>0.0935</td>\n",
       "      <td>0</td>\n",
       "      <td>1</td>\n",
       "      <td>0</td>\n",
       "      <td>0.0705</td>\n",
       "    </tr>\n",
       "    <tr>\n",
       "      <th>1250</th>\n",
       "      <td>0.525</td>\n",
       "      <td>0.410</td>\n",
       "      <td>0.115</td>\n",
       "      <td>0.7745</td>\n",
       "      <td>0.4160</td>\n",
       "      <td>0.1630</td>\n",
       "      <td>0.1800</td>\n",
       "      <td>1</td>\n",
       "      <td>0</td>\n",
       "      <td>0</td>\n",
       "      <td>0.1785</td>\n",
       "    </tr>\n",
       "    <tr>\n",
       "      <th>1251</th>\n",
       "      <td>0.445</td>\n",
       "      <td>0.335</td>\n",
       "      <td>0.110</td>\n",
       "      <td>0.4355</td>\n",
       "      <td>0.2025</td>\n",
       "      <td>0.1095</td>\n",
       "      <td>0.1195</td>\n",
       "      <td>1</td>\n",
       "      <td>0</td>\n",
       "      <td>0</td>\n",
       "      <td>0.1135</td>\n",
       "    </tr>\n",
       "    <tr>\n",
       "      <th>1252</th>\n",
       "      <td>0.750</td>\n",
       "      <td>0.550</td>\n",
       "      <td>0.195</td>\n",
       "      <td>1.8325</td>\n",
       "      <td>0.8300</td>\n",
       "      <td>0.3660</td>\n",
       "      <td>0.4400</td>\n",
       "      <td>1</td>\n",
       "      <td>0</td>\n",
       "      <td>0</td>\n",
       "      <td>0.5625</td>\n",
       "    </tr>\n",
       "  </tbody>\n",
       "</table>\n",
       "<p>1253 rows × 11 columns</p>\n",
       "</div>"
      ],
      "text/plain": [
       "      Lenght  Diameter  Height  Whole Weight  Shucked Weight  Viscra Weight  \\\n",
       "0      0.605     0.470   0.115        1.1140          0.3925         0.2910   \n",
       "1      0.430     0.315   0.095        0.3780          0.1750         0.0800   \n",
       "2      0.580     0.490   0.195        1.3165          0.5305         0.2540   \n",
       "3      0.535     0.405   0.175        1.2705          0.5480         0.3265   \n",
       "4      0.310     0.235   0.090        0.1270          0.0480         0.0310   \n",
       "...      ...       ...     ...           ...             ...            ...   \n",
       "1248   0.190     0.145   0.040        0.0380          0.0165         0.0065   \n",
       "1249   0.395     0.310   0.085        0.3170          0.1530         0.0505   \n",
       "1250   0.525     0.410   0.115        0.7745          0.4160         0.1630   \n",
       "1251   0.445     0.335   0.110        0.4355          0.2025         0.1095   \n",
       "1252   0.750     0.550   0.195        1.8325          0.8300         0.3660   \n",
       "\n",
       "      Shell Weight  Gender_F  Gender_I  Gender_M  foreign body  \n",
       "0           0.3100         0         0         1        0.4115  \n",
       "1           0.1045         0         1         0        0.0985  \n",
       "2           0.4100         0         1         0        0.3760  \n",
       "3           0.3370         0         0         1        0.3855  \n",
       "4           0.0400         0         1         0        0.0390  \n",
       "...            ...       ...       ...       ...           ...  \n",
       "1248        0.0150         0         1         0        0.0065  \n",
       "1249        0.0935         0         1         0        0.0705  \n",
       "1250        0.1800         1         0         0        0.1785  \n",
       "1251        0.1195         1         0         0        0.1135  \n",
       "1252        0.4400         1         0         0        0.5625  \n",
       "\n",
       "[1253 rows x 11 columns]"
      ]
     },
     "execution_count": 16,
     "metadata": {},
     "output_type": "execute_result"
    }
   ],
   "source": [
    "train_x"
   ]
  },
  {
   "cell_type": "markdown",
   "metadata": {},
   "source": [
    "# 이상치"
   ]
  },
  {
   "cell_type": "code",
   "execution_count": 145,
   "metadata": {},
   "outputs": [
    {
     "name": "stdout",
     "output_type": "stream",
     "text": [
      "[[0.68338214 0.63206888 0.62908449 ... 0.68982168 1.29291987 1.23647156]\n",
      " [0.77273115 0.92211555 1.14167944 ... 1.44965001 0.77344314 0.63013153]\n",
      " [0.47536596 0.8326088  1.42129527 ... 1.44965001 0.77344314 1.2639216 ]\n",
      " ...\n",
      " [0.01773035 0.0304491  0.62908449 ... 0.68982168 0.77344314 0.68503162]\n",
      " [0.64792144 0.72157562 0.75723323 ... 0.68982168 0.77344314 0.89548197]\n",
      " [1.88987601 1.43422858 1.42129527 ... 0.68982168 0.77344314 2.62727386]]\n"
     ]
    }
   ],
   "source": [
    "from scipy import stats\n",
    "abalone_data_outlier= train_x.copy()\n",
    "z = np.abs(stats.zscore(abalone_data_outlier))\n",
    "print(z)"
   ]
  },
  {
   "cell_type": "code",
   "execution_count": 146,
   "metadata": {
    "scrolled": true
   },
   "outputs": [
    {
     "name": "stdout",
     "output_type": "stream",
     "text": [
      "(array([  20,   92,   92,  101,  113,  160,  160,  188,  219,  255,  285,\n",
      "        285,  312,  312,  317,  347,  384,  390,  390,  463,  463,  484,\n",
      "        486,  504,  504,  504,  511,  529,  551,  551,  576,  687,  735,\n",
      "        738,  745,  762,  773,  797,  809,  834,  844,  844,  848,  852,\n",
      "        852,  954,  969, 1029, 1064, 1081, 1084, 1107, 1108, 1141, 1172,\n",
      "       1223], dtype=int64), array([ 0,  0,  1, 10, 10,  3,  4, 10,  5,  0,  0,  1,  3,  4,  4,  5, 10,\n",
      "        4,  5,  0,  1, 10,  6,  3,  4,  5,  4, 10,  3, 10,  4, 10, 10, 10,\n",
      "        4, 10,  6, 10,  5, 10,  4,  5, 10,  5, 10,  4, 10, 10, 10, 10,  6,\n",
      "       10, 10,  6,  6,  6], dtype=int64))\n"
     ]
    }
   ],
   "source": [
    "threshold = 3\n",
    "print(np.where(z > 3))"
   ]
  },
  {
   "cell_type": "code",
   "execution_count": 148,
   "metadata": {},
   "outputs": [],
   "source": [
    "train_X= abalone_data_outlier[(z < 3).all(axis=1)]"
   ]
  },
  {
   "cell_type": "code",
   "execution_count": 149,
   "metadata": {},
   "outputs": [
    {
     "data": {
      "text/plain": [
       "(1253, 11)"
      ]
     },
     "execution_count": 149,
     "metadata": {},
     "output_type": "execute_result"
    }
   ],
   "source": [
    "train_x.shape"
   ]
  },
  {
   "cell_type": "code",
   "execution_count": 150,
   "metadata": {},
   "outputs": [
    {
     "data": {
      "text/plain": [
       "(1208, 11)"
      ]
     },
     "execution_count": 150,
     "metadata": {},
     "output_type": "execute_result"
    }
   ],
   "source": [
    "train_X.shape"
   ]
  },
  {
   "cell_type": "code",
   "execution_count": 145,
   "metadata": {},
   "outputs": [
    {
     "data": {
      "text/html": [
       "<div>\n",
       "<style scoped>\n",
       "    .dataframe tbody tr th:only-of-type {\n",
       "        vertical-align: middle;\n",
       "    }\n",
       "\n",
       "    .dataframe tbody tr th {\n",
       "        vertical-align: top;\n",
       "    }\n",
       "\n",
       "    .dataframe thead th {\n",
       "        text-align: right;\n",
       "    }\n",
       "</style>\n",
       "<table border=\"1\" class=\"dataframe\">\n",
       "  <thead>\n",
       "    <tr style=\"text-align: right;\">\n",
       "      <th></th>\n",
       "      <th>Lenght</th>\n",
       "      <th>Diameter</th>\n",
       "      <th>Height</th>\n",
       "      <th>Whole Weight</th>\n",
       "      <th>Shucked Weight</th>\n",
       "      <th>Viscra Weight</th>\n",
       "      <th>Shell Weight</th>\n",
       "      <th>Gender_F</th>\n",
       "      <th>Gender_I</th>\n",
       "      <th>Gender_M</th>\n",
       "      <th>foreign body</th>\n",
       "    </tr>\n",
       "  </thead>\n",
       "  <tbody>\n",
       "    <tr>\n",
       "      <th>465</th>\n",
       "      <td>0.415</td>\n",
       "      <td>0.315</td>\n",
       "      <td>0.125</td>\n",
       "      <td>0.388</td>\n",
       "      <td>0.068</td>\n",
       "      <td>0.09</td>\n",
       "      <td>0.125</td>\n",
       "      <td>0</td>\n",
       "      <td>0</td>\n",
       "      <td>1</td>\n",
       "      <td>0.105</td>\n",
       "    </tr>\n",
       "  </tbody>\n",
       "</table>\n",
       "</div>"
      ],
      "text/plain": [
       "     Lenght  Diameter  Height  Whole Weight  Shucked Weight  Viscra Weight  \\\n",
       "465   0.415     0.315   0.125         0.388           0.068           0.09   \n",
       "\n",
       "     Shell Weight  Gender_F  Gender_I  Gender_M  foreign body  \n",
       "465         0.125         0         0         1         0.105  "
      ]
     },
     "execution_count": 145,
     "metadata": {},
     "output_type": "execute_result"
    }
   ],
   "source": [
    "train_x[train_x[\"Shucked Weight\"] < train_x[\"Viscra Weight\"]]"
   ]
  },
  {
   "cell_type": "code",
   "execution_count": 146,
   "metadata": {},
   "outputs": [],
   "source": [
    "train_x = train_x.drop(index = [465], axis = 0)"
   ]
  },
  {
   "cell_type": "code",
   "execution_count": 147,
   "metadata": {},
   "outputs": [
    {
     "data": {
      "text/html": [
       "<div>\n",
       "<style scoped>\n",
       "    .dataframe tbody tr th:only-of-type {\n",
       "        vertical-align: middle;\n",
       "    }\n",
       "\n",
       "    .dataframe tbody tr th {\n",
       "        vertical-align: top;\n",
       "    }\n",
       "\n",
       "    .dataframe thead th {\n",
       "        text-align: right;\n",
       "    }\n",
       "</style>\n",
       "<table border=\"1\" class=\"dataframe\">\n",
       "  <thead>\n",
       "    <tr style=\"text-align: right;\">\n",
       "      <th></th>\n",
       "      <th>Lenght</th>\n",
       "      <th>Diameter</th>\n",
       "      <th>Height</th>\n",
       "      <th>Whole Weight</th>\n",
       "      <th>Shucked Weight</th>\n",
       "      <th>Viscra Weight</th>\n",
       "      <th>Shell Weight</th>\n",
       "      <th>Gender_F</th>\n",
       "      <th>Gender_I</th>\n",
       "      <th>Gender_M</th>\n",
       "      <th>foreign body</th>\n",
       "    </tr>\n",
       "  </thead>\n",
       "  <tbody>\n",
       "  </tbody>\n",
       "</table>\n",
       "</div>"
      ],
      "text/plain": [
       "Empty DataFrame\n",
       "Columns: [Lenght, Diameter, Height, Whole Weight, Shucked Weight, Viscra Weight, Shell Weight, Gender_F, Gender_I, Gender_M, foreign body]\n",
       "Index: []"
      ]
     },
     "execution_count": 147,
     "metadata": {},
     "output_type": "execute_result"
    }
   ],
   "source": [
    "train_x[train_x[\"Shucked Weight\"] < train_x[\"Viscra Weight\"]]"
   ]
  },
  {
   "cell_type": "code",
   "execution_count": null,
   "metadata": {},
   "outputs": [],
   "source": [
    "타원의 둘레 타원의 넓이"
   ]
  },
  {
   "cell_type": "code",
   "execution_count": 17,
   "metadata": {},
   "outputs": [],
   "source": [
    "circum= np.pi * np.sqrt(0.5 * ((train_x['Lenght'] ** 2) + (train_x['Diameter'] ** 2)))"
   ]
  },
  {
   "cell_type": "code",
   "execution_count": 18,
   "metadata": {},
   "outputs": [],
   "source": [
    "circum_test= np.pi * np.sqrt(0.5 * ((test_x['Lenght'] ** 2) + (test_x['Diameter'] ** 2)))"
   ]
  },
  {
   "cell_type": "code",
   "execution_count": 19,
   "metadata": {},
   "outputs": [],
   "source": [
    "train_x['Circumference'] = circum"
   ]
  },
  {
   "cell_type": "code",
   "execution_count": 20,
   "metadata": {},
   "outputs": [],
   "source": [
    "area = 0.5 * train_x['Lenght'] * 0.5 * train_x['Diameter'] * np.pi"
   ]
  },
  {
   "cell_type": "code",
   "execution_count": 21,
   "metadata": {},
   "outputs": [],
   "source": [
    "area_test = 0.5 * test_x['Lenght'] * 0.5 * test_x['Diameter'] * np.pi"
   ]
  },
  {
   "cell_type": "code",
   "execution_count": 22,
   "metadata": {},
   "outputs": [],
   "source": [
    "train_x['Area'] = area"
   ]
  },
  {
   "cell_type": "code",
   "execution_count": 37,
   "metadata": {},
   "outputs": [
    {
     "data": {
      "text/html": [
       "<div>\n",
       "<style scoped>\n",
       "    .dataframe tbody tr th:only-of-type {\n",
       "        vertical-align: middle;\n",
       "    }\n",
       "\n",
       "    .dataframe tbody tr th {\n",
       "        vertical-align: top;\n",
       "    }\n",
       "\n",
       "    .dataframe thead th {\n",
       "        text-align: right;\n",
       "    }\n",
       "</style>\n",
       "<table border=\"1\" class=\"dataframe\">\n",
       "  <thead>\n",
       "    <tr style=\"text-align: right;\">\n",
       "      <th></th>\n",
       "      <th>Lenght</th>\n",
       "      <th>Diameter</th>\n",
       "      <th>Height</th>\n",
       "      <th>Whole Weight</th>\n",
       "      <th>Shucked Weight</th>\n",
       "      <th>Viscra Weight</th>\n",
       "      <th>Shell Weight</th>\n",
       "      <th>Gender_F</th>\n",
       "      <th>Gender_I</th>\n",
       "      <th>Gender_M</th>\n",
       "      <th>foreign body</th>\n",
       "      <th>Circumference</th>\n",
       "      <th>Area</th>\n",
       "      <th>ratio</th>\n",
       "    </tr>\n",
       "  </thead>\n",
       "  <tbody>\n",
       "    <tr>\n",
       "      <th>0</th>\n",
       "      <td>0.605</td>\n",
       "      <td>0.470</td>\n",
       "      <td>0.115</td>\n",
       "      <td>1.1140</td>\n",
       "      <td>0.3925</td>\n",
       "      <td>0.2910</td>\n",
       "      <td>0.3100</td>\n",
       "      <td>0</td>\n",
       "      <td>0</td>\n",
       "      <td>1</td>\n",
       "      <td>0.4115</td>\n",
       "      <td>1.701869</td>\n",
       "      <td>0.223328</td>\n",
       "      <td>0.352334</td>\n",
       "    </tr>\n",
       "    <tr>\n",
       "      <th>1</th>\n",
       "      <td>0.430</td>\n",
       "      <td>0.315</td>\n",
       "      <td>0.095</td>\n",
       "      <td>0.3780</td>\n",
       "      <td>0.1750</td>\n",
       "      <td>0.0800</td>\n",
       "      <td>0.1045</td>\n",
       "      <td>0</td>\n",
       "      <td>1</td>\n",
       "      <td>0</td>\n",
       "      <td>0.0985</td>\n",
       "      <td>1.184103</td>\n",
       "      <td>0.106382</td>\n",
       "      <td>0.462963</td>\n",
       "    </tr>\n",
       "    <tr>\n",
       "      <th>2</th>\n",
       "      <td>0.580</td>\n",
       "      <td>0.490</td>\n",
       "      <td>0.195</td>\n",
       "      <td>1.3165</td>\n",
       "      <td>0.5305</td>\n",
       "      <td>0.2540</td>\n",
       "      <td>0.4100</td>\n",
       "      <td>0</td>\n",
       "      <td>1</td>\n",
       "      <td>0</td>\n",
       "      <td>0.3760</td>\n",
       "      <td>1.686687</td>\n",
       "      <td>0.223210</td>\n",
       "      <td>0.402962</td>\n",
       "    </tr>\n",
       "    <tr>\n",
       "      <th>3</th>\n",
       "      <td>0.535</td>\n",
       "      <td>0.405</td>\n",
       "      <td>0.175</td>\n",
       "      <td>1.2705</td>\n",
       "      <td>0.5480</td>\n",
       "      <td>0.3265</td>\n",
       "      <td>0.3370</td>\n",
       "      <td>0</td>\n",
       "      <td>0</td>\n",
       "      <td>1</td>\n",
       "      <td>0.3855</td>\n",
       "      <td>1.490602</td>\n",
       "      <td>0.170176</td>\n",
       "      <td>0.431326</td>\n",
       "    </tr>\n",
       "    <tr>\n",
       "      <th>4</th>\n",
       "      <td>0.310</td>\n",
       "      <td>0.235</td>\n",
       "      <td>0.090</td>\n",
       "      <td>0.1270</td>\n",
       "      <td>0.0480</td>\n",
       "      <td>0.0310</td>\n",
       "      <td>0.0400</td>\n",
       "      <td>0</td>\n",
       "      <td>1</td>\n",
       "      <td>0</td>\n",
       "      <td>0.0390</td>\n",
       "      <td>0.864152</td>\n",
       "      <td>0.057216</td>\n",
       "      <td>0.377953</td>\n",
       "    </tr>\n",
       "    <tr>\n",
       "      <th>...</th>\n",
       "      <td>...</td>\n",
       "      <td>...</td>\n",
       "      <td>...</td>\n",
       "      <td>...</td>\n",
       "      <td>...</td>\n",
       "      <td>...</td>\n",
       "      <td>...</td>\n",
       "      <td>...</td>\n",
       "      <td>...</td>\n",
       "      <td>...</td>\n",
       "      <td>...</td>\n",
       "      <td>...</td>\n",
       "      <td>...</td>\n",
       "      <td>...</td>\n",
       "    </tr>\n",
       "    <tr>\n",
       "      <th>1248</th>\n",
       "      <td>0.190</td>\n",
       "      <td>0.145</td>\n",
       "      <td>0.040</td>\n",
       "      <td>0.0380</td>\n",
       "      <td>0.0165</td>\n",
       "      <td>0.0065</td>\n",
       "      <td>0.0150</td>\n",
       "      <td>0</td>\n",
       "      <td>1</td>\n",
       "      <td>0</td>\n",
       "      <td>0.0065</td>\n",
       "      <td>0.530943</td>\n",
       "      <td>0.021638</td>\n",
       "      <td>0.434211</td>\n",
       "    </tr>\n",
       "    <tr>\n",
       "      <th>1249</th>\n",
       "      <td>0.395</td>\n",
       "      <td>0.310</td>\n",
       "      <td>0.085</td>\n",
       "      <td>0.3170</td>\n",
       "      <td>0.1530</td>\n",
       "      <td>0.0505</td>\n",
       "      <td>0.0935</td>\n",
       "      <td>0</td>\n",
       "      <td>1</td>\n",
       "      <td>0</td>\n",
       "      <td>0.0705</td>\n",
       "      <td>1.115431</td>\n",
       "      <td>0.096172</td>\n",
       "      <td>0.482650</td>\n",
       "    </tr>\n",
       "    <tr>\n",
       "      <th>1250</th>\n",
       "      <td>0.525</td>\n",
       "      <td>0.410</td>\n",
       "      <td>0.115</td>\n",
       "      <td>0.7745</td>\n",
       "      <td>0.4160</td>\n",
       "      <td>0.1630</td>\n",
       "      <td>0.1800</td>\n",
       "      <td>1</td>\n",
       "      <td>0</td>\n",
       "      <td>0</td>\n",
       "      <td>0.1785</td>\n",
       "      <td>1.479762</td>\n",
       "      <td>0.169057</td>\n",
       "      <td>0.537121</td>\n",
       "    </tr>\n",
       "    <tr>\n",
       "      <th>1251</th>\n",
       "      <td>0.445</td>\n",
       "      <td>0.335</td>\n",
       "      <td>0.110</td>\n",
       "      <td>0.4355</td>\n",
       "      <td>0.2025</td>\n",
       "      <td>0.1095</td>\n",
       "      <td>0.1195</td>\n",
       "      <td>1</td>\n",
       "      <td>0</td>\n",
       "      <td>0</td>\n",
       "      <td>0.1135</td>\n",
       "      <td>1.237345</td>\n",
       "      <td>0.117083</td>\n",
       "      <td>0.464983</td>\n",
       "    </tr>\n",
       "    <tr>\n",
       "      <th>1252</th>\n",
       "      <td>0.750</td>\n",
       "      <td>0.550</td>\n",
       "      <td>0.195</td>\n",
       "      <td>1.8325</td>\n",
       "      <td>0.8300</td>\n",
       "      <td>0.3660</td>\n",
       "      <td>0.4400</td>\n",
       "      <td>1</td>\n",
       "      <td>0</td>\n",
       "      <td>0</td>\n",
       "      <td>0.5625</td>\n",
       "      <td>2.066060</td>\n",
       "      <td>0.323977</td>\n",
       "      <td>0.452933</td>\n",
       "    </tr>\n",
       "  </tbody>\n",
       "</table>\n",
       "<p>1253 rows × 14 columns</p>\n",
       "</div>"
      ],
      "text/plain": [
       "      Lenght  Diameter  Height  Whole Weight  Shucked Weight  Viscra Weight  \\\n",
       "0      0.605     0.470   0.115        1.1140          0.3925         0.2910   \n",
       "1      0.430     0.315   0.095        0.3780          0.1750         0.0800   \n",
       "2      0.580     0.490   0.195        1.3165          0.5305         0.2540   \n",
       "3      0.535     0.405   0.175        1.2705          0.5480         0.3265   \n",
       "4      0.310     0.235   0.090        0.1270          0.0480         0.0310   \n",
       "...      ...       ...     ...           ...             ...            ...   \n",
       "1248   0.190     0.145   0.040        0.0380          0.0165         0.0065   \n",
       "1249   0.395     0.310   0.085        0.3170          0.1530         0.0505   \n",
       "1250   0.525     0.410   0.115        0.7745          0.4160         0.1630   \n",
       "1251   0.445     0.335   0.110        0.4355          0.2025         0.1095   \n",
       "1252   0.750     0.550   0.195        1.8325          0.8300         0.3660   \n",
       "\n",
       "      Shell Weight  Gender_F  Gender_I  Gender_M  foreign body  Circumference  \\\n",
       "0           0.3100         0         0         1        0.4115       1.701869   \n",
       "1           0.1045         0         1         0        0.0985       1.184103   \n",
       "2           0.4100         0         1         0        0.3760       1.686687   \n",
       "3           0.3370         0         0         1        0.3855       1.490602   \n",
       "4           0.0400         0         1         0        0.0390       0.864152   \n",
       "...            ...       ...       ...       ...           ...            ...   \n",
       "1248        0.0150         0         1         0        0.0065       0.530943   \n",
       "1249        0.0935         0         1         0        0.0705       1.115431   \n",
       "1250        0.1800         1         0         0        0.1785       1.479762   \n",
       "1251        0.1195         1         0         0        0.1135       1.237345   \n",
       "1252        0.4400         1         0         0        0.5625       2.066060   \n",
       "\n",
       "          Area     ratio  \n",
       "0     0.223328  0.352334  \n",
       "1     0.106382  0.462963  \n",
       "2     0.223210  0.402962  \n",
       "3     0.170176  0.431326  \n",
       "4     0.057216  0.377953  \n",
       "...        ...       ...  \n",
       "1248  0.021638  0.434211  \n",
       "1249  0.096172  0.482650  \n",
       "1250  0.169057  0.537121  \n",
       "1251  0.117083  0.464983  \n",
       "1252  0.323977  0.452933  \n",
       "\n",
       "[1253 rows x 14 columns]"
      ]
     },
     "execution_count": 37,
     "metadata": {},
     "output_type": "execute_result"
    }
   ],
   "source": [
    "train_x"
   ]
  },
  {
   "cell_type": "code",
   "execution_count": 39,
   "metadata": {},
   "outputs": [],
   "source": [
    "test_x['Circumference'] = circum_test\n",
    "test_x['Area'] = area_test\n",
    "test_x['ratio'] = ratio_test"
   ]
  },
  {
   "cell_type": "code",
   "execution_count": 40,
   "metadata": {},
   "outputs": [
    {
     "data": {
      "text/html": [
       "<div>\n",
       "<style scoped>\n",
       "    .dataframe tbody tr th:only-of-type {\n",
       "        vertical-align: middle;\n",
       "    }\n",
       "\n",
       "    .dataframe tbody tr th {\n",
       "        vertical-align: top;\n",
       "    }\n",
       "\n",
       "    .dataframe thead th {\n",
       "        text-align: right;\n",
       "    }\n",
       "</style>\n",
       "<table border=\"1\" class=\"dataframe\">\n",
       "  <thead>\n",
       "    <tr style=\"text-align: right;\">\n",
       "      <th></th>\n",
       "      <th>Lenght</th>\n",
       "      <th>Diameter</th>\n",
       "      <th>Height</th>\n",
       "      <th>Whole Weight</th>\n",
       "      <th>Shucked Weight</th>\n",
       "      <th>Viscra Weight</th>\n",
       "      <th>Shell Weight</th>\n",
       "      <th>Gender_F</th>\n",
       "      <th>Gender_I</th>\n",
       "      <th>Gender_M</th>\n",
       "      <th>foreign body</th>\n",
       "      <th>Circumference</th>\n",
       "      <th>Area</th>\n",
       "      <th>ratio</th>\n",
       "    </tr>\n",
       "  </thead>\n",
       "  <tbody>\n",
       "    <tr>\n",
       "      <th>0</th>\n",
       "      <td>0.595</td>\n",
       "      <td>0.470</td>\n",
       "      <td>0.155</td>\n",
       "      <td>1.1210</td>\n",
       "      <td>0.4515</td>\n",
       "      <td>0.1780</td>\n",
       "      <td>0.1550</td>\n",
       "      <td>1</td>\n",
       "      <td>0</td>\n",
       "      <td>0</td>\n",
       "      <td>0.5145</td>\n",
       "      <td>1.684382</td>\n",
       "      <td>0.219637</td>\n",
       "      <td>0.402765</td>\n",
       "    </tr>\n",
       "    <tr>\n",
       "      <th>1</th>\n",
       "      <td>0.580</td>\n",
       "      <td>0.450</td>\n",
       "      <td>0.150</td>\n",
       "      <td>0.9270</td>\n",
       "      <td>0.2760</td>\n",
       "      <td>0.1815</td>\n",
       "      <td>0.3600</td>\n",
       "      <td>0</td>\n",
       "      <td>0</td>\n",
       "      <td>1</td>\n",
       "      <td>0.2910</td>\n",
       "      <td>1.630756</td>\n",
       "      <td>0.204989</td>\n",
       "      <td>0.297735</td>\n",
       "    </tr>\n",
       "    <tr>\n",
       "      <th>2</th>\n",
       "      <td>0.260</td>\n",
       "      <td>0.205</td>\n",
       "      <td>0.070</td>\n",
       "      <td>0.0970</td>\n",
       "      <td>0.0415</td>\n",
       "      <td>0.0190</td>\n",
       "      <td>0.0305</td>\n",
       "      <td>0</td>\n",
       "      <td>1</td>\n",
       "      <td>0</td>\n",
       "      <td>0.0250</td>\n",
       "      <td>0.735512</td>\n",
       "      <td>0.041862</td>\n",
       "      <td>0.427835</td>\n",
       "    </tr>\n",
       "    <tr>\n",
       "      <th>3</th>\n",
       "      <td>0.590</td>\n",
       "      <td>0.460</td>\n",
       "      <td>0.130</td>\n",
       "      <td>1.1020</td>\n",
       "      <td>0.4550</td>\n",
       "      <td>0.2055</td>\n",
       "      <td>0.3300</td>\n",
       "      <td>0</td>\n",
       "      <td>0</td>\n",
       "      <td>1</td>\n",
       "      <td>0.3170</td>\n",
       "      <td>1.661929</td>\n",
       "      <td>0.213157</td>\n",
       "      <td>0.412886</td>\n",
       "    </tr>\n",
       "    <tr>\n",
       "      <th>4</th>\n",
       "      <td>0.595</td>\n",
       "      <td>0.465</td>\n",
       "      <td>0.140</td>\n",
       "      <td>1.1130</td>\n",
       "      <td>0.5175</td>\n",
       "      <td>0.2440</td>\n",
       "      <td>0.3050</td>\n",
       "      <td>1</td>\n",
       "      <td>0</td>\n",
       "      <td>0</td>\n",
       "      <td>0.2905</td>\n",
       "      <td>1.677519</td>\n",
       "      <td>0.217300</td>\n",
       "      <td>0.464960</td>\n",
       "    </tr>\n",
       "    <tr>\n",
       "      <th>...</th>\n",
       "      <td>...</td>\n",
       "      <td>...</td>\n",
       "      <td>...</td>\n",
       "      <td>...</td>\n",
       "      <td>...</td>\n",
       "      <td>...</td>\n",
       "      <td>...</td>\n",
       "      <td>...</td>\n",
       "      <td>...</td>\n",
       "      <td>...</td>\n",
       "      <td>...</td>\n",
       "      <td>...</td>\n",
       "      <td>...</td>\n",
       "      <td>...</td>\n",
       "    </tr>\n",
       "    <tr>\n",
       "      <th>2919</th>\n",
       "      <td>0.170</td>\n",
       "      <td>0.105</td>\n",
       "      <td>0.035</td>\n",
       "      <td>0.0340</td>\n",
       "      <td>0.0120</td>\n",
       "      <td>0.0085</td>\n",
       "      <td>0.0050</td>\n",
       "      <td>0</td>\n",
       "      <td>1</td>\n",
       "      <td>0</td>\n",
       "      <td>0.0170</td>\n",
       "      <td>0.443872</td>\n",
       "      <td>0.014019</td>\n",
       "      <td>0.352941</td>\n",
       "    </tr>\n",
       "    <tr>\n",
       "      <th>2920</th>\n",
       "      <td>0.435</td>\n",
       "      <td>0.345</td>\n",
       "      <td>0.115</td>\n",
       "      <td>0.4180</td>\n",
       "      <td>0.2220</td>\n",
       "      <td>0.0735</td>\n",
       "      <td>0.1060</td>\n",
       "      <td>0</td>\n",
       "      <td>1</td>\n",
       "      <td>0</td>\n",
       "      <td>0.0900</td>\n",
       "      <td>1.233350</td>\n",
       "      <td>0.117869</td>\n",
       "      <td>0.531100</td>\n",
       "    </tr>\n",
       "    <tr>\n",
       "      <th>2921</th>\n",
       "      <td>0.570</td>\n",
       "      <td>0.450</td>\n",
       "      <td>0.135</td>\n",
       "      <td>0.7940</td>\n",
       "      <td>0.3815</td>\n",
       "      <td>0.1415</td>\n",
       "      <td>0.2450</td>\n",
       "      <td>0</td>\n",
       "      <td>1</td>\n",
       "      <td>0</td>\n",
       "      <td>0.1675</td>\n",
       "      <td>1.613262</td>\n",
       "      <td>0.201455</td>\n",
       "      <td>0.480479</td>\n",
       "    </tr>\n",
       "    <tr>\n",
       "      <th>2922</th>\n",
       "      <td>0.460</td>\n",
       "      <td>0.350</td>\n",
       "      <td>0.120</td>\n",
       "      <td>0.4885</td>\n",
       "      <td>0.1930</td>\n",
       "      <td>0.1050</td>\n",
       "      <td>0.1550</td>\n",
       "      <td>0</td>\n",
       "      <td>1</td>\n",
       "      <td>0</td>\n",
       "      <td>0.1405</td>\n",
       "      <td>1.284024</td>\n",
       "      <td>0.126449</td>\n",
       "      <td>0.395087</td>\n",
       "    </tr>\n",
       "    <tr>\n",
       "      <th>2923</th>\n",
       "      <td>0.565</td>\n",
       "      <td>0.440</td>\n",
       "      <td>0.160</td>\n",
       "      <td>0.9150</td>\n",
       "      <td>0.3540</td>\n",
       "      <td>0.1935</td>\n",
       "      <td>0.3200</td>\n",
       "      <td>1</td>\n",
       "      <td>0</td>\n",
       "      <td>0</td>\n",
       "      <td>0.2410</td>\n",
       "      <td>1.590814</td>\n",
       "      <td>0.195250</td>\n",
       "      <td>0.386885</td>\n",
       "    </tr>\n",
       "  </tbody>\n",
       "</table>\n",
       "<p>2924 rows × 14 columns</p>\n",
       "</div>"
      ],
      "text/plain": [
       "      Lenght  Diameter  Height  Whole Weight  Shucked Weight  Viscra Weight  \\\n",
       "0      0.595     0.470   0.155        1.1210          0.4515         0.1780   \n",
       "1      0.580     0.450   0.150        0.9270          0.2760         0.1815   \n",
       "2      0.260     0.205   0.070        0.0970          0.0415         0.0190   \n",
       "3      0.590     0.460   0.130        1.1020          0.4550         0.2055   \n",
       "4      0.595     0.465   0.140        1.1130          0.5175         0.2440   \n",
       "...      ...       ...     ...           ...             ...            ...   \n",
       "2919   0.170     0.105   0.035        0.0340          0.0120         0.0085   \n",
       "2920   0.435     0.345   0.115        0.4180          0.2220         0.0735   \n",
       "2921   0.570     0.450   0.135        0.7940          0.3815         0.1415   \n",
       "2922   0.460     0.350   0.120        0.4885          0.1930         0.1050   \n",
       "2923   0.565     0.440   0.160        0.9150          0.3540         0.1935   \n",
       "\n",
       "      Shell Weight  Gender_F  Gender_I  Gender_M  foreign body  Circumference  \\\n",
       "0           0.1550         1         0         0        0.5145       1.684382   \n",
       "1           0.3600         0         0         1        0.2910       1.630756   \n",
       "2           0.0305         0         1         0        0.0250       0.735512   \n",
       "3           0.3300         0         0         1        0.3170       1.661929   \n",
       "4           0.3050         1         0         0        0.2905       1.677519   \n",
       "...            ...       ...       ...       ...           ...            ...   \n",
       "2919        0.0050         0         1         0        0.0170       0.443872   \n",
       "2920        0.1060         0         1         0        0.0900       1.233350   \n",
       "2921        0.2450         0         1         0        0.1675       1.613262   \n",
       "2922        0.1550         0         1         0        0.1405       1.284024   \n",
       "2923        0.3200         1         0         0        0.2410       1.590814   \n",
       "\n",
       "          Area     ratio  \n",
       "0     0.219637  0.402765  \n",
       "1     0.204989  0.297735  \n",
       "2     0.041862  0.427835  \n",
       "3     0.213157  0.412886  \n",
       "4     0.217300  0.464960  \n",
       "...        ...       ...  \n",
       "2919  0.014019  0.352941  \n",
       "2920  0.117869  0.531100  \n",
       "2921  0.201455  0.480479  \n",
       "2922  0.126449  0.395087  \n",
       "2923  0.195250  0.386885  \n",
       "\n",
       "[2924 rows x 14 columns]"
      ]
     },
     "execution_count": 40,
     "metadata": {},
     "output_type": "execute_result"
    }
   ],
   "source": [
    "test_x"
   ]
  },
  {
   "cell_type": "markdown",
   "metadata": {},
   "source": [
    "# DNN"
   ]
  },
  {
   "cell_type": "code",
   "execution_count": 117,
   "metadata": {},
   "outputs": [],
   "source": [
    "#train_x['foreign body'] = train_x['Shucked Weight'] / train_x['Whole Weight']"
   ]
  },
  {
   "cell_type": "code",
   "execution_count": 119,
   "metadata": {},
   "outputs": [],
   "source": [
    "#test['foreign body'] = test['Shucked Weight'] / test['Whole Weight']"
   ]
  },
  {
   "cell_type": "code",
   "execution_count": 26,
   "metadata": {},
   "outputs": [],
   "source": [
    "#-*- coding: utf-8 -*-\n",
    "from keras.models import Sequential\n",
    "from keras.layers import Dense\n",
    "from tensorflow.keras.layers import Dropout, Dense\n",
    "from keras.callbacks import ModelCheckpoint,EarlyStopping\n",
    "import tensorflow as tf\n",
    "import os\n",
    "from tensorflow.keras.layers import *\n",
    "from tensorflow.keras.models import *\n",
    "from tensorflow.keras.optimizers import *\n",
    "from tensorflow.keras.callbacks import *"
   ]
  },
  {
   "cell_type": "code",
   "execution_count": 41,
   "metadata": {},
   "outputs": [],
   "source": [
    "# 딥러닝 모델 선언\n",
    "model = Sequential()\n",
    "model.add(Dense(16, input_dim=14, activation='elu'))  # 입력층\n",
    "model.add(Dense(32, activation='elu'))      # 은닉층1\n",
    "model.add(Dense(64, activation='elu'))  \n",
    "model.add(Dropout(0.5))\n",
    "model.add(Dense(32, activation='elu'))  # \n",
    "model.add(Dense(16, activation='elu'))\n",
    "model.add(Dense(1))# 출력층\n",
    "# 선형 회귀는 마지막에 참과 거짓을 구분할 필요가 없음. 출력층에 활성화 함수를 지정할 필요도 없음\n",
    "\n",
    "model.compile(loss='mean_absolute_error',\n",
    "              optimizer='Nadam', \n",
    "              metrics=['mae'])"
   ]
  },
  {
   "cell_type": "code",
   "execution_count": 42,
   "metadata": {},
   "outputs": [],
   "source": [
    "# 모델 저장 폴더 만들기\n",
    "MODEL_DIR = './model/'\n",
    "if not os.path.exists(MODEL_DIR):\n",
    "    os.mkdir(MODEL_DIR)\n",
    "\n",
    "modelpath = \"./model/{epoch:02d}-{val_loss:.4f}.hdf5\"\n",
    "\n",
    "# 모델 업데이트 및 저장\n",
    "checkpointer = ModelCheckpoint(filepath=modelpath, monitor='val_mae', verbose=0, save_best_only=True, mode='min')\n",
    "# 콜백함수\n",
    "reduce_lr = ReduceLROnPlateau(monitor='val_mae', factor=0.2, patience=40, mode='min')\n",
    "\n",
    "# 학습 자동 중단 설정\n",
    "early_stopping_callback = EarlyStopping(monitor='val_mae', patience=50, mode='min') "
   ]
  },
  {
   "cell_type": "code",
   "execution_count": 43,
   "metadata": {
    "scrolled": true
   },
   "outputs": [
    {
     "name": "stdout",
     "output_type": "stream",
     "text": [
      "Epoch 1/1000\n",
      "28/28 [==============================] - 1s 11ms/step - loss: 6.5317 - mae: 6.5317 - val_loss: 2.1190 - val_mae: 2.1190 - lr: 0.0010\n",
      "Epoch 2/1000\n",
      "28/28 [==============================] - 0s 4ms/step - loss: 2.0433 - mae: 2.0433 - val_loss: 1.9883 - val_mae: 1.9883 - lr: 0.0010\n",
      "Epoch 3/1000\n",
      "28/28 [==============================] - 0s 4ms/step - loss: 1.9589 - mae: 1.9589 - val_loss: 1.9213 - val_mae: 1.9213 - lr: 0.0010\n",
      "Epoch 4/1000\n",
      "28/28 [==============================] - 0s 2ms/step - loss: 1.9484 - mae: 1.9484 - val_loss: 1.9511 - val_mae: 1.9511 - lr: 0.0010\n",
      "Epoch 5/1000\n",
      "28/28 [==============================] - 0s 3ms/step - loss: 1.8914 - mae: 1.8914 - val_loss: 1.8992 - val_mae: 1.8992 - lr: 0.0010\n",
      "Epoch 6/1000\n",
      "28/28 [==============================] - 0s 3ms/step - loss: 1.8781 - mae: 1.8781 - val_loss: 1.8935 - val_mae: 1.8935 - lr: 0.0010\n",
      "Epoch 7/1000\n",
      "28/28 [==============================] - 0s 3ms/step - loss: 1.8429 - mae: 1.8429 - val_loss: 2.0108 - val_mae: 2.0108 - lr: 0.0010\n",
      "Epoch 8/1000\n",
      "28/28 [==============================] - 0s 4ms/step - loss: 1.7987 - mae: 1.7987 - val_loss: 1.8956 - val_mae: 1.8956 - lr: 0.0010\n",
      "Epoch 9/1000\n",
      "28/28 [==============================] - 0s 3ms/step - loss: 1.7960 - mae: 1.7960 - val_loss: 1.8990 - val_mae: 1.8990 - lr: 0.0010\n",
      "Epoch 10/1000\n",
      "28/28 [==============================] - 0s 2ms/step - loss: 1.8259 - mae: 1.8259 - val_loss: 1.9262 - val_mae: 1.9262 - lr: 0.0010\n",
      "Epoch 11/1000\n",
      "28/28 [==============================] - 0s 2ms/step - loss: 1.7996 - mae: 1.7996 - val_loss: 1.9001 - val_mae: 1.9001 - lr: 0.0010\n",
      "Epoch 12/1000\n",
      "28/28 [==============================] - 0s 3ms/step - loss: 1.7263 - mae: 1.7263 - val_loss: 1.8829 - val_mae: 1.8829 - lr: 0.0010\n",
      "Epoch 13/1000\n",
      "28/28 [==============================] - 0s 3ms/step - loss: 1.7704 - mae: 1.7704 - val_loss: 1.8838 - val_mae: 1.8838 - lr: 0.0010\n",
      "Epoch 14/1000\n",
      "28/28 [==============================] - 0s 2ms/step - loss: 1.7582 - mae: 1.7582 - val_loss: 1.9008 - val_mae: 1.9008 - lr: 0.0010\n",
      "Epoch 15/1000\n",
      "28/28 [==============================] - 0s 3ms/step - loss: 1.7675 - mae: 1.7675 - val_loss: 1.8790 - val_mae: 1.8790 - lr: 0.0010\n",
      "Epoch 16/1000\n",
      "28/28 [==============================] - 0s 2ms/step - loss: 1.7231 - mae: 1.7231 - val_loss: 1.9748 - val_mae: 1.9748 - lr: 0.0010\n",
      "Epoch 17/1000\n",
      "28/28 [==============================] - 0s 3ms/step - loss: 1.7265 - mae: 1.7265 - val_loss: 1.9574 - val_mae: 1.9574 - lr: 0.0010\n",
      "Epoch 18/1000\n",
      "28/28 [==============================] - 0s 3ms/step - loss: 1.7160 - mae: 1.7160 - val_loss: 1.8745 - val_mae: 1.8745 - lr: 0.0010\n",
      "Epoch 19/1000\n",
      "28/28 [==============================] - 0s 3ms/step - loss: 1.6941 - mae: 1.6941 - val_loss: 1.9433 - val_mae: 1.9433 - lr: 0.0010\n",
      "Epoch 20/1000\n",
      "28/28 [==============================] - 0s 2ms/step - loss: 1.7084 - mae: 1.7084 - val_loss: 1.9527 - val_mae: 1.9527 - lr: 0.0010\n",
      "Epoch 21/1000\n",
      "28/28 [==============================] - 0s 4ms/step - loss: 1.7125 - mae: 1.7125 - val_loss: 1.8654 - val_mae: 1.8654 - lr: 0.0010\n",
      "Epoch 22/1000\n",
      "28/28 [==============================] - 0s 3ms/step - loss: 1.6826 - mae: 1.6826 - val_loss: 1.8625 - val_mae: 1.8625 - lr: 0.0010\n",
      "Epoch 23/1000\n",
      "28/28 [==============================] - 0s 3ms/step - loss: 1.7039 - mae: 1.7039 - val_loss: 1.8478 - val_mae: 1.8478 - lr: 0.0010\n",
      "Epoch 24/1000\n",
      "28/28 [==============================] - 0s 2ms/step - loss: 1.6608 - mae: 1.6608 - val_loss: 1.8846 - val_mae: 1.8846 - lr: 0.0010\n",
      "Epoch 25/1000\n",
      "28/28 [==============================] - 0s 6ms/step - loss: 1.6521 - mae: 1.6521 - val_loss: 1.9148 - val_mae: 1.9148 - lr: 0.0010\n",
      "Epoch 26/1000\n",
      "28/28 [==============================] - 0s 3ms/step - loss: 1.6679 - mae: 1.6679 - val_loss: 1.8991 - val_mae: 1.8991 - lr: 0.0010\n",
      "Epoch 27/1000\n",
      "28/28 [==============================] - 0s 4ms/step - loss: 1.6539 - mae: 1.6539 - val_loss: 1.8600 - val_mae: 1.8600 - lr: 0.0010\n",
      "Epoch 28/1000\n",
      "28/28 [==============================] - 0s 3ms/step - loss: 1.6493 - mae: 1.6493 - val_loss: 1.9329 - val_mae: 1.9329 - lr: 0.0010\n",
      "Epoch 29/1000\n",
      "28/28 [==============================] - 0s 4ms/step - loss: 1.6395 - mae: 1.6395 - val_loss: 1.8108 - val_mae: 1.8108 - lr: 0.0010\n",
      "Epoch 30/1000\n",
      "28/28 [==============================] - 0s 4ms/step - loss: 1.6319 - mae: 1.6319 - val_loss: 1.7995 - val_mae: 1.7995 - lr: 0.0010\n",
      "Epoch 31/1000\n",
      "28/28 [==============================] - 0s 4ms/step - loss: 1.6160 - mae: 1.6160 - val_loss: 1.7741 - val_mae: 1.7741 - lr: 0.0010\n",
      "Epoch 32/1000\n",
      "28/28 [==============================] - 0s 3ms/step - loss: 1.6027 - mae: 1.6027 - val_loss: 2.2553 - val_mae: 2.2553 - lr: 0.0010\n",
      "Epoch 33/1000\n",
      "28/28 [==============================] - 0s 4ms/step - loss: 1.6569 - mae: 1.6569 - val_loss: 1.7615 - val_mae: 1.7615 - lr: 0.0010\n",
      "Epoch 34/1000\n",
      "28/28 [==============================] - 0s 2ms/step - loss: 1.6263 - mae: 1.6263 - val_loss: 1.9159 - val_mae: 1.9159 - lr: 0.0010\n",
      "Epoch 35/1000\n",
      "28/28 [==============================] - 0s 2ms/step - loss: 1.6142 - mae: 1.6142 - val_loss: 1.7755 - val_mae: 1.7755 - lr: 0.0010\n",
      "Epoch 36/1000\n",
      "28/28 [==============================] - 0s 2ms/step - loss: 1.6032 - mae: 1.6032 - val_loss: 1.8938 - val_mae: 1.8938 - lr: 0.0010\n",
      "Epoch 37/1000\n",
      "28/28 [==============================] - 0s 2ms/step - loss: 1.6135 - mae: 1.6135 - val_loss: 1.9273 - val_mae: 1.9273 - lr: 0.0010\n",
      "Epoch 38/1000\n",
      "28/28 [==============================] - 0s 3ms/step - loss: 1.5750 - mae: 1.5750 - val_loss: 1.7451 - val_mae: 1.7451 - lr: 0.0010\n",
      "Epoch 39/1000\n",
      "28/28 [==============================] - 0s 2ms/step - loss: 1.5864 - mae: 1.5864 - val_loss: 1.7536 - val_mae: 1.7536 - lr: 0.0010\n",
      "Epoch 40/1000\n",
      "28/28 [==============================] - 0s 2ms/step - loss: 1.5694 - mae: 1.5694 - val_loss: 1.7791 - val_mae: 1.7791 - lr: 0.0010\n",
      "Epoch 41/1000\n",
      "28/28 [==============================] - 0s 2ms/step - loss: 1.5871 - mae: 1.5871 - val_loss: 1.7496 - val_mae: 1.7496 - lr: 0.0010\n",
      "Epoch 42/1000\n",
      "28/28 [==============================] - 0s 2ms/step - loss: 1.5865 - mae: 1.5865 - val_loss: 1.7927 - val_mae: 1.7927 - lr: 0.0010\n",
      "Epoch 43/1000\n",
      "28/28 [==============================] - 0s 2ms/step - loss: 1.5749 - mae: 1.5749 - val_loss: 1.7770 - val_mae: 1.7770 - lr: 0.0010\n",
      "Epoch 44/1000\n",
      "28/28 [==============================] - 0s 2ms/step - loss: 1.5535 - mae: 1.5535 - val_loss: 1.7855 - val_mae: 1.7855 - lr: 0.0010\n",
      "Epoch 45/1000\n",
      "28/28 [==============================] - 0s 3ms/step - loss: 1.5555 - mae: 1.5555 - val_loss: 1.7191 - val_mae: 1.7191 - lr: 0.0010\n",
      "Epoch 46/1000\n",
      "28/28 [==============================] - 0s 3ms/step - loss: 1.5719 - mae: 1.5719 - val_loss: 1.7314 - val_mae: 1.7314 - lr: 0.0010\n",
      "Epoch 47/1000\n",
      "28/28 [==============================] - 0s 3ms/step - loss: 1.5723 - mae: 1.5723 - val_loss: 1.7174 - val_mae: 1.7174 - lr: 0.0010\n",
      "Epoch 48/1000\n",
      "28/28 [==============================] - 0s 2ms/step - loss: 1.5866 - mae: 1.5866 - val_loss: 1.7177 - val_mae: 1.7177 - lr: 0.0010\n",
      "Epoch 49/1000\n",
      "28/28 [==============================] - 0s 3ms/step - loss: 1.5417 - mae: 1.5417 - val_loss: 1.7078 - val_mae: 1.7078 - lr: 0.0010\n",
      "Epoch 50/1000\n",
      "28/28 [==============================] - 0s 3ms/step - loss: 1.5406 - mae: 1.5406 - val_loss: 1.6964 - val_mae: 1.6964 - lr: 0.0010\n",
      "Epoch 51/1000\n",
      "28/28 [==============================] - 0s 4ms/step - loss: 1.5219 - mae: 1.5219 - val_loss: 1.6950 - val_mae: 1.6950 - lr: 0.0010\n",
      "Epoch 52/1000\n",
      "28/28 [==============================] - 0s 4ms/step - loss: 1.5407 - mae: 1.5407 - val_loss: 1.6876 - val_mae: 1.6876 - lr: 0.0010\n",
      "Epoch 53/1000\n",
      "28/28 [==============================] - 0s 2ms/step - loss: 1.5464 - mae: 1.5464 - val_loss: 1.7083 - val_mae: 1.7083 - lr: 0.0010\n",
      "Epoch 54/1000\n",
      "28/28 [==============================] - 0s 3ms/step - loss: 1.5444 - mae: 1.5444 - val_loss: 1.6828 - val_mae: 1.6828 - lr: 0.0010\n",
      "Epoch 55/1000\n",
      "28/28 [==============================] - 0s 3ms/step - loss: 1.5396 - mae: 1.5396 - val_loss: 1.7024 - val_mae: 1.7024 - lr: 0.0010\n",
      "Epoch 56/1000\n",
      "28/28 [==============================] - 0s 4ms/step - loss: 1.5236 - mae: 1.5236 - val_loss: 1.7079 - val_mae: 1.7079 - lr: 0.0010\n",
      "Epoch 57/1000\n"
     ]
    },
    {
     "name": "stdout",
     "output_type": "stream",
     "text": [
      "28/28 [==============================] - 0s 3ms/step - loss: 1.5649 - mae: 1.5649 - val_loss: 1.8387 - val_mae: 1.8387 - lr: 0.0010\n",
      "Epoch 58/1000\n",
      "28/28 [==============================] - 0s 4ms/step - loss: 1.5576 - mae: 1.5576 - val_loss: 1.6740 - val_mae: 1.6740 - lr: 0.0010\n",
      "Epoch 59/1000\n",
      "28/28 [==============================] - 0s 3ms/step - loss: 1.5466 - mae: 1.5466 - val_loss: 1.8570 - val_mae: 1.8570 - lr: 0.0010\n",
      "Epoch 60/1000\n",
      "28/28 [==============================] - 0s 2ms/step - loss: 1.5462 - mae: 1.5462 - val_loss: 1.7573 - val_mae: 1.7573 - lr: 0.0010\n",
      "Epoch 61/1000\n",
      "28/28 [==============================] - 0s 3ms/step - loss: 1.5339 - mae: 1.5339 - val_loss: 1.6986 - val_mae: 1.6986 - lr: 0.0010\n",
      "Epoch 62/1000\n",
      "28/28 [==============================] - 0s 4ms/step - loss: 1.5647 - mae: 1.5647 - val_loss: 1.6608 - val_mae: 1.6608 - lr: 0.0010\n",
      "Epoch 63/1000\n",
      "28/28 [==============================] - 0s 2ms/step - loss: 1.5270 - mae: 1.5270 - val_loss: 1.7043 - val_mae: 1.7043 - lr: 0.0010\n",
      "Epoch 64/1000\n",
      "28/28 [==============================] - 0s 2ms/step - loss: 1.5350 - mae: 1.5350 - val_loss: 1.6967 - val_mae: 1.6967 - lr: 0.0010\n",
      "Epoch 65/1000\n",
      "28/28 [==============================] - 0s 2ms/step - loss: 1.5331 - mae: 1.5331 - val_loss: 1.6774 - val_mae: 1.6774 - lr: 0.0010\n",
      "Epoch 66/1000\n",
      "28/28 [==============================] - 0s 3ms/step - loss: 1.5301 - mae: 1.5301 - val_loss: 1.6560 - val_mae: 1.6560 - lr: 0.0010\n",
      "Epoch 67/1000\n",
      "28/28 [==============================] - 0s 2ms/step - loss: 1.5146 - mae: 1.5146 - val_loss: 1.6664 - val_mae: 1.6664 - lr: 0.0010\n",
      "Epoch 68/1000\n",
      "28/28 [==============================] - 0s 2ms/step - loss: 1.5356 - mae: 1.5356 - val_loss: 1.7413 - val_mae: 1.7413 - lr: 0.0010\n",
      "Epoch 69/1000\n",
      "28/28 [==============================] - 0s 3ms/step - loss: 1.5409 - mae: 1.5409 - val_loss: 1.6526 - val_mae: 1.6526 - lr: 0.0010\n",
      "Epoch 70/1000\n",
      "28/28 [==============================] - 0s 3ms/step - loss: 1.5062 - mae: 1.5062 - val_loss: 1.6657 - val_mae: 1.6657 - lr: 0.0010\n",
      "Epoch 71/1000\n",
      "28/28 [==============================] - 0s 2ms/step - loss: 1.5262 - mae: 1.5262 - val_loss: 1.7193 - val_mae: 1.7193 - lr: 0.0010\n",
      "Epoch 72/1000\n",
      "28/28 [==============================] - 0s 3ms/step - loss: 1.5177 - mae: 1.5177 - val_loss: 1.6538 - val_mae: 1.6538 - lr: 0.0010\n",
      "Epoch 73/1000\n",
      "28/28 [==============================] - 0s 3ms/step - loss: 1.5259 - mae: 1.5259 - val_loss: 1.6882 - val_mae: 1.6882 - lr: 0.0010\n",
      "Epoch 74/1000\n",
      "28/28 [==============================] - 0s 2ms/step - loss: 1.5002 - mae: 1.5002 - val_loss: 1.6777 - val_mae: 1.6777 - lr: 0.0010\n",
      "Epoch 75/1000\n",
      "28/28 [==============================] - 0s 2ms/step - loss: 1.4771 - mae: 1.4771 - val_loss: 1.6637 - val_mae: 1.6637 - lr: 0.0010\n",
      "Epoch 76/1000\n",
      "28/28 [==============================] - 0s 3ms/step - loss: 1.5044 - mae: 1.5044 - val_loss: 1.6436 - val_mae: 1.6436 - lr: 0.0010\n",
      "Epoch 77/1000\n",
      "28/28 [==============================] - 0s 3ms/step - loss: 1.4969 - mae: 1.4969 - val_loss: 1.6448 - val_mae: 1.6448 - lr: 0.0010\n",
      "Epoch 78/1000\n",
      "28/28 [==============================] - 0s 3ms/step - loss: 1.5305 - mae: 1.5305 - val_loss: 1.6465 - val_mae: 1.6465 - lr: 0.0010\n",
      "Epoch 79/1000\n",
      "28/28 [==============================] - 0s 2ms/step - loss: 1.5041 - mae: 1.5041 - val_loss: 1.7613 - val_mae: 1.7613 - lr: 0.0010\n",
      "Epoch 80/1000\n",
      "28/28 [==============================] - 0s 2ms/step - loss: 1.5214 - mae: 1.5214 - val_loss: 1.6709 - val_mae: 1.6709 - lr: 0.0010\n",
      "Epoch 81/1000\n",
      "28/28 [==============================] - 0s 2ms/step - loss: 1.4847 - mae: 1.4847 - val_loss: 1.6452 - val_mae: 1.6452 - lr: 0.0010\n",
      "Epoch 82/1000\n",
      "28/28 [==============================] - 0s 3ms/step - loss: 1.5179 - mae: 1.5179 - val_loss: 1.7057 - val_mae: 1.7057 - lr: 0.0010\n",
      "Epoch 83/1000\n",
      "28/28 [==============================] - 0s 3ms/step - loss: 1.5074 - mae: 1.5074 - val_loss: 1.6678 - val_mae: 1.6678 - lr: 0.0010\n",
      "Epoch 84/1000\n",
      "28/28 [==============================] - 0s 4ms/step - loss: 1.4819 - mae: 1.4819 - val_loss: 1.6422 - val_mae: 1.6422 - lr: 0.0010\n",
      "Epoch 85/1000\n",
      "28/28 [==============================] - 0s 3ms/step - loss: 1.5199 - mae: 1.5199 - val_loss: 1.6671 - val_mae: 1.6671 - lr: 0.0010\n",
      "Epoch 86/1000\n",
      "28/28 [==============================] - 0s 2ms/step - loss: 1.5040 - mae: 1.5040 - val_loss: 1.7066 - val_mae: 1.7066 - lr: 0.0010\n",
      "Epoch 87/1000\n",
      "28/28 [==============================] - 0s 2ms/step - loss: 1.4943 - mae: 1.4943 - val_loss: 1.6426 - val_mae: 1.6426 - lr: 0.0010\n",
      "Epoch 88/1000\n",
      "28/28 [==============================] - 0s 2ms/step - loss: 1.5033 - mae: 1.5033 - val_loss: 1.6600 - val_mae: 1.6600 - lr: 0.0010\n",
      "Epoch 89/1000\n",
      "28/28 [==============================] - 0s 2ms/step - loss: 1.5024 - mae: 1.5024 - val_loss: 1.6461 - val_mae: 1.6461 - lr: 0.0010\n",
      "Epoch 90/1000\n",
      "28/28 [==============================] - 0s 2ms/step - loss: 1.4899 - mae: 1.4899 - val_loss: 1.7268 - val_mae: 1.7268 - lr: 0.0010\n",
      "Epoch 91/1000\n",
      "28/28 [==============================] - 0s 2ms/step - loss: 1.5065 - mae: 1.5065 - val_loss: 1.6456 - val_mae: 1.6456 - lr: 0.0010\n",
      "Epoch 92/1000\n",
      "28/28 [==============================] - 0s 3ms/step - loss: 1.4913 - mae: 1.4913 - val_loss: 1.7087 - val_mae: 1.7087 - lr: 0.0010\n",
      "Epoch 93/1000\n",
      "28/28 [==============================] - 0s 3ms/step - loss: 1.5234 - mae: 1.5234 - val_loss: 1.6317 - val_mae: 1.6317 - lr: 0.0010\n",
      "Epoch 94/1000\n",
      "28/28 [==============================] - 0s 2ms/step - loss: 1.4912 - mae: 1.4912 - val_loss: 1.6695 - val_mae: 1.6695 - lr: 0.0010\n",
      "Epoch 95/1000\n",
      "28/28 [==============================] - 0s 2ms/step - loss: 1.4963 - mae: 1.4963 - val_loss: 1.6551 - val_mae: 1.6551 - lr: 0.0010\n",
      "Epoch 96/1000\n",
      "28/28 [==============================] - 0s 2ms/step - loss: 1.4759 - mae: 1.4759 - val_loss: 1.6863 - val_mae: 1.6863 - lr: 0.0010\n",
      "Epoch 97/1000\n",
      "28/28 [==============================] - 0s 2ms/step - loss: 1.4813 - mae: 1.4813 - val_loss: 1.6632 - val_mae: 1.6632 - lr: 0.0010\n",
      "Epoch 98/1000\n",
      "28/28 [==============================] - 0s 2ms/step - loss: 1.5267 - mae: 1.5267 - val_loss: 1.6402 - val_mae: 1.6402 - lr: 0.0010\n",
      "Epoch 99/1000\n",
      "28/28 [==============================] - 0s 3ms/step - loss: 1.4826 - mae: 1.4826 - val_loss: 1.6292 - val_mae: 1.6292 - lr: 0.0010\n",
      "Epoch 100/1000\n",
      "28/28 [==============================] - 0s 2ms/step - loss: 1.4931 - mae: 1.4931 - val_loss: 1.6299 - val_mae: 1.6299 - lr: 0.0010\n",
      "Epoch 101/1000\n",
      "28/28 [==============================] - 0s 4ms/step - loss: 1.4827 - mae: 1.4827 - val_loss: 1.6246 - val_mae: 1.6246 - lr: 0.0010\n",
      "Epoch 102/1000\n",
      "28/28 [==============================] - 0s 2ms/step - loss: 1.4828 - mae: 1.4828 - val_loss: 1.6428 - val_mae: 1.6428 - lr: 0.0010\n",
      "Epoch 103/1000\n",
      "28/28 [==============================] - 0s 2ms/step - loss: 1.4901 - mae: 1.4901 - val_loss: 1.6322 - val_mae: 1.6322 - lr: 0.0010\n",
      "Epoch 104/1000\n",
      "28/28 [==============================] - 0s 3ms/step - loss: 1.4931 - mae: 1.4931 - val_loss: 1.6253 - val_mae: 1.6253 - lr: 0.0010\n",
      "Epoch 105/1000\n",
      "28/28 [==============================] - 0s 2ms/step - loss: 1.4746 - mae: 1.4746 - val_loss: 1.6313 - val_mae: 1.6313 - lr: 0.0010\n",
      "Epoch 106/1000\n",
      "28/28 [==============================] - 0s 2ms/step - loss: 1.4893 - mae: 1.4893 - val_loss: 1.6650 - val_mae: 1.6650 - lr: 0.0010\n",
      "Epoch 107/1000\n",
      "28/28 [==============================] - 0s 2ms/step - loss: 1.4785 - mae: 1.4785 - val_loss: 1.6265 - val_mae: 1.6265 - lr: 0.0010\n",
      "Epoch 108/1000\n",
      "28/28 [==============================] - 0s 2ms/step - loss: 1.4747 - mae: 1.4747 - val_loss: 1.6274 - val_mae: 1.6274 - lr: 0.0010\n",
      "Epoch 109/1000\n",
      "28/28 [==============================] - 0s 2ms/step - loss: 1.4928 - mae: 1.4928 - val_loss: 1.7111 - val_mae: 1.7111 - lr: 0.0010\n",
      "Epoch 110/1000\n",
      "28/28 [==============================] - 0s 2ms/step - loss: 1.4776 - mae: 1.4776 - val_loss: 1.6302 - val_mae: 1.6302 - lr: 0.0010\n",
      "Epoch 111/1000\n",
      "28/28 [==============================] - 0s 3ms/step - loss: 1.4925 - mae: 1.4925 - val_loss: 1.6229 - val_mae: 1.6229 - lr: 0.0010\n",
      "Epoch 112/1000\n",
      "28/28 [==============================] - 0s 2ms/step - loss: 1.5058 - mae: 1.5058 - val_loss: 1.6450 - val_mae: 1.6450 - lr: 0.0010\n",
      "Epoch 113/1000\n"
     ]
    },
    {
     "name": "stdout",
     "output_type": "stream",
     "text": [
      "28/28 [==============================] - 0s 2ms/step - loss: 1.4555 - mae: 1.4555 - val_loss: 1.6716 - val_mae: 1.6716 - lr: 0.0010\n",
      "Epoch 114/1000\n",
      "28/28 [==============================] - 0s 2ms/step - loss: 1.4786 - mae: 1.4786 - val_loss: 1.6440 - val_mae: 1.6440 - lr: 0.0010\n",
      "Epoch 115/1000\n",
      "28/28 [==============================] - 0s 3ms/step - loss: 1.4806 - mae: 1.4806 - val_loss: 1.6257 - val_mae: 1.6257 - lr: 0.0010\n",
      "Epoch 116/1000\n",
      "28/28 [==============================] - 0s 2ms/step - loss: 1.4854 - mae: 1.4854 - val_loss: 1.6394 - val_mae: 1.6394 - lr: 0.0010\n",
      "Epoch 117/1000\n",
      "28/28 [==============================] - 0s 2ms/step - loss: 1.4762 - mae: 1.4762 - val_loss: 1.6641 - val_mae: 1.6641 - lr: 0.0010\n",
      "Epoch 118/1000\n",
      "28/28 [==============================] - 0s 2ms/step - loss: 1.4931 - mae: 1.4931 - val_loss: 1.6322 - val_mae: 1.6322 - lr: 0.0010\n",
      "Epoch 119/1000\n",
      "28/28 [==============================] - 0s 2ms/step - loss: 1.4613 - mae: 1.4613 - val_loss: 1.6264 - val_mae: 1.6264 - lr: 0.0010\n",
      "Epoch 120/1000\n",
      "28/28 [==============================] - 0s 3ms/step - loss: 1.4909 - mae: 1.4909 - val_loss: 1.6150 - val_mae: 1.6150 - lr: 0.0010\n",
      "Epoch 121/1000\n",
      "28/28 [==============================] - 0s 2ms/step - loss: 1.4584 - mae: 1.4584 - val_loss: 1.6486 - val_mae: 1.6486 - lr: 0.0010\n",
      "Epoch 122/1000\n",
      "28/28 [==============================] - 0s 2ms/step - loss: 1.4828 - mae: 1.4828 - val_loss: 1.6404 - val_mae: 1.6404 - lr: 0.0010\n",
      "Epoch 123/1000\n",
      "28/28 [==============================] - 0s 2ms/step - loss: 1.4738 - mae: 1.4738 - val_loss: 1.6181 - val_mae: 1.6181 - lr: 0.0010\n",
      "Epoch 124/1000\n",
      "28/28 [==============================] - 0s 3ms/step - loss: 1.4757 - mae: 1.4757 - val_loss: 1.6141 - val_mae: 1.6141 - lr: 0.0010\n",
      "Epoch 125/1000\n",
      "28/28 [==============================] - 0s 3ms/step - loss: 1.4525 - mae: 1.4525 - val_loss: 1.6106 - val_mae: 1.6106 - lr: 0.0010\n",
      "Epoch 126/1000\n",
      "28/28 [==============================] - 0s 2ms/step - loss: 1.4590 - mae: 1.4590 - val_loss: 1.6431 - val_mae: 1.6431 - lr: 0.0010\n",
      "Epoch 127/1000\n",
      "28/28 [==============================] - 0s 2ms/step - loss: 1.4827 - mae: 1.4827 - val_loss: 1.6263 - val_mae: 1.6263 - lr: 0.0010\n",
      "Epoch 128/1000\n",
      "28/28 [==============================] - 0s 2ms/step - loss: 1.4451 - mae: 1.4451 - val_loss: 1.6301 - val_mae: 1.6301 - lr: 0.0010\n",
      "Epoch 129/1000\n",
      "28/28 [==============================] - 0s 4ms/step - loss: 1.4616 - mae: 1.4616 - val_loss: 1.6057 - val_mae: 1.6057 - lr: 0.0010\n",
      "Epoch 130/1000\n",
      "28/28 [==============================] - 0s 2ms/step - loss: 1.4367 - mae: 1.4367 - val_loss: 1.6963 - val_mae: 1.6963 - lr: 0.0010\n",
      "Epoch 131/1000\n",
      "28/28 [==============================] - 0s 3ms/step - loss: 1.4764 - mae: 1.4764 - val_loss: 1.6023 - val_mae: 1.6023 - lr: 0.0010\n",
      "Epoch 132/1000\n",
      "28/28 [==============================] - 0s 2ms/step - loss: 1.4597 - mae: 1.4597 - val_loss: 1.6056 - val_mae: 1.6056 - lr: 0.0010\n",
      "Epoch 133/1000\n",
      "28/28 [==============================] - 0s 2ms/step - loss: 1.4424 - mae: 1.4424 - val_loss: 1.6127 - val_mae: 1.6127 - lr: 0.0010\n",
      "Epoch 134/1000\n",
      "28/28 [==============================] - 0s 3ms/step - loss: 1.4623 - mae: 1.4623 - val_loss: 1.5943 - val_mae: 1.5943 - lr: 0.0010\n",
      "Epoch 135/1000\n",
      "28/28 [==============================] - 0s 3ms/step - loss: 1.4751 - mae: 1.4751 - val_loss: 1.6116 - val_mae: 1.6116 - lr: 0.0010\n",
      "Epoch 136/1000\n",
      "28/28 [==============================] - 0s 4ms/step - loss: 1.4426 - mae: 1.4426 - val_loss: 1.5945 - val_mae: 1.5945 - lr: 0.0010\n",
      "Epoch 137/1000\n",
      "28/28 [==============================] - 0s 5ms/step - loss: 1.4564 - mae: 1.4564 - val_loss: 1.5921 - val_mae: 1.5921 - lr: 0.0010\n",
      "Epoch 138/1000\n",
      "28/28 [==============================] - 0s 3ms/step - loss: 1.4796 - mae: 1.4796 - val_loss: 1.5811 - val_mae: 1.5811 - lr: 0.0010\n",
      "Epoch 139/1000\n",
      "28/28 [==============================] - 0s 3ms/step - loss: 1.4788 - mae: 1.4788 - val_loss: 1.5987 - val_mae: 1.5987 - lr: 0.0010\n",
      "Epoch 140/1000\n",
      "28/28 [==============================] - 0s 3ms/step - loss: 1.4424 - mae: 1.4424 - val_loss: 1.5627 - val_mae: 1.5627 - lr: 0.0010\n",
      "Epoch 141/1000\n",
      "28/28 [==============================] - 0s 2ms/step - loss: 1.4369 - mae: 1.4369 - val_loss: 1.5866 - val_mae: 1.5866 - lr: 0.0010\n",
      "Epoch 142/1000\n",
      "28/28 [==============================] - 0s 2ms/step - loss: 1.4658 - mae: 1.4658 - val_loss: 1.5740 - val_mae: 1.5740 - lr: 0.0010\n",
      "Epoch 143/1000\n",
      "28/28 [==============================] - 0s 2ms/step - loss: 1.4562 - mae: 1.4562 - val_loss: 1.5739 - val_mae: 1.5739 - lr: 0.0010\n",
      "Epoch 144/1000\n",
      "28/28 [==============================] - 0s 2ms/step - loss: 1.4477 - mae: 1.4477 - val_loss: 1.5890 - val_mae: 1.5890 - lr: 0.0010\n",
      "Epoch 145/1000\n",
      "28/28 [==============================] - 0s 2ms/step - loss: 1.4458 - mae: 1.4458 - val_loss: 1.5932 - val_mae: 1.5932 - lr: 0.0010\n",
      "Epoch 146/1000\n",
      "28/28 [==============================] - 0s 2ms/step - loss: 1.4233 - mae: 1.4233 - val_loss: 1.5781 - val_mae: 1.5781 - lr: 0.0010\n",
      "Epoch 147/1000\n",
      "28/28 [==============================] - 0s 3ms/step - loss: 1.4498 - mae: 1.4498 - val_loss: 1.5483 - val_mae: 1.5483 - lr: 0.0010\n",
      "Epoch 148/1000\n",
      "28/28 [==============================] - 0s 2ms/step - loss: 1.4420 - mae: 1.4420 - val_loss: 1.5827 - val_mae: 1.5827 - lr: 0.0010\n",
      "Epoch 149/1000\n",
      "28/28 [==============================] - 0s 2ms/step - loss: 1.4472 - mae: 1.4472 - val_loss: 1.5604 - val_mae: 1.5604 - lr: 0.0010\n",
      "Epoch 150/1000\n",
      "28/28 [==============================] - 0s 2ms/step - loss: 1.4598 - mae: 1.4598 - val_loss: 1.5867 - val_mae: 1.5867 - lr: 0.0010\n",
      "Epoch 151/1000\n",
      "28/28 [==============================] - 0s 2ms/step - loss: 1.4470 - mae: 1.4470 - val_loss: 1.5631 - val_mae: 1.5631 - lr: 0.0010\n",
      "Epoch 152/1000\n",
      "28/28 [==============================] - 0s 2ms/step - loss: 1.4341 - mae: 1.4341 - val_loss: 1.5792 - val_mae: 1.5792 - lr: 0.0010\n",
      "Epoch 153/1000\n",
      "28/28 [==============================] - 0s 2ms/step - loss: 1.4411 - mae: 1.4411 - val_loss: 1.5557 - val_mae: 1.5557 - lr: 0.0010\n",
      "Epoch 154/1000\n",
      "28/28 [==============================] - 0s 3ms/step - loss: 1.4361 - mae: 1.4361 - val_loss: 1.5611 - val_mae: 1.5611 - lr: 0.0010\n",
      "Epoch 155/1000\n",
      "28/28 [==============================] - 0s 4ms/step - loss: 1.4178 - mae: 1.4178 - val_loss: 1.5651 - val_mae: 1.5651 - lr: 0.0010\n",
      "Epoch 156/1000\n",
      "28/28 [==============================] - 0s 4ms/step - loss: 1.4234 - mae: 1.4234 - val_loss: 1.6248 - val_mae: 1.6248 - lr: 0.0010\n",
      "Epoch 157/1000\n",
      "28/28 [==============================] - 0s 3ms/step - loss: 1.4382 - mae: 1.4382 - val_loss: 1.5676 - val_mae: 1.5676 - lr: 0.0010\n",
      "Epoch 158/1000\n",
      "28/28 [==============================] - 0s 3ms/step - loss: 1.4509 - mae: 1.4509 - val_loss: 1.5662 - val_mae: 1.5662 - lr: 0.0010\n",
      "Epoch 159/1000\n",
      "28/28 [==============================] - 0s 3ms/step - loss: 1.4276 - mae: 1.4276 - val_loss: 1.5589 - val_mae: 1.5589 - lr: 0.0010\n",
      "Epoch 160/1000\n",
      "28/28 [==============================] - 0s 4ms/step - loss: 1.4416 - mae: 1.4416 - val_loss: 1.5449 - val_mae: 1.5449 - lr: 0.0010\n",
      "Epoch 161/1000\n",
      "28/28 [==============================] - 0s 4ms/step - loss: 1.4424 - mae: 1.4424 - val_loss: 1.5358 - val_mae: 1.5358 - lr: 0.0010\n",
      "Epoch 162/1000\n",
      "28/28 [==============================] - 0s 3ms/step - loss: 1.4326 - mae: 1.4326 - val_loss: 1.5533 - val_mae: 1.5533 - lr: 0.0010\n",
      "Epoch 163/1000\n",
      "28/28 [==============================] - 0s 2ms/step - loss: 1.4314 - mae: 1.4314 - val_loss: 1.5739 - val_mae: 1.5739 - lr: 0.0010\n",
      "Epoch 164/1000\n",
      "28/28 [==============================] - 0s 2ms/step - loss: 1.4198 - mae: 1.4198 - val_loss: 1.5525 - val_mae: 1.5525 - lr: 0.0010\n",
      "Epoch 165/1000\n",
      "28/28 [==============================] - 0s 3ms/step - loss: 1.4361 - mae: 1.4361 - val_loss: 1.5614 - val_mae: 1.5614 - lr: 0.0010\n",
      "Epoch 166/1000\n",
      "28/28 [==============================] - 0s 3ms/step - loss: 1.4509 - mae: 1.4509 - val_loss: 1.5442 - val_mae: 1.5442 - lr: 0.0010\n",
      "Epoch 167/1000\n",
      "28/28 [==============================] - 0s 2ms/step - loss: 1.4265 - mae: 1.4265 - val_loss: 1.5501 - val_mae: 1.5501 - lr: 0.0010\n",
      "Epoch 168/1000\n",
      "28/28 [==============================] - 0s 3ms/step - loss: 1.4206 - mae: 1.4206 - val_loss: 1.5574 - val_mae: 1.5574 - lr: 0.0010\n"
     ]
    },
    {
     "name": "stdout",
     "output_type": "stream",
     "text": [
      "Epoch 169/1000\n",
      "28/28 [==============================] - 0s 6ms/step - loss: 1.4186 - mae: 1.4186 - val_loss: 1.5303 - val_mae: 1.5303 - lr: 0.0010\n",
      "Epoch 170/1000\n",
      "28/28 [==============================] - 0s 3ms/step - loss: 1.4187 - mae: 1.4187 - val_loss: 1.5588 - val_mae: 1.5588 - lr: 0.0010\n",
      "Epoch 171/1000\n",
      "28/28 [==============================] - 0s 3ms/step - loss: 1.4398 - mae: 1.4398 - val_loss: 1.5463 - val_mae: 1.5463 - lr: 0.0010\n",
      "Epoch 172/1000\n",
      "28/28 [==============================] - 0s 3ms/step - loss: 1.4258 - mae: 1.4258 - val_loss: 1.5457 - val_mae: 1.5457 - lr: 0.0010\n",
      "Epoch 173/1000\n",
      "28/28 [==============================] - 0s 3ms/step - loss: 1.4485 - mae: 1.4485 - val_loss: 1.5575 - val_mae: 1.5575 - lr: 0.0010\n",
      "Epoch 174/1000\n",
      "28/28 [==============================] - 0s 3ms/step - loss: 1.4325 - mae: 1.4325 - val_loss: 1.6303 - val_mae: 1.6303 - lr: 0.0010\n",
      "Epoch 175/1000\n",
      "28/28 [==============================] - 0s 3ms/step - loss: 1.4464 - mae: 1.4464 - val_loss: 1.5349 - val_mae: 1.5349 - lr: 0.0010\n",
      "Epoch 176/1000\n",
      "28/28 [==============================] - 0s 3ms/step - loss: 1.4524 - mae: 1.4524 - val_loss: 1.5824 - val_mae: 1.5824 - lr: 0.0010\n",
      "Epoch 177/1000\n",
      "28/28 [==============================] - 0s 3ms/step - loss: 1.4559 - mae: 1.4559 - val_loss: 1.5381 - val_mae: 1.5381 - lr: 0.0010\n",
      "Epoch 178/1000\n",
      "28/28 [==============================] - 0s 2ms/step - loss: 1.4304 - mae: 1.4304 - val_loss: 1.5647 - val_mae: 1.5647 - lr: 0.0010\n",
      "Epoch 179/1000\n",
      "28/28 [==============================] - 0s 2ms/step - loss: 1.4163 - mae: 1.4163 - val_loss: 1.5739 - val_mae: 1.5739 - lr: 0.0010\n",
      "Epoch 180/1000\n",
      "28/28 [==============================] - 0s 2ms/step - loss: 1.4337 - mae: 1.4337 - val_loss: 1.5512 - val_mae: 1.5512 - lr: 0.0010\n",
      "Epoch 181/1000\n",
      "28/28 [==============================] - 0s 2ms/step - loss: 1.4209 - mae: 1.4209 - val_loss: 1.5828 - val_mae: 1.5828 - lr: 0.0010\n",
      "Epoch 182/1000\n",
      "28/28 [==============================] - 0s 2ms/step - loss: 1.4305 - mae: 1.4305 - val_loss: 1.5771 - val_mae: 1.5771 - lr: 0.0010\n",
      "Epoch 183/1000\n",
      "28/28 [==============================] - 0s 2ms/step - loss: 1.4277 - mae: 1.4277 - val_loss: 1.5391 - val_mae: 1.5391 - lr: 0.0010\n",
      "Epoch 184/1000\n",
      "28/28 [==============================] - 0s 2ms/step - loss: 1.4177 - mae: 1.4177 - val_loss: 1.5524 - val_mae: 1.5524 - lr: 0.0010\n",
      "Epoch 185/1000\n",
      "28/28 [==============================] - 0s 2ms/step - loss: 1.4064 - mae: 1.4064 - val_loss: 1.5670 - val_mae: 1.5670 - lr: 0.0010\n",
      "Epoch 186/1000\n",
      "28/28 [==============================] - 0s 2ms/step - loss: 1.4130 - mae: 1.4130 - val_loss: 1.5648 - val_mae: 1.5648 - lr: 0.0010\n",
      "Epoch 187/1000\n",
      "28/28 [==============================] - 0s 2ms/step - loss: 1.4147 - mae: 1.4147 - val_loss: 1.6092 - val_mae: 1.6092 - lr: 0.0010\n",
      "Epoch 188/1000\n",
      "28/28 [==============================] - 0s 3ms/step - loss: 1.4236 - mae: 1.4236 - val_loss: 1.5657 - val_mae: 1.5657 - lr: 0.0010\n",
      "Epoch 189/1000\n",
      "28/28 [==============================] - 0s 2ms/step - loss: 1.4173 - mae: 1.4173 - val_loss: 1.5810 - val_mae: 1.5810 - lr: 0.0010\n",
      "Epoch 190/1000\n",
      "28/28 [==============================] - 0s 3ms/step - loss: 1.4289 - mae: 1.4289 - val_loss: 1.6032 - val_mae: 1.6032 - lr: 0.0010\n",
      "Epoch 191/1000\n",
      "28/28 [==============================] - 0s 4ms/step - loss: 1.4247 - mae: 1.4247 - val_loss: 1.5300 - val_mae: 1.5300 - lr: 0.0010\n",
      "Epoch 192/1000\n",
      "28/28 [==============================] - 0s 3ms/step - loss: 1.4023 - mae: 1.4023 - val_loss: 1.5704 - val_mae: 1.5704 - lr: 0.0010\n",
      "Epoch 193/1000\n",
      "28/28 [==============================] - 0s 2ms/step - loss: 1.4354 - mae: 1.4354 - val_loss: 1.5522 - val_mae: 1.5522 - lr: 0.0010\n",
      "Epoch 194/1000\n",
      "28/28 [==============================] - 0s 2ms/step - loss: 1.3909 - mae: 1.3909 - val_loss: 1.5599 - val_mae: 1.5599 - lr: 0.0010\n",
      "Epoch 195/1000\n",
      "28/28 [==============================] - 0s 2ms/step - loss: 1.4155 - mae: 1.4155 - val_loss: 1.5373 - val_mae: 1.5373 - lr: 0.0010\n",
      "Epoch 196/1000\n",
      "28/28 [==============================] - 0s 2ms/step - loss: 1.4247 - mae: 1.4247 - val_loss: 1.5349 - val_mae: 1.5349 - lr: 0.0010\n",
      "Epoch 197/1000\n",
      "28/28 [==============================] - 0s 2ms/step - loss: 1.4262 - mae: 1.4262 - val_loss: 1.5381 - val_mae: 1.5381 - lr: 0.0010\n",
      "Epoch 198/1000\n",
      "28/28 [==============================] - 0s 2ms/step - loss: 1.4288 - mae: 1.4288 - val_loss: 1.5632 - val_mae: 1.5632 - lr: 0.0010\n",
      "Epoch 199/1000\n",
      "28/28 [==============================] - 0s 2ms/step - loss: 1.4003 - mae: 1.4003 - val_loss: 1.5758 - val_mae: 1.5758 - lr: 0.0010\n",
      "Epoch 200/1000\n",
      "28/28 [==============================] - 0s 2ms/step - loss: 1.4353 - mae: 1.4353 - val_loss: 1.5539 - val_mae: 1.5539 - lr: 0.0010\n",
      "Epoch 201/1000\n",
      "28/28 [==============================] - 0s 2ms/step - loss: 1.4237 - mae: 1.4237 - val_loss: 1.5396 - val_mae: 1.5396 - lr: 0.0010\n",
      "Epoch 202/1000\n",
      "28/28 [==============================] - 0s 2ms/step - loss: 1.4025 - mae: 1.4025 - val_loss: 1.5815 - val_mae: 1.5815 - lr: 0.0010\n",
      "Epoch 203/1000\n",
      "28/28 [==============================] - 0s 2ms/step - loss: 1.4162 - mae: 1.4162 - val_loss: 1.5608 - val_mae: 1.5608 - lr: 0.0010\n",
      "Epoch 204/1000\n",
      "28/28 [==============================] - 0s 3ms/step - loss: 1.4173 - mae: 1.4173 - val_loss: 1.5478 - val_mae: 1.5478 - lr: 0.0010\n",
      "Epoch 205/1000\n",
      "28/28 [==============================] - 0s 2ms/step - loss: 1.4273 - mae: 1.4273 - val_loss: 1.5391 - val_mae: 1.5391 - lr: 0.0010\n",
      "Epoch 206/1000\n",
      "28/28 [==============================] - 0s 3ms/step - loss: 1.4450 - mae: 1.4450 - val_loss: 1.5523 - val_mae: 1.5523 - lr: 0.0010\n",
      "Epoch 207/1000\n",
      "28/28 [==============================] - 0s 2ms/step - loss: 1.4138 - mae: 1.4138 - val_loss: 1.5437 - val_mae: 1.5437 - lr: 0.0010\n",
      "Epoch 208/1000\n",
      "28/28 [==============================] - 0s 3ms/step - loss: 1.4095 - mae: 1.4095 - val_loss: 1.5397 - val_mae: 1.5397 - lr: 0.0010\n",
      "Epoch 209/1000\n",
      "28/28 [==============================] - 0s 2ms/step - loss: 1.4085 - mae: 1.4085 - val_loss: 1.5612 - val_mae: 1.5612 - lr: 0.0010\n",
      "Epoch 210/1000\n",
      "28/28 [==============================] - 0s 2ms/step - loss: 1.4173 - mae: 1.4173 - val_loss: 1.5331 - val_mae: 1.5331 - lr: 0.0010\n",
      "Epoch 211/1000\n",
      "28/28 [==============================] - 0s 2ms/step - loss: 1.4109 - mae: 1.4109 - val_loss: 1.5351 - val_mae: 1.5351 - lr: 0.0010\n",
      "Epoch 212/1000\n",
      "28/28 [==============================] - 0s 2ms/step - loss: 1.4169 - mae: 1.4169 - val_loss: 1.5981 - val_mae: 1.5981 - lr: 0.0010\n",
      "Epoch 213/1000\n",
      "28/28 [==============================] - 0s 2ms/step - loss: 1.4184 - mae: 1.4184 - val_loss: 1.5342 - val_mae: 1.5342 - lr: 0.0010\n",
      "Epoch 214/1000\n",
      "28/28 [==============================] - 0s 2ms/step - loss: 1.4099 - mae: 1.4099 - val_loss: 1.5447 - val_mae: 1.5447 - lr: 0.0010\n",
      "Epoch 215/1000\n",
      "28/28 [==============================] - 0s 2ms/step - loss: 1.4162 - mae: 1.4162 - val_loss: 1.5336 - val_mae: 1.5336 - lr: 0.0010\n",
      "Epoch 216/1000\n",
      "28/28 [==============================] - 0s 2ms/step - loss: 1.4140 - mae: 1.4140 - val_loss: 1.5764 - val_mae: 1.5764 - lr: 0.0010\n",
      "Epoch 217/1000\n",
      "28/28 [==============================] - 0s 3ms/step - loss: 1.3946 - mae: 1.3946 - val_loss: 1.5736 - val_mae: 1.5736 - lr: 0.0010\n",
      "Epoch 218/1000\n",
      "28/28 [==============================] - 0s 2ms/step - loss: 1.4109 - mae: 1.4109 - val_loss: 1.5443 - val_mae: 1.5443 - lr: 0.0010\n",
      "Epoch 219/1000\n",
      "28/28 [==============================] - 0s 2ms/step - loss: 1.3975 - mae: 1.3975 - val_loss: 1.6268 - val_mae: 1.6268 - lr: 0.0010\n",
      "Epoch 220/1000\n",
      "28/28 [==============================] - 0s 2ms/step - loss: 1.4564 - mae: 1.4564 - val_loss: 1.5484 - val_mae: 1.5484 - lr: 0.0010\n",
      "Epoch 221/1000\n",
      "28/28 [==============================] - 0s 2ms/step - loss: 1.4143 - mae: 1.4143 - val_loss: 1.5823 - val_mae: 1.5823 - lr: 0.0010\n",
      "Epoch 222/1000\n",
      "28/28 [==============================] - 0s 2ms/step - loss: 1.4332 - mae: 1.4332 - val_loss: 1.5435 - val_mae: 1.5435 - lr: 0.0010\n",
      "Epoch 223/1000\n",
      "28/28 [==============================] - 0s 2ms/step - loss: 1.4132 - mae: 1.4132 - val_loss: 1.5404 - val_mae: 1.5404 - lr: 0.0010\n",
      "Epoch 224/1000\n",
      "28/28 [==============================] - 0s 2ms/step - loss: 1.4130 - mae: 1.4130 - val_loss: 1.5418 - val_mae: 1.5418 - lr: 0.0010\n"
     ]
    },
    {
     "name": "stdout",
     "output_type": "stream",
     "text": [
      "Epoch 225/1000\n",
      "28/28 [==============================] - 0s 2ms/step - loss: 1.3997 - mae: 1.3997 - val_loss: 1.6532 - val_mae: 1.6532 - lr: 0.0010\n",
      "Epoch 226/1000\n",
      "28/28 [==============================] - 0s 3ms/step - loss: 1.4038 - mae: 1.4038 - val_loss: 1.5245 - val_mae: 1.5245 - lr: 0.0010\n",
      "Epoch 227/1000\n",
      "28/28 [==============================] - 0s 3ms/step - loss: 1.4305 - mae: 1.4305 - val_loss: 1.6026 - val_mae: 1.6026 - lr: 0.0010\n",
      "Epoch 228/1000\n",
      "28/28 [==============================] - 0s 2ms/step - loss: 1.4308 - mae: 1.4308 - val_loss: 1.5455 - val_mae: 1.5455 - lr: 0.0010\n",
      "Epoch 229/1000\n",
      "28/28 [==============================] - 0s 3ms/step - loss: 1.4299 - mae: 1.4299 - val_loss: 1.5396 - val_mae: 1.5396 - lr: 0.0010\n",
      "Epoch 230/1000\n",
      "28/28 [==============================] - 0s 2ms/step - loss: 1.4223 - mae: 1.4223 - val_loss: 1.5338 - val_mae: 1.5338 - lr: 0.0010\n",
      "Epoch 231/1000\n",
      "28/28 [==============================] - 0s 2ms/step - loss: 1.3879 - mae: 1.3879 - val_loss: 1.5340 - val_mae: 1.5340 - lr: 0.0010\n",
      "Epoch 232/1000\n",
      "28/28 [==============================] - 0s 3ms/step - loss: 1.4331 - mae: 1.4331 - val_loss: 1.5629 - val_mae: 1.5629 - lr: 0.0010\n",
      "Epoch 233/1000\n",
      "28/28 [==============================] - 0s 3ms/step - loss: 1.3967 - mae: 1.3967 - val_loss: 1.5580 - val_mae: 1.5580 - lr: 0.0010\n",
      "Epoch 234/1000\n",
      "28/28 [==============================] - 0s 2ms/step - loss: 1.4177 - mae: 1.4177 - val_loss: 1.5534 - val_mae: 1.5534 - lr: 0.0010\n",
      "Epoch 235/1000\n",
      "28/28 [==============================] - 0s 3ms/step - loss: 1.3974 - mae: 1.3974 - val_loss: 1.5163 - val_mae: 1.5163 - lr: 0.0010\n",
      "Epoch 236/1000\n",
      "28/28 [==============================] - 0s 2ms/step - loss: 1.4190 - mae: 1.4190 - val_loss: 1.5305 - val_mae: 1.5305 - lr: 0.0010\n",
      "Epoch 237/1000\n",
      "28/28 [==============================] - 0s 3ms/step - loss: 1.4123 - mae: 1.4123 - val_loss: 1.5272 - val_mae: 1.5272 - lr: 0.0010\n",
      "Epoch 238/1000\n",
      "28/28 [==============================] - 0s 2ms/step - loss: 1.4200 - mae: 1.4200 - val_loss: 1.5439 - val_mae: 1.5439 - lr: 0.0010\n",
      "Epoch 239/1000\n",
      "28/28 [==============================] - 0s 3ms/step - loss: 1.4032 - mae: 1.4032 - val_loss: 1.5307 - val_mae: 1.5307 - lr: 0.0010\n",
      "Epoch 240/1000\n",
      "28/28 [==============================] - 0s 4ms/step - loss: 1.4173 - mae: 1.4173 - val_loss: 1.5652 - val_mae: 1.5652 - lr: 0.0010\n",
      "Epoch 241/1000\n",
      "28/28 [==============================] - 0s 3ms/step - loss: 1.4087 - mae: 1.4087 - val_loss: 1.5255 - val_mae: 1.5255 - lr: 0.0010\n",
      "Epoch 242/1000\n",
      "28/28 [==============================] - 0s 3ms/step - loss: 1.4030 - mae: 1.4030 - val_loss: 1.5524 - val_mae: 1.5524 - lr: 0.0010\n",
      "Epoch 243/1000\n",
      "28/28 [==============================] - 0s 3ms/step - loss: 1.4057 - mae: 1.4057 - val_loss: 1.5365 - val_mae: 1.5365 - lr: 0.0010\n",
      "Epoch 244/1000\n",
      "28/28 [==============================] - 0s 2ms/step - loss: 1.4374 - mae: 1.4374 - val_loss: 1.5365 - val_mae: 1.5365 - lr: 0.0010\n",
      "Epoch 245/1000\n",
      "28/28 [==============================] - 0s 3ms/step - loss: 1.4117 - mae: 1.4117 - val_loss: 1.5443 - val_mae: 1.5443 - lr: 0.0010\n",
      "Epoch 246/1000\n",
      "28/28 [==============================] - 0s 2ms/step - loss: 1.4203 - mae: 1.4203 - val_loss: 1.5428 - val_mae: 1.5428 - lr: 0.0010\n",
      "Epoch 247/1000\n",
      "28/28 [==============================] - 0s 2ms/step - loss: 1.3982 - mae: 1.3982 - val_loss: 1.5345 - val_mae: 1.5345 - lr: 0.0010\n",
      "Epoch 248/1000\n",
      "28/28 [==============================] - 0s 3ms/step - loss: 1.4345 - mae: 1.4345 - val_loss: 1.5653 - val_mae: 1.5653 - lr: 0.0010\n",
      "Epoch 249/1000\n",
      "28/28 [==============================] - 0s 3ms/step - loss: 1.4226 - mae: 1.4226 - val_loss: 1.5313 - val_mae: 1.5313 - lr: 0.0010\n",
      "Epoch 250/1000\n",
      "28/28 [==============================] - 0s 3ms/step - loss: 1.4090 - mae: 1.4090 - val_loss: 1.5509 - val_mae: 1.5509 - lr: 0.0010\n",
      "Epoch 251/1000\n",
      "28/28 [==============================] - 0s 2ms/step - loss: 1.4229 - mae: 1.4229 - val_loss: 1.5357 - val_mae: 1.5357 - lr: 0.0010\n",
      "Epoch 252/1000\n",
      "28/28 [==============================] - 0s 2ms/step - loss: 1.4097 - mae: 1.4097 - val_loss: 1.5495 - val_mae: 1.5495 - lr: 0.0010\n",
      "Epoch 253/1000\n",
      "28/28 [==============================] - 0s 2ms/step - loss: 1.4052 - mae: 1.4052 - val_loss: 1.5396 - val_mae: 1.5396 - lr: 0.0010\n",
      "Epoch 254/1000\n",
      "28/28 [==============================] - 0s 2ms/step - loss: 1.4189 - mae: 1.4189 - val_loss: 1.5525 - val_mae: 1.5525 - lr: 0.0010\n",
      "Epoch 255/1000\n",
      "28/28 [==============================] - 0s 2ms/step - loss: 1.4040 - mae: 1.4040 - val_loss: 1.5466 - val_mae: 1.5466 - lr: 0.0010\n",
      "Epoch 256/1000\n",
      "28/28 [==============================] - 0s 2ms/step - loss: 1.3846 - mae: 1.3846 - val_loss: 1.5312 - val_mae: 1.5312 - lr: 0.0010\n",
      "Epoch 257/1000\n",
      "28/28 [==============================] - 0s 2ms/step - loss: 1.4106 - mae: 1.4106 - val_loss: 1.5430 - val_mae: 1.5430 - lr: 0.0010\n",
      "Epoch 258/1000\n",
      "28/28 [==============================] - 0s 3ms/step - loss: 1.4146 - mae: 1.4146 - val_loss: 1.5271 - val_mae: 1.5271 - lr: 0.0010\n",
      "Epoch 259/1000\n",
      "28/28 [==============================] - 0s 4ms/step - loss: 1.3970 - mae: 1.3970 - val_loss: 1.5339 - val_mae: 1.5339 - lr: 0.0010\n",
      "Epoch 260/1000\n",
      "28/28 [==============================] - 0s 2ms/step - loss: 1.4346 - mae: 1.4346 - val_loss: 1.5449 - val_mae: 1.5449 - lr: 0.0010\n",
      "Epoch 261/1000\n",
      "28/28 [==============================] - 0s 2ms/step - loss: 1.4043 - mae: 1.4043 - val_loss: 1.5369 - val_mae: 1.5369 - lr: 0.0010\n",
      "Epoch 262/1000\n",
      "28/28 [==============================] - 0s 2ms/step - loss: 1.3865 - mae: 1.3865 - val_loss: 1.5180 - val_mae: 1.5180 - lr: 0.0010\n",
      "Epoch 263/1000\n",
      "28/28 [==============================] - 0s 3ms/step - loss: 1.4075 - mae: 1.4075 - val_loss: 1.5134 - val_mae: 1.5134 - lr: 0.0010\n",
      "Epoch 264/1000\n",
      "28/28 [==============================] - 0s 2ms/step - loss: 1.4076 - mae: 1.4076 - val_loss: 1.5465 - val_mae: 1.5465 - lr: 0.0010\n",
      "Epoch 265/1000\n",
      "28/28 [==============================] - 0s 3ms/step - loss: 1.3997 - mae: 1.3997 - val_loss: 1.5900 - val_mae: 1.5900 - lr: 0.0010\n",
      "Epoch 266/1000\n",
      "28/28 [==============================] - 0s 2ms/step - loss: 1.4187 - mae: 1.4187 - val_loss: 1.5471 - val_mae: 1.5471 - lr: 0.0010\n",
      "Epoch 267/1000\n",
      "28/28 [==============================] - 0s 3ms/step - loss: 1.4089 - mae: 1.4089 - val_loss: 1.5488 - val_mae: 1.5488 - lr: 0.0010\n",
      "Epoch 268/1000\n",
      "28/28 [==============================] - 0s 2ms/step - loss: 1.4094 - mae: 1.4094 - val_loss: 1.5804 - val_mae: 1.5804 - lr: 0.0010\n",
      "Epoch 269/1000\n",
      "28/28 [==============================] - 0s 2ms/step - loss: 1.4443 - mae: 1.4443 - val_loss: 1.5396 - val_mae: 1.5396 - lr: 0.0010\n",
      "Epoch 270/1000\n",
      "28/28 [==============================] - 0s 2ms/step - loss: 1.4106 - mae: 1.4106 - val_loss: 1.5551 - val_mae: 1.5551 - lr: 0.0010\n",
      "Epoch 271/1000\n",
      "28/28 [==============================] - 0s 2ms/step - loss: 1.4156 - mae: 1.4156 - val_loss: 1.5339 - val_mae: 1.5339 - lr: 0.0010\n",
      "Epoch 272/1000\n",
      "28/28 [==============================] - 0s 2ms/step - loss: 1.4224 - mae: 1.4224 - val_loss: 1.5420 - val_mae: 1.5420 - lr: 0.0010\n",
      "Epoch 273/1000\n",
      "28/28 [==============================] - 0s 2ms/step - loss: 1.4008 - mae: 1.4008 - val_loss: 1.5405 - val_mae: 1.5405 - lr: 0.0010\n",
      "Epoch 274/1000\n",
      "28/28 [==============================] - 0s 2ms/step - loss: 1.3952 - mae: 1.3952 - val_loss: 1.5497 - val_mae: 1.5497 - lr: 0.0010\n",
      "Epoch 275/1000\n",
      "28/28 [==============================] - 0s 2ms/step - loss: 1.4133 - mae: 1.4133 - val_loss: 1.5531 - val_mae: 1.5531 - lr: 0.0010\n",
      "Epoch 276/1000\n",
      "28/28 [==============================] - 0s 2ms/step - loss: 1.4091 - mae: 1.4091 - val_loss: 1.5563 - val_mae: 1.5563 - lr: 0.0010\n",
      "Epoch 277/1000\n",
      "28/28 [==============================] - 0s 2ms/step - loss: 1.3809 - mae: 1.3809 - val_loss: 1.5247 - val_mae: 1.5247 - lr: 0.0010\n",
      "Epoch 278/1000\n",
      "28/28 [==============================] - 0s 2ms/step - loss: 1.3972 - mae: 1.3972 - val_loss: 1.5348 - val_mae: 1.5348 - lr: 0.0010\n",
      "Epoch 279/1000\n",
      "28/28 [==============================] - 0s 2ms/step - loss: 1.4180 - mae: 1.4180 - val_loss: 1.5515 - val_mae: 1.5515 - lr: 0.0010\n",
      "Epoch 280/1000\n",
      "28/28 [==============================] - 0s 2ms/step - loss: 1.3997 - mae: 1.3997 - val_loss: 1.5179 - val_mae: 1.5179 - lr: 0.0010\n"
     ]
    },
    {
     "name": "stdout",
     "output_type": "stream",
     "text": [
      "Epoch 281/1000\n",
      "28/28 [==============================] - 0s 2ms/step - loss: 1.4167 - mae: 1.4167 - val_loss: 1.5505 - val_mae: 1.5505 - lr: 0.0010\n",
      "Epoch 282/1000\n",
      "28/28 [==============================] - 0s 2ms/step - loss: 1.4111 - mae: 1.4111 - val_loss: 1.5431 - val_mae: 1.5431 - lr: 0.0010\n",
      "Epoch 283/1000\n",
      "28/28 [==============================] - 0s 2ms/step - loss: 1.3921 - mae: 1.3921 - val_loss: 1.5510 - val_mae: 1.5510 - lr: 0.0010\n",
      "Epoch 284/1000\n",
      "28/28 [==============================] - 0s 2ms/step - loss: 1.4054 - mae: 1.4054 - val_loss: 1.5338 - val_mae: 1.5338 - lr: 0.0010\n",
      "Epoch 285/1000\n",
      "28/28 [==============================] - 0s 2ms/step - loss: 1.4091 - mae: 1.4091 - val_loss: 1.5495 - val_mae: 1.5495 - lr: 0.0010\n",
      "Epoch 286/1000\n",
      "28/28 [==============================] - 0s 2ms/step - loss: 1.4075 - mae: 1.4075 - val_loss: 1.5919 - val_mae: 1.5919 - lr: 0.0010\n",
      "Epoch 287/1000\n",
      "28/28 [==============================] - 0s 2ms/step - loss: 1.3820 - mae: 1.3820 - val_loss: 1.5384 - val_mae: 1.5384 - lr: 0.0010\n",
      "Epoch 288/1000\n",
      "28/28 [==============================] - 0s 2ms/step - loss: 1.4107 - mae: 1.4107 - val_loss: 1.5725 - val_mae: 1.5725 - lr: 0.0010\n",
      "Epoch 289/1000\n",
      "28/28 [==============================] - 0s 2ms/step - loss: 1.4157 - mae: 1.4157 - val_loss: 1.5481 - val_mae: 1.5481 - lr: 0.0010\n",
      "Epoch 290/1000\n",
      "28/28 [==============================] - 0s 2ms/step - loss: 1.4060 - mae: 1.4060 - val_loss: 1.5400 - val_mae: 1.5400 - lr: 0.0010\n",
      "Epoch 291/1000\n",
      "28/28 [==============================] - 0s 2ms/step - loss: 1.3867 - mae: 1.3867 - val_loss: 1.5498 - val_mae: 1.5498 - lr: 0.0010\n",
      "Epoch 292/1000\n",
      "28/28 [==============================] - 0s 2ms/step - loss: 1.4054 - mae: 1.4054 - val_loss: 1.5271 - val_mae: 1.5271 - lr: 0.0010\n",
      "Epoch 293/1000\n",
      "28/28 [==============================] - 0s 2ms/step - loss: 1.4125 - mae: 1.4125 - val_loss: 1.5668 - val_mae: 1.5668 - lr: 0.0010\n",
      "Epoch 294/1000\n",
      "28/28 [==============================] - 0s 2ms/step - loss: 1.4151 - mae: 1.4151 - val_loss: 1.5514 - val_mae: 1.5514 - lr: 0.0010\n",
      "Epoch 295/1000\n",
      "28/28 [==============================] - 0s 2ms/step - loss: 1.3873 - mae: 1.3873 - val_loss: 1.5350 - val_mae: 1.5350 - lr: 0.0010\n",
      "Epoch 296/1000\n",
      "28/28 [==============================] - 0s 3ms/step - loss: 1.4011 - mae: 1.4011 - val_loss: 1.5246 - val_mae: 1.5246 - lr: 0.0010\n",
      "Epoch 297/1000\n",
      "28/28 [==============================] - 0s 2ms/step - loss: 1.4195 - mae: 1.4195 - val_loss: 1.5321 - val_mae: 1.5321 - lr: 0.0010\n",
      "Epoch 298/1000\n",
      "28/28 [==============================] - 0s 3ms/step - loss: 1.3969 - mae: 1.3969 - val_loss: 1.5290 - val_mae: 1.5290 - lr: 0.0010\n",
      "Epoch 299/1000\n",
      "28/28 [==============================] - 0s 3ms/step - loss: 1.3960 - mae: 1.3960 - val_loss: 1.5410 - val_mae: 1.5410 - lr: 0.0010\n",
      "Epoch 300/1000\n",
      "28/28 [==============================] - 0s 2ms/step - loss: 1.4112 - mae: 1.4112 - val_loss: 1.5244 - val_mae: 1.5244 - lr: 0.0010\n",
      "Epoch 301/1000\n",
      "28/28 [==============================] - 0s 2ms/step - loss: 1.3990 - mae: 1.3990 - val_loss: 1.5380 - val_mae: 1.5380 - lr: 0.0010\n",
      "Epoch 302/1000\n",
      "28/28 [==============================] - 0s 2ms/step - loss: 1.3858 - mae: 1.3858 - val_loss: 1.5351 - val_mae: 1.5351 - lr: 0.0010\n",
      "Epoch 303/1000\n",
      "28/28 [==============================] - 0s 2ms/step - loss: 1.4104 - mae: 1.4104 - val_loss: 1.5846 - val_mae: 1.5846 - lr: 0.0010\n",
      "Epoch 304/1000\n",
      "28/28 [==============================] - 0s 2ms/step - loss: 1.4143 - mae: 1.4143 - val_loss: 1.5281 - val_mae: 1.5281 - lr: 2.0000e-04\n",
      "Epoch 305/1000\n",
      "28/28 [==============================] - 0s 2ms/step - loss: 1.4112 - mae: 1.4112 - val_loss: 1.5354 - val_mae: 1.5354 - lr: 2.0000e-04\n",
      "Epoch 306/1000\n",
      "28/28 [==============================] - 0s 2ms/step - loss: 1.3981 - mae: 1.3981 - val_loss: 1.5353 - val_mae: 1.5353 - lr: 2.0000e-04\n",
      "Epoch 307/1000\n",
      "28/28 [==============================] - 0s 2ms/step - loss: 1.3907 - mae: 1.3907 - val_loss: 1.5316 - val_mae: 1.5316 - lr: 2.0000e-04\n",
      "Epoch 308/1000\n",
      "28/28 [==============================] - 0s 2ms/step - loss: 1.4013 - mae: 1.4013 - val_loss: 1.5267 - val_mae: 1.5267 - lr: 2.0000e-04\n",
      "Epoch 309/1000\n",
      "28/28 [==============================] - 0s 2ms/step - loss: 1.3707 - mae: 1.3707 - val_loss: 1.5296 - val_mae: 1.5296 - lr: 2.0000e-04\n",
      "Epoch 310/1000\n",
      "28/28 [==============================] - 0s 2ms/step - loss: 1.3819 - mae: 1.3819 - val_loss: 1.5256 - val_mae: 1.5256 - lr: 2.0000e-04\n",
      "Epoch 311/1000\n",
      "28/28 [==============================] - 0s 2ms/step - loss: 1.3795 - mae: 1.3795 - val_loss: 1.5350 - val_mae: 1.5350 - lr: 2.0000e-04\n",
      "Epoch 312/1000\n",
      "28/28 [==============================] - 0s 2ms/step - loss: 1.3868 - mae: 1.3868 - val_loss: 1.5157 - val_mae: 1.5157 - lr: 2.0000e-04\n",
      "Epoch 313/1000\n",
      "28/28 [==============================] - 0s 2ms/step - loss: 1.3935 - mae: 1.3935 - val_loss: 1.5285 - val_mae: 1.5285 - lr: 2.0000e-04\n"
     ]
    }
   ],
   "source": [
    "# 모델 학습, 0.2, 1000, 128\n",
    "history = model.fit(train_x, train_y, validation_split=0.3, epochs=1000, batch_size=32, verbose=1, callbacks=[early_stopping_callback,checkpointer,reduce_lr])"
   ]
  },
  {
   "cell_type": "code",
   "execution_count": 44,
   "metadata": {},
   "outputs": [],
   "source": [
    "Y_prediction = model.predict(test_x).flatten() #1.5164, 1.5134"
   ]
  },
  {
   "cell_type": "code",
   "execution_count": 45,
   "metadata": {
    "scrolled": true
   },
   "outputs": [
    {
     "data": {
      "text/plain": [
       "array([ 9.524656 , 14.217656 ,  5.1352215, ...,  8.941972 ,  8.262607 ,\n",
       "       11.760901 ], dtype=float32)"
      ]
     },
     "execution_count": 45,
     "metadata": {},
     "output_type": "execute_result"
    }
   ],
   "source": [
    "Y_prediction"
   ]
  },
  {
   "cell_type": "code",
   "execution_count": 46,
   "metadata": {},
   "outputs": [
    {
     "data": {
      "text/html": [
       "<div>\n",
       "<style scoped>\n",
       "    .dataframe tbody tr th:only-of-type {\n",
       "        vertical-align: middle;\n",
       "    }\n",
       "\n",
       "    .dataframe tbody tr th {\n",
       "        vertical-align: top;\n",
       "    }\n",
       "\n",
       "    .dataframe thead th {\n",
       "        text-align: right;\n",
       "    }\n",
       "</style>\n",
       "<table border=\"1\" class=\"dataframe\">\n",
       "  <thead>\n",
       "    <tr style=\"text-align: right;\">\n",
       "      <th></th>\n",
       "      <th>id</th>\n",
       "      <th>Target</th>\n",
       "    </tr>\n",
       "  </thead>\n",
       "  <tbody>\n",
       "    <tr>\n",
       "      <th>0</th>\n",
       "      <td>1</td>\n",
       "      <td>10.0</td>\n",
       "    </tr>\n",
       "    <tr>\n",
       "      <th>1</th>\n",
       "      <td>2</td>\n",
       "      <td>14.0</td>\n",
       "    </tr>\n",
       "    <tr>\n",
       "      <th>2</th>\n",
       "      <td>3</td>\n",
       "      <td>5.0</td>\n",
       "    </tr>\n",
       "    <tr>\n",
       "      <th>3</th>\n",
       "      <td>4</td>\n",
       "      <td>11.0</td>\n",
       "    </tr>\n",
       "    <tr>\n",
       "      <th>4</th>\n",
       "      <td>5</td>\n",
       "      <td>10.0</td>\n",
       "    </tr>\n",
       "    <tr>\n",
       "      <th>...</th>\n",
       "      <td>...</td>\n",
       "      <td>...</td>\n",
       "    </tr>\n",
       "    <tr>\n",
       "      <th>2919</th>\n",
       "      <td>2920</td>\n",
       "      <td>4.0</td>\n",
       "    </tr>\n",
       "    <tr>\n",
       "      <th>2920</th>\n",
       "      <td>2921</td>\n",
       "      <td>7.0</td>\n",
       "    </tr>\n",
       "    <tr>\n",
       "      <th>2921</th>\n",
       "      <td>2922</td>\n",
       "      <td>9.0</td>\n",
       "    </tr>\n",
       "    <tr>\n",
       "      <th>2922</th>\n",
       "      <td>2923</td>\n",
       "      <td>8.0</td>\n",
       "    </tr>\n",
       "    <tr>\n",
       "      <th>2923</th>\n",
       "      <td>2924</td>\n",
       "      <td>12.0</td>\n",
       "    </tr>\n",
       "  </tbody>\n",
       "</table>\n",
       "<p>2924 rows × 2 columns</p>\n",
       "</div>"
      ],
      "text/plain": [
       "        id  Target\n",
       "0        1    10.0\n",
       "1        2    14.0\n",
       "2        3     5.0\n",
       "3        4    11.0\n",
       "4        5    10.0\n",
       "...    ...     ...\n",
       "2919  2920     4.0\n",
       "2920  2921     7.0\n",
       "2921  2922     9.0\n",
       "2922  2923     8.0\n",
       "2923  2924    12.0\n",
       "\n",
       "[2924 rows x 2 columns]"
      ]
     },
     "execution_count": 46,
     "metadata": {},
     "output_type": "execute_result"
    }
   ],
   "source": [
    "submission = pd.read_csv('data/sample_submission.csv')\n",
    "submission['Target'] = np.round(Y_prediction) # round 안하고 제출해보기\n",
    "\n",
    "# 데이터가 잘 들어갔는지 확인합니다\n",
    "submission"
   ]
  },
  {
   "cell_type": "code",
   "execution_count": 47,
   "metadata": {},
   "outputs": [],
   "source": [
    "submission.to_csv('deep_subin_cir,area,ratio_submit.csv', index=False)"
   ]
  },
  {
   "cell_type": "code",
   "execution_count": null,
   "metadata": {},
   "outputs": [],
   "source": []
  },
  {
   "cell_type": "code",
   "execution_count": null,
   "metadata": {},
   "outputs": [],
   "source": []
  },
  {
   "cell_type": "code",
   "execution_count": null,
   "metadata": {},
   "outputs": [],
   "source": []
  },
  {
   "cell_type": "markdown",
   "metadata": {},
   "source": [
    "# RandomForest"
   ]
  },
  {
   "cell_type": "markdown",
   "metadata": {},
   "source": [
    "## 배깅"
   ]
  },
  {
   "cell_type": "code",
   "execution_count": 9,
   "metadata": {},
   "outputs": [],
   "source": [
    "from sklearn.ensemble import RandomForestRegressor"
   ]
  },
  {
   "cell_type": "code",
   "execution_count": 10,
   "metadata": {},
   "outputs": [
    {
     "data": {
      "text/plain": [
       "RandomForestRegressor()"
      ]
     },
     "execution_count": 10,
     "metadata": {},
     "output_type": "execute_result"
    }
   ],
   "source": [
    "model = RandomForestRegressor() # 모델을 객체에 할당\n",
    "\n",
    "model.fit(train_x, train_y) # 모델 학습"
   ]
  },
  {
   "cell_type": "code",
   "execution_count": 12,
   "metadata": {},
   "outputs": [
    {
     "data": {
      "text/html": [
       "<div>\n",
       "<style scoped>\n",
       "    .dataframe tbody tr th:only-of-type {\n",
       "        vertical-align: middle;\n",
       "    }\n",
       "\n",
       "    .dataframe tbody tr th {\n",
       "        vertical-align: top;\n",
       "    }\n",
       "\n",
       "    .dataframe thead th {\n",
       "        text-align: right;\n",
       "    }\n",
       "</style>\n",
       "<table border=\"1\" class=\"dataframe\">\n",
       "  <thead>\n",
       "    <tr style=\"text-align: right;\">\n",
       "      <th></th>\n",
       "      <th>id</th>\n",
       "      <th>Gender</th>\n",
       "      <th>Lenght</th>\n",
       "      <th>Diameter</th>\n",
       "      <th>Height</th>\n",
       "      <th>Whole Weight</th>\n",
       "      <th>Shucked Weight</th>\n",
       "      <th>Viscra Weight</th>\n",
       "      <th>Shell Weight</th>\n",
       "    </tr>\n",
       "  </thead>\n",
       "  <tbody>\n",
       "    <tr>\n",
       "      <th>0</th>\n",
       "      <td>1</td>\n",
       "      <td>F</td>\n",
       "      <td>0.595</td>\n",
       "      <td>0.470</td>\n",
       "      <td>0.155</td>\n",
       "      <td>1.121</td>\n",
       "      <td>0.4515</td>\n",
       "      <td>0.1780</td>\n",
       "      <td>0.1550</td>\n",
       "    </tr>\n",
       "    <tr>\n",
       "      <th>1</th>\n",
       "      <td>2</td>\n",
       "      <td>M</td>\n",
       "      <td>0.580</td>\n",
       "      <td>0.450</td>\n",
       "      <td>0.150</td>\n",
       "      <td>0.927</td>\n",
       "      <td>0.2760</td>\n",
       "      <td>0.1815</td>\n",
       "      <td>0.3600</td>\n",
       "    </tr>\n",
       "    <tr>\n",
       "      <th>2</th>\n",
       "      <td>3</td>\n",
       "      <td>I</td>\n",
       "      <td>0.260</td>\n",
       "      <td>0.205</td>\n",
       "      <td>0.070</td>\n",
       "      <td>0.097</td>\n",
       "      <td>0.0415</td>\n",
       "      <td>0.0190</td>\n",
       "      <td>0.0305</td>\n",
       "    </tr>\n",
       "    <tr>\n",
       "      <th>3</th>\n",
       "      <td>4</td>\n",
       "      <td>M</td>\n",
       "      <td>0.590</td>\n",
       "      <td>0.460</td>\n",
       "      <td>0.130</td>\n",
       "      <td>1.102</td>\n",
       "      <td>0.4550</td>\n",
       "      <td>0.2055</td>\n",
       "      <td>0.3300</td>\n",
       "    </tr>\n",
       "    <tr>\n",
       "      <th>4</th>\n",
       "      <td>5</td>\n",
       "      <td>F</td>\n",
       "      <td>0.595</td>\n",
       "      <td>0.465</td>\n",
       "      <td>0.140</td>\n",
       "      <td>1.113</td>\n",
       "      <td>0.5175</td>\n",
       "      <td>0.2440</td>\n",
       "      <td>0.3050</td>\n",
       "    </tr>\n",
       "  </tbody>\n",
       "</table>\n",
       "</div>"
      ],
      "text/plain": [
       "   id Gender  Lenght  Diameter  Height  Whole Weight  Shucked Weight  \\\n",
       "0   1      F   0.595     0.470   0.155         1.121          0.4515   \n",
       "1   2      M   0.580     0.450   0.150         0.927          0.2760   \n",
       "2   3      I   0.260     0.205   0.070         0.097          0.0415   \n",
       "3   4      M   0.590     0.460   0.130         1.102          0.4550   \n",
       "4   5      F   0.595     0.465   0.140         1.113          0.5175   \n",
       "\n",
       "   Viscra Weight  Shell Weight  \n",
       "0         0.1780        0.1550  \n",
       "1         0.1815        0.3600  \n",
       "2         0.0190        0.0305  \n",
       "3         0.2055        0.3300  \n",
       "4         0.2440        0.3050  "
      ]
     },
     "execution_count": 12,
     "metadata": {},
     "output_type": "execute_result"
    }
   ],
   "source": [
    "test_df = pd.read_csv('data/test.csv')\n",
    "test_df.head()"
   ]
  },
  {
   "cell_type": "code",
   "execution_count": 13,
   "metadata": {
    "scrolled": true
   },
   "outputs": [
    {
     "data": {
      "text/html": [
       "<div>\n",
       "<style scoped>\n",
       "    .dataframe tbody tr th:only-of-type {\n",
       "        vertical-align: middle;\n",
       "    }\n",
       "\n",
       "    .dataframe tbody tr th {\n",
       "        vertical-align: top;\n",
       "    }\n",
       "\n",
       "    .dataframe thead th {\n",
       "        text-align: right;\n",
       "    }\n",
       "</style>\n",
       "<table border=\"1\" class=\"dataframe\">\n",
       "  <thead>\n",
       "    <tr style=\"text-align: right;\">\n",
       "      <th></th>\n",
       "      <th>id</th>\n",
       "      <th>Gender</th>\n",
       "      <th>Lenght</th>\n",
       "      <th>Diameter</th>\n",
       "      <th>Height</th>\n",
       "      <th>Whole Weight</th>\n",
       "      <th>Shucked Weight</th>\n",
       "      <th>Viscra Weight</th>\n",
       "      <th>Shell Weight</th>\n",
       "    </tr>\n",
       "  </thead>\n",
       "  <tbody>\n",
       "    <tr>\n",
       "      <th>0</th>\n",
       "      <td>1</td>\n",
       "      <td>3</td>\n",
       "      <td>0.595</td>\n",
       "      <td>0.470</td>\n",
       "      <td>0.155</td>\n",
       "      <td>1.121</td>\n",
       "      <td>0.4515</td>\n",
       "      <td>0.1780</td>\n",
       "      <td>0.1550</td>\n",
       "    </tr>\n",
       "    <tr>\n",
       "      <th>1</th>\n",
       "      <td>2</td>\n",
       "      <td>1</td>\n",
       "      <td>0.580</td>\n",
       "      <td>0.450</td>\n",
       "      <td>0.150</td>\n",
       "      <td>0.927</td>\n",
       "      <td>0.2760</td>\n",
       "      <td>0.1815</td>\n",
       "      <td>0.3600</td>\n",
       "    </tr>\n",
       "    <tr>\n",
       "      <th>2</th>\n",
       "      <td>3</td>\n",
       "      <td>2</td>\n",
       "      <td>0.260</td>\n",
       "      <td>0.205</td>\n",
       "      <td>0.070</td>\n",
       "      <td>0.097</td>\n",
       "      <td>0.0415</td>\n",
       "      <td>0.0190</td>\n",
       "      <td>0.0305</td>\n",
       "    </tr>\n",
       "    <tr>\n",
       "      <th>3</th>\n",
       "      <td>4</td>\n",
       "      <td>1</td>\n",
       "      <td>0.590</td>\n",
       "      <td>0.460</td>\n",
       "      <td>0.130</td>\n",
       "      <td>1.102</td>\n",
       "      <td>0.4550</td>\n",
       "      <td>0.2055</td>\n",
       "      <td>0.3300</td>\n",
       "    </tr>\n",
       "    <tr>\n",
       "      <th>4</th>\n",
       "      <td>5</td>\n",
       "      <td>3</td>\n",
       "      <td>0.595</td>\n",
       "      <td>0.465</td>\n",
       "      <td>0.140</td>\n",
       "      <td>1.113</td>\n",
       "      <td>0.5175</td>\n",
       "      <td>0.2440</td>\n",
       "      <td>0.3050</td>\n",
       "    </tr>\n",
       "  </tbody>\n",
       "</table>\n",
       "</div>"
      ],
      "text/plain": [
       "   id  Gender  Lenght  Diameter  Height  Whole Weight  Shucked Weight  \\\n",
       "0   1       3   0.595     0.470   0.155         1.121          0.4515   \n",
       "1   2       1   0.580     0.450   0.150         0.927          0.2760   \n",
       "2   3       2   0.260     0.205   0.070         0.097          0.0415   \n",
       "3   4       1   0.590     0.460   0.130         1.102          0.4550   \n",
       "4   5       3   0.595     0.465   0.140         1.113          0.5175   \n",
       "\n",
       "   Viscra Weight  Shell Weight  \n",
       "0         0.1780        0.1550  \n",
       "1         0.1815        0.3600  \n",
       "2         0.0190        0.0305  \n",
       "3         0.2055        0.3300  \n",
       "4         0.2440        0.3050  "
      ]
     },
     "execution_count": 13,
     "metadata": {},
     "output_type": "execute_result"
    }
   ],
   "source": [
    "gender_df = label_encoder(test_df[['Gender']], train_le)\n",
    "test_df['Gender'] = gender_df[['Gender']]\n",
    "\n",
    "test_df.head()"
   ]
  },
  {
   "cell_type": "code",
   "execution_count": 16,
   "metadata": {},
   "outputs": [],
   "source": [
    "test_x = test_df.drop(['id'],axis=1)"
   ]
  },
  {
   "cell_type": "code",
   "execution_count": 17,
   "metadata": {},
   "outputs": [],
   "source": [
    "# 전처리가 완료된 테스트 데이터셋을 통해 본격적으로 학습한 모델로 추론을 시작합니다.\n",
    "prediction = model.predict(test_x)"
   ]
  },
  {
   "cell_type": "code",
   "execution_count": null,
   "metadata": {},
   "outputs": [],
   "source": []
  },
  {
   "cell_type": "code",
   "execution_count": null,
   "metadata": {},
   "outputs": [],
   "source": []
  },
  {
   "cell_type": "code",
   "execution_count": 11,
   "metadata": {},
   "outputs": [],
   "source": [
    "# 딥러닝을 구동하는 데 필요한 케라스 함수를 불러옵니다.\n",
    "from tensorflow.keras.models import Sequential\n",
    "from tensorflow.keras.layers import Dense\n",
    "\n",
    "# 필요한 라이브러리를 불러옵니다.\n",
    "import numpy\n",
    "import tensorflow as tf\n",
    "\n",
    "# 실행할 때마다 같은 결과를 출력하기 위해 설정하는 부분입니다.\n",
    "numpy.random.seed(3)\n",
    "tf.random.set_seed(3)\n",
    "\n",
    "\n",
    "\n",
    "# 모델을 설정합니다.#레이어 3개\n",
    "model = Sequential()\n",
    "model.add(Dense(12, input_dim=8, activation='relu'))#숫자는 몇을 줘야 가장 좋은 결과가 나오는지 알아내야되긴함\n",
    "model.add(Dense(8, activation='relu'))\n",
    "model.add(Dense(1, activation='sigmoid'))\n",
    "\n",
    "# 모델을 컴파일합니다.\n",
    "model.compile(loss='mae',\n",
    "             optimizer='adam',\n",
    "             metrics=['mae'])"
   ]
  },
  {
   "cell_type": "code",
   "execution_count": 13,
   "metadata": {},
   "outputs": [
    {
     "name": "stdout",
     "output_type": "stream",
     "text": [
      "Epoch 1/200\n",
      "126/126 [==============================] - 0s 1ms/step - loss: 8.9122 - mae: 8.9122\n",
      "Epoch 2/200\n",
      "126/126 [==============================] - 0s 966us/step - loss: 8.9122 - mae: 8.9122\n",
      "Epoch 3/200\n",
      "126/126 [==============================] - 0s 988us/step - loss: 8.9122 - mae: 8.9122\n",
      "Epoch 4/200\n",
      "126/126 [==============================] - 0s 1ms/step - loss: 8.9122 - mae: 8.9122\n",
      "Epoch 5/200\n",
      "126/126 [==============================] - 0s 1ms/step - loss: 8.9122 - mae: 8.9122\n",
      "Epoch 6/200\n",
      "126/126 [==============================] - 0s 1ms/step - loss: 8.9122 - mae: 8.9122\n",
      "Epoch 7/200\n",
      "126/126 [==============================] - 0s 999us/step - loss: 8.9122 - mae: 8.9122\n",
      "Epoch 8/200\n",
      "126/126 [==============================] - 0s 1ms/step - loss: 8.9122 - mae: 8.9122\n",
      "Epoch 9/200\n",
      "126/126 [==============================] - 0s 976us/step - loss: 8.9122 - mae: 8.9122\n",
      "Epoch 10/200\n",
      "126/126 [==============================] - 0s 804us/step - loss: 8.9122 - mae: 8.9122\n",
      "Epoch 11/200\n",
      "126/126 [==============================] - 0s 854us/step - loss: 8.9122 - mae: 8.9122\n",
      "Epoch 12/200\n",
      "126/126 [==============================] - 0s 877us/step - loss: 8.9122 - mae: 8.9122\n",
      "Epoch 13/200\n",
      "126/126 [==============================] - 0s 907us/step - loss: 8.9122 - mae: 8.9122\n",
      "Epoch 14/200\n",
      "126/126 [==============================] - 0s 878us/step - loss: 8.9122 - mae: 8.9122\n",
      "Epoch 15/200\n",
      "126/126 [==============================] - 0s 957us/step - loss: 8.9122 - mae: 8.9122\n",
      "Epoch 16/200\n",
      "126/126 [==============================] - 0s 806us/step - loss: 8.9122 - mae: 8.9122\n",
      "Epoch 17/200\n",
      "126/126 [==============================] - 0s 846us/step - loss: 8.9122 - mae: 8.9122\n",
      "Epoch 18/200\n",
      "126/126 [==============================] - 0s 822us/step - loss: 8.9122 - mae: 8.9122\n",
      "Epoch 19/200\n",
      "126/126 [==============================] - 0s 878us/step - loss: 8.9122 - mae: 8.9122\n",
      "Epoch 20/200\n",
      "126/126 [==============================] - 0s 870us/step - loss: 8.9122 - mae: 8.9122\n",
      "Epoch 21/200\n",
      "126/126 [==============================] - 0s 894us/step - loss: 8.9122 - mae: 8.9122\n",
      "Epoch 22/200\n",
      "126/126 [==============================] - 0s 862us/step - loss: 8.9122 - mae: 8.9122\n",
      "Epoch 23/200\n",
      "126/126 [==============================] - 0s 846us/step - loss: 8.9122 - mae: 8.9122\n",
      "Epoch 24/200\n",
      "126/126 [==============================] - 0s 830us/step - loss: 8.9122 - mae: 8.9122\n",
      "Epoch 25/200\n",
      "126/126 [==============================] - 0s 846us/step - loss: 8.9122 - mae: 8.9122\n",
      "Epoch 26/200\n",
      "126/126 [==============================] - 0s 1ms/step - loss: 8.9122 - mae: 8.9122\n",
      "Epoch 27/200\n",
      "126/126 [==============================] - 0s 830us/step - loss: 8.9122 - mae: 8.9122\n",
      "Epoch 28/200\n",
      "126/126 [==============================] - 0s 798us/step - loss: 8.9122 - mae: 8.9122\n",
      "Epoch 29/200\n",
      "126/126 [==============================] - 0s 918us/step - loss: 8.9122 - mae: 8.9122\n",
      "Epoch 30/200\n",
      "126/126 [==============================] - 0s 933us/step - loss: 8.9122 - mae: 8.9122\n",
      "Epoch 31/200\n",
      "126/126 [==============================] - 0s 854us/step - loss: 8.9122 - mae: 8.9122\n",
      "Epoch 32/200\n",
      "126/126 [==============================] - 0s 798us/step - loss: 8.9122 - mae: 8.9122\n",
      "Epoch 33/200\n",
      "126/126 [==============================] - 0s 870us/step - loss: 8.9122 - mae: 8.9122\n",
      "Epoch 34/200\n",
      "126/126 [==============================] - 0s 880us/step - loss: 8.9122 - mae: 8.9122\n",
      "Epoch 35/200\n",
      "126/126 [==============================] - 0s 901us/step - loss: 8.9122 - mae: 8.9122\n",
      "Epoch 36/200\n",
      "126/126 [==============================] - 0s 898us/step - loss: 8.9122 - mae: 8.9122\n",
      "Epoch 37/200\n",
      "126/126 [==============================] - 0s 846us/step - loss: 8.9122 - mae: 8.9122\n",
      "Epoch 38/200\n",
      "126/126 [==============================] - 0s 846us/step - loss: 8.9122 - mae: 8.9122\n",
      "Epoch 39/200\n",
      "126/126 [==============================] - 0s 861us/step - loss: 8.9122 - mae: 8.9122\n",
      "Epoch 40/200\n",
      "126/126 [==============================] - 0s 874us/step - loss: 8.9122 - mae: 8.9122\n",
      "Epoch 41/200\n",
      "126/126 [==============================] - 0s 926us/step - loss: 8.9122 - mae: 8.9122\n",
      "Epoch 42/200\n",
      "126/126 [==============================] - 0s 798us/step - loss: 8.9122 - mae: 8.9122\n",
      "Epoch 43/200\n",
      "126/126 [==============================] - 0s 798us/step - loss: 8.9122 - mae: 8.9122\n",
      "Epoch 44/200\n",
      "126/126 [==============================] - 0s 854us/step - loss: 8.9122 - mae: 8.9122\n",
      "Epoch 45/200\n",
      "126/126 [==============================] - 0s 902us/step - loss: 8.9122 - mae: 8.9122\n",
      "Epoch 46/200\n",
      "126/126 [==============================] - 0s 918us/step - loss: 8.9122 - mae: 8.9122\n",
      "Epoch 47/200\n",
      "126/126 [==============================] - 0s 846us/step - loss: 8.9122 - mae: 8.9122\n",
      "Epoch 48/200\n",
      "126/126 [==============================] - 0s 862us/step - loss: 8.9122 - mae: 8.9122\n",
      "Epoch 49/200\n",
      "126/126 [==============================] - 0s 926us/step - loss: 8.9122 - mae: 8.9122\n",
      "Epoch 50/200\n",
      "126/126 [==============================] - 0s 926us/step - loss: 8.9122 - mae: 8.9122\n",
      "Epoch 51/200\n",
      "126/126 [==============================] - 0s 845us/step - loss: 8.9122 - mae: 8.9122\n",
      "Epoch 52/200\n",
      "126/126 [==============================] - 0s 835us/step - loss: 8.9122 - mae: 8.9122\n",
      "Epoch 53/200\n",
      "126/126 [==============================] - 0s 902us/step - loss: 8.9122 - mae: 8.9122\n",
      "Epoch 54/200\n",
      "126/126 [==============================] - 0s 926us/step - loss: 8.9122 - mae: 8.9122\n",
      "Epoch 55/200\n",
      "126/126 [==============================] - 0s 806us/step - loss: 8.9122 - mae: 8.9122\n",
      "Epoch 56/200\n",
      "126/126 [==============================] - 0s 854us/step - loss: 8.9122 - mae: 8.9122\n",
      "Epoch 57/200\n",
      "126/126 [==============================] - 0s 894us/step - loss: 8.9122 - mae: 8.9122\n",
      "Epoch 58/200\n",
      "126/126 [==============================] - 0s 870us/step - loss: 8.9122 - mae: 8.9122\n",
      "Epoch 59/200\n",
      "126/126 [==============================] - 0s 854us/step - loss: 8.9122 - mae: 8.9122\n",
      "Epoch 60/200\n",
      "126/126 [==============================] - 0s 846us/step - loss: 8.9122 - mae: 8.9122\n",
      "Epoch 61/200\n",
      "126/126 [==============================] - 0s 830us/step - loss: 8.9122 - mae: 8.9122\n",
      "Epoch 62/200\n",
      "126/126 [==============================] - 0s 858us/step - loss: 8.9122 - mae: 8.9122\n",
      "Epoch 63/200\n",
      "126/126 [==============================] - 0s 867us/step - loss: 8.9122 - mae: 8.9122\n",
      "Epoch 64/200\n",
      "126/126 [==============================] - 0s 854us/step - loss: 8.9122 - mae: 8.9122\n",
      "Epoch 65/200\n",
      "126/126 [==============================] - 0s 846us/step - loss: 8.9122 - mae: 8.9122\n",
      "Epoch 66/200\n",
      "126/126 [==============================] - 0s 821us/step - loss: 8.9122 - mae: 8.9122\n",
      "Epoch 67/200\n",
      "126/126 [==============================] - 0s 878us/step - loss: 8.9122 - mae: 8.9122\n",
      "Epoch 68/200\n",
      "126/126 [==============================] - 0s 941us/step - loss: 8.9122 - mae: 8.9122\n",
      "Epoch 69/200\n",
      "126/126 [==============================] - 0s 798us/step - loss: 8.9122 - mae: 8.9122\n",
      "Epoch 70/200\n",
      "126/126 [==============================] - 0s 822us/step - loss: 8.9122 - mae: 8.9122\n",
      "Epoch 71/200\n",
      "126/126 [==============================] - 0s 854us/step - loss: 8.9122 - mae: 8.9122\n",
      "Epoch 72/200\n",
      "126/126 [==============================] - 0s 822us/step - loss: 8.9122 - mae: 8.9122\n",
      "Epoch 73/200\n",
      "126/126 [==============================] - 0s 838us/step - loss: 8.9122 - mae: 8.9122\n",
      "Epoch 74/200\n",
      "126/126 [==============================] - 0s 830us/step - loss: 8.9122 - mae: 8.9122\n",
      "Epoch 75/200\n",
      "126/126 [==============================] - 0s 846us/step - loss: 8.9122 - mae: 8.9122\n",
      "Epoch 76/200\n",
      "126/126 [==============================] - 0s 838us/step - loss: 8.9122 - mae: 8.9122\n",
      "Epoch 77/200\n",
      "126/126 [==============================] - 0s 806us/step - loss: 8.9122 - mae: 8.9122\n",
      "Epoch 78/200\n",
      "126/126 [==============================] - 0s 826us/step - loss: 8.9122 - mae: 8.9122\n",
      "Epoch 79/200\n",
      "126/126 [==============================] - 0s 981us/step - loss: 8.9122 - mae: 8.9122\n",
      "Epoch 80/200\n",
      "126/126 [==============================] - 0s 1ms/step - loss: 8.9122 - mae: 8.9122\n",
      "Epoch 81/200\n",
      "126/126 [==============================] - 0s 830us/step - loss: 8.9122 - mae: 8.9122\n",
      "Epoch 82/200\n",
      "126/126 [==============================] - 0s 774us/step - loss: 8.9122 - mae: 8.9122\n",
      "Epoch 83/200\n",
      "126/126 [==============================] - 0s 790us/step - loss: 8.9122 - mae: 8.9122\n"
     ]
    },
    {
     "name": "stdout",
     "output_type": "stream",
     "text": [
      "Epoch 84/200\n",
      "126/126 [==============================] - 0s 997us/step - loss: 8.9122 - mae: 8.9122\n",
      "Epoch 85/200\n",
      "126/126 [==============================] - 0s 989us/step - loss: 8.9122 - mae: 8.9122\n",
      "Epoch 86/200\n",
      "126/126 [==============================] - 0s 941us/step - loss: 8.9122 - mae: 8.9122\n",
      "Epoch 87/200\n",
      "126/126 [==============================] - 0s 912us/step - loss: 8.9122 - mae: 8.9122\n",
      "Epoch 88/200\n",
      "126/126 [==============================] - 0s 893us/step - loss: 8.9122 - mae: 8.9122\n",
      "Epoch 89/200\n",
      "126/126 [==============================] - 0s 870us/step - loss: 8.9122 - mae: 8.9122\n",
      "Epoch 90/200\n",
      "126/126 [==============================] - 0s 835us/step - loss: 8.9122 - mae: 8.9122\n",
      "Epoch 91/200\n",
      "126/126 [==============================] - 0s 846us/step - loss: 8.9122 - mae: 8.9122\n",
      "Epoch 92/200\n",
      "126/126 [==============================] - 0s 830us/step - loss: 8.9122 - mae: 8.9122\n",
      "Epoch 93/200\n",
      "126/126 [==============================] - 0s 798us/step - loss: 8.9122 - mae: 8.9122\n",
      "Epoch 94/200\n",
      "126/126 [==============================] - 0s 854us/step - loss: 8.9122 - mae: 8.9122\n",
      "Epoch 95/200\n",
      "126/126 [==============================] - 0s 846us/step - loss: 8.9122 - mae: 8.9122\n",
      "Epoch 96/200\n",
      "126/126 [==============================] - 0s 894us/step - loss: 8.9122 - mae: 8.9122\n",
      "Epoch 97/200\n",
      "126/126 [==============================] - 0s 822us/step - loss: 8.9122 - mae: 8.9122\n",
      "Epoch 98/200\n",
      "126/126 [==============================] - 0s 846us/step - loss: 8.9122 - mae: 8.9122\n",
      "Epoch 99/200\n",
      "126/126 [==============================] - 0s 862us/step - loss: 8.9122 - mae: 8.9122\n",
      "Epoch 100/200\n",
      "126/126 [==============================] - 0s 903us/step - loss: 8.9122 - mae: 8.9122\n",
      "Epoch 101/200\n",
      "126/126 [==============================] - 0s 830us/step - loss: 8.9122 - mae: 8.9122\n",
      "Epoch 102/200\n",
      "126/126 [==============================] - 0s 878us/step - loss: 8.9122 - mae: 8.9122\n",
      "Epoch 103/200\n",
      "126/126 [==============================] - 0s 831us/step - loss: 8.9122 - mae: 8.9122\n",
      "Epoch 104/200\n",
      "126/126 [==============================] - 0s 957us/step - loss: 8.9122 - mae: 8.9122\n",
      "Epoch 105/200\n",
      "126/126 [==============================] - 0s 830us/step - loss: 8.9122 - mae: 8.9122\n",
      "Epoch 106/200\n",
      "126/126 [==============================] - 0s 798us/step - loss: 8.9122 - mae: 8.9122\n",
      "Epoch 107/200\n",
      "126/126 [==============================] - 0s 918us/step - loss: 8.9122 - mae: 8.9122\n",
      "Epoch 108/200\n",
      "126/126 [==============================] - 0s 838us/step - loss: 8.9122 - mae: 8.9122\n",
      "Epoch 109/200\n",
      "126/126 [==============================] - 0s 806us/step - loss: 8.9122 - mae: 8.9122\n",
      "Epoch 110/200\n",
      "126/126 [==============================] - 0s 862us/step - loss: 8.9122 - mae: 8.9122\n",
      "Epoch 111/200\n",
      "126/126 [==============================] - 0s 902us/step - loss: 8.9122 - mae: 8.9122\n",
      "Epoch 112/200\n",
      "126/126 [==============================] - 0s 846us/step - loss: 8.9122 - mae: 8.9122\n",
      "Epoch 113/200\n",
      "126/126 [==============================] - 0s 910us/step - loss: 8.9122 - mae: 8.9122\n",
      "Epoch 114/200\n",
      "126/126 [==============================] - 0s 822us/step - loss: 8.9122 - mae: 8.9122\n",
      "Epoch 115/200\n",
      "126/126 [==============================] - 0s 948us/step - loss: 8.9122 - mae: 8.9122\n",
      "Epoch 116/200\n",
      "126/126 [==============================] - 0s 862us/step - loss: 8.9122 - mae: 8.9122\n",
      "Epoch 117/200\n",
      "126/126 [==============================] - 0s 910us/step - loss: 8.9122 - mae: 8.9122\n",
      "Epoch 118/200\n",
      "126/126 [==============================] - 0s 1ms/step - loss: 8.9122 - mae: 8.9122\n",
      "Epoch 119/200\n",
      "126/126 [==============================] - 0s 822us/step - loss: 8.9122 - mae: 8.9122\n",
      "Epoch 120/200\n",
      "126/126 [==============================] - 0s 894us/step - loss: 8.9122 - mae: 8.9122\n",
      "Epoch 121/200\n",
      "126/126 [==============================] - 0s 981us/step - loss: 8.9122 - mae: 8.9122\n",
      "Epoch 122/200\n",
      "126/126 [==============================] - 0s 965us/step - loss: 8.9122 - mae: 8.9122\n",
      "Epoch 123/200\n",
      "126/126 [==============================] - 0s 910us/step - loss: 8.9122 - mae: 8.9122\n",
      "Epoch 124/200\n",
      "126/126 [==============================] - 0s 790us/step - loss: 8.9122 - mae: 8.9122\n",
      "Epoch 125/200\n",
      "126/126 [==============================] - 0s 854us/step - loss: 8.9122 - mae: 8.9122\n",
      "Epoch 126/200\n",
      "126/126 [==============================] - 0s 854us/step - loss: 8.9122 - mae: 8.9122\n",
      "Epoch 127/200\n",
      "126/126 [==============================] - 0s 846us/step - loss: 8.9122 - mae: 8.9122\n",
      "Epoch 128/200\n",
      "126/126 [==============================] - 0s 1ms/step - loss: 8.9122 - mae: 8.9122\n",
      "Epoch 129/200\n",
      "126/126 [==============================] - 0s 821us/step - loss: 8.9122 - mae: 8.9122\n",
      "Epoch 130/200\n",
      "126/126 [==============================] - 0s 798us/step - loss: 8.9122 - mae: 8.9122\n",
      "Epoch 131/200\n",
      "126/126 [==============================] - 0s 854us/step - loss: 8.9122 - mae: 8.9122\n",
      "Epoch 132/200\n",
      "126/126 [==============================] - 0s 1ms/step - loss: 8.9122 - mae: 8.9122\n",
      "Epoch 133/200\n",
      "126/126 [==============================] - 0s 918us/step - loss: 8.9122 - mae: 8.9122\n",
      "Epoch 134/200\n",
      "126/126 [==============================] - 0s 830us/step - loss: 8.9122 - mae: 8.9122\n",
      "Epoch 135/200\n",
      "126/126 [==============================] - 0s 886us/step - loss: 8.9122 - mae: 8.9122\n",
      "Epoch 136/200\n",
      "126/126 [==============================] - 0s 1ms/step - loss: 8.9122 - mae: 8.9122\n",
      "Epoch 137/200\n",
      "126/126 [==============================] - 0s 926us/step - loss: 8.9122 - mae: 8.9122\n",
      "Epoch 138/200\n",
      "126/126 [==============================] - 0s 838us/step - loss: 8.9122 - mae: 8.9122\n",
      "Epoch 139/200\n",
      "126/126 [==============================] - 0s 941us/step - loss: 8.9122 - mae: 8.9122\n",
      "Epoch 140/200\n",
      "126/126 [==============================] - 0s 854us/step - loss: 8.9122 - mae: 8.9122\n",
      "Epoch 141/200\n",
      "126/126 [==============================] - 0s 806us/step - loss: 8.9122 - mae: 8.9122\n",
      "Epoch 142/200\n",
      "126/126 [==============================] - 0s 863us/step - loss: 8.9122 - mae: 8.9122\n",
      "Epoch 143/200\n",
      "126/126 [==============================] - 0s 863us/step - loss: 8.9122 - mae: 8.9122\n",
      "Epoch 144/200\n",
      "126/126 [==============================] - 0s 854us/step - loss: 8.9122 - mae: 8.9122\n",
      "Epoch 145/200\n",
      "126/126 [==============================] - 0s 878us/step - loss: 8.9122 - mae: 8.9122\n",
      "Epoch 146/200\n",
      "126/126 [==============================] - 0s 843us/step - loss: 8.9122 - mae: 8.9122\n",
      "Epoch 147/200\n",
      "126/126 [==============================] - 0s 854us/step - loss: 8.9122 - mae: 8.9122\n",
      "Epoch 148/200\n",
      "126/126 [==============================] - 0s 870us/step - loss: 8.9122 - mae: 8.9122\n",
      "Epoch 149/200\n",
      "126/126 [==============================] - 0s 1ms/step - loss: 8.9122 - mae: 8.9122\n",
      "Epoch 150/200\n",
      "126/126 [==============================] - 0s 1ms/step - loss: 8.9122 - mae: 8.9122\n",
      "Epoch 151/200\n",
      "126/126 [==============================] - 0s 1ms/step - loss: 8.9122 - mae: 8.9122\n",
      "Epoch 152/200\n",
      "126/126 [==============================] - 0s 846us/step - loss: 8.9122 - mae: 8.9122\n",
      "Epoch 153/200\n",
      "126/126 [==============================] - 0s 798us/step - loss: 8.9122 - mae: 8.9122\n",
      "Epoch 154/200\n",
      "126/126 [==============================] - 0s 806us/step - loss: 8.9122 - mae: 8.9122\n",
      "Epoch 155/200\n",
      "126/126 [==============================] - 0s 830us/step - loss: 8.9122 - mae: 8.9122\n",
      "Epoch 156/200\n",
      "126/126 [==============================] - 0s 871us/step - loss: 8.9122 - mae: 8.9122\n",
      "Epoch 157/200\n",
      "126/126 [==============================] - 0s 817us/step - loss: 8.9122 - mae: 8.9122\n",
      "Epoch 158/200\n",
      "126/126 [==============================] - 0s 835us/step - loss: 8.9122 - mae: 8.9122\n",
      "Epoch 159/200\n",
      "126/126 [==============================] - 0s 838us/step - loss: 8.9122 - mae: 8.9122\n",
      "Epoch 160/200\n",
      "126/126 [==============================] - 0s 904us/step - loss: 8.9122 - mae: 8.9122\n",
      "Epoch 161/200\n",
      "126/126 [==============================] - 0s 965us/step - loss: 8.9122 - mae: 8.9122\n",
      "Epoch 162/200\n",
      "126/126 [==============================] - 0s 1ms/step - loss: 8.9122 - mae: 8.9122\n",
      "Epoch 163/200\n",
      "126/126 [==============================] - 0s 846us/step - loss: 8.9122 - mae: 8.9122\n",
      "Epoch 164/200\n",
      "126/126 [==============================] - 0s 846us/step - loss: 8.9122 - mae: 8.9122\n",
      "Epoch 165/200\n",
      "126/126 [==============================] - 0s 934us/step - loss: 8.9122 - mae: 8.9122\n",
      "Epoch 166/200\n",
      "126/126 [==============================] - 0s 1ms/step - loss: 8.9122 - mae: 8.9122\n",
      "Epoch 167/200\n",
      "126/126 [==============================] - 0s 965us/step - loss: 8.9122 - mae: 8.9122\n",
      "Epoch 168/200\n",
      "126/126 [==============================] - 0s 902us/step - loss: 8.9122 - mae: 8.9122\n",
      "Epoch 169/200\n",
      "126/126 [==============================] - 0s 860us/step - loss: 8.9122 - mae: 8.9122\n",
      "Epoch 170/200\n",
      "126/126 [==============================] - 0s 901us/step - loss: 8.9122 - mae: 8.9122\n",
      "Epoch 171/200\n",
      "126/126 [==============================] - 0s 894us/step - loss: 8.9122 - mae: 8.9122\n",
      "Epoch 172/200\n",
      "126/126 [==============================] - 0s 818us/step - loss: 8.9122 - mae: 8.9122\n",
      "Epoch 173/200\n",
      "126/126 [==============================] - 0s 840us/step - loss: 8.9122 - mae: 8.9122\n",
      "Epoch 174/200\n",
      "126/126 [==============================] - 0s 822us/step - loss: 8.9122 - mae: 8.9122\n",
      "Epoch 175/200\n",
      "126/126 [==============================] - 0s 870us/step - loss: 8.9122 - mae: 8.9122\n",
      "Epoch 176/200\n",
      "126/126 [==============================] - 0s 894us/step - loss: 8.9122 - mae: 8.9122\n",
      "Epoch 177/200\n",
      "126/126 [==============================] - 0s 1ms/step - loss: 8.9122 - mae: 8.9122\n",
      "Epoch 178/200\n",
      "126/126 [==============================] - 0s 965us/step - loss: 8.9122 - mae: 8.9122\n",
      "Epoch 179/200\n",
      "126/126 [==============================] - 0s 790us/step - loss: 8.9122 - mae: 8.9122\n",
      "Epoch 180/200\n",
      "126/126 [==============================] - 0s 774us/step - loss: 8.9122 - mae: 8.9122\n",
      "Epoch 181/200\n",
      "126/126 [==============================] - 0s 861us/step - loss: 8.9122 - mae: 8.9122\n",
      "Epoch 182/200\n",
      "126/126 [==============================] - 0s 838us/step - loss: 8.9122 - mae: 8.9122\n",
      "Epoch 183/200\n",
      "126/126 [==============================] - 0s 837us/step - loss: 8.9122 - mae: 8.9122\n",
      "Epoch 184/200\n",
      "126/126 [==============================] - 0s 862us/step - loss: 8.9122 - mae: 8.9122\n",
      "Epoch 185/200\n",
      "126/126 [==============================] - 0s 888us/step - loss: 8.9122 - mae: 8.9122\n",
      "Epoch 186/200\n",
      "126/126 [==============================] - 0s 926us/step - loss: 8.9122 - mae: 8.9122\n",
      "Epoch 187/200\n",
      "126/126 [==============================] - 0s 846us/step - loss: 8.9122 - mae: 8.9122\n",
      "Epoch 188/200\n",
      "126/126 [==============================] - 0s 910us/step - loss: 8.9122 - mae: 8.9122\n",
      "Epoch 189/200\n",
      "126/126 [==============================] - 0s 870us/step - loss: 8.9122 - mae: 8.9122\n",
      "Epoch 190/200\n",
      "126/126 [==============================] - 0s 878us/step - loss: 8.9122 - mae: 8.9122\n",
      "Epoch 191/200\n",
      "126/126 [==============================] - 0s 934us/step - loss: 8.9122 - mae: 8.9122\n",
      "Epoch 192/200\n",
      "126/126 [==============================] - 0s 806us/step - loss: 8.9122 - mae: 8.9122\n",
      "Epoch 193/200\n",
      "126/126 [==============================] - 0s 870us/step - loss: 8.9122 - mae: 8.9122\n",
      "Epoch 194/200\n",
      "126/126 [==============================] - 0s 886us/step - loss: 8.9122 - mae: 8.9122\n",
      "Epoch 195/200\n",
      "126/126 [==============================] - 0s 796us/step - loss: 8.9122 - mae: 8.9122\n",
      "Epoch 196/200\n",
      "126/126 [==============================] - 0s 846us/step - loss: 8.9122 - mae: 8.9122\n",
      "Epoch 197/200\n",
      "126/126 [==============================] - 0s 838us/step - loss: 8.9122 - mae: 8.9122\n",
      "Epoch 198/200\n",
      "126/126 [==============================] - 0s 829us/step - loss: 8.9122 - mae: 8.9122\n",
      "Epoch 199/200\n",
      "126/126 [==============================] - 0s 804us/step - loss: 8.9122 - mae: 8.9122\n",
      "Epoch 200/200\n",
      "126/126 [==============================] - 0s 846us/step - loss: 8.9122 - mae: 8.9122\n"
     ]
    },
    {
     "ename": "AttributeError",
     "evalue": "'Sequential' object has no attribute 'accuracy'",
     "output_type": "error",
     "traceback": [
      "\u001b[1;31m---------------------------------------------------------------------------\u001b[0m",
      "\u001b[1;31mAttributeError\u001b[0m                            Traceback (most recent call last)",
      "\u001b[1;32m<ipython-input-13-2a118219f335>\u001b[0m in \u001b[0;36m<module>\u001b[1;34m\u001b[0m\n\u001b[0;32m      3\u001b[0m \u001b[1;33m\u001b[0m\u001b[0m\n\u001b[0;32m      4\u001b[0m \u001b[1;31m# 결과를 출력합니다.\u001b[0m\u001b[1;33m\u001b[0m\u001b[1;33m\u001b[0m\u001b[1;33m\u001b[0m\u001b[0m\n\u001b[1;32m----> 5\u001b[1;33m \u001b[0mprint\u001b[0m\u001b[1;33m(\u001b[0m\u001b[1;34m\"\\n Accuracy: %.4f\"\u001b[0m \u001b[1;33m%\u001b[0m \u001b[1;33m(\u001b[0m\u001b[0mmodel\u001b[0m\u001b[1;33m.\u001b[0m\u001b[0maccuracy\u001b[0m\u001b[1;33m(\u001b[0m\u001b[0mtrain_x\u001b[0m\u001b[1;33m,\u001b[0m\u001b[0mtrain_y\u001b[0m\u001b[1;33m)\u001b[0m\u001b[1;33m[\u001b[0m\u001b[1;36m1\u001b[0m\u001b[1;33m]\u001b[0m\u001b[1;33m)\u001b[0m\u001b[1;33m)\u001b[0m\u001b[1;33m\u001b[0m\u001b[1;33m\u001b[0m\u001b[0m\n\u001b[0m",
      "\u001b[1;31mAttributeError\u001b[0m: 'Sequential' object has no attribute 'accuracy'"
     ]
    }
   ],
   "source": [
    "# 모델을 실행합니다.\n",
    "model.fit(train_x, train_y, epochs=200, batch_size=10)\n",
    "\n",
    "# 결과를 출력합니다.\n",
    "print(\"\\n Accuracy: %.4f\" % (model.evaluate(train_x,train_y)[1]))"
   ]
  },
  {
   "cell_type": "code",
   "execution_count": null,
   "metadata": {},
   "outputs": [],
   "source": []
  },
  {
   "cell_type": "code",
   "execution_count": null,
   "metadata": {},
   "outputs": [],
   "source": []
  },
  {
   "cell_type": "code",
   "execution_count": 60,
   "metadata": {},
   "outputs": [],
   "source": [
    "from bayes_opt import BayesianOptimization"
   ]
  },
  {
   "cell_type": "code",
   "execution_count": 22,
   "metadata": {},
   "outputs": [],
   "source": [
    "from sklearn.preprocessing import LabelEncoder\n",
    "\n",
    "encoder = LabelEncoder()\n",
    "encoder.fit(train['Gender'])\n",
    "gender_encoded_train = encoder.transform(train['Gender'])\n",
    "gender_encoded_test = encoder.transform(test['Gender'])\n",
    "train['Gender'] = gender_encoded_train\n",
    "test['Gender'] = gender_encoded_test\n",
    "\n",
    "X = train.drop('Target', axis=1)\n",
    "y = train['Target']"
   ]
  },
  {
   "cell_type": "code",
   "execution_count": 65,
   "metadata": {},
   "outputs": [
    {
     "name": "stdout",
     "output_type": "stream",
     "text": [
      "***********1th fold start***********\n",
      "|   iter    |  target   |   gamma   | learni... | max_depth | n_esti... |\n",
      "-------------------------------------------------------------------------\n"
     ]
    },
    {
     "ename": "TypeError",
     "evalue": "'LGBMRegressor' object is not callable",
     "output_type": "error",
     "traceback": [
      "\u001b[1;31m---------------------------------------------------------------------------\u001b[0m",
      "\u001b[1;31mKeyError\u001b[0m                                  Traceback (most recent call last)",
      "\u001b[1;32m~\\anaconda3\\lib\\site-packages\\bayes_opt\\target_space.py\u001b[0m in \u001b[0;36mprobe\u001b[1;34m(self, params)\u001b[0m\n\u001b[0;32m    190\u001b[0m         \u001b[1;32mtry\u001b[0m\u001b[1;33m:\u001b[0m\u001b[1;33m\u001b[0m\u001b[1;33m\u001b[0m\u001b[0m\n\u001b[1;32m--> 191\u001b[1;33m             \u001b[0mtarget\u001b[0m \u001b[1;33m=\u001b[0m \u001b[0mself\u001b[0m\u001b[1;33m.\u001b[0m\u001b[0m_cache\u001b[0m\u001b[1;33m[\u001b[0m\u001b[0m_hashable\u001b[0m\u001b[1;33m(\u001b[0m\u001b[0mx\u001b[0m\u001b[1;33m)\u001b[0m\u001b[1;33m]\u001b[0m\u001b[1;33m\u001b[0m\u001b[1;33m\u001b[0m\u001b[0m\n\u001b[0m\u001b[0;32m    192\u001b[0m         \u001b[1;32mexcept\u001b[0m \u001b[0mKeyError\u001b[0m\u001b[1;33m:\u001b[0m\u001b[1;33m\u001b[0m\u001b[1;33m\u001b[0m\u001b[0m\n",
      "\u001b[1;31mKeyError\u001b[0m: (2.132583393805355, 0.07264709827933052, 3.3143616510863767, 368.5263827221192)",
      "\nDuring handling of the above exception, another exception occurred:\n",
      "\u001b[1;31mTypeError\u001b[0m                                 Traceback (most recent call last)",
      "\u001b[1;32m<ipython-input-65-03e6415400ce>\u001b[0m in \u001b[0;36m<module>\u001b[1;34m\u001b[0m\n\u001b[0;32m     18\u001b[0m         n_estimators=500, random_state=1000, learning_rate=0.2, categorical_feature=[0]), pbounds=pbounds)\n\u001b[0;32m     19\u001b[0m \u001b[1;33m\u001b[0m\u001b[0m\n\u001b[1;32m---> 20\u001b[1;33m     \u001b[0mlgb\u001b[0m\u001b[1;33m.\u001b[0m\u001b[0mmaximize\u001b[0m\u001b[1;33m(\u001b[0m\u001b[0minit_points\u001b[0m\u001b[1;33m=\u001b[0m\u001b[1;36m5\u001b[0m\u001b[1;33m,\u001b[0m \u001b[0mn_iter\u001b[0m\u001b[1;33m=\u001b[0m\u001b[1;36m50\u001b[0m\u001b[1;33m)\u001b[0m\u001b[1;33m\u001b[0m\u001b[1;33m\u001b[0m\u001b[0m\n\u001b[0m\u001b[0;32m     21\u001b[0m \u001b[1;33m\u001b[0m\u001b[0m\n\u001b[0;32m     22\u001b[0m     \u001b[0mpred\u001b[0m \u001b[1;33m=\u001b[0m \u001b[0mlgb\u001b[0m\u001b[1;33m.\u001b[0m\u001b[0mpredict\u001b[0m\u001b[1;33m(\u001b[0m\u001b[0mx_val\u001b[0m\u001b[1;33m)\u001b[0m\u001b[1;33m\u001b[0m\u001b[1;33m\u001b[0m\u001b[0m\n",
      "\u001b[1;32m~\\anaconda3\\lib\\site-packages\\bayes_opt\\bayesian_optimization.py\u001b[0m in \u001b[0;36mmaximize\u001b[1;34m(self, init_points, n_iter, acq, kappa, kappa_decay, kappa_decay_delay, xi, **gp_params)\u001b[0m\n\u001b[0;32m    183\u001b[0m                 \u001b[0miteration\u001b[0m \u001b[1;33m+=\u001b[0m \u001b[1;36m1\u001b[0m\u001b[1;33m\u001b[0m\u001b[1;33m\u001b[0m\u001b[0m\n\u001b[0;32m    184\u001b[0m \u001b[1;33m\u001b[0m\u001b[0m\n\u001b[1;32m--> 185\u001b[1;33m             \u001b[0mself\u001b[0m\u001b[1;33m.\u001b[0m\u001b[0mprobe\u001b[0m\u001b[1;33m(\u001b[0m\u001b[0mx_probe\u001b[0m\u001b[1;33m,\u001b[0m \u001b[0mlazy\u001b[0m\u001b[1;33m=\u001b[0m\u001b[1;32mFalse\u001b[0m\u001b[1;33m)\u001b[0m\u001b[1;33m\u001b[0m\u001b[1;33m\u001b[0m\u001b[0m\n\u001b[0m\u001b[0;32m    186\u001b[0m \u001b[1;33m\u001b[0m\u001b[0m\n\u001b[0;32m    187\u001b[0m             \u001b[1;32mif\u001b[0m \u001b[0mself\u001b[0m\u001b[1;33m.\u001b[0m\u001b[0m_bounds_transformer\u001b[0m\u001b[1;33m:\u001b[0m\u001b[1;33m\u001b[0m\u001b[1;33m\u001b[0m\u001b[0m\n",
      "\u001b[1;32m~\\anaconda3\\lib\\site-packages\\bayes_opt\\bayesian_optimization.py\u001b[0m in \u001b[0;36mprobe\u001b[1;34m(self, params, lazy)\u001b[0m\n\u001b[0;32m    114\u001b[0m             \u001b[0mself\u001b[0m\u001b[1;33m.\u001b[0m\u001b[0m_queue\u001b[0m\u001b[1;33m.\u001b[0m\u001b[0madd\u001b[0m\u001b[1;33m(\u001b[0m\u001b[0mparams\u001b[0m\u001b[1;33m)\u001b[0m\u001b[1;33m\u001b[0m\u001b[1;33m\u001b[0m\u001b[0m\n\u001b[0;32m    115\u001b[0m         \u001b[1;32melse\u001b[0m\u001b[1;33m:\u001b[0m\u001b[1;33m\u001b[0m\u001b[1;33m\u001b[0m\u001b[0m\n\u001b[1;32m--> 116\u001b[1;33m             \u001b[0mself\u001b[0m\u001b[1;33m.\u001b[0m\u001b[0m_space\u001b[0m\u001b[1;33m.\u001b[0m\u001b[0mprobe\u001b[0m\u001b[1;33m(\u001b[0m\u001b[0mparams\u001b[0m\u001b[1;33m)\u001b[0m\u001b[1;33m\u001b[0m\u001b[1;33m\u001b[0m\u001b[0m\n\u001b[0m\u001b[0;32m    117\u001b[0m             \u001b[0mself\u001b[0m\u001b[1;33m.\u001b[0m\u001b[0mdispatch\u001b[0m\u001b[1;33m(\u001b[0m\u001b[0mEvents\u001b[0m\u001b[1;33m.\u001b[0m\u001b[0mOPTIMIZATION_STEP\u001b[0m\u001b[1;33m)\u001b[0m\u001b[1;33m\u001b[0m\u001b[1;33m\u001b[0m\u001b[0m\n\u001b[0;32m    118\u001b[0m \u001b[1;33m\u001b[0m\u001b[0m\n",
      "\u001b[1;32m~\\anaconda3\\lib\\site-packages\\bayes_opt\\target_space.py\u001b[0m in \u001b[0;36mprobe\u001b[1;34m(self, params)\u001b[0m\n\u001b[0;32m    192\u001b[0m         \u001b[1;32mexcept\u001b[0m \u001b[0mKeyError\u001b[0m\u001b[1;33m:\u001b[0m\u001b[1;33m\u001b[0m\u001b[1;33m\u001b[0m\u001b[0m\n\u001b[0;32m    193\u001b[0m             \u001b[0mparams\u001b[0m \u001b[1;33m=\u001b[0m \u001b[0mdict\u001b[0m\u001b[1;33m(\u001b[0m\u001b[0mzip\u001b[0m\u001b[1;33m(\u001b[0m\u001b[0mself\u001b[0m\u001b[1;33m.\u001b[0m\u001b[0m_keys\u001b[0m\u001b[1;33m,\u001b[0m \u001b[0mx\u001b[0m\u001b[1;33m)\u001b[0m\u001b[1;33m)\u001b[0m\u001b[1;33m\u001b[0m\u001b[1;33m\u001b[0m\u001b[0m\n\u001b[1;32m--> 194\u001b[1;33m             \u001b[0mtarget\u001b[0m \u001b[1;33m=\u001b[0m \u001b[0mself\u001b[0m\u001b[1;33m.\u001b[0m\u001b[0mtarget_func\u001b[0m\u001b[1;33m(\u001b[0m\u001b[1;33m**\u001b[0m\u001b[0mparams\u001b[0m\u001b[1;33m)\u001b[0m\u001b[1;33m\u001b[0m\u001b[1;33m\u001b[0m\u001b[0m\n\u001b[0m\u001b[0;32m    195\u001b[0m             \u001b[0mself\u001b[0m\u001b[1;33m.\u001b[0m\u001b[0mregister\u001b[0m\u001b[1;33m(\u001b[0m\u001b[0mx\u001b[0m\u001b[1;33m,\u001b[0m \u001b[0mtarget\u001b[0m\u001b[1;33m)\u001b[0m\u001b[1;33m\u001b[0m\u001b[1;33m\u001b[0m\u001b[0m\n\u001b[0;32m    196\u001b[0m         \u001b[1;32mreturn\u001b[0m \u001b[0mtarget\u001b[0m\u001b[1;33m\u001b[0m\u001b[1;33m\u001b[0m\u001b[0m\n",
      "\u001b[1;31mTypeError\u001b[0m: 'LGBMRegressor' object is not callable"
     ]
    }
   ],
   "source": [
    "from sklearn.model_selection import StratifiedKFold\n",
    "from sklearn.metrics import mean_absolute_error\n",
    "\n",
    "\n",
    "skf = StratifiedKFold(n_splits=15, shuffle=True, random_state=1000)\n",
    "skf.split(X, X['Gender'])\n",
    "\n",
    "pred_list = []\n",
    "mae_list = []\n",
    "\n",
    "for fold,(train_index, val_index) in enumerate(skf.split(X,  X['Gender'])):\n",
    "\n",
    "    print(f'***********{fold+1}th fold start***********')\n",
    "    x_train, x_val, y_train, y_val = X.loc[train_index], X.loc[val_index], y.loc[train_index], y.loc[val_index]\n",
    "\n",
    "    pbounds = {  'learning_rate': (0.01, 1.0),  'n_estimators': (100, 1000), 'max_depth': (3,10), 'gamma': (0, 5)}  \n",
    "    lgb = BayesianOptimization(lightgbm.LGBMRegressor(max_bin = 300, max_depth = 5, num_leaves=32,\n",
    "        n_estimators=500, random_state=1000, learning_rate=0.2, categorical_feature=[0]), pbounds=pbounds)\n",
    "\n",
    "    lgb.maximize(init_points=5, n_iter=50)\n",
    "\n",
    "    pred = lgb.predict(x_val)\n",
    "    result = mean_absolute_error(pred,y_val)\n",
    "    mae_list.append(result)\n",
    "    \n",
    "    pred_test = lgb.predict(test)\n",
    "    pred_list.append(pred_test)\n",
    "    \n",
    "    print(f'mae : {result:.4f}', end='\\n\\n')\n",
    "    \n",
    "print(f'mean mae {np.mean(mae_list):.4f}')"
   ]
  },
  {
   "cell_type": "code",
   "execution_count": 126,
   "metadata": {},
   "outputs": [
    {
     "name": "stdout",
     "output_type": "stream",
     "text": [
      "***********1th fold start***********\n",
      "mae : 1.4586\n",
      "\n",
      "***********2th fold start***********\n",
      "mae : 1.4392\n",
      "\n",
      "***********3th fold start***********\n",
      "mae : 1.4807\n",
      "\n",
      "***********4th fold start***********\n",
      "mae : 1.5597\n",
      "\n",
      "***********5th fold start***********\n",
      "mae : 1.3530\n",
      "\n",
      "***********6th fold start***********\n",
      "mae : 1.4553\n",
      "\n",
      "***********7th fold start***********\n",
      "mae : 1.7350\n",
      "\n",
      "***********8th fold start***********\n",
      "mae : 1.8670\n",
      "\n",
      "***********9th fold start***********\n",
      "mae : 1.8975\n",
      "\n",
      "***********10th fold start***********\n",
      "mae : 1.6651\n",
      "\n",
      "***********11th fold start***********\n",
      "mae : 1.5729\n",
      "\n",
      "***********12th fold start***********\n",
      "mae : 1.7321\n",
      "\n",
      "***********13th fold start***********\n",
      "mae : 1.7785\n",
      "\n",
      "***********14th fold start***********\n",
      "mae : 1.5123\n",
      "\n",
      "***********15th fold start***********\n",
      "mae : 1.5549\n",
      "\n",
      "***********16th fold start***********\n",
      "mae : 1.2290\n",
      "\n",
      "***********17th fold start***********\n",
      "mae : 1.2712\n",
      "\n",
      "***********18th fold start***********\n",
      "mae : 1.4958\n",
      "\n",
      "***********19th fold start***********\n",
      "mae : 1.4530\n",
      "\n",
      "***********20th fold start***********\n",
      "mae : 1.3877\n",
      "\n",
      "mean mae 1.5449\n"
     ]
    }
   ],
   "source": [
    "from sklearn.model_selection import StratifiedKFold\n",
    "from sklearn.metrics import mean_absolute_error\n",
    "\n",
    "\n",
    "skf = StratifiedKFold(n_splits=20, shuffle=True, random_state=1000)\n",
    "skf.split(X, X['Gender'])\n",
    "\n",
    "pred_list = []\n",
    "mae_list = []\n",
    "\n",
    "for fold,(train_index, val_index) in enumerate(skf.split(X,  X['Gender'])):\n",
    "\n",
    "    print(f'***********{fold+1}th fold start***********')\n",
    "    x_train, x_val, y_train, y_val = X.loc[train_index], X.loc[val_index], y.loc[train_index], y.loc[val_index]\n",
    "\n",
    "     \n",
    "    lgb = lightgbm.LGBMRegressor(boosting_type='gbdt', max_bin = 300, max_depth = 5, num_leaves=32,\n",
    "        n_estimators=40, random_state=1000, learning_rate=0.2, categorical_feature=[0])\n",
    "\n",
    "    lgb.fit(x_train, y_train,\n",
    "            eval_set=(x_val,y_val),\n",
    "            eval_metric='l1', verbose=False, early_stopping_rounds=50)\n",
    "\n",
    "    pred = lgb.predict(x_val)\n",
    "    result = mean_absolute_error(pred,y_val)\n",
    "    mae_list.append(result)\n",
    "    \n",
    "    pred_test = lgb.predict(test)\n",
    "    pred_list.append(pred_test)\n",
    "    \n",
    "    print(f'mae : {result:.4f}', end='\\n\\n')\n",
    "    \n",
    "print(f'mean mae {np.mean(mae_list):.4f}')"
   ]
  },
  {
   "cell_type": "code",
   "execution_count": 30,
   "metadata": {},
   "outputs": [
    {
     "data": {
      "text/plain": [
       "[array([ 8.17611924, 12.83489144,  6.03524088, ...,  9.70506153,\n",
       "         9.21194556, 11.52044295]),\n",
       " array([ 8.75130008, 12.37807675,  6.33010709, ...,  9.1242709 ,\n",
       "        10.11032559, 11.35994508]),\n",
       " array([ 8.64260745, 12.65807181,  6.00547175, ...,  9.50304843,\n",
       "        10.20180093, 11.05835792]),\n",
       " array([ 8.58921059, 12.35118494,  6.15160702, ...,  9.32139287,\n",
       "         9.92594337, 11.40955843]),\n",
       " array([ 9.07852946, 12.46337855,  5.65426688, ...,  9.64886549,\n",
       "         9.96099416, 10.86420339]),\n",
       " array([ 8.57864842, 12.93116895,  6.0755026 , ...,  9.56522548,\n",
       "         9.53377307, 11.64208026]),\n",
       " array([ 8.5477902 , 13.01678266,  6.15259871, ...,  9.22649429,\n",
       "         9.92285491, 11.15622056]),\n",
       " array([ 8.87747945, 11.90581532,  5.95105121, ...,  9.01586599,\n",
       "        10.43730887, 11.66971735]),\n",
       " array([ 8.83184331, 12.59940465,  6.13336987, ...,  9.04234691,\n",
       "        10.14482433, 11.04763702]),\n",
       " array([ 9.03915376, 13.07825595,  5.90545543, ...,  9.56109023,\n",
       "        10.11426189, 11.70678696]),\n",
       " array([ 8.9691389 , 12.54289079,  6.25056766, ...,  9.33400123,\n",
       "         9.92486239, 10.92940532]),\n",
       " array([ 8.74167351, 12.48591026,  6.18202269, ...,  9.26249773,\n",
       "        10.0218651 , 11.11869826]),\n",
       " array([ 8.85970661, 12.42779322,  6.2408978 , ...,  9.73669928,\n",
       "        10.41181315, 11.16719922]),\n",
       " array([ 9.06891544, 12.91517228,  5.8486311 , ...,  9.65920923,\n",
       "        10.51105001, 10.69532109]),\n",
       " array([ 8.87082252, 12.03526482,  5.64943106, ...,  9.83299103,\n",
       "        10.0532217 , 11.31594548])]"
      ]
     },
     "execution_count": 30,
     "metadata": {},
     "output_type": "execute_result"
    }
   ],
   "source": [
    "pred_list"
   ]
  },
  {
   "cell_type": "code",
   "execution_count": 73,
   "metadata": {},
   "outputs": [
    {
     "data": {
      "text/plain": [
       "64"
      ]
     },
     "execution_count": 73,
     "metadata": {},
     "output_type": "execute_result"
    }
   ],
   "source": [
    "2**6"
   ]
  },
  {
   "cell_type": "code",
   "execution_count": 3,
   "metadata": {},
   "outputs": [],
   "source": [
    "from pycaret.regression import *"
   ]
  },
  {
   "cell_type": "code",
   "execution_count": 11,
   "metadata": {},
   "outputs": [
    {
     "data": {
      "text/html": [
       "<style  type=\"text/css\" >\n",
       "#T_cc97c226_aa7e_11ec_ba9f_7085c2294e08row42_col1{\n",
       "            background-color:  lightgreen;\n",
       "        }</style><table id=\"T_cc97c226_aa7e_11ec_ba9f_7085c2294e08\" ><thead>    <tr>        <th class=\"blank level0\" ></th>        <th class=\"col_heading level0 col0\" >Description</th>        <th class=\"col_heading level0 col1\" >Value</th>    </tr></thead><tbody>\n",
       "                <tr>\n",
       "                        <th id=\"T_cc97c226_aa7e_11ec_ba9f_7085c2294e08level0_row0\" class=\"row_heading level0 row0\" >0</th>\n",
       "                        <td id=\"T_cc97c226_aa7e_11ec_ba9f_7085c2294e08row0_col0\" class=\"data row0 col0\" >session_id</td>\n",
       "                        <td id=\"T_cc97c226_aa7e_11ec_ba9f_7085c2294e08row0_col1\" class=\"data row0 col1\" >5514</td>\n",
       "            </tr>\n",
       "            <tr>\n",
       "                        <th id=\"T_cc97c226_aa7e_11ec_ba9f_7085c2294e08level0_row1\" class=\"row_heading level0 row1\" >1</th>\n",
       "                        <td id=\"T_cc97c226_aa7e_11ec_ba9f_7085c2294e08row1_col0\" class=\"data row1 col0\" >Target</td>\n",
       "                        <td id=\"T_cc97c226_aa7e_11ec_ba9f_7085c2294e08row1_col1\" class=\"data row1 col1\" >Target</td>\n",
       "            </tr>\n",
       "            <tr>\n",
       "                        <th id=\"T_cc97c226_aa7e_11ec_ba9f_7085c2294e08level0_row2\" class=\"row_heading level0 row2\" >2</th>\n",
       "                        <td id=\"T_cc97c226_aa7e_11ec_ba9f_7085c2294e08row2_col0\" class=\"data row2 col0\" >Original Data</td>\n",
       "                        <td id=\"T_cc97c226_aa7e_11ec_ba9f_7085c2294e08row2_col1\" class=\"data row2 col1\" >(1253, 10)</td>\n",
       "            </tr>\n",
       "            <tr>\n",
       "                        <th id=\"T_cc97c226_aa7e_11ec_ba9f_7085c2294e08level0_row3\" class=\"row_heading level0 row3\" >3</th>\n",
       "                        <td id=\"T_cc97c226_aa7e_11ec_ba9f_7085c2294e08row3_col0\" class=\"data row3 col0\" >Missing Values</td>\n",
       "                        <td id=\"T_cc97c226_aa7e_11ec_ba9f_7085c2294e08row3_col1\" class=\"data row3 col1\" >False</td>\n",
       "            </tr>\n",
       "            <tr>\n",
       "                        <th id=\"T_cc97c226_aa7e_11ec_ba9f_7085c2294e08level0_row4\" class=\"row_heading level0 row4\" >4</th>\n",
       "                        <td id=\"T_cc97c226_aa7e_11ec_ba9f_7085c2294e08row4_col0\" class=\"data row4 col0\" >Numeric Features</td>\n",
       "                        <td id=\"T_cc97c226_aa7e_11ec_ba9f_7085c2294e08row4_col1\" class=\"data row4 col1\" >8</td>\n",
       "            </tr>\n",
       "            <tr>\n",
       "                        <th id=\"T_cc97c226_aa7e_11ec_ba9f_7085c2294e08level0_row5\" class=\"row_heading level0 row5\" >5</th>\n",
       "                        <td id=\"T_cc97c226_aa7e_11ec_ba9f_7085c2294e08row5_col0\" class=\"data row5 col0\" >Categorical Features</td>\n",
       "                        <td id=\"T_cc97c226_aa7e_11ec_ba9f_7085c2294e08row5_col1\" class=\"data row5 col1\" >1</td>\n",
       "            </tr>\n",
       "            <tr>\n",
       "                        <th id=\"T_cc97c226_aa7e_11ec_ba9f_7085c2294e08level0_row6\" class=\"row_heading level0 row6\" >6</th>\n",
       "                        <td id=\"T_cc97c226_aa7e_11ec_ba9f_7085c2294e08row6_col0\" class=\"data row6 col0\" >Ordinal Features</td>\n",
       "                        <td id=\"T_cc97c226_aa7e_11ec_ba9f_7085c2294e08row6_col1\" class=\"data row6 col1\" >False</td>\n",
       "            </tr>\n",
       "            <tr>\n",
       "                        <th id=\"T_cc97c226_aa7e_11ec_ba9f_7085c2294e08level0_row7\" class=\"row_heading level0 row7\" >7</th>\n",
       "                        <td id=\"T_cc97c226_aa7e_11ec_ba9f_7085c2294e08row7_col0\" class=\"data row7 col0\" >High Cardinality Features</td>\n",
       "                        <td id=\"T_cc97c226_aa7e_11ec_ba9f_7085c2294e08row7_col1\" class=\"data row7 col1\" >False</td>\n",
       "            </tr>\n",
       "            <tr>\n",
       "                        <th id=\"T_cc97c226_aa7e_11ec_ba9f_7085c2294e08level0_row8\" class=\"row_heading level0 row8\" >8</th>\n",
       "                        <td id=\"T_cc97c226_aa7e_11ec_ba9f_7085c2294e08row8_col0\" class=\"data row8 col0\" >High Cardinality Method</td>\n",
       "                        <td id=\"T_cc97c226_aa7e_11ec_ba9f_7085c2294e08row8_col1\" class=\"data row8 col1\" >None</td>\n",
       "            </tr>\n",
       "            <tr>\n",
       "                        <th id=\"T_cc97c226_aa7e_11ec_ba9f_7085c2294e08level0_row9\" class=\"row_heading level0 row9\" >9</th>\n",
       "                        <td id=\"T_cc97c226_aa7e_11ec_ba9f_7085c2294e08row9_col0\" class=\"data row9 col0\" >Transformed Train Set</td>\n",
       "                        <td id=\"T_cc97c226_aa7e_11ec_ba9f_7085c2294e08row9_col1\" class=\"data row9 col1\" >(877, 10)</td>\n",
       "            </tr>\n",
       "            <tr>\n",
       "                        <th id=\"T_cc97c226_aa7e_11ec_ba9f_7085c2294e08level0_row10\" class=\"row_heading level0 row10\" >10</th>\n",
       "                        <td id=\"T_cc97c226_aa7e_11ec_ba9f_7085c2294e08row10_col0\" class=\"data row10 col0\" >Transformed Test Set</td>\n",
       "                        <td id=\"T_cc97c226_aa7e_11ec_ba9f_7085c2294e08row10_col1\" class=\"data row10 col1\" >(376, 10)</td>\n",
       "            </tr>\n",
       "            <tr>\n",
       "                        <th id=\"T_cc97c226_aa7e_11ec_ba9f_7085c2294e08level0_row11\" class=\"row_heading level0 row11\" >11</th>\n",
       "                        <td id=\"T_cc97c226_aa7e_11ec_ba9f_7085c2294e08row11_col0\" class=\"data row11 col0\" >Shuffle Train-Test</td>\n",
       "                        <td id=\"T_cc97c226_aa7e_11ec_ba9f_7085c2294e08row11_col1\" class=\"data row11 col1\" >True</td>\n",
       "            </tr>\n",
       "            <tr>\n",
       "                        <th id=\"T_cc97c226_aa7e_11ec_ba9f_7085c2294e08level0_row12\" class=\"row_heading level0 row12\" >12</th>\n",
       "                        <td id=\"T_cc97c226_aa7e_11ec_ba9f_7085c2294e08row12_col0\" class=\"data row12 col0\" >Stratify Train-Test</td>\n",
       "                        <td id=\"T_cc97c226_aa7e_11ec_ba9f_7085c2294e08row12_col1\" class=\"data row12 col1\" >False</td>\n",
       "            </tr>\n",
       "            <tr>\n",
       "                        <th id=\"T_cc97c226_aa7e_11ec_ba9f_7085c2294e08level0_row13\" class=\"row_heading level0 row13\" >13</th>\n",
       "                        <td id=\"T_cc97c226_aa7e_11ec_ba9f_7085c2294e08row13_col0\" class=\"data row13 col0\" >Fold Generator</td>\n",
       "                        <td id=\"T_cc97c226_aa7e_11ec_ba9f_7085c2294e08row13_col1\" class=\"data row13 col1\" >KFold</td>\n",
       "            </tr>\n",
       "            <tr>\n",
       "                        <th id=\"T_cc97c226_aa7e_11ec_ba9f_7085c2294e08level0_row14\" class=\"row_heading level0 row14\" >14</th>\n",
       "                        <td id=\"T_cc97c226_aa7e_11ec_ba9f_7085c2294e08row14_col0\" class=\"data row14 col0\" >Fold Number</td>\n",
       "                        <td id=\"T_cc97c226_aa7e_11ec_ba9f_7085c2294e08row14_col1\" class=\"data row14 col1\" >5</td>\n",
       "            </tr>\n",
       "            <tr>\n",
       "                        <th id=\"T_cc97c226_aa7e_11ec_ba9f_7085c2294e08level0_row15\" class=\"row_heading level0 row15\" >15</th>\n",
       "                        <td id=\"T_cc97c226_aa7e_11ec_ba9f_7085c2294e08row15_col0\" class=\"data row15 col0\" >CPU Jobs</td>\n",
       "                        <td id=\"T_cc97c226_aa7e_11ec_ba9f_7085c2294e08row15_col1\" class=\"data row15 col1\" >-1</td>\n",
       "            </tr>\n",
       "            <tr>\n",
       "                        <th id=\"T_cc97c226_aa7e_11ec_ba9f_7085c2294e08level0_row16\" class=\"row_heading level0 row16\" >16</th>\n",
       "                        <td id=\"T_cc97c226_aa7e_11ec_ba9f_7085c2294e08row16_col0\" class=\"data row16 col0\" >Use GPU</td>\n",
       "                        <td id=\"T_cc97c226_aa7e_11ec_ba9f_7085c2294e08row16_col1\" class=\"data row16 col1\" >False</td>\n",
       "            </tr>\n",
       "            <tr>\n",
       "                        <th id=\"T_cc97c226_aa7e_11ec_ba9f_7085c2294e08level0_row17\" class=\"row_heading level0 row17\" >17</th>\n",
       "                        <td id=\"T_cc97c226_aa7e_11ec_ba9f_7085c2294e08row17_col0\" class=\"data row17 col0\" >Log Experiment</td>\n",
       "                        <td id=\"T_cc97c226_aa7e_11ec_ba9f_7085c2294e08row17_col1\" class=\"data row17 col1\" >False</td>\n",
       "            </tr>\n",
       "            <tr>\n",
       "                        <th id=\"T_cc97c226_aa7e_11ec_ba9f_7085c2294e08level0_row18\" class=\"row_heading level0 row18\" >18</th>\n",
       "                        <td id=\"T_cc97c226_aa7e_11ec_ba9f_7085c2294e08row18_col0\" class=\"data row18 col0\" >Experiment Name</td>\n",
       "                        <td id=\"T_cc97c226_aa7e_11ec_ba9f_7085c2294e08row18_col1\" class=\"data row18 col1\" >reg-default-name</td>\n",
       "            </tr>\n",
       "            <tr>\n",
       "                        <th id=\"T_cc97c226_aa7e_11ec_ba9f_7085c2294e08level0_row19\" class=\"row_heading level0 row19\" >19</th>\n",
       "                        <td id=\"T_cc97c226_aa7e_11ec_ba9f_7085c2294e08row19_col0\" class=\"data row19 col0\" >USI</td>\n",
       "                        <td id=\"T_cc97c226_aa7e_11ec_ba9f_7085c2294e08row19_col1\" class=\"data row19 col1\" >16b3</td>\n",
       "            </tr>\n",
       "            <tr>\n",
       "                        <th id=\"T_cc97c226_aa7e_11ec_ba9f_7085c2294e08level0_row20\" class=\"row_heading level0 row20\" >20</th>\n",
       "                        <td id=\"T_cc97c226_aa7e_11ec_ba9f_7085c2294e08row20_col0\" class=\"data row20 col0\" >Imputation Type</td>\n",
       "                        <td id=\"T_cc97c226_aa7e_11ec_ba9f_7085c2294e08row20_col1\" class=\"data row20 col1\" >simple</td>\n",
       "            </tr>\n",
       "            <tr>\n",
       "                        <th id=\"T_cc97c226_aa7e_11ec_ba9f_7085c2294e08level0_row21\" class=\"row_heading level0 row21\" >21</th>\n",
       "                        <td id=\"T_cc97c226_aa7e_11ec_ba9f_7085c2294e08row21_col0\" class=\"data row21 col0\" >Iterative Imputation Iteration</td>\n",
       "                        <td id=\"T_cc97c226_aa7e_11ec_ba9f_7085c2294e08row21_col1\" class=\"data row21 col1\" >None</td>\n",
       "            </tr>\n",
       "            <tr>\n",
       "                        <th id=\"T_cc97c226_aa7e_11ec_ba9f_7085c2294e08level0_row22\" class=\"row_heading level0 row22\" >22</th>\n",
       "                        <td id=\"T_cc97c226_aa7e_11ec_ba9f_7085c2294e08row22_col0\" class=\"data row22 col0\" >Numeric Imputer</td>\n",
       "                        <td id=\"T_cc97c226_aa7e_11ec_ba9f_7085c2294e08row22_col1\" class=\"data row22 col1\" >mean</td>\n",
       "            </tr>\n",
       "            <tr>\n",
       "                        <th id=\"T_cc97c226_aa7e_11ec_ba9f_7085c2294e08level0_row23\" class=\"row_heading level0 row23\" >23</th>\n",
       "                        <td id=\"T_cc97c226_aa7e_11ec_ba9f_7085c2294e08row23_col0\" class=\"data row23 col0\" >Iterative Imputation Numeric Model</td>\n",
       "                        <td id=\"T_cc97c226_aa7e_11ec_ba9f_7085c2294e08row23_col1\" class=\"data row23 col1\" >None</td>\n",
       "            </tr>\n",
       "            <tr>\n",
       "                        <th id=\"T_cc97c226_aa7e_11ec_ba9f_7085c2294e08level0_row24\" class=\"row_heading level0 row24\" >24</th>\n",
       "                        <td id=\"T_cc97c226_aa7e_11ec_ba9f_7085c2294e08row24_col0\" class=\"data row24 col0\" >Categorical Imputer</td>\n",
       "                        <td id=\"T_cc97c226_aa7e_11ec_ba9f_7085c2294e08row24_col1\" class=\"data row24 col1\" >constant</td>\n",
       "            </tr>\n",
       "            <tr>\n",
       "                        <th id=\"T_cc97c226_aa7e_11ec_ba9f_7085c2294e08level0_row25\" class=\"row_heading level0 row25\" >25</th>\n",
       "                        <td id=\"T_cc97c226_aa7e_11ec_ba9f_7085c2294e08row25_col0\" class=\"data row25 col0\" >Iterative Imputation Categorical Model</td>\n",
       "                        <td id=\"T_cc97c226_aa7e_11ec_ba9f_7085c2294e08row25_col1\" class=\"data row25 col1\" >None</td>\n",
       "            </tr>\n",
       "            <tr>\n",
       "                        <th id=\"T_cc97c226_aa7e_11ec_ba9f_7085c2294e08level0_row26\" class=\"row_heading level0 row26\" >26</th>\n",
       "                        <td id=\"T_cc97c226_aa7e_11ec_ba9f_7085c2294e08row26_col0\" class=\"data row26 col0\" >Unknown Categoricals Handling</td>\n",
       "                        <td id=\"T_cc97c226_aa7e_11ec_ba9f_7085c2294e08row26_col1\" class=\"data row26 col1\" >least_frequent</td>\n",
       "            </tr>\n",
       "            <tr>\n",
       "                        <th id=\"T_cc97c226_aa7e_11ec_ba9f_7085c2294e08level0_row27\" class=\"row_heading level0 row27\" >27</th>\n",
       "                        <td id=\"T_cc97c226_aa7e_11ec_ba9f_7085c2294e08row27_col0\" class=\"data row27 col0\" >Normalize</td>\n",
       "                        <td id=\"T_cc97c226_aa7e_11ec_ba9f_7085c2294e08row27_col1\" class=\"data row27 col1\" >False</td>\n",
       "            </tr>\n",
       "            <tr>\n",
       "                        <th id=\"T_cc97c226_aa7e_11ec_ba9f_7085c2294e08level0_row28\" class=\"row_heading level0 row28\" >28</th>\n",
       "                        <td id=\"T_cc97c226_aa7e_11ec_ba9f_7085c2294e08row28_col0\" class=\"data row28 col0\" >Normalize Method</td>\n",
       "                        <td id=\"T_cc97c226_aa7e_11ec_ba9f_7085c2294e08row28_col1\" class=\"data row28 col1\" >None</td>\n",
       "            </tr>\n",
       "            <tr>\n",
       "                        <th id=\"T_cc97c226_aa7e_11ec_ba9f_7085c2294e08level0_row29\" class=\"row_heading level0 row29\" >29</th>\n",
       "                        <td id=\"T_cc97c226_aa7e_11ec_ba9f_7085c2294e08row29_col0\" class=\"data row29 col0\" >Transformation</td>\n",
       "                        <td id=\"T_cc97c226_aa7e_11ec_ba9f_7085c2294e08row29_col1\" class=\"data row29 col1\" >False</td>\n",
       "            </tr>\n",
       "            <tr>\n",
       "                        <th id=\"T_cc97c226_aa7e_11ec_ba9f_7085c2294e08level0_row30\" class=\"row_heading level0 row30\" >30</th>\n",
       "                        <td id=\"T_cc97c226_aa7e_11ec_ba9f_7085c2294e08row30_col0\" class=\"data row30 col0\" >Transformation Method</td>\n",
       "                        <td id=\"T_cc97c226_aa7e_11ec_ba9f_7085c2294e08row30_col1\" class=\"data row30 col1\" >None</td>\n",
       "            </tr>\n",
       "            <tr>\n",
       "                        <th id=\"T_cc97c226_aa7e_11ec_ba9f_7085c2294e08level0_row31\" class=\"row_heading level0 row31\" >31</th>\n",
       "                        <td id=\"T_cc97c226_aa7e_11ec_ba9f_7085c2294e08row31_col0\" class=\"data row31 col0\" >PCA</td>\n",
       "                        <td id=\"T_cc97c226_aa7e_11ec_ba9f_7085c2294e08row31_col1\" class=\"data row31 col1\" >False</td>\n",
       "            </tr>\n",
       "            <tr>\n",
       "                        <th id=\"T_cc97c226_aa7e_11ec_ba9f_7085c2294e08level0_row32\" class=\"row_heading level0 row32\" >32</th>\n",
       "                        <td id=\"T_cc97c226_aa7e_11ec_ba9f_7085c2294e08row32_col0\" class=\"data row32 col0\" >PCA Method</td>\n",
       "                        <td id=\"T_cc97c226_aa7e_11ec_ba9f_7085c2294e08row32_col1\" class=\"data row32 col1\" >None</td>\n",
       "            </tr>\n",
       "            <tr>\n",
       "                        <th id=\"T_cc97c226_aa7e_11ec_ba9f_7085c2294e08level0_row33\" class=\"row_heading level0 row33\" >33</th>\n",
       "                        <td id=\"T_cc97c226_aa7e_11ec_ba9f_7085c2294e08row33_col0\" class=\"data row33 col0\" >PCA Components</td>\n",
       "                        <td id=\"T_cc97c226_aa7e_11ec_ba9f_7085c2294e08row33_col1\" class=\"data row33 col1\" >None</td>\n",
       "            </tr>\n",
       "            <tr>\n",
       "                        <th id=\"T_cc97c226_aa7e_11ec_ba9f_7085c2294e08level0_row34\" class=\"row_heading level0 row34\" >34</th>\n",
       "                        <td id=\"T_cc97c226_aa7e_11ec_ba9f_7085c2294e08row34_col0\" class=\"data row34 col0\" >Ignore Low Variance</td>\n",
       "                        <td id=\"T_cc97c226_aa7e_11ec_ba9f_7085c2294e08row34_col1\" class=\"data row34 col1\" >False</td>\n",
       "            </tr>\n",
       "            <tr>\n",
       "                        <th id=\"T_cc97c226_aa7e_11ec_ba9f_7085c2294e08level0_row35\" class=\"row_heading level0 row35\" >35</th>\n",
       "                        <td id=\"T_cc97c226_aa7e_11ec_ba9f_7085c2294e08row35_col0\" class=\"data row35 col0\" >Combine Rare Levels</td>\n",
       "                        <td id=\"T_cc97c226_aa7e_11ec_ba9f_7085c2294e08row35_col1\" class=\"data row35 col1\" >False</td>\n",
       "            </tr>\n",
       "            <tr>\n",
       "                        <th id=\"T_cc97c226_aa7e_11ec_ba9f_7085c2294e08level0_row36\" class=\"row_heading level0 row36\" >36</th>\n",
       "                        <td id=\"T_cc97c226_aa7e_11ec_ba9f_7085c2294e08row36_col0\" class=\"data row36 col0\" >Rare Level Threshold</td>\n",
       "                        <td id=\"T_cc97c226_aa7e_11ec_ba9f_7085c2294e08row36_col1\" class=\"data row36 col1\" >None</td>\n",
       "            </tr>\n",
       "            <tr>\n",
       "                        <th id=\"T_cc97c226_aa7e_11ec_ba9f_7085c2294e08level0_row37\" class=\"row_heading level0 row37\" >37</th>\n",
       "                        <td id=\"T_cc97c226_aa7e_11ec_ba9f_7085c2294e08row37_col0\" class=\"data row37 col0\" >Numeric Binning</td>\n",
       "                        <td id=\"T_cc97c226_aa7e_11ec_ba9f_7085c2294e08row37_col1\" class=\"data row37 col1\" >False</td>\n",
       "            </tr>\n",
       "            <tr>\n",
       "                        <th id=\"T_cc97c226_aa7e_11ec_ba9f_7085c2294e08level0_row38\" class=\"row_heading level0 row38\" >38</th>\n",
       "                        <td id=\"T_cc97c226_aa7e_11ec_ba9f_7085c2294e08row38_col0\" class=\"data row38 col0\" >Remove Outliers</td>\n",
       "                        <td id=\"T_cc97c226_aa7e_11ec_ba9f_7085c2294e08row38_col1\" class=\"data row38 col1\" >False</td>\n",
       "            </tr>\n",
       "            <tr>\n",
       "                        <th id=\"T_cc97c226_aa7e_11ec_ba9f_7085c2294e08level0_row39\" class=\"row_heading level0 row39\" >39</th>\n",
       "                        <td id=\"T_cc97c226_aa7e_11ec_ba9f_7085c2294e08row39_col0\" class=\"data row39 col0\" >Outliers Threshold</td>\n",
       "                        <td id=\"T_cc97c226_aa7e_11ec_ba9f_7085c2294e08row39_col1\" class=\"data row39 col1\" >None</td>\n",
       "            </tr>\n",
       "            <tr>\n",
       "                        <th id=\"T_cc97c226_aa7e_11ec_ba9f_7085c2294e08level0_row40\" class=\"row_heading level0 row40\" >40</th>\n",
       "                        <td id=\"T_cc97c226_aa7e_11ec_ba9f_7085c2294e08row40_col0\" class=\"data row40 col0\" >Remove Multicollinearity</td>\n",
       "                        <td id=\"T_cc97c226_aa7e_11ec_ba9f_7085c2294e08row40_col1\" class=\"data row40 col1\" >False</td>\n",
       "            </tr>\n",
       "            <tr>\n",
       "                        <th id=\"T_cc97c226_aa7e_11ec_ba9f_7085c2294e08level0_row41\" class=\"row_heading level0 row41\" >41</th>\n",
       "                        <td id=\"T_cc97c226_aa7e_11ec_ba9f_7085c2294e08row41_col0\" class=\"data row41 col0\" >Multicollinearity Threshold</td>\n",
       "                        <td id=\"T_cc97c226_aa7e_11ec_ba9f_7085c2294e08row41_col1\" class=\"data row41 col1\" >None</td>\n",
       "            </tr>\n",
       "            <tr>\n",
       "                        <th id=\"T_cc97c226_aa7e_11ec_ba9f_7085c2294e08level0_row42\" class=\"row_heading level0 row42\" >42</th>\n",
       "                        <td id=\"T_cc97c226_aa7e_11ec_ba9f_7085c2294e08row42_col0\" class=\"data row42 col0\" >Remove Perfect Collinearity</td>\n",
       "                        <td id=\"T_cc97c226_aa7e_11ec_ba9f_7085c2294e08row42_col1\" class=\"data row42 col1\" >True</td>\n",
       "            </tr>\n",
       "            <tr>\n",
       "                        <th id=\"T_cc97c226_aa7e_11ec_ba9f_7085c2294e08level0_row43\" class=\"row_heading level0 row43\" >43</th>\n",
       "                        <td id=\"T_cc97c226_aa7e_11ec_ba9f_7085c2294e08row43_col0\" class=\"data row43 col0\" >Clustering</td>\n",
       "                        <td id=\"T_cc97c226_aa7e_11ec_ba9f_7085c2294e08row43_col1\" class=\"data row43 col1\" >False</td>\n",
       "            </tr>\n",
       "            <tr>\n",
       "                        <th id=\"T_cc97c226_aa7e_11ec_ba9f_7085c2294e08level0_row44\" class=\"row_heading level0 row44\" >44</th>\n",
       "                        <td id=\"T_cc97c226_aa7e_11ec_ba9f_7085c2294e08row44_col0\" class=\"data row44 col0\" >Clustering Iteration</td>\n",
       "                        <td id=\"T_cc97c226_aa7e_11ec_ba9f_7085c2294e08row44_col1\" class=\"data row44 col1\" >None</td>\n",
       "            </tr>\n",
       "            <tr>\n",
       "                        <th id=\"T_cc97c226_aa7e_11ec_ba9f_7085c2294e08level0_row45\" class=\"row_heading level0 row45\" >45</th>\n",
       "                        <td id=\"T_cc97c226_aa7e_11ec_ba9f_7085c2294e08row45_col0\" class=\"data row45 col0\" >Polynomial Features</td>\n",
       "                        <td id=\"T_cc97c226_aa7e_11ec_ba9f_7085c2294e08row45_col1\" class=\"data row45 col1\" >False</td>\n",
       "            </tr>\n",
       "            <tr>\n",
       "                        <th id=\"T_cc97c226_aa7e_11ec_ba9f_7085c2294e08level0_row46\" class=\"row_heading level0 row46\" >46</th>\n",
       "                        <td id=\"T_cc97c226_aa7e_11ec_ba9f_7085c2294e08row46_col0\" class=\"data row46 col0\" >Polynomial Degree</td>\n",
       "                        <td id=\"T_cc97c226_aa7e_11ec_ba9f_7085c2294e08row46_col1\" class=\"data row46 col1\" >None</td>\n",
       "            </tr>\n",
       "            <tr>\n",
       "                        <th id=\"T_cc97c226_aa7e_11ec_ba9f_7085c2294e08level0_row47\" class=\"row_heading level0 row47\" >47</th>\n",
       "                        <td id=\"T_cc97c226_aa7e_11ec_ba9f_7085c2294e08row47_col0\" class=\"data row47 col0\" >Trignometry Features</td>\n",
       "                        <td id=\"T_cc97c226_aa7e_11ec_ba9f_7085c2294e08row47_col1\" class=\"data row47 col1\" >False</td>\n",
       "            </tr>\n",
       "            <tr>\n",
       "                        <th id=\"T_cc97c226_aa7e_11ec_ba9f_7085c2294e08level0_row48\" class=\"row_heading level0 row48\" >48</th>\n",
       "                        <td id=\"T_cc97c226_aa7e_11ec_ba9f_7085c2294e08row48_col0\" class=\"data row48 col0\" >Polynomial Threshold</td>\n",
       "                        <td id=\"T_cc97c226_aa7e_11ec_ba9f_7085c2294e08row48_col1\" class=\"data row48 col1\" >None</td>\n",
       "            </tr>\n",
       "            <tr>\n",
       "                        <th id=\"T_cc97c226_aa7e_11ec_ba9f_7085c2294e08level0_row49\" class=\"row_heading level0 row49\" >49</th>\n",
       "                        <td id=\"T_cc97c226_aa7e_11ec_ba9f_7085c2294e08row49_col0\" class=\"data row49 col0\" >Group Features</td>\n",
       "                        <td id=\"T_cc97c226_aa7e_11ec_ba9f_7085c2294e08row49_col1\" class=\"data row49 col1\" >False</td>\n",
       "            </tr>\n",
       "            <tr>\n",
       "                        <th id=\"T_cc97c226_aa7e_11ec_ba9f_7085c2294e08level0_row50\" class=\"row_heading level0 row50\" >50</th>\n",
       "                        <td id=\"T_cc97c226_aa7e_11ec_ba9f_7085c2294e08row50_col0\" class=\"data row50 col0\" >Feature Selection</td>\n",
       "                        <td id=\"T_cc97c226_aa7e_11ec_ba9f_7085c2294e08row50_col1\" class=\"data row50 col1\" >False</td>\n",
       "            </tr>\n",
       "            <tr>\n",
       "                        <th id=\"T_cc97c226_aa7e_11ec_ba9f_7085c2294e08level0_row51\" class=\"row_heading level0 row51\" >51</th>\n",
       "                        <td id=\"T_cc97c226_aa7e_11ec_ba9f_7085c2294e08row51_col0\" class=\"data row51 col0\" >Feature Selection Method</td>\n",
       "                        <td id=\"T_cc97c226_aa7e_11ec_ba9f_7085c2294e08row51_col1\" class=\"data row51 col1\" >classic</td>\n",
       "            </tr>\n",
       "            <tr>\n",
       "                        <th id=\"T_cc97c226_aa7e_11ec_ba9f_7085c2294e08level0_row52\" class=\"row_heading level0 row52\" >52</th>\n",
       "                        <td id=\"T_cc97c226_aa7e_11ec_ba9f_7085c2294e08row52_col0\" class=\"data row52 col0\" >Features Selection Threshold</td>\n",
       "                        <td id=\"T_cc97c226_aa7e_11ec_ba9f_7085c2294e08row52_col1\" class=\"data row52 col1\" >None</td>\n",
       "            </tr>\n",
       "            <tr>\n",
       "                        <th id=\"T_cc97c226_aa7e_11ec_ba9f_7085c2294e08level0_row53\" class=\"row_heading level0 row53\" >53</th>\n",
       "                        <td id=\"T_cc97c226_aa7e_11ec_ba9f_7085c2294e08row53_col0\" class=\"data row53 col0\" >Feature Interaction</td>\n",
       "                        <td id=\"T_cc97c226_aa7e_11ec_ba9f_7085c2294e08row53_col1\" class=\"data row53 col1\" >False</td>\n",
       "            </tr>\n",
       "            <tr>\n",
       "                        <th id=\"T_cc97c226_aa7e_11ec_ba9f_7085c2294e08level0_row54\" class=\"row_heading level0 row54\" >54</th>\n",
       "                        <td id=\"T_cc97c226_aa7e_11ec_ba9f_7085c2294e08row54_col0\" class=\"data row54 col0\" >Feature Ratio</td>\n",
       "                        <td id=\"T_cc97c226_aa7e_11ec_ba9f_7085c2294e08row54_col1\" class=\"data row54 col1\" >False</td>\n",
       "            </tr>\n",
       "            <tr>\n",
       "                        <th id=\"T_cc97c226_aa7e_11ec_ba9f_7085c2294e08level0_row55\" class=\"row_heading level0 row55\" >55</th>\n",
       "                        <td id=\"T_cc97c226_aa7e_11ec_ba9f_7085c2294e08row55_col0\" class=\"data row55 col0\" >Interaction Threshold</td>\n",
       "                        <td id=\"T_cc97c226_aa7e_11ec_ba9f_7085c2294e08row55_col1\" class=\"data row55 col1\" >None</td>\n",
       "            </tr>\n",
       "            <tr>\n",
       "                        <th id=\"T_cc97c226_aa7e_11ec_ba9f_7085c2294e08level0_row56\" class=\"row_heading level0 row56\" >56</th>\n",
       "                        <td id=\"T_cc97c226_aa7e_11ec_ba9f_7085c2294e08row56_col0\" class=\"data row56 col0\" >Transform Target</td>\n",
       "                        <td id=\"T_cc97c226_aa7e_11ec_ba9f_7085c2294e08row56_col1\" class=\"data row56 col1\" >False</td>\n",
       "            </tr>\n",
       "            <tr>\n",
       "                        <th id=\"T_cc97c226_aa7e_11ec_ba9f_7085c2294e08level0_row57\" class=\"row_heading level0 row57\" >57</th>\n",
       "                        <td id=\"T_cc97c226_aa7e_11ec_ba9f_7085c2294e08row57_col0\" class=\"data row57 col0\" >Transform Target Method</td>\n",
       "                        <td id=\"T_cc97c226_aa7e_11ec_ba9f_7085c2294e08row57_col1\" class=\"data row57 col1\" >box-cox</td>\n",
       "            </tr>\n",
       "    </tbody></table>"
      ],
      "text/plain": [
       "<pandas.io.formats.style.Styler at 0x1d65f089700>"
      ]
     },
     "metadata": {},
     "output_type": "display_data"
    }
   ],
   "source": [
    "setup_clf = setup(data = train, target='Target', fold=5, silent=True)"
   ]
  },
  {
   "cell_type": "code",
   "execution_count": 13,
   "metadata": {
    "scrolled": true
   },
   "outputs": [
    {
     "data": {
      "text/html": [
       "<style  type=\"text/css\" >\n",
       "    #T_29cfa169_aa7f_11ec_a4df_7085c2294e08 th {\n",
       "          text-align: left;\n",
       "    }#T_29cfa169_aa7f_11ec_a4df_7085c2294e08row0_col0,#T_29cfa169_aa7f_11ec_a4df_7085c2294e08row0_col2,#T_29cfa169_aa7f_11ec_a4df_7085c2294e08row0_col3,#T_29cfa169_aa7f_11ec_a4df_7085c2294e08row0_col4,#T_29cfa169_aa7f_11ec_a4df_7085c2294e08row0_col5,#T_29cfa169_aa7f_11ec_a4df_7085c2294e08row1_col0,#T_29cfa169_aa7f_11ec_a4df_7085c2294e08row1_col1,#T_29cfa169_aa7f_11ec_a4df_7085c2294e08row1_col2,#T_29cfa169_aa7f_11ec_a4df_7085c2294e08row1_col3,#T_29cfa169_aa7f_11ec_a4df_7085c2294e08row1_col4,#T_29cfa169_aa7f_11ec_a4df_7085c2294e08row1_col5,#T_29cfa169_aa7f_11ec_a4df_7085c2294e08row1_col6,#T_29cfa169_aa7f_11ec_a4df_7085c2294e08row2_col0,#T_29cfa169_aa7f_11ec_a4df_7085c2294e08row2_col1,#T_29cfa169_aa7f_11ec_a4df_7085c2294e08row2_col2,#T_29cfa169_aa7f_11ec_a4df_7085c2294e08row2_col3,#T_29cfa169_aa7f_11ec_a4df_7085c2294e08row2_col4,#T_29cfa169_aa7f_11ec_a4df_7085c2294e08row2_col5,#T_29cfa169_aa7f_11ec_a4df_7085c2294e08row2_col6,#T_29cfa169_aa7f_11ec_a4df_7085c2294e08row3_col0,#T_29cfa169_aa7f_11ec_a4df_7085c2294e08row3_col1,#T_29cfa169_aa7f_11ec_a4df_7085c2294e08row3_col5,#T_29cfa169_aa7f_11ec_a4df_7085c2294e08row3_col6,#T_29cfa169_aa7f_11ec_a4df_7085c2294e08row4_col0,#T_29cfa169_aa7f_11ec_a4df_7085c2294e08row4_col1,#T_29cfa169_aa7f_11ec_a4df_7085c2294e08row4_col2,#T_29cfa169_aa7f_11ec_a4df_7085c2294e08row4_col3,#T_29cfa169_aa7f_11ec_a4df_7085c2294e08row4_col4,#T_29cfa169_aa7f_11ec_a4df_7085c2294e08row4_col5,#T_29cfa169_aa7f_11ec_a4df_7085c2294e08row4_col6,#T_29cfa169_aa7f_11ec_a4df_7085c2294e08row5_col0,#T_29cfa169_aa7f_11ec_a4df_7085c2294e08row5_col1,#T_29cfa169_aa7f_11ec_a4df_7085c2294e08row5_col2,#T_29cfa169_aa7f_11ec_a4df_7085c2294e08row5_col3,#T_29cfa169_aa7f_11ec_a4df_7085c2294e08row5_col4,#T_29cfa169_aa7f_11ec_a4df_7085c2294e08row5_col6,#T_29cfa169_aa7f_11ec_a4df_7085c2294e08row6_col0,#T_29cfa169_aa7f_11ec_a4df_7085c2294e08row6_col1,#T_29cfa169_aa7f_11ec_a4df_7085c2294e08row6_col2,#T_29cfa169_aa7f_11ec_a4df_7085c2294e08row6_col3,#T_29cfa169_aa7f_11ec_a4df_7085c2294e08row6_col4,#T_29cfa169_aa7f_11ec_a4df_7085c2294e08row6_col5,#T_29cfa169_aa7f_11ec_a4df_7085c2294e08row6_col6,#T_29cfa169_aa7f_11ec_a4df_7085c2294e08row7_col0,#T_29cfa169_aa7f_11ec_a4df_7085c2294e08row7_col1,#T_29cfa169_aa7f_11ec_a4df_7085c2294e08row7_col2,#T_29cfa169_aa7f_11ec_a4df_7085c2294e08row7_col3,#T_29cfa169_aa7f_11ec_a4df_7085c2294e08row7_col4,#T_29cfa169_aa7f_11ec_a4df_7085c2294e08row7_col5,#T_29cfa169_aa7f_11ec_a4df_7085c2294e08row7_col6,#T_29cfa169_aa7f_11ec_a4df_7085c2294e08row8_col0,#T_29cfa169_aa7f_11ec_a4df_7085c2294e08row8_col1,#T_29cfa169_aa7f_11ec_a4df_7085c2294e08row8_col2,#T_29cfa169_aa7f_11ec_a4df_7085c2294e08row8_col3,#T_29cfa169_aa7f_11ec_a4df_7085c2294e08row8_col4,#T_29cfa169_aa7f_11ec_a4df_7085c2294e08row8_col5,#T_29cfa169_aa7f_11ec_a4df_7085c2294e08row8_col6,#T_29cfa169_aa7f_11ec_a4df_7085c2294e08row9_col0,#T_29cfa169_aa7f_11ec_a4df_7085c2294e08row9_col1,#T_29cfa169_aa7f_11ec_a4df_7085c2294e08row9_col2,#T_29cfa169_aa7f_11ec_a4df_7085c2294e08row9_col3,#T_29cfa169_aa7f_11ec_a4df_7085c2294e08row9_col4,#T_29cfa169_aa7f_11ec_a4df_7085c2294e08row9_col5,#T_29cfa169_aa7f_11ec_a4df_7085c2294e08row9_col6,#T_29cfa169_aa7f_11ec_a4df_7085c2294e08row10_col0,#T_29cfa169_aa7f_11ec_a4df_7085c2294e08row10_col1,#T_29cfa169_aa7f_11ec_a4df_7085c2294e08row10_col2,#T_29cfa169_aa7f_11ec_a4df_7085c2294e08row10_col3,#T_29cfa169_aa7f_11ec_a4df_7085c2294e08row10_col4,#T_29cfa169_aa7f_11ec_a4df_7085c2294e08row10_col5,#T_29cfa169_aa7f_11ec_a4df_7085c2294e08row10_col6,#T_29cfa169_aa7f_11ec_a4df_7085c2294e08row11_col0,#T_29cfa169_aa7f_11ec_a4df_7085c2294e08row11_col1,#T_29cfa169_aa7f_11ec_a4df_7085c2294e08row11_col2,#T_29cfa169_aa7f_11ec_a4df_7085c2294e08row11_col3,#T_29cfa169_aa7f_11ec_a4df_7085c2294e08row11_col4,#T_29cfa169_aa7f_11ec_a4df_7085c2294e08row11_col5,#T_29cfa169_aa7f_11ec_a4df_7085c2294e08row11_col6,#T_29cfa169_aa7f_11ec_a4df_7085c2294e08row12_col0,#T_29cfa169_aa7f_11ec_a4df_7085c2294e08row12_col1,#T_29cfa169_aa7f_11ec_a4df_7085c2294e08row12_col2,#T_29cfa169_aa7f_11ec_a4df_7085c2294e08row12_col3,#T_29cfa169_aa7f_11ec_a4df_7085c2294e08row12_col4,#T_29cfa169_aa7f_11ec_a4df_7085c2294e08row12_col5,#T_29cfa169_aa7f_11ec_a4df_7085c2294e08row12_col6,#T_29cfa169_aa7f_11ec_a4df_7085c2294e08row13_col0,#T_29cfa169_aa7f_11ec_a4df_7085c2294e08row13_col1,#T_29cfa169_aa7f_11ec_a4df_7085c2294e08row13_col2,#T_29cfa169_aa7f_11ec_a4df_7085c2294e08row13_col3,#T_29cfa169_aa7f_11ec_a4df_7085c2294e08row13_col4,#T_29cfa169_aa7f_11ec_a4df_7085c2294e08row13_col5,#T_29cfa169_aa7f_11ec_a4df_7085c2294e08row13_col6,#T_29cfa169_aa7f_11ec_a4df_7085c2294e08row14_col0,#T_29cfa169_aa7f_11ec_a4df_7085c2294e08row14_col1,#T_29cfa169_aa7f_11ec_a4df_7085c2294e08row14_col2,#T_29cfa169_aa7f_11ec_a4df_7085c2294e08row14_col3,#T_29cfa169_aa7f_11ec_a4df_7085c2294e08row14_col4,#T_29cfa169_aa7f_11ec_a4df_7085c2294e08row14_col5,#T_29cfa169_aa7f_11ec_a4df_7085c2294e08row14_col6,#T_29cfa169_aa7f_11ec_a4df_7085c2294e08row15_col0,#T_29cfa169_aa7f_11ec_a4df_7085c2294e08row15_col1,#T_29cfa169_aa7f_11ec_a4df_7085c2294e08row15_col2,#T_29cfa169_aa7f_11ec_a4df_7085c2294e08row15_col3,#T_29cfa169_aa7f_11ec_a4df_7085c2294e08row15_col4,#T_29cfa169_aa7f_11ec_a4df_7085c2294e08row15_col5,#T_29cfa169_aa7f_11ec_a4df_7085c2294e08row15_col6,#T_29cfa169_aa7f_11ec_a4df_7085c2294e08row16_col0,#T_29cfa169_aa7f_11ec_a4df_7085c2294e08row16_col1,#T_29cfa169_aa7f_11ec_a4df_7085c2294e08row16_col2,#T_29cfa169_aa7f_11ec_a4df_7085c2294e08row16_col3,#T_29cfa169_aa7f_11ec_a4df_7085c2294e08row16_col4,#T_29cfa169_aa7f_11ec_a4df_7085c2294e08row16_col5,#T_29cfa169_aa7f_11ec_a4df_7085c2294e08row16_col6,#T_29cfa169_aa7f_11ec_a4df_7085c2294e08row17_col0,#T_29cfa169_aa7f_11ec_a4df_7085c2294e08row17_col1,#T_29cfa169_aa7f_11ec_a4df_7085c2294e08row17_col2,#T_29cfa169_aa7f_11ec_a4df_7085c2294e08row17_col3,#T_29cfa169_aa7f_11ec_a4df_7085c2294e08row17_col4,#T_29cfa169_aa7f_11ec_a4df_7085c2294e08row17_col5,#T_29cfa169_aa7f_11ec_a4df_7085c2294e08row17_col6,#T_29cfa169_aa7f_11ec_a4df_7085c2294e08row18_col0,#T_29cfa169_aa7f_11ec_a4df_7085c2294e08row18_col1,#T_29cfa169_aa7f_11ec_a4df_7085c2294e08row18_col2,#T_29cfa169_aa7f_11ec_a4df_7085c2294e08row18_col3,#T_29cfa169_aa7f_11ec_a4df_7085c2294e08row18_col4,#T_29cfa169_aa7f_11ec_a4df_7085c2294e08row18_col5,#T_29cfa169_aa7f_11ec_a4df_7085c2294e08row18_col6,#T_29cfa169_aa7f_11ec_a4df_7085c2294e08row19_col0,#T_29cfa169_aa7f_11ec_a4df_7085c2294e08row19_col1,#T_29cfa169_aa7f_11ec_a4df_7085c2294e08row19_col2,#T_29cfa169_aa7f_11ec_a4df_7085c2294e08row19_col3,#T_29cfa169_aa7f_11ec_a4df_7085c2294e08row19_col4,#T_29cfa169_aa7f_11ec_a4df_7085c2294e08row19_col5,#T_29cfa169_aa7f_11ec_a4df_7085c2294e08row19_col6{\n",
       "            text-align:  left;\n",
       "            text-align:  left;\n",
       "        }#T_29cfa169_aa7f_11ec_a4df_7085c2294e08row0_col1,#T_29cfa169_aa7f_11ec_a4df_7085c2294e08row0_col6,#T_29cfa169_aa7f_11ec_a4df_7085c2294e08row3_col2,#T_29cfa169_aa7f_11ec_a4df_7085c2294e08row3_col3,#T_29cfa169_aa7f_11ec_a4df_7085c2294e08row3_col4,#T_29cfa169_aa7f_11ec_a4df_7085c2294e08row5_col5{\n",
       "            text-align:  left;\n",
       "            text-align:  left;\n",
       "            background-color:  yellow;\n",
       "        }#T_29cfa169_aa7f_11ec_a4df_7085c2294e08row0_col7,#T_29cfa169_aa7f_11ec_a4df_7085c2294e08row2_col7,#T_29cfa169_aa7f_11ec_a4df_7085c2294e08row3_col7,#T_29cfa169_aa7f_11ec_a4df_7085c2294e08row5_col7,#T_29cfa169_aa7f_11ec_a4df_7085c2294e08row6_col7,#T_29cfa169_aa7f_11ec_a4df_7085c2294e08row7_col7,#T_29cfa169_aa7f_11ec_a4df_7085c2294e08row8_col7,#T_29cfa169_aa7f_11ec_a4df_7085c2294e08row9_col7,#T_29cfa169_aa7f_11ec_a4df_7085c2294e08row10_col7,#T_29cfa169_aa7f_11ec_a4df_7085c2294e08row11_col7,#T_29cfa169_aa7f_11ec_a4df_7085c2294e08row13_col7,#T_29cfa169_aa7f_11ec_a4df_7085c2294e08row15_col7,#T_29cfa169_aa7f_11ec_a4df_7085c2294e08row16_col7{\n",
       "            text-align:  left;\n",
       "            text-align:  left;\n",
       "            background-color:  lightgrey;\n",
       "        }#T_29cfa169_aa7f_11ec_a4df_7085c2294e08row1_col7,#T_29cfa169_aa7f_11ec_a4df_7085c2294e08row4_col7,#T_29cfa169_aa7f_11ec_a4df_7085c2294e08row12_col7,#T_29cfa169_aa7f_11ec_a4df_7085c2294e08row14_col7,#T_29cfa169_aa7f_11ec_a4df_7085c2294e08row17_col7,#T_29cfa169_aa7f_11ec_a4df_7085c2294e08row18_col7,#T_29cfa169_aa7f_11ec_a4df_7085c2294e08row19_col7{\n",
       "            text-align:  left;\n",
       "            text-align:  left;\n",
       "            background-color:  yellow;\n",
       "            background-color:  lightgrey;\n",
       "        }</style><table id=\"T_29cfa169_aa7f_11ec_a4df_7085c2294e08\" ><thead>    <tr>        <th class=\"blank level0\" ></th>        <th class=\"col_heading level0 col0\" >Model</th>        <th class=\"col_heading level0 col1\" >MAE</th>        <th class=\"col_heading level0 col2\" >MSE</th>        <th class=\"col_heading level0 col3\" >RMSE</th>        <th class=\"col_heading level0 col4\" >R2</th>        <th class=\"col_heading level0 col5\" >RMSLE</th>        <th class=\"col_heading level0 col6\" >MAPE</th>        <th class=\"col_heading level0 col7\" >TT (Sec)</th>    </tr></thead><tbody>\n",
       "                <tr>\n",
       "                        <th id=\"T_29cfa169_aa7f_11ec_a4df_7085c2294e08level0_row0\" class=\"row_heading level0 row0\" >huber</th>\n",
       "                        <td id=\"T_29cfa169_aa7f_11ec_a4df_7085c2294e08row0_col0\" class=\"data row0 col0\" >Huber Regressor</td>\n",
       "                        <td id=\"T_29cfa169_aa7f_11ec_a4df_7085c2294e08row0_col1\" class=\"data row0 col1\" >1.5827</td>\n",
       "                        <td id=\"T_29cfa169_aa7f_11ec_a4df_7085c2294e08row0_col2\" class=\"data row0 col2\" >5.2018</td>\n",
       "                        <td id=\"T_29cfa169_aa7f_11ec_a4df_7085c2294e08row0_col3\" class=\"data row0 col3\" >2.2770</td>\n",
       "                        <td id=\"T_29cfa169_aa7f_11ec_a4df_7085c2294e08row0_col4\" class=\"data row0 col4\" >0.4683</td>\n",
       "                        <td id=\"T_29cfa169_aa7f_11ec_a4df_7085c2294e08row0_col5\" class=\"data row0 col5\" >0.1887</td>\n",
       "                        <td id=\"T_29cfa169_aa7f_11ec_a4df_7085c2294e08row0_col6\" class=\"data row0 col6\" >0.1539</td>\n",
       "                        <td id=\"T_29cfa169_aa7f_11ec_a4df_7085c2294e08row0_col7\" class=\"data row0 col7\" >0.0180</td>\n",
       "            </tr>\n",
       "            <tr>\n",
       "                        <th id=\"T_29cfa169_aa7f_11ec_a4df_7085c2294e08level0_row1\" class=\"row_heading level0 row1\" >lr</th>\n",
       "                        <td id=\"T_29cfa169_aa7f_11ec_a4df_7085c2294e08row1_col0\" class=\"data row1 col0\" >Linear Regression</td>\n",
       "                        <td id=\"T_29cfa169_aa7f_11ec_a4df_7085c2294e08row1_col1\" class=\"data row1 col1\" >1.6238</td>\n",
       "                        <td id=\"T_29cfa169_aa7f_11ec_a4df_7085c2294e08row1_col2\" class=\"data row1 col2\" >5.0891</td>\n",
       "                        <td id=\"T_29cfa169_aa7f_11ec_a4df_7085c2294e08row1_col3\" class=\"data row1 col3\" >2.2525</td>\n",
       "                        <td id=\"T_29cfa169_aa7f_11ec_a4df_7085c2294e08row1_col4\" class=\"data row1 col4\" >0.4764</td>\n",
       "                        <td id=\"T_29cfa169_aa7f_11ec_a4df_7085c2294e08row1_col5\" class=\"data row1 col5\" >0.1884</td>\n",
       "                        <td id=\"T_29cfa169_aa7f_11ec_a4df_7085c2294e08row1_col6\" class=\"data row1 col6\" >0.1654</td>\n",
       "                        <td id=\"T_29cfa169_aa7f_11ec_a4df_7085c2294e08row1_col7\" class=\"data row1 col7\" >0.0060</td>\n",
       "            </tr>\n",
       "            <tr>\n",
       "                        <th id=\"T_29cfa169_aa7f_11ec_a4df_7085c2294e08level0_row2\" class=\"row_heading level0 row2\" >lar</th>\n",
       "                        <td id=\"T_29cfa169_aa7f_11ec_a4df_7085c2294e08row2_col0\" class=\"data row2 col0\" >Least Angle Regression</td>\n",
       "                        <td id=\"T_29cfa169_aa7f_11ec_a4df_7085c2294e08row2_col1\" class=\"data row2 col1\" >1.6238</td>\n",
       "                        <td id=\"T_29cfa169_aa7f_11ec_a4df_7085c2294e08row2_col2\" class=\"data row2 col2\" >5.0890</td>\n",
       "                        <td id=\"T_29cfa169_aa7f_11ec_a4df_7085c2294e08row2_col3\" class=\"data row2 col3\" >2.2525</td>\n",
       "                        <td id=\"T_29cfa169_aa7f_11ec_a4df_7085c2294e08row2_col4\" class=\"data row2 col4\" >0.4764</td>\n",
       "                        <td id=\"T_29cfa169_aa7f_11ec_a4df_7085c2294e08row2_col5\" class=\"data row2 col5\" >0.1884</td>\n",
       "                        <td id=\"T_29cfa169_aa7f_11ec_a4df_7085c2294e08row2_col6\" class=\"data row2 col6\" >0.1654</td>\n",
       "                        <td id=\"T_29cfa169_aa7f_11ec_a4df_7085c2294e08row2_col7\" class=\"data row2 col7\" >0.0080</td>\n",
       "            </tr>\n",
       "            <tr>\n",
       "                        <th id=\"T_29cfa169_aa7f_11ec_a4df_7085c2294e08level0_row3\" class=\"row_heading level0 row3\" >br</th>\n",
       "                        <td id=\"T_29cfa169_aa7f_11ec_a4df_7085c2294e08row3_col0\" class=\"data row3 col0\" >Bayesian Ridge</td>\n",
       "                        <td id=\"T_29cfa169_aa7f_11ec_a4df_7085c2294e08row3_col1\" class=\"data row3 col1\" >1.6238</td>\n",
       "                        <td id=\"T_29cfa169_aa7f_11ec_a4df_7085c2294e08row3_col2\" class=\"data row3 col2\" >5.0817</td>\n",
       "                        <td id=\"T_29cfa169_aa7f_11ec_a4df_7085c2294e08row3_col3\" class=\"data row3 col3\" >2.2514</td>\n",
       "                        <td id=\"T_29cfa169_aa7f_11ec_a4df_7085c2294e08row3_col4\" class=\"data row3 col4\" >0.4779</td>\n",
       "                        <td id=\"T_29cfa169_aa7f_11ec_a4df_7085c2294e08row3_col5\" class=\"data row3 col5\" >0.1891</td>\n",
       "                        <td id=\"T_29cfa169_aa7f_11ec_a4df_7085c2294e08row3_col6\" class=\"data row3 col6\" >0.1655</td>\n",
       "                        <td id=\"T_29cfa169_aa7f_11ec_a4df_7085c2294e08row3_col7\" class=\"data row3 col7\" >0.0080</td>\n",
       "            </tr>\n",
       "            <tr>\n",
       "                        <th id=\"T_29cfa169_aa7f_11ec_a4df_7085c2294e08level0_row4\" class=\"row_heading level0 row4\" >ridge</th>\n",
       "                        <td id=\"T_29cfa169_aa7f_11ec_a4df_7085c2294e08row4_col0\" class=\"data row4 col0\" >Ridge Regression</td>\n",
       "                        <td id=\"T_29cfa169_aa7f_11ec_a4df_7085c2294e08row4_col1\" class=\"data row4 col1\" >1.6389</td>\n",
       "                        <td id=\"T_29cfa169_aa7f_11ec_a4df_7085c2294e08row4_col2\" class=\"data row4 col2\" >5.1863</td>\n",
       "                        <td id=\"T_29cfa169_aa7f_11ec_a4df_7085c2294e08row4_col3\" class=\"data row4 col3\" >2.2750</td>\n",
       "                        <td id=\"T_29cfa169_aa7f_11ec_a4df_7085c2294e08row4_col4\" class=\"data row4 col4\" >0.4699</td>\n",
       "                        <td id=\"T_29cfa169_aa7f_11ec_a4df_7085c2294e08row4_col5\" class=\"data row4 col5\" >0.1917</td>\n",
       "                        <td id=\"T_29cfa169_aa7f_11ec_a4df_7085c2294e08row4_col6\" class=\"data row4 col6\" >0.1684</td>\n",
       "                        <td id=\"T_29cfa169_aa7f_11ec_a4df_7085c2294e08row4_col7\" class=\"data row4 col7\" >0.0060</td>\n",
       "            </tr>\n",
       "            <tr>\n",
       "                        <th id=\"T_29cfa169_aa7f_11ec_a4df_7085c2294e08level0_row5\" class=\"row_heading level0 row5\" >rf</th>\n",
       "                        <td id=\"T_29cfa169_aa7f_11ec_a4df_7085c2294e08row5_col0\" class=\"data row5 col0\" >Random Forest Regressor</td>\n",
       "                        <td id=\"T_29cfa169_aa7f_11ec_a4df_7085c2294e08row5_col1\" class=\"data row5 col1\" >1.6424</td>\n",
       "                        <td id=\"T_29cfa169_aa7f_11ec_a4df_7085c2294e08row5_col2\" class=\"data row5 col2\" >5.2736</td>\n",
       "                        <td id=\"T_29cfa169_aa7f_11ec_a4df_7085c2294e08row5_col3\" class=\"data row5 col3\" >2.2932</td>\n",
       "                        <td id=\"T_29cfa169_aa7f_11ec_a4df_7085c2294e08row5_col4\" class=\"data row5 col4\" >0.4586</td>\n",
       "                        <td id=\"T_29cfa169_aa7f_11ec_a4df_7085c2294e08row5_col5\" class=\"data row5 col5\" >0.1879</td>\n",
       "                        <td id=\"T_29cfa169_aa7f_11ec_a4df_7085c2294e08row5_col6\" class=\"data row5 col6\" >0.1650</td>\n",
       "                        <td id=\"T_29cfa169_aa7f_11ec_a4df_7085c2294e08row5_col7\" class=\"data row5 col7\" >0.1600</td>\n",
       "            </tr>\n",
       "            <tr>\n",
       "                        <th id=\"T_29cfa169_aa7f_11ec_a4df_7085c2294e08level0_row6\" class=\"row_heading level0 row6\" >gbr</th>\n",
       "                        <td id=\"T_29cfa169_aa7f_11ec_a4df_7085c2294e08row6_col0\" class=\"data row6 col0\" >Gradient Boosting Regressor</td>\n",
       "                        <td id=\"T_29cfa169_aa7f_11ec_a4df_7085c2294e08row6_col1\" class=\"data row6 col1\" >1.6449</td>\n",
       "                        <td id=\"T_29cfa169_aa7f_11ec_a4df_7085c2294e08row6_col2\" class=\"data row6 col2\" >5.3179</td>\n",
       "                        <td id=\"T_29cfa169_aa7f_11ec_a4df_7085c2294e08row6_col3\" class=\"data row6 col3\" >2.3049</td>\n",
       "                        <td id=\"T_29cfa169_aa7f_11ec_a4df_7085c2294e08row6_col4\" class=\"data row6 col4\" >0.4499</td>\n",
       "                        <td id=\"T_29cfa169_aa7f_11ec_a4df_7085c2294e08row6_col5\" class=\"data row6 col5\" >0.1886</td>\n",
       "                        <td id=\"T_29cfa169_aa7f_11ec_a4df_7085c2294e08row6_col6\" class=\"data row6 col6\" >0.1662</td>\n",
       "                        <td id=\"T_29cfa169_aa7f_11ec_a4df_7085c2294e08row6_col7\" class=\"data row6 col7\" >0.0560</td>\n",
       "            </tr>\n",
       "            <tr>\n",
       "                        <th id=\"T_29cfa169_aa7f_11ec_a4df_7085c2294e08level0_row7\" class=\"row_heading level0 row7\" >et</th>\n",
       "                        <td id=\"T_29cfa169_aa7f_11ec_a4df_7085c2294e08row7_col0\" class=\"data row7 col0\" >Extra Trees Regressor</td>\n",
       "                        <td id=\"T_29cfa169_aa7f_11ec_a4df_7085c2294e08row7_col1\" class=\"data row7 col1\" >1.6506</td>\n",
       "                        <td id=\"T_29cfa169_aa7f_11ec_a4df_7085c2294e08row7_col2\" class=\"data row7 col2\" >5.3070</td>\n",
       "                        <td id=\"T_29cfa169_aa7f_11ec_a4df_7085c2294e08row7_col3\" class=\"data row7 col3\" >2.3000</td>\n",
       "                        <td id=\"T_29cfa169_aa7f_11ec_a4df_7085c2294e08row7_col4\" class=\"data row7 col4\" >0.4559</td>\n",
       "                        <td id=\"T_29cfa169_aa7f_11ec_a4df_7085c2294e08row7_col5\" class=\"data row7 col5\" >0.1891</td>\n",
       "                        <td id=\"T_29cfa169_aa7f_11ec_a4df_7085c2294e08row7_col6\" class=\"data row7 col6\" >0.1667</td>\n",
       "                        <td id=\"T_29cfa169_aa7f_11ec_a4df_7085c2294e08row7_col7\" class=\"data row7 col7\" >0.1160</td>\n",
       "            </tr>\n",
       "            <tr>\n",
       "                        <th id=\"T_29cfa169_aa7f_11ec_a4df_7085c2294e08level0_row8\" class=\"row_heading level0 row8\" >catboost</th>\n",
       "                        <td id=\"T_29cfa169_aa7f_11ec_a4df_7085c2294e08row8_col0\" class=\"data row8 col0\" >CatBoost Regressor</td>\n",
       "                        <td id=\"T_29cfa169_aa7f_11ec_a4df_7085c2294e08row8_col1\" class=\"data row8 col1\" >1.6662</td>\n",
       "                        <td id=\"T_29cfa169_aa7f_11ec_a4df_7085c2294e08row8_col2\" class=\"data row8 col2\" >5.3537</td>\n",
       "                        <td id=\"T_29cfa169_aa7f_11ec_a4df_7085c2294e08row8_col3\" class=\"data row8 col3\" >2.3120</td>\n",
       "                        <td id=\"T_29cfa169_aa7f_11ec_a4df_7085c2294e08row8_col4\" class=\"data row8 col4\" >0.4485</td>\n",
       "                        <td id=\"T_29cfa169_aa7f_11ec_a4df_7085c2294e08row8_col5\" class=\"data row8 col5\" >0.1891</td>\n",
       "                        <td id=\"T_29cfa169_aa7f_11ec_a4df_7085c2294e08row8_col6\" class=\"data row8 col6\" >0.1669</td>\n",
       "                        <td id=\"T_29cfa169_aa7f_11ec_a4df_7085c2294e08row8_col7\" class=\"data row8 col7\" >1.1560</td>\n",
       "            </tr>\n",
       "            <tr>\n",
       "                        <th id=\"T_29cfa169_aa7f_11ec_a4df_7085c2294e08level0_row9\" class=\"row_heading level0 row9\" >knn</th>\n",
       "                        <td id=\"T_29cfa169_aa7f_11ec_a4df_7085c2294e08row9_col0\" class=\"data row9 col0\" >K Neighbors Regressor</td>\n",
       "                        <td id=\"T_29cfa169_aa7f_11ec_a4df_7085c2294e08row9_col1\" class=\"data row9 col1\" >1.6797</td>\n",
       "                        <td id=\"T_29cfa169_aa7f_11ec_a4df_7085c2294e08row9_col2\" class=\"data row9 col2\" >5.6296</td>\n",
       "                        <td id=\"T_29cfa169_aa7f_11ec_a4df_7085c2294e08row9_col3\" class=\"data row9 col3\" >2.3696</td>\n",
       "                        <td id=\"T_29cfa169_aa7f_11ec_a4df_7085c2294e08row9_col4\" class=\"data row9 col4\" >0.4235</td>\n",
       "                        <td id=\"T_29cfa169_aa7f_11ec_a4df_7085c2294e08row9_col5\" class=\"data row9 col5\" >0.1961</td>\n",
       "                        <td id=\"T_29cfa169_aa7f_11ec_a4df_7085c2294e08row9_col6\" class=\"data row9 col6\" >0.1689</td>\n",
       "                        <td id=\"T_29cfa169_aa7f_11ec_a4df_7085c2294e08row9_col7\" class=\"data row9 col7\" >0.0120</td>\n",
       "            </tr>\n",
       "            <tr>\n",
       "                        <th id=\"T_29cfa169_aa7f_11ec_a4df_7085c2294e08level0_row10\" class=\"row_heading level0 row10\" >lightgbm</th>\n",
       "                        <td id=\"T_29cfa169_aa7f_11ec_a4df_7085c2294e08row10_col0\" class=\"data row10 col0\" >Light Gradient Boosting Machine</td>\n",
       "                        <td id=\"T_29cfa169_aa7f_11ec_a4df_7085c2294e08row10_col1\" class=\"data row10 col1\" >1.6893</td>\n",
       "                        <td id=\"T_29cfa169_aa7f_11ec_a4df_7085c2294e08row10_col2\" class=\"data row10 col2\" >5.4572</td>\n",
       "                        <td id=\"T_29cfa169_aa7f_11ec_a4df_7085c2294e08row10_col3\" class=\"data row10 col3\" >2.3340</td>\n",
       "                        <td id=\"T_29cfa169_aa7f_11ec_a4df_7085c2294e08row10_col4\" class=\"data row10 col4\" >0.4367</td>\n",
       "                        <td id=\"T_29cfa169_aa7f_11ec_a4df_7085c2294e08row10_col5\" class=\"data row10 col5\" >0.1948</td>\n",
       "                        <td id=\"T_29cfa169_aa7f_11ec_a4df_7085c2294e08row10_col6\" class=\"data row10 col6\" >0.1711</td>\n",
       "                        <td id=\"T_29cfa169_aa7f_11ec_a4df_7085c2294e08row10_col7\" class=\"data row10 col7\" >0.0760</td>\n",
       "            </tr>\n",
       "            <tr>\n",
       "                        <th id=\"T_29cfa169_aa7f_11ec_a4df_7085c2294e08level0_row11\" class=\"row_heading level0 row11\" >xgboost</th>\n",
       "                        <td id=\"T_29cfa169_aa7f_11ec_a4df_7085c2294e08row11_col0\" class=\"data row11 col0\" >Extreme Gradient Boosting</td>\n",
       "                        <td id=\"T_29cfa169_aa7f_11ec_a4df_7085c2294e08row11_col1\" class=\"data row11 col1\" >1.7876</td>\n",
       "                        <td id=\"T_29cfa169_aa7f_11ec_a4df_7085c2294e08row11_col2\" class=\"data row11 col2\" >6.0272</td>\n",
       "                        <td id=\"T_29cfa169_aa7f_11ec_a4df_7085c2294e08row11_col3\" class=\"data row11 col3\" >2.4534</td>\n",
       "                        <td id=\"T_29cfa169_aa7f_11ec_a4df_7085c2294e08row11_col4\" class=\"data row11 col4\" >0.3761</td>\n",
       "                        <td id=\"T_29cfa169_aa7f_11ec_a4df_7085c2294e08row11_col5\" class=\"data row11 col5\" >0.2033</td>\n",
       "                        <td id=\"T_29cfa169_aa7f_11ec_a4df_7085c2294e08row11_col6\" class=\"data row11 col6\" >0.1812</td>\n",
       "                        <td id=\"T_29cfa169_aa7f_11ec_a4df_7085c2294e08row11_col7\" class=\"data row11 col7\" >0.1320</td>\n",
       "            </tr>\n",
       "            <tr>\n",
       "                        <th id=\"T_29cfa169_aa7f_11ec_a4df_7085c2294e08level0_row12\" class=\"row_heading level0 row12\" >omp</th>\n",
       "                        <td id=\"T_29cfa169_aa7f_11ec_a4df_7085c2294e08row12_col0\" class=\"data row12 col0\" >Orthogonal Matching Pursuit</td>\n",
       "                        <td id=\"T_29cfa169_aa7f_11ec_a4df_7085c2294e08row12_col1\" class=\"data row12 col1\" >1.8198</td>\n",
       "                        <td id=\"T_29cfa169_aa7f_11ec_a4df_7085c2294e08row12_col2\" class=\"data row12 col2\" >6.0910</td>\n",
       "                        <td id=\"T_29cfa169_aa7f_11ec_a4df_7085c2294e08row12_col3\" class=\"data row12 col3\" >2.4646</td>\n",
       "                        <td id=\"T_29cfa169_aa7f_11ec_a4df_7085c2294e08row12_col4\" class=\"data row12 col4\" >0.3784</td>\n",
       "                        <td id=\"T_29cfa169_aa7f_11ec_a4df_7085c2294e08row12_col5\" class=\"data row12 col5\" >0.2094</td>\n",
       "                        <td id=\"T_29cfa169_aa7f_11ec_a4df_7085c2294e08row12_col6\" class=\"data row12 col6\" >0.1879</td>\n",
       "                        <td id=\"T_29cfa169_aa7f_11ec_a4df_7085c2294e08row12_col7\" class=\"data row12 col7\" >0.0060</td>\n",
       "            </tr>\n",
       "            <tr>\n",
       "                        <th id=\"T_29cfa169_aa7f_11ec_a4df_7085c2294e08level0_row13\" class=\"row_heading level0 row13\" >par</th>\n",
       "                        <td id=\"T_29cfa169_aa7f_11ec_a4df_7085c2294e08row13_col0\" class=\"data row13 col0\" >Passive Aggressive Regressor</td>\n",
       "                        <td id=\"T_29cfa169_aa7f_11ec_a4df_7085c2294e08row13_col1\" class=\"data row13 col1\" >1.9833</td>\n",
       "                        <td id=\"T_29cfa169_aa7f_11ec_a4df_7085c2294e08row13_col2\" class=\"data row13 col2\" >7.6013</td>\n",
       "                        <td id=\"T_29cfa169_aa7f_11ec_a4df_7085c2294e08row13_col3\" class=\"data row13 col3\" >2.7520</td>\n",
       "                        <td id=\"T_29cfa169_aa7f_11ec_a4df_7085c2294e08row13_col4\" class=\"data row13 col4\" >0.2170</td>\n",
       "                        <td id=\"T_29cfa169_aa7f_11ec_a4df_7085c2294e08row13_col5\" class=\"data row13 col5\" >0.2341</td>\n",
       "                        <td id=\"T_29cfa169_aa7f_11ec_a4df_7085c2294e08row13_col6\" class=\"data row13 col6\" >0.1882</td>\n",
       "                        <td id=\"T_29cfa169_aa7f_11ec_a4df_7085c2294e08row13_col7\" class=\"data row13 col7\" >0.0100</td>\n",
       "            </tr>\n",
       "            <tr>\n",
       "                        <th id=\"T_29cfa169_aa7f_11ec_a4df_7085c2294e08level0_row14\" class=\"row_heading level0 row14\" >en</th>\n",
       "                        <td id=\"T_29cfa169_aa7f_11ec_a4df_7085c2294e08row14_col0\" class=\"data row14 col0\" >Elastic Net</td>\n",
       "                        <td id=\"T_29cfa169_aa7f_11ec_a4df_7085c2294e08row14_col1\" class=\"data row14 col1\" >2.2195</td>\n",
       "                        <td id=\"T_29cfa169_aa7f_11ec_a4df_7085c2294e08row14_col2\" class=\"data row14 col2\" >9.0687</td>\n",
       "                        <td id=\"T_29cfa169_aa7f_11ec_a4df_7085c2294e08row14_col3\" class=\"data row14 col3\" >3.0029</td>\n",
       "                        <td id=\"T_29cfa169_aa7f_11ec_a4df_7085c2294e08row14_col4\" class=\"data row14 col4\" >0.0825</td>\n",
       "                        <td id=\"T_29cfa169_aa7f_11ec_a4df_7085c2294e08row14_col5\" class=\"data row14 col5\" >0.2729</td>\n",
       "                        <td id=\"T_29cfa169_aa7f_11ec_a4df_7085c2294e08row14_col6\" class=\"data row14 col6\" >0.2522</td>\n",
       "                        <td id=\"T_29cfa169_aa7f_11ec_a4df_7085c2294e08row14_col7\" class=\"data row14 col7\" >0.0060</td>\n",
       "            </tr>\n",
       "            <tr>\n",
       "                        <th id=\"T_29cfa169_aa7f_11ec_a4df_7085c2294e08level0_row15\" class=\"row_heading level0 row15\" >ada</th>\n",
       "                        <td id=\"T_29cfa169_aa7f_11ec_a4df_7085c2294e08row15_col0\" class=\"data row15 col0\" >AdaBoost Regressor</td>\n",
       "                        <td id=\"T_29cfa169_aa7f_11ec_a4df_7085c2294e08row15_col1\" class=\"data row15 col1\" >2.2294</td>\n",
       "                        <td id=\"T_29cfa169_aa7f_11ec_a4df_7085c2294e08row15_col2\" class=\"data row15 col2\" >7.4012</td>\n",
       "                        <td id=\"T_29cfa169_aa7f_11ec_a4df_7085c2294e08row15_col3\" class=\"data row15 col3\" >2.7195</td>\n",
       "                        <td id=\"T_29cfa169_aa7f_11ec_a4df_7085c2294e08row15_col4\" class=\"data row15 col4\" >0.2298</td>\n",
       "                        <td id=\"T_29cfa169_aa7f_11ec_a4df_7085c2294e08row15_col5\" class=\"data row15 col5\" >0.2345</td>\n",
       "                        <td id=\"T_29cfa169_aa7f_11ec_a4df_7085c2294e08row15_col6\" class=\"data row15 col6\" >0.2460</td>\n",
       "                        <td id=\"T_29cfa169_aa7f_11ec_a4df_7085c2294e08row15_col7\" class=\"data row15 col7\" >0.0560</td>\n",
       "            </tr>\n",
       "            <tr>\n",
       "                        <th id=\"T_29cfa169_aa7f_11ec_a4df_7085c2294e08level0_row16\" class=\"row_heading level0 row16\" >dt</th>\n",
       "                        <td id=\"T_29cfa169_aa7f_11ec_a4df_7085c2294e08row16_col0\" class=\"data row16 col0\" >Decision Tree Regressor</td>\n",
       "                        <td id=\"T_29cfa169_aa7f_11ec_a4df_7085c2294e08row16_col1\" class=\"data row16 col1\" >2.2997</td>\n",
       "                        <td id=\"T_29cfa169_aa7f_11ec_a4df_7085c2294e08row16_col2\" class=\"data row16 col2\" >11.3205</td>\n",
       "                        <td id=\"T_29cfa169_aa7f_11ec_a4df_7085c2294e08row16_col3\" class=\"data row16 col3\" >3.3640</td>\n",
       "                        <td id=\"T_29cfa169_aa7f_11ec_a4df_7085c2294e08row16_col4\" class=\"data row16 col4\" >-0.1731</td>\n",
       "                        <td id=\"T_29cfa169_aa7f_11ec_a4df_7085c2294e08row16_col5\" class=\"data row16 col5\" >0.2700</td>\n",
       "                        <td id=\"T_29cfa169_aa7f_11ec_a4df_7085c2294e08row16_col6\" class=\"data row16 col6\" >0.2294</td>\n",
       "                        <td id=\"T_29cfa169_aa7f_11ec_a4df_7085c2294e08row16_col7\" class=\"data row16 col7\" >0.0080</td>\n",
       "            </tr>\n",
       "            <tr>\n",
       "                        <th id=\"T_29cfa169_aa7f_11ec_a4df_7085c2294e08level0_row17\" class=\"row_heading level0 row17\" >llar</th>\n",
       "                        <td id=\"T_29cfa169_aa7f_11ec_a4df_7085c2294e08row17_col0\" class=\"data row17 col0\" >Lasso Least Angle Regression</td>\n",
       "                        <td id=\"T_29cfa169_aa7f_11ec_a4df_7085c2294e08row17_col1\" class=\"data row17 col1\" >2.3484</td>\n",
       "                        <td id=\"T_29cfa169_aa7f_11ec_a4df_7085c2294e08row17_col2\" class=\"data row17 col2\" >9.9355</td>\n",
       "                        <td id=\"T_29cfa169_aa7f_11ec_a4df_7085c2294e08row17_col3\" class=\"data row17 col3\" >3.1441</td>\n",
       "                        <td id=\"T_29cfa169_aa7f_11ec_a4df_7085c2294e08row17_col4\" class=\"data row17 col4\" >-0.0064</td>\n",
       "                        <td id=\"T_29cfa169_aa7f_11ec_a4df_7085c2294e08row17_col5\" class=\"data row17 col5\" >0.2872</td>\n",
       "                        <td id=\"T_29cfa169_aa7f_11ec_a4df_7085c2294e08row17_col6\" class=\"data row17 col6\" >0.2690</td>\n",
       "                        <td id=\"T_29cfa169_aa7f_11ec_a4df_7085c2294e08row17_col7\" class=\"data row17 col7\" >0.0060</td>\n",
       "            </tr>\n",
       "            <tr>\n",
       "                        <th id=\"T_29cfa169_aa7f_11ec_a4df_7085c2294e08level0_row18\" class=\"row_heading level0 row18\" >lasso</th>\n",
       "                        <td id=\"T_29cfa169_aa7f_11ec_a4df_7085c2294e08row18_col0\" class=\"data row18 col0\" >Lasso Regression</td>\n",
       "                        <td id=\"T_29cfa169_aa7f_11ec_a4df_7085c2294e08row18_col1\" class=\"data row18 col1\" >2.3484</td>\n",
       "                        <td id=\"T_29cfa169_aa7f_11ec_a4df_7085c2294e08row18_col2\" class=\"data row18 col2\" >9.9355</td>\n",
       "                        <td id=\"T_29cfa169_aa7f_11ec_a4df_7085c2294e08row18_col3\" class=\"data row18 col3\" >3.1441</td>\n",
       "                        <td id=\"T_29cfa169_aa7f_11ec_a4df_7085c2294e08row18_col4\" class=\"data row18 col4\" >-0.0064</td>\n",
       "                        <td id=\"T_29cfa169_aa7f_11ec_a4df_7085c2294e08row18_col5\" class=\"data row18 col5\" >0.2872</td>\n",
       "                        <td id=\"T_29cfa169_aa7f_11ec_a4df_7085c2294e08row18_col6\" class=\"data row18 col6\" >0.2690</td>\n",
       "                        <td id=\"T_29cfa169_aa7f_11ec_a4df_7085c2294e08row18_col7\" class=\"data row18 col7\" >0.0060</td>\n",
       "            </tr>\n",
       "            <tr>\n",
       "                        <th id=\"T_29cfa169_aa7f_11ec_a4df_7085c2294e08level0_row19\" class=\"row_heading level0 row19\" >dummy</th>\n",
       "                        <td id=\"T_29cfa169_aa7f_11ec_a4df_7085c2294e08row19_col0\" class=\"data row19 col0\" >Dummy Regressor</td>\n",
       "                        <td id=\"T_29cfa169_aa7f_11ec_a4df_7085c2294e08row19_col1\" class=\"data row19 col1\" >2.3484</td>\n",
       "                        <td id=\"T_29cfa169_aa7f_11ec_a4df_7085c2294e08row19_col2\" class=\"data row19 col2\" >9.9355</td>\n",
       "                        <td id=\"T_29cfa169_aa7f_11ec_a4df_7085c2294e08row19_col3\" class=\"data row19 col3\" >3.1441</td>\n",
       "                        <td id=\"T_29cfa169_aa7f_11ec_a4df_7085c2294e08row19_col4\" class=\"data row19 col4\" >-0.0064</td>\n",
       "                        <td id=\"T_29cfa169_aa7f_11ec_a4df_7085c2294e08row19_col5\" class=\"data row19 col5\" >0.2872</td>\n",
       "                        <td id=\"T_29cfa169_aa7f_11ec_a4df_7085c2294e08row19_col6\" class=\"data row19 col6\" >0.2690</td>\n",
       "                        <td id=\"T_29cfa169_aa7f_11ec_a4df_7085c2294e08row19_col7\" class=\"data row19 col7\" >0.0060</td>\n",
       "            </tr>\n",
       "    </tbody></table>"
      ],
      "text/plain": [
       "<pandas.io.formats.style.Styler at 0x1d65c644070>"
      ]
     },
     "metadata": {},
     "output_type": "display_data"
    }
   ],
   "source": [
    "top10 = compare_models(sort='MAE',  n_select=10, fold=5)"
   ]
  },
  {
   "cell_type": "code",
   "execution_count": 23,
   "metadata": {},
   "outputs": [
    {
     "data": {
      "text/html": [
       "<style  type=\"text/css\" >\n",
       "#T_a1953b51_aa80_11ec_9787_7085c2294e08row5_col0,#T_a1953b51_aa80_11ec_9787_7085c2294e08row5_col1,#T_a1953b51_aa80_11ec_9787_7085c2294e08row5_col2,#T_a1953b51_aa80_11ec_9787_7085c2294e08row5_col3,#T_a1953b51_aa80_11ec_9787_7085c2294e08row5_col4,#T_a1953b51_aa80_11ec_9787_7085c2294e08row5_col5{\n",
       "            background:  yellow;\n",
       "        }</style><table id=\"T_a1953b51_aa80_11ec_9787_7085c2294e08\" ><thead>    <tr>        <th class=\"blank level0\" ></th>        <th class=\"col_heading level0 col0\" >MAE</th>        <th class=\"col_heading level0 col1\" >MSE</th>        <th class=\"col_heading level0 col2\" >RMSE</th>        <th class=\"col_heading level0 col3\" >R2</th>        <th class=\"col_heading level0 col4\" >RMSLE</th>        <th class=\"col_heading level0 col5\" >MAPE</th>    </tr></thead><tbody>\n",
       "                <tr>\n",
       "                        <th id=\"T_a1953b51_aa80_11ec_9787_7085c2294e08level0_row0\" class=\"row_heading level0 row0\" >0</th>\n",
       "                        <td id=\"T_a1953b51_aa80_11ec_9787_7085c2294e08row0_col0\" class=\"data row0 col0\" >1.6120</td>\n",
       "                        <td id=\"T_a1953b51_aa80_11ec_9787_7085c2294e08row0_col1\" class=\"data row0 col1\" >4.5546</td>\n",
       "                        <td id=\"T_a1953b51_aa80_11ec_9787_7085c2294e08row0_col2\" class=\"data row0 col2\" >2.1342</td>\n",
       "                        <td id=\"T_a1953b51_aa80_11ec_9787_7085c2294e08row0_col3\" class=\"data row0 col3\" >0.3997</td>\n",
       "                        <td id=\"T_a1953b51_aa80_11ec_9787_7085c2294e08row0_col4\" class=\"data row0 col4\" >0.1877</td>\n",
       "                        <td id=\"T_a1953b51_aa80_11ec_9787_7085c2294e08row0_col5\" class=\"data row0 col5\" >0.1688</td>\n",
       "            </tr>\n",
       "            <tr>\n",
       "                        <th id=\"T_a1953b51_aa80_11ec_9787_7085c2294e08level0_row1\" class=\"row_heading level0 row1\" >1</th>\n",
       "                        <td id=\"T_a1953b51_aa80_11ec_9787_7085c2294e08row1_col0\" class=\"data row1 col0\" >1.6584</td>\n",
       "                        <td id=\"T_a1953b51_aa80_11ec_9787_7085c2294e08row1_col1\" class=\"data row1 col1\" >5.7434</td>\n",
       "                        <td id=\"T_a1953b51_aa80_11ec_9787_7085c2294e08row1_col2\" class=\"data row1 col2\" >2.3965</td>\n",
       "                        <td id=\"T_a1953b51_aa80_11ec_9787_7085c2294e08row1_col3\" class=\"data row1 col3\" >0.4603</td>\n",
       "                        <td id=\"T_a1953b51_aa80_11ec_9787_7085c2294e08row1_col4\" class=\"data row1 col4\" >0.2015</td>\n",
       "                        <td id=\"T_a1953b51_aa80_11ec_9787_7085c2294e08row1_col5\" class=\"data row1 col5\" >0.1687</td>\n",
       "            </tr>\n",
       "            <tr>\n",
       "                        <th id=\"T_a1953b51_aa80_11ec_9787_7085c2294e08level0_row2\" class=\"row_heading level0 row2\" >2</th>\n",
       "                        <td id=\"T_a1953b51_aa80_11ec_9787_7085c2294e08row2_col0\" class=\"data row2 col0\" >1.7164</td>\n",
       "                        <td id=\"T_a1953b51_aa80_11ec_9787_7085c2294e08row2_col1\" class=\"data row2 col1\" >6.1575</td>\n",
       "                        <td id=\"T_a1953b51_aa80_11ec_9787_7085c2294e08row2_col2\" class=\"data row2 col2\" >2.4814</td>\n",
       "                        <td id=\"T_a1953b51_aa80_11ec_9787_7085c2294e08row2_col3\" class=\"data row2 col3\" >0.4142</td>\n",
       "                        <td id=\"T_a1953b51_aa80_11ec_9787_7085c2294e08row2_col4\" class=\"data row2 col4\" >0.1918</td>\n",
       "                        <td id=\"T_a1953b51_aa80_11ec_9787_7085c2294e08row2_col5\" class=\"data row2 col5\" >0.1583</td>\n",
       "            </tr>\n",
       "            <tr>\n",
       "                        <th id=\"T_a1953b51_aa80_11ec_9787_7085c2294e08level0_row3\" class=\"row_heading level0 row3\" >3</th>\n",
       "                        <td id=\"T_a1953b51_aa80_11ec_9787_7085c2294e08row3_col0\" class=\"data row3 col0\" >1.5401</td>\n",
       "                        <td id=\"T_a1953b51_aa80_11ec_9787_7085c2294e08row3_col1\" class=\"data row3 col1\" >4.5723</td>\n",
       "                        <td id=\"T_a1953b51_aa80_11ec_9787_7085c2294e08row3_col2\" class=\"data row3 col2\" >2.1383</td>\n",
       "                        <td id=\"T_a1953b51_aa80_11ec_9787_7085c2294e08row3_col3\" class=\"data row3 col3\" >0.4986</td>\n",
       "                        <td id=\"T_a1953b51_aa80_11ec_9787_7085c2294e08row3_col4\" class=\"data row3 col4\" >0.1815</td>\n",
       "                        <td id=\"T_a1953b51_aa80_11ec_9787_7085c2294e08row3_col5\" class=\"data row3 col5\" >0.1608</td>\n",
       "            </tr>\n",
       "            <tr>\n",
       "                        <th id=\"T_a1953b51_aa80_11ec_9787_7085c2294e08level0_row4\" class=\"row_heading level0 row4\" >4</th>\n",
       "                        <td id=\"T_a1953b51_aa80_11ec_9787_7085c2294e08row4_col0\" class=\"data row4 col0\" >1.6116</td>\n",
       "                        <td id=\"T_a1953b51_aa80_11ec_9787_7085c2294e08row4_col1\" class=\"data row4 col1\" >5.3975</td>\n",
       "                        <td id=\"T_a1953b51_aa80_11ec_9787_7085c2294e08row4_col2\" class=\"data row4 col2\" >2.3232</td>\n",
       "                        <td id=\"T_a1953b51_aa80_11ec_9787_7085c2294e08row4_col3\" class=\"data row4 col3\" >0.5309</td>\n",
       "                        <td id=\"T_a1953b51_aa80_11ec_9787_7085c2294e08row4_col4\" class=\"data row4 col4\" >0.1831</td>\n",
       "                        <td id=\"T_a1953b51_aa80_11ec_9787_7085c2294e08row4_col5\" class=\"data row4 col5\" >0.1579</td>\n",
       "            </tr>\n",
       "            <tr>\n",
       "                        <th id=\"T_a1953b51_aa80_11ec_9787_7085c2294e08level0_row5\" class=\"row_heading level0 row5\" >Mean</th>\n",
       "                        <td id=\"T_a1953b51_aa80_11ec_9787_7085c2294e08row5_col0\" class=\"data row5 col0\" >1.6277</td>\n",
       "                        <td id=\"T_a1953b51_aa80_11ec_9787_7085c2294e08row5_col1\" class=\"data row5 col1\" >5.2851</td>\n",
       "                        <td id=\"T_a1953b51_aa80_11ec_9787_7085c2294e08row5_col2\" class=\"data row5 col2\" >2.2947</td>\n",
       "                        <td id=\"T_a1953b51_aa80_11ec_9787_7085c2294e08row5_col3\" class=\"data row5 col3\" >0.4607</td>\n",
       "                        <td id=\"T_a1953b51_aa80_11ec_9787_7085c2294e08row5_col4\" class=\"data row5 col4\" >0.1891</td>\n",
       "                        <td id=\"T_a1953b51_aa80_11ec_9787_7085c2294e08row5_col5\" class=\"data row5 col5\" >0.1629</td>\n",
       "            </tr>\n",
       "            <tr>\n",
       "                        <th id=\"T_a1953b51_aa80_11ec_9787_7085c2294e08level0_row6\" class=\"row_heading level0 row6\" >SD</th>\n",
       "                        <td id=\"T_a1953b51_aa80_11ec_9787_7085c2294e08row6_col0\" class=\"data row6 col0\" >0.0583</td>\n",
       "                        <td id=\"T_a1953b51_aa80_11ec_9787_7085c2294e08row6_col1\" class=\"data row6 col1\" >0.6365</td>\n",
       "                        <td id=\"T_a1953b51_aa80_11ec_9787_7085c2294e08row6_col2\" class=\"data row6 col2\" >0.1388</td>\n",
       "                        <td id=\"T_a1953b51_aa80_11ec_9787_7085c2294e08row6_col3\" class=\"data row6 col3\" >0.0495</td>\n",
       "                        <td id=\"T_a1953b51_aa80_11ec_9787_7085c2294e08row6_col4\" class=\"data row6 col4\" >0.0072</td>\n",
       "                        <td id=\"T_a1953b51_aa80_11ec_9787_7085c2294e08row6_col5\" class=\"data row6 col5\" >0.0049</td>\n",
       "            </tr>\n",
       "    </tbody></table>"
      ],
      "text/plain": [
       "<pandas.io.formats.style.Styler at 0x1d6606a96a0>"
      ]
     },
     "metadata": {},
     "output_type": "display_data"
    }
   ],
   "source": [
    "tuned_top10 = [tune_model(i, fold=5) for i in top10"
   ]
  },
  {
   "cell_type": "code",
   "execution_count": 24,
   "metadata": {},
   "outputs": [
    {
     "data": {
      "text/html": [
       "<style  type=\"text/css\" >\n",
       "#T_b104fd50_aa80_11ec_8062_7085c2294e08row5_col0,#T_b104fd50_aa80_11ec_8062_7085c2294e08row5_col1,#T_b104fd50_aa80_11ec_8062_7085c2294e08row5_col2,#T_b104fd50_aa80_11ec_8062_7085c2294e08row5_col3,#T_b104fd50_aa80_11ec_8062_7085c2294e08row5_col4,#T_b104fd50_aa80_11ec_8062_7085c2294e08row5_col5{\n",
       "            background:  yellow;\n",
       "        }</style><table id=\"T_b104fd50_aa80_11ec_8062_7085c2294e08\" ><thead>    <tr>        <th class=\"blank level0\" ></th>        <th class=\"col_heading level0 col0\" >MAE</th>        <th class=\"col_heading level0 col1\" >MSE</th>        <th class=\"col_heading level0 col2\" >RMSE</th>        <th class=\"col_heading level0 col3\" >R2</th>        <th class=\"col_heading level0 col4\" >RMSLE</th>        <th class=\"col_heading level0 col5\" >MAPE</th>    </tr></thead><tbody>\n",
       "                <tr>\n",
       "                        <th id=\"T_b104fd50_aa80_11ec_8062_7085c2294e08level0_row0\" class=\"row_heading level0 row0\" >0</th>\n",
       "                        <td id=\"T_b104fd50_aa80_11ec_8062_7085c2294e08row0_col0\" class=\"data row0 col0\" >1.5314</td>\n",
       "                        <td id=\"T_b104fd50_aa80_11ec_8062_7085c2294e08row0_col1\" class=\"data row0 col1\" >4.2887</td>\n",
       "                        <td id=\"T_b104fd50_aa80_11ec_8062_7085c2294e08row0_col2\" class=\"data row0 col2\" >2.0709</td>\n",
       "                        <td id=\"T_b104fd50_aa80_11ec_8062_7085c2294e08row0_col3\" class=\"data row0 col3\" >0.4347</td>\n",
       "                        <td id=\"T_b104fd50_aa80_11ec_8062_7085c2294e08row0_col4\" class=\"data row0 col4\" >0.1811</td>\n",
       "                        <td id=\"T_b104fd50_aa80_11ec_8062_7085c2294e08row0_col5\" class=\"data row0 col5\" >0.1621</td>\n",
       "            </tr>\n",
       "            <tr>\n",
       "                        <th id=\"T_b104fd50_aa80_11ec_8062_7085c2294e08level0_row1\" class=\"row_heading level0 row1\" >1</th>\n",
       "                        <td id=\"T_b104fd50_aa80_11ec_8062_7085c2294e08row1_col0\" class=\"data row1 col0\" >1.7023</td>\n",
       "                        <td id=\"T_b104fd50_aa80_11ec_8062_7085c2294e08row1_col1\" class=\"data row1 col1\" >5.6296</td>\n",
       "                        <td id=\"T_b104fd50_aa80_11ec_8062_7085c2294e08row1_col2\" class=\"data row1 col2\" >2.3727</td>\n",
       "                        <td id=\"T_b104fd50_aa80_11ec_8062_7085c2294e08row1_col3\" class=\"data row1 col3\" >0.4710</td>\n",
       "                        <td id=\"T_b104fd50_aa80_11ec_8062_7085c2294e08row1_col4\" class=\"data row1 col4\" >0.2023</td>\n",
       "                        <td id=\"T_b104fd50_aa80_11ec_8062_7085c2294e08row1_col5\" class=\"data row1 col5\" >0.1756</td>\n",
       "            </tr>\n",
       "            <tr>\n",
       "                        <th id=\"T_b104fd50_aa80_11ec_8062_7085c2294e08level0_row2\" class=\"row_heading level0 row2\" >2</th>\n",
       "                        <td id=\"T_b104fd50_aa80_11ec_8062_7085c2294e08row2_col0\" class=\"data row2 col0\" >1.5946</td>\n",
       "                        <td id=\"T_b104fd50_aa80_11ec_8062_7085c2294e08row2_col1\" class=\"data row2 col1\" >5.2534</td>\n",
       "                        <td id=\"T_b104fd50_aa80_11ec_8062_7085c2294e08row2_col2\" class=\"data row2 col2\" >2.2920</td>\n",
       "                        <td id=\"T_b104fd50_aa80_11ec_8062_7085c2294e08row2_col3\" class=\"data row2 col3\" >0.5002</td>\n",
       "                        <td id=\"T_b104fd50_aa80_11ec_8062_7085c2294e08row2_col4\" class=\"data row2 col4\" >0.1764</td>\n",
       "                        <td id=\"T_b104fd50_aa80_11ec_8062_7085c2294e08row2_col5\" class=\"data row2 col5\" >0.1491</td>\n",
       "            </tr>\n",
       "            <tr>\n",
       "                        <th id=\"T_b104fd50_aa80_11ec_8062_7085c2294e08level0_row3\" class=\"row_heading level0 row3\" >3</th>\n",
       "                        <td id=\"T_b104fd50_aa80_11ec_8062_7085c2294e08row3_col0\" class=\"data row3 col0\" >1.5444</td>\n",
       "                        <td id=\"T_b104fd50_aa80_11ec_8062_7085c2294e08row3_col1\" class=\"data row3 col1\" >4.4803</td>\n",
       "                        <td id=\"T_b104fd50_aa80_11ec_8062_7085c2294e08row3_col2\" class=\"data row3 col2\" >2.1167</td>\n",
       "                        <td id=\"T_b104fd50_aa80_11ec_8062_7085c2294e08row3_col3\" class=\"data row3 col3\" >0.5087</td>\n",
       "                        <td id=\"T_b104fd50_aa80_11ec_8062_7085c2294e08row3_col4\" class=\"data row3 col4\" >0.1793</td>\n",
       "                        <td id=\"T_b104fd50_aa80_11ec_8062_7085c2294e08row3_col5\" class=\"data row3 col5\" >0.1614</td>\n",
       "            </tr>\n",
       "            <tr>\n",
       "                        <th id=\"T_b104fd50_aa80_11ec_8062_7085c2294e08level0_row4\" class=\"row_heading level0 row4\" >4</th>\n",
       "                        <td id=\"T_b104fd50_aa80_11ec_8062_7085c2294e08row4_col0\" class=\"data row4 col0\" >1.5205</td>\n",
       "                        <td id=\"T_b104fd50_aa80_11ec_8062_7085c2294e08row4_col1\" class=\"data row4 col1\" >5.1501</td>\n",
       "                        <td id=\"T_b104fd50_aa80_11ec_8062_7085c2294e08row4_col2\" class=\"data row4 col2\" >2.2694</td>\n",
       "                        <td id=\"T_b104fd50_aa80_11ec_8062_7085c2294e08row4_col3\" class=\"data row4 col3\" >0.5524</td>\n",
       "                        <td id=\"T_b104fd50_aa80_11ec_8062_7085c2294e08row4_col4\" class=\"data row4 col4\" >0.1757</td>\n",
       "                        <td id=\"T_b104fd50_aa80_11ec_8062_7085c2294e08row4_col5\" class=\"data row4 col5\" >0.1479</td>\n",
       "            </tr>\n",
       "            <tr>\n",
       "                        <th id=\"T_b104fd50_aa80_11ec_8062_7085c2294e08level0_row5\" class=\"row_heading level0 row5\" >Mean</th>\n",
       "                        <td id=\"T_b104fd50_aa80_11ec_8062_7085c2294e08row5_col0\" class=\"data row5 col0\" >1.5786</td>\n",
       "                        <td id=\"T_b104fd50_aa80_11ec_8062_7085c2294e08row5_col1\" class=\"data row5 col1\" >4.9604</td>\n",
       "                        <td id=\"T_b104fd50_aa80_11ec_8062_7085c2294e08row5_col2\" class=\"data row5 col2\" >2.2243</td>\n",
       "                        <td id=\"T_b104fd50_aa80_11ec_8062_7085c2294e08row5_col3\" class=\"data row5 col3\" >0.4934</td>\n",
       "                        <td id=\"T_b104fd50_aa80_11ec_8062_7085c2294e08row5_col4\" class=\"data row5 col4\" >0.1830</td>\n",
       "                        <td id=\"T_b104fd50_aa80_11ec_8062_7085c2294e08row5_col5\" class=\"data row5 col5\" >0.1592</td>\n",
       "            </tr>\n",
       "            <tr>\n",
       "                        <th id=\"T_b104fd50_aa80_11ec_8062_7085c2294e08level0_row6\" class=\"row_heading level0 row6\" >SD</th>\n",
       "                        <td id=\"T_b104fd50_aa80_11ec_8062_7085c2294e08row6_col0\" class=\"data row6 col0\" >0.0668</td>\n",
       "                        <td id=\"T_b104fd50_aa80_11ec_8062_7085c2294e08row6_col1\" class=\"data row6 col1\" >0.5002</td>\n",
       "                        <td id=\"T_b104fd50_aa80_11ec_8062_7085c2294e08row6_col2\" class=\"data row6 col2\" >0.1129</td>\n",
       "                        <td id=\"T_b104fd50_aa80_11ec_8062_7085c2294e08row6_col3\" class=\"data row6 col3\" >0.0393</td>\n",
       "                        <td id=\"T_b104fd50_aa80_11ec_8062_7085c2294e08row6_col4\" class=\"data row6 col4\" >0.0099</td>\n",
       "                        <td id=\"T_b104fd50_aa80_11ec_8062_7085c2294e08row6_col5\" class=\"data row6 col5\" >0.0101</td>\n",
       "            </tr>\n",
       "    </tbody></table>"
      ],
      "text/plain": [
       "<pandas.io.formats.style.Styler at 0x1d65f2c9280>"
      ]
     },
     "metadata": {},
     "output_type": "display_data"
    }
   ],
   "source": [
    "blender_top10 = blend_models(estimator_list=tuned_top10)"
   ]
  },
  {
   "cell_type": "code",
   "execution_count": 25,
   "metadata": {},
   "outputs": [],
   "source": [
    "final_model = finalize_model(blender_top10)"
   ]
  },
  {
   "cell_type": "code",
   "execution_count": 26,
   "metadata": {},
   "outputs": [],
   "source": [
    "prediction = predict_model(final_model, data=test)"
   ]
  },
  {
   "cell_type": "code",
   "execution_count": 27,
   "metadata": {},
   "outputs": [
    {
     "data": {
      "text/plain": [
       "0       10.368103\n",
       "1       12.643237\n",
       "2        6.913024\n",
       "3       11.005625\n",
       "4       10.088853\n",
       "          ...    \n",
       "2919     5.623465\n",
       "2920     8.960253\n",
       "2921    10.150870\n",
       "2922     9.870779\n",
       "2923    11.519187\n",
       "Name: Label, Length: 2924, dtype: float64"
      ]
     },
     "execution_count": 27,
     "metadata": {},
     "output_type": "execute_result"
    }
   ],
   "source": [
    "prediction['Label']"
   ]
  },
  {
   "cell_type": "code",
   "execution_count": null,
   "metadata": {},
   "outputs": [],
   "source": []
  },
  {
   "cell_type": "code",
   "execution_count": null,
   "metadata": {},
   "outputs": [],
   "source": []
  },
  {
   "cell_type": "code",
   "execution_count": 30,
   "metadata": {},
   "outputs": [],
   "source": [
    "from sklearn.linear_model import LogisticRegression"
   ]
  },
  {
   "cell_type": "code",
   "execution_count": 31,
   "metadata": {},
   "outputs": [],
   "source": [
    "# LogisticRegression 모델 변수 생성\n",
    "model = LogisticRegression()"
   ]
  },
  {
   "cell_type": "code",
   "execution_count": 33,
   "metadata": {},
   "outputs": [
    {
     "data": {
      "text/plain": [
       "LogisticRegression(C=1.0, class_weight=None, dual=False, fit_intercept=True,\n",
       "                   intercept_scaling=1, l1_ratio=None, max_iter=100,\n",
       "                   multi_class='auto', n_jobs=None, penalty='l2',\n",
       "                   random_state=None, solver='lbfgs', tol=0.0001, verbose=0,\n",
       "                   warm_start=False)"
      ]
     },
     "execution_count": 33,
     "metadata": {},
     "output_type": "execute_result"
    }
   ],
   "source": [
    "# 모델 학습\n",
    "model.fit(train_x, train_y)"
   ]
  },
  {
   "cell_type": "code",
   "execution_count": 34,
   "metadata": {
    "scrolled": true
   },
   "outputs": [
    {
     "data": {
      "text/plain": [
       "array([[-0.1047935 , -1.21030353, -0.93400691, -0.32034673, -1.83416112,\n",
       "        -0.7825425 , -0.39799117, -0.55470562],\n",
       "       [-0.31164732, -1.99824534, -1.58650393, -0.52612704, -3.06091554,\n",
       "        -1.32498067, -0.6757225 , -0.92354412],\n",
       "       [ 0.48310211, -2.32191084, -1.99165399, -0.70205743, -4.17607294,\n",
       "        -1.32307772, -0.89604533, -1.34214122],\n",
       "       [ 0.11727789, -0.70509432, -0.89887165, -0.42066059, -3.04281684,\n",
       "        -0.6766196 , -0.79242552, -1.72388334],\n",
       "       [ 0.05088941,  0.23828367, -0.10663253, -0.24998406, -2.41680905,\n",
       "         0.65829429, -0.57131332, -1.64556409],\n",
       "       [-0.19127896,  1.26370555,  0.67451149, -0.27007863, -1.34644597,\n",
       "         1.56415485, -0.57989816, -1.53095244],\n",
       "       [-0.0361856 ,  1.70364884,  1.32920278,  0.00538017, -0.7407885 ,\n",
       "         1.64660877,  0.45001265, -1.3495687 ],\n",
       "       [ 0.07588818,  0.87384046,  0.54661995, -0.01721491,  0.19261997,\n",
       "         2.30866782,  0.78390013, -0.97809005],\n",
       "       [-0.03420829,  0.51129945,  0.67191814, -0.00960374,  1.11227667,\n",
       "         1.06341459,  0.50755855, -0.34558964],\n",
       "       [ 0.06449327, -0.05059029, -0.0074813 ,  0.42328012,  1.34092003,\n",
       "         0.66952639,  0.19091303, -0.03964219],\n",
       "       [-0.11581517,  0.28948619,  0.25300157,  0.32763916,  1.15212839,\n",
       "        -0.99815524,  0.43372426,  1.19585683],\n",
       "       [-0.08441099,  0.24210774,  0.31942397,  0.33121576,  1.12023201,\n",
       "        -1.02587319,  0.61480144,  1.21111555],\n",
       "       [-0.66878538,  0.31956963,  0.48757967,  0.25612434,  1.59969452,\n",
       "        -0.5758676 ,  0.09173667,  1.17036636],\n",
       "       [-0.05628914,  0.07969447,  0.2017995 ,  0.22963187,  1.38316582,\n",
       "        -0.87413696,  0.16548768,  1.608663  ],\n",
       "       [ 0.1114136 ,  0.09642218,  0.1277112 ,  0.27866937,  1.02940563,\n",
       "        -0.47886698,  0.0847828 ,  0.88369921],\n",
       "       [ 0.20876527,  0.18279892,  0.18546247,  0.16746498,  1.40092318,\n",
       "        -0.09696584, -0.11054965,  1.31586565],\n",
       "       [-0.5287048 ,  0.22794148,  0.196015  ,  0.15008102,  1.31023751,\n",
       "         0.28488989,  0.20213343,  0.35159444],\n",
       "       [ 0.11790968,  0.31375348,  0.41785839,  0.15796677,  1.76466717,\n",
       "        -0.20367278,  0.18056997,  1.16474984],\n",
       "       [-0.17111245,  0.26740331,  0.24935478,  0.1378598 ,  1.43642642,\n",
       "         0.07751887,  0.20587122,  0.91700837],\n",
       "       [-0.116438  , -0.05294711,  0.01186612,  0.06806603,  1.2427919 ,\n",
       "         0.15424126,  0.08458386,  0.45311263],\n",
       "       [ 0.97517358, -0.19875978, -0.13234633,  0.00500244, -0.07216116,\n",
       "        -0.25414889, -0.02702736,  0.04169723],\n",
       "       [ 0.21475661, -0.07210415, -0.01482841, -0.0223087 ,  0.60468191,\n",
       "         0.18759126,  0.0548973 ,  0.1199523 ]])"
      ]
     },
     "execution_count": 34,
     "metadata": {},
     "output_type": "execute_result"
    }
   ],
   "source": [
    "# Coefficient 확인\n",
    "model.coef_"
   ]
  },
  {
   "cell_type": "code",
   "execution_count": 48,
   "metadata": {},
   "outputs": [],
   "source": [
    "test_x = test.drop(['id'],axis=1)"
   ]
  },
  {
   "cell_type": "code",
   "execution_count": 49,
   "metadata": {},
   "outputs": [],
   "source": [
    "# predict : 예측\n",
    "pred = model.predict(test_x)"
   ]
  },
  {
   "cell_type": "code",
   "execution_count": 50,
   "metadata": {},
   "outputs": [
    {
     "data": {
      "text/plain": [
       "array([10,  9,  6, ...,  9,  9,  9], dtype=int64)"
      ]
     },
     "execution_count": 50,
     "metadata": {},
     "output_type": "execute_result"
    }
   ],
   "source": [
    "pred"
   ]
  },
  {
   "cell_type": "code",
   "execution_count": null,
   "metadata": {},
   "outputs": [],
   "source": []
  },
  {
   "cell_type": "code",
   "execution_count": null,
   "metadata": {},
   "outputs": [],
   "source": []
  },
  {
   "cell_type": "code",
   "execution_count": 127,
   "metadata": {},
   "outputs": [
    {
     "name": "stdout",
     "output_type": "stream",
     "text": [
      "Collecting pytorch-ignite\n",
      "  Downloading pytorch_ignite-0.4.8-py3-none-any.whl (251 kB)\n",
      "     -------------------------------------- 251.9/251.9 KB 5.3 MB/s eta 0:00:00\n",
      "Requirement already satisfied: torch<2,>=1.3 in c:\\users\\seo\\anaconda3\\lib\\site-packages (from pytorch-ignite) (1.10.0)\n",
      "Requirement already satisfied: typing-extensions in c:\\users\\seo\\anaconda3\\lib\\site-packages (from torch<2,>=1.3->pytorch-ignite) (3.7.4.3)\n",
      "Installing collected packages: pytorch-ignite\n",
      "Successfully installed pytorch-ignite-0.4.8\n"
     ]
    }
   ],
   "source": [
    "!pip install pytorch-ignite"
   ]
  },
  {
   "cell_type": "code",
   "execution_count": 128,
   "metadata": {},
   "outputs": [],
   "source": [
    "import torch\n",
    "import torch.nn as nn\n",
    "\n",
    "import numpy as np\n",
    "\n",
    "import pandas as pd"
   ]
  },
  {
   "cell_type": "code",
   "execution_count": 129,
   "metadata": {},
   "outputs": [],
   "source": [
    "class Attention(nn.Module):\n",
    "\n",
    "    def __init__(self):\n",
    "        super().__init__()\n",
    "        self.soft = nn.Softmax(dim = -1)\n",
    "        pass\n",
    "\n",
    "    def forward(self, q, k ,v):\n",
    "        # |q| = (batch_size * num_of_ head, 1, hidden_size // num_of_head)\n",
    "        # |k| = |v| = |q|\n",
    "\n",
    "        w = torch.bmm(q, k.transpose(1, 2))\n",
    "        # |w| = (batch_size, 1, 1)\n",
    "        w = self.soft(w.div(q.size(-1) ** .5))\n",
    "        c = torch.bmm(w, v)\n",
    "        # |c| = (batch_size * num_of_ head, 1, hidden_size // num_of_head)\n",
    "        return c\n",
    "\n",
    "class MultiheadAttention(nn.Module):\n",
    "\n",
    "    def __init__(self, hidden_size, number_of_head):\n",
    "        self.hidden_size = hidden_size\n",
    "        self.number_of_head = number_of_head\n",
    "\n",
    "        super().__init__()\n",
    "\n",
    "        self.attention = Attention()\n",
    "        self.Q_linear = nn.Linear(hidden_size, hidden_size, bias =False)\n",
    "        self.K_linear = nn.Linear(hidden_size, hidden_size, bias =False)\n",
    "        self.V_linear = nn.Linear(hidden_size, hidden_size, bias =False)\n",
    "\n",
    "        self.O_linear = nn.Linear(hidden_size, hidden_size, bias =False)\n",
    "        pass\n",
    "\n",
    "    def forward(self, q, k ,v):\n",
    "        # |q| = (batch_size, 1, 128)\n",
    "        # |k| = (batch_size, 1, 128)\n",
    "        # |v| = (batch_size, 1, 128)\n",
    "        \n",
    "        q_ = self.Q_linear(q)\n",
    "        # |q_| = (batch_size, 1, 128)\n",
    "        q_ = q_.split(self.hidden_size // self.number_of_head, dim = -1)\n",
    "        q_ = torch.cat(q_, dim = 0)\n",
    "        # |q_| = (batch_size * number_of_head, 1, hidden_size // number_of_head)\n",
    "\n",
    "        k_ = self.K_linear(k)\n",
    "        # |k_| = (batch_size, 1, 128)\n",
    "        k_ = k_.split(self.hidden_size // self.number_of_head, dim = -1)\n",
    "        k_ = torch.cat(k_, dim = 0)\n",
    "        # |k_| = (batch_size * number_of_head, 1, hidden_size // number_of_head)\n",
    "\n",
    "        v_ = self.V_linear(v)\n",
    "        # |v_| = (batch_size, 1, 128)\n",
    "        v_ = v_.split(self.hidden_size // self.number_of_head, dim = -1)\n",
    "        v_ = torch.cat(v_, dim = 0)\n",
    "        # |v_| = (batch_size * number_of_head, 1, hidden_size // number_of_head)\n",
    "\n",
    "        context_vector = self.attention(q_, k_, v_)\n",
    "        # |context_vector| = (batch_size * number_of_head, 1, hidden_size // number_of_head)\n",
    "        context_vector = torch.cat(context_vector.split(q.size(0), dim = 0), dim = -1)\n",
    "        # |context_vector| = (batch_size , 1, 128)\n",
    "\n",
    "        return self.O_linear(context_vector).squeeze(1)\n",
    "\n",
    "class EncoderBlock(nn.Module):\n",
    "\n",
    "    def __init__(self, hidden_size, number_of_head):\n",
    "        super().__init__()\n",
    "        # hidden_size = 256\n",
    "        # number_of_head = 4\n",
    "        self.multi_head_attention = MultiheadAttention(hidden_size, \n",
    "                                                       number_of_head)\n",
    "        \n",
    "        self.multi_head_attention_norm = nn.BatchNorm1d(hidden_size)\n",
    "        self.multi_head_attention_dropout = nn.Dropout(p = 0.1)\n",
    "\n",
    "        self.fc_layer = nn.Sequential(\n",
    "            nn.Linear(hidden_size, hidden_size * 3),\n",
    "            nn.LeakyReLU(),\n",
    "            nn.Linear(hidden_size * 3, hidden_size),\n",
    "            nn.Dropout(p = 0.1)\n",
    "        )\n",
    "        self.fc_norm = nn.BatchNorm1d(hidden_size)\n",
    "\n",
    "    def forward(self, x):\n",
    "        # |x| = (batch_size, hidden_size)\n",
    "        x_norm = self.multi_head_attention_norm(x)\n",
    "        # |x_norm| = (batch_size, hidden_size)\n",
    "        # print(\"x_norm : \", x_norm.shape)\n",
    "        x_norm = x_norm.unsqueeze(1)\n",
    "        # |x_norm| = (batch_size, 1, hidden_size)\n",
    "        context_ = x + self.multi_head_attention_dropout(self.multi_head_attention(x_norm, x_norm, x_norm))\n",
    "        # print(\"context_ : \",context_.shape)\n",
    "        # |context_| = (batch_size, hidden_size)\n",
    "\n",
    "        context_ = self.fc_norm(context_)\n",
    "        # |context_| = (batch_size, hidden_size)\n",
    "        context = context_ + self.fc_layer(context_)\n",
    "        # |context| = (batch_size, hidden_size)\n",
    "\n",
    "        return context\n",
    "\n",
    "# |x| = (batch_size, 8)\n",
    "# |mapping_x| = (batch_size, 128)\n",
    "class SampleToMapping(nn.Module):\n",
    "    def __init__(self, input_size, hidden_size):\n",
    "        super().__init__()\n",
    "        self.mapping_layer = nn.Sequential(\n",
    "            nn.Linear(input_size, hidden_size),\n",
    "            nn.LeakyReLU(),\n",
    "        )\n",
    "        self.mapping_norm = nn.BatchNorm1d(input_size)\n",
    "    def forward(self, x):\n",
    "        # |x| = (batch_size, 8)\n",
    "        x = self.mapping_norm(x)\n",
    "        mapped_x = self.mapping_layer(x)\n",
    "        # |mapeed_x| = (batch_size, 128)\n",
    "\n",
    "        return mapped_x\n",
    "\n",
    "\n",
    "class HaliotisModel(nn.Module):\n",
    "\n",
    "    def __init__(self, \n",
    "                 input_size, \n",
    "                 hidden_size, \n",
    "                 number_of_head,\n",
    "                 enc_num):\n",
    "        super().__init__()\n",
    "        self.mapping_layer = SampleToMapping(input_size, hidden_size)\n",
    "        \n",
    "        self.encoder = nn.Sequential(\n",
    "            *[EncoderBlock(hidden_size, number_of_head) for _ in range(enc_num)]\n",
    "        )\n",
    "\n",
    "        self.fc_layer = nn.Sequential(\n",
    "            nn.BatchNorm1d(hidden_size),\n",
    "            nn.Linear(hidden_size, 32),\n",
    "            nn.LeakyReLU(),\n",
    "            nn.BatchNorm1d(32),\n",
    "            nn.Linear(32, 1),\n",
    "        )\n",
    "\n",
    "    def forward(self, x):\n",
    "        # |x| = (batch_size, 8)\n",
    "        mapped_x = self.mapping_layer(x)\n",
    "        # print(\"mapped_x : \", mapped_x.shape)\n",
    "        # |mapped_x| = (batch_size, 128)\n",
    "        context_x = self.encoder(mapped_x)\n",
    "        # print(\"context_x : \", context_x.shape)\n",
    "        # |context_x| = (batch_size, 128)\n",
    "\n",
    "        y_hat = self.fc_layer(context_x)\n",
    "        # print(\"y_hat : \", y_hat.shape)\n",
    "        # |y_hat| = (batch_size, 1)\n",
    "        return y_hat.contiguous().view(-1)"
   ]
  },
  {
   "cell_type": "code",
   "execution_count": 130,
   "metadata": {},
   "outputs": [],
   "source": [
    "from ignite.engine import Engine, Events\n",
    "from ignite.metrics import RunningAverage\n",
    "from ignite.contrib.handlers.tqdm_logger import ProgressBar\n",
    "from ignite.handlers import EarlyStopping\n",
    "\n",
    "import copy \n",
    "\n",
    "class HaliotisEngine(Engine):\n",
    "    \n",
    "    def __init__(self, process_function, model, crit, optimizer, config):\n",
    "\n",
    "        super().__init__(process_function)\n",
    "\n",
    "        self.model = model\n",
    "        self.crit = crit\n",
    "        self.optimizer = optimizer\n",
    "        self.best_loss = np.inf\n",
    "        self.best_model = None\n",
    "        self.device = next(model.parameters()).device\n",
    "        self.config = config\n",
    "\n",
    "    @staticmethod\n",
    "    def train(self, batch):\n",
    "        self.model.train()\n",
    "        x, y = batch\n",
    "        x = x.to(self.device)\n",
    "        # |x| = (batch_size, 8)\n",
    "        y = y.to(self.device)\n",
    "        # |x| = (batch_size,)\n",
    "\n",
    "        self.optimizer.zero_grad()\n",
    "\n",
    "        y_hat = self.model(x)\n",
    "\n",
    "        loss = self.crit(y_hat, y)\n",
    "        # print('y_hat : ',y_hat.shape)\n",
    "        # print('y : ',y.shape)\n",
    "        # print('torch.sum(torch.abs(y_hat.float() - y.float())) : ', torch.sum(torch.abs(y_hat.float() - y.float())).shape)\n",
    "        # loss = (torch.sum(torch.abs(y_hat.float() - y.float())) /\n",
    "        #                   torch.LongTensor([len(batch)]).squeeze(0).to(self.device))\n",
    "\n",
    "        loss.backward()\n",
    "        self.optimizer.step()\n",
    "\n",
    "        return {\n",
    "            'loss' : float(loss),\n",
    "        }\n",
    "\n",
    "    @staticmethod\n",
    "    def validation(self, batch):\n",
    "        self.model.eval()\n",
    "        x, y = batch\n",
    "        x = x.to(self.device)\n",
    "        y = y.to(self.device)\n",
    "\n",
    "        with torch.no_grad():\n",
    "            y_hat = self.model(x)\n",
    "            loss = self.crit(y_hat, y)\n",
    "        \n",
    "        return {\n",
    "            'loss' : float(loss),\n",
    "        }\n",
    "\n",
    "def run_validation(engine, validation_engine, validation_loader):\n",
    "    validation_engine.run(validation_loader, max_epochs = 1)\n",
    "\n",
    "def Trainer(model, crit, optimizer, train_loader, valid_loader, config):\n",
    "    train_engine = HaliotisEngine(HaliotisEngine.train, model, crit, optimizer, config)\n",
    "    validation_engine = HaliotisEngine(HaliotisEngine.validation, model, crit, optimizer, config)\n",
    "\n",
    "    RunningAverage(output_transform = lambda x: x['loss']).attach(train_engine, 'loss')\n",
    "    RunningAverage(output_transform = lambda x: x['loss']).attach(validation_engine, 'loss')\n",
    "    \n",
    "    train_pbar = ProgressBar()\n",
    "    train_pbar.attach(train_engine, ['loss'])\n",
    "    validation_pbar = ProgressBar()\n",
    "    validation_pbar.attach(validation_engine, ['loss'])\n",
    "\n",
    "    @train_engine.on(Events.EPOCH_COMPLETED)\n",
    "    def log_training_results(trainer):\n",
    "        print(f\"Training Results - Epoch[{trainer.state.epoch}/{trainer.state.max_epochs}] Loss : {trainer.state.metrics['loss']}\")\n",
    "\n",
    "    train_engine.add_event_handler(Events.EPOCH_COMPLETED, run_validation, validation_engine, valid_loader)\n",
    "\n",
    "    @validation_engine.on(Events.EPOCH_COMPLETED)\n",
    "    def check(engine):\n",
    "        loss = float(engine.state.metrics['loss'])\n",
    "        if loss <= engine.best_loss:\n",
    "            engine.best_loss = loss\n",
    "            engine.best_model = copy.deepcopy(engine.model.state_dict())\n",
    "\n",
    "    def score_function(engine):\n",
    "        val_loss = engine.state.metrics['loss']\n",
    "        return -val_loss\n",
    "\n",
    "    handler = EarlyStopping(patience=config.patience, score_function=score_function, trainer=train_engine)\n",
    "    validation_engine.add_event_handler(Events.COMPLETED, handler)\n",
    "\n",
    "    train_engine.run(train_loader, max_epochs = config.max_epochs)\n",
    "\n",
    "    print(\"Best Loss : \", validation_engine.best_loss)\n",
    "    return train_engine, validation_engine\n",
    "\n",
    "def Trainer_vall(model, crit, optimizer, train_loader, valid_loader, config):\n",
    "    train_engine = HaliotisEngine(HaliotisEngine.train, model, crit, optimizer, config)\n",
    "    validation_engine = HaliotisEngine(HaliotisEngine.validation, model, crit, optimizer, config)\n",
    "\n",
    "    RunningAverage(output_transform = lambda x: x['loss']).attach(train_engine, 'loss')\n",
    "    \n",
    "    train_pbar = ProgressBar()\n",
    "    train_pbar.attach(train_engine, ['loss'])\n",
    "\n",
    "    @train_engine.on(Events.EPOCH_COMPLETED)\n",
    "    def log_training_results(trainer):\n",
    "        print(f\"Training Results - Epoch[{trainer.state.epoch}/{trainer.state.max_epochs}] Loss : {trainer.state.metrics['loss']}\")\n",
    "\n",
    "    @train_engine.on(Events.EPOCH_COMPLETED)\n",
    "    def check(engine):\n",
    "        loss = float(engine.state.metrics['loss'])\n",
    "        if loss <= engine.best_loss:\n",
    "            engine.best_loss = loss\n",
    "            engine.best_model = copy.deepcopy(engine.model.state_dict())\n",
    "\n",
    "    def score_function(engine):\n",
    "        val_loss = engine.state.metrics['loss']\n",
    "        return -val_loss\n",
    "\n",
    "    handler = EarlyStopping(patience=config.patience, score_function=score_function, trainer=train_engine)\n",
    "    train_engine.add_event_handler(Events.EPOCH_COMPLETED, handler)\n",
    "\n",
    "    train_engine.run(train_loader, max_epochs = config.max_epochs)\n",
    "\n",
    "    print(\"Best Loss : \", train_engine.best_loss)\n",
    "    return train_engine    "
   ]
  },
  {
   "cell_type": "code",
   "execution_count": 132,
   "metadata": {},
   "outputs": [],
   "source": [
    "from torch.utils.data import Dataset, DataLoader\n",
    "\n",
    "class HaliotisDataset(Dataset):\n",
    "\n",
    "    def __init__(self, x, y):\n",
    "        self.x = torch.FloatTensor(x)\n",
    "        self.y = torch.FloatTensor(y)\n",
    "\n",
    "    def __len__(self):\n",
    "        return self.x.size(0)\n",
    "\n",
    "    def __getitem__(self, idx):\n",
    "        return self.x[idx], self.y[idx]\n",
    "\n",
    "def main(config):\n",
    "    train = pd.read_csv(\"data/train.csv\")\n",
    "    test = pd.read_csv(\"data/test.csv\")\n",
    "\n",
    "    gender2number = {}\n",
    "\n",
    "    for idx, value in enumerate(train['Gender'].unique()):\n",
    "        gender2number[value] = (idx+1) / 10\n",
    "\n",
    "    for idx, value in enumerate(train['Gender'].unique()):\n",
    "        train['Gender'].replace(value, gender2number[value], inplace = True)\n",
    "        test['Gender'].replace(value, gender2number[value], inplace = True)\n",
    "\n",
    "    model = HaliotisModel(input_size = config.input_size,\n",
    "                          hidden_size = config.hidden_size,\n",
    "                          number_of_head = config.number_of_head,\n",
    "                          enc_num = config.enc_num)\n",
    "    model.to('cuda' if torch.cuda.is_available() else 'cpu')\n",
    "    \n",
    "    crit = nn.MSELoss()\n",
    "    optimizer = torch.optim.Adam(model.parameters())\n",
    "\n",
    "    haliotis_dataset = HaliotisDataset(train.iloc[:, 1:-1].values, train.iloc[:, -1].values)\n",
    "\n",
    "    train_size = int(len(haliotis_dataset) * config.train_size)\n",
    "    valid_size = len(haliotis_dataset) - train_size\n",
    "\n",
    "    train_dataset, valid_dataset = torch.utils.data.random_split(haliotis_dataset, [train_size, valid_size])\n",
    "\n",
    "    train_loader = DataLoader(train_dataset, batch_size = 100, shuffle = True)\n",
    "    valid_loader = DataLoader(valid_dataset, batch_size = 10, shuffle = True)\n",
    "\n",
    "    train_engine, validation_engine = Trainer(model, crit, optimizer, train_loader, valid_loader, config)\n",
    "    # train_engine = Trainer_vall(model, crit, optimizer, DataLoader(haliotis_dataset, batch_size = 128, shuffle = True), None, config)\n",
    "\n",
    "\n",
    "    # model.load_state_dict(train_engine.best_model)\n",
    "    model.load_state_dict(validation_engine.best_model)\n",
    "\n",
    "    with torch.no_grad():\n",
    "        y_hat = model(torch.FloatTensor(test.iloc[:, 1:].values).to('cuda'))\n",
    "    \n",
    "    return y_hat"
   ]
  },
  {
   "cell_type": "code",
   "execution_count": 133,
   "metadata": {},
   "outputs": [],
   "source": [
    "from argparse import Namespace\n",
    "\n",
    "\"\"\"\n",
    "    input_size : 입력 특징 벡터\n",
    "    hidden_size : 확장된 차원의 수\n",
    "    number_of_head : 헤드의 수\n",
    "    enc_num : 인코더 레이어 층의 수\n",
    "    max_epochs : 최대 에폭\n",
    "    train_size : 학습 데이터 사이즈\n",
    "    valid_size : 검증 데이터 사이즈\n",
    "    patience : EarlyStopping을 위한 파리미터 값\n",
    "\"\"\"\n",
    "\n",
    "config = {\n",
    "    'input_size': 8,\n",
    "    'hidden_size': 256,\n",
    "    'number_of_head': 4,\n",
    "    'enc_num': 8,\n",
    "    'max_epochs': 1000,\n",
    "    'train_size' : .9,\n",
    "    'valid_size' : .1,\n",
    "    'patience' : 100,\n",
    "}\n",
    "\n",
    "config = Namespace(**config)"
   ]
  },
  {
   "cell_type": "code",
   "execution_count": 142,
   "metadata": {
    "scrolled": true
   },
   "outputs": [
    {
     "data": {
      "application/vnd.jupyter.widget-view+json": {
       "model_id": "",
       "version_major": 2,
       "version_minor": 0
      },
      "text/plain": [
       "HBox(children=(HTML(value=''), FloatProgress(value=0.0, max=12.0), HTML(value='')))"
      ]
     },
     "metadata": {},
     "output_type": "display_data"
    },
    {
     "name": "stdout",
     "output_type": "stream",
     "text": [
      "Training Results - Epoch[1/1000] Loss : 109.24241959221892\n"
     ]
    },
    {
     "data": {
      "application/vnd.jupyter.widget-view+json": {
       "model_id": "",
       "version_major": 2,
       "version_minor": 0
      },
      "text/plain": [
       "HBox(children=(HTML(value=''), FloatProgress(value=0.0, max=13.0), HTML(value='')))"
      ]
     },
     "metadata": {},
     "output_type": "display_data"
    },
    {
     "data": {
      "application/vnd.jupyter.widget-view+json": {
       "model_id": "",
       "version_major": 2,
       "version_minor": 0
      },
      "text/plain": [
       "HBox(children=(HTML(value=''), FloatProgress(value=0.0, max=12.0), HTML(value='')))"
      ]
     },
     "metadata": {},
     "output_type": "display_data"
    },
    {
     "name": "stdout",
     "output_type": "stream",
     "text": [
      "Training Results - Epoch[2/1000] Loss : 94.71131243687132\n"
     ]
    },
    {
     "data": {
      "application/vnd.jupyter.widget-view+json": {
       "model_id": "",
       "version_major": 2,
       "version_minor": 0
      },
      "text/plain": [
       "HBox(children=(HTML(value=''), FloatProgress(value=0.0, max=13.0), HTML(value='')))"
      ]
     },
     "metadata": {},
     "output_type": "display_data"
    },
    {
     "data": {
      "application/vnd.jupyter.widget-view+json": {
       "model_id": "",
       "version_major": 2,
       "version_minor": 0
      },
      "text/plain": [
       "HBox(children=(HTML(value=''), FloatProgress(value=0.0, max=12.0), HTML(value='')))"
      ]
     },
     "metadata": {},
     "output_type": "display_data"
    },
    {
     "name": "stdout",
     "output_type": "stream",
     "text": [
      "Training Results - Epoch[3/1000] Loss : 100.50411334307317\n"
     ]
    },
    {
     "data": {
      "application/vnd.jupyter.widget-view+json": {
       "model_id": "",
       "version_major": 2,
       "version_minor": 0
      },
      "text/plain": [
       "HBox(children=(HTML(value=''), FloatProgress(value=0.0, max=13.0), HTML(value='')))"
      ]
     },
     "metadata": {},
     "output_type": "display_data"
    },
    {
     "data": {
      "application/vnd.jupyter.widget-view+json": {
       "model_id": "",
       "version_major": 2,
       "version_minor": 0
      },
      "text/plain": [
       "HBox(children=(HTML(value=''), FloatProgress(value=0.0, max=12.0), HTML(value='')))"
      ]
     },
     "metadata": {},
     "output_type": "display_data"
    },
    {
     "name": "stdout",
     "output_type": "stream",
     "text": [
      "Training Results - Epoch[4/1000] Loss : 107.56088249251606\n"
     ]
    },
    {
     "data": {
      "application/vnd.jupyter.widget-view+json": {
       "model_id": "",
       "version_major": 2,
       "version_minor": 0
      },
      "text/plain": [
       "HBox(children=(HTML(value=''), FloatProgress(value=0.0, max=13.0), HTML(value='')))"
      ]
     },
     "metadata": {},
     "output_type": "display_data"
    },
    {
     "data": {
      "application/vnd.jupyter.widget-view+json": {
       "model_id": "",
       "version_major": 2,
       "version_minor": 0
      },
      "text/plain": [
       "HBox(children=(HTML(value=''), FloatProgress(value=0.0, max=12.0), HTML(value='')))"
      ]
     },
     "metadata": {},
     "output_type": "display_data"
    },
    {
     "name": "stdout",
     "output_type": "stream",
     "text": [
      "Training Results - Epoch[5/1000] Loss : 93.20855748674019\n"
     ]
    },
    {
     "data": {
      "application/vnd.jupyter.widget-view+json": {
       "model_id": "",
       "version_major": 2,
       "version_minor": 0
      },
      "text/plain": [
       "HBox(children=(HTML(value=''), FloatProgress(value=0.0, max=13.0), HTML(value='')))"
      ]
     },
     "metadata": {},
     "output_type": "display_data"
    },
    {
     "data": {
      "application/vnd.jupyter.widget-view+json": {
       "model_id": "",
       "version_major": 2,
       "version_minor": 0
      },
      "text/plain": [
       "HBox(children=(HTML(value=''), FloatProgress(value=0.0, max=12.0), HTML(value='')))"
      ]
     },
     "metadata": {},
     "output_type": "display_data"
    },
    {
     "name": "stdout",
     "output_type": "stream",
     "text": [
      "Training Results - Epoch[6/1000] Loss : 103.51189214078124\n"
     ]
    },
    {
     "data": {
      "application/vnd.jupyter.widget-view+json": {
       "model_id": "",
       "version_major": 2,
       "version_minor": 0
      },
      "text/plain": [
       "HBox(children=(HTML(value=''), FloatProgress(value=0.0, max=13.0), HTML(value='')))"
      ]
     },
     "metadata": {},
     "output_type": "display_data"
    },
    {
     "data": {
      "application/vnd.jupyter.widget-view+json": {
       "model_id": "",
       "version_major": 2,
       "version_minor": 0
      },
      "text/plain": [
       "HBox(children=(HTML(value=''), FloatProgress(value=0.0, max=12.0), HTML(value='')))"
      ]
     },
     "metadata": {},
     "output_type": "display_data"
    },
    {
     "name": "stdout",
     "output_type": "stream",
     "text": [
      "Training Results - Epoch[7/1000] Loss : 93.51862832408314\n"
     ]
    },
    {
     "data": {
      "application/vnd.jupyter.widget-view+json": {
       "model_id": "",
       "version_major": 2,
       "version_minor": 0
      },
      "text/plain": [
       "HBox(children=(HTML(value=''), FloatProgress(value=0.0, max=13.0), HTML(value='')))"
      ]
     },
     "metadata": {},
     "output_type": "display_data"
    },
    {
     "data": {
      "application/vnd.jupyter.widget-view+json": {
       "model_id": "",
       "version_major": 2,
       "version_minor": 0
      },
      "text/plain": [
       "HBox(children=(HTML(value=''), FloatProgress(value=0.0, max=12.0), HTML(value='')))"
      ]
     },
     "metadata": {},
     "output_type": "display_data"
    },
    {
     "name": "stdout",
     "output_type": "stream",
     "text": [
      "Training Results - Epoch[8/1000] Loss : 89.74120242562181\n"
     ]
    },
    {
     "data": {
      "application/vnd.jupyter.widget-view+json": {
       "model_id": "",
       "version_major": 2,
       "version_minor": 0
      },
      "text/plain": [
       "HBox(children=(HTML(value=''), FloatProgress(value=0.0, max=13.0), HTML(value='')))"
      ]
     },
     "metadata": {},
     "output_type": "display_data"
    },
    {
     "data": {
      "application/vnd.jupyter.widget-view+json": {
       "model_id": "",
       "version_major": 2,
       "version_minor": 0
      },
      "text/plain": [
       "HBox(children=(HTML(value=''), FloatProgress(value=0.0, max=12.0), HTML(value='')))"
      ]
     },
     "metadata": {},
     "output_type": "display_data"
    },
    {
     "name": "stdout",
     "output_type": "stream",
     "text": [
      "Training Results - Epoch[9/1000] Loss : 88.17778742751955\n"
     ]
    },
    {
     "data": {
      "application/vnd.jupyter.widget-view+json": {
       "model_id": "",
       "version_major": 2,
       "version_minor": 0
      },
      "text/plain": [
       "HBox(children=(HTML(value=''), FloatProgress(value=0.0, max=13.0), HTML(value='')))"
      ]
     },
     "metadata": {},
     "output_type": "display_data"
    },
    {
     "data": {
      "application/vnd.jupyter.widget-view+json": {
       "model_id": "",
       "version_major": 2,
       "version_minor": 0
      },
      "text/plain": [
       "HBox(children=(HTML(value=''), FloatProgress(value=0.0, max=12.0), HTML(value='')))"
      ]
     },
     "metadata": {},
     "output_type": "display_data"
    },
    {
     "name": "stdout",
     "output_type": "stream",
     "text": [
      "Training Results - Epoch[10/1000] Loss : 91.0213514209327\n"
     ]
    },
    {
     "data": {
      "application/vnd.jupyter.widget-view+json": {
       "model_id": "",
       "version_major": 2,
       "version_minor": 0
      },
      "text/plain": [
       "HBox(children=(HTML(value=''), FloatProgress(value=0.0, max=13.0), HTML(value='')))"
      ]
     },
     "metadata": {},
     "output_type": "display_data"
    },
    {
     "data": {
      "application/vnd.jupyter.widget-view+json": {
       "model_id": "",
       "version_major": 2,
       "version_minor": 0
      },
      "text/plain": [
       "HBox(children=(HTML(value=''), FloatProgress(value=0.0, max=12.0), HTML(value='')))"
      ]
     },
     "metadata": {},
     "output_type": "display_data"
    },
    {
     "name": "stdout",
     "output_type": "stream",
     "text": [
      "Training Results - Epoch[11/1000] Loss : 86.71589274768824\n"
     ]
    },
    {
     "data": {
      "application/vnd.jupyter.widget-view+json": {
       "model_id": "",
       "version_major": 2,
       "version_minor": 0
      },
      "text/plain": [
       "HBox(children=(HTML(value=''), FloatProgress(value=0.0, max=13.0), HTML(value='')))"
      ]
     },
     "metadata": {},
     "output_type": "display_data"
    },
    {
     "data": {
      "application/vnd.jupyter.widget-view+json": {
       "model_id": "",
       "version_major": 2,
       "version_minor": 0
      },
      "text/plain": [
       "HBox(children=(HTML(value=''), FloatProgress(value=0.0, max=12.0), HTML(value='')))"
      ]
     },
     "metadata": {},
     "output_type": "display_data"
    },
    {
     "name": "stdout",
     "output_type": "stream",
     "text": [
      "Training Results - Epoch[12/1000] Loss : 77.32089674052142\n"
     ]
    },
    {
     "data": {
      "application/vnd.jupyter.widget-view+json": {
       "model_id": "",
       "version_major": 2,
       "version_minor": 0
      },
      "text/plain": [
       "HBox(children=(HTML(value=''), FloatProgress(value=0.0, max=13.0), HTML(value='')))"
      ]
     },
     "metadata": {},
     "output_type": "display_data"
    },
    {
     "data": {
      "application/vnd.jupyter.widget-view+json": {
       "model_id": "",
       "version_major": 2,
       "version_minor": 0
      },
      "text/plain": [
       "HBox(children=(HTML(value=''), FloatProgress(value=0.0, max=12.0), HTML(value='')))"
      ]
     },
     "metadata": {},
     "output_type": "display_data"
    },
    {
     "name": "stdout",
     "output_type": "stream",
     "text": [
      "Training Results - Epoch[13/1000] Loss : 73.3476912799071\n"
     ]
    },
    {
     "data": {
      "application/vnd.jupyter.widget-view+json": {
       "model_id": "",
       "version_major": 2,
       "version_minor": 0
      },
      "text/plain": [
       "HBox(children=(HTML(value=''), FloatProgress(value=0.0, max=13.0), HTML(value='')))"
      ]
     },
     "metadata": {},
     "output_type": "display_data"
    },
    {
     "data": {
      "application/vnd.jupyter.widget-view+json": {
       "model_id": "",
       "version_major": 2,
       "version_minor": 0
      },
      "text/plain": [
       "HBox(children=(HTML(value=''), FloatProgress(value=0.0, max=12.0), HTML(value='')))"
      ]
     },
     "metadata": {},
     "output_type": "display_data"
    },
    {
     "name": "stdout",
     "output_type": "stream",
     "text": [
      "Training Results - Epoch[14/1000] Loss : 78.97449483892049\n"
     ]
    },
    {
     "data": {
      "application/vnd.jupyter.widget-view+json": {
       "model_id": "",
       "version_major": 2,
       "version_minor": 0
      },
      "text/plain": [
       "HBox(children=(HTML(value=''), FloatProgress(value=0.0, max=13.0), HTML(value='')))"
      ]
     },
     "metadata": {},
     "output_type": "display_data"
    },
    {
     "data": {
      "application/vnd.jupyter.widget-view+json": {
       "model_id": "",
       "version_major": 2,
       "version_minor": 0
      },
      "text/plain": [
       "HBox(children=(HTML(value=''), FloatProgress(value=0.0, max=12.0), HTML(value='')))"
      ]
     },
     "metadata": {},
     "output_type": "display_data"
    },
    {
     "name": "stdout",
     "output_type": "stream",
     "text": [
      "Training Results - Epoch[15/1000] Loss : 70.3532162911596\n"
     ]
    },
    {
     "data": {
      "application/vnd.jupyter.widget-view+json": {
       "model_id": "",
       "version_major": 2,
       "version_minor": 0
      },
      "text/plain": [
       "HBox(children=(HTML(value=''), FloatProgress(value=0.0, max=13.0), HTML(value='')))"
      ]
     },
     "metadata": {},
     "output_type": "display_data"
    },
    {
     "data": {
      "application/vnd.jupyter.widget-view+json": {
       "model_id": "",
       "version_major": 2,
       "version_minor": 0
      },
      "text/plain": [
       "HBox(children=(HTML(value=''), FloatProgress(value=0.0, max=12.0), HTML(value='')))"
      ]
     },
     "metadata": {},
     "output_type": "display_data"
    },
    {
     "name": "stdout",
     "output_type": "stream",
     "text": [
      "Training Results - Epoch[16/1000] Loss : 63.519842712412554\n"
     ]
    },
    {
     "data": {
      "application/vnd.jupyter.widget-view+json": {
       "model_id": "",
       "version_major": 2,
       "version_minor": 0
      },
      "text/plain": [
       "HBox(children=(HTML(value=''), FloatProgress(value=0.0, max=13.0), HTML(value='')))"
      ]
     },
     "metadata": {},
     "output_type": "display_data"
    },
    {
     "data": {
      "application/vnd.jupyter.widget-view+json": {
       "model_id": "",
       "version_major": 2,
       "version_minor": 0
      },
      "text/plain": [
       "HBox(children=(HTML(value=''), FloatProgress(value=0.0, max=12.0), HTML(value='')))"
      ]
     },
     "metadata": {},
     "output_type": "display_data"
    },
    {
     "name": "stdout",
     "output_type": "stream",
     "text": [
      "Training Results - Epoch[17/1000] Loss : 62.721787434473995\n"
     ]
    },
    {
     "data": {
      "application/vnd.jupyter.widget-view+json": {
       "model_id": "",
       "version_major": 2,
       "version_minor": 0
      },
      "text/plain": [
       "HBox(children=(HTML(value=''), FloatProgress(value=0.0, max=13.0), HTML(value='')))"
      ]
     },
     "metadata": {},
     "output_type": "display_data"
    },
    {
     "data": {
      "application/vnd.jupyter.widget-view+json": {
       "model_id": "",
       "version_major": 2,
       "version_minor": 0
      },
      "text/plain": [
       "HBox(children=(HTML(value=''), FloatProgress(value=0.0, max=12.0), HTML(value='')))"
      ]
     },
     "metadata": {},
     "output_type": "display_data"
    },
    {
     "name": "stdout",
     "output_type": "stream",
     "text": [
      "Training Results - Epoch[18/1000] Loss : 56.912975629521256\n"
     ]
    },
    {
     "data": {
      "application/vnd.jupyter.widget-view+json": {
       "model_id": "",
       "version_major": 2,
       "version_minor": 0
      },
      "text/plain": [
       "HBox(children=(HTML(value=''), FloatProgress(value=0.0, max=13.0), HTML(value='')))"
      ]
     },
     "metadata": {},
     "output_type": "display_data"
    },
    {
     "data": {
      "application/vnd.jupyter.widget-view+json": {
       "model_id": "",
       "version_major": 2,
       "version_minor": 0
      },
      "text/plain": [
       "HBox(children=(HTML(value=''), FloatProgress(value=0.0, max=12.0), HTML(value='')))"
      ]
     },
     "metadata": {},
     "output_type": "display_data"
    },
    {
     "name": "stdout",
     "output_type": "stream",
     "text": [
      "Training Results - Epoch[19/1000] Loss : 42.721377244671245\n"
     ]
    },
    {
     "data": {
      "application/vnd.jupyter.widget-view+json": {
       "model_id": "",
       "version_major": 2,
       "version_minor": 0
      },
      "text/plain": [
       "HBox(children=(HTML(value=''), FloatProgress(value=0.0, max=13.0), HTML(value='')))"
      ]
     },
     "metadata": {},
     "output_type": "display_data"
    },
    {
     "data": {
      "application/vnd.jupyter.widget-view+json": {
       "model_id": "",
       "version_major": 2,
       "version_minor": 0
      },
      "text/plain": [
       "HBox(children=(HTML(value=''), FloatProgress(value=0.0, max=12.0), HTML(value='')))"
      ]
     },
     "metadata": {},
     "output_type": "display_data"
    },
    {
     "name": "stdout",
     "output_type": "stream",
     "text": [
      "Training Results - Epoch[20/1000] Loss : 51.13749140877573\n"
     ]
    },
    {
     "data": {
      "application/vnd.jupyter.widget-view+json": {
       "model_id": "",
       "version_major": 2,
       "version_minor": 0
      },
      "text/plain": [
       "HBox(children=(HTML(value=''), FloatProgress(value=0.0, max=13.0), HTML(value='')))"
      ]
     },
     "metadata": {},
     "output_type": "display_data"
    },
    {
     "data": {
      "application/vnd.jupyter.widget-view+json": {
       "model_id": "",
       "version_major": 2,
       "version_minor": 0
      },
      "text/plain": [
       "HBox(children=(HTML(value=''), FloatProgress(value=0.0, max=12.0), HTML(value='')))"
      ]
     },
     "metadata": {},
     "output_type": "display_data"
    },
    {
     "name": "stdout",
     "output_type": "stream",
     "text": [
      "Training Results - Epoch[21/1000] Loss : 44.470547185230224\n"
     ]
    },
    {
     "data": {
      "application/vnd.jupyter.widget-view+json": {
       "model_id": "",
       "version_major": 2,
       "version_minor": 0
      },
      "text/plain": [
       "HBox(children=(HTML(value=''), FloatProgress(value=0.0, max=13.0), HTML(value='')))"
      ]
     },
     "metadata": {},
     "output_type": "display_data"
    },
    {
     "data": {
      "application/vnd.jupyter.widget-view+json": {
       "model_id": "",
       "version_major": 2,
       "version_minor": 0
      },
      "text/plain": [
       "HBox(children=(HTML(value=''), FloatProgress(value=0.0, max=12.0), HTML(value='')))"
      ]
     },
     "metadata": {},
     "output_type": "display_data"
    },
    {
     "name": "stdout",
     "output_type": "stream",
     "text": [
      "Training Results - Epoch[22/1000] Loss : 32.48721994061031\n"
     ]
    },
    {
     "data": {
      "application/vnd.jupyter.widget-view+json": {
       "model_id": "",
       "version_major": 2,
       "version_minor": 0
      },
      "text/plain": [
       "HBox(children=(HTML(value=''), FloatProgress(value=0.0, max=13.0), HTML(value='')))"
      ]
     },
     "metadata": {},
     "output_type": "display_data"
    },
    {
     "data": {
      "application/vnd.jupyter.widget-view+json": {
       "model_id": "",
       "version_major": 2,
       "version_minor": 0
      },
      "text/plain": [
       "HBox(children=(HTML(value=''), FloatProgress(value=0.0, max=12.0), HTML(value='')))"
      ]
     },
     "metadata": {},
     "output_type": "display_data"
    },
    {
     "name": "stdout",
     "output_type": "stream",
     "text": [
      "Training Results - Epoch[23/1000] Loss : 34.040091706971374\n"
     ]
    },
    {
     "data": {
      "application/vnd.jupyter.widget-view+json": {
       "model_id": "",
       "version_major": 2,
       "version_minor": 0
      },
      "text/plain": [
       "HBox(children=(HTML(value=''), FloatProgress(value=0.0, max=13.0), HTML(value='')))"
      ]
     },
     "metadata": {},
     "output_type": "display_data"
    },
    {
     "data": {
      "application/vnd.jupyter.widget-view+json": {
       "model_id": "",
       "version_major": 2,
       "version_minor": 0
      },
      "text/plain": [
       "HBox(children=(HTML(value=''), FloatProgress(value=0.0, max=12.0), HTML(value='')))"
      ]
     },
     "metadata": {},
     "output_type": "display_data"
    },
    {
     "name": "stdout",
     "output_type": "stream",
     "text": [
      "Training Results - Epoch[24/1000] Loss : 25.035246974595566\n"
     ]
    },
    {
     "data": {
      "application/vnd.jupyter.widget-view+json": {
       "model_id": "",
       "version_major": 2,
       "version_minor": 0
      },
      "text/plain": [
       "HBox(children=(HTML(value=''), FloatProgress(value=0.0, max=13.0), HTML(value='')))"
      ]
     },
     "metadata": {},
     "output_type": "display_data"
    },
    {
     "data": {
      "application/vnd.jupyter.widget-view+json": {
       "model_id": "",
       "version_major": 2,
       "version_minor": 0
      },
      "text/plain": [
       "HBox(children=(HTML(value=''), FloatProgress(value=0.0, max=12.0), HTML(value='')))"
      ]
     },
     "metadata": {},
     "output_type": "display_data"
    },
    {
     "name": "stdout",
     "output_type": "stream",
     "text": [
      "Training Results - Epoch[25/1000] Loss : 30.685973424307335\n"
     ]
    },
    {
     "data": {
      "application/vnd.jupyter.widget-view+json": {
       "model_id": "",
       "version_major": 2,
       "version_minor": 0
      },
      "text/plain": [
       "HBox(children=(HTML(value=''), FloatProgress(value=0.0, max=13.0), HTML(value='')))"
      ]
     },
     "metadata": {},
     "output_type": "display_data"
    },
    {
     "data": {
      "application/vnd.jupyter.widget-view+json": {
       "model_id": "",
       "version_major": 2,
       "version_minor": 0
      },
      "text/plain": [
       "HBox(children=(HTML(value=''), FloatProgress(value=0.0, max=12.0), HTML(value='')))"
      ]
     },
     "metadata": {},
     "output_type": "display_data"
    },
    {
     "name": "stdout",
     "output_type": "stream",
     "text": [
      "Training Results - Epoch[26/1000] Loss : 23.16037042961413\n"
     ]
    },
    {
     "data": {
      "application/vnd.jupyter.widget-view+json": {
       "model_id": "",
       "version_major": 2,
       "version_minor": 0
      },
      "text/plain": [
       "HBox(children=(HTML(value=''), FloatProgress(value=0.0, max=13.0), HTML(value='')))"
      ]
     },
     "metadata": {},
     "output_type": "display_data"
    },
    {
     "data": {
      "application/vnd.jupyter.widget-view+json": {
       "model_id": "",
       "version_major": 2,
       "version_minor": 0
      },
      "text/plain": [
       "HBox(children=(HTML(value=''), FloatProgress(value=0.0, max=12.0), HTML(value='')))"
      ]
     },
     "metadata": {},
     "output_type": "display_data"
    },
    {
     "name": "stdout",
     "output_type": "stream",
     "text": [
      "Training Results - Epoch[27/1000] Loss : 18.500453024970568\n"
     ]
    },
    {
     "data": {
      "application/vnd.jupyter.widget-view+json": {
       "model_id": "",
       "version_major": 2,
       "version_minor": 0
      },
      "text/plain": [
       "HBox(children=(HTML(value=''), FloatProgress(value=0.0, max=13.0), HTML(value='')))"
      ]
     },
     "metadata": {},
     "output_type": "display_data"
    },
    {
     "data": {
      "application/vnd.jupyter.widget-view+json": {
       "model_id": "",
       "version_major": 2,
       "version_minor": 0
      },
      "text/plain": [
       "HBox(children=(HTML(value=''), FloatProgress(value=0.0, max=12.0), HTML(value='')))"
      ]
     },
     "metadata": {},
     "output_type": "display_data"
    },
    {
     "name": "stdout",
     "output_type": "stream",
     "text": [
      "Training Results - Epoch[28/1000] Loss : 14.084575570222825\n"
     ]
    },
    {
     "data": {
      "application/vnd.jupyter.widget-view+json": {
       "model_id": "",
       "version_major": 2,
       "version_minor": 0
      },
      "text/plain": [
       "HBox(children=(HTML(value=''), FloatProgress(value=0.0, max=13.0), HTML(value='')))"
      ]
     },
     "metadata": {},
     "output_type": "display_data"
    },
    {
     "data": {
      "application/vnd.jupyter.widget-view+json": {
       "model_id": "",
       "version_major": 2,
       "version_minor": 0
      },
      "text/plain": [
       "HBox(children=(HTML(value=''), FloatProgress(value=0.0, max=12.0), HTML(value='')))"
      ]
     },
     "metadata": {},
     "output_type": "display_data"
    },
    {
     "name": "stdout",
     "output_type": "stream",
     "text": [
      "Training Results - Epoch[29/1000] Loss : 11.118262293062958\n"
     ]
    },
    {
     "data": {
      "application/vnd.jupyter.widget-view+json": {
       "model_id": "",
       "version_major": 2,
       "version_minor": 0
      },
      "text/plain": [
       "HBox(children=(HTML(value=''), FloatProgress(value=0.0, max=13.0), HTML(value='')))"
      ]
     },
     "metadata": {},
     "output_type": "display_data"
    },
    {
     "data": {
      "application/vnd.jupyter.widget-view+json": {
       "model_id": "",
       "version_major": 2,
       "version_minor": 0
      },
      "text/plain": [
       "HBox(children=(HTML(value=''), FloatProgress(value=0.0, max=12.0), HTML(value='')))"
      ]
     },
     "metadata": {},
     "output_type": "display_data"
    },
    {
     "name": "stdout",
     "output_type": "stream",
     "text": [
      "Training Results - Epoch[30/1000] Loss : 10.641830106961926\n"
     ]
    },
    {
     "data": {
      "application/vnd.jupyter.widget-view+json": {
       "model_id": "",
       "version_major": 2,
       "version_minor": 0
      },
      "text/plain": [
       "HBox(children=(HTML(value=''), FloatProgress(value=0.0, max=13.0), HTML(value='')))"
      ]
     },
     "metadata": {},
     "output_type": "display_data"
    },
    {
     "data": {
      "application/vnd.jupyter.widget-view+json": {
       "model_id": "",
       "version_major": 2,
       "version_minor": 0
      },
      "text/plain": [
       "HBox(children=(HTML(value=''), FloatProgress(value=0.0, max=12.0), HTML(value='')))"
      ]
     },
     "metadata": {},
     "output_type": "display_data"
    },
    {
     "name": "stdout",
     "output_type": "stream",
     "text": [
      "Training Results - Epoch[31/1000] Loss : 10.363065149589499\n"
     ]
    },
    {
     "data": {
      "application/vnd.jupyter.widget-view+json": {
       "model_id": "",
       "version_major": 2,
       "version_minor": 0
      },
      "text/plain": [
       "HBox(children=(HTML(value=''), FloatProgress(value=0.0, max=13.0), HTML(value='')))"
      ]
     },
     "metadata": {},
     "output_type": "display_data"
    },
    {
     "data": {
      "application/vnd.jupyter.widget-view+json": {
       "model_id": "",
       "version_major": 2,
       "version_minor": 0
      },
      "text/plain": [
       "HBox(children=(HTML(value=''), FloatProgress(value=0.0, max=12.0), HTML(value='')))"
      ]
     },
     "metadata": {},
     "output_type": "display_data"
    },
    {
     "name": "stdout",
     "output_type": "stream",
     "text": [
      "Training Results - Epoch[32/1000] Loss : 8.764018929173552\n"
     ]
    },
    {
     "data": {
      "application/vnd.jupyter.widget-view+json": {
       "model_id": "",
       "version_major": 2,
       "version_minor": 0
      },
      "text/plain": [
       "HBox(children=(HTML(value=''), FloatProgress(value=0.0, max=13.0), HTML(value='')))"
      ]
     },
     "metadata": {},
     "output_type": "display_data"
    },
    {
     "data": {
      "application/vnd.jupyter.widget-view+json": {
       "model_id": "",
       "version_major": 2,
       "version_minor": 0
      },
      "text/plain": [
       "HBox(children=(HTML(value=''), FloatProgress(value=0.0, max=12.0), HTML(value='')))"
      ]
     },
     "metadata": {},
     "output_type": "display_data"
    },
    {
     "name": "stdout",
     "output_type": "stream",
     "text": [
      "Training Results - Epoch[33/1000] Loss : 8.438297842256393\n"
     ]
    },
    {
     "data": {
      "application/vnd.jupyter.widget-view+json": {
       "model_id": "",
       "version_major": 2,
       "version_minor": 0
      },
      "text/plain": [
       "HBox(children=(HTML(value=''), FloatProgress(value=0.0, max=13.0), HTML(value='')))"
      ]
     },
     "metadata": {},
     "output_type": "display_data"
    },
    {
     "data": {
      "application/vnd.jupyter.widget-view+json": {
       "model_id": "",
       "version_major": 2,
       "version_minor": 0
      },
      "text/plain": [
       "HBox(children=(HTML(value=''), FloatProgress(value=0.0, max=12.0), HTML(value='')))"
      ]
     },
     "metadata": {},
     "output_type": "display_data"
    },
    {
     "name": "stdout",
     "output_type": "stream",
     "text": [
      "Training Results - Epoch[34/1000] Loss : 8.614627411400399\n"
     ]
    },
    {
     "data": {
      "application/vnd.jupyter.widget-view+json": {
       "model_id": "",
       "version_major": 2,
       "version_minor": 0
      },
      "text/plain": [
       "HBox(children=(HTML(value=''), FloatProgress(value=0.0, max=13.0), HTML(value='')))"
      ]
     },
     "metadata": {},
     "output_type": "display_data"
    },
    {
     "data": {
      "application/vnd.jupyter.widget-view+json": {
       "model_id": "",
       "version_major": 2,
       "version_minor": 0
      },
      "text/plain": [
       "HBox(children=(HTML(value=''), FloatProgress(value=0.0, max=12.0), HTML(value='')))"
      ]
     },
     "metadata": {},
     "output_type": "display_data"
    },
    {
     "name": "stdout",
     "output_type": "stream",
     "text": [
      "Training Results - Epoch[35/1000] Loss : 6.65785669965335\n"
     ]
    },
    {
     "data": {
      "application/vnd.jupyter.widget-view+json": {
       "model_id": "",
       "version_major": 2,
       "version_minor": 0
      },
      "text/plain": [
       "HBox(children=(HTML(value=''), FloatProgress(value=0.0, max=13.0), HTML(value='')))"
      ]
     },
     "metadata": {},
     "output_type": "display_data"
    },
    {
     "data": {
      "application/vnd.jupyter.widget-view+json": {
       "model_id": "",
       "version_major": 2,
       "version_minor": 0
      },
      "text/plain": [
       "HBox(children=(HTML(value=''), FloatProgress(value=0.0, max=12.0), HTML(value='')))"
      ]
     },
     "metadata": {},
     "output_type": "display_data"
    },
    {
     "name": "stdout",
     "output_type": "stream",
     "text": [
      "Training Results - Epoch[36/1000] Loss : 5.590109941826522\n"
     ]
    },
    {
     "data": {
      "application/vnd.jupyter.widget-view+json": {
       "model_id": "",
       "version_major": 2,
       "version_minor": 0
      },
      "text/plain": [
       "HBox(children=(HTML(value=''), FloatProgress(value=0.0, max=13.0), HTML(value='')))"
      ]
     },
     "metadata": {},
     "output_type": "display_data"
    },
    {
     "data": {
      "application/vnd.jupyter.widget-view+json": {
       "model_id": "",
       "version_major": 2,
       "version_minor": 0
      },
      "text/plain": [
       "HBox(children=(HTML(value=''), FloatProgress(value=0.0, max=12.0), HTML(value='')))"
      ]
     },
     "metadata": {},
     "output_type": "display_data"
    },
    {
     "name": "stdout",
     "output_type": "stream",
     "text": [
      "Training Results - Epoch[37/1000] Loss : 4.351305258273337\n"
     ]
    },
    {
     "data": {
      "application/vnd.jupyter.widget-view+json": {
       "model_id": "",
       "version_major": 2,
       "version_minor": 0
      },
      "text/plain": [
       "HBox(children=(HTML(value=''), FloatProgress(value=0.0, max=13.0), HTML(value='')))"
      ]
     },
     "metadata": {},
     "output_type": "display_data"
    },
    {
     "data": {
      "application/vnd.jupyter.widget-view+json": {
       "model_id": "",
       "version_major": 2,
       "version_minor": 0
      },
      "text/plain": [
       "HBox(children=(HTML(value=''), FloatProgress(value=0.0, max=12.0), HTML(value='')))"
      ]
     },
     "metadata": {},
     "output_type": "display_data"
    },
    {
     "name": "stdout",
     "output_type": "stream",
     "text": [
      "Training Results - Epoch[38/1000] Loss : 5.150105506483189\n"
     ]
    },
    {
     "data": {
      "application/vnd.jupyter.widget-view+json": {
       "model_id": "",
       "version_major": 2,
       "version_minor": 0
      },
      "text/plain": [
       "HBox(children=(HTML(value=''), FloatProgress(value=0.0, max=13.0), HTML(value='')))"
      ]
     },
     "metadata": {},
     "output_type": "display_data"
    },
    {
     "data": {
      "application/vnd.jupyter.widget-view+json": {
       "model_id": "",
       "version_major": 2,
       "version_minor": 0
      },
      "text/plain": [
       "HBox(children=(HTML(value=''), FloatProgress(value=0.0, max=12.0), HTML(value='')))"
      ]
     },
     "metadata": {},
     "output_type": "display_data"
    },
    {
     "name": "stdout",
     "output_type": "stream",
     "text": [
      "Training Results - Epoch[39/1000] Loss : 5.310510907747207\n"
     ]
    },
    {
     "data": {
      "application/vnd.jupyter.widget-view+json": {
       "model_id": "",
       "version_major": 2,
       "version_minor": 0
      },
      "text/plain": [
       "HBox(children=(HTML(value=''), FloatProgress(value=0.0, max=13.0), HTML(value='')))"
      ]
     },
     "metadata": {},
     "output_type": "display_data"
    },
    {
     "data": {
      "application/vnd.jupyter.widget-view+json": {
       "model_id": "",
       "version_major": 2,
       "version_minor": 0
      },
      "text/plain": [
       "HBox(children=(HTML(value=''), FloatProgress(value=0.0, max=12.0), HTML(value='')))"
      ]
     },
     "metadata": {},
     "output_type": "display_data"
    },
    {
     "name": "stdout",
     "output_type": "stream",
     "text": [
      "Training Results - Epoch[40/1000] Loss : 4.918032300632048\n"
     ]
    },
    {
     "data": {
      "application/vnd.jupyter.widget-view+json": {
       "model_id": "",
       "version_major": 2,
       "version_minor": 0
      },
      "text/plain": [
       "HBox(children=(HTML(value=''), FloatProgress(value=0.0, max=13.0), HTML(value='')))"
      ]
     },
     "metadata": {},
     "output_type": "display_data"
    },
    {
     "data": {
      "application/vnd.jupyter.widget-view+json": {
       "model_id": "",
       "version_major": 2,
       "version_minor": 0
      },
      "text/plain": [
       "HBox(children=(HTML(value=''), FloatProgress(value=0.0, max=12.0), HTML(value='')))"
      ]
     },
     "metadata": {},
     "output_type": "display_data"
    },
    {
     "name": "stdout",
     "output_type": "stream",
     "text": [
      "Training Results - Epoch[41/1000] Loss : 4.491579063026959\n"
     ]
    },
    {
     "data": {
      "application/vnd.jupyter.widget-view+json": {
       "model_id": "",
       "version_major": 2,
       "version_minor": 0
      },
      "text/plain": [
       "HBox(children=(HTML(value=''), FloatProgress(value=0.0, max=13.0), HTML(value='')))"
      ]
     },
     "metadata": {},
     "output_type": "display_data"
    },
    {
     "data": {
      "application/vnd.jupyter.widget-view+json": {
       "model_id": "",
       "version_major": 2,
       "version_minor": 0
      },
      "text/plain": [
       "HBox(children=(HTML(value=''), FloatProgress(value=0.0, max=12.0), HTML(value='')))"
      ]
     },
     "metadata": {},
     "output_type": "display_data"
    },
    {
     "name": "stdout",
     "output_type": "stream",
     "text": [
      "Training Results - Epoch[42/1000] Loss : 6.8248037705381694\n"
     ]
    },
    {
     "data": {
      "application/vnd.jupyter.widget-view+json": {
       "model_id": "",
       "version_major": 2,
       "version_minor": 0
      },
      "text/plain": [
       "HBox(children=(HTML(value=''), FloatProgress(value=0.0, max=13.0), HTML(value='')))"
      ]
     },
     "metadata": {},
     "output_type": "display_data"
    },
    {
     "data": {
      "application/vnd.jupyter.widget-view+json": {
       "model_id": "",
       "version_major": 2,
       "version_minor": 0
      },
      "text/plain": [
       "HBox(children=(HTML(value=''), FloatProgress(value=0.0, max=12.0), HTML(value='')))"
      ]
     },
     "metadata": {},
     "output_type": "display_data"
    },
    {
     "name": "stdout",
     "output_type": "stream",
     "text": [
      "Training Results - Epoch[43/1000] Loss : 3.8612831242359373\n"
     ]
    },
    {
     "data": {
      "application/vnd.jupyter.widget-view+json": {
       "model_id": "",
       "version_major": 2,
       "version_minor": 0
      },
      "text/plain": [
       "HBox(children=(HTML(value=''), FloatProgress(value=0.0, max=13.0), HTML(value='')))"
      ]
     },
     "metadata": {},
     "output_type": "display_data"
    },
    {
     "data": {
      "application/vnd.jupyter.widget-view+json": {
       "model_id": "",
       "version_major": 2,
       "version_minor": 0
      },
      "text/plain": [
       "HBox(children=(HTML(value=''), FloatProgress(value=0.0, max=12.0), HTML(value='')))"
      ]
     },
     "metadata": {},
     "output_type": "display_data"
    },
    {
     "name": "stdout",
     "output_type": "stream",
     "text": [
      "Training Results - Epoch[44/1000] Loss : 3.617506324721882\n"
     ]
    },
    {
     "data": {
      "application/vnd.jupyter.widget-view+json": {
       "model_id": "",
       "version_major": 2,
       "version_minor": 0
      },
      "text/plain": [
       "HBox(children=(HTML(value=''), FloatProgress(value=0.0, max=13.0), HTML(value='')))"
      ]
     },
     "metadata": {},
     "output_type": "display_data"
    },
    {
     "data": {
      "application/vnd.jupyter.widget-view+json": {
       "model_id": "",
       "version_major": 2,
       "version_minor": 0
      },
      "text/plain": [
       "HBox(children=(HTML(value=''), FloatProgress(value=0.0, max=12.0), HTML(value='')))"
      ]
     },
     "metadata": {},
     "output_type": "display_data"
    },
    {
     "name": "stdout",
     "output_type": "stream",
     "text": [
      "Training Results - Epoch[45/1000] Loss : 5.224253394151596\n"
     ]
    },
    {
     "data": {
      "application/vnd.jupyter.widget-view+json": {
       "model_id": "",
       "version_major": 2,
       "version_minor": 0
      },
      "text/plain": [
       "HBox(children=(HTML(value=''), FloatProgress(value=0.0, max=13.0), HTML(value='')))"
      ]
     },
     "metadata": {},
     "output_type": "display_data"
    },
    {
     "data": {
      "application/vnd.jupyter.widget-view+json": {
       "model_id": "",
       "version_major": 2,
       "version_minor": 0
      },
      "text/plain": [
       "HBox(children=(HTML(value=''), FloatProgress(value=0.0, max=12.0), HTML(value='')))"
      ]
     },
     "metadata": {},
     "output_type": "display_data"
    },
    {
     "name": "stdout",
     "output_type": "stream",
     "text": [
      "Training Results - Epoch[46/1000] Loss : 3.7203904477245446\n"
     ]
    },
    {
     "data": {
      "application/vnd.jupyter.widget-view+json": {
       "model_id": "",
       "version_major": 2,
       "version_minor": 0
      },
      "text/plain": [
       "HBox(children=(HTML(value=''), FloatProgress(value=0.0, max=13.0), HTML(value='')))"
      ]
     },
     "metadata": {},
     "output_type": "display_data"
    },
    {
     "data": {
      "application/vnd.jupyter.widget-view+json": {
       "model_id": "",
       "version_major": 2,
       "version_minor": 0
      },
      "text/plain": [
       "HBox(children=(HTML(value=''), FloatProgress(value=0.0, max=12.0), HTML(value='')))"
      ]
     },
     "metadata": {},
     "output_type": "display_data"
    },
    {
     "name": "stdout",
     "output_type": "stream",
     "text": [
      "Training Results - Epoch[47/1000] Loss : 4.607210076449515\n"
     ]
    },
    {
     "data": {
      "application/vnd.jupyter.widget-view+json": {
       "model_id": "",
       "version_major": 2,
       "version_minor": 0
      },
      "text/plain": [
       "HBox(children=(HTML(value=''), FloatProgress(value=0.0, max=13.0), HTML(value='')))"
      ]
     },
     "metadata": {},
     "output_type": "display_data"
    },
    {
     "data": {
      "application/vnd.jupyter.widget-view+json": {
       "model_id": "",
       "version_major": 2,
       "version_minor": 0
      },
      "text/plain": [
       "HBox(children=(HTML(value=''), FloatProgress(value=0.0, max=12.0), HTML(value='')))"
      ]
     },
     "metadata": {},
     "output_type": "display_data"
    },
    {
     "name": "stdout",
     "output_type": "stream",
     "text": [
      "Training Results - Epoch[48/1000] Loss : 2.7999218735275195\n"
     ]
    },
    {
     "data": {
      "application/vnd.jupyter.widget-view+json": {
       "model_id": "",
       "version_major": 2,
       "version_minor": 0
      },
      "text/plain": [
       "HBox(children=(HTML(value=''), FloatProgress(value=0.0, max=13.0), HTML(value='')))"
      ]
     },
     "metadata": {},
     "output_type": "display_data"
    },
    {
     "data": {
      "application/vnd.jupyter.widget-view+json": {
       "model_id": "",
       "version_major": 2,
       "version_minor": 0
      },
      "text/plain": [
       "HBox(children=(HTML(value=''), FloatProgress(value=0.0, max=12.0), HTML(value='')))"
      ]
     },
     "metadata": {},
     "output_type": "display_data"
    },
    {
     "name": "stdout",
     "output_type": "stream",
     "text": [
      "Training Results - Epoch[49/1000] Loss : 3.5129732112424548\n"
     ]
    },
    {
     "data": {
      "application/vnd.jupyter.widget-view+json": {
       "model_id": "",
       "version_major": 2,
       "version_minor": 0
      },
      "text/plain": [
       "HBox(children=(HTML(value=''), FloatProgress(value=0.0, max=13.0), HTML(value='')))"
      ]
     },
     "metadata": {},
     "output_type": "display_data"
    },
    {
     "data": {
      "application/vnd.jupyter.widget-view+json": {
       "model_id": "",
       "version_major": 2,
       "version_minor": 0
      },
      "text/plain": [
       "HBox(children=(HTML(value=''), FloatProgress(value=0.0, max=12.0), HTML(value='')))"
      ]
     },
     "metadata": {},
     "output_type": "display_data"
    },
    {
     "name": "stdout",
     "output_type": "stream",
     "text": [
      "Training Results - Epoch[50/1000] Loss : 3.774067058334118\n"
     ]
    },
    {
     "data": {
      "application/vnd.jupyter.widget-view+json": {
       "model_id": "",
       "version_major": 2,
       "version_minor": 0
      },
      "text/plain": [
       "HBox(children=(HTML(value=''), FloatProgress(value=0.0, max=13.0), HTML(value='')))"
      ]
     },
     "metadata": {},
     "output_type": "display_data"
    },
    {
     "data": {
      "application/vnd.jupyter.widget-view+json": {
       "model_id": "",
       "version_major": 2,
       "version_minor": 0
      },
      "text/plain": [
       "HBox(children=(HTML(value=''), FloatProgress(value=0.0, max=12.0), HTML(value='')))"
      ]
     },
     "metadata": {},
     "output_type": "display_data"
    },
    {
     "name": "stdout",
     "output_type": "stream",
     "text": [
      "Training Results - Epoch[51/1000] Loss : 3.5087573126657077\n"
     ]
    },
    {
     "data": {
      "application/vnd.jupyter.widget-view+json": {
       "model_id": "",
       "version_major": 2,
       "version_minor": 0
      },
      "text/plain": [
       "HBox(children=(HTML(value=''), FloatProgress(value=0.0, max=13.0), HTML(value='')))"
      ]
     },
     "metadata": {},
     "output_type": "display_data"
    },
    {
     "data": {
      "application/vnd.jupyter.widget-view+json": {
       "model_id": "",
       "version_major": 2,
       "version_minor": 0
      },
      "text/plain": [
       "HBox(children=(HTML(value=''), FloatProgress(value=0.0, max=12.0), HTML(value='')))"
      ]
     },
     "metadata": {},
     "output_type": "display_data"
    },
    {
     "name": "stdout",
     "output_type": "stream",
     "text": [
      "Training Results - Epoch[52/1000] Loss : 3.1116291501493096\n"
     ]
    },
    {
     "data": {
      "application/vnd.jupyter.widget-view+json": {
       "model_id": "",
       "version_major": 2,
       "version_minor": 0
      },
      "text/plain": [
       "HBox(children=(HTML(value=''), FloatProgress(value=0.0, max=13.0), HTML(value='')))"
      ]
     },
     "metadata": {},
     "output_type": "display_data"
    },
    {
     "data": {
      "application/vnd.jupyter.widget-view+json": {
       "model_id": "",
       "version_major": 2,
       "version_minor": 0
      },
      "text/plain": [
       "HBox(children=(HTML(value=''), FloatProgress(value=0.0, max=12.0), HTML(value='')))"
      ]
     },
     "metadata": {},
     "output_type": "display_data"
    },
    {
     "name": "stdout",
     "output_type": "stream",
     "text": [
      "Training Results - Epoch[53/1000] Loss : 3.7363447848014286\n"
     ]
    },
    {
     "data": {
      "application/vnd.jupyter.widget-view+json": {
       "model_id": "",
       "version_major": 2,
       "version_minor": 0
      },
      "text/plain": [
       "HBox(children=(HTML(value=''), FloatProgress(value=0.0, max=13.0), HTML(value='')))"
      ]
     },
     "metadata": {},
     "output_type": "display_data"
    },
    {
     "data": {
      "application/vnd.jupyter.widget-view+json": {
       "model_id": "",
       "version_major": 2,
       "version_minor": 0
      },
      "text/plain": [
       "HBox(children=(HTML(value=''), FloatProgress(value=0.0, max=12.0), HTML(value='')))"
      ]
     },
     "metadata": {},
     "output_type": "display_data"
    },
    {
     "name": "stdout",
     "output_type": "stream",
     "text": [
      "Training Results - Epoch[54/1000] Loss : 5.200876388485493\n"
     ]
    },
    {
     "data": {
      "application/vnd.jupyter.widget-view+json": {
       "model_id": "",
       "version_major": 2,
       "version_minor": 0
      },
      "text/plain": [
       "HBox(children=(HTML(value=''), FloatProgress(value=0.0, max=13.0), HTML(value='')))"
      ]
     },
     "metadata": {},
     "output_type": "display_data"
    },
    {
     "data": {
      "application/vnd.jupyter.widget-view+json": {
       "model_id": "",
       "version_major": 2,
       "version_minor": 0
      },
      "text/plain": [
       "HBox(children=(HTML(value=''), FloatProgress(value=0.0, max=12.0), HTML(value='')))"
      ]
     },
     "metadata": {},
     "output_type": "display_data"
    },
    {
     "name": "stdout",
     "output_type": "stream",
     "text": [
      "Training Results - Epoch[55/1000] Loss : 4.286899187740425\n"
     ]
    },
    {
     "data": {
      "application/vnd.jupyter.widget-view+json": {
       "model_id": "",
       "version_major": 2,
       "version_minor": 0
      },
      "text/plain": [
       "HBox(children=(HTML(value=''), FloatProgress(value=0.0, max=13.0), HTML(value='')))"
      ]
     },
     "metadata": {},
     "output_type": "display_data"
    },
    {
     "data": {
      "application/vnd.jupyter.widget-view+json": {
       "model_id": "",
       "version_major": 2,
       "version_minor": 0
      },
      "text/plain": [
       "HBox(children=(HTML(value=''), FloatProgress(value=0.0, max=12.0), HTML(value='')))"
      ]
     },
     "metadata": {},
     "output_type": "display_data"
    },
    {
     "name": "stdout",
     "output_type": "stream",
     "text": [
      "Training Results - Epoch[56/1000] Loss : 3.890858687261185\n"
     ]
    },
    {
     "data": {
      "application/vnd.jupyter.widget-view+json": {
       "model_id": "",
       "version_major": 2,
       "version_minor": 0
      },
      "text/plain": [
       "HBox(children=(HTML(value=''), FloatProgress(value=0.0, max=13.0), HTML(value='')))"
      ]
     },
     "metadata": {},
     "output_type": "display_data"
    },
    {
     "data": {
      "application/vnd.jupyter.widget-view+json": {
       "model_id": "",
       "version_major": 2,
       "version_minor": 0
      },
      "text/plain": [
       "HBox(children=(HTML(value=''), FloatProgress(value=0.0, max=12.0), HTML(value='')))"
      ]
     },
     "metadata": {},
     "output_type": "display_data"
    },
    {
     "name": "stdout",
     "output_type": "stream",
     "text": [
      "Training Results - Epoch[57/1000] Loss : 3.310919331301628\n"
     ]
    },
    {
     "data": {
      "application/vnd.jupyter.widget-view+json": {
       "model_id": "",
       "version_major": 2,
       "version_minor": 0
      },
      "text/plain": [
       "HBox(children=(HTML(value=''), FloatProgress(value=0.0, max=13.0), HTML(value='')))"
      ]
     },
     "metadata": {},
     "output_type": "display_data"
    },
    {
     "data": {
      "application/vnd.jupyter.widget-view+json": {
       "model_id": "",
       "version_major": 2,
       "version_minor": 0
      },
      "text/plain": [
       "HBox(children=(HTML(value=''), FloatProgress(value=0.0, max=12.0), HTML(value='')))"
      ]
     },
     "metadata": {},
     "output_type": "display_data"
    },
    {
     "name": "stdout",
     "output_type": "stream",
     "text": [
      "Training Results - Epoch[58/1000] Loss : 3.627192806750084\n"
     ]
    },
    {
     "data": {
      "application/vnd.jupyter.widget-view+json": {
       "model_id": "",
       "version_major": 2,
       "version_minor": 0
      },
      "text/plain": [
       "HBox(children=(HTML(value=''), FloatProgress(value=0.0, max=13.0), HTML(value='')))"
      ]
     },
     "metadata": {},
     "output_type": "display_data"
    },
    {
     "data": {
      "application/vnd.jupyter.widget-view+json": {
       "model_id": "",
       "version_major": 2,
       "version_minor": 0
      },
      "text/plain": [
       "HBox(children=(HTML(value=''), FloatProgress(value=0.0, max=12.0), HTML(value='')))"
      ]
     },
     "metadata": {},
     "output_type": "display_data"
    },
    {
     "name": "stdout",
     "output_type": "stream",
     "text": [
      "Training Results - Epoch[59/1000] Loss : 4.098364260527975\n"
     ]
    },
    {
     "data": {
      "application/vnd.jupyter.widget-view+json": {
       "model_id": "",
       "version_major": 2,
       "version_minor": 0
      },
      "text/plain": [
       "HBox(children=(HTML(value=''), FloatProgress(value=0.0, max=13.0), HTML(value='')))"
      ]
     },
     "metadata": {},
     "output_type": "display_data"
    },
    {
     "data": {
      "application/vnd.jupyter.widget-view+json": {
       "model_id": "",
       "version_major": 2,
       "version_minor": 0
      },
      "text/plain": [
       "HBox(children=(HTML(value=''), FloatProgress(value=0.0, max=12.0), HTML(value='')))"
      ]
     },
     "metadata": {},
     "output_type": "display_data"
    },
    {
     "name": "stdout",
     "output_type": "stream",
     "text": [
      "Training Results - Epoch[60/1000] Loss : 3.743421166229092\n"
     ]
    },
    {
     "data": {
      "application/vnd.jupyter.widget-view+json": {
       "model_id": "",
       "version_major": 2,
       "version_minor": 0
      },
      "text/plain": [
       "HBox(children=(HTML(value=''), FloatProgress(value=0.0, max=13.0), HTML(value='')))"
      ]
     },
     "metadata": {},
     "output_type": "display_data"
    },
    {
     "data": {
      "application/vnd.jupyter.widget-view+json": {
       "model_id": "",
       "version_major": 2,
       "version_minor": 0
      },
      "text/plain": [
       "HBox(children=(HTML(value=''), FloatProgress(value=0.0, max=12.0), HTML(value='')))"
      ]
     },
     "metadata": {},
     "output_type": "display_data"
    },
    {
     "name": "stdout",
     "output_type": "stream",
     "text": [
      "Training Results - Epoch[61/1000] Loss : 3.539288911913797\n"
     ]
    },
    {
     "data": {
      "application/vnd.jupyter.widget-view+json": {
       "model_id": "",
       "version_major": 2,
       "version_minor": 0
      },
      "text/plain": [
       "HBox(children=(HTML(value=''), FloatProgress(value=0.0, max=13.0), HTML(value='')))"
      ]
     },
     "metadata": {},
     "output_type": "display_data"
    },
    {
     "data": {
      "application/vnd.jupyter.widget-view+json": {
       "model_id": "",
       "version_major": 2,
       "version_minor": 0
      },
      "text/plain": [
       "HBox(children=(HTML(value=''), FloatProgress(value=0.0, max=12.0), HTML(value='')))"
      ]
     },
     "metadata": {},
     "output_type": "display_data"
    },
    {
     "name": "stdout",
     "output_type": "stream",
     "text": [
      "Training Results - Epoch[62/1000] Loss : 6.673412799623374\n"
     ]
    },
    {
     "data": {
      "application/vnd.jupyter.widget-view+json": {
       "model_id": "",
       "version_major": 2,
       "version_minor": 0
      },
      "text/plain": [
       "HBox(children=(HTML(value=''), FloatProgress(value=0.0, max=13.0), HTML(value='')))"
      ]
     },
     "metadata": {},
     "output_type": "display_data"
    },
    {
     "data": {
      "application/vnd.jupyter.widget-view+json": {
       "model_id": "",
       "version_major": 2,
       "version_minor": 0
      },
      "text/plain": [
       "HBox(children=(HTML(value=''), FloatProgress(value=0.0, max=12.0), HTML(value='')))"
      ]
     },
     "metadata": {},
     "output_type": "display_data"
    },
    {
     "name": "stdout",
     "output_type": "stream",
     "text": [
      "Training Results - Epoch[63/1000] Loss : 4.267560407428379\n"
     ]
    },
    {
     "data": {
      "application/vnd.jupyter.widget-view+json": {
       "model_id": "",
       "version_major": 2,
       "version_minor": 0
      },
      "text/plain": [
       "HBox(children=(HTML(value=''), FloatProgress(value=0.0, max=13.0), HTML(value='')))"
      ]
     },
     "metadata": {},
     "output_type": "display_data"
    },
    {
     "data": {
      "application/vnd.jupyter.widget-view+json": {
       "model_id": "",
       "version_major": 2,
       "version_minor": 0
      },
      "text/plain": [
       "HBox(children=(HTML(value=''), FloatProgress(value=0.0, max=12.0), HTML(value='')))"
      ]
     },
     "metadata": {},
     "output_type": "display_data"
    },
    {
     "name": "stdout",
     "output_type": "stream",
     "text": [
      "Training Results - Epoch[64/1000] Loss : 3.5793620627195213\n"
     ]
    },
    {
     "data": {
      "application/vnd.jupyter.widget-view+json": {
       "model_id": "",
       "version_major": 2,
       "version_minor": 0
      },
      "text/plain": [
       "HBox(children=(HTML(value=''), FloatProgress(value=0.0, max=13.0), HTML(value='')))"
      ]
     },
     "metadata": {},
     "output_type": "display_data"
    },
    {
     "data": {
      "application/vnd.jupyter.widget-view+json": {
       "model_id": "",
       "version_major": 2,
       "version_minor": 0
      },
      "text/plain": [
       "HBox(children=(HTML(value=''), FloatProgress(value=0.0, max=12.0), HTML(value='')))"
      ]
     },
     "metadata": {},
     "output_type": "display_data"
    },
    {
     "name": "stdout",
     "output_type": "stream",
     "text": [
      "Training Results - Epoch[65/1000] Loss : 3.2717248616910153\n"
     ]
    },
    {
     "data": {
      "application/vnd.jupyter.widget-view+json": {
       "model_id": "",
       "version_major": 2,
       "version_minor": 0
      },
      "text/plain": [
       "HBox(children=(HTML(value=''), FloatProgress(value=0.0, max=13.0), HTML(value='')))"
      ]
     },
     "metadata": {},
     "output_type": "display_data"
    },
    {
     "data": {
      "application/vnd.jupyter.widget-view+json": {
       "model_id": "",
       "version_major": 2,
       "version_minor": 0
      },
      "text/plain": [
       "HBox(children=(HTML(value=''), FloatProgress(value=0.0, max=12.0), HTML(value='')))"
      ]
     },
     "metadata": {},
     "output_type": "display_data"
    },
    {
     "name": "stdout",
     "output_type": "stream",
     "text": [
      "Training Results - Epoch[66/1000] Loss : 3.2598779964939317\n"
     ]
    },
    {
     "data": {
      "application/vnd.jupyter.widget-view+json": {
       "model_id": "",
       "version_major": 2,
       "version_minor": 0
      },
      "text/plain": [
       "HBox(children=(HTML(value=''), FloatProgress(value=0.0, max=13.0), HTML(value='')))"
      ]
     },
     "metadata": {},
     "output_type": "display_data"
    },
    {
     "data": {
      "application/vnd.jupyter.widget-view+json": {
       "model_id": "",
       "version_major": 2,
       "version_minor": 0
      },
      "text/plain": [
       "HBox(children=(HTML(value=''), FloatProgress(value=0.0, max=12.0), HTML(value='')))"
      ]
     },
     "metadata": {},
     "output_type": "display_data"
    },
    {
     "name": "stdout",
     "output_type": "stream",
     "text": [
      "Training Results - Epoch[67/1000] Loss : 4.978395517338571\n"
     ]
    },
    {
     "data": {
      "application/vnd.jupyter.widget-view+json": {
       "model_id": "",
       "version_major": 2,
       "version_minor": 0
      },
      "text/plain": [
       "HBox(children=(HTML(value=''), FloatProgress(value=0.0, max=13.0), HTML(value='')))"
      ]
     },
     "metadata": {},
     "output_type": "display_data"
    },
    {
     "data": {
      "application/vnd.jupyter.widget-view+json": {
       "model_id": "",
       "version_major": 2,
       "version_minor": 0
      },
      "text/plain": [
       "HBox(children=(HTML(value=''), FloatProgress(value=0.0, max=12.0), HTML(value='')))"
      ]
     },
     "metadata": {},
     "output_type": "display_data"
    },
    {
     "name": "stdout",
     "output_type": "stream",
     "text": [
      "Training Results - Epoch[68/1000] Loss : 2.8846884254537333\n"
     ]
    },
    {
     "data": {
      "application/vnd.jupyter.widget-view+json": {
       "model_id": "",
       "version_major": 2,
       "version_minor": 0
      },
      "text/plain": [
       "HBox(children=(HTML(value=''), FloatProgress(value=0.0, max=13.0), HTML(value='')))"
      ]
     },
     "metadata": {},
     "output_type": "display_data"
    },
    {
     "data": {
      "application/vnd.jupyter.widget-view+json": {
       "model_id": "",
       "version_major": 2,
       "version_minor": 0
      },
      "text/plain": [
       "HBox(children=(HTML(value=''), FloatProgress(value=0.0, max=12.0), HTML(value='')))"
      ]
     },
     "metadata": {},
     "output_type": "display_data"
    },
    {
     "name": "stdout",
     "output_type": "stream",
     "text": [
      "Training Results - Epoch[69/1000] Loss : 4.148030151131201\n"
     ]
    },
    {
     "data": {
      "application/vnd.jupyter.widget-view+json": {
       "model_id": "",
       "version_major": 2,
       "version_minor": 0
      },
      "text/plain": [
       "HBox(children=(HTML(value=''), FloatProgress(value=0.0, max=13.0), HTML(value='')))"
      ]
     },
     "metadata": {},
     "output_type": "display_data"
    },
    {
     "data": {
      "application/vnd.jupyter.widget-view+json": {
       "model_id": "",
       "version_major": 2,
       "version_minor": 0
      },
      "text/plain": [
       "HBox(children=(HTML(value=''), FloatProgress(value=0.0, max=12.0), HTML(value='')))"
      ]
     },
     "metadata": {},
     "output_type": "display_data"
    },
    {
     "name": "stdout",
     "output_type": "stream",
     "text": [
      "Training Results - Epoch[70/1000] Loss : 4.040168217071365\n"
     ]
    },
    {
     "data": {
      "application/vnd.jupyter.widget-view+json": {
       "model_id": "",
       "version_major": 2,
       "version_minor": 0
      },
      "text/plain": [
       "HBox(children=(HTML(value=''), FloatProgress(value=0.0, max=13.0), HTML(value='')))"
      ]
     },
     "metadata": {},
     "output_type": "display_data"
    },
    {
     "data": {
      "application/vnd.jupyter.widget-view+json": {
       "model_id": "",
       "version_major": 2,
       "version_minor": 0
      },
      "text/plain": [
       "HBox(children=(HTML(value=''), FloatProgress(value=0.0, max=12.0), HTML(value='')))"
      ]
     },
     "metadata": {},
     "output_type": "display_data"
    },
    {
     "name": "stdout",
     "output_type": "stream",
     "text": [
      "Training Results - Epoch[71/1000] Loss : 4.058019711357267\n"
     ]
    },
    {
     "data": {
      "application/vnd.jupyter.widget-view+json": {
       "model_id": "",
       "version_major": 2,
       "version_minor": 0
      },
      "text/plain": [
       "HBox(children=(HTML(value=''), FloatProgress(value=0.0, max=13.0), HTML(value='')))"
      ]
     },
     "metadata": {},
     "output_type": "display_data"
    },
    {
     "data": {
      "application/vnd.jupyter.widget-view+json": {
       "model_id": "",
       "version_major": 2,
       "version_minor": 0
      },
      "text/plain": [
       "HBox(children=(HTML(value=''), FloatProgress(value=0.0, max=12.0), HTML(value='')))"
      ]
     },
     "metadata": {},
     "output_type": "display_data"
    },
    {
     "name": "stdout",
     "output_type": "stream",
     "text": [
      "Training Results - Epoch[72/1000] Loss : 3.4577283748367127\n"
     ]
    },
    {
     "data": {
      "application/vnd.jupyter.widget-view+json": {
       "model_id": "",
       "version_major": 2,
       "version_minor": 0
      },
      "text/plain": [
       "HBox(children=(HTML(value=''), FloatProgress(value=0.0, max=13.0), HTML(value='')))"
      ]
     },
     "metadata": {},
     "output_type": "display_data"
    },
    {
     "data": {
      "application/vnd.jupyter.widget-view+json": {
       "model_id": "",
       "version_major": 2,
       "version_minor": 0
      },
      "text/plain": [
       "HBox(children=(HTML(value=''), FloatProgress(value=0.0, max=12.0), HTML(value='')))"
      ]
     },
     "metadata": {},
     "output_type": "display_data"
    },
    {
     "name": "stdout",
     "output_type": "stream",
     "text": [
      "Training Results - Epoch[73/1000] Loss : 4.704504453796355\n"
     ]
    },
    {
     "data": {
      "application/vnd.jupyter.widget-view+json": {
       "model_id": "",
       "version_major": 2,
       "version_minor": 0
      },
      "text/plain": [
       "HBox(children=(HTML(value=''), FloatProgress(value=0.0, max=13.0), HTML(value='')))"
      ]
     },
     "metadata": {},
     "output_type": "display_data"
    },
    {
     "data": {
      "application/vnd.jupyter.widget-view+json": {
       "model_id": "",
       "version_major": 2,
       "version_minor": 0
      },
      "text/plain": [
       "HBox(children=(HTML(value=''), FloatProgress(value=0.0, max=12.0), HTML(value='')))"
      ]
     },
     "metadata": {},
     "output_type": "display_data"
    },
    {
     "name": "stdout",
     "output_type": "stream",
     "text": [
      "Training Results - Epoch[74/1000] Loss : 3.747742454336066\n"
     ]
    },
    {
     "data": {
      "application/vnd.jupyter.widget-view+json": {
       "model_id": "",
       "version_major": 2,
       "version_minor": 0
      },
      "text/plain": [
       "HBox(children=(HTML(value=''), FloatProgress(value=0.0, max=13.0), HTML(value='')))"
      ]
     },
     "metadata": {},
     "output_type": "display_data"
    },
    {
     "data": {
      "application/vnd.jupyter.widget-view+json": {
       "model_id": "",
       "version_major": 2,
       "version_minor": 0
      },
      "text/plain": [
       "HBox(children=(HTML(value=''), FloatProgress(value=0.0, max=12.0), HTML(value='')))"
      ]
     },
     "metadata": {},
     "output_type": "display_data"
    },
    {
     "name": "stdout",
     "output_type": "stream",
     "text": [
      "Training Results - Epoch[75/1000] Loss : 3.2519201333118497\n"
     ]
    },
    {
     "data": {
      "application/vnd.jupyter.widget-view+json": {
       "model_id": "",
       "version_major": 2,
       "version_minor": 0
      },
      "text/plain": [
       "HBox(children=(HTML(value=''), FloatProgress(value=0.0, max=13.0), HTML(value='')))"
      ]
     },
     "metadata": {},
     "output_type": "display_data"
    },
    {
     "data": {
      "application/vnd.jupyter.widget-view+json": {
       "model_id": "",
       "version_major": 2,
       "version_minor": 0
      },
      "text/plain": [
       "HBox(children=(HTML(value=''), FloatProgress(value=0.0, max=12.0), HTML(value='')))"
      ]
     },
     "metadata": {},
     "output_type": "display_data"
    },
    {
     "name": "stdout",
     "output_type": "stream",
     "text": [
      "Training Results - Epoch[76/1000] Loss : 3.764761532001978\n"
     ]
    },
    {
     "data": {
      "application/vnd.jupyter.widget-view+json": {
       "model_id": "",
       "version_major": 2,
       "version_minor": 0
      },
      "text/plain": [
       "HBox(children=(HTML(value=''), FloatProgress(value=0.0, max=13.0), HTML(value='')))"
      ]
     },
     "metadata": {},
     "output_type": "display_data"
    },
    {
     "data": {
      "application/vnd.jupyter.widget-view+json": {
       "model_id": "",
       "version_major": 2,
       "version_minor": 0
      },
      "text/plain": [
       "HBox(children=(HTML(value=''), FloatProgress(value=0.0, max=12.0), HTML(value='')))"
      ]
     },
     "metadata": {},
     "output_type": "display_data"
    },
    {
     "name": "stdout",
     "output_type": "stream",
     "text": [
      "Training Results - Epoch[77/1000] Loss : 3.706215669234558\n"
     ]
    },
    {
     "data": {
      "application/vnd.jupyter.widget-view+json": {
       "model_id": "",
       "version_major": 2,
       "version_minor": 0
      },
      "text/plain": [
       "HBox(children=(HTML(value=''), FloatProgress(value=0.0, max=13.0), HTML(value='')))"
      ]
     },
     "metadata": {},
     "output_type": "display_data"
    },
    {
     "data": {
      "application/vnd.jupyter.widget-view+json": {
       "model_id": "",
       "version_major": 2,
       "version_minor": 0
      },
      "text/plain": [
       "HBox(children=(HTML(value=''), FloatProgress(value=0.0, max=12.0), HTML(value='')))"
      ]
     },
     "metadata": {},
     "output_type": "display_data"
    },
    {
     "name": "stdout",
     "output_type": "stream",
     "text": [
      "Training Results - Epoch[78/1000] Loss : 5.408511684887977\n"
     ]
    },
    {
     "data": {
      "application/vnd.jupyter.widget-view+json": {
       "model_id": "",
       "version_major": 2,
       "version_minor": 0
      },
      "text/plain": [
       "HBox(children=(HTML(value=''), FloatProgress(value=0.0, max=13.0), HTML(value='')))"
      ]
     },
     "metadata": {},
     "output_type": "display_data"
    },
    {
     "data": {
      "application/vnd.jupyter.widget-view+json": {
       "model_id": "",
       "version_major": 2,
       "version_minor": 0
      },
      "text/plain": [
       "HBox(children=(HTML(value=''), FloatProgress(value=0.0, max=12.0), HTML(value='')))"
      ]
     },
     "metadata": {},
     "output_type": "display_data"
    },
    {
     "name": "stdout",
     "output_type": "stream",
     "text": [
      "Training Results - Epoch[79/1000] Loss : 3.468124961241799\n"
     ]
    },
    {
     "data": {
      "application/vnd.jupyter.widget-view+json": {
       "model_id": "",
       "version_major": 2,
       "version_minor": 0
      },
      "text/plain": [
       "HBox(children=(HTML(value=''), FloatProgress(value=0.0, max=13.0), HTML(value='')))"
      ]
     },
     "metadata": {},
     "output_type": "display_data"
    },
    {
     "data": {
      "application/vnd.jupyter.widget-view+json": {
       "model_id": "",
       "version_major": 2,
       "version_minor": 0
      },
      "text/plain": [
       "HBox(children=(HTML(value=''), FloatProgress(value=0.0, max=12.0), HTML(value='')))"
      ]
     },
     "metadata": {},
     "output_type": "display_data"
    },
    {
     "name": "stdout",
     "output_type": "stream",
     "text": [
      "Training Results - Epoch[80/1000] Loss : 2.8878359378827483\n"
     ]
    },
    {
     "data": {
      "application/vnd.jupyter.widget-view+json": {
       "model_id": "",
       "version_major": 2,
       "version_minor": 0
      },
      "text/plain": [
       "HBox(children=(HTML(value=''), FloatProgress(value=0.0, max=13.0), HTML(value='')))"
      ]
     },
     "metadata": {},
     "output_type": "display_data"
    },
    {
     "data": {
      "application/vnd.jupyter.widget-view+json": {
       "model_id": "",
       "version_major": 2,
       "version_minor": 0
      },
      "text/plain": [
       "HBox(children=(HTML(value=''), FloatProgress(value=0.0, max=12.0), HTML(value='')))"
      ]
     },
     "metadata": {},
     "output_type": "display_data"
    },
    {
     "name": "stdout",
     "output_type": "stream",
     "text": [
      "Training Results - Epoch[81/1000] Loss : 3.3411322685967075\n"
     ]
    },
    {
     "data": {
      "application/vnd.jupyter.widget-view+json": {
       "model_id": "",
       "version_major": 2,
       "version_minor": 0
      },
      "text/plain": [
       "HBox(children=(HTML(value=''), FloatProgress(value=0.0, max=13.0), HTML(value='')))"
      ]
     },
     "metadata": {},
     "output_type": "display_data"
    },
    {
     "data": {
      "application/vnd.jupyter.widget-view+json": {
       "model_id": "",
       "version_major": 2,
       "version_minor": 0
      },
      "text/plain": [
       "HBox(children=(HTML(value=''), FloatProgress(value=0.0, max=12.0), HTML(value='')))"
      ]
     },
     "metadata": {},
     "output_type": "display_data"
    },
    {
     "name": "stdout",
     "output_type": "stream",
     "text": [
      "Training Results - Epoch[82/1000] Loss : 3.1531413233791854\n"
     ]
    },
    {
     "data": {
      "application/vnd.jupyter.widget-view+json": {
       "model_id": "",
       "version_major": 2,
       "version_minor": 0
      },
      "text/plain": [
       "HBox(children=(HTML(value=''), FloatProgress(value=0.0, max=13.0), HTML(value='')))"
      ]
     },
     "metadata": {},
     "output_type": "display_data"
    },
    {
     "data": {
      "application/vnd.jupyter.widget-view+json": {
       "model_id": "",
       "version_major": 2,
       "version_minor": 0
      },
      "text/plain": [
       "HBox(children=(HTML(value=''), FloatProgress(value=0.0, max=12.0), HTML(value='')))"
      ]
     },
     "metadata": {},
     "output_type": "display_data"
    },
    {
     "name": "stdout",
     "output_type": "stream",
     "text": [
      "Training Results - Epoch[83/1000] Loss : 3.416988172003045\n"
     ]
    },
    {
     "data": {
      "application/vnd.jupyter.widget-view+json": {
       "model_id": "",
       "version_major": 2,
       "version_minor": 0
      },
      "text/plain": [
       "HBox(children=(HTML(value=''), FloatProgress(value=0.0, max=13.0), HTML(value='')))"
      ]
     },
     "metadata": {},
     "output_type": "display_data"
    },
    {
     "data": {
      "application/vnd.jupyter.widget-view+json": {
       "model_id": "",
       "version_major": 2,
       "version_minor": 0
      },
      "text/plain": [
       "HBox(children=(HTML(value=''), FloatProgress(value=0.0, max=12.0), HTML(value='')))"
      ]
     },
     "metadata": {},
     "output_type": "display_data"
    },
    {
     "name": "stdout",
     "output_type": "stream",
     "text": [
      "Training Results - Epoch[84/1000] Loss : 4.100201730205431\n"
     ]
    },
    {
     "data": {
      "application/vnd.jupyter.widget-view+json": {
       "model_id": "",
       "version_major": 2,
       "version_minor": 0
      },
      "text/plain": [
       "HBox(children=(HTML(value=''), FloatProgress(value=0.0, max=13.0), HTML(value='')))"
      ]
     },
     "metadata": {},
     "output_type": "display_data"
    },
    {
     "data": {
      "application/vnd.jupyter.widget-view+json": {
       "model_id": "",
       "version_major": 2,
       "version_minor": 0
      },
      "text/plain": [
       "HBox(children=(HTML(value=''), FloatProgress(value=0.0, max=12.0), HTML(value='')))"
      ]
     },
     "metadata": {},
     "output_type": "display_data"
    },
    {
     "name": "stdout",
     "output_type": "stream",
     "text": [
      "Training Results - Epoch[85/1000] Loss : 3.2514817744407547\n"
     ]
    },
    {
     "data": {
      "application/vnd.jupyter.widget-view+json": {
       "model_id": "",
       "version_major": 2,
       "version_minor": 0
      },
      "text/plain": [
       "HBox(children=(HTML(value=''), FloatProgress(value=0.0, max=13.0), HTML(value='')))"
      ]
     },
     "metadata": {},
     "output_type": "display_data"
    },
    {
     "data": {
      "application/vnd.jupyter.widget-view+json": {
       "model_id": "",
       "version_major": 2,
       "version_minor": 0
      },
      "text/plain": [
       "HBox(children=(HTML(value=''), FloatProgress(value=0.0, max=12.0), HTML(value='')))"
      ]
     },
     "metadata": {},
     "output_type": "display_data"
    },
    {
     "name": "stdout",
     "output_type": "stream",
     "text": [
      "Training Results - Epoch[86/1000] Loss : 3.1732340348268417\n"
     ]
    },
    {
     "data": {
      "application/vnd.jupyter.widget-view+json": {
       "model_id": "",
       "version_major": 2,
       "version_minor": 0
      },
      "text/plain": [
       "HBox(children=(HTML(value=''), FloatProgress(value=0.0, max=13.0), HTML(value='')))"
      ]
     },
     "metadata": {},
     "output_type": "display_data"
    },
    {
     "data": {
      "application/vnd.jupyter.widget-view+json": {
       "model_id": "",
       "version_major": 2,
       "version_minor": 0
      },
      "text/plain": [
       "HBox(children=(HTML(value=''), FloatProgress(value=0.0, max=12.0), HTML(value='')))"
      ]
     },
     "metadata": {},
     "output_type": "display_data"
    },
    {
     "name": "stdout",
     "output_type": "stream",
     "text": [
      "Training Results - Epoch[87/1000] Loss : 3.2159027946475622\n"
     ]
    },
    {
     "data": {
      "application/vnd.jupyter.widget-view+json": {
       "model_id": "",
       "version_major": 2,
       "version_minor": 0
      },
      "text/plain": [
       "HBox(children=(HTML(value=''), FloatProgress(value=0.0, max=13.0), HTML(value='')))"
      ]
     },
     "metadata": {},
     "output_type": "display_data"
    },
    {
     "data": {
      "application/vnd.jupyter.widget-view+json": {
       "model_id": "",
       "version_major": 2,
       "version_minor": 0
      },
      "text/plain": [
       "HBox(children=(HTML(value=''), FloatProgress(value=0.0, max=12.0), HTML(value='')))"
      ]
     },
     "metadata": {},
     "output_type": "display_data"
    },
    {
     "name": "stdout",
     "output_type": "stream",
     "text": [
      "Training Results - Epoch[88/1000] Loss : 2.910403848378077\n"
     ]
    },
    {
     "data": {
      "application/vnd.jupyter.widget-view+json": {
       "model_id": "",
       "version_major": 2,
       "version_minor": 0
      },
      "text/plain": [
       "HBox(children=(HTML(value=''), FloatProgress(value=0.0, max=13.0), HTML(value='')))"
      ]
     },
     "metadata": {},
     "output_type": "display_data"
    },
    {
     "data": {
      "application/vnd.jupyter.widget-view+json": {
       "model_id": "",
       "version_major": 2,
       "version_minor": 0
      },
      "text/plain": [
       "HBox(children=(HTML(value=''), FloatProgress(value=0.0, max=12.0), HTML(value='')))"
      ]
     },
     "metadata": {},
     "output_type": "display_data"
    },
    {
     "name": "stdout",
     "output_type": "stream",
     "text": [
      "Training Results - Epoch[89/1000] Loss : 3.7766064997663094\n"
     ]
    },
    {
     "data": {
      "application/vnd.jupyter.widget-view+json": {
       "model_id": "",
       "version_major": 2,
       "version_minor": 0
      },
      "text/plain": [
       "HBox(children=(HTML(value=''), FloatProgress(value=0.0, max=13.0), HTML(value='')))"
      ]
     },
     "metadata": {},
     "output_type": "display_data"
    },
    {
     "data": {
      "application/vnd.jupyter.widget-view+json": {
       "model_id": "",
       "version_major": 2,
       "version_minor": 0
      },
      "text/plain": [
       "HBox(children=(HTML(value=''), FloatProgress(value=0.0, max=12.0), HTML(value='')))"
      ]
     },
     "metadata": {},
     "output_type": "display_data"
    },
    {
     "name": "stdout",
     "output_type": "stream",
     "text": [
      "Training Results - Epoch[90/1000] Loss : 3.4359283220686256\n"
     ]
    },
    {
     "data": {
      "application/vnd.jupyter.widget-view+json": {
       "model_id": "",
       "version_major": 2,
       "version_minor": 0
      },
      "text/plain": [
       "HBox(children=(HTML(value=''), FloatProgress(value=0.0, max=13.0), HTML(value='')))"
      ]
     },
     "metadata": {},
     "output_type": "display_data"
    },
    {
     "data": {
      "application/vnd.jupyter.widget-view+json": {
       "model_id": "",
       "version_major": 2,
       "version_minor": 0
      },
      "text/plain": [
       "HBox(children=(HTML(value=''), FloatProgress(value=0.0, max=12.0), HTML(value='')))"
      ]
     },
     "metadata": {},
     "output_type": "display_data"
    },
    {
     "name": "stdout",
     "output_type": "stream",
     "text": [
      "Training Results - Epoch[91/1000] Loss : 2.8570845527753295\n"
     ]
    },
    {
     "data": {
      "application/vnd.jupyter.widget-view+json": {
       "model_id": "",
       "version_major": 2,
       "version_minor": 0
      },
      "text/plain": [
       "HBox(children=(HTML(value=''), FloatProgress(value=0.0, max=13.0), HTML(value='')))"
      ]
     },
     "metadata": {},
     "output_type": "display_data"
    },
    {
     "data": {
      "application/vnd.jupyter.widget-view+json": {
       "model_id": "",
       "version_major": 2,
       "version_minor": 0
      },
      "text/plain": [
       "HBox(children=(HTML(value=''), FloatProgress(value=0.0, max=12.0), HTML(value='')))"
      ]
     },
     "metadata": {},
     "output_type": "display_data"
    },
    {
     "name": "stdout",
     "output_type": "stream",
     "text": [
      "Training Results - Epoch[92/1000] Loss : 2.5525333685930667\n"
     ]
    },
    {
     "data": {
      "application/vnd.jupyter.widget-view+json": {
       "model_id": "",
       "version_major": 2,
       "version_minor": 0
      },
      "text/plain": [
       "HBox(children=(HTML(value=''), FloatProgress(value=0.0, max=13.0), HTML(value='')))"
      ]
     },
     "metadata": {},
     "output_type": "display_data"
    },
    {
     "data": {
      "application/vnd.jupyter.widget-view+json": {
       "model_id": "",
       "version_major": 2,
       "version_minor": 0
      },
      "text/plain": [
       "HBox(children=(HTML(value=''), FloatProgress(value=0.0, max=12.0), HTML(value='')))"
      ]
     },
     "metadata": {},
     "output_type": "display_data"
    },
    {
     "name": "stdout",
     "output_type": "stream",
     "text": [
      "Training Results - Epoch[93/1000] Loss : 3.6524848117093884\n"
     ]
    },
    {
     "data": {
      "application/vnd.jupyter.widget-view+json": {
       "model_id": "",
       "version_major": 2,
       "version_minor": 0
      },
      "text/plain": [
       "HBox(children=(HTML(value=''), FloatProgress(value=0.0, max=13.0), HTML(value='')))"
      ]
     },
     "metadata": {},
     "output_type": "display_data"
    },
    {
     "data": {
      "application/vnd.jupyter.widget-view+json": {
       "model_id": "",
       "version_major": 2,
       "version_minor": 0
      },
      "text/plain": [
       "HBox(children=(HTML(value=''), FloatProgress(value=0.0, max=12.0), HTML(value='')))"
      ]
     },
     "metadata": {},
     "output_type": "display_data"
    },
    {
     "name": "stdout",
     "output_type": "stream",
     "text": [
      "Training Results - Epoch[94/1000] Loss : 3.763330390169987\n"
     ]
    },
    {
     "data": {
      "application/vnd.jupyter.widget-view+json": {
       "model_id": "",
       "version_major": 2,
       "version_minor": 0
      },
      "text/plain": [
       "HBox(children=(HTML(value=''), FloatProgress(value=0.0, max=13.0), HTML(value='')))"
      ]
     },
     "metadata": {},
     "output_type": "display_data"
    },
    {
     "data": {
      "application/vnd.jupyter.widget-view+json": {
       "model_id": "",
       "version_major": 2,
       "version_minor": 0
      },
      "text/plain": [
       "HBox(children=(HTML(value=''), FloatProgress(value=0.0, max=12.0), HTML(value='')))"
      ]
     },
     "metadata": {},
     "output_type": "display_data"
    },
    {
     "name": "stdout",
     "output_type": "stream",
     "text": [
      "Training Results - Epoch[95/1000] Loss : 3.3830904483562545\n"
     ]
    },
    {
     "data": {
      "application/vnd.jupyter.widget-view+json": {
       "model_id": "",
       "version_major": 2,
       "version_minor": 0
      },
      "text/plain": [
       "HBox(children=(HTML(value=''), FloatProgress(value=0.0, max=13.0), HTML(value='')))"
      ]
     },
     "metadata": {},
     "output_type": "display_data"
    },
    {
     "data": {
      "application/vnd.jupyter.widget-view+json": {
       "model_id": "",
       "version_major": 2,
       "version_minor": 0
      },
      "text/plain": [
       "HBox(children=(HTML(value=''), FloatProgress(value=0.0, max=12.0), HTML(value='')))"
      ]
     },
     "metadata": {},
     "output_type": "display_data"
    },
    {
     "name": "stdout",
     "output_type": "stream",
     "text": [
      "Training Results - Epoch[96/1000] Loss : 3.165427263065486\n"
     ]
    },
    {
     "data": {
      "application/vnd.jupyter.widget-view+json": {
       "model_id": "",
       "version_major": 2,
       "version_minor": 0
      },
      "text/plain": [
       "HBox(children=(HTML(value=''), FloatProgress(value=0.0, max=13.0), HTML(value='')))"
      ]
     },
     "metadata": {},
     "output_type": "display_data"
    },
    {
     "data": {
      "application/vnd.jupyter.widget-view+json": {
       "model_id": "",
       "version_major": 2,
       "version_minor": 0
      },
      "text/plain": [
       "HBox(children=(HTML(value=''), FloatProgress(value=0.0, max=12.0), HTML(value='')))"
      ]
     },
     "metadata": {},
     "output_type": "display_data"
    },
    {
     "name": "stdout",
     "output_type": "stream",
     "text": [
      "Training Results - Epoch[97/1000] Loss : 4.035663934715122\n"
     ]
    },
    {
     "data": {
      "application/vnd.jupyter.widget-view+json": {
       "model_id": "",
       "version_major": 2,
       "version_minor": 0
      },
      "text/plain": [
       "HBox(children=(HTML(value=''), FloatProgress(value=0.0, max=13.0), HTML(value='')))"
      ]
     },
     "metadata": {},
     "output_type": "display_data"
    },
    {
     "data": {
      "application/vnd.jupyter.widget-view+json": {
       "model_id": "",
       "version_major": 2,
       "version_minor": 0
      },
      "text/plain": [
       "HBox(children=(HTML(value=''), FloatProgress(value=0.0, max=12.0), HTML(value='')))"
      ]
     },
     "metadata": {},
     "output_type": "display_data"
    },
    {
     "name": "stdout",
     "output_type": "stream",
     "text": [
      "Training Results - Epoch[98/1000] Loss : 3.174130485857415\n"
     ]
    },
    {
     "data": {
      "application/vnd.jupyter.widget-view+json": {
       "model_id": "",
       "version_major": 2,
       "version_minor": 0
      },
      "text/plain": [
       "HBox(children=(HTML(value=''), FloatProgress(value=0.0, max=13.0), HTML(value='')))"
      ]
     },
     "metadata": {},
     "output_type": "display_data"
    },
    {
     "data": {
      "application/vnd.jupyter.widget-view+json": {
       "model_id": "",
       "version_major": 2,
       "version_minor": 0
      },
      "text/plain": [
       "HBox(children=(HTML(value=''), FloatProgress(value=0.0, max=12.0), HTML(value='')))"
      ]
     },
     "metadata": {},
     "output_type": "display_data"
    },
    {
     "name": "stdout",
     "output_type": "stream",
     "text": [
      "Training Results - Epoch[99/1000] Loss : 3.801022909673215\n"
     ]
    },
    {
     "data": {
      "application/vnd.jupyter.widget-view+json": {
       "model_id": "",
       "version_major": 2,
       "version_minor": 0
      },
      "text/plain": [
       "HBox(children=(HTML(value=''), FloatProgress(value=0.0, max=13.0), HTML(value='')))"
      ]
     },
     "metadata": {},
     "output_type": "display_data"
    },
    {
     "data": {
      "application/vnd.jupyter.widget-view+json": {
       "model_id": "",
       "version_major": 2,
       "version_minor": 0
      },
      "text/plain": [
       "HBox(children=(HTML(value=''), FloatProgress(value=0.0, max=12.0), HTML(value='')))"
      ]
     },
     "metadata": {},
     "output_type": "display_data"
    },
    {
     "name": "stdout",
     "output_type": "stream",
     "text": [
      "Training Results - Epoch[100/1000] Loss : 3.653724307439096\n"
     ]
    },
    {
     "data": {
      "application/vnd.jupyter.widget-view+json": {
       "model_id": "",
       "version_major": 2,
       "version_minor": 0
      },
      "text/plain": [
       "HBox(children=(HTML(value=''), FloatProgress(value=0.0, max=13.0), HTML(value='')))"
      ]
     },
     "metadata": {},
     "output_type": "display_data"
    },
    {
     "data": {
      "application/vnd.jupyter.widget-view+json": {
       "model_id": "",
       "version_major": 2,
       "version_minor": 0
      },
      "text/plain": [
       "HBox(children=(HTML(value=''), FloatProgress(value=0.0, max=12.0), HTML(value='')))"
      ]
     },
     "metadata": {},
     "output_type": "display_data"
    },
    {
     "name": "stdout",
     "output_type": "stream",
     "text": [
      "Training Results - Epoch[101/1000] Loss : 3.3124722240026356\n"
     ]
    },
    {
     "data": {
      "application/vnd.jupyter.widget-view+json": {
       "model_id": "",
       "version_major": 2,
       "version_minor": 0
      },
      "text/plain": [
       "HBox(children=(HTML(value=''), FloatProgress(value=0.0, max=13.0), HTML(value='')))"
      ]
     },
     "metadata": {},
     "output_type": "display_data"
    },
    {
     "data": {
      "application/vnd.jupyter.widget-view+json": {
       "model_id": "",
       "version_major": 2,
       "version_minor": 0
      },
      "text/plain": [
       "HBox(children=(HTML(value=''), FloatProgress(value=0.0, max=12.0), HTML(value='')))"
      ]
     },
     "metadata": {},
     "output_type": "display_data"
    },
    {
     "name": "stdout",
     "output_type": "stream",
     "text": [
      "Training Results - Epoch[102/1000] Loss : 4.908099396837845\n"
     ]
    },
    {
     "data": {
      "application/vnd.jupyter.widget-view+json": {
       "model_id": "",
       "version_major": 2,
       "version_minor": 0
      },
      "text/plain": [
       "HBox(children=(HTML(value=''), FloatProgress(value=0.0, max=13.0), HTML(value='')))"
      ]
     },
     "metadata": {},
     "output_type": "display_data"
    },
    {
     "data": {
      "application/vnd.jupyter.widget-view+json": {
       "model_id": "",
       "version_major": 2,
       "version_minor": 0
      },
      "text/plain": [
       "HBox(children=(HTML(value=''), FloatProgress(value=0.0, max=12.0), HTML(value='')))"
      ]
     },
     "metadata": {},
     "output_type": "display_data"
    },
    {
     "name": "stdout",
     "output_type": "stream",
     "text": [
      "Training Results - Epoch[103/1000] Loss : 3.579771017429406\n"
     ]
    },
    {
     "data": {
      "application/vnd.jupyter.widget-view+json": {
       "model_id": "",
       "version_major": 2,
       "version_minor": 0
      },
      "text/plain": [
       "HBox(children=(HTML(value=''), FloatProgress(value=0.0, max=13.0), HTML(value='')))"
      ]
     },
     "metadata": {},
     "output_type": "display_data"
    },
    {
     "data": {
      "application/vnd.jupyter.widget-view+json": {
       "model_id": "",
       "version_major": 2,
       "version_minor": 0
      },
      "text/plain": [
       "HBox(children=(HTML(value=''), FloatProgress(value=0.0, max=12.0), HTML(value='')))"
      ]
     },
     "metadata": {},
     "output_type": "display_data"
    },
    {
     "name": "stdout",
     "output_type": "stream",
     "text": [
      "Training Results - Epoch[104/1000] Loss : 3.2102870483316894\n"
     ]
    },
    {
     "data": {
      "application/vnd.jupyter.widget-view+json": {
       "model_id": "",
       "version_major": 2,
       "version_minor": 0
      },
      "text/plain": [
       "HBox(children=(HTML(value=''), FloatProgress(value=0.0, max=13.0), HTML(value='')))"
      ]
     },
     "metadata": {},
     "output_type": "display_data"
    },
    {
     "data": {
      "application/vnd.jupyter.widget-view+json": {
       "model_id": "",
       "version_major": 2,
       "version_minor": 0
      },
      "text/plain": [
       "HBox(children=(HTML(value=''), FloatProgress(value=0.0, max=12.0), HTML(value='')))"
      ]
     },
     "metadata": {},
     "output_type": "display_data"
    },
    {
     "name": "stdout",
     "output_type": "stream",
     "text": [
      "Training Results - Epoch[105/1000] Loss : 4.2823735447764895\n"
     ]
    },
    {
     "data": {
      "application/vnd.jupyter.widget-view+json": {
       "model_id": "",
       "version_major": 2,
       "version_minor": 0
      },
      "text/plain": [
       "HBox(children=(HTML(value=''), FloatProgress(value=0.0, max=13.0), HTML(value='')))"
      ]
     },
     "metadata": {},
     "output_type": "display_data"
    },
    {
     "data": {
      "application/vnd.jupyter.widget-view+json": {
       "model_id": "",
       "version_major": 2,
       "version_minor": 0
      },
      "text/plain": [
       "HBox(children=(HTML(value=''), FloatProgress(value=0.0, max=12.0), HTML(value='')))"
      ]
     },
     "metadata": {},
     "output_type": "display_data"
    },
    {
     "name": "stdout",
     "output_type": "stream",
     "text": [
      "Training Results - Epoch[106/1000] Loss : 3.616092877067214\n"
     ]
    },
    {
     "data": {
      "application/vnd.jupyter.widget-view+json": {
       "model_id": "",
       "version_major": 2,
       "version_minor": 0
      },
      "text/plain": [
       "HBox(children=(HTML(value=''), FloatProgress(value=0.0, max=13.0), HTML(value='')))"
      ]
     },
     "metadata": {},
     "output_type": "display_data"
    },
    {
     "data": {
      "application/vnd.jupyter.widget-view+json": {
       "model_id": "",
       "version_major": 2,
       "version_minor": 0
      },
      "text/plain": [
       "HBox(children=(HTML(value=''), FloatProgress(value=0.0, max=12.0), HTML(value='')))"
      ]
     },
     "metadata": {},
     "output_type": "display_data"
    },
    {
     "name": "stdout",
     "output_type": "stream",
     "text": [
      "Training Results - Epoch[107/1000] Loss : 4.441533668718858\n"
     ]
    },
    {
     "data": {
      "application/vnd.jupyter.widget-view+json": {
       "model_id": "",
       "version_major": 2,
       "version_minor": 0
      },
      "text/plain": [
       "HBox(children=(HTML(value=''), FloatProgress(value=0.0, max=13.0), HTML(value='')))"
      ]
     },
     "metadata": {},
     "output_type": "display_data"
    },
    {
     "data": {
      "application/vnd.jupyter.widget-view+json": {
       "model_id": "",
       "version_major": 2,
       "version_minor": 0
      },
      "text/plain": [
       "HBox(children=(HTML(value=''), FloatProgress(value=0.0, max=12.0), HTML(value='')))"
      ]
     },
     "metadata": {},
     "output_type": "display_data"
    },
    {
     "name": "stdout",
     "output_type": "stream",
     "text": [
      "Training Results - Epoch[108/1000] Loss : 3.2804179933949147\n"
     ]
    },
    {
     "data": {
      "application/vnd.jupyter.widget-view+json": {
       "model_id": "",
       "version_major": 2,
       "version_minor": 0
      },
      "text/plain": [
       "HBox(children=(HTML(value=''), FloatProgress(value=0.0, max=13.0), HTML(value='')))"
      ]
     },
     "metadata": {},
     "output_type": "display_data"
    },
    {
     "data": {
      "application/vnd.jupyter.widget-view+json": {
       "model_id": "",
       "version_major": 2,
       "version_minor": 0
      },
      "text/plain": [
       "HBox(children=(HTML(value=''), FloatProgress(value=0.0, max=12.0), HTML(value='')))"
      ]
     },
     "metadata": {},
     "output_type": "display_data"
    },
    {
     "name": "stdout",
     "output_type": "stream",
     "text": [
      "Training Results - Epoch[109/1000] Loss : 4.008802470430253\n"
     ]
    },
    {
     "data": {
      "application/vnd.jupyter.widget-view+json": {
       "model_id": "",
       "version_major": 2,
       "version_minor": 0
      },
      "text/plain": [
       "HBox(children=(HTML(value=''), FloatProgress(value=0.0, max=13.0), HTML(value='')))"
      ]
     },
     "metadata": {},
     "output_type": "display_data"
    },
    {
     "data": {
      "application/vnd.jupyter.widget-view+json": {
       "model_id": "",
       "version_major": 2,
       "version_minor": 0
      },
      "text/plain": [
       "HBox(children=(HTML(value=''), FloatProgress(value=0.0, max=12.0), HTML(value='')))"
      ]
     },
     "metadata": {},
     "output_type": "display_data"
    },
    {
     "name": "stdout",
     "output_type": "stream",
     "text": [
      "Training Results - Epoch[110/1000] Loss : 4.259749738468861\n"
     ]
    },
    {
     "data": {
      "application/vnd.jupyter.widget-view+json": {
       "model_id": "",
       "version_major": 2,
       "version_minor": 0
      },
      "text/plain": [
       "HBox(children=(HTML(value=''), FloatProgress(value=0.0, max=13.0), HTML(value='')))"
      ]
     },
     "metadata": {},
     "output_type": "display_data"
    },
    {
     "data": {
      "application/vnd.jupyter.widget-view+json": {
       "model_id": "",
       "version_major": 2,
       "version_minor": 0
      },
      "text/plain": [
       "HBox(children=(HTML(value=''), FloatProgress(value=0.0, max=12.0), HTML(value='')))"
      ]
     },
     "metadata": {},
     "output_type": "display_data"
    },
    {
     "name": "stdout",
     "output_type": "stream",
     "text": [
      "Training Results - Epoch[111/1000] Loss : 3.5793659136416864\n"
     ]
    },
    {
     "data": {
      "application/vnd.jupyter.widget-view+json": {
       "model_id": "",
       "version_major": 2,
       "version_minor": 0
      },
      "text/plain": [
       "HBox(children=(HTML(value=''), FloatProgress(value=0.0, max=13.0), HTML(value='')))"
      ]
     },
     "metadata": {},
     "output_type": "display_data"
    },
    {
     "data": {
      "application/vnd.jupyter.widget-view+json": {
       "model_id": "",
       "version_major": 2,
       "version_minor": 0
      },
      "text/plain": [
       "HBox(children=(HTML(value=''), FloatProgress(value=0.0, max=12.0), HTML(value='')))"
      ]
     },
     "metadata": {},
     "output_type": "display_data"
    },
    {
     "name": "stdout",
     "output_type": "stream",
     "text": [
      "Training Results - Epoch[112/1000] Loss : 3.2910259463741967\n"
     ]
    },
    {
     "data": {
      "application/vnd.jupyter.widget-view+json": {
       "model_id": "",
       "version_major": 2,
       "version_minor": 0
      },
      "text/plain": [
       "HBox(children=(HTML(value=''), FloatProgress(value=0.0, max=13.0), HTML(value='')))"
      ]
     },
     "metadata": {},
     "output_type": "display_data"
    },
    {
     "data": {
      "application/vnd.jupyter.widget-view+json": {
       "model_id": "",
       "version_major": 2,
       "version_minor": 0
      },
      "text/plain": [
       "HBox(children=(HTML(value=''), FloatProgress(value=0.0, max=12.0), HTML(value='')))"
      ]
     },
     "metadata": {},
     "output_type": "display_data"
    },
    {
     "name": "stdout",
     "output_type": "stream",
     "text": [
      "Training Results - Epoch[113/1000] Loss : 3.6731039467524247\n"
     ]
    },
    {
     "data": {
      "application/vnd.jupyter.widget-view+json": {
       "model_id": "",
       "version_major": 2,
       "version_minor": 0
      },
      "text/plain": [
       "HBox(children=(HTML(value=''), FloatProgress(value=0.0, max=13.0), HTML(value='')))"
      ]
     },
     "metadata": {},
     "output_type": "display_data"
    },
    {
     "data": {
      "application/vnd.jupyter.widget-view+json": {
       "model_id": "",
       "version_major": 2,
       "version_minor": 0
      },
      "text/plain": [
       "HBox(children=(HTML(value=''), FloatProgress(value=0.0, max=12.0), HTML(value='')))"
      ]
     },
     "metadata": {},
     "output_type": "display_data"
    },
    {
     "name": "stdout",
     "output_type": "stream",
     "text": [
      "Training Results - Epoch[114/1000] Loss : 3.7570466973336676\n"
     ]
    },
    {
     "data": {
      "application/vnd.jupyter.widget-view+json": {
       "model_id": "",
       "version_major": 2,
       "version_minor": 0
      },
      "text/plain": [
       "HBox(children=(HTML(value=''), FloatProgress(value=0.0, max=13.0), HTML(value='')))"
      ]
     },
     "metadata": {},
     "output_type": "display_data"
    },
    {
     "data": {
      "application/vnd.jupyter.widget-view+json": {
       "model_id": "",
       "version_major": 2,
       "version_minor": 0
      },
      "text/plain": [
       "HBox(children=(HTML(value=''), FloatProgress(value=0.0, max=12.0), HTML(value='')))"
      ]
     },
     "metadata": {},
     "output_type": "display_data"
    },
    {
     "name": "stdout",
     "output_type": "stream",
     "text": [
      "Training Results - Epoch[115/1000] Loss : 4.136628482183899\n"
     ]
    },
    {
     "data": {
      "application/vnd.jupyter.widget-view+json": {
       "model_id": "",
       "version_major": 2,
       "version_minor": 0
      },
      "text/plain": [
       "HBox(children=(HTML(value=''), FloatProgress(value=0.0, max=13.0), HTML(value='')))"
      ]
     },
     "metadata": {},
     "output_type": "display_data"
    },
    {
     "data": {
      "application/vnd.jupyter.widget-view+json": {
       "model_id": "",
       "version_major": 2,
       "version_minor": 0
      },
      "text/plain": [
       "HBox(children=(HTML(value=''), FloatProgress(value=0.0, max=12.0), HTML(value='')))"
      ]
     },
     "metadata": {},
     "output_type": "display_data"
    },
    {
     "name": "stdout",
     "output_type": "stream",
     "text": [
      "Training Results - Epoch[116/1000] Loss : 4.0465972255650415\n"
     ]
    },
    {
     "data": {
      "application/vnd.jupyter.widget-view+json": {
       "model_id": "",
       "version_major": 2,
       "version_minor": 0
      },
      "text/plain": [
       "HBox(children=(HTML(value=''), FloatProgress(value=0.0, max=13.0), HTML(value='')))"
      ]
     },
     "metadata": {},
     "output_type": "display_data"
    },
    {
     "data": {
      "application/vnd.jupyter.widget-view+json": {
       "model_id": "",
       "version_major": 2,
       "version_minor": 0
      },
      "text/plain": [
       "HBox(children=(HTML(value=''), FloatProgress(value=0.0, max=12.0), HTML(value='')))"
      ]
     },
     "metadata": {},
     "output_type": "display_data"
    },
    {
     "name": "stdout",
     "output_type": "stream",
     "text": [
      "Training Results - Epoch[117/1000] Loss : 3.299100265311587\n"
     ]
    },
    {
     "data": {
      "application/vnd.jupyter.widget-view+json": {
       "model_id": "",
       "version_major": 2,
       "version_minor": 0
      },
      "text/plain": [
       "HBox(children=(HTML(value=''), FloatProgress(value=0.0, max=13.0), HTML(value='')))"
      ]
     },
     "metadata": {},
     "output_type": "display_data"
    },
    {
     "data": {
      "application/vnd.jupyter.widget-view+json": {
       "model_id": "",
       "version_major": 2,
       "version_minor": 0
      },
      "text/plain": [
       "HBox(children=(HTML(value=''), FloatProgress(value=0.0, max=12.0), HTML(value='')))"
      ]
     },
     "metadata": {},
     "output_type": "display_data"
    },
    {
     "name": "stdout",
     "output_type": "stream",
     "text": [
      "Training Results - Epoch[118/1000] Loss : 3.81804721298296\n"
     ]
    },
    {
     "data": {
      "application/vnd.jupyter.widget-view+json": {
       "model_id": "",
       "version_major": 2,
       "version_minor": 0
      },
      "text/plain": [
       "HBox(children=(HTML(value=''), FloatProgress(value=0.0, max=13.0), HTML(value='')))"
      ]
     },
     "metadata": {},
     "output_type": "display_data"
    },
    {
     "data": {
      "application/vnd.jupyter.widget-view+json": {
       "model_id": "",
       "version_major": 2,
       "version_minor": 0
      },
      "text/plain": [
       "HBox(children=(HTML(value=''), FloatProgress(value=0.0, max=12.0), HTML(value='')))"
      ]
     },
     "metadata": {},
     "output_type": "display_data"
    },
    {
     "name": "stdout",
     "output_type": "stream",
     "text": [
      "Training Results - Epoch[119/1000] Loss : 2.7965862753676376\n"
     ]
    },
    {
     "data": {
      "application/vnd.jupyter.widget-view+json": {
       "model_id": "",
       "version_major": 2,
       "version_minor": 0
      },
      "text/plain": [
       "HBox(children=(HTML(value=''), FloatProgress(value=0.0, max=13.0), HTML(value='')))"
      ]
     },
     "metadata": {},
     "output_type": "display_data"
    },
    {
     "data": {
      "application/vnd.jupyter.widget-view+json": {
       "model_id": "",
       "version_major": 2,
       "version_minor": 0
      },
      "text/plain": [
       "HBox(children=(HTML(value=''), FloatProgress(value=0.0, max=12.0), HTML(value='')))"
      ]
     },
     "metadata": {},
     "output_type": "display_data"
    },
    {
     "name": "stdout",
     "output_type": "stream",
     "text": [
      "Training Results - Epoch[120/1000] Loss : 3.3400839447221786\n"
     ]
    },
    {
     "data": {
      "application/vnd.jupyter.widget-view+json": {
       "model_id": "",
       "version_major": 2,
       "version_minor": 0
      },
      "text/plain": [
       "HBox(children=(HTML(value=''), FloatProgress(value=0.0, max=13.0), HTML(value='')))"
      ]
     },
     "metadata": {},
     "output_type": "display_data"
    },
    {
     "data": {
      "application/vnd.jupyter.widget-view+json": {
       "model_id": "",
       "version_major": 2,
       "version_minor": 0
      },
      "text/plain": [
       "HBox(children=(HTML(value=''), FloatProgress(value=0.0, max=12.0), HTML(value='')))"
      ]
     },
     "metadata": {},
     "output_type": "display_data"
    },
    {
     "name": "stdout",
     "output_type": "stream",
     "text": [
      "Training Results - Epoch[121/1000] Loss : 4.545827769105322\n"
     ]
    },
    {
     "data": {
      "application/vnd.jupyter.widget-view+json": {
       "model_id": "",
       "version_major": 2,
       "version_minor": 0
      },
      "text/plain": [
       "HBox(children=(HTML(value=''), FloatProgress(value=0.0, max=13.0), HTML(value='')))"
      ]
     },
     "metadata": {},
     "output_type": "display_data"
    },
    {
     "data": {
      "application/vnd.jupyter.widget-view+json": {
       "model_id": "",
       "version_major": 2,
       "version_minor": 0
      },
      "text/plain": [
       "HBox(children=(HTML(value=''), FloatProgress(value=0.0, max=12.0), HTML(value='')))"
      ]
     },
     "metadata": {},
     "output_type": "display_data"
    },
    {
     "name": "stdout",
     "output_type": "stream",
     "text": [
      "Training Results - Epoch[122/1000] Loss : 3.078509863940114\n"
     ]
    },
    {
     "data": {
      "application/vnd.jupyter.widget-view+json": {
       "model_id": "",
       "version_major": 2,
       "version_minor": 0
      },
      "text/plain": [
       "HBox(children=(HTML(value=''), FloatProgress(value=0.0, max=13.0), HTML(value='')))"
      ]
     },
     "metadata": {},
     "output_type": "display_data"
    },
    {
     "data": {
      "application/vnd.jupyter.widget-view+json": {
       "model_id": "",
       "version_major": 2,
       "version_minor": 0
      },
      "text/plain": [
       "HBox(children=(HTML(value=''), FloatProgress(value=0.0, max=12.0), HTML(value='')))"
      ]
     },
     "metadata": {},
     "output_type": "display_data"
    },
    {
     "name": "stdout",
     "output_type": "stream",
     "text": [
      "Training Results - Epoch[123/1000] Loss : 3.7209612595945334\n"
     ]
    },
    {
     "data": {
      "application/vnd.jupyter.widget-view+json": {
       "model_id": "",
       "version_major": 2,
       "version_minor": 0
      },
      "text/plain": [
       "HBox(children=(HTML(value=''), FloatProgress(value=0.0, max=13.0), HTML(value='')))"
      ]
     },
     "metadata": {},
     "output_type": "display_data"
    },
    {
     "data": {
      "application/vnd.jupyter.widget-view+json": {
       "model_id": "",
       "version_major": 2,
       "version_minor": 0
      },
      "text/plain": [
       "HBox(children=(HTML(value=''), FloatProgress(value=0.0, max=12.0), HTML(value='')))"
      ]
     },
     "metadata": {},
     "output_type": "display_data"
    },
    {
     "name": "stdout",
     "output_type": "stream",
     "text": [
      "Training Results - Epoch[124/1000] Loss : 2.7749149080539697\n"
     ]
    },
    {
     "data": {
      "application/vnd.jupyter.widget-view+json": {
       "model_id": "",
       "version_major": 2,
       "version_minor": 0
      },
      "text/plain": [
       "HBox(children=(HTML(value=''), FloatProgress(value=0.0, max=13.0), HTML(value='')))"
      ]
     },
     "metadata": {},
     "output_type": "display_data"
    },
    {
     "data": {
      "application/vnd.jupyter.widget-view+json": {
       "model_id": "",
       "version_major": 2,
       "version_minor": 0
      },
      "text/plain": [
       "HBox(children=(HTML(value=''), FloatProgress(value=0.0, max=12.0), HTML(value='')))"
      ]
     },
     "metadata": {},
     "output_type": "display_data"
    },
    {
     "name": "stdout",
     "output_type": "stream",
     "text": [
      "Training Results - Epoch[125/1000] Loss : 3.9084806301424315\n"
     ]
    },
    {
     "data": {
      "application/vnd.jupyter.widget-view+json": {
       "model_id": "",
       "version_major": 2,
       "version_minor": 0
      },
      "text/plain": [
       "HBox(children=(HTML(value=''), FloatProgress(value=0.0, max=13.0), HTML(value='')))"
      ]
     },
     "metadata": {},
     "output_type": "display_data"
    },
    {
     "data": {
      "application/vnd.jupyter.widget-view+json": {
       "model_id": "",
       "version_major": 2,
       "version_minor": 0
      },
      "text/plain": [
       "HBox(children=(HTML(value=''), FloatProgress(value=0.0, max=12.0), HTML(value='')))"
      ]
     },
     "metadata": {},
     "output_type": "display_data"
    },
    {
     "name": "stdout",
     "output_type": "stream",
     "text": [
      "Training Results - Epoch[126/1000] Loss : 4.463986744211156\n"
     ]
    },
    {
     "data": {
      "application/vnd.jupyter.widget-view+json": {
       "model_id": "",
       "version_major": 2,
       "version_minor": 0
      },
      "text/plain": [
       "HBox(children=(HTML(value=''), FloatProgress(value=0.0, max=13.0), HTML(value='')))"
      ]
     },
     "metadata": {},
     "output_type": "display_data"
    },
    {
     "data": {
      "application/vnd.jupyter.widget-view+json": {
       "model_id": "",
       "version_major": 2,
       "version_minor": 0
      },
      "text/plain": [
       "HBox(children=(HTML(value=''), FloatProgress(value=0.0, max=12.0), HTML(value='')))"
      ]
     },
     "metadata": {},
     "output_type": "display_data"
    },
    {
     "name": "stdout",
     "output_type": "stream",
     "text": [
      "Training Results - Epoch[127/1000] Loss : 3.3956887835884975\n"
     ]
    },
    {
     "data": {
      "application/vnd.jupyter.widget-view+json": {
       "model_id": "",
       "version_major": 2,
       "version_minor": 0
      },
      "text/plain": [
       "HBox(children=(HTML(value=''), FloatProgress(value=0.0, max=13.0), HTML(value='')))"
      ]
     },
     "metadata": {},
     "output_type": "display_data"
    },
    {
     "data": {
      "application/vnd.jupyter.widget-view+json": {
       "model_id": "",
       "version_major": 2,
       "version_minor": 0
      },
      "text/plain": [
       "HBox(children=(HTML(value=''), FloatProgress(value=0.0, max=12.0), HTML(value='')))"
      ]
     },
     "metadata": {},
     "output_type": "display_data"
    },
    {
     "name": "stdout",
     "output_type": "stream",
     "text": [
      "Training Results - Epoch[128/1000] Loss : 3.1901700908895885\n"
     ]
    },
    {
     "data": {
      "application/vnd.jupyter.widget-view+json": {
       "model_id": "",
       "version_major": 2,
       "version_minor": 0
      },
      "text/plain": [
       "HBox(children=(HTML(value=''), FloatProgress(value=0.0, max=13.0), HTML(value='')))"
      ]
     },
     "metadata": {},
     "output_type": "display_data"
    },
    {
     "data": {
      "application/vnd.jupyter.widget-view+json": {
       "model_id": "",
       "version_major": 2,
       "version_minor": 0
      },
      "text/plain": [
       "HBox(children=(HTML(value=''), FloatProgress(value=0.0, max=12.0), HTML(value='')))"
      ]
     },
     "metadata": {},
     "output_type": "display_data"
    },
    {
     "name": "stdout",
     "output_type": "stream",
     "text": [
      "Training Results - Epoch[129/1000] Loss : 2.861558804628632\n"
     ]
    },
    {
     "data": {
      "application/vnd.jupyter.widget-view+json": {
       "model_id": "",
       "version_major": 2,
       "version_minor": 0
      },
      "text/plain": [
       "HBox(children=(HTML(value=''), FloatProgress(value=0.0, max=13.0), HTML(value='')))"
      ]
     },
     "metadata": {},
     "output_type": "display_data"
    },
    {
     "data": {
      "application/vnd.jupyter.widget-view+json": {
       "model_id": "",
       "version_major": 2,
       "version_minor": 0
      },
      "text/plain": [
       "HBox(children=(HTML(value=''), FloatProgress(value=0.0, max=12.0), HTML(value='')))"
      ]
     },
     "metadata": {},
     "output_type": "display_data"
    },
    {
     "name": "stdout",
     "output_type": "stream",
     "text": [
      "Training Results - Epoch[130/1000] Loss : 3.3825914175312257\n"
     ]
    },
    {
     "data": {
      "application/vnd.jupyter.widget-view+json": {
       "model_id": "",
       "version_major": 2,
       "version_minor": 0
      },
      "text/plain": [
       "HBox(children=(HTML(value=''), FloatProgress(value=0.0, max=13.0), HTML(value='')))"
      ]
     },
     "metadata": {},
     "output_type": "display_data"
    },
    {
     "data": {
      "application/vnd.jupyter.widget-view+json": {
       "model_id": "",
       "version_major": 2,
       "version_minor": 0
      },
      "text/plain": [
       "HBox(children=(HTML(value=''), FloatProgress(value=0.0, max=12.0), HTML(value='')))"
      ]
     },
     "metadata": {},
     "output_type": "display_data"
    },
    {
     "name": "stdout",
     "output_type": "stream",
     "text": [
      "Training Results - Epoch[131/1000] Loss : 2.7999129158504585\n"
     ]
    },
    {
     "data": {
      "application/vnd.jupyter.widget-view+json": {
       "model_id": "",
       "version_major": 2,
       "version_minor": 0
      },
      "text/plain": [
       "HBox(children=(HTML(value=''), FloatProgress(value=0.0, max=13.0), HTML(value='')))"
      ]
     },
     "metadata": {},
     "output_type": "display_data"
    },
    {
     "data": {
      "application/vnd.jupyter.widget-view+json": {
       "model_id": "",
       "version_major": 2,
       "version_minor": 0
      },
      "text/plain": [
       "HBox(children=(HTML(value=''), FloatProgress(value=0.0, max=12.0), HTML(value='')))"
      ]
     },
     "metadata": {},
     "output_type": "display_data"
    },
    {
     "name": "stdout",
     "output_type": "stream",
     "text": [
      "Training Results - Epoch[132/1000] Loss : 3.307797505779598\n"
     ]
    },
    {
     "data": {
      "application/vnd.jupyter.widget-view+json": {
       "model_id": "",
       "version_major": 2,
       "version_minor": 0
      },
      "text/plain": [
       "HBox(children=(HTML(value=''), FloatProgress(value=0.0, max=13.0), HTML(value='')))"
      ]
     },
     "metadata": {},
     "output_type": "display_data"
    },
    {
     "data": {
      "application/vnd.jupyter.widget-view+json": {
       "model_id": "",
       "version_major": 2,
       "version_minor": 0
      },
      "text/plain": [
       "HBox(children=(HTML(value=''), FloatProgress(value=0.0, max=12.0), HTML(value='')))"
      ]
     },
     "metadata": {},
     "output_type": "display_data"
    },
    {
     "name": "stdout",
     "output_type": "stream",
     "text": [
      "Training Results - Epoch[133/1000] Loss : 2.5150696230889564\n"
     ]
    },
    {
     "data": {
      "application/vnd.jupyter.widget-view+json": {
       "model_id": "",
       "version_major": 2,
       "version_minor": 0
      },
      "text/plain": [
       "HBox(children=(HTML(value=''), FloatProgress(value=0.0, max=13.0), HTML(value='')))"
      ]
     },
     "metadata": {},
     "output_type": "display_data"
    },
    {
     "data": {
      "application/vnd.jupyter.widget-view+json": {
       "model_id": "",
       "version_major": 2,
       "version_minor": 0
      },
      "text/plain": [
       "HBox(children=(HTML(value=''), FloatProgress(value=0.0, max=12.0), HTML(value='')))"
      ]
     },
     "metadata": {},
     "output_type": "display_data"
    },
    {
     "name": "stdout",
     "output_type": "stream",
     "text": [
      "Training Results - Epoch[134/1000] Loss : 3.1645932949570845\n"
     ]
    },
    {
     "data": {
      "application/vnd.jupyter.widget-view+json": {
       "model_id": "",
       "version_major": 2,
       "version_minor": 0
      },
      "text/plain": [
       "HBox(children=(HTML(value=''), FloatProgress(value=0.0, max=13.0), HTML(value='')))"
      ]
     },
     "metadata": {},
     "output_type": "display_data"
    },
    {
     "data": {
      "application/vnd.jupyter.widget-view+json": {
       "model_id": "",
       "version_major": 2,
       "version_minor": 0
      },
      "text/plain": [
       "HBox(children=(HTML(value=''), FloatProgress(value=0.0, max=12.0), HTML(value='')))"
      ]
     },
     "metadata": {},
     "output_type": "display_data"
    },
    {
     "name": "stdout",
     "output_type": "stream",
     "text": [
      "Training Results - Epoch[135/1000] Loss : 2.8403320625937627\n"
     ]
    },
    {
     "data": {
      "application/vnd.jupyter.widget-view+json": {
       "model_id": "",
       "version_major": 2,
       "version_minor": 0
      },
      "text/plain": [
       "HBox(children=(HTML(value=''), FloatProgress(value=0.0, max=13.0), HTML(value='')))"
      ]
     },
     "metadata": {},
     "output_type": "display_data"
    },
    {
     "data": {
      "application/vnd.jupyter.widget-view+json": {
       "model_id": "",
       "version_major": 2,
       "version_minor": 0
      },
      "text/plain": [
       "HBox(children=(HTML(value=''), FloatProgress(value=0.0, max=12.0), HTML(value='')))"
      ]
     },
     "metadata": {},
     "output_type": "display_data"
    },
    {
     "name": "stdout",
     "output_type": "stream",
     "text": [
      "Training Results - Epoch[136/1000] Loss : 2.659063445225013\n"
     ]
    },
    {
     "data": {
      "application/vnd.jupyter.widget-view+json": {
       "model_id": "",
       "version_major": 2,
       "version_minor": 0
      },
      "text/plain": [
       "HBox(children=(HTML(value=''), FloatProgress(value=0.0, max=13.0), HTML(value='')))"
      ]
     },
     "metadata": {},
     "output_type": "display_data"
    },
    {
     "data": {
      "application/vnd.jupyter.widget-view+json": {
       "model_id": "",
       "version_major": 2,
       "version_minor": 0
      },
      "text/plain": [
       "HBox(children=(HTML(value=''), FloatProgress(value=0.0, max=12.0), HTML(value='')))"
      ]
     },
     "metadata": {},
     "output_type": "display_data"
    },
    {
     "name": "stdout",
     "output_type": "stream",
     "text": [
      "Training Results - Epoch[137/1000] Loss : 3.014391297141275\n"
     ]
    },
    {
     "data": {
      "application/vnd.jupyter.widget-view+json": {
       "model_id": "",
       "version_major": 2,
       "version_minor": 0
      },
      "text/plain": [
       "HBox(children=(HTML(value=''), FloatProgress(value=0.0, max=13.0), HTML(value='')))"
      ]
     },
     "metadata": {},
     "output_type": "display_data"
    },
    {
     "data": {
      "application/vnd.jupyter.widget-view+json": {
       "model_id": "",
       "version_major": 2,
       "version_minor": 0
      },
      "text/plain": [
       "HBox(children=(HTML(value=''), FloatProgress(value=0.0, max=12.0), HTML(value='')))"
      ]
     },
     "metadata": {},
     "output_type": "display_data"
    },
    {
     "name": "stdout",
     "output_type": "stream",
     "text": [
      "Training Results - Epoch[138/1000] Loss : 2.787135881952438\n"
     ]
    },
    {
     "data": {
      "application/vnd.jupyter.widget-view+json": {
       "model_id": "",
       "version_major": 2,
       "version_minor": 0
      },
      "text/plain": [
       "HBox(children=(HTML(value=''), FloatProgress(value=0.0, max=13.0), HTML(value='')))"
      ]
     },
     "metadata": {},
     "output_type": "display_data"
    },
    {
     "data": {
      "application/vnd.jupyter.widget-view+json": {
       "model_id": "",
       "version_major": 2,
       "version_minor": 0
      },
      "text/plain": [
       "HBox(children=(HTML(value=''), FloatProgress(value=0.0, max=12.0), HTML(value='')))"
      ]
     },
     "metadata": {},
     "output_type": "display_data"
    },
    {
     "name": "stdout",
     "output_type": "stream",
     "text": [
      "Training Results - Epoch[139/1000] Loss : 3.22341983903185\n"
     ]
    },
    {
     "data": {
      "application/vnd.jupyter.widget-view+json": {
       "model_id": "",
       "version_major": 2,
       "version_minor": 0
      },
      "text/plain": [
       "HBox(children=(HTML(value=''), FloatProgress(value=0.0, max=13.0), HTML(value='')))"
      ]
     },
     "metadata": {},
     "output_type": "display_data"
    },
    {
     "data": {
      "application/vnd.jupyter.widget-view+json": {
       "model_id": "",
       "version_major": 2,
       "version_minor": 0
      },
      "text/plain": [
       "HBox(children=(HTML(value=''), FloatProgress(value=0.0, max=12.0), HTML(value='')))"
      ]
     },
     "metadata": {},
     "output_type": "display_data"
    },
    {
     "name": "stdout",
     "output_type": "stream",
     "text": [
      "Training Results - Epoch[140/1000] Loss : 2.2468208272013164\n"
     ]
    },
    {
     "data": {
      "application/vnd.jupyter.widget-view+json": {
       "model_id": "",
       "version_major": 2,
       "version_minor": 0
      },
      "text/plain": [
       "HBox(children=(HTML(value=''), FloatProgress(value=0.0, max=13.0), HTML(value='')))"
      ]
     },
     "metadata": {},
     "output_type": "display_data"
    },
    {
     "data": {
      "application/vnd.jupyter.widget-view+json": {
       "model_id": "",
       "version_major": 2,
       "version_minor": 0
      },
      "text/plain": [
       "HBox(children=(HTML(value=''), FloatProgress(value=0.0, max=12.0), HTML(value='')))"
      ]
     },
     "metadata": {},
     "output_type": "display_data"
    },
    {
     "name": "stdout",
     "output_type": "stream",
     "text": [
      "Training Results - Epoch[141/1000] Loss : 2.5710400387098127\n"
     ]
    },
    {
     "data": {
      "application/vnd.jupyter.widget-view+json": {
       "model_id": "",
       "version_major": 2,
       "version_minor": 0
      },
      "text/plain": [
       "HBox(children=(HTML(value=''), FloatProgress(value=0.0, max=13.0), HTML(value='')))"
      ]
     },
     "metadata": {},
     "output_type": "display_data"
    },
    {
     "data": {
      "application/vnd.jupyter.widget-view+json": {
       "model_id": "",
       "version_major": 2,
       "version_minor": 0
      },
      "text/plain": [
       "HBox(children=(HTML(value=''), FloatProgress(value=0.0, max=12.0), HTML(value='')))"
      ]
     },
     "metadata": {},
     "output_type": "display_data"
    },
    {
     "name": "stdout",
     "output_type": "stream",
     "text": [
      "Training Results - Epoch[142/1000] Loss : 3.7101587599969172\n"
     ]
    },
    {
     "data": {
      "application/vnd.jupyter.widget-view+json": {
       "model_id": "",
       "version_major": 2,
       "version_minor": 0
      },
      "text/plain": [
       "HBox(children=(HTML(value=''), FloatProgress(value=0.0, max=13.0), HTML(value='')))"
      ]
     },
     "metadata": {},
     "output_type": "display_data"
    },
    {
     "data": {
      "application/vnd.jupyter.widget-view+json": {
       "model_id": "",
       "version_major": 2,
       "version_minor": 0
      },
      "text/plain": [
       "HBox(children=(HTML(value=''), FloatProgress(value=0.0, max=12.0), HTML(value='')))"
      ]
     },
     "metadata": {},
     "output_type": "display_data"
    },
    {
     "name": "stdout",
     "output_type": "stream",
     "text": [
      "Training Results - Epoch[143/1000] Loss : 4.086643795157608\n"
     ]
    },
    {
     "data": {
      "application/vnd.jupyter.widget-view+json": {
       "model_id": "",
       "version_major": 2,
       "version_minor": 0
      },
      "text/plain": [
       "HBox(children=(HTML(value=''), FloatProgress(value=0.0, max=13.0), HTML(value='')))"
      ]
     },
     "metadata": {},
     "output_type": "display_data"
    },
    {
     "data": {
      "application/vnd.jupyter.widget-view+json": {
       "model_id": "",
       "version_major": 2,
       "version_minor": 0
      },
      "text/plain": [
       "HBox(children=(HTML(value=''), FloatProgress(value=0.0, max=12.0), HTML(value='')))"
      ]
     },
     "metadata": {},
     "output_type": "display_data"
    },
    {
     "name": "stdout",
     "output_type": "stream",
     "text": [
      "Training Results - Epoch[144/1000] Loss : 2.673427600452406\n"
     ]
    },
    {
     "data": {
      "application/vnd.jupyter.widget-view+json": {
       "model_id": "",
       "version_major": 2,
       "version_minor": 0
      },
      "text/plain": [
       "HBox(children=(HTML(value=''), FloatProgress(value=0.0, max=13.0), HTML(value='')))"
      ]
     },
     "metadata": {},
     "output_type": "display_data"
    },
    {
     "data": {
      "application/vnd.jupyter.widget-view+json": {
       "model_id": "",
       "version_major": 2,
       "version_minor": 0
      },
      "text/plain": [
       "HBox(children=(HTML(value=''), FloatProgress(value=0.0, max=12.0), HTML(value='')))"
      ]
     },
     "metadata": {},
     "output_type": "display_data"
    },
    {
     "name": "stdout",
     "output_type": "stream",
     "text": [
      "Training Results - Epoch[145/1000] Loss : 2.3894497479407515\n"
     ]
    },
    {
     "data": {
      "application/vnd.jupyter.widget-view+json": {
       "model_id": "",
       "version_major": 2,
       "version_minor": 0
      },
      "text/plain": [
       "HBox(children=(HTML(value=''), FloatProgress(value=0.0, max=13.0), HTML(value='')))"
      ]
     },
     "metadata": {},
     "output_type": "display_data"
    },
    {
     "data": {
      "application/vnd.jupyter.widget-view+json": {
       "model_id": "",
       "version_major": 2,
       "version_minor": 0
      },
      "text/plain": [
       "HBox(children=(HTML(value=''), FloatProgress(value=0.0, max=12.0), HTML(value='')))"
      ]
     },
     "metadata": {},
     "output_type": "display_data"
    },
    {
     "name": "stdout",
     "output_type": "stream",
     "text": [
      "Training Results - Epoch[146/1000] Loss : 3.0361840701994773\n"
     ]
    },
    {
     "data": {
      "application/vnd.jupyter.widget-view+json": {
       "model_id": "",
       "version_major": 2,
       "version_minor": 0
      },
      "text/plain": [
       "HBox(children=(HTML(value=''), FloatProgress(value=0.0, max=13.0), HTML(value='')))"
      ]
     },
     "metadata": {},
     "output_type": "display_data"
    },
    {
     "data": {
      "application/vnd.jupyter.widget-view+json": {
       "model_id": "",
       "version_major": 2,
       "version_minor": 0
      },
      "text/plain": [
       "HBox(children=(HTML(value=''), FloatProgress(value=0.0, max=12.0), HTML(value='')))"
      ]
     },
     "metadata": {},
     "output_type": "display_data"
    },
    {
     "name": "stdout",
     "output_type": "stream",
     "text": [
      "Training Results - Epoch[147/1000] Loss : 2.4909812621122316\n"
     ]
    },
    {
     "data": {
      "application/vnd.jupyter.widget-view+json": {
       "model_id": "",
       "version_major": 2,
       "version_minor": 0
      },
      "text/plain": [
       "HBox(children=(HTML(value=''), FloatProgress(value=0.0, max=13.0), HTML(value='')))"
      ]
     },
     "metadata": {},
     "output_type": "display_data"
    },
    {
     "data": {
      "application/vnd.jupyter.widget-view+json": {
       "model_id": "",
       "version_major": 2,
       "version_minor": 0
      },
      "text/plain": [
       "HBox(children=(HTML(value=''), FloatProgress(value=0.0, max=12.0), HTML(value='')))"
      ]
     },
     "metadata": {},
     "output_type": "display_data"
    },
    {
     "name": "stdout",
     "output_type": "stream",
     "text": [
      "Training Results - Epoch[148/1000] Loss : 4.245239521378354\n"
     ]
    },
    {
     "data": {
      "application/vnd.jupyter.widget-view+json": {
       "model_id": "",
       "version_major": 2,
       "version_minor": 0
      },
      "text/plain": [
       "HBox(children=(HTML(value=''), FloatProgress(value=0.0, max=13.0), HTML(value='')))"
      ]
     },
     "metadata": {},
     "output_type": "display_data"
    },
    {
     "data": {
      "application/vnd.jupyter.widget-view+json": {
       "model_id": "",
       "version_major": 2,
       "version_minor": 0
      },
      "text/plain": [
       "HBox(children=(HTML(value=''), FloatProgress(value=0.0, max=12.0), HTML(value='')))"
      ]
     },
     "metadata": {},
     "output_type": "display_data"
    },
    {
     "name": "stdout",
     "output_type": "stream",
     "text": [
      "Training Results - Epoch[149/1000] Loss : 3.261965170754132\n"
     ]
    },
    {
     "data": {
      "application/vnd.jupyter.widget-view+json": {
       "model_id": "",
       "version_major": 2,
       "version_minor": 0
      },
      "text/plain": [
       "HBox(children=(HTML(value=''), FloatProgress(value=0.0, max=13.0), HTML(value='')))"
      ]
     },
     "metadata": {},
     "output_type": "display_data"
    },
    {
     "data": {
      "application/vnd.jupyter.widget-view+json": {
       "model_id": "",
       "version_major": 2,
       "version_minor": 0
      },
      "text/plain": [
       "HBox(children=(HTML(value=''), FloatProgress(value=0.0, max=12.0), HTML(value='')))"
      ]
     },
     "metadata": {},
     "output_type": "display_data"
    },
    {
     "name": "stdout",
     "output_type": "stream",
     "text": [
      "Training Results - Epoch[150/1000] Loss : 2.7918724588060084\n"
     ]
    },
    {
     "data": {
      "application/vnd.jupyter.widget-view+json": {
       "model_id": "",
       "version_major": 2,
       "version_minor": 0
      },
      "text/plain": [
       "HBox(children=(HTML(value=''), FloatProgress(value=0.0, max=13.0), HTML(value='')))"
      ]
     },
     "metadata": {},
     "output_type": "display_data"
    },
    {
     "data": {
      "application/vnd.jupyter.widget-view+json": {
       "model_id": "",
       "version_major": 2,
       "version_minor": 0
      },
      "text/plain": [
       "HBox(children=(HTML(value=''), FloatProgress(value=0.0, max=12.0), HTML(value='')))"
      ]
     },
     "metadata": {},
     "output_type": "display_data"
    },
    {
     "name": "stdout",
     "output_type": "stream",
     "text": [
      "Training Results - Epoch[151/1000] Loss : 2.9185126190453294\n"
     ]
    },
    {
     "data": {
      "application/vnd.jupyter.widget-view+json": {
       "model_id": "",
       "version_major": 2,
       "version_minor": 0
      },
      "text/plain": [
       "HBox(children=(HTML(value=''), FloatProgress(value=0.0, max=13.0), HTML(value='')))"
      ]
     },
     "metadata": {},
     "output_type": "display_data"
    },
    {
     "data": {
      "application/vnd.jupyter.widget-view+json": {
       "model_id": "",
       "version_major": 2,
       "version_minor": 0
      },
      "text/plain": [
       "HBox(children=(HTML(value=''), FloatProgress(value=0.0, max=12.0), HTML(value='')))"
      ]
     },
     "metadata": {},
     "output_type": "display_data"
    },
    {
     "name": "stdout",
     "output_type": "stream",
     "text": [
      "Training Results - Epoch[152/1000] Loss : 3.077492119240264\n"
     ]
    },
    {
     "data": {
      "application/vnd.jupyter.widget-view+json": {
       "model_id": "",
       "version_major": 2,
       "version_minor": 0
      },
      "text/plain": [
       "HBox(children=(HTML(value=''), FloatProgress(value=0.0, max=13.0), HTML(value='')))"
      ]
     },
     "metadata": {},
     "output_type": "display_data"
    },
    {
     "data": {
      "application/vnd.jupyter.widget-view+json": {
       "model_id": "",
       "version_major": 2,
       "version_minor": 0
      },
      "text/plain": [
       "HBox(children=(HTML(value=''), FloatProgress(value=0.0, max=12.0), HTML(value='')))"
      ]
     },
     "metadata": {},
     "output_type": "display_data"
    },
    {
     "name": "stdout",
     "output_type": "stream",
     "text": [
      "Training Results - Epoch[153/1000] Loss : 3.634660305925093\n"
     ]
    },
    {
     "data": {
      "application/vnd.jupyter.widget-view+json": {
       "model_id": "",
       "version_major": 2,
       "version_minor": 0
      },
      "text/plain": [
       "HBox(children=(HTML(value=''), FloatProgress(value=0.0, max=13.0), HTML(value='')))"
      ]
     },
     "metadata": {},
     "output_type": "display_data"
    },
    {
     "data": {
      "application/vnd.jupyter.widget-view+json": {
       "model_id": "",
       "version_major": 2,
       "version_minor": 0
      },
      "text/plain": [
       "HBox(children=(HTML(value=''), FloatProgress(value=0.0, max=12.0), HTML(value='')))"
      ]
     },
     "metadata": {},
     "output_type": "display_data"
    },
    {
     "name": "stdout",
     "output_type": "stream",
     "text": [
      "Training Results - Epoch[154/1000] Loss : 2.3258554572339953\n"
     ]
    },
    {
     "data": {
      "application/vnd.jupyter.widget-view+json": {
       "model_id": "",
       "version_major": 2,
       "version_minor": 0
      },
      "text/plain": [
       "HBox(children=(HTML(value=''), FloatProgress(value=0.0, max=13.0), HTML(value='')))"
      ]
     },
     "metadata": {},
     "output_type": "display_data"
    },
    {
     "data": {
      "application/vnd.jupyter.widget-view+json": {
       "model_id": "",
       "version_major": 2,
       "version_minor": 0
      },
      "text/plain": [
       "HBox(children=(HTML(value=''), FloatProgress(value=0.0, max=12.0), HTML(value='')))"
      ]
     },
     "metadata": {},
     "output_type": "display_data"
    },
    {
     "name": "stdout",
     "output_type": "stream",
     "text": [
      "Training Results - Epoch[155/1000] Loss : 3.879696703520073\n"
     ]
    },
    {
     "data": {
      "application/vnd.jupyter.widget-view+json": {
       "model_id": "",
       "version_major": 2,
       "version_minor": 0
      },
      "text/plain": [
       "HBox(children=(HTML(value=''), FloatProgress(value=0.0, max=13.0), HTML(value='')))"
      ]
     },
     "metadata": {},
     "output_type": "display_data"
    },
    {
     "data": {
      "application/vnd.jupyter.widget-view+json": {
       "model_id": "",
       "version_major": 2,
       "version_minor": 0
      },
      "text/plain": [
       "HBox(children=(HTML(value=''), FloatProgress(value=0.0, max=12.0), HTML(value='')))"
      ]
     },
     "metadata": {},
     "output_type": "display_data"
    },
    {
     "name": "stdout",
     "output_type": "stream",
     "text": [
      "Training Results - Epoch[156/1000] Loss : 2.9440443111808228\n"
     ]
    },
    {
     "data": {
      "application/vnd.jupyter.widget-view+json": {
       "model_id": "",
       "version_major": 2,
       "version_minor": 0
      },
      "text/plain": [
       "HBox(children=(HTML(value=''), FloatProgress(value=0.0, max=13.0), HTML(value='')))"
      ]
     },
     "metadata": {},
     "output_type": "display_data"
    },
    {
     "data": {
      "application/vnd.jupyter.widget-view+json": {
       "model_id": "",
       "version_major": 2,
       "version_minor": 0
      },
      "text/plain": [
       "HBox(children=(HTML(value=''), FloatProgress(value=0.0, max=12.0), HTML(value='')))"
      ]
     },
     "metadata": {},
     "output_type": "display_data"
    },
    {
     "name": "stdout",
     "output_type": "stream",
     "text": [
      "Training Results - Epoch[157/1000] Loss : 2.7109167609519353\n"
     ]
    },
    {
     "data": {
      "application/vnd.jupyter.widget-view+json": {
       "model_id": "",
       "version_major": 2,
       "version_minor": 0
      },
      "text/plain": [
       "HBox(children=(HTML(value=''), FloatProgress(value=0.0, max=13.0), HTML(value='')))"
      ]
     },
     "metadata": {},
     "output_type": "display_data"
    },
    {
     "data": {
      "application/vnd.jupyter.widget-view+json": {
       "model_id": "",
       "version_major": 2,
       "version_minor": 0
      },
      "text/plain": [
       "HBox(children=(HTML(value=''), FloatProgress(value=0.0, max=12.0), HTML(value='')))"
      ]
     },
     "metadata": {},
     "output_type": "display_data"
    },
    {
     "name": "stdout",
     "output_type": "stream",
     "text": [
      "Training Results - Epoch[158/1000] Loss : 2.4411834541722977\n"
     ]
    },
    {
     "data": {
      "application/vnd.jupyter.widget-view+json": {
       "model_id": "",
       "version_major": 2,
       "version_minor": 0
      },
      "text/plain": [
       "HBox(children=(HTML(value=''), FloatProgress(value=0.0, max=13.0), HTML(value='')))"
      ]
     },
     "metadata": {},
     "output_type": "display_data"
    },
    {
     "data": {
      "application/vnd.jupyter.widget-view+json": {
       "model_id": "",
       "version_major": 2,
       "version_minor": 0
      },
      "text/plain": [
       "HBox(children=(HTML(value=''), FloatProgress(value=0.0, max=12.0), HTML(value='')))"
      ]
     },
     "metadata": {},
     "output_type": "display_data"
    },
    {
     "name": "stdout",
     "output_type": "stream",
     "text": [
      "Training Results - Epoch[159/1000] Loss : 4.140545890553461\n"
     ]
    },
    {
     "data": {
      "application/vnd.jupyter.widget-view+json": {
       "model_id": "",
       "version_major": 2,
       "version_minor": 0
      },
      "text/plain": [
       "HBox(children=(HTML(value=''), FloatProgress(value=0.0, max=13.0), HTML(value='')))"
      ]
     },
     "metadata": {},
     "output_type": "display_data"
    },
    {
     "data": {
      "application/vnd.jupyter.widget-view+json": {
       "model_id": "",
       "version_major": 2,
       "version_minor": 0
      },
      "text/plain": [
       "HBox(children=(HTML(value=''), FloatProgress(value=0.0, max=12.0), HTML(value='')))"
      ]
     },
     "metadata": {},
     "output_type": "display_data"
    },
    {
     "name": "stdout",
     "output_type": "stream",
     "text": [
      "Training Results - Epoch[160/1000] Loss : 4.0251940293887225\n"
     ]
    },
    {
     "data": {
      "application/vnd.jupyter.widget-view+json": {
       "model_id": "",
       "version_major": 2,
       "version_minor": 0
      },
      "text/plain": [
       "HBox(children=(HTML(value=''), FloatProgress(value=0.0, max=13.0), HTML(value='')))"
      ]
     },
     "metadata": {},
     "output_type": "display_data"
    },
    {
     "data": {
      "application/vnd.jupyter.widget-view+json": {
       "model_id": "",
       "version_major": 2,
       "version_minor": 0
      },
      "text/plain": [
       "HBox(children=(HTML(value=''), FloatProgress(value=0.0, max=12.0), HTML(value='')))"
      ]
     },
     "metadata": {},
     "output_type": "display_data"
    },
    {
     "name": "stdout",
     "output_type": "stream",
     "text": [
      "Training Results - Epoch[161/1000] Loss : 3.7211055925251078\n"
     ]
    },
    {
     "data": {
      "application/vnd.jupyter.widget-view+json": {
       "model_id": "",
       "version_major": 2,
       "version_minor": 0
      },
      "text/plain": [
       "HBox(children=(HTML(value=''), FloatProgress(value=0.0, max=13.0), HTML(value='')))"
      ]
     },
     "metadata": {},
     "output_type": "display_data"
    },
    {
     "data": {
      "application/vnd.jupyter.widget-view+json": {
       "model_id": "",
       "version_major": 2,
       "version_minor": 0
      },
      "text/plain": [
       "HBox(children=(HTML(value=''), FloatProgress(value=0.0, max=12.0), HTML(value='')))"
      ]
     },
     "metadata": {},
     "output_type": "display_data"
    },
    {
     "name": "stdout",
     "output_type": "stream",
     "text": [
      "Training Results - Epoch[162/1000] Loss : 3.3768379237633397\n"
     ]
    },
    {
     "data": {
      "application/vnd.jupyter.widget-view+json": {
       "model_id": "",
       "version_major": 2,
       "version_minor": 0
      },
      "text/plain": [
       "HBox(children=(HTML(value=''), FloatProgress(value=0.0, max=13.0), HTML(value='')))"
      ]
     },
     "metadata": {},
     "output_type": "display_data"
    },
    {
     "data": {
      "application/vnd.jupyter.widget-view+json": {
       "model_id": "",
       "version_major": 2,
       "version_minor": 0
      },
      "text/plain": [
       "HBox(children=(HTML(value=''), FloatProgress(value=0.0, max=12.0), HTML(value='')))"
      ]
     },
     "metadata": {},
     "output_type": "display_data"
    },
    {
     "name": "stdout",
     "output_type": "stream",
     "text": [
      "Training Results - Epoch[163/1000] Loss : 2.7718465970311\n"
     ]
    },
    {
     "data": {
      "application/vnd.jupyter.widget-view+json": {
       "model_id": "",
       "version_major": 2,
       "version_minor": 0
      },
      "text/plain": [
       "HBox(children=(HTML(value=''), FloatProgress(value=0.0, max=13.0), HTML(value='')))"
      ]
     },
     "metadata": {},
     "output_type": "display_data"
    },
    {
     "data": {
      "application/vnd.jupyter.widget-view+json": {
       "model_id": "",
       "version_major": 2,
       "version_minor": 0
      },
      "text/plain": [
       "HBox(children=(HTML(value=''), FloatProgress(value=0.0, max=12.0), HTML(value='')))"
      ]
     },
     "metadata": {},
     "output_type": "display_data"
    },
    {
     "name": "stdout",
     "output_type": "stream",
     "text": [
      "Training Results - Epoch[164/1000] Loss : 2.9468731562775665\n"
     ]
    },
    {
     "data": {
      "application/vnd.jupyter.widget-view+json": {
       "model_id": "",
       "version_major": 2,
       "version_minor": 0
      },
      "text/plain": [
       "HBox(children=(HTML(value=''), FloatProgress(value=0.0, max=13.0), HTML(value='')))"
      ]
     },
     "metadata": {},
     "output_type": "display_data"
    },
    {
     "data": {
      "application/vnd.jupyter.widget-view+json": {
       "model_id": "",
       "version_major": 2,
       "version_minor": 0
      },
      "text/plain": [
       "HBox(children=(HTML(value=''), FloatProgress(value=0.0, max=12.0), HTML(value='')))"
      ]
     },
     "metadata": {},
     "output_type": "display_data"
    },
    {
     "name": "stdout",
     "output_type": "stream",
     "text": [
      "Training Results - Epoch[165/1000] Loss : 2.8358137836731663\n"
     ]
    },
    {
     "data": {
      "application/vnd.jupyter.widget-view+json": {
       "model_id": "",
       "version_major": 2,
       "version_minor": 0
      },
      "text/plain": [
       "HBox(children=(HTML(value=''), FloatProgress(value=0.0, max=13.0), HTML(value='')))"
      ]
     },
     "metadata": {},
     "output_type": "display_data"
    },
    {
     "data": {
      "application/vnd.jupyter.widget-view+json": {
       "model_id": "",
       "version_major": 2,
       "version_minor": 0
      },
      "text/plain": [
       "HBox(children=(HTML(value=''), FloatProgress(value=0.0, max=12.0), HTML(value='')))"
      ]
     },
     "metadata": {},
     "output_type": "display_data"
    },
    {
     "name": "stdout",
     "output_type": "stream",
     "text": [
      "Training Results - Epoch[166/1000] Loss : 3.206292527076834\n"
     ]
    },
    {
     "data": {
      "application/vnd.jupyter.widget-view+json": {
       "model_id": "",
       "version_major": 2,
       "version_minor": 0
      },
      "text/plain": [
       "HBox(children=(HTML(value=''), FloatProgress(value=0.0, max=13.0), HTML(value='')))"
      ]
     },
     "metadata": {},
     "output_type": "display_data"
    },
    {
     "data": {
      "application/vnd.jupyter.widget-view+json": {
       "model_id": "",
       "version_major": 2,
       "version_minor": 0
      },
      "text/plain": [
       "HBox(children=(HTML(value=''), FloatProgress(value=0.0, max=12.0), HTML(value='')))"
      ]
     },
     "metadata": {},
     "output_type": "display_data"
    },
    {
     "name": "stdout",
     "output_type": "stream",
     "text": [
      "Training Results - Epoch[167/1000] Loss : 3.5891310204243947\n"
     ]
    },
    {
     "data": {
      "application/vnd.jupyter.widget-view+json": {
       "model_id": "",
       "version_major": 2,
       "version_minor": 0
      },
      "text/plain": [
       "HBox(children=(HTML(value=''), FloatProgress(value=0.0, max=13.0), HTML(value='')))"
      ]
     },
     "metadata": {},
     "output_type": "display_data"
    },
    {
     "data": {
      "application/vnd.jupyter.widget-view+json": {
       "model_id": "",
       "version_major": 2,
       "version_minor": 0
      },
      "text/plain": [
       "HBox(children=(HTML(value=''), FloatProgress(value=0.0, max=12.0), HTML(value='')))"
      ]
     },
     "metadata": {},
     "output_type": "display_data"
    },
    {
     "name": "stdout",
     "output_type": "stream",
     "text": [
      "Training Results - Epoch[168/1000] Loss : 2.6841859565195207\n"
     ]
    },
    {
     "data": {
      "application/vnd.jupyter.widget-view+json": {
       "model_id": "",
       "version_major": 2,
       "version_minor": 0
      },
      "text/plain": [
       "HBox(children=(HTML(value=''), FloatProgress(value=0.0, max=13.0), HTML(value='')))"
      ]
     },
     "metadata": {},
     "output_type": "display_data"
    },
    {
     "data": {
      "application/vnd.jupyter.widget-view+json": {
       "model_id": "",
       "version_major": 2,
       "version_minor": 0
      },
      "text/plain": [
       "HBox(children=(HTML(value=''), FloatProgress(value=0.0, max=12.0), HTML(value='')))"
      ]
     },
     "metadata": {},
     "output_type": "display_data"
    },
    {
     "name": "stdout",
     "output_type": "stream",
     "text": [
      "Training Results - Epoch[169/1000] Loss : 5.350592539567346\n"
     ]
    },
    {
     "data": {
      "application/vnd.jupyter.widget-view+json": {
       "model_id": "",
       "version_major": 2,
       "version_minor": 0
      },
      "text/plain": [
       "HBox(children=(HTML(value=''), FloatProgress(value=0.0, max=13.0), HTML(value='')))"
      ]
     },
     "metadata": {},
     "output_type": "display_data"
    },
    {
     "data": {
      "application/vnd.jupyter.widget-view+json": {
       "model_id": "",
       "version_major": 2,
       "version_minor": 0
      },
      "text/plain": [
       "HBox(children=(HTML(value=''), FloatProgress(value=0.0, max=12.0), HTML(value='')))"
      ]
     },
     "metadata": {},
     "output_type": "display_data"
    },
    {
     "name": "stdout",
     "output_type": "stream",
     "text": [
      "Training Results - Epoch[170/1000] Loss : 2.471484770087734\n"
     ]
    },
    {
     "data": {
      "application/vnd.jupyter.widget-view+json": {
       "model_id": "",
       "version_major": 2,
       "version_minor": 0
      },
      "text/plain": [
       "HBox(children=(HTML(value=''), FloatProgress(value=0.0, max=13.0), HTML(value='')))"
      ]
     },
     "metadata": {},
     "output_type": "display_data"
    },
    {
     "data": {
      "application/vnd.jupyter.widget-view+json": {
       "model_id": "",
       "version_major": 2,
       "version_minor": 0
      },
      "text/plain": [
       "HBox(children=(HTML(value=''), FloatProgress(value=0.0, max=12.0), HTML(value='')))"
      ]
     },
     "metadata": {},
     "output_type": "display_data"
    },
    {
     "name": "stdout",
     "output_type": "stream",
     "text": [
      "Training Results - Epoch[171/1000] Loss : 2.583618419259885\n"
     ]
    },
    {
     "data": {
      "application/vnd.jupyter.widget-view+json": {
       "model_id": "",
       "version_major": 2,
       "version_minor": 0
      },
      "text/plain": [
       "HBox(children=(HTML(value=''), FloatProgress(value=0.0, max=13.0), HTML(value='')))"
      ]
     },
     "metadata": {},
     "output_type": "display_data"
    },
    {
     "data": {
      "application/vnd.jupyter.widget-view+json": {
       "model_id": "",
       "version_major": 2,
       "version_minor": 0
      },
      "text/plain": [
       "HBox(children=(HTML(value=''), FloatProgress(value=0.0, max=12.0), HTML(value='')))"
      ]
     },
     "metadata": {},
     "output_type": "display_data"
    },
    {
     "name": "stdout",
     "output_type": "stream",
     "text": [
      "Training Results - Epoch[172/1000] Loss : 4.776999915042811\n"
     ]
    },
    {
     "data": {
      "application/vnd.jupyter.widget-view+json": {
       "model_id": "",
       "version_major": 2,
       "version_minor": 0
      },
      "text/plain": [
       "HBox(children=(HTML(value=''), FloatProgress(value=0.0, max=13.0), HTML(value='')))"
      ]
     },
     "metadata": {},
     "output_type": "display_data"
    },
    {
     "data": {
      "application/vnd.jupyter.widget-view+json": {
       "model_id": "",
       "version_major": 2,
       "version_minor": 0
      },
      "text/plain": [
       "HBox(children=(HTML(value=''), FloatProgress(value=0.0, max=12.0), HTML(value='')))"
      ]
     },
     "metadata": {},
     "output_type": "display_data"
    },
    {
     "name": "stdout",
     "output_type": "stream",
     "text": [
      "Training Results - Epoch[173/1000] Loss : 2.695040462540707\n"
     ]
    },
    {
     "data": {
      "application/vnd.jupyter.widget-view+json": {
       "model_id": "",
       "version_major": 2,
       "version_minor": 0
      },
      "text/plain": [
       "HBox(children=(HTML(value=''), FloatProgress(value=0.0, max=13.0), HTML(value='')))"
      ]
     },
     "metadata": {},
     "output_type": "display_data"
    },
    {
     "data": {
      "application/vnd.jupyter.widget-view+json": {
       "model_id": "",
       "version_major": 2,
       "version_minor": 0
      },
      "text/plain": [
       "HBox(children=(HTML(value=''), FloatProgress(value=0.0, max=12.0), HTML(value='')))"
      ]
     },
     "metadata": {},
     "output_type": "display_data"
    },
    {
     "name": "stdout",
     "output_type": "stream",
     "text": [
      "Training Results - Epoch[174/1000] Loss : 4.271348719549734\n"
     ]
    },
    {
     "data": {
      "application/vnd.jupyter.widget-view+json": {
       "model_id": "",
       "version_major": 2,
       "version_minor": 0
      },
      "text/plain": [
       "HBox(children=(HTML(value=''), FloatProgress(value=0.0, max=13.0), HTML(value='')))"
      ]
     },
     "metadata": {},
     "output_type": "display_data"
    },
    {
     "data": {
      "application/vnd.jupyter.widget-view+json": {
       "model_id": "",
       "version_major": 2,
       "version_minor": 0
      },
      "text/plain": [
       "HBox(children=(HTML(value=''), FloatProgress(value=0.0, max=12.0), HTML(value='')))"
      ]
     },
     "metadata": {},
     "output_type": "display_data"
    },
    {
     "name": "stdout",
     "output_type": "stream",
     "text": [
      "Training Results - Epoch[175/1000] Loss : 3.1790145276204615\n"
     ]
    },
    {
     "data": {
      "application/vnd.jupyter.widget-view+json": {
       "model_id": "",
       "version_major": 2,
       "version_minor": 0
      },
      "text/plain": [
       "HBox(children=(HTML(value=''), FloatProgress(value=0.0, max=13.0), HTML(value='')))"
      ]
     },
     "metadata": {},
     "output_type": "display_data"
    },
    {
     "data": {
      "application/vnd.jupyter.widget-view+json": {
       "model_id": "",
       "version_major": 2,
       "version_minor": 0
      },
      "text/plain": [
       "HBox(children=(HTML(value=''), FloatProgress(value=0.0, max=12.0), HTML(value='')))"
      ]
     },
     "metadata": {},
     "output_type": "display_data"
    },
    {
     "name": "stdout",
     "output_type": "stream",
     "text": [
      "Training Results - Epoch[176/1000] Loss : 3.3511782306528675\n"
     ]
    },
    {
     "data": {
      "application/vnd.jupyter.widget-view+json": {
       "model_id": "",
       "version_major": 2,
       "version_minor": 0
      },
      "text/plain": [
       "HBox(children=(HTML(value=''), FloatProgress(value=0.0, max=13.0), HTML(value='')))"
      ]
     },
     "metadata": {},
     "output_type": "display_data"
    },
    {
     "data": {
      "application/vnd.jupyter.widget-view+json": {
       "model_id": "",
       "version_major": 2,
       "version_minor": 0
      },
      "text/plain": [
       "HBox(children=(HTML(value=''), FloatProgress(value=0.0, max=12.0), HTML(value='')))"
      ]
     },
     "metadata": {},
     "output_type": "display_data"
    },
    {
     "name": "stdout",
     "output_type": "stream",
     "text": [
      "Training Results - Epoch[177/1000] Loss : 2.5271533228850234\n"
     ]
    },
    {
     "data": {
      "application/vnd.jupyter.widget-view+json": {
       "model_id": "",
       "version_major": 2,
       "version_minor": 0
      },
      "text/plain": [
       "HBox(children=(HTML(value=''), FloatProgress(value=0.0, max=13.0), HTML(value='')))"
      ]
     },
     "metadata": {},
     "output_type": "display_data"
    },
    {
     "data": {
      "application/vnd.jupyter.widget-view+json": {
       "model_id": "",
       "version_major": 2,
       "version_minor": 0
      },
      "text/plain": [
       "HBox(children=(HTML(value=''), FloatProgress(value=0.0, max=12.0), HTML(value='')))"
      ]
     },
     "metadata": {},
     "output_type": "display_data"
    },
    {
     "name": "stdout",
     "output_type": "stream",
     "text": [
      "Training Results - Epoch[178/1000] Loss : 3.515359234229146\n"
     ]
    },
    {
     "data": {
      "application/vnd.jupyter.widget-view+json": {
       "model_id": "",
       "version_major": 2,
       "version_minor": 0
      },
      "text/plain": [
       "HBox(children=(HTML(value=''), FloatProgress(value=0.0, max=13.0), HTML(value='')))"
      ]
     },
     "metadata": {},
     "output_type": "display_data"
    },
    {
     "data": {
      "application/vnd.jupyter.widget-view+json": {
       "model_id": "",
       "version_major": 2,
       "version_minor": 0
      },
      "text/plain": [
       "HBox(children=(HTML(value=''), FloatProgress(value=0.0, max=12.0), HTML(value='')))"
      ]
     },
     "metadata": {},
     "output_type": "display_data"
    },
    {
     "name": "stdout",
     "output_type": "stream",
     "text": [
      "Training Results - Epoch[179/1000] Loss : 2.5759750215626354\n"
     ]
    },
    {
     "data": {
      "application/vnd.jupyter.widget-view+json": {
       "model_id": "",
       "version_major": 2,
       "version_minor": 0
      },
      "text/plain": [
       "HBox(children=(HTML(value=''), FloatProgress(value=0.0, max=13.0), HTML(value='')))"
      ]
     },
     "metadata": {},
     "output_type": "display_data"
    },
    {
     "data": {
      "application/vnd.jupyter.widget-view+json": {
       "model_id": "",
       "version_major": 2,
       "version_minor": 0
      },
      "text/plain": [
       "HBox(children=(HTML(value=''), FloatProgress(value=0.0, max=12.0), HTML(value='')))"
      ]
     },
     "metadata": {},
     "output_type": "display_data"
    },
    {
     "name": "stdout",
     "output_type": "stream",
     "text": [
      "Training Results - Epoch[180/1000] Loss : 1.7981001639099505\n"
     ]
    },
    {
     "data": {
      "application/vnd.jupyter.widget-view+json": {
       "model_id": "",
       "version_major": 2,
       "version_minor": 0
      },
      "text/plain": [
       "HBox(children=(HTML(value=''), FloatProgress(value=0.0, max=13.0), HTML(value='')))"
      ]
     },
     "metadata": {},
     "output_type": "display_data"
    },
    {
     "data": {
      "application/vnd.jupyter.widget-view+json": {
       "model_id": "",
       "version_major": 2,
       "version_minor": 0
      },
      "text/plain": [
       "HBox(children=(HTML(value=''), FloatProgress(value=0.0, max=12.0), HTML(value='')))"
      ]
     },
     "metadata": {},
     "output_type": "display_data"
    },
    {
     "name": "stdout",
     "output_type": "stream",
     "text": [
      "Training Results - Epoch[181/1000] Loss : 1.8525361743699562\n"
     ]
    },
    {
     "data": {
      "application/vnd.jupyter.widget-view+json": {
       "model_id": "",
       "version_major": 2,
       "version_minor": 0
      },
      "text/plain": [
       "HBox(children=(HTML(value=''), FloatProgress(value=0.0, max=13.0), HTML(value='')))"
      ]
     },
     "metadata": {},
     "output_type": "display_data"
    },
    {
     "data": {
      "application/vnd.jupyter.widget-view+json": {
       "model_id": "",
       "version_major": 2,
       "version_minor": 0
      },
      "text/plain": [
       "HBox(children=(HTML(value=''), FloatProgress(value=0.0, max=12.0), HTML(value='')))"
      ]
     },
     "metadata": {},
     "output_type": "display_data"
    },
    {
     "name": "stdout",
     "output_type": "stream",
     "text": [
      "Training Results - Epoch[182/1000] Loss : 2.4073963626191652\n"
     ]
    },
    {
     "data": {
      "application/vnd.jupyter.widget-view+json": {
       "model_id": "",
       "version_major": 2,
       "version_minor": 0
      },
      "text/plain": [
       "HBox(children=(HTML(value=''), FloatProgress(value=0.0, max=13.0), HTML(value='')))"
      ]
     },
     "metadata": {},
     "output_type": "display_data"
    },
    {
     "data": {
      "application/vnd.jupyter.widget-view+json": {
       "model_id": "",
       "version_major": 2,
       "version_minor": 0
      },
      "text/plain": [
       "HBox(children=(HTML(value=''), FloatProgress(value=0.0, max=12.0), HTML(value='')))"
      ]
     },
     "metadata": {},
     "output_type": "display_data"
    },
    {
     "name": "stdout",
     "output_type": "stream",
     "text": [
      "Training Results - Epoch[183/1000] Loss : 3.2690947710717624\n"
     ]
    },
    {
     "data": {
      "application/vnd.jupyter.widget-view+json": {
       "model_id": "",
       "version_major": 2,
       "version_minor": 0
      },
      "text/plain": [
       "HBox(children=(HTML(value=''), FloatProgress(value=0.0, max=13.0), HTML(value='')))"
      ]
     },
     "metadata": {},
     "output_type": "display_data"
    },
    {
     "data": {
      "application/vnd.jupyter.widget-view+json": {
       "model_id": "",
       "version_major": 2,
       "version_minor": 0
      },
      "text/plain": [
       "HBox(children=(HTML(value=''), FloatProgress(value=0.0, max=12.0), HTML(value='')))"
      ]
     },
     "metadata": {},
     "output_type": "display_data"
    },
    {
     "name": "stdout",
     "output_type": "stream",
     "text": [
      "Training Results - Epoch[184/1000] Loss : 2.7509041477847846\n"
     ]
    },
    {
     "data": {
      "application/vnd.jupyter.widget-view+json": {
       "model_id": "",
       "version_major": 2,
       "version_minor": 0
      },
      "text/plain": [
       "HBox(children=(HTML(value=''), FloatProgress(value=0.0, max=13.0), HTML(value='')))"
      ]
     },
     "metadata": {},
     "output_type": "display_data"
    },
    {
     "data": {
      "application/vnd.jupyter.widget-view+json": {
       "model_id": "",
       "version_major": 2,
       "version_minor": 0
      },
      "text/plain": [
       "HBox(children=(HTML(value=''), FloatProgress(value=0.0, max=12.0), HTML(value='')))"
      ]
     },
     "metadata": {},
     "output_type": "display_data"
    },
    {
     "name": "stdout",
     "output_type": "stream",
     "text": [
      "Training Results - Epoch[185/1000] Loss : 2.9729225486050295\n"
     ]
    },
    {
     "data": {
      "application/vnd.jupyter.widget-view+json": {
       "model_id": "",
       "version_major": 2,
       "version_minor": 0
      },
      "text/plain": [
       "HBox(children=(HTML(value=''), FloatProgress(value=0.0, max=13.0), HTML(value='')))"
      ]
     },
     "metadata": {},
     "output_type": "display_data"
    },
    {
     "data": {
      "application/vnd.jupyter.widget-view+json": {
       "model_id": "",
       "version_major": 2,
       "version_minor": 0
      },
      "text/plain": [
       "HBox(children=(HTML(value=''), FloatProgress(value=0.0, max=12.0), HTML(value='')))"
      ]
     },
     "metadata": {},
     "output_type": "display_data"
    },
    {
     "name": "stdout",
     "output_type": "stream",
     "text": [
      "Training Results - Epoch[186/1000] Loss : 3.172013852932983\n"
     ]
    },
    {
     "data": {
      "application/vnd.jupyter.widget-view+json": {
       "model_id": "",
       "version_major": 2,
       "version_minor": 0
      },
      "text/plain": [
       "HBox(children=(HTML(value=''), FloatProgress(value=0.0, max=13.0), HTML(value='')))"
      ]
     },
     "metadata": {},
     "output_type": "display_data"
    },
    {
     "data": {
      "application/vnd.jupyter.widget-view+json": {
       "model_id": "",
       "version_major": 2,
       "version_minor": 0
      },
      "text/plain": [
       "HBox(children=(HTML(value=''), FloatProgress(value=0.0, max=12.0), HTML(value='')))"
      ]
     },
     "metadata": {},
     "output_type": "display_data"
    },
    {
     "name": "stdout",
     "output_type": "stream",
     "text": [
      "Training Results - Epoch[187/1000] Loss : 2.103237296687693\n"
     ]
    },
    {
     "data": {
      "application/vnd.jupyter.widget-view+json": {
       "model_id": "",
       "version_major": 2,
       "version_minor": 0
      },
      "text/plain": [
       "HBox(children=(HTML(value=''), FloatProgress(value=0.0, max=13.0), HTML(value='')))"
      ]
     },
     "metadata": {},
     "output_type": "display_data"
    },
    {
     "data": {
      "application/vnd.jupyter.widget-view+json": {
       "model_id": "",
       "version_major": 2,
       "version_minor": 0
      },
      "text/plain": [
       "HBox(children=(HTML(value=''), FloatProgress(value=0.0, max=12.0), HTML(value='')))"
      ]
     },
     "metadata": {},
     "output_type": "display_data"
    },
    {
     "name": "stdout",
     "output_type": "stream",
     "text": [
      "Training Results - Epoch[188/1000] Loss : 3.1877488336893163\n"
     ]
    },
    {
     "data": {
      "application/vnd.jupyter.widget-view+json": {
       "model_id": "",
       "version_major": 2,
       "version_minor": 0
      },
      "text/plain": [
       "HBox(children=(HTML(value=''), FloatProgress(value=0.0, max=13.0), HTML(value='')))"
      ]
     },
     "metadata": {},
     "output_type": "display_data"
    },
    {
     "data": {
      "application/vnd.jupyter.widget-view+json": {
       "model_id": "",
       "version_major": 2,
       "version_minor": 0
      },
      "text/plain": [
       "HBox(children=(HTML(value=''), FloatProgress(value=0.0, max=12.0), HTML(value='')))"
      ]
     },
     "metadata": {},
     "output_type": "display_data"
    },
    {
     "name": "stdout",
     "output_type": "stream",
     "text": [
      "Training Results - Epoch[189/1000] Loss : 3.5482148479545677\n"
     ]
    },
    {
     "data": {
      "application/vnd.jupyter.widget-view+json": {
       "model_id": "",
       "version_major": 2,
       "version_minor": 0
      },
      "text/plain": [
       "HBox(children=(HTML(value=''), FloatProgress(value=0.0, max=13.0), HTML(value='')))"
      ]
     },
     "metadata": {},
     "output_type": "display_data"
    },
    {
     "data": {
      "application/vnd.jupyter.widget-view+json": {
       "model_id": "",
       "version_major": 2,
       "version_minor": 0
      },
      "text/plain": [
       "HBox(children=(HTML(value=''), FloatProgress(value=0.0, max=12.0), HTML(value='')))"
      ]
     },
     "metadata": {},
     "output_type": "display_data"
    },
    {
     "name": "stdout",
     "output_type": "stream",
     "text": [
      "Training Results - Epoch[190/1000] Loss : 3.428541417083515\n"
     ]
    },
    {
     "data": {
      "application/vnd.jupyter.widget-view+json": {
       "model_id": "",
       "version_major": 2,
       "version_minor": 0
      },
      "text/plain": [
       "HBox(children=(HTML(value=''), FloatProgress(value=0.0, max=13.0), HTML(value='')))"
      ]
     },
     "metadata": {},
     "output_type": "display_data"
    },
    {
     "data": {
      "application/vnd.jupyter.widget-view+json": {
       "model_id": "",
       "version_major": 2,
       "version_minor": 0
      },
      "text/plain": [
       "HBox(children=(HTML(value=''), FloatProgress(value=0.0, max=12.0), HTML(value='')))"
      ]
     },
     "metadata": {},
     "output_type": "display_data"
    },
    {
     "name": "stdout",
     "output_type": "stream",
     "text": [
      "Training Results - Epoch[191/1000] Loss : 3.2926850520113535\n"
     ]
    },
    {
     "data": {
      "application/vnd.jupyter.widget-view+json": {
       "model_id": "",
       "version_major": 2,
       "version_minor": 0
      },
      "text/plain": [
       "HBox(children=(HTML(value=''), FloatProgress(value=0.0, max=13.0), HTML(value='')))"
      ]
     },
     "metadata": {},
     "output_type": "display_data"
    },
    {
     "data": {
      "application/vnd.jupyter.widget-view+json": {
       "model_id": "",
       "version_major": 2,
       "version_minor": 0
      },
      "text/plain": [
       "HBox(children=(HTML(value=''), FloatProgress(value=0.0, max=12.0), HTML(value='')))"
      ]
     },
     "metadata": {},
     "output_type": "display_data"
    },
    {
     "name": "stdout",
     "output_type": "stream",
     "text": [
      "Training Results - Epoch[192/1000] Loss : 3.9995387103437534\n"
     ]
    },
    {
     "data": {
      "application/vnd.jupyter.widget-view+json": {
       "model_id": "",
       "version_major": 2,
       "version_minor": 0
      },
      "text/plain": [
       "HBox(children=(HTML(value=''), FloatProgress(value=0.0, max=13.0), HTML(value='')))"
      ]
     },
     "metadata": {},
     "output_type": "display_data"
    },
    {
     "data": {
      "application/vnd.jupyter.widget-view+json": {
       "model_id": "",
       "version_major": 2,
       "version_minor": 0
      },
      "text/plain": [
       "HBox(children=(HTML(value=''), FloatProgress(value=0.0, max=12.0), HTML(value='')))"
      ]
     },
     "metadata": {},
     "output_type": "display_data"
    },
    {
     "name": "stdout",
     "output_type": "stream",
     "text": [
      "Training Results - Epoch[193/1000] Loss : 3.094947875683204\n"
     ]
    },
    {
     "data": {
      "application/vnd.jupyter.widget-view+json": {
       "model_id": "",
       "version_major": 2,
       "version_minor": 0
      },
      "text/plain": [
       "HBox(children=(HTML(value=''), FloatProgress(value=0.0, max=13.0), HTML(value='')))"
      ]
     },
     "metadata": {},
     "output_type": "display_data"
    },
    {
     "data": {
      "application/vnd.jupyter.widget-view+json": {
       "model_id": "",
       "version_major": 2,
       "version_minor": 0
      },
      "text/plain": [
       "HBox(children=(HTML(value=''), FloatProgress(value=0.0, max=12.0), HTML(value='')))"
      ]
     },
     "metadata": {},
     "output_type": "display_data"
    },
    {
     "name": "stdout",
     "output_type": "stream",
     "text": [
      "Training Results - Epoch[194/1000] Loss : 3.3766037304485303\n"
     ]
    },
    {
     "data": {
      "application/vnd.jupyter.widget-view+json": {
       "model_id": "",
       "version_major": 2,
       "version_minor": 0
      },
      "text/plain": [
       "HBox(children=(HTML(value=''), FloatProgress(value=0.0, max=13.0), HTML(value='')))"
      ]
     },
     "metadata": {},
     "output_type": "display_data"
    },
    {
     "data": {
      "application/vnd.jupyter.widget-view+json": {
       "model_id": "",
       "version_major": 2,
       "version_minor": 0
      },
      "text/plain": [
       "HBox(children=(HTML(value=''), FloatProgress(value=0.0, max=12.0), HTML(value='')))"
      ]
     },
     "metadata": {},
     "output_type": "display_data"
    },
    {
     "name": "stdout",
     "output_type": "stream",
     "text": [
      "Training Results - Epoch[195/1000] Loss : 3.158524586358693\n"
     ]
    },
    {
     "data": {
      "application/vnd.jupyter.widget-view+json": {
       "model_id": "",
       "version_major": 2,
       "version_minor": 0
      },
      "text/plain": [
       "HBox(children=(HTML(value=''), FloatProgress(value=0.0, max=13.0), HTML(value='')))"
      ]
     },
     "metadata": {},
     "output_type": "display_data"
    },
    {
     "data": {
      "application/vnd.jupyter.widget-view+json": {
       "model_id": "",
       "version_major": 2,
       "version_minor": 0
      },
      "text/plain": [
       "HBox(children=(HTML(value=''), FloatProgress(value=0.0, max=12.0), HTML(value='')))"
      ]
     },
     "metadata": {},
     "output_type": "display_data"
    },
    {
     "name": "stdout",
     "output_type": "stream",
     "text": [
      "Training Results - Epoch[196/1000] Loss : 2.426663663523149\n"
     ]
    },
    {
     "data": {
      "application/vnd.jupyter.widget-view+json": {
       "model_id": "",
       "version_major": 2,
       "version_minor": 0
      },
      "text/plain": [
       "HBox(children=(HTML(value=''), FloatProgress(value=0.0, max=13.0), HTML(value='')))"
      ]
     },
     "metadata": {},
     "output_type": "display_data"
    },
    {
     "data": {
      "application/vnd.jupyter.widget-view+json": {
       "model_id": "",
       "version_major": 2,
       "version_minor": 0
      },
      "text/plain": [
       "HBox(children=(HTML(value=''), FloatProgress(value=0.0, max=12.0), HTML(value='')))"
      ]
     },
     "metadata": {},
     "output_type": "display_data"
    },
    {
     "name": "stdout",
     "output_type": "stream",
     "text": [
      "Training Results - Epoch[197/1000] Loss : 2.8153031363436583\n"
     ]
    },
    {
     "data": {
      "application/vnd.jupyter.widget-view+json": {
       "model_id": "",
       "version_major": 2,
       "version_minor": 0
      },
      "text/plain": [
       "HBox(children=(HTML(value=''), FloatProgress(value=0.0, max=13.0), HTML(value='')))"
      ]
     },
     "metadata": {},
     "output_type": "display_data"
    },
    {
     "data": {
      "application/vnd.jupyter.widget-view+json": {
       "model_id": "",
       "version_major": 2,
       "version_minor": 0
      },
      "text/plain": [
       "HBox(children=(HTML(value=''), FloatProgress(value=0.0, max=12.0), HTML(value='')))"
      ]
     },
     "metadata": {},
     "output_type": "display_data"
    },
    {
     "name": "stdout",
     "output_type": "stream",
     "text": [
      "Training Results - Epoch[198/1000] Loss : 3.0531232769482233\n"
     ]
    },
    {
     "data": {
      "application/vnd.jupyter.widget-view+json": {
       "model_id": "",
       "version_major": 2,
       "version_minor": 0
      },
      "text/plain": [
       "HBox(children=(HTML(value=''), FloatProgress(value=0.0, max=13.0), HTML(value='')))"
      ]
     },
     "metadata": {},
     "output_type": "display_data"
    },
    {
     "data": {
      "application/vnd.jupyter.widget-view+json": {
       "model_id": "",
       "version_major": 2,
       "version_minor": 0
      },
      "text/plain": [
       "HBox(children=(HTML(value=''), FloatProgress(value=0.0, max=12.0), HTML(value='')))"
      ]
     },
     "metadata": {},
     "output_type": "display_data"
    },
    {
     "name": "stdout",
     "output_type": "stream",
     "text": [
      "Training Results - Epoch[199/1000] Loss : 2.9693750592802037\n"
     ]
    },
    {
     "data": {
      "application/vnd.jupyter.widget-view+json": {
       "model_id": "",
       "version_major": 2,
       "version_minor": 0
      },
      "text/plain": [
       "HBox(children=(HTML(value=''), FloatProgress(value=0.0, max=13.0), HTML(value='')))"
      ]
     },
     "metadata": {},
     "output_type": "display_data"
    },
    {
     "data": {
      "application/vnd.jupyter.widget-view+json": {
       "model_id": "",
       "version_major": 2,
       "version_minor": 0
      },
      "text/plain": [
       "HBox(children=(HTML(value=''), FloatProgress(value=0.0, max=12.0), HTML(value='')))"
      ]
     },
     "metadata": {},
     "output_type": "display_data"
    },
    {
     "name": "stdout",
     "output_type": "stream",
     "text": [
      "Training Results - Epoch[200/1000] Loss : 2.612624681638463\n"
     ]
    },
    {
     "data": {
      "application/vnd.jupyter.widget-view+json": {
       "model_id": "",
       "version_major": 2,
       "version_minor": 0
      },
      "text/plain": [
       "HBox(children=(HTML(value=''), FloatProgress(value=0.0, max=13.0), HTML(value='')))"
      ]
     },
     "metadata": {},
     "output_type": "display_data"
    },
    {
     "data": {
      "application/vnd.jupyter.widget-view+json": {
       "model_id": "",
       "version_major": 2,
       "version_minor": 0
      },
      "text/plain": [
       "HBox(children=(HTML(value=''), FloatProgress(value=0.0, max=12.0), HTML(value='')))"
      ]
     },
     "metadata": {},
     "output_type": "display_data"
    },
    {
     "name": "stdout",
     "output_type": "stream",
     "text": [
      "Training Results - Epoch[201/1000] Loss : 2.9740082593047066\n"
     ]
    },
    {
     "data": {
      "application/vnd.jupyter.widget-view+json": {
       "model_id": "",
       "version_major": 2,
       "version_minor": 0
      },
      "text/plain": [
       "HBox(children=(HTML(value=''), FloatProgress(value=0.0, max=13.0), HTML(value='')))"
      ]
     },
     "metadata": {},
     "output_type": "display_data"
    },
    {
     "data": {
      "application/vnd.jupyter.widget-view+json": {
       "model_id": "",
       "version_major": 2,
       "version_minor": 0
      },
      "text/plain": [
       "HBox(children=(HTML(value=''), FloatProgress(value=0.0, max=12.0), HTML(value='')))"
      ]
     },
     "metadata": {},
     "output_type": "display_data"
    },
    {
     "name": "stdout",
     "output_type": "stream",
     "text": [
      "Training Results - Epoch[202/1000] Loss : 2.5695261563925014\n"
     ]
    },
    {
     "data": {
      "application/vnd.jupyter.widget-view+json": {
       "model_id": "",
       "version_major": 2,
       "version_minor": 0
      },
      "text/plain": [
       "HBox(children=(HTML(value=''), FloatProgress(value=0.0, max=13.0), HTML(value='')))"
      ]
     },
     "metadata": {},
     "output_type": "display_data"
    },
    {
     "data": {
      "application/vnd.jupyter.widget-view+json": {
       "model_id": "",
       "version_major": 2,
       "version_minor": 0
      },
      "text/plain": [
       "HBox(children=(HTML(value=''), FloatProgress(value=0.0, max=12.0), HTML(value='')))"
      ]
     },
     "metadata": {},
     "output_type": "display_data"
    },
    {
     "name": "stdout",
     "output_type": "stream",
     "text": [
      "Training Results - Epoch[203/1000] Loss : 2.445292326958114\n"
     ]
    },
    {
     "data": {
      "application/vnd.jupyter.widget-view+json": {
       "model_id": "",
       "version_major": 2,
       "version_minor": 0
      },
      "text/plain": [
       "HBox(children=(HTML(value=''), FloatProgress(value=0.0, max=13.0), HTML(value='')))"
      ]
     },
     "metadata": {},
     "output_type": "display_data"
    },
    {
     "data": {
      "application/vnd.jupyter.widget-view+json": {
       "model_id": "",
       "version_major": 2,
       "version_minor": 0
      },
      "text/plain": [
       "HBox(children=(HTML(value=''), FloatProgress(value=0.0, max=12.0), HTML(value='')))"
      ]
     },
     "metadata": {},
     "output_type": "display_data"
    },
    {
     "name": "stdout",
     "output_type": "stream",
     "text": [
      "Training Results - Epoch[204/1000] Loss : 2.6893865747493604\n"
     ]
    },
    {
     "data": {
      "application/vnd.jupyter.widget-view+json": {
       "model_id": "",
       "version_major": 2,
       "version_minor": 0
      },
      "text/plain": [
       "HBox(children=(HTML(value=''), FloatProgress(value=0.0, max=13.0), HTML(value='')))"
      ]
     },
     "metadata": {},
     "output_type": "display_data"
    },
    {
     "data": {
      "application/vnd.jupyter.widget-view+json": {
       "model_id": "",
       "version_major": 2,
       "version_minor": 0
      },
      "text/plain": [
       "HBox(children=(HTML(value=''), FloatProgress(value=0.0, max=12.0), HTML(value='')))"
      ]
     },
     "metadata": {},
     "output_type": "display_data"
    },
    {
     "name": "stdout",
     "output_type": "stream",
     "text": [
      "Training Results - Epoch[205/1000] Loss : 3.062376933735465\n"
     ]
    },
    {
     "data": {
      "application/vnd.jupyter.widget-view+json": {
       "model_id": "",
       "version_major": 2,
       "version_minor": 0
      },
      "text/plain": [
       "HBox(children=(HTML(value=''), FloatProgress(value=0.0, max=13.0), HTML(value='')))"
      ]
     },
     "metadata": {},
     "output_type": "display_data"
    },
    {
     "data": {
      "application/vnd.jupyter.widget-view+json": {
       "model_id": "",
       "version_major": 2,
       "version_minor": 0
      },
      "text/plain": [
       "HBox(children=(HTML(value=''), FloatProgress(value=0.0, max=12.0), HTML(value='')))"
      ]
     },
     "metadata": {},
     "output_type": "display_data"
    },
    {
     "name": "stdout",
     "output_type": "stream",
     "text": [
      "Training Results - Epoch[206/1000] Loss : 3.1434063983140184\n"
     ]
    },
    {
     "data": {
      "application/vnd.jupyter.widget-view+json": {
       "model_id": "",
       "version_major": 2,
       "version_minor": 0
      },
      "text/plain": [
       "HBox(children=(HTML(value=''), FloatProgress(value=0.0, max=13.0), HTML(value='')))"
      ]
     },
     "metadata": {},
     "output_type": "display_data"
    },
    {
     "data": {
      "application/vnd.jupyter.widget-view+json": {
       "model_id": "",
       "version_major": 2,
       "version_minor": 0
      },
      "text/plain": [
       "HBox(children=(HTML(value=''), FloatProgress(value=0.0, max=12.0), HTML(value='')))"
      ]
     },
     "metadata": {},
     "output_type": "display_data"
    },
    {
     "name": "stdout",
     "output_type": "stream",
     "text": [
      "Training Results - Epoch[207/1000] Loss : 2.550354647476388\n"
     ]
    },
    {
     "data": {
      "application/vnd.jupyter.widget-view+json": {
       "model_id": "",
       "version_major": 2,
       "version_minor": 0
      },
      "text/plain": [
       "HBox(children=(HTML(value=''), FloatProgress(value=0.0, max=13.0), HTML(value='')))"
      ]
     },
     "metadata": {},
     "output_type": "display_data"
    },
    {
     "data": {
      "application/vnd.jupyter.widget-view+json": {
       "model_id": "",
       "version_major": 2,
       "version_minor": 0
      },
      "text/plain": [
       "HBox(children=(HTML(value=''), FloatProgress(value=0.0, max=12.0), HTML(value='')))"
      ]
     },
     "metadata": {},
     "output_type": "display_data"
    },
    {
     "name": "stdout",
     "output_type": "stream",
     "text": [
      "Training Results - Epoch[208/1000] Loss : 2.2776848786516433\n"
     ]
    },
    {
     "data": {
      "application/vnd.jupyter.widget-view+json": {
       "model_id": "",
       "version_major": 2,
       "version_minor": 0
      },
      "text/plain": [
       "HBox(children=(HTML(value=''), FloatProgress(value=0.0, max=13.0), HTML(value='')))"
      ]
     },
     "metadata": {},
     "output_type": "display_data"
    },
    {
     "data": {
      "application/vnd.jupyter.widget-view+json": {
       "model_id": "",
       "version_major": 2,
       "version_minor": 0
      },
      "text/plain": [
       "HBox(children=(HTML(value=''), FloatProgress(value=0.0, max=12.0), HTML(value='')))"
      ]
     },
     "metadata": {},
     "output_type": "display_data"
    },
    {
     "name": "stdout",
     "output_type": "stream",
     "text": [
      "Training Results - Epoch[209/1000] Loss : 2.8088065377221456\n"
     ]
    },
    {
     "data": {
      "application/vnd.jupyter.widget-view+json": {
       "model_id": "",
       "version_major": 2,
       "version_minor": 0
      },
      "text/plain": [
       "HBox(children=(HTML(value=''), FloatProgress(value=0.0, max=13.0), HTML(value='')))"
      ]
     },
     "metadata": {},
     "output_type": "display_data"
    },
    {
     "data": {
      "application/vnd.jupyter.widget-view+json": {
       "model_id": "",
       "version_major": 2,
       "version_minor": 0
      },
      "text/plain": [
       "HBox(children=(HTML(value=''), FloatProgress(value=0.0, max=12.0), HTML(value='')))"
      ]
     },
     "metadata": {},
     "output_type": "display_data"
    },
    {
     "name": "stdout",
     "output_type": "stream",
     "text": [
      "Training Results - Epoch[210/1000] Loss : 3.146970292511664\n"
     ]
    },
    {
     "data": {
      "application/vnd.jupyter.widget-view+json": {
       "model_id": "",
       "version_major": 2,
       "version_minor": 0
      },
      "text/plain": [
       "HBox(children=(HTML(value=''), FloatProgress(value=0.0, max=13.0), HTML(value='')))"
      ]
     },
     "metadata": {},
     "output_type": "display_data"
    },
    {
     "data": {
      "application/vnd.jupyter.widget-view+json": {
       "model_id": "",
       "version_major": 2,
       "version_minor": 0
      },
      "text/plain": [
       "HBox(children=(HTML(value=''), FloatProgress(value=0.0, max=12.0), HTML(value='')))"
      ]
     },
     "metadata": {},
     "output_type": "display_data"
    },
    {
     "name": "stdout",
     "output_type": "stream",
     "text": [
      "Training Results - Epoch[211/1000] Loss : 2.8417559123997442\n"
     ]
    },
    {
     "data": {
      "application/vnd.jupyter.widget-view+json": {
       "model_id": "",
       "version_major": 2,
       "version_minor": 0
      },
      "text/plain": [
       "HBox(children=(HTML(value=''), FloatProgress(value=0.0, max=13.0), HTML(value='')))"
      ]
     },
     "metadata": {},
     "output_type": "display_data"
    },
    {
     "data": {
      "application/vnd.jupyter.widget-view+json": {
       "model_id": "",
       "version_major": 2,
       "version_minor": 0
      },
      "text/plain": [
       "HBox(children=(HTML(value=''), FloatProgress(value=0.0, max=12.0), HTML(value='')))"
      ]
     },
     "metadata": {},
     "output_type": "display_data"
    },
    {
     "name": "stdout",
     "output_type": "stream",
     "text": [
      "Training Results - Epoch[212/1000] Loss : 3.021318288509872\n"
     ]
    },
    {
     "data": {
      "application/vnd.jupyter.widget-view+json": {
       "model_id": "",
       "version_major": 2,
       "version_minor": 0
      },
      "text/plain": [
       "HBox(children=(HTML(value=''), FloatProgress(value=0.0, max=13.0), HTML(value='')))"
      ]
     },
     "metadata": {},
     "output_type": "display_data"
    },
    {
     "data": {
      "application/vnd.jupyter.widget-view+json": {
       "model_id": "",
       "version_major": 2,
       "version_minor": 0
      },
      "text/plain": [
       "HBox(children=(HTML(value=''), FloatProgress(value=0.0, max=12.0), HTML(value='')))"
      ]
     },
     "metadata": {},
     "output_type": "display_data"
    },
    {
     "name": "stdout",
     "output_type": "stream",
     "text": [
      "Training Results - Epoch[213/1000] Loss : 2.4632583280181284\n"
     ]
    },
    {
     "data": {
      "application/vnd.jupyter.widget-view+json": {
       "model_id": "",
       "version_major": 2,
       "version_minor": 0
      },
      "text/plain": [
       "HBox(children=(HTML(value=''), FloatProgress(value=0.0, max=13.0), HTML(value='')))"
      ]
     },
     "metadata": {},
     "output_type": "display_data"
    },
    {
     "data": {
      "application/vnd.jupyter.widget-view+json": {
       "model_id": "",
       "version_major": 2,
       "version_minor": 0
      },
      "text/plain": [
       "HBox(children=(HTML(value=''), FloatProgress(value=0.0, max=12.0), HTML(value='')))"
      ]
     },
     "metadata": {},
     "output_type": "display_data"
    },
    {
     "name": "stdout",
     "output_type": "stream",
     "text": [
      "Training Results - Epoch[214/1000] Loss : 3.519630247731035\n"
     ]
    },
    {
     "data": {
      "application/vnd.jupyter.widget-view+json": {
       "model_id": "",
       "version_major": 2,
       "version_minor": 0
      },
      "text/plain": [
       "HBox(children=(HTML(value=''), FloatProgress(value=0.0, max=13.0), HTML(value='')))"
      ]
     },
     "metadata": {},
     "output_type": "display_data"
    },
    {
     "data": {
      "application/vnd.jupyter.widget-view+json": {
       "model_id": "",
       "version_major": 2,
       "version_minor": 0
      },
      "text/plain": [
       "HBox(children=(HTML(value=''), FloatProgress(value=0.0, max=12.0), HTML(value='')))"
      ]
     },
     "metadata": {},
     "output_type": "display_data"
    },
    {
     "name": "stdout",
     "output_type": "stream",
     "text": [
      "Training Results - Epoch[215/1000] Loss : 3.3219114432713757\n"
     ]
    },
    {
     "data": {
      "application/vnd.jupyter.widget-view+json": {
       "model_id": "",
       "version_major": 2,
       "version_minor": 0
      },
      "text/plain": [
       "HBox(children=(HTML(value=''), FloatProgress(value=0.0, max=13.0), HTML(value='')))"
      ]
     },
     "metadata": {},
     "output_type": "display_data"
    },
    {
     "data": {
      "application/vnd.jupyter.widget-view+json": {
       "model_id": "",
       "version_major": 2,
       "version_minor": 0
      },
      "text/plain": [
       "HBox(children=(HTML(value=''), FloatProgress(value=0.0, max=12.0), HTML(value='')))"
      ]
     },
     "metadata": {},
     "output_type": "display_data"
    },
    {
     "name": "stdout",
     "output_type": "stream",
     "text": [
      "Training Results - Epoch[216/1000] Loss : 3.052866604818969\n"
     ]
    },
    {
     "data": {
      "application/vnd.jupyter.widget-view+json": {
       "model_id": "",
       "version_major": 2,
       "version_minor": 0
      },
      "text/plain": [
       "HBox(children=(HTML(value=''), FloatProgress(value=0.0, max=13.0), HTML(value='')))"
      ]
     },
     "metadata": {},
     "output_type": "display_data"
    },
    {
     "data": {
      "application/vnd.jupyter.widget-view+json": {
       "model_id": "",
       "version_major": 2,
       "version_minor": 0
      },
      "text/plain": [
       "HBox(children=(HTML(value=''), FloatProgress(value=0.0, max=12.0), HTML(value='')))"
      ]
     },
     "metadata": {},
     "output_type": "display_data"
    },
    {
     "name": "stdout",
     "output_type": "stream",
     "text": [
      "Training Results - Epoch[217/1000] Loss : 2.416189606818503\n"
     ]
    },
    {
     "data": {
      "application/vnd.jupyter.widget-view+json": {
       "model_id": "",
       "version_major": 2,
       "version_minor": 0
      },
      "text/plain": [
       "HBox(children=(HTML(value=''), FloatProgress(value=0.0, max=13.0), HTML(value='')))"
      ]
     },
     "metadata": {},
     "output_type": "display_data"
    },
    {
     "data": {
      "application/vnd.jupyter.widget-view+json": {
       "model_id": "",
       "version_major": 2,
       "version_minor": 0
      },
      "text/plain": [
       "HBox(children=(HTML(value=''), FloatProgress(value=0.0, max=12.0), HTML(value='')))"
      ]
     },
     "metadata": {},
     "output_type": "display_data"
    },
    {
     "name": "stdout",
     "output_type": "stream",
     "text": [
      "Training Results - Epoch[218/1000] Loss : 3.5521728383008186\n"
     ]
    },
    {
     "data": {
      "application/vnd.jupyter.widget-view+json": {
       "model_id": "",
       "version_major": 2,
       "version_minor": 0
      },
      "text/plain": [
       "HBox(children=(HTML(value=''), FloatProgress(value=0.0, max=13.0), HTML(value='')))"
      ]
     },
     "metadata": {},
     "output_type": "display_data"
    },
    {
     "data": {
      "application/vnd.jupyter.widget-view+json": {
       "model_id": "",
       "version_major": 2,
       "version_minor": 0
      },
      "text/plain": [
       "HBox(children=(HTML(value=''), FloatProgress(value=0.0, max=12.0), HTML(value='')))"
      ]
     },
     "metadata": {},
     "output_type": "display_data"
    },
    {
     "name": "stdout",
     "output_type": "stream",
     "text": [
      "Training Results - Epoch[219/1000] Loss : 2.435231087827046\n"
     ]
    },
    {
     "data": {
      "application/vnd.jupyter.widget-view+json": {
       "model_id": "",
       "version_major": 2,
       "version_minor": 0
      },
      "text/plain": [
       "HBox(children=(HTML(value=''), FloatProgress(value=0.0, max=13.0), HTML(value='')))"
      ]
     },
     "metadata": {},
     "output_type": "display_data"
    },
    {
     "data": {
      "application/vnd.jupyter.widget-view+json": {
       "model_id": "",
       "version_major": 2,
       "version_minor": 0
      },
      "text/plain": [
       "HBox(children=(HTML(value=''), FloatProgress(value=0.0, max=12.0), HTML(value='')))"
      ]
     },
     "metadata": {},
     "output_type": "display_data"
    },
    {
     "name": "stdout",
     "output_type": "stream",
     "text": [
      "Training Results - Epoch[220/1000] Loss : 1.9899313161798902\n"
     ]
    },
    {
     "data": {
      "application/vnd.jupyter.widget-view+json": {
       "model_id": "",
       "version_major": 2,
       "version_minor": 0
      },
      "text/plain": [
       "HBox(children=(HTML(value=''), FloatProgress(value=0.0, max=13.0), HTML(value='')))"
      ]
     },
     "metadata": {},
     "output_type": "display_data"
    },
    {
     "data": {
      "application/vnd.jupyter.widget-view+json": {
       "model_id": "",
       "version_major": 2,
       "version_minor": 0
      },
      "text/plain": [
       "HBox(children=(HTML(value=''), FloatProgress(value=0.0, max=12.0), HTML(value='')))"
      ]
     },
     "metadata": {},
     "output_type": "display_data"
    },
    {
     "name": "stdout",
     "output_type": "stream",
     "text": [
      "Training Results - Epoch[221/1000] Loss : 2.977361619760658\n"
     ]
    },
    {
     "data": {
      "application/vnd.jupyter.widget-view+json": {
       "model_id": "",
       "version_major": 2,
       "version_minor": 0
      },
      "text/plain": [
       "HBox(children=(HTML(value=''), FloatProgress(value=0.0, max=13.0), HTML(value='')))"
      ]
     },
     "metadata": {},
     "output_type": "display_data"
    },
    {
     "data": {
      "application/vnd.jupyter.widget-view+json": {
       "model_id": "",
       "version_major": 2,
       "version_minor": 0
      },
      "text/plain": [
       "HBox(children=(HTML(value=''), FloatProgress(value=0.0, max=12.0), HTML(value='')))"
      ]
     },
     "metadata": {},
     "output_type": "display_data"
    },
    {
     "name": "stdout",
     "output_type": "stream",
     "text": [
      "Training Results - Epoch[222/1000] Loss : 2.3473653493490896\n"
     ]
    },
    {
     "data": {
      "application/vnd.jupyter.widget-view+json": {
       "model_id": "",
       "version_major": 2,
       "version_minor": 0
      },
      "text/plain": [
       "HBox(children=(HTML(value=''), FloatProgress(value=0.0, max=13.0), HTML(value='')))"
      ]
     },
     "metadata": {},
     "output_type": "display_data"
    },
    {
     "data": {
      "application/vnd.jupyter.widget-view+json": {
       "model_id": "",
       "version_major": 2,
       "version_minor": 0
      },
      "text/plain": [
       "HBox(children=(HTML(value=''), FloatProgress(value=0.0, max=12.0), HTML(value='')))"
      ]
     },
     "metadata": {},
     "output_type": "display_data"
    },
    {
     "name": "stdout",
     "output_type": "stream",
     "text": [
      "Training Results - Epoch[223/1000] Loss : 3.2563433370983987\n"
     ]
    },
    {
     "data": {
      "application/vnd.jupyter.widget-view+json": {
       "model_id": "",
       "version_major": 2,
       "version_minor": 0
      },
      "text/plain": [
       "HBox(children=(HTML(value=''), FloatProgress(value=0.0, max=13.0), HTML(value='')))"
      ]
     },
     "metadata": {},
     "output_type": "display_data"
    },
    {
     "data": {
      "application/vnd.jupyter.widget-view+json": {
       "model_id": "",
       "version_major": 2,
       "version_minor": 0
      },
      "text/plain": [
       "HBox(children=(HTML(value=''), FloatProgress(value=0.0, max=12.0), HTML(value='')))"
      ]
     },
     "metadata": {},
     "output_type": "display_data"
    },
    {
     "name": "stdout",
     "output_type": "stream",
     "text": [
      "Training Results - Epoch[224/1000] Loss : 2.60664737562778\n"
     ]
    },
    {
     "data": {
      "application/vnd.jupyter.widget-view+json": {
       "model_id": "",
       "version_major": 2,
       "version_minor": 0
      },
      "text/plain": [
       "HBox(children=(HTML(value=''), FloatProgress(value=0.0, max=13.0), HTML(value='')))"
      ]
     },
     "metadata": {},
     "output_type": "display_data"
    },
    {
     "data": {
      "application/vnd.jupyter.widget-view+json": {
       "model_id": "",
       "version_major": 2,
       "version_minor": 0
      },
      "text/plain": [
       "HBox(children=(HTML(value=''), FloatProgress(value=0.0, max=12.0), HTML(value='')))"
      ]
     },
     "metadata": {},
     "output_type": "display_data"
    },
    {
     "name": "stdout",
     "output_type": "stream",
     "text": [
      "Training Results - Epoch[225/1000] Loss : 3.3842677396011465\n"
     ]
    },
    {
     "data": {
      "application/vnd.jupyter.widget-view+json": {
       "model_id": "",
       "version_major": 2,
       "version_minor": 0
      },
      "text/plain": [
       "HBox(children=(HTML(value=''), FloatProgress(value=0.0, max=13.0), HTML(value='')))"
      ]
     },
     "metadata": {},
     "output_type": "display_data"
    },
    {
     "data": {
      "application/vnd.jupyter.widget-view+json": {
       "model_id": "",
       "version_major": 2,
       "version_minor": 0
      },
      "text/plain": [
       "HBox(children=(HTML(value=''), FloatProgress(value=0.0, max=12.0), HTML(value='')))"
      ]
     },
     "metadata": {},
     "output_type": "display_data"
    },
    {
     "name": "stdout",
     "output_type": "stream",
     "text": [
      "Training Results - Epoch[226/1000] Loss : 4.051586792728442\n"
     ]
    },
    {
     "data": {
      "application/vnd.jupyter.widget-view+json": {
       "model_id": "",
       "version_major": 2,
       "version_minor": 0
      },
      "text/plain": [
       "HBox(children=(HTML(value=''), FloatProgress(value=0.0, max=13.0), HTML(value='')))"
      ]
     },
     "metadata": {},
     "output_type": "display_data"
    },
    {
     "data": {
      "application/vnd.jupyter.widget-view+json": {
       "model_id": "",
       "version_major": 2,
       "version_minor": 0
      },
      "text/plain": [
       "HBox(children=(HTML(value=''), FloatProgress(value=0.0, max=12.0), HTML(value='')))"
      ]
     },
     "metadata": {},
     "output_type": "display_data"
    },
    {
     "name": "stdout",
     "output_type": "stream",
     "text": [
      "Training Results - Epoch[227/1000] Loss : 3.23852197065782\n"
     ]
    },
    {
     "data": {
      "application/vnd.jupyter.widget-view+json": {
       "model_id": "",
       "version_major": 2,
       "version_minor": 0
      },
      "text/plain": [
       "HBox(children=(HTML(value=''), FloatProgress(value=0.0, max=13.0), HTML(value='')))"
      ]
     },
     "metadata": {},
     "output_type": "display_data"
    },
    {
     "data": {
      "application/vnd.jupyter.widget-view+json": {
       "model_id": "",
       "version_major": 2,
       "version_minor": 0
      },
      "text/plain": [
       "HBox(children=(HTML(value=''), FloatProgress(value=0.0, max=12.0), HTML(value='')))"
      ]
     },
     "metadata": {},
     "output_type": "display_data"
    },
    {
     "name": "stdout",
     "output_type": "stream",
     "text": [
      "Training Results - Epoch[228/1000] Loss : 4.428185654923623\n"
     ]
    },
    {
     "data": {
      "application/vnd.jupyter.widget-view+json": {
       "model_id": "",
       "version_major": 2,
       "version_minor": 0
      },
      "text/plain": [
       "HBox(children=(HTML(value=''), FloatProgress(value=0.0, max=13.0), HTML(value='')))"
      ]
     },
     "metadata": {},
     "output_type": "display_data"
    },
    {
     "data": {
      "application/vnd.jupyter.widget-view+json": {
       "model_id": "",
       "version_major": 2,
       "version_minor": 0
      },
      "text/plain": [
       "HBox(children=(HTML(value=''), FloatProgress(value=0.0, max=12.0), HTML(value='')))"
      ]
     },
     "metadata": {},
     "output_type": "display_data"
    },
    {
     "name": "stdout",
     "output_type": "stream",
     "text": [
      "Training Results - Epoch[229/1000] Loss : 3.297311799265749\n"
     ]
    },
    {
     "data": {
      "application/vnd.jupyter.widget-view+json": {
       "model_id": "",
       "version_major": 2,
       "version_minor": 0
      },
      "text/plain": [
       "HBox(children=(HTML(value=''), FloatProgress(value=0.0, max=13.0), HTML(value='')))"
      ]
     },
     "metadata": {},
     "output_type": "display_data"
    },
    {
     "data": {
      "application/vnd.jupyter.widget-view+json": {
       "model_id": "",
       "version_major": 2,
       "version_minor": 0
      },
      "text/plain": [
       "HBox(children=(HTML(value=''), FloatProgress(value=0.0, max=12.0), HTML(value='')))"
      ]
     },
     "metadata": {},
     "output_type": "display_data"
    },
    {
     "name": "stdout",
     "output_type": "stream",
     "text": [
      "Training Results - Epoch[230/1000] Loss : 3.6754035243834595\n"
     ]
    },
    {
     "data": {
      "application/vnd.jupyter.widget-view+json": {
       "model_id": "",
       "version_major": 2,
       "version_minor": 0
      },
      "text/plain": [
       "HBox(children=(HTML(value=''), FloatProgress(value=0.0, max=13.0), HTML(value='')))"
      ]
     },
     "metadata": {},
     "output_type": "display_data"
    },
    {
     "data": {
      "application/vnd.jupyter.widget-view+json": {
       "model_id": "",
       "version_major": 2,
       "version_minor": 0
      },
      "text/plain": [
       "HBox(children=(HTML(value=''), FloatProgress(value=0.0, max=12.0), HTML(value='')))"
      ]
     },
     "metadata": {},
     "output_type": "display_data"
    },
    {
     "name": "stdout",
     "output_type": "stream",
     "text": [
      "Training Results - Epoch[231/1000] Loss : 2.3017902859069452\n"
     ]
    },
    {
     "data": {
      "application/vnd.jupyter.widget-view+json": {
       "model_id": "",
       "version_major": 2,
       "version_minor": 0
      },
      "text/plain": [
       "HBox(children=(HTML(value=''), FloatProgress(value=0.0, max=13.0), HTML(value='')))"
      ]
     },
     "metadata": {},
     "output_type": "display_data"
    },
    {
     "data": {
      "application/vnd.jupyter.widget-view+json": {
       "model_id": "",
       "version_major": 2,
       "version_minor": 0
      },
      "text/plain": [
       "HBox(children=(HTML(value=''), FloatProgress(value=0.0, max=12.0), HTML(value='')))"
      ]
     },
     "metadata": {},
     "output_type": "display_data"
    },
    {
     "name": "stdout",
     "output_type": "stream",
     "text": [
      "Training Results - Epoch[232/1000] Loss : 2.1309016004944685\n"
     ]
    },
    {
     "data": {
      "application/vnd.jupyter.widget-view+json": {
       "model_id": "",
       "version_major": 2,
       "version_minor": 0
      },
      "text/plain": [
       "HBox(children=(HTML(value=''), FloatProgress(value=0.0, max=13.0), HTML(value='')))"
      ]
     },
     "metadata": {},
     "output_type": "display_data"
    },
    {
     "data": {
      "application/vnd.jupyter.widget-view+json": {
       "model_id": "",
       "version_major": 2,
       "version_minor": 0
      },
      "text/plain": [
       "HBox(children=(HTML(value=''), FloatProgress(value=0.0, max=12.0), HTML(value='')))"
      ]
     },
     "metadata": {},
     "output_type": "display_data"
    },
    {
     "name": "stdout",
     "output_type": "stream",
     "text": [
      "Training Results - Epoch[233/1000] Loss : 4.03288129538999\n"
     ]
    },
    {
     "data": {
      "application/vnd.jupyter.widget-view+json": {
       "model_id": "",
       "version_major": 2,
       "version_minor": 0
      },
      "text/plain": [
       "HBox(children=(HTML(value=''), FloatProgress(value=0.0, max=13.0), HTML(value='')))"
      ]
     },
     "metadata": {},
     "output_type": "display_data"
    },
    {
     "data": {
      "application/vnd.jupyter.widget-view+json": {
       "model_id": "",
       "version_major": 2,
       "version_minor": 0
      },
      "text/plain": [
       "HBox(children=(HTML(value=''), FloatProgress(value=0.0, max=12.0), HTML(value='')))"
      ]
     },
     "metadata": {},
     "output_type": "display_data"
    },
    {
     "name": "stdout",
     "output_type": "stream",
     "text": [
      "Training Results - Epoch[234/1000] Loss : 3.9391852449289386\n"
     ]
    },
    {
     "data": {
      "application/vnd.jupyter.widget-view+json": {
       "model_id": "",
       "version_major": 2,
       "version_minor": 0
      },
      "text/plain": [
       "HBox(children=(HTML(value=''), FloatProgress(value=0.0, max=13.0), HTML(value='')))"
      ]
     },
     "metadata": {},
     "output_type": "display_data"
    },
    {
     "data": {
      "application/vnd.jupyter.widget-view+json": {
       "model_id": "",
       "version_major": 2,
       "version_minor": 0
      },
      "text/plain": [
       "HBox(children=(HTML(value=''), FloatProgress(value=0.0, max=12.0), HTML(value='')))"
      ]
     },
     "metadata": {},
     "output_type": "display_data"
    },
    {
     "name": "stdout",
     "output_type": "stream",
     "text": [
      "Training Results - Epoch[235/1000] Loss : 3.4300352236173897\n"
     ]
    },
    {
     "data": {
      "application/vnd.jupyter.widget-view+json": {
       "model_id": "",
       "version_major": 2,
       "version_minor": 0
      },
      "text/plain": [
       "HBox(children=(HTML(value=''), FloatProgress(value=0.0, max=13.0), HTML(value='')))"
      ]
     },
     "metadata": {},
     "output_type": "display_data"
    },
    {
     "data": {
      "application/vnd.jupyter.widget-view+json": {
       "model_id": "",
       "version_major": 2,
       "version_minor": 0
      },
      "text/plain": [
       "HBox(children=(HTML(value=''), FloatProgress(value=0.0, max=12.0), HTML(value='')))"
      ]
     },
     "metadata": {},
     "output_type": "display_data"
    },
    {
     "name": "stdout",
     "output_type": "stream",
     "text": [
      "Training Results - Epoch[236/1000] Loss : 2.9784987674093966\n"
     ]
    },
    {
     "data": {
      "application/vnd.jupyter.widget-view+json": {
       "model_id": "",
       "version_major": 2,
       "version_minor": 0
      },
      "text/plain": [
       "HBox(children=(HTML(value=''), FloatProgress(value=0.0, max=13.0), HTML(value='')))"
      ]
     },
     "metadata": {},
     "output_type": "display_data"
    },
    {
     "data": {
      "application/vnd.jupyter.widget-view+json": {
       "model_id": "",
       "version_major": 2,
       "version_minor": 0
      },
      "text/plain": [
       "HBox(children=(HTML(value=''), FloatProgress(value=0.0, max=12.0), HTML(value='')))"
      ]
     },
     "metadata": {},
     "output_type": "display_data"
    },
    {
     "name": "stdout",
     "output_type": "stream",
     "text": [
      "Training Results - Epoch[237/1000] Loss : 3.4600411539660327\n"
     ]
    },
    {
     "data": {
      "application/vnd.jupyter.widget-view+json": {
       "model_id": "",
       "version_major": 2,
       "version_minor": 0
      },
      "text/plain": [
       "HBox(children=(HTML(value=''), FloatProgress(value=0.0, max=13.0), HTML(value='')))"
      ]
     },
     "metadata": {},
     "output_type": "display_data"
    },
    {
     "data": {
      "application/vnd.jupyter.widget-view+json": {
       "model_id": "",
       "version_major": 2,
       "version_minor": 0
      },
      "text/plain": [
       "HBox(children=(HTML(value=''), FloatProgress(value=0.0, max=12.0), HTML(value='')))"
      ]
     },
     "metadata": {},
     "output_type": "display_data"
    },
    {
     "name": "stdout",
     "output_type": "stream",
     "text": [
      "Training Results - Epoch[238/1000] Loss : 3.22610575458833\n"
     ]
    },
    {
     "data": {
      "application/vnd.jupyter.widget-view+json": {
       "model_id": "",
       "version_major": 2,
       "version_minor": 0
      },
      "text/plain": [
       "HBox(children=(HTML(value=''), FloatProgress(value=0.0, max=13.0), HTML(value='')))"
      ]
     },
     "metadata": {},
     "output_type": "display_data"
    },
    {
     "data": {
      "application/vnd.jupyter.widget-view+json": {
       "model_id": "",
       "version_major": 2,
       "version_minor": 0
      },
      "text/plain": [
       "HBox(children=(HTML(value=''), FloatProgress(value=0.0, max=12.0), HTML(value='')))"
      ]
     },
     "metadata": {},
     "output_type": "display_data"
    },
    {
     "name": "stdout",
     "output_type": "stream",
     "text": [
      "Training Results - Epoch[239/1000] Loss : 2.4243054240974504\n"
     ]
    },
    {
     "data": {
      "application/vnd.jupyter.widget-view+json": {
       "model_id": "",
       "version_major": 2,
       "version_minor": 0
      },
      "text/plain": [
       "HBox(children=(HTML(value=''), FloatProgress(value=0.0, max=13.0), HTML(value='')))"
      ]
     },
     "metadata": {},
     "output_type": "display_data"
    },
    {
     "data": {
      "application/vnd.jupyter.widget-view+json": {
       "model_id": "",
       "version_major": 2,
       "version_minor": 0
      },
      "text/plain": [
       "HBox(children=(HTML(value=''), FloatProgress(value=0.0, max=12.0), HTML(value='')))"
      ]
     },
     "metadata": {},
     "output_type": "display_data"
    },
    {
     "name": "stdout",
     "output_type": "stream",
     "text": [
      "Training Results - Epoch[240/1000] Loss : 3.220092821069415\n"
     ]
    },
    {
     "data": {
      "application/vnd.jupyter.widget-view+json": {
       "model_id": "",
       "version_major": 2,
       "version_minor": 0
      },
      "text/plain": [
       "HBox(children=(HTML(value=''), FloatProgress(value=0.0, max=13.0), HTML(value='')))"
      ]
     },
     "metadata": {},
     "output_type": "display_data"
    },
    {
     "data": {
      "application/vnd.jupyter.widget-view+json": {
       "model_id": "",
       "version_major": 2,
       "version_minor": 0
      },
      "text/plain": [
       "HBox(children=(HTML(value=''), FloatProgress(value=0.0, max=12.0), HTML(value='')))"
      ]
     },
     "metadata": {},
     "output_type": "display_data"
    },
    {
     "name": "stdout",
     "output_type": "stream",
     "text": [
      "Training Results - Epoch[241/1000] Loss : 4.122734462648239\n"
     ]
    },
    {
     "data": {
      "application/vnd.jupyter.widget-view+json": {
       "model_id": "",
       "version_major": 2,
       "version_minor": 0
      },
      "text/plain": [
       "HBox(children=(HTML(value=''), FloatProgress(value=0.0, max=13.0), HTML(value='')))"
      ]
     },
     "metadata": {},
     "output_type": "display_data"
    },
    {
     "data": {
      "application/vnd.jupyter.widget-view+json": {
       "model_id": "",
       "version_major": 2,
       "version_minor": 0
      },
      "text/plain": [
       "HBox(children=(HTML(value=''), FloatProgress(value=0.0, max=12.0), HTML(value='')))"
      ]
     },
     "metadata": {},
     "output_type": "display_data"
    },
    {
     "name": "stdout",
     "output_type": "stream",
     "text": [
      "Training Results - Epoch[242/1000] Loss : 3.117765277515634\n"
     ]
    },
    {
     "data": {
      "application/vnd.jupyter.widget-view+json": {
       "model_id": "",
       "version_major": 2,
       "version_minor": 0
      },
      "text/plain": [
       "HBox(children=(HTML(value=''), FloatProgress(value=0.0, max=13.0), HTML(value='')))"
      ]
     },
     "metadata": {},
     "output_type": "display_data"
    },
    {
     "data": {
      "application/vnd.jupyter.widget-view+json": {
       "model_id": "",
       "version_major": 2,
       "version_minor": 0
      },
      "text/plain": [
       "HBox(children=(HTML(value=''), FloatProgress(value=0.0, max=12.0), HTML(value='')))"
      ]
     },
     "metadata": {},
     "output_type": "display_data"
    },
    {
     "name": "stdout",
     "output_type": "stream",
     "text": [
      "Training Results - Epoch[243/1000] Loss : 2.7250564412788707\n"
     ]
    },
    {
     "data": {
      "application/vnd.jupyter.widget-view+json": {
       "model_id": "",
       "version_major": 2,
       "version_minor": 0
      },
      "text/plain": [
       "HBox(children=(HTML(value=''), FloatProgress(value=0.0, max=13.0), HTML(value='')))"
      ]
     },
     "metadata": {},
     "output_type": "display_data"
    },
    {
     "data": {
      "application/vnd.jupyter.widget-view+json": {
       "model_id": "",
       "version_major": 2,
       "version_minor": 0
      },
      "text/plain": [
       "HBox(children=(HTML(value=''), FloatProgress(value=0.0, max=12.0), HTML(value='')))"
      ]
     },
     "metadata": {},
     "output_type": "display_data"
    },
    {
     "name": "stdout",
     "output_type": "stream",
     "text": [
      "Training Results - Epoch[244/1000] Loss : 2.7224023761703253\n"
     ]
    },
    {
     "data": {
      "application/vnd.jupyter.widget-view+json": {
       "model_id": "",
       "version_major": 2,
       "version_minor": 0
      },
      "text/plain": [
       "HBox(children=(HTML(value=''), FloatProgress(value=0.0, max=13.0), HTML(value='')))"
      ]
     },
     "metadata": {},
     "output_type": "display_data"
    },
    {
     "data": {
      "application/vnd.jupyter.widget-view+json": {
       "model_id": "",
       "version_major": 2,
       "version_minor": 0
      },
      "text/plain": [
       "HBox(children=(HTML(value=''), FloatProgress(value=0.0, max=12.0), HTML(value='')))"
      ]
     },
     "metadata": {},
     "output_type": "display_data"
    },
    {
     "name": "stdout",
     "output_type": "stream",
     "text": [
      "Training Results - Epoch[245/1000] Loss : 3.1037219607645516\n"
     ]
    },
    {
     "data": {
      "application/vnd.jupyter.widget-view+json": {
       "model_id": "",
       "version_major": 2,
       "version_minor": 0
      },
      "text/plain": [
       "HBox(children=(HTML(value=''), FloatProgress(value=0.0, max=13.0), HTML(value='')))"
      ]
     },
     "metadata": {},
     "output_type": "display_data"
    },
    {
     "data": {
      "application/vnd.jupyter.widget-view+json": {
       "model_id": "",
       "version_major": 2,
       "version_minor": 0
      },
      "text/plain": [
       "HBox(children=(HTML(value=''), FloatProgress(value=0.0, max=12.0), HTML(value='')))"
      ]
     },
     "metadata": {},
     "output_type": "display_data"
    },
    {
     "name": "stdout",
     "output_type": "stream",
     "text": [
      "Training Results - Epoch[246/1000] Loss : 3.2408569058319987\n"
     ]
    },
    {
     "data": {
      "application/vnd.jupyter.widget-view+json": {
       "model_id": "",
       "version_major": 2,
       "version_minor": 0
      },
      "text/plain": [
       "HBox(children=(HTML(value=''), FloatProgress(value=0.0, max=13.0), HTML(value='')))"
      ]
     },
     "metadata": {},
     "output_type": "display_data"
    },
    {
     "data": {
      "application/vnd.jupyter.widget-view+json": {
       "model_id": "",
       "version_major": 2,
       "version_minor": 0
      },
      "text/plain": [
       "HBox(children=(HTML(value=''), FloatProgress(value=0.0, max=12.0), HTML(value='')))"
      ]
     },
     "metadata": {},
     "output_type": "display_data"
    },
    {
     "name": "stdout",
     "output_type": "stream",
     "text": [
      "Training Results - Epoch[247/1000] Loss : 2.694037923439406\n"
     ]
    },
    {
     "data": {
      "application/vnd.jupyter.widget-view+json": {
       "model_id": "",
       "version_major": 2,
       "version_minor": 0
      },
      "text/plain": [
       "HBox(children=(HTML(value=''), FloatProgress(value=0.0, max=13.0), HTML(value='')))"
      ]
     },
     "metadata": {},
     "output_type": "display_data"
    },
    {
     "data": {
      "application/vnd.jupyter.widget-view+json": {
       "model_id": "",
       "version_major": 2,
       "version_minor": 0
      },
      "text/plain": [
       "HBox(children=(HTML(value=''), FloatProgress(value=0.0, max=12.0), HTML(value='')))"
      ]
     },
     "metadata": {},
     "output_type": "display_data"
    },
    {
     "name": "stdout",
     "output_type": "stream",
     "text": [
      "Training Results - Epoch[248/1000] Loss : 3.5858667100059893\n"
     ]
    },
    {
     "data": {
      "application/vnd.jupyter.widget-view+json": {
       "model_id": "",
       "version_major": 2,
       "version_minor": 0
      },
      "text/plain": [
       "HBox(children=(HTML(value=''), FloatProgress(value=0.0, max=13.0), HTML(value='')))"
      ]
     },
     "metadata": {},
     "output_type": "display_data"
    },
    {
     "data": {
      "application/vnd.jupyter.widget-view+json": {
       "model_id": "",
       "version_major": 2,
       "version_minor": 0
      },
      "text/plain": [
       "HBox(children=(HTML(value=''), FloatProgress(value=0.0, max=12.0), HTML(value='')))"
      ]
     },
     "metadata": {},
     "output_type": "display_data"
    },
    {
     "name": "stdout",
     "output_type": "stream",
     "text": [
      "Training Results - Epoch[249/1000] Loss : 3.0195986516839164\n"
     ]
    },
    {
     "data": {
      "application/vnd.jupyter.widget-view+json": {
       "model_id": "",
       "version_major": 2,
       "version_minor": 0
      },
      "text/plain": [
       "HBox(children=(HTML(value=''), FloatProgress(value=0.0, max=13.0), HTML(value='')))"
      ]
     },
     "metadata": {},
     "output_type": "display_data"
    },
    {
     "data": {
      "application/vnd.jupyter.widget-view+json": {
       "model_id": "",
       "version_major": 2,
       "version_minor": 0
      },
      "text/plain": [
       "HBox(children=(HTML(value=''), FloatProgress(value=0.0, max=12.0), HTML(value='')))"
      ]
     },
     "metadata": {},
     "output_type": "display_data"
    },
    {
     "name": "stdout",
     "output_type": "stream",
     "text": [
      "Training Results - Epoch[250/1000] Loss : 2.462643696872602\n"
     ]
    },
    {
     "data": {
      "application/vnd.jupyter.widget-view+json": {
       "model_id": "",
       "version_major": 2,
       "version_minor": 0
      },
      "text/plain": [
       "HBox(children=(HTML(value=''), FloatProgress(value=0.0, max=13.0), HTML(value='')))"
      ]
     },
     "metadata": {},
     "output_type": "display_data"
    },
    {
     "data": {
      "application/vnd.jupyter.widget-view+json": {
       "model_id": "",
       "version_major": 2,
       "version_minor": 0
      },
      "text/plain": [
       "HBox(children=(HTML(value=''), FloatProgress(value=0.0, max=12.0), HTML(value='')))"
      ]
     },
     "metadata": {},
     "output_type": "display_data"
    },
    {
     "name": "stdout",
     "output_type": "stream",
     "text": [
      "Training Results - Epoch[251/1000] Loss : 3.4878294130234115\n"
     ]
    },
    {
     "data": {
      "application/vnd.jupyter.widget-view+json": {
       "model_id": "",
       "version_major": 2,
       "version_minor": 0
      },
      "text/plain": [
       "HBox(children=(HTML(value=''), FloatProgress(value=0.0, max=13.0), HTML(value='')))"
      ]
     },
     "metadata": {},
     "output_type": "display_data"
    },
    {
     "data": {
      "application/vnd.jupyter.widget-view+json": {
       "model_id": "",
       "version_major": 2,
       "version_minor": 0
      },
      "text/plain": [
       "HBox(children=(HTML(value=''), FloatProgress(value=0.0, max=12.0), HTML(value='')))"
      ]
     },
     "metadata": {},
     "output_type": "display_data"
    },
    {
     "name": "stdout",
     "output_type": "stream",
     "text": [
      "Training Results - Epoch[252/1000] Loss : 3.154083183318748\n"
     ]
    },
    {
     "data": {
      "application/vnd.jupyter.widget-view+json": {
       "model_id": "",
       "version_major": 2,
       "version_minor": 0
      },
      "text/plain": [
       "HBox(children=(HTML(value=''), FloatProgress(value=0.0, max=13.0), HTML(value='')))"
      ]
     },
     "metadata": {},
     "output_type": "display_data"
    },
    {
     "data": {
      "application/vnd.jupyter.widget-view+json": {
       "model_id": "",
       "version_major": 2,
       "version_minor": 0
      },
      "text/plain": [
       "HBox(children=(HTML(value=''), FloatProgress(value=0.0, max=12.0), HTML(value='')))"
      ]
     },
     "metadata": {},
     "output_type": "display_data"
    },
    {
     "name": "stdout",
     "output_type": "stream",
     "text": [
      "Training Results - Epoch[253/1000] Loss : 3.3607838410432023\n"
     ]
    },
    {
     "data": {
      "application/vnd.jupyter.widget-view+json": {
       "model_id": "",
       "version_major": 2,
       "version_minor": 0
      },
      "text/plain": [
       "HBox(children=(HTML(value=''), FloatProgress(value=0.0, max=13.0), HTML(value='')))"
      ]
     },
     "metadata": {},
     "output_type": "display_data"
    },
    {
     "data": {
      "application/vnd.jupyter.widget-view+json": {
       "model_id": "",
       "version_major": 2,
       "version_minor": 0
      },
      "text/plain": [
       "HBox(children=(HTML(value=''), FloatProgress(value=0.0, max=12.0), HTML(value='')))"
      ]
     },
     "metadata": {},
     "output_type": "display_data"
    },
    {
     "name": "stdout",
     "output_type": "stream",
     "text": [
      "Training Results - Epoch[254/1000] Loss : 2.253885317281841\n"
     ]
    },
    {
     "data": {
      "application/vnd.jupyter.widget-view+json": {
       "model_id": "",
       "version_major": 2,
       "version_minor": 0
      },
      "text/plain": [
       "HBox(children=(HTML(value=''), FloatProgress(value=0.0, max=13.0), HTML(value='')))"
      ]
     },
     "metadata": {},
     "output_type": "display_data"
    },
    {
     "data": {
      "application/vnd.jupyter.widget-view+json": {
       "model_id": "",
       "version_major": 2,
       "version_minor": 0
      },
      "text/plain": [
       "HBox(children=(HTML(value=''), FloatProgress(value=0.0, max=12.0), HTML(value='')))"
      ]
     },
     "metadata": {},
     "output_type": "display_data"
    },
    {
     "name": "stdout",
     "output_type": "stream",
     "text": [
      "Training Results - Epoch[255/1000] Loss : 3.024313241937148\n"
     ]
    },
    {
     "data": {
      "application/vnd.jupyter.widget-view+json": {
       "model_id": "",
       "version_major": 2,
       "version_minor": 0
      },
      "text/plain": [
       "HBox(children=(HTML(value=''), FloatProgress(value=0.0, max=13.0), HTML(value='')))"
      ]
     },
     "metadata": {},
     "output_type": "display_data"
    },
    {
     "data": {
      "application/vnd.jupyter.widget-view+json": {
       "model_id": "",
       "version_major": 2,
       "version_minor": 0
      },
      "text/plain": [
       "HBox(children=(HTML(value=''), FloatProgress(value=0.0, max=12.0), HTML(value='')))"
      ]
     },
     "metadata": {},
     "output_type": "display_data"
    },
    {
     "name": "stdout",
     "output_type": "stream",
     "text": [
      "Training Results - Epoch[256/1000] Loss : 4.4109829723853595\n"
     ]
    },
    {
     "data": {
      "application/vnd.jupyter.widget-view+json": {
       "model_id": "",
       "version_major": 2,
       "version_minor": 0
      },
      "text/plain": [
       "HBox(children=(HTML(value=''), FloatProgress(value=0.0, max=13.0), HTML(value='')))"
      ]
     },
     "metadata": {},
     "output_type": "display_data"
    },
    {
     "data": {
      "application/vnd.jupyter.widget-view+json": {
       "model_id": "",
       "version_major": 2,
       "version_minor": 0
      },
      "text/plain": [
       "HBox(children=(HTML(value=''), FloatProgress(value=0.0, max=12.0), HTML(value='')))"
      ]
     },
     "metadata": {},
     "output_type": "display_data"
    },
    {
     "name": "stdout",
     "output_type": "stream",
     "text": [
      "Training Results - Epoch[257/1000] Loss : 2.466934106522794\n"
     ]
    },
    {
     "data": {
      "application/vnd.jupyter.widget-view+json": {
       "model_id": "",
       "version_major": 2,
       "version_minor": 0
      },
      "text/plain": [
       "HBox(children=(HTML(value=''), FloatProgress(value=0.0, max=13.0), HTML(value='')))"
      ]
     },
     "metadata": {},
     "output_type": "display_data"
    },
    {
     "data": {
      "application/vnd.jupyter.widget-view+json": {
       "model_id": "",
       "version_major": 2,
       "version_minor": 0
      },
      "text/plain": [
       "HBox(children=(HTML(value=''), FloatProgress(value=0.0, max=12.0), HTML(value='')))"
      ]
     },
     "metadata": {},
     "output_type": "display_data"
    },
    {
     "name": "stdout",
     "output_type": "stream",
     "text": [
      "Training Results - Epoch[258/1000] Loss : 2.64630163810925\n"
     ]
    },
    {
     "data": {
      "application/vnd.jupyter.widget-view+json": {
       "model_id": "",
       "version_major": 2,
       "version_minor": 0
      },
      "text/plain": [
       "HBox(children=(HTML(value=''), FloatProgress(value=0.0, max=13.0), HTML(value='')))"
      ]
     },
     "metadata": {},
     "output_type": "display_data"
    },
    {
     "data": {
      "application/vnd.jupyter.widget-view+json": {
       "model_id": "",
       "version_major": 2,
       "version_minor": 0
      },
      "text/plain": [
       "HBox(children=(HTML(value=''), FloatProgress(value=0.0, max=12.0), HTML(value='')))"
      ]
     },
     "metadata": {},
     "output_type": "display_data"
    },
    {
     "name": "stdout",
     "output_type": "stream",
     "text": [
      "Training Results - Epoch[259/1000] Loss : 2.426548627227698\n"
     ]
    },
    {
     "data": {
      "application/vnd.jupyter.widget-view+json": {
       "model_id": "",
       "version_major": 2,
       "version_minor": 0
      },
      "text/plain": [
       "HBox(children=(HTML(value=''), FloatProgress(value=0.0, max=13.0), HTML(value='')))"
      ]
     },
     "metadata": {},
     "output_type": "display_data"
    },
    {
     "name": "stderr",
     "output_type": "stream",
     "text": [
      "2022-03-24 11:11:20,147 ignite.handlers.early_stopping.EarlyStopping INFO: EarlyStopping: Stop training\n"
     ]
    },
    {
     "name": "stdout",
     "output_type": "stream",
     "text": [
      "Best Loss :  1.861958354164267\n"
     ]
    },
    {
     "ename": "AssertionError",
     "evalue": "Torch not compiled with CUDA enabled",
     "output_type": "error",
     "traceback": [
      "\u001b[1;31m---------------------------------------------------------------------------\u001b[0m",
      "\u001b[1;31mAssertionError\u001b[0m                            Traceback (most recent call last)",
      "\u001b[1;32m<ipython-input-142-e6dfdeaca2c8>\u001b[0m in \u001b[0;36m<module>\u001b[1;34m\u001b[0m\n\u001b[1;32m----> 1\u001b[1;33m \u001b[0my_hat\u001b[0m \u001b[1;33m=\u001b[0m \u001b[0mmain\u001b[0m\u001b[1;33m(\u001b[0m\u001b[0mconfig\u001b[0m\u001b[1;33m)\u001b[0m\u001b[1;33m\u001b[0m\u001b[1;33m\u001b[0m\u001b[0m\n\u001b[0m\u001b[0;32m      2\u001b[0m \u001b[0mprint\u001b[0m\u001b[1;33m(\u001b[0m\u001b[0my_hat\u001b[0m\u001b[1;33m)\u001b[0m\u001b[1;33m\u001b[0m\u001b[1;33m\u001b[0m\u001b[0m\n",
      "\u001b[1;32m<ipython-input-132-804bf656e4d9>\u001b[0m in \u001b[0;36mmain\u001b[1;34m(config)\u001b[0m\n\u001b[0;32m     53\u001b[0m \u001b[1;33m\u001b[0m\u001b[0m\n\u001b[0;32m     54\u001b[0m     \u001b[1;32mwith\u001b[0m \u001b[0mtorch\u001b[0m\u001b[1;33m.\u001b[0m\u001b[0mno_grad\u001b[0m\u001b[1;33m(\u001b[0m\u001b[1;33m)\u001b[0m\u001b[1;33m:\u001b[0m\u001b[1;33m\u001b[0m\u001b[1;33m\u001b[0m\u001b[0m\n\u001b[1;32m---> 55\u001b[1;33m         \u001b[0my_hat\u001b[0m \u001b[1;33m=\u001b[0m \u001b[0mmodel\u001b[0m\u001b[1;33m(\u001b[0m\u001b[0mtorch\u001b[0m\u001b[1;33m.\u001b[0m\u001b[0mFloatTensor\u001b[0m\u001b[1;33m(\u001b[0m\u001b[0mtest\u001b[0m\u001b[1;33m.\u001b[0m\u001b[0miloc\u001b[0m\u001b[1;33m[\u001b[0m\u001b[1;33m:\u001b[0m\u001b[1;33m,\u001b[0m \u001b[1;36m1\u001b[0m\u001b[1;33m:\u001b[0m\u001b[1;33m]\u001b[0m\u001b[1;33m.\u001b[0m\u001b[0mvalues\u001b[0m\u001b[1;33m)\u001b[0m\u001b[1;33m.\u001b[0m\u001b[0mto\u001b[0m\u001b[1;33m(\u001b[0m\u001b[1;34m'cuda'\u001b[0m\u001b[1;33m)\u001b[0m\u001b[1;33m)\u001b[0m\u001b[1;33m\u001b[0m\u001b[1;33m\u001b[0m\u001b[0m\n\u001b[0m\u001b[0;32m     56\u001b[0m \u001b[1;33m\u001b[0m\u001b[0m\n\u001b[0;32m     57\u001b[0m     \u001b[1;32mreturn\u001b[0m \u001b[0my_hat\u001b[0m\u001b[1;33m\u001b[0m\u001b[1;33m\u001b[0m\u001b[0m\n",
      "\u001b[1;32m~\\anaconda3\\lib\\site-packages\\torch\\cuda\\__init__.py\u001b[0m in \u001b[0;36m_lazy_init\u001b[1;34m()\u001b[0m\n\u001b[0;32m    206\u001b[0m                 \"multiprocessing, you must use the 'spawn' start method\")\n\u001b[0;32m    207\u001b[0m         \u001b[1;32mif\u001b[0m \u001b[1;32mnot\u001b[0m \u001b[0mhasattr\u001b[0m\u001b[1;33m(\u001b[0m\u001b[0mtorch\u001b[0m\u001b[1;33m.\u001b[0m\u001b[0m_C\u001b[0m\u001b[1;33m,\u001b[0m \u001b[1;34m'_cuda_getDeviceCount'\u001b[0m\u001b[1;33m)\u001b[0m\u001b[1;33m:\u001b[0m\u001b[1;33m\u001b[0m\u001b[1;33m\u001b[0m\u001b[0m\n\u001b[1;32m--> 208\u001b[1;33m             \u001b[1;32mraise\u001b[0m \u001b[0mAssertionError\u001b[0m\u001b[1;33m(\u001b[0m\u001b[1;34m\"Torch not compiled with CUDA enabled\"\u001b[0m\u001b[1;33m)\u001b[0m\u001b[1;33m\u001b[0m\u001b[1;33m\u001b[0m\u001b[0m\n\u001b[0m\u001b[0;32m    209\u001b[0m         \u001b[1;32mif\u001b[0m \u001b[0m_cudart\u001b[0m \u001b[1;32mis\u001b[0m \u001b[1;32mNone\u001b[0m\u001b[1;33m:\u001b[0m\u001b[1;33m\u001b[0m\u001b[1;33m\u001b[0m\u001b[0m\n\u001b[0;32m    210\u001b[0m             raise AssertionError(\n",
      "\u001b[1;31mAssertionError\u001b[0m: Torch not compiled with CUDA enabled"
     ]
    }
   ],
   "source": [
    "y_hat = main(config)\n",
    "print(y_hat)"
   ]
  },
  {
   "cell_type": "code",
   "execution_count": 140,
   "metadata": {},
   "outputs": [
    {
     "ename": "NameError",
     "evalue": "name 'y_h' is not defined",
     "output_type": "error",
     "traceback": [
      "\u001b[1;31m---------------------------------------------------------------------------\u001b[0m",
      "\u001b[1;31mNameError\u001b[0m                                 Traceback (most recent call last)",
      "\u001b[1;32m<ipython-input-140-5d7fe26e9b50>\u001b[0m in \u001b[0;36m<module>\u001b[1;34m\u001b[0m\n\u001b[1;32m----> 1\u001b[1;33m \u001b[0my_h\u001b[0m\u001b[1;33m\u001b[0m\u001b[1;33m\u001b[0m\u001b[0m\n\u001b[0m",
      "\u001b[1;31mNameError\u001b[0m: name 'y_h' is not defined"
     ]
    }
   ],
   "source": [
    "y_hat"
   ]
  },
  {
   "cell_type": "code",
   "execution_count": null,
   "metadata": {},
   "outputs": [],
   "source": []
  },
  {
   "cell_type": "code",
   "execution_count": null,
   "metadata": {},
   "outputs": [],
   "source": []
  },
  {
   "cell_type": "code",
   "execution_count": null,
   "metadata": {},
   "outputs": [],
   "source": []
  },
  {
   "cell_type": "code",
   "execution_count": 11,
   "metadata": {},
   "outputs": [],
   "source": [
    "import pandas as pd\n",
    "import numpy as np\n",
    "import matplotlib.pyplot as plt\n",
    "import seaborn as sns\n",
    "\n",
    "from sklearn.model_selection import train_test_split\n",
    "from sklearn.preprocessing import StandardScaler\n",
    "import statsmodels.api as sma\n",
    "from statsmodels.stats.outliers_influence import variance_inflation_factor\n",
    "\n",
    "from sklearn.linear_model import LogisticRegression\n",
    "from sklearn.svm import SVC\n",
    "from sklearn.neighbors import KNeighborsClassifier\n",
    "from sklearn.tree import DecisionTreeClassifier\n",
    "from sklearn.model_selection import cross_val_score\n",
    "\n",
    "from sklearn.model_selection import GridSearchCV\n",
    "from sklearn.metrics import classification_report\n",
    "from sklearn.metrics import confusion_matrix\n",
    "import warnings\n",
    "warnings.filterwarnings('ignore')"
   ]
  },
  {
   "cell_type": "code",
   "execution_count": 12,
   "metadata": {},
   "outputs": [],
   "source": [
    "df = pd.read_csv('data/train.csv')"
   ]
  },
  {
   "cell_type": "code",
   "execution_count": 13,
   "metadata": {},
   "outputs": [
    {
     "data": {
      "text/html": [
       "<div>\n",
       "<style scoped>\n",
       "    .dataframe tbody tr th:only-of-type {\n",
       "        vertical-align: middle;\n",
       "    }\n",
       "\n",
       "    .dataframe tbody tr th {\n",
       "        vertical-align: top;\n",
       "    }\n",
       "\n",
       "    .dataframe thead th {\n",
       "        text-align: right;\n",
       "    }\n",
       "</style>\n",
       "<table border=\"1\" class=\"dataframe\">\n",
       "  <thead>\n",
       "    <tr style=\"text-align: right;\">\n",
       "      <th></th>\n",
       "      <th>id</th>\n",
       "      <th>Gender</th>\n",
       "      <th>Lenght</th>\n",
       "      <th>Diameter</th>\n",
       "      <th>Height</th>\n",
       "      <th>Whole Weight</th>\n",
       "      <th>Shucked Weight</th>\n",
       "      <th>Viscra Weight</th>\n",
       "      <th>Shell Weight</th>\n",
       "      <th>Target</th>\n",
       "    </tr>\n",
       "  </thead>\n",
       "  <tbody>\n",
       "    <tr>\n",
       "      <th>0</th>\n",
       "      <td>1</td>\n",
       "      <td>M</td>\n",
       "      <td>0.605</td>\n",
       "      <td>0.470</td>\n",
       "      <td>0.115</td>\n",
       "      <td>1.1140</td>\n",
       "      <td>0.3925</td>\n",
       "      <td>0.2910</td>\n",
       "      <td>0.3100</td>\n",
       "      <td>15</td>\n",
       "    </tr>\n",
       "    <tr>\n",
       "      <th>1</th>\n",
       "      <td>2</td>\n",
       "      <td>I</td>\n",
       "      <td>0.430</td>\n",
       "      <td>0.315</td>\n",
       "      <td>0.095</td>\n",
       "      <td>0.3780</td>\n",
       "      <td>0.1750</td>\n",
       "      <td>0.0800</td>\n",
       "      <td>0.1045</td>\n",
       "      <td>8</td>\n",
       "    </tr>\n",
       "    <tr>\n",
       "      <th>2</th>\n",
       "      <td>3</td>\n",
       "      <td>I</td>\n",
       "      <td>0.580</td>\n",
       "      <td>0.490</td>\n",
       "      <td>0.195</td>\n",
       "      <td>1.3165</td>\n",
       "      <td>0.5305</td>\n",
       "      <td>0.2540</td>\n",
       "      <td>0.4100</td>\n",
       "      <td>18</td>\n",
       "    </tr>\n",
       "    <tr>\n",
       "      <th>3</th>\n",
       "      <td>4</td>\n",
       "      <td>M</td>\n",
       "      <td>0.535</td>\n",
       "      <td>0.405</td>\n",
       "      <td>0.175</td>\n",
       "      <td>1.2705</td>\n",
       "      <td>0.5480</td>\n",
       "      <td>0.3265</td>\n",
       "      <td>0.3370</td>\n",
       "      <td>13</td>\n",
       "    </tr>\n",
       "    <tr>\n",
       "      <th>4</th>\n",
       "      <td>5</td>\n",
       "      <td>I</td>\n",
       "      <td>0.310</td>\n",
       "      <td>0.235</td>\n",
       "      <td>0.090</td>\n",
       "      <td>0.1270</td>\n",
       "      <td>0.0480</td>\n",
       "      <td>0.0310</td>\n",
       "      <td>0.0400</td>\n",
       "      <td>6</td>\n",
       "    </tr>\n",
       "    <tr>\n",
       "      <th>...</th>\n",
       "      <td>...</td>\n",
       "      <td>...</td>\n",
       "      <td>...</td>\n",
       "      <td>...</td>\n",
       "      <td>...</td>\n",
       "      <td>...</td>\n",
       "      <td>...</td>\n",
       "      <td>...</td>\n",
       "      <td>...</td>\n",
       "      <td>...</td>\n",
       "    </tr>\n",
       "    <tr>\n",
       "      <th>1248</th>\n",
       "      <td>1249</td>\n",
       "      <td>I</td>\n",
       "      <td>0.190</td>\n",
       "      <td>0.145</td>\n",
       "      <td>0.040</td>\n",
       "      <td>0.0380</td>\n",
       "      <td>0.0165</td>\n",
       "      <td>0.0065</td>\n",
       "      <td>0.0150</td>\n",
       "      <td>4</td>\n",
       "    </tr>\n",
       "    <tr>\n",
       "      <th>1249</th>\n",
       "      <td>1250</td>\n",
       "      <td>I</td>\n",
       "      <td>0.395</td>\n",
       "      <td>0.310</td>\n",
       "      <td>0.085</td>\n",
       "      <td>0.3170</td>\n",
       "      <td>0.1530</td>\n",
       "      <td>0.0505</td>\n",
       "      <td>0.0935</td>\n",
       "      <td>7</td>\n",
       "    </tr>\n",
       "    <tr>\n",
       "      <th>1250</th>\n",
       "      <td>1251</td>\n",
       "      <td>F</td>\n",
       "      <td>0.525</td>\n",
       "      <td>0.410</td>\n",
       "      <td>0.115</td>\n",
       "      <td>0.7745</td>\n",
       "      <td>0.4160</td>\n",
       "      <td>0.1630</td>\n",
       "      <td>0.1800</td>\n",
       "      <td>7</td>\n",
       "    </tr>\n",
       "    <tr>\n",
       "      <th>1251</th>\n",
       "      <td>1252</td>\n",
       "      <td>F</td>\n",
       "      <td>0.445</td>\n",
       "      <td>0.335</td>\n",
       "      <td>0.110</td>\n",
       "      <td>0.4355</td>\n",
       "      <td>0.2025</td>\n",
       "      <td>0.1095</td>\n",
       "      <td>0.1195</td>\n",
       "      <td>6</td>\n",
       "    </tr>\n",
       "    <tr>\n",
       "      <th>1252</th>\n",
       "      <td>1253</td>\n",
       "      <td>F</td>\n",
       "      <td>0.750</td>\n",
       "      <td>0.550</td>\n",
       "      <td>0.195</td>\n",
       "      <td>1.8325</td>\n",
       "      <td>0.8300</td>\n",
       "      <td>0.3660</td>\n",
       "      <td>0.4400</td>\n",
       "      <td>11</td>\n",
       "    </tr>\n",
       "  </tbody>\n",
       "</table>\n",
       "<p>1253 rows × 10 columns</p>\n",
       "</div>"
      ],
      "text/plain": [
       "        id Gender  Lenght  Diameter  Height  Whole Weight  Shucked Weight  \\\n",
       "0        1      M   0.605     0.470   0.115        1.1140          0.3925   \n",
       "1        2      I   0.430     0.315   0.095        0.3780          0.1750   \n",
       "2        3      I   0.580     0.490   0.195        1.3165          0.5305   \n",
       "3        4      M   0.535     0.405   0.175        1.2705          0.5480   \n",
       "4        5      I   0.310     0.235   0.090        0.1270          0.0480   \n",
       "...    ...    ...     ...       ...     ...           ...             ...   \n",
       "1248  1249      I   0.190     0.145   0.040        0.0380          0.0165   \n",
       "1249  1250      I   0.395     0.310   0.085        0.3170          0.1530   \n",
       "1250  1251      F   0.525     0.410   0.115        0.7745          0.4160   \n",
       "1251  1252      F   0.445     0.335   0.110        0.4355          0.2025   \n",
       "1252  1253      F   0.750     0.550   0.195        1.8325          0.8300   \n",
       "\n",
       "      Viscra Weight  Shell Weight  Target  \n",
       "0            0.2910        0.3100      15  \n",
       "1            0.0800        0.1045       8  \n",
       "2            0.2540        0.4100      18  \n",
       "3            0.3265        0.3370      13  \n",
       "4            0.0310        0.0400       6  \n",
       "...             ...           ...     ...  \n",
       "1248         0.0065        0.0150       4  \n",
       "1249         0.0505        0.0935       7  \n",
       "1250         0.1630        0.1800       7  \n",
       "1251         0.1095        0.1195       6  \n",
       "1252         0.3660        0.4400      11  \n",
       "\n",
       "[1253 rows x 10 columns]"
      ]
     },
     "execution_count": 13,
     "metadata": {},
     "output_type": "execute_result"
    }
   ],
   "source": [
    "df"
   ]
  },
  {
   "cell_type": "code",
   "execution_count": 14,
   "metadata": {},
   "outputs": [],
   "source": [
    "df.rename(columns={\"Sex\":\"sex\", \"Length\":\"length\", \"Diameter\":\"diameter\",\n",
    "                   \"Height\":\"height\", \"Whole weight\":\"whole_weight\",\n",
    "                   \"Shucked weight\":\"shucked_weight\", \"Viscera weight\":\"viscera_weight\",\n",
    "                   \"Shell weight\":\"shell_weight\", \"Target\":\"target\"}, inplace = True)"
   ]
  },
  {
   "cell_type": "code",
   "execution_count": 15,
   "metadata": {},
   "outputs": [
    {
     "data": {
      "text/html": [
       "<div>\n",
       "<style scoped>\n",
       "    .dataframe tbody tr th:only-of-type {\n",
       "        vertical-align: middle;\n",
       "    }\n",
       "\n",
       "    .dataframe tbody tr th {\n",
       "        vertical-align: top;\n",
       "    }\n",
       "\n",
       "    .dataframe thead th {\n",
       "        text-align: right;\n",
       "    }\n",
       "</style>\n",
       "<table border=\"1\" class=\"dataframe\">\n",
       "  <thead>\n",
       "    <tr style=\"text-align: right;\">\n",
       "      <th></th>\n",
       "      <th>id</th>\n",
       "      <th>Gender</th>\n",
       "      <th>Lenght</th>\n",
       "      <th>diameter</th>\n",
       "      <th>height</th>\n",
       "      <th>Whole Weight</th>\n",
       "      <th>Shucked Weight</th>\n",
       "      <th>Viscra Weight</th>\n",
       "      <th>Shell Weight</th>\n",
       "      <th>target</th>\n",
       "    </tr>\n",
       "  </thead>\n",
       "  <tbody>\n",
       "  </tbody>\n",
       "</table>\n",
       "</div>"
      ],
      "text/plain": [
       "Empty DataFrame\n",
       "Columns: [id, Gender, Lenght, diameter, height, Whole Weight, Shucked Weight, Viscra Weight, Shell Weight, target]\n",
       "Index: []"
      ]
     },
     "execution_count": 15,
     "metadata": {},
     "output_type": "execute_result"
    }
   ],
   "source": [
    "df[df['height'] == 0] "
   ]
  },
  {
   "cell_type": "code",
   "execution_count": 17,
   "metadata": {
    "scrolled": true
   },
   "outputs": [
    {
     "data": {
      "text/html": [
       "<div>\n",
       "<style scoped>\n",
       "    .dataframe tbody tr th:only-of-type {\n",
       "        vertical-align: middle;\n",
       "    }\n",
       "\n",
       "    .dataframe tbody tr th {\n",
       "        vertical-align: top;\n",
       "    }\n",
       "\n",
       "    .dataframe thead th {\n",
       "        text-align: right;\n",
       "    }\n",
       "</style>\n",
       "<table border=\"1\" class=\"dataframe\">\n",
       "  <thead>\n",
       "    <tr style=\"text-align: right;\">\n",
       "      <th></th>\n",
       "      <th>id</th>\n",
       "      <th>Gender</th>\n",
       "      <th>Lenght</th>\n",
       "      <th>diameter</th>\n",
       "      <th>height</th>\n",
       "      <th>Whole Weight</th>\n",
       "      <th>Shucked Weight</th>\n",
       "      <th>Viscra Weight</th>\n",
       "      <th>Shell Weight</th>\n",
       "      <th>age</th>\n",
       "    </tr>\n",
       "  </thead>\n",
       "  <tbody>\n",
       "    <tr>\n",
       "      <th>0</th>\n",
       "      <td>1</td>\n",
       "      <td>M</td>\n",
       "      <td>0.605</td>\n",
       "      <td>0.470</td>\n",
       "      <td>0.115</td>\n",
       "      <td>1.1140</td>\n",
       "      <td>0.3925</td>\n",
       "      <td>0.2910</td>\n",
       "      <td>0.3100</td>\n",
       "      <td>16.5</td>\n",
       "    </tr>\n",
       "    <tr>\n",
       "      <th>1</th>\n",
       "      <td>2</td>\n",
       "      <td>I</td>\n",
       "      <td>0.430</td>\n",
       "      <td>0.315</td>\n",
       "      <td>0.095</td>\n",
       "      <td>0.3780</td>\n",
       "      <td>0.1750</td>\n",
       "      <td>0.0800</td>\n",
       "      <td>0.1045</td>\n",
       "      <td>9.5</td>\n",
       "    </tr>\n",
       "    <tr>\n",
       "      <th>2</th>\n",
       "      <td>3</td>\n",
       "      <td>I</td>\n",
       "      <td>0.580</td>\n",
       "      <td>0.490</td>\n",
       "      <td>0.195</td>\n",
       "      <td>1.3165</td>\n",
       "      <td>0.5305</td>\n",
       "      <td>0.2540</td>\n",
       "      <td>0.4100</td>\n",
       "      <td>19.5</td>\n",
       "    </tr>\n",
       "    <tr>\n",
       "      <th>3</th>\n",
       "      <td>4</td>\n",
       "      <td>M</td>\n",
       "      <td>0.535</td>\n",
       "      <td>0.405</td>\n",
       "      <td>0.175</td>\n",
       "      <td>1.2705</td>\n",
       "      <td>0.5480</td>\n",
       "      <td>0.3265</td>\n",
       "      <td>0.3370</td>\n",
       "      <td>14.5</td>\n",
       "    </tr>\n",
       "    <tr>\n",
       "      <th>4</th>\n",
       "      <td>5</td>\n",
       "      <td>I</td>\n",
       "      <td>0.310</td>\n",
       "      <td>0.235</td>\n",
       "      <td>0.090</td>\n",
       "      <td>0.1270</td>\n",
       "      <td>0.0480</td>\n",
       "      <td>0.0310</td>\n",
       "      <td>0.0400</td>\n",
       "      <td>7.5</td>\n",
       "    </tr>\n",
       "  </tbody>\n",
       "</table>\n",
       "</div>"
      ],
      "text/plain": [
       "   id Gender  Lenght  diameter  height  Whole Weight  Shucked Weight  \\\n",
       "0   1      M   0.605     0.470   0.115        1.1140          0.3925   \n",
       "1   2      I   0.430     0.315   0.095        0.3780          0.1750   \n",
       "2   3      I   0.580     0.490   0.195        1.3165          0.5305   \n",
       "3   4      M   0.535     0.405   0.175        1.2705          0.5480   \n",
       "4   5      I   0.310     0.235   0.090        0.1270          0.0480   \n",
       "\n",
       "   Viscra Weight  Shell Weight   age  \n",
       "0         0.2910        0.3100  16.5  \n",
       "1         0.0800        0.1045   9.5  \n",
       "2         0.2540        0.4100  19.5  \n",
       "3         0.3265        0.3370  14.5  \n",
       "4         0.0310        0.0400   7.5  "
      ]
     },
     "execution_count": 17,
     "metadata": {},
     "output_type": "execute_result"
    }
   ],
   "source": [
    "df['age'] = df['target']+1.5 #AS per the problem statement\n",
    "df.drop('target', axis = 1, inplace = True)\n",
    "df.head()"
   ]
  },
  {
   "cell_type": "code",
   "execution_count": 26,
   "metadata": {},
   "outputs": [
    {
     "data": {
      "text/html": [
       "<div>\n",
       "<style scoped>\n",
       "    .dataframe tbody tr th:only-of-type {\n",
       "        vertical-align: middle;\n",
       "    }\n",
       "\n",
       "    .dataframe tbody tr th {\n",
       "        vertical-align: top;\n",
       "    }\n",
       "\n",
       "    .dataframe thead th {\n",
       "        text-align: right;\n",
       "    }\n",
       "</style>\n",
       "<table border=\"1\" class=\"dataframe\">\n",
       "  <thead>\n",
       "    <tr style=\"text-align: right;\">\n",
       "      <th></th>\n",
       "      <th>Gender</th>\n",
       "      <th>Lenght</th>\n",
       "      <th>height</th>\n",
       "      <th>Whole Weight</th>\n",
       "      <th>age</th>\n",
       "    </tr>\n",
       "  </thead>\n",
       "  <tbody>\n",
       "    <tr>\n",
       "      <th>0</th>\n",
       "      <td>M</td>\n",
       "      <td>0.605</td>\n",
       "      <td>0.115</td>\n",
       "      <td>1.1140</td>\n",
       "      <td>16.5</td>\n",
       "    </tr>\n",
       "    <tr>\n",
       "      <th>1</th>\n",
       "      <td>I</td>\n",
       "      <td>0.430</td>\n",
       "      <td>0.095</td>\n",
       "      <td>0.3780</td>\n",
       "      <td>9.5</td>\n",
       "    </tr>\n",
       "    <tr>\n",
       "      <th>2</th>\n",
       "      <td>I</td>\n",
       "      <td>0.580</td>\n",
       "      <td>0.195</td>\n",
       "      <td>1.3165</td>\n",
       "      <td>19.5</td>\n",
       "    </tr>\n",
       "    <tr>\n",
       "      <th>3</th>\n",
       "      <td>M</td>\n",
       "      <td>0.535</td>\n",
       "      <td>0.175</td>\n",
       "      <td>1.2705</td>\n",
       "      <td>14.5</td>\n",
       "    </tr>\n",
       "    <tr>\n",
       "      <th>4</th>\n",
       "      <td>I</td>\n",
       "      <td>0.310</td>\n",
       "      <td>0.090</td>\n",
       "      <td>0.1270</td>\n",
       "      <td>7.5</td>\n",
       "    </tr>\n",
       "  </tbody>\n",
       "</table>\n",
       "</div>"
      ],
      "text/plain": [
       "  Gender  Lenght  height  Whole Weight   age\n",
       "0      M   0.605   0.115        1.1140  16.5\n",
       "1      I   0.430   0.095        0.3780   9.5\n",
       "2      I   0.580   0.195        1.3165  19.5\n",
       "3      M   0.535   0.175        1.2705  14.5\n",
       "4      I   0.310   0.090        0.1270   7.5"
      ]
     },
     "execution_count": 26,
     "metadata": {},
     "output_type": "execute_result"
    }
   ],
   "source": [
    "df.drop('id', axis = 1, inplace = True)\n",
    "df.head()"
   ]
  },
  {
   "cell_type": "code",
   "execution_count": 19,
   "metadata": {},
   "outputs": [],
   "source": [
    "corr = df.corr()"
   ]
  },
  {
   "cell_type": "code",
   "execution_count": 20,
   "metadata": {},
   "outputs": [
    {
     "name": "stdout",
     "output_type": "stream",
     "text": [
      "Columns to drop:\n",
      " ['diameter', 'Shucked Weight', 'Viscra Weight', 'Shell Weight']\n"
     ]
    }
   ],
   "source": [
    "upper_tri = corr.where(np.triu(np.ones(corr.shape),k=1).astype(np.bool))\n",
    "columns_to_drop = [column for column in upper_tri.columns if any(upper_tri[column] > 0.95)] #highly correlated variables to be removed.\n",
    "\n",
    "print(\"Columns to drop:\\n\", columns_to_drop)"
   ]
  },
  {
   "cell_type": "code",
   "execution_count": 21,
   "metadata": {},
   "outputs": [],
   "source": [
    "df.drop(columns_to_drop, axis=1, inplace = True)"
   ]
  },
  {
   "cell_type": "code",
   "execution_count": 22,
   "metadata": {},
   "outputs": [],
   "source": [
    "#calculating VIF\n",
    "def vif_arr(df1):\n",
    "    vif = pd.DataFrame()\n",
    "    df1 = sma.add_constant(df1)\n",
    "    vif[\"Features\"] = df1.columns\n",
    "    vif['VIF'] = [variance_inflation_factor(df1.values, i) for i in range(df1.shape[1])]\n",
    "    return(vif)"
   ]
  },
  {
   "cell_type": "code",
   "execution_count": 27,
   "metadata": {},
   "outputs": [
    {
     "data": {
      "text/html": [
       "<div>\n",
       "<style scoped>\n",
       "    .dataframe tbody tr th:only-of-type {\n",
       "        vertical-align: middle;\n",
       "    }\n",
       "\n",
       "    .dataframe tbody tr th {\n",
       "        vertical-align: top;\n",
       "    }\n",
       "\n",
       "    .dataframe thead th {\n",
       "        text-align: right;\n",
       "    }\n",
       "</style>\n",
       "<table border=\"1\" class=\"dataframe\">\n",
       "  <thead>\n",
       "    <tr style=\"text-align: right;\">\n",
       "      <th></th>\n",
       "      <th>Features</th>\n",
       "      <th>VIF</th>\n",
       "    </tr>\n",
       "  </thead>\n",
       "  <tbody>\n",
       "    <tr>\n",
       "      <th>2</th>\n",
       "      <td>height</td>\n",
       "      <td>6.803162</td>\n",
       "    </tr>\n",
       "    <tr>\n",
       "      <th>0</th>\n",
       "      <td>const</td>\n",
       "      <td>65.023868</td>\n",
       "    </tr>\n",
       "    <tr>\n",
       "      <th>4</th>\n",
       "      <td>age</td>\n",
       "      <td>1.576424</td>\n",
       "    </tr>\n",
       "    <tr>\n",
       "      <th>3</th>\n",
       "      <td>Whole Weight</td>\n",
       "      <td>8.152735</td>\n",
       "    </tr>\n",
       "    <tr>\n",
       "      <th>1</th>\n",
       "      <td>Lenght</td>\n",
       "      <td>8.663003</td>\n",
       "    </tr>\n",
       "  </tbody>\n",
       "</table>\n",
       "</div>"
      ],
      "text/plain": [
       "       Features        VIF\n",
       "2        height   6.803162\n",
       "0         const  65.023868\n",
       "4           age   1.576424\n",
       "3  Whole Weight   8.152735\n",
       "1        Lenght   8.663003"
      ]
     },
     "execution_count": 27,
     "metadata": {},
     "output_type": "execute_result"
    }
   ],
   "source": [
    "temp = df.drop('Gender', axis = 1) #i.e. categorical\n",
    "vif_arr(temp).sort_values(by = 'Features', ascending = False)"
   ]
  },
  {
   "cell_type": "code",
   "execution_count": 28,
   "metadata": {},
   "outputs": [],
   "source": [
    "df['height'] = np.sqrt(df['height'])"
   ]
  },
  {
   "cell_type": "code",
   "execution_count": 31,
   "metadata": {},
   "outputs": [
    {
     "data": {
      "text/plain": [
       "Text(0.5, 1.0, 'height vs sex')"
      ]
     },
     "execution_count": 31,
     "metadata": {},
     "output_type": "execute_result"
    },
    {
     "data": {
      "image/png": "[encoded data removed]",
      "text/plain": [
       "<Figure size 1440x288 with 3 Axes>"
      ]
     },
     "metadata": {
      "needs_background": "light"
     },
     "output_type": "display_data"
    }
   ],
   "source": [
    "f, axes = plt.subplots(ncols = 3, figsize = (20,4))\n",
    "\n",
    "sns.boxplot(x = 'Gender', y = 'Whole Weight', data = df, ax = axes[0])\n",
    "axes[0].set_title('whole_weight vs sex')\n",
    "\n",
    "sns.boxplot(x = 'Gender', y = 'Lenght', data = df, ax = axes[1])\n",
    "axes[1].set_title('length vs sex')\n",
    "\n",
    "sns.boxplot(x = 'Gender', y = 'height', data = df, ax = axes[2])\n",
    "axes[2].set_title('height vs sex')"
   ]
  },
  {
   "cell_type": "code",
   "execution_count": 32,
   "metadata": {},
   "outputs": [
    {
     "data": {
      "text/plain": [
       "age             1.152246\n",
       "Whole Weight    0.581087\n",
       "height         -0.525031\n",
       "Lenght         -0.560427\n",
       "dtype: float64"
      ]
     },
     "execution_count": 32,
     "metadata": {},
     "output_type": "execute_result"
    }
   ],
   "source": [
    "#checking skewness again\n",
    "df.skew().sort_values(ascending = False)"
   ]
  },
  {
   "cell_type": "code",
   "execution_count": 33,
   "metadata": {},
   "outputs": [
    {
     "data": {
      "text/html": [
       "<div>\n",
       "<style scoped>\n",
       "    .dataframe tbody tr th:only-of-type {\n",
       "        vertical-align: middle;\n",
       "    }\n",
       "\n",
       "    .dataframe tbody tr th {\n",
       "        vertical-align: top;\n",
       "    }\n",
       "\n",
       "    .dataframe thead th {\n",
       "        text-align: right;\n",
       "    }\n",
       "</style>\n",
       "<table border=\"1\" class=\"dataframe\">\n",
       "  <thead>\n",
       "    <tr style=\"text-align: right;\">\n",
       "      <th></th>\n",
       "      <th>Gender</th>\n",
       "      <th>Lenght</th>\n",
       "      <th>height</th>\n",
       "      <th>Whole Weight</th>\n",
       "      <th>age</th>\n",
       "    </tr>\n",
       "  </thead>\n",
       "  <tbody>\n",
       "    <tr>\n",
       "      <th>0</th>\n",
       "      <td>M</td>\n",
       "      <td>0.605</td>\n",
       "      <td>0.339116</td>\n",
       "      <td>1.1140</td>\n",
       "      <td>3</td>\n",
       "    </tr>\n",
       "    <tr>\n",
       "      <th>1</th>\n",
       "      <td>I</td>\n",
       "      <td>0.430</td>\n",
       "      <td>0.308221</td>\n",
       "      <td>0.3780</td>\n",
       "      <td>1</td>\n",
       "    </tr>\n",
       "    <tr>\n",
       "      <th>2</th>\n",
       "      <td>I</td>\n",
       "      <td>0.580</td>\n",
       "      <td>0.441588</td>\n",
       "      <td>1.3165</td>\n",
       "      <td>3</td>\n",
       "    </tr>\n",
       "    <tr>\n",
       "      <th>3</th>\n",
       "      <td>M</td>\n",
       "      <td>0.535</td>\n",
       "      <td>0.418330</td>\n",
       "      <td>1.2705</td>\n",
       "      <td>3</td>\n",
       "    </tr>\n",
       "    <tr>\n",
       "      <th>4</th>\n",
       "      <td>I</td>\n",
       "      <td>0.310</td>\n",
       "      <td>0.300000</td>\n",
       "      <td>0.1270</td>\n",
       "      <td>1</td>\n",
       "    </tr>\n",
       "  </tbody>\n",
       "</table>\n",
       "</div>"
      ],
      "text/plain": [
       "  Gender  Lenght    height  Whole Weight  age\n",
       "0      M   0.605  0.339116        1.1140    3\n",
       "1      I   0.430  0.308221        0.3780    1\n",
       "2      I   0.580  0.441588        1.3165    3\n",
       "3      M   0.535  0.418330        1.2705    3\n",
       "4      I   0.310  0.300000        0.1270    1"
      ]
     },
     "execution_count": 33,
     "metadata": {},
     "output_type": "execute_result"
    }
   ],
   "source": [
    "Age = []\n",
    "for i in df[\"Whole Weight\"]:\n",
    "    if i < 0.6:\n",
    "        Age.append(1)\n",
    "    elif i > 0.6 and i < 1.0 :\n",
    "        Age.append(2)\n",
    "    else:\n",
    "        Age.append(3)\n",
    "df[\"age\"] = Age\n",
    "#df_1.drop(\"age\" , axis =1,inplace=True)\n",
    "df.head()"
   ]
  },
  {
   "cell_type": "code",
   "execution_count": 34,
   "metadata": {},
   "outputs": [
    {
     "data": {
      "text/plain": [
       "1    476\n",
       "3    445\n",
       "2    332\n",
       "Name: age, dtype: int64"
      ]
     },
     "execution_count": 34,
     "metadata": {},
     "output_type": "execute_result"
    }
   ],
   "source": [
    "new_df = pd.get_dummies(df, columns = ['Gender'], prefix_sep='_', drop_first = True)\n",
    "new_df['age'].value_counts()"
   ]
  },
  {
   "cell_type": "code",
   "execution_count": 35,
   "metadata": {},
   "outputs": [
    {
     "data": {
      "text/html": [
       "<div>\n",
       "<style scoped>\n",
       "    .dataframe tbody tr th:only-of-type {\n",
       "        vertical-align: middle;\n",
       "    }\n",
       "\n",
       "    .dataframe tbody tr th {\n",
       "        vertical-align: top;\n",
       "    }\n",
       "\n",
       "    .dataframe thead th {\n",
       "        text-align: right;\n",
       "    }\n",
       "</style>\n",
       "<table border=\"1\" class=\"dataframe\">\n",
       "  <thead>\n",
       "    <tr style=\"text-align: right;\">\n",
       "      <th></th>\n",
       "      <th>Features</th>\n",
       "      <th>VIF</th>\n",
       "    </tr>\n",
       "  </thead>\n",
       "  <tbody>\n",
       "    <tr>\n",
       "      <th>2</th>\n",
       "      <td>height</td>\n",
       "      <td>6.558508</td>\n",
       "    </tr>\n",
       "    <tr>\n",
       "      <th>0</th>\n",
       "      <td>const</td>\n",
       "      <td>151.566187</td>\n",
       "    </tr>\n",
       "    <tr>\n",
       "      <th>4</th>\n",
       "      <td>age</td>\n",
       "      <td>5.218142</td>\n",
       "    </tr>\n",
       "    <tr>\n",
       "      <th>3</th>\n",
       "      <td>Whole Weight</td>\n",
       "      <td>9.819624</td>\n",
       "    </tr>\n",
       "    <tr>\n",
       "      <th>1</th>\n",
       "      <td>Lenght</td>\n",
       "      <td>10.523827</td>\n",
       "    </tr>\n",
       "    <tr>\n",
       "      <th>6</th>\n",
       "      <td>Gender_M</td>\n",
       "      <td>1.413173</td>\n",
       "    </tr>\n",
       "    <tr>\n",
       "      <th>5</th>\n",
       "      <td>Gender_I</td>\n",
       "      <td>1.968070</td>\n",
       "    </tr>\n",
       "  </tbody>\n",
       "</table>\n",
       "</div>"
      ],
      "text/plain": [
       "       Features         VIF\n",
       "2        height    6.558508\n",
       "0         const  151.566187\n",
       "4           age    5.218142\n",
       "3  Whole Weight    9.819624\n",
       "1        Lenght   10.523827\n",
       "6      Gender_M    1.413173\n",
       "5      Gender_I    1.968070"
      ]
     },
     "execution_count": 35,
     "metadata": {},
     "output_type": "execute_result"
    }
   ],
   "source": [
    "#NEW VIF\n",
    "vif_arr(new_df).sort_values(by = 'Features', ascending = False)"
   ]
  },
  {
   "cell_type": "code",
   "execution_count": 36,
   "metadata": {},
   "outputs": [
    {
     "data": {
      "text/html": [
       "<div>\n",
       "<style scoped>\n",
       "    .dataframe tbody tr th:only-of-type {\n",
       "        vertical-align: middle;\n",
       "    }\n",
       "\n",
       "    .dataframe tbody tr th {\n",
       "        vertical-align: top;\n",
       "    }\n",
       "\n",
       "    .dataframe thead th {\n",
       "        text-align: right;\n",
       "    }\n",
       "</style>\n",
       "<table border=\"1\" class=\"dataframe\">\n",
       "  <thead>\n",
       "    <tr style=\"text-align: right;\">\n",
       "      <th></th>\n",
       "      <th>Features</th>\n",
       "      <th>VIF</th>\n",
       "    </tr>\n",
       "  </thead>\n",
       "  <tbody>\n",
       "    <tr>\n",
       "      <th>7</th>\n",
       "      <td>length</td>\n",
       "      <td>276.297363</td>\n",
       "    </tr>\n",
       "    <tr>\n",
       "      <th>2</th>\n",
       "      <td>height</td>\n",
       "      <td>7.712004</td>\n",
       "    </tr>\n",
       "    <tr>\n",
       "      <th>0</th>\n",
       "      <td>const</td>\n",
       "      <td>2939.650473</td>\n",
       "    </tr>\n",
       "    <tr>\n",
       "      <th>4</th>\n",
       "      <td>age</td>\n",
       "      <td>5.550323</td>\n",
       "    </tr>\n",
       "    <tr>\n",
       "      <th>3</th>\n",
       "      <td>Whole Weight</td>\n",
       "      <td>17.045007</td>\n",
       "    </tr>\n",
       "    <tr>\n",
       "      <th>1</th>\n",
       "      <td>Lenght</td>\n",
       "      <td>353.613732</td>\n",
       "    </tr>\n",
       "    <tr>\n",
       "      <th>6</th>\n",
       "      <td>Gender_M</td>\n",
       "      <td>1.414057</td>\n",
       "    </tr>\n",
       "    <tr>\n",
       "      <th>5</th>\n",
       "      <td>Gender_I</td>\n",
       "      <td>1.970152</td>\n",
       "    </tr>\n",
       "  </tbody>\n",
       "</table>\n",
       "</div>"
      ],
      "text/plain": [
       "       Features          VIF\n",
       "7        length   276.297363\n",
       "2        height     7.712004\n",
       "0         const  2939.650473\n",
       "4           age     5.550323\n",
       "3  Whole Weight    17.045007\n",
       "1        Lenght   353.613732\n",
       "6      Gender_M     1.414057\n",
       "5      Gender_I     1.970152"
      ]
     },
     "execution_count": 36,
     "metadata": {},
     "output_type": "execute_result"
    }
   ],
   "source": [
    "new_df['length'] = np.sqrt(new_df['Lenght'])\n",
    "vif_arr(new_df).sort_values(by = 'Features', ascending = False)"
   ]
  },
  {
   "cell_type": "code",
   "execution_count": 37,
   "metadata": {},
   "outputs": [
    {
     "name": "stdout",
     "output_type": "stream",
     "text": [
      "Classifiers:  LogisticRegression Has a training score of 96.0 % accuracy score\n",
      "Classifiers:  KNeighborsClassifier Has a training score of 94.0 % accuracy score\n",
      "Classifiers:  SVC Has a training score of 95.0 % accuracy score\n",
      "Classifiers:  DecisionTreeClassifier Has a training score of 100.0 % accuracy score\n"
     ]
    }
   ],
   "source": [
    "X = new_df.drop('age', axis = 1)\n",
    "y = new_df['age']\n",
    "X_train, X_test, y_train, y_test = train_test_split(X, y, test_size=0.2, random_state=42)\n",
    "\n",
    "sc = StandardScaler()\n",
    "sc.fit(X_train)\n",
    "X_train_std = sc.transform(X_train)\n",
    "X_test_std = sc.transform(X_test)\n",
    "X_train_std = pd.DataFrame(X_train_std, columns=X_train.columns)\n",
    "X_test_std = pd.DataFrame(X_test_std, columns=X_train.columns)\n",
    "\n",
    "X_train = X_train_std.values\n",
    "X_test = X_test_std.values\n",
    "y_train = y_train.values\n",
    "y_test = y_test.values\n",
    "\n",
    "classifiers = {\"LogisiticRegression\": LogisticRegression(),\n",
    "               \"KNearest\": KNeighborsClassifier(),\n",
    "               \"Support Vector Classifier\": SVC(),\n",
    "               \"DecisionTreeClassifier\": DecisionTreeClassifier()}\n",
    "\n",
    "for key, classifier in classifiers.items():\n",
    "    classifier.fit(X_train, y_train)\n",
    "    training_score = cross_val_score(classifier, X_train, y_train, cv=5)\n",
    "    print(\"Classifiers: \", classifier.__class__.__name__, \"Has a training score of\", round(training_score.mean(), 2) * 100, \"% accuracy score\")"
   ]
  },
  {
   "cell_type": "code",
   "execution_count": 38,
   "metadata": {},
   "outputs": [
    {
     "name": "stdout",
     "output_type": "stream",
     "text": [
      "Best Estimators:  LogisticRegression(C=1000, solver='newton-cg')\n"
     ]
    }
   ],
   "source": [
    "log_reg_params = {\"penalty\": ['l1', 'l2'], 'C': [0.001, 0.01, 0.1, 1, 10, 100, 1000],\n",
    "                  'solver': ['newton-cg', 'lbfgs', 'liblinear', 'sag', 'saga']}\n",
    "\n",
    "grid_log = GridSearchCV(LogisticRegression(), log_reg_params)\n",
    "grid_log.fit(X_train, y_train)\n",
    "log_reg = grid_log.best_estimator_\n",
    "print('Best Estimators: ', log_reg)"
   ]
  },
  {
   "cell_type": "code",
   "execution_count": 39,
   "metadata": {},
   "outputs": [
    {
     "name": "stdout",
     "output_type": "stream",
     "text": [
      "Logistic Regression Cross Validation Score:  99.6%\n"
     ]
    }
   ],
   "source": [
    "log_reg_score = cross_val_score(log_reg, X_train, y_train, cv=5) #We will use best parameters for modeling\n",
    "print('Logistic Regression Cross Validation Score: ', round(log_reg_score.mean() * 100, 2).astype(str) + '%')"
   ]
  },
  {
   "cell_type": "code",
   "execution_count": 40,
   "metadata": {},
   "outputs": [
    {
     "name": "stdout",
     "output_type": "stream",
     "text": [
      "              precision    recall  f1-score   support\n",
      "\n",
      "           1       0.99      1.00      0.99        86\n",
      "           2       1.00      0.97      0.99        71\n",
      "           3       0.99      1.00      0.99        94\n",
      "\n",
      "    accuracy                           0.99       251\n",
      "   macro avg       0.99      0.99      0.99       251\n",
      "weighted avg       0.99      0.99      0.99       251\n",
      "\n",
      "[[86  0  0]\n",
      " [ 1 69  1]\n",
      " [ 0  0 94]]\n"
     ]
    }
   ],
   "source": [
    "model = LogisticRegression(C=1000, solver='newton-cg')\n",
    "model.fit(X_train, y_train)\n",
    "y_pred = model.predict(X_test)\n",
    "print(classification_report(y_test, y_pred))\n",
    "print(confusion_matrix(y_test, y_pred))"
   ]
  },
  {
   "cell_type": "code",
   "execution_count": null,
   "metadata": {},
   "outputs": [],
   "source": []
  },
  {
   "cell_type": "markdown",
   "metadata": {},
   "source": [
    "# 제출"
   ]
  },
  {
   "cell_type": "code",
   "execution_count": 41,
   "metadata": {},
   "outputs": [
    {
     "data": {
      "text/html": [
       "<div>\n",
       "<style scoped>\n",
       "    .dataframe tbody tr th:only-of-type {\n",
       "        vertical-align: middle;\n",
       "    }\n",
       "\n",
       "    .dataframe tbody tr th {\n",
       "        vertical-align: top;\n",
       "    }\n",
       "\n",
       "    .dataframe thead th {\n",
       "        text-align: right;\n",
       "    }\n",
       "</style>\n",
       "<table border=\"1\" class=\"dataframe\">\n",
       "  <thead>\n",
       "    <tr style=\"text-align: right;\">\n",
       "      <th></th>\n",
       "      <th>id</th>\n",
       "      <th>Target</th>\n",
       "    </tr>\n",
       "  </thead>\n",
       "  <tbody>\n",
       "    <tr>\n",
       "      <th>0</th>\n",
       "      <td>1</td>\n",
       "      <td>0</td>\n",
       "    </tr>\n",
       "    <tr>\n",
       "      <th>1</th>\n",
       "      <td>2</td>\n",
       "      <td>0</td>\n",
       "    </tr>\n",
       "    <tr>\n",
       "      <th>2</th>\n",
       "      <td>3</td>\n",
       "      <td>0</td>\n",
       "    </tr>\n",
       "    <tr>\n",
       "      <th>3</th>\n",
       "      <td>4</td>\n",
       "      <td>0</td>\n",
       "    </tr>\n",
       "    <tr>\n",
       "      <th>4</th>\n",
       "      <td>5</td>\n",
       "      <td>0</td>\n",
       "    </tr>\n",
       "  </tbody>\n",
       "</table>\n",
       "</div>"
      ],
      "text/plain": [
       "   id  Target\n",
       "0   1       0\n",
       "1   2       0\n",
       "2   3       0\n",
       "3   4       0\n",
       "4   5       0"
      ]
     },
     "execution_count": 41,
     "metadata": {},
     "output_type": "execute_result"
    }
   ],
   "source": [
    "submission = pd.read_csv('data/sample_submission.csv')\n",
    "submission.head()"
   ]
  },
  {
   "cell_type": "code",
   "execution_count": 42,
   "metadata": {},
   "outputs": [
    {
     "ename": "ValueError",
     "evalue": "Length of values (251) does not match length of index (2924)",
     "output_type": "error",
     "traceback": [
      "\u001b[1;31m---------------------------------------------------------------------------\u001b[0m",
      "\u001b[1;31mValueError\u001b[0m                                Traceback (most recent call last)",
      "\u001b[1;32m<ipython-input-42-c82d131bb77e>\u001b[0m in \u001b[0;36m<module>\u001b[1;34m\u001b[0m\n\u001b[1;32m----> 1\u001b[1;33m \u001b[0msubmission\u001b[0m\u001b[1;33m[\u001b[0m\u001b[1;34m'Target'\u001b[0m\u001b[1;33m]\u001b[0m \u001b[1;33m=\u001b[0m \u001b[0my_pred\u001b[0m\u001b[1;33m\u001b[0m\u001b[1;33m\u001b[0m\u001b[0m\n\u001b[0m\u001b[0;32m      2\u001b[0m \u001b[1;33m\u001b[0m\u001b[0m\n\u001b[0;32m      3\u001b[0m \u001b[1;31m# 데이터가 잘 들어갔는지 확인합니다\u001b[0m\u001b[1;33m\u001b[0m\u001b[1;33m\u001b[0m\u001b[1;33m\u001b[0m\u001b[0m\n\u001b[0;32m      4\u001b[0m \u001b[0msubmission\u001b[0m\u001b[1;33m\u001b[0m\u001b[1;33m\u001b[0m\u001b[0m\n",
      "\u001b[1;32m~\\anaconda3\\lib\\site-packages\\pandas\\core\\frame.py\u001b[0m in \u001b[0;36m__setitem__\u001b[1;34m(self, key, value)\u001b[0m\n\u001b[0;32m   3038\u001b[0m         \u001b[1;32melse\u001b[0m\u001b[1;33m:\u001b[0m\u001b[1;33m\u001b[0m\u001b[1;33m\u001b[0m\u001b[0m\n\u001b[0;32m   3039\u001b[0m             \u001b[1;31m# set column\u001b[0m\u001b[1;33m\u001b[0m\u001b[1;33m\u001b[0m\u001b[1;33m\u001b[0m\u001b[0m\n\u001b[1;32m-> 3040\u001b[1;33m             \u001b[0mself\u001b[0m\u001b[1;33m.\u001b[0m\u001b[0m_set_item\u001b[0m\u001b[1;33m(\u001b[0m\u001b[0mkey\u001b[0m\u001b[1;33m,\u001b[0m \u001b[0mvalue\u001b[0m\u001b[1;33m)\u001b[0m\u001b[1;33m\u001b[0m\u001b[1;33m\u001b[0m\u001b[0m\n\u001b[0m\u001b[0;32m   3041\u001b[0m \u001b[1;33m\u001b[0m\u001b[0m\n\u001b[0;32m   3042\u001b[0m     \u001b[1;32mdef\u001b[0m \u001b[0m_setitem_slice\u001b[0m\u001b[1;33m(\u001b[0m\u001b[0mself\u001b[0m\u001b[1;33m,\u001b[0m \u001b[0mkey\u001b[0m\u001b[1;33m:\u001b[0m \u001b[0mslice\u001b[0m\u001b[1;33m,\u001b[0m \u001b[0mvalue\u001b[0m\u001b[1;33m)\u001b[0m\u001b[1;33m:\u001b[0m\u001b[1;33m\u001b[0m\u001b[1;33m\u001b[0m\u001b[0m\n",
      "\u001b[1;32m~\\anaconda3\\lib\\site-packages\\pandas\\core\\frame.py\u001b[0m in \u001b[0;36m_set_item\u001b[1;34m(self, key, value)\u001b[0m\n\u001b[0;32m   3114\u001b[0m         \"\"\"\n\u001b[0;32m   3115\u001b[0m         \u001b[0mself\u001b[0m\u001b[1;33m.\u001b[0m\u001b[0m_ensure_valid_index\u001b[0m\u001b[1;33m(\u001b[0m\u001b[0mvalue\u001b[0m\u001b[1;33m)\u001b[0m\u001b[1;33m\u001b[0m\u001b[1;33m\u001b[0m\u001b[0m\n\u001b[1;32m-> 3116\u001b[1;33m         \u001b[0mvalue\u001b[0m \u001b[1;33m=\u001b[0m \u001b[0mself\u001b[0m\u001b[1;33m.\u001b[0m\u001b[0m_sanitize_column\u001b[0m\u001b[1;33m(\u001b[0m\u001b[0mkey\u001b[0m\u001b[1;33m,\u001b[0m \u001b[0mvalue\u001b[0m\u001b[1;33m)\u001b[0m\u001b[1;33m\u001b[0m\u001b[1;33m\u001b[0m\u001b[0m\n\u001b[0m\u001b[0;32m   3117\u001b[0m         \u001b[0mNDFrame\u001b[0m\u001b[1;33m.\u001b[0m\u001b[0m_set_item\u001b[0m\u001b[1;33m(\u001b[0m\u001b[0mself\u001b[0m\u001b[1;33m,\u001b[0m \u001b[0mkey\u001b[0m\u001b[1;33m,\u001b[0m \u001b[0mvalue\u001b[0m\u001b[1;33m)\u001b[0m\u001b[1;33m\u001b[0m\u001b[1;33m\u001b[0m\u001b[0m\n\u001b[0;32m   3118\u001b[0m \u001b[1;33m\u001b[0m\u001b[0m\n",
      "\u001b[1;32m~\\anaconda3\\lib\\site-packages\\pandas\\core\\frame.py\u001b[0m in \u001b[0;36m_sanitize_column\u001b[1;34m(self, key, value, broadcast)\u001b[0m\n\u001b[0;32m   3762\u001b[0m \u001b[1;33m\u001b[0m\u001b[0m\n\u001b[0;32m   3763\u001b[0m             \u001b[1;31m# turn me into an ndarray\u001b[0m\u001b[1;33m\u001b[0m\u001b[1;33m\u001b[0m\u001b[1;33m\u001b[0m\u001b[0m\n\u001b[1;32m-> 3764\u001b[1;33m             \u001b[0mvalue\u001b[0m \u001b[1;33m=\u001b[0m \u001b[0msanitize_index\u001b[0m\u001b[1;33m(\u001b[0m\u001b[0mvalue\u001b[0m\u001b[1;33m,\u001b[0m \u001b[0mself\u001b[0m\u001b[1;33m.\u001b[0m\u001b[0mindex\u001b[0m\u001b[1;33m)\u001b[0m\u001b[1;33m\u001b[0m\u001b[1;33m\u001b[0m\u001b[0m\n\u001b[0m\u001b[0;32m   3765\u001b[0m             \u001b[1;32mif\u001b[0m \u001b[1;32mnot\u001b[0m \u001b[0misinstance\u001b[0m\u001b[1;33m(\u001b[0m\u001b[0mvalue\u001b[0m\u001b[1;33m,\u001b[0m \u001b[1;33m(\u001b[0m\u001b[0mnp\u001b[0m\u001b[1;33m.\u001b[0m\u001b[0mndarray\u001b[0m\u001b[1;33m,\u001b[0m \u001b[0mIndex\u001b[0m\u001b[1;33m)\u001b[0m\u001b[1;33m)\u001b[0m\u001b[1;33m:\u001b[0m\u001b[1;33m\u001b[0m\u001b[1;33m\u001b[0m\u001b[0m\n\u001b[0;32m   3766\u001b[0m                 \u001b[1;32mif\u001b[0m \u001b[0misinstance\u001b[0m\u001b[1;33m(\u001b[0m\u001b[0mvalue\u001b[0m\u001b[1;33m,\u001b[0m \u001b[0mlist\u001b[0m\u001b[1;33m)\u001b[0m \u001b[1;32mand\u001b[0m \u001b[0mlen\u001b[0m\u001b[1;33m(\u001b[0m\u001b[0mvalue\u001b[0m\u001b[1;33m)\u001b[0m \u001b[1;33m>\u001b[0m \u001b[1;36m0\u001b[0m\u001b[1;33m:\u001b[0m\u001b[1;33m\u001b[0m\u001b[1;33m\u001b[0m\u001b[0m\n",
      "\u001b[1;32m~\\anaconda3\\lib\\site-packages\\pandas\\core\\internals\\construction.py\u001b[0m in \u001b[0;36msanitize_index\u001b[1;34m(data, index)\u001b[0m\n\u001b[0;32m    745\u001b[0m     \"\"\"\n\u001b[0;32m    746\u001b[0m     \u001b[1;32mif\u001b[0m \u001b[0mlen\u001b[0m\u001b[1;33m(\u001b[0m\u001b[0mdata\u001b[0m\u001b[1;33m)\u001b[0m \u001b[1;33m!=\u001b[0m \u001b[0mlen\u001b[0m\u001b[1;33m(\u001b[0m\u001b[0mindex\u001b[0m\u001b[1;33m)\u001b[0m\u001b[1;33m:\u001b[0m\u001b[1;33m\u001b[0m\u001b[1;33m\u001b[0m\u001b[0m\n\u001b[1;32m--> 747\u001b[1;33m         raise ValueError(\n\u001b[0m\u001b[0;32m    748\u001b[0m             \u001b[1;34m\"Length of values \"\u001b[0m\u001b[1;33m\u001b[0m\u001b[1;33m\u001b[0m\u001b[0m\n\u001b[0;32m    749\u001b[0m             \u001b[1;34mf\"({len(data)}) \"\u001b[0m\u001b[1;33m\u001b[0m\u001b[1;33m\u001b[0m\u001b[0m\n",
      "\u001b[1;31mValueError\u001b[0m: Length of values (251) does not match length of index (2924)"
     ]
    }
   ],
   "source": [
    "submission['Target'] = y_pred\n",
    "\n",
    "# 데이터가 잘 들어갔는지 확인합니다\n",
    "submission"
   ]
  },
  {
   "cell_type": "code",
   "execution_count": 32,
   "metadata": {},
   "outputs": [],
   "source": [
    "submission.to_csv('bidirectional_submit.csv', index=False)"
   ]
  },
  {
   "cell_type": "code",
   "execution_count": null,
   "metadata": {},
   "outputs": [],
   "source": []
  }
 ],
 "metadata": {
  "kernelspec": {
   "display_name": "Python 3",
   "language": "python",
   "name": "python3"
  },
  "language_info": {
   "codemirror_mode": {
    "name": "ipython",
    "version": 3
   },
   "file_extension": ".py",
   "mimetype": "text/x-python",
   "name": "python",
   "nbconvert_exporter": "python",
   "pygments_lexer": "ipython3",
   "version": "3.8.5"
  },
  "toc": {
   "base_numbering": 1,
   "nav_menu": {},
   "number_sections": true,
   "sideBar": true,
   "skip_h1_title": false,
   "title_cell": "Table of Contents",
   "title_sidebar": "Contents",
   "toc_cell": false,
   "toc_position": {},
   "toc_section_display": true,
   "toc_window_display": false
  },
  "varInspector": {
   "cols": {
    "lenName": 16,
    "lenType": 16,
    "lenVar": 40
   },
   "kernels_config": {
    "python": {
     "delete_cmd_postfix": "",
     "delete_cmd_prefix": "del ",
     "library": "var_list.py",
     "varRefreshCmd": "print(var_dic_list())"
    },
    "r": {
     "delete_cmd_postfix": ") ",
     "delete_cmd_prefix": "rm(",
     "library": "var_list.r",
     "varRefreshCmd": "cat(var_dic_list()) "
    }
   },
   "types_to_exclude": [
    "module",
    "function",
    "builtin_function_or_method",
    "instance",
    "_Feature"
   ],
   "window_display": false
  }
 },
 "nbformat": 4,
 "nbformat_minor": 4
}

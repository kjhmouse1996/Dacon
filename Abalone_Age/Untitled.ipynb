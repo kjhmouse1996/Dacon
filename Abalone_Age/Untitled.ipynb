{
 "cells": [
  {
   "cell_type": "markdown",
   "metadata": {},
   "source": [
    "# 학습 데이터 불러오기"
   ]
  },
  {
   "cell_type": "code",
   "execution_count": 1,
   "metadata": {
    "scrolled": true
   },
   "outputs": [
    {
     "data": {
      "text/html": [
       "<div>\n",
       "<style scoped>\n",
       "    .dataframe tbody tr th:only-of-type {\n",
       "        vertical-align: middle;\n",
       "    }\n",
       "\n",
       "    .dataframe tbody tr th {\n",
       "        vertical-align: top;\n",
       "    }\n",
       "\n",
       "    .dataframe thead th {\n",
       "        text-align: right;\n",
       "    }\n",
       "</style>\n",
       "<table border=\"1\" class=\"dataframe\">\n",
       "  <thead>\n",
       "    <tr style=\"text-align: right;\">\n",
       "      <th></th>\n",
       "      <th>id</th>\n",
       "      <th>Gender</th>\n",
       "      <th>Lenght</th>\n",
       "      <th>Diameter</th>\n",
       "      <th>Height</th>\n",
       "      <th>Whole Weight</th>\n",
       "      <th>Shucked Weight</th>\n",
       "      <th>Viscra Weight</th>\n",
       "      <th>Shell Weight</th>\n",
       "      <th>Target</th>\n",
       "    </tr>\n",
       "  </thead>\n",
       "  <tbody>\n",
       "    <tr>\n",
       "      <th>0</th>\n",
       "      <td>1</td>\n",
       "      <td>M</td>\n",
       "      <td>0.605</td>\n",
       "      <td>0.470</td>\n",
       "      <td>0.115</td>\n",
       "      <td>1.1140</td>\n",
       "      <td>0.3925</td>\n",
       "      <td>0.2910</td>\n",
       "      <td>0.3100</td>\n",
       "      <td>15</td>\n",
       "    </tr>\n",
       "    <tr>\n",
       "      <th>1</th>\n",
       "      <td>2</td>\n",
       "      <td>I</td>\n",
       "      <td>0.430</td>\n",
       "      <td>0.315</td>\n",
       "      <td>0.095</td>\n",
       "      <td>0.3780</td>\n",
       "      <td>0.1750</td>\n",
       "      <td>0.0800</td>\n",
       "      <td>0.1045</td>\n",
       "      <td>8</td>\n",
       "    </tr>\n",
       "    <tr>\n",
       "      <th>2</th>\n",
       "      <td>3</td>\n",
       "      <td>I</td>\n",
       "      <td>0.580</td>\n",
       "      <td>0.490</td>\n",
       "      <td>0.195</td>\n",
       "      <td>1.3165</td>\n",
       "      <td>0.5305</td>\n",
       "      <td>0.2540</td>\n",
       "      <td>0.4100</td>\n",
       "      <td>18</td>\n",
       "    </tr>\n",
       "    <tr>\n",
       "      <th>3</th>\n",
       "      <td>4</td>\n",
       "      <td>M</td>\n",
       "      <td>0.535</td>\n",
       "      <td>0.405</td>\n",
       "      <td>0.175</td>\n",
       "      <td>1.2705</td>\n",
       "      <td>0.5480</td>\n",
       "      <td>0.3265</td>\n",
       "      <td>0.3370</td>\n",
       "      <td>13</td>\n",
       "    </tr>\n",
       "    <tr>\n",
       "      <th>4</th>\n",
       "      <td>5</td>\n",
       "      <td>I</td>\n",
       "      <td>0.310</td>\n",
       "      <td>0.235</td>\n",
       "      <td>0.090</td>\n",
       "      <td>0.1270</td>\n",
       "      <td>0.0480</td>\n",
       "      <td>0.0310</td>\n",
       "      <td>0.0400</td>\n",
       "      <td>6</td>\n",
       "    </tr>\n",
       "  </tbody>\n",
       "</table>\n",
       "</div>"
      ],
      "text/plain": [
       "   id Gender  Lenght  Diameter  Height  Whole Weight  Shucked Weight  \\\n",
       "0   1      M   0.605     0.470   0.115        1.1140          0.3925   \n",
       "1   2      I   0.430     0.315   0.095        0.3780          0.1750   \n",
       "2   3      I   0.580     0.490   0.195        1.3165          0.5305   \n",
       "3   4      M   0.535     0.405   0.175        1.2705          0.5480   \n",
       "4   5      I   0.310     0.235   0.090        0.1270          0.0480   \n",
       "\n",
       "   Viscra Weight  Shell Weight  Target  \n",
       "0         0.2910        0.3100      15  \n",
       "1         0.0800        0.1045       8  \n",
       "2         0.2540        0.4100      18  \n",
       "3         0.3265        0.3370      13  \n",
       "4         0.0310        0.0400       6  "
      ]
     },
     "execution_count": 1,
     "metadata": {},
     "output_type": "execute_result"
    }
   ],
   "source": [
    "import warnings\n",
    "warnings.filterwarnings('ignore')\n",
    "\n",
    "import pandas as pd\n",
    "\n",
    "# csv형식으로 된 데이터 파일을 읽어옵니다.\n",
    "train = pd.read_csv('data/train.csv')\n",
    "train.head()"
   ]
  },
  {
   "cell_type": "code",
   "execution_count": 2,
   "metadata": {},
   "outputs": [
    {
     "data": {
      "text/html": [
       "<div>\n",
       "<style scoped>\n",
       "    .dataframe tbody tr th:only-of-type {\n",
       "        vertical-align: middle;\n",
       "    }\n",
       "\n",
       "    .dataframe tbody tr th {\n",
       "        vertical-align: top;\n",
       "    }\n",
       "\n",
       "    .dataframe thead th {\n",
       "        text-align: right;\n",
       "    }\n",
       "</style>\n",
       "<table border=\"1\" class=\"dataframe\">\n",
       "  <thead>\n",
       "    <tr style=\"text-align: right;\">\n",
       "      <th></th>\n",
       "      <th>id</th>\n",
       "      <th>Gender</th>\n",
       "      <th>Lenght</th>\n",
       "      <th>Diameter</th>\n",
       "      <th>Height</th>\n",
       "      <th>Whole Weight</th>\n",
       "      <th>Shucked Weight</th>\n",
       "      <th>Viscra Weight</th>\n",
       "      <th>Shell Weight</th>\n",
       "    </tr>\n",
       "  </thead>\n",
       "  <tbody>\n",
       "    <tr>\n",
       "      <th>0</th>\n",
       "      <td>1</td>\n",
       "      <td>F</td>\n",
       "      <td>0.595</td>\n",
       "      <td>0.470</td>\n",
       "      <td>0.155</td>\n",
       "      <td>1.121</td>\n",
       "      <td>0.4515</td>\n",
       "      <td>0.1780</td>\n",
       "      <td>0.1550</td>\n",
       "    </tr>\n",
       "    <tr>\n",
       "      <th>1</th>\n",
       "      <td>2</td>\n",
       "      <td>M</td>\n",
       "      <td>0.580</td>\n",
       "      <td>0.450</td>\n",
       "      <td>0.150</td>\n",
       "      <td>0.927</td>\n",
       "      <td>0.2760</td>\n",
       "      <td>0.1815</td>\n",
       "      <td>0.3600</td>\n",
       "    </tr>\n",
       "    <tr>\n",
       "      <th>2</th>\n",
       "      <td>3</td>\n",
       "      <td>I</td>\n",
       "      <td>0.260</td>\n",
       "      <td>0.205</td>\n",
       "      <td>0.070</td>\n",
       "      <td>0.097</td>\n",
       "      <td>0.0415</td>\n",
       "      <td>0.0190</td>\n",
       "      <td>0.0305</td>\n",
       "    </tr>\n",
       "    <tr>\n",
       "      <th>3</th>\n",
       "      <td>4</td>\n",
       "      <td>M</td>\n",
       "      <td>0.590</td>\n",
       "      <td>0.460</td>\n",
       "      <td>0.130</td>\n",
       "      <td>1.102</td>\n",
       "      <td>0.4550</td>\n",
       "      <td>0.2055</td>\n",
       "      <td>0.3300</td>\n",
       "    </tr>\n",
       "    <tr>\n",
       "      <th>4</th>\n",
       "      <td>5</td>\n",
       "      <td>F</td>\n",
       "      <td>0.595</td>\n",
       "      <td>0.465</td>\n",
       "      <td>0.140</td>\n",
       "      <td>1.113</td>\n",
       "      <td>0.5175</td>\n",
       "      <td>0.2440</td>\n",
       "      <td>0.3050</td>\n",
       "    </tr>\n",
       "  </tbody>\n",
       "</table>\n",
       "</div>"
      ],
      "text/plain": [
       "   id Gender  Lenght  Diameter  Height  Whole Weight  Shucked Weight  \\\n",
       "0   1      F   0.595     0.470   0.155         1.121          0.4515   \n",
       "1   2      M   0.580     0.450   0.150         0.927          0.2760   \n",
       "2   3      I   0.260     0.205   0.070         0.097          0.0415   \n",
       "3   4      M   0.590     0.460   0.130         1.102          0.4550   \n",
       "4   5      F   0.595     0.465   0.140         1.113          0.5175   \n",
       "\n",
       "   Viscra Weight  Shell Weight  \n",
       "0         0.1780        0.1550  \n",
       "1         0.1815        0.3600  \n",
       "2         0.0190        0.0305  \n",
       "3         0.2055        0.3300  \n",
       "4         0.2440        0.3050  "
      ]
     },
     "execution_count": 2,
     "metadata": {},
     "output_type": "execute_result"
    }
   ],
   "source": [
    "test = pd.read_csv('data/test.csv')\n",
    "test.head()"
   ]
  },
  {
   "cell_type": "markdown",
   "metadata": {},
   "source": [
    "## 결측치 확인"
   ]
  },
  {
   "cell_type": "code",
   "execution_count": 21,
   "metadata": {},
   "outputs": [
    {
     "name": "stdout",
     "output_type": "stream",
     "text": [
      "결측치가 존재하지 않습니다\n"
     ]
    }
   ],
   "source": [
    "def check_missing_col(dataframe):\n",
    "    missing_col = []\n",
    "    counted_missing_col = 0\n",
    "    for i, col in enumerate(dataframe.columns):\n",
    "        missing_values = sum(dataframe[col].isna())\n",
    "        is_missing = True if missing_values >= 1 else False\n",
    "        if is_missing:\n",
    "            counted_missing_col += 1\n",
    "            print(f'결측치가 있는 컬럼은: {col}입니다')\n",
    "            print(f'해당 컬럼에 총 {missing_values}개의 결측치가 존재합니다.')\n",
    "            missing_col.append([col, dataframe[col].dtype])\n",
    "    if counted_missing_col == 0:\n",
    "        print('결측치가 존재하지 않습니다')\n",
    "    return missing_col\n",
    "\n",
    "missing_col = check_missing_col(train)"
   ]
  },
  {
   "cell_type": "markdown",
   "metadata": {},
   "source": [
    "# 데이터 전처리"
   ]
  },
  {
   "cell_type": "code",
   "execution_count": 4,
   "metadata": {},
   "outputs": [],
   "source": [
    "\n",
    "#라벨인코딩을 하기 위함 dictionary map 생성 함수\n",
    "def make_label_map(dataframe):\n",
    "    label_maps = {}\n",
    "    for col in dataframe.columns:\n",
    "        if dataframe[col].dtype=='object':\n",
    "            label_map = {'unknown':0}\n",
    "            for i, key in enumerate(dataframe[col].unique()):\n",
    "                label_map[key] = i+1  #새로 등장하는 유니크 값들에 대해 1부터 1씩 증가시켜 키값을 부여해줍니다.\n",
    "            label_maps[col] = label_map\n",
    "    print(label_maps)\n",
    "    return label_maps\n",
    "\n",
    "# 각 범주형 변수에 인코딩 값을 부여하는 함수\n",
    "def label_encoder(dataframe, label_map):\n",
    "    for col in dataframe.columns:\n",
    "        if dataframe[col].dtype=='object':\n",
    "            dataframe[col] = dataframe[col].map(label_map[col])\n",
    "            dataframe[col] = dataframe[col].fillna(label_map[col]['unknown']) #혹시 모를 결측값은 unknown의 값(0)으로 채워줍니다.\n",
    "    return dataframe"
   ]
  },
  {
   "cell_type": "code",
   "execution_count": 5,
   "metadata": {},
   "outputs": [
    {
     "name": "stdout",
     "output_type": "stream",
     "text": [
      "{'Gender': {'unknown': 0, 'M': 1, 'I': 2, 'F': 3}}\n"
     ]
    }
   ],
   "source": [
    "train_le = make_label_map(train[['Gender']])\n",
    "gender_df = label_encoder(train[['Gender']], train_le)\n",
    "train['Gender'] = gender_df[['Gender']]"
   ]
  },
  {
   "cell_type": "code",
   "execution_count": 6,
   "metadata": {},
   "outputs": [
    {
     "data": {
      "text/html": [
       "<div>\n",
       "<style scoped>\n",
       "    .dataframe tbody tr th:only-of-type {\n",
       "        vertical-align: middle;\n",
       "    }\n",
       "\n",
       "    .dataframe tbody tr th {\n",
       "        vertical-align: top;\n",
       "    }\n",
       "\n",
       "    .dataframe thead th {\n",
       "        text-align: right;\n",
       "    }\n",
       "</style>\n",
       "<table border=\"1\" class=\"dataframe\">\n",
       "  <thead>\n",
       "    <tr style=\"text-align: right;\">\n",
       "      <th></th>\n",
       "      <th>id</th>\n",
       "      <th>Gender</th>\n",
       "      <th>Lenght</th>\n",
       "      <th>Diameter</th>\n",
       "      <th>Height</th>\n",
       "      <th>Whole Weight</th>\n",
       "      <th>Shucked Weight</th>\n",
       "      <th>Viscra Weight</th>\n",
       "      <th>Shell Weight</th>\n",
       "      <th>Target</th>\n",
       "    </tr>\n",
       "  </thead>\n",
       "  <tbody>\n",
       "    <tr>\n",
       "      <th>0</th>\n",
       "      <td>1</td>\n",
       "      <td>1</td>\n",
       "      <td>0.605</td>\n",
       "      <td>0.470</td>\n",
       "      <td>0.115</td>\n",
       "      <td>1.1140</td>\n",
       "      <td>0.3925</td>\n",
       "      <td>0.2910</td>\n",
       "      <td>0.3100</td>\n",
       "      <td>15</td>\n",
       "    </tr>\n",
       "    <tr>\n",
       "      <th>1</th>\n",
       "      <td>2</td>\n",
       "      <td>2</td>\n",
       "      <td>0.430</td>\n",
       "      <td>0.315</td>\n",
       "      <td>0.095</td>\n",
       "      <td>0.3780</td>\n",
       "      <td>0.1750</td>\n",
       "      <td>0.0800</td>\n",
       "      <td>0.1045</td>\n",
       "      <td>8</td>\n",
       "    </tr>\n",
       "    <tr>\n",
       "      <th>2</th>\n",
       "      <td>3</td>\n",
       "      <td>2</td>\n",
       "      <td>0.580</td>\n",
       "      <td>0.490</td>\n",
       "      <td>0.195</td>\n",
       "      <td>1.3165</td>\n",
       "      <td>0.5305</td>\n",
       "      <td>0.2540</td>\n",
       "      <td>0.4100</td>\n",
       "      <td>18</td>\n",
       "    </tr>\n",
       "    <tr>\n",
       "      <th>3</th>\n",
       "      <td>4</td>\n",
       "      <td>1</td>\n",
       "      <td>0.535</td>\n",
       "      <td>0.405</td>\n",
       "      <td>0.175</td>\n",
       "      <td>1.2705</td>\n",
       "      <td>0.5480</td>\n",
       "      <td>0.3265</td>\n",
       "      <td>0.3370</td>\n",
       "      <td>13</td>\n",
       "    </tr>\n",
       "    <tr>\n",
       "      <th>4</th>\n",
       "      <td>5</td>\n",
       "      <td>2</td>\n",
       "      <td>0.310</td>\n",
       "      <td>0.235</td>\n",
       "      <td>0.090</td>\n",
       "      <td>0.1270</td>\n",
       "      <td>0.0480</td>\n",
       "      <td>0.0310</td>\n",
       "      <td>0.0400</td>\n",
       "      <td>6</td>\n",
       "    </tr>\n",
       "  </tbody>\n",
       "</table>\n",
       "</div>"
      ],
      "text/plain": [
       "   id  Gender  Lenght  Diameter  Height  Whole Weight  Shucked Weight  \\\n",
       "0   1       1   0.605     0.470   0.115        1.1140          0.3925   \n",
       "1   2       2   0.430     0.315   0.095        0.3780          0.1750   \n",
       "2   3       2   0.580     0.490   0.195        1.3165          0.5305   \n",
       "3   4       1   0.535     0.405   0.175        1.2705          0.5480   \n",
       "4   5       2   0.310     0.235   0.090        0.1270          0.0480   \n",
       "\n",
       "   Viscra Weight  Shell Weight  Target  \n",
       "0         0.2910        0.3100      15  \n",
       "1         0.0800        0.1045       8  \n",
       "2         0.2540        0.4100      18  \n",
       "3         0.3265        0.3370      13  \n",
       "4         0.0310        0.0400       6  "
      ]
     },
     "execution_count": 6,
     "metadata": {},
     "output_type": "execute_result"
    }
   ],
   "source": [
    "train.head()"
   ]
  },
  {
   "cell_type": "code",
   "execution_count": 7,
   "metadata": {},
   "outputs": [
    {
     "name": "stdout",
     "output_type": "stream",
     "text": [
      "{'Gender': {'unknown': 0, 'F': 1, 'M': 2, 'I': 3}}\n"
     ]
    }
   ],
   "source": [
    "test_le = make_label_map(test[['Gender']])\n",
    "gender_df = label_encoder(test[['Gender']], test_le)\n",
    "test['Gender'] = gender_df[['Gender']]"
   ]
  },
  {
   "cell_type": "code",
   "execution_count": 17,
   "metadata": {},
   "outputs": [
    {
     "data": {
      "text/html": [
       "<div>\n",
       "<style scoped>\n",
       "    .dataframe tbody tr th:only-of-type {\n",
       "        vertical-align: middle;\n",
       "    }\n",
       "\n",
       "    .dataframe tbody tr th {\n",
       "        vertical-align: top;\n",
       "    }\n",
       "\n",
       "    .dataframe thead th {\n",
       "        text-align: right;\n",
       "    }\n",
       "</style>\n",
       "<table border=\"1\" class=\"dataframe\">\n",
       "  <thead>\n",
       "    <tr style=\"text-align: right;\">\n",
       "      <th></th>\n",
       "      <th>id</th>\n",
       "      <th>Gender</th>\n",
       "      <th>Lenght</th>\n",
       "      <th>Diameter</th>\n",
       "      <th>Height</th>\n",
       "      <th>Whole Weight</th>\n",
       "      <th>Shucked Weight</th>\n",
       "      <th>Viscra Weight</th>\n",
       "      <th>Shell Weight</th>\n",
       "    </tr>\n",
       "  </thead>\n",
       "  <tbody>\n",
       "    <tr>\n",
       "      <th>0</th>\n",
       "      <td>1</td>\n",
       "      <td>1</td>\n",
       "      <td>0.595</td>\n",
       "      <td>0.470</td>\n",
       "      <td>0.155</td>\n",
       "      <td>1.121</td>\n",
       "      <td>0.4515</td>\n",
       "      <td>0.1780</td>\n",
       "      <td>0.1550</td>\n",
       "    </tr>\n",
       "    <tr>\n",
       "      <th>1</th>\n",
       "      <td>2</td>\n",
       "      <td>2</td>\n",
       "      <td>0.580</td>\n",
       "      <td>0.450</td>\n",
       "      <td>0.150</td>\n",
       "      <td>0.927</td>\n",
       "      <td>0.2760</td>\n",
       "      <td>0.1815</td>\n",
       "      <td>0.3600</td>\n",
       "    </tr>\n",
       "    <tr>\n",
       "      <th>2</th>\n",
       "      <td>3</td>\n",
       "      <td>3</td>\n",
       "      <td>0.260</td>\n",
       "      <td>0.205</td>\n",
       "      <td>0.070</td>\n",
       "      <td>0.097</td>\n",
       "      <td>0.0415</td>\n",
       "      <td>0.0190</td>\n",
       "      <td>0.0305</td>\n",
       "    </tr>\n",
       "    <tr>\n",
       "      <th>3</th>\n",
       "      <td>4</td>\n",
       "      <td>2</td>\n",
       "      <td>0.590</td>\n",
       "      <td>0.460</td>\n",
       "      <td>0.130</td>\n",
       "      <td>1.102</td>\n",
       "      <td>0.4550</td>\n",
       "      <td>0.2055</td>\n",
       "      <td>0.3300</td>\n",
       "    </tr>\n",
       "    <tr>\n",
       "      <th>4</th>\n",
       "      <td>5</td>\n",
       "      <td>1</td>\n",
       "      <td>0.595</td>\n",
       "      <td>0.465</td>\n",
       "      <td>0.140</td>\n",
       "      <td>1.113</td>\n",
       "      <td>0.5175</td>\n",
       "      <td>0.2440</td>\n",
       "      <td>0.3050</td>\n",
       "    </tr>\n",
       "  </tbody>\n",
       "</table>\n",
       "</div>"
      ],
      "text/plain": [
       "   id  Gender  Lenght  Diameter  Height  Whole Weight  Shucked Weight  \\\n",
       "0   1       1   0.595     0.470   0.155         1.121          0.4515   \n",
       "1   2       2   0.580     0.450   0.150         0.927          0.2760   \n",
       "2   3       3   0.260     0.205   0.070         0.097          0.0415   \n",
       "3   4       2   0.590     0.460   0.130         1.102          0.4550   \n",
       "4   5       1   0.595     0.465   0.140         1.113          0.5175   \n",
       "\n",
       "   Viscra Weight  Shell Weight  \n",
       "0         0.1780        0.1550  \n",
       "1         0.1815        0.3600  \n",
       "2         0.0190        0.0305  \n",
       "3         0.2055        0.3300  \n",
       "4         0.2440        0.3050  "
      ]
     },
     "execution_count": 17,
     "metadata": {},
     "output_type": "execute_result"
    }
   ],
   "source": [
    "test.head()"
   ]
  },
  {
   "cell_type": "code",
   "execution_count": 16,
   "metadata": {},
   "outputs": [],
   "source": [
    "train_x = train.drop(['id', 'Target'], axis=1)\n",
    "train_y = train.Target"
   ]
  },
  {
   "cell_type": "code",
   "execution_count": 28,
   "metadata": {},
   "outputs": [],
   "source": [
    "test_x = test.drop(['id'], axis=1)"
   ]
  },
  {
   "cell_type": "code",
   "execution_count": null,
   "metadata": {},
   "outputs": [],
   "source": []
  },
  {
   "cell_type": "code",
   "execution_count": 12,
   "metadata": {},
   "outputs": [
    {
     "ename": "SyntaxError",
     "evalue": "invalid syntax (<ipython-input-12-921ce146f99a>, line 1)",
     "output_type": "error",
     "traceback": [
      "\u001b[1;36m  File \u001b[1;32m\"<ipython-input-12-921ce146f99a>\"\u001b[1;36m, line \u001b[1;32m1\u001b[0m\n\u001b[1;33m    pip3 install auto-sklearn\u001b[0m\n\u001b[1;37m         ^\u001b[0m\n\u001b[1;31mSyntaxError\u001b[0m\u001b[1;31m:\u001b[0m invalid syntax\n"
     ]
    }
   ],
   "source": [
    "pip3 install auto-sklearn"
   ]
  },
  {
   "cell_type": "code",
   "execution_count": 5,
   "metadata": {},
   "outputs": [
    {
     "ename": "ModuleNotFoundError",
     "evalue": "No module named 'autosklearn'",
     "output_type": "error",
     "traceback": [
      "\u001b[1;31m---------------------------------------------------------------------------\u001b[0m",
      "\u001b[1;31mModuleNotFoundError\u001b[0m                       Traceback (most recent call last)",
      "\u001b[1;32m<ipython-input-5-4846e30d0154>\u001b[0m in \u001b[0;36m<module>\u001b[1;34m\u001b[0m\n\u001b[1;32m----> 1\u001b[1;33m \u001b[1;32mimport\u001b[0m \u001b[0mautosklearn\u001b[0m\u001b[1;33m.\u001b[0m\u001b[0mregression\u001b[0m\u001b[1;33m\u001b[0m\u001b[1;33m\u001b[0m\u001b[0m\n\u001b[0m\u001b[0;32m      2\u001b[0m \u001b[1;33m\u001b[0m\u001b[0m\n\u001b[0;32m      3\u001b[0m \u001b[1;32mfrom\u001b[0m \u001b[0mfeature_engine\u001b[0m \u001b[1;32mimport\u001b[0m \u001b[0mtransformation\u001b[0m \u001b[1;32mas\u001b[0m \u001b[0mvt\u001b[0m\u001b[1;33m\u001b[0m\u001b[1;33m\u001b[0m\u001b[0m\n",
      "\u001b[1;31mModuleNotFoundError\u001b[0m: No module named 'autosklearn'"
     ]
    }
   ],
   "source": [
    "import autosklearn.regression\n",
    "\n",
    "from feature_engine import transformation as vt"
   ]
  },
  {
   "cell_type": "code",
   "execution_count": 4,
   "metadata": {},
   "outputs": [
    {
     "ename": "NameError",
     "evalue": "name 'vt' is not defined",
     "output_type": "error",
     "traceback": [
      "\u001b[1;31m---------------------------------------------------------------------------\u001b[0m",
      "\u001b[1;31mNameError\u001b[0m                                 Traceback (most recent call last)",
      "\u001b[1;32m<ipython-input-4-1235f55d1ecc>\u001b[0m in \u001b[0;36m<module>\u001b[1;34m\u001b[0m\n\u001b[1;32m----> 1\u001b[1;33m \u001b[0mtransformer\u001b[0m \u001b[1;33m=\u001b[0m \u001b[0mvt\u001b[0m\u001b[1;33m.\u001b[0m\u001b[0mYeoJohnsonTransformer\u001b[0m\u001b[1;33m(\u001b[0m\u001b[0mvariables\u001b[0m\u001b[1;33m=\u001b[0m\u001b[1;33m[\u001b[0m\u001b[1;34m\"Lenght\"\u001b[0m\u001b[1;33m,\u001b[0m \u001b[1;34m\"Diameter\"\u001b[0m\u001b[1;33m,\u001b[0m \u001b[1;34m\"Height\"\u001b[0m\u001b[1;33m,\u001b[0m \u001b[1;34m\"Whole Weight\"\u001b[0m\u001b[1;33m,\u001b[0m \u001b[1;34m\"Shucked Weight\"\u001b[0m\u001b[1;33m,\u001b[0m \u001b[1;34m\"Viscra Weight\"\u001b[0m\u001b[1;33m,\u001b[0m \u001b[1;34m\"Shell Weight\"\u001b[0m\u001b[1;33m]\u001b[0m\u001b[1;33m)\u001b[0m\u001b[1;33m\u001b[0m\u001b[1;33m\u001b[0m\u001b[0m\n\u001b[0m\u001b[0;32m      2\u001b[0m \u001b[0mtransformer\u001b[0m\u001b[1;33m.\u001b[0m\u001b[0mfit\u001b[0m\u001b[1;33m(\u001b[0m\u001b[0mdf_train\u001b[0m\u001b[1;33m)\u001b[0m\u001b[1;33m\u001b[0m\u001b[1;33m\u001b[0m\u001b[0m\n\u001b[0;32m      3\u001b[0m \u001b[0mdf_train\u001b[0m \u001b[1;33m=\u001b[0m \u001b[0mtransformer\u001b[0m\u001b[1;33m.\u001b[0m\u001b[0mtransform\u001b[0m\u001b[1;33m(\u001b[0m\u001b[0mdf_train\u001b[0m\u001b[1;33m)\u001b[0m\u001b[1;33m\u001b[0m\u001b[1;33m\u001b[0m\u001b[0m\n",
      "\u001b[1;31mNameError\u001b[0m: name 'vt' is not defined"
     ]
    }
   ],
   "source": [
    "transformer = vt.YeoJohnsonTransformer(variables=[\"Lenght\", \"Diameter\", \"Height\", \"Whole Weight\", \"Shucked Weight\", \"Viscra Weight\", \"Shell Weight\"])\n",
    "transformer.fit(df_train)\n",
    "df_train = transformer.transform(df_train)"
   ]
  },
  {
   "cell_type": "code",
   "execution_count": null,
   "metadata": {},
   "outputs": [],
   "source": []
  },
  {
   "cell_type": "code",
   "execution_count": 12,
   "metadata": {},
   "outputs": [],
   "source": [
    "#-*- coding: utf-8 -*-\n",
    "from keras.models import Sequential\n",
    "from keras.layers import Dense\n",
    "from keras.callbacks import ModelCheckpoint,EarlyStopping\n",
    "import tensorflow as tf\n",
    "import os"
   ]
  },
  {
   "cell_type": "code",
   "execution_count": 34,
   "metadata": {},
   "outputs": [],
   "source": [
    "# 딥러닝 모델 선언\n",
    "model = Sequential()\n",
    "model.add(Dense(32, input_dim=8, activation='elu'))  # 입력층\n",
    "                                                       # 은닉층1\n",
    "model.add(Dense(24, activation='elu'))    \n",
    "model.add(Dense(16, activation='elu'))            \n",
    "model.add(Dense(8, activation='elu'))                 # \n",
    "model.add(Dense(1))                                    # 출력층\n",
    "# 선형 회귀는 마지막에 참과 거짓을 구분할 필요가 없음. 출력층에 활성화 함수를 지정할 필요도 없음\n",
    "\n",
    "model.compile(loss='mean_squared_error',\n",
    "              optimizer='Nadam', \n",
    "              metrics=['mae'])"
   ]
  },
  {
   "cell_type": "code",
   "execution_count": 35,
   "metadata": {},
   "outputs": [],
   "source": [
    "# 모델 저장 폴더 만들기\n",
    "MODEL_DIR = './model/'\n",
    "if not os.path.exists(MODEL_DIR):\n",
    "    os.mkdir(MODEL_DIR)\n",
    "\n",
    "modelpath = \"./model/{epoch:02d}-{val_loss:.4f}.hdf5\"\n",
    "\n",
    "# 모델 업데이트 및 저장\n",
    "checkpointer = ModelCheckpoint(filepath=modelpath, monitor='val_mse', verbose=1, save_best_only=True)\n",
    "\n",
    "# 학습 자동 중단 설정\n",
    "early_stopping_callback = EarlyStopping(monitor='val_mse', patience=50, mode='auto')"
   ]
  },
  {
   "cell_type": "code",
   "execution_count": 37,
   "metadata": {},
   "outputs": [
    {
     "name": "stdout",
     "output_type": "stream",
     "text": [
      "Epoch 1/500\n",
      " 1/27 [>.............................] - ETA: 0s - loss: 5.4283 - mae: 1.6664WARNING:tensorflow:Early stopping conditioned on metric `val_mse` which is not available. Available metrics are: loss,mae,val_loss,val_mae\n",
      "WARNING:tensorflow:Can save best model only with val_mse available, skipping.\n",
      "27/27 [==============================] - 0s 4ms/step - loss: 4.6350 - mae: 1.5411 - val_loss: 5.6058 - val_mae: 1.6551\n",
      "Epoch 2/500\n",
      " 1/27 [>.............................] - ETA: 0s - loss: 2.4874 - mae: 1.1678WARNING:tensorflow:Early stopping conditioned on metric `val_mse` which is not available. Available metrics are: loss,mae,val_loss,val_mae\n",
      "WARNING:tensorflow:Can save best model only with val_mse available, skipping.\n",
      "27/27 [==============================] - 0s 3ms/step - loss: 4.5890 - mae: 1.5319 - val_loss: 6.0229 - val_mae: 1.8367\n",
      "Epoch 3/500\n",
      " 1/27 [>.............................] - ETA: 0s - loss: 2.9112 - mae: 1.3798WARNING:tensorflow:Early stopping conditioned on metric `val_mse` which is not available. Available metrics are: loss,mae,val_loss,val_mae\n",
      "WARNING:tensorflow:Can save best model only with val_mse available, skipping.\n",
      "27/27 [==============================] - 0s 2ms/step - loss: 4.6849 - mae: 1.5592 - val_loss: 7.0673 - val_mae: 2.1020\n",
      "Epoch 4/500\n",
      " 1/27 [>.............................] - ETA: 0s - loss: 6.6251 - mae: 2.1167WARNING:tensorflow:Early stopping conditioned on metric `val_mse` which is not available. Available metrics are: loss,mae,val_loss,val_mae\n",
      "WARNING:tensorflow:Can save best model only with val_mse available, skipping.\n",
      "27/27 [==============================] - 0s 2ms/step - loss: 4.6596 - mae: 1.5531 - val_loss: 5.6234 - val_mae: 1.6501\n",
      "Epoch 5/500\n",
      " 1/27 [>.............................] - ETA: 0s - loss: 3.8989 - mae: 1.3224WARNING:tensorflow:Early stopping conditioned on metric `val_mse` which is not available. Available metrics are: loss,mae,val_loss,val_mae\n",
      "WARNING:tensorflow:Can save best model only with val_mse available, skipping.\n",
      "27/27 [==============================] - 0s 3ms/step - loss: 4.5756 - mae: 1.5343 - val_loss: 5.7405 - val_mae: 1.6212\n",
      "Epoch 6/500\n",
      " 1/27 [>.............................] - ETA: 0s - loss: 2.3870 - mae: 1.1443WARNING:tensorflow:Early stopping conditioned on metric `val_mse` which is not available. Available metrics are: loss,mae,val_loss,val_mae\n",
      "WARNING:tensorflow:Can save best model only with val_mse available, skipping.\n",
      "27/27 [==============================] - 0s 2ms/step - loss: 4.5610 - mae: 1.5166 - val_loss: 5.6883 - val_mae: 1.7082\n",
      "Epoch 7/500\n",
      " 1/27 [>.............................] - ETA: 0s - loss: 3.0814 - mae: 1.4271WARNING:tensorflow:Early stopping conditioned on metric `val_mse` which is not available. Available metrics are: loss,mae,val_loss,val_mae\n",
      "WARNING:tensorflow:Can save best model only with val_mse available, skipping.\n",
      "27/27 [==============================] - 0s 2ms/step - loss: 4.6136 - mae: 1.5335 - val_loss: 5.7030 - val_mae: 1.6224\n",
      "Epoch 8/500\n",
      " 1/27 [>.............................] - ETA: 0s - loss: 3.5308 - mae: 1.3166WARNING:tensorflow:Early stopping conditioned on metric `val_mse` which is not available. Available metrics are: loss,mae,val_loss,val_mae\n",
      "WARNING:tensorflow:Can save best model only with val_mse available, skipping.\n",
      "27/27 [==============================] - 0s 2ms/step - loss: 4.6314 - mae: 1.5485 - val_loss: 5.6695 - val_mae: 1.6552\n",
      "Epoch 9/500\n",
      " 1/27 [>.............................] - ETA: 0s - loss: 4.1643 - mae: 1.6450WARNING:tensorflow:Early stopping conditioned on metric `val_mse` which is not available. Available metrics are: loss,mae,val_loss,val_mae\n",
      "WARNING:tensorflow:Can save best model only with val_mse available, skipping.\n",
      "27/27 [==============================] - 0s 2ms/step - loss: 4.5691 - mae: 1.5324 - val_loss: 5.6607 - val_mae: 1.7057\n",
      "Epoch 10/500\n",
      " 1/27 [>.............................] - ETA: 0s - loss: 3.6933 - mae: 1.5730WARNING:tensorflow:Early stopping conditioned on metric `val_mse` which is not available. Available metrics are: loss,mae,val_loss,val_mae\n",
      "WARNING:tensorflow:Can save best model only with val_mse available, skipping.\n",
      "27/27 [==============================] - 0s 3ms/step - loss: 4.5682 - mae: 1.5411 - val_loss: 5.9204 - val_mae: 1.8261\n",
      "Epoch 11/500\n",
      " 1/27 [>.............................] - ETA: 0s - loss: 4.7330 - mae: 1.7308WARNING:tensorflow:Early stopping conditioned on metric `val_mse` which is not available. Available metrics are: loss,mae,val_loss,val_mae\n",
      "WARNING:tensorflow:Can save best model only with val_mse available, skipping.\n",
      "27/27 [==============================] - 0s 3ms/step - loss: 4.5941 - mae: 1.5407 - val_loss: 5.6177 - val_mae: 1.6900\n",
      "Epoch 12/500\n",
      " 1/27 [>.............................] - ETA: 0s - loss: 3.2393 - mae: 1.4400WARNING:tensorflow:Early stopping conditioned on metric `val_mse` which is not available. Available metrics are: loss,mae,val_loss,val_mae\n",
      "WARNING:tensorflow:Can save best model only with val_mse available, skipping.\n",
      "27/27 [==============================] - 0s 5ms/step - loss: 4.6063 - mae: 1.5316 - val_loss: 5.5862 - val_mae: 1.6388\n",
      "Epoch 13/500\n",
      " 1/27 [>.............................] - ETA: 0s - loss: 2.9143 - mae: 1.2457WARNING:tensorflow:Early stopping conditioned on metric `val_mse` which is not available. Available metrics are: loss,mae,val_loss,val_mae\n",
      "WARNING:tensorflow:Can save best model only with val_mse available, skipping.\n",
      "27/27 [==============================] - 0s 2ms/step - loss: 4.5725 - mae: 1.5279 - val_loss: 5.7874 - val_mae: 1.7593\n",
      "Epoch 14/500\n",
      " 1/27 [>.............................] - ETA: 0s - loss: 6.9054 - mae: 2.2058WARNING:tensorflow:Early stopping conditioned on metric `val_mse` which is not available. Available metrics are: loss,mae,val_loss,val_mae\n",
      "WARNING:tensorflow:Can save best model only with val_mse available, skipping.\n",
      "27/27 [==============================] - 0s 2ms/step - loss: 4.5804 - mae: 1.5375 - val_loss: 5.5908 - val_mae: 1.6327\n",
      "Epoch 15/500\n",
      " 1/27 [>.............................] - ETA: 0s - loss: 2.0850 - mae: 1.1086WARNING:tensorflow:Early stopping conditioned on metric `val_mse` which is not available. Available metrics are: loss,mae,val_loss,val_mae\n",
      "WARNING:tensorflow:Can save best model only with val_mse available, skipping.\n",
      "27/27 [==============================] - 0s 3ms/step - loss: 4.5345 - mae: 1.5249 - val_loss: 5.6787 - val_mae: 1.6109\n",
      "Epoch 16/500\n",
      " 1/27 [>.............................] - ETA: 0s - loss: 9.1127 - mae: 1.3988WARNING:tensorflow:Early stopping conditioned on metric `val_mse` which is not available. Available metrics are: loss,mae,val_loss,val_mae\n",
      "WARNING:tensorflow:Can save best model only with val_mse available, skipping.\n",
      "27/27 [==============================] - 0s 3ms/step - loss: 4.5671 - mae: 1.5282 - val_loss: 5.6587 - val_mae: 1.6091\n",
      "Epoch 17/500\n",
      " 1/27 [>.............................] - ETA: 0s - loss: 6.6226 - mae: 1.8892WARNING:tensorflow:Early stopping conditioned on metric `val_mse` which is not available. Available metrics are: loss,mae,val_loss,val_mae\n",
      "WARNING:tensorflow:Can save best model only with val_mse available, skipping.\n",
      "27/27 [==============================] - 0s 2ms/step - loss: 4.6001 - mae: 1.5357 - val_loss: 5.8692 - val_mae: 1.6237\n",
      "Epoch 18/500\n",
      " 1/27 [>.............................] - ETA: 0s - loss: 5.0670 - mae: 1.7882WARNING:tensorflow:Early stopping conditioned on metric `val_mse` which is not available. Available metrics are: loss,mae,val_loss,val_mae\n",
      "WARNING:tensorflow:Can save best model only with val_mse available, skipping.\n",
      "27/27 [==============================] - 0s 2ms/step - loss: 4.6073 - mae: 1.5270 - val_loss: 6.7127 - val_mae: 2.0579\n",
      "Epoch 19/500\n",
      " 1/27 [>.............................] - ETA: 0s - loss: 4.4406 - mae: 1.6563WARNING:tensorflow:Early stopping conditioned on metric `val_mse` which is not available. Available metrics are: loss,mae,val_loss,val_mae\n",
      "WARNING:tensorflow:Can save best model only with val_mse available, skipping.\n",
      "27/27 [==============================] - 0s 3ms/step - loss: 4.6317 - mae: 1.5590 - val_loss: 5.7345 - val_mae: 1.6198\n",
      "Epoch 20/500\n",
      " 1/27 [>.............................] - ETA: 0s - loss: 5.4364 - mae: 1.5220WARNING:tensorflow:Early stopping conditioned on metric `val_mse` which is not available. Available metrics are: loss,mae,val_loss,val_mae\n"
     ]
    },
    {
     "name": "stdout",
     "output_type": "stream",
     "text": [
      "WARNING:tensorflow:Can save best model only with val_mse available, skipping.\n",
      "27/27 [==============================] - 0s 2ms/step - loss: 4.5908 - mae: 1.5233 - val_loss: 5.9395 - val_mae: 1.8247\n",
      "Epoch 21/500\n",
      " 1/27 [>.............................] - ETA: 0s - loss: 2.5956 - mae: 1.2876WARNING:tensorflow:Early stopping conditioned on metric `val_mse` which is not available. Available metrics are: loss,mae,val_loss,val_mae\n",
      "WARNING:tensorflow:Can save best model only with val_mse available, skipping.\n",
      "27/27 [==============================] - 0s 2ms/step - loss: 4.5653 - mae: 1.5355 - val_loss: 5.6555 - val_mae: 1.6178\n",
      "Epoch 22/500\n",
      " 1/27 [>.............................] - ETA: 0s - loss: 3.4175 - mae: 1.3783WARNING:tensorflow:Early stopping conditioned on metric `val_mse` which is not available. Available metrics are: loss,mae,val_loss,val_mae\n",
      "WARNING:tensorflow:Can save best model only with val_mse available, skipping.\n",
      "27/27 [==============================] - 0s 2ms/step - loss: 4.5806 - mae: 1.5229 - val_loss: 5.7267 - val_mae: 1.6048\n",
      "Epoch 23/500\n",
      " 1/27 [>.............................] - ETA: 0s - loss: 3.9829 - mae: 1.4105WARNING:tensorflow:Early stopping conditioned on metric `val_mse` which is not available. Available metrics are: loss,mae,val_loss,val_mae\n",
      "WARNING:tensorflow:Can save best model only with val_mse available, skipping.\n",
      "27/27 [==============================] - 0s 2ms/step - loss: 4.5370 - mae: 1.5288 - val_loss: 5.6478 - val_mae: 1.6040\n",
      "Epoch 24/500\n",
      " 1/27 [>.............................] - ETA: 0s - loss: 5.4489 - mae: 1.5679WARNING:tensorflow:Early stopping conditioned on metric `val_mse` which is not available. Available metrics are: loss,mae,val_loss,val_mae\n",
      "WARNING:tensorflow:Can save best model only with val_mse available, skipping.\n",
      "27/27 [==============================] - 0s 2ms/step - loss: 4.5535 - mae: 1.5156 - val_loss: 5.7134 - val_mae: 1.7405\n",
      "Epoch 25/500\n",
      " 1/27 [>.............................] - ETA: 0s - loss: 4.3940 - mae: 1.5700WARNING:tensorflow:Early stopping conditioned on metric `val_mse` which is not available. Available metrics are: loss,mae,val_loss,val_mae\n",
      "WARNING:tensorflow:Can save best model only with val_mse available, skipping.\n",
      "27/27 [==============================] - 0s 2ms/step - loss: 4.5678 - mae: 1.5391 - val_loss: 5.5720 - val_mae: 1.6537\n",
      "Epoch 26/500\n",
      " 1/27 [>.............................] - ETA: 0s - loss: 10.0187 - mae: 1.6683WARNING:tensorflow:Early stopping conditioned on metric `val_mse` which is not available. Available metrics are: loss,mae,val_loss,val_mae\n",
      "WARNING:tensorflow:Can save best model only with val_mse available, skipping.\n",
      "27/27 [==============================] - 0s 2ms/step - loss: 4.5278 - mae: 1.5159 - val_loss: 5.6044 - val_mae: 1.7067\n",
      "Epoch 27/500\n",
      " 1/27 [>.............................] - ETA: 0s - loss: 3.8834 - mae: 1.4272WARNING:tensorflow:Early stopping conditioned on metric `val_mse` which is not available. Available metrics are: loss,mae,val_loss,val_mae\n",
      "WARNING:tensorflow:Can save best model only with val_mse available, skipping.\n",
      "27/27 [==============================] - 0s 3ms/step - loss: 4.4885 - mae: 1.5175 - val_loss: 5.7061 - val_mae: 1.6121\n",
      "Epoch 28/500\n",
      " 1/27 [>.............................] - ETA: 0s - loss: 3.0539 - mae: 1.2060WARNING:tensorflow:Early stopping conditioned on metric `val_mse` which is not available. Available metrics are: loss,mae,val_loss,val_mae\n",
      "WARNING:tensorflow:Can save best model only with val_mse available, skipping.\n",
      "27/27 [==============================] - 0s 3ms/step - loss: 4.4951 - mae: 1.5166 - val_loss: 5.9307 - val_mae: 1.6265\n",
      "Epoch 29/500\n",
      " 1/27 [>.............................] - ETA: 0s - loss: 2.0138 - mae: 1.0460WARNING:tensorflow:Early stopping conditioned on metric `val_mse` which is not available. Available metrics are: loss,mae,val_loss,val_mae\n",
      "WARNING:tensorflow:Can save best model only with val_mse available, skipping.\n",
      "27/27 [==============================] - 0s 2ms/step - loss: 4.5500 - mae: 1.5139 - val_loss: 6.1550 - val_mae: 1.8901\n",
      "Epoch 30/500\n",
      " 1/27 [>.............................] - ETA: 0s - loss: 4.3671 - mae: 1.6667WARNING:tensorflow:Early stopping conditioned on metric `val_mse` which is not available. Available metrics are: loss,mae,val_loss,val_mae\n",
      "WARNING:tensorflow:Can save best model only with val_mse available, skipping.\n",
      "27/27 [==============================] - 0s 3ms/step - loss: 4.5469 - mae: 1.5263 - val_loss: 5.6530 - val_mae: 1.6079\n",
      "Epoch 31/500\n",
      " 1/27 [>.............................] - ETA: 0s - loss: 2.4864 - mae: 1.1171WARNING:tensorflow:Early stopping conditioned on metric `val_mse` which is not available. Available metrics are: loss,mae,val_loss,val_mae\n",
      "WARNING:tensorflow:Can save best model only with val_mse available, skipping.\n",
      "27/27 [==============================] - 0s 2ms/step - loss: 4.5456 - mae: 1.5155 - val_loss: 5.5633 - val_mae: 1.6403\n",
      "Epoch 32/500\n",
      " 1/27 [>.............................] - ETA: 0s - loss: 4.6155 - mae: 1.4850WARNING:tensorflow:Early stopping conditioned on metric `val_mse` which is not available. Available metrics are: loss,mae,val_loss,val_mae\n",
      "WARNING:tensorflow:Can save best model only with val_mse available, skipping.\n",
      "27/27 [==============================] - 0s 2ms/step - loss: 4.5202 - mae: 1.5183 - val_loss: 5.7213 - val_mae: 1.6051\n",
      "Epoch 33/500\n",
      " 1/27 [>.............................] - ETA: 0s - loss: 2.7912 - mae: 1.2831WARNING:tensorflow:Early stopping conditioned on metric `val_mse` which is not available. Available metrics are: loss,mae,val_loss,val_mae\n",
      "WARNING:tensorflow:Can save best model only with val_mse available, skipping.\n",
      "27/27 [==============================] - 0s 2ms/step - loss: 4.4831 - mae: 1.5025 - val_loss: 5.5740 - val_mae: 1.6405\n",
      "Epoch 34/500\n",
      " 1/27 [>.............................] - ETA: 0s - loss: 2.9670 - mae: 1.4136WARNING:tensorflow:Early stopping conditioned on metric `val_mse` which is not available. Available metrics are: loss,mae,val_loss,val_mae\n",
      "WARNING:tensorflow:Can save best model only with val_mse available, skipping.\n",
      "27/27 [==============================] - 0s 2ms/step - loss: 4.5220 - mae: 1.5118 - val_loss: 5.5644 - val_mae: 1.6888\n",
      "Epoch 35/500\n",
      " 1/27 [>.............................] - ETA: 0s - loss: 3.2200 - mae: 1.2459WARNING:tensorflow:Early stopping conditioned on metric `val_mse` which is not available. Available metrics are: loss,mae,val_loss,val_mae\n",
      "WARNING:tensorflow:Can save best model only with val_mse available, skipping.\n",
      "27/27 [==============================] - 0s 2ms/step - loss: 4.4955 - mae: 1.5285 - val_loss: 5.5558 - val_mae: 1.6032\n",
      "Epoch 36/500\n",
      " 1/27 [>.............................] - ETA: 0s - loss: 2.5554 - mae: 1.1649WARNING:tensorflow:Early stopping conditioned on metric `val_mse` which is not available. Available metrics are: loss,mae,val_loss,val_mae\n",
      "WARNING:tensorflow:Can save best model only with val_mse available, skipping.\n",
      "27/27 [==============================] - 0s 2ms/step - loss: 4.4529 - mae: 1.5033 - val_loss: 5.6573 - val_mae: 1.7341\n",
      "Epoch 37/500\n",
      " 1/27 [>.............................] - ETA: 0s - loss: 5.0909 - mae: 1.7200WARNING:tensorflow:Early stopping conditioned on metric `val_mse` which is not available. Available metrics are: loss,mae,val_loss,val_mae\n",
      "WARNING:tensorflow:Can save best model only with val_mse available, skipping.\n",
      "27/27 [==============================] - 0s 2ms/step - loss: 4.4273 - mae: 1.5085 - val_loss: 5.7997 - val_mae: 1.6073\n",
      "Epoch 38/500\n",
      " 1/27 [>.............................] - ETA: 0s - loss: 3.3393 - mae: 1.3789WARNING:tensorflow:Early stopping conditioned on metric `val_mse` which is not available. Available metrics are: loss,mae,val_loss,val_mae\n",
      "WARNING:tensorflow:Can save best model only with val_mse available, skipping.\n",
      "27/27 [==============================] - 0s 2ms/step - loss: 4.5249 - mae: 1.5107 - val_loss: 5.5625 - val_mae: 1.6746\n",
      "Epoch 39/500\n",
      " 1/27 [>.............................] - ETA: 0s - loss: 4.0847 - mae: 1.7343WARNING:tensorflow:Early stopping conditioned on metric `val_mse` which is not available. Available metrics are: loss,mae,val_loss,val_mae\n",
      "WARNING:tensorflow:Can save best model only with val_mse available, skipping.\n",
      "27/27 [==============================] - 0s 2ms/step - loss: 4.4943 - mae: 1.5176 - val_loss: 5.5253 - val_mae: 1.6078\n"
     ]
    },
    {
     "name": "stdout",
     "output_type": "stream",
     "text": [
      "Epoch 40/500\n",
      " 1/27 [>.............................] - ETA: 0s - loss: 2.3334 - mae: 1.1112WARNING:tensorflow:Early stopping conditioned on metric `val_mse` which is not available. Available metrics are: loss,mae,val_loss,val_mae\n",
      "WARNING:tensorflow:Can save best model only with val_mse available, skipping.\n",
      "27/27 [==============================] - 0s 2ms/step - loss: 4.5254 - mae: 1.5129 - val_loss: 5.8463 - val_mae: 1.6190\n",
      "Epoch 41/500\n",
      " 1/27 [>.............................] - ETA: 0s - loss: 3.8474 - mae: 1.5210WARNING:tensorflow:Early stopping conditioned on metric `val_mse` which is not available. Available metrics are: loss,mae,val_loss,val_mae\n",
      "WARNING:tensorflow:Can save best model only with val_mse available, skipping.\n",
      "27/27 [==============================] - 0s 2ms/step - loss: 4.4601 - mae: 1.5003 - val_loss: 5.5359 - val_mae: 1.6077\n",
      "Epoch 42/500\n",
      " 1/27 [>.............................] - ETA: 0s - loss: 3.6139 - mae: 1.5255WARNING:tensorflow:Early stopping conditioned on metric `val_mse` which is not available. Available metrics are: loss,mae,val_loss,val_mae\n",
      "WARNING:tensorflow:Can save best model only with val_mse available, skipping.\n",
      "27/27 [==============================] - 0s 2ms/step - loss: 4.4507 - mae: 1.5051 - val_loss: 5.6092 - val_mae: 1.6079\n",
      "Epoch 43/500\n",
      " 1/27 [>.............................] - ETA: 0s - loss: 2.9470 - mae: 1.4077WARNING:tensorflow:Early stopping conditioned on metric `val_mse` which is not available. Available metrics are: loss,mae,val_loss,val_mae\n",
      "WARNING:tensorflow:Can save best model only with val_mse available, skipping.\n",
      "27/27 [==============================] - 0s 2ms/step - loss: 4.4732 - mae: 1.5134 - val_loss: 5.4879 - val_mae: 1.6183\n",
      "Epoch 44/500\n",
      " 1/27 [>.............................] - ETA: 0s - loss: 2.5366 - mae: 1.2869WARNING:tensorflow:Early stopping conditioned on metric `val_mse` which is not available. Available metrics are: loss,mae,val_loss,val_mae\n",
      "WARNING:tensorflow:Can save best model only with val_mse available, skipping.\n",
      "27/27 [==============================] - 0s 2ms/step - loss: 4.4313 - mae: 1.5105 - val_loss: 5.6073 - val_mae: 1.6015\n",
      "Epoch 45/500\n",
      " 1/27 [>.............................] - ETA: 0s - loss: 5.5280 - mae: 1.5005WARNING:tensorflow:Early stopping conditioned on metric `val_mse` which is not available. Available metrics are: loss,mae,val_loss,val_mae\n",
      "WARNING:tensorflow:Can save best model only with val_mse available, skipping.\n",
      "27/27 [==============================] - 0s 3ms/step - loss: 4.4438 - mae: 1.4995 - val_loss: 5.5955 - val_mae: 1.5937\n",
      "Epoch 46/500\n",
      " 1/27 [>.............................] - ETA: 0s - loss: 4.8244 - mae: 1.6095WARNING:tensorflow:Early stopping conditioned on metric `val_mse` which is not available. Available metrics are: loss,mae,val_loss,val_mae\n",
      "WARNING:tensorflow:Can save best model only with val_mse available, skipping.\n",
      "27/27 [==============================] - 0s 3ms/step - loss: 4.3758 - mae: 1.4967 - val_loss: 5.5803 - val_mae: 1.6253\n",
      "Epoch 47/500\n",
      " 1/27 [>.............................] - ETA: 0s - loss: 3.7712 - mae: 1.4836WARNING:tensorflow:Early stopping conditioned on metric `val_mse` which is not available. Available metrics are: loss,mae,val_loss,val_mae\n",
      "WARNING:tensorflow:Can save best model only with val_mse available, skipping.\n",
      "27/27 [==============================] - 0s 2ms/step - loss: 4.5343 - mae: 1.5179 - val_loss: 6.1825 - val_mae: 1.6721\n",
      "Epoch 48/500\n",
      " 1/27 [>.............................] - ETA: 0s - loss: 3.6697 - mae: 1.2165WARNING:tensorflow:Early stopping conditioned on metric `val_mse` which is not available. Available metrics are: loss,mae,val_loss,val_mae\n",
      "WARNING:tensorflow:Can save best model only with val_mse available, skipping.\n",
      "27/27 [==============================] - 0s 3ms/step - loss: 4.5830 - mae: 1.5251 - val_loss: 5.9634 - val_mae: 1.6348\n",
      "Epoch 49/500\n",
      " 1/27 [>.............................] - ETA: 0s - loss: 3.1568 - mae: 1.4089WARNING:tensorflow:Early stopping conditioned on metric `val_mse` which is not available. Available metrics are: loss,mae,val_loss,val_mae\n",
      "WARNING:tensorflow:Can save best model only with val_mse available, skipping.\n",
      "27/27 [==============================] - 0s 3ms/step - loss: 4.5322 - mae: 1.4991 - val_loss: 5.6420 - val_mae: 1.5935\n",
      "Epoch 50/500\n",
      "22/27 [=======================>......] - ETA: 0s - loss: 3.8786 - mae: 1.4337WARNING:tensorflow:Early stopping conditioned on metric `val_mse` which is not available. Available metrics are: loss,mae,val_loss,val_mae\n",
      "WARNING:tensorflow:Can save best model only with val_mse available, skipping.\n",
      "27/27 [==============================] - 0s 3ms/step - loss: 4.4365 - mae: 1.4991 - val_loss: 5.6323 - val_mae: 1.7306\n",
      "Epoch 51/500\n",
      " 1/27 [>.............................] - ETA: 0s - loss: 7.6844 - mae: 1.9846WARNING:tensorflow:Early stopping conditioned on metric `val_mse` which is not available. Available metrics are: loss,mae,val_loss,val_mae\n",
      "WARNING:tensorflow:Can save best model only with val_mse available, skipping.\n",
      "27/27 [==============================] - 0s 2ms/step - loss: 4.4343 - mae: 1.5098 - val_loss: 5.5248 - val_mae: 1.5942\n",
      "Epoch 52/500\n",
      " 1/27 [>.............................] - ETA: 0s - loss: 3.4107 - mae: 1.4052WARNING:tensorflow:Early stopping conditioned on metric `val_mse` which is not available. Available metrics are: loss,mae,val_loss,val_mae\n",
      "WARNING:tensorflow:Can save best model only with val_mse available, skipping.\n",
      "27/27 [==============================] - 0s 2ms/step - loss: 4.4939 - mae: 1.5161 - val_loss: 6.0170 - val_mae: 1.6382\n",
      "Epoch 53/500\n",
      " 1/27 [>.............................] - ETA: 0s - loss: 6.5391 - mae: 1.8473WARNING:tensorflow:Early stopping conditioned on metric `val_mse` which is not available. Available metrics are: loss,mae,val_loss,val_mae\n",
      "WARNING:tensorflow:Can save best model only with val_mse available, skipping.\n",
      "27/27 [==============================] - 0s 2ms/step - loss: 4.5063 - mae: 1.5045 - val_loss: 5.6728 - val_mae: 1.7175\n",
      "Epoch 54/500\n",
      " 1/27 [>.............................] - ETA: 0s - loss: 4.6278 - mae: 1.7232WARNING:tensorflow:Early stopping conditioned on metric `val_mse` which is not available. Available metrics are: loss,mae,val_loss,val_mae\n",
      "WARNING:tensorflow:Can save best model only with val_mse available, skipping.\n",
      "27/27 [==============================] - 0s 2ms/step - loss: 4.4719 - mae: 1.5105 - val_loss: 5.6403 - val_mae: 1.5952\n",
      "Epoch 55/500\n",
      " 1/27 [>.............................] - ETA: 0s - loss: 4.1849 - mae: 1.3003WARNING:tensorflow:Early stopping conditioned on metric `val_mse` which is not available. Available metrics are: loss,mae,val_loss,val_mae\n",
      "WARNING:tensorflow:Can save best model only with val_mse available, skipping.\n",
      "27/27 [==============================] - 0s 2ms/step - loss: 4.4391 - mae: 1.4909 - val_loss: 5.5497 - val_mae: 1.6064\n",
      "Epoch 56/500\n",
      " 1/27 [>.............................] - ETA: 0s - loss: 2.9034 - mae: 1.2679WARNING:tensorflow:Early stopping conditioned on metric `val_mse` which is not available. Available metrics are: loss,mae,val_loss,val_mae\n",
      "WARNING:tensorflow:Can save best model only with val_mse available, skipping.\n",
      "27/27 [==============================] - 0s 2ms/step - loss: 4.4086 - mae: 1.5011 - val_loss: 5.4733 - val_mae: 1.6339\n",
      "Epoch 57/500\n",
      " 1/27 [>.............................] - ETA: 0s - loss: 3.0099 - mae: 1.1767WARNING:tensorflow:Early stopping conditioned on metric `val_mse` which is not available. Available metrics are: loss,mae,val_loss,val_mae\n",
      "WARNING:tensorflow:Can save best model only with val_mse available, skipping.\n",
      "27/27 [==============================] - 0s 2ms/step - loss: 4.3908 - mae: 1.5031 - val_loss: 5.9358 - val_mae: 1.6365\n",
      "Epoch 58/500\n",
      " 1/27 [>.............................] - ETA: 0s - loss: 5.0344 - mae: 1.6716WARNING:tensorflow:Early stopping conditioned on metric `val_mse` which is not available. Available metrics are: loss,mae,val_loss,val_mae\n",
      "WARNING:tensorflow:Can save best model only with val_mse available, skipping.\n",
      "27/27 [==============================] - 0s 2ms/step - loss: 4.4941 - mae: 1.5090 - val_loss: 5.6657 - val_mae: 1.5927\n",
      "Epoch 59/500\n",
      " 1/27 [>.............................] - ETA: 0s - loss: 2.4036 - mae: 1.0813WARNING:tensorflow:Early stopping conditioned on metric `val_mse` which is not available. Available metrics are: loss,mae,val_loss,val_mae\n"
     ]
    },
    {
     "name": "stdout",
     "output_type": "stream",
     "text": [
      "WARNING:tensorflow:Can save best model only with val_mse available, skipping.\n",
      "27/27 [==============================] - 0s 2ms/step - loss: 4.4556 - mae: 1.4916 - val_loss: 5.8806 - val_mae: 1.6287\n",
      "Epoch 60/500\n",
      " 1/27 [>.............................] - ETA: 0s - loss: 3.6709 - mae: 1.4743WARNING:tensorflow:Early stopping conditioned on metric `val_mse` which is not available. Available metrics are: loss,mae,val_loss,val_mae\n",
      "WARNING:tensorflow:Can save best model only with val_mse available, skipping.\n",
      "27/27 [==============================] - 0s 3ms/step - loss: 4.4059 - mae: 1.4938 - val_loss: 7.0237 - val_mae: 2.0842\n",
      "Epoch 61/500\n",
      " 1/27 [>.............................] - ETA: 0s - loss: 11.0621 - mae: 2.2340WARNING:tensorflow:Early stopping conditioned on metric `val_mse` which is not available. Available metrics are: loss,mae,val_loss,val_mae\n",
      "WARNING:tensorflow:Can save best model only with val_mse available, skipping.\n",
      "27/27 [==============================] - 0s 2ms/step - loss: 4.5375 - mae: 1.5420 - val_loss: 5.7907 - val_mae: 1.8050\n",
      "Epoch 62/500\n",
      " 1/27 [>.............................] - ETA: 0s - loss: 4.4819 - mae: 1.5984WARNING:tensorflow:Early stopping conditioned on metric `val_mse` which is not available. Available metrics are: loss,mae,val_loss,val_mae\n",
      "WARNING:tensorflow:Can save best model only with val_mse available, skipping.\n",
      "27/27 [==============================] - 0s 2ms/step - loss: 4.4194 - mae: 1.5109 - val_loss: 5.4453 - val_mae: 1.5986\n",
      "Epoch 63/500\n",
      " 1/27 [>.............................] - ETA: 0s - loss: 4.3477 - mae: 1.4999WARNING:tensorflow:Early stopping conditioned on metric `val_mse` which is not available. Available metrics are: loss,mae,val_loss,val_mae\n",
      "WARNING:tensorflow:Can save best model only with val_mse available, skipping.\n",
      "27/27 [==============================] - 0s 2ms/step - loss: 4.4180 - mae: 1.4903 - val_loss: 5.4250 - val_mae: 1.6152\n",
      "Epoch 64/500\n",
      " 1/27 [>.............................] - ETA: 0s - loss: 6.0181 - mae: 1.9000WARNING:tensorflow:Early stopping conditioned on metric `val_mse` which is not available. Available metrics are: loss,mae,val_loss,val_mae\n",
      "WARNING:tensorflow:Can save best model only with val_mse available, skipping.\n",
      "27/27 [==============================] - 0s 2ms/step - loss: 4.3457 - mae: 1.4872 - val_loss: 5.6651 - val_mae: 1.5909\n",
      "Epoch 65/500\n",
      " 1/27 [>.............................] - ETA: 0s - loss: 5.5720 - mae: 1.7975WARNING:tensorflow:Early stopping conditioned on metric `val_mse` which is not available. Available metrics are: loss,mae,val_loss,val_mae\n",
      "WARNING:tensorflow:Can save best model only with val_mse available, skipping.\n",
      "27/27 [==============================] - 0s 2ms/step - loss: 4.3911 - mae: 1.4830 - val_loss: 5.5802 - val_mae: 1.5853\n",
      "Epoch 66/500\n",
      " 1/27 [>.............................] - ETA: 0s - loss: 13.6226 - mae: 2.1663WARNING:tensorflow:Early stopping conditioned on metric `val_mse` which is not available. Available metrics are: loss,mae,val_loss,val_mae\n",
      "WARNING:tensorflow:Can save best model only with val_mse available, skipping.\n",
      "27/27 [==============================] - 0s 2ms/step - loss: 4.3969 - mae: 1.4919 - val_loss: 5.5546 - val_mae: 1.5833\n",
      "Epoch 67/500\n",
      " 1/27 [>.............................] - ETA: 0s - loss: 7.1437 - mae: 1.7444WARNING:tensorflow:Early stopping conditioned on metric `val_mse` which is not available. Available metrics are: loss,mae,val_loss,val_mae\n",
      "WARNING:tensorflow:Can save best model only with val_mse available, skipping.\n",
      "27/27 [==============================] - 0s 2ms/step - loss: 4.4297 - mae: 1.4913 - val_loss: 5.5267 - val_mae: 1.7018\n",
      "Epoch 68/500\n",
      " 1/27 [>.............................] - ETA: 0s - loss: 3.2178 - mae: 1.4557WARNING:tensorflow:Early stopping conditioned on metric `val_mse` which is not available. Available metrics are: loss,mae,val_loss,val_mae\n",
      "WARNING:tensorflow:Can save best model only with val_mse available, skipping.\n",
      "27/27 [==============================] - 0s 2ms/step - loss: 4.3973 - mae: 1.4894 - val_loss: 5.4661 - val_mae: 1.6822\n",
      "Epoch 69/500\n",
      " 1/27 [>.............................] - ETA: 0s - loss: 2.3211 - mae: 1.3203WARNING:tensorflow:Early stopping conditioned on metric `val_mse` which is not available. Available metrics are: loss,mae,val_loss,val_mae\n",
      "WARNING:tensorflow:Can save best model only with val_mse available, skipping.\n",
      "27/27 [==============================] - 0s 2ms/step - loss: 4.4036 - mae: 1.4892 - val_loss: 5.4927 - val_mae: 1.6537\n",
      "Epoch 70/500\n",
      " 1/27 [>.............................] - ETA: 0s - loss: 2.8349 - mae: 1.1651WARNING:tensorflow:Early stopping conditioned on metric `val_mse` which is not available. Available metrics are: loss,mae,val_loss,val_mae\n",
      "WARNING:tensorflow:Can save best model only with val_mse available, skipping.\n",
      "27/27 [==============================] - 0s 2ms/step - loss: 4.3701 - mae: 1.4931 - val_loss: 5.9682 - val_mae: 1.8454\n",
      "Epoch 71/500\n",
      " 1/27 [>.............................] - ETA: 0s - loss: 3.6319 - mae: 1.5070WARNING:tensorflow:Early stopping conditioned on metric `val_mse` which is not available. Available metrics are: loss,mae,val_loss,val_mae\n",
      "WARNING:tensorflow:Can save best model only with val_mse available, skipping.\n",
      "27/27 [==============================] - 0s 2ms/step - loss: 4.4156 - mae: 1.4974 - val_loss: 5.4797 - val_mae: 1.5821\n",
      "Epoch 72/500\n",
      " 1/27 [>.............................] - ETA: 0s - loss: 3.0481 - mae: 1.2642WARNING:tensorflow:Early stopping conditioned on metric `val_mse` which is not available. Available metrics are: loss,mae,val_loss,val_mae\n",
      "WARNING:tensorflow:Can save best model only with val_mse available, skipping.\n",
      "27/27 [==============================] - 0s 2ms/step - loss: 4.3482 - mae: 1.4802 - val_loss: 5.4678 - val_mae: 1.6023\n",
      "Epoch 73/500\n",
      " 1/27 [>.............................] - ETA: 0s - loss: 5.0111 - mae: 1.5152WARNING:tensorflow:Early stopping conditioned on metric `val_mse` which is not available. Available metrics are: loss,mae,val_loss,val_mae\n",
      "WARNING:tensorflow:Can save best model only with val_mse available, skipping.\n",
      "27/27 [==============================] - 0s 2ms/step - loss: 4.3829 - mae: 1.4822 - val_loss: 5.4317 - val_mae: 1.5956\n",
      "Epoch 74/500\n",
      " 1/27 [>.............................] - ETA: 0s - loss: 2.4590 - mae: 1.2835WARNING:tensorflow:Early stopping conditioned on metric `val_mse` which is not available. Available metrics are: loss,mae,val_loss,val_mae\n",
      "WARNING:tensorflow:Can save best model only with val_mse available, skipping.\n",
      "27/27 [==============================] - 0s 2ms/step - loss: 4.3423 - mae: 1.4857 - val_loss: 5.6409 - val_mae: 1.5945\n",
      "Epoch 75/500\n",
      " 1/27 [>.............................] - ETA: 0s - loss: 11.7105 - mae: 1.7718WARNING:tensorflow:Early stopping conditioned on metric `val_mse` which is not available. Available metrics are: loss,mae,val_loss,val_mae\n",
      "WARNING:tensorflow:Can save best model only with val_mse available, skipping.\n",
      "27/27 [==============================] - 0s 2ms/step - loss: 4.3745 - mae: 1.4755 - val_loss: 5.4454 - val_mae: 1.6571\n",
      "Epoch 76/500\n",
      " 1/27 [>.............................] - ETA: 0s - loss: 3.5411 - mae: 1.4387WARNING:tensorflow:Early stopping conditioned on metric `val_mse` which is not available. Available metrics are: loss,mae,val_loss,val_mae\n",
      "WARNING:tensorflow:Can save best model only with val_mse available, skipping.\n",
      "27/27 [==============================] - 0s 2ms/step - loss: 4.3980 - mae: 1.4968 - val_loss: 6.2489 - val_mae: 1.9602\n",
      "Epoch 77/500\n",
      " 1/27 [>.............................] - ETA: 0s - loss: 7.7500 - mae: 2.3239WARNING:tensorflow:Early stopping conditioned on metric `val_mse` which is not available. Available metrics are: loss,mae,val_loss,val_mae\n",
      "WARNING:tensorflow:Can save best model only with val_mse available, skipping.\n",
      "27/27 [==============================] - 0s 2ms/step - loss: 4.4487 - mae: 1.5053 - val_loss: 5.6140 - val_mae: 1.5874\n",
      "Epoch 78/500\n",
      " 1/27 [>.............................] - ETA: 0s - loss: 5.4729 - mae: 1.6231WARNING:tensorflow:Early stopping conditioned on metric `val_mse` which is not available. Available metrics are: loss,mae,val_loss,val_mae\n",
      "WARNING:tensorflow:Can save best model only with val_mse available, skipping.\n",
      "27/27 [==============================] - 0s 2ms/step - loss: 4.3842 - mae: 1.4945 - val_loss: 5.8295 - val_mae: 1.6201\n"
     ]
    },
    {
     "name": "stdout",
     "output_type": "stream",
     "text": [
      "Epoch 79/500\n",
      " 1/27 [>.............................] - ETA: 0s - loss: 3.1709 - mae: 1.2618WARNING:tensorflow:Early stopping conditioned on metric `val_mse` which is not available. Available metrics are: loss,mae,val_loss,val_mae\n",
      "WARNING:tensorflow:Can save best model only with val_mse available, skipping.\n",
      "27/27 [==============================] - 0s 2ms/step - loss: 4.3825 - mae: 1.4821 - val_loss: 5.6497 - val_mae: 1.5968\n",
      "Epoch 80/500\n",
      " 1/27 [>.............................] - ETA: 0s - loss: 3.8671 - mae: 1.3870WARNING:tensorflow:Early stopping conditioned on metric `val_mse` which is not available. Available metrics are: loss,mae,val_loss,val_mae\n",
      "WARNING:tensorflow:Can save best model only with val_mse available, skipping.\n",
      "27/27 [==============================] - 0s 2ms/step - loss: 4.3634 - mae: 1.4875 - val_loss: 5.6648 - val_mae: 1.6054\n",
      "Epoch 81/500\n",
      " 1/27 [>.............................] - ETA: 0s - loss: 7.6438 - mae: 2.0322WARNING:tensorflow:Early stopping conditioned on metric `val_mse` which is not available. Available metrics are: loss,mae,val_loss,val_mae\n",
      "WARNING:tensorflow:Can save best model only with val_mse available, skipping.\n",
      "27/27 [==============================] - 0s 2ms/step - loss: 4.3760 - mae: 1.4900 - val_loss: 5.4019 - val_mae: 1.5906\n",
      "Epoch 82/500\n",
      " 1/27 [>.............................] - ETA: 0s - loss: 5.3212 - mae: 1.6208WARNING:tensorflow:Early stopping conditioned on metric `val_mse` which is not available. Available metrics are: loss,mae,val_loss,val_mae\n",
      "WARNING:tensorflow:Can save best model only with val_mse available, skipping.\n",
      "27/27 [==============================] - 0s 2ms/step - loss: 4.3485 - mae: 1.4869 - val_loss: 5.4148 - val_mae: 1.5785\n",
      "Epoch 83/500\n",
      " 1/27 [>.............................] - ETA: 0s - loss: 4.5948 - mae: 1.5204WARNING:tensorflow:Early stopping conditioned on metric `val_mse` which is not available. Available metrics are: loss,mae,val_loss,val_mae\n",
      "WARNING:tensorflow:Can save best model only with val_mse available, skipping.\n",
      "27/27 [==============================] - 0s 2ms/step - loss: 4.3341 - mae: 1.4758 - val_loss: 5.6620 - val_mae: 1.7341\n",
      "Epoch 84/500\n",
      " 1/27 [>.............................] - ETA: 0s - loss: 3.6265 - mae: 1.5089WARNING:tensorflow:Early stopping conditioned on metric `val_mse` which is not available. Available metrics are: loss,mae,val_loss,val_mae\n",
      "WARNING:tensorflow:Can save best model only with val_mse available, skipping.\n",
      "27/27 [==============================] - 0s 2ms/step - loss: 4.3377 - mae: 1.4867 - val_loss: 5.3803 - val_mae: 1.6335\n",
      "Epoch 85/500\n",
      " 1/27 [>.............................] - ETA: 0s - loss: 9.5754 - mae: 1.6067WARNING:tensorflow:Early stopping conditioned on metric `val_mse` which is not available. Available metrics are: loss,mae,val_loss,val_mae\n",
      "WARNING:tensorflow:Can save best model only with val_mse available, skipping.\n",
      "27/27 [==============================] - 0s 2ms/step - loss: 4.3470 - mae: 1.4851 - val_loss: 5.4307 - val_mae: 1.6478\n",
      "Epoch 86/500\n",
      " 1/27 [>.............................] - ETA: 0s - loss: 6.1007 - mae: 1.8943WARNING:tensorflow:Early stopping conditioned on metric `val_mse` which is not available. Available metrics are: loss,mae,val_loss,val_mae\n",
      "WARNING:tensorflow:Can save best model only with val_mse available, skipping.\n",
      "27/27 [==============================] - 0s 2ms/step - loss: 4.3626 - mae: 1.4931 - val_loss: 5.5136 - val_mae: 1.5781\n",
      "Epoch 87/500\n",
      " 1/27 [>.............................] - ETA: 0s - loss: 4.2049 - mae: 1.4802WARNING:tensorflow:Early stopping conditioned on metric `val_mse` which is not available. Available metrics are: loss,mae,val_loss,val_mae\n",
      "WARNING:tensorflow:Can save best model only with val_mse available, skipping.\n",
      "27/27 [==============================] - 0s 2ms/step - loss: 4.3127 - mae: 1.4768 - val_loss: 5.4176 - val_mae: 1.5767\n",
      "Epoch 88/500\n",
      " 1/27 [>.............................] - ETA: 0s - loss: 4.3259 - mae: 1.3249WARNING:tensorflow:Early stopping conditioned on metric `val_mse` which is not available. Available metrics are: loss,mae,val_loss,val_mae\n",
      "WARNING:tensorflow:Can save best model only with val_mse available, skipping.\n",
      "27/27 [==============================] - 0s 2ms/step - loss: 4.3550 - mae: 1.4838 - val_loss: 6.0622 - val_mae: 1.6579\n",
      "Epoch 89/500\n",
      " 1/27 [>.............................] - ETA: 0s - loss: 5.9156 - mae: 1.6680WARNING:tensorflow:Early stopping conditioned on metric `val_mse` which is not available. Available metrics are: loss,mae,val_loss,val_mae\n",
      "WARNING:tensorflow:Can save best model only with val_mse available, skipping.\n",
      "27/27 [==============================] - 0s 3ms/step - loss: 4.4247 - mae: 1.4798 - val_loss: 5.3064 - val_mae: 1.5943\n",
      "Epoch 90/500\n",
      " 1/27 [>.............................] - ETA: 0s - loss: 4.4148 - mae: 1.6449WARNING:tensorflow:Early stopping conditioned on metric `val_mse` which is not available. Available metrics are: loss,mae,val_loss,val_mae\n",
      "WARNING:tensorflow:Can save best model only with val_mse available, skipping.\n",
      "27/27 [==============================] - 0s 2ms/step - loss: 4.3757 - mae: 1.4747 - val_loss: 6.3684 - val_mae: 1.9813\n",
      "Epoch 91/500\n",
      " 1/27 [>.............................] - ETA: 0s - loss: 4.8145 - mae: 1.8273WARNING:tensorflow:Early stopping conditioned on metric `val_mse` which is not available. Available metrics are: loss,mae,val_loss,val_mae\n",
      "WARNING:tensorflow:Can save best model only with val_mse available, skipping.\n",
      "27/27 [==============================] - 0s 2ms/step - loss: 4.4995 - mae: 1.5152 - val_loss: 6.3493 - val_mae: 1.9799\n",
      "Epoch 92/500\n",
      " 1/27 [>.............................] - ETA: 0s - loss: 5.3967 - mae: 1.8201WARNING:tensorflow:Early stopping conditioned on metric `val_mse` which is not available. Available metrics are: loss,mae,val_loss,val_mae\n",
      "WARNING:tensorflow:Can save best model only with val_mse available, skipping.\n",
      "27/27 [==============================] - 0s 2ms/step - loss: 4.4244 - mae: 1.5019 - val_loss: 5.4247 - val_mae: 1.6900\n",
      "Epoch 93/500\n",
      " 1/27 [>.............................] - ETA: 0s - loss: 4.3397 - mae: 1.3044WARNING:tensorflow:Early stopping conditioned on metric `val_mse` which is not available. Available metrics are: loss,mae,val_loss,val_mae\n",
      "WARNING:tensorflow:Can save best model only with val_mse available, skipping.\n",
      "27/27 [==============================] - 0s 2ms/step - loss: 4.3966 - mae: 1.4943 - val_loss: 5.4549 - val_mae: 1.6893\n",
      "Epoch 94/500\n",
      " 1/27 [>.............................] - ETA: 0s - loss: 7.0573 - mae: 1.8663WARNING:tensorflow:Early stopping conditioned on metric `val_mse` which is not available. Available metrics are: loss,mae,val_loss,val_mae\n",
      "WARNING:tensorflow:Can save best model only with val_mse available, skipping.\n",
      "27/27 [==============================] - 0s 2ms/step - loss: 4.3774 - mae: 1.5202 - val_loss: 5.6188 - val_mae: 1.6090\n",
      "Epoch 95/500\n",
      " 1/27 [>.............................] - ETA: 0s - loss: 4.4144 - mae: 1.4862WARNING:tensorflow:Early stopping conditioned on metric `val_mse` which is not available. Available metrics are: loss,mae,val_loss,val_mae\n",
      "WARNING:tensorflow:Can save best model only with val_mse available, skipping.\n",
      "27/27 [==============================] - 0s 3ms/step - loss: 4.3101 - mae: 1.4754 - val_loss: 5.4764 - val_mae: 1.5772\n",
      "Epoch 96/500\n",
      " 1/27 [>.............................] - ETA: 0s - loss: 3.3777 - mae: 1.2888WARNING:tensorflow:Early stopping conditioned on metric `val_mse` which is not available. Available metrics are: loss,mae,val_loss,val_mae\n",
      "WARNING:tensorflow:Can save best model only with val_mse available, skipping.\n",
      "27/27 [==============================] - 0s 2ms/step - loss: 4.3229 - mae: 1.4813 - val_loss: 5.3538 - val_mae: 1.5742\n",
      "Epoch 97/500\n",
      " 1/27 [>.............................] - ETA: 0s - loss: 2.8380 - mae: 1.2916WARNING:tensorflow:Early stopping conditioned on metric `val_mse` which is not available. Available metrics are: loss,mae,val_loss,val_mae\n",
      "WARNING:tensorflow:Can save best model only with val_mse available, skipping.\n",
      "27/27 [==============================] - 0s 2ms/step - loss: 4.3286 - mae: 1.4748 - val_loss: 5.3209 - val_mae: 1.6072\n",
      "Epoch 98/500\n",
      " 1/27 [>.............................] - ETA: 0s - loss: 8.1520 - mae: 2.0905WARNING:tensorflow:Early stopping conditioned on metric `val_mse` which is not available. Available metrics are: loss,mae,val_loss,val_mae\n"
     ]
    },
    {
     "name": "stdout",
     "output_type": "stream",
     "text": [
      "WARNING:tensorflow:Can save best model only with val_mse available, skipping.\n",
      "27/27 [==============================] - 0s 2ms/step - loss: 4.3536 - mae: 1.4817 - val_loss: 5.3957 - val_mae: 1.5833\n",
      "Epoch 99/500\n",
      " 1/27 [>.............................] - ETA: 0s - loss: 2.3038 - mae: 1.1247WARNING:tensorflow:Early stopping conditioned on metric `val_mse` which is not available. Available metrics are: loss,mae,val_loss,val_mae\n",
      "WARNING:tensorflow:Can save best model only with val_mse available, skipping.\n",
      "27/27 [==============================] - 0s 3ms/step - loss: 4.2900 - mae: 1.4837 - val_loss: 6.3077 - val_mae: 1.9458\n",
      "Epoch 100/500\n",
      " 1/27 [>.............................] - ETA: 0s - loss: 5.9903 - mae: 1.8198WARNING:tensorflow:Early stopping conditioned on metric `val_mse` which is not available. Available metrics are: loss,mae,val_loss,val_mae\n",
      "WARNING:tensorflow:Can save best model only with val_mse available, skipping.\n",
      "27/27 [==============================] - 0s 2ms/step - loss: 4.3928 - mae: 1.4915 - val_loss: 5.2980 - val_mae: 1.6026\n",
      "Epoch 101/500\n",
      " 1/27 [>.............................] - ETA: 0s - loss: 3.3411 - mae: 1.3672WARNING:tensorflow:Early stopping conditioned on metric `val_mse` which is not available. Available metrics are: loss,mae,val_loss,val_mae\n",
      "WARNING:tensorflow:Can save best model only with val_mse available, skipping.\n",
      "27/27 [==============================] - 0s 2ms/step - loss: 4.3059 - mae: 1.4764 - val_loss: 5.9185 - val_mae: 1.8467\n",
      "Epoch 102/500\n",
      " 1/27 [>.............................] - ETA: 0s - loss: 5.2601 - mae: 1.8068WARNING:tensorflow:Early stopping conditioned on metric `val_mse` which is not available. Available metrics are: loss,mae,val_loss,val_mae\n",
      "WARNING:tensorflow:Can save best model only with val_mse available, skipping.\n",
      "27/27 [==============================] - 0s 2ms/step - loss: 4.3558 - mae: 1.4883 - val_loss: 5.3099 - val_mae: 1.6322\n",
      "Epoch 103/500\n",
      " 1/27 [>.............................] - ETA: 0s - loss: 3.1739 - mae: 1.5448WARNING:tensorflow:Early stopping conditioned on metric `val_mse` which is not available. Available metrics are: loss,mae,val_loss,val_mae\n",
      "WARNING:tensorflow:Can save best model only with val_mse available, skipping.\n",
      "27/27 [==============================] - 0s 2ms/step - loss: 4.3442 - mae: 1.4845 - val_loss: 5.3048 - val_mae: 1.6098\n",
      "Epoch 104/500\n",
      " 1/27 [>.............................] - ETA: 0s - loss: 4.9365 - mae: 1.7380WARNING:tensorflow:Early stopping conditioned on metric `val_mse` which is not available. Available metrics are: loss,mae,val_loss,val_mae\n",
      "WARNING:tensorflow:Can save best model only with val_mse available, skipping.\n",
      "27/27 [==============================] - 0s 2ms/step - loss: 4.3440 - mae: 1.4758 - val_loss: 5.3242 - val_mae: 1.5736\n",
      "Epoch 105/500\n",
      " 1/27 [>.............................] - ETA: 0s - loss: 2.5200 - mae: 1.2885WARNING:tensorflow:Early stopping conditioned on metric `val_mse` which is not available. Available metrics are: loss,mae,val_loss,val_mae\n",
      "WARNING:tensorflow:Can save best model only with val_mse available, skipping.\n",
      "27/27 [==============================] - 0s 2ms/step - loss: 4.3265 - mae: 1.4697 - val_loss: 5.5077 - val_mae: 1.5792\n",
      "Epoch 106/500\n",
      " 1/27 [>.............................] - ETA: 0s - loss: 2.4619 - mae: 1.2395WARNING:tensorflow:Early stopping conditioned on metric `val_mse` which is not available. Available metrics are: loss,mae,val_loss,val_mae\n",
      "WARNING:tensorflow:Can save best model only with val_mse available, skipping.\n",
      "27/27 [==============================] - 0s 3ms/step - loss: 4.3006 - mae: 1.4610 - val_loss: 5.3740 - val_mae: 1.5673\n",
      "Epoch 107/500\n",
      " 1/27 [>.............................] - ETA: 0s - loss: 2.6474 - mae: 1.3034WARNING:tensorflow:Early stopping conditioned on metric `val_mse` which is not available. Available metrics are: loss,mae,val_loss,val_mae\n",
      "WARNING:tensorflow:Can save best model only with val_mse available, skipping.\n",
      "27/27 [==============================] - 0s 3ms/step - loss: 4.3101 - mae: 1.4633 - val_loss: 5.3315 - val_mae: 1.5701\n",
      "Epoch 108/500\n",
      " 1/27 [>.............................] - ETA: 0s - loss: 4.3994 - mae: 1.4452WARNING:tensorflow:Early stopping conditioned on metric `val_mse` which is not available. Available metrics are: loss,mae,val_loss,val_mae\n",
      "WARNING:tensorflow:Can save best model only with val_mse available, skipping.\n",
      "27/27 [==============================] - 0s 2ms/step - loss: 4.3209 - mae: 1.4825 - val_loss: 5.2742 - val_mae: 1.5919\n",
      "Epoch 109/500\n",
      " 1/27 [>.............................] - ETA: 0s - loss: 2.8642 - mae: 1.1777WARNING:tensorflow:Early stopping conditioned on metric `val_mse` which is not available. Available metrics are: loss,mae,val_loss,val_mae\n",
      "WARNING:tensorflow:Can save best model only with val_mse available, skipping.\n",
      "27/27 [==============================] - 0s 3ms/step - loss: 4.2916 - mae: 1.4650 - val_loss: 5.4472 - val_mae: 1.7031\n",
      "Epoch 110/500\n",
      " 1/27 [>.............................] - ETA: 0s - loss: 2.4209 - mae: 1.2530WARNING:tensorflow:Early stopping conditioned on metric `val_mse` which is not available. Available metrics are: loss,mae,val_loss,val_mae\n",
      "WARNING:tensorflow:Can save best model only with val_mse available, skipping.\n",
      "27/27 [==============================] - 0s 3ms/step - loss: 4.2778 - mae: 1.4785 - val_loss: 5.3298 - val_mae: 1.5647\n",
      "Epoch 111/500\n",
      " 1/27 [>.............................] - ETA: 0s - loss: 3.9432 - mae: 1.3943WARNING:tensorflow:Early stopping conditioned on metric `val_mse` which is not available. Available metrics are: loss,mae,val_loss,val_mae\n",
      "WARNING:tensorflow:Can save best model only with val_mse available, skipping.\n",
      "27/27 [==============================] - 0s 3ms/step - loss: 4.3163 - mae: 1.4783 - val_loss: 5.7413 - val_mae: 1.6037\n",
      "Epoch 112/500\n",
      " 1/27 [>.............................] - ETA: 0s - loss: 6.1600 - mae: 1.5796WARNING:tensorflow:Early stopping conditioned on metric `val_mse` which is not available. Available metrics are: loss,mae,val_loss,val_mae\n",
      "WARNING:tensorflow:Can save best model only with val_mse available, skipping.\n",
      "27/27 [==============================] - 0s 3ms/step - loss: 4.3109 - mae: 1.4688 - val_loss: 5.4083 - val_mae: 1.6337\n",
      "Epoch 113/500\n",
      " 1/27 [>.............................] - ETA: 0s - loss: 3.9382 - mae: 1.3408WARNING:tensorflow:Early stopping conditioned on metric `val_mse` which is not available. Available metrics are: loss,mae,val_loss,val_mae\n",
      "WARNING:tensorflow:Can save best model only with val_mse available, skipping.\n",
      "27/27 [==============================] - 0s 3ms/step - loss: 4.3339 - mae: 1.4824 - val_loss: 5.3561 - val_mae: 1.6476\n",
      "Epoch 114/500\n",
      " 1/27 [>.............................] - ETA: 0s - loss: 2.1124 - mae: 1.1508WARNING:tensorflow:Early stopping conditioned on metric `val_mse` which is not available. Available metrics are: loss,mae,val_loss,val_mae\n",
      "WARNING:tensorflow:Can save best model only with val_mse available, skipping.\n",
      "27/27 [==============================] - 0s 2ms/step - loss: 4.3435 - mae: 1.4732 - val_loss: 5.2583 - val_mae: 1.5905\n",
      "Epoch 115/500\n",
      " 1/27 [>.............................] - ETA: 0s - loss: 2.6208 - mae: 1.2647WARNING:tensorflow:Early stopping conditioned on metric `val_mse` which is not available. Available metrics are: loss,mae,val_loss,val_mae\n",
      "WARNING:tensorflow:Can save best model only with val_mse available, skipping.\n",
      "27/27 [==============================] - 0s 2ms/step - loss: 4.2982 - mae: 1.4710 - val_loss: 5.2757 - val_mae: 1.5716\n",
      "Epoch 116/500\n",
      " 1/27 [>.............................] - ETA: 0s - loss: 2.2899 - mae: 1.2346WARNING:tensorflow:Early stopping conditioned on metric `val_mse` which is not available. Available metrics are: loss,mae,val_loss,val_mae\n",
      "WARNING:tensorflow:Can save best model only with val_mse available, skipping.\n",
      "27/27 [==============================] - 0s 2ms/step - loss: 4.2668 - mae: 1.4766 - val_loss: 6.2772 - val_mae: 1.9587\n",
      "Epoch 117/500\n",
      " 1/27 [>.............................] - ETA: 0s - loss: 4.0492 - mae: 1.7384WARNING:tensorflow:Early stopping conditioned on metric `val_mse` which is not available. Available metrics are: loss,mae,val_loss,val_mae\n",
      "WARNING:tensorflow:Can save best model only with val_mse available, skipping.\n",
      "27/27 [==============================] - 0s 2ms/step - loss: 4.3535 - mae: 1.4986 - val_loss: 5.2575 - val_mae: 1.5722\n"
     ]
    },
    {
     "name": "stdout",
     "output_type": "stream",
     "text": [
      "Epoch 118/500\n",
      " 1/27 [>.............................] - ETA: 0s - loss: 4.4804 - mae: 1.5183WARNING:tensorflow:Early stopping conditioned on metric `val_mse` which is not available. Available metrics are: loss,mae,val_loss,val_mae\n",
      "WARNING:tensorflow:Can save best model only with val_mse available, skipping.\n",
      "27/27 [==============================] - 0s 3ms/step - loss: 4.2819 - mae: 1.4597 - val_loss: 5.4095 - val_mae: 1.6773\n",
      "Epoch 119/500\n",
      " 1/27 [>.............................] - ETA: 0s - loss: 4.1461 - mae: 1.5994WARNING:tensorflow:Early stopping conditioned on metric `val_mse` which is not available. Available metrics are: loss,mae,val_loss,val_mae\n",
      "WARNING:tensorflow:Can save best model only with val_mse available, skipping.\n",
      "27/27 [==============================] - 0s 3ms/step - loss: 4.3617 - mae: 1.4872 - val_loss: 5.3683 - val_mae: 1.6592\n",
      "Epoch 120/500\n",
      " 1/27 [>.............................] - ETA: 0s - loss: 3.5032 - mae: 1.4749WARNING:tensorflow:Early stopping conditioned on metric `val_mse` which is not available. Available metrics are: loss,mae,val_loss,val_mae\n",
      "WARNING:tensorflow:Can save best model only with val_mse available, skipping.\n",
      "27/27 [==============================] - 0s 3ms/step - loss: 4.2830 - mae: 1.4737 - val_loss: 5.4495 - val_mae: 1.5745\n",
      "Epoch 121/500\n",
      " 1/27 [>.............................] - ETA: 0s - loss: 4.8276 - mae: 1.6440WARNING:tensorflow:Early stopping conditioned on metric `val_mse` which is not available. Available metrics are: loss,mae,val_loss,val_mae\n",
      "WARNING:tensorflow:Can save best model only with val_mse available, skipping.\n",
      "27/27 [==============================] - 0s 2ms/step - loss: 4.2867 - mae: 1.4665 - val_loss: 5.9947 - val_mae: 1.8577\n",
      "Epoch 122/500\n",
      " 1/27 [>.............................] - ETA: 0s - loss: 3.6423 - mae: 1.5926WARNING:tensorflow:Early stopping conditioned on metric `val_mse` which is not available. Available metrics are: loss,mae,val_loss,val_mae\n",
      "WARNING:tensorflow:Can save best model only with val_mse available, skipping.\n",
      "27/27 [==============================] - 0s 2ms/step - loss: 4.3507 - mae: 1.4891 - val_loss: 5.2435 - val_mae: 1.5671\n",
      "Epoch 123/500\n",
      " 1/27 [>.............................] - ETA: 0s - loss: 2.4980 - mae: 1.0799WARNING:tensorflow:Early stopping conditioned on metric `val_mse` which is not available. Available metrics are: loss,mae,val_loss,val_mae\n",
      "WARNING:tensorflow:Can save best model only with val_mse available, skipping.\n",
      "27/27 [==============================] - 0s 2ms/step - loss: 4.2631 - mae: 1.4524 - val_loss: 5.2638 - val_mae: 1.5690\n",
      "Epoch 124/500\n",
      " 1/27 [>.............................] - ETA: 0s - loss: 3.3353 - mae: 1.3906WARNING:tensorflow:Early stopping conditioned on metric `val_mse` which is not available. Available metrics are: loss,mae,val_loss,val_mae\n",
      "WARNING:tensorflow:Can save best model only with val_mse available, skipping.\n",
      "27/27 [==============================] - 0s 3ms/step - loss: 4.2409 - mae: 1.4540 - val_loss: 5.6327 - val_mae: 1.5954\n",
      "Epoch 125/500\n",
      " 1/27 [>.............................] - ETA: 0s - loss: 6.2670 - mae: 1.8278WARNING:tensorflow:Early stopping conditioned on metric `val_mse` which is not available. Available metrics are: loss,mae,val_loss,val_mae\n",
      "WARNING:tensorflow:Can save best model only with val_mse available, skipping.\n",
      "27/27 [==============================] - 0s 3ms/step - loss: 4.3008 - mae: 1.4634 - val_loss: 5.2439 - val_mae: 1.5691\n",
      "Epoch 126/500\n",
      " 1/27 [>.............................] - ETA: 0s - loss: 5.2177 - mae: 1.5975WARNING:tensorflow:Early stopping conditioned on metric `val_mse` which is not available. Available metrics are: loss,mae,val_loss,val_mae\n",
      "WARNING:tensorflow:Can save best model only with val_mse available, skipping.\n",
      "27/27 [==============================] - 0s 2ms/step - loss: 4.3036 - mae: 1.4650 - val_loss: 5.2345 - val_mae: 1.5842\n",
      "Epoch 127/500\n",
      " 1/27 [>.............................] - ETA: 0s - loss: 3.2057 - mae: 1.4467WARNING:tensorflow:Early stopping conditioned on metric `val_mse` which is not available. Available metrics are: loss,mae,val_loss,val_mae\n",
      "WARNING:tensorflow:Can save best model only with val_mse available, skipping.\n",
      "27/27 [==============================] - 0s 2ms/step - loss: 4.2792 - mae: 1.4732 - val_loss: 5.3535 - val_mae: 1.5852\n",
      "Epoch 128/500\n",
      " 1/27 [>.............................] - ETA: 0s - loss: 3.5666 - mae: 1.4504WARNING:tensorflow:Early stopping conditioned on metric `val_mse` which is not available. Available metrics are: loss,mae,val_loss,val_mae\n",
      "WARNING:tensorflow:Can save best model only with val_mse available, skipping.\n",
      "27/27 [==============================] - 0s 2ms/step - loss: 4.2838 - mae: 1.4584 - val_loss: 5.2499 - val_mae: 1.5711\n",
      "Epoch 129/500\n",
      " 1/27 [>.............................] - ETA: 0s - loss: 6.8785 - mae: 1.7443WARNING:tensorflow:Early stopping conditioned on metric `val_mse` which is not available. Available metrics are: loss,mae,val_loss,val_mae\n",
      "WARNING:tensorflow:Can save best model only with val_mse available, skipping.\n",
      "27/27 [==============================] - 0s 2ms/step - loss: 4.2836 - mae: 1.4682 - val_loss: 5.6469 - val_mae: 1.5845\n",
      "Epoch 130/500\n",
      " 1/27 [>.............................] - ETA: 0s - loss: 2.2721 - mae: 1.1340WARNING:tensorflow:Early stopping conditioned on metric `val_mse` which is not available. Available metrics are: loss,mae,val_loss,val_mae\n",
      "WARNING:tensorflow:Can save best model only with val_mse available, skipping.\n",
      "27/27 [==============================] - 0s 2ms/step - loss: 4.2669 - mae: 1.4630 - val_loss: 5.5889 - val_mae: 1.5863\n",
      "Epoch 131/500\n",
      " 1/27 [>.............................] - ETA: 0s - loss: 5.3625 - mae: 1.5781WARNING:tensorflow:Early stopping conditioned on metric `val_mse` which is not available. Available metrics are: loss,mae,val_loss,val_mae\n",
      "WARNING:tensorflow:Can save best model only with val_mse available, skipping.\n",
      "27/27 [==============================] - 0s 2ms/step - loss: 4.2891 - mae: 1.4631 - val_loss: 5.4214 - val_mae: 1.5927\n",
      "Epoch 132/500\n",
      " 1/27 [>.............................] - ETA: 0s - loss: 1.6303 - mae: 0.9380WARNING:tensorflow:Early stopping conditioned on metric `val_mse` which is not available. Available metrics are: loss,mae,val_loss,val_mae\n",
      "WARNING:tensorflow:Can save best model only with val_mse available, skipping.\n",
      "27/27 [==============================] - 0s 3ms/step - loss: 4.2857 - mae: 1.4609 - val_loss: 5.2103 - val_mae: 1.5882\n",
      "Epoch 133/500\n",
      " 1/27 [>.............................] - ETA: 0s - loss: 3.2786 - mae: 1.3881WARNING:tensorflow:Early stopping conditioned on metric `val_mse` which is not available. Available metrics are: loss,mae,val_loss,val_mae\n",
      "WARNING:tensorflow:Can save best model only with val_mse available, skipping.\n",
      "27/27 [==============================] - 0s 3ms/step - loss: 4.2974 - mae: 1.4694 - val_loss: 5.2483 - val_mae: 1.5845\n",
      "Epoch 134/500\n",
      " 1/27 [>.............................] - ETA: 0s - loss: 3.5323 - mae: 1.3540WARNING:tensorflow:Early stopping conditioned on metric `val_mse` which is not available. Available metrics are: loss,mae,val_loss,val_mae\n",
      "WARNING:tensorflow:Can save best model only with val_mse available, skipping.\n",
      "27/27 [==============================] - 0s 2ms/step - loss: 4.2668 - mae: 1.4682 - val_loss: 5.4873 - val_mae: 1.5703\n",
      "Epoch 135/500\n",
      " 1/27 [>.............................] - ETA: 0s - loss: 2.2290 - mae: 1.1692WARNING:tensorflow:Early stopping conditioned on metric `val_mse` which is not available. Available metrics are: loss,mae,val_loss,val_mae\n",
      "WARNING:tensorflow:Can save best model only with val_mse available, skipping.\n",
      "27/27 [==============================] - 0s 2ms/step - loss: 4.2215 - mae: 1.4635 - val_loss: 5.3616 - val_mae: 1.6571\n",
      "Epoch 136/500\n",
      " 1/27 [>.............................] - ETA: 0s - loss: 2.6990 - mae: 1.3339WARNING:tensorflow:Early stopping conditioned on metric `val_mse` which is not available. Available metrics are: loss,mae,val_loss,val_mae\n",
      "WARNING:tensorflow:Can save best model only with val_mse available, skipping.\n",
      "27/27 [==============================] - 0s 2ms/step - loss: 4.2719 - mae: 1.4627 - val_loss: 5.2900 - val_mae: 1.6001\n",
      "Epoch 137/500\n"
     ]
    },
    {
     "name": "stdout",
     "output_type": "stream",
     "text": [
      " 1/27 [>.............................] - ETA: 0s - loss: 6.0608 - mae: 1.7734WARNING:tensorflow:Early stopping conditioned on metric `val_mse` which is not available. Available metrics are: loss,mae,val_loss,val_mae\n",
      "WARNING:tensorflow:Can save best model only with val_mse available, skipping.\n",
      "27/27 [==============================] - 0s 3ms/step - loss: 4.2836 - mae: 1.4733 - val_loss: 5.2637 - val_mae: 1.6181\n",
      "Epoch 138/500\n",
      " 1/27 [>.............................] - ETA: 0s - loss: 6.3808 - mae: 1.7517WARNING:tensorflow:Early stopping conditioned on metric `val_mse` which is not available. Available metrics are: loss,mae,val_loss,val_mae\n",
      "WARNING:tensorflow:Can save best model only with val_mse available, skipping.\n",
      "27/27 [==============================] - 0s 2ms/step - loss: 4.3212 - mae: 1.4829 - val_loss: 5.2946 - val_mae: 1.5678\n",
      "Epoch 139/500\n",
      " 1/27 [>.............................] - ETA: 0s - loss: 3.3219 - mae: 1.3330WARNING:tensorflow:Early stopping conditioned on metric `val_mse` which is not available. Available metrics are: loss,mae,val_loss,val_mae\n",
      "WARNING:tensorflow:Can save best model only with val_mse available, skipping.\n",
      "27/27 [==============================] - 0s 2ms/step - loss: 4.2781 - mae: 1.4544 - val_loss: 5.2611 - val_mae: 1.6286\n",
      "Epoch 140/500\n",
      " 1/27 [>.............................] - ETA: 0s - loss: 5.8162 - mae: 1.8359WARNING:tensorflow:Early stopping conditioned on metric `val_mse` which is not available. Available metrics are: loss,mae,val_loss,val_mae\n",
      "WARNING:tensorflow:Can save best model only with val_mse available, skipping.\n",
      "27/27 [==============================] - 0s 2ms/step - loss: 4.2468 - mae: 1.4597 - val_loss: 5.1991 - val_mae: 1.5897\n",
      "Epoch 141/500\n",
      " 1/27 [>.............................] - ETA: 0s - loss: 3.5875 - mae: 1.5688WARNING:tensorflow:Early stopping conditioned on metric `val_mse` which is not available. Available metrics are: loss,mae,val_loss,val_mae\n",
      "WARNING:tensorflow:Can save best model only with val_mse available, skipping.\n",
      "27/27 [==============================] - 0s 2ms/step - loss: 4.2109 - mae: 1.4521 - val_loss: 5.2251 - val_mae: 1.6070\n",
      "Epoch 142/500\n",
      " 1/27 [>.............................] - ETA: 0s - loss: 2.6180 - mae: 1.3108WARNING:tensorflow:Early stopping conditioned on metric `val_mse` which is not available. Available metrics are: loss,mae,val_loss,val_mae\n",
      "WARNING:tensorflow:Can save best model only with val_mse available, skipping.\n",
      "27/27 [==============================] - 0s 2ms/step - loss: 4.2802 - mae: 1.4676 - val_loss: 5.2210 - val_mae: 1.5885\n",
      "Epoch 143/500\n",
      " 1/27 [>.............................] - ETA: 0s - loss: 5.2140 - mae: 1.7408WARNING:tensorflow:Early stopping conditioned on metric `val_mse` which is not available. Available metrics are: loss,mae,val_loss,val_mae\n",
      "WARNING:tensorflow:Can save best model only with val_mse available, skipping.\n",
      "27/27 [==============================] - 0s 2ms/step - loss: 4.2344 - mae: 1.4711 - val_loss: 5.9670 - val_mae: 1.6494\n",
      "Epoch 144/500\n",
      " 1/27 [>.............................] - ETA: 0s - loss: 2.5722 - mae: 1.2263WARNING:tensorflow:Early stopping conditioned on metric `val_mse` which is not available. Available metrics are: loss,mae,val_loss,val_mae\n",
      "WARNING:tensorflow:Can save best model only with val_mse available, skipping.\n",
      "27/27 [==============================] - 0s 2ms/step - loss: 4.2862 - mae: 1.4603 - val_loss: 5.4153 - val_mae: 1.6971\n",
      "Epoch 145/500\n",
      " 1/27 [>.............................] - ETA: 0s - loss: 2.4314 - mae: 1.1152WARNING:tensorflow:Early stopping conditioned on metric `val_mse` which is not available. Available metrics are: loss,mae,val_loss,val_mae\n",
      "WARNING:tensorflow:Can save best model only with val_mse available, skipping.\n",
      "27/27 [==============================] - 0s 2ms/step - loss: 4.3048 - mae: 1.4751 - val_loss: 5.2012 - val_mae: 1.6078\n",
      "Epoch 146/500\n",
      " 1/27 [>.............................] - ETA: 0s - loss: 3.8582 - mae: 1.3999WARNING:tensorflow:Early stopping conditioned on metric `val_mse` which is not available. Available metrics are: loss,mae,val_loss,val_mae\n",
      "WARNING:tensorflow:Can save best model only with val_mse available, skipping.\n",
      "27/27 [==============================] - 0s 3ms/step - loss: 4.2288 - mae: 1.4718 - val_loss: 5.1878 - val_mae: 1.5759\n",
      "Epoch 147/500\n",
      " 1/27 [>.............................] - ETA: 0s - loss: 5.7515 - mae: 1.7612WARNING:tensorflow:Early stopping conditioned on metric `val_mse` which is not available. Available metrics are: loss,mae,val_loss,val_mae\n",
      "WARNING:tensorflow:Can save best model only with val_mse available, skipping.\n",
      "27/27 [==============================] - 0s 3ms/step - loss: 4.2641 - mae: 1.4666 - val_loss: 5.5741 - val_mae: 1.7522\n",
      "Epoch 148/500\n",
      " 1/27 [>.............................] - ETA: 0s - loss: 3.9997 - mae: 1.4351WARNING:tensorflow:Early stopping conditioned on metric `val_mse` which is not available. Available metrics are: loss,mae,val_loss,val_mae\n",
      "WARNING:tensorflow:Can save best model only with val_mse available, skipping.\n",
      "27/27 [==============================] - 0s 2ms/step - loss: 4.3103 - mae: 1.4896 - val_loss: 5.2874 - val_mae: 1.6592\n",
      "Epoch 149/500\n",
      " 1/27 [>.............................] - ETA: 0s - loss: 3.2811 - mae: 1.3768WARNING:tensorflow:Early stopping conditioned on metric `val_mse` which is not available. Available metrics are: loss,mae,val_loss,val_mae\n",
      "WARNING:tensorflow:Can save best model only with val_mse available, skipping.\n",
      "27/27 [==============================] - 0s 3ms/step - loss: 4.2498 - mae: 1.4643 - val_loss: 5.2840 - val_mae: 1.6044\n",
      "Epoch 150/500\n",
      " 1/27 [>.............................] - ETA: 0s - loss: 2.9850 - mae: 1.3715WARNING:tensorflow:Early stopping conditioned on metric `val_mse` which is not available. Available metrics are: loss,mae,val_loss,val_mae\n",
      "WARNING:tensorflow:Can save best model only with val_mse available, skipping.\n",
      "27/27 [==============================] - 0s 3ms/step - loss: 4.2955 - mae: 1.4642 - val_loss: 5.3770 - val_mae: 1.6655\n",
      "Epoch 151/500\n",
      " 1/27 [>.............................] - ETA: 0s - loss: 3.6042 - mae: 1.3643WARNING:tensorflow:Early stopping conditioned on metric `val_mse` which is not available. Available metrics are: loss,mae,val_loss,val_mae\n",
      "WARNING:tensorflow:Can save best model only with val_mse available, skipping.\n",
      "27/27 [==============================] - 0s 2ms/step - loss: 4.2939 - mae: 1.4700 - val_loss: 5.2531 - val_mae: 1.5909\n",
      "Epoch 152/500\n",
      " 1/27 [>.............................] - ETA: 0s - loss: 5.8890 - mae: 1.7814WARNING:tensorflow:Early stopping conditioned on metric `val_mse` which is not available. Available metrics are: loss,mae,val_loss,val_mae\n",
      "WARNING:tensorflow:Can save best model only with val_mse available, skipping.\n",
      "27/27 [==============================] - 0s 2ms/step - loss: 4.2328 - mae: 1.4524 - val_loss: 5.2875 - val_mae: 1.5513\n",
      "Epoch 153/500\n",
      " 1/27 [>.............................] - ETA: 0s - loss: 4.7685 - mae: 1.6179WARNING:tensorflow:Early stopping conditioned on metric `val_mse` which is not available. Available metrics are: loss,mae,val_loss,val_mae\n",
      "WARNING:tensorflow:Can save best model only with val_mse available, skipping.\n",
      "27/27 [==============================] - 0s 2ms/step - loss: 4.2158 - mae: 1.4505 - val_loss: 5.7348 - val_mae: 1.7808\n",
      "Epoch 154/500\n",
      " 1/27 [>.............................] - ETA: 0s - loss: 6.3482 - mae: 1.9888WARNING:tensorflow:Early stopping conditioned on metric `val_mse` which is not available. Available metrics are: loss,mae,val_loss,val_mae\n",
      "WARNING:tensorflow:Can save best model only with val_mse available, skipping.\n",
      "27/27 [==============================] - 0s 2ms/step - loss: 4.2677 - mae: 1.4850 - val_loss: 5.1982 - val_mae: 1.6034\n",
      "Epoch 155/500\n",
      " 1/27 [>.............................] - ETA: 0s - loss: 6.7909 - mae: 1.8817WARNING:tensorflow:Early stopping conditioned on metric `val_mse` which is not available. Available metrics are: loss,mae,val_loss,val_mae\n",
      "WARNING:tensorflow:Can save best model only with val_mse available, skipping.\n",
      "27/27 [==============================] - 0s 2ms/step - loss: 4.2682 - mae: 1.4653 - val_loss: 5.4489 - val_mae: 1.7105\n",
      "Epoch 156/500\n",
      " 1/27 [>.............................] - ETA: 0s - loss: 5.7392 - mae: 1.8730WARNING:tensorflow:Early stopping conditioned on metric `val_mse` which is not available. Available metrics are: loss,mae,val_loss,val_mae\n"
     ]
    },
    {
     "name": "stdout",
     "output_type": "stream",
     "text": [
      "WARNING:tensorflow:Can save best model only with val_mse available, skipping.\n",
      "27/27 [==============================] - 0s 2ms/step - loss: 4.2802 - mae: 1.4727 - val_loss: 5.2365 - val_mae: 1.6278\n",
      "Epoch 157/500\n",
      " 1/27 [>.............................] - ETA: 0s - loss: 3.7411 - mae: 1.4228WARNING:tensorflow:Early stopping conditioned on metric `val_mse` which is not available. Available metrics are: loss,mae,val_loss,val_mae\n",
      "WARNING:tensorflow:Can save best model only with val_mse available, skipping.\n",
      "27/27 [==============================] - 0s 2ms/step - loss: 4.2261 - mae: 1.4573 - val_loss: 5.2886 - val_mae: 1.6003\n",
      "Epoch 158/500\n",
      " 1/27 [>.............................] - ETA: 0s - loss: 5.6900 - mae: 1.8117WARNING:tensorflow:Early stopping conditioned on metric `val_mse` which is not available. Available metrics are: loss,mae,val_loss,val_mae\n",
      "WARNING:tensorflow:Can save best model only with val_mse available, skipping.\n",
      "27/27 [==============================] - 0s 2ms/step - loss: 4.2647 - mae: 1.4731 - val_loss: 5.1871 - val_mae: 1.6076\n",
      "Epoch 159/500\n",
      " 1/27 [>.............................] - ETA: 0s - loss: 2.7230 - mae: 1.3820WARNING:tensorflow:Early stopping conditioned on metric `val_mse` which is not available. Available metrics are: loss,mae,val_loss,val_mae\n",
      "WARNING:tensorflow:Can save best model only with val_mse available, skipping.\n",
      "27/27 [==============================] - 0s 2ms/step - loss: 4.2575 - mae: 1.4514 - val_loss: 5.1996 - val_mae: 1.5600\n",
      "Epoch 160/500\n",
      " 1/27 [>.............................] - ETA: 0s - loss: 5.7158 - mae: 1.6756WARNING:tensorflow:Early stopping conditioned on metric `val_mse` which is not available. Available metrics are: loss,mae,val_loss,val_mae\n",
      "WARNING:tensorflow:Can save best model only with val_mse available, skipping.\n",
      "27/27 [==============================] - 0s 2ms/step - loss: 4.2276 - mae: 1.4525 - val_loss: 5.1648 - val_mae: 1.5621\n",
      "Epoch 161/500\n",
      " 1/27 [>.............................] - ETA: 0s - loss: 2.0075 - mae: 1.1566WARNING:tensorflow:Early stopping conditioned on metric `val_mse` which is not available. Available metrics are: loss,mae,val_loss,val_mae\n",
      "WARNING:tensorflow:Can save best model only with val_mse available, skipping.\n",
      "27/27 [==============================] - 0s 3ms/step - loss: 4.2176 - mae: 1.4509 - val_loss: 5.1698 - val_mae: 1.5572\n",
      "Epoch 162/500\n",
      " 1/27 [>.............................] - ETA: 0s - loss: 3.1579 - mae: 1.2881WARNING:tensorflow:Early stopping conditioned on metric `val_mse` which is not available. Available metrics are: loss,mae,val_loss,val_mae\n",
      "WARNING:tensorflow:Can save best model only with val_mse available, skipping.\n",
      "27/27 [==============================] - 0s 3ms/step - loss: 4.2062 - mae: 1.4545 - val_loss: 5.1484 - val_mae: 1.5856\n",
      "Epoch 163/500\n",
      " 1/27 [>.............................] - ETA: 0s - loss: 1.6808 - mae: 1.0691WARNING:tensorflow:Early stopping conditioned on metric `val_mse` which is not available. Available metrics are: loss,mae,val_loss,val_mae\n",
      "WARNING:tensorflow:Can save best model only with val_mse available, skipping.\n",
      "27/27 [==============================] - 0s 2ms/step - loss: 4.2292 - mae: 1.4535 - val_loss: 5.3848 - val_mae: 1.6872\n",
      "Epoch 164/500\n",
      " 1/27 [>.............................] - ETA: 0s - loss: 5.6589 - mae: 1.6920WARNING:tensorflow:Early stopping conditioned on metric `val_mse` which is not available. Available metrics are: loss,mae,val_loss,val_mae\n",
      "WARNING:tensorflow:Can save best model only with val_mse available, skipping.\n",
      "27/27 [==============================] - 0s 3ms/step - loss: 4.2593 - mae: 1.4682 - val_loss: 5.2221 - val_mae: 1.5500\n",
      "Epoch 165/500\n",
      " 1/27 [>.............................] - ETA: 0s - loss: 5.7151 - mae: 1.6167WARNING:tensorflow:Early stopping conditioned on metric `val_mse` which is not available. Available metrics are: loss,mae,val_loss,val_mae\n",
      "WARNING:tensorflow:Can save best model only with val_mse available, skipping.\n",
      "27/27 [==============================] - 0s 2ms/step - loss: 4.2722 - mae: 1.4574 - val_loss: 5.2075 - val_mae: 1.5578\n",
      "Epoch 166/500\n",
      " 1/27 [>.............................] - ETA: 0s - loss: 3.4721 - mae: 1.2523WARNING:tensorflow:Early stopping conditioned on metric `val_mse` which is not available. Available metrics are: loss,mae,val_loss,val_mae\n",
      "WARNING:tensorflow:Can save best model only with val_mse available, skipping.\n",
      "27/27 [==============================] - 0s 3ms/step - loss: 4.2358 - mae: 1.4528 - val_loss: 5.2001 - val_mae: 1.5597\n",
      "Epoch 167/500\n",
      "23/27 [========================>.....] - ETA: 0s - loss: 3.9701 - mae: 1.4273WARNING:tensorflow:Early stopping conditioned on metric `val_mse` which is not available. Available metrics are: loss,mae,val_loss,val_mae\n",
      "WARNING:tensorflow:Can save best model only with val_mse available, skipping.\n",
      "27/27 [==============================] - 0s 3ms/step - loss: 4.2221 - mae: 1.4512 - val_loss: 5.2095 - val_mae: 1.5571\n",
      "Epoch 168/500\n",
      " 1/27 [>.............................] - ETA: 0s - loss: 1.4564 - mae: 0.9533WARNING:tensorflow:Early stopping conditioned on metric `val_mse` which is not available. Available metrics are: loss,mae,val_loss,val_mae\n",
      "WARNING:tensorflow:Can save best model only with val_mse available, skipping.\n",
      "27/27 [==============================] - 0s 2ms/step - loss: 4.2330 - mae: 1.4498 - val_loss: 5.5670 - val_mae: 1.6020\n",
      "Epoch 169/500\n",
      " 1/27 [>.............................] - ETA: 0s - loss: 2.9459 - mae: 1.2168WARNING:tensorflow:Early stopping conditioned on metric `val_mse` which is not available. Available metrics are: loss,mae,val_loss,val_mae\n",
      "WARNING:tensorflow:Can save best model only with val_mse available, skipping.\n",
      "27/27 [==============================] - 0s 2ms/step - loss: 4.2480 - mae: 1.4555 - val_loss: 5.1502 - val_mae: 1.5724\n",
      "Epoch 170/500\n",
      " 1/27 [>.............................] - ETA: 0s - loss: 5.9345 - mae: 1.9005WARNING:tensorflow:Early stopping conditioned on metric `val_mse` which is not available. Available metrics are: loss,mae,val_loss,val_mae\n",
      "WARNING:tensorflow:Can save best model only with val_mse available, skipping.\n",
      "27/27 [==============================] - 0s 2ms/step - loss: 4.2035 - mae: 1.4455 - val_loss: 5.2617 - val_mae: 1.6429\n",
      "Epoch 171/500\n",
      " 1/27 [>.............................] - ETA: 0s - loss: 4.6351 - mae: 1.5875WARNING:tensorflow:Early stopping conditioned on metric `val_mse` which is not available. Available metrics are: loss,mae,val_loss,val_mae\n",
      "WARNING:tensorflow:Can save best model only with val_mse available, skipping.\n",
      "27/27 [==============================] - 0s 2ms/step - loss: 4.2515 - mae: 1.4617 - val_loss: 5.2387 - val_mae: 1.5687\n",
      "Epoch 172/500\n",
      " 1/27 [>.............................] - ETA: 0s - loss: 4.1331 - mae: 1.6167WARNING:tensorflow:Early stopping conditioned on metric `val_mse` which is not available. Available metrics are: loss,mae,val_loss,val_mae\n",
      "WARNING:tensorflow:Can save best model only with val_mse available, skipping.\n",
      "27/27 [==============================] - 0s 2ms/step - loss: 4.2288 - mae: 1.4441 - val_loss: 5.1869 - val_mae: 1.6181\n",
      "Epoch 173/500\n",
      " 1/27 [>.............................] - ETA: 0s - loss: 3.9777 - mae: 1.5214WARNING:tensorflow:Early stopping conditioned on metric `val_mse` which is not available. Available metrics are: loss,mae,val_loss,val_mae\n",
      "WARNING:tensorflow:Can save best model only with val_mse available, skipping.\n",
      "27/27 [==============================] - 0s 2ms/step - loss: 4.2026 - mae: 1.4624 - val_loss: 5.1456 - val_mae: 1.5555\n",
      "Epoch 174/500\n",
      " 1/27 [>.............................] - ETA: 0s - loss: 3.8560 - mae: 1.6004WARNING:tensorflow:Early stopping conditioned on metric `val_mse` which is not available. Available metrics are: loss,mae,val_loss,val_mae\n",
      "WARNING:tensorflow:Can save best model only with val_mse available, skipping.\n",
      "27/27 [==============================] - 0s 2ms/step - loss: 4.2299 - mae: 1.4548 - val_loss: 7.7919 - val_mae: 2.2788\n",
      "Epoch 175/500\n",
      " 1/27 [>.............................] - ETA: 0s - loss: 4.5375 - mae: 1.7463WARNING:tensorflow:Early stopping conditioned on metric `val_mse` which is not available. Available metrics are: loss,mae,val_loss,val_mae\n",
      "WARNING:tensorflow:Can save best model only with val_mse available, skipping.\n",
      "27/27 [==============================] - 0s 2ms/step - loss: 4.4659 - mae: 1.5523 - val_loss: 5.4878 - val_mae: 1.5608\n"
     ]
    },
    {
     "name": "stdout",
     "output_type": "stream",
     "text": [
      "Epoch 176/500\n",
      " 1/27 [>.............................] - ETA: 0s - loss: 7.4488 - mae: 2.0855WARNING:tensorflow:Early stopping conditioned on metric `val_mse` which is not available. Available metrics are: loss,mae,val_loss,val_mae\n",
      "WARNING:tensorflow:Can save best model only with val_mse available, skipping.\n",
      "27/27 [==============================] - 0s 2ms/step - loss: 4.2497 - mae: 1.4660 - val_loss: 5.2295 - val_mae: 1.5513\n",
      "Epoch 177/500\n",
      " 1/27 [>.............................] - ETA: 0s - loss: 4.3754 - mae: 1.3388WARNING:tensorflow:Early stopping conditioned on metric `val_mse` which is not available. Available metrics are: loss,mae,val_loss,val_mae\n",
      "WARNING:tensorflow:Can save best model only with val_mse available, skipping.\n",
      "27/27 [==============================] - 0s 3ms/step - loss: 4.2145 - mae: 1.4453 - val_loss: 5.1951 - val_mae: 1.6119\n",
      "Epoch 178/500\n",
      " 1/27 [>.............................] - ETA: 0s - loss: 3.7714 - mae: 1.3872WARNING:tensorflow:Early stopping conditioned on metric `val_mse` which is not available. Available metrics are: loss,mae,val_loss,val_mae\n",
      "WARNING:tensorflow:Can save best model only with val_mse available, skipping.\n",
      "27/27 [==============================] - 0s 2ms/step - loss: 4.1801 - mae: 1.4524 - val_loss: 5.1881 - val_mae: 1.5470\n",
      "Epoch 179/500\n",
      " 1/27 [>.............................] - ETA: 0s - loss: 3.5129 - mae: 1.5304WARNING:tensorflow:Early stopping conditioned on metric `val_mse` which is not available. Available metrics are: loss,mae,val_loss,val_mae\n",
      "WARNING:tensorflow:Can save best model only with val_mse available, skipping.\n",
      "27/27 [==============================] - 0s 2ms/step - loss: 4.1238 - mae: 1.4380 - val_loss: 5.7749 - val_mae: 1.6167\n",
      "Epoch 180/500\n",
      " 1/27 [>.............................] - ETA: 0s - loss: 3.7898 - mae: 1.5276WARNING:tensorflow:Early stopping conditioned on metric `val_mse` which is not available. Available metrics are: loss,mae,val_loss,val_mae\n",
      "WARNING:tensorflow:Can save best model only with val_mse available, skipping.\n",
      "27/27 [==============================] - 0s 2ms/step - loss: 4.2601 - mae: 1.4495 - val_loss: 5.1401 - val_mae: 1.5868\n",
      "Epoch 181/500\n",
      " 1/27 [>.............................] - ETA: 0s - loss: 3.8334 - mae: 1.4230WARNING:tensorflow:Early stopping conditioned on metric `val_mse` which is not available. Available metrics are: loss,mae,val_loss,val_mae\n",
      "WARNING:tensorflow:Can save best model only with val_mse available, skipping.\n",
      "27/27 [==============================] - 0s 2ms/step - loss: 4.2045 - mae: 1.4513 - val_loss: 5.1566 - val_mae: 1.5652\n",
      "Epoch 182/500\n",
      " 1/27 [>.............................] - ETA: 0s - loss: 4.1654 - mae: 1.4834WARNING:tensorflow:Early stopping conditioned on metric `val_mse` which is not available. Available metrics are: loss,mae,val_loss,val_mae\n",
      "WARNING:tensorflow:Can save best model only with val_mse available, skipping.\n",
      "27/27 [==============================] - 0s 2ms/step - loss: 4.2134 - mae: 1.4555 - val_loss: 5.1226 - val_mae: 1.5559\n",
      "Epoch 183/500\n",
      " 1/27 [>.............................] - ETA: 0s - loss: 5.4420 - mae: 1.6955WARNING:tensorflow:Early stopping conditioned on metric `val_mse` which is not available. Available metrics are: loss,mae,val_loss,val_mae\n",
      "WARNING:tensorflow:Can save best model only with val_mse available, skipping.\n",
      "27/27 [==============================] - 0s 2ms/step - loss: 4.1739 - mae: 1.4423 - val_loss: 5.2047 - val_mae: 1.5492\n",
      "Epoch 184/500\n",
      " 1/27 [>.............................] - ETA: 0s - loss: 4.0218 - mae: 1.4968WARNING:tensorflow:Early stopping conditioned on metric `val_mse` which is not available. Available metrics are: loss,mae,val_loss,val_mae\n",
      "WARNING:tensorflow:Can save best model only with val_mse available, skipping.\n",
      "27/27 [==============================] - 0s 3ms/step - loss: 4.2067 - mae: 1.4599 - val_loss: 5.1358 - val_mae: 1.5766\n",
      "Epoch 185/500\n",
      " 1/27 [>.............................] - ETA: 0s - loss: 2.2873 - mae: 1.2368WARNING:tensorflow:Early stopping conditioned on metric `val_mse` which is not available. Available metrics are: loss,mae,val_loss,val_mae\n",
      "WARNING:tensorflow:Can save best model only with val_mse available, skipping.\n",
      "27/27 [==============================] - 0s 2ms/step - loss: 4.1997 - mae: 1.4424 - val_loss: 5.2721 - val_mae: 1.6627\n",
      "Epoch 186/500\n",
      " 1/27 [>.............................] - ETA: 0s - loss: 1.9094 - mae: 1.1652WARNING:tensorflow:Early stopping conditioned on metric `val_mse` which is not available. Available metrics are: loss,mae,val_loss,val_mae\n",
      "WARNING:tensorflow:Can save best model only with val_mse available, skipping.\n",
      "27/27 [==============================] - 0s 2ms/step - loss: 4.2164 - mae: 1.4566 - val_loss: 5.3234 - val_mae: 1.5468\n",
      "Epoch 187/500\n",
      " 1/27 [>.............................] - ETA: 0s - loss: 2.3460 - mae: 1.2494WARNING:tensorflow:Early stopping conditioned on metric `val_mse` which is not available. Available metrics are: loss,mae,val_loss,val_mae\n",
      "WARNING:tensorflow:Can save best model only with val_mse available, skipping.\n",
      "27/27 [==============================] - 0s 2ms/step - loss: 4.2041 - mae: 1.4504 - val_loss: 5.3389 - val_mae: 1.5973\n",
      "Epoch 188/500\n",
      " 1/27 [>.............................] - ETA: 0s - loss: 1.3429 - mae: 0.9048WARNING:tensorflow:Early stopping conditioned on metric `val_mse` which is not available. Available metrics are: loss,mae,val_loss,val_mae\n",
      "WARNING:tensorflow:Can save best model only with val_mse available, skipping.\n",
      "27/27 [==============================] - 0s 2ms/step - loss: 4.2311 - mae: 1.4537 - val_loss: 6.1016 - val_mae: 1.6474\n",
      "Epoch 189/500\n",
      " 1/27 [>.............................] - ETA: 0s - loss: 1.9531 - mae: 1.0352WARNING:tensorflow:Early stopping conditioned on metric `val_mse` which is not available. Available metrics are: loss,mae,val_loss,val_mae\n",
      "WARNING:tensorflow:Can save best model only with val_mse available, skipping.\n",
      "27/27 [==============================] - 0s 2ms/step - loss: 4.2920 - mae: 1.4666 - val_loss: 5.1853 - val_mae: 1.5632\n",
      "Epoch 190/500\n",
      " 1/27 [>.............................] - ETA: 0s - loss: 3.7987 - mae: 1.4996WARNING:tensorflow:Early stopping conditioned on metric `val_mse` which is not available. Available metrics are: loss,mae,val_loss,val_mae\n",
      "WARNING:tensorflow:Can save best model only with val_mse available, skipping.\n",
      "27/27 [==============================] - 0s 2ms/step - loss: 4.2551 - mae: 1.4549 - val_loss: 5.1266 - val_mae: 1.5592\n",
      "Epoch 191/500\n",
      " 1/27 [>.............................] - ETA: 0s - loss: 2.1014 - mae: 1.1105WARNING:tensorflow:Early stopping conditioned on metric `val_mse` which is not available. Available metrics are: loss,mae,val_loss,val_mae\n",
      "WARNING:tensorflow:Can save best model only with val_mse available, skipping.\n",
      "27/27 [==============================] - 0s 2ms/step - loss: 4.1890 - mae: 1.4436 - val_loss: 5.2324 - val_mae: 1.5745\n",
      "Epoch 192/500\n",
      " 1/27 [>.............................] - ETA: 0s - loss: 4.2260 - mae: 1.3244WARNING:tensorflow:Early stopping conditioned on metric `val_mse` which is not available. Available metrics are: loss,mae,val_loss,val_mae\n",
      "WARNING:tensorflow:Can save best model only with val_mse available, skipping.\n",
      "27/27 [==============================] - 0s 2ms/step - loss: 4.2191 - mae: 1.4604 - val_loss: 5.4287 - val_mae: 1.5621\n",
      "Epoch 193/500\n",
      " 1/27 [>.............................] - ETA: 0s - loss: 4.4398 - mae: 1.3608WARNING:tensorflow:Early stopping conditioned on metric `val_mse` which is not available. Available metrics are: loss,mae,val_loss,val_mae\n",
      "WARNING:tensorflow:Can save best model only with val_mse available, skipping.\n",
      "27/27 [==============================] - 0s 2ms/step - loss: 4.2377 - mae: 1.4480 - val_loss: 5.1346 - val_mae: 1.5593\n",
      "Epoch 194/500\n",
      " 1/27 [>.............................] - ETA: 0s - loss: 1.8623 - mae: 1.0666WARNING:tensorflow:Early stopping conditioned on metric `val_mse` which is not available. Available metrics are: loss,mae,val_loss,val_mae\n",
      "WARNING:tensorflow:Can save best model only with val_mse available, skipping.\n",
      "27/27 [==============================] - 0s 2ms/step - loss: 4.2266 - mae: 1.4529 - val_loss: 5.1491 - val_mae: 1.6107\n",
      "Epoch 195/500\n"
     ]
    },
    {
     "name": "stdout",
     "output_type": "stream",
     "text": [
      " 1/27 [>.............................] - ETA: 0s - loss: 5.5834 - mae: 1.7426WARNING:tensorflow:Early stopping conditioned on metric `val_mse` which is not available. Available metrics are: loss,mae,val_loss,val_mae\n",
      "WARNING:tensorflow:Can save best model only with val_mse available, skipping.\n",
      "27/27 [==============================] - 0s 3ms/step - loss: 4.2104 - mae: 1.4567 - val_loss: 5.3862 - val_mae: 1.5672\n",
      "Epoch 196/500\n",
      " 1/27 [>.............................] - ETA: 0s - loss: 2.7116 - mae: 1.2661WARNING:tensorflow:Early stopping conditioned on metric `val_mse` which is not available. Available metrics are: loss,mae,val_loss,val_mae\n",
      "WARNING:tensorflow:Can save best model only with val_mse available, skipping.\n",
      "27/27 [==============================] - 0s 2ms/step - loss: 4.2139 - mae: 1.4527 - val_loss: 5.1119 - val_mae: 1.5771\n",
      "Epoch 197/500\n",
      " 1/27 [>.............................] - ETA: 0s - loss: 2.8799 - mae: 1.1434WARNING:tensorflow:Early stopping conditioned on metric `val_mse` which is not available. Available metrics are: loss,mae,val_loss,val_mae\n",
      "WARNING:tensorflow:Can save best model only with val_mse available, skipping.\n",
      "27/27 [==============================] - 0s 3ms/step - loss: 4.2062 - mae: 1.4570 - val_loss: 5.1121 - val_mae: 1.5609\n",
      "Epoch 198/500\n",
      " 1/27 [>.............................] - ETA: 0s - loss: 7.7254 - mae: 1.9152WARNING:tensorflow:Early stopping conditioned on metric `val_mse` which is not available. Available metrics are: loss,mae,val_loss,val_mae\n",
      "WARNING:tensorflow:Can save best model only with val_mse available, skipping.\n",
      "27/27 [==============================] - 0s 2ms/step - loss: 4.1882 - mae: 1.4417 - val_loss: 5.3002 - val_mae: 1.5509\n",
      "Epoch 199/500\n",
      " 1/27 [>.............................] - ETA: 0s - loss: 5.0929 - mae: 1.6204WARNING:tensorflow:Early stopping conditioned on metric `val_mse` which is not available. Available metrics are: loss,mae,val_loss,val_mae\n",
      "WARNING:tensorflow:Can save best model only with val_mse available, skipping.\n",
      "27/27 [==============================] - 0s 2ms/step - loss: 4.2050 - mae: 1.4499 - val_loss: 5.4761 - val_mae: 1.5618\n",
      "Epoch 200/500\n",
      " 1/27 [>.............................] - ETA: 0s - loss: 4.3157 - mae: 1.4154WARNING:tensorflow:Early stopping conditioned on metric `val_mse` which is not available. Available metrics are: loss,mae,val_loss,val_mae\n",
      "WARNING:tensorflow:Can save best model only with val_mse available, skipping.\n",
      "27/27 [==============================] - 0s 2ms/step - loss: 4.2043 - mae: 1.4431 - val_loss: 5.1216 - val_mae: 1.5813\n",
      "Epoch 201/500\n",
      " 1/27 [>.............................] - ETA: 0s - loss: 3.2357 - mae: 1.1663WARNING:tensorflow:Early stopping conditioned on metric `val_mse` which is not available. Available metrics are: loss,mae,val_loss,val_mae\n",
      "WARNING:tensorflow:Can save best model only with val_mse available, skipping.\n",
      "27/27 [==============================] - 0s 2ms/step - loss: 4.2154 - mae: 1.4492 - val_loss: 5.2889 - val_mae: 1.5438\n",
      "Epoch 202/500\n",
      " 1/27 [>.............................] - ETA: 0s - loss: 6.6757 - mae: 2.0127WARNING:tensorflow:Early stopping conditioned on metric `val_mse` which is not available. Available metrics are: loss,mae,val_loss,val_mae\n",
      "WARNING:tensorflow:Can save best model only with val_mse available, skipping.\n",
      "27/27 [==============================] - 0s 2ms/step - loss: 4.2116 - mae: 1.4440 - val_loss: 5.1786 - val_mae: 1.5542\n",
      "Epoch 203/500\n",
      " 1/27 [>.............................] - ETA: 0s - loss: 2.1373 - mae: 1.2293WARNING:tensorflow:Early stopping conditioned on metric `val_mse` which is not available. Available metrics are: loss,mae,val_loss,val_mae\n",
      "WARNING:tensorflow:Can save best model only with val_mse available, skipping.\n",
      "27/27 [==============================] - 0s 2ms/step - loss: 4.1894 - mae: 1.4513 - val_loss: 5.2761 - val_mae: 1.5501\n",
      "Epoch 204/500\n",
      " 1/27 [>.............................] - ETA: 0s - loss: 4.1235 - mae: 1.3841WARNING:tensorflow:Early stopping conditioned on metric `val_mse` which is not available. Available metrics are: loss,mae,val_loss,val_mae\n",
      "WARNING:tensorflow:Can save best model only with val_mse available, skipping.\n",
      "27/27 [==============================] - 0s 2ms/step - loss: 4.2081 - mae: 1.4389 - val_loss: 5.2565 - val_mae: 1.5368\n",
      "Epoch 205/500\n",
      " 1/27 [>.............................] - ETA: 0s - loss: 1.3377 - mae: 0.9339WARNING:tensorflow:Early stopping conditioned on metric `val_mse` which is not available. Available metrics are: loss,mae,val_loss,val_mae\n",
      "WARNING:tensorflow:Can save best model only with val_mse available, skipping.\n",
      "27/27 [==============================] - 0s 3ms/step - loss: 4.1684 - mae: 1.4281 - val_loss: 5.4259 - val_mae: 1.7211\n",
      "Epoch 206/500\n",
      " 1/27 [>.............................] - ETA: 0s - loss: 2.7933 - mae: 1.4410WARNING:tensorflow:Early stopping conditioned on metric `val_mse` which is not available. Available metrics are: loss,mae,val_loss,val_mae\n",
      "WARNING:tensorflow:Can save best model only with val_mse available, skipping.\n",
      "27/27 [==============================] - 0s 2ms/step - loss: 4.2450 - mae: 1.4647 - val_loss: 5.1097 - val_mae: 1.5784\n",
      "Epoch 207/500\n",
      " 1/27 [>.............................] - ETA: 0s - loss: 3.6383 - mae: 1.3077WARNING:tensorflow:Early stopping conditioned on metric `val_mse` which is not available. Available metrics are: loss,mae,val_loss,val_mae\n",
      "WARNING:tensorflow:Can save best model only with val_mse available, skipping.\n",
      "27/27 [==============================] - 0s 2ms/step - loss: 4.1793 - mae: 1.4388 - val_loss: 5.1786 - val_mae: 1.5539\n",
      "Epoch 208/500\n",
      " 1/27 [>.............................] - ETA: 0s - loss: 4.1482 - mae: 1.3478WARNING:tensorflow:Early stopping conditioned on metric `val_mse` which is not available. Available metrics are: loss,mae,val_loss,val_mae\n",
      "WARNING:tensorflow:Can save best model only with val_mse available, skipping.\n",
      "27/27 [==============================] - 0s 2ms/step - loss: 4.2449 - mae: 1.4538 - val_loss: 5.1557 - val_mae: 1.5460\n",
      "Epoch 209/500\n",
      " 1/27 [>.............................] - ETA: 0s - loss: 4.6147 - mae: 1.4314WARNING:tensorflow:Early stopping conditioned on metric `val_mse` which is not available. Available metrics are: loss,mae,val_loss,val_mae\n",
      "WARNING:tensorflow:Can save best model only with val_mse available, skipping.\n",
      "27/27 [==============================] - 0s 2ms/step - loss: 4.2117 - mae: 1.4483 - val_loss: 5.5429 - val_mae: 1.5791\n",
      "Epoch 210/500\n",
      " 1/27 [>.............................] - ETA: 0s - loss: 5.4529 - mae: 1.4534WARNING:tensorflow:Early stopping conditioned on metric `val_mse` which is not available. Available metrics are: loss,mae,val_loss,val_mae\n",
      "WARNING:tensorflow:Can save best model only with val_mse available, skipping.\n",
      "27/27 [==============================] - 0s 2ms/step - loss: 4.2040 - mae: 1.4293 - val_loss: 5.2098 - val_mae: 1.5923\n",
      "Epoch 211/500\n",
      " 1/27 [>.............................] - ETA: 0s - loss: 5.3239 - mae: 1.7738WARNING:tensorflow:Early stopping conditioned on metric `val_mse` which is not available. Available metrics are: loss,mae,val_loss,val_mae\n",
      "WARNING:tensorflow:Can save best model only with val_mse available, skipping.\n",
      "27/27 [==============================] - 0s 2ms/step - loss: 4.1843 - mae: 1.4574 - val_loss: 5.5158 - val_mae: 1.5677\n",
      "Epoch 212/500\n",
      " 1/27 [>.............................] - ETA: 0s - loss: 4.4675 - mae: 1.4221WARNING:tensorflow:Early stopping conditioned on metric `val_mse` which is not available. Available metrics are: loss,mae,val_loss,val_mae\n",
      "WARNING:tensorflow:Can save best model only with val_mse available, skipping.\n",
      "27/27 [==============================] - 0s 2ms/step - loss: 4.2485 - mae: 1.4408 - val_loss: 5.1820 - val_mae: 1.5415\n",
      "Epoch 213/500\n",
      " 1/27 [>.............................] - ETA: 0s - loss: 3.7389 - mae: 1.3891WARNING:tensorflow:Early stopping conditioned on metric `val_mse` which is not available. Available metrics are: loss,mae,val_loss,val_mae\n",
      "WARNING:tensorflow:Can save best model only with val_mse available, skipping.\n",
      "27/27 [==============================] - 0s 3ms/step - loss: 4.1557 - mae: 1.4358 - val_loss: 5.2330 - val_mae: 1.6553\n",
      "Epoch 214/500\n",
      " 1/27 [>.............................] - ETA: 0s - loss: 4.3855 - mae: 1.3195WARNING:tensorflow:Early stopping conditioned on metric `val_mse` which is not available. Available metrics are: loss,mae,val_loss,val_mae\n"
     ]
    },
    {
     "name": "stdout",
     "output_type": "stream",
     "text": [
      "WARNING:tensorflow:Can save best model only with val_mse available, skipping.\n",
      "27/27 [==============================] - 0s 3ms/step - loss: 4.1913 - mae: 1.4556 - val_loss: 5.3433 - val_mae: 1.5619\n",
      "Epoch 215/500\n",
      " 1/27 [>.............................] - ETA: 0s - loss: 9.7415 - mae: 2.1252WARNING:tensorflow:Early stopping conditioned on metric `val_mse` which is not available. Available metrics are: loss,mae,val_loss,val_mae\n",
      "WARNING:tensorflow:Can save best model only with val_mse available, skipping.\n",
      "27/27 [==============================] - 0s 2ms/step - loss: 4.2052 - mae: 1.4664 - val_loss: 5.1397 - val_mae: 1.6081\n",
      "Epoch 216/500\n",
      " 1/27 [>.............................] - ETA: 0s - loss: 2.8399 - mae: 1.3897WARNING:tensorflow:Early stopping conditioned on metric `val_mse` which is not available. Available metrics are: loss,mae,val_loss,val_mae\n",
      "WARNING:tensorflow:Can save best model only with val_mse available, skipping.\n",
      "27/27 [==============================] - 0s 2ms/step - loss: 4.2027 - mae: 1.4559 - val_loss: 5.1703 - val_mae: 1.6267\n",
      "Epoch 217/500\n",
      " 1/27 [>.............................] - ETA: 0s - loss: 3.7042 - mae: 1.4514WARNING:tensorflow:Early stopping conditioned on metric `val_mse` which is not available. Available metrics are: loss,mae,val_loss,val_mae\n",
      "WARNING:tensorflow:Can save best model only with val_mse available, skipping.\n",
      "27/27 [==============================] - 0s 2ms/step - loss: 4.1930 - mae: 1.4519 - val_loss: 5.1039 - val_mae: 1.6006\n",
      "Epoch 218/500\n",
      " 1/27 [>.............................] - ETA: 0s - loss: 4.5632 - mae: 1.4110WARNING:tensorflow:Early stopping conditioned on metric `val_mse` which is not available. Available metrics are: loss,mae,val_loss,val_mae\n",
      "WARNING:tensorflow:Can save best model only with val_mse available, skipping.\n",
      "27/27 [==============================] - 0s 2ms/step - loss: 4.2051 - mae: 1.4612 - val_loss: 5.3389 - val_mae: 1.5477\n",
      "Epoch 219/500\n",
      " 1/27 [>.............................] - ETA: 0s - loss: 1.2461 - mae: 0.8978WARNING:tensorflow:Early stopping conditioned on metric `val_mse` which is not available. Available metrics are: loss,mae,val_loss,val_mae\n",
      "WARNING:tensorflow:Can save best model only with val_mse available, skipping.\n",
      "27/27 [==============================] - 0s 2ms/step - loss: 4.1471 - mae: 1.4422 - val_loss: 5.5113 - val_mae: 1.5697\n",
      "Epoch 220/500\n",
      " 1/27 [>.............................] - ETA: 0s - loss: 3.9303 - mae: 1.2081WARNING:tensorflow:Early stopping conditioned on metric `val_mse` which is not available. Available metrics are: loss,mae,val_loss,val_mae\n",
      "WARNING:tensorflow:Can save best model only with val_mse available, skipping.\n",
      "27/27 [==============================] - 0s 2ms/step - loss: 4.2504 - mae: 1.4453 - val_loss: 5.1649 - val_mae: 1.6219\n",
      "Epoch 221/500\n",
      " 1/27 [>.............................] - ETA: 0s - loss: 4.6230 - mae: 1.4898WARNING:tensorflow:Early stopping conditioned on metric `val_mse` which is not available. Available metrics are: loss,mae,val_loss,val_mae\n",
      "WARNING:tensorflow:Can save best model only with val_mse available, skipping.\n",
      "27/27 [==============================] - 0s 2ms/step - loss: 4.2397 - mae: 1.4645 - val_loss: 5.2056 - val_mae: 1.6416\n",
      "Epoch 222/500\n",
      " 1/27 [>.............................] - ETA: 0s - loss: 2.8920 - mae: 1.3055WARNING:tensorflow:Early stopping conditioned on metric `val_mse` which is not available. Available metrics are: loss,mae,val_loss,val_mae\n",
      "WARNING:tensorflow:Can save best model only with val_mse available, skipping.\n",
      "27/27 [==============================] - 0s 2ms/step - loss: 4.1580 - mae: 1.4507 - val_loss: 5.1178 - val_mae: 1.5409\n",
      "Epoch 223/500\n",
      " 1/27 [>.............................] - ETA: 0s - loss: 2.7149 - mae: 1.2570WARNING:tensorflow:Early stopping conditioned on metric `val_mse` which is not available. Available metrics are: loss,mae,val_loss,val_mae\n",
      "WARNING:tensorflow:Can save best model only with val_mse available, skipping.\n",
      "27/27 [==============================] - 0s 2ms/step - loss: 4.1831 - mae: 1.4349 - val_loss: 6.2864 - val_mae: 1.9687\n",
      "Epoch 224/500\n",
      " 1/27 [>.............................] - ETA: 0s - loss: 7.9328 - mae: 2.1705WARNING:tensorflow:Early stopping conditioned on metric `val_mse` which is not available. Available metrics are: loss,mae,val_loss,val_mae\n",
      "WARNING:tensorflow:Can save best model only with val_mse available, skipping.\n",
      "27/27 [==============================] - 0s 3ms/step - loss: 4.3244 - mae: 1.4703 - val_loss: 5.1756 - val_mae: 1.5896\n",
      "Epoch 225/500\n",
      " 1/27 [>.............................] - ETA: 0s - loss: 6.1975 - mae: 1.6864WARNING:tensorflow:Early stopping conditioned on metric `val_mse` which is not available. Available metrics are: loss,mae,val_loss,val_mae\n",
      "WARNING:tensorflow:Can save best model only with val_mse available, skipping.\n",
      "27/27 [==============================] - 0s 2ms/step - loss: 4.1700 - mae: 1.4400 - val_loss: 5.0818 - val_mae: 1.5850\n",
      "Epoch 226/500\n",
      " 1/27 [>.............................] - ETA: 0s - loss: 3.1996 - mae: 1.3850WARNING:tensorflow:Early stopping conditioned on metric `val_mse` which is not available. Available metrics are: loss,mae,val_loss,val_mae\n",
      "WARNING:tensorflow:Can save best model only with val_mse available, skipping.\n",
      "27/27 [==============================] - 0s 3ms/step - loss: 4.1289 - mae: 1.4313 - val_loss: 5.9466 - val_mae: 1.8957\n",
      "Epoch 227/500\n",
      " 1/27 [>.............................] - ETA: 0s - loss: 7.5497 - mae: 2.2890WARNING:tensorflow:Early stopping conditioned on metric `val_mse` which is not available. Available metrics are: loss,mae,val_loss,val_mae\n",
      "WARNING:tensorflow:Can save best model only with val_mse available, skipping.\n",
      "27/27 [==============================] - 0s 2ms/step - loss: 4.2762 - mae: 1.4613 - val_loss: 5.7258 - val_mae: 1.8185\n",
      "Epoch 228/500\n",
      " 1/27 [>.............................] - ETA: 0s - loss: 4.9596 - mae: 1.7804WARNING:tensorflow:Early stopping conditioned on metric `val_mse` which is not available. Available metrics are: loss,mae,val_loss,val_mae\n",
      "WARNING:tensorflow:Can save best model only with val_mse available, skipping.\n",
      "27/27 [==============================] - 0s 2ms/step - loss: 4.2574 - mae: 1.4816 - val_loss: 5.8131 - val_mae: 1.6088\n",
      "Epoch 229/500\n",
      " 1/27 [>.............................] - ETA: 0s - loss: 5.8855 - mae: 1.7688WARNING:tensorflow:Early stopping conditioned on metric `val_mse` which is not available. Available metrics are: loss,mae,val_loss,val_mae\n",
      "WARNING:tensorflow:Can save best model only with val_mse available, skipping.\n",
      "27/27 [==============================] - 0s 2ms/step - loss: 4.2605 - mae: 1.4375 - val_loss: 5.0772 - val_mae: 1.5629\n",
      "Epoch 230/500\n",
      " 1/27 [>.............................] - ETA: 0s - loss: 4.8919 - mae: 1.8218WARNING:tensorflow:Early stopping conditioned on metric `val_mse` which is not available. Available metrics are: loss,mae,val_loss,val_mae\n",
      "WARNING:tensorflow:Can save best model only with val_mse available, skipping.\n",
      "27/27 [==============================] - 0s 2ms/step - loss: 4.1934 - mae: 1.4488 - val_loss: 5.3387 - val_mae: 1.5403\n",
      "Epoch 231/500\n",
      " 1/27 [>.............................] - ETA: 0s - loss: 4.3059 - mae: 1.4417WARNING:tensorflow:Early stopping conditioned on metric `val_mse` which is not available. Available metrics are: loss,mae,val_loss,val_mae\n",
      "WARNING:tensorflow:Can save best model only with val_mse available, skipping.\n",
      "27/27 [==============================] - 0s 2ms/step - loss: 4.1939 - mae: 1.4416 - val_loss: 5.2579 - val_mae: 1.6704\n",
      "Epoch 232/500\n",
      " 1/27 [>.............................] - ETA: 0s - loss: 10.9375 - mae: 1.9117WARNING:tensorflow:Early stopping conditioned on metric `val_mse` which is not available. Available metrics are: loss,mae,val_loss,val_mae\n",
      "WARNING:tensorflow:Can save best model only with val_mse available, skipping.\n",
      "27/27 [==============================] - 0s 2ms/step - loss: 4.1609 - mae: 1.4570 - val_loss: 5.2075 - val_mae: 1.5319\n",
      "Epoch 233/500\n",
      " 1/27 [>.............................] - ETA: 0s - loss: 1.8100 - mae: 1.0021WARNING:tensorflow:Early stopping conditioned on metric `val_mse` which is not available. Available metrics are: loss,mae,val_loss,val_mae\n",
      "WARNING:tensorflow:Can save best model only with val_mse available, skipping.\n",
      "27/27 [==============================] - 0s 2ms/step - loss: 4.1712 - mae: 1.4400 - val_loss: 5.0653 - val_mae: 1.5589\n"
     ]
    },
    {
     "name": "stdout",
     "output_type": "stream",
     "text": [
      "Epoch 234/500\n",
      " 1/27 [>.............................] - ETA: 0s - loss: 3.4453 - mae: 1.3650WARNING:tensorflow:Early stopping conditioned on metric `val_mse` which is not available. Available metrics are: loss,mae,val_loss,val_mae\n",
      "WARNING:tensorflow:Can save best model only with val_mse available, skipping.\n",
      "27/27 [==============================] - 0s 2ms/step - loss: 4.1785 - mae: 1.4472 - val_loss: 5.1988 - val_mae: 1.5450\n",
      "Epoch 235/500\n",
      " 1/27 [>.............................] - ETA: 0s - loss: 10.0872 - mae: 1.7648WARNING:tensorflow:Early stopping conditioned on metric `val_mse` which is not available. Available metrics are: loss,mae,val_loss,val_mae\n",
      "WARNING:tensorflow:Can save best model only with val_mse available, skipping.\n",
      "27/27 [==============================] - 0s 2ms/step - loss: 4.1955 - mae: 1.4450 - val_loss: 5.5537 - val_mae: 1.5785\n",
      "Epoch 236/500\n",
      " 1/27 [>.............................] - ETA: 0s - loss: 2.2194 - mae: 1.1240WARNING:tensorflow:Early stopping conditioned on metric `val_mse` which is not available. Available metrics are: loss,mae,val_loss,val_mae\n",
      "WARNING:tensorflow:Can save best model only with val_mse available, skipping.\n",
      "27/27 [==============================] - 0s 2ms/step - loss: 4.1889 - mae: 1.4270 - val_loss: 5.4106 - val_mae: 1.7400\n",
      "Epoch 237/500\n",
      " 1/27 [>.............................] - ETA: 0s - loss: 5.8858 - mae: 1.7035WARNING:tensorflow:Early stopping conditioned on metric `val_mse` which is not available. Available metrics are: loss,mae,val_loss,val_mae\n",
      "WARNING:tensorflow:Can save best model only with val_mse available, skipping.\n",
      "27/27 [==============================] - 0s 2ms/step - loss: 4.1683 - mae: 1.4529 - val_loss: 5.2404 - val_mae: 1.5336\n",
      "Epoch 238/500\n",
      " 1/27 [>.............................] - ETA: 0s - loss: 4.0498 - mae: 1.5428WARNING:tensorflow:Early stopping conditioned on metric `val_mse` which is not available. Available metrics are: loss,mae,val_loss,val_mae\n",
      "WARNING:tensorflow:Can save best model only with val_mse available, skipping.\n",
      "27/27 [==============================] - 0s 2ms/step - loss: 4.1986 - mae: 1.4414 - val_loss: 5.0728 - val_mae: 1.5534\n",
      "Epoch 239/500\n",
      " 1/27 [>.............................] - ETA: 0s - loss: 3.0936 - mae: 1.2957WARNING:tensorflow:Early stopping conditioned on metric `val_mse` which is not available. Available metrics are: loss,mae,val_loss,val_mae\n",
      "WARNING:tensorflow:Can save best model only with val_mse available, skipping.\n",
      "27/27 [==============================] - 0s 2ms/step - loss: 4.1680 - mae: 1.4328 - val_loss: 5.2573 - val_mae: 1.5334\n",
      "Epoch 240/500\n",
      " 1/27 [>.............................] - ETA: 0s - loss: 2.5066 - mae: 1.1946WARNING:tensorflow:Early stopping conditioned on metric `val_mse` which is not available. Available metrics are: loss,mae,val_loss,val_mae\n",
      "WARNING:tensorflow:Can save best model only with val_mse available, skipping.\n",
      "27/27 [==============================] - 0s 2ms/step - loss: 4.2359 - mae: 1.4396 - val_loss: 5.0746 - val_mae: 1.5624\n",
      "Epoch 241/500\n",
      " 1/27 [>.............................] - ETA: 0s - loss: 3.2772 - mae: 1.3450WARNING:tensorflow:Early stopping conditioned on metric `val_mse` which is not available. Available metrics are: loss,mae,val_loss,val_mae\n",
      "WARNING:tensorflow:Can save best model only with val_mse available, skipping.\n",
      "27/27 [==============================] - 0s 2ms/step - loss: 4.1281 - mae: 1.4360 - val_loss: 5.4055 - val_mae: 1.5599\n",
      "Epoch 242/500\n",
      " 1/27 [>.............................] - ETA: 0s - loss: 6.0513 - mae: 1.8158WARNING:tensorflow:Early stopping conditioned on metric `val_mse` which is not available. Available metrics are: loss,mae,val_loss,val_mae\n",
      "WARNING:tensorflow:Can save best model only with val_mse available, skipping.\n",
      "27/27 [==============================] - 0s 2ms/step - loss: 4.2116 - mae: 1.4430 - val_loss: 5.0999 - val_mae: 1.5486\n",
      "Epoch 243/500\n",
      " 1/27 [>.............................] - ETA: 0s - loss: 10.5651 - mae: 1.8132WARNING:tensorflow:Early stopping conditioned on metric `val_mse` which is not available. Available metrics are: loss,mae,val_loss,val_mae\n",
      "WARNING:tensorflow:Can save best model only with val_mse available, skipping.\n",
      "27/27 [==============================] - 0s 2ms/step - loss: 4.1328 - mae: 1.4334 - val_loss: 5.2687 - val_mae: 1.5494\n",
      "Epoch 244/500\n",
      " 1/27 [>.............................] - ETA: 0s - loss: 2.3378 - mae: 1.2563WARNING:tensorflow:Early stopping conditioned on metric `val_mse` which is not available. Available metrics are: loss,mae,val_loss,val_mae\n",
      "WARNING:tensorflow:Can save best model only with val_mse available, skipping.\n",
      "27/27 [==============================] - 0s 3ms/step - loss: 4.1799 - mae: 1.4310 - val_loss: 5.0734 - val_mae: 1.5859\n",
      "Epoch 245/500\n",
      " 1/27 [>.............................] - ETA: 0s - loss: 3.2294 - mae: 1.3890WARNING:tensorflow:Early stopping conditioned on metric `val_mse` which is not available. Available metrics are: loss,mae,val_loss,val_mae\n",
      "WARNING:tensorflow:Can save best model only with val_mse available, skipping.\n",
      "27/27 [==============================] - 0s 2ms/step - loss: 4.1350 - mae: 1.4307 - val_loss: 5.2315 - val_mae: 1.5430\n",
      "Epoch 246/500\n",
      " 1/27 [>.............................] - ETA: 0s - loss: 2.6294 - mae: 1.2001WARNING:tensorflow:Early stopping conditioned on metric `val_mse` which is not available. Available metrics are: loss,mae,val_loss,val_mae\n",
      "WARNING:tensorflow:Can save best model only with val_mse available, skipping.\n",
      "27/27 [==============================] - 0s 3ms/step - loss: 4.1581 - mae: 1.4380 - val_loss: 5.2244 - val_mae: 1.5470\n",
      "Epoch 247/500\n",
      " 1/27 [>.............................] - ETA: 0s - loss: 5.0963 - mae: 1.5338WARNING:tensorflow:Early stopping conditioned on metric `val_mse` which is not available. Available metrics are: loss,mae,val_loss,val_mae\n",
      "WARNING:tensorflow:Can save best model only with val_mse available, skipping.\n",
      "27/27 [==============================] - 0s 2ms/step - loss: 4.1572 - mae: 1.4337 - val_loss: 5.2820 - val_mae: 1.5413\n",
      "Epoch 248/500\n",
      " 1/27 [>.............................] - ETA: 0s - loss: 4.5112 - mae: 1.5517WARNING:tensorflow:Early stopping conditioned on metric `val_mse` which is not available. Available metrics are: loss,mae,val_loss,val_mae\n",
      "WARNING:tensorflow:Can save best model only with val_mse available, skipping.\n",
      "27/27 [==============================] - 0s 2ms/step - loss: 4.1703 - mae: 1.4389 - val_loss: 5.0323 - val_mae: 1.5590\n",
      "Epoch 249/500\n",
      " 1/27 [>.............................] - ETA: 0s - loss: 3.0027 - mae: 1.3546WARNING:tensorflow:Early stopping conditioned on metric `val_mse` which is not available. Available metrics are: loss,mae,val_loss,val_mae\n",
      "WARNING:tensorflow:Can save best model only with val_mse available, skipping.\n",
      "27/27 [==============================] - 0s 2ms/step - loss: 4.1599 - mae: 1.4389 - val_loss: 5.1068 - val_mae: 1.6051\n",
      "Epoch 250/500\n",
      " 1/27 [>.............................] - ETA: 0s - loss: 2.3985 - mae: 1.3259WARNING:tensorflow:Early stopping conditioned on metric `val_mse` which is not available. Available metrics are: loss,mae,val_loss,val_mae\n",
      "WARNING:tensorflow:Can save best model only with val_mse available, skipping.\n",
      "27/27 [==============================] - 0s 2ms/step - loss: 4.1952 - mae: 1.4505 - val_loss: 5.1152 - val_mae: 1.5359\n",
      "Epoch 251/500\n",
      " 1/27 [>.............................] - ETA: 0s - loss: 5.7176 - mae: 1.5081WARNING:tensorflow:Early stopping conditioned on metric `val_mse` which is not available. Available metrics are: loss,mae,val_loss,val_mae\n",
      "WARNING:tensorflow:Can save best model only with val_mse available, skipping.\n",
      "27/27 [==============================] - 0s 2ms/step - loss: 4.2067 - mae: 1.4446 - val_loss: 5.2971 - val_mae: 1.6952\n",
      "Epoch 252/500\n",
      " 1/27 [>.............................] - ETA: 0s - loss: 4.4068 - mae: 1.5419WARNING:tensorflow:Early stopping conditioned on metric `val_mse` which is not available. Available metrics are: loss,mae,val_loss,val_mae\n",
      "WARNING:tensorflow:Can save best model only with val_mse available, skipping.\n",
      "27/27 [==============================] - 0s 2ms/step - loss: 4.2166 - mae: 1.4624 - val_loss: 5.2256 - val_mae: 1.5444\n",
      "Epoch 253/500\n"
     ]
    },
    {
     "name": "stdout",
     "output_type": "stream",
     "text": [
      " 1/27 [>.............................] - ETA: 0s - loss: 3.0099 - mae: 1.2275WARNING:tensorflow:Early stopping conditioned on metric `val_mse` which is not available. Available metrics are: loss,mae,val_loss,val_mae\n",
      "WARNING:tensorflow:Can save best model only with val_mse available, skipping.\n",
      "27/27 [==============================] - 0s 2ms/step - loss: 4.1825 - mae: 1.4399 - val_loss: 5.0971 - val_mae: 1.5555\n",
      "Epoch 254/500\n",
      " 1/27 [>.............................] - ETA: 0s - loss: 2.3181 - mae: 1.2008WARNING:tensorflow:Early stopping conditioned on metric `val_mse` which is not available. Available metrics are: loss,mae,val_loss,val_mae\n",
      "WARNING:tensorflow:Can save best model only with val_mse available, skipping.\n",
      "27/27 [==============================] - 0s 3ms/step - loss: 4.1864 - mae: 1.4431 - val_loss: 5.3691 - val_mae: 1.5501\n",
      "Epoch 255/500\n",
      " 1/27 [>.............................] - ETA: 0s - loss: 3.4709 - mae: 1.3904WARNING:tensorflow:Early stopping conditioned on metric `val_mse` which is not available. Available metrics are: loss,mae,val_loss,val_mae\n",
      "WARNING:tensorflow:Can save best model only with val_mse available, skipping.\n",
      "27/27 [==============================] - 0s 2ms/step - loss: 4.1869 - mae: 1.4365 - val_loss: 5.0593 - val_mae: 1.5756\n",
      "Epoch 256/500\n",
      " 1/27 [>.............................] - ETA: 0s - loss: 1.8361 - mae: 0.9928WARNING:tensorflow:Early stopping conditioned on metric `val_mse` which is not available. Available metrics are: loss,mae,val_loss,val_mae\n",
      "WARNING:tensorflow:Can save best model only with val_mse available, skipping.\n",
      "27/27 [==============================] - 0s 2ms/step - loss: 4.1762 - mae: 1.4271 - val_loss: 5.0211 - val_mae: 1.5972\n",
      "Epoch 257/500\n",
      " 1/27 [>.............................] - ETA: 0s - loss: 2.8230 - mae: 1.3387WARNING:tensorflow:Early stopping conditioned on metric `val_mse` which is not available. Available metrics are: loss,mae,val_loss,val_mae\n",
      "WARNING:tensorflow:Can save best model only with val_mse available, skipping.\n",
      "27/27 [==============================] - 0s 2ms/step - loss: 4.1628 - mae: 1.4494 - val_loss: 5.0688 - val_mae: 1.5466\n",
      "Epoch 258/500\n",
      " 1/27 [>.............................] - ETA: 0s - loss: 2.8783 - mae: 1.2583WARNING:tensorflow:Early stopping conditioned on metric `val_mse` which is not available. Available metrics are: loss,mae,val_loss,val_mae\n",
      "WARNING:tensorflow:Can save best model only with val_mse available, skipping.\n",
      "27/27 [==============================] - 0s 2ms/step - loss: 4.1732 - mae: 1.4569 - val_loss: 5.4695 - val_mae: 1.5628\n",
      "Epoch 259/500\n",
      " 1/27 [>.............................] - ETA: 0s - loss: 4.3635 - mae: 1.6317WARNING:tensorflow:Early stopping conditioned on metric `val_mse` which is not available. Available metrics are: loss,mae,val_loss,val_mae\n",
      "WARNING:tensorflow:Can save best model only with val_mse available, skipping.\n",
      "27/27 [==============================] - 0s 2ms/step - loss: 4.2465 - mae: 1.4356 - val_loss: 5.0557 - val_mae: 1.5801\n",
      "Epoch 260/500\n",
      " 1/27 [>.............................] - ETA: 0s - loss: 2.1340 - mae: 1.2286WARNING:tensorflow:Early stopping conditioned on metric `val_mse` which is not available. Available metrics are: loss,mae,val_loss,val_mae\n",
      "WARNING:tensorflow:Can save best model only with val_mse available, skipping.\n",
      "27/27 [==============================] - 0s 2ms/step - loss: 4.1972 - mae: 1.4496 - val_loss: 5.2408 - val_mae: 1.5365\n",
      "Epoch 261/500\n",
      " 1/27 [>.............................] - ETA: 0s - loss: 4.9838 - mae: 1.5371WARNING:tensorflow:Early stopping conditioned on metric `val_mse` which is not available. Available metrics are: loss,mae,val_loss,val_mae\n",
      "WARNING:tensorflow:Can save best model only with val_mse available, skipping.\n",
      "27/27 [==============================] - 0s 2ms/step - loss: 4.2023 - mae: 1.4326 - val_loss: 5.0807 - val_mae: 1.5625\n",
      "Epoch 262/500\n",
      " 1/27 [>.............................] - ETA: 0s - loss: 4.8445 - mae: 1.4740WARNING:tensorflow:Early stopping conditioned on metric `val_mse` which is not available. Available metrics are: loss,mae,val_loss,val_mae\n",
      "WARNING:tensorflow:Can save best model only with val_mse available, skipping.\n",
      "27/27 [==============================] - 0s 2ms/step - loss: 4.1540 - mae: 1.4499 - val_loss: 5.0556 - val_mae: 1.5387\n",
      "Epoch 263/500\n",
      " 1/27 [>.............................] - ETA: 0s - loss: 3.6114 - mae: 1.5579WARNING:tensorflow:Early stopping conditioned on metric `val_mse` which is not available. Available metrics are: loss,mae,val_loss,val_mae\n",
      "WARNING:tensorflow:Can save best model only with val_mse available, skipping.\n",
      "27/27 [==============================] - 0s 2ms/step - loss: 4.1625 - mae: 1.4476 - val_loss: 5.3009 - val_mae: 1.5381\n",
      "Epoch 264/500\n",
      " 1/27 [>.............................] - ETA: 0s - loss: 2.8675 - mae: 1.2073WARNING:tensorflow:Early stopping conditioned on metric `val_mse` which is not available. Available metrics are: loss,mae,val_loss,val_mae\n",
      "WARNING:tensorflow:Can save best model only with val_mse available, skipping.\n",
      "27/27 [==============================] - 0s 2ms/step - loss: 4.1322 - mae: 1.4311 - val_loss: 5.1138 - val_mae: 1.5367\n",
      "Epoch 265/500\n",
      " 1/27 [>.............................] - ETA: 0s - loss: 3.2199 - mae: 1.3571WARNING:tensorflow:Early stopping conditioned on metric `val_mse` which is not available. Available metrics are: loss,mae,val_loss,val_mae\n",
      "WARNING:tensorflow:Can save best model only with val_mse available, skipping.\n",
      "27/27 [==============================] - 0s 2ms/step - loss: 4.1396 - mae: 1.4324 - val_loss: 5.1145 - val_mae: 1.5456\n",
      "Epoch 266/500\n",
      " 1/27 [>.............................] - ETA: 0s - loss: 4.1953 - mae: 1.4724WARNING:tensorflow:Early stopping conditioned on metric `val_mse` which is not available. Available metrics are: loss,mae,val_loss,val_mae\n",
      "WARNING:tensorflow:Can save best model only with val_mse available, skipping.\n",
      "27/27 [==============================] - 0s 2ms/step - loss: 4.1570 - mae: 1.4340 - val_loss: 5.0446 - val_mae: 1.5377\n",
      "Epoch 267/500\n",
      " 1/27 [>.............................] - ETA: 0s - loss: 5.0944 - mae: 1.5992WARNING:tensorflow:Early stopping conditioned on metric `val_mse` which is not available. Available metrics are: loss,mae,val_loss,val_mae\n",
      "WARNING:tensorflow:Can save best model only with val_mse available, skipping.\n",
      "27/27 [==============================] - 0s 2ms/step - loss: 4.1778 - mae: 1.4450 - val_loss: 5.1758 - val_mae: 1.5400\n",
      "Epoch 268/500\n",
      " 1/27 [>.............................] - ETA: 0s - loss: 4.4375 - mae: 1.4754WARNING:tensorflow:Early stopping conditioned on metric `val_mse` which is not available. Available metrics are: loss,mae,val_loss,val_mae\n",
      "WARNING:tensorflow:Can save best model only with val_mse available, skipping.\n",
      "27/27 [==============================] - 0s 2ms/step - loss: 4.1131 - mae: 1.4258 - val_loss: 5.4973 - val_mae: 1.5818\n",
      "Epoch 269/500\n",
      " 1/27 [>.............................] - ETA: 0s - loss: 3.9874 - mae: 1.4130WARNING:tensorflow:Early stopping conditioned on metric `val_mse` which is not available. Available metrics are: loss,mae,val_loss,val_mae\n",
      "WARNING:tensorflow:Can save best model only with val_mse available, skipping.\n",
      "27/27 [==============================] - 0s 2ms/step - loss: 4.1194 - mae: 1.4282 - val_loss: 5.1117 - val_mae: 1.6367\n",
      "Epoch 270/500\n",
      " 1/27 [>.............................] - ETA: 0s - loss: 2.6263 - mae: 1.3280WARNING:tensorflow:Early stopping conditioned on metric `val_mse` which is not available. Available metrics are: loss,mae,val_loss,val_mae\n",
      "WARNING:tensorflow:Can save best model only with val_mse available, skipping.\n",
      "27/27 [==============================] - 0s 2ms/step - loss: 4.2365 - mae: 1.4714 - val_loss: 5.1980 - val_mae: 1.5369\n",
      "Epoch 271/500\n",
      " 1/27 [>.............................] - ETA: 0s - loss: 2.4325 - mae: 1.2450WARNING:tensorflow:Early stopping conditioned on metric `val_mse` which is not available. Available metrics are: loss,mae,val_loss,val_mae\n",
      "WARNING:tensorflow:Can save best model only with val_mse available, skipping.\n",
      "27/27 [==============================] - 0s 2ms/step - loss: 4.2014 - mae: 1.4465 - val_loss: 5.0210 - val_mae: 1.5637\n",
      "Epoch 272/500\n",
      " 1/27 [>.............................] - ETA: 0s - loss: 2.0387 - mae: 1.0486WARNING:tensorflow:Early stopping conditioned on metric `val_mse` which is not available. Available metrics are: loss,mae,val_loss,val_mae\n"
     ]
    },
    {
     "name": "stdout",
     "output_type": "stream",
     "text": [
      "WARNING:tensorflow:Can save best model only with val_mse available, skipping.\n",
      "27/27 [==============================] - 0s 2ms/step - loss: 4.1681 - mae: 1.4522 - val_loss: 5.0851 - val_mae: 1.5357\n",
      "Epoch 273/500\n",
      " 1/27 [>.............................] - ETA: 0s - loss: 4.0596 - mae: 1.3170WARNING:tensorflow:Early stopping conditioned on metric `val_mse` which is not available. Available metrics are: loss,mae,val_loss,val_mae\n",
      "WARNING:tensorflow:Can save best model only with val_mse available, skipping.\n",
      "27/27 [==============================] - 0s 2ms/step - loss: 4.1306 - mae: 1.4259 - val_loss: 5.0000 - val_mae: 1.5792\n",
      "Epoch 274/500\n",
      " 1/27 [>.............................] - ETA: 0s - loss: 3.0260 - mae: 1.3602WARNING:tensorflow:Early stopping conditioned on metric `val_mse` which is not available. Available metrics are: loss,mae,val_loss,val_mae\n",
      "WARNING:tensorflow:Can save best model only with val_mse available, skipping.\n",
      "27/27 [==============================] - 0s 2ms/step - loss: 4.1759 - mae: 1.4431 - val_loss: 5.1617 - val_mae: 1.6670\n",
      "Epoch 275/500\n",
      " 1/27 [>.............................] - ETA: 0s - loss: 2.9878 - mae: 1.3487WARNING:tensorflow:Early stopping conditioned on metric `val_mse` which is not available. Available metrics are: loss,mae,val_loss,val_mae\n",
      "WARNING:tensorflow:Can save best model only with val_mse available, skipping.\n",
      "27/27 [==============================] - 0s 2ms/step - loss: 4.1978 - mae: 1.4631 - val_loss: 5.0605 - val_mae: 1.5338\n",
      "Epoch 276/500\n",
      "25/27 [==========================>...] - ETA: 0s - loss: 4.1674 - mae: 1.4383WARNING:tensorflow:Early stopping conditioned on metric `val_mse` which is not available. Available metrics are: loss,mae,val_loss,val_mae\n",
      "WARNING:tensorflow:Can save best model only with val_mse available, skipping.\n",
      "27/27 [==============================] - 0s 3ms/step - loss: 4.1878 - mae: 1.4416 - val_loss: 5.1583 - val_mae: 1.5310\n",
      "Epoch 277/500\n",
      " 1/27 [>.............................] - ETA: 0s - loss: 5.9048 - mae: 1.7740WARNING:tensorflow:Early stopping conditioned on metric `val_mse` which is not available. Available metrics are: loss,mae,val_loss,val_mae\n",
      "WARNING:tensorflow:Can save best model only with val_mse available, skipping.\n",
      "27/27 [==============================] - 0s 2ms/step - loss: 4.1272 - mae: 1.4209 - val_loss: 5.0621 - val_mae: 1.6017\n",
      "Epoch 278/500\n",
      " 1/27 [>.............................] - ETA: 0s - loss: 12.9791 - mae: 2.4230WARNING:tensorflow:Early stopping conditioned on metric `val_mse` which is not available. Available metrics are: loss,mae,val_loss,val_mae\n",
      "WARNING:tensorflow:Can save best model only with val_mse available, skipping.\n",
      "27/27 [==============================] - 0s 2ms/step - loss: 4.1163 - mae: 1.4372 - val_loss: 5.0711 - val_mae: 1.5363\n",
      "Epoch 279/500\n",
      " 1/27 [>.............................] - ETA: 0s - loss: 4.0573 - mae: 1.3444WARNING:tensorflow:Early stopping conditioned on metric `val_mse` which is not available. Available metrics are: loss,mae,val_loss,val_mae\n",
      "WARNING:tensorflow:Can save best model only with val_mse available, skipping.\n",
      "27/27 [==============================] - 0s 4ms/step - loss: 4.1762 - mae: 1.4343 - val_loss: 5.0268 - val_mae: 1.5517\n",
      "Epoch 280/500\n",
      " 1/27 [>.............................] - ETA: 0s - loss: 3.6211 - mae: 1.4232WARNING:tensorflow:Early stopping conditioned on metric `val_mse` which is not available. Available metrics are: loss,mae,val_loss,val_mae\n",
      "WARNING:tensorflow:Can save best model only with val_mse available, skipping.\n",
      "27/27 [==============================] - 0s 3ms/step - loss: 4.1306 - mae: 1.4406 - val_loss: 5.3253 - val_mae: 1.5507\n",
      "Epoch 281/500\n",
      " 1/27 [>.............................] - ETA: 0s - loss: 5.4053 - mae: 1.5607WARNING:tensorflow:Early stopping conditioned on metric `val_mse` which is not available. Available metrics are: loss,mae,val_loss,val_mae\n",
      "WARNING:tensorflow:Can save best model only with val_mse available, skipping.\n",
      "27/27 [==============================] - 0s 3ms/step - loss: 4.1368 - mae: 1.4269 - val_loss: 5.0435 - val_mae: 1.5815\n",
      "Epoch 282/500\n",
      " 1/27 [>.............................] - ETA: 0s - loss: 9.1721 - mae: 1.5770WARNING:tensorflow:Early stopping conditioned on metric `val_mse` which is not available. Available metrics are: loss,mae,val_loss,val_mae\n",
      "WARNING:tensorflow:Can save best model only with val_mse available, skipping.\n",
      "27/27 [==============================] - 0s 2ms/step - loss: 4.1146 - mae: 1.4311 - val_loss: 5.1205 - val_mae: 1.6287\n",
      "Epoch 283/500\n",
      " 1/27 [>.............................] - ETA: 0s - loss: 3.8556 - mae: 1.4399WARNING:tensorflow:Early stopping conditioned on metric `val_mse` which is not available. Available metrics are: loss,mae,val_loss,val_mae\n",
      "WARNING:tensorflow:Can save best model only with val_mse available, skipping.\n",
      "27/27 [==============================] - 0s 2ms/step - loss: 4.1589 - mae: 1.4376 - val_loss: 5.0397 - val_mae: 1.5486\n",
      "Epoch 284/500\n",
      " 1/27 [>.............................] - ETA: 0s - loss: 0.9201 - mae: 0.7031WARNING:tensorflow:Early stopping conditioned on metric `val_mse` which is not available. Available metrics are: loss,mae,val_loss,val_mae\n",
      "WARNING:tensorflow:Can save best model only with val_mse available, skipping.\n",
      "27/27 [==============================] - 0s 3ms/step - loss: 4.1176 - mae: 1.4388 - val_loss: 5.3108 - val_mae: 1.5348\n",
      "Epoch 285/500\n",
      " 1/27 [>.............................] - ETA: 0s - loss: 3.1956 - mae: 1.4109WARNING:tensorflow:Early stopping conditioned on metric `val_mse` which is not available. Available metrics are: loss,mae,val_loss,val_mae\n",
      "WARNING:tensorflow:Can save best model only with val_mse available, skipping.\n",
      "27/27 [==============================] - 0s 3ms/step - loss: 4.1670 - mae: 1.4300 - val_loss: 5.0466 - val_mae: 1.5714\n",
      "Epoch 286/500\n",
      " 1/27 [>.............................] - ETA: 0s - loss: 3.6639 - mae: 1.3365WARNING:tensorflow:Early stopping conditioned on metric `val_mse` which is not available. Available metrics are: loss,mae,val_loss,val_mae\n",
      "WARNING:tensorflow:Can save best model only with val_mse available, skipping.\n",
      "27/27 [==============================] - 0s 2ms/step - loss: 4.1476 - mae: 1.4454 - val_loss: 5.0782 - val_mae: 1.5300\n",
      "Epoch 287/500\n",
      " 1/27 [>.............................] - ETA: 0s - loss: 4.3519 - mae: 1.5301WARNING:tensorflow:Early stopping conditioned on metric `val_mse` which is not available. Available metrics are: loss,mae,val_loss,val_mae\n",
      "WARNING:tensorflow:Can save best model only with val_mse available, skipping.\n",
      "27/27 [==============================] - 0s 2ms/step - loss: 4.1606 - mae: 1.4314 - val_loss: 4.9997 - val_mae: 1.5644\n",
      "Epoch 288/500\n",
      " 1/27 [>.............................] - ETA: 0s - loss: 3.2277 - mae: 1.4379WARNING:tensorflow:Early stopping conditioned on metric `val_mse` which is not available. Available metrics are: loss,mae,val_loss,val_mae\n",
      "WARNING:tensorflow:Can save best model only with val_mse available, skipping.\n",
      "27/27 [==============================] - 0s 2ms/step - loss: 4.1254 - mae: 1.4293 - val_loss: 5.1610 - val_mae: 1.5401\n",
      "Epoch 289/500\n",
      " 1/27 [>.............................] - ETA: 0s - loss: 3.4423 - mae: 1.4061WARNING:tensorflow:Early stopping conditioned on metric `val_mse` which is not available. Available metrics are: loss,mae,val_loss,val_mae\n",
      "WARNING:tensorflow:Can save best model only with val_mse available, skipping.\n",
      "27/27 [==============================] - 0s 2ms/step - loss: 4.1338 - mae: 1.4268 - val_loss: 4.9938 - val_mae: 1.5685\n",
      "Epoch 290/500\n",
      " 1/27 [>.............................] - ETA: 0s - loss: 2.8853 - mae: 1.2231WARNING:tensorflow:Early stopping conditioned on metric `val_mse` which is not available. Available metrics are: loss,mae,val_loss,val_mae\n",
      "WARNING:tensorflow:Can save best model only with val_mse available, skipping.\n",
      "27/27 [==============================] - 0s 2ms/step - loss: 4.1166 - mae: 1.4346 - val_loss: 5.0954 - val_mae: 1.5429\n",
      "Epoch 291/500\n",
      " 1/27 [>.............................] - ETA: 0s - loss: 3.9665 - mae: 1.2372WARNING:tensorflow:Early stopping conditioned on metric `val_mse` which is not available. Available metrics are: loss,mae,val_loss,val_mae\n",
      "WARNING:tensorflow:Can save best model only with val_mse available, skipping.\n",
      "27/27 [==============================] - 0s 2ms/step - loss: 4.1156 - mae: 1.4292 - val_loss: 5.0965 - val_mae: 1.5571\n"
     ]
    },
    {
     "name": "stdout",
     "output_type": "stream",
     "text": [
      "Epoch 292/500\n",
      " 1/27 [>.............................] - ETA: 0s - loss: 3.1355 - mae: 1.3898WARNING:tensorflow:Early stopping conditioned on metric `val_mse` which is not available. Available metrics are: loss,mae,val_loss,val_mae\n",
      "WARNING:tensorflow:Can save best model only with val_mse available, skipping.\n",
      "27/27 [==============================] - 0s 2ms/step - loss: 4.1646 - mae: 1.4372 - val_loss: 5.1633 - val_mae: 1.5237\n",
      "Epoch 293/500\n",
      " 1/27 [>.............................] - ETA: 0s - loss: 1.8227 - mae: 0.9383WARNING:tensorflow:Early stopping conditioned on metric `val_mse` which is not available. Available metrics are: loss,mae,val_loss,val_mae\n",
      "WARNING:tensorflow:Can save best model only with val_mse available, skipping.\n",
      "27/27 [==============================] - 0s 2ms/step - loss: 4.1330 - mae: 1.4359 - val_loss: 5.0700 - val_mae: 1.5548\n",
      "Epoch 294/500\n",
      " 1/27 [>.............................] - ETA: 0s - loss: 4.0604 - mae: 1.6475WARNING:tensorflow:Early stopping conditioned on metric `val_mse` which is not available. Available metrics are: loss,mae,val_loss,val_mae\n",
      "WARNING:tensorflow:Can save best model only with val_mse available, skipping.\n",
      "27/27 [==============================] - 0s 2ms/step - loss: 4.1153 - mae: 1.4339 - val_loss: 5.0121 - val_mae: 1.5574\n",
      "Epoch 295/500\n",
      " 1/27 [>.............................] - ETA: 0s - loss: 4.2507 - mae: 1.2519WARNING:tensorflow:Early stopping conditioned on metric `val_mse` which is not available. Available metrics are: loss,mae,val_loss,val_mae\n",
      "WARNING:tensorflow:Can save best model only with val_mse available, skipping.\n",
      "27/27 [==============================] - 0s 2ms/step - loss: 4.0733 - mae: 1.4268 - val_loss: 5.1825 - val_mae: 1.5347\n",
      "Epoch 296/500\n",
      " 1/27 [>.............................] - ETA: 0s - loss: 6.5256 - mae: 1.7859WARNING:tensorflow:Early stopping conditioned on metric `val_mse` which is not available. Available metrics are: loss,mae,val_loss,val_mae\n",
      "WARNING:tensorflow:Can save best model only with val_mse available, skipping.\n",
      "27/27 [==============================] - 0s 2ms/step - loss: 4.0910 - mae: 1.4210 - val_loss: 5.1736 - val_mae: 1.5336\n",
      "Epoch 297/500\n",
      " 1/27 [>.............................] - ETA: 0s - loss: 5.1206 - mae: 1.5878WARNING:tensorflow:Early stopping conditioned on metric `val_mse` which is not available. Available metrics are: loss,mae,val_loss,val_mae\n",
      "WARNING:tensorflow:Can save best model only with val_mse available, skipping.\n",
      "27/27 [==============================] - 0s 2ms/step - loss: 4.2083 - mae: 1.4312 - val_loss: 4.9924 - val_mae: 1.5649\n",
      "Epoch 298/500\n",
      " 1/27 [>.............................] - ETA: 0s - loss: 3.8895 - mae: 1.4825WARNING:tensorflow:Early stopping conditioned on metric `val_mse` which is not available. Available metrics are: loss,mae,val_loss,val_mae\n",
      "WARNING:tensorflow:Can save best model only with val_mse available, skipping.\n",
      "27/27 [==============================] - 0s 2ms/step - loss: 4.0995 - mae: 1.4257 - val_loss: 5.1155 - val_mae: 1.5319\n",
      "Epoch 299/500\n",
      " 1/27 [>.............................] - ETA: 0s - loss: 4.8184 - mae: 1.4047WARNING:tensorflow:Early stopping conditioned on metric `val_mse` which is not available. Available metrics are: loss,mae,val_loss,val_mae\n",
      "WARNING:tensorflow:Can save best model only with val_mse available, skipping.\n",
      "27/27 [==============================] - 0s 2ms/step - loss: 4.1317 - mae: 1.4403 - val_loss: 5.2600 - val_mae: 1.5281\n",
      "Epoch 300/500\n",
      " 1/27 [>.............................] - ETA: 0s - loss: 2.7049 - mae: 1.3259WARNING:tensorflow:Early stopping conditioned on metric `val_mse` which is not available. Available metrics are: loss,mae,val_loss,val_mae\n",
      "WARNING:tensorflow:Can save best model only with val_mse available, skipping.\n",
      "27/27 [==============================] - 0s 2ms/step - loss: 4.1828 - mae: 1.4399 - val_loss: 5.4201 - val_mae: 1.7455\n",
      "Epoch 301/500\n",
      " 1/27 [>.............................] - ETA: 0s - loss: 3.5145 - mae: 1.5268WARNING:tensorflow:Early stopping conditioned on metric `val_mse` which is not available. Available metrics are: loss,mae,val_loss,val_mae\n",
      "WARNING:tensorflow:Can save best model only with val_mse available, skipping.\n",
      "27/27 [==============================] - 0s 2ms/step - loss: 4.2428 - mae: 1.4644 - val_loss: 5.0445 - val_mae: 1.5689\n",
      "Epoch 302/500\n",
      " 1/27 [>.............................] - ETA: 0s - loss: 2.3684 - mae: 1.1892WARNING:tensorflow:Early stopping conditioned on metric `val_mse` which is not available. Available metrics are: loss,mae,val_loss,val_mae\n",
      "WARNING:tensorflow:Can save best model only with val_mse available, skipping.\n",
      "27/27 [==============================] - 0s 2ms/step - loss: 4.1531 - mae: 1.4379 - val_loss: 5.1431 - val_mae: 1.6436\n",
      "Epoch 303/500\n",
      " 1/27 [>.............................] - ETA: 0s - loss: 3.3860 - mae: 1.4901WARNING:tensorflow:Early stopping conditioned on metric `val_mse` which is not available. Available metrics are: loss,mae,val_loss,val_mae\n",
      "WARNING:tensorflow:Can save best model only with val_mse available, skipping.\n",
      "27/27 [==============================] - 0s 2ms/step - loss: 4.1760 - mae: 1.4600 - val_loss: 5.1843 - val_mae: 1.5396\n",
      "Epoch 304/500\n",
      " 1/27 [>.............................] - ETA: 0s - loss: 2.5052 - mae: 1.1238WARNING:tensorflow:Early stopping conditioned on metric `val_mse` which is not available. Available metrics are: loss,mae,val_loss,val_mae\n",
      "WARNING:tensorflow:Can save best model only with val_mse available, skipping.\n",
      "27/27 [==============================] - 0s 2ms/step - loss: 4.0834 - mae: 1.4208 - val_loss: 5.0083 - val_mae: 1.5510\n",
      "Epoch 305/500\n",
      " 1/27 [>.............................] - ETA: 0s - loss: 3.6499 - mae: 1.4263WARNING:tensorflow:Early stopping conditioned on metric `val_mse` which is not available. Available metrics are: loss,mae,val_loss,val_mae\n",
      "WARNING:tensorflow:Can save best model only with val_mse available, skipping.\n",
      "27/27 [==============================] - 0s 2ms/step - loss: 4.1226 - mae: 1.4331 - val_loss: 5.1574 - val_mae: 1.6505\n",
      "Epoch 306/500\n",
      " 1/27 [>.............................] - ETA: 0s - loss: 5.6541 - mae: 1.7519WARNING:tensorflow:Early stopping conditioned on metric `val_mse` which is not available. Available metrics are: loss,mae,val_loss,val_mae\n",
      "WARNING:tensorflow:Can save best model only with val_mse available, skipping.\n",
      "27/27 [==============================] - 0s 3ms/step - loss: 4.1355 - mae: 1.4464 - val_loss: 5.2388 - val_mae: 1.6050\n",
      "Epoch 307/500\n",
      " 1/27 [>.............................] - ETA: 0s - loss: 11.1825 - mae: 2.1236WARNING:tensorflow:Early stopping conditioned on metric `val_mse` which is not available. Available metrics are: loss,mae,val_loss,val_mae\n",
      "WARNING:tensorflow:Can save best model only with val_mse available, skipping.\n",
      "27/27 [==============================] - 0s 2ms/step - loss: 4.1351 - mae: 1.4313 - val_loss: 5.1431 - val_mae: 1.6612\n",
      "Epoch 308/500\n",
      " 1/27 [>.............................] - ETA: 0s - loss: 3.5495 - mae: 1.5511WARNING:tensorflow:Early stopping conditioned on metric `val_mse` which is not available. Available metrics are: loss,mae,val_loss,val_mae\n",
      "WARNING:tensorflow:Can save best model only with val_mse available, skipping.\n",
      "27/27 [==============================] - 0s 2ms/step - loss: 4.1377 - mae: 1.4545 - val_loss: 5.1772 - val_mae: 1.5264\n",
      "Epoch 309/500\n",
      " 1/27 [>.............................] - ETA: 0s - loss: 5.6289 - mae: 1.5612WARNING:tensorflow:Early stopping conditioned on metric `val_mse` which is not available. Available metrics are: loss,mae,val_loss,val_mae\n",
      "WARNING:tensorflow:Can save best model only with val_mse available, skipping.\n",
      "27/27 [==============================] - 0s 2ms/step - loss: 4.1634 - mae: 1.4429 - val_loss: 5.0749 - val_mae: 1.5220\n",
      "Epoch 310/500\n",
      " 1/27 [>.............................] - ETA: 0s - loss: 5.3540 - mae: 1.4227WARNING:tensorflow:Early stopping conditioned on metric `val_mse` which is not available. Available metrics are: loss,mae,val_loss,val_mae\n",
      "WARNING:tensorflow:Can save best model only with val_mse available, skipping.\n",
      "27/27 [==============================] - 0s 2ms/step - loss: 4.1203 - mae: 1.4264 - val_loss: 5.0236 - val_mae: 1.5453\n",
      "Epoch 311/500\n"
     ]
    },
    {
     "name": "stdout",
     "output_type": "stream",
     "text": [
      " 1/27 [>.............................] - ETA: 0s - loss: 3.8792 - mae: 1.5853WARNING:tensorflow:Early stopping conditioned on metric `val_mse` which is not available. Available metrics are: loss,mae,val_loss,val_mae\n",
      "WARNING:tensorflow:Can save best model only with val_mse available, skipping.\n",
      "27/27 [==============================] - 0s 2ms/step - loss: 4.1038 - mae: 1.4260 - val_loss: 5.0289 - val_mae: 1.6000\n",
      "Epoch 312/500\n",
      " 1/27 [>.............................] - ETA: 0s - loss: 2.9231 - mae: 1.3304WARNING:tensorflow:Early stopping conditioned on metric `val_mse` which is not available. Available metrics are: loss,mae,val_loss,val_mae\n",
      "WARNING:tensorflow:Can save best model only with val_mse available, skipping.\n",
      "27/27 [==============================] - 0s 2ms/step - loss: 4.1231 - mae: 1.4403 - val_loss: 5.0262 - val_mae: 1.5688\n",
      "Epoch 313/500\n",
      " 1/27 [>.............................] - ETA: 0s - loss: 4.2113 - mae: 1.4868WARNING:tensorflow:Early stopping conditioned on metric `val_mse` which is not available. Available metrics are: loss,mae,val_loss,val_mae\n",
      "WARNING:tensorflow:Can save best model only with val_mse available, skipping.\n",
      "27/27 [==============================] - 0s 2ms/step - loss: 4.1177 - mae: 1.4376 - val_loss: 5.2237 - val_mae: 1.5587\n",
      "Epoch 314/500\n",
      " 1/27 [>.............................] - ETA: 0s - loss: 3.0668 - mae: 1.2500WARNING:tensorflow:Early stopping conditioned on metric `val_mse` which is not available. Available metrics are: loss,mae,val_loss,val_mae\n",
      "WARNING:tensorflow:Can save best model only with val_mse available, skipping.\n",
      "27/27 [==============================] - 0s 2ms/step - loss: 4.1366 - mae: 1.4265 - val_loss: 5.0090 - val_mae: 1.5767\n",
      "Epoch 315/500\n",
      " 1/27 [>.............................] - ETA: 0s - loss: 4.0277 - mae: 1.6102WARNING:tensorflow:Early stopping conditioned on metric `val_mse` which is not available. Available metrics are: loss,mae,val_loss,val_mae\n",
      "WARNING:tensorflow:Can save best model only with val_mse available, skipping.\n",
      "27/27 [==============================] - 0s 3ms/step - loss: 4.1304 - mae: 1.4278 - val_loss: 5.1635 - val_mae: 1.5364\n",
      "Epoch 316/500\n",
      " 1/27 [>.............................] - ETA: 0s - loss: 1.6631 - mae: 0.9366WARNING:tensorflow:Early stopping conditioned on metric `val_mse` which is not available. Available metrics are: loss,mae,val_loss,val_mae\n",
      "WARNING:tensorflow:Can save best model only with val_mse available, skipping.\n",
      "27/27 [==============================] - 0s 2ms/step - loss: 4.1410 - mae: 1.4293 - val_loss: 5.0447 - val_mae: 1.5479\n",
      "Epoch 317/500\n",
      " 1/27 [>.............................] - ETA: 0s - loss: 2.9762 - mae: 1.4127WARNING:tensorflow:Early stopping conditioned on metric `val_mse` which is not available. Available metrics are: loss,mae,val_loss,val_mae\n",
      "WARNING:tensorflow:Can save best model only with val_mse available, skipping.\n",
      "27/27 [==============================] - 0s 2ms/step - loss: 4.1019 - mae: 1.4348 - val_loss: 5.2630 - val_mae: 1.6336\n",
      "Epoch 318/500\n",
      " 1/27 [>.............................] - ETA: 0s - loss: 2.5948 - mae: 1.3007WARNING:tensorflow:Early stopping conditioned on metric `val_mse` which is not available. Available metrics are: loss,mae,val_loss,val_mae\n",
      "WARNING:tensorflow:Can save best model only with val_mse available, skipping.\n",
      "27/27 [==============================] - 0s 2ms/step - loss: 4.1583 - mae: 1.4525 - val_loss: 5.0211 - val_mae: 1.5752\n",
      "Epoch 319/500\n",
      " 1/27 [>.............................] - ETA: 0s - loss: 3.8025 - mae: 1.5656WARNING:tensorflow:Early stopping conditioned on metric `val_mse` which is not available. Available metrics are: loss,mae,val_loss,val_mae\n",
      "WARNING:tensorflow:Can save best model only with val_mse available, skipping.\n",
      "27/27 [==============================] - 0s 3ms/step - loss: 4.1088 - mae: 1.4463 - val_loss: 5.0793 - val_mae: 1.5284\n",
      "Epoch 320/500\n",
      " 1/27 [>.............................] - ETA: 0s - loss: 2.8390 - mae: 1.2205WARNING:tensorflow:Early stopping conditioned on metric `val_mse` which is not available. Available metrics are: loss,mae,val_loss,val_mae\n",
      "WARNING:tensorflow:Can save best model only with val_mse available, skipping.\n",
      "27/27 [==============================] - 0s 3ms/step - loss: 4.1201 - mae: 1.4336 - val_loss: 5.0347 - val_mae: 1.5917\n",
      "Epoch 321/500\n",
      " 1/27 [>.............................] - ETA: 0s - loss: 4.7357 - mae: 1.5783WARNING:tensorflow:Early stopping conditioned on metric `val_mse` which is not available. Available metrics are: loss,mae,val_loss,val_mae\n",
      "WARNING:tensorflow:Can save best model only with val_mse available, skipping.\n",
      "27/27 [==============================] - 0s 2ms/step - loss: 4.1449 - mae: 1.4626 - val_loss: 5.0550 - val_mae: 1.6283\n",
      "Epoch 322/500\n",
      " 1/27 [>.............................] - ETA: 0s - loss: 4.1359 - mae: 1.6204WARNING:tensorflow:Early stopping conditioned on metric `val_mse` which is not available. Available metrics are: loss,mae,val_loss,val_mae\n",
      "WARNING:tensorflow:Can save best model only with val_mse available, skipping.\n",
      "27/27 [==============================] - 0s 2ms/step - loss: 4.1676 - mae: 1.4459 - val_loss: 5.0290 - val_mae: 1.5810\n",
      "Epoch 323/500\n",
      " 1/27 [>.............................] - ETA: 0s - loss: 4.5390 - mae: 1.4758WARNING:tensorflow:Early stopping conditioned on metric `val_mse` which is not available. Available metrics are: loss,mae,val_loss,val_mae\n",
      "WARNING:tensorflow:Can save best model only with val_mse available, skipping.\n",
      "27/27 [==============================] - 0s 2ms/step - loss: 4.0869 - mae: 1.4240 - val_loss: 5.0842 - val_mae: 1.6177\n",
      "Epoch 324/500\n",
      " 1/27 [>.............................] - ETA: 0s - loss: 2.8652 - mae: 1.2048WARNING:tensorflow:Early stopping conditioned on metric `val_mse` which is not available. Available metrics are: loss,mae,val_loss,val_mae\n",
      "WARNING:tensorflow:Can save best model only with val_mse available, skipping.\n",
      "27/27 [==============================] - 0s 2ms/step - loss: 4.0815 - mae: 1.4278 - val_loss: 5.1014 - val_mae: 1.5208\n",
      "Epoch 325/500\n",
      " 1/27 [>.............................] - ETA: 0s - loss: 6.4832 - mae: 1.8005WARNING:tensorflow:Early stopping conditioned on metric `val_mse` which is not available. Available metrics are: loss,mae,val_loss,val_mae\n",
      "WARNING:tensorflow:Can save best model only with val_mse available, skipping.\n",
      "27/27 [==============================] - 0s 2ms/step - loss: 4.0936 - mae: 1.4247 - val_loss: 5.0621 - val_mae: 1.5292\n",
      "Epoch 326/500\n",
      " 1/27 [>.............................] - ETA: 0s - loss: 3.4091 - mae: 1.3794WARNING:tensorflow:Early stopping conditioned on metric `val_mse` which is not available. Available metrics are: loss,mae,val_loss,val_mae\n",
      "WARNING:tensorflow:Can save best model only with val_mse available, skipping.\n",
      "27/27 [==============================] - 0s 2ms/step - loss: 4.0639 - mae: 1.4126 - val_loss: 5.2909 - val_mae: 1.7233\n",
      "Epoch 327/500\n",
      " 1/27 [>.............................] - ETA: 0s - loss: 4.3866 - mae: 1.7112WARNING:tensorflow:Early stopping conditioned on metric `val_mse` which is not available. Available metrics are: loss,mae,val_loss,val_mae\n",
      "WARNING:tensorflow:Can save best model only with val_mse available, skipping.\n",
      "27/27 [==============================] - 0s 2ms/step - loss: 4.1610 - mae: 1.4519 - val_loss: 5.1924 - val_mae: 1.5330\n",
      "Epoch 328/500\n",
      " 1/27 [>.............................] - ETA: 0s - loss: 3.4974 - mae: 1.3997WARNING:tensorflow:Early stopping conditioned on metric `val_mse` which is not available. Available metrics are: loss,mae,val_loss,val_mae\n",
      "WARNING:tensorflow:Can save best model only with val_mse available, skipping.\n",
      "27/27 [==============================] - 0s 2ms/step - loss: 4.1260 - mae: 1.4196 - val_loss: 5.0613 - val_mae: 1.5308\n",
      "Epoch 329/500\n",
      " 1/27 [>.............................] - ETA: 0s - loss: 2.5716 - mae: 1.2009WARNING:tensorflow:Early stopping conditioned on metric `val_mse` which is not available. Available metrics are: loss,mae,val_loss,val_mae\n",
      "WARNING:tensorflow:Can save best model only with val_mse available, skipping.\n",
      "27/27 [==============================] - 0s 2ms/step - loss: 4.0962 - mae: 1.4369 - val_loss: 5.4118 - val_mae: 1.5451\n",
      "Epoch 330/500\n",
      " 1/27 [>.............................] - ETA: 0s - loss: 2.7134 - mae: 1.0864WARNING:tensorflow:Early stopping conditioned on metric `val_mse` which is not available. Available metrics are: loss,mae,val_loss,val_mae\n"
     ]
    },
    {
     "name": "stdout",
     "output_type": "stream",
     "text": [
      "WARNING:tensorflow:Can save best model only with val_mse available, skipping.\n",
      "27/27 [==============================] - 0s 3ms/step - loss: 4.1404 - mae: 1.4409 - val_loss: 5.2010 - val_mae: 1.5544\n",
      "Epoch 331/500\n",
      " 1/27 [>.............................] - ETA: 0s - loss: 2.0068 - mae: 1.1231WARNING:tensorflow:Early stopping conditioned on metric `val_mse` which is not available. Available metrics are: loss,mae,val_loss,val_mae\n",
      "WARNING:tensorflow:Can save best model only with val_mse available, skipping.\n",
      "27/27 [==============================] - 0s 2ms/step - loss: 4.1361 - mae: 1.4474 - val_loss: 5.1000 - val_mae: 1.6440\n",
      "Epoch 332/500\n",
      " 1/27 [>.............................] - ETA: 0s - loss: 5.2533 - mae: 1.7467WARNING:tensorflow:Early stopping conditioned on metric `val_mse` which is not available. Available metrics are: loss,mae,val_loss,val_mae\n",
      "WARNING:tensorflow:Can save best model only with val_mse available, skipping.\n",
      "27/27 [==============================] - 0s 2ms/step - loss: 4.0799 - mae: 1.4404 - val_loss: 5.1476 - val_mae: 1.5246\n",
      "Epoch 333/500\n",
      " 1/27 [>.............................] - ETA: 0s - loss: 1.8184 - mae: 0.9887WARNING:tensorflow:Early stopping conditioned on metric `val_mse` which is not available. Available metrics are: loss,mae,val_loss,val_mae\n",
      "WARNING:tensorflow:Can save best model only with val_mse available, skipping.\n",
      "27/27 [==============================] - 0s 2ms/step - loss: 4.1179 - mae: 1.4203 - val_loss: 5.1116 - val_mae: 1.6207\n",
      "Epoch 334/500\n",
      " 1/27 [>.............................] - ETA: 0s - loss: 5.5479 - mae: 1.6980WARNING:tensorflow:Early stopping conditioned on metric `val_mse` which is not available. Available metrics are: loss,mae,val_loss,val_mae\n",
      "WARNING:tensorflow:Can save best model only with val_mse available, skipping.\n",
      "27/27 [==============================] - 0s 2ms/step - loss: 4.0964 - mae: 1.4262 - val_loss: 5.0450 - val_mae: 1.5276\n",
      "Epoch 335/500\n",
      " 1/27 [>.............................] - ETA: 0s - loss: 5.7109 - mae: 1.6438WARNING:tensorflow:Early stopping conditioned on metric `val_mse` which is not available. Available metrics are: loss,mae,val_loss,val_mae\n",
      "WARNING:tensorflow:Can save best model only with val_mse available, skipping.\n",
      "27/27 [==============================] - 0s 2ms/step - loss: 4.0477 - mae: 1.4183 - val_loss: 4.9669 - val_mae: 1.5593\n",
      "Epoch 336/500\n",
      " 1/27 [>.............................] - ETA: 0s - loss: 2.1130 - mae: 1.1454WARNING:tensorflow:Early stopping conditioned on metric `val_mse` which is not available. Available metrics are: loss,mae,val_loss,val_mae\n",
      "WARNING:tensorflow:Can save best model only with val_mse available, skipping.\n",
      "27/27 [==============================] - 0s 2ms/step - loss: 4.1200 - mae: 1.4285 - val_loss: 4.9585 - val_mae: 1.5560\n",
      "Epoch 337/500\n",
      " 1/27 [>.............................] - ETA: 0s - loss: 4.4987 - mae: 1.4587WARNING:tensorflow:Early stopping conditioned on metric `val_mse` which is not available. Available metrics are: loss,mae,val_loss,val_mae\n",
      "WARNING:tensorflow:Can save best model only with val_mse available, skipping.\n",
      "27/27 [==============================] - 0s 3ms/step - loss: 4.0629 - mae: 1.4178 - val_loss: 5.0343 - val_mae: 1.6157\n",
      "Epoch 338/500\n",
      " 1/27 [>.............................] - ETA: 0s - loss: 3.1934 - mae: 1.4363WARNING:tensorflow:Early stopping conditioned on metric `val_mse` which is not available. Available metrics are: loss,mae,val_loss,val_mae\n",
      "WARNING:tensorflow:Can save best model only with val_mse available, skipping.\n",
      "27/27 [==============================] - 0s 2ms/step - loss: 4.1066 - mae: 1.4288 - val_loss: 4.9832 - val_mae: 1.5777\n",
      "Epoch 339/500\n",
      " 1/27 [>.............................] - ETA: 0s - loss: 2.5463 - mae: 1.3649WARNING:tensorflow:Early stopping conditioned on metric `val_mse` which is not available. Available metrics are: loss,mae,val_loss,val_mae\n",
      "WARNING:tensorflow:Can save best model only with val_mse available, skipping.\n",
      "27/27 [==============================] - 0s 2ms/step - loss: 4.1183 - mae: 1.4403 - val_loss: 5.1817 - val_mae: 1.5352\n",
      "Epoch 340/500\n",
      " 1/27 [>.............................] - ETA: 0s - loss: 2.7472 - mae: 1.1189WARNING:tensorflow:Early stopping conditioned on metric `val_mse` which is not available. Available metrics are: loss,mae,val_loss,val_mae\n",
      "WARNING:tensorflow:Can save best model only with val_mse available, skipping.\n",
      "27/27 [==============================] - 0s 2ms/step - loss: 4.0982 - mae: 1.4306 - val_loss: 4.9821 - val_mae: 1.5478\n",
      "Epoch 341/500\n",
      " 1/27 [>.............................] - ETA: 0s - loss: 1.9947 - mae: 1.0829WARNING:tensorflow:Early stopping conditioned on metric `val_mse` which is not available. Available metrics are: loss,mae,val_loss,val_mae\n",
      "WARNING:tensorflow:Can save best model only with val_mse available, skipping.\n",
      "27/27 [==============================] - 0s 2ms/step - loss: 4.0660 - mae: 1.4166 - val_loss: 4.9825 - val_mae: 1.5511\n",
      "Epoch 342/500\n",
      " 1/27 [>.............................] - ETA: 0s - loss: 3.6260 - mae: 1.3291WARNING:tensorflow:Early stopping conditioned on metric `val_mse` which is not available. Available metrics are: loss,mae,val_loss,val_mae\n",
      "WARNING:tensorflow:Can save best model only with val_mse available, skipping.\n",
      "27/27 [==============================] - 0s 2ms/step - loss: 4.1101 - mae: 1.4263 - val_loss: 4.9603 - val_mae: 1.5540\n",
      "Epoch 343/500\n",
      " 1/27 [>.............................] - ETA: 0s - loss: 2.4347 - mae: 1.3213WARNING:tensorflow:Early stopping conditioned on metric `val_mse` which is not available. Available metrics are: loss,mae,val_loss,val_mae\n",
      "WARNING:tensorflow:Can save best model only with val_mse available, skipping.\n",
      "27/27 [==============================] - 0s 2ms/step - loss: 4.0929 - mae: 1.4244 - val_loss: 5.1988 - val_mae: 1.5296\n",
      "Epoch 344/500\n",
      " 1/27 [>.............................] - ETA: 0s - loss: 4.3985 - mae: 1.3897WARNING:tensorflow:Early stopping conditioned on metric `val_mse` which is not available. Available metrics are: loss,mae,val_loss,val_mae\n",
      "WARNING:tensorflow:Can save best model only with val_mse available, skipping.\n",
      "27/27 [==============================] - 0s 2ms/step - loss: 4.1380 - mae: 1.4319 - val_loss: 5.0955 - val_mae: 1.5244\n",
      "Epoch 345/500\n",
      " 1/27 [>.............................] - ETA: 0s - loss: 1.7136 - mae: 1.0022WARNING:tensorflow:Early stopping conditioned on metric `val_mse` which is not available. Available metrics are: loss,mae,val_loss,val_mae\n",
      "WARNING:tensorflow:Can save best model only with val_mse available, skipping.\n",
      "27/27 [==============================] - 0s 2ms/step - loss: 4.1307 - mae: 1.4362 - val_loss: 5.2100 - val_mae: 1.5263\n",
      "Epoch 346/500\n",
      " 1/27 [>.............................] - ETA: 0s - loss: 5.9756 - mae: 1.6982WARNING:tensorflow:Early stopping conditioned on metric `val_mse` which is not available. Available metrics are: loss,mae,val_loss,val_mae\n",
      "WARNING:tensorflow:Can save best model only with val_mse available, skipping.\n",
      "27/27 [==============================] - 0s 3ms/step - loss: 4.1515 - mae: 1.4282 - val_loss: 5.0112 - val_mae: 1.5971\n",
      "Epoch 347/500\n",
      " 1/27 [>.............................] - ETA: 0s - loss: 3.1538 - mae: 1.3648WARNING:tensorflow:Early stopping conditioned on metric `val_mse` which is not available. Available metrics are: loss,mae,val_loss,val_mae\n",
      "WARNING:tensorflow:Can save best model only with val_mse available, skipping.\n",
      "27/27 [==============================] - 0s 2ms/step - loss: 4.0587 - mae: 1.4227 - val_loss: 5.0194 - val_mae: 1.5805\n",
      "Epoch 348/500\n",
      " 1/27 [>.............................] - ETA: 0s - loss: 2.6004 - mae: 1.1342WARNING:tensorflow:Early stopping conditioned on metric `val_mse` which is not available. Available metrics are: loss,mae,val_loss,val_mae\n",
      "WARNING:tensorflow:Can save best model only with val_mse available, skipping.\n",
      "27/27 [==============================] - 0s 2ms/step - loss: 4.1147 - mae: 1.4288 - val_loss: 5.0084 - val_mae: 1.5443\n",
      "Epoch 349/500\n",
      " 1/27 [>.............................] - ETA: 0s - loss: 5.0761 - mae: 1.6562WARNING:tensorflow:Early stopping conditioned on metric `val_mse` which is not available. Available metrics are: loss,mae,val_loss,val_mae\n",
      "WARNING:tensorflow:Can save best model only with val_mse available, skipping.\n",
      "27/27 [==============================] - 0s 2ms/step - loss: 4.0865 - mae: 1.4197 - val_loss: 4.9659 - val_mae: 1.5567\n"
     ]
    },
    {
     "name": "stdout",
     "output_type": "stream",
     "text": [
      "Epoch 350/500\n",
      " 1/27 [>.............................] - ETA: 0s - loss: 4.2915 - mae: 1.5646WARNING:tensorflow:Early stopping conditioned on metric `val_mse` which is not available. Available metrics are: loss,mae,val_loss,val_mae\n",
      "WARNING:tensorflow:Can save best model only with val_mse available, skipping.\n",
      "27/27 [==============================] - 0s 2ms/step - loss: 4.0805 - mae: 1.4150 - val_loss: 4.9692 - val_mae: 1.5754\n",
      "Epoch 351/500\n",
      " 1/27 [>.............................] - ETA: 0s - loss: 1.7620 - mae: 1.0319WARNING:tensorflow:Early stopping conditioned on metric `val_mse` which is not available. Available metrics are: loss,mae,val_loss,val_mae\n",
      "WARNING:tensorflow:Can save best model only with val_mse available, skipping.\n",
      "27/27 [==============================] - 0s 2ms/step - loss: 4.0864 - mae: 1.4366 - val_loss: 4.9725 - val_mae: 1.5639\n",
      "Epoch 352/500\n",
      " 1/27 [>.............................] - ETA: 0s - loss: 3.3955 - mae: 1.3525WARNING:tensorflow:Early stopping conditioned on metric `val_mse` which is not available. Available metrics are: loss,mae,val_loss,val_mae\n",
      "WARNING:tensorflow:Can save best model only with val_mse available, skipping.\n",
      "27/27 [==============================] - 0s 2ms/step - loss: 4.1062 - mae: 1.4238 - val_loss: 5.0566 - val_mae: 1.5202\n",
      "Epoch 353/500\n",
      " 1/27 [>.............................] - ETA: 0s - loss: 4.0516 - mae: 1.3516WARNING:tensorflow:Early stopping conditioned on metric `val_mse` which is not available. Available metrics are: loss,mae,val_loss,val_mae\n",
      "WARNING:tensorflow:Can save best model only with val_mse available, skipping.\n",
      "27/27 [==============================] - 0s 2ms/step - loss: 4.1072 - mae: 1.4244 - val_loss: 5.0094 - val_mae: 1.5325\n",
      "Epoch 354/500\n",
      " 1/27 [>.............................] - ETA: 0s - loss: 1.9385 - mae: 1.1141WARNING:tensorflow:Early stopping conditioned on metric `val_mse` which is not available. Available metrics are: loss,mae,val_loss,val_mae\n",
      "WARNING:tensorflow:Can save best model only with val_mse available, skipping.\n",
      "27/27 [==============================] - 0s 2ms/step - loss: 4.1463 - mae: 1.4381 - val_loss: 5.0172 - val_mae: 1.5452\n",
      "Epoch 355/500\n",
      " 1/27 [>.............................] - ETA: 0s - loss: 4.5624 - mae: 1.5547WARNING:tensorflow:Early stopping conditioned on metric `val_mse` which is not available. Available metrics are: loss,mae,val_loss,val_mae\n",
      "WARNING:tensorflow:Can save best model only with val_mse available, skipping.\n",
      "27/27 [==============================] - 0s 2ms/step - loss: 4.0732 - mae: 1.4166 - val_loss: 4.9841 - val_mae: 1.5913\n",
      "Epoch 356/500\n",
      " 1/27 [>.............................] - ETA: 0s - loss: 4.1714 - mae: 1.5484WARNING:tensorflow:Early stopping conditioned on metric `val_mse` which is not available. Available metrics are: loss,mae,val_loss,val_mae\n",
      "WARNING:tensorflow:Can save best model only with val_mse available, skipping.\n",
      "27/27 [==============================] - 0s 3ms/step - loss: 4.0658 - mae: 1.4239 - val_loss: 5.0300 - val_mae: 1.6009\n",
      "Epoch 357/500\n",
      " 1/27 [>.............................] - ETA: 0s - loss: 3.2762 - mae: 1.3617WARNING:tensorflow:Early stopping conditioned on metric `val_mse` which is not available. Available metrics are: loss,mae,val_loss,val_mae\n",
      "WARNING:tensorflow:Can save best model only with val_mse available, skipping.\n",
      "27/27 [==============================] - 0s 2ms/step - loss: 4.1025 - mae: 1.4287 - val_loss: 4.9800 - val_mae: 1.6036\n",
      "Epoch 358/500\n",
      " 1/27 [>.............................] - ETA: 0s - loss: 1.8881 - mae: 1.1200WARNING:tensorflow:Early stopping conditioned on metric `val_mse` which is not available. Available metrics are: loss,mae,val_loss,val_mae\n",
      "WARNING:tensorflow:Can save best model only with val_mse available, skipping.\n",
      "27/27 [==============================] - 0s 2ms/step - loss: 4.1036 - mae: 1.4247 - val_loss: 4.9965 - val_mae: 1.6127\n",
      "Epoch 359/500\n",
      " 1/27 [>.............................] - ETA: 0s - loss: 2.8433 - mae: 1.4005WARNING:tensorflow:Early stopping conditioned on metric `val_mse` which is not available. Available metrics are: loss,mae,val_loss,val_mae\n",
      "WARNING:tensorflow:Can save best model only with val_mse available, skipping.\n",
      "27/27 [==============================] - 0s 2ms/step - loss: 4.0765 - mae: 1.4290 - val_loss: 4.9904 - val_mae: 1.5256\n",
      "Epoch 360/500\n",
      " 1/27 [>.............................] - ETA: 0s - loss: 3.3022 - mae: 1.4422WARNING:tensorflow:Early stopping conditioned on metric `val_mse` which is not available. Available metrics are: loss,mae,val_loss,val_mae\n",
      "WARNING:tensorflow:Can save best model only with val_mse available, skipping.\n",
      "27/27 [==============================] - 0s 2ms/step - loss: 4.1215 - mae: 1.4243 - val_loss: 5.0426 - val_mae: 1.5380\n",
      "Epoch 361/500\n",
      " 1/27 [>.............................] - ETA: 0s - loss: 3.0682 - mae: 1.3537WARNING:tensorflow:Early stopping conditioned on metric `val_mse` which is not available. Available metrics are: loss,mae,val_loss,val_mae\n",
      "WARNING:tensorflow:Can save best model only with val_mse available, skipping.\n",
      "27/27 [==============================] - 0s 2ms/step - loss: 4.1001 - mae: 1.4212 - val_loss: 4.9861 - val_mae: 1.5618\n",
      "Epoch 362/500\n",
      " 1/27 [>.............................] - ETA: 0s - loss: 4.7893 - mae: 1.7453WARNING:tensorflow:Early stopping conditioned on metric `val_mse` which is not available. Available metrics are: loss,mae,val_loss,val_mae\n",
      "WARNING:tensorflow:Can save best model only with val_mse available, skipping.\n",
      "27/27 [==============================] - 0s 2ms/step - loss: 4.1008 - mae: 1.4268 - val_loss: 4.9576 - val_mae: 1.5595\n",
      "Epoch 363/500\n",
      " 1/27 [>.............................] - ETA: 0s - loss: 2.6097 - mae: 1.2433WARNING:tensorflow:Early stopping conditioned on metric `val_mse` which is not available. Available metrics are: loss,mae,val_loss,val_mae\n",
      "WARNING:tensorflow:Can save best model only with val_mse available, skipping.\n",
      "27/27 [==============================] - 0s 3ms/step - loss: 4.0921 - mae: 1.4204 - val_loss: 5.1524 - val_mae: 1.6717\n",
      "Epoch 364/500\n",
      " 1/27 [>.............................] - ETA: 0s - loss: 3.2948 - mae: 1.5186WARNING:tensorflow:Early stopping conditioned on metric `val_mse` which is not available. Available metrics are: loss,mae,val_loss,val_mae\n",
      "WARNING:tensorflow:Can save best model only with val_mse available, skipping.\n",
      "27/27 [==============================] - 0s 3ms/step - loss: 4.1426 - mae: 1.4471 - val_loss: 5.1457 - val_mae: 1.5222\n",
      "Epoch 365/500\n",
      " 1/27 [>.............................] - ETA: 0s - loss: 1.7216 - mae: 1.0701WARNING:tensorflow:Early stopping conditioned on metric `val_mse` which is not available. Available metrics are: loss,mae,val_loss,val_mae\n",
      "WARNING:tensorflow:Can save best model only with val_mse available, skipping.\n",
      "27/27 [==============================] - 0s 2ms/step - loss: 4.0979 - mae: 1.4248 - val_loss: 5.0165 - val_mae: 1.5746\n",
      "Epoch 366/500\n",
      " 1/27 [>.............................] - ETA: 0s - loss: 2.6643 - mae: 1.1750WARNING:tensorflow:Early stopping conditioned on metric `val_mse` which is not available. Available metrics are: loss,mae,val_loss,val_mae\n",
      "WARNING:tensorflow:Can save best model only with val_mse available, skipping.\n",
      "27/27 [==============================] - 0s 2ms/step - loss: 4.0879 - mae: 1.4281 - val_loss: 4.9470 - val_mae: 1.5526\n",
      "Epoch 367/500\n",
      " 1/27 [>.............................] - ETA: 0s - loss: 5.2319 - mae: 1.6703WARNING:tensorflow:Early stopping conditioned on metric `val_mse` which is not available. Available metrics are: loss,mae,val_loss,val_mae\n",
      "WARNING:tensorflow:Can save best model only with val_mse available, skipping.\n",
      "27/27 [==============================] - 0s 2ms/step - loss: 4.1009 - mae: 1.4378 - val_loss: 4.9672 - val_mae: 1.5392\n",
      "Epoch 368/500\n",
      " 1/27 [>.............................] - ETA: 0s - loss: 5.5918 - mae: 1.7911WARNING:tensorflow:Early stopping conditioned on metric `val_mse` which is not available. Available metrics are: loss,mae,val_loss,val_mae\n",
      "WARNING:tensorflow:Can save best model only with val_mse available, skipping.\n",
      "27/27 [==============================] - 0s 2ms/step - loss: 4.0660 - mae: 1.4162 - val_loss: 5.0050 - val_mae: 1.6054\n",
      "Epoch 369/500\n"
     ]
    },
    {
     "name": "stdout",
     "output_type": "stream",
     "text": [
      " 1/27 [>.............................] - ETA: 0s - loss: 3.6426 - mae: 1.4766WARNING:tensorflow:Early stopping conditioned on metric `val_mse` which is not available. Available metrics are: loss,mae,val_loss,val_mae\n",
      "WARNING:tensorflow:Can save best model only with val_mse available, skipping.\n",
      "27/27 [==============================] - 0s 2ms/step - loss: 4.1066 - mae: 1.4459 - val_loss: 5.0481 - val_mae: 1.6306\n",
      "Epoch 370/500\n",
      " 1/27 [>.............................] - ETA: 0s - loss: 3.5435 - mae: 1.4130WARNING:tensorflow:Early stopping conditioned on metric `val_mse` which is not available. Available metrics are: loss,mae,val_loss,val_mae\n",
      "WARNING:tensorflow:Can save best model only with val_mse available, skipping.\n",
      "27/27 [==============================] - 0s 2ms/step - loss: 4.1534 - mae: 1.4344 - val_loss: 5.1611 - val_mae: 1.6769\n",
      "Epoch 371/500\n",
      " 1/27 [>.............................] - ETA: 0s - loss: 3.7515 - mae: 1.5831WARNING:tensorflow:Early stopping conditioned on metric `val_mse` which is not available. Available metrics are: loss,mae,val_loss,val_mae\n",
      "WARNING:tensorflow:Can save best model only with val_mse available, skipping.\n",
      "27/27 [==============================] - 0s 2ms/step - loss: 4.0752 - mae: 1.4351 - val_loss: 4.9778 - val_mae: 1.5796\n",
      "Epoch 372/500\n",
      " 1/27 [>.............................] - ETA: 0s - loss: 2.4669 - mae: 1.0526WARNING:tensorflow:Early stopping conditioned on metric `val_mse` which is not available. Available metrics are: loss,mae,val_loss,val_mae\n",
      "WARNING:tensorflow:Can save best model only with val_mse available, skipping.\n",
      "27/27 [==============================] - 0s 2ms/step - loss: 4.0545 - mae: 1.4265 - val_loss: 4.9981 - val_mae: 1.5278\n",
      "Epoch 373/500\n",
      " 1/27 [>.............................] - ETA: 0s - loss: 14.3605 - mae: 2.5035WARNING:tensorflow:Early stopping conditioned on metric `val_mse` which is not available. Available metrics are: loss,mae,val_loss,val_mae\n",
      "WARNING:tensorflow:Can save best model only with val_mse available, skipping.\n",
      "27/27 [==============================] - 0s 2ms/step - loss: 4.1002 - mae: 1.4279 - val_loss: 5.0927 - val_mae: 1.5260\n",
      "Epoch 374/500\n",
      " 1/27 [>.............................] - ETA: 0s - loss: 3.2940 - mae: 1.4019WARNING:tensorflow:Early stopping conditioned on metric `val_mse` which is not available. Available metrics are: loss,mae,val_loss,val_mae\n",
      "WARNING:tensorflow:Can save best model only with val_mse available, skipping.\n",
      "27/27 [==============================] - 0s 2ms/step - loss: 4.0661 - mae: 1.4157 - val_loss: 5.0088 - val_mae: 1.5425\n",
      "Epoch 375/500\n",
      " 1/27 [>.............................] - ETA: 0s - loss: 1.1268 - mae: 0.8063WARNING:tensorflow:Early stopping conditioned on metric `val_mse` which is not available. Available metrics are: loss,mae,val_loss,val_mae\n",
      "WARNING:tensorflow:Can save best model only with val_mse available, skipping.\n",
      "27/27 [==============================] - 0s 3ms/step - loss: 4.0350 - mae: 1.4186 - val_loss: 5.3077 - val_mae: 1.5345\n",
      "Epoch 376/500\n",
      " 1/27 [>.............................] - ETA: 0s - loss: 3.0463 - mae: 1.3173WARNING:tensorflow:Early stopping conditioned on metric `val_mse` which is not available. Available metrics are: loss,mae,val_loss,val_mae\n",
      "WARNING:tensorflow:Can save best model only with val_mse available, skipping.\n",
      "27/27 [==============================] - 0s 3ms/step - loss: 4.0901 - mae: 1.4292 - val_loss: 5.4084 - val_mae: 1.5546\n",
      "Epoch 377/500\n",
      " 1/27 [>.............................] - ETA: 0s - loss: 5.1758 - mae: 1.4321WARNING:tensorflow:Early stopping conditioned on metric `val_mse` which is not available. Available metrics are: loss,mae,val_loss,val_mae\n",
      "WARNING:tensorflow:Can save best model only with val_mse available, skipping.\n",
      "27/27 [==============================] - 0s 2ms/step - loss: 4.1332 - mae: 1.4201 - val_loss: 4.9544 - val_mae: 1.5802\n",
      "Epoch 378/500\n",
      " 1/27 [>.............................] - ETA: 0s - loss: 2.5281 - mae: 1.2312WARNING:tensorflow:Early stopping conditioned on metric `val_mse` which is not available. Available metrics are: loss,mae,val_loss,val_mae\n",
      "WARNING:tensorflow:Can save best model only with val_mse available, skipping.\n",
      "27/27 [==============================] - 0s 2ms/step - loss: 4.0961 - mae: 1.4310 - val_loss: 4.9770 - val_mae: 1.5850\n",
      "Epoch 379/500\n",
      " 1/27 [>.............................] - ETA: 0s - loss: 3.4550 - mae: 1.2170WARNING:tensorflow:Early stopping conditioned on metric `val_mse` which is not available. Available metrics are: loss,mae,val_loss,val_mae\n",
      "WARNING:tensorflow:Can save best model only with val_mse available, skipping.\n",
      "27/27 [==============================] - 0s 2ms/step - loss: 4.0759 - mae: 1.4311 - val_loss: 5.0083 - val_mae: 1.5846\n",
      "Epoch 380/500\n",
      " 1/27 [>.............................] - ETA: 0s - loss: 2.7985 - mae: 1.2996WARNING:tensorflow:Early stopping conditioned on metric `val_mse` which is not available. Available metrics are: loss,mae,val_loss,val_mae\n",
      "WARNING:tensorflow:Can save best model only with val_mse available, skipping.\n",
      "27/27 [==============================] - 0s 2ms/step - loss: 4.0737 - mae: 1.4178 - val_loss: 4.9666 - val_mae: 1.5617\n",
      "Epoch 381/500\n",
      " 1/27 [>.............................] - ETA: 0s - loss: 3.3754 - mae: 1.4660WARNING:tensorflow:Early stopping conditioned on metric `val_mse` which is not available. Available metrics are: loss,mae,val_loss,val_mae\n",
      "WARNING:tensorflow:Can save best model only with val_mse available, skipping.\n",
      "27/27 [==============================] - 0s 2ms/step - loss: 4.0876 - mae: 1.4192 - val_loss: 4.9353 - val_mae: 1.5398\n",
      "Epoch 382/500\n",
      " 1/27 [>.............................] - ETA: 0s - loss: 2.5460 - mae: 1.2412WARNING:tensorflow:Early stopping conditioned on metric `val_mse` which is not available. Available metrics are: loss,mae,val_loss,val_mae\n",
      "WARNING:tensorflow:Can save best model only with val_mse available, skipping.\n",
      "27/27 [==============================] - 0s 2ms/step - loss: 4.0128 - mae: 1.4146 - val_loss: 4.9357 - val_mae: 1.5602\n",
      "Epoch 383/500\n",
      " 1/27 [>.............................] - ETA: 0s - loss: 3.0358 - mae: 1.3459WARNING:tensorflow:Early stopping conditioned on metric `val_mse` which is not available. Available metrics are: loss,mae,val_loss,val_mae\n",
      "WARNING:tensorflow:Can save best model only with val_mse available, skipping.\n",
      "27/27 [==============================] - 0s 2ms/step - loss: 4.0311 - mae: 1.4155 - val_loss: 5.3425 - val_mae: 1.7155\n",
      "Epoch 384/500\n",
      " 1/27 [>.............................] - ETA: 0s - loss: 3.1525 - mae: 1.4138WARNING:tensorflow:Early stopping conditioned on metric `val_mse` which is not available. Available metrics are: loss,mae,val_loss,val_mae\n",
      "WARNING:tensorflow:Can save best model only with val_mse available, skipping.\n",
      "27/27 [==============================] - 0s 2ms/step - loss: 4.0909 - mae: 1.4492 - val_loss: 4.9668 - val_mae: 1.5582\n",
      "Epoch 385/500\n",
      " 1/27 [>.............................] - ETA: 0s - loss: 1.9525 - mae: 1.0657WARNING:tensorflow:Early stopping conditioned on metric `val_mse` which is not available. Available metrics are: loss,mae,val_loss,val_mae\n",
      "WARNING:tensorflow:Can save best model only with val_mse available, skipping.\n",
      "27/27 [==============================] - 0s 2ms/step - loss: 4.0693 - mae: 1.4299 - val_loss: 5.0043 - val_mae: 1.5293\n",
      "Epoch 386/500\n",
      " 1/27 [>.............................] - ETA: 0s - loss: 4.6797 - mae: 1.4035WARNING:tensorflow:Early stopping conditioned on metric `val_mse` which is not available. Available metrics are: loss,mae,val_loss,val_mae\n",
      "WARNING:tensorflow:Can save best model only with val_mse available, skipping.\n",
      "27/27 [==============================] - 0s 2ms/step - loss: 4.0718 - mae: 1.4189 - val_loss: 5.0521 - val_mae: 1.5280\n",
      "Epoch 387/500\n",
      " 1/27 [>.............................] - ETA: 0s - loss: 1.3733 - mae: 0.9601WARNING:tensorflow:Early stopping conditioned on metric `val_mse` which is not available. Available metrics are: loss,mae,val_loss,val_mae\n",
      "WARNING:tensorflow:Can save best model only with val_mse available, skipping.\n",
      "27/27 [==============================] - 0s 2ms/step - loss: 4.0782 - mae: 1.4238 - val_loss: 5.1922 - val_mae: 1.5350\n",
      "Epoch 388/500\n",
      " 1/27 [>.............................] - ETA: 0s - loss: 7.6402 - mae: 1.9101WARNING:tensorflow:Early stopping conditioned on metric `val_mse` which is not available. Available metrics are: loss,mae,val_loss,val_mae\n"
     ]
    },
    {
     "name": "stdout",
     "output_type": "stream",
     "text": [
      "WARNING:tensorflow:Can save best model only with val_mse available, skipping.\n",
      "27/27 [==============================] - 0s 2ms/step - loss: 4.0630 - mae: 1.4081 - val_loss: 5.0516 - val_mae: 1.5220\n",
      "Epoch 389/500\n",
      " 1/27 [>.............................] - ETA: 0s - loss: 4.0488 - mae: 1.3321WARNING:tensorflow:Early stopping conditioned on metric `val_mse` which is not available. Available metrics are: loss,mae,val_loss,val_mae\n",
      "WARNING:tensorflow:Can save best model only with val_mse available, skipping.\n",
      "27/27 [==============================] - 0s 2ms/step - loss: 4.0639 - mae: 1.4193 - val_loss: 5.0315 - val_mae: 1.5416\n",
      "Epoch 390/500\n",
      " 1/27 [>.............................] - ETA: 0s - loss: 4.0793 - mae: 1.4903WARNING:tensorflow:Early stopping conditioned on metric `val_mse` which is not available. Available metrics are: loss,mae,val_loss,val_mae\n",
      "WARNING:tensorflow:Can save best model only with val_mse available, skipping.\n",
      "27/27 [==============================] - 0s 2ms/step - loss: 4.0684 - mae: 1.4273 - val_loss: 5.0240 - val_mae: 1.5637\n",
      "Epoch 391/500\n",
      " 1/27 [>.............................] - ETA: 0s - loss: 2.6593 - mae: 1.2270WARNING:tensorflow:Early stopping conditioned on metric `val_mse` which is not available. Available metrics are: loss,mae,val_loss,val_mae\n",
      "WARNING:tensorflow:Can save best model only with val_mse available, skipping.\n",
      "27/27 [==============================] - 0s 3ms/step - loss: 4.0281 - mae: 1.4154 - val_loss: 5.3258 - val_mae: 1.5448\n",
      "Epoch 392/500\n",
      " 1/27 [>.............................] - ETA: 0s - loss: 5.1008 - mae: 1.6641WARNING:tensorflow:Early stopping conditioned on metric `val_mse` which is not available. Available metrics are: loss,mae,val_loss,val_mae\n",
      "WARNING:tensorflow:Can save best model only with val_mse available, skipping.\n",
      "27/27 [==============================] - 0s 2ms/step - loss: 4.0491 - mae: 1.4064 - val_loss: 5.0684 - val_mae: 1.6398\n",
      "Epoch 393/500\n",
      " 1/27 [>.............................] - ETA: 0s - loss: 5.3363 - mae: 1.8217WARNING:tensorflow:Early stopping conditioned on metric `val_mse` which is not available. Available metrics are: loss,mae,val_loss,val_mae\n",
      "WARNING:tensorflow:Can save best model only with val_mse available, skipping.\n",
      "27/27 [==============================] - 0s 2ms/step - loss: 4.0938 - mae: 1.4401 - val_loss: 4.9986 - val_mae: 1.5204\n",
      "Epoch 394/500\n",
      " 1/27 [>.............................] - ETA: 0s - loss: 4.0037 - mae: 1.2963WARNING:tensorflow:Early stopping conditioned on metric `val_mse` which is not available. Available metrics are: loss,mae,val_loss,val_mae\n",
      "WARNING:tensorflow:Can save best model only with val_mse available, skipping.\n",
      "27/27 [==============================] - 0s 2ms/step - loss: 4.0679 - mae: 1.4128 - val_loss: 4.9541 - val_mae: 1.5815\n",
      "Epoch 395/500\n",
      " 1/27 [>.............................] - ETA: 0s - loss: 4.2053 - mae: 1.4345WARNING:tensorflow:Early stopping conditioned on metric `val_mse` which is not available. Available metrics are: loss,mae,val_loss,val_mae\n",
      "WARNING:tensorflow:Can save best model only with val_mse available, skipping.\n",
      "27/27 [==============================] - 0s 2ms/step - loss: 4.0435 - mae: 1.4221 - val_loss: 5.0419 - val_mae: 1.6475\n",
      "Epoch 396/500\n",
      " 1/27 [>.............................] - ETA: 0s - loss: 3.3074 - mae: 1.3411WARNING:tensorflow:Early stopping conditioned on metric `val_mse` which is not available. Available metrics are: loss,mae,val_loss,val_mae\n",
      "WARNING:tensorflow:Can save best model only with val_mse available, skipping.\n",
      "27/27 [==============================] - 0s 2ms/step - loss: 4.0580 - mae: 1.4312 - val_loss: 5.2161 - val_mae: 1.5338\n",
      "Epoch 397/500\n",
      " 1/27 [>.............................] - ETA: 0s - loss: 4.2242 - mae: 1.5537WARNING:tensorflow:Early stopping conditioned on metric `val_mse` which is not available. Available metrics are: loss,mae,val_loss,val_mae\n",
      "WARNING:tensorflow:Can save best model only with val_mse available, skipping.\n",
      "27/27 [==============================] - 0s 3ms/step - loss: 4.0655 - mae: 1.4242 - val_loss: 4.9534 - val_mae: 1.5676\n",
      "Epoch 398/500\n",
      " 1/27 [>.............................] - ETA: 0s - loss: 5.7746 - mae: 1.8176WARNING:tensorflow:Early stopping conditioned on metric `val_mse` which is not available. Available metrics are: loss,mae,val_loss,val_mae\n",
      "WARNING:tensorflow:Can save best model only with val_mse available, skipping.\n",
      "27/27 [==============================] - 0s 3ms/step - loss: 4.1005 - mae: 1.4330 - val_loss: 5.1074 - val_mae: 1.5296\n",
      "Epoch 399/500\n",
      " 1/27 [>.............................] - ETA: 0s - loss: 2.8732 - mae: 1.2716WARNING:tensorflow:Early stopping conditioned on metric `val_mse` which is not available. Available metrics are: loss,mae,val_loss,val_mae\n",
      "WARNING:tensorflow:Can save best model only with val_mse available, skipping.\n",
      "27/27 [==============================] - 0s 2ms/step - loss: 4.0424 - mae: 1.4208 - val_loss: 5.0581 - val_mae: 1.5566\n",
      "Epoch 400/500\n",
      " 1/27 [>.............................] - ETA: 0s - loss: 3.0848 - mae: 1.2262WARNING:tensorflow:Early stopping conditioned on metric `val_mse` which is not available. Available metrics are: loss,mae,val_loss,val_mae\n",
      "WARNING:tensorflow:Can save best model only with val_mse available, skipping.\n",
      "27/27 [==============================] - 0s 2ms/step - loss: 4.0545 - mae: 1.4134 - val_loss: 5.0280 - val_mae: 1.6337\n",
      "Epoch 401/500\n",
      " 1/27 [>.............................] - ETA: 0s - loss: 5.7630 - mae: 1.8733WARNING:tensorflow:Early stopping conditioned on metric `val_mse` which is not available. Available metrics are: loss,mae,val_loss,val_mae\n",
      "WARNING:tensorflow:Can save best model only with val_mse available, skipping.\n",
      "27/27 [==============================] - 0s 2ms/step - loss: 4.0802 - mae: 1.4325 - val_loss: 5.0202 - val_mae: 1.5740\n",
      "Epoch 402/500\n",
      " 1/27 [>.............................] - ETA: 0s - loss: 3.8510 - mae: 1.5383WARNING:tensorflow:Early stopping conditioned on metric `val_mse` which is not available. Available metrics are: loss,mae,val_loss,val_mae\n",
      "WARNING:tensorflow:Can save best model only with val_mse available, skipping.\n",
      "27/27 [==============================] - 0s 2ms/step - loss: 4.0360 - mae: 1.4243 - val_loss: 5.0519 - val_mae: 1.5199\n",
      "Epoch 403/500\n",
      " 1/27 [>.............................] - ETA: 0s - loss: 3.8208 - mae: 1.4167WARNING:tensorflow:Early stopping conditioned on metric `val_mse` which is not available. Available metrics are: loss,mae,val_loss,val_mae\n",
      "WARNING:tensorflow:Can save best model only with val_mse available, skipping.\n",
      "27/27 [==============================] - 0s 2ms/step - loss: 4.1047 - mae: 1.4178 - val_loss: 4.9561 - val_mae: 1.5285\n",
      "Epoch 404/500\n",
      " 1/27 [>.............................] - ETA: 0s - loss: 2.5791 - mae: 1.3301WARNING:tensorflow:Early stopping conditioned on metric `val_mse` which is not available. Available metrics are: loss,mae,val_loss,val_mae\n",
      "WARNING:tensorflow:Can save best model only with val_mse available, skipping.\n",
      "27/27 [==============================] - 0s 2ms/step - loss: 4.0570 - mae: 1.4153 - val_loss: 4.9465 - val_mae: 1.5564\n",
      "Epoch 405/500\n",
      " 1/27 [>.............................] - ETA: 0s - loss: 7.4376 - mae: 1.7989WARNING:tensorflow:Early stopping conditioned on metric `val_mse` which is not available. Available metrics are: loss,mae,val_loss,val_mae\n",
      "WARNING:tensorflow:Can save best model only with val_mse available, skipping.\n",
      "27/27 [==============================] - 0s 3ms/step - loss: 4.0606 - mae: 1.4257 - val_loss: 5.1450 - val_mae: 1.5287\n",
      "Epoch 406/500\n",
      " 1/27 [>.............................] - ETA: 0s - loss: 3.5160 - mae: 1.3822WARNING:tensorflow:Early stopping conditioned on metric `val_mse` which is not available. Available metrics are: loss,mae,val_loss,val_mae\n",
      "WARNING:tensorflow:Can save best model only with val_mse available, skipping.\n",
      "27/27 [==============================] - 0s 2ms/step - loss: 4.0769 - mae: 1.4307 - val_loss: 5.0976 - val_mae: 1.5201\n",
      "Epoch 407/500\n",
      " 1/27 [>.............................] - ETA: 0s - loss: 2.1795 - mae: 1.0152WARNING:tensorflow:Early stopping conditioned on metric `val_mse` which is not available. Available metrics are: loss,mae,val_loss,val_mae\n",
      "WARNING:tensorflow:Can save best model only with val_mse available, skipping.\n",
      "27/27 [==============================] - 0s 2ms/step - loss: 4.0783 - mae: 1.4432 - val_loss: 5.3009 - val_mae: 1.5756\n"
     ]
    },
    {
     "name": "stdout",
     "output_type": "stream",
     "text": [
      "Epoch 408/500\n",
      " 1/27 [>.............................] - ETA: 0s - loss: 4.3017 - mae: 1.4274WARNING:tensorflow:Early stopping conditioned on metric `val_mse` which is not available. Available metrics are: loss,mae,val_loss,val_mae\n",
      "WARNING:tensorflow:Can save best model only with val_mse available, skipping.\n",
      "27/27 [==============================] - 0s 2ms/step - loss: 4.0523 - mae: 1.4201 - val_loss: 4.9715 - val_mae: 1.5772\n",
      "Epoch 409/500\n",
      " 1/27 [>.............................] - ETA: 0s - loss: 2.8798 - mae: 1.2970WARNING:tensorflow:Early stopping conditioned on metric `val_mse` which is not available. Available metrics are: loss,mae,val_loss,val_mae\n",
      "WARNING:tensorflow:Can save best model only with val_mse available, skipping.\n",
      "27/27 [==============================] - 0s 2ms/step - loss: 4.0933 - mae: 1.4096 - val_loss: 4.9178 - val_mae: 1.5579\n",
      "Epoch 410/500\n",
      " 1/27 [>.............................] - ETA: 0s - loss: 4.4671 - mae: 1.6558WARNING:tensorflow:Early stopping conditioned on metric `val_mse` which is not available. Available metrics are: loss,mae,val_loss,val_mae\n",
      "WARNING:tensorflow:Can save best model only with val_mse available, skipping.\n",
      "27/27 [==============================] - 0s 2ms/step - loss: 4.0828 - mae: 1.4325 - val_loss: 5.0855 - val_mae: 1.5187\n",
      "Epoch 411/500\n",
      " 1/27 [>.............................] - ETA: 0s - loss: 2.5453 - mae: 1.1981WARNING:tensorflow:Early stopping conditioned on metric `val_mse` which is not available. Available metrics are: loss,mae,val_loss,val_mae\n",
      "WARNING:tensorflow:Can save best model only with val_mse available, skipping.\n",
      "27/27 [==============================] - 0s 3ms/step - loss: 4.0741 - mae: 1.4253 - val_loss: 5.0551 - val_mae: 1.5592\n",
      "Epoch 412/500\n",
      " 1/27 [>.............................] - ETA: 0s - loss: 4.0631 - mae: 1.5096WARNING:tensorflow:Early stopping conditioned on metric `val_mse` which is not available. Available metrics are: loss,mae,val_loss,val_mae\n",
      "WARNING:tensorflow:Can save best model only with val_mse available, skipping.\n",
      "27/27 [==============================] - 0s 2ms/step - loss: 4.1776 - mae: 1.4610 - val_loss: 5.0019 - val_mae: 1.5252\n",
      "Epoch 413/500\n",
      " 1/27 [>.............................] - ETA: 0s - loss: 3.4654 - mae: 1.3116WARNING:tensorflow:Early stopping conditioned on metric `val_mse` which is not available. Available metrics are: loss,mae,val_loss,val_mae\n",
      "WARNING:tensorflow:Can save best model only with val_mse available, skipping.\n",
      "27/27 [==============================] - 0s 2ms/step - loss: 4.0532 - mae: 1.4237 - val_loss: 5.0527 - val_mae: 1.5490\n",
      "Epoch 414/500\n",
      " 1/27 [>.............................] - ETA: 0s - loss: 4.6071 - mae: 1.5799WARNING:tensorflow:Early stopping conditioned on metric `val_mse` which is not available. Available metrics are: loss,mae,val_loss,val_mae\n",
      "WARNING:tensorflow:Can save best model only with val_mse available, skipping.\n",
      "27/27 [==============================] - 0s 2ms/step - loss: 4.1096 - mae: 1.4271 - val_loss: 4.9246 - val_mae: 1.5721\n",
      "Epoch 415/500\n",
      " 1/27 [>.............................] - ETA: 0s - loss: 3.6386 - mae: 1.3599WARNING:tensorflow:Early stopping conditioned on metric `val_mse` which is not available. Available metrics are: loss,mae,val_loss,val_mae\n",
      "WARNING:tensorflow:Can save best model only with val_mse available, skipping.\n",
      "27/27 [==============================] - 0s 2ms/step - loss: 4.0543 - mae: 1.4354 - val_loss: 5.0162 - val_mae: 1.5245\n",
      "Epoch 416/500\n",
      " 1/27 [>.............................] - ETA: 0s - loss: 4.2069 - mae: 1.6119WARNING:tensorflow:Early stopping conditioned on metric `val_mse` which is not available. Available metrics are: loss,mae,val_loss,val_mae\n",
      "WARNING:tensorflow:Can save best model only with val_mse available, skipping.\n",
      "27/27 [==============================] - 0s 2ms/step - loss: 4.0491 - mae: 1.4232 - val_loss: 5.0570 - val_mae: 1.5524\n",
      "Epoch 417/500\n",
      " 1/27 [>.............................] - ETA: 0s - loss: 1.7480 - mae: 0.9886WARNING:tensorflow:Early stopping conditioned on metric `val_mse` which is not available. Available metrics are: loss,mae,val_loss,val_mae\n",
      "WARNING:tensorflow:Can save best model only with val_mse available, skipping.\n",
      "27/27 [==============================] - 0s 2ms/step - loss: 4.0393 - mae: 1.4160 - val_loss: 4.9004 - val_mae: 1.5566\n",
      "Epoch 418/500\n",
      " 1/27 [>.............................] - ETA: 0s - loss: 6.3109 - mae: 1.7618WARNING:tensorflow:Early stopping conditioned on metric `val_mse` which is not available. Available metrics are: loss,mae,val_loss,val_mae\n",
      "WARNING:tensorflow:Can save best model only with val_mse available, skipping.\n",
      "27/27 [==============================] - 0s 2ms/step - loss: 3.9929 - mae: 1.4099 - val_loss: 5.1555 - val_mae: 1.6888\n",
      "Epoch 419/500\n",
      " 1/27 [>.............................] - ETA: 0s - loss: 12.8312 - mae: 2.4457WARNING:tensorflow:Early stopping conditioned on metric `val_mse` which is not available. Available metrics are: loss,mae,val_loss,val_mae\n",
      "WARNING:tensorflow:Can save best model only with val_mse available, skipping.\n",
      "27/27 [==============================] - 0s 2ms/step - loss: 4.0288 - mae: 1.4232 - val_loss: 4.9531 - val_mae: 1.5455\n",
      "Epoch 420/500\n",
      " 1/27 [>.............................] - ETA: 0s - loss: 2.5710 - mae: 1.2299WARNING:tensorflow:Early stopping conditioned on metric `val_mse` which is not available. Available metrics are: loss,mae,val_loss,val_mae\n",
      "WARNING:tensorflow:Can save best model only with val_mse available, skipping.\n",
      "27/27 [==============================] - 0s 2ms/step - loss: 4.0376 - mae: 1.4246 - val_loss: 5.1948 - val_mae: 1.5404\n",
      "Epoch 421/500\n",
      " 1/27 [>.............................] - ETA: 0s - loss: 4.4798 - mae: 1.3858WARNING:tensorflow:Early stopping conditioned on metric `val_mse` which is not available. Available metrics are: loss,mae,val_loss,val_mae\n",
      "WARNING:tensorflow:Can save best model only with val_mse available, skipping.\n",
      "27/27 [==============================] - 0s 3ms/step - loss: 4.0001 - mae: 1.3945 - val_loss: 5.2219 - val_mae: 1.7063\n",
      "Epoch 422/500\n",
      " 1/27 [>.............................] - ETA: 0s - loss: 8.2955 - mae: 1.6632WARNING:tensorflow:Early stopping conditioned on metric `val_mse` which is not available. Available metrics are: loss,mae,val_loss,val_mae\n",
      "WARNING:tensorflow:Can save best model only with val_mse available, skipping.\n",
      "27/27 [==============================] - 0s 2ms/step - loss: 4.0056 - mae: 1.4300 - val_loss: 4.9756 - val_mae: 1.5386\n",
      "Epoch 423/500\n",
      " 1/27 [>.............................] - ETA: 0s - loss: 3.1299 - mae: 1.3145WARNING:tensorflow:Early stopping conditioned on metric `val_mse` which is not available. Available metrics are: loss,mae,val_loss,val_mae\n",
      "WARNING:tensorflow:Can save best model only with val_mse available, skipping.\n",
      "27/27 [==============================] - 0s 2ms/step - loss: 4.0152 - mae: 1.4124 - val_loss: 5.0882 - val_mae: 1.5288\n",
      "Epoch 424/500\n",
      " 1/27 [>.............................] - ETA: 0s - loss: 3.1433 - mae: 1.3771WARNING:tensorflow:Early stopping conditioned on metric `val_mse` which is not available. Available metrics are: loss,mae,val_loss,val_mae\n",
      "WARNING:tensorflow:Can save best model only with val_mse available, skipping.\n",
      "27/27 [==============================] - 0s 2ms/step - loss: 4.0177 - mae: 1.4226 - val_loss: 4.9676 - val_mae: 1.5618\n",
      "Epoch 425/500\n",
      " 1/27 [>.............................] - ETA: 0s - loss: 4.5119 - mae: 1.4815WARNING:tensorflow:Early stopping conditioned on metric `val_mse` which is not available. Available metrics are: loss,mae,val_loss,val_mae\n",
      "WARNING:tensorflow:Can save best model only with val_mse available, skipping.\n",
      "27/27 [==============================] - 0s 2ms/step - loss: 4.0540 - mae: 1.4127 - val_loss: 4.9234 - val_mae: 1.5703\n",
      "Epoch 426/500\n",
      " 1/27 [>.............................] - ETA: 0s - loss: 2.7339 - mae: 1.3209WARNING:tensorflow:Early stopping conditioned on metric `val_mse` which is not available. Available metrics are: loss,mae,val_loss,val_mae\n",
      "WARNING:tensorflow:Can save best model only with val_mse available, skipping.\n",
      "27/27 [==============================] - 0s 2ms/step - loss: 4.0402 - mae: 1.4212 - val_loss: 4.9832 - val_mae: 1.6207\n",
      "Epoch 427/500\n"
     ]
    },
    {
     "name": "stdout",
     "output_type": "stream",
     "text": [
      " 1/27 [>.............................] - ETA: 0s - loss: 3.3514 - mae: 1.3622WARNING:tensorflow:Early stopping conditioned on metric `val_mse` which is not available. Available metrics are: loss,mae,val_loss,val_mae\n",
      "WARNING:tensorflow:Can save best model only with val_mse available, skipping.\n",
      "27/27 [==============================] - 0s 2ms/step - loss: 4.0604 - mae: 1.4291 - val_loss: 4.9792 - val_mae: 1.5225\n",
      "Epoch 428/500\n",
      " 1/27 [>.............................] - ETA: 0s - loss: 5.8311 - mae: 1.6217WARNING:tensorflow:Early stopping conditioned on metric `val_mse` which is not available. Available metrics are: loss,mae,val_loss,val_mae\n",
      "WARNING:tensorflow:Can save best model only with val_mse available, skipping.\n",
      "27/27 [==============================] - 0s 2ms/step - loss: 4.0364 - mae: 1.4142 - val_loss: 5.0020 - val_mae: 1.5369\n",
      "Epoch 429/500\n",
      " 1/27 [>.............................] - ETA: 0s - loss: 9.7007 - mae: 1.6325WARNING:tensorflow:Early stopping conditioned on metric `val_mse` which is not available. Available metrics are: loss,mae,val_loss,val_mae\n",
      "WARNING:tensorflow:Can save best model only with val_mse available, skipping.\n",
      "27/27 [==============================] - 0s 2ms/step - loss: 4.0298 - mae: 1.4118 - val_loss: 4.9950 - val_mae: 1.5315\n",
      "Epoch 430/500\n",
      " 1/27 [>.............................] - ETA: 0s - loss: 5.3055 - mae: 1.8280WARNING:tensorflow:Early stopping conditioned on metric `val_mse` which is not available. Available metrics are: loss,mae,val_loss,val_mae\n",
      "WARNING:tensorflow:Can save best model only with val_mse available, skipping.\n",
      "27/27 [==============================] - 0s 2ms/step - loss: 4.0363 - mae: 1.4096 - val_loss: 4.9343 - val_mae: 1.6083\n",
      "Epoch 431/500\n",
      " 1/27 [>.............................] - ETA: 0s - loss: 3.5847 - mae: 1.3435WARNING:tensorflow:Early stopping conditioned on metric `val_mse` which is not available. Available metrics are: loss,mae,val_loss,val_mae\n",
      "WARNING:tensorflow:Can save best model only with val_mse available, skipping.\n",
      "27/27 [==============================] - 0s 2ms/step - loss: 3.9857 - mae: 1.4091 - val_loss: 5.1122 - val_mae: 1.6105\n",
      "Epoch 432/500\n",
      " 1/27 [>.............................] - ETA: 0s - loss: 2.6052 - mae: 1.3112WARNING:tensorflow:Early stopping conditioned on metric `val_mse` which is not available. Available metrics are: loss,mae,val_loss,val_mae\n",
      "WARNING:tensorflow:Can save best model only with val_mse available, skipping.\n",
      "27/27 [==============================] - 0s 2ms/step - loss: 4.0481 - mae: 1.4268 - val_loss: 4.9456 - val_mae: 1.5301\n",
      "Epoch 433/500\n",
      " 1/27 [>.............................] - ETA: 0s - loss: 1.6604 - mae: 1.0189WARNING:tensorflow:Early stopping conditioned on metric `val_mse` which is not available. Available metrics are: loss,mae,val_loss,val_mae\n",
      "WARNING:tensorflow:Can save best model only with val_mse available, skipping.\n",
      "27/27 [==============================] - 0s 2ms/step - loss: 3.9992 - mae: 1.4044 - val_loss: 4.9467 - val_mae: 1.5563\n",
      "Epoch 434/500\n",
      " 1/27 [>.............................] - ETA: 0s - loss: 2.6641 - mae: 1.1457WARNING:tensorflow:Early stopping conditioned on metric `val_mse` which is not available. Available metrics are: loss,mae,val_loss,val_mae\n",
      "WARNING:tensorflow:Can save best model only with val_mse available, skipping.\n",
      "27/27 [==============================] - 0s 2ms/step - loss: 4.0791 - mae: 1.4248 - val_loss: 4.9214 - val_mae: 1.5662\n",
      "Epoch 435/500\n",
      " 1/27 [>.............................] - ETA: 0s - loss: 2.2321 - mae: 1.2155WARNING:tensorflow:Early stopping conditioned on metric `val_mse` which is not available. Available metrics are: loss,mae,val_loss,val_mae\n",
      "WARNING:tensorflow:Can save best model only with val_mse available, skipping.\n",
      "27/27 [==============================] - 0s 2ms/step - loss: 4.0149 - mae: 1.4194 - val_loss: 5.0696 - val_mae: 1.5281\n",
      "Epoch 436/500\n",
      " 1/27 [>.............................] - ETA: 0s - loss: 4.0929 - mae: 1.3634WARNING:tensorflow:Early stopping conditioned on metric `val_mse` which is not available. Available metrics are: loss,mae,val_loss,val_mae\n",
      "WARNING:tensorflow:Can save best model only with val_mse available, skipping.\n",
      "27/27 [==============================] - 0s 3ms/step - loss: 4.0090 - mae: 1.4187 - val_loss: 5.0312 - val_mae: 1.5240\n",
      "Epoch 437/500\n",
      " 1/27 [>.............................] - ETA: 0s - loss: 4.6559 - mae: 1.4009WARNING:tensorflow:Early stopping conditioned on metric `val_mse` which is not available. Available metrics are: loss,mae,val_loss,val_mae\n",
      "WARNING:tensorflow:Can save best model only with val_mse available, skipping.\n",
      "27/27 [==============================] - 0s 2ms/step - loss: 4.0810 - mae: 1.4335 - val_loss: 4.9648 - val_mae: 1.5421\n",
      "Epoch 438/500\n",
      " 1/27 [>.............................] - ETA: 0s - loss: 5.0088 - mae: 1.6860WARNING:tensorflow:Early stopping conditioned on metric `val_mse` which is not available. Available metrics are: loss,mae,val_loss,val_mae\n",
      "WARNING:tensorflow:Can save best model only with val_mse available, skipping.\n",
      "27/27 [==============================] - 0s 2ms/step - loss: 4.0699 - mae: 1.4205 - val_loss: 4.9315 - val_mae: 1.5743\n",
      "Epoch 439/500\n",
      " 1/27 [>.............................] - ETA: 0s - loss: 2.8122 - mae: 1.2255WARNING:tensorflow:Early stopping conditioned on metric `val_mse` which is not available. Available metrics are: loss,mae,val_loss,val_mae\n",
      "WARNING:tensorflow:Can save best model only with val_mse available, skipping.\n",
      "27/27 [==============================] - 0s 2ms/step - loss: 4.0528 - mae: 1.4213 - val_loss: 4.9955 - val_mae: 1.5283\n",
      "Epoch 440/500\n",
      " 1/27 [>.............................] - ETA: 0s - loss: 3.0128 - mae: 1.3710WARNING:tensorflow:Early stopping conditioned on metric `val_mse` which is not available. Available metrics are: loss,mae,val_loss,val_mae\n",
      "WARNING:tensorflow:Can save best model only with val_mse available, skipping.\n",
      "27/27 [==============================] - 0s 2ms/step - loss: 4.0725 - mae: 1.4098 - val_loss: 5.1746 - val_mae: 1.5287\n",
      "Epoch 441/500\n",
      " 1/27 [>.............................] - ETA: 0s - loss: 1.7940 - mae: 0.9971WARNING:tensorflow:Early stopping conditioned on metric `val_mse` which is not available. Available metrics are: loss,mae,val_loss,val_mae\n",
      "WARNING:tensorflow:Can save best model only with val_mse available, skipping.\n",
      "27/27 [==============================] - 0s 2ms/step - loss: 4.0216 - mae: 1.4088 - val_loss: 5.0035 - val_mae: 1.6249\n",
      "Epoch 442/500\n",
      " 1/27 [>.............................] - ETA: 0s - loss: 2.7198 - mae: 1.2555WARNING:tensorflow:Early stopping conditioned on metric `val_mse` which is not available. Available metrics are: loss,mae,val_loss,val_mae\n",
      "WARNING:tensorflow:Can save best model only with val_mse available, skipping.\n",
      "27/27 [==============================] - 0s 2ms/step - loss: 4.0298 - mae: 1.4302 - val_loss: 4.9843 - val_mae: 1.5585\n",
      "Epoch 443/500\n",
      " 1/27 [>.............................] - ETA: 0s - loss: 2.9720 - mae: 1.2801WARNING:tensorflow:Early stopping conditioned on metric `val_mse` which is not available. Available metrics are: loss,mae,val_loss,val_mae\n",
      "WARNING:tensorflow:Can save best model only with val_mse available, skipping.\n",
      "27/27 [==============================] - 0s 2ms/step - loss: 4.0149 - mae: 1.4115 - val_loss: 5.0086 - val_mae: 1.5895\n",
      "Epoch 444/500\n",
      " 1/27 [>.............................] - ETA: 0s - loss: 4.9653 - mae: 1.5571WARNING:tensorflow:Early stopping conditioned on metric `val_mse` which is not available. Available metrics are: loss,mae,val_loss,val_mae\n",
      "WARNING:tensorflow:Can save best model only with val_mse available, skipping.\n",
      "27/27 [==============================] - 0s 2ms/step - loss: 4.0357 - mae: 1.4189 - val_loss: 4.9511 - val_mae: 1.5468\n",
      "Epoch 445/500\n",
      " 1/27 [>.............................] - ETA: 0s - loss: 3.5818 - mae: 1.3773WARNING:tensorflow:Early stopping conditioned on metric `val_mse` which is not available. Available metrics are: loss,mae,val_loss,val_mae\n",
      "WARNING:tensorflow:Can save best model only with val_mse available, skipping.\n",
      "27/27 [==============================] - 0s 2ms/step - loss: 4.0395 - mae: 1.4267 - val_loss: 5.0487 - val_mae: 1.5466\n",
      "Epoch 446/500\n",
      " 1/27 [>.............................] - ETA: 0s - loss: 2.8536 - mae: 1.2910WARNING:tensorflow:Early stopping conditioned on metric `val_mse` which is not available. Available metrics are: loss,mae,val_loss,val_mae\n"
     ]
    },
    {
     "name": "stdout",
     "output_type": "stream",
     "text": [
      "WARNING:tensorflow:Can save best model only with val_mse available, skipping.\n",
      "27/27 [==============================] - 0s 2ms/step - loss: 4.0858 - mae: 1.4268 - val_loss: 5.0290 - val_mae: 1.5213\n",
      "Epoch 447/500\n",
      " 1/27 [>.............................] - ETA: 0s - loss: 2.4089 - mae: 1.1817WARNING:tensorflow:Early stopping conditioned on metric `val_mse` which is not available. Available metrics are: loss,mae,val_loss,val_mae\n",
      "WARNING:tensorflow:Can save best model only with val_mse available, skipping.\n",
      "27/27 [==============================] - 0s 2ms/step - loss: 4.0598 - mae: 1.4050 - val_loss: 5.0114 - val_mae: 1.5412\n",
      "Epoch 448/500\n",
      " 1/27 [>.............................] - ETA: 0s - loss: 5.7544 - mae: 1.5500WARNING:tensorflow:Early stopping conditioned on metric `val_mse` which is not available. Available metrics are: loss,mae,val_loss,val_mae\n",
      "WARNING:tensorflow:Can save best model only with val_mse available, skipping.\n",
      "27/27 [==============================] - 0s 2ms/step - loss: 4.0312 - mae: 1.4198 - val_loss: 5.0177 - val_mae: 1.5212\n",
      "Epoch 449/500\n",
      " 1/27 [>.............................] - ETA: 0s - loss: 3.1985 - mae: 1.3786WARNING:tensorflow:Early stopping conditioned on metric `val_mse` which is not available. Available metrics are: loss,mae,val_loss,val_mae\n",
      "WARNING:tensorflow:Can save best model only with val_mse available, skipping.\n",
      "27/27 [==============================] - 0s 2ms/step - loss: 4.0545 - mae: 1.4148 - val_loss: 4.8914 - val_mae: 1.5334\n",
      "Epoch 450/500\n",
      " 1/27 [>.............................] - ETA: 0s - loss: 4.5581 - mae: 1.3762WARNING:tensorflow:Early stopping conditioned on metric `val_mse` which is not available. Available metrics are: loss,mae,val_loss,val_mae\n",
      "WARNING:tensorflow:Can save best model only with val_mse available, skipping.\n",
      "27/27 [==============================] - 0s 2ms/step - loss: 3.9677 - mae: 1.4059 - val_loss: 5.0450 - val_mae: 1.5255\n",
      "Epoch 451/500\n",
      " 1/27 [>.............................] - ETA: 0s - loss: 3.2337 - mae: 1.2622WARNING:tensorflow:Early stopping conditioned on metric `val_mse` which is not available. Available metrics are: loss,mae,val_loss,val_mae\n",
      "WARNING:tensorflow:Can save best model only with val_mse available, skipping.\n",
      "27/27 [==============================] - 0s 2ms/step - loss: 3.9822 - mae: 1.4192 - val_loss: 4.9554 - val_mae: 1.6070\n",
      "Epoch 452/500\n",
      " 1/27 [>.............................] - ETA: 0s - loss: 3.5095 - mae: 1.4407WARNING:tensorflow:Early stopping conditioned on metric `val_mse` which is not available. Available metrics are: loss,mae,val_loss,val_mae\n",
      "WARNING:tensorflow:Can save best model only with val_mse available, skipping.\n",
      "27/27 [==============================] - 0s 2ms/step - loss: 4.0497 - mae: 1.4323 - val_loss: 4.9582 - val_mae: 1.5697\n",
      "Epoch 453/500\n",
      " 1/27 [>.............................] - ETA: 0s - loss: 3.1391 - mae: 1.2257WARNING:tensorflow:Early stopping conditioned on metric `val_mse` which is not available. Available metrics are: loss,mae,val_loss,val_mae\n",
      "WARNING:tensorflow:Can save best model only with val_mse available, skipping.\n",
      "27/27 [==============================] - 0s 3ms/step - loss: 4.0292 - mae: 1.4176 - val_loss: 4.9388 - val_mae: 1.5615\n",
      "Epoch 454/500\n",
      " 1/27 [>.............................] - ETA: 0s - loss: 3.1612 - mae: 1.2419WARNING:tensorflow:Early stopping conditioned on metric `val_mse` which is not available. Available metrics are: loss,mae,val_loss,val_mae\n",
      "WARNING:tensorflow:Can save best model only with val_mse available, skipping.\n",
      "27/27 [==============================] - 0s 2ms/step - loss: 4.0155 - mae: 1.4151 - val_loss: 4.9135 - val_mae: 1.5656\n",
      "Epoch 455/500\n",
      " 1/27 [>.............................] - ETA: 0s - loss: 8.4793 - mae: 1.5833WARNING:tensorflow:Early stopping conditioned on metric `val_mse` which is not available. Available metrics are: loss,mae,val_loss,val_mae\n",
      "WARNING:tensorflow:Can save best model only with val_mse available, skipping.\n",
      "27/27 [==============================] - 0s 2ms/step - loss: 4.0236 - mae: 1.4283 - val_loss: 4.9691 - val_mae: 1.5458\n",
      "Epoch 456/500\n",
      " 1/27 [>.............................] - ETA: 0s - loss: 3.9426 - mae: 1.4882WARNING:tensorflow:Early stopping conditioned on metric `val_mse` which is not available. Available metrics are: loss,mae,val_loss,val_mae\n",
      "WARNING:tensorflow:Can save best model only with val_mse available, skipping.\n",
      "27/27 [==============================] - 0s 2ms/step - loss: 3.9891 - mae: 1.4042 - val_loss: 4.9074 - val_mae: 1.5498\n",
      "Epoch 457/500\n",
      " 1/27 [>.............................] - ETA: 0s - loss: 3.5873 - mae: 1.2387WARNING:tensorflow:Early stopping conditioned on metric `val_mse` which is not available. Available metrics are: loss,mae,val_loss,val_mae\n",
      "WARNING:tensorflow:Can save best model only with val_mse available, skipping.\n",
      "27/27 [==============================] - 0s 2ms/step - loss: 4.0652 - mae: 1.4263 - val_loss: 4.9805 - val_mae: 1.5670\n",
      "Epoch 458/500\n",
      " 1/27 [>.............................] - ETA: 0s - loss: 1.9563 - mae: 1.0779WARNING:tensorflow:Early stopping conditioned on metric `val_mse` which is not available. Available metrics are: loss,mae,val_loss,val_mae\n",
      "WARNING:tensorflow:Can save best model only with val_mse available, skipping.\n",
      "27/27 [==============================] - 0s 2ms/step - loss: 4.0019 - mae: 1.4129 - val_loss: 5.0135 - val_mae: 1.5394\n",
      "Epoch 459/500\n",
      " 1/27 [>.............................] - ETA: 0s - loss: 9.6916 - mae: 1.7269WARNING:tensorflow:Early stopping conditioned on metric `val_mse` which is not available. Available metrics are: loss,mae,val_loss,val_mae\n",
      "WARNING:tensorflow:Can save best model only with val_mse available, skipping.\n",
      "27/27 [==============================] - 0s 2ms/step - loss: 3.9731 - mae: 1.4051 - val_loss: 5.0512 - val_mae: 1.5271\n",
      "Epoch 460/500\n",
      " 1/27 [>.............................] - ETA: 0s - loss: 3.2085 - mae: 1.2550WARNING:tensorflow:Early stopping conditioned on metric `val_mse` which is not available. Available metrics are: loss,mae,val_loss,val_mae\n",
      "WARNING:tensorflow:Can save best model only with val_mse available, skipping.\n",
      "27/27 [==============================] - 0s 2ms/step - loss: 4.0200 - mae: 1.3926 - val_loss: 5.0098 - val_mae: 1.6289\n",
      "Epoch 461/500\n",
      " 1/27 [>.............................] - ETA: 0s - loss: 2.1629 - mae: 1.1674WARNING:tensorflow:Early stopping conditioned on metric `val_mse` which is not available. Available metrics are: loss,mae,val_loss,val_mae\n",
      "WARNING:tensorflow:Can save best model only with val_mse available, skipping.\n",
      "27/27 [==============================] - 0s 2ms/step - loss: 4.0696 - mae: 1.4344 - val_loss: 4.9480 - val_mae: 1.6194\n",
      "Epoch 462/500\n",
      " 1/27 [>.............................] - ETA: 0s - loss: 5.4191 - mae: 1.7411WARNING:tensorflow:Early stopping conditioned on metric `val_mse` which is not available. Available metrics are: loss,mae,val_loss,val_mae\n",
      "WARNING:tensorflow:Can save best model only with val_mse available, skipping.\n",
      "27/27 [==============================] - 0s 2ms/step - loss: 4.0000 - mae: 1.4152 - val_loss: 4.9177 - val_mae: 1.5534\n",
      "Epoch 463/500\n",
      " 1/27 [>.............................] - ETA: 0s - loss: 5.1458 - mae: 1.5805WARNING:tensorflow:Early stopping conditioned on metric `val_mse` which is not available. Available metrics are: loss,mae,val_loss,val_mae\n",
      "WARNING:tensorflow:Can save best model only with val_mse available, skipping.\n",
      "27/27 [==============================] - 0s 2ms/step - loss: 4.0581 - mae: 1.4191 - val_loss: 5.0155 - val_mae: 1.6182\n",
      "Epoch 464/500\n",
      " 1/27 [>.............................] - ETA: 0s - loss: 1.4919 - mae: 1.0039WARNING:tensorflow:Early stopping conditioned on metric `val_mse` which is not available. Available metrics are: loss,mae,val_loss,val_mae\n",
      "WARNING:tensorflow:Can save best model only with val_mse available, skipping.\n",
      "27/27 [==============================] - 0s 2ms/step - loss: 4.0149 - mae: 1.4160 - val_loss: 4.9683 - val_mae: 1.6108\n",
      "Epoch 465/500\n",
      " 1/27 [>.............................] - ETA: 0s - loss: 2.6892 - mae: 1.3474WARNING:tensorflow:Early stopping conditioned on metric `val_mse` which is not available. Available metrics are: loss,mae,val_loss,val_mae\n",
      "WARNING:tensorflow:Can save best model only with val_mse available, skipping.\n",
      "27/27 [==============================] - 0s 2ms/step - loss: 4.0638 - mae: 1.4209 - val_loss: 4.9594 - val_mae: 1.5839\n"
     ]
    },
    {
     "name": "stdout",
     "output_type": "stream",
     "text": [
      "Epoch 466/500\n",
      " 1/27 [>.............................] - ETA: 0s - loss: 3.0063 - mae: 1.4189WARNING:tensorflow:Early stopping conditioned on metric `val_mse` which is not available. Available metrics are: loss,mae,val_loss,val_mae\n",
      "WARNING:tensorflow:Can save best model only with val_mse available, skipping.\n",
      "27/27 [==============================] - 0s 3ms/step - loss: 4.0555 - mae: 1.4063 - val_loss: 5.0004 - val_mae: 1.5375\n",
      "Epoch 467/500\n",
      " 1/27 [>.............................] - ETA: 0s - loss: 1.5201 - mae: 0.8648WARNING:tensorflow:Early stopping conditioned on metric `val_mse` which is not available. Available metrics are: loss,mae,val_loss,val_mae\n",
      "WARNING:tensorflow:Can save best model only with val_mse available, skipping.\n",
      "27/27 [==============================] - 0s 3ms/step - loss: 4.0415 - mae: 1.4227 - val_loss: 5.0256 - val_mae: 1.5756\n",
      "Epoch 468/500\n",
      " 1/27 [>.............................] - ETA: 0s - loss: 3.2866 - mae: 1.2748WARNING:tensorflow:Early stopping conditioned on metric `val_mse` which is not available. Available metrics are: loss,mae,val_loss,val_mae\n",
      "WARNING:tensorflow:Can save best model only with val_mse available, skipping.\n",
      "27/27 [==============================] - 0s 2ms/step - loss: 4.0439 - mae: 1.4140 - val_loss: 4.9992 - val_mae: 1.6086\n",
      "Epoch 469/500\n",
      " 1/27 [>.............................] - ETA: 0s - loss: 4.4052 - mae: 1.4728WARNING:tensorflow:Early stopping conditioned on metric `val_mse` which is not available. Available metrics are: loss,mae,val_loss,val_mae\n",
      "WARNING:tensorflow:Can save best model only with val_mse available, skipping.\n",
      "27/27 [==============================] - 0s 2ms/step - loss: 4.0261 - mae: 1.4219 - val_loss: 4.9074 - val_mae: 1.5655\n",
      "Epoch 470/500\n",
      " 1/27 [>.............................] - ETA: 0s - loss: 5.2435 - mae: 1.5547WARNING:tensorflow:Early stopping conditioned on metric `val_mse` which is not available. Available metrics are: loss,mae,val_loss,val_mae\n",
      "WARNING:tensorflow:Can save best model only with val_mse available, skipping.\n",
      "27/27 [==============================] - 0s 2ms/step - loss: 4.0357 - mae: 1.4246 - val_loss: 4.9942 - val_mae: 1.5303\n",
      "Epoch 471/500\n",
      " 1/27 [>.............................] - ETA: 0s - loss: 1.8821 - mae: 1.0612WARNING:tensorflow:Early stopping conditioned on metric `val_mse` which is not available. Available metrics are: loss,mae,val_loss,val_mae\n",
      "WARNING:tensorflow:Can save best model only with val_mse available, skipping.\n",
      "27/27 [==============================] - 0s 2ms/step - loss: 4.0324 - mae: 1.4148 - val_loss: 5.1017 - val_mae: 1.5337\n",
      "Epoch 472/500\n",
      " 1/27 [>.............................] - ETA: 0s - loss: 5.6401 - mae: 1.8233WARNING:tensorflow:Early stopping conditioned on metric `val_mse` which is not available. Available metrics are: loss,mae,val_loss,val_mae\n",
      "WARNING:tensorflow:Can save best model only with val_mse available, skipping.\n",
      "27/27 [==============================] - 0s 3ms/step - loss: 4.0204 - mae: 1.4154 - val_loss: 4.9341 - val_mae: 1.5845\n",
      "Epoch 473/500\n",
      " 1/27 [>.............................] - ETA: 0s - loss: 3.7091 - mae: 1.5137WARNING:tensorflow:Early stopping conditioned on metric `val_mse` which is not available. Available metrics are: loss,mae,val_loss,val_mae\n",
      "WARNING:tensorflow:Can save best model only with val_mse available, skipping.\n",
      "27/27 [==============================] - 0s 2ms/step - loss: 4.0247 - mae: 1.4305 - val_loss: 4.8982 - val_mae: 1.5462\n",
      "Epoch 474/500\n",
      " 1/27 [>.............................] - ETA: 0s - loss: 3.5714 - mae: 1.4029WARNING:tensorflow:Early stopping conditioned on metric `val_mse` which is not available. Available metrics are: loss,mae,val_loss,val_mae\n",
      "WARNING:tensorflow:Can save best model only with val_mse available, skipping.\n",
      "27/27 [==============================] - 0s 2ms/step - loss: 3.9684 - mae: 1.4107 - val_loss: 5.0460 - val_mae: 1.5734\n",
      "Epoch 475/500\n",
      " 1/27 [>.............................] - ETA: 0s - loss: 5.4016 - mae: 1.6286WARNING:tensorflow:Early stopping conditioned on metric `val_mse` which is not available. Available metrics are: loss,mae,val_loss,val_mae\n",
      "WARNING:tensorflow:Can save best model only with val_mse available, skipping.\n",
      "27/27 [==============================] - 0s 2ms/step - loss: 4.0468 - mae: 1.4297 - val_loss: 5.1158 - val_mae: 1.5328\n",
      "Epoch 476/500\n",
      " 1/27 [>.............................] - ETA: 0s - loss: 3.4444 - mae: 1.3106WARNING:tensorflow:Early stopping conditioned on metric `val_mse` which is not available. Available metrics are: loss,mae,val_loss,val_mae\n",
      "WARNING:tensorflow:Can save best model only with val_mse available, skipping.\n",
      "27/27 [==============================] - 0s 2ms/step - loss: 4.0065 - mae: 1.4065 - val_loss: 4.9649 - val_mae: 1.5489\n",
      "Epoch 477/500\n",
      " 1/27 [>.............................] - ETA: 0s - loss: 2.5520 - mae: 1.1407WARNING:tensorflow:Early stopping conditioned on metric `val_mse` which is not available. Available metrics are: loss,mae,val_loss,val_mae\n",
      "WARNING:tensorflow:Can save best model only with val_mse available, skipping.\n",
      "27/27 [==============================] - 0s 2ms/step - loss: 4.0091 - mae: 1.4120 - val_loss: 5.0228 - val_mae: 1.6331\n",
      "Epoch 478/500\n",
      " 1/27 [>.............................] - ETA: 0s - loss: 9.6723 - mae: 1.8222WARNING:tensorflow:Early stopping conditioned on metric `val_mse` which is not available. Available metrics are: loss,mae,val_loss,val_mae\n",
      "WARNING:tensorflow:Can save best model only with val_mse available, skipping.\n",
      "27/27 [==============================] - 0s 2ms/step - loss: 4.0345 - mae: 1.4290 - val_loss: 5.0805 - val_mae: 1.6294\n",
      "Epoch 479/500\n",
      " 1/27 [>.............................] - ETA: 0s - loss: 3.7129 - mae: 1.5618WARNING:tensorflow:Early stopping conditioned on metric `val_mse` which is not available. Available metrics are: loss,mae,val_loss,val_mae\n",
      "WARNING:tensorflow:Can save best model only with val_mse available, skipping.\n",
      "27/27 [==============================] - 0s 2ms/step - loss: 4.0788 - mae: 1.4311 - val_loss: 5.1332 - val_mae: 1.5303\n",
      "Epoch 480/500\n",
      " 1/27 [>.............................] - ETA: 0s - loss: 5.7839 - mae: 1.5517WARNING:tensorflow:Early stopping conditioned on metric `val_mse` which is not available. Available metrics are: loss,mae,val_loss,val_mae\n",
      "WARNING:tensorflow:Can save best model only with val_mse available, skipping.\n",
      "27/27 [==============================] - 0s 2ms/step - loss: 4.0263 - mae: 1.4080 - val_loss: 4.8863 - val_mae: 1.5686\n",
      "Epoch 481/500\n",
      " 1/27 [>.............................] - ETA: 0s - loss: 1.8397 - mae: 1.1333WARNING:tensorflow:Early stopping conditioned on metric `val_mse` which is not available. Available metrics are: loss,mae,val_loss,val_mae\n",
      "WARNING:tensorflow:Can save best model only with val_mse available, skipping.\n",
      "27/27 [==============================] - 0s 2ms/step - loss: 3.9789 - mae: 1.4163 - val_loss: 5.3840 - val_mae: 1.5440\n",
      "Epoch 482/500\n",
      " 1/27 [>.............................] - ETA: 0s - loss: 4.8883 - mae: 1.4864WARNING:tensorflow:Early stopping conditioned on metric `val_mse` which is not available. Available metrics are: loss,mae,val_loss,val_mae\n",
      "WARNING:tensorflow:Can save best model only with val_mse available, skipping.\n",
      "27/27 [==============================] - 0s 2ms/step - loss: 4.0464 - mae: 1.4015 - val_loss: 4.9861 - val_mae: 1.5607\n",
      "Epoch 483/500\n",
      " 1/27 [>.............................] - ETA: 0s - loss: 2.3329 - mae: 1.1193WARNING:tensorflow:Early stopping conditioned on metric `val_mse` which is not available. Available metrics are: loss,mae,val_loss,val_mae\n",
      "WARNING:tensorflow:Can save best model only with val_mse available, skipping.\n",
      "27/27 [==============================] - 0s 2ms/step - loss: 4.0326 - mae: 1.4138 - val_loss: 4.9012 - val_mae: 1.5625\n",
      "Epoch 484/500\n",
      " 1/27 [>.............................] - ETA: 0s - loss: 4.7776 - mae: 1.5343WARNING:tensorflow:Early stopping conditioned on metric `val_mse` which is not available. Available metrics are: loss,mae,val_loss,val_mae\n",
      "WARNING:tensorflow:Can save best model only with val_mse available, skipping.\n",
      "27/27 [==============================] - 0s 2ms/step - loss: 3.9756 - mae: 1.4100 - val_loss: 5.1542 - val_mae: 1.5442\n",
      "Epoch 485/500\n"
     ]
    },
    {
     "name": "stdout",
     "output_type": "stream",
     "text": [
      " 1/27 [>.............................] - ETA: 0s - loss: 4.1259 - mae: 1.4699WARNING:tensorflow:Early stopping conditioned on metric `val_mse` which is not available. Available metrics are: loss,mae,val_loss,val_mae\n",
      "WARNING:tensorflow:Can save best model only with val_mse available, skipping.\n",
      "27/27 [==============================] - 0s 3ms/step - loss: 4.0201 - mae: 1.4123 - val_loss: 4.9971 - val_mae: 1.5572\n",
      "Epoch 486/500\n",
      " 1/27 [>.............................] - ETA: 0s - loss: 2.3091 - mae: 1.2015WARNING:tensorflow:Early stopping conditioned on metric `val_mse` which is not available. Available metrics are: loss,mae,val_loss,val_mae\n",
      "WARNING:tensorflow:Can save best model only with val_mse available, skipping.\n",
      "27/27 [==============================] - 0s 2ms/step - loss: 4.0060 - mae: 1.4152 - val_loss: 4.9391 - val_mae: 1.5637\n",
      "Epoch 487/500\n",
      " 1/27 [>.............................] - ETA: 0s - loss: 4.5521 - mae: 1.5044WARNING:tensorflow:Early stopping conditioned on metric `val_mse` which is not available. Available metrics are: loss,mae,val_loss,val_mae\n",
      "WARNING:tensorflow:Can save best model only with val_mse available, skipping.\n",
      "27/27 [==============================] - 0s 2ms/step - loss: 3.9954 - mae: 1.4126 - val_loss: 5.1608 - val_mae: 1.6707\n",
      "Epoch 488/500\n",
      " 1/27 [>.............................] - ETA: 0s - loss: 2.8900 - mae: 1.4162WARNING:tensorflow:Early stopping conditioned on metric `val_mse` which is not available. Available metrics are: loss,mae,val_loss,val_mae\n",
      "WARNING:tensorflow:Can save best model only with val_mse available, skipping.\n",
      "27/27 [==============================] - 0s 2ms/step - loss: 4.0273 - mae: 1.4242 - val_loss: 4.9877 - val_mae: 1.6288\n",
      "Epoch 489/500\n",
      " 1/27 [>.............................] - ETA: 0s - loss: 2.5055 - mae: 1.3056WARNING:tensorflow:Early stopping conditioned on metric `val_mse` which is not available. Available metrics are: loss,mae,val_loss,val_mae\n",
      "WARNING:tensorflow:Can save best model only with val_mse available, skipping.\n",
      "27/27 [==============================] - 0s 2ms/step - loss: 4.0406 - mae: 1.4264 - val_loss: 4.9549 - val_mae: 1.5463\n",
      "Epoch 490/500\n",
      " 1/27 [>.............................] - ETA: 0s - loss: 2.2941 - mae: 1.1091WARNING:tensorflow:Early stopping conditioned on metric `val_mse` which is not available. Available metrics are: loss,mae,val_loss,val_mae\n",
      "WARNING:tensorflow:Can save best model only with val_mse available, skipping.\n",
      "27/27 [==============================] - 0s 3ms/step - loss: 3.9914 - mae: 1.4038 - val_loss: 4.9357 - val_mae: 1.5519\n",
      "Epoch 491/500\n",
      " 1/27 [>.............................] - ETA: 0s - loss: 2.4712 - mae: 1.2392WARNING:tensorflow:Early stopping conditioned on metric `val_mse` which is not available. Available metrics are: loss,mae,val_loss,val_mae\n",
      "WARNING:tensorflow:Can save best model only with val_mse available, skipping.\n",
      "27/27 [==============================] - 0s 2ms/step - loss: 3.9684 - mae: 1.3983 - val_loss: 4.9819 - val_mae: 1.6233\n",
      "Epoch 492/500\n",
      " 1/27 [>.............................] - ETA: 0s - loss: 1.5977 - mae: 1.0252WARNING:tensorflow:Early stopping conditioned on metric `val_mse` which is not available. Available metrics are: loss,mae,val_loss,val_mae\n",
      "WARNING:tensorflow:Can save best model only with val_mse available, skipping.\n",
      "27/27 [==============================] - 0s 2ms/step - loss: 4.0400 - mae: 1.4212 - val_loss: 5.0133 - val_mae: 1.5420\n",
      "Epoch 493/500\n",
      " 1/27 [>.............................] - ETA: 0s - loss: 3.5745 - mae: 1.5069WARNING:tensorflow:Early stopping conditioned on metric `val_mse` which is not available. Available metrics are: loss,mae,val_loss,val_mae\n",
      "WARNING:tensorflow:Can save best model only with val_mse available, skipping.\n",
      "27/27 [==============================] - 0s 2ms/step - loss: 3.9902 - mae: 1.4117 - val_loss: 5.2124 - val_mae: 1.5483\n",
      "Epoch 494/500\n",
      " 1/27 [>.............................] - ETA: 0s - loss: 4.0290 - mae: 1.2314WARNING:tensorflow:Early stopping conditioned on metric `val_mse` which is not available. Available metrics are: loss,mae,val_loss,val_mae\n",
      "WARNING:tensorflow:Can save best model only with val_mse available, skipping.\n",
      "27/27 [==============================] - 0s 2ms/step - loss: 3.9704 - mae: 1.4131 - val_loss: 4.9079 - val_mae: 1.5735\n",
      "Epoch 495/500\n",
      " 1/27 [>.............................] - ETA: 0s - loss: 2.4833 - mae: 1.1685WARNING:tensorflow:Early stopping conditioned on metric `val_mse` which is not available. Available metrics are: loss,mae,val_loss,val_mae\n",
      "WARNING:tensorflow:Can save best model only with val_mse available, skipping.\n",
      "27/27 [==============================] - 0s 2ms/step - loss: 4.0013 - mae: 1.4046 - val_loss: 5.1198 - val_mae: 1.5367\n",
      "Epoch 496/500\n",
      " 1/27 [>.............................] - ETA: 0s - loss: 2.0856 - mae: 0.9662WARNING:tensorflow:Early stopping conditioned on metric `val_mse` which is not available. Available metrics are: loss,mae,val_loss,val_mae\n",
      "WARNING:tensorflow:Can save best model only with val_mse available, skipping.\n",
      "27/27 [==============================] - 0s 3ms/step - loss: 4.0082 - mae: 1.4113 - val_loss: 5.0243 - val_mae: 1.5356\n",
      "Epoch 497/500\n",
      " 1/27 [>.............................] - ETA: 0s - loss: 2.3672 - mae: 1.2327WARNING:tensorflow:Early stopping conditioned on metric `val_mse` which is not available. Available metrics are: loss,mae,val_loss,val_mae\n",
      "WARNING:tensorflow:Can save best model only with val_mse available, skipping.\n",
      "27/27 [==============================] - 0s 3ms/step - loss: 4.0210 - mae: 1.4199 - val_loss: 4.9109 - val_mae: 1.5478\n",
      "Epoch 498/500\n",
      " 1/27 [>.............................] - ETA: 0s - loss: 3.7483 - mae: 1.3950WARNING:tensorflow:Early stopping conditioned on metric `val_mse` which is not available. Available metrics are: loss,mae,val_loss,val_mae\n",
      "WARNING:tensorflow:Can save best model only with val_mse available, skipping.\n",
      "27/27 [==============================] - 0s 2ms/step - loss: 4.0366 - mae: 1.4204 - val_loss: 4.9431 - val_mae: 1.5439\n",
      "Epoch 499/500\n",
      " 1/27 [>.............................] - ETA: 0s - loss: 2.0557 - mae: 1.1210WARNING:tensorflow:Early stopping conditioned on metric `val_mse` which is not available. Available metrics are: loss,mae,val_loss,val_mae\n",
      "WARNING:tensorflow:Can save best model only with val_mse available, skipping.\n",
      "27/27 [==============================] - 0s 2ms/step - loss: 3.9748 - mae: 1.4121 - val_loss: 4.9656 - val_mae: 1.5615\n",
      "Epoch 500/500\n",
      " 1/27 [>.............................] - ETA: 0s - loss: 1.9607 - mae: 1.1958WARNING:tensorflow:Early stopping conditioned on metric `val_mse` which is not available. Available metrics are: loss,mae,val_loss,val_mae\n",
      "WARNING:tensorflow:Can save best model only with val_mse available, skipping.\n",
      "27/27 [==============================] - 0s 2ms/step - loss: 4.0524 - mae: 1.4203 - val_loss: 4.9376 - val_mae: 1.5714\n",
      "40/40 [==============================] - 0s 921us/step - loss: 4.2579 - mae: 1.4709\n",
      "\n",
      " Accuracy: 1.4709\n"
     ]
    }
   ],
   "source": [
    "# 모델 학습\n",
    "history = model.fit(train_x, train_y, validation_split=0.33, epochs=500, batch_size=32, verbose=1, callbacks=[early_stopping_callback, checkpointer])\n",
    "print(\"\\n Accuracy: %.4f\" % (model.evaluate(train_x,train_y)[1]))"
   ]
  },
  {
   "cell_type": "code",
   "execution_count": 38,
   "metadata": {},
   "outputs": [],
   "source": [
    "Y_prediction = model.predict(test_x)"
   ]
  },
  {
   "cell_type": "code",
   "execution_count": 39,
   "metadata": {
    "scrolled": true
   },
   "outputs": [
    {
     "data": {
      "text/plain": [
       "array([[12.2521515],\n",
       "       [14.873138 ],\n",
       "       [ 6.595352 ],\n",
       "       ...,\n",
       "       [ 9.497084 ],\n",
       "       [10.495752 ],\n",
       "       [13.202526 ]], dtype=float32)"
      ]
     },
     "execution_count": 39,
     "metadata": {},
     "output_type": "execute_result"
    }
   ],
   "source": [
    "Y_prediction"
   ]
  },
  {
   "cell_type": "code",
   "execution_count": 40,
   "metadata": {},
   "outputs": [
    {
     "data": {
      "text/html": [
       "<div>\n",
       "<style scoped>\n",
       "    .dataframe tbody tr th:only-of-type {\n",
       "        vertical-align: middle;\n",
       "    }\n",
       "\n",
       "    .dataframe tbody tr th {\n",
       "        vertical-align: top;\n",
       "    }\n",
       "\n",
       "    .dataframe thead th {\n",
       "        text-align: right;\n",
       "    }\n",
       "</style>\n",
       "<table border=\"1\" class=\"dataframe\">\n",
       "  <thead>\n",
       "    <tr style=\"text-align: right;\">\n",
       "      <th></th>\n",
       "      <th>id</th>\n",
       "      <th>Target</th>\n",
       "    </tr>\n",
       "  </thead>\n",
       "  <tbody>\n",
       "    <tr>\n",
       "      <th>0</th>\n",
       "      <td>1</td>\n",
       "      <td>12.252151</td>\n",
       "    </tr>\n",
       "    <tr>\n",
       "      <th>1</th>\n",
       "      <td>2</td>\n",
       "      <td>14.873138</td>\n",
       "    </tr>\n",
       "    <tr>\n",
       "      <th>2</th>\n",
       "      <td>3</td>\n",
       "      <td>6.595352</td>\n",
       "    </tr>\n",
       "    <tr>\n",
       "      <th>3</th>\n",
       "      <td>4</td>\n",
       "      <td>10.871181</td>\n",
       "    </tr>\n",
       "    <tr>\n",
       "      <th>4</th>\n",
       "      <td>5</td>\n",
       "      <td>9.963685</td>\n",
       "    </tr>\n",
       "    <tr>\n",
       "      <th>...</th>\n",
       "      <td>...</td>\n",
       "      <td>...</td>\n",
       "    </tr>\n",
       "    <tr>\n",
       "      <th>2919</th>\n",
       "      <td>2920</td>\n",
       "      <td>4.868115</td>\n",
       "    </tr>\n",
       "    <tr>\n",
       "      <th>2920</th>\n",
       "      <td>2921</td>\n",
       "      <td>8.527743</td>\n",
       "    </tr>\n",
       "    <tr>\n",
       "      <th>2921</th>\n",
       "      <td>2922</td>\n",
       "      <td>9.497084</td>\n",
       "    </tr>\n",
       "    <tr>\n",
       "      <th>2922</th>\n",
       "      <td>2923</td>\n",
       "      <td>10.495752</td>\n",
       "    </tr>\n",
       "    <tr>\n",
       "      <th>2923</th>\n",
       "      <td>2924</td>\n",
       "      <td>13.202526</td>\n",
       "    </tr>\n",
       "  </tbody>\n",
       "</table>\n",
       "<p>2924 rows × 2 columns</p>\n",
       "</div>"
      ],
      "text/plain": [
       "        id     Target\n",
       "0        1  12.252151\n",
       "1        2  14.873138\n",
       "2        3   6.595352\n",
       "3        4  10.871181\n",
       "4        5   9.963685\n",
       "...    ...        ...\n",
       "2919  2920   4.868115\n",
       "2920  2921   8.527743\n",
       "2921  2922   9.497084\n",
       "2922  2923  10.495752\n",
       "2923  2924  13.202526\n",
       "\n",
       "[2924 rows x 2 columns]"
      ]
     },
     "execution_count": 40,
     "metadata": {},
     "output_type": "execute_result"
    }
   ],
   "source": [
    "submission = pd.read_csv('data/sample_submission.csv')\n",
    "submission['Target'] = Y_prediction\n",
    "\n",
    "# 데이터가 잘 들어갔는지 확인합니다\n",
    "submission"
   ]
  },
  {
   "cell_type": "code",
   "execution_count": 41,
   "metadata": {},
   "outputs": [],
   "source": [
    "submission.to_csv('deep_submit.csv', index=False)"
   ]
  },
  {
   "cell_type": "code",
   "execution_count": null,
   "metadata": {},
   "outputs": [],
   "source": [
    "dropout.out"
   ]
  },
  {
   "cell_type": "markdown",
   "metadata": {},
   "source": [
    "# RandomForest"
   ]
  },
  {
   "cell_type": "markdown",
   "metadata": {},
   "source": [
    "## 배깅"
   ]
  },
  {
   "cell_type": "code",
   "execution_count": 9,
   "metadata": {},
   "outputs": [],
   "source": [
    "from sklearn.ensemble import RandomForestRegressor"
   ]
  },
  {
   "cell_type": "code",
   "execution_count": 10,
   "metadata": {},
   "outputs": [
    {
     "data": {
      "text/plain": [
       "RandomForestRegressor()"
      ]
     },
     "execution_count": 10,
     "metadata": {},
     "output_type": "execute_result"
    }
   ],
   "source": [
    "model = RandomForestRegressor() # 모델을 객체에 할당\n",
    "\n",
    "model.fit(train_x, train_y) # 모델 학습"
   ]
  },
  {
   "cell_type": "code",
   "execution_count": 12,
   "metadata": {},
   "outputs": [
    {
     "data": {
      "text/html": [
       "<div>\n",
       "<style scoped>\n",
       "    .dataframe tbody tr th:only-of-type {\n",
       "        vertical-align: middle;\n",
       "    }\n",
       "\n",
       "    .dataframe tbody tr th {\n",
       "        vertical-align: top;\n",
       "    }\n",
       "\n",
       "    .dataframe thead th {\n",
       "        text-align: right;\n",
       "    }\n",
       "</style>\n",
       "<table border=\"1\" class=\"dataframe\">\n",
       "  <thead>\n",
       "    <tr style=\"text-align: right;\">\n",
       "      <th></th>\n",
       "      <th>id</th>\n",
       "      <th>Gender</th>\n",
       "      <th>Lenght</th>\n",
       "      <th>Diameter</th>\n",
       "      <th>Height</th>\n",
       "      <th>Whole Weight</th>\n",
       "      <th>Shucked Weight</th>\n",
       "      <th>Viscra Weight</th>\n",
       "      <th>Shell Weight</th>\n",
       "    </tr>\n",
       "  </thead>\n",
       "  <tbody>\n",
       "    <tr>\n",
       "      <th>0</th>\n",
       "      <td>1</td>\n",
       "      <td>F</td>\n",
       "      <td>0.595</td>\n",
       "      <td>0.470</td>\n",
       "      <td>0.155</td>\n",
       "      <td>1.121</td>\n",
       "      <td>0.4515</td>\n",
       "      <td>0.1780</td>\n",
       "      <td>0.1550</td>\n",
       "    </tr>\n",
       "    <tr>\n",
       "      <th>1</th>\n",
       "      <td>2</td>\n",
       "      <td>M</td>\n",
       "      <td>0.580</td>\n",
       "      <td>0.450</td>\n",
       "      <td>0.150</td>\n",
       "      <td>0.927</td>\n",
       "      <td>0.2760</td>\n",
       "      <td>0.1815</td>\n",
       "      <td>0.3600</td>\n",
       "    </tr>\n",
       "    <tr>\n",
       "      <th>2</th>\n",
       "      <td>3</td>\n",
       "      <td>I</td>\n",
       "      <td>0.260</td>\n",
       "      <td>0.205</td>\n",
       "      <td>0.070</td>\n",
       "      <td>0.097</td>\n",
       "      <td>0.0415</td>\n",
       "      <td>0.0190</td>\n",
       "      <td>0.0305</td>\n",
       "    </tr>\n",
       "    <tr>\n",
       "      <th>3</th>\n",
       "      <td>4</td>\n",
       "      <td>M</td>\n",
       "      <td>0.590</td>\n",
       "      <td>0.460</td>\n",
       "      <td>0.130</td>\n",
       "      <td>1.102</td>\n",
       "      <td>0.4550</td>\n",
       "      <td>0.2055</td>\n",
       "      <td>0.3300</td>\n",
       "    </tr>\n",
       "    <tr>\n",
       "      <th>4</th>\n",
       "      <td>5</td>\n",
       "      <td>F</td>\n",
       "      <td>0.595</td>\n",
       "      <td>0.465</td>\n",
       "      <td>0.140</td>\n",
       "      <td>1.113</td>\n",
       "      <td>0.5175</td>\n",
       "      <td>0.2440</td>\n",
       "      <td>0.3050</td>\n",
       "    </tr>\n",
       "  </tbody>\n",
       "</table>\n",
       "</div>"
      ],
      "text/plain": [
       "   id Gender  Lenght  Diameter  Height  Whole Weight  Shucked Weight  \\\n",
       "0   1      F   0.595     0.470   0.155         1.121          0.4515   \n",
       "1   2      M   0.580     0.450   0.150         0.927          0.2760   \n",
       "2   3      I   0.260     0.205   0.070         0.097          0.0415   \n",
       "3   4      M   0.590     0.460   0.130         1.102          0.4550   \n",
       "4   5      F   0.595     0.465   0.140         1.113          0.5175   \n",
       "\n",
       "   Viscra Weight  Shell Weight  \n",
       "0         0.1780        0.1550  \n",
       "1         0.1815        0.3600  \n",
       "2         0.0190        0.0305  \n",
       "3         0.2055        0.3300  \n",
       "4         0.2440        0.3050  "
      ]
     },
     "execution_count": 12,
     "metadata": {},
     "output_type": "execute_result"
    }
   ],
   "source": [
    "test_df = pd.read_csv('data/test.csv')\n",
    "test_df.head()"
   ]
  },
  {
   "cell_type": "code",
   "execution_count": 13,
   "metadata": {
    "scrolled": true
   },
   "outputs": [
    {
     "data": {
      "text/html": [
       "<div>\n",
       "<style scoped>\n",
       "    .dataframe tbody tr th:only-of-type {\n",
       "        vertical-align: middle;\n",
       "    }\n",
       "\n",
       "    .dataframe tbody tr th {\n",
       "        vertical-align: top;\n",
       "    }\n",
       "\n",
       "    .dataframe thead th {\n",
       "        text-align: right;\n",
       "    }\n",
       "</style>\n",
       "<table border=\"1\" class=\"dataframe\">\n",
       "  <thead>\n",
       "    <tr style=\"text-align: right;\">\n",
       "      <th></th>\n",
       "      <th>id</th>\n",
       "      <th>Gender</th>\n",
       "      <th>Lenght</th>\n",
       "      <th>Diameter</th>\n",
       "      <th>Height</th>\n",
       "      <th>Whole Weight</th>\n",
       "      <th>Shucked Weight</th>\n",
       "      <th>Viscra Weight</th>\n",
       "      <th>Shell Weight</th>\n",
       "    </tr>\n",
       "  </thead>\n",
       "  <tbody>\n",
       "    <tr>\n",
       "      <th>0</th>\n",
       "      <td>1</td>\n",
       "      <td>3</td>\n",
       "      <td>0.595</td>\n",
       "      <td>0.470</td>\n",
       "      <td>0.155</td>\n",
       "      <td>1.121</td>\n",
       "      <td>0.4515</td>\n",
       "      <td>0.1780</td>\n",
       "      <td>0.1550</td>\n",
       "    </tr>\n",
       "    <tr>\n",
       "      <th>1</th>\n",
       "      <td>2</td>\n",
       "      <td>1</td>\n",
       "      <td>0.580</td>\n",
       "      <td>0.450</td>\n",
       "      <td>0.150</td>\n",
       "      <td>0.927</td>\n",
       "      <td>0.2760</td>\n",
       "      <td>0.1815</td>\n",
       "      <td>0.3600</td>\n",
       "    </tr>\n",
       "    <tr>\n",
       "      <th>2</th>\n",
       "      <td>3</td>\n",
       "      <td>2</td>\n",
       "      <td>0.260</td>\n",
       "      <td>0.205</td>\n",
       "      <td>0.070</td>\n",
       "      <td>0.097</td>\n",
       "      <td>0.0415</td>\n",
       "      <td>0.0190</td>\n",
       "      <td>0.0305</td>\n",
       "    </tr>\n",
       "    <tr>\n",
       "      <th>3</th>\n",
       "      <td>4</td>\n",
       "      <td>1</td>\n",
       "      <td>0.590</td>\n",
       "      <td>0.460</td>\n",
       "      <td>0.130</td>\n",
       "      <td>1.102</td>\n",
       "      <td>0.4550</td>\n",
       "      <td>0.2055</td>\n",
       "      <td>0.3300</td>\n",
       "    </tr>\n",
       "    <tr>\n",
       "      <th>4</th>\n",
       "      <td>5</td>\n",
       "      <td>3</td>\n",
       "      <td>0.595</td>\n",
       "      <td>0.465</td>\n",
       "      <td>0.140</td>\n",
       "      <td>1.113</td>\n",
       "      <td>0.5175</td>\n",
       "      <td>0.2440</td>\n",
       "      <td>0.3050</td>\n",
       "    </tr>\n",
       "  </tbody>\n",
       "</table>\n",
       "</div>"
      ],
      "text/plain": [
       "   id  Gender  Lenght  Diameter  Height  Whole Weight  Shucked Weight  \\\n",
       "0   1       3   0.595     0.470   0.155         1.121          0.4515   \n",
       "1   2       1   0.580     0.450   0.150         0.927          0.2760   \n",
       "2   3       2   0.260     0.205   0.070         0.097          0.0415   \n",
       "3   4       1   0.590     0.460   0.130         1.102          0.4550   \n",
       "4   5       3   0.595     0.465   0.140         1.113          0.5175   \n",
       "\n",
       "   Viscra Weight  Shell Weight  \n",
       "0         0.1780        0.1550  \n",
       "1         0.1815        0.3600  \n",
       "2         0.0190        0.0305  \n",
       "3         0.2055        0.3300  \n",
       "4         0.2440        0.3050  "
      ]
     },
     "execution_count": 13,
     "metadata": {},
     "output_type": "execute_result"
    }
   ],
   "source": [
    "gender_df = label_encoder(test_df[['Gender']], train_le)\n",
    "test_df['Gender'] = gender_df[['Gender']]\n",
    "\n",
    "test_df.head()"
   ]
  },
  {
   "cell_type": "code",
   "execution_count": 16,
   "metadata": {},
   "outputs": [],
   "source": [
    "test_x = test_df.drop(['id'],axis=1)"
   ]
  },
  {
   "cell_type": "code",
   "execution_count": 17,
   "metadata": {},
   "outputs": [],
   "source": [
    "# 전처리가 완료된 테스트 데이터셋을 통해 본격적으로 학습한 모델로 추론을 시작합니다.\n",
    "prediction = model.predict(test_x)"
   ]
  },
  {
   "cell_type": "code",
   "execution_count": null,
   "metadata": {},
   "outputs": [],
   "source": []
  },
  {
   "cell_type": "code",
   "execution_count": null,
   "metadata": {},
   "outputs": [],
   "source": []
  },
  {
   "cell_type": "code",
   "execution_count": 11,
   "metadata": {},
   "outputs": [],
   "source": [
    "# 딥러닝을 구동하는 데 필요한 케라스 함수를 불러옵니다.\n",
    "from tensorflow.keras.models import Sequential\n",
    "from tensorflow.keras.layers import Dense\n",
    "\n",
    "# 필요한 라이브러리를 불러옵니다.\n",
    "import numpy\n",
    "import tensorflow as tf\n",
    "\n",
    "# 실행할 때마다 같은 결과를 출력하기 위해 설정하는 부분입니다.\n",
    "numpy.random.seed(3)\n",
    "tf.random.set_seed(3)\n",
    "\n",
    "\n",
    "\n",
    "# 모델을 설정합니다.#레이어 3개\n",
    "model = Sequential()\n",
    "model.add(Dense(12, input_dim=8, activation='relu'))#숫자는 몇을 줘야 가장 좋은 결과가 나오는지 알아내야되긴함\n",
    "model.add(Dense(8, activation='relu'))\n",
    "model.add(Dense(1, activation='sigmoid'))\n",
    "\n",
    "# 모델을 컴파일합니다.\n",
    "model.compile(loss='mae',\n",
    "             optimizer='adam',\n",
    "             metrics=['mae'])"
   ]
  },
  {
   "cell_type": "code",
   "execution_count": 13,
   "metadata": {},
   "outputs": [
    {
     "name": "stdout",
     "output_type": "stream",
     "text": [
      "Epoch 1/200\n",
      "126/126 [==============================] - 0s 1ms/step - loss: 8.9122 - mae: 8.9122\n",
      "Epoch 2/200\n",
      "126/126 [==============================] - 0s 966us/step - loss: 8.9122 - mae: 8.9122\n",
      "Epoch 3/200\n",
      "126/126 [==============================] - 0s 988us/step - loss: 8.9122 - mae: 8.9122\n",
      "Epoch 4/200\n",
      "126/126 [==============================] - 0s 1ms/step - loss: 8.9122 - mae: 8.9122\n",
      "Epoch 5/200\n",
      "126/126 [==============================] - 0s 1ms/step - loss: 8.9122 - mae: 8.9122\n",
      "Epoch 6/200\n",
      "126/126 [==============================] - 0s 1ms/step - loss: 8.9122 - mae: 8.9122\n",
      "Epoch 7/200\n",
      "126/126 [==============================] - 0s 999us/step - loss: 8.9122 - mae: 8.9122\n",
      "Epoch 8/200\n",
      "126/126 [==============================] - 0s 1ms/step - loss: 8.9122 - mae: 8.9122\n",
      "Epoch 9/200\n",
      "126/126 [==============================] - 0s 976us/step - loss: 8.9122 - mae: 8.9122\n",
      "Epoch 10/200\n",
      "126/126 [==============================] - 0s 804us/step - loss: 8.9122 - mae: 8.9122\n",
      "Epoch 11/200\n",
      "126/126 [==============================] - 0s 854us/step - loss: 8.9122 - mae: 8.9122\n",
      "Epoch 12/200\n",
      "126/126 [==============================] - 0s 877us/step - loss: 8.9122 - mae: 8.9122\n",
      "Epoch 13/200\n",
      "126/126 [==============================] - 0s 907us/step - loss: 8.9122 - mae: 8.9122\n",
      "Epoch 14/200\n",
      "126/126 [==============================] - 0s 878us/step - loss: 8.9122 - mae: 8.9122\n",
      "Epoch 15/200\n",
      "126/126 [==============================] - 0s 957us/step - loss: 8.9122 - mae: 8.9122\n",
      "Epoch 16/200\n",
      "126/126 [==============================] - 0s 806us/step - loss: 8.9122 - mae: 8.9122\n",
      "Epoch 17/200\n",
      "126/126 [==============================] - 0s 846us/step - loss: 8.9122 - mae: 8.9122\n",
      "Epoch 18/200\n",
      "126/126 [==============================] - 0s 822us/step - loss: 8.9122 - mae: 8.9122\n",
      "Epoch 19/200\n",
      "126/126 [==============================] - 0s 878us/step - loss: 8.9122 - mae: 8.9122\n",
      "Epoch 20/200\n",
      "126/126 [==============================] - 0s 870us/step - loss: 8.9122 - mae: 8.9122\n",
      "Epoch 21/200\n",
      "126/126 [==============================] - 0s 894us/step - loss: 8.9122 - mae: 8.9122\n",
      "Epoch 22/200\n",
      "126/126 [==============================] - 0s 862us/step - loss: 8.9122 - mae: 8.9122\n",
      "Epoch 23/200\n",
      "126/126 [==============================] - 0s 846us/step - loss: 8.9122 - mae: 8.9122\n",
      "Epoch 24/200\n",
      "126/126 [==============================] - 0s 830us/step - loss: 8.9122 - mae: 8.9122\n",
      "Epoch 25/200\n",
      "126/126 [==============================] - 0s 846us/step - loss: 8.9122 - mae: 8.9122\n",
      "Epoch 26/200\n",
      "126/126 [==============================] - 0s 1ms/step - loss: 8.9122 - mae: 8.9122\n",
      "Epoch 27/200\n",
      "126/126 [==============================] - 0s 830us/step - loss: 8.9122 - mae: 8.9122\n",
      "Epoch 28/200\n",
      "126/126 [==============================] - 0s 798us/step - loss: 8.9122 - mae: 8.9122\n",
      "Epoch 29/200\n",
      "126/126 [==============================] - 0s 918us/step - loss: 8.9122 - mae: 8.9122\n",
      "Epoch 30/200\n",
      "126/126 [==============================] - 0s 933us/step - loss: 8.9122 - mae: 8.9122\n",
      "Epoch 31/200\n",
      "126/126 [==============================] - 0s 854us/step - loss: 8.9122 - mae: 8.9122\n",
      "Epoch 32/200\n",
      "126/126 [==============================] - 0s 798us/step - loss: 8.9122 - mae: 8.9122\n",
      "Epoch 33/200\n",
      "126/126 [==============================] - 0s 870us/step - loss: 8.9122 - mae: 8.9122\n",
      "Epoch 34/200\n",
      "126/126 [==============================] - 0s 880us/step - loss: 8.9122 - mae: 8.9122\n",
      "Epoch 35/200\n",
      "126/126 [==============================] - 0s 901us/step - loss: 8.9122 - mae: 8.9122\n",
      "Epoch 36/200\n",
      "126/126 [==============================] - 0s 898us/step - loss: 8.9122 - mae: 8.9122\n",
      "Epoch 37/200\n",
      "126/126 [==============================] - 0s 846us/step - loss: 8.9122 - mae: 8.9122\n",
      "Epoch 38/200\n",
      "126/126 [==============================] - 0s 846us/step - loss: 8.9122 - mae: 8.9122\n",
      "Epoch 39/200\n",
      "126/126 [==============================] - 0s 861us/step - loss: 8.9122 - mae: 8.9122\n",
      "Epoch 40/200\n",
      "126/126 [==============================] - 0s 874us/step - loss: 8.9122 - mae: 8.9122\n",
      "Epoch 41/200\n",
      "126/126 [==============================] - 0s 926us/step - loss: 8.9122 - mae: 8.9122\n",
      "Epoch 42/200\n",
      "126/126 [==============================] - 0s 798us/step - loss: 8.9122 - mae: 8.9122\n",
      "Epoch 43/200\n",
      "126/126 [==============================] - 0s 798us/step - loss: 8.9122 - mae: 8.9122\n",
      "Epoch 44/200\n",
      "126/126 [==============================] - 0s 854us/step - loss: 8.9122 - mae: 8.9122\n",
      "Epoch 45/200\n",
      "126/126 [==============================] - 0s 902us/step - loss: 8.9122 - mae: 8.9122\n",
      "Epoch 46/200\n",
      "126/126 [==============================] - 0s 918us/step - loss: 8.9122 - mae: 8.9122\n",
      "Epoch 47/200\n",
      "126/126 [==============================] - 0s 846us/step - loss: 8.9122 - mae: 8.9122\n",
      "Epoch 48/200\n",
      "126/126 [==============================] - 0s 862us/step - loss: 8.9122 - mae: 8.9122\n",
      "Epoch 49/200\n",
      "126/126 [==============================] - 0s 926us/step - loss: 8.9122 - mae: 8.9122\n",
      "Epoch 50/200\n",
      "126/126 [==============================] - 0s 926us/step - loss: 8.9122 - mae: 8.9122\n",
      "Epoch 51/200\n",
      "126/126 [==============================] - 0s 845us/step - loss: 8.9122 - mae: 8.9122\n",
      "Epoch 52/200\n",
      "126/126 [==============================] - 0s 835us/step - loss: 8.9122 - mae: 8.9122\n",
      "Epoch 53/200\n",
      "126/126 [==============================] - 0s 902us/step - loss: 8.9122 - mae: 8.9122\n",
      "Epoch 54/200\n",
      "126/126 [==============================] - 0s 926us/step - loss: 8.9122 - mae: 8.9122\n",
      "Epoch 55/200\n",
      "126/126 [==============================] - 0s 806us/step - loss: 8.9122 - mae: 8.9122\n",
      "Epoch 56/200\n",
      "126/126 [==============================] - 0s 854us/step - loss: 8.9122 - mae: 8.9122\n",
      "Epoch 57/200\n",
      "126/126 [==============================] - 0s 894us/step - loss: 8.9122 - mae: 8.9122\n",
      "Epoch 58/200\n",
      "126/126 [==============================] - 0s 870us/step - loss: 8.9122 - mae: 8.9122\n",
      "Epoch 59/200\n",
      "126/126 [==============================] - 0s 854us/step - loss: 8.9122 - mae: 8.9122\n",
      "Epoch 60/200\n",
      "126/126 [==============================] - 0s 846us/step - loss: 8.9122 - mae: 8.9122\n",
      "Epoch 61/200\n",
      "126/126 [==============================] - 0s 830us/step - loss: 8.9122 - mae: 8.9122\n",
      "Epoch 62/200\n",
      "126/126 [==============================] - 0s 858us/step - loss: 8.9122 - mae: 8.9122\n",
      "Epoch 63/200\n",
      "126/126 [==============================] - 0s 867us/step - loss: 8.9122 - mae: 8.9122\n",
      "Epoch 64/200\n",
      "126/126 [==============================] - 0s 854us/step - loss: 8.9122 - mae: 8.9122\n",
      "Epoch 65/200\n",
      "126/126 [==============================] - 0s 846us/step - loss: 8.9122 - mae: 8.9122\n",
      "Epoch 66/200\n",
      "126/126 [==============================] - 0s 821us/step - loss: 8.9122 - mae: 8.9122\n",
      "Epoch 67/200\n",
      "126/126 [==============================] - 0s 878us/step - loss: 8.9122 - mae: 8.9122\n",
      "Epoch 68/200\n",
      "126/126 [==============================] - 0s 941us/step - loss: 8.9122 - mae: 8.9122\n",
      "Epoch 69/200\n",
      "126/126 [==============================] - 0s 798us/step - loss: 8.9122 - mae: 8.9122\n",
      "Epoch 70/200\n",
      "126/126 [==============================] - 0s 822us/step - loss: 8.9122 - mae: 8.9122\n",
      "Epoch 71/200\n",
      "126/126 [==============================] - 0s 854us/step - loss: 8.9122 - mae: 8.9122\n",
      "Epoch 72/200\n",
      "126/126 [==============================] - 0s 822us/step - loss: 8.9122 - mae: 8.9122\n",
      "Epoch 73/200\n",
      "126/126 [==============================] - 0s 838us/step - loss: 8.9122 - mae: 8.9122\n",
      "Epoch 74/200\n",
      "126/126 [==============================] - 0s 830us/step - loss: 8.9122 - mae: 8.9122\n",
      "Epoch 75/200\n",
      "126/126 [==============================] - 0s 846us/step - loss: 8.9122 - mae: 8.9122\n",
      "Epoch 76/200\n",
      "126/126 [==============================] - 0s 838us/step - loss: 8.9122 - mae: 8.9122\n",
      "Epoch 77/200\n",
      "126/126 [==============================] - 0s 806us/step - loss: 8.9122 - mae: 8.9122\n",
      "Epoch 78/200\n",
      "126/126 [==============================] - 0s 826us/step - loss: 8.9122 - mae: 8.9122\n",
      "Epoch 79/200\n",
      "126/126 [==============================] - 0s 981us/step - loss: 8.9122 - mae: 8.9122\n",
      "Epoch 80/200\n",
      "126/126 [==============================] - 0s 1ms/step - loss: 8.9122 - mae: 8.9122\n",
      "Epoch 81/200\n",
      "126/126 [==============================] - 0s 830us/step - loss: 8.9122 - mae: 8.9122\n",
      "Epoch 82/200\n",
      "126/126 [==============================] - 0s 774us/step - loss: 8.9122 - mae: 8.9122\n",
      "Epoch 83/200\n",
      "126/126 [==============================] - 0s 790us/step - loss: 8.9122 - mae: 8.9122\n"
     ]
    },
    {
     "name": "stdout",
     "output_type": "stream",
     "text": [
      "Epoch 84/200\n",
      "126/126 [==============================] - 0s 997us/step - loss: 8.9122 - mae: 8.9122\n",
      "Epoch 85/200\n",
      "126/126 [==============================] - 0s 989us/step - loss: 8.9122 - mae: 8.9122\n",
      "Epoch 86/200\n",
      "126/126 [==============================] - 0s 941us/step - loss: 8.9122 - mae: 8.9122\n",
      "Epoch 87/200\n",
      "126/126 [==============================] - 0s 912us/step - loss: 8.9122 - mae: 8.9122\n",
      "Epoch 88/200\n",
      "126/126 [==============================] - 0s 893us/step - loss: 8.9122 - mae: 8.9122\n",
      "Epoch 89/200\n",
      "126/126 [==============================] - 0s 870us/step - loss: 8.9122 - mae: 8.9122\n",
      "Epoch 90/200\n",
      "126/126 [==============================] - 0s 835us/step - loss: 8.9122 - mae: 8.9122\n",
      "Epoch 91/200\n",
      "126/126 [==============================] - 0s 846us/step - loss: 8.9122 - mae: 8.9122\n",
      "Epoch 92/200\n",
      "126/126 [==============================] - 0s 830us/step - loss: 8.9122 - mae: 8.9122\n",
      "Epoch 93/200\n",
      "126/126 [==============================] - 0s 798us/step - loss: 8.9122 - mae: 8.9122\n",
      "Epoch 94/200\n",
      "126/126 [==============================] - 0s 854us/step - loss: 8.9122 - mae: 8.9122\n",
      "Epoch 95/200\n",
      "126/126 [==============================] - 0s 846us/step - loss: 8.9122 - mae: 8.9122\n",
      "Epoch 96/200\n",
      "126/126 [==============================] - 0s 894us/step - loss: 8.9122 - mae: 8.9122\n",
      "Epoch 97/200\n",
      "126/126 [==============================] - 0s 822us/step - loss: 8.9122 - mae: 8.9122\n",
      "Epoch 98/200\n",
      "126/126 [==============================] - 0s 846us/step - loss: 8.9122 - mae: 8.9122\n",
      "Epoch 99/200\n",
      "126/126 [==============================] - 0s 862us/step - loss: 8.9122 - mae: 8.9122\n",
      "Epoch 100/200\n",
      "126/126 [==============================] - 0s 903us/step - loss: 8.9122 - mae: 8.9122\n",
      "Epoch 101/200\n",
      "126/126 [==============================] - 0s 830us/step - loss: 8.9122 - mae: 8.9122\n",
      "Epoch 102/200\n",
      "126/126 [==============================] - 0s 878us/step - loss: 8.9122 - mae: 8.9122\n",
      "Epoch 103/200\n",
      "126/126 [==============================] - 0s 831us/step - loss: 8.9122 - mae: 8.9122\n",
      "Epoch 104/200\n",
      "126/126 [==============================] - 0s 957us/step - loss: 8.9122 - mae: 8.9122\n",
      "Epoch 105/200\n",
      "126/126 [==============================] - 0s 830us/step - loss: 8.9122 - mae: 8.9122\n",
      "Epoch 106/200\n",
      "126/126 [==============================] - 0s 798us/step - loss: 8.9122 - mae: 8.9122\n",
      "Epoch 107/200\n",
      "126/126 [==============================] - 0s 918us/step - loss: 8.9122 - mae: 8.9122\n",
      "Epoch 108/200\n",
      "126/126 [==============================] - 0s 838us/step - loss: 8.9122 - mae: 8.9122\n",
      "Epoch 109/200\n",
      "126/126 [==============================] - 0s 806us/step - loss: 8.9122 - mae: 8.9122\n",
      "Epoch 110/200\n",
      "126/126 [==============================] - 0s 862us/step - loss: 8.9122 - mae: 8.9122\n",
      "Epoch 111/200\n",
      "126/126 [==============================] - 0s 902us/step - loss: 8.9122 - mae: 8.9122\n",
      "Epoch 112/200\n",
      "126/126 [==============================] - 0s 846us/step - loss: 8.9122 - mae: 8.9122\n",
      "Epoch 113/200\n",
      "126/126 [==============================] - 0s 910us/step - loss: 8.9122 - mae: 8.9122\n",
      "Epoch 114/200\n",
      "126/126 [==============================] - 0s 822us/step - loss: 8.9122 - mae: 8.9122\n",
      "Epoch 115/200\n",
      "126/126 [==============================] - 0s 948us/step - loss: 8.9122 - mae: 8.9122\n",
      "Epoch 116/200\n",
      "126/126 [==============================] - 0s 862us/step - loss: 8.9122 - mae: 8.9122\n",
      "Epoch 117/200\n",
      "126/126 [==============================] - 0s 910us/step - loss: 8.9122 - mae: 8.9122\n",
      "Epoch 118/200\n",
      "126/126 [==============================] - 0s 1ms/step - loss: 8.9122 - mae: 8.9122\n",
      "Epoch 119/200\n",
      "126/126 [==============================] - 0s 822us/step - loss: 8.9122 - mae: 8.9122\n",
      "Epoch 120/200\n",
      "126/126 [==============================] - 0s 894us/step - loss: 8.9122 - mae: 8.9122\n",
      "Epoch 121/200\n",
      "126/126 [==============================] - 0s 981us/step - loss: 8.9122 - mae: 8.9122\n",
      "Epoch 122/200\n",
      "126/126 [==============================] - 0s 965us/step - loss: 8.9122 - mae: 8.9122\n",
      "Epoch 123/200\n",
      "126/126 [==============================] - 0s 910us/step - loss: 8.9122 - mae: 8.9122\n",
      "Epoch 124/200\n",
      "126/126 [==============================] - 0s 790us/step - loss: 8.9122 - mae: 8.9122\n",
      "Epoch 125/200\n",
      "126/126 [==============================] - 0s 854us/step - loss: 8.9122 - mae: 8.9122\n",
      "Epoch 126/200\n",
      "126/126 [==============================] - 0s 854us/step - loss: 8.9122 - mae: 8.9122\n",
      "Epoch 127/200\n",
      "126/126 [==============================] - 0s 846us/step - loss: 8.9122 - mae: 8.9122\n",
      "Epoch 128/200\n",
      "126/126 [==============================] - 0s 1ms/step - loss: 8.9122 - mae: 8.9122\n",
      "Epoch 129/200\n",
      "126/126 [==============================] - 0s 821us/step - loss: 8.9122 - mae: 8.9122\n",
      "Epoch 130/200\n",
      "126/126 [==============================] - 0s 798us/step - loss: 8.9122 - mae: 8.9122\n",
      "Epoch 131/200\n",
      "126/126 [==============================] - 0s 854us/step - loss: 8.9122 - mae: 8.9122\n",
      "Epoch 132/200\n",
      "126/126 [==============================] - 0s 1ms/step - loss: 8.9122 - mae: 8.9122\n",
      "Epoch 133/200\n",
      "126/126 [==============================] - 0s 918us/step - loss: 8.9122 - mae: 8.9122\n",
      "Epoch 134/200\n",
      "126/126 [==============================] - 0s 830us/step - loss: 8.9122 - mae: 8.9122\n",
      "Epoch 135/200\n",
      "126/126 [==============================] - 0s 886us/step - loss: 8.9122 - mae: 8.9122\n",
      "Epoch 136/200\n",
      "126/126 [==============================] - 0s 1ms/step - loss: 8.9122 - mae: 8.9122\n",
      "Epoch 137/200\n",
      "126/126 [==============================] - 0s 926us/step - loss: 8.9122 - mae: 8.9122\n",
      "Epoch 138/200\n",
      "126/126 [==============================] - 0s 838us/step - loss: 8.9122 - mae: 8.9122\n",
      "Epoch 139/200\n",
      "126/126 [==============================] - 0s 941us/step - loss: 8.9122 - mae: 8.9122\n",
      "Epoch 140/200\n",
      "126/126 [==============================] - 0s 854us/step - loss: 8.9122 - mae: 8.9122\n",
      "Epoch 141/200\n",
      "126/126 [==============================] - 0s 806us/step - loss: 8.9122 - mae: 8.9122\n",
      "Epoch 142/200\n",
      "126/126 [==============================] - 0s 863us/step - loss: 8.9122 - mae: 8.9122\n",
      "Epoch 143/200\n",
      "126/126 [==============================] - 0s 863us/step - loss: 8.9122 - mae: 8.9122\n",
      "Epoch 144/200\n",
      "126/126 [==============================] - 0s 854us/step - loss: 8.9122 - mae: 8.9122\n",
      "Epoch 145/200\n",
      "126/126 [==============================] - 0s 878us/step - loss: 8.9122 - mae: 8.9122\n",
      "Epoch 146/200\n",
      "126/126 [==============================] - 0s 843us/step - loss: 8.9122 - mae: 8.9122\n",
      "Epoch 147/200\n",
      "126/126 [==============================] - 0s 854us/step - loss: 8.9122 - mae: 8.9122\n",
      "Epoch 148/200\n",
      "126/126 [==============================] - 0s 870us/step - loss: 8.9122 - mae: 8.9122\n",
      "Epoch 149/200\n",
      "126/126 [==============================] - 0s 1ms/step - loss: 8.9122 - mae: 8.9122\n",
      "Epoch 150/200\n",
      "126/126 [==============================] - 0s 1ms/step - loss: 8.9122 - mae: 8.9122\n",
      "Epoch 151/200\n",
      "126/126 [==============================] - 0s 1ms/step - loss: 8.9122 - mae: 8.9122\n",
      "Epoch 152/200\n",
      "126/126 [==============================] - 0s 846us/step - loss: 8.9122 - mae: 8.9122\n",
      "Epoch 153/200\n",
      "126/126 [==============================] - 0s 798us/step - loss: 8.9122 - mae: 8.9122\n",
      "Epoch 154/200\n",
      "126/126 [==============================] - 0s 806us/step - loss: 8.9122 - mae: 8.9122\n",
      "Epoch 155/200\n",
      "126/126 [==============================] - 0s 830us/step - loss: 8.9122 - mae: 8.9122\n",
      "Epoch 156/200\n",
      "126/126 [==============================] - 0s 871us/step - loss: 8.9122 - mae: 8.9122\n",
      "Epoch 157/200\n",
      "126/126 [==============================] - 0s 817us/step - loss: 8.9122 - mae: 8.9122\n",
      "Epoch 158/200\n",
      "126/126 [==============================] - 0s 835us/step - loss: 8.9122 - mae: 8.9122\n",
      "Epoch 159/200\n",
      "126/126 [==============================] - 0s 838us/step - loss: 8.9122 - mae: 8.9122\n",
      "Epoch 160/200\n",
      "126/126 [==============================] - 0s 904us/step - loss: 8.9122 - mae: 8.9122\n",
      "Epoch 161/200\n",
      "126/126 [==============================] - 0s 965us/step - loss: 8.9122 - mae: 8.9122\n",
      "Epoch 162/200\n",
      "126/126 [==============================] - 0s 1ms/step - loss: 8.9122 - mae: 8.9122\n",
      "Epoch 163/200\n",
      "126/126 [==============================] - 0s 846us/step - loss: 8.9122 - mae: 8.9122\n",
      "Epoch 164/200\n",
      "126/126 [==============================] - 0s 846us/step - loss: 8.9122 - mae: 8.9122\n",
      "Epoch 165/200\n",
      "126/126 [==============================] - 0s 934us/step - loss: 8.9122 - mae: 8.9122\n",
      "Epoch 166/200\n",
      "126/126 [==============================] - 0s 1ms/step - loss: 8.9122 - mae: 8.9122\n",
      "Epoch 167/200\n",
      "126/126 [==============================] - 0s 965us/step - loss: 8.9122 - mae: 8.9122\n",
      "Epoch 168/200\n",
      "126/126 [==============================] - 0s 902us/step - loss: 8.9122 - mae: 8.9122\n",
      "Epoch 169/200\n",
      "126/126 [==============================] - 0s 860us/step - loss: 8.9122 - mae: 8.9122\n",
      "Epoch 170/200\n",
      "126/126 [==============================] - 0s 901us/step - loss: 8.9122 - mae: 8.9122\n",
      "Epoch 171/200\n",
      "126/126 [==============================] - 0s 894us/step - loss: 8.9122 - mae: 8.9122\n",
      "Epoch 172/200\n",
      "126/126 [==============================] - 0s 818us/step - loss: 8.9122 - mae: 8.9122\n",
      "Epoch 173/200\n",
      "126/126 [==============================] - 0s 840us/step - loss: 8.9122 - mae: 8.9122\n",
      "Epoch 174/200\n",
      "126/126 [==============================] - 0s 822us/step - loss: 8.9122 - mae: 8.9122\n",
      "Epoch 175/200\n",
      "126/126 [==============================] - 0s 870us/step - loss: 8.9122 - mae: 8.9122\n",
      "Epoch 176/200\n",
      "126/126 [==============================] - 0s 894us/step - loss: 8.9122 - mae: 8.9122\n",
      "Epoch 177/200\n",
      "126/126 [==============================] - 0s 1ms/step - loss: 8.9122 - mae: 8.9122\n",
      "Epoch 178/200\n",
      "126/126 [==============================] - 0s 965us/step - loss: 8.9122 - mae: 8.9122\n",
      "Epoch 179/200\n",
      "126/126 [==============================] - 0s 790us/step - loss: 8.9122 - mae: 8.9122\n",
      "Epoch 180/200\n",
      "126/126 [==============================] - 0s 774us/step - loss: 8.9122 - mae: 8.9122\n",
      "Epoch 181/200\n",
      "126/126 [==============================] - 0s 861us/step - loss: 8.9122 - mae: 8.9122\n",
      "Epoch 182/200\n",
      "126/126 [==============================] - 0s 838us/step - loss: 8.9122 - mae: 8.9122\n",
      "Epoch 183/200\n",
      "126/126 [==============================] - 0s 837us/step - loss: 8.9122 - mae: 8.9122\n",
      "Epoch 184/200\n",
      "126/126 [==============================] - 0s 862us/step - loss: 8.9122 - mae: 8.9122\n",
      "Epoch 185/200\n",
      "126/126 [==============================] - 0s 888us/step - loss: 8.9122 - mae: 8.9122\n",
      "Epoch 186/200\n",
      "126/126 [==============================] - 0s 926us/step - loss: 8.9122 - mae: 8.9122\n",
      "Epoch 187/200\n",
      "126/126 [==============================] - 0s 846us/step - loss: 8.9122 - mae: 8.9122\n",
      "Epoch 188/200\n",
      "126/126 [==============================] - 0s 910us/step - loss: 8.9122 - mae: 8.9122\n",
      "Epoch 189/200\n",
      "126/126 [==============================] - 0s 870us/step - loss: 8.9122 - mae: 8.9122\n",
      "Epoch 190/200\n",
      "126/126 [==============================] - 0s 878us/step - loss: 8.9122 - mae: 8.9122\n",
      "Epoch 191/200\n",
      "126/126 [==============================] - 0s 934us/step - loss: 8.9122 - mae: 8.9122\n",
      "Epoch 192/200\n",
      "126/126 [==============================] - 0s 806us/step - loss: 8.9122 - mae: 8.9122\n",
      "Epoch 193/200\n",
      "126/126 [==============================] - 0s 870us/step - loss: 8.9122 - mae: 8.9122\n",
      "Epoch 194/200\n",
      "126/126 [==============================] - 0s 886us/step - loss: 8.9122 - mae: 8.9122\n",
      "Epoch 195/200\n",
      "126/126 [==============================] - 0s 796us/step - loss: 8.9122 - mae: 8.9122\n",
      "Epoch 196/200\n",
      "126/126 [==============================] - 0s 846us/step - loss: 8.9122 - mae: 8.9122\n",
      "Epoch 197/200\n",
      "126/126 [==============================] - 0s 838us/step - loss: 8.9122 - mae: 8.9122\n",
      "Epoch 198/200\n",
      "126/126 [==============================] - 0s 829us/step - loss: 8.9122 - mae: 8.9122\n",
      "Epoch 199/200\n",
      "126/126 [==============================] - 0s 804us/step - loss: 8.9122 - mae: 8.9122\n",
      "Epoch 200/200\n",
      "126/126 [==============================] - 0s 846us/step - loss: 8.9122 - mae: 8.9122\n"
     ]
    },
    {
     "ename": "AttributeError",
     "evalue": "'Sequential' object has no attribute 'accuracy'",
     "output_type": "error",
     "traceback": [
      "\u001b[1;31m---------------------------------------------------------------------------\u001b[0m",
      "\u001b[1;31mAttributeError\u001b[0m                            Traceback (most recent call last)",
      "\u001b[1;32m<ipython-input-13-2a118219f335>\u001b[0m in \u001b[0;36m<module>\u001b[1;34m\u001b[0m\n\u001b[0;32m      3\u001b[0m \u001b[1;33m\u001b[0m\u001b[0m\n\u001b[0;32m      4\u001b[0m \u001b[1;31m# 결과를 출력합니다.\u001b[0m\u001b[1;33m\u001b[0m\u001b[1;33m\u001b[0m\u001b[1;33m\u001b[0m\u001b[0m\n\u001b[1;32m----> 5\u001b[1;33m \u001b[0mprint\u001b[0m\u001b[1;33m(\u001b[0m\u001b[1;34m\"\\n Accuracy: %.4f\"\u001b[0m \u001b[1;33m%\u001b[0m \u001b[1;33m(\u001b[0m\u001b[0mmodel\u001b[0m\u001b[1;33m.\u001b[0m\u001b[0maccuracy\u001b[0m\u001b[1;33m(\u001b[0m\u001b[0mtrain_x\u001b[0m\u001b[1;33m,\u001b[0m\u001b[0mtrain_y\u001b[0m\u001b[1;33m)\u001b[0m\u001b[1;33m[\u001b[0m\u001b[1;36m1\u001b[0m\u001b[1;33m]\u001b[0m\u001b[1;33m)\u001b[0m\u001b[1;33m)\u001b[0m\u001b[1;33m\u001b[0m\u001b[1;33m\u001b[0m\u001b[0m\n\u001b[0m",
      "\u001b[1;31mAttributeError\u001b[0m: 'Sequential' object has no attribute 'accuracy'"
     ]
    }
   ],
   "source": [
    "# 모델을 실행합니다.\n",
    "model.fit(train_x, train_y, epochs=200, batch_size=10)\n",
    "\n",
    "# 결과를 출력합니다.\n",
    "print(\"\\n Accuracy: %.4f\" % (model.evaluate(train_x,train_y)[1]))"
   ]
  },
  {
   "cell_type": "code",
   "execution_count": null,
   "metadata": {},
   "outputs": [],
   "source": []
  },
  {
   "cell_type": "code",
   "execution_count": null,
   "metadata": {},
   "outputs": [],
   "source": []
  },
  {
   "cell_type": "code",
   "execution_count": 60,
   "metadata": {},
   "outputs": [],
   "source": [
    "from bayes_opt import BayesianOptimization"
   ]
  },
  {
   "cell_type": "code",
   "execution_count": 22,
   "metadata": {},
   "outputs": [],
   "source": [
    "from sklearn.preprocessing import LabelEncoder\n",
    "\n",
    "encoder = LabelEncoder()\n",
    "encoder.fit(train['Gender'])\n",
    "gender_encoded_train = encoder.transform(train['Gender'])\n",
    "gender_encoded_test = encoder.transform(test['Gender'])\n",
    "train['Gender'] = gender_encoded_train\n",
    "test['Gender'] = gender_encoded_test\n",
    "\n",
    "X = train.drop('Target', axis=1)\n",
    "y = train['Target']"
   ]
  },
  {
   "cell_type": "code",
   "execution_count": 65,
   "metadata": {},
   "outputs": [
    {
     "name": "stdout",
     "output_type": "stream",
     "text": [
      "***********1th fold start***********\n",
      "|   iter    |  target   |   gamma   | learni... | max_depth | n_esti... |\n",
      "-------------------------------------------------------------------------\n"
     ]
    },
    {
     "ename": "TypeError",
     "evalue": "'LGBMRegressor' object is not callable",
     "output_type": "error",
     "traceback": [
      "\u001b[1;31m---------------------------------------------------------------------------\u001b[0m",
      "\u001b[1;31mKeyError\u001b[0m                                  Traceback (most recent call last)",
      "\u001b[1;32m~\\anaconda3\\lib\\site-packages\\bayes_opt\\target_space.py\u001b[0m in \u001b[0;36mprobe\u001b[1;34m(self, params)\u001b[0m\n\u001b[0;32m    190\u001b[0m         \u001b[1;32mtry\u001b[0m\u001b[1;33m:\u001b[0m\u001b[1;33m\u001b[0m\u001b[1;33m\u001b[0m\u001b[0m\n\u001b[1;32m--> 191\u001b[1;33m             \u001b[0mtarget\u001b[0m \u001b[1;33m=\u001b[0m \u001b[0mself\u001b[0m\u001b[1;33m.\u001b[0m\u001b[0m_cache\u001b[0m\u001b[1;33m[\u001b[0m\u001b[0m_hashable\u001b[0m\u001b[1;33m(\u001b[0m\u001b[0mx\u001b[0m\u001b[1;33m)\u001b[0m\u001b[1;33m]\u001b[0m\u001b[1;33m\u001b[0m\u001b[1;33m\u001b[0m\u001b[0m\n\u001b[0m\u001b[0;32m    192\u001b[0m         \u001b[1;32mexcept\u001b[0m \u001b[0mKeyError\u001b[0m\u001b[1;33m:\u001b[0m\u001b[1;33m\u001b[0m\u001b[1;33m\u001b[0m\u001b[0m\n",
      "\u001b[1;31mKeyError\u001b[0m: (2.132583393805355, 0.07264709827933052, 3.3143616510863767, 368.5263827221192)",
      "\nDuring handling of the above exception, another exception occurred:\n",
      "\u001b[1;31mTypeError\u001b[0m                                 Traceback (most recent call last)",
      "\u001b[1;32m<ipython-input-65-03e6415400ce>\u001b[0m in \u001b[0;36m<module>\u001b[1;34m\u001b[0m\n\u001b[0;32m     18\u001b[0m         n_estimators=500, random_state=1000, learning_rate=0.2, categorical_feature=[0]), pbounds=pbounds)\n\u001b[0;32m     19\u001b[0m \u001b[1;33m\u001b[0m\u001b[0m\n\u001b[1;32m---> 20\u001b[1;33m     \u001b[0mlgb\u001b[0m\u001b[1;33m.\u001b[0m\u001b[0mmaximize\u001b[0m\u001b[1;33m(\u001b[0m\u001b[0minit_points\u001b[0m\u001b[1;33m=\u001b[0m\u001b[1;36m5\u001b[0m\u001b[1;33m,\u001b[0m \u001b[0mn_iter\u001b[0m\u001b[1;33m=\u001b[0m\u001b[1;36m50\u001b[0m\u001b[1;33m)\u001b[0m\u001b[1;33m\u001b[0m\u001b[1;33m\u001b[0m\u001b[0m\n\u001b[0m\u001b[0;32m     21\u001b[0m \u001b[1;33m\u001b[0m\u001b[0m\n\u001b[0;32m     22\u001b[0m     \u001b[0mpred\u001b[0m \u001b[1;33m=\u001b[0m \u001b[0mlgb\u001b[0m\u001b[1;33m.\u001b[0m\u001b[0mpredict\u001b[0m\u001b[1;33m(\u001b[0m\u001b[0mx_val\u001b[0m\u001b[1;33m)\u001b[0m\u001b[1;33m\u001b[0m\u001b[1;33m\u001b[0m\u001b[0m\n",
      "\u001b[1;32m~\\anaconda3\\lib\\site-packages\\bayes_opt\\bayesian_optimization.py\u001b[0m in \u001b[0;36mmaximize\u001b[1;34m(self, init_points, n_iter, acq, kappa, kappa_decay, kappa_decay_delay, xi, **gp_params)\u001b[0m\n\u001b[0;32m    183\u001b[0m                 \u001b[0miteration\u001b[0m \u001b[1;33m+=\u001b[0m \u001b[1;36m1\u001b[0m\u001b[1;33m\u001b[0m\u001b[1;33m\u001b[0m\u001b[0m\n\u001b[0;32m    184\u001b[0m \u001b[1;33m\u001b[0m\u001b[0m\n\u001b[1;32m--> 185\u001b[1;33m             \u001b[0mself\u001b[0m\u001b[1;33m.\u001b[0m\u001b[0mprobe\u001b[0m\u001b[1;33m(\u001b[0m\u001b[0mx_probe\u001b[0m\u001b[1;33m,\u001b[0m \u001b[0mlazy\u001b[0m\u001b[1;33m=\u001b[0m\u001b[1;32mFalse\u001b[0m\u001b[1;33m)\u001b[0m\u001b[1;33m\u001b[0m\u001b[1;33m\u001b[0m\u001b[0m\n\u001b[0m\u001b[0;32m    186\u001b[0m \u001b[1;33m\u001b[0m\u001b[0m\n\u001b[0;32m    187\u001b[0m             \u001b[1;32mif\u001b[0m \u001b[0mself\u001b[0m\u001b[1;33m.\u001b[0m\u001b[0m_bounds_transformer\u001b[0m\u001b[1;33m:\u001b[0m\u001b[1;33m\u001b[0m\u001b[1;33m\u001b[0m\u001b[0m\n",
      "\u001b[1;32m~\\anaconda3\\lib\\site-packages\\bayes_opt\\bayesian_optimization.py\u001b[0m in \u001b[0;36mprobe\u001b[1;34m(self, params, lazy)\u001b[0m\n\u001b[0;32m    114\u001b[0m             \u001b[0mself\u001b[0m\u001b[1;33m.\u001b[0m\u001b[0m_queue\u001b[0m\u001b[1;33m.\u001b[0m\u001b[0madd\u001b[0m\u001b[1;33m(\u001b[0m\u001b[0mparams\u001b[0m\u001b[1;33m)\u001b[0m\u001b[1;33m\u001b[0m\u001b[1;33m\u001b[0m\u001b[0m\n\u001b[0;32m    115\u001b[0m         \u001b[1;32melse\u001b[0m\u001b[1;33m:\u001b[0m\u001b[1;33m\u001b[0m\u001b[1;33m\u001b[0m\u001b[0m\n\u001b[1;32m--> 116\u001b[1;33m             \u001b[0mself\u001b[0m\u001b[1;33m.\u001b[0m\u001b[0m_space\u001b[0m\u001b[1;33m.\u001b[0m\u001b[0mprobe\u001b[0m\u001b[1;33m(\u001b[0m\u001b[0mparams\u001b[0m\u001b[1;33m)\u001b[0m\u001b[1;33m\u001b[0m\u001b[1;33m\u001b[0m\u001b[0m\n\u001b[0m\u001b[0;32m    117\u001b[0m             \u001b[0mself\u001b[0m\u001b[1;33m.\u001b[0m\u001b[0mdispatch\u001b[0m\u001b[1;33m(\u001b[0m\u001b[0mEvents\u001b[0m\u001b[1;33m.\u001b[0m\u001b[0mOPTIMIZATION_STEP\u001b[0m\u001b[1;33m)\u001b[0m\u001b[1;33m\u001b[0m\u001b[1;33m\u001b[0m\u001b[0m\n\u001b[0;32m    118\u001b[0m \u001b[1;33m\u001b[0m\u001b[0m\n",
      "\u001b[1;32m~\\anaconda3\\lib\\site-packages\\bayes_opt\\target_space.py\u001b[0m in \u001b[0;36mprobe\u001b[1;34m(self, params)\u001b[0m\n\u001b[0;32m    192\u001b[0m         \u001b[1;32mexcept\u001b[0m \u001b[0mKeyError\u001b[0m\u001b[1;33m:\u001b[0m\u001b[1;33m\u001b[0m\u001b[1;33m\u001b[0m\u001b[0m\n\u001b[0;32m    193\u001b[0m             \u001b[0mparams\u001b[0m \u001b[1;33m=\u001b[0m \u001b[0mdict\u001b[0m\u001b[1;33m(\u001b[0m\u001b[0mzip\u001b[0m\u001b[1;33m(\u001b[0m\u001b[0mself\u001b[0m\u001b[1;33m.\u001b[0m\u001b[0m_keys\u001b[0m\u001b[1;33m,\u001b[0m \u001b[0mx\u001b[0m\u001b[1;33m)\u001b[0m\u001b[1;33m)\u001b[0m\u001b[1;33m\u001b[0m\u001b[1;33m\u001b[0m\u001b[0m\n\u001b[1;32m--> 194\u001b[1;33m             \u001b[0mtarget\u001b[0m \u001b[1;33m=\u001b[0m \u001b[0mself\u001b[0m\u001b[1;33m.\u001b[0m\u001b[0mtarget_func\u001b[0m\u001b[1;33m(\u001b[0m\u001b[1;33m**\u001b[0m\u001b[0mparams\u001b[0m\u001b[1;33m)\u001b[0m\u001b[1;33m\u001b[0m\u001b[1;33m\u001b[0m\u001b[0m\n\u001b[0m\u001b[0;32m    195\u001b[0m             \u001b[0mself\u001b[0m\u001b[1;33m.\u001b[0m\u001b[0mregister\u001b[0m\u001b[1;33m(\u001b[0m\u001b[0mx\u001b[0m\u001b[1;33m,\u001b[0m \u001b[0mtarget\u001b[0m\u001b[1;33m)\u001b[0m\u001b[1;33m\u001b[0m\u001b[1;33m\u001b[0m\u001b[0m\n\u001b[0;32m    196\u001b[0m         \u001b[1;32mreturn\u001b[0m \u001b[0mtarget\u001b[0m\u001b[1;33m\u001b[0m\u001b[1;33m\u001b[0m\u001b[0m\n",
      "\u001b[1;31mTypeError\u001b[0m: 'LGBMRegressor' object is not callable"
     ]
    }
   ],
   "source": [
    "from sklearn.model_selection import StratifiedKFold\n",
    "from sklearn.metrics import mean_absolute_error\n",
    "\n",
    "\n",
    "skf = StratifiedKFold(n_splits=15, shuffle=True, random_state=1000)\n",
    "skf.split(X, X['Gender'])\n",
    "\n",
    "pred_list = []\n",
    "mae_list = []\n",
    "\n",
    "for fold,(train_index, val_index) in enumerate(skf.split(X,  X['Gender'])):\n",
    "\n",
    "    print(f'***********{fold+1}th fold start***********')\n",
    "    x_train, x_val, y_train, y_val = X.loc[train_index], X.loc[val_index], y.loc[train_index], y.loc[val_index]\n",
    "\n",
    "    pbounds = {  'learning_rate': (0.01, 1.0),  'n_estimators': (100, 1000), 'max_depth': (3,10), 'gamma': (0, 5)}  \n",
    "    lgb = BayesianOptimization(lightgbm.LGBMRegressor(max_bin = 300, max_depth = 5, num_leaves=32,\n",
    "        n_estimators=500, random_state=1000, learning_rate=0.2, categorical_feature=[0]), pbounds=pbounds)\n",
    "\n",
    "    lgb.maximize(init_points=5, n_iter=50)\n",
    "\n",
    "    pred = lgb.predict(x_val)\n",
    "    result = mean_absolute_error(pred,y_val)\n",
    "    mae_list.append(result)\n",
    "    \n",
    "    pred_test = lgb.predict(test)\n",
    "    pred_list.append(pred_test)\n",
    "    \n",
    "    print(f'mae : {result:.4f}', end='\\n\\n')\n",
    "    \n",
    "print(f'mean mae {np.mean(mae_list):.4f}')"
   ]
  },
  {
   "cell_type": "code",
   "execution_count": 126,
   "metadata": {},
   "outputs": [
    {
     "name": "stdout",
     "output_type": "stream",
     "text": [
      "***********1th fold start***********\n",
      "mae : 1.4586\n",
      "\n",
      "***********2th fold start***********\n",
      "mae : 1.4392\n",
      "\n",
      "***********3th fold start***********\n",
      "mae : 1.4807\n",
      "\n",
      "***********4th fold start***********\n",
      "mae : 1.5597\n",
      "\n",
      "***********5th fold start***********\n",
      "mae : 1.3530\n",
      "\n",
      "***********6th fold start***********\n",
      "mae : 1.4553\n",
      "\n",
      "***********7th fold start***********\n",
      "mae : 1.7350\n",
      "\n",
      "***********8th fold start***********\n",
      "mae : 1.8670\n",
      "\n",
      "***********9th fold start***********\n",
      "mae : 1.8975\n",
      "\n",
      "***********10th fold start***********\n",
      "mae : 1.6651\n",
      "\n",
      "***********11th fold start***********\n",
      "mae : 1.5729\n",
      "\n",
      "***********12th fold start***********\n",
      "mae : 1.7321\n",
      "\n",
      "***********13th fold start***********\n",
      "mae : 1.7785\n",
      "\n",
      "***********14th fold start***********\n",
      "mae : 1.5123\n",
      "\n",
      "***********15th fold start***********\n",
      "mae : 1.5549\n",
      "\n",
      "***********16th fold start***********\n",
      "mae : 1.2290\n",
      "\n",
      "***********17th fold start***********\n",
      "mae : 1.2712\n",
      "\n",
      "***********18th fold start***********\n",
      "mae : 1.4958\n",
      "\n",
      "***********19th fold start***********\n",
      "mae : 1.4530\n",
      "\n",
      "***********20th fold start***********\n",
      "mae : 1.3877\n",
      "\n",
      "mean mae 1.5449\n"
     ]
    }
   ],
   "source": [
    "from sklearn.model_selection import StratifiedKFold\n",
    "from sklearn.metrics import mean_absolute_error\n",
    "\n",
    "\n",
    "skf = StratifiedKFold(n_splits=20, shuffle=True, random_state=1000)\n",
    "skf.split(X, X['Gender'])\n",
    "\n",
    "pred_list = []\n",
    "mae_list = []\n",
    "\n",
    "for fold,(train_index, val_index) in enumerate(skf.split(X,  X['Gender'])):\n",
    "\n",
    "    print(f'***********{fold+1}th fold start***********')\n",
    "    x_train, x_val, y_train, y_val = X.loc[train_index], X.loc[val_index], y.loc[train_index], y.loc[val_index]\n",
    "\n",
    "     \n",
    "    lgb = lightgbm.LGBMRegressor(boosting_type='gbdt', max_bin = 300, max_depth = 5, num_leaves=32,\n",
    "        n_estimators=40, random_state=1000, learning_rate=0.2, categorical_feature=[0])\n",
    "\n",
    "    lgb.fit(x_train, y_train,\n",
    "            eval_set=(x_val,y_val),\n",
    "            eval_metric='l1', verbose=False, early_stopping_rounds=50)\n",
    "\n",
    "    pred = lgb.predict(x_val)\n",
    "    result = mean_absolute_error(pred,y_val)\n",
    "    mae_list.append(result)\n",
    "    \n",
    "    pred_test = lgb.predict(test)\n",
    "    pred_list.append(pred_test)\n",
    "    \n",
    "    print(f'mae : {result:.4f}', end='\\n\\n')\n",
    "    \n",
    "print(f'mean mae {np.mean(mae_list):.4f}')"
   ]
  },
  {
   "cell_type": "code",
   "execution_count": 30,
   "metadata": {},
   "outputs": [
    {
     "data": {
      "text/plain": [
       "[array([ 8.17611924, 12.83489144,  6.03524088, ...,  9.70506153,\n",
       "         9.21194556, 11.52044295]),\n",
       " array([ 8.75130008, 12.37807675,  6.33010709, ...,  9.1242709 ,\n",
       "        10.11032559, 11.35994508]),\n",
       " array([ 8.64260745, 12.65807181,  6.00547175, ...,  9.50304843,\n",
       "        10.20180093, 11.05835792]),\n",
       " array([ 8.58921059, 12.35118494,  6.15160702, ...,  9.32139287,\n",
       "         9.92594337, 11.40955843]),\n",
       " array([ 9.07852946, 12.46337855,  5.65426688, ...,  9.64886549,\n",
       "         9.96099416, 10.86420339]),\n",
       " array([ 8.57864842, 12.93116895,  6.0755026 , ...,  9.56522548,\n",
       "         9.53377307, 11.64208026]),\n",
       " array([ 8.5477902 , 13.01678266,  6.15259871, ...,  9.22649429,\n",
       "         9.92285491, 11.15622056]),\n",
       " array([ 8.87747945, 11.90581532,  5.95105121, ...,  9.01586599,\n",
       "        10.43730887, 11.66971735]),\n",
       " array([ 8.83184331, 12.59940465,  6.13336987, ...,  9.04234691,\n",
       "        10.14482433, 11.04763702]),\n",
       " array([ 9.03915376, 13.07825595,  5.90545543, ...,  9.56109023,\n",
       "        10.11426189, 11.70678696]),\n",
       " array([ 8.9691389 , 12.54289079,  6.25056766, ...,  9.33400123,\n",
       "         9.92486239, 10.92940532]),\n",
       " array([ 8.74167351, 12.48591026,  6.18202269, ...,  9.26249773,\n",
       "        10.0218651 , 11.11869826]),\n",
       " array([ 8.85970661, 12.42779322,  6.2408978 , ...,  9.73669928,\n",
       "        10.41181315, 11.16719922]),\n",
       " array([ 9.06891544, 12.91517228,  5.8486311 , ...,  9.65920923,\n",
       "        10.51105001, 10.69532109]),\n",
       " array([ 8.87082252, 12.03526482,  5.64943106, ...,  9.83299103,\n",
       "        10.0532217 , 11.31594548])]"
      ]
     },
     "execution_count": 30,
     "metadata": {},
     "output_type": "execute_result"
    }
   ],
   "source": [
    "pred_list"
   ]
  },
  {
   "cell_type": "code",
   "execution_count": 73,
   "metadata": {},
   "outputs": [
    {
     "data": {
      "text/plain": [
       "64"
      ]
     },
     "execution_count": 73,
     "metadata": {},
     "output_type": "execute_result"
    }
   ],
   "source": [
    "2**6"
   ]
  },
  {
   "cell_type": "code",
   "execution_count": 3,
   "metadata": {},
   "outputs": [],
   "source": [
    "from pycaret.regression import *"
   ]
  },
  {
   "cell_type": "code",
   "execution_count": 11,
   "metadata": {},
   "outputs": [
    {
     "data": {
      "text/html": [
       "<style  type=\"text/css\" >\n",
       "#T_cc97c226_aa7e_11ec_ba9f_7085c2294e08row42_col1{\n",
       "            background-color:  lightgreen;\n",
       "        }</style><table id=\"T_cc97c226_aa7e_11ec_ba9f_7085c2294e08\" ><thead>    <tr>        <th class=\"blank level0\" ></th>        <th class=\"col_heading level0 col0\" >Description</th>        <th class=\"col_heading level0 col1\" >Value</th>    </tr></thead><tbody>\n",
       "                <tr>\n",
       "                        <th id=\"T_cc97c226_aa7e_11ec_ba9f_7085c2294e08level0_row0\" class=\"row_heading level0 row0\" >0</th>\n",
       "                        <td id=\"T_cc97c226_aa7e_11ec_ba9f_7085c2294e08row0_col0\" class=\"data row0 col0\" >session_id</td>\n",
       "                        <td id=\"T_cc97c226_aa7e_11ec_ba9f_7085c2294e08row0_col1\" class=\"data row0 col1\" >5514</td>\n",
       "            </tr>\n",
       "            <tr>\n",
       "                        <th id=\"T_cc97c226_aa7e_11ec_ba9f_7085c2294e08level0_row1\" class=\"row_heading level0 row1\" >1</th>\n",
       "                        <td id=\"T_cc97c226_aa7e_11ec_ba9f_7085c2294e08row1_col0\" class=\"data row1 col0\" >Target</td>\n",
       "                        <td id=\"T_cc97c226_aa7e_11ec_ba9f_7085c2294e08row1_col1\" class=\"data row1 col1\" >Target</td>\n",
       "            </tr>\n",
       "            <tr>\n",
       "                        <th id=\"T_cc97c226_aa7e_11ec_ba9f_7085c2294e08level0_row2\" class=\"row_heading level0 row2\" >2</th>\n",
       "                        <td id=\"T_cc97c226_aa7e_11ec_ba9f_7085c2294e08row2_col0\" class=\"data row2 col0\" >Original Data</td>\n",
       "                        <td id=\"T_cc97c226_aa7e_11ec_ba9f_7085c2294e08row2_col1\" class=\"data row2 col1\" >(1253, 10)</td>\n",
       "            </tr>\n",
       "            <tr>\n",
       "                        <th id=\"T_cc97c226_aa7e_11ec_ba9f_7085c2294e08level0_row3\" class=\"row_heading level0 row3\" >3</th>\n",
       "                        <td id=\"T_cc97c226_aa7e_11ec_ba9f_7085c2294e08row3_col0\" class=\"data row3 col0\" >Missing Values</td>\n",
       "                        <td id=\"T_cc97c226_aa7e_11ec_ba9f_7085c2294e08row3_col1\" class=\"data row3 col1\" >False</td>\n",
       "            </tr>\n",
       "            <tr>\n",
       "                        <th id=\"T_cc97c226_aa7e_11ec_ba9f_7085c2294e08level0_row4\" class=\"row_heading level0 row4\" >4</th>\n",
       "                        <td id=\"T_cc97c226_aa7e_11ec_ba9f_7085c2294e08row4_col0\" class=\"data row4 col0\" >Numeric Features</td>\n",
       "                        <td id=\"T_cc97c226_aa7e_11ec_ba9f_7085c2294e08row4_col1\" class=\"data row4 col1\" >8</td>\n",
       "            </tr>\n",
       "            <tr>\n",
       "                        <th id=\"T_cc97c226_aa7e_11ec_ba9f_7085c2294e08level0_row5\" class=\"row_heading level0 row5\" >5</th>\n",
       "                        <td id=\"T_cc97c226_aa7e_11ec_ba9f_7085c2294e08row5_col0\" class=\"data row5 col0\" >Categorical Features</td>\n",
       "                        <td id=\"T_cc97c226_aa7e_11ec_ba9f_7085c2294e08row5_col1\" class=\"data row5 col1\" >1</td>\n",
       "            </tr>\n",
       "            <tr>\n",
       "                        <th id=\"T_cc97c226_aa7e_11ec_ba9f_7085c2294e08level0_row6\" class=\"row_heading level0 row6\" >6</th>\n",
       "                        <td id=\"T_cc97c226_aa7e_11ec_ba9f_7085c2294e08row6_col0\" class=\"data row6 col0\" >Ordinal Features</td>\n",
       "                        <td id=\"T_cc97c226_aa7e_11ec_ba9f_7085c2294e08row6_col1\" class=\"data row6 col1\" >False</td>\n",
       "            </tr>\n",
       "            <tr>\n",
       "                        <th id=\"T_cc97c226_aa7e_11ec_ba9f_7085c2294e08level0_row7\" class=\"row_heading level0 row7\" >7</th>\n",
       "                        <td id=\"T_cc97c226_aa7e_11ec_ba9f_7085c2294e08row7_col0\" class=\"data row7 col0\" >High Cardinality Features</td>\n",
       "                        <td id=\"T_cc97c226_aa7e_11ec_ba9f_7085c2294e08row7_col1\" class=\"data row7 col1\" >False</td>\n",
       "            </tr>\n",
       "            <tr>\n",
       "                        <th id=\"T_cc97c226_aa7e_11ec_ba9f_7085c2294e08level0_row8\" class=\"row_heading level0 row8\" >8</th>\n",
       "                        <td id=\"T_cc97c226_aa7e_11ec_ba9f_7085c2294e08row8_col0\" class=\"data row8 col0\" >High Cardinality Method</td>\n",
       "                        <td id=\"T_cc97c226_aa7e_11ec_ba9f_7085c2294e08row8_col1\" class=\"data row8 col1\" >None</td>\n",
       "            </tr>\n",
       "            <tr>\n",
       "                        <th id=\"T_cc97c226_aa7e_11ec_ba9f_7085c2294e08level0_row9\" class=\"row_heading level0 row9\" >9</th>\n",
       "                        <td id=\"T_cc97c226_aa7e_11ec_ba9f_7085c2294e08row9_col0\" class=\"data row9 col0\" >Transformed Train Set</td>\n",
       "                        <td id=\"T_cc97c226_aa7e_11ec_ba9f_7085c2294e08row9_col1\" class=\"data row9 col1\" >(877, 10)</td>\n",
       "            </tr>\n",
       "            <tr>\n",
       "                        <th id=\"T_cc97c226_aa7e_11ec_ba9f_7085c2294e08level0_row10\" class=\"row_heading level0 row10\" >10</th>\n",
       "                        <td id=\"T_cc97c226_aa7e_11ec_ba9f_7085c2294e08row10_col0\" class=\"data row10 col0\" >Transformed Test Set</td>\n",
       "                        <td id=\"T_cc97c226_aa7e_11ec_ba9f_7085c2294e08row10_col1\" class=\"data row10 col1\" >(376, 10)</td>\n",
       "            </tr>\n",
       "            <tr>\n",
       "                        <th id=\"T_cc97c226_aa7e_11ec_ba9f_7085c2294e08level0_row11\" class=\"row_heading level0 row11\" >11</th>\n",
       "                        <td id=\"T_cc97c226_aa7e_11ec_ba9f_7085c2294e08row11_col0\" class=\"data row11 col0\" >Shuffle Train-Test</td>\n",
       "                        <td id=\"T_cc97c226_aa7e_11ec_ba9f_7085c2294e08row11_col1\" class=\"data row11 col1\" >True</td>\n",
       "            </tr>\n",
       "            <tr>\n",
       "                        <th id=\"T_cc97c226_aa7e_11ec_ba9f_7085c2294e08level0_row12\" class=\"row_heading level0 row12\" >12</th>\n",
       "                        <td id=\"T_cc97c226_aa7e_11ec_ba9f_7085c2294e08row12_col0\" class=\"data row12 col0\" >Stratify Train-Test</td>\n",
       "                        <td id=\"T_cc97c226_aa7e_11ec_ba9f_7085c2294e08row12_col1\" class=\"data row12 col1\" >False</td>\n",
       "            </tr>\n",
       "            <tr>\n",
       "                        <th id=\"T_cc97c226_aa7e_11ec_ba9f_7085c2294e08level0_row13\" class=\"row_heading level0 row13\" >13</th>\n",
       "                        <td id=\"T_cc97c226_aa7e_11ec_ba9f_7085c2294e08row13_col0\" class=\"data row13 col0\" >Fold Generator</td>\n",
       "                        <td id=\"T_cc97c226_aa7e_11ec_ba9f_7085c2294e08row13_col1\" class=\"data row13 col1\" >KFold</td>\n",
       "            </tr>\n",
       "            <tr>\n",
       "                        <th id=\"T_cc97c226_aa7e_11ec_ba9f_7085c2294e08level0_row14\" class=\"row_heading level0 row14\" >14</th>\n",
       "                        <td id=\"T_cc97c226_aa7e_11ec_ba9f_7085c2294e08row14_col0\" class=\"data row14 col0\" >Fold Number</td>\n",
       "                        <td id=\"T_cc97c226_aa7e_11ec_ba9f_7085c2294e08row14_col1\" class=\"data row14 col1\" >5</td>\n",
       "            </tr>\n",
       "            <tr>\n",
       "                        <th id=\"T_cc97c226_aa7e_11ec_ba9f_7085c2294e08level0_row15\" class=\"row_heading level0 row15\" >15</th>\n",
       "                        <td id=\"T_cc97c226_aa7e_11ec_ba9f_7085c2294e08row15_col0\" class=\"data row15 col0\" >CPU Jobs</td>\n",
       "                        <td id=\"T_cc97c226_aa7e_11ec_ba9f_7085c2294e08row15_col1\" class=\"data row15 col1\" >-1</td>\n",
       "            </tr>\n",
       "            <tr>\n",
       "                        <th id=\"T_cc97c226_aa7e_11ec_ba9f_7085c2294e08level0_row16\" class=\"row_heading level0 row16\" >16</th>\n",
       "                        <td id=\"T_cc97c226_aa7e_11ec_ba9f_7085c2294e08row16_col0\" class=\"data row16 col0\" >Use GPU</td>\n",
       "                        <td id=\"T_cc97c226_aa7e_11ec_ba9f_7085c2294e08row16_col1\" class=\"data row16 col1\" >False</td>\n",
       "            </tr>\n",
       "            <tr>\n",
       "                        <th id=\"T_cc97c226_aa7e_11ec_ba9f_7085c2294e08level0_row17\" class=\"row_heading level0 row17\" >17</th>\n",
       "                        <td id=\"T_cc97c226_aa7e_11ec_ba9f_7085c2294e08row17_col0\" class=\"data row17 col0\" >Log Experiment</td>\n",
       "                        <td id=\"T_cc97c226_aa7e_11ec_ba9f_7085c2294e08row17_col1\" class=\"data row17 col1\" >False</td>\n",
       "            </tr>\n",
       "            <tr>\n",
       "                        <th id=\"T_cc97c226_aa7e_11ec_ba9f_7085c2294e08level0_row18\" class=\"row_heading level0 row18\" >18</th>\n",
       "                        <td id=\"T_cc97c226_aa7e_11ec_ba9f_7085c2294e08row18_col0\" class=\"data row18 col0\" >Experiment Name</td>\n",
       "                        <td id=\"T_cc97c226_aa7e_11ec_ba9f_7085c2294e08row18_col1\" class=\"data row18 col1\" >reg-default-name</td>\n",
       "            </tr>\n",
       "            <tr>\n",
       "                        <th id=\"T_cc97c226_aa7e_11ec_ba9f_7085c2294e08level0_row19\" class=\"row_heading level0 row19\" >19</th>\n",
       "                        <td id=\"T_cc97c226_aa7e_11ec_ba9f_7085c2294e08row19_col0\" class=\"data row19 col0\" >USI</td>\n",
       "                        <td id=\"T_cc97c226_aa7e_11ec_ba9f_7085c2294e08row19_col1\" class=\"data row19 col1\" >16b3</td>\n",
       "            </tr>\n",
       "            <tr>\n",
       "                        <th id=\"T_cc97c226_aa7e_11ec_ba9f_7085c2294e08level0_row20\" class=\"row_heading level0 row20\" >20</th>\n",
       "                        <td id=\"T_cc97c226_aa7e_11ec_ba9f_7085c2294e08row20_col0\" class=\"data row20 col0\" >Imputation Type</td>\n",
       "                        <td id=\"T_cc97c226_aa7e_11ec_ba9f_7085c2294e08row20_col1\" class=\"data row20 col1\" >simple</td>\n",
       "            </tr>\n",
       "            <tr>\n",
       "                        <th id=\"T_cc97c226_aa7e_11ec_ba9f_7085c2294e08level0_row21\" class=\"row_heading level0 row21\" >21</th>\n",
       "                        <td id=\"T_cc97c226_aa7e_11ec_ba9f_7085c2294e08row21_col0\" class=\"data row21 col0\" >Iterative Imputation Iteration</td>\n",
       "                        <td id=\"T_cc97c226_aa7e_11ec_ba9f_7085c2294e08row21_col1\" class=\"data row21 col1\" >None</td>\n",
       "            </tr>\n",
       "            <tr>\n",
       "                        <th id=\"T_cc97c226_aa7e_11ec_ba9f_7085c2294e08level0_row22\" class=\"row_heading level0 row22\" >22</th>\n",
       "                        <td id=\"T_cc97c226_aa7e_11ec_ba9f_7085c2294e08row22_col0\" class=\"data row22 col0\" >Numeric Imputer</td>\n",
       "                        <td id=\"T_cc97c226_aa7e_11ec_ba9f_7085c2294e08row22_col1\" class=\"data row22 col1\" >mean</td>\n",
       "            </tr>\n",
       "            <tr>\n",
       "                        <th id=\"T_cc97c226_aa7e_11ec_ba9f_7085c2294e08level0_row23\" class=\"row_heading level0 row23\" >23</th>\n",
       "                        <td id=\"T_cc97c226_aa7e_11ec_ba9f_7085c2294e08row23_col0\" class=\"data row23 col0\" >Iterative Imputation Numeric Model</td>\n",
       "                        <td id=\"T_cc97c226_aa7e_11ec_ba9f_7085c2294e08row23_col1\" class=\"data row23 col1\" >None</td>\n",
       "            </tr>\n",
       "            <tr>\n",
       "                        <th id=\"T_cc97c226_aa7e_11ec_ba9f_7085c2294e08level0_row24\" class=\"row_heading level0 row24\" >24</th>\n",
       "                        <td id=\"T_cc97c226_aa7e_11ec_ba9f_7085c2294e08row24_col0\" class=\"data row24 col0\" >Categorical Imputer</td>\n",
       "                        <td id=\"T_cc97c226_aa7e_11ec_ba9f_7085c2294e08row24_col1\" class=\"data row24 col1\" >constant</td>\n",
       "            </tr>\n",
       "            <tr>\n",
       "                        <th id=\"T_cc97c226_aa7e_11ec_ba9f_7085c2294e08level0_row25\" class=\"row_heading level0 row25\" >25</th>\n",
       "                        <td id=\"T_cc97c226_aa7e_11ec_ba9f_7085c2294e08row25_col0\" class=\"data row25 col0\" >Iterative Imputation Categorical Model</td>\n",
       "                        <td id=\"T_cc97c226_aa7e_11ec_ba9f_7085c2294e08row25_col1\" class=\"data row25 col1\" >None</td>\n",
       "            </tr>\n",
       "            <tr>\n",
       "                        <th id=\"T_cc97c226_aa7e_11ec_ba9f_7085c2294e08level0_row26\" class=\"row_heading level0 row26\" >26</th>\n",
       "                        <td id=\"T_cc97c226_aa7e_11ec_ba9f_7085c2294e08row26_col0\" class=\"data row26 col0\" >Unknown Categoricals Handling</td>\n",
       "                        <td id=\"T_cc97c226_aa7e_11ec_ba9f_7085c2294e08row26_col1\" class=\"data row26 col1\" >least_frequent</td>\n",
       "            </tr>\n",
       "            <tr>\n",
       "                        <th id=\"T_cc97c226_aa7e_11ec_ba9f_7085c2294e08level0_row27\" class=\"row_heading level0 row27\" >27</th>\n",
       "                        <td id=\"T_cc97c226_aa7e_11ec_ba9f_7085c2294e08row27_col0\" class=\"data row27 col0\" >Normalize</td>\n",
       "                        <td id=\"T_cc97c226_aa7e_11ec_ba9f_7085c2294e08row27_col1\" class=\"data row27 col1\" >False</td>\n",
       "            </tr>\n",
       "            <tr>\n",
       "                        <th id=\"T_cc97c226_aa7e_11ec_ba9f_7085c2294e08level0_row28\" class=\"row_heading level0 row28\" >28</th>\n",
       "                        <td id=\"T_cc97c226_aa7e_11ec_ba9f_7085c2294e08row28_col0\" class=\"data row28 col0\" >Normalize Method</td>\n",
       "                        <td id=\"T_cc97c226_aa7e_11ec_ba9f_7085c2294e08row28_col1\" class=\"data row28 col1\" >None</td>\n",
       "            </tr>\n",
       "            <tr>\n",
       "                        <th id=\"T_cc97c226_aa7e_11ec_ba9f_7085c2294e08level0_row29\" class=\"row_heading level0 row29\" >29</th>\n",
       "                        <td id=\"T_cc97c226_aa7e_11ec_ba9f_7085c2294e08row29_col0\" class=\"data row29 col0\" >Transformation</td>\n",
       "                        <td id=\"T_cc97c226_aa7e_11ec_ba9f_7085c2294e08row29_col1\" class=\"data row29 col1\" >False</td>\n",
       "            </tr>\n",
       "            <tr>\n",
       "                        <th id=\"T_cc97c226_aa7e_11ec_ba9f_7085c2294e08level0_row30\" class=\"row_heading level0 row30\" >30</th>\n",
       "                        <td id=\"T_cc97c226_aa7e_11ec_ba9f_7085c2294e08row30_col0\" class=\"data row30 col0\" >Transformation Method</td>\n",
       "                        <td id=\"T_cc97c226_aa7e_11ec_ba9f_7085c2294e08row30_col1\" class=\"data row30 col1\" >None</td>\n",
       "            </tr>\n",
       "            <tr>\n",
       "                        <th id=\"T_cc97c226_aa7e_11ec_ba9f_7085c2294e08level0_row31\" class=\"row_heading level0 row31\" >31</th>\n",
       "                        <td id=\"T_cc97c226_aa7e_11ec_ba9f_7085c2294e08row31_col0\" class=\"data row31 col0\" >PCA</td>\n",
       "                        <td id=\"T_cc97c226_aa7e_11ec_ba9f_7085c2294e08row31_col1\" class=\"data row31 col1\" >False</td>\n",
       "            </tr>\n",
       "            <tr>\n",
       "                        <th id=\"T_cc97c226_aa7e_11ec_ba9f_7085c2294e08level0_row32\" class=\"row_heading level0 row32\" >32</th>\n",
       "                        <td id=\"T_cc97c226_aa7e_11ec_ba9f_7085c2294e08row32_col0\" class=\"data row32 col0\" >PCA Method</td>\n",
       "                        <td id=\"T_cc97c226_aa7e_11ec_ba9f_7085c2294e08row32_col1\" class=\"data row32 col1\" >None</td>\n",
       "            </tr>\n",
       "            <tr>\n",
       "                        <th id=\"T_cc97c226_aa7e_11ec_ba9f_7085c2294e08level0_row33\" class=\"row_heading level0 row33\" >33</th>\n",
       "                        <td id=\"T_cc97c226_aa7e_11ec_ba9f_7085c2294e08row33_col0\" class=\"data row33 col0\" >PCA Components</td>\n",
       "                        <td id=\"T_cc97c226_aa7e_11ec_ba9f_7085c2294e08row33_col1\" class=\"data row33 col1\" >None</td>\n",
       "            </tr>\n",
       "            <tr>\n",
       "                        <th id=\"T_cc97c226_aa7e_11ec_ba9f_7085c2294e08level0_row34\" class=\"row_heading level0 row34\" >34</th>\n",
       "                        <td id=\"T_cc97c226_aa7e_11ec_ba9f_7085c2294e08row34_col0\" class=\"data row34 col0\" >Ignore Low Variance</td>\n",
       "                        <td id=\"T_cc97c226_aa7e_11ec_ba9f_7085c2294e08row34_col1\" class=\"data row34 col1\" >False</td>\n",
       "            </tr>\n",
       "            <tr>\n",
       "                        <th id=\"T_cc97c226_aa7e_11ec_ba9f_7085c2294e08level0_row35\" class=\"row_heading level0 row35\" >35</th>\n",
       "                        <td id=\"T_cc97c226_aa7e_11ec_ba9f_7085c2294e08row35_col0\" class=\"data row35 col0\" >Combine Rare Levels</td>\n",
       "                        <td id=\"T_cc97c226_aa7e_11ec_ba9f_7085c2294e08row35_col1\" class=\"data row35 col1\" >False</td>\n",
       "            </tr>\n",
       "            <tr>\n",
       "                        <th id=\"T_cc97c226_aa7e_11ec_ba9f_7085c2294e08level0_row36\" class=\"row_heading level0 row36\" >36</th>\n",
       "                        <td id=\"T_cc97c226_aa7e_11ec_ba9f_7085c2294e08row36_col0\" class=\"data row36 col0\" >Rare Level Threshold</td>\n",
       "                        <td id=\"T_cc97c226_aa7e_11ec_ba9f_7085c2294e08row36_col1\" class=\"data row36 col1\" >None</td>\n",
       "            </tr>\n",
       "            <tr>\n",
       "                        <th id=\"T_cc97c226_aa7e_11ec_ba9f_7085c2294e08level0_row37\" class=\"row_heading level0 row37\" >37</th>\n",
       "                        <td id=\"T_cc97c226_aa7e_11ec_ba9f_7085c2294e08row37_col0\" class=\"data row37 col0\" >Numeric Binning</td>\n",
       "                        <td id=\"T_cc97c226_aa7e_11ec_ba9f_7085c2294e08row37_col1\" class=\"data row37 col1\" >False</td>\n",
       "            </tr>\n",
       "            <tr>\n",
       "                        <th id=\"T_cc97c226_aa7e_11ec_ba9f_7085c2294e08level0_row38\" class=\"row_heading level0 row38\" >38</th>\n",
       "                        <td id=\"T_cc97c226_aa7e_11ec_ba9f_7085c2294e08row38_col0\" class=\"data row38 col0\" >Remove Outliers</td>\n",
       "                        <td id=\"T_cc97c226_aa7e_11ec_ba9f_7085c2294e08row38_col1\" class=\"data row38 col1\" >False</td>\n",
       "            </tr>\n",
       "            <tr>\n",
       "                        <th id=\"T_cc97c226_aa7e_11ec_ba9f_7085c2294e08level0_row39\" class=\"row_heading level0 row39\" >39</th>\n",
       "                        <td id=\"T_cc97c226_aa7e_11ec_ba9f_7085c2294e08row39_col0\" class=\"data row39 col0\" >Outliers Threshold</td>\n",
       "                        <td id=\"T_cc97c226_aa7e_11ec_ba9f_7085c2294e08row39_col1\" class=\"data row39 col1\" >None</td>\n",
       "            </tr>\n",
       "            <tr>\n",
       "                        <th id=\"T_cc97c226_aa7e_11ec_ba9f_7085c2294e08level0_row40\" class=\"row_heading level0 row40\" >40</th>\n",
       "                        <td id=\"T_cc97c226_aa7e_11ec_ba9f_7085c2294e08row40_col0\" class=\"data row40 col0\" >Remove Multicollinearity</td>\n",
       "                        <td id=\"T_cc97c226_aa7e_11ec_ba9f_7085c2294e08row40_col1\" class=\"data row40 col1\" >False</td>\n",
       "            </tr>\n",
       "            <tr>\n",
       "                        <th id=\"T_cc97c226_aa7e_11ec_ba9f_7085c2294e08level0_row41\" class=\"row_heading level0 row41\" >41</th>\n",
       "                        <td id=\"T_cc97c226_aa7e_11ec_ba9f_7085c2294e08row41_col0\" class=\"data row41 col0\" >Multicollinearity Threshold</td>\n",
       "                        <td id=\"T_cc97c226_aa7e_11ec_ba9f_7085c2294e08row41_col1\" class=\"data row41 col1\" >None</td>\n",
       "            </tr>\n",
       "            <tr>\n",
       "                        <th id=\"T_cc97c226_aa7e_11ec_ba9f_7085c2294e08level0_row42\" class=\"row_heading level0 row42\" >42</th>\n",
       "                        <td id=\"T_cc97c226_aa7e_11ec_ba9f_7085c2294e08row42_col0\" class=\"data row42 col0\" >Remove Perfect Collinearity</td>\n",
       "                        <td id=\"T_cc97c226_aa7e_11ec_ba9f_7085c2294e08row42_col1\" class=\"data row42 col1\" >True</td>\n",
       "            </tr>\n",
       "            <tr>\n",
       "                        <th id=\"T_cc97c226_aa7e_11ec_ba9f_7085c2294e08level0_row43\" class=\"row_heading level0 row43\" >43</th>\n",
       "                        <td id=\"T_cc97c226_aa7e_11ec_ba9f_7085c2294e08row43_col0\" class=\"data row43 col0\" >Clustering</td>\n",
       "                        <td id=\"T_cc97c226_aa7e_11ec_ba9f_7085c2294e08row43_col1\" class=\"data row43 col1\" >False</td>\n",
       "            </tr>\n",
       "            <tr>\n",
       "                        <th id=\"T_cc97c226_aa7e_11ec_ba9f_7085c2294e08level0_row44\" class=\"row_heading level0 row44\" >44</th>\n",
       "                        <td id=\"T_cc97c226_aa7e_11ec_ba9f_7085c2294e08row44_col0\" class=\"data row44 col0\" >Clustering Iteration</td>\n",
       "                        <td id=\"T_cc97c226_aa7e_11ec_ba9f_7085c2294e08row44_col1\" class=\"data row44 col1\" >None</td>\n",
       "            </tr>\n",
       "            <tr>\n",
       "                        <th id=\"T_cc97c226_aa7e_11ec_ba9f_7085c2294e08level0_row45\" class=\"row_heading level0 row45\" >45</th>\n",
       "                        <td id=\"T_cc97c226_aa7e_11ec_ba9f_7085c2294e08row45_col0\" class=\"data row45 col0\" >Polynomial Features</td>\n",
       "                        <td id=\"T_cc97c226_aa7e_11ec_ba9f_7085c2294e08row45_col1\" class=\"data row45 col1\" >False</td>\n",
       "            </tr>\n",
       "            <tr>\n",
       "                        <th id=\"T_cc97c226_aa7e_11ec_ba9f_7085c2294e08level0_row46\" class=\"row_heading level0 row46\" >46</th>\n",
       "                        <td id=\"T_cc97c226_aa7e_11ec_ba9f_7085c2294e08row46_col0\" class=\"data row46 col0\" >Polynomial Degree</td>\n",
       "                        <td id=\"T_cc97c226_aa7e_11ec_ba9f_7085c2294e08row46_col1\" class=\"data row46 col1\" >None</td>\n",
       "            </tr>\n",
       "            <tr>\n",
       "                        <th id=\"T_cc97c226_aa7e_11ec_ba9f_7085c2294e08level0_row47\" class=\"row_heading level0 row47\" >47</th>\n",
       "                        <td id=\"T_cc97c226_aa7e_11ec_ba9f_7085c2294e08row47_col0\" class=\"data row47 col0\" >Trignometry Features</td>\n",
       "                        <td id=\"T_cc97c226_aa7e_11ec_ba9f_7085c2294e08row47_col1\" class=\"data row47 col1\" >False</td>\n",
       "            </tr>\n",
       "            <tr>\n",
       "                        <th id=\"T_cc97c226_aa7e_11ec_ba9f_7085c2294e08level0_row48\" class=\"row_heading level0 row48\" >48</th>\n",
       "                        <td id=\"T_cc97c226_aa7e_11ec_ba9f_7085c2294e08row48_col0\" class=\"data row48 col0\" >Polynomial Threshold</td>\n",
       "                        <td id=\"T_cc97c226_aa7e_11ec_ba9f_7085c2294e08row48_col1\" class=\"data row48 col1\" >None</td>\n",
       "            </tr>\n",
       "            <tr>\n",
       "                        <th id=\"T_cc97c226_aa7e_11ec_ba9f_7085c2294e08level0_row49\" class=\"row_heading level0 row49\" >49</th>\n",
       "                        <td id=\"T_cc97c226_aa7e_11ec_ba9f_7085c2294e08row49_col0\" class=\"data row49 col0\" >Group Features</td>\n",
       "                        <td id=\"T_cc97c226_aa7e_11ec_ba9f_7085c2294e08row49_col1\" class=\"data row49 col1\" >False</td>\n",
       "            </tr>\n",
       "            <tr>\n",
       "                        <th id=\"T_cc97c226_aa7e_11ec_ba9f_7085c2294e08level0_row50\" class=\"row_heading level0 row50\" >50</th>\n",
       "                        <td id=\"T_cc97c226_aa7e_11ec_ba9f_7085c2294e08row50_col0\" class=\"data row50 col0\" >Feature Selection</td>\n",
       "                        <td id=\"T_cc97c226_aa7e_11ec_ba9f_7085c2294e08row50_col1\" class=\"data row50 col1\" >False</td>\n",
       "            </tr>\n",
       "            <tr>\n",
       "                        <th id=\"T_cc97c226_aa7e_11ec_ba9f_7085c2294e08level0_row51\" class=\"row_heading level0 row51\" >51</th>\n",
       "                        <td id=\"T_cc97c226_aa7e_11ec_ba9f_7085c2294e08row51_col0\" class=\"data row51 col0\" >Feature Selection Method</td>\n",
       "                        <td id=\"T_cc97c226_aa7e_11ec_ba9f_7085c2294e08row51_col1\" class=\"data row51 col1\" >classic</td>\n",
       "            </tr>\n",
       "            <tr>\n",
       "                        <th id=\"T_cc97c226_aa7e_11ec_ba9f_7085c2294e08level0_row52\" class=\"row_heading level0 row52\" >52</th>\n",
       "                        <td id=\"T_cc97c226_aa7e_11ec_ba9f_7085c2294e08row52_col0\" class=\"data row52 col0\" >Features Selection Threshold</td>\n",
       "                        <td id=\"T_cc97c226_aa7e_11ec_ba9f_7085c2294e08row52_col1\" class=\"data row52 col1\" >None</td>\n",
       "            </tr>\n",
       "            <tr>\n",
       "                        <th id=\"T_cc97c226_aa7e_11ec_ba9f_7085c2294e08level0_row53\" class=\"row_heading level0 row53\" >53</th>\n",
       "                        <td id=\"T_cc97c226_aa7e_11ec_ba9f_7085c2294e08row53_col0\" class=\"data row53 col0\" >Feature Interaction</td>\n",
       "                        <td id=\"T_cc97c226_aa7e_11ec_ba9f_7085c2294e08row53_col1\" class=\"data row53 col1\" >False</td>\n",
       "            </tr>\n",
       "            <tr>\n",
       "                        <th id=\"T_cc97c226_aa7e_11ec_ba9f_7085c2294e08level0_row54\" class=\"row_heading level0 row54\" >54</th>\n",
       "                        <td id=\"T_cc97c226_aa7e_11ec_ba9f_7085c2294e08row54_col0\" class=\"data row54 col0\" >Feature Ratio</td>\n",
       "                        <td id=\"T_cc97c226_aa7e_11ec_ba9f_7085c2294e08row54_col1\" class=\"data row54 col1\" >False</td>\n",
       "            </tr>\n",
       "            <tr>\n",
       "                        <th id=\"T_cc97c226_aa7e_11ec_ba9f_7085c2294e08level0_row55\" class=\"row_heading level0 row55\" >55</th>\n",
       "                        <td id=\"T_cc97c226_aa7e_11ec_ba9f_7085c2294e08row55_col0\" class=\"data row55 col0\" >Interaction Threshold</td>\n",
       "                        <td id=\"T_cc97c226_aa7e_11ec_ba9f_7085c2294e08row55_col1\" class=\"data row55 col1\" >None</td>\n",
       "            </tr>\n",
       "            <tr>\n",
       "                        <th id=\"T_cc97c226_aa7e_11ec_ba9f_7085c2294e08level0_row56\" class=\"row_heading level0 row56\" >56</th>\n",
       "                        <td id=\"T_cc97c226_aa7e_11ec_ba9f_7085c2294e08row56_col0\" class=\"data row56 col0\" >Transform Target</td>\n",
       "                        <td id=\"T_cc97c226_aa7e_11ec_ba9f_7085c2294e08row56_col1\" class=\"data row56 col1\" >False</td>\n",
       "            </tr>\n",
       "            <tr>\n",
       "                        <th id=\"T_cc97c226_aa7e_11ec_ba9f_7085c2294e08level0_row57\" class=\"row_heading level0 row57\" >57</th>\n",
       "                        <td id=\"T_cc97c226_aa7e_11ec_ba9f_7085c2294e08row57_col0\" class=\"data row57 col0\" >Transform Target Method</td>\n",
       "                        <td id=\"T_cc97c226_aa7e_11ec_ba9f_7085c2294e08row57_col1\" class=\"data row57 col1\" >box-cox</td>\n",
       "            </tr>\n",
       "    </tbody></table>"
      ],
      "text/plain": [
       "<pandas.io.formats.style.Styler at 0x1d65f089700>"
      ]
     },
     "metadata": {},
     "output_type": "display_data"
    }
   ],
   "source": [
    "setup_clf = setup(data = train, target='Target', fold=5, silent=True)"
   ]
  },
  {
   "cell_type": "code",
   "execution_count": 13,
   "metadata": {
    "scrolled": true
   },
   "outputs": [
    {
     "data": {
      "text/html": [
       "<style  type=\"text/css\" >\n",
       "    #T_29cfa169_aa7f_11ec_a4df_7085c2294e08 th {\n",
       "          text-align: left;\n",
       "    }#T_29cfa169_aa7f_11ec_a4df_7085c2294e08row0_col0,#T_29cfa169_aa7f_11ec_a4df_7085c2294e08row0_col2,#T_29cfa169_aa7f_11ec_a4df_7085c2294e08row0_col3,#T_29cfa169_aa7f_11ec_a4df_7085c2294e08row0_col4,#T_29cfa169_aa7f_11ec_a4df_7085c2294e08row0_col5,#T_29cfa169_aa7f_11ec_a4df_7085c2294e08row1_col0,#T_29cfa169_aa7f_11ec_a4df_7085c2294e08row1_col1,#T_29cfa169_aa7f_11ec_a4df_7085c2294e08row1_col2,#T_29cfa169_aa7f_11ec_a4df_7085c2294e08row1_col3,#T_29cfa169_aa7f_11ec_a4df_7085c2294e08row1_col4,#T_29cfa169_aa7f_11ec_a4df_7085c2294e08row1_col5,#T_29cfa169_aa7f_11ec_a4df_7085c2294e08row1_col6,#T_29cfa169_aa7f_11ec_a4df_7085c2294e08row2_col0,#T_29cfa169_aa7f_11ec_a4df_7085c2294e08row2_col1,#T_29cfa169_aa7f_11ec_a4df_7085c2294e08row2_col2,#T_29cfa169_aa7f_11ec_a4df_7085c2294e08row2_col3,#T_29cfa169_aa7f_11ec_a4df_7085c2294e08row2_col4,#T_29cfa169_aa7f_11ec_a4df_7085c2294e08row2_col5,#T_29cfa169_aa7f_11ec_a4df_7085c2294e08row2_col6,#T_29cfa169_aa7f_11ec_a4df_7085c2294e08row3_col0,#T_29cfa169_aa7f_11ec_a4df_7085c2294e08row3_col1,#T_29cfa169_aa7f_11ec_a4df_7085c2294e08row3_col5,#T_29cfa169_aa7f_11ec_a4df_7085c2294e08row3_col6,#T_29cfa169_aa7f_11ec_a4df_7085c2294e08row4_col0,#T_29cfa169_aa7f_11ec_a4df_7085c2294e08row4_col1,#T_29cfa169_aa7f_11ec_a4df_7085c2294e08row4_col2,#T_29cfa169_aa7f_11ec_a4df_7085c2294e08row4_col3,#T_29cfa169_aa7f_11ec_a4df_7085c2294e08row4_col4,#T_29cfa169_aa7f_11ec_a4df_7085c2294e08row4_col5,#T_29cfa169_aa7f_11ec_a4df_7085c2294e08row4_col6,#T_29cfa169_aa7f_11ec_a4df_7085c2294e08row5_col0,#T_29cfa169_aa7f_11ec_a4df_7085c2294e08row5_col1,#T_29cfa169_aa7f_11ec_a4df_7085c2294e08row5_col2,#T_29cfa169_aa7f_11ec_a4df_7085c2294e08row5_col3,#T_29cfa169_aa7f_11ec_a4df_7085c2294e08row5_col4,#T_29cfa169_aa7f_11ec_a4df_7085c2294e08row5_col6,#T_29cfa169_aa7f_11ec_a4df_7085c2294e08row6_col0,#T_29cfa169_aa7f_11ec_a4df_7085c2294e08row6_col1,#T_29cfa169_aa7f_11ec_a4df_7085c2294e08row6_col2,#T_29cfa169_aa7f_11ec_a4df_7085c2294e08row6_col3,#T_29cfa169_aa7f_11ec_a4df_7085c2294e08row6_col4,#T_29cfa169_aa7f_11ec_a4df_7085c2294e08row6_col5,#T_29cfa169_aa7f_11ec_a4df_7085c2294e08row6_col6,#T_29cfa169_aa7f_11ec_a4df_7085c2294e08row7_col0,#T_29cfa169_aa7f_11ec_a4df_7085c2294e08row7_col1,#T_29cfa169_aa7f_11ec_a4df_7085c2294e08row7_col2,#T_29cfa169_aa7f_11ec_a4df_7085c2294e08row7_col3,#T_29cfa169_aa7f_11ec_a4df_7085c2294e08row7_col4,#T_29cfa169_aa7f_11ec_a4df_7085c2294e08row7_col5,#T_29cfa169_aa7f_11ec_a4df_7085c2294e08row7_col6,#T_29cfa169_aa7f_11ec_a4df_7085c2294e08row8_col0,#T_29cfa169_aa7f_11ec_a4df_7085c2294e08row8_col1,#T_29cfa169_aa7f_11ec_a4df_7085c2294e08row8_col2,#T_29cfa169_aa7f_11ec_a4df_7085c2294e08row8_col3,#T_29cfa169_aa7f_11ec_a4df_7085c2294e08row8_col4,#T_29cfa169_aa7f_11ec_a4df_7085c2294e08row8_col5,#T_29cfa169_aa7f_11ec_a4df_7085c2294e08row8_col6,#T_29cfa169_aa7f_11ec_a4df_7085c2294e08row9_col0,#T_29cfa169_aa7f_11ec_a4df_7085c2294e08row9_col1,#T_29cfa169_aa7f_11ec_a4df_7085c2294e08row9_col2,#T_29cfa169_aa7f_11ec_a4df_7085c2294e08row9_col3,#T_29cfa169_aa7f_11ec_a4df_7085c2294e08row9_col4,#T_29cfa169_aa7f_11ec_a4df_7085c2294e08row9_col5,#T_29cfa169_aa7f_11ec_a4df_7085c2294e08row9_col6,#T_29cfa169_aa7f_11ec_a4df_7085c2294e08row10_col0,#T_29cfa169_aa7f_11ec_a4df_7085c2294e08row10_col1,#T_29cfa169_aa7f_11ec_a4df_7085c2294e08row10_col2,#T_29cfa169_aa7f_11ec_a4df_7085c2294e08row10_col3,#T_29cfa169_aa7f_11ec_a4df_7085c2294e08row10_col4,#T_29cfa169_aa7f_11ec_a4df_7085c2294e08row10_col5,#T_29cfa169_aa7f_11ec_a4df_7085c2294e08row10_col6,#T_29cfa169_aa7f_11ec_a4df_7085c2294e08row11_col0,#T_29cfa169_aa7f_11ec_a4df_7085c2294e08row11_col1,#T_29cfa169_aa7f_11ec_a4df_7085c2294e08row11_col2,#T_29cfa169_aa7f_11ec_a4df_7085c2294e08row11_col3,#T_29cfa169_aa7f_11ec_a4df_7085c2294e08row11_col4,#T_29cfa169_aa7f_11ec_a4df_7085c2294e08row11_col5,#T_29cfa169_aa7f_11ec_a4df_7085c2294e08row11_col6,#T_29cfa169_aa7f_11ec_a4df_7085c2294e08row12_col0,#T_29cfa169_aa7f_11ec_a4df_7085c2294e08row12_col1,#T_29cfa169_aa7f_11ec_a4df_7085c2294e08row12_col2,#T_29cfa169_aa7f_11ec_a4df_7085c2294e08row12_col3,#T_29cfa169_aa7f_11ec_a4df_7085c2294e08row12_col4,#T_29cfa169_aa7f_11ec_a4df_7085c2294e08row12_col5,#T_29cfa169_aa7f_11ec_a4df_7085c2294e08row12_col6,#T_29cfa169_aa7f_11ec_a4df_7085c2294e08row13_col0,#T_29cfa169_aa7f_11ec_a4df_7085c2294e08row13_col1,#T_29cfa169_aa7f_11ec_a4df_7085c2294e08row13_col2,#T_29cfa169_aa7f_11ec_a4df_7085c2294e08row13_col3,#T_29cfa169_aa7f_11ec_a4df_7085c2294e08row13_col4,#T_29cfa169_aa7f_11ec_a4df_7085c2294e08row13_col5,#T_29cfa169_aa7f_11ec_a4df_7085c2294e08row13_col6,#T_29cfa169_aa7f_11ec_a4df_7085c2294e08row14_col0,#T_29cfa169_aa7f_11ec_a4df_7085c2294e08row14_col1,#T_29cfa169_aa7f_11ec_a4df_7085c2294e08row14_col2,#T_29cfa169_aa7f_11ec_a4df_7085c2294e08row14_col3,#T_29cfa169_aa7f_11ec_a4df_7085c2294e08row14_col4,#T_29cfa169_aa7f_11ec_a4df_7085c2294e08row14_col5,#T_29cfa169_aa7f_11ec_a4df_7085c2294e08row14_col6,#T_29cfa169_aa7f_11ec_a4df_7085c2294e08row15_col0,#T_29cfa169_aa7f_11ec_a4df_7085c2294e08row15_col1,#T_29cfa169_aa7f_11ec_a4df_7085c2294e08row15_col2,#T_29cfa169_aa7f_11ec_a4df_7085c2294e08row15_col3,#T_29cfa169_aa7f_11ec_a4df_7085c2294e08row15_col4,#T_29cfa169_aa7f_11ec_a4df_7085c2294e08row15_col5,#T_29cfa169_aa7f_11ec_a4df_7085c2294e08row15_col6,#T_29cfa169_aa7f_11ec_a4df_7085c2294e08row16_col0,#T_29cfa169_aa7f_11ec_a4df_7085c2294e08row16_col1,#T_29cfa169_aa7f_11ec_a4df_7085c2294e08row16_col2,#T_29cfa169_aa7f_11ec_a4df_7085c2294e08row16_col3,#T_29cfa169_aa7f_11ec_a4df_7085c2294e08row16_col4,#T_29cfa169_aa7f_11ec_a4df_7085c2294e08row16_col5,#T_29cfa169_aa7f_11ec_a4df_7085c2294e08row16_col6,#T_29cfa169_aa7f_11ec_a4df_7085c2294e08row17_col0,#T_29cfa169_aa7f_11ec_a4df_7085c2294e08row17_col1,#T_29cfa169_aa7f_11ec_a4df_7085c2294e08row17_col2,#T_29cfa169_aa7f_11ec_a4df_7085c2294e08row17_col3,#T_29cfa169_aa7f_11ec_a4df_7085c2294e08row17_col4,#T_29cfa169_aa7f_11ec_a4df_7085c2294e08row17_col5,#T_29cfa169_aa7f_11ec_a4df_7085c2294e08row17_col6,#T_29cfa169_aa7f_11ec_a4df_7085c2294e08row18_col0,#T_29cfa169_aa7f_11ec_a4df_7085c2294e08row18_col1,#T_29cfa169_aa7f_11ec_a4df_7085c2294e08row18_col2,#T_29cfa169_aa7f_11ec_a4df_7085c2294e08row18_col3,#T_29cfa169_aa7f_11ec_a4df_7085c2294e08row18_col4,#T_29cfa169_aa7f_11ec_a4df_7085c2294e08row18_col5,#T_29cfa169_aa7f_11ec_a4df_7085c2294e08row18_col6,#T_29cfa169_aa7f_11ec_a4df_7085c2294e08row19_col0,#T_29cfa169_aa7f_11ec_a4df_7085c2294e08row19_col1,#T_29cfa169_aa7f_11ec_a4df_7085c2294e08row19_col2,#T_29cfa169_aa7f_11ec_a4df_7085c2294e08row19_col3,#T_29cfa169_aa7f_11ec_a4df_7085c2294e08row19_col4,#T_29cfa169_aa7f_11ec_a4df_7085c2294e08row19_col5,#T_29cfa169_aa7f_11ec_a4df_7085c2294e08row19_col6{\n",
       "            text-align:  left;\n",
       "            text-align:  left;\n",
       "        }#T_29cfa169_aa7f_11ec_a4df_7085c2294e08row0_col1,#T_29cfa169_aa7f_11ec_a4df_7085c2294e08row0_col6,#T_29cfa169_aa7f_11ec_a4df_7085c2294e08row3_col2,#T_29cfa169_aa7f_11ec_a4df_7085c2294e08row3_col3,#T_29cfa169_aa7f_11ec_a4df_7085c2294e08row3_col4,#T_29cfa169_aa7f_11ec_a4df_7085c2294e08row5_col5{\n",
       "            text-align:  left;\n",
       "            text-align:  left;\n",
       "            background-color:  yellow;\n",
       "        }#T_29cfa169_aa7f_11ec_a4df_7085c2294e08row0_col7,#T_29cfa169_aa7f_11ec_a4df_7085c2294e08row2_col7,#T_29cfa169_aa7f_11ec_a4df_7085c2294e08row3_col7,#T_29cfa169_aa7f_11ec_a4df_7085c2294e08row5_col7,#T_29cfa169_aa7f_11ec_a4df_7085c2294e08row6_col7,#T_29cfa169_aa7f_11ec_a4df_7085c2294e08row7_col7,#T_29cfa169_aa7f_11ec_a4df_7085c2294e08row8_col7,#T_29cfa169_aa7f_11ec_a4df_7085c2294e08row9_col7,#T_29cfa169_aa7f_11ec_a4df_7085c2294e08row10_col7,#T_29cfa169_aa7f_11ec_a4df_7085c2294e08row11_col7,#T_29cfa169_aa7f_11ec_a4df_7085c2294e08row13_col7,#T_29cfa169_aa7f_11ec_a4df_7085c2294e08row15_col7,#T_29cfa169_aa7f_11ec_a4df_7085c2294e08row16_col7{\n",
       "            text-align:  left;\n",
       "            text-align:  left;\n",
       "            background-color:  lightgrey;\n",
       "        }#T_29cfa169_aa7f_11ec_a4df_7085c2294e08row1_col7,#T_29cfa169_aa7f_11ec_a4df_7085c2294e08row4_col7,#T_29cfa169_aa7f_11ec_a4df_7085c2294e08row12_col7,#T_29cfa169_aa7f_11ec_a4df_7085c2294e08row14_col7,#T_29cfa169_aa7f_11ec_a4df_7085c2294e08row17_col7,#T_29cfa169_aa7f_11ec_a4df_7085c2294e08row18_col7,#T_29cfa169_aa7f_11ec_a4df_7085c2294e08row19_col7{\n",
       "            text-align:  left;\n",
       "            text-align:  left;\n",
       "            background-color:  yellow;\n",
       "            background-color:  lightgrey;\n",
       "        }</style><table id=\"T_29cfa169_aa7f_11ec_a4df_7085c2294e08\" ><thead>    <tr>        <th class=\"blank level0\" ></th>        <th class=\"col_heading level0 col0\" >Model</th>        <th class=\"col_heading level0 col1\" >MAE</th>        <th class=\"col_heading level0 col2\" >MSE</th>        <th class=\"col_heading level0 col3\" >RMSE</th>        <th class=\"col_heading level0 col4\" >R2</th>        <th class=\"col_heading level0 col5\" >RMSLE</th>        <th class=\"col_heading level0 col6\" >MAPE</th>        <th class=\"col_heading level0 col7\" >TT (Sec)</th>    </tr></thead><tbody>\n",
       "                <tr>\n",
       "                        <th id=\"T_29cfa169_aa7f_11ec_a4df_7085c2294e08level0_row0\" class=\"row_heading level0 row0\" >huber</th>\n",
       "                        <td id=\"T_29cfa169_aa7f_11ec_a4df_7085c2294e08row0_col0\" class=\"data row0 col0\" >Huber Regressor</td>\n",
       "                        <td id=\"T_29cfa169_aa7f_11ec_a4df_7085c2294e08row0_col1\" class=\"data row0 col1\" >1.5827</td>\n",
       "                        <td id=\"T_29cfa169_aa7f_11ec_a4df_7085c2294e08row0_col2\" class=\"data row0 col2\" >5.2018</td>\n",
       "                        <td id=\"T_29cfa169_aa7f_11ec_a4df_7085c2294e08row0_col3\" class=\"data row0 col3\" >2.2770</td>\n",
       "                        <td id=\"T_29cfa169_aa7f_11ec_a4df_7085c2294e08row0_col4\" class=\"data row0 col4\" >0.4683</td>\n",
       "                        <td id=\"T_29cfa169_aa7f_11ec_a4df_7085c2294e08row0_col5\" class=\"data row0 col5\" >0.1887</td>\n",
       "                        <td id=\"T_29cfa169_aa7f_11ec_a4df_7085c2294e08row0_col6\" class=\"data row0 col6\" >0.1539</td>\n",
       "                        <td id=\"T_29cfa169_aa7f_11ec_a4df_7085c2294e08row0_col7\" class=\"data row0 col7\" >0.0180</td>\n",
       "            </tr>\n",
       "            <tr>\n",
       "                        <th id=\"T_29cfa169_aa7f_11ec_a4df_7085c2294e08level0_row1\" class=\"row_heading level0 row1\" >lr</th>\n",
       "                        <td id=\"T_29cfa169_aa7f_11ec_a4df_7085c2294e08row1_col0\" class=\"data row1 col0\" >Linear Regression</td>\n",
       "                        <td id=\"T_29cfa169_aa7f_11ec_a4df_7085c2294e08row1_col1\" class=\"data row1 col1\" >1.6238</td>\n",
       "                        <td id=\"T_29cfa169_aa7f_11ec_a4df_7085c2294e08row1_col2\" class=\"data row1 col2\" >5.0891</td>\n",
       "                        <td id=\"T_29cfa169_aa7f_11ec_a4df_7085c2294e08row1_col3\" class=\"data row1 col3\" >2.2525</td>\n",
       "                        <td id=\"T_29cfa169_aa7f_11ec_a4df_7085c2294e08row1_col4\" class=\"data row1 col4\" >0.4764</td>\n",
       "                        <td id=\"T_29cfa169_aa7f_11ec_a4df_7085c2294e08row1_col5\" class=\"data row1 col5\" >0.1884</td>\n",
       "                        <td id=\"T_29cfa169_aa7f_11ec_a4df_7085c2294e08row1_col6\" class=\"data row1 col6\" >0.1654</td>\n",
       "                        <td id=\"T_29cfa169_aa7f_11ec_a4df_7085c2294e08row1_col7\" class=\"data row1 col7\" >0.0060</td>\n",
       "            </tr>\n",
       "            <tr>\n",
       "                        <th id=\"T_29cfa169_aa7f_11ec_a4df_7085c2294e08level0_row2\" class=\"row_heading level0 row2\" >lar</th>\n",
       "                        <td id=\"T_29cfa169_aa7f_11ec_a4df_7085c2294e08row2_col0\" class=\"data row2 col0\" >Least Angle Regression</td>\n",
       "                        <td id=\"T_29cfa169_aa7f_11ec_a4df_7085c2294e08row2_col1\" class=\"data row2 col1\" >1.6238</td>\n",
       "                        <td id=\"T_29cfa169_aa7f_11ec_a4df_7085c2294e08row2_col2\" class=\"data row2 col2\" >5.0890</td>\n",
       "                        <td id=\"T_29cfa169_aa7f_11ec_a4df_7085c2294e08row2_col3\" class=\"data row2 col3\" >2.2525</td>\n",
       "                        <td id=\"T_29cfa169_aa7f_11ec_a4df_7085c2294e08row2_col4\" class=\"data row2 col4\" >0.4764</td>\n",
       "                        <td id=\"T_29cfa169_aa7f_11ec_a4df_7085c2294e08row2_col5\" class=\"data row2 col5\" >0.1884</td>\n",
       "                        <td id=\"T_29cfa169_aa7f_11ec_a4df_7085c2294e08row2_col6\" class=\"data row2 col6\" >0.1654</td>\n",
       "                        <td id=\"T_29cfa169_aa7f_11ec_a4df_7085c2294e08row2_col7\" class=\"data row2 col7\" >0.0080</td>\n",
       "            </tr>\n",
       "            <tr>\n",
       "                        <th id=\"T_29cfa169_aa7f_11ec_a4df_7085c2294e08level0_row3\" class=\"row_heading level0 row3\" >br</th>\n",
       "                        <td id=\"T_29cfa169_aa7f_11ec_a4df_7085c2294e08row3_col0\" class=\"data row3 col0\" >Bayesian Ridge</td>\n",
       "                        <td id=\"T_29cfa169_aa7f_11ec_a4df_7085c2294e08row3_col1\" class=\"data row3 col1\" >1.6238</td>\n",
       "                        <td id=\"T_29cfa169_aa7f_11ec_a4df_7085c2294e08row3_col2\" class=\"data row3 col2\" >5.0817</td>\n",
       "                        <td id=\"T_29cfa169_aa7f_11ec_a4df_7085c2294e08row3_col3\" class=\"data row3 col3\" >2.2514</td>\n",
       "                        <td id=\"T_29cfa169_aa7f_11ec_a4df_7085c2294e08row3_col4\" class=\"data row3 col4\" >0.4779</td>\n",
       "                        <td id=\"T_29cfa169_aa7f_11ec_a4df_7085c2294e08row3_col5\" class=\"data row3 col5\" >0.1891</td>\n",
       "                        <td id=\"T_29cfa169_aa7f_11ec_a4df_7085c2294e08row3_col6\" class=\"data row3 col6\" >0.1655</td>\n",
       "                        <td id=\"T_29cfa169_aa7f_11ec_a4df_7085c2294e08row3_col7\" class=\"data row3 col7\" >0.0080</td>\n",
       "            </tr>\n",
       "            <tr>\n",
       "                        <th id=\"T_29cfa169_aa7f_11ec_a4df_7085c2294e08level0_row4\" class=\"row_heading level0 row4\" >ridge</th>\n",
       "                        <td id=\"T_29cfa169_aa7f_11ec_a4df_7085c2294e08row4_col0\" class=\"data row4 col0\" >Ridge Regression</td>\n",
       "                        <td id=\"T_29cfa169_aa7f_11ec_a4df_7085c2294e08row4_col1\" class=\"data row4 col1\" >1.6389</td>\n",
       "                        <td id=\"T_29cfa169_aa7f_11ec_a4df_7085c2294e08row4_col2\" class=\"data row4 col2\" >5.1863</td>\n",
       "                        <td id=\"T_29cfa169_aa7f_11ec_a4df_7085c2294e08row4_col3\" class=\"data row4 col3\" >2.2750</td>\n",
       "                        <td id=\"T_29cfa169_aa7f_11ec_a4df_7085c2294e08row4_col4\" class=\"data row4 col4\" >0.4699</td>\n",
       "                        <td id=\"T_29cfa169_aa7f_11ec_a4df_7085c2294e08row4_col5\" class=\"data row4 col5\" >0.1917</td>\n",
       "                        <td id=\"T_29cfa169_aa7f_11ec_a4df_7085c2294e08row4_col6\" class=\"data row4 col6\" >0.1684</td>\n",
       "                        <td id=\"T_29cfa169_aa7f_11ec_a4df_7085c2294e08row4_col7\" class=\"data row4 col7\" >0.0060</td>\n",
       "            </tr>\n",
       "            <tr>\n",
       "                        <th id=\"T_29cfa169_aa7f_11ec_a4df_7085c2294e08level0_row5\" class=\"row_heading level0 row5\" >rf</th>\n",
       "                        <td id=\"T_29cfa169_aa7f_11ec_a4df_7085c2294e08row5_col0\" class=\"data row5 col0\" >Random Forest Regressor</td>\n",
       "                        <td id=\"T_29cfa169_aa7f_11ec_a4df_7085c2294e08row5_col1\" class=\"data row5 col1\" >1.6424</td>\n",
       "                        <td id=\"T_29cfa169_aa7f_11ec_a4df_7085c2294e08row5_col2\" class=\"data row5 col2\" >5.2736</td>\n",
       "                        <td id=\"T_29cfa169_aa7f_11ec_a4df_7085c2294e08row5_col3\" class=\"data row5 col3\" >2.2932</td>\n",
       "                        <td id=\"T_29cfa169_aa7f_11ec_a4df_7085c2294e08row5_col4\" class=\"data row5 col4\" >0.4586</td>\n",
       "                        <td id=\"T_29cfa169_aa7f_11ec_a4df_7085c2294e08row5_col5\" class=\"data row5 col5\" >0.1879</td>\n",
       "                        <td id=\"T_29cfa169_aa7f_11ec_a4df_7085c2294e08row5_col6\" class=\"data row5 col6\" >0.1650</td>\n",
       "                        <td id=\"T_29cfa169_aa7f_11ec_a4df_7085c2294e08row5_col7\" class=\"data row5 col7\" >0.1600</td>\n",
       "            </tr>\n",
       "            <tr>\n",
       "                        <th id=\"T_29cfa169_aa7f_11ec_a4df_7085c2294e08level0_row6\" class=\"row_heading level0 row6\" >gbr</th>\n",
       "                        <td id=\"T_29cfa169_aa7f_11ec_a4df_7085c2294e08row6_col0\" class=\"data row6 col0\" >Gradient Boosting Regressor</td>\n",
       "                        <td id=\"T_29cfa169_aa7f_11ec_a4df_7085c2294e08row6_col1\" class=\"data row6 col1\" >1.6449</td>\n",
       "                        <td id=\"T_29cfa169_aa7f_11ec_a4df_7085c2294e08row6_col2\" class=\"data row6 col2\" >5.3179</td>\n",
       "                        <td id=\"T_29cfa169_aa7f_11ec_a4df_7085c2294e08row6_col3\" class=\"data row6 col3\" >2.3049</td>\n",
       "                        <td id=\"T_29cfa169_aa7f_11ec_a4df_7085c2294e08row6_col4\" class=\"data row6 col4\" >0.4499</td>\n",
       "                        <td id=\"T_29cfa169_aa7f_11ec_a4df_7085c2294e08row6_col5\" class=\"data row6 col5\" >0.1886</td>\n",
       "                        <td id=\"T_29cfa169_aa7f_11ec_a4df_7085c2294e08row6_col6\" class=\"data row6 col6\" >0.1662</td>\n",
       "                        <td id=\"T_29cfa169_aa7f_11ec_a4df_7085c2294e08row6_col7\" class=\"data row6 col7\" >0.0560</td>\n",
       "            </tr>\n",
       "            <tr>\n",
       "                        <th id=\"T_29cfa169_aa7f_11ec_a4df_7085c2294e08level0_row7\" class=\"row_heading level0 row7\" >et</th>\n",
       "                        <td id=\"T_29cfa169_aa7f_11ec_a4df_7085c2294e08row7_col0\" class=\"data row7 col0\" >Extra Trees Regressor</td>\n",
       "                        <td id=\"T_29cfa169_aa7f_11ec_a4df_7085c2294e08row7_col1\" class=\"data row7 col1\" >1.6506</td>\n",
       "                        <td id=\"T_29cfa169_aa7f_11ec_a4df_7085c2294e08row7_col2\" class=\"data row7 col2\" >5.3070</td>\n",
       "                        <td id=\"T_29cfa169_aa7f_11ec_a4df_7085c2294e08row7_col3\" class=\"data row7 col3\" >2.3000</td>\n",
       "                        <td id=\"T_29cfa169_aa7f_11ec_a4df_7085c2294e08row7_col4\" class=\"data row7 col4\" >0.4559</td>\n",
       "                        <td id=\"T_29cfa169_aa7f_11ec_a4df_7085c2294e08row7_col5\" class=\"data row7 col5\" >0.1891</td>\n",
       "                        <td id=\"T_29cfa169_aa7f_11ec_a4df_7085c2294e08row7_col6\" class=\"data row7 col6\" >0.1667</td>\n",
       "                        <td id=\"T_29cfa169_aa7f_11ec_a4df_7085c2294e08row7_col7\" class=\"data row7 col7\" >0.1160</td>\n",
       "            </tr>\n",
       "            <tr>\n",
       "                        <th id=\"T_29cfa169_aa7f_11ec_a4df_7085c2294e08level0_row8\" class=\"row_heading level0 row8\" >catboost</th>\n",
       "                        <td id=\"T_29cfa169_aa7f_11ec_a4df_7085c2294e08row8_col0\" class=\"data row8 col0\" >CatBoost Regressor</td>\n",
       "                        <td id=\"T_29cfa169_aa7f_11ec_a4df_7085c2294e08row8_col1\" class=\"data row8 col1\" >1.6662</td>\n",
       "                        <td id=\"T_29cfa169_aa7f_11ec_a4df_7085c2294e08row8_col2\" class=\"data row8 col2\" >5.3537</td>\n",
       "                        <td id=\"T_29cfa169_aa7f_11ec_a4df_7085c2294e08row8_col3\" class=\"data row8 col3\" >2.3120</td>\n",
       "                        <td id=\"T_29cfa169_aa7f_11ec_a4df_7085c2294e08row8_col4\" class=\"data row8 col4\" >0.4485</td>\n",
       "                        <td id=\"T_29cfa169_aa7f_11ec_a4df_7085c2294e08row8_col5\" class=\"data row8 col5\" >0.1891</td>\n",
       "                        <td id=\"T_29cfa169_aa7f_11ec_a4df_7085c2294e08row8_col6\" class=\"data row8 col6\" >0.1669</td>\n",
       "                        <td id=\"T_29cfa169_aa7f_11ec_a4df_7085c2294e08row8_col7\" class=\"data row8 col7\" >1.1560</td>\n",
       "            </tr>\n",
       "            <tr>\n",
       "                        <th id=\"T_29cfa169_aa7f_11ec_a4df_7085c2294e08level0_row9\" class=\"row_heading level0 row9\" >knn</th>\n",
       "                        <td id=\"T_29cfa169_aa7f_11ec_a4df_7085c2294e08row9_col0\" class=\"data row9 col0\" >K Neighbors Regressor</td>\n",
       "                        <td id=\"T_29cfa169_aa7f_11ec_a4df_7085c2294e08row9_col1\" class=\"data row9 col1\" >1.6797</td>\n",
       "                        <td id=\"T_29cfa169_aa7f_11ec_a4df_7085c2294e08row9_col2\" class=\"data row9 col2\" >5.6296</td>\n",
       "                        <td id=\"T_29cfa169_aa7f_11ec_a4df_7085c2294e08row9_col3\" class=\"data row9 col3\" >2.3696</td>\n",
       "                        <td id=\"T_29cfa169_aa7f_11ec_a4df_7085c2294e08row9_col4\" class=\"data row9 col4\" >0.4235</td>\n",
       "                        <td id=\"T_29cfa169_aa7f_11ec_a4df_7085c2294e08row9_col5\" class=\"data row9 col5\" >0.1961</td>\n",
       "                        <td id=\"T_29cfa169_aa7f_11ec_a4df_7085c2294e08row9_col6\" class=\"data row9 col6\" >0.1689</td>\n",
       "                        <td id=\"T_29cfa169_aa7f_11ec_a4df_7085c2294e08row9_col7\" class=\"data row9 col7\" >0.0120</td>\n",
       "            </tr>\n",
       "            <tr>\n",
       "                        <th id=\"T_29cfa169_aa7f_11ec_a4df_7085c2294e08level0_row10\" class=\"row_heading level0 row10\" >lightgbm</th>\n",
       "                        <td id=\"T_29cfa169_aa7f_11ec_a4df_7085c2294e08row10_col0\" class=\"data row10 col0\" >Light Gradient Boosting Machine</td>\n",
       "                        <td id=\"T_29cfa169_aa7f_11ec_a4df_7085c2294e08row10_col1\" class=\"data row10 col1\" >1.6893</td>\n",
       "                        <td id=\"T_29cfa169_aa7f_11ec_a4df_7085c2294e08row10_col2\" class=\"data row10 col2\" >5.4572</td>\n",
       "                        <td id=\"T_29cfa169_aa7f_11ec_a4df_7085c2294e08row10_col3\" class=\"data row10 col3\" >2.3340</td>\n",
       "                        <td id=\"T_29cfa169_aa7f_11ec_a4df_7085c2294e08row10_col4\" class=\"data row10 col4\" >0.4367</td>\n",
       "                        <td id=\"T_29cfa169_aa7f_11ec_a4df_7085c2294e08row10_col5\" class=\"data row10 col5\" >0.1948</td>\n",
       "                        <td id=\"T_29cfa169_aa7f_11ec_a4df_7085c2294e08row10_col6\" class=\"data row10 col6\" >0.1711</td>\n",
       "                        <td id=\"T_29cfa169_aa7f_11ec_a4df_7085c2294e08row10_col7\" class=\"data row10 col7\" >0.0760</td>\n",
       "            </tr>\n",
       "            <tr>\n",
       "                        <th id=\"T_29cfa169_aa7f_11ec_a4df_7085c2294e08level0_row11\" class=\"row_heading level0 row11\" >xgboost</th>\n",
       "                        <td id=\"T_29cfa169_aa7f_11ec_a4df_7085c2294e08row11_col0\" class=\"data row11 col0\" >Extreme Gradient Boosting</td>\n",
       "                        <td id=\"T_29cfa169_aa7f_11ec_a4df_7085c2294e08row11_col1\" class=\"data row11 col1\" >1.7876</td>\n",
       "                        <td id=\"T_29cfa169_aa7f_11ec_a4df_7085c2294e08row11_col2\" class=\"data row11 col2\" >6.0272</td>\n",
       "                        <td id=\"T_29cfa169_aa7f_11ec_a4df_7085c2294e08row11_col3\" class=\"data row11 col3\" >2.4534</td>\n",
       "                        <td id=\"T_29cfa169_aa7f_11ec_a4df_7085c2294e08row11_col4\" class=\"data row11 col4\" >0.3761</td>\n",
       "                        <td id=\"T_29cfa169_aa7f_11ec_a4df_7085c2294e08row11_col5\" class=\"data row11 col5\" >0.2033</td>\n",
       "                        <td id=\"T_29cfa169_aa7f_11ec_a4df_7085c2294e08row11_col6\" class=\"data row11 col6\" >0.1812</td>\n",
       "                        <td id=\"T_29cfa169_aa7f_11ec_a4df_7085c2294e08row11_col7\" class=\"data row11 col7\" >0.1320</td>\n",
       "            </tr>\n",
       "            <tr>\n",
       "                        <th id=\"T_29cfa169_aa7f_11ec_a4df_7085c2294e08level0_row12\" class=\"row_heading level0 row12\" >omp</th>\n",
       "                        <td id=\"T_29cfa169_aa7f_11ec_a4df_7085c2294e08row12_col0\" class=\"data row12 col0\" >Orthogonal Matching Pursuit</td>\n",
       "                        <td id=\"T_29cfa169_aa7f_11ec_a4df_7085c2294e08row12_col1\" class=\"data row12 col1\" >1.8198</td>\n",
       "                        <td id=\"T_29cfa169_aa7f_11ec_a4df_7085c2294e08row12_col2\" class=\"data row12 col2\" >6.0910</td>\n",
       "                        <td id=\"T_29cfa169_aa7f_11ec_a4df_7085c2294e08row12_col3\" class=\"data row12 col3\" >2.4646</td>\n",
       "                        <td id=\"T_29cfa169_aa7f_11ec_a4df_7085c2294e08row12_col4\" class=\"data row12 col4\" >0.3784</td>\n",
       "                        <td id=\"T_29cfa169_aa7f_11ec_a4df_7085c2294e08row12_col5\" class=\"data row12 col5\" >0.2094</td>\n",
       "                        <td id=\"T_29cfa169_aa7f_11ec_a4df_7085c2294e08row12_col6\" class=\"data row12 col6\" >0.1879</td>\n",
       "                        <td id=\"T_29cfa169_aa7f_11ec_a4df_7085c2294e08row12_col7\" class=\"data row12 col7\" >0.0060</td>\n",
       "            </tr>\n",
       "            <tr>\n",
       "                        <th id=\"T_29cfa169_aa7f_11ec_a4df_7085c2294e08level0_row13\" class=\"row_heading level0 row13\" >par</th>\n",
       "                        <td id=\"T_29cfa169_aa7f_11ec_a4df_7085c2294e08row13_col0\" class=\"data row13 col0\" >Passive Aggressive Regressor</td>\n",
       "                        <td id=\"T_29cfa169_aa7f_11ec_a4df_7085c2294e08row13_col1\" class=\"data row13 col1\" >1.9833</td>\n",
       "                        <td id=\"T_29cfa169_aa7f_11ec_a4df_7085c2294e08row13_col2\" class=\"data row13 col2\" >7.6013</td>\n",
       "                        <td id=\"T_29cfa169_aa7f_11ec_a4df_7085c2294e08row13_col3\" class=\"data row13 col3\" >2.7520</td>\n",
       "                        <td id=\"T_29cfa169_aa7f_11ec_a4df_7085c2294e08row13_col4\" class=\"data row13 col4\" >0.2170</td>\n",
       "                        <td id=\"T_29cfa169_aa7f_11ec_a4df_7085c2294e08row13_col5\" class=\"data row13 col5\" >0.2341</td>\n",
       "                        <td id=\"T_29cfa169_aa7f_11ec_a4df_7085c2294e08row13_col6\" class=\"data row13 col6\" >0.1882</td>\n",
       "                        <td id=\"T_29cfa169_aa7f_11ec_a4df_7085c2294e08row13_col7\" class=\"data row13 col7\" >0.0100</td>\n",
       "            </tr>\n",
       "            <tr>\n",
       "                        <th id=\"T_29cfa169_aa7f_11ec_a4df_7085c2294e08level0_row14\" class=\"row_heading level0 row14\" >en</th>\n",
       "                        <td id=\"T_29cfa169_aa7f_11ec_a4df_7085c2294e08row14_col0\" class=\"data row14 col0\" >Elastic Net</td>\n",
       "                        <td id=\"T_29cfa169_aa7f_11ec_a4df_7085c2294e08row14_col1\" class=\"data row14 col1\" >2.2195</td>\n",
       "                        <td id=\"T_29cfa169_aa7f_11ec_a4df_7085c2294e08row14_col2\" class=\"data row14 col2\" >9.0687</td>\n",
       "                        <td id=\"T_29cfa169_aa7f_11ec_a4df_7085c2294e08row14_col3\" class=\"data row14 col3\" >3.0029</td>\n",
       "                        <td id=\"T_29cfa169_aa7f_11ec_a4df_7085c2294e08row14_col4\" class=\"data row14 col4\" >0.0825</td>\n",
       "                        <td id=\"T_29cfa169_aa7f_11ec_a4df_7085c2294e08row14_col5\" class=\"data row14 col5\" >0.2729</td>\n",
       "                        <td id=\"T_29cfa169_aa7f_11ec_a4df_7085c2294e08row14_col6\" class=\"data row14 col6\" >0.2522</td>\n",
       "                        <td id=\"T_29cfa169_aa7f_11ec_a4df_7085c2294e08row14_col7\" class=\"data row14 col7\" >0.0060</td>\n",
       "            </tr>\n",
       "            <tr>\n",
       "                        <th id=\"T_29cfa169_aa7f_11ec_a4df_7085c2294e08level0_row15\" class=\"row_heading level0 row15\" >ada</th>\n",
       "                        <td id=\"T_29cfa169_aa7f_11ec_a4df_7085c2294e08row15_col0\" class=\"data row15 col0\" >AdaBoost Regressor</td>\n",
       "                        <td id=\"T_29cfa169_aa7f_11ec_a4df_7085c2294e08row15_col1\" class=\"data row15 col1\" >2.2294</td>\n",
       "                        <td id=\"T_29cfa169_aa7f_11ec_a4df_7085c2294e08row15_col2\" class=\"data row15 col2\" >7.4012</td>\n",
       "                        <td id=\"T_29cfa169_aa7f_11ec_a4df_7085c2294e08row15_col3\" class=\"data row15 col3\" >2.7195</td>\n",
       "                        <td id=\"T_29cfa169_aa7f_11ec_a4df_7085c2294e08row15_col4\" class=\"data row15 col4\" >0.2298</td>\n",
       "                        <td id=\"T_29cfa169_aa7f_11ec_a4df_7085c2294e08row15_col5\" class=\"data row15 col5\" >0.2345</td>\n",
       "                        <td id=\"T_29cfa169_aa7f_11ec_a4df_7085c2294e08row15_col6\" class=\"data row15 col6\" >0.2460</td>\n",
       "                        <td id=\"T_29cfa169_aa7f_11ec_a4df_7085c2294e08row15_col7\" class=\"data row15 col7\" >0.0560</td>\n",
       "            </tr>\n",
       "            <tr>\n",
       "                        <th id=\"T_29cfa169_aa7f_11ec_a4df_7085c2294e08level0_row16\" class=\"row_heading level0 row16\" >dt</th>\n",
       "                        <td id=\"T_29cfa169_aa7f_11ec_a4df_7085c2294e08row16_col0\" class=\"data row16 col0\" >Decision Tree Regressor</td>\n",
       "                        <td id=\"T_29cfa169_aa7f_11ec_a4df_7085c2294e08row16_col1\" class=\"data row16 col1\" >2.2997</td>\n",
       "                        <td id=\"T_29cfa169_aa7f_11ec_a4df_7085c2294e08row16_col2\" class=\"data row16 col2\" >11.3205</td>\n",
       "                        <td id=\"T_29cfa169_aa7f_11ec_a4df_7085c2294e08row16_col3\" class=\"data row16 col3\" >3.3640</td>\n",
       "                        <td id=\"T_29cfa169_aa7f_11ec_a4df_7085c2294e08row16_col4\" class=\"data row16 col4\" >-0.1731</td>\n",
       "                        <td id=\"T_29cfa169_aa7f_11ec_a4df_7085c2294e08row16_col5\" class=\"data row16 col5\" >0.2700</td>\n",
       "                        <td id=\"T_29cfa169_aa7f_11ec_a4df_7085c2294e08row16_col6\" class=\"data row16 col6\" >0.2294</td>\n",
       "                        <td id=\"T_29cfa169_aa7f_11ec_a4df_7085c2294e08row16_col7\" class=\"data row16 col7\" >0.0080</td>\n",
       "            </tr>\n",
       "            <tr>\n",
       "                        <th id=\"T_29cfa169_aa7f_11ec_a4df_7085c2294e08level0_row17\" class=\"row_heading level0 row17\" >llar</th>\n",
       "                        <td id=\"T_29cfa169_aa7f_11ec_a4df_7085c2294e08row17_col0\" class=\"data row17 col0\" >Lasso Least Angle Regression</td>\n",
       "                        <td id=\"T_29cfa169_aa7f_11ec_a4df_7085c2294e08row17_col1\" class=\"data row17 col1\" >2.3484</td>\n",
       "                        <td id=\"T_29cfa169_aa7f_11ec_a4df_7085c2294e08row17_col2\" class=\"data row17 col2\" >9.9355</td>\n",
       "                        <td id=\"T_29cfa169_aa7f_11ec_a4df_7085c2294e08row17_col3\" class=\"data row17 col3\" >3.1441</td>\n",
       "                        <td id=\"T_29cfa169_aa7f_11ec_a4df_7085c2294e08row17_col4\" class=\"data row17 col4\" >-0.0064</td>\n",
       "                        <td id=\"T_29cfa169_aa7f_11ec_a4df_7085c2294e08row17_col5\" class=\"data row17 col5\" >0.2872</td>\n",
       "                        <td id=\"T_29cfa169_aa7f_11ec_a4df_7085c2294e08row17_col6\" class=\"data row17 col6\" >0.2690</td>\n",
       "                        <td id=\"T_29cfa169_aa7f_11ec_a4df_7085c2294e08row17_col7\" class=\"data row17 col7\" >0.0060</td>\n",
       "            </tr>\n",
       "            <tr>\n",
       "                        <th id=\"T_29cfa169_aa7f_11ec_a4df_7085c2294e08level0_row18\" class=\"row_heading level0 row18\" >lasso</th>\n",
       "                        <td id=\"T_29cfa169_aa7f_11ec_a4df_7085c2294e08row18_col0\" class=\"data row18 col0\" >Lasso Regression</td>\n",
       "                        <td id=\"T_29cfa169_aa7f_11ec_a4df_7085c2294e08row18_col1\" class=\"data row18 col1\" >2.3484</td>\n",
       "                        <td id=\"T_29cfa169_aa7f_11ec_a4df_7085c2294e08row18_col2\" class=\"data row18 col2\" >9.9355</td>\n",
       "                        <td id=\"T_29cfa169_aa7f_11ec_a4df_7085c2294e08row18_col3\" class=\"data row18 col3\" >3.1441</td>\n",
       "                        <td id=\"T_29cfa169_aa7f_11ec_a4df_7085c2294e08row18_col4\" class=\"data row18 col4\" >-0.0064</td>\n",
       "                        <td id=\"T_29cfa169_aa7f_11ec_a4df_7085c2294e08row18_col5\" class=\"data row18 col5\" >0.2872</td>\n",
       "                        <td id=\"T_29cfa169_aa7f_11ec_a4df_7085c2294e08row18_col6\" class=\"data row18 col6\" >0.2690</td>\n",
       "                        <td id=\"T_29cfa169_aa7f_11ec_a4df_7085c2294e08row18_col7\" class=\"data row18 col7\" >0.0060</td>\n",
       "            </tr>\n",
       "            <tr>\n",
       "                        <th id=\"T_29cfa169_aa7f_11ec_a4df_7085c2294e08level0_row19\" class=\"row_heading level0 row19\" >dummy</th>\n",
       "                        <td id=\"T_29cfa169_aa7f_11ec_a4df_7085c2294e08row19_col0\" class=\"data row19 col0\" >Dummy Regressor</td>\n",
       "                        <td id=\"T_29cfa169_aa7f_11ec_a4df_7085c2294e08row19_col1\" class=\"data row19 col1\" >2.3484</td>\n",
       "                        <td id=\"T_29cfa169_aa7f_11ec_a4df_7085c2294e08row19_col2\" class=\"data row19 col2\" >9.9355</td>\n",
       "                        <td id=\"T_29cfa169_aa7f_11ec_a4df_7085c2294e08row19_col3\" class=\"data row19 col3\" >3.1441</td>\n",
       "                        <td id=\"T_29cfa169_aa7f_11ec_a4df_7085c2294e08row19_col4\" class=\"data row19 col4\" >-0.0064</td>\n",
       "                        <td id=\"T_29cfa169_aa7f_11ec_a4df_7085c2294e08row19_col5\" class=\"data row19 col5\" >0.2872</td>\n",
       "                        <td id=\"T_29cfa169_aa7f_11ec_a4df_7085c2294e08row19_col6\" class=\"data row19 col6\" >0.2690</td>\n",
       "                        <td id=\"T_29cfa169_aa7f_11ec_a4df_7085c2294e08row19_col7\" class=\"data row19 col7\" >0.0060</td>\n",
       "            </tr>\n",
       "    </tbody></table>"
      ],
      "text/plain": [
       "<pandas.io.formats.style.Styler at 0x1d65c644070>"
      ]
     },
     "metadata": {},
     "output_type": "display_data"
    }
   ],
   "source": [
    "top10 = compare_models(sort='MAE',  n_select=10, fold=5)"
   ]
  },
  {
   "cell_type": "code",
   "execution_count": 23,
   "metadata": {},
   "outputs": [
    {
     "data": {
      "text/html": [
       "<style  type=\"text/css\" >\n",
       "#T_a1953b51_aa80_11ec_9787_7085c2294e08row5_col0,#T_a1953b51_aa80_11ec_9787_7085c2294e08row5_col1,#T_a1953b51_aa80_11ec_9787_7085c2294e08row5_col2,#T_a1953b51_aa80_11ec_9787_7085c2294e08row5_col3,#T_a1953b51_aa80_11ec_9787_7085c2294e08row5_col4,#T_a1953b51_aa80_11ec_9787_7085c2294e08row5_col5{\n",
       "            background:  yellow;\n",
       "        }</style><table id=\"T_a1953b51_aa80_11ec_9787_7085c2294e08\" ><thead>    <tr>        <th class=\"blank level0\" ></th>        <th class=\"col_heading level0 col0\" >MAE</th>        <th class=\"col_heading level0 col1\" >MSE</th>        <th class=\"col_heading level0 col2\" >RMSE</th>        <th class=\"col_heading level0 col3\" >R2</th>        <th class=\"col_heading level0 col4\" >RMSLE</th>        <th class=\"col_heading level0 col5\" >MAPE</th>    </tr></thead><tbody>\n",
       "                <tr>\n",
       "                        <th id=\"T_a1953b51_aa80_11ec_9787_7085c2294e08level0_row0\" class=\"row_heading level0 row0\" >0</th>\n",
       "                        <td id=\"T_a1953b51_aa80_11ec_9787_7085c2294e08row0_col0\" class=\"data row0 col0\" >1.6120</td>\n",
       "                        <td id=\"T_a1953b51_aa80_11ec_9787_7085c2294e08row0_col1\" class=\"data row0 col1\" >4.5546</td>\n",
       "                        <td id=\"T_a1953b51_aa80_11ec_9787_7085c2294e08row0_col2\" class=\"data row0 col2\" >2.1342</td>\n",
       "                        <td id=\"T_a1953b51_aa80_11ec_9787_7085c2294e08row0_col3\" class=\"data row0 col3\" >0.3997</td>\n",
       "                        <td id=\"T_a1953b51_aa80_11ec_9787_7085c2294e08row0_col4\" class=\"data row0 col4\" >0.1877</td>\n",
       "                        <td id=\"T_a1953b51_aa80_11ec_9787_7085c2294e08row0_col5\" class=\"data row0 col5\" >0.1688</td>\n",
       "            </tr>\n",
       "            <tr>\n",
       "                        <th id=\"T_a1953b51_aa80_11ec_9787_7085c2294e08level0_row1\" class=\"row_heading level0 row1\" >1</th>\n",
       "                        <td id=\"T_a1953b51_aa80_11ec_9787_7085c2294e08row1_col0\" class=\"data row1 col0\" >1.6584</td>\n",
       "                        <td id=\"T_a1953b51_aa80_11ec_9787_7085c2294e08row1_col1\" class=\"data row1 col1\" >5.7434</td>\n",
       "                        <td id=\"T_a1953b51_aa80_11ec_9787_7085c2294e08row1_col2\" class=\"data row1 col2\" >2.3965</td>\n",
       "                        <td id=\"T_a1953b51_aa80_11ec_9787_7085c2294e08row1_col3\" class=\"data row1 col3\" >0.4603</td>\n",
       "                        <td id=\"T_a1953b51_aa80_11ec_9787_7085c2294e08row1_col4\" class=\"data row1 col4\" >0.2015</td>\n",
       "                        <td id=\"T_a1953b51_aa80_11ec_9787_7085c2294e08row1_col5\" class=\"data row1 col5\" >0.1687</td>\n",
       "            </tr>\n",
       "            <tr>\n",
       "                        <th id=\"T_a1953b51_aa80_11ec_9787_7085c2294e08level0_row2\" class=\"row_heading level0 row2\" >2</th>\n",
       "                        <td id=\"T_a1953b51_aa80_11ec_9787_7085c2294e08row2_col0\" class=\"data row2 col0\" >1.7164</td>\n",
       "                        <td id=\"T_a1953b51_aa80_11ec_9787_7085c2294e08row2_col1\" class=\"data row2 col1\" >6.1575</td>\n",
       "                        <td id=\"T_a1953b51_aa80_11ec_9787_7085c2294e08row2_col2\" class=\"data row2 col2\" >2.4814</td>\n",
       "                        <td id=\"T_a1953b51_aa80_11ec_9787_7085c2294e08row2_col3\" class=\"data row2 col3\" >0.4142</td>\n",
       "                        <td id=\"T_a1953b51_aa80_11ec_9787_7085c2294e08row2_col4\" class=\"data row2 col4\" >0.1918</td>\n",
       "                        <td id=\"T_a1953b51_aa80_11ec_9787_7085c2294e08row2_col5\" class=\"data row2 col5\" >0.1583</td>\n",
       "            </tr>\n",
       "            <tr>\n",
       "                        <th id=\"T_a1953b51_aa80_11ec_9787_7085c2294e08level0_row3\" class=\"row_heading level0 row3\" >3</th>\n",
       "                        <td id=\"T_a1953b51_aa80_11ec_9787_7085c2294e08row3_col0\" class=\"data row3 col0\" >1.5401</td>\n",
       "                        <td id=\"T_a1953b51_aa80_11ec_9787_7085c2294e08row3_col1\" class=\"data row3 col1\" >4.5723</td>\n",
       "                        <td id=\"T_a1953b51_aa80_11ec_9787_7085c2294e08row3_col2\" class=\"data row3 col2\" >2.1383</td>\n",
       "                        <td id=\"T_a1953b51_aa80_11ec_9787_7085c2294e08row3_col3\" class=\"data row3 col3\" >0.4986</td>\n",
       "                        <td id=\"T_a1953b51_aa80_11ec_9787_7085c2294e08row3_col4\" class=\"data row3 col4\" >0.1815</td>\n",
       "                        <td id=\"T_a1953b51_aa80_11ec_9787_7085c2294e08row3_col5\" class=\"data row3 col5\" >0.1608</td>\n",
       "            </tr>\n",
       "            <tr>\n",
       "                        <th id=\"T_a1953b51_aa80_11ec_9787_7085c2294e08level0_row4\" class=\"row_heading level0 row4\" >4</th>\n",
       "                        <td id=\"T_a1953b51_aa80_11ec_9787_7085c2294e08row4_col0\" class=\"data row4 col0\" >1.6116</td>\n",
       "                        <td id=\"T_a1953b51_aa80_11ec_9787_7085c2294e08row4_col1\" class=\"data row4 col1\" >5.3975</td>\n",
       "                        <td id=\"T_a1953b51_aa80_11ec_9787_7085c2294e08row4_col2\" class=\"data row4 col2\" >2.3232</td>\n",
       "                        <td id=\"T_a1953b51_aa80_11ec_9787_7085c2294e08row4_col3\" class=\"data row4 col3\" >0.5309</td>\n",
       "                        <td id=\"T_a1953b51_aa80_11ec_9787_7085c2294e08row4_col4\" class=\"data row4 col4\" >0.1831</td>\n",
       "                        <td id=\"T_a1953b51_aa80_11ec_9787_7085c2294e08row4_col5\" class=\"data row4 col5\" >0.1579</td>\n",
       "            </tr>\n",
       "            <tr>\n",
       "                        <th id=\"T_a1953b51_aa80_11ec_9787_7085c2294e08level0_row5\" class=\"row_heading level0 row5\" >Mean</th>\n",
       "                        <td id=\"T_a1953b51_aa80_11ec_9787_7085c2294e08row5_col0\" class=\"data row5 col0\" >1.6277</td>\n",
       "                        <td id=\"T_a1953b51_aa80_11ec_9787_7085c2294e08row5_col1\" class=\"data row5 col1\" >5.2851</td>\n",
       "                        <td id=\"T_a1953b51_aa80_11ec_9787_7085c2294e08row5_col2\" class=\"data row5 col2\" >2.2947</td>\n",
       "                        <td id=\"T_a1953b51_aa80_11ec_9787_7085c2294e08row5_col3\" class=\"data row5 col3\" >0.4607</td>\n",
       "                        <td id=\"T_a1953b51_aa80_11ec_9787_7085c2294e08row5_col4\" class=\"data row5 col4\" >0.1891</td>\n",
       "                        <td id=\"T_a1953b51_aa80_11ec_9787_7085c2294e08row5_col5\" class=\"data row5 col5\" >0.1629</td>\n",
       "            </tr>\n",
       "            <tr>\n",
       "                        <th id=\"T_a1953b51_aa80_11ec_9787_7085c2294e08level0_row6\" class=\"row_heading level0 row6\" >SD</th>\n",
       "                        <td id=\"T_a1953b51_aa80_11ec_9787_7085c2294e08row6_col0\" class=\"data row6 col0\" >0.0583</td>\n",
       "                        <td id=\"T_a1953b51_aa80_11ec_9787_7085c2294e08row6_col1\" class=\"data row6 col1\" >0.6365</td>\n",
       "                        <td id=\"T_a1953b51_aa80_11ec_9787_7085c2294e08row6_col2\" class=\"data row6 col2\" >0.1388</td>\n",
       "                        <td id=\"T_a1953b51_aa80_11ec_9787_7085c2294e08row6_col3\" class=\"data row6 col3\" >0.0495</td>\n",
       "                        <td id=\"T_a1953b51_aa80_11ec_9787_7085c2294e08row6_col4\" class=\"data row6 col4\" >0.0072</td>\n",
       "                        <td id=\"T_a1953b51_aa80_11ec_9787_7085c2294e08row6_col5\" class=\"data row6 col5\" >0.0049</td>\n",
       "            </tr>\n",
       "    </tbody></table>"
      ],
      "text/plain": [
       "<pandas.io.formats.style.Styler at 0x1d6606a96a0>"
      ]
     },
     "metadata": {},
     "output_type": "display_data"
    }
   ],
   "source": [
    "tuned_top10 = [tune_model(i, fold=5) for i in top10"
   ]
  },
  {
   "cell_type": "code",
   "execution_count": 24,
   "metadata": {},
   "outputs": [
    {
     "data": {
      "text/html": [
       "<style  type=\"text/css\" >\n",
       "#T_b104fd50_aa80_11ec_8062_7085c2294e08row5_col0,#T_b104fd50_aa80_11ec_8062_7085c2294e08row5_col1,#T_b104fd50_aa80_11ec_8062_7085c2294e08row5_col2,#T_b104fd50_aa80_11ec_8062_7085c2294e08row5_col3,#T_b104fd50_aa80_11ec_8062_7085c2294e08row5_col4,#T_b104fd50_aa80_11ec_8062_7085c2294e08row5_col5{\n",
       "            background:  yellow;\n",
       "        }</style><table id=\"T_b104fd50_aa80_11ec_8062_7085c2294e08\" ><thead>    <tr>        <th class=\"blank level0\" ></th>        <th class=\"col_heading level0 col0\" >MAE</th>        <th class=\"col_heading level0 col1\" >MSE</th>        <th class=\"col_heading level0 col2\" >RMSE</th>        <th class=\"col_heading level0 col3\" >R2</th>        <th class=\"col_heading level0 col4\" >RMSLE</th>        <th class=\"col_heading level0 col5\" >MAPE</th>    </tr></thead><tbody>\n",
       "                <tr>\n",
       "                        <th id=\"T_b104fd50_aa80_11ec_8062_7085c2294e08level0_row0\" class=\"row_heading level0 row0\" >0</th>\n",
       "                        <td id=\"T_b104fd50_aa80_11ec_8062_7085c2294e08row0_col0\" class=\"data row0 col0\" >1.5314</td>\n",
       "                        <td id=\"T_b104fd50_aa80_11ec_8062_7085c2294e08row0_col1\" class=\"data row0 col1\" >4.2887</td>\n",
       "                        <td id=\"T_b104fd50_aa80_11ec_8062_7085c2294e08row0_col2\" class=\"data row0 col2\" >2.0709</td>\n",
       "                        <td id=\"T_b104fd50_aa80_11ec_8062_7085c2294e08row0_col3\" class=\"data row0 col3\" >0.4347</td>\n",
       "                        <td id=\"T_b104fd50_aa80_11ec_8062_7085c2294e08row0_col4\" class=\"data row0 col4\" >0.1811</td>\n",
       "                        <td id=\"T_b104fd50_aa80_11ec_8062_7085c2294e08row0_col5\" class=\"data row0 col5\" >0.1621</td>\n",
       "            </tr>\n",
       "            <tr>\n",
       "                        <th id=\"T_b104fd50_aa80_11ec_8062_7085c2294e08level0_row1\" class=\"row_heading level0 row1\" >1</th>\n",
       "                        <td id=\"T_b104fd50_aa80_11ec_8062_7085c2294e08row1_col0\" class=\"data row1 col0\" >1.7023</td>\n",
       "                        <td id=\"T_b104fd50_aa80_11ec_8062_7085c2294e08row1_col1\" class=\"data row1 col1\" >5.6296</td>\n",
       "                        <td id=\"T_b104fd50_aa80_11ec_8062_7085c2294e08row1_col2\" class=\"data row1 col2\" >2.3727</td>\n",
       "                        <td id=\"T_b104fd50_aa80_11ec_8062_7085c2294e08row1_col3\" class=\"data row1 col3\" >0.4710</td>\n",
       "                        <td id=\"T_b104fd50_aa80_11ec_8062_7085c2294e08row1_col4\" class=\"data row1 col4\" >0.2023</td>\n",
       "                        <td id=\"T_b104fd50_aa80_11ec_8062_7085c2294e08row1_col5\" class=\"data row1 col5\" >0.1756</td>\n",
       "            </tr>\n",
       "            <tr>\n",
       "                        <th id=\"T_b104fd50_aa80_11ec_8062_7085c2294e08level0_row2\" class=\"row_heading level0 row2\" >2</th>\n",
       "                        <td id=\"T_b104fd50_aa80_11ec_8062_7085c2294e08row2_col0\" class=\"data row2 col0\" >1.5946</td>\n",
       "                        <td id=\"T_b104fd50_aa80_11ec_8062_7085c2294e08row2_col1\" class=\"data row2 col1\" >5.2534</td>\n",
       "                        <td id=\"T_b104fd50_aa80_11ec_8062_7085c2294e08row2_col2\" class=\"data row2 col2\" >2.2920</td>\n",
       "                        <td id=\"T_b104fd50_aa80_11ec_8062_7085c2294e08row2_col3\" class=\"data row2 col3\" >0.5002</td>\n",
       "                        <td id=\"T_b104fd50_aa80_11ec_8062_7085c2294e08row2_col4\" class=\"data row2 col4\" >0.1764</td>\n",
       "                        <td id=\"T_b104fd50_aa80_11ec_8062_7085c2294e08row2_col5\" class=\"data row2 col5\" >0.1491</td>\n",
       "            </tr>\n",
       "            <tr>\n",
       "                        <th id=\"T_b104fd50_aa80_11ec_8062_7085c2294e08level0_row3\" class=\"row_heading level0 row3\" >3</th>\n",
       "                        <td id=\"T_b104fd50_aa80_11ec_8062_7085c2294e08row3_col0\" class=\"data row3 col0\" >1.5444</td>\n",
       "                        <td id=\"T_b104fd50_aa80_11ec_8062_7085c2294e08row3_col1\" class=\"data row3 col1\" >4.4803</td>\n",
       "                        <td id=\"T_b104fd50_aa80_11ec_8062_7085c2294e08row3_col2\" class=\"data row3 col2\" >2.1167</td>\n",
       "                        <td id=\"T_b104fd50_aa80_11ec_8062_7085c2294e08row3_col3\" class=\"data row3 col3\" >0.5087</td>\n",
       "                        <td id=\"T_b104fd50_aa80_11ec_8062_7085c2294e08row3_col4\" class=\"data row3 col4\" >0.1793</td>\n",
       "                        <td id=\"T_b104fd50_aa80_11ec_8062_7085c2294e08row3_col5\" class=\"data row3 col5\" >0.1614</td>\n",
       "            </tr>\n",
       "            <tr>\n",
       "                        <th id=\"T_b104fd50_aa80_11ec_8062_7085c2294e08level0_row4\" class=\"row_heading level0 row4\" >4</th>\n",
       "                        <td id=\"T_b104fd50_aa80_11ec_8062_7085c2294e08row4_col0\" class=\"data row4 col0\" >1.5205</td>\n",
       "                        <td id=\"T_b104fd50_aa80_11ec_8062_7085c2294e08row4_col1\" class=\"data row4 col1\" >5.1501</td>\n",
       "                        <td id=\"T_b104fd50_aa80_11ec_8062_7085c2294e08row4_col2\" class=\"data row4 col2\" >2.2694</td>\n",
       "                        <td id=\"T_b104fd50_aa80_11ec_8062_7085c2294e08row4_col3\" class=\"data row4 col3\" >0.5524</td>\n",
       "                        <td id=\"T_b104fd50_aa80_11ec_8062_7085c2294e08row4_col4\" class=\"data row4 col4\" >0.1757</td>\n",
       "                        <td id=\"T_b104fd50_aa80_11ec_8062_7085c2294e08row4_col5\" class=\"data row4 col5\" >0.1479</td>\n",
       "            </tr>\n",
       "            <tr>\n",
       "                        <th id=\"T_b104fd50_aa80_11ec_8062_7085c2294e08level0_row5\" class=\"row_heading level0 row5\" >Mean</th>\n",
       "                        <td id=\"T_b104fd50_aa80_11ec_8062_7085c2294e08row5_col0\" class=\"data row5 col0\" >1.5786</td>\n",
       "                        <td id=\"T_b104fd50_aa80_11ec_8062_7085c2294e08row5_col1\" class=\"data row5 col1\" >4.9604</td>\n",
       "                        <td id=\"T_b104fd50_aa80_11ec_8062_7085c2294e08row5_col2\" class=\"data row5 col2\" >2.2243</td>\n",
       "                        <td id=\"T_b104fd50_aa80_11ec_8062_7085c2294e08row5_col3\" class=\"data row5 col3\" >0.4934</td>\n",
       "                        <td id=\"T_b104fd50_aa80_11ec_8062_7085c2294e08row5_col4\" class=\"data row5 col4\" >0.1830</td>\n",
       "                        <td id=\"T_b104fd50_aa80_11ec_8062_7085c2294e08row5_col5\" class=\"data row5 col5\" >0.1592</td>\n",
       "            </tr>\n",
       "            <tr>\n",
       "                        <th id=\"T_b104fd50_aa80_11ec_8062_7085c2294e08level0_row6\" class=\"row_heading level0 row6\" >SD</th>\n",
       "                        <td id=\"T_b104fd50_aa80_11ec_8062_7085c2294e08row6_col0\" class=\"data row6 col0\" >0.0668</td>\n",
       "                        <td id=\"T_b104fd50_aa80_11ec_8062_7085c2294e08row6_col1\" class=\"data row6 col1\" >0.5002</td>\n",
       "                        <td id=\"T_b104fd50_aa80_11ec_8062_7085c2294e08row6_col2\" class=\"data row6 col2\" >0.1129</td>\n",
       "                        <td id=\"T_b104fd50_aa80_11ec_8062_7085c2294e08row6_col3\" class=\"data row6 col3\" >0.0393</td>\n",
       "                        <td id=\"T_b104fd50_aa80_11ec_8062_7085c2294e08row6_col4\" class=\"data row6 col4\" >0.0099</td>\n",
       "                        <td id=\"T_b104fd50_aa80_11ec_8062_7085c2294e08row6_col5\" class=\"data row6 col5\" >0.0101</td>\n",
       "            </tr>\n",
       "    </tbody></table>"
      ],
      "text/plain": [
       "<pandas.io.formats.style.Styler at 0x1d65f2c9280>"
      ]
     },
     "metadata": {},
     "output_type": "display_data"
    }
   ],
   "source": [
    "blender_top10 = blend_models(estimator_list=tuned_top10)"
   ]
  },
  {
   "cell_type": "code",
   "execution_count": 25,
   "metadata": {},
   "outputs": [],
   "source": [
    "final_model = finalize_model(blender_top10)"
   ]
  },
  {
   "cell_type": "code",
   "execution_count": 26,
   "metadata": {},
   "outputs": [],
   "source": [
    "prediction = predict_model(final_model, data=test)"
   ]
  },
  {
   "cell_type": "code",
   "execution_count": 27,
   "metadata": {},
   "outputs": [
    {
     "data": {
      "text/plain": [
       "0       10.368103\n",
       "1       12.643237\n",
       "2        6.913024\n",
       "3       11.005625\n",
       "4       10.088853\n",
       "          ...    \n",
       "2919     5.623465\n",
       "2920     8.960253\n",
       "2921    10.150870\n",
       "2922     9.870779\n",
       "2923    11.519187\n",
       "Name: Label, Length: 2924, dtype: float64"
      ]
     },
     "execution_count": 27,
     "metadata": {},
     "output_type": "execute_result"
    }
   ],
   "source": [
    "prediction['Label']"
   ]
  },
  {
   "cell_type": "code",
   "execution_count": null,
   "metadata": {},
   "outputs": [],
   "source": []
  },
  {
   "cell_type": "code",
   "execution_count": null,
   "metadata": {},
   "outputs": [],
   "source": []
  },
  {
   "cell_type": "code",
   "execution_count": 30,
   "metadata": {},
   "outputs": [],
   "source": [
    "from sklearn.linear_model import LogisticRegression"
   ]
  },
  {
   "cell_type": "code",
   "execution_count": 31,
   "metadata": {},
   "outputs": [],
   "source": [
    "# LogisticRegression 모델 변수 생성\n",
    "model = LogisticRegression()"
   ]
  },
  {
   "cell_type": "code",
   "execution_count": 33,
   "metadata": {},
   "outputs": [
    {
     "data": {
      "text/plain": [
       "LogisticRegression(C=1.0, class_weight=None, dual=False, fit_intercept=True,\n",
       "                   intercept_scaling=1, l1_ratio=None, max_iter=100,\n",
       "                   multi_class='auto', n_jobs=None, penalty='l2',\n",
       "                   random_state=None, solver='lbfgs', tol=0.0001, verbose=0,\n",
       "                   warm_start=False)"
      ]
     },
     "execution_count": 33,
     "metadata": {},
     "output_type": "execute_result"
    }
   ],
   "source": [
    "# 모델 학습\n",
    "model.fit(train_x, train_y)"
   ]
  },
  {
   "cell_type": "code",
   "execution_count": 34,
   "metadata": {
    "scrolled": true
   },
   "outputs": [
    {
     "data": {
      "text/plain": [
       "array([[-0.1047935 , -1.21030353, -0.93400691, -0.32034673, -1.83416112,\n",
       "        -0.7825425 , -0.39799117, -0.55470562],\n",
       "       [-0.31164732, -1.99824534, -1.58650393, -0.52612704, -3.06091554,\n",
       "        -1.32498067, -0.6757225 , -0.92354412],\n",
       "       [ 0.48310211, -2.32191084, -1.99165399, -0.70205743, -4.17607294,\n",
       "        -1.32307772, -0.89604533, -1.34214122],\n",
       "       [ 0.11727789, -0.70509432, -0.89887165, -0.42066059, -3.04281684,\n",
       "        -0.6766196 , -0.79242552, -1.72388334],\n",
       "       [ 0.05088941,  0.23828367, -0.10663253, -0.24998406, -2.41680905,\n",
       "         0.65829429, -0.57131332, -1.64556409],\n",
       "       [-0.19127896,  1.26370555,  0.67451149, -0.27007863, -1.34644597,\n",
       "         1.56415485, -0.57989816, -1.53095244],\n",
       "       [-0.0361856 ,  1.70364884,  1.32920278,  0.00538017, -0.7407885 ,\n",
       "         1.64660877,  0.45001265, -1.3495687 ],\n",
       "       [ 0.07588818,  0.87384046,  0.54661995, -0.01721491,  0.19261997,\n",
       "         2.30866782,  0.78390013, -0.97809005],\n",
       "       [-0.03420829,  0.51129945,  0.67191814, -0.00960374,  1.11227667,\n",
       "         1.06341459,  0.50755855, -0.34558964],\n",
       "       [ 0.06449327, -0.05059029, -0.0074813 ,  0.42328012,  1.34092003,\n",
       "         0.66952639,  0.19091303, -0.03964219],\n",
       "       [-0.11581517,  0.28948619,  0.25300157,  0.32763916,  1.15212839,\n",
       "        -0.99815524,  0.43372426,  1.19585683],\n",
       "       [-0.08441099,  0.24210774,  0.31942397,  0.33121576,  1.12023201,\n",
       "        -1.02587319,  0.61480144,  1.21111555],\n",
       "       [-0.66878538,  0.31956963,  0.48757967,  0.25612434,  1.59969452,\n",
       "        -0.5758676 ,  0.09173667,  1.17036636],\n",
       "       [-0.05628914,  0.07969447,  0.2017995 ,  0.22963187,  1.38316582,\n",
       "        -0.87413696,  0.16548768,  1.608663  ],\n",
       "       [ 0.1114136 ,  0.09642218,  0.1277112 ,  0.27866937,  1.02940563,\n",
       "        -0.47886698,  0.0847828 ,  0.88369921],\n",
       "       [ 0.20876527,  0.18279892,  0.18546247,  0.16746498,  1.40092318,\n",
       "        -0.09696584, -0.11054965,  1.31586565],\n",
       "       [-0.5287048 ,  0.22794148,  0.196015  ,  0.15008102,  1.31023751,\n",
       "         0.28488989,  0.20213343,  0.35159444],\n",
       "       [ 0.11790968,  0.31375348,  0.41785839,  0.15796677,  1.76466717,\n",
       "        -0.20367278,  0.18056997,  1.16474984],\n",
       "       [-0.17111245,  0.26740331,  0.24935478,  0.1378598 ,  1.43642642,\n",
       "         0.07751887,  0.20587122,  0.91700837],\n",
       "       [-0.116438  , -0.05294711,  0.01186612,  0.06806603,  1.2427919 ,\n",
       "         0.15424126,  0.08458386,  0.45311263],\n",
       "       [ 0.97517358, -0.19875978, -0.13234633,  0.00500244, -0.07216116,\n",
       "        -0.25414889, -0.02702736,  0.04169723],\n",
       "       [ 0.21475661, -0.07210415, -0.01482841, -0.0223087 ,  0.60468191,\n",
       "         0.18759126,  0.0548973 ,  0.1199523 ]])"
      ]
     },
     "execution_count": 34,
     "metadata": {},
     "output_type": "execute_result"
    }
   ],
   "source": [
    "# Coefficient 확인\n",
    "model.coef_"
   ]
  },
  {
   "cell_type": "code",
   "execution_count": 48,
   "metadata": {},
   "outputs": [],
   "source": [
    "test_x = test.drop(['id'],axis=1)"
   ]
  },
  {
   "cell_type": "code",
   "execution_count": 49,
   "metadata": {},
   "outputs": [],
   "source": [
    "# predict : 예측\n",
    "pred = model.predict(test_x)"
   ]
  },
  {
   "cell_type": "code",
   "execution_count": 50,
   "metadata": {},
   "outputs": [
    {
     "data": {
      "text/plain": [
       "array([10,  9,  6, ...,  9,  9,  9], dtype=int64)"
      ]
     },
     "execution_count": 50,
     "metadata": {},
     "output_type": "execute_result"
    }
   ],
   "source": [
    "pred"
   ]
  },
  {
   "cell_type": "code",
   "execution_count": null,
   "metadata": {},
   "outputs": [],
   "source": []
  },
  {
   "cell_type": "code",
   "execution_count": null,
   "metadata": {},
   "outputs": [],
   "source": []
  },
  {
   "cell_type": "code",
   "execution_count": 127,
   "metadata": {},
   "outputs": [
    {
     "name": "stdout",
     "output_type": "stream",
     "text": [
      "Collecting pytorch-ignite\n",
      "  Downloading pytorch_ignite-0.4.8-py3-none-any.whl (251 kB)\n",
      "     -------------------------------------- 251.9/251.9 KB 5.3 MB/s eta 0:00:00\n",
      "Requirement already satisfied: torch<2,>=1.3 in c:\\users\\seo\\anaconda3\\lib\\site-packages (from pytorch-ignite) (1.10.0)\n",
      "Requirement already satisfied: typing-extensions in c:\\users\\seo\\anaconda3\\lib\\site-packages (from torch<2,>=1.3->pytorch-ignite) (3.7.4.3)\n",
      "Installing collected packages: pytorch-ignite\n",
      "Successfully installed pytorch-ignite-0.4.8\n"
     ]
    }
   ],
   "source": [
    "!pip install pytorch-ignite"
   ]
  },
  {
   "cell_type": "code",
   "execution_count": 128,
   "metadata": {},
   "outputs": [],
   "source": [
    "import torch\n",
    "import torch.nn as nn\n",
    "\n",
    "import numpy as np\n",
    "\n",
    "import pandas as pd"
   ]
  },
  {
   "cell_type": "code",
   "execution_count": 129,
   "metadata": {},
   "outputs": [],
   "source": [
    "class Attention(nn.Module):\n",
    "\n",
    "    def __init__(self):\n",
    "        super().__init__()\n",
    "        self.soft = nn.Softmax(dim = -1)\n",
    "        pass\n",
    "\n",
    "    def forward(self, q, k ,v):\n",
    "        # |q| = (batch_size * num_of_ head, 1, hidden_size // num_of_head)\n",
    "        # |k| = |v| = |q|\n",
    "\n",
    "        w = torch.bmm(q, k.transpose(1, 2))\n",
    "        # |w| = (batch_size, 1, 1)\n",
    "        w = self.soft(w.div(q.size(-1) ** .5))\n",
    "        c = torch.bmm(w, v)\n",
    "        # |c| = (batch_size * num_of_ head, 1, hidden_size // num_of_head)\n",
    "        return c\n",
    "\n",
    "class MultiheadAttention(nn.Module):\n",
    "\n",
    "    def __init__(self, hidden_size, number_of_head):\n",
    "        self.hidden_size = hidden_size\n",
    "        self.number_of_head = number_of_head\n",
    "\n",
    "        super().__init__()\n",
    "\n",
    "        self.attention = Attention()\n",
    "        self.Q_linear = nn.Linear(hidden_size, hidden_size, bias =False)\n",
    "        self.K_linear = nn.Linear(hidden_size, hidden_size, bias =False)\n",
    "        self.V_linear = nn.Linear(hidden_size, hidden_size, bias =False)\n",
    "\n",
    "        self.O_linear = nn.Linear(hidden_size, hidden_size, bias =False)\n",
    "        pass\n",
    "\n",
    "    def forward(self, q, k ,v):\n",
    "        # |q| = (batch_size, 1, 128)\n",
    "        # |k| = (batch_size, 1, 128)\n",
    "        # |v| = (batch_size, 1, 128)\n",
    "        \n",
    "        q_ = self.Q_linear(q)\n",
    "        # |q_| = (batch_size, 1, 128)\n",
    "        q_ = q_.split(self.hidden_size // self.number_of_head, dim = -1)\n",
    "        q_ = torch.cat(q_, dim = 0)\n",
    "        # |q_| = (batch_size * number_of_head, 1, hidden_size // number_of_head)\n",
    "\n",
    "        k_ = self.K_linear(k)\n",
    "        # |k_| = (batch_size, 1, 128)\n",
    "        k_ = k_.split(self.hidden_size // self.number_of_head, dim = -1)\n",
    "        k_ = torch.cat(k_, dim = 0)\n",
    "        # |k_| = (batch_size * number_of_head, 1, hidden_size // number_of_head)\n",
    "\n",
    "        v_ = self.V_linear(v)\n",
    "        # |v_| = (batch_size, 1, 128)\n",
    "        v_ = v_.split(self.hidden_size // self.number_of_head, dim = -1)\n",
    "        v_ = torch.cat(v_, dim = 0)\n",
    "        # |v_| = (batch_size * number_of_head, 1, hidden_size // number_of_head)\n",
    "\n",
    "        context_vector = self.attention(q_, k_, v_)\n",
    "        # |context_vector| = (batch_size * number_of_head, 1, hidden_size // number_of_head)\n",
    "        context_vector = torch.cat(context_vector.split(q.size(0), dim = 0), dim = -1)\n",
    "        # |context_vector| = (batch_size , 1, 128)\n",
    "\n",
    "        return self.O_linear(context_vector).squeeze(1)\n",
    "\n",
    "class EncoderBlock(nn.Module):\n",
    "\n",
    "    def __init__(self, hidden_size, number_of_head):\n",
    "        super().__init__()\n",
    "        # hidden_size = 256\n",
    "        # number_of_head = 4\n",
    "        self.multi_head_attention = MultiheadAttention(hidden_size, \n",
    "                                                       number_of_head)\n",
    "        \n",
    "        self.multi_head_attention_norm = nn.BatchNorm1d(hidden_size)\n",
    "        self.multi_head_attention_dropout = nn.Dropout(p = 0.1)\n",
    "\n",
    "        self.fc_layer = nn.Sequential(\n",
    "            nn.Linear(hidden_size, hidden_size * 3),\n",
    "            nn.LeakyReLU(),\n",
    "            nn.Linear(hidden_size * 3, hidden_size),\n",
    "            nn.Dropout(p = 0.1)\n",
    "        )\n",
    "        self.fc_norm = nn.BatchNorm1d(hidden_size)\n",
    "\n",
    "    def forward(self, x):\n",
    "        # |x| = (batch_size, hidden_size)\n",
    "        x_norm = self.multi_head_attention_norm(x)\n",
    "        # |x_norm| = (batch_size, hidden_size)\n",
    "        # print(\"x_norm : \", x_norm.shape)\n",
    "        x_norm = x_norm.unsqueeze(1)\n",
    "        # |x_norm| = (batch_size, 1, hidden_size)\n",
    "        context_ = x + self.multi_head_attention_dropout(self.multi_head_attention(x_norm, x_norm, x_norm))\n",
    "        # print(\"context_ : \",context_.shape)\n",
    "        # |context_| = (batch_size, hidden_size)\n",
    "\n",
    "        context_ = self.fc_norm(context_)\n",
    "        # |context_| = (batch_size, hidden_size)\n",
    "        context = context_ + self.fc_layer(context_)\n",
    "        # |context| = (batch_size, hidden_size)\n",
    "\n",
    "        return context\n",
    "\n",
    "# |x| = (batch_size, 8)\n",
    "# |mapping_x| = (batch_size, 128)\n",
    "class SampleToMapping(nn.Module):\n",
    "    def __init__(self, input_size, hidden_size):\n",
    "        super().__init__()\n",
    "        self.mapping_layer = nn.Sequential(\n",
    "            nn.Linear(input_size, hidden_size),\n",
    "            nn.LeakyReLU(),\n",
    "        )\n",
    "        self.mapping_norm = nn.BatchNorm1d(input_size)\n",
    "    def forward(self, x):\n",
    "        # |x| = (batch_size, 8)\n",
    "        x = self.mapping_norm(x)\n",
    "        mapped_x = self.mapping_layer(x)\n",
    "        # |mapeed_x| = (batch_size, 128)\n",
    "\n",
    "        return mapped_x\n",
    "\n",
    "\n",
    "class HaliotisModel(nn.Module):\n",
    "\n",
    "    def __init__(self, \n",
    "                 input_size, \n",
    "                 hidden_size, \n",
    "                 number_of_head,\n",
    "                 enc_num):\n",
    "        super().__init__()\n",
    "        self.mapping_layer = SampleToMapping(input_size, hidden_size)\n",
    "        \n",
    "        self.encoder = nn.Sequential(\n",
    "            *[EncoderBlock(hidden_size, number_of_head) for _ in range(enc_num)]\n",
    "        )\n",
    "\n",
    "        self.fc_layer = nn.Sequential(\n",
    "            nn.BatchNorm1d(hidden_size),\n",
    "            nn.Linear(hidden_size, 32),\n",
    "            nn.LeakyReLU(),\n",
    "            nn.BatchNorm1d(32),\n",
    "            nn.Linear(32, 1),\n",
    "        )\n",
    "\n",
    "    def forward(self, x):\n",
    "        # |x| = (batch_size, 8)\n",
    "        mapped_x = self.mapping_layer(x)\n",
    "        # print(\"mapped_x : \", mapped_x.shape)\n",
    "        # |mapped_x| = (batch_size, 128)\n",
    "        context_x = self.encoder(mapped_x)\n",
    "        # print(\"context_x : \", context_x.shape)\n",
    "        # |context_x| = (batch_size, 128)\n",
    "\n",
    "        y_hat = self.fc_layer(context_x)\n",
    "        # print(\"y_hat : \", y_hat.shape)\n",
    "        # |y_hat| = (batch_size, 1)\n",
    "        return y_hat.contiguous().view(-1)"
   ]
  },
  {
   "cell_type": "code",
   "execution_count": 130,
   "metadata": {},
   "outputs": [],
   "source": [
    "from ignite.engine import Engine, Events\n",
    "from ignite.metrics import RunningAverage\n",
    "from ignite.contrib.handlers.tqdm_logger import ProgressBar\n",
    "from ignite.handlers import EarlyStopping\n",
    "\n",
    "import copy \n",
    "\n",
    "class HaliotisEngine(Engine):\n",
    "    \n",
    "    def __init__(self, process_function, model, crit, optimizer, config):\n",
    "\n",
    "        super().__init__(process_function)\n",
    "\n",
    "        self.model = model\n",
    "        self.crit = crit\n",
    "        self.optimizer = optimizer\n",
    "        self.best_loss = np.inf\n",
    "        self.best_model = None\n",
    "        self.device = next(model.parameters()).device\n",
    "        self.config = config\n",
    "\n",
    "    @staticmethod\n",
    "    def train(self, batch):\n",
    "        self.model.train()\n",
    "        x, y = batch\n",
    "        x = x.to(self.device)\n",
    "        # |x| = (batch_size, 8)\n",
    "        y = y.to(self.device)\n",
    "        # |x| = (batch_size,)\n",
    "\n",
    "        self.optimizer.zero_grad()\n",
    "\n",
    "        y_hat = self.model(x)\n",
    "\n",
    "        loss = self.crit(y_hat, y)\n",
    "        # print('y_hat : ',y_hat.shape)\n",
    "        # print('y : ',y.shape)\n",
    "        # print('torch.sum(torch.abs(y_hat.float() - y.float())) : ', torch.sum(torch.abs(y_hat.float() - y.float())).shape)\n",
    "        # loss = (torch.sum(torch.abs(y_hat.float() - y.float())) /\n",
    "        #                   torch.LongTensor([len(batch)]).squeeze(0).to(self.device))\n",
    "\n",
    "        loss.backward()\n",
    "        self.optimizer.step()\n",
    "\n",
    "        return {\n",
    "            'loss' : float(loss),\n",
    "        }\n",
    "\n",
    "    @staticmethod\n",
    "    def validation(self, batch):\n",
    "        self.model.eval()\n",
    "        x, y = batch\n",
    "        x = x.to(self.device)\n",
    "        y = y.to(self.device)\n",
    "\n",
    "        with torch.no_grad():\n",
    "            y_hat = self.model(x)\n",
    "            loss = self.crit(y_hat, y)\n",
    "        \n",
    "        return {\n",
    "            'loss' : float(loss),\n",
    "        }\n",
    "\n",
    "def run_validation(engine, validation_engine, validation_loader):\n",
    "    validation_engine.run(validation_loader, max_epochs = 1)\n",
    "\n",
    "def Trainer(model, crit, optimizer, train_loader, valid_loader, config):\n",
    "    train_engine = HaliotisEngine(HaliotisEngine.train, model, crit, optimizer, config)\n",
    "    validation_engine = HaliotisEngine(HaliotisEngine.validation, model, crit, optimizer, config)\n",
    "\n",
    "    RunningAverage(output_transform = lambda x: x['loss']).attach(train_engine, 'loss')\n",
    "    RunningAverage(output_transform = lambda x: x['loss']).attach(validation_engine, 'loss')\n",
    "    \n",
    "    train_pbar = ProgressBar()\n",
    "    train_pbar.attach(train_engine, ['loss'])\n",
    "    validation_pbar = ProgressBar()\n",
    "    validation_pbar.attach(validation_engine, ['loss'])\n",
    "\n",
    "    @train_engine.on(Events.EPOCH_COMPLETED)\n",
    "    def log_training_results(trainer):\n",
    "        print(f\"Training Results - Epoch[{trainer.state.epoch}/{trainer.state.max_epochs}] Loss : {trainer.state.metrics['loss']}\")\n",
    "\n",
    "    train_engine.add_event_handler(Events.EPOCH_COMPLETED, run_validation, validation_engine, valid_loader)\n",
    "\n",
    "    @validation_engine.on(Events.EPOCH_COMPLETED)\n",
    "    def check(engine):\n",
    "        loss = float(engine.state.metrics['loss'])\n",
    "        if loss <= engine.best_loss:\n",
    "            engine.best_loss = loss\n",
    "            engine.best_model = copy.deepcopy(engine.model.state_dict())\n",
    "\n",
    "    def score_function(engine):\n",
    "        val_loss = engine.state.metrics['loss']\n",
    "        return -val_loss\n",
    "\n",
    "    handler = EarlyStopping(patience=config.patience, score_function=score_function, trainer=train_engine)\n",
    "    validation_engine.add_event_handler(Events.COMPLETED, handler)\n",
    "\n",
    "    train_engine.run(train_loader, max_epochs = config.max_epochs)\n",
    "\n",
    "    print(\"Best Loss : \", validation_engine.best_loss)\n",
    "    return train_engine, validation_engine\n",
    "\n",
    "def Trainer_vall(model, crit, optimizer, train_loader, valid_loader, config):\n",
    "    train_engine = HaliotisEngine(HaliotisEngine.train, model, crit, optimizer, config)\n",
    "    validation_engine = HaliotisEngine(HaliotisEngine.validation, model, crit, optimizer, config)\n",
    "\n",
    "    RunningAverage(output_transform = lambda x: x['loss']).attach(train_engine, 'loss')\n",
    "    \n",
    "    train_pbar = ProgressBar()\n",
    "    train_pbar.attach(train_engine, ['loss'])\n",
    "\n",
    "    @train_engine.on(Events.EPOCH_COMPLETED)\n",
    "    def log_training_results(trainer):\n",
    "        print(f\"Training Results - Epoch[{trainer.state.epoch}/{trainer.state.max_epochs}] Loss : {trainer.state.metrics['loss']}\")\n",
    "\n",
    "    @train_engine.on(Events.EPOCH_COMPLETED)\n",
    "    def check(engine):\n",
    "        loss = float(engine.state.metrics['loss'])\n",
    "        if loss <= engine.best_loss:\n",
    "            engine.best_loss = loss\n",
    "            engine.best_model = copy.deepcopy(engine.model.state_dict())\n",
    "\n",
    "    def score_function(engine):\n",
    "        val_loss = engine.state.metrics['loss']\n",
    "        return -val_loss\n",
    "\n",
    "    handler = EarlyStopping(patience=config.patience, score_function=score_function, trainer=train_engine)\n",
    "    train_engine.add_event_handler(Events.EPOCH_COMPLETED, handler)\n",
    "\n",
    "    train_engine.run(train_loader, max_epochs = config.max_epochs)\n",
    "\n",
    "    print(\"Best Loss : \", train_engine.best_loss)\n",
    "    return train_engine    "
   ]
  },
  {
   "cell_type": "code",
   "execution_count": 132,
   "metadata": {},
   "outputs": [],
   "source": [
    "from torch.utils.data import Dataset, DataLoader\n",
    "\n",
    "class HaliotisDataset(Dataset):\n",
    "\n",
    "    def __init__(self, x, y):\n",
    "        self.x = torch.FloatTensor(x)\n",
    "        self.y = torch.FloatTensor(y)\n",
    "\n",
    "    def __len__(self):\n",
    "        return self.x.size(0)\n",
    "\n",
    "    def __getitem__(self, idx):\n",
    "        return self.x[idx], self.y[idx]\n",
    "\n",
    "def main(config):\n",
    "    train = pd.read_csv(\"data/train.csv\")\n",
    "    test = pd.read_csv(\"data/test.csv\")\n",
    "\n",
    "    gender2number = {}\n",
    "\n",
    "    for idx, value in enumerate(train['Gender'].unique()):\n",
    "        gender2number[value] = (idx+1) / 10\n",
    "\n",
    "    for idx, value in enumerate(train['Gender'].unique()):\n",
    "        train['Gender'].replace(value, gender2number[value], inplace = True)\n",
    "        test['Gender'].replace(value, gender2number[value], inplace = True)\n",
    "\n",
    "    model = HaliotisModel(input_size = config.input_size,\n",
    "                          hidden_size = config.hidden_size,\n",
    "                          number_of_head = config.number_of_head,\n",
    "                          enc_num = config.enc_num)\n",
    "    model.to('cuda' if torch.cuda.is_available() else 'cpu')\n",
    "    \n",
    "    crit = nn.MSELoss()\n",
    "    optimizer = torch.optim.Adam(model.parameters())\n",
    "\n",
    "    haliotis_dataset = HaliotisDataset(train.iloc[:, 1:-1].values, train.iloc[:, -1].values)\n",
    "\n",
    "    train_size = int(len(haliotis_dataset) * config.train_size)\n",
    "    valid_size = len(haliotis_dataset) - train_size\n",
    "\n",
    "    train_dataset, valid_dataset = torch.utils.data.random_split(haliotis_dataset, [train_size, valid_size])\n",
    "\n",
    "    train_loader = DataLoader(train_dataset, batch_size = 100, shuffle = True)\n",
    "    valid_loader = DataLoader(valid_dataset, batch_size = 10, shuffle = True)\n",
    "\n",
    "    train_engine, validation_engine = Trainer(model, crit, optimizer, train_loader, valid_loader, config)\n",
    "    # train_engine = Trainer_vall(model, crit, optimizer, DataLoader(haliotis_dataset, batch_size = 128, shuffle = True), None, config)\n",
    "\n",
    "\n",
    "    # model.load_state_dict(train_engine.best_model)\n",
    "    model.load_state_dict(validation_engine.best_model)\n",
    "\n",
    "    with torch.no_grad():\n",
    "        y_hat = model(torch.FloatTensor(test.iloc[:, 1:].values).to('cuda'))\n",
    "    \n",
    "    return y_hat"
   ]
  },
  {
   "cell_type": "code",
   "execution_count": 133,
   "metadata": {},
   "outputs": [],
   "source": [
    "from argparse import Namespace\n",
    "\n",
    "\"\"\"\n",
    "    input_size : 입력 특징 벡터\n",
    "    hidden_size : 확장된 차원의 수\n",
    "    number_of_head : 헤드의 수\n",
    "    enc_num : 인코더 레이어 층의 수\n",
    "    max_epochs : 최대 에폭\n",
    "    train_size : 학습 데이터 사이즈\n",
    "    valid_size : 검증 데이터 사이즈\n",
    "    patience : EarlyStopping을 위한 파리미터 값\n",
    "\"\"\"\n",
    "\n",
    "config = {\n",
    "    'input_size': 8,\n",
    "    'hidden_size': 256,\n",
    "    'number_of_head': 4,\n",
    "    'enc_num': 8,\n",
    "    'max_epochs': 1000,\n",
    "    'train_size' : .9,\n",
    "    'valid_size' : .1,\n",
    "    'patience' : 100,\n",
    "}\n",
    "\n",
    "config = Namespace(**config)"
   ]
  },
  {
   "cell_type": "code",
   "execution_count": 142,
   "metadata": {
    "scrolled": true
   },
   "outputs": [
    {
     "data": {
      "application/vnd.jupyter.widget-view+json": {
       "model_id": "",
       "version_major": 2,
       "version_minor": 0
      },
      "text/plain": [
       "HBox(children=(HTML(value=''), FloatProgress(value=0.0, max=12.0), HTML(value='')))"
      ]
     },
     "metadata": {},
     "output_type": "display_data"
    },
    {
     "name": "stdout",
     "output_type": "stream",
     "text": [
      "Training Results - Epoch[1/1000] Loss : 109.24241959221892\n"
     ]
    },
    {
     "data": {
      "application/vnd.jupyter.widget-view+json": {
       "model_id": "",
       "version_major": 2,
       "version_minor": 0
      },
      "text/plain": [
       "HBox(children=(HTML(value=''), FloatProgress(value=0.0, max=13.0), HTML(value='')))"
      ]
     },
     "metadata": {},
     "output_type": "display_data"
    },
    {
     "data": {
      "application/vnd.jupyter.widget-view+json": {
       "model_id": "",
       "version_major": 2,
       "version_minor": 0
      },
      "text/plain": [
       "HBox(children=(HTML(value=''), FloatProgress(value=0.0, max=12.0), HTML(value='')))"
      ]
     },
     "metadata": {},
     "output_type": "display_data"
    },
    {
     "name": "stdout",
     "output_type": "stream",
     "text": [
      "Training Results - Epoch[2/1000] Loss : 94.71131243687132\n"
     ]
    },
    {
     "data": {
      "application/vnd.jupyter.widget-view+json": {
       "model_id": "",
       "version_major": 2,
       "version_minor": 0
      },
      "text/plain": [
       "HBox(children=(HTML(value=''), FloatProgress(value=0.0, max=13.0), HTML(value='')))"
      ]
     },
     "metadata": {},
     "output_type": "display_data"
    },
    {
     "data": {
      "application/vnd.jupyter.widget-view+json": {
       "model_id": "",
       "version_major": 2,
       "version_minor": 0
      },
      "text/plain": [
       "HBox(children=(HTML(value=''), FloatProgress(value=0.0, max=12.0), HTML(value='')))"
      ]
     },
     "metadata": {},
     "output_type": "display_data"
    },
    {
     "name": "stdout",
     "output_type": "stream",
     "text": [
      "Training Results - Epoch[3/1000] Loss : 100.50411334307317\n"
     ]
    },
    {
     "data": {
      "application/vnd.jupyter.widget-view+json": {
       "model_id": "",
       "version_major": 2,
       "version_minor": 0
      },
      "text/plain": [
       "HBox(children=(HTML(value=''), FloatProgress(value=0.0, max=13.0), HTML(value='')))"
      ]
     },
     "metadata": {},
     "output_type": "display_data"
    },
    {
     "data": {
      "application/vnd.jupyter.widget-view+json": {
       "model_id": "",
       "version_major": 2,
       "version_minor": 0
      },
      "text/plain": [
       "HBox(children=(HTML(value=''), FloatProgress(value=0.0, max=12.0), HTML(value='')))"
      ]
     },
     "metadata": {},
     "output_type": "display_data"
    },
    {
     "name": "stdout",
     "output_type": "stream",
     "text": [
      "Training Results - Epoch[4/1000] Loss : 107.56088249251606\n"
     ]
    },
    {
     "data": {
      "application/vnd.jupyter.widget-view+json": {
       "model_id": "",
       "version_major": 2,
       "version_minor": 0
      },
      "text/plain": [
       "HBox(children=(HTML(value=''), FloatProgress(value=0.0, max=13.0), HTML(value='')))"
      ]
     },
     "metadata": {},
     "output_type": "display_data"
    },
    {
     "data": {
      "application/vnd.jupyter.widget-view+json": {
       "model_id": "",
       "version_major": 2,
       "version_minor": 0
      },
      "text/plain": [
       "HBox(children=(HTML(value=''), FloatProgress(value=0.0, max=12.0), HTML(value='')))"
      ]
     },
     "metadata": {},
     "output_type": "display_data"
    },
    {
     "name": "stdout",
     "output_type": "stream",
     "text": [
      "Training Results - Epoch[5/1000] Loss : 93.20855748674019\n"
     ]
    },
    {
     "data": {
      "application/vnd.jupyter.widget-view+json": {
       "model_id": "",
       "version_major": 2,
       "version_minor": 0
      },
      "text/plain": [
       "HBox(children=(HTML(value=''), FloatProgress(value=0.0, max=13.0), HTML(value='')))"
      ]
     },
     "metadata": {},
     "output_type": "display_data"
    },
    {
     "data": {
      "application/vnd.jupyter.widget-view+json": {
       "model_id": "",
       "version_major": 2,
       "version_minor": 0
      },
      "text/plain": [
       "HBox(children=(HTML(value=''), FloatProgress(value=0.0, max=12.0), HTML(value='')))"
      ]
     },
     "metadata": {},
     "output_type": "display_data"
    },
    {
     "name": "stdout",
     "output_type": "stream",
     "text": [
      "Training Results - Epoch[6/1000] Loss : 103.51189214078124\n"
     ]
    },
    {
     "data": {
      "application/vnd.jupyter.widget-view+json": {
       "model_id": "",
       "version_major": 2,
       "version_minor": 0
      },
      "text/plain": [
       "HBox(children=(HTML(value=''), FloatProgress(value=0.0, max=13.0), HTML(value='')))"
      ]
     },
     "metadata": {},
     "output_type": "display_data"
    },
    {
     "data": {
      "application/vnd.jupyter.widget-view+json": {
       "model_id": "",
       "version_major": 2,
       "version_minor": 0
      },
      "text/plain": [
       "HBox(children=(HTML(value=''), FloatProgress(value=0.0, max=12.0), HTML(value='')))"
      ]
     },
     "metadata": {},
     "output_type": "display_data"
    },
    {
     "name": "stdout",
     "output_type": "stream",
     "text": [
      "Training Results - Epoch[7/1000] Loss : 93.51862832408314\n"
     ]
    },
    {
     "data": {
      "application/vnd.jupyter.widget-view+json": {
       "model_id": "",
       "version_major": 2,
       "version_minor": 0
      },
      "text/plain": [
       "HBox(children=(HTML(value=''), FloatProgress(value=0.0, max=13.0), HTML(value='')))"
      ]
     },
     "metadata": {},
     "output_type": "display_data"
    },
    {
     "data": {
      "application/vnd.jupyter.widget-view+json": {
       "model_id": "",
       "version_major": 2,
       "version_minor": 0
      },
      "text/plain": [
       "HBox(children=(HTML(value=''), FloatProgress(value=0.0, max=12.0), HTML(value='')))"
      ]
     },
     "metadata": {},
     "output_type": "display_data"
    },
    {
     "name": "stdout",
     "output_type": "stream",
     "text": [
      "Training Results - Epoch[8/1000] Loss : 89.74120242562181\n"
     ]
    },
    {
     "data": {
      "application/vnd.jupyter.widget-view+json": {
       "model_id": "",
       "version_major": 2,
       "version_minor": 0
      },
      "text/plain": [
       "HBox(children=(HTML(value=''), FloatProgress(value=0.0, max=13.0), HTML(value='')))"
      ]
     },
     "metadata": {},
     "output_type": "display_data"
    },
    {
     "data": {
      "application/vnd.jupyter.widget-view+json": {
       "model_id": "",
       "version_major": 2,
       "version_minor": 0
      },
      "text/plain": [
       "HBox(children=(HTML(value=''), FloatProgress(value=0.0, max=12.0), HTML(value='')))"
      ]
     },
     "metadata": {},
     "output_type": "display_data"
    },
    {
     "name": "stdout",
     "output_type": "stream",
     "text": [
      "Training Results - Epoch[9/1000] Loss : 88.17778742751955\n"
     ]
    },
    {
     "data": {
      "application/vnd.jupyter.widget-view+json": {
       "model_id": "",
       "version_major": 2,
       "version_minor": 0
      },
      "text/plain": [
       "HBox(children=(HTML(value=''), FloatProgress(value=0.0, max=13.0), HTML(value='')))"
      ]
     },
     "metadata": {},
     "output_type": "display_data"
    },
    {
     "data": {
      "application/vnd.jupyter.widget-view+json": {
       "model_id": "",
       "version_major": 2,
       "version_minor": 0
      },
      "text/plain": [
       "HBox(children=(HTML(value=''), FloatProgress(value=0.0, max=12.0), HTML(value='')))"
      ]
     },
     "metadata": {},
     "output_type": "display_data"
    },
    {
     "name": "stdout",
     "output_type": "stream",
     "text": [
      "Training Results - Epoch[10/1000] Loss : 91.0213514209327\n"
     ]
    },
    {
     "data": {
      "application/vnd.jupyter.widget-view+json": {
       "model_id": "",
       "version_major": 2,
       "version_minor": 0
      },
      "text/plain": [
       "HBox(children=(HTML(value=''), FloatProgress(value=0.0, max=13.0), HTML(value='')))"
      ]
     },
     "metadata": {},
     "output_type": "display_data"
    },
    {
     "data": {
      "application/vnd.jupyter.widget-view+json": {
       "model_id": "",
       "version_major": 2,
       "version_minor": 0
      },
      "text/plain": [
       "HBox(children=(HTML(value=''), FloatProgress(value=0.0, max=12.0), HTML(value='')))"
      ]
     },
     "metadata": {},
     "output_type": "display_data"
    },
    {
     "name": "stdout",
     "output_type": "stream",
     "text": [
      "Training Results - Epoch[11/1000] Loss : 86.71589274768824\n"
     ]
    },
    {
     "data": {
      "application/vnd.jupyter.widget-view+json": {
       "model_id": "",
       "version_major": 2,
       "version_minor": 0
      },
      "text/plain": [
       "HBox(children=(HTML(value=''), FloatProgress(value=0.0, max=13.0), HTML(value='')))"
      ]
     },
     "metadata": {},
     "output_type": "display_data"
    },
    {
     "data": {
      "application/vnd.jupyter.widget-view+json": {
       "model_id": "",
       "version_major": 2,
       "version_minor": 0
      },
      "text/plain": [
       "HBox(children=(HTML(value=''), FloatProgress(value=0.0, max=12.0), HTML(value='')))"
      ]
     },
     "metadata": {},
     "output_type": "display_data"
    },
    {
     "name": "stdout",
     "output_type": "stream",
     "text": [
      "Training Results - Epoch[12/1000] Loss : 77.32089674052142\n"
     ]
    },
    {
     "data": {
      "application/vnd.jupyter.widget-view+json": {
       "model_id": "",
       "version_major": 2,
       "version_minor": 0
      },
      "text/plain": [
       "HBox(children=(HTML(value=''), FloatProgress(value=0.0, max=13.0), HTML(value='')))"
      ]
     },
     "metadata": {},
     "output_type": "display_data"
    },
    {
     "data": {
      "application/vnd.jupyter.widget-view+json": {
       "model_id": "",
       "version_major": 2,
       "version_minor": 0
      },
      "text/plain": [
       "HBox(children=(HTML(value=''), FloatProgress(value=0.0, max=12.0), HTML(value='')))"
      ]
     },
     "metadata": {},
     "output_type": "display_data"
    },
    {
     "name": "stdout",
     "output_type": "stream",
     "text": [
      "Training Results - Epoch[13/1000] Loss : 73.3476912799071\n"
     ]
    },
    {
     "data": {
      "application/vnd.jupyter.widget-view+json": {
       "model_id": "",
       "version_major": 2,
       "version_minor": 0
      },
      "text/plain": [
       "HBox(children=(HTML(value=''), FloatProgress(value=0.0, max=13.0), HTML(value='')))"
      ]
     },
     "metadata": {},
     "output_type": "display_data"
    },
    {
     "data": {
      "application/vnd.jupyter.widget-view+json": {
       "model_id": "",
       "version_major": 2,
       "version_minor": 0
      },
      "text/plain": [
       "HBox(children=(HTML(value=''), FloatProgress(value=0.0, max=12.0), HTML(value='')))"
      ]
     },
     "metadata": {},
     "output_type": "display_data"
    },
    {
     "name": "stdout",
     "output_type": "stream",
     "text": [
      "Training Results - Epoch[14/1000] Loss : 78.97449483892049\n"
     ]
    },
    {
     "data": {
      "application/vnd.jupyter.widget-view+json": {
       "model_id": "",
       "version_major": 2,
       "version_minor": 0
      },
      "text/plain": [
       "HBox(children=(HTML(value=''), FloatProgress(value=0.0, max=13.0), HTML(value='')))"
      ]
     },
     "metadata": {},
     "output_type": "display_data"
    },
    {
     "data": {
      "application/vnd.jupyter.widget-view+json": {
       "model_id": "",
       "version_major": 2,
       "version_minor": 0
      },
      "text/plain": [
       "HBox(children=(HTML(value=''), FloatProgress(value=0.0, max=12.0), HTML(value='')))"
      ]
     },
     "metadata": {},
     "output_type": "display_data"
    },
    {
     "name": "stdout",
     "output_type": "stream",
     "text": [
      "Training Results - Epoch[15/1000] Loss : 70.3532162911596\n"
     ]
    },
    {
     "data": {
      "application/vnd.jupyter.widget-view+json": {
       "model_id": "",
       "version_major": 2,
       "version_minor": 0
      },
      "text/plain": [
       "HBox(children=(HTML(value=''), FloatProgress(value=0.0, max=13.0), HTML(value='')))"
      ]
     },
     "metadata": {},
     "output_type": "display_data"
    },
    {
     "data": {
      "application/vnd.jupyter.widget-view+json": {
       "model_id": "",
       "version_major": 2,
       "version_minor": 0
      },
      "text/plain": [
       "HBox(children=(HTML(value=''), FloatProgress(value=0.0, max=12.0), HTML(value='')))"
      ]
     },
     "metadata": {},
     "output_type": "display_data"
    },
    {
     "name": "stdout",
     "output_type": "stream",
     "text": [
      "Training Results - Epoch[16/1000] Loss : 63.519842712412554\n"
     ]
    },
    {
     "data": {
      "application/vnd.jupyter.widget-view+json": {
       "model_id": "",
       "version_major": 2,
       "version_minor": 0
      },
      "text/plain": [
       "HBox(children=(HTML(value=''), FloatProgress(value=0.0, max=13.0), HTML(value='')))"
      ]
     },
     "metadata": {},
     "output_type": "display_data"
    },
    {
     "data": {
      "application/vnd.jupyter.widget-view+json": {
       "model_id": "",
       "version_major": 2,
       "version_minor": 0
      },
      "text/plain": [
       "HBox(children=(HTML(value=''), FloatProgress(value=0.0, max=12.0), HTML(value='')))"
      ]
     },
     "metadata": {},
     "output_type": "display_data"
    },
    {
     "name": "stdout",
     "output_type": "stream",
     "text": [
      "Training Results - Epoch[17/1000] Loss : 62.721787434473995\n"
     ]
    },
    {
     "data": {
      "application/vnd.jupyter.widget-view+json": {
       "model_id": "",
       "version_major": 2,
       "version_minor": 0
      },
      "text/plain": [
       "HBox(children=(HTML(value=''), FloatProgress(value=0.0, max=13.0), HTML(value='')))"
      ]
     },
     "metadata": {},
     "output_type": "display_data"
    },
    {
     "data": {
      "application/vnd.jupyter.widget-view+json": {
       "model_id": "",
       "version_major": 2,
       "version_minor": 0
      },
      "text/plain": [
       "HBox(children=(HTML(value=''), FloatProgress(value=0.0, max=12.0), HTML(value='')))"
      ]
     },
     "metadata": {},
     "output_type": "display_data"
    },
    {
     "name": "stdout",
     "output_type": "stream",
     "text": [
      "Training Results - Epoch[18/1000] Loss : 56.912975629521256\n"
     ]
    },
    {
     "data": {
      "application/vnd.jupyter.widget-view+json": {
       "model_id": "",
       "version_major": 2,
       "version_minor": 0
      },
      "text/plain": [
       "HBox(children=(HTML(value=''), FloatProgress(value=0.0, max=13.0), HTML(value='')))"
      ]
     },
     "metadata": {},
     "output_type": "display_data"
    },
    {
     "data": {
      "application/vnd.jupyter.widget-view+json": {
       "model_id": "",
       "version_major": 2,
       "version_minor": 0
      },
      "text/plain": [
       "HBox(children=(HTML(value=''), FloatProgress(value=0.0, max=12.0), HTML(value='')))"
      ]
     },
     "metadata": {},
     "output_type": "display_data"
    },
    {
     "name": "stdout",
     "output_type": "stream",
     "text": [
      "Training Results - Epoch[19/1000] Loss : 42.721377244671245\n"
     ]
    },
    {
     "data": {
      "application/vnd.jupyter.widget-view+json": {
       "model_id": "",
       "version_major": 2,
       "version_minor": 0
      },
      "text/plain": [
       "HBox(children=(HTML(value=''), FloatProgress(value=0.0, max=13.0), HTML(value='')))"
      ]
     },
     "metadata": {},
     "output_type": "display_data"
    },
    {
     "data": {
      "application/vnd.jupyter.widget-view+json": {
       "model_id": "",
       "version_major": 2,
       "version_minor": 0
      },
      "text/plain": [
       "HBox(children=(HTML(value=''), FloatProgress(value=0.0, max=12.0), HTML(value='')))"
      ]
     },
     "metadata": {},
     "output_type": "display_data"
    },
    {
     "name": "stdout",
     "output_type": "stream",
     "text": [
      "Training Results - Epoch[20/1000] Loss : 51.13749140877573\n"
     ]
    },
    {
     "data": {
      "application/vnd.jupyter.widget-view+json": {
       "model_id": "",
       "version_major": 2,
       "version_minor": 0
      },
      "text/plain": [
       "HBox(children=(HTML(value=''), FloatProgress(value=0.0, max=13.0), HTML(value='')))"
      ]
     },
     "metadata": {},
     "output_type": "display_data"
    },
    {
     "data": {
      "application/vnd.jupyter.widget-view+json": {
       "model_id": "",
       "version_major": 2,
       "version_minor": 0
      },
      "text/plain": [
       "HBox(children=(HTML(value=''), FloatProgress(value=0.0, max=12.0), HTML(value='')))"
      ]
     },
     "metadata": {},
     "output_type": "display_data"
    },
    {
     "name": "stdout",
     "output_type": "stream",
     "text": [
      "Training Results - Epoch[21/1000] Loss : 44.470547185230224\n"
     ]
    },
    {
     "data": {
      "application/vnd.jupyter.widget-view+json": {
       "model_id": "",
       "version_major": 2,
       "version_minor": 0
      },
      "text/plain": [
       "HBox(children=(HTML(value=''), FloatProgress(value=0.0, max=13.0), HTML(value='')))"
      ]
     },
     "metadata": {},
     "output_type": "display_data"
    },
    {
     "data": {
      "application/vnd.jupyter.widget-view+json": {
       "model_id": "",
       "version_major": 2,
       "version_minor": 0
      },
      "text/plain": [
       "HBox(children=(HTML(value=''), FloatProgress(value=0.0, max=12.0), HTML(value='')))"
      ]
     },
     "metadata": {},
     "output_type": "display_data"
    },
    {
     "name": "stdout",
     "output_type": "stream",
     "text": [
      "Training Results - Epoch[22/1000] Loss : 32.48721994061031\n"
     ]
    },
    {
     "data": {
      "application/vnd.jupyter.widget-view+json": {
       "model_id": "",
       "version_major": 2,
       "version_minor": 0
      },
      "text/plain": [
       "HBox(children=(HTML(value=''), FloatProgress(value=0.0, max=13.0), HTML(value='')))"
      ]
     },
     "metadata": {},
     "output_type": "display_data"
    },
    {
     "data": {
      "application/vnd.jupyter.widget-view+json": {
       "model_id": "",
       "version_major": 2,
       "version_minor": 0
      },
      "text/plain": [
       "HBox(children=(HTML(value=''), FloatProgress(value=0.0, max=12.0), HTML(value='')))"
      ]
     },
     "metadata": {},
     "output_type": "display_data"
    },
    {
     "name": "stdout",
     "output_type": "stream",
     "text": [
      "Training Results - Epoch[23/1000] Loss : 34.040091706971374\n"
     ]
    },
    {
     "data": {
      "application/vnd.jupyter.widget-view+json": {
       "model_id": "",
       "version_major": 2,
       "version_minor": 0
      },
      "text/plain": [
       "HBox(children=(HTML(value=''), FloatProgress(value=0.0, max=13.0), HTML(value='')))"
      ]
     },
     "metadata": {},
     "output_type": "display_data"
    },
    {
     "data": {
      "application/vnd.jupyter.widget-view+json": {
       "model_id": "",
       "version_major": 2,
       "version_minor": 0
      },
      "text/plain": [
       "HBox(children=(HTML(value=''), FloatProgress(value=0.0, max=12.0), HTML(value='')))"
      ]
     },
     "metadata": {},
     "output_type": "display_data"
    },
    {
     "name": "stdout",
     "output_type": "stream",
     "text": [
      "Training Results - Epoch[24/1000] Loss : 25.035246974595566\n"
     ]
    },
    {
     "data": {
      "application/vnd.jupyter.widget-view+json": {
       "model_id": "",
       "version_major": 2,
       "version_minor": 0
      },
      "text/plain": [
       "HBox(children=(HTML(value=''), FloatProgress(value=0.0, max=13.0), HTML(value='')))"
      ]
     },
     "metadata": {},
     "output_type": "display_data"
    },
    {
     "data": {
      "application/vnd.jupyter.widget-view+json": {
       "model_id": "",
       "version_major": 2,
       "version_minor": 0
      },
      "text/plain": [
       "HBox(children=(HTML(value=''), FloatProgress(value=0.0, max=12.0), HTML(value='')))"
      ]
     },
     "metadata": {},
     "output_type": "display_data"
    },
    {
     "name": "stdout",
     "output_type": "stream",
     "text": [
      "Training Results - Epoch[25/1000] Loss : 30.685973424307335\n"
     ]
    },
    {
     "data": {
      "application/vnd.jupyter.widget-view+json": {
       "model_id": "",
       "version_major": 2,
       "version_minor": 0
      },
      "text/plain": [
       "HBox(children=(HTML(value=''), FloatProgress(value=0.0, max=13.0), HTML(value='')))"
      ]
     },
     "metadata": {},
     "output_type": "display_data"
    },
    {
     "data": {
      "application/vnd.jupyter.widget-view+json": {
       "model_id": "",
       "version_major": 2,
       "version_minor": 0
      },
      "text/plain": [
       "HBox(children=(HTML(value=''), FloatProgress(value=0.0, max=12.0), HTML(value='')))"
      ]
     },
     "metadata": {},
     "output_type": "display_data"
    },
    {
     "name": "stdout",
     "output_type": "stream",
     "text": [
      "Training Results - Epoch[26/1000] Loss : 23.16037042961413\n"
     ]
    },
    {
     "data": {
      "application/vnd.jupyter.widget-view+json": {
       "model_id": "",
       "version_major": 2,
       "version_minor": 0
      },
      "text/plain": [
       "HBox(children=(HTML(value=''), FloatProgress(value=0.0, max=13.0), HTML(value='')))"
      ]
     },
     "metadata": {},
     "output_type": "display_data"
    },
    {
     "data": {
      "application/vnd.jupyter.widget-view+json": {
       "model_id": "",
       "version_major": 2,
       "version_minor": 0
      },
      "text/plain": [
       "HBox(children=(HTML(value=''), FloatProgress(value=0.0, max=12.0), HTML(value='')))"
      ]
     },
     "metadata": {},
     "output_type": "display_data"
    },
    {
     "name": "stdout",
     "output_type": "stream",
     "text": [
      "Training Results - Epoch[27/1000] Loss : 18.500453024970568\n"
     ]
    },
    {
     "data": {
      "application/vnd.jupyter.widget-view+json": {
       "model_id": "",
       "version_major": 2,
       "version_minor": 0
      },
      "text/plain": [
       "HBox(children=(HTML(value=''), FloatProgress(value=0.0, max=13.0), HTML(value='')))"
      ]
     },
     "metadata": {},
     "output_type": "display_data"
    },
    {
     "data": {
      "application/vnd.jupyter.widget-view+json": {
       "model_id": "",
       "version_major": 2,
       "version_minor": 0
      },
      "text/plain": [
       "HBox(children=(HTML(value=''), FloatProgress(value=0.0, max=12.0), HTML(value='')))"
      ]
     },
     "metadata": {},
     "output_type": "display_data"
    },
    {
     "name": "stdout",
     "output_type": "stream",
     "text": [
      "Training Results - Epoch[28/1000] Loss : 14.084575570222825\n"
     ]
    },
    {
     "data": {
      "application/vnd.jupyter.widget-view+json": {
       "model_id": "",
       "version_major": 2,
       "version_minor": 0
      },
      "text/plain": [
       "HBox(children=(HTML(value=''), FloatProgress(value=0.0, max=13.0), HTML(value='')))"
      ]
     },
     "metadata": {},
     "output_type": "display_data"
    },
    {
     "data": {
      "application/vnd.jupyter.widget-view+json": {
       "model_id": "",
       "version_major": 2,
       "version_minor": 0
      },
      "text/plain": [
       "HBox(children=(HTML(value=''), FloatProgress(value=0.0, max=12.0), HTML(value='')))"
      ]
     },
     "metadata": {},
     "output_type": "display_data"
    },
    {
     "name": "stdout",
     "output_type": "stream",
     "text": [
      "Training Results - Epoch[29/1000] Loss : 11.118262293062958\n"
     ]
    },
    {
     "data": {
      "application/vnd.jupyter.widget-view+json": {
       "model_id": "",
       "version_major": 2,
       "version_minor": 0
      },
      "text/plain": [
       "HBox(children=(HTML(value=''), FloatProgress(value=0.0, max=13.0), HTML(value='')))"
      ]
     },
     "metadata": {},
     "output_type": "display_data"
    },
    {
     "data": {
      "application/vnd.jupyter.widget-view+json": {
       "model_id": "",
       "version_major": 2,
       "version_minor": 0
      },
      "text/plain": [
       "HBox(children=(HTML(value=''), FloatProgress(value=0.0, max=12.0), HTML(value='')))"
      ]
     },
     "metadata": {},
     "output_type": "display_data"
    },
    {
     "name": "stdout",
     "output_type": "stream",
     "text": [
      "Training Results - Epoch[30/1000] Loss : 10.641830106961926\n"
     ]
    },
    {
     "data": {
      "application/vnd.jupyter.widget-view+json": {
       "model_id": "",
       "version_major": 2,
       "version_minor": 0
      },
      "text/plain": [
       "HBox(children=(HTML(value=''), FloatProgress(value=0.0, max=13.0), HTML(value='')))"
      ]
     },
     "metadata": {},
     "output_type": "display_data"
    },
    {
     "data": {
      "application/vnd.jupyter.widget-view+json": {
       "model_id": "",
       "version_major": 2,
       "version_minor": 0
      },
      "text/plain": [
       "HBox(children=(HTML(value=''), FloatProgress(value=0.0, max=12.0), HTML(value='')))"
      ]
     },
     "metadata": {},
     "output_type": "display_data"
    },
    {
     "name": "stdout",
     "output_type": "stream",
     "text": [
      "Training Results - Epoch[31/1000] Loss : 10.363065149589499\n"
     ]
    },
    {
     "data": {
      "application/vnd.jupyter.widget-view+json": {
       "model_id": "",
       "version_major": 2,
       "version_minor": 0
      },
      "text/plain": [
       "HBox(children=(HTML(value=''), FloatProgress(value=0.0, max=13.0), HTML(value='')))"
      ]
     },
     "metadata": {},
     "output_type": "display_data"
    },
    {
     "data": {
      "application/vnd.jupyter.widget-view+json": {
       "model_id": "",
       "version_major": 2,
       "version_minor": 0
      },
      "text/plain": [
       "HBox(children=(HTML(value=''), FloatProgress(value=0.0, max=12.0), HTML(value='')))"
      ]
     },
     "metadata": {},
     "output_type": "display_data"
    },
    {
     "name": "stdout",
     "output_type": "stream",
     "text": [
      "Training Results - Epoch[32/1000] Loss : 8.764018929173552\n"
     ]
    },
    {
     "data": {
      "application/vnd.jupyter.widget-view+json": {
       "model_id": "",
       "version_major": 2,
       "version_minor": 0
      },
      "text/plain": [
       "HBox(children=(HTML(value=''), FloatProgress(value=0.0, max=13.0), HTML(value='')))"
      ]
     },
     "metadata": {},
     "output_type": "display_data"
    },
    {
     "data": {
      "application/vnd.jupyter.widget-view+json": {
       "model_id": "",
       "version_major": 2,
       "version_minor": 0
      },
      "text/plain": [
       "HBox(children=(HTML(value=''), FloatProgress(value=0.0, max=12.0), HTML(value='')))"
      ]
     },
     "metadata": {},
     "output_type": "display_data"
    },
    {
     "name": "stdout",
     "output_type": "stream",
     "text": [
      "Training Results - Epoch[33/1000] Loss : 8.438297842256393\n"
     ]
    },
    {
     "data": {
      "application/vnd.jupyter.widget-view+json": {
       "model_id": "",
       "version_major": 2,
       "version_minor": 0
      },
      "text/plain": [
       "HBox(children=(HTML(value=''), FloatProgress(value=0.0, max=13.0), HTML(value='')))"
      ]
     },
     "metadata": {},
     "output_type": "display_data"
    },
    {
     "data": {
      "application/vnd.jupyter.widget-view+json": {
       "model_id": "",
       "version_major": 2,
       "version_minor": 0
      },
      "text/plain": [
       "HBox(children=(HTML(value=''), FloatProgress(value=0.0, max=12.0), HTML(value='')))"
      ]
     },
     "metadata": {},
     "output_type": "display_data"
    },
    {
     "name": "stdout",
     "output_type": "stream",
     "text": [
      "Training Results - Epoch[34/1000] Loss : 8.614627411400399\n"
     ]
    },
    {
     "data": {
      "application/vnd.jupyter.widget-view+json": {
       "model_id": "",
       "version_major": 2,
       "version_minor": 0
      },
      "text/plain": [
       "HBox(children=(HTML(value=''), FloatProgress(value=0.0, max=13.0), HTML(value='')))"
      ]
     },
     "metadata": {},
     "output_type": "display_data"
    },
    {
     "data": {
      "application/vnd.jupyter.widget-view+json": {
       "model_id": "",
       "version_major": 2,
       "version_minor": 0
      },
      "text/plain": [
       "HBox(children=(HTML(value=''), FloatProgress(value=0.0, max=12.0), HTML(value='')))"
      ]
     },
     "metadata": {},
     "output_type": "display_data"
    },
    {
     "name": "stdout",
     "output_type": "stream",
     "text": [
      "Training Results - Epoch[35/1000] Loss : 6.65785669965335\n"
     ]
    },
    {
     "data": {
      "application/vnd.jupyter.widget-view+json": {
       "model_id": "",
       "version_major": 2,
       "version_minor": 0
      },
      "text/plain": [
       "HBox(children=(HTML(value=''), FloatProgress(value=0.0, max=13.0), HTML(value='')))"
      ]
     },
     "metadata": {},
     "output_type": "display_data"
    },
    {
     "data": {
      "application/vnd.jupyter.widget-view+json": {
       "model_id": "",
       "version_major": 2,
       "version_minor": 0
      },
      "text/plain": [
       "HBox(children=(HTML(value=''), FloatProgress(value=0.0, max=12.0), HTML(value='')))"
      ]
     },
     "metadata": {},
     "output_type": "display_data"
    },
    {
     "name": "stdout",
     "output_type": "stream",
     "text": [
      "Training Results - Epoch[36/1000] Loss : 5.590109941826522\n"
     ]
    },
    {
     "data": {
      "application/vnd.jupyter.widget-view+json": {
       "model_id": "",
       "version_major": 2,
       "version_minor": 0
      },
      "text/plain": [
       "HBox(children=(HTML(value=''), FloatProgress(value=0.0, max=13.0), HTML(value='')))"
      ]
     },
     "metadata": {},
     "output_type": "display_data"
    },
    {
     "data": {
      "application/vnd.jupyter.widget-view+json": {
       "model_id": "",
       "version_major": 2,
       "version_minor": 0
      },
      "text/plain": [
       "HBox(children=(HTML(value=''), FloatProgress(value=0.0, max=12.0), HTML(value='')))"
      ]
     },
     "metadata": {},
     "output_type": "display_data"
    },
    {
     "name": "stdout",
     "output_type": "stream",
     "text": [
      "Training Results - Epoch[37/1000] Loss : 4.351305258273337\n"
     ]
    },
    {
     "data": {
      "application/vnd.jupyter.widget-view+json": {
       "model_id": "",
       "version_major": 2,
       "version_minor": 0
      },
      "text/plain": [
       "HBox(children=(HTML(value=''), FloatProgress(value=0.0, max=13.0), HTML(value='')))"
      ]
     },
     "metadata": {},
     "output_type": "display_data"
    },
    {
     "data": {
      "application/vnd.jupyter.widget-view+json": {
       "model_id": "",
       "version_major": 2,
       "version_minor": 0
      },
      "text/plain": [
       "HBox(children=(HTML(value=''), FloatProgress(value=0.0, max=12.0), HTML(value='')))"
      ]
     },
     "metadata": {},
     "output_type": "display_data"
    },
    {
     "name": "stdout",
     "output_type": "stream",
     "text": [
      "Training Results - Epoch[38/1000] Loss : 5.150105506483189\n"
     ]
    },
    {
     "data": {
      "application/vnd.jupyter.widget-view+json": {
       "model_id": "",
       "version_major": 2,
       "version_minor": 0
      },
      "text/plain": [
       "HBox(children=(HTML(value=''), FloatProgress(value=0.0, max=13.0), HTML(value='')))"
      ]
     },
     "metadata": {},
     "output_type": "display_data"
    },
    {
     "data": {
      "application/vnd.jupyter.widget-view+json": {
       "model_id": "",
       "version_major": 2,
       "version_minor": 0
      },
      "text/plain": [
       "HBox(children=(HTML(value=''), FloatProgress(value=0.0, max=12.0), HTML(value='')))"
      ]
     },
     "metadata": {},
     "output_type": "display_data"
    },
    {
     "name": "stdout",
     "output_type": "stream",
     "text": [
      "Training Results - Epoch[39/1000] Loss : 5.310510907747207\n"
     ]
    },
    {
     "data": {
      "application/vnd.jupyter.widget-view+json": {
       "model_id": "",
       "version_major": 2,
       "version_minor": 0
      },
      "text/plain": [
       "HBox(children=(HTML(value=''), FloatProgress(value=0.0, max=13.0), HTML(value='')))"
      ]
     },
     "metadata": {},
     "output_type": "display_data"
    },
    {
     "data": {
      "application/vnd.jupyter.widget-view+json": {
       "model_id": "",
       "version_major": 2,
       "version_minor": 0
      },
      "text/plain": [
       "HBox(children=(HTML(value=''), FloatProgress(value=0.0, max=12.0), HTML(value='')))"
      ]
     },
     "metadata": {},
     "output_type": "display_data"
    },
    {
     "name": "stdout",
     "output_type": "stream",
     "text": [
      "Training Results - Epoch[40/1000] Loss : 4.918032300632048\n"
     ]
    },
    {
     "data": {
      "application/vnd.jupyter.widget-view+json": {
       "model_id": "",
       "version_major": 2,
       "version_minor": 0
      },
      "text/plain": [
       "HBox(children=(HTML(value=''), FloatProgress(value=0.0, max=13.0), HTML(value='')))"
      ]
     },
     "metadata": {},
     "output_type": "display_data"
    },
    {
     "data": {
      "application/vnd.jupyter.widget-view+json": {
       "model_id": "",
       "version_major": 2,
       "version_minor": 0
      },
      "text/plain": [
       "HBox(children=(HTML(value=''), FloatProgress(value=0.0, max=12.0), HTML(value='')))"
      ]
     },
     "metadata": {},
     "output_type": "display_data"
    },
    {
     "name": "stdout",
     "output_type": "stream",
     "text": [
      "Training Results - Epoch[41/1000] Loss : 4.491579063026959\n"
     ]
    },
    {
     "data": {
      "application/vnd.jupyter.widget-view+json": {
       "model_id": "",
       "version_major": 2,
       "version_minor": 0
      },
      "text/plain": [
       "HBox(children=(HTML(value=''), FloatProgress(value=0.0, max=13.0), HTML(value='')))"
      ]
     },
     "metadata": {},
     "output_type": "display_data"
    },
    {
     "data": {
      "application/vnd.jupyter.widget-view+json": {
       "model_id": "",
       "version_major": 2,
       "version_minor": 0
      },
      "text/plain": [
       "HBox(children=(HTML(value=''), FloatProgress(value=0.0, max=12.0), HTML(value='')))"
      ]
     },
     "metadata": {},
     "output_type": "display_data"
    },
    {
     "name": "stdout",
     "output_type": "stream",
     "text": [
      "Training Results - Epoch[42/1000] Loss : 6.8248037705381694\n"
     ]
    },
    {
     "data": {
      "application/vnd.jupyter.widget-view+json": {
       "model_id": "",
       "version_major": 2,
       "version_minor": 0
      },
      "text/plain": [
       "HBox(children=(HTML(value=''), FloatProgress(value=0.0, max=13.0), HTML(value='')))"
      ]
     },
     "metadata": {},
     "output_type": "display_data"
    },
    {
     "data": {
      "application/vnd.jupyter.widget-view+json": {
       "model_id": "",
       "version_major": 2,
       "version_minor": 0
      },
      "text/plain": [
       "HBox(children=(HTML(value=''), FloatProgress(value=0.0, max=12.0), HTML(value='')))"
      ]
     },
     "metadata": {},
     "output_type": "display_data"
    },
    {
     "name": "stdout",
     "output_type": "stream",
     "text": [
      "Training Results - Epoch[43/1000] Loss : 3.8612831242359373\n"
     ]
    },
    {
     "data": {
      "application/vnd.jupyter.widget-view+json": {
       "model_id": "",
       "version_major": 2,
       "version_minor": 0
      },
      "text/plain": [
       "HBox(children=(HTML(value=''), FloatProgress(value=0.0, max=13.0), HTML(value='')))"
      ]
     },
     "metadata": {},
     "output_type": "display_data"
    },
    {
     "data": {
      "application/vnd.jupyter.widget-view+json": {
       "model_id": "",
       "version_major": 2,
       "version_minor": 0
      },
      "text/plain": [
       "HBox(children=(HTML(value=''), FloatProgress(value=0.0, max=12.0), HTML(value='')))"
      ]
     },
     "metadata": {},
     "output_type": "display_data"
    },
    {
     "name": "stdout",
     "output_type": "stream",
     "text": [
      "Training Results - Epoch[44/1000] Loss : 3.617506324721882\n"
     ]
    },
    {
     "data": {
      "application/vnd.jupyter.widget-view+json": {
       "model_id": "",
       "version_major": 2,
       "version_minor": 0
      },
      "text/plain": [
       "HBox(children=(HTML(value=''), FloatProgress(value=0.0, max=13.0), HTML(value='')))"
      ]
     },
     "metadata": {},
     "output_type": "display_data"
    },
    {
     "data": {
      "application/vnd.jupyter.widget-view+json": {
       "model_id": "",
       "version_major": 2,
       "version_minor": 0
      },
      "text/plain": [
       "HBox(children=(HTML(value=''), FloatProgress(value=0.0, max=12.0), HTML(value='')))"
      ]
     },
     "metadata": {},
     "output_type": "display_data"
    },
    {
     "name": "stdout",
     "output_type": "stream",
     "text": [
      "Training Results - Epoch[45/1000] Loss : 5.224253394151596\n"
     ]
    },
    {
     "data": {
      "application/vnd.jupyter.widget-view+json": {
       "model_id": "",
       "version_major": 2,
       "version_minor": 0
      },
      "text/plain": [
       "HBox(children=(HTML(value=''), FloatProgress(value=0.0, max=13.0), HTML(value='')))"
      ]
     },
     "metadata": {},
     "output_type": "display_data"
    },
    {
     "data": {
      "application/vnd.jupyter.widget-view+json": {
       "model_id": "",
       "version_major": 2,
       "version_minor": 0
      },
      "text/plain": [
       "HBox(children=(HTML(value=''), FloatProgress(value=0.0, max=12.0), HTML(value='')))"
      ]
     },
     "metadata": {},
     "output_type": "display_data"
    },
    {
     "name": "stdout",
     "output_type": "stream",
     "text": [
      "Training Results - Epoch[46/1000] Loss : 3.7203904477245446\n"
     ]
    },
    {
     "data": {
      "application/vnd.jupyter.widget-view+json": {
       "model_id": "",
       "version_major": 2,
       "version_minor": 0
      },
      "text/plain": [
       "HBox(children=(HTML(value=''), FloatProgress(value=0.0, max=13.0), HTML(value='')))"
      ]
     },
     "metadata": {},
     "output_type": "display_data"
    },
    {
     "data": {
      "application/vnd.jupyter.widget-view+json": {
       "model_id": "",
       "version_major": 2,
       "version_minor": 0
      },
      "text/plain": [
       "HBox(children=(HTML(value=''), FloatProgress(value=0.0, max=12.0), HTML(value='')))"
      ]
     },
     "metadata": {},
     "output_type": "display_data"
    },
    {
     "name": "stdout",
     "output_type": "stream",
     "text": [
      "Training Results - Epoch[47/1000] Loss : 4.607210076449515\n"
     ]
    },
    {
     "data": {
      "application/vnd.jupyter.widget-view+json": {
       "model_id": "",
       "version_major": 2,
       "version_minor": 0
      },
      "text/plain": [
       "HBox(children=(HTML(value=''), FloatProgress(value=0.0, max=13.0), HTML(value='')))"
      ]
     },
     "metadata": {},
     "output_type": "display_data"
    },
    {
     "data": {
      "application/vnd.jupyter.widget-view+json": {
       "model_id": "",
       "version_major": 2,
       "version_minor": 0
      },
      "text/plain": [
       "HBox(children=(HTML(value=''), FloatProgress(value=0.0, max=12.0), HTML(value='')))"
      ]
     },
     "metadata": {},
     "output_type": "display_data"
    },
    {
     "name": "stdout",
     "output_type": "stream",
     "text": [
      "Training Results - Epoch[48/1000] Loss : 2.7999218735275195\n"
     ]
    },
    {
     "data": {
      "application/vnd.jupyter.widget-view+json": {
       "model_id": "",
       "version_major": 2,
       "version_minor": 0
      },
      "text/plain": [
       "HBox(children=(HTML(value=''), FloatProgress(value=0.0, max=13.0), HTML(value='')))"
      ]
     },
     "metadata": {},
     "output_type": "display_data"
    },
    {
     "data": {
      "application/vnd.jupyter.widget-view+json": {
       "model_id": "",
       "version_major": 2,
       "version_minor": 0
      },
      "text/plain": [
       "HBox(children=(HTML(value=''), FloatProgress(value=0.0, max=12.0), HTML(value='')))"
      ]
     },
     "metadata": {},
     "output_type": "display_data"
    },
    {
     "name": "stdout",
     "output_type": "stream",
     "text": [
      "Training Results - Epoch[49/1000] Loss : 3.5129732112424548\n"
     ]
    },
    {
     "data": {
      "application/vnd.jupyter.widget-view+json": {
       "model_id": "",
       "version_major": 2,
       "version_minor": 0
      },
      "text/plain": [
       "HBox(children=(HTML(value=''), FloatProgress(value=0.0, max=13.0), HTML(value='')))"
      ]
     },
     "metadata": {},
     "output_type": "display_data"
    },
    {
     "data": {
      "application/vnd.jupyter.widget-view+json": {
       "model_id": "",
       "version_major": 2,
       "version_minor": 0
      },
      "text/plain": [
       "HBox(children=(HTML(value=''), FloatProgress(value=0.0, max=12.0), HTML(value='')))"
      ]
     },
     "metadata": {},
     "output_type": "display_data"
    },
    {
     "name": "stdout",
     "output_type": "stream",
     "text": [
      "Training Results - Epoch[50/1000] Loss : 3.774067058334118\n"
     ]
    },
    {
     "data": {
      "application/vnd.jupyter.widget-view+json": {
       "model_id": "",
       "version_major": 2,
       "version_minor": 0
      },
      "text/plain": [
       "HBox(children=(HTML(value=''), FloatProgress(value=0.0, max=13.0), HTML(value='')))"
      ]
     },
     "metadata": {},
     "output_type": "display_data"
    },
    {
     "data": {
      "application/vnd.jupyter.widget-view+json": {
       "model_id": "",
       "version_major": 2,
       "version_minor": 0
      },
      "text/plain": [
       "HBox(children=(HTML(value=''), FloatProgress(value=0.0, max=12.0), HTML(value='')))"
      ]
     },
     "metadata": {},
     "output_type": "display_data"
    },
    {
     "name": "stdout",
     "output_type": "stream",
     "text": [
      "Training Results - Epoch[51/1000] Loss : 3.5087573126657077\n"
     ]
    },
    {
     "data": {
      "application/vnd.jupyter.widget-view+json": {
       "model_id": "",
       "version_major": 2,
       "version_minor": 0
      },
      "text/plain": [
       "HBox(children=(HTML(value=''), FloatProgress(value=0.0, max=13.0), HTML(value='')))"
      ]
     },
     "metadata": {},
     "output_type": "display_data"
    },
    {
     "data": {
      "application/vnd.jupyter.widget-view+json": {
       "model_id": "",
       "version_major": 2,
       "version_minor": 0
      },
      "text/plain": [
       "HBox(children=(HTML(value=''), FloatProgress(value=0.0, max=12.0), HTML(value='')))"
      ]
     },
     "metadata": {},
     "output_type": "display_data"
    },
    {
     "name": "stdout",
     "output_type": "stream",
     "text": [
      "Training Results - Epoch[52/1000] Loss : 3.1116291501493096\n"
     ]
    },
    {
     "data": {
      "application/vnd.jupyter.widget-view+json": {
       "model_id": "",
       "version_major": 2,
       "version_minor": 0
      },
      "text/plain": [
       "HBox(children=(HTML(value=''), FloatProgress(value=0.0, max=13.0), HTML(value='')))"
      ]
     },
     "metadata": {},
     "output_type": "display_data"
    },
    {
     "data": {
      "application/vnd.jupyter.widget-view+json": {
       "model_id": "",
       "version_major": 2,
       "version_minor": 0
      },
      "text/plain": [
       "HBox(children=(HTML(value=''), FloatProgress(value=0.0, max=12.0), HTML(value='')))"
      ]
     },
     "metadata": {},
     "output_type": "display_data"
    },
    {
     "name": "stdout",
     "output_type": "stream",
     "text": [
      "Training Results - Epoch[53/1000] Loss : 3.7363447848014286\n"
     ]
    },
    {
     "data": {
      "application/vnd.jupyter.widget-view+json": {
       "model_id": "",
       "version_major": 2,
       "version_minor": 0
      },
      "text/plain": [
       "HBox(children=(HTML(value=''), FloatProgress(value=0.0, max=13.0), HTML(value='')))"
      ]
     },
     "metadata": {},
     "output_type": "display_data"
    },
    {
     "data": {
      "application/vnd.jupyter.widget-view+json": {
       "model_id": "",
       "version_major": 2,
       "version_minor": 0
      },
      "text/plain": [
       "HBox(children=(HTML(value=''), FloatProgress(value=0.0, max=12.0), HTML(value='')))"
      ]
     },
     "metadata": {},
     "output_type": "display_data"
    },
    {
     "name": "stdout",
     "output_type": "stream",
     "text": [
      "Training Results - Epoch[54/1000] Loss : 5.200876388485493\n"
     ]
    },
    {
     "data": {
      "application/vnd.jupyter.widget-view+json": {
       "model_id": "",
       "version_major": 2,
       "version_minor": 0
      },
      "text/plain": [
       "HBox(children=(HTML(value=''), FloatProgress(value=0.0, max=13.0), HTML(value='')))"
      ]
     },
     "metadata": {},
     "output_type": "display_data"
    },
    {
     "data": {
      "application/vnd.jupyter.widget-view+json": {
       "model_id": "",
       "version_major": 2,
       "version_minor": 0
      },
      "text/plain": [
       "HBox(children=(HTML(value=''), FloatProgress(value=0.0, max=12.0), HTML(value='')))"
      ]
     },
     "metadata": {},
     "output_type": "display_data"
    },
    {
     "name": "stdout",
     "output_type": "stream",
     "text": [
      "Training Results - Epoch[55/1000] Loss : 4.286899187740425\n"
     ]
    },
    {
     "data": {
      "application/vnd.jupyter.widget-view+json": {
       "model_id": "",
       "version_major": 2,
       "version_minor": 0
      },
      "text/plain": [
       "HBox(children=(HTML(value=''), FloatProgress(value=0.0, max=13.0), HTML(value='')))"
      ]
     },
     "metadata": {},
     "output_type": "display_data"
    },
    {
     "data": {
      "application/vnd.jupyter.widget-view+json": {
       "model_id": "",
       "version_major": 2,
       "version_minor": 0
      },
      "text/plain": [
       "HBox(children=(HTML(value=''), FloatProgress(value=0.0, max=12.0), HTML(value='')))"
      ]
     },
     "metadata": {},
     "output_type": "display_data"
    },
    {
     "name": "stdout",
     "output_type": "stream",
     "text": [
      "Training Results - Epoch[56/1000] Loss : 3.890858687261185\n"
     ]
    },
    {
     "data": {
      "application/vnd.jupyter.widget-view+json": {
       "model_id": "",
       "version_major": 2,
       "version_minor": 0
      },
      "text/plain": [
       "HBox(children=(HTML(value=''), FloatProgress(value=0.0, max=13.0), HTML(value='')))"
      ]
     },
     "metadata": {},
     "output_type": "display_data"
    },
    {
     "data": {
      "application/vnd.jupyter.widget-view+json": {
       "model_id": "",
       "version_major": 2,
       "version_minor": 0
      },
      "text/plain": [
       "HBox(children=(HTML(value=''), FloatProgress(value=0.0, max=12.0), HTML(value='')))"
      ]
     },
     "metadata": {},
     "output_type": "display_data"
    },
    {
     "name": "stdout",
     "output_type": "stream",
     "text": [
      "Training Results - Epoch[57/1000] Loss : 3.310919331301628\n"
     ]
    },
    {
     "data": {
      "application/vnd.jupyter.widget-view+json": {
       "model_id": "",
       "version_major": 2,
       "version_minor": 0
      },
      "text/plain": [
       "HBox(children=(HTML(value=''), FloatProgress(value=0.0, max=13.0), HTML(value='')))"
      ]
     },
     "metadata": {},
     "output_type": "display_data"
    },
    {
     "data": {
      "application/vnd.jupyter.widget-view+json": {
       "model_id": "",
       "version_major": 2,
       "version_minor": 0
      },
      "text/plain": [
       "HBox(children=(HTML(value=''), FloatProgress(value=0.0, max=12.0), HTML(value='')))"
      ]
     },
     "metadata": {},
     "output_type": "display_data"
    },
    {
     "name": "stdout",
     "output_type": "stream",
     "text": [
      "Training Results - Epoch[58/1000] Loss : 3.627192806750084\n"
     ]
    },
    {
     "data": {
      "application/vnd.jupyter.widget-view+json": {
       "model_id": "",
       "version_major": 2,
       "version_minor": 0
      },
      "text/plain": [
       "HBox(children=(HTML(value=''), FloatProgress(value=0.0, max=13.0), HTML(value='')))"
      ]
     },
     "metadata": {},
     "output_type": "display_data"
    },
    {
     "data": {
      "application/vnd.jupyter.widget-view+json": {
       "model_id": "",
       "version_major": 2,
       "version_minor": 0
      },
      "text/plain": [
       "HBox(children=(HTML(value=''), FloatProgress(value=0.0, max=12.0), HTML(value='')))"
      ]
     },
     "metadata": {},
     "output_type": "display_data"
    },
    {
     "name": "stdout",
     "output_type": "stream",
     "text": [
      "Training Results - Epoch[59/1000] Loss : 4.098364260527975\n"
     ]
    },
    {
     "data": {
      "application/vnd.jupyter.widget-view+json": {
       "model_id": "",
       "version_major": 2,
       "version_minor": 0
      },
      "text/plain": [
       "HBox(children=(HTML(value=''), FloatProgress(value=0.0, max=13.0), HTML(value='')))"
      ]
     },
     "metadata": {},
     "output_type": "display_data"
    },
    {
     "data": {
      "application/vnd.jupyter.widget-view+json": {
       "model_id": "",
       "version_major": 2,
       "version_minor": 0
      },
      "text/plain": [
       "HBox(children=(HTML(value=''), FloatProgress(value=0.0, max=12.0), HTML(value='')))"
      ]
     },
     "metadata": {},
     "output_type": "display_data"
    },
    {
     "name": "stdout",
     "output_type": "stream",
     "text": [
      "Training Results - Epoch[60/1000] Loss : 3.743421166229092\n"
     ]
    },
    {
     "data": {
      "application/vnd.jupyter.widget-view+json": {
       "model_id": "",
       "version_major": 2,
       "version_minor": 0
      },
      "text/plain": [
       "HBox(children=(HTML(value=''), FloatProgress(value=0.0, max=13.0), HTML(value='')))"
      ]
     },
     "metadata": {},
     "output_type": "display_data"
    },
    {
     "data": {
      "application/vnd.jupyter.widget-view+json": {
       "model_id": "",
       "version_major": 2,
       "version_minor": 0
      },
      "text/plain": [
       "HBox(children=(HTML(value=''), FloatProgress(value=0.0, max=12.0), HTML(value='')))"
      ]
     },
     "metadata": {},
     "output_type": "display_data"
    },
    {
     "name": "stdout",
     "output_type": "stream",
     "text": [
      "Training Results - Epoch[61/1000] Loss : 3.539288911913797\n"
     ]
    },
    {
     "data": {
      "application/vnd.jupyter.widget-view+json": {
       "model_id": "",
       "version_major": 2,
       "version_minor": 0
      },
      "text/plain": [
       "HBox(children=(HTML(value=''), FloatProgress(value=0.0, max=13.0), HTML(value='')))"
      ]
     },
     "metadata": {},
     "output_type": "display_data"
    },
    {
     "data": {
      "application/vnd.jupyter.widget-view+json": {
       "model_id": "",
       "version_major": 2,
       "version_minor": 0
      },
      "text/plain": [
       "HBox(children=(HTML(value=''), FloatProgress(value=0.0, max=12.0), HTML(value='')))"
      ]
     },
     "metadata": {},
     "output_type": "display_data"
    },
    {
     "name": "stdout",
     "output_type": "stream",
     "text": [
      "Training Results - Epoch[62/1000] Loss : 6.673412799623374\n"
     ]
    },
    {
     "data": {
      "application/vnd.jupyter.widget-view+json": {
       "model_id": "",
       "version_major": 2,
       "version_minor": 0
      },
      "text/plain": [
       "HBox(children=(HTML(value=''), FloatProgress(value=0.0, max=13.0), HTML(value='')))"
      ]
     },
     "metadata": {},
     "output_type": "display_data"
    },
    {
     "data": {
      "application/vnd.jupyter.widget-view+json": {
       "model_id": "",
       "version_major": 2,
       "version_minor": 0
      },
      "text/plain": [
       "HBox(children=(HTML(value=''), FloatProgress(value=0.0, max=12.0), HTML(value='')))"
      ]
     },
     "metadata": {},
     "output_type": "display_data"
    },
    {
     "name": "stdout",
     "output_type": "stream",
     "text": [
      "Training Results - Epoch[63/1000] Loss : 4.267560407428379\n"
     ]
    },
    {
     "data": {
      "application/vnd.jupyter.widget-view+json": {
       "model_id": "",
       "version_major": 2,
       "version_minor": 0
      },
      "text/plain": [
       "HBox(children=(HTML(value=''), FloatProgress(value=0.0, max=13.0), HTML(value='')))"
      ]
     },
     "metadata": {},
     "output_type": "display_data"
    },
    {
     "data": {
      "application/vnd.jupyter.widget-view+json": {
       "model_id": "",
       "version_major": 2,
       "version_minor": 0
      },
      "text/plain": [
       "HBox(children=(HTML(value=''), FloatProgress(value=0.0, max=12.0), HTML(value='')))"
      ]
     },
     "metadata": {},
     "output_type": "display_data"
    },
    {
     "name": "stdout",
     "output_type": "stream",
     "text": [
      "Training Results - Epoch[64/1000] Loss : 3.5793620627195213\n"
     ]
    },
    {
     "data": {
      "application/vnd.jupyter.widget-view+json": {
       "model_id": "",
       "version_major": 2,
       "version_minor": 0
      },
      "text/plain": [
       "HBox(children=(HTML(value=''), FloatProgress(value=0.0, max=13.0), HTML(value='')))"
      ]
     },
     "metadata": {},
     "output_type": "display_data"
    },
    {
     "data": {
      "application/vnd.jupyter.widget-view+json": {
       "model_id": "",
       "version_major": 2,
       "version_minor": 0
      },
      "text/plain": [
       "HBox(children=(HTML(value=''), FloatProgress(value=0.0, max=12.0), HTML(value='')))"
      ]
     },
     "metadata": {},
     "output_type": "display_data"
    },
    {
     "name": "stdout",
     "output_type": "stream",
     "text": [
      "Training Results - Epoch[65/1000] Loss : 3.2717248616910153\n"
     ]
    },
    {
     "data": {
      "application/vnd.jupyter.widget-view+json": {
       "model_id": "",
       "version_major": 2,
       "version_minor": 0
      },
      "text/plain": [
       "HBox(children=(HTML(value=''), FloatProgress(value=0.0, max=13.0), HTML(value='')))"
      ]
     },
     "metadata": {},
     "output_type": "display_data"
    },
    {
     "data": {
      "application/vnd.jupyter.widget-view+json": {
       "model_id": "",
       "version_major": 2,
       "version_minor": 0
      },
      "text/plain": [
       "HBox(children=(HTML(value=''), FloatProgress(value=0.0, max=12.0), HTML(value='')))"
      ]
     },
     "metadata": {},
     "output_type": "display_data"
    },
    {
     "name": "stdout",
     "output_type": "stream",
     "text": [
      "Training Results - Epoch[66/1000] Loss : 3.2598779964939317\n"
     ]
    },
    {
     "data": {
      "application/vnd.jupyter.widget-view+json": {
       "model_id": "",
       "version_major": 2,
       "version_minor": 0
      },
      "text/plain": [
       "HBox(children=(HTML(value=''), FloatProgress(value=0.0, max=13.0), HTML(value='')))"
      ]
     },
     "metadata": {},
     "output_type": "display_data"
    },
    {
     "data": {
      "application/vnd.jupyter.widget-view+json": {
       "model_id": "",
       "version_major": 2,
       "version_minor": 0
      },
      "text/plain": [
       "HBox(children=(HTML(value=''), FloatProgress(value=0.0, max=12.0), HTML(value='')))"
      ]
     },
     "metadata": {},
     "output_type": "display_data"
    },
    {
     "name": "stdout",
     "output_type": "stream",
     "text": [
      "Training Results - Epoch[67/1000] Loss : 4.978395517338571\n"
     ]
    },
    {
     "data": {
      "application/vnd.jupyter.widget-view+json": {
       "model_id": "",
       "version_major": 2,
       "version_minor": 0
      },
      "text/plain": [
       "HBox(children=(HTML(value=''), FloatProgress(value=0.0, max=13.0), HTML(value='')))"
      ]
     },
     "metadata": {},
     "output_type": "display_data"
    },
    {
     "data": {
      "application/vnd.jupyter.widget-view+json": {
       "model_id": "",
       "version_major": 2,
       "version_minor": 0
      },
      "text/plain": [
       "HBox(children=(HTML(value=''), FloatProgress(value=0.0, max=12.0), HTML(value='')))"
      ]
     },
     "metadata": {},
     "output_type": "display_data"
    },
    {
     "name": "stdout",
     "output_type": "stream",
     "text": [
      "Training Results - Epoch[68/1000] Loss : 2.8846884254537333\n"
     ]
    },
    {
     "data": {
      "application/vnd.jupyter.widget-view+json": {
       "model_id": "",
       "version_major": 2,
       "version_minor": 0
      },
      "text/plain": [
       "HBox(children=(HTML(value=''), FloatProgress(value=0.0, max=13.0), HTML(value='')))"
      ]
     },
     "metadata": {},
     "output_type": "display_data"
    },
    {
     "data": {
      "application/vnd.jupyter.widget-view+json": {
       "model_id": "",
       "version_major": 2,
       "version_minor": 0
      },
      "text/plain": [
       "HBox(children=(HTML(value=''), FloatProgress(value=0.0, max=12.0), HTML(value='')))"
      ]
     },
     "metadata": {},
     "output_type": "display_data"
    },
    {
     "name": "stdout",
     "output_type": "stream",
     "text": [
      "Training Results - Epoch[69/1000] Loss : 4.148030151131201\n"
     ]
    },
    {
     "data": {
      "application/vnd.jupyter.widget-view+json": {
       "model_id": "",
       "version_major": 2,
       "version_minor": 0
      },
      "text/plain": [
       "HBox(children=(HTML(value=''), FloatProgress(value=0.0, max=13.0), HTML(value='')))"
      ]
     },
     "metadata": {},
     "output_type": "display_data"
    },
    {
     "data": {
      "application/vnd.jupyter.widget-view+json": {
       "model_id": "",
       "version_major": 2,
       "version_minor": 0
      },
      "text/plain": [
       "HBox(children=(HTML(value=''), FloatProgress(value=0.0, max=12.0), HTML(value='')))"
      ]
     },
     "metadata": {},
     "output_type": "display_data"
    },
    {
     "name": "stdout",
     "output_type": "stream",
     "text": [
      "Training Results - Epoch[70/1000] Loss : 4.040168217071365\n"
     ]
    },
    {
     "data": {
      "application/vnd.jupyter.widget-view+json": {
       "model_id": "",
       "version_major": 2,
       "version_minor": 0
      },
      "text/plain": [
       "HBox(children=(HTML(value=''), FloatProgress(value=0.0, max=13.0), HTML(value='')))"
      ]
     },
     "metadata": {},
     "output_type": "display_data"
    },
    {
     "data": {
      "application/vnd.jupyter.widget-view+json": {
       "model_id": "",
       "version_major": 2,
       "version_minor": 0
      },
      "text/plain": [
       "HBox(children=(HTML(value=''), FloatProgress(value=0.0, max=12.0), HTML(value='')))"
      ]
     },
     "metadata": {},
     "output_type": "display_data"
    },
    {
     "name": "stdout",
     "output_type": "stream",
     "text": [
      "Training Results - Epoch[71/1000] Loss : 4.058019711357267\n"
     ]
    },
    {
     "data": {
      "application/vnd.jupyter.widget-view+json": {
       "model_id": "",
       "version_major": 2,
       "version_minor": 0
      },
      "text/plain": [
       "HBox(children=(HTML(value=''), FloatProgress(value=0.0, max=13.0), HTML(value='')))"
      ]
     },
     "metadata": {},
     "output_type": "display_data"
    },
    {
     "data": {
      "application/vnd.jupyter.widget-view+json": {
       "model_id": "",
       "version_major": 2,
       "version_minor": 0
      },
      "text/plain": [
       "HBox(children=(HTML(value=''), FloatProgress(value=0.0, max=12.0), HTML(value='')))"
      ]
     },
     "metadata": {},
     "output_type": "display_data"
    },
    {
     "name": "stdout",
     "output_type": "stream",
     "text": [
      "Training Results - Epoch[72/1000] Loss : 3.4577283748367127\n"
     ]
    },
    {
     "data": {
      "application/vnd.jupyter.widget-view+json": {
       "model_id": "",
       "version_major": 2,
       "version_minor": 0
      },
      "text/plain": [
       "HBox(children=(HTML(value=''), FloatProgress(value=0.0, max=13.0), HTML(value='')))"
      ]
     },
     "metadata": {},
     "output_type": "display_data"
    },
    {
     "data": {
      "application/vnd.jupyter.widget-view+json": {
       "model_id": "",
       "version_major": 2,
       "version_minor": 0
      },
      "text/plain": [
       "HBox(children=(HTML(value=''), FloatProgress(value=0.0, max=12.0), HTML(value='')))"
      ]
     },
     "metadata": {},
     "output_type": "display_data"
    },
    {
     "name": "stdout",
     "output_type": "stream",
     "text": [
      "Training Results - Epoch[73/1000] Loss : 4.704504453796355\n"
     ]
    },
    {
     "data": {
      "application/vnd.jupyter.widget-view+json": {
       "model_id": "",
       "version_major": 2,
       "version_minor": 0
      },
      "text/plain": [
       "HBox(children=(HTML(value=''), FloatProgress(value=0.0, max=13.0), HTML(value='')))"
      ]
     },
     "metadata": {},
     "output_type": "display_data"
    },
    {
     "data": {
      "application/vnd.jupyter.widget-view+json": {
       "model_id": "",
       "version_major": 2,
       "version_minor": 0
      },
      "text/plain": [
       "HBox(children=(HTML(value=''), FloatProgress(value=0.0, max=12.0), HTML(value='')))"
      ]
     },
     "metadata": {},
     "output_type": "display_data"
    },
    {
     "name": "stdout",
     "output_type": "stream",
     "text": [
      "Training Results - Epoch[74/1000] Loss : 3.747742454336066\n"
     ]
    },
    {
     "data": {
      "application/vnd.jupyter.widget-view+json": {
       "model_id": "",
       "version_major": 2,
       "version_minor": 0
      },
      "text/plain": [
       "HBox(children=(HTML(value=''), FloatProgress(value=0.0, max=13.0), HTML(value='')))"
      ]
     },
     "metadata": {},
     "output_type": "display_data"
    },
    {
     "data": {
      "application/vnd.jupyter.widget-view+json": {
       "model_id": "",
       "version_major": 2,
       "version_minor": 0
      },
      "text/plain": [
       "HBox(children=(HTML(value=''), FloatProgress(value=0.0, max=12.0), HTML(value='')))"
      ]
     },
     "metadata": {},
     "output_type": "display_data"
    },
    {
     "name": "stdout",
     "output_type": "stream",
     "text": [
      "Training Results - Epoch[75/1000] Loss : 3.2519201333118497\n"
     ]
    },
    {
     "data": {
      "application/vnd.jupyter.widget-view+json": {
       "model_id": "",
       "version_major": 2,
       "version_minor": 0
      },
      "text/plain": [
       "HBox(children=(HTML(value=''), FloatProgress(value=0.0, max=13.0), HTML(value='')))"
      ]
     },
     "metadata": {},
     "output_type": "display_data"
    },
    {
     "data": {
      "application/vnd.jupyter.widget-view+json": {
       "model_id": "",
       "version_major": 2,
       "version_minor": 0
      },
      "text/plain": [
       "HBox(children=(HTML(value=''), FloatProgress(value=0.0, max=12.0), HTML(value='')))"
      ]
     },
     "metadata": {},
     "output_type": "display_data"
    },
    {
     "name": "stdout",
     "output_type": "stream",
     "text": [
      "Training Results - Epoch[76/1000] Loss : 3.764761532001978\n"
     ]
    },
    {
     "data": {
      "application/vnd.jupyter.widget-view+json": {
       "model_id": "",
       "version_major": 2,
       "version_minor": 0
      },
      "text/plain": [
       "HBox(children=(HTML(value=''), FloatProgress(value=0.0, max=13.0), HTML(value='')))"
      ]
     },
     "metadata": {},
     "output_type": "display_data"
    },
    {
     "data": {
      "application/vnd.jupyter.widget-view+json": {
       "model_id": "",
       "version_major": 2,
       "version_minor": 0
      },
      "text/plain": [
       "HBox(children=(HTML(value=''), FloatProgress(value=0.0, max=12.0), HTML(value='')))"
      ]
     },
     "metadata": {},
     "output_type": "display_data"
    },
    {
     "name": "stdout",
     "output_type": "stream",
     "text": [
      "Training Results - Epoch[77/1000] Loss : 3.706215669234558\n"
     ]
    },
    {
     "data": {
      "application/vnd.jupyter.widget-view+json": {
       "model_id": "",
       "version_major": 2,
       "version_minor": 0
      },
      "text/plain": [
       "HBox(children=(HTML(value=''), FloatProgress(value=0.0, max=13.0), HTML(value='')))"
      ]
     },
     "metadata": {},
     "output_type": "display_data"
    },
    {
     "data": {
      "application/vnd.jupyter.widget-view+json": {
       "model_id": "",
       "version_major": 2,
       "version_minor": 0
      },
      "text/plain": [
       "HBox(children=(HTML(value=''), FloatProgress(value=0.0, max=12.0), HTML(value='')))"
      ]
     },
     "metadata": {},
     "output_type": "display_data"
    },
    {
     "name": "stdout",
     "output_type": "stream",
     "text": [
      "Training Results - Epoch[78/1000] Loss : 5.408511684887977\n"
     ]
    },
    {
     "data": {
      "application/vnd.jupyter.widget-view+json": {
       "model_id": "",
       "version_major": 2,
       "version_minor": 0
      },
      "text/plain": [
       "HBox(children=(HTML(value=''), FloatProgress(value=0.0, max=13.0), HTML(value='')))"
      ]
     },
     "metadata": {},
     "output_type": "display_data"
    },
    {
     "data": {
      "application/vnd.jupyter.widget-view+json": {
       "model_id": "",
       "version_major": 2,
       "version_minor": 0
      },
      "text/plain": [
       "HBox(children=(HTML(value=''), FloatProgress(value=0.0, max=12.0), HTML(value='')))"
      ]
     },
     "metadata": {},
     "output_type": "display_data"
    },
    {
     "name": "stdout",
     "output_type": "stream",
     "text": [
      "Training Results - Epoch[79/1000] Loss : 3.468124961241799\n"
     ]
    },
    {
     "data": {
      "application/vnd.jupyter.widget-view+json": {
       "model_id": "",
       "version_major": 2,
       "version_minor": 0
      },
      "text/plain": [
       "HBox(children=(HTML(value=''), FloatProgress(value=0.0, max=13.0), HTML(value='')))"
      ]
     },
     "metadata": {},
     "output_type": "display_data"
    },
    {
     "data": {
      "application/vnd.jupyter.widget-view+json": {
       "model_id": "",
       "version_major": 2,
       "version_minor": 0
      },
      "text/plain": [
       "HBox(children=(HTML(value=''), FloatProgress(value=0.0, max=12.0), HTML(value='')))"
      ]
     },
     "metadata": {},
     "output_type": "display_data"
    },
    {
     "name": "stdout",
     "output_type": "stream",
     "text": [
      "Training Results - Epoch[80/1000] Loss : 2.8878359378827483\n"
     ]
    },
    {
     "data": {
      "application/vnd.jupyter.widget-view+json": {
       "model_id": "",
       "version_major": 2,
       "version_minor": 0
      },
      "text/plain": [
       "HBox(children=(HTML(value=''), FloatProgress(value=0.0, max=13.0), HTML(value='')))"
      ]
     },
     "metadata": {},
     "output_type": "display_data"
    },
    {
     "data": {
      "application/vnd.jupyter.widget-view+json": {
       "model_id": "",
       "version_major": 2,
       "version_minor": 0
      },
      "text/plain": [
       "HBox(children=(HTML(value=''), FloatProgress(value=0.0, max=12.0), HTML(value='')))"
      ]
     },
     "metadata": {},
     "output_type": "display_data"
    },
    {
     "name": "stdout",
     "output_type": "stream",
     "text": [
      "Training Results - Epoch[81/1000] Loss : 3.3411322685967075\n"
     ]
    },
    {
     "data": {
      "application/vnd.jupyter.widget-view+json": {
       "model_id": "",
       "version_major": 2,
       "version_minor": 0
      },
      "text/plain": [
       "HBox(children=(HTML(value=''), FloatProgress(value=0.0, max=13.0), HTML(value='')))"
      ]
     },
     "metadata": {},
     "output_type": "display_data"
    },
    {
     "data": {
      "application/vnd.jupyter.widget-view+json": {
       "model_id": "",
       "version_major": 2,
       "version_minor": 0
      },
      "text/plain": [
       "HBox(children=(HTML(value=''), FloatProgress(value=0.0, max=12.0), HTML(value='')))"
      ]
     },
     "metadata": {},
     "output_type": "display_data"
    },
    {
     "name": "stdout",
     "output_type": "stream",
     "text": [
      "Training Results - Epoch[82/1000] Loss : 3.1531413233791854\n"
     ]
    },
    {
     "data": {
      "application/vnd.jupyter.widget-view+json": {
       "model_id": "",
       "version_major": 2,
       "version_minor": 0
      },
      "text/plain": [
       "HBox(children=(HTML(value=''), FloatProgress(value=0.0, max=13.0), HTML(value='')))"
      ]
     },
     "metadata": {},
     "output_type": "display_data"
    },
    {
     "data": {
      "application/vnd.jupyter.widget-view+json": {
       "model_id": "",
       "version_major": 2,
       "version_minor": 0
      },
      "text/plain": [
       "HBox(children=(HTML(value=''), FloatProgress(value=0.0, max=12.0), HTML(value='')))"
      ]
     },
     "metadata": {},
     "output_type": "display_data"
    },
    {
     "name": "stdout",
     "output_type": "stream",
     "text": [
      "Training Results - Epoch[83/1000] Loss : 3.416988172003045\n"
     ]
    },
    {
     "data": {
      "application/vnd.jupyter.widget-view+json": {
       "model_id": "",
       "version_major": 2,
       "version_minor": 0
      },
      "text/plain": [
       "HBox(children=(HTML(value=''), FloatProgress(value=0.0, max=13.0), HTML(value='')))"
      ]
     },
     "metadata": {},
     "output_type": "display_data"
    },
    {
     "data": {
      "application/vnd.jupyter.widget-view+json": {
       "model_id": "",
       "version_major": 2,
       "version_minor": 0
      },
      "text/plain": [
       "HBox(children=(HTML(value=''), FloatProgress(value=0.0, max=12.0), HTML(value='')))"
      ]
     },
     "metadata": {},
     "output_type": "display_data"
    },
    {
     "name": "stdout",
     "output_type": "stream",
     "text": [
      "Training Results - Epoch[84/1000] Loss : 4.100201730205431\n"
     ]
    },
    {
     "data": {
      "application/vnd.jupyter.widget-view+json": {
       "model_id": "",
       "version_major": 2,
       "version_minor": 0
      },
      "text/plain": [
       "HBox(children=(HTML(value=''), FloatProgress(value=0.0, max=13.0), HTML(value='')))"
      ]
     },
     "metadata": {},
     "output_type": "display_data"
    },
    {
     "data": {
      "application/vnd.jupyter.widget-view+json": {
       "model_id": "",
       "version_major": 2,
       "version_minor": 0
      },
      "text/plain": [
       "HBox(children=(HTML(value=''), FloatProgress(value=0.0, max=12.0), HTML(value='')))"
      ]
     },
     "metadata": {},
     "output_type": "display_data"
    },
    {
     "name": "stdout",
     "output_type": "stream",
     "text": [
      "Training Results - Epoch[85/1000] Loss : 3.2514817744407547\n"
     ]
    },
    {
     "data": {
      "application/vnd.jupyter.widget-view+json": {
       "model_id": "",
       "version_major": 2,
       "version_minor": 0
      },
      "text/plain": [
       "HBox(children=(HTML(value=''), FloatProgress(value=0.0, max=13.0), HTML(value='')))"
      ]
     },
     "metadata": {},
     "output_type": "display_data"
    },
    {
     "data": {
      "application/vnd.jupyter.widget-view+json": {
       "model_id": "",
       "version_major": 2,
       "version_minor": 0
      },
      "text/plain": [
       "HBox(children=(HTML(value=''), FloatProgress(value=0.0, max=12.0), HTML(value='')))"
      ]
     },
     "metadata": {},
     "output_type": "display_data"
    },
    {
     "name": "stdout",
     "output_type": "stream",
     "text": [
      "Training Results - Epoch[86/1000] Loss : 3.1732340348268417\n"
     ]
    },
    {
     "data": {
      "application/vnd.jupyter.widget-view+json": {
       "model_id": "",
       "version_major": 2,
       "version_minor": 0
      },
      "text/plain": [
       "HBox(children=(HTML(value=''), FloatProgress(value=0.0, max=13.0), HTML(value='')))"
      ]
     },
     "metadata": {},
     "output_type": "display_data"
    },
    {
     "data": {
      "application/vnd.jupyter.widget-view+json": {
       "model_id": "",
       "version_major": 2,
       "version_minor": 0
      },
      "text/plain": [
       "HBox(children=(HTML(value=''), FloatProgress(value=0.0, max=12.0), HTML(value='')))"
      ]
     },
     "metadata": {},
     "output_type": "display_data"
    },
    {
     "name": "stdout",
     "output_type": "stream",
     "text": [
      "Training Results - Epoch[87/1000] Loss : 3.2159027946475622\n"
     ]
    },
    {
     "data": {
      "application/vnd.jupyter.widget-view+json": {
       "model_id": "",
       "version_major": 2,
       "version_minor": 0
      },
      "text/plain": [
       "HBox(children=(HTML(value=''), FloatProgress(value=0.0, max=13.0), HTML(value='')))"
      ]
     },
     "metadata": {},
     "output_type": "display_data"
    },
    {
     "data": {
      "application/vnd.jupyter.widget-view+json": {
       "model_id": "",
       "version_major": 2,
       "version_minor": 0
      },
      "text/plain": [
       "HBox(children=(HTML(value=''), FloatProgress(value=0.0, max=12.0), HTML(value='')))"
      ]
     },
     "metadata": {},
     "output_type": "display_data"
    },
    {
     "name": "stdout",
     "output_type": "stream",
     "text": [
      "Training Results - Epoch[88/1000] Loss : 2.910403848378077\n"
     ]
    },
    {
     "data": {
      "application/vnd.jupyter.widget-view+json": {
       "model_id": "",
       "version_major": 2,
       "version_minor": 0
      },
      "text/plain": [
       "HBox(children=(HTML(value=''), FloatProgress(value=0.0, max=13.0), HTML(value='')))"
      ]
     },
     "metadata": {},
     "output_type": "display_data"
    },
    {
     "data": {
      "application/vnd.jupyter.widget-view+json": {
       "model_id": "",
       "version_major": 2,
       "version_minor": 0
      },
      "text/plain": [
       "HBox(children=(HTML(value=''), FloatProgress(value=0.0, max=12.0), HTML(value='')))"
      ]
     },
     "metadata": {},
     "output_type": "display_data"
    },
    {
     "name": "stdout",
     "output_type": "stream",
     "text": [
      "Training Results - Epoch[89/1000] Loss : 3.7766064997663094\n"
     ]
    },
    {
     "data": {
      "application/vnd.jupyter.widget-view+json": {
       "model_id": "",
       "version_major": 2,
       "version_minor": 0
      },
      "text/plain": [
       "HBox(children=(HTML(value=''), FloatProgress(value=0.0, max=13.0), HTML(value='')))"
      ]
     },
     "metadata": {},
     "output_type": "display_data"
    },
    {
     "data": {
      "application/vnd.jupyter.widget-view+json": {
       "model_id": "",
       "version_major": 2,
       "version_minor": 0
      },
      "text/plain": [
       "HBox(children=(HTML(value=''), FloatProgress(value=0.0, max=12.0), HTML(value='')))"
      ]
     },
     "metadata": {},
     "output_type": "display_data"
    },
    {
     "name": "stdout",
     "output_type": "stream",
     "text": [
      "Training Results - Epoch[90/1000] Loss : 3.4359283220686256\n"
     ]
    },
    {
     "data": {
      "application/vnd.jupyter.widget-view+json": {
       "model_id": "",
       "version_major": 2,
       "version_minor": 0
      },
      "text/plain": [
       "HBox(children=(HTML(value=''), FloatProgress(value=0.0, max=13.0), HTML(value='')))"
      ]
     },
     "metadata": {},
     "output_type": "display_data"
    },
    {
     "data": {
      "application/vnd.jupyter.widget-view+json": {
       "model_id": "",
       "version_major": 2,
       "version_minor": 0
      },
      "text/plain": [
       "HBox(children=(HTML(value=''), FloatProgress(value=0.0, max=12.0), HTML(value='')))"
      ]
     },
     "metadata": {},
     "output_type": "display_data"
    },
    {
     "name": "stdout",
     "output_type": "stream",
     "text": [
      "Training Results - Epoch[91/1000] Loss : 2.8570845527753295\n"
     ]
    },
    {
     "data": {
      "application/vnd.jupyter.widget-view+json": {
       "model_id": "",
       "version_major": 2,
       "version_minor": 0
      },
      "text/plain": [
       "HBox(children=(HTML(value=''), FloatProgress(value=0.0, max=13.0), HTML(value='')))"
      ]
     },
     "metadata": {},
     "output_type": "display_data"
    },
    {
     "data": {
      "application/vnd.jupyter.widget-view+json": {
       "model_id": "",
       "version_major": 2,
       "version_minor": 0
      },
      "text/plain": [
       "HBox(children=(HTML(value=''), FloatProgress(value=0.0, max=12.0), HTML(value='')))"
      ]
     },
     "metadata": {},
     "output_type": "display_data"
    },
    {
     "name": "stdout",
     "output_type": "stream",
     "text": [
      "Training Results - Epoch[92/1000] Loss : 2.5525333685930667\n"
     ]
    },
    {
     "data": {
      "application/vnd.jupyter.widget-view+json": {
       "model_id": "",
       "version_major": 2,
       "version_minor": 0
      },
      "text/plain": [
       "HBox(children=(HTML(value=''), FloatProgress(value=0.0, max=13.0), HTML(value='')))"
      ]
     },
     "metadata": {},
     "output_type": "display_data"
    },
    {
     "data": {
      "application/vnd.jupyter.widget-view+json": {
       "model_id": "",
       "version_major": 2,
       "version_minor": 0
      },
      "text/plain": [
       "HBox(children=(HTML(value=''), FloatProgress(value=0.0, max=12.0), HTML(value='')))"
      ]
     },
     "metadata": {},
     "output_type": "display_data"
    },
    {
     "name": "stdout",
     "output_type": "stream",
     "text": [
      "Training Results - Epoch[93/1000] Loss : 3.6524848117093884\n"
     ]
    },
    {
     "data": {
      "application/vnd.jupyter.widget-view+json": {
       "model_id": "",
       "version_major": 2,
       "version_minor": 0
      },
      "text/plain": [
       "HBox(children=(HTML(value=''), FloatProgress(value=0.0, max=13.0), HTML(value='')))"
      ]
     },
     "metadata": {},
     "output_type": "display_data"
    },
    {
     "data": {
      "application/vnd.jupyter.widget-view+json": {
       "model_id": "",
       "version_major": 2,
       "version_minor": 0
      },
      "text/plain": [
       "HBox(children=(HTML(value=''), FloatProgress(value=0.0, max=12.0), HTML(value='')))"
      ]
     },
     "metadata": {},
     "output_type": "display_data"
    },
    {
     "name": "stdout",
     "output_type": "stream",
     "text": [
      "Training Results - Epoch[94/1000] Loss : 3.763330390169987\n"
     ]
    },
    {
     "data": {
      "application/vnd.jupyter.widget-view+json": {
       "model_id": "",
       "version_major": 2,
       "version_minor": 0
      },
      "text/plain": [
       "HBox(children=(HTML(value=''), FloatProgress(value=0.0, max=13.0), HTML(value='')))"
      ]
     },
     "metadata": {},
     "output_type": "display_data"
    },
    {
     "data": {
      "application/vnd.jupyter.widget-view+json": {
       "model_id": "",
       "version_major": 2,
       "version_minor": 0
      },
      "text/plain": [
       "HBox(children=(HTML(value=''), FloatProgress(value=0.0, max=12.0), HTML(value='')))"
      ]
     },
     "metadata": {},
     "output_type": "display_data"
    },
    {
     "name": "stdout",
     "output_type": "stream",
     "text": [
      "Training Results - Epoch[95/1000] Loss : 3.3830904483562545\n"
     ]
    },
    {
     "data": {
      "application/vnd.jupyter.widget-view+json": {
       "model_id": "",
       "version_major": 2,
       "version_minor": 0
      },
      "text/plain": [
       "HBox(children=(HTML(value=''), FloatProgress(value=0.0, max=13.0), HTML(value='')))"
      ]
     },
     "metadata": {},
     "output_type": "display_data"
    },
    {
     "data": {
      "application/vnd.jupyter.widget-view+json": {
       "model_id": "",
       "version_major": 2,
       "version_minor": 0
      },
      "text/plain": [
       "HBox(children=(HTML(value=''), FloatProgress(value=0.0, max=12.0), HTML(value='')))"
      ]
     },
     "metadata": {},
     "output_type": "display_data"
    },
    {
     "name": "stdout",
     "output_type": "stream",
     "text": [
      "Training Results - Epoch[96/1000] Loss : 3.165427263065486\n"
     ]
    },
    {
     "data": {
      "application/vnd.jupyter.widget-view+json": {
       "model_id": "",
       "version_major": 2,
       "version_minor": 0
      },
      "text/plain": [
       "HBox(children=(HTML(value=''), FloatProgress(value=0.0, max=13.0), HTML(value='')))"
      ]
     },
     "metadata": {},
     "output_type": "display_data"
    },
    {
     "data": {
      "application/vnd.jupyter.widget-view+json": {
       "model_id": "",
       "version_major": 2,
       "version_minor": 0
      },
      "text/plain": [
       "HBox(children=(HTML(value=''), FloatProgress(value=0.0, max=12.0), HTML(value='')))"
      ]
     },
     "metadata": {},
     "output_type": "display_data"
    },
    {
     "name": "stdout",
     "output_type": "stream",
     "text": [
      "Training Results - Epoch[97/1000] Loss : 4.035663934715122\n"
     ]
    },
    {
     "data": {
      "application/vnd.jupyter.widget-view+json": {
       "model_id": "",
       "version_major": 2,
       "version_minor": 0
      },
      "text/plain": [
       "HBox(children=(HTML(value=''), FloatProgress(value=0.0, max=13.0), HTML(value='')))"
      ]
     },
     "metadata": {},
     "output_type": "display_data"
    },
    {
     "data": {
      "application/vnd.jupyter.widget-view+json": {
       "model_id": "",
       "version_major": 2,
       "version_minor": 0
      },
      "text/plain": [
       "HBox(children=(HTML(value=''), FloatProgress(value=0.0, max=12.0), HTML(value='')))"
      ]
     },
     "metadata": {},
     "output_type": "display_data"
    },
    {
     "name": "stdout",
     "output_type": "stream",
     "text": [
      "Training Results - Epoch[98/1000] Loss : 3.174130485857415\n"
     ]
    },
    {
     "data": {
      "application/vnd.jupyter.widget-view+json": {
       "model_id": "",
       "version_major": 2,
       "version_minor": 0
      },
      "text/plain": [
       "HBox(children=(HTML(value=''), FloatProgress(value=0.0, max=13.0), HTML(value='')))"
      ]
     },
     "metadata": {},
     "output_type": "display_data"
    },
    {
     "data": {
      "application/vnd.jupyter.widget-view+json": {
       "model_id": "",
       "version_major": 2,
       "version_minor": 0
      },
      "text/plain": [
       "HBox(children=(HTML(value=''), FloatProgress(value=0.0, max=12.0), HTML(value='')))"
      ]
     },
     "metadata": {},
     "output_type": "display_data"
    },
    {
     "name": "stdout",
     "output_type": "stream",
     "text": [
      "Training Results - Epoch[99/1000] Loss : 3.801022909673215\n"
     ]
    },
    {
     "data": {
      "application/vnd.jupyter.widget-view+json": {
       "model_id": "",
       "version_major": 2,
       "version_minor": 0
      },
      "text/plain": [
       "HBox(children=(HTML(value=''), FloatProgress(value=0.0, max=13.0), HTML(value='')))"
      ]
     },
     "metadata": {},
     "output_type": "display_data"
    },
    {
     "data": {
      "application/vnd.jupyter.widget-view+json": {
       "model_id": "",
       "version_major": 2,
       "version_minor": 0
      },
      "text/plain": [
       "HBox(children=(HTML(value=''), FloatProgress(value=0.0, max=12.0), HTML(value='')))"
      ]
     },
     "metadata": {},
     "output_type": "display_data"
    },
    {
     "name": "stdout",
     "output_type": "stream",
     "text": [
      "Training Results - Epoch[100/1000] Loss : 3.653724307439096\n"
     ]
    },
    {
     "data": {
      "application/vnd.jupyter.widget-view+json": {
       "model_id": "",
       "version_major": 2,
       "version_minor": 0
      },
      "text/plain": [
       "HBox(children=(HTML(value=''), FloatProgress(value=0.0, max=13.0), HTML(value='')))"
      ]
     },
     "metadata": {},
     "output_type": "display_data"
    },
    {
     "data": {
      "application/vnd.jupyter.widget-view+json": {
       "model_id": "",
       "version_major": 2,
       "version_minor": 0
      },
      "text/plain": [
       "HBox(children=(HTML(value=''), FloatProgress(value=0.0, max=12.0), HTML(value='')))"
      ]
     },
     "metadata": {},
     "output_type": "display_data"
    },
    {
     "name": "stdout",
     "output_type": "stream",
     "text": [
      "Training Results - Epoch[101/1000] Loss : 3.3124722240026356\n"
     ]
    },
    {
     "data": {
      "application/vnd.jupyter.widget-view+json": {
       "model_id": "",
       "version_major": 2,
       "version_minor": 0
      },
      "text/plain": [
       "HBox(children=(HTML(value=''), FloatProgress(value=0.0, max=13.0), HTML(value='')))"
      ]
     },
     "metadata": {},
     "output_type": "display_data"
    },
    {
     "data": {
      "application/vnd.jupyter.widget-view+json": {
       "model_id": "",
       "version_major": 2,
       "version_minor": 0
      },
      "text/plain": [
       "HBox(children=(HTML(value=''), FloatProgress(value=0.0, max=12.0), HTML(value='')))"
      ]
     },
     "metadata": {},
     "output_type": "display_data"
    },
    {
     "name": "stdout",
     "output_type": "stream",
     "text": [
      "Training Results - Epoch[102/1000] Loss : 4.908099396837845\n"
     ]
    },
    {
     "data": {
      "application/vnd.jupyter.widget-view+json": {
       "model_id": "",
       "version_major": 2,
       "version_minor": 0
      },
      "text/plain": [
       "HBox(children=(HTML(value=''), FloatProgress(value=0.0, max=13.0), HTML(value='')))"
      ]
     },
     "metadata": {},
     "output_type": "display_data"
    },
    {
     "data": {
      "application/vnd.jupyter.widget-view+json": {
       "model_id": "",
       "version_major": 2,
       "version_minor": 0
      },
      "text/plain": [
       "HBox(children=(HTML(value=''), FloatProgress(value=0.0, max=12.0), HTML(value='')))"
      ]
     },
     "metadata": {},
     "output_type": "display_data"
    },
    {
     "name": "stdout",
     "output_type": "stream",
     "text": [
      "Training Results - Epoch[103/1000] Loss : 3.579771017429406\n"
     ]
    },
    {
     "data": {
      "application/vnd.jupyter.widget-view+json": {
       "model_id": "",
       "version_major": 2,
       "version_minor": 0
      },
      "text/plain": [
       "HBox(children=(HTML(value=''), FloatProgress(value=0.0, max=13.0), HTML(value='')))"
      ]
     },
     "metadata": {},
     "output_type": "display_data"
    },
    {
     "data": {
      "application/vnd.jupyter.widget-view+json": {
       "model_id": "",
       "version_major": 2,
       "version_minor": 0
      },
      "text/plain": [
       "HBox(children=(HTML(value=''), FloatProgress(value=0.0, max=12.0), HTML(value='')))"
      ]
     },
     "metadata": {},
     "output_type": "display_data"
    },
    {
     "name": "stdout",
     "output_type": "stream",
     "text": [
      "Training Results - Epoch[104/1000] Loss : 3.2102870483316894\n"
     ]
    },
    {
     "data": {
      "application/vnd.jupyter.widget-view+json": {
       "model_id": "",
       "version_major": 2,
       "version_minor": 0
      },
      "text/plain": [
       "HBox(children=(HTML(value=''), FloatProgress(value=0.0, max=13.0), HTML(value='')))"
      ]
     },
     "metadata": {},
     "output_type": "display_data"
    },
    {
     "data": {
      "application/vnd.jupyter.widget-view+json": {
       "model_id": "",
       "version_major": 2,
       "version_minor": 0
      },
      "text/plain": [
       "HBox(children=(HTML(value=''), FloatProgress(value=0.0, max=12.0), HTML(value='')))"
      ]
     },
     "metadata": {},
     "output_type": "display_data"
    },
    {
     "name": "stdout",
     "output_type": "stream",
     "text": [
      "Training Results - Epoch[105/1000] Loss : 4.2823735447764895\n"
     ]
    },
    {
     "data": {
      "application/vnd.jupyter.widget-view+json": {
       "model_id": "",
       "version_major": 2,
       "version_minor": 0
      },
      "text/plain": [
       "HBox(children=(HTML(value=''), FloatProgress(value=0.0, max=13.0), HTML(value='')))"
      ]
     },
     "metadata": {},
     "output_type": "display_data"
    },
    {
     "data": {
      "application/vnd.jupyter.widget-view+json": {
       "model_id": "",
       "version_major": 2,
       "version_minor": 0
      },
      "text/plain": [
       "HBox(children=(HTML(value=''), FloatProgress(value=0.0, max=12.0), HTML(value='')))"
      ]
     },
     "metadata": {},
     "output_type": "display_data"
    },
    {
     "name": "stdout",
     "output_type": "stream",
     "text": [
      "Training Results - Epoch[106/1000] Loss : 3.616092877067214\n"
     ]
    },
    {
     "data": {
      "application/vnd.jupyter.widget-view+json": {
       "model_id": "",
       "version_major": 2,
       "version_minor": 0
      },
      "text/plain": [
       "HBox(children=(HTML(value=''), FloatProgress(value=0.0, max=13.0), HTML(value='')))"
      ]
     },
     "metadata": {},
     "output_type": "display_data"
    },
    {
     "data": {
      "application/vnd.jupyter.widget-view+json": {
       "model_id": "",
       "version_major": 2,
       "version_minor": 0
      },
      "text/plain": [
       "HBox(children=(HTML(value=''), FloatProgress(value=0.0, max=12.0), HTML(value='')))"
      ]
     },
     "metadata": {},
     "output_type": "display_data"
    },
    {
     "name": "stdout",
     "output_type": "stream",
     "text": [
      "Training Results - Epoch[107/1000] Loss : 4.441533668718858\n"
     ]
    },
    {
     "data": {
      "application/vnd.jupyter.widget-view+json": {
       "model_id": "",
       "version_major": 2,
       "version_minor": 0
      },
      "text/plain": [
       "HBox(children=(HTML(value=''), FloatProgress(value=0.0, max=13.0), HTML(value='')))"
      ]
     },
     "metadata": {},
     "output_type": "display_data"
    },
    {
     "data": {
      "application/vnd.jupyter.widget-view+json": {
       "model_id": "",
       "version_major": 2,
       "version_minor": 0
      },
      "text/plain": [
       "HBox(children=(HTML(value=''), FloatProgress(value=0.0, max=12.0), HTML(value='')))"
      ]
     },
     "metadata": {},
     "output_type": "display_data"
    },
    {
     "name": "stdout",
     "output_type": "stream",
     "text": [
      "Training Results - Epoch[108/1000] Loss : 3.2804179933949147\n"
     ]
    },
    {
     "data": {
      "application/vnd.jupyter.widget-view+json": {
       "model_id": "",
       "version_major": 2,
       "version_minor": 0
      },
      "text/plain": [
       "HBox(children=(HTML(value=''), FloatProgress(value=0.0, max=13.0), HTML(value='')))"
      ]
     },
     "metadata": {},
     "output_type": "display_data"
    },
    {
     "data": {
      "application/vnd.jupyter.widget-view+json": {
       "model_id": "",
       "version_major": 2,
       "version_minor": 0
      },
      "text/plain": [
       "HBox(children=(HTML(value=''), FloatProgress(value=0.0, max=12.0), HTML(value='')))"
      ]
     },
     "metadata": {},
     "output_type": "display_data"
    },
    {
     "name": "stdout",
     "output_type": "stream",
     "text": [
      "Training Results - Epoch[109/1000] Loss : 4.008802470430253\n"
     ]
    },
    {
     "data": {
      "application/vnd.jupyter.widget-view+json": {
       "model_id": "",
       "version_major": 2,
       "version_minor": 0
      },
      "text/plain": [
       "HBox(children=(HTML(value=''), FloatProgress(value=0.0, max=13.0), HTML(value='')))"
      ]
     },
     "metadata": {},
     "output_type": "display_data"
    },
    {
     "data": {
      "application/vnd.jupyter.widget-view+json": {
       "model_id": "",
       "version_major": 2,
       "version_minor": 0
      },
      "text/plain": [
       "HBox(children=(HTML(value=''), FloatProgress(value=0.0, max=12.0), HTML(value='')))"
      ]
     },
     "metadata": {},
     "output_type": "display_data"
    },
    {
     "name": "stdout",
     "output_type": "stream",
     "text": [
      "Training Results - Epoch[110/1000] Loss : 4.259749738468861\n"
     ]
    },
    {
     "data": {
      "application/vnd.jupyter.widget-view+json": {
       "model_id": "",
       "version_major": 2,
       "version_minor": 0
      },
      "text/plain": [
       "HBox(children=(HTML(value=''), FloatProgress(value=0.0, max=13.0), HTML(value='')))"
      ]
     },
     "metadata": {},
     "output_type": "display_data"
    },
    {
     "data": {
      "application/vnd.jupyter.widget-view+json": {
       "model_id": "",
       "version_major": 2,
       "version_minor": 0
      },
      "text/plain": [
       "HBox(children=(HTML(value=''), FloatProgress(value=0.0, max=12.0), HTML(value='')))"
      ]
     },
     "metadata": {},
     "output_type": "display_data"
    },
    {
     "name": "stdout",
     "output_type": "stream",
     "text": [
      "Training Results - Epoch[111/1000] Loss : 3.5793659136416864\n"
     ]
    },
    {
     "data": {
      "application/vnd.jupyter.widget-view+json": {
       "model_id": "",
       "version_major": 2,
       "version_minor": 0
      },
      "text/plain": [
       "HBox(children=(HTML(value=''), FloatProgress(value=0.0, max=13.0), HTML(value='')))"
      ]
     },
     "metadata": {},
     "output_type": "display_data"
    },
    {
     "data": {
      "application/vnd.jupyter.widget-view+json": {
       "model_id": "",
       "version_major": 2,
       "version_minor": 0
      },
      "text/plain": [
       "HBox(children=(HTML(value=''), FloatProgress(value=0.0, max=12.0), HTML(value='')))"
      ]
     },
     "metadata": {},
     "output_type": "display_data"
    },
    {
     "name": "stdout",
     "output_type": "stream",
     "text": [
      "Training Results - Epoch[112/1000] Loss : 3.2910259463741967\n"
     ]
    },
    {
     "data": {
      "application/vnd.jupyter.widget-view+json": {
       "model_id": "",
       "version_major": 2,
       "version_minor": 0
      },
      "text/plain": [
       "HBox(children=(HTML(value=''), FloatProgress(value=0.0, max=13.0), HTML(value='')))"
      ]
     },
     "metadata": {},
     "output_type": "display_data"
    },
    {
     "data": {
      "application/vnd.jupyter.widget-view+json": {
       "model_id": "",
       "version_major": 2,
       "version_minor": 0
      },
      "text/plain": [
       "HBox(children=(HTML(value=''), FloatProgress(value=0.0, max=12.0), HTML(value='')))"
      ]
     },
     "metadata": {},
     "output_type": "display_data"
    },
    {
     "name": "stdout",
     "output_type": "stream",
     "text": [
      "Training Results - Epoch[113/1000] Loss : 3.6731039467524247\n"
     ]
    },
    {
     "data": {
      "application/vnd.jupyter.widget-view+json": {
       "model_id": "",
       "version_major": 2,
       "version_minor": 0
      },
      "text/plain": [
       "HBox(children=(HTML(value=''), FloatProgress(value=0.0, max=13.0), HTML(value='')))"
      ]
     },
     "metadata": {},
     "output_type": "display_data"
    },
    {
     "data": {
      "application/vnd.jupyter.widget-view+json": {
       "model_id": "",
       "version_major": 2,
       "version_minor": 0
      },
      "text/plain": [
       "HBox(children=(HTML(value=''), FloatProgress(value=0.0, max=12.0), HTML(value='')))"
      ]
     },
     "metadata": {},
     "output_type": "display_data"
    },
    {
     "name": "stdout",
     "output_type": "stream",
     "text": [
      "Training Results - Epoch[114/1000] Loss : 3.7570466973336676\n"
     ]
    },
    {
     "data": {
      "application/vnd.jupyter.widget-view+json": {
       "model_id": "",
       "version_major": 2,
       "version_minor": 0
      },
      "text/plain": [
       "HBox(children=(HTML(value=''), FloatProgress(value=0.0, max=13.0), HTML(value='')))"
      ]
     },
     "metadata": {},
     "output_type": "display_data"
    },
    {
     "data": {
      "application/vnd.jupyter.widget-view+json": {
       "model_id": "",
       "version_major": 2,
       "version_minor": 0
      },
      "text/plain": [
       "HBox(children=(HTML(value=''), FloatProgress(value=0.0, max=12.0), HTML(value='')))"
      ]
     },
     "metadata": {},
     "output_type": "display_data"
    },
    {
     "name": "stdout",
     "output_type": "stream",
     "text": [
      "Training Results - Epoch[115/1000] Loss : 4.136628482183899\n"
     ]
    },
    {
     "data": {
      "application/vnd.jupyter.widget-view+json": {
       "model_id": "",
       "version_major": 2,
       "version_minor": 0
      },
      "text/plain": [
       "HBox(children=(HTML(value=''), FloatProgress(value=0.0, max=13.0), HTML(value='')))"
      ]
     },
     "metadata": {},
     "output_type": "display_data"
    },
    {
     "data": {
      "application/vnd.jupyter.widget-view+json": {
       "model_id": "",
       "version_major": 2,
       "version_minor": 0
      },
      "text/plain": [
       "HBox(children=(HTML(value=''), FloatProgress(value=0.0, max=12.0), HTML(value='')))"
      ]
     },
     "metadata": {},
     "output_type": "display_data"
    },
    {
     "name": "stdout",
     "output_type": "stream",
     "text": [
      "Training Results - Epoch[116/1000] Loss : 4.0465972255650415\n"
     ]
    },
    {
     "data": {
      "application/vnd.jupyter.widget-view+json": {
       "model_id": "",
       "version_major": 2,
       "version_minor": 0
      },
      "text/plain": [
       "HBox(children=(HTML(value=''), FloatProgress(value=0.0, max=13.0), HTML(value='')))"
      ]
     },
     "metadata": {},
     "output_type": "display_data"
    },
    {
     "data": {
      "application/vnd.jupyter.widget-view+json": {
       "model_id": "",
       "version_major": 2,
       "version_minor": 0
      },
      "text/plain": [
       "HBox(children=(HTML(value=''), FloatProgress(value=0.0, max=12.0), HTML(value='')))"
      ]
     },
     "metadata": {},
     "output_type": "display_data"
    },
    {
     "name": "stdout",
     "output_type": "stream",
     "text": [
      "Training Results - Epoch[117/1000] Loss : 3.299100265311587\n"
     ]
    },
    {
     "data": {
      "application/vnd.jupyter.widget-view+json": {
       "model_id": "",
       "version_major": 2,
       "version_minor": 0
      },
      "text/plain": [
       "HBox(children=(HTML(value=''), FloatProgress(value=0.0, max=13.0), HTML(value='')))"
      ]
     },
     "metadata": {},
     "output_type": "display_data"
    },
    {
     "data": {
      "application/vnd.jupyter.widget-view+json": {
       "model_id": "",
       "version_major": 2,
       "version_minor": 0
      },
      "text/plain": [
       "HBox(children=(HTML(value=''), FloatProgress(value=0.0, max=12.0), HTML(value='')))"
      ]
     },
     "metadata": {},
     "output_type": "display_data"
    },
    {
     "name": "stdout",
     "output_type": "stream",
     "text": [
      "Training Results - Epoch[118/1000] Loss : 3.81804721298296\n"
     ]
    },
    {
     "data": {
      "application/vnd.jupyter.widget-view+json": {
       "model_id": "",
       "version_major": 2,
       "version_minor": 0
      },
      "text/plain": [
       "HBox(children=(HTML(value=''), FloatProgress(value=0.0, max=13.0), HTML(value='')))"
      ]
     },
     "metadata": {},
     "output_type": "display_data"
    },
    {
     "data": {
      "application/vnd.jupyter.widget-view+json": {
       "model_id": "",
       "version_major": 2,
       "version_minor": 0
      },
      "text/plain": [
       "HBox(children=(HTML(value=''), FloatProgress(value=0.0, max=12.0), HTML(value='')))"
      ]
     },
     "metadata": {},
     "output_type": "display_data"
    },
    {
     "name": "stdout",
     "output_type": "stream",
     "text": [
      "Training Results - Epoch[119/1000] Loss : 2.7965862753676376\n"
     ]
    },
    {
     "data": {
      "application/vnd.jupyter.widget-view+json": {
       "model_id": "",
       "version_major": 2,
       "version_minor": 0
      },
      "text/plain": [
       "HBox(children=(HTML(value=''), FloatProgress(value=0.0, max=13.0), HTML(value='')))"
      ]
     },
     "metadata": {},
     "output_type": "display_data"
    },
    {
     "data": {
      "application/vnd.jupyter.widget-view+json": {
       "model_id": "",
       "version_major": 2,
       "version_minor": 0
      },
      "text/plain": [
       "HBox(children=(HTML(value=''), FloatProgress(value=0.0, max=12.0), HTML(value='')))"
      ]
     },
     "metadata": {},
     "output_type": "display_data"
    },
    {
     "name": "stdout",
     "output_type": "stream",
     "text": [
      "Training Results - Epoch[120/1000] Loss : 3.3400839447221786\n"
     ]
    },
    {
     "data": {
      "application/vnd.jupyter.widget-view+json": {
       "model_id": "",
       "version_major": 2,
       "version_minor": 0
      },
      "text/plain": [
       "HBox(children=(HTML(value=''), FloatProgress(value=0.0, max=13.0), HTML(value='')))"
      ]
     },
     "metadata": {},
     "output_type": "display_data"
    },
    {
     "data": {
      "application/vnd.jupyter.widget-view+json": {
       "model_id": "",
       "version_major": 2,
       "version_minor": 0
      },
      "text/plain": [
       "HBox(children=(HTML(value=''), FloatProgress(value=0.0, max=12.0), HTML(value='')))"
      ]
     },
     "metadata": {},
     "output_type": "display_data"
    },
    {
     "name": "stdout",
     "output_type": "stream",
     "text": [
      "Training Results - Epoch[121/1000] Loss : 4.545827769105322\n"
     ]
    },
    {
     "data": {
      "application/vnd.jupyter.widget-view+json": {
       "model_id": "",
       "version_major": 2,
       "version_minor": 0
      },
      "text/plain": [
       "HBox(children=(HTML(value=''), FloatProgress(value=0.0, max=13.0), HTML(value='')))"
      ]
     },
     "metadata": {},
     "output_type": "display_data"
    },
    {
     "data": {
      "application/vnd.jupyter.widget-view+json": {
       "model_id": "",
       "version_major": 2,
       "version_minor": 0
      },
      "text/plain": [
       "HBox(children=(HTML(value=''), FloatProgress(value=0.0, max=12.0), HTML(value='')))"
      ]
     },
     "metadata": {},
     "output_type": "display_data"
    },
    {
     "name": "stdout",
     "output_type": "stream",
     "text": [
      "Training Results - Epoch[122/1000] Loss : 3.078509863940114\n"
     ]
    },
    {
     "data": {
      "application/vnd.jupyter.widget-view+json": {
       "model_id": "",
       "version_major": 2,
       "version_minor": 0
      },
      "text/plain": [
       "HBox(children=(HTML(value=''), FloatProgress(value=0.0, max=13.0), HTML(value='')))"
      ]
     },
     "metadata": {},
     "output_type": "display_data"
    },
    {
     "data": {
      "application/vnd.jupyter.widget-view+json": {
       "model_id": "",
       "version_major": 2,
       "version_minor": 0
      },
      "text/plain": [
       "HBox(children=(HTML(value=''), FloatProgress(value=0.0, max=12.0), HTML(value='')))"
      ]
     },
     "metadata": {},
     "output_type": "display_data"
    },
    {
     "name": "stdout",
     "output_type": "stream",
     "text": [
      "Training Results - Epoch[123/1000] Loss : 3.7209612595945334\n"
     ]
    },
    {
     "data": {
      "application/vnd.jupyter.widget-view+json": {
       "model_id": "",
       "version_major": 2,
       "version_minor": 0
      },
      "text/plain": [
       "HBox(children=(HTML(value=''), FloatProgress(value=0.0, max=13.0), HTML(value='')))"
      ]
     },
     "metadata": {},
     "output_type": "display_data"
    },
    {
     "data": {
      "application/vnd.jupyter.widget-view+json": {
       "model_id": "",
       "version_major": 2,
       "version_minor": 0
      },
      "text/plain": [
       "HBox(children=(HTML(value=''), FloatProgress(value=0.0, max=12.0), HTML(value='')))"
      ]
     },
     "metadata": {},
     "output_type": "display_data"
    },
    {
     "name": "stdout",
     "output_type": "stream",
     "text": [
      "Training Results - Epoch[124/1000] Loss : 2.7749149080539697\n"
     ]
    },
    {
     "data": {
      "application/vnd.jupyter.widget-view+json": {
       "model_id": "",
       "version_major": 2,
       "version_minor": 0
      },
      "text/plain": [
       "HBox(children=(HTML(value=''), FloatProgress(value=0.0, max=13.0), HTML(value='')))"
      ]
     },
     "metadata": {},
     "output_type": "display_data"
    },
    {
     "data": {
      "application/vnd.jupyter.widget-view+json": {
       "model_id": "",
       "version_major": 2,
       "version_minor": 0
      },
      "text/plain": [
       "HBox(children=(HTML(value=''), FloatProgress(value=0.0, max=12.0), HTML(value='')))"
      ]
     },
     "metadata": {},
     "output_type": "display_data"
    },
    {
     "name": "stdout",
     "output_type": "stream",
     "text": [
      "Training Results - Epoch[125/1000] Loss : 3.9084806301424315\n"
     ]
    },
    {
     "data": {
      "application/vnd.jupyter.widget-view+json": {
       "model_id": "",
       "version_major": 2,
       "version_minor": 0
      },
      "text/plain": [
       "HBox(children=(HTML(value=''), FloatProgress(value=0.0, max=13.0), HTML(value='')))"
      ]
     },
     "metadata": {},
     "output_type": "display_data"
    },
    {
     "data": {
      "application/vnd.jupyter.widget-view+json": {
       "model_id": "",
       "version_major": 2,
       "version_minor": 0
      },
      "text/plain": [
       "HBox(children=(HTML(value=''), FloatProgress(value=0.0, max=12.0), HTML(value='')))"
      ]
     },
     "metadata": {},
     "output_type": "display_data"
    },
    {
     "name": "stdout",
     "output_type": "stream",
     "text": [
      "Training Results - Epoch[126/1000] Loss : 4.463986744211156\n"
     ]
    },
    {
     "data": {
      "application/vnd.jupyter.widget-view+json": {
       "model_id": "",
       "version_major": 2,
       "version_minor": 0
      },
      "text/plain": [
       "HBox(children=(HTML(value=''), FloatProgress(value=0.0, max=13.0), HTML(value='')))"
      ]
     },
     "metadata": {},
     "output_type": "display_data"
    },
    {
     "data": {
      "application/vnd.jupyter.widget-view+json": {
       "model_id": "",
       "version_major": 2,
       "version_minor": 0
      },
      "text/plain": [
       "HBox(children=(HTML(value=''), FloatProgress(value=0.0, max=12.0), HTML(value='')))"
      ]
     },
     "metadata": {},
     "output_type": "display_data"
    },
    {
     "name": "stdout",
     "output_type": "stream",
     "text": [
      "Training Results - Epoch[127/1000] Loss : 3.3956887835884975\n"
     ]
    },
    {
     "data": {
      "application/vnd.jupyter.widget-view+json": {
       "model_id": "",
       "version_major": 2,
       "version_minor": 0
      },
      "text/plain": [
       "HBox(children=(HTML(value=''), FloatProgress(value=0.0, max=13.0), HTML(value='')))"
      ]
     },
     "metadata": {},
     "output_type": "display_data"
    },
    {
     "data": {
      "application/vnd.jupyter.widget-view+json": {
       "model_id": "",
       "version_major": 2,
       "version_minor": 0
      },
      "text/plain": [
       "HBox(children=(HTML(value=''), FloatProgress(value=0.0, max=12.0), HTML(value='')))"
      ]
     },
     "metadata": {},
     "output_type": "display_data"
    },
    {
     "name": "stdout",
     "output_type": "stream",
     "text": [
      "Training Results - Epoch[128/1000] Loss : 3.1901700908895885\n"
     ]
    },
    {
     "data": {
      "application/vnd.jupyter.widget-view+json": {
       "model_id": "",
       "version_major": 2,
       "version_minor": 0
      },
      "text/plain": [
       "HBox(children=(HTML(value=''), FloatProgress(value=0.0, max=13.0), HTML(value='')))"
      ]
     },
     "metadata": {},
     "output_type": "display_data"
    },
    {
     "data": {
      "application/vnd.jupyter.widget-view+json": {
       "model_id": "",
       "version_major": 2,
       "version_minor": 0
      },
      "text/plain": [
       "HBox(children=(HTML(value=''), FloatProgress(value=0.0, max=12.0), HTML(value='')))"
      ]
     },
     "metadata": {},
     "output_type": "display_data"
    },
    {
     "name": "stdout",
     "output_type": "stream",
     "text": [
      "Training Results - Epoch[129/1000] Loss : 2.861558804628632\n"
     ]
    },
    {
     "data": {
      "application/vnd.jupyter.widget-view+json": {
       "model_id": "",
       "version_major": 2,
       "version_minor": 0
      },
      "text/plain": [
       "HBox(children=(HTML(value=''), FloatProgress(value=0.0, max=13.0), HTML(value='')))"
      ]
     },
     "metadata": {},
     "output_type": "display_data"
    },
    {
     "data": {
      "application/vnd.jupyter.widget-view+json": {
       "model_id": "",
       "version_major": 2,
       "version_minor": 0
      },
      "text/plain": [
       "HBox(children=(HTML(value=''), FloatProgress(value=0.0, max=12.0), HTML(value='')))"
      ]
     },
     "metadata": {},
     "output_type": "display_data"
    },
    {
     "name": "stdout",
     "output_type": "stream",
     "text": [
      "Training Results - Epoch[130/1000] Loss : 3.3825914175312257\n"
     ]
    },
    {
     "data": {
      "application/vnd.jupyter.widget-view+json": {
       "model_id": "",
       "version_major": 2,
       "version_minor": 0
      },
      "text/plain": [
       "HBox(children=(HTML(value=''), FloatProgress(value=0.0, max=13.0), HTML(value='')))"
      ]
     },
     "metadata": {},
     "output_type": "display_data"
    },
    {
     "data": {
      "application/vnd.jupyter.widget-view+json": {
       "model_id": "",
       "version_major": 2,
       "version_minor": 0
      },
      "text/plain": [
       "HBox(children=(HTML(value=''), FloatProgress(value=0.0, max=12.0), HTML(value='')))"
      ]
     },
     "metadata": {},
     "output_type": "display_data"
    },
    {
     "name": "stdout",
     "output_type": "stream",
     "text": [
      "Training Results - Epoch[131/1000] Loss : 2.7999129158504585\n"
     ]
    },
    {
     "data": {
      "application/vnd.jupyter.widget-view+json": {
       "model_id": "",
       "version_major": 2,
       "version_minor": 0
      },
      "text/plain": [
       "HBox(children=(HTML(value=''), FloatProgress(value=0.0, max=13.0), HTML(value='')))"
      ]
     },
     "metadata": {},
     "output_type": "display_data"
    },
    {
     "data": {
      "application/vnd.jupyter.widget-view+json": {
       "model_id": "",
       "version_major": 2,
       "version_minor": 0
      },
      "text/plain": [
       "HBox(children=(HTML(value=''), FloatProgress(value=0.0, max=12.0), HTML(value='')))"
      ]
     },
     "metadata": {},
     "output_type": "display_data"
    },
    {
     "name": "stdout",
     "output_type": "stream",
     "text": [
      "Training Results - Epoch[132/1000] Loss : 3.307797505779598\n"
     ]
    },
    {
     "data": {
      "application/vnd.jupyter.widget-view+json": {
       "model_id": "",
       "version_major": 2,
       "version_minor": 0
      },
      "text/plain": [
       "HBox(children=(HTML(value=''), FloatProgress(value=0.0, max=13.0), HTML(value='')))"
      ]
     },
     "metadata": {},
     "output_type": "display_data"
    },
    {
     "data": {
      "application/vnd.jupyter.widget-view+json": {
       "model_id": "",
       "version_major": 2,
       "version_minor": 0
      },
      "text/plain": [
       "HBox(children=(HTML(value=''), FloatProgress(value=0.0, max=12.0), HTML(value='')))"
      ]
     },
     "metadata": {},
     "output_type": "display_data"
    },
    {
     "name": "stdout",
     "output_type": "stream",
     "text": [
      "Training Results - Epoch[133/1000] Loss : 2.5150696230889564\n"
     ]
    },
    {
     "data": {
      "application/vnd.jupyter.widget-view+json": {
       "model_id": "",
       "version_major": 2,
       "version_minor": 0
      },
      "text/plain": [
       "HBox(children=(HTML(value=''), FloatProgress(value=0.0, max=13.0), HTML(value='')))"
      ]
     },
     "metadata": {},
     "output_type": "display_data"
    },
    {
     "data": {
      "application/vnd.jupyter.widget-view+json": {
       "model_id": "",
       "version_major": 2,
       "version_minor": 0
      },
      "text/plain": [
       "HBox(children=(HTML(value=''), FloatProgress(value=0.0, max=12.0), HTML(value='')))"
      ]
     },
     "metadata": {},
     "output_type": "display_data"
    },
    {
     "name": "stdout",
     "output_type": "stream",
     "text": [
      "Training Results - Epoch[134/1000] Loss : 3.1645932949570845\n"
     ]
    },
    {
     "data": {
      "application/vnd.jupyter.widget-view+json": {
       "model_id": "",
       "version_major": 2,
       "version_minor": 0
      },
      "text/plain": [
       "HBox(children=(HTML(value=''), FloatProgress(value=0.0, max=13.0), HTML(value='')))"
      ]
     },
     "metadata": {},
     "output_type": "display_data"
    },
    {
     "data": {
      "application/vnd.jupyter.widget-view+json": {
       "model_id": "",
       "version_major": 2,
       "version_minor": 0
      },
      "text/plain": [
       "HBox(children=(HTML(value=''), FloatProgress(value=0.0, max=12.0), HTML(value='')))"
      ]
     },
     "metadata": {},
     "output_type": "display_data"
    },
    {
     "name": "stdout",
     "output_type": "stream",
     "text": [
      "Training Results - Epoch[135/1000] Loss : 2.8403320625937627\n"
     ]
    },
    {
     "data": {
      "application/vnd.jupyter.widget-view+json": {
       "model_id": "",
       "version_major": 2,
       "version_minor": 0
      },
      "text/plain": [
       "HBox(children=(HTML(value=''), FloatProgress(value=0.0, max=13.0), HTML(value='')))"
      ]
     },
     "metadata": {},
     "output_type": "display_data"
    },
    {
     "data": {
      "application/vnd.jupyter.widget-view+json": {
       "model_id": "",
       "version_major": 2,
       "version_minor": 0
      },
      "text/plain": [
       "HBox(children=(HTML(value=''), FloatProgress(value=0.0, max=12.0), HTML(value='')))"
      ]
     },
     "metadata": {},
     "output_type": "display_data"
    },
    {
     "name": "stdout",
     "output_type": "stream",
     "text": [
      "Training Results - Epoch[136/1000] Loss : 2.659063445225013\n"
     ]
    },
    {
     "data": {
      "application/vnd.jupyter.widget-view+json": {
       "model_id": "",
       "version_major": 2,
       "version_minor": 0
      },
      "text/plain": [
       "HBox(children=(HTML(value=''), FloatProgress(value=0.0, max=13.0), HTML(value='')))"
      ]
     },
     "metadata": {},
     "output_type": "display_data"
    },
    {
     "data": {
      "application/vnd.jupyter.widget-view+json": {
       "model_id": "",
       "version_major": 2,
       "version_minor": 0
      },
      "text/plain": [
       "HBox(children=(HTML(value=''), FloatProgress(value=0.0, max=12.0), HTML(value='')))"
      ]
     },
     "metadata": {},
     "output_type": "display_data"
    },
    {
     "name": "stdout",
     "output_type": "stream",
     "text": [
      "Training Results - Epoch[137/1000] Loss : 3.014391297141275\n"
     ]
    },
    {
     "data": {
      "application/vnd.jupyter.widget-view+json": {
       "model_id": "",
       "version_major": 2,
       "version_minor": 0
      },
      "text/plain": [
       "HBox(children=(HTML(value=''), FloatProgress(value=0.0, max=13.0), HTML(value='')))"
      ]
     },
     "metadata": {},
     "output_type": "display_data"
    },
    {
     "data": {
      "application/vnd.jupyter.widget-view+json": {
       "model_id": "",
       "version_major": 2,
       "version_minor": 0
      },
      "text/plain": [
       "HBox(children=(HTML(value=''), FloatProgress(value=0.0, max=12.0), HTML(value='')))"
      ]
     },
     "metadata": {},
     "output_type": "display_data"
    },
    {
     "name": "stdout",
     "output_type": "stream",
     "text": [
      "Training Results - Epoch[138/1000] Loss : 2.787135881952438\n"
     ]
    },
    {
     "data": {
      "application/vnd.jupyter.widget-view+json": {
       "model_id": "",
       "version_major": 2,
       "version_minor": 0
      },
      "text/plain": [
       "HBox(children=(HTML(value=''), FloatProgress(value=0.0, max=13.0), HTML(value='')))"
      ]
     },
     "metadata": {},
     "output_type": "display_data"
    },
    {
     "data": {
      "application/vnd.jupyter.widget-view+json": {
       "model_id": "",
       "version_major": 2,
       "version_minor": 0
      },
      "text/plain": [
       "HBox(children=(HTML(value=''), FloatProgress(value=0.0, max=12.0), HTML(value='')))"
      ]
     },
     "metadata": {},
     "output_type": "display_data"
    },
    {
     "name": "stdout",
     "output_type": "stream",
     "text": [
      "Training Results - Epoch[139/1000] Loss : 3.22341983903185\n"
     ]
    },
    {
     "data": {
      "application/vnd.jupyter.widget-view+json": {
       "model_id": "",
       "version_major": 2,
       "version_minor": 0
      },
      "text/plain": [
       "HBox(children=(HTML(value=''), FloatProgress(value=0.0, max=13.0), HTML(value='')))"
      ]
     },
     "metadata": {},
     "output_type": "display_data"
    },
    {
     "data": {
      "application/vnd.jupyter.widget-view+json": {
       "model_id": "",
       "version_major": 2,
       "version_minor": 0
      },
      "text/plain": [
       "HBox(children=(HTML(value=''), FloatProgress(value=0.0, max=12.0), HTML(value='')))"
      ]
     },
     "metadata": {},
     "output_type": "display_data"
    },
    {
     "name": "stdout",
     "output_type": "stream",
     "text": [
      "Training Results - Epoch[140/1000] Loss : 2.2468208272013164\n"
     ]
    },
    {
     "data": {
      "application/vnd.jupyter.widget-view+json": {
       "model_id": "",
       "version_major": 2,
       "version_minor": 0
      },
      "text/plain": [
       "HBox(children=(HTML(value=''), FloatProgress(value=0.0, max=13.0), HTML(value='')))"
      ]
     },
     "metadata": {},
     "output_type": "display_data"
    },
    {
     "data": {
      "application/vnd.jupyter.widget-view+json": {
       "model_id": "",
       "version_major": 2,
       "version_minor": 0
      },
      "text/plain": [
       "HBox(children=(HTML(value=''), FloatProgress(value=0.0, max=12.0), HTML(value='')))"
      ]
     },
     "metadata": {},
     "output_type": "display_data"
    },
    {
     "name": "stdout",
     "output_type": "stream",
     "text": [
      "Training Results - Epoch[141/1000] Loss : 2.5710400387098127\n"
     ]
    },
    {
     "data": {
      "application/vnd.jupyter.widget-view+json": {
       "model_id": "",
       "version_major": 2,
       "version_minor": 0
      },
      "text/plain": [
       "HBox(children=(HTML(value=''), FloatProgress(value=0.0, max=13.0), HTML(value='')))"
      ]
     },
     "metadata": {},
     "output_type": "display_data"
    },
    {
     "data": {
      "application/vnd.jupyter.widget-view+json": {
       "model_id": "",
       "version_major": 2,
       "version_minor": 0
      },
      "text/plain": [
       "HBox(children=(HTML(value=''), FloatProgress(value=0.0, max=12.0), HTML(value='')))"
      ]
     },
     "metadata": {},
     "output_type": "display_data"
    },
    {
     "name": "stdout",
     "output_type": "stream",
     "text": [
      "Training Results - Epoch[142/1000] Loss : 3.7101587599969172\n"
     ]
    },
    {
     "data": {
      "application/vnd.jupyter.widget-view+json": {
       "model_id": "",
       "version_major": 2,
       "version_minor": 0
      },
      "text/plain": [
       "HBox(children=(HTML(value=''), FloatProgress(value=0.0, max=13.0), HTML(value='')))"
      ]
     },
     "metadata": {},
     "output_type": "display_data"
    },
    {
     "data": {
      "application/vnd.jupyter.widget-view+json": {
       "model_id": "",
       "version_major": 2,
       "version_minor": 0
      },
      "text/plain": [
       "HBox(children=(HTML(value=''), FloatProgress(value=0.0, max=12.0), HTML(value='')))"
      ]
     },
     "metadata": {},
     "output_type": "display_data"
    },
    {
     "name": "stdout",
     "output_type": "stream",
     "text": [
      "Training Results - Epoch[143/1000] Loss : 4.086643795157608\n"
     ]
    },
    {
     "data": {
      "application/vnd.jupyter.widget-view+json": {
       "model_id": "",
       "version_major": 2,
       "version_minor": 0
      },
      "text/plain": [
       "HBox(children=(HTML(value=''), FloatProgress(value=0.0, max=13.0), HTML(value='')))"
      ]
     },
     "metadata": {},
     "output_type": "display_data"
    },
    {
     "data": {
      "application/vnd.jupyter.widget-view+json": {
       "model_id": "",
       "version_major": 2,
       "version_minor": 0
      },
      "text/plain": [
       "HBox(children=(HTML(value=''), FloatProgress(value=0.0, max=12.0), HTML(value='')))"
      ]
     },
     "metadata": {},
     "output_type": "display_data"
    },
    {
     "name": "stdout",
     "output_type": "stream",
     "text": [
      "Training Results - Epoch[144/1000] Loss : 2.673427600452406\n"
     ]
    },
    {
     "data": {
      "application/vnd.jupyter.widget-view+json": {
       "model_id": "",
       "version_major": 2,
       "version_minor": 0
      },
      "text/plain": [
       "HBox(children=(HTML(value=''), FloatProgress(value=0.0, max=13.0), HTML(value='')))"
      ]
     },
     "metadata": {},
     "output_type": "display_data"
    },
    {
     "data": {
      "application/vnd.jupyter.widget-view+json": {
       "model_id": "",
       "version_major": 2,
       "version_minor": 0
      },
      "text/plain": [
       "HBox(children=(HTML(value=''), FloatProgress(value=0.0, max=12.0), HTML(value='')))"
      ]
     },
     "metadata": {},
     "output_type": "display_data"
    },
    {
     "name": "stdout",
     "output_type": "stream",
     "text": [
      "Training Results - Epoch[145/1000] Loss : 2.3894497479407515\n"
     ]
    },
    {
     "data": {
      "application/vnd.jupyter.widget-view+json": {
       "model_id": "",
       "version_major": 2,
       "version_minor": 0
      },
      "text/plain": [
       "HBox(children=(HTML(value=''), FloatProgress(value=0.0, max=13.0), HTML(value='')))"
      ]
     },
     "metadata": {},
     "output_type": "display_data"
    },
    {
     "data": {
      "application/vnd.jupyter.widget-view+json": {
       "model_id": "",
       "version_major": 2,
       "version_minor": 0
      },
      "text/plain": [
       "HBox(children=(HTML(value=''), FloatProgress(value=0.0, max=12.0), HTML(value='')))"
      ]
     },
     "metadata": {},
     "output_type": "display_data"
    },
    {
     "name": "stdout",
     "output_type": "stream",
     "text": [
      "Training Results - Epoch[146/1000] Loss : 3.0361840701994773\n"
     ]
    },
    {
     "data": {
      "application/vnd.jupyter.widget-view+json": {
       "model_id": "",
       "version_major": 2,
       "version_minor": 0
      },
      "text/plain": [
       "HBox(children=(HTML(value=''), FloatProgress(value=0.0, max=13.0), HTML(value='')))"
      ]
     },
     "metadata": {},
     "output_type": "display_data"
    },
    {
     "data": {
      "application/vnd.jupyter.widget-view+json": {
       "model_id": "",
       "version_major": 2,
       "version_minor": 0
      },
      "text/plain": [
       "HBox(children=(HTML(value=''), FloatProgress(value=0.0, max=12.0), HTML(value='')))"
      ]
     },
     "metadata": {},
     "output_type": "display_data"
    },
    {
     "name": "stdout",
     "output_type": "stream",
     "text": [
      "Training Results - Epoch[147/1000] Loss : 2.4909812621122316\n"
     ]
    },
    {
     "data": {
      "application/vnd.jupyter.widget-view+json": {
       "model_id": "",
       "version_major": 2,
       "version_minor": 0
      },
      "text/plain": [
       "HBox(children=(HTML(value=''), FloatProgress(value=0.0, max=13.0), HTML(value='')))"
      ]
     },
     "metadata": {},
     "output_type": "display_data"
    },
    {
     "data": {
      "application/vnd.jupyter.widget-view+json": {
       "model_id": "",
       "version_major": 2,
       "version_minor": 0
      },
      "text/plain": [
       "HBox(children=(HTML(value=''), FloatProgress(value=0.0, max=12.0), HTML(value='')))"
      ]
     },
     "metadata": {},
     "output_type": "display_data"
    },
    {
     "name": "stdout",
     "output_type": "stream",
     "text": [
      "Training Results - Epoch[148/1000] Loss : 4.245239521378354\n"
     ]
    },
    {
     "data": {
      "application/vnd.jupyter.widget-view+json": {
       "model_id": "",
       "version_major": 2,
       "version_minor": 0
      },
      "text/plain": [
       "HBox(children=(HTML(value=''), FloatProgress(value=0.0, max=13.0), HTML(value='')))"
      ]
     },
     "metadata": {},
     "output_type": "display_data"
    },
    {
     "data": {
      "application/vnd.jupyter.widget-view+json": {
       "model_id": "",
       "version_major": 2,
       "version_minor": 0
      },
      "text/plain": [
       "HBox(children=(HTML(value=''), FloatProgress(value=0.0, max=12.0), HTML(value='')))"
      ]
     },
     "metadata": {},
     "output_type": "display_data"
    },
    {
     "name": "stdout",
     "output_type": "stream",
     "text": [
      "Training Results - Epoch[149/1000] Loss : 3.261965170754132\n"
     ]
    },
    {
     "data": {
      "application/vnd.jupyter.widget-view+json": {
       "model_id": "",
       "version_major": 2,
       "version_minor": 0
      },
      "text/plain": [
       "HBox(children=(HTML(value=''), FloatProgress(value=0.0, max=13.0), HTML(value='')))"
      ]
     },
     "metadata": {},
     "output_type": "display_data"
    },
    {
     "data": {
      "application/vnd.jupyter.widget-view+json": {
       "model_id": "",
       "version_major": 2,
       "version_minor": 0
      },
      "text/plain": [
       "HBox(children=(HTML(value=''), FloatProgress(value=0.0, max=12.0), HTML(value='')))"
      ]
     },
     "metadata": {},
     "output_type": "display_data"
    },
    {
     "name": "stdout",
     "output_type": "stream",
     "text": [
      "Training Results - Epoch[150/1000] Loss : 2.7918724588060084\n"
     ]
    },
    {
     "data": {
      "application/vnd.jupyter.widget-view+json": {
       "model_id": "",
       "version_major": 2,
       "version_minor": 0
      },
      "text/plain": [
       "HBox(children=(HTML(value=''), FloatProgress(value=0.0, max=13.0), HTML(value='')))"
      ]
     },
     "metadata": {},
     "output_type": "display_data"
    },
    {
     "data": {
      "application/vnd.jupyter.widget-view+json": {
       "model_id": "",
       "version_major": 2,
       "version_minor": 0
      },
      "text/plain": [
       "HBox(children=(HTML(value=''), FloatProgress(value=0.0, max=12.0), HTML(value='')))"
      ]
     },
     "metadata": {},
     "output_type": "display_data"
    },
    {
     "name": "stdout",
     "output_type": "stream",
     "text": [
      "Training Results - Epoch[151/1000] Loss : 2.9185126190453294\n"
     ]
    },
    {
     "data": {
      "application/vnd.jupyter.widget-view+json": {
       "model_id": "",
       "version_major": 2,
       "version_minor": 0
      },
      "text/plain": [
       "HBox(children=(HTML(value=''), FloatProgress(value=0.0, max=13.0), HTML(value='')))"
      ]
     },
     "metadata": {},
     "output_type": "display_data"
    },
    {
     "data": {
      "application/vnd.jupyter.widget-view+json": {
       "model_id": "",
       "version_major": 2,
       "version_minor": 0
      },
      "text/plain": [
       "HBox(children=(HTML(value=''), FloatProgress(value=0.0, max=12.0), HTML(value='')))"
      ]
     },
     "metadata": {},
     "output_type": "display_data"
    },
    {
     "name": "stdout",
     "output_type": "stream",
     "text": [
      "Training Results - Epoch[152/1000] Loss : 3.077492119240264\n"
     ]
    },
    {
     "data": {
      "application/vnd.jupyter.widget-view+json": {
       "model_id": "",
       "version_major": 2,
       "version_minor": 0
      },
      "text/plain": [
       "HBox(children=(HTML(value=''), FloatProgress(value=0.0, max=13.0), HTML(value='')))"
      ]
     },
     "metadata": {},
     "output_type": "display_data"
    },
    {
     "data": {
      "application/vnd.jupyter.widget-view+json": {
       "model_id": "",
       "version_major": 2,
       "version_minor": 0
      },
      "text/plain": [
       "HBox(children=(HTML(value=''), FloatProgress(value=0.0, max=12.0), HTML(value='')))"
      ]
     },
     "metadata": {},
     "output_type": "display_data"
    },
    {
     "name": "stdout",
     "output_type": "stream",
     "text": [
      "Training Results - Epoch[153/1000] Loss : 3.634660305925093\n"
     ]
    },
    {
     "data": {
      "application/vnd.jupyter.widget-view+json": {
       "model_id": "",
       "version_major": 2,
       "version_minor": 0
      },
      "text/plain": [
       "HBox(children=(HTML(value=''), FloatProgress(value=0.0, max=13.0), HTML(value='')))"
      ]
     },
     "metadata": {},
     "output_type": "display_data"
    },
    {
     "data": {
      "application/vnd.jupyter.widget-view+json": {
       "model_id": "",
       "version_major": 2,
       "version_minor": 0
      },
      "text/plain": [
       "HBox(children=(HTML(value=''), FloatProgress(value=0.0, max=12.0), HTML(value='')))"
      ]
     },
     "metadata": {},
     "output_type": "display_data"
    },
    {
     "name": "stdout",
     "output_type": "stream",
     "text": [
      "Training Results - Epoch[154/1000] Loss : 2.3258554572339953\n"
     ]
    },
    {
     "data": {
      "application/vnd.jupyter.widget-view+json": {
       "model_id": "",
       "version_major": 2,
       "version_minor": 0
      },
      "text/plain": [
       "HBox(children=(HTML(value=''), FloatProgress(value=0.0, max=13.0), HTML(value='')))"
      ]
     },
     "metadata": {},
     "output_type": "display_data"
    },
    {
     "data": {
      "application/vnd.jupyter.widget-view+json": {
       "model_id": "",
       "version_major": 2,
       "version_minor": 0
      },
      "text/plain": [
       "HBox(children=(HTML(value=''), FloatProgress(value=0.0, max=12.0), HTML(value='')))"
      ]
     },
     "metadata": {},
     "output_type": "display_data"
    },
    {
     "name": "stdout",
     "output_type": "stream",
     "text": [
      "Training Results - Epoch[155/1000] Loss : 3.879696703520073\n"
     ]
    },
    {
     "data": {
      "application/vnd.jupyter.widget-view+json": {
       "model_id": "",
       "version_major": 2,
       "version_minor": 0
      },
      "text/plain": [
       "HBox(children=(HTML(value=''), FloatProgress(value=0.0, max=13.0), HTML(value='')))"
      ]
     },
     "metadata": {},
     "output_type": "display_data"
    },
    {
     "data": {
      "application/vnd.jupyter.widget-view+json": {
       "model_id": "",
       "version_major": 2,
       "version_minor": 0
      },
      "text/plain": [
       "HBox(children=(HTML(value=''), FloatProgress(value=0.0, max=12.0), HTML(value='')))"
      ]
     },
     "metadata": {},
     "output_type": "display_data"
    },
    {
     "name": "stdout",
     "output_type": "stream",
     "text": [
      "Training Results - Epoch[156/1000] Loss : 2.9440443111808228\n"
     ]
    },
    {
     "data": {
      "application/vnd.jupyter.widget-view+json": {
       "model_id": "",
       "version_major": 2,
       "version_minor": 0
      },
      "text/plain": [
       "HBox(children=(HTML(value=''), FloatProgress(value=0.0, max=13.0), HTML(value='')))"
      ]
     },
     "metadata": {},
     "output_type": "display_data"
    },
    {
     "data": {
      "application/vnd.jupyter.widget-view+json": {
       "model_id": "",
       "version_major": 2,
       "version_minor": 0
      },
      "text/plain": [
       "HBox(children=(HTML(value=''), FloatProgress(value=0.0, max=12.0), HTML(value='')))"
      ]
     },
     "metadata": {},
     "output_type": "display_data"
    },
    {
     "name": "stdout",
     "output_type": "stream",
     "text": [
      "Training Results - Epoch[157/1000] Loss : 2.7109167609519353\n"
     ]
    },
    {
     "data": {
      "application/vnd.jupyter.widget-view+json": {
       "model_id": "",
       "version_major": 2,
       "version_minor": 0
      },
      "text/plain": [
       "HBox(children=(HTML(value=''), FloatProgress(value=0.0, max=13.0), HTML(value='')))"
      ]
     },
     "metadata": {},
     "output_type": "display_data"
    },
    {
     "data": {
      "application/vnd.jupyter.widget-view+json": {
       "model_id": "",
       "version_major": 2,
       "version_minor": 0
      },
      "text/plain": [
       "HBox(children=(HTML(value=''), FloatProgress(value=0.0, max=12.0), HTML(value='')))"
      ]
     },
     "metadata": {},
     "output_type": "display_data"
    },
    {
     "name": "stdout",
     "output_type": "stream",
     "text": [
      "Training Results - Epoch[158/1000] Loss : 2.4411834541722977\n"
     ]
    },
    {
     "data": {
      "application/vnd.jupyter.widget-view+json": {
       "model_id": "",
       "version_major": 2,
       "version_minor": 0
      },
      "text/plain": [
       "HBox(children=(HTML(value=''), FloatProgress(value=0.0, max=13.0), HTML(value='')))"
      ]
     },
     "metadata": {},
     "output_type": "display_data"
    },
    {
     "data": {
      "application/vnd.jupyter.widget-view+json": {
       "model_id": "",
       "version_major": 2,
       "version_minor": 0
      },
      "text/plain": [
       "HBox(children=(HTML(value=''), FloatProgress(value=0.0, max=12.0), HTML(value='')))"
      ]
     },
     "metadata": {},
     "output_type": "display_data"
    },
    {
     "name": "stdout",
     "output_type": "stream",
     "text": [
      "Training Results - Epoch[159/1000] Loss : 4.140545890553461\n"
     ]
    },
    {
     "data": {
      "application/vnd.jupyter.widget-view+json": {
       "model_id": "",
       "version_major": 2,
       "version_minor": 0
      },
      "text/plain": [
       "HBox(children=(HTML(value=''), FloatProgress(value=0.0, max=13.0), HTML(value='')))"
      ]
     },
     "metadata": {},
     "output_type": "display_data"
    },
    {
     "data": {
      "application/vnd.jupyter.widget-view+json": {
       "model_id": "",
       "version_major": 2,
       "version_minor": 0
      },
      "text/plain": [
       "HBox(children=(HTML(value=''), FloatProgress(value=0.0, max=12.0), HTML(value='')))"
      ]
     },
     "metadata": {},
     "output_type": "display_data"
    },
    {
     "name": "stdout",
     "output_type": "stream",
     "text": [
      "Training Results - Epoch[160/1000] Loss : 4.0251940293887225\n"
     ]
    },
    {
     "data": {
      "application/vnd.jupyter.widget-view+json": {
       "model_id": "",
       "version_major": 2,
       "version_minor": 0
      },
      "text/plain": [
       "HBox(children=(HTML(value=''), FloatProgress(value=0.0, max=13.0), HTML(value='')))"
      ]
     },
     "metadata": {},
     "output_type": "display_data"
    },
    {
     "data": {
      "application/vnd.jupyter.widget-view+json": {
       "model_id": "",
       "version_major": 2,
       "version_minor": 0
      },
      "text/plain": [
       "HBox(children=(HTML(value=''), FloatProgress(value=0.0, max=12.0), HTML(value='')))"
      ]
     },
     "metadata": {},
     "output_type": "display_data"
    },
    {
     "name": "stdout",
     "output_type": "stream",
     "text": [
      "Training Results - Epoch[161/1000] Loss : 3.7211055925251078\n"
     ]
    },
    {
     "data": {
      "application/vnd.jupyter.widget-view+json": {
       "model_id": "",
       "version_major": 2,
       "version_minor": 0
      },
      "text/plain": [
       "HBox(children=(HTML(value=''), FloatProgress(value=0.0, max=13.0), HTML(value='')))"
      ]
     },
     "metadata": {},
     "output_type": "display_data"
    },
    {
     "data": {
      "application/vnd.jupyter.widget-view+json": {
       "model_id": "",
       "version_major": 2,
       "version_minor": 0
      },
      "text/plain": [
       "HBox(children=(HTML(value=''), FloatProgress(value=0.0, max=12.0), HTML(value='')))"
      ]
     },
     "metadata": {},
     "output_type": "display_data"
    },
    {
     "name": "stdout",
     "output_type": "stream",
     "text": [
      "Training Results - Epoch[162/1000] Loss : 3.3768379237633397\n"
     ]
    },
    {
     "data": {
      "application/vnd.jupyter.widget-view+json": {
       "model_id": "",
       "version_major": 2,
       "version_minor": 0
      },
      "text/plain": [
       "HBox(children=(HTML(value=''), FloatProgress(value=0.0, max=13.0), HTML(value='')))"
      ]
     },
     "metadata": {},
     "output_type": "display_data"
    },
    {
     "data": {
      "application/vnd.jupyter.widget-view+json": {
       "model_id": "",
       "version_major": 2,
       "version_minor": 0
      },
      "text/plain": [
       "HBox(children=(HTML(value=''), FloatProgress(value=0.0, max=12.0), HTML(value='')))"
      ]
     },
     "metadata": {},
     "output_type": "display_data"
    },
    {
     "name": "stdout",
     "output_type": "stream",
     "text": [
      "Training Results - Epoch[163/1000] Loss : 2.7718465970311\n"
     ]
    },
    {
     "data": {
      "application/vnd.jupyter.widget-view+json": {
       "model_id": "",
       "version_major": 2,
       "version_minor": 0
      },
      "text/plain": [
       "HBox(children=(HTML(value=''), FloatProgress(value=0.0, max=13.0), HTML(value='')))"
      ]
     },
     "metadata": {},
     "output_type": "display_data"
    },
    {
     "data": {
      "application/vnd.jupyter.widget-view+json": {
       "model_id": "",
       "version_major": 2,
       "version_minor": 0
      },
      "text/plain": [
       "HBox(children=(HTML(value=''), FloatProgress(value=0.0, max=12.0), HTML(value='')))"
      ]
     },
     "metadata": {},
     "output_type": "display_data"
    },
    {
     "name": "stdout",
     "output_type": "stream",
     "text": [
      "Training Results - Epoch[164/1000] Loss : 2.9468731562775665\n"
     ]
    },
    {
     "data": {
      "application/vnd.jupyter.widget-view+json": {
       "model_id": "",
       "version_major": 2,
       "version_minor": 0
      },
      "text/plain": [
       "HBox(children=(HTML(value=''), FloatProgress(value=0.0, max=13.0), HTML(value='')))"
      ]
     },
     "metadata": {},
     "output_type": "display_data"
    },
    {
     "data": {
      "application/vnd.jupyter.widget-view+json": {
       "model_id": "",
       "version_major": 2,
       "version_minor": 0
      },
      "text/plain": [
       "HBox(children=(HTML(value=''), FloatProgress(value=0.0, max=12.0), HTML(value='')))"
      ]
     },
     "metadata": {},
     "output_type": "display_data"
    },
    {
     "name": "stdout",
     "output_type": "stream",
     "text": [
      "Training Results - Epoch[165/1000] Loss : 2.8358137836731663\n"
     ]
    },
    {
     "data": {
      "application/vnd.jupyter.widget-view+json": {
       "model_id": "",
       "version_major": 2,
       "version_minor": 0
      },
      "text/plain": [
       "HBox(children=(HTML(value=''), FloatProgress(value=0.0, max=13.0), HTML(value='')))"
      ]
     },
     "metadata": {},
     "output_type": "display_data"
    },
    {
     "data": {
      "application/vnd.jupyter.widget-view+json": {
       "model_id": "",
       "version_major": 2,
       "version_minor": 0
      },
      "text/plain": [
       "HBox(children=(HTML(value=''), FloatProgress(value=0.0, max=12.0), HTML(value='')))"
      ]
     },
     "metadata": {},
     "output_type": "display_data"
    },
    {
     "name": "stdout",
     "output_type": "stream",
     "text": [
      "Training Results - Epoch[166/1000] Loss : 3.206292527076834\n"
     ]
    },
    {
     "data": {
      "application/vnd.jupyter.widget-view+json": {
       "model_id": "",
       "version_major": 2,
       "version_minor": 0
      },
      "text/plain": [
       "HBox(children=(HTML(value=''), FloatProgress(value=0.0, max=13.0), HTML(value='')))"
      ]
     },
     "metadata": {},
     "output_type": "display_data"
    },
    {
     "data": {
      "application/vnd.jupyter.widget-view+json": {
       "model_id": "",
       "version_major": 2,
       "version_minor": 0
      },
      "text/plain": [
       "HBox(children=(HTML(value=''), FloatProgress(value=0.0, max=12.0), HTML(value='')))"
      ]
     },
     "metadata": {},
     "output_type": "display_data"
    },
    {
     "name": "stdout",
     "output_type": "stream",
     "text": [
      "Training Results - Epoch[167/1000] Loss : 3.5891310204243947\n"
     ]
    },
    {
     "data": {
      "application/vnd.jupyter.widget-view+json": {
       "model_id": "",
       "version_major": 2,
       "version_minor": 0
      },
      "text/plain": [
       "HBox(children=(HTML(value=''), FloatProgress(value=0.0, max=13.0), HTML(value='')))"
      ]
     },
     "metadata": {},
     "output_type": "display_data"
    },
    {
     "data": {
      "application/vnd.jupyter.widget-view+json": {
       "model_id": "",
       "version_major": 2,
       "version_minor": 0
      },
      "text/plain": [
       "HBox(children=(HTML(value=''), FloatProgress(value=0.0, max=12.0), HTML(value='')))"
      ]
     },
     "metadata": {},
     "output_type": "display_data"
    },
    {
     "name": "stdout",
     "output_type": "stream",
     "text": [
      "Training Results - Epoch[168/1000] Loss : 2.6841859565195207\n"
     ]
    },
    {
     "data": {
      "application/vnd.jupyter.widget-view+json": {
       "model_id": "",
       "version_major": 2,
       "version_minor": 0
      },
      "text/plain": [
       "HBox(children=(HTML(value=''), FloatProgress(value=0.0, max=13.0), HTML(value='')))"
      ]
     },
     "metadata": {},
     "output_type": "display_data"
    },
    {
     "data": {
      "application/vnd.jupyter.widget-view+json": {
       "model_id": "",
       "version_major": 2,
       "version_minor": 0
      },
      "text/plain": [
       "HBox(children=(HTML(value=''), FloatProgress(value=0.0, max=12.0), HTML(value='')))"
      ]
     },
     "metadata": {},
     "output_type": "display_data"
    },
    {
     "name": "stdout",
     "output_type": "stream",
     "text": [
      "Training Results - Epoch[169/1000] Loss : 5.350592539567346\n"
     ]
    },
    {
     "data": {
      "application/vnd.jupyter.widget-view+json": {
       "model_id": "",
       "version_major": 2,
       "version_minor": 0
      },
      "text/plain": [
       "HBox(children=(HTML(value=''), FloatProgress(value=0.0, max=13.0), HTML(value='')))"
      ]
     },
     "metadata": {},
     "output_type": "display_data"
    },
    {
     "data": {
      "application/vnd.jupyter.widget-view+json": {
       "model_id": "",
       "version_major": 2,
       "version_minor": 0
      },
      "text/plain": [
       "HBox(children=(HTML(value=''), FloatProgress(value=0.0, max=12.0), HTML(value='')))"
      ]
     },
     "metadata": {},
     "output_type": "display_data"
    },
    {
     "name": "stdout",
     "output_type": "stream",
     "text": [
      "Training Results - Epoch[170/1000] Loss : 2.471484770087734\n"
     ]
    },
    {
     "data": {
      "application/vnd.jupyter.widget-view+json": {
       "model_id": "",
       "version_major": 2,
       "version_minor": 0
      },
      "text/plain": [
       "HBox(children=(HTML(value=''), FloatProgress(value=0.0, max=13.0), HTML(value='')))"
      ]
     },
     "metadata": {},
     "output_type": "display_data"
    },
    {
     "data": {
      "application/vnd.jupyter.widget-view+json": {
       "model_id": "",
       "version_major": 2,
       "version_minor": 0
      },
      "text/plain": [
       "HBox(children=(HTML(value=''), FloatProgress(value=0.0, max=12.0), HTML(value='')))"
      ]
     },
     "metadata": {},
     "output_type": "display_data"
    },
    {
     "name": "stdout",
     "output_type": "stream",
     "text": [
      "Training Results - Epoch[171/1000] Loss : 2.583618419259885\n"
     ]
    },
    {
     "data": {
      "application/vnd.jupyter.widget-view+json": {
       "model_id": "",
       "version_major": 2,
       "version_minor": 0
      },
      "text/plain": [
       "HBox(children=(HTML(value=''), FloatProgress(value=0.0, max=13.0), HTML(value='')))"
      ]
     },
     "metadata": {},
     "output_type": "display_data"
    },
    {
     "data": {
      "application/vnd.jupyter.widget-view+json": {
       "model_id": "",
       "version_major": 2,
       "version_minor": 0
      },
      "text/plain": [
       "HBox(children=(HTML(value=''), FloatProgress(value=0.0, max=12.0), HTML(value='')))"
      ]
     },
     "metadata": {},
     "output_type": "display_data"
    },
    {
     "name": "stdout",
     "output_type": "stream",
     "text": [
      "Training Results - Epoch[172/1000] Loss : 4.776999915042811\n"
     ]
    },
    {
     "data": {
      "application/vnd.jupyter.widget-view+json": {
       "model_id": "",
       "version_major": 2,
       "version_minor": 0
      },
      "text/plain": [
       "HBox(children=(HTML(value=''), FloatProgress(value=0.0, max=13.0), HTML(value='')))"
      ]
     },
     "metadata": {},
     "output_type": "display_data"
    },
    {
     "data": {
      "application/vnd.jupyter.widget-view+json": {
       "model_id": "",
       "version_major": 2,
       "version_minor": 0
      },
      "text/plain": [
       "HBox(children=(HTML(value=''), FloatProgress(value=0.0, max=12.0), HTML(value='')))"
      ]
     },
     "metadata": {},
     "output_type": "display_data"
    },
    {
     "name": "stdout",
     "output_type": "stream",
     "text": [
      "Training Results - Epoch[173/1000] Loss : 2.695040462540707\n"
     ]
    },
    {
     "data": {
      "application/vnd.jupyter.widget-view+json": {
       "model_id": "",
       "version_major": 2,
       "version_minor": 0
      },
      "text/plain": [
       "HBox(children=(HTML(value=''), FloatProgress(value=0.0, max=13.0), HTML(value='')))"
      ]
     },
     "metadata": {},
     "output_type": "display_data"
    },
    {
     "data": {
      "application/vnd.jupyter.widget-view+json": {
       "model_id": "",
       "version_major": 2,
       "version_minor": 0
      },
      "text/plain": [
       "HBox(children=(HTML(value=''), FloatProgress(value=0.0, max=12.0), HTML(value='')))"
      ]
     },
     "metadata": {},
     "output_type": "display_data"
    },
    {
     "name": "stdout",
     "output_type": "stream",
     "text": [
      "Training Results - Epoch[174/1000] Loss : 4.271348719549734\n"
     ]
    },
    {
     "data": {
      "application/vnd.jupyter.widget-view+json": {
       "model_id": "",
       "version_major": 2,
       "version_minor": 0
      },
      "text/plain": [
       "HBox(children=(HTML(value=''), FloatProgress(value=0.0, max=13.0), HTML(value='')))"
      ]
     },
     "metadata": {},
     "output_type": "display_data"
    },
    {
     "data": {
      "application/vnd.jupyter.widget-view+json": {
       "model_id": "",
       "version_major": 2,
       "version_minor": 0
      },
      "text/plain": [
       "HBox(children=(HTML(value=''), FloatProgress(value=0.0, max=12.0), HTML(value='')))"
      ]
     },
     "metadata": {},
     "output_type": "display_data"
    },
    {
     "name": "stdout",
     "output_type": "stream",
     "text": [
      "Training Results - Epoch[175/1000] Loss : 3.1790145276204615\n"
     ]
    },
    {
     "data": {
      "application/vnd.jupyter.widget-view+json": {
       "model_id": "",
       "version_major": 2,
       "version_minor": 0
      },
      "text/plain": [
       "HBox(children=(HTML(value=''), FloatProgress(value=0.0, max=13.0), HTML(value='')))"
      ]
     },
     "metadata": {},
     "output_type": "display_data"
    },
    {
     "data": {
      "application/vnd.jupyter.widget-view+json": {
       "model_id": "",
       "version_major": 2,
       "version_minor": 0
      },
      "text/plain": [
       "HBox(children=(HTML(value=''), FloatProgress(value=0.0, max=12.0), HTML(value='')))"
      ]
     },
     "metadata": {},
     "output_type": "display_data"
    },
    {
     "name": "stdout",
     "output_type": "stream",
     "text": [
      "Training Results - Epoch[176/1000] Loss : 3.3511782306528675\n"
     ]
    },
    {
     "data": {
      "application/vnd.jupyter.widget-view+json": {
       "model_id": "",
       "version_major": 2,
       "version_minor": 0
      },
      "text/plain": [
       "HBox(children=(HTML(value=''), FloatProgress(value=0.0, max=13.0), HTML(value='')))"
      ]
     },
     "metadata": {},
     "output_type": "display_data"
    },
    {
     "data": {
      "application/vnd.jupyter.widget-view+json": {
       "model_id": "",
       "version_major": 2,
       "version_minor": 0
      },
      "text/plain": [
       "HBox(children=(HTML(value=''), FloatProgress(value=0.0, max=12.0), HTML(value='')))"
      ]
     },
     "metadata": {},
     "output_type": "display_data"
    },
    {
     "name": "stdout",
     "output_type": "stream",
     "text": [
      "Training Results - Epoch[177/1000] Loss : 2.5271533228850234\n"
     ]
    },
    {
     "data": {
      "application/vnd.jupyter.widget-view+json": {
       "model_id": "",
       "version_major": 2,
       "version_minor": 0
      },
      "text/plain": [
       "HBox(children=(HTML(value=''), FloatProgress(value=0.0, max=13.0), HTML(value='')))"
      ]
     },
     "metadata": {},
     "output_type": "display_data"
    },
    {
     "data": {
      "application/vnd.jupyter.widget-view+json": {
       "model_id": "",
       "version_major": 2,
       "version_minor": 0
      },
      "text/plain": [
       "HBox(children=(HTML(value=''), FloatProgress(value=0.0, max=12.0), HTML(value='')))"
      ]
     },
     "metadata": {},
     "output_type": "display_data"
    },
    {
     "name": "stdout",
     "output_type": "stream",
     "text": [
      "Training Results - Epoch[178/1000] Loss : 3.515359234229146\n"
     ]
    },
    {
     "data": {
      "application/vnd.jupyter.widget-view+json": {
       "model_id": "",
       "version_major": 2,
       "version_minor": 0
      },
      "text/plain": [
       "HBox(children=(HTML(value=''), FloatProgress(value=0.0, max=13.0), HTML(value='')))"
      ]
     },
     "metadata": {},
     "output_type": "display_data"
    },
    {
     "data": {
      "application/vnd.jupyter.widget-view+json": {
       "model_id": "",
       "version_major": 2,
       "version_minor": 0
      },
      "text/plain": [
       "HBox(children=(HTML(value=''), FloatProgress(value=0.0, max=12.0), HTML(value='')))"
      ]
     },
     "metadata": {},
     "output_type": "display_data"
    },
    {
     "name": "stdout",
     "output_type": "stream",
     "text": [
      "Training Results - Epoch[179/1000] Loss : 2.5759750215626354\n"
     ]
    },
    {
     "data": {
      "application/vnd.jupyter.widget-view+json": {
       "model_id": "",
       "version_major": 2,
       "version_minor": 0
      },
      "text/plain": [
       "HBox(children=(HTML(value=''), FloatProgress(value=0.0, max=13.0), HTML(value='')))"
      ]
     },
     "metadata": {},
     "output_type": "display_data"
    },
    {
     "data": {
      "application/vnd.jupyter.widget-view+json": {
       "model_id": "",
       "version_major": 2,
       "version_minor": 0
      },
      "text/plain": [
       "HBox(children=(HTML(value=''), FloatProgress(value=0.0, max=12.0), HTML(value='')))"
      ]
     },
     "metadata": {},
     "output_type": "display_data"
    },
    {
     "name": "stdout",
     "output_type": "stream",
     "text": [
      "Training Results - Epoch[180/1000] Loss : 1.7981001639099505\n"
     ]
    },
    {
     "data": {
      "application/vnd.jupyter.widget-view+json": {
       "model_id": "",
       "version_major": 2,
       "version_minor": 0
      },
      "text/plain": [
       "HBox(children=(HTML(value=''), FloatProgress(value=0.0, max=13.0), HTML(value='')))"
      ]
     },
     "metadata": {},
     "output_type": "display_data"
    },
    {
     "data": {
      "application/vnd.jupyter.widget-view+json": {
       "model_id": "",
       "version_major": 2,
       "version_minor": 0
      },
      "text/plain": [
       "HBox(children=(HTML(value=''), FloatProgress(value=0.0, max=12.0), HTML(value='')))"
      ]
     },
     "metadata": {},
     "output_type": "display_data"
    },
    {
     "name": "stdout",
     "output_type": "stream",
     "text": [
      "Training Results - Epoch[181/1000] Loss : 1.8525361743699562\n"
     ]
    },
    {
     "data": {
      "application/vnd.jupyter.widget-view+json": {
       "model_id": "",
       "version_major": 2,
       "version_minor": 0
      },
      "text/plain": [
       "HBox(children=(HTML(value=''), FloatProgress(value=0.0, max=13.0), HTML(value='')))"
      ]
     },
     "metadata": {},
     "output_type": "display_data"
    },
    {
     "data": {
      "application/vnd.jupyter.widget-view+json": {
       "model_id": "",
       "version_major": 2,
       "version_minor": 0
      },
      "text/plain": [
       "HBox(children=(HTML(value=''), FloatProgress(value=0.0, max=12.0), HTML(value='')))"
      ]
     },
     "metadata": {},
     "output_type": "display_data"
    },
    {
     "name": "stdout",
     "output_type": "stream",
     "text": [
      "Training Results - Epoch[182/1000] Loss : 2.4073963626191652\n"
     ]
    },
    {
     "data": {
      "application/vnd.jupyter.widget-view+json": {
       "model_id": "",
       "version_major": 2,
       "version_minor": 0
      },
      "text/plain": [
       "HBox(children=(HTML(value=''), FloatProgress(value=0.0, max=13.0), HTML(value='')))"
      ]
     },
     "metadata": {},
     "output_type": "display_data"
    },
    {
     "data": {
      "application/vnd.jupyter.widget-view+json": {
       "model_id": "",
       "version_major": 2,
       "version_minor": 0
      },
      "text/plain": [
       "HBox(children=(HTML(value=''), FloatProgress(value=0.0, max=12.0), HTML(value='')))"
      ]
     },
     "metadata": {},
     "output_type": "display_data"
    },
    {
     "name": "stdout",
     "output_type": "stream",
     "text": [
      "Training Results - Epoch[183/1000] Loss : 3.2690947710717624\n"
     ]
    },
    {
     "data": {
      "application/vnd.jupyter.widget-view+json": {
       "model_id": "",
       "version_major": 2,
       "version_minor": 0
      },
      "text/plain": [
       "HBox(children=(HTML(value=''), FloatProgress(value=0.0, max=13.0), HTML(value='')))"
      ]
     },
     "metadata": {},
     "output_type": "display_data"
    },
    {
     "data": {
      "application/vnd.jupyter.widget-view+json": {
       "model_id": "",
       "version_major": 2,
       "version_minor": 0
      },
      "text/plain": [
       "HBox(children=(HTML(value=''), FloatProgress(value=0.0, max=12.0), HTML(value='')))"
      ]
     },
     "metadata": {},
     "output_type": "display_data"
    },
    {
     "name": "stdout",
     "output_type": "stream",
     "text": [
      "Training Results - Epoch[184/1000] Loss : 2.7509041477847846\n"
     ]
    },
    {
     "data": {
      "application/vnd.jupyter.widget-view+json": {
       "model_id": "",
       "version_major": 2,
       "version_minor": 0
      },
      "text/plain": [
       "HBox(children=(HTML(value=''), FloatProgress(value=0.0, max=13.0), HTML(value='')))"
      ]
     },
     "metadata": {},
     "output_type": "display_data"
    },
    {
     "data": {
      "application/vnd.jupyter.widget-view+json": {
       "model_id": "",
       "version_major": 2,
       "version_minor": 0
      },
      "text/plain": [
       "HBox(children=(HTML(value=''), FloatProgress(value=0.0, max=12.0), HTML(value='')))"
      ]
     },
     "metadata": {},
     "output_type": "display_data"
    },
    {
     "name": "stdout",
     "output_type": "stream",
     "text": [
      "Training Results - Epoch[185/1000] Loss : 2.9729225486050295\n"
     ]
    },
    {
     "data": {
      "application/vnd.jupyter.widget-view+json": {
       "model_id": "",
       "version_major": 2,
       "version_minor": 0
      },
      "text/plain": [
       "HBox(children=(HTML(value=''), FloatProgress(value=0.0, max=13.0), HTML(value='')))"
      ]
     },
     "metadata": {},
     "output_type": "display_data"
    },
    {
     "data": {
      "application/vnd.jupyter.widget-view+json": {
       "model_id": "",
       "version_major": 2,
       "version_minor": 0
      },
      "text/plain": [
       "HBox(children=(HTML(value=''), FloatProgress(value=0.0, max=12.0), HTML(value='')))"
      ]
     },
     "metadata": {},
     "output_type": "display_data"
    },
    {
     "name": "stdout",
     "output_type": "stream",
     "text": [
      "Training Results - Epoch[186/1000] Loss : 3.172013852932983\n"
     ]
    },
    {
     "data": {
      "application/vnd.jupyter.widget-view+json": {
       "model_id": "",
       "version_major": 2,
       "version_minor": 0
      },
      "text/plain": [
       "HBox(children=(HTML(value=''), FloatProgress(value=0.0, max=13.0), HTML(value='')))"
      ]
     },
     "metadata": {},
     "output_type": "display_data"
    },
    {
     "data": {
      "application/vnd.jupyter.widget-view+json": {
       "model_id": "",
       "version_major": 2,
       "version_minor": 0
      },
      "text/plain": [
       "HBox(children=(HTML(value=''), FloatProgress(value=0.0, max=12.0), HTML(value='')))"
      ]
     },
     "metadata": {},
     "output_type": "display_data"
    },
    {
     "name": "stdout",
     "output_type": "stream",
     "text": [
      "Training Results - Epoch[187/1000] Loss : 2.103237296687693\n"
     ]
    },
    {
     "data": {
      "application/vnd.jupyter.widget-view+json": {
       "model_id": "",
       "version_major": 2,
       "version_minor": 0
      },
      "text/plain": [
       "HBox(children=(HTML(value=''), FloatProgress(value=0.0, max=13.0), HTML(value='')))"
      ]
     },
     "metadata": {},
     "output_type": "display_data"
    },
    {
     "data": {
      "application/vnd.jupyter.widget-view+json": {
       "model_id": "",
       "version_major": 2,
       "version_minor": 0
      },
      "text/plain": [
       "HBox(children=(HTML(value=''), FloatProgress(value=0.0, max=12.0), HTML(value='')))"
      ]
     },
     "metadata": {},
     "output_type": "display_data"
    },
    {
     "name": "stdout",
     "output_type": "stream",
     "text": [
      "Training Results - Epoch[188/1000] Loss : 3.1877488336893163\n"
     ]
    },
    {
     "data": {
      "application/vnd.jupyter.widget-view+json": {
       "model_id": "",
       "version_major": 2,
       "version_minor": 0
      },
      "text/plain": [
       "HBox(children=(HTML(value=''), FloatProgress(value=0.0, max=13.0), HTML(value='')))"
      ]
     },
     "metadata": {},
     "output_type": "display_data"
    },
    {
     "data": {
      "application/vnd.jupyter.widget-view+json": {
       "model_id": "",
       "version_major": 2,
       "version_minor": 0
      },
      "text/plain": [
       "HBox(children=(HTML(value=''), FloatProgress(value=0.0, max=12.0), HTML(value='')))"
      ]
     },
     "metadata": {},
     "output_type": "display_data"
    },
    {
     "name": "stdout",
     "output_type": "stream",
     "text": [
      "Training Results - Epoch[189/1000] Loss : 3.5482148479545677\n"
     ]
    },
    {
     "data": {
      "application/vnd.jupyter.widget-view+json": {
       "model_id": "",
       "version_major": 2,
       "version_minor": 0
      },
      "text/plain": [
       "HBox(children=(HTML(value=''), FloatProgress(value=0.0, max=13.0), HTML(value='')))"
      ]
     },
     "metadata": {},
     "output_type": "display_data"
    },
    {
     "data": {
      "application/vnd.jupyter.widget-view+json": {
       "model_id": "",
       "version_major": 2,
       "version_minor": 0
      },
      "text/plain": [
       "HBox(children=(HTML(value=''), FloatProgress(value=0.0, max=12.0), HTML(value='')))"
      ]
     },
     "metadata": {},
     "output_type": "display_data"
    },
    {
     "name": "stdout",
     "output_type": "stream",
     "text": [
      "Training Results - Epoch[190/1000] Loss : 3.428541417083515\n"
     ]
    },
    {
     "data": {
      "application/vnd.jupyter.widget-view+json": {
       "model_id": "",
       "version_major": 2,
       "version_minor": 0
      },
      "text/plain": [
       "HBox(children=(HTML(value=''), FloatProgress(value=0.0, max=13.0), HTML(value='')))"
      ]
     },
     "metadata": {},
     "output_type": "display_data"
    },
    {
     "data": {
      "application/vnd.jupyter.widget-view+json": {
       "model_id": "",
       "version_major": 2,
       "version_minor": 0
      },
      "text/plain": [
       "HBox(children=(HTML(value=''), FloatProgress(value=0.0, max=12.0), HTML(value='')))"
      ]
     },
     "metadata": {},
     "output_type": "display_data"
    },
    {
     "name": "stdout",
     "output_type": "stream",
     "text": [
      "Training Results - Epoch[191/1000] Loss : 3.2926850520113535\n"
     ]
    },
    {
     "data": {
      "application/vnd.jupyter.widget-view+json": {
       "model_id": "",
       "version_major": 2,
       "version_minor": 0
      },
      "text/plain": [
       "HBox(children=(HTML(value=''), FloatProgress(value=0.0, max=13.0), HTML(value='')))"
      ]
     },
     "metadata": {},
     "output_type": "display_data"
    },
    {
     "data": {
      "application/vnd.jupyter.widget-view+json": {
       "model_id": "",
       "version_major": 2,
       "version_minor": 0
      },
      "text/plain": [
       "HBox(children=(HTML(value=''), FloatProgress(value=0.0, max=12.0), HTML(value='')))"
      ]
     },
     "metadata": {},
     "output_type": "display_data"
    },
    {
     "name": "stdout",
     "output_type": "stream",
     "text": [
      "Training Results - Epoch[192/1000] Loss : 3.9995387103437534\n"
     ]
    },
    {
     "data": {
      "application/vnd.jupyter.widget-view+json": {
       "model_id": "",
       "version_major": 2,
       "version_minor": 0
      },
      "text/plain": [
       "HBox(children=(HTML(value=''), FloatProgress(value=0.0, max=13.0), HTML(value='')))"
      ]
     },
     "metadata": {},
     "output_type": "display_data"
    },
    {
     "data": {
      "application/vnd.jupyter.widget-view+json": {
       "model_id": "",
       "version_major": 2,
       "version_minor": 0
      },
      "text/plain": [
       "HBox(children=(HTML(value=''), FloatProgress(value=0.0, max=12.0), HTML(value='')))"
      ]
     },
     "metadata": {},
     "output_type": "display_data"
    },
    {
     "name": "stdout",
     "output_type": "stream",
     "text": [
      "Training Results - Epoch[193/1000] Loss : 3.094947875683204\n"
     ]
    },
    {
     "data": {
      "application/vnd.jupyter.widget-view+json": {
       "model_id": "",
       "version_major": 2,
       "version_minor": 0
      },
      "text/plain": [
       "HBox(children=(HTML(value=''), FloatProgress(value=0.0, max=13.0), HTML(value='')))"
      ]
     },
     "metadata": {},
     "output_type": "display_data"
    },
    {
     "data": {
      "application/vnd.jupyter.widget-view+json": {
       "model_id": "",
       "version_major": 2,
       "version_minor": 0
      },
      "text/plain": [
       "HBox(children=(HTML(value=''), FloatProgress(value=0.0, max=12.0), HTML(value='')))"
      ]
     },
     "metadata": {},
     "output_type": "display_data"
    },
    {
     "name": "stdout",
     "output_type": "stream",
     "text": [
      "Training Results - Epoch[194/1000] Loss : 3.3766037304485303\n"
     ]
    },
    {
     "data": {
      "application/vnd.jupyter.widget-view+json": {
       "model_id": "",
       "version_major": 2,
       "version_minor": 0
      },
      "text/plain": [
       "HBox(children=(HTML(value=''), FloatProgress(value=0.0, max=13.0), HTML(value='')))"
      ]
     },
     "metadata": {},
     "output_type": "display_data"
    },
    {
     "data": {
      "application/vnd.jupyter.widget-view+json": {
       "model_id": "",
       "version_major": 2,
       "version_minor": 0
      },
      "text/plain": [
       "HBox(children=(HTML(value=''), FloatProgress(value=0.0, max=12.0), HTML(value='')))"
      ]
     },
     "metadata": {},
     "output_type": "display_data"
    },
    {
     "name": "stdout",
     "output_type": "stream",
     "text": [
      "Training Results - Epoch[195/1000] Loss : 3.158524586358693\n"
     ]
    },
    {
     "data": {
      "application/vnd.jupyter.widget-view+json": {
       "model_id": "",
       "version_major": 2,
       "version_minor": 0
      },
      "text/plain": [
       "HBox(children=(HTML(value=''), FloatProgress(value=0.0, max=13.0), HTML(value='')))"
      ]
     },
     "metadata": {},
     "output_type": "display_data"
    },
    {
     "data": {
      "application/vnd.jupyter.widget-view+json": {
       "model_id": "",
       "version_major": 2,
       "version_minor": 0
      },
      "text/plain": [
       "HBox(children=(HTML(value=''), FloatProgress(value=0.0, max=12.0), HTML(value='')))"
      ]
     },
     "metadata": {},
     "output_type": "display_data"
    },
    {
     "name": "stdout",
     "output_type": "stream",
     "text": [
      "Training Results - Epoch[196/1000] Loss : 2.426663663523149\n"
     ]
    },
    {
     "data": {
      "application/vnd.jupyter.widget-view+json": {
       "model_id": "",
       "version_major": 2,
       "version_minor": 0
      },
      "text/plain": [
       "HBox(children=(HTML(value=''), FloatProgress(value=0.0, max=13.0), HTML(value='')))"
      ]
     },
     "metadata": {},
     "output_type": "display_data"
    },
    {
     "data": {
      "application/vnd.jupyter.widget-view+json": {
       "model_id": "",
       "version_major": 2,
       "version_minor": 0
      },
      "text/plain": [
       "HBox(children=(HTML(value=''), FloatProgress(value=0.0, max=12.0), HTML(value='')))"
      ]
     },
     "metadata": {},
     "output_type": "display_data"
    },
    {
     "name": "stdout",
     "output_type": "stream",
     "text": [
      "Training Results - Epoch[197/1000] Loss : 2.8153031363436583\n"
     ]
    },
    {
     "data": {
      "application/vnd.jupyter.widget-view+json": {
       "model_id": "",
       "version_major": 2,
       "version_minor": 0
      },
      "text/plain": [
       "HBox(children=(HTML(value=''), FloatProgress(value=0.0, max=13.0), HTML(value='')))"
      ]
     },
     "metadata": {},
     "output_type": "display_data"
    },
    {
     "data": {
      "application/vnd.jupyter.widget-view+json": {
       "model_id": "",
       "version_major": 2,
       "version_minor": 0
      },
      "text/plain": [
       "HBox(children=(HTML(value=''), FloatProgress(value=0.0, max=12.0), HTML(value='')))"
      ]
     },
     "metadata": {},
     "output_type": "display_data"
    },
    {
     "name": "stdout",
     "output_type": "stream",
     "text": [
      "Training Results - Epoch[198/1000] Loss : 3.0531232769482233\n"
     ]
    },
    {
     "data": {
      "application/vnd.jupyter.widget-view+json": {
       "model_id": "",
       "version_major": 2,
       "version_minor": 0
      },
      "text/plain": [
       "HBox(children=(HTML(value=''), FloatProgress(value=0.0, max=13.0), HTML(value='')))"
      ]
     },
     "metadata": {},
     "output_type": "display_data"
    },
    {
     "data": {
      "application/vnd.jupyter.widget-view+json": {
       "model_id": "",
       "version_major": 2,
       "version_minor": 0
      },
      "text/plain": [
       "HBox(children=(HTML(value=''), FloatProgress(value=0.0, max=12.0), HTML(value='')))"
      ]
     },
     "metadata": {},
     "output_type": "display_data"
    },
    {
     "name": "stdout",
     "output_type": "stream",
     "text": [
      "Training Results - Epoch[199/1000] Loss : 2.9693750592802037\n"
     ]
    },
    {
     "data": {
      "application/vnd.jupyter.widget-view+json": {
       "model_id": "",
       "version_major": 2,
       "version_minor": 0
      },
      "text/plain": [
       "HBox(children=(HTML(value=''), FloatProgress(value=0.0, max=13.0), HTML(value='')))"
      ]
     },
     "metadata": {},
     "output_type": "display_data"
    },
    {
     "data": {
      "application/vnd.jupyter.widget-view+json": {
       "model_id": "",
       "version_major": 2,
       "version_minor": 0
      },
      "text/plain": [
       "HBox(children=(HTML(value=''), FloatProgress(value=0.0, max=12.0), HTML(value='')))"
      ]
     },
     "metadata": {},
     "output_type": "display_data"
    },
    {
     "name": "stdout",
     "output_type": "stream",
     "text": [
      "Training Results - Epoch[200/1000] Loss : 2.612624681638463\n"
     ]
    },
    {
     "data": {
      "application/vnd.jupyter.widget-view+json": {
       "model_id": "",
       "version_major": 2,
       "version_minor": 0
      },
      "text/plain": [
       "HBox(children=(HTML(value=''), FloatProgress(value=0.0, max=13.0), HTML(value='')))"
      ]
     },
     "metadata": {},
     "output_type": "display_data"
    },
    {
     "data": {
      "application/vnd.jupyter.widget-view+json": {
       "model_id": "",
       "version_major": 2,
       "version_minor": 0
      },
      "text/plain": [
       "HBox(children=(HTML(value=''), FloatProgress(value=0.0, max=12.0), HTML(value='')))"
      ]
     },
     "metadata": {},
     "output_type": "display_data"
    },
    {
     "name": "stdout",
     "output_type": "stream",
     "text": [
      "Training Results - Epoch[201/1000] Loss : 2.9740082593047066\n"
     ]
    },
    {
     "data": {
      "application/vnd.jupyter.widget-view+json": {
       "model_id": "",
       "version_major": 2,
       "version_minor": 0
      },
      "text/plain": [
       "HBox(children=(HTML(value=''), FloatProgress(value=0.0, max=13.0), HTML(value='')))"
      ]
     },
     "metadata": {},
     "output_type": "display_data"
    },
    {
     "data": {
      "application/vnd.jupyter.widget-view+json": {
       "model_id": "",
       "version_major": 2,
       "version_minor": 0
      },
      "text/plain": [
       "HBox(children=(HTML(value=''), FloatProgress(value=0.0, max=12.0), HTML(value='')))"
      ]
     },
     "metadata": {},
     "output_type": "display_data"
    },
    {
     "name": "stdout",
     "output_type": "stream",
     "text": [
      "Training Results - Epoch[202/1000] Loss : 2.5695261563925014\n"
     ]
    },
    {
     "data": {
      "application/vnd.jupyter.widget-view+json": {
       "model_id": "",
       "version_major": 2,
       "version_minor": 0
      },
      "text/plain": [
       "HBox(children=(HTML(value=''), FloatProgress(value=0.0, max=13.0), HTML(value='')))"
      ]
     },
     "metadata": {},
     "output_type": "display_data"
    },
    {
     "data": {
      "application/vnd.jupyter.widget-view+json": {
       "model_id": "",
       "version_major": 2,
       "version_minor": 0
      },
      "text/plain": [
       "HBox(children=(HTML(value=''), FloatProgress(value=0.0, max=12.0), HTML(value='')))"
      ]
     },
     "metadata": {},
     "output_type": "display_data"
    },
    {
     "name": "stdout",
     "output_type": "stream",
     "text": [
      "Training Results - Epoch[203/1000] Loss : 2.445292326958114\n"
     ]
    },
    {
     "data": {
      "application/vnd.jupyter.widget-view+json": {
       "model_id": "",
       "version_major": 2,
       "version_minor": 0
      },
      "text/plain": [
       "HBox(children=(HTML(value=''), FloatProgress(value=0.0, max=13.0), HTML(value='')))"
      ]
     },
     "metadata": {},
     "output_type": "display_data"
    },
    {
     "data": {
      "application/vnd.jupyter.widget-view+json": {
       "model_id": "",
       "version_major": 2,
       "version_minor": 0
      },
      "text/plain": [
       "HBox(children=(HTML(value=''), FloatProgress(value=0.0, max=12.0), HTML(value='')))"
      ]
     },
     "metadata": {},
     "output_type": "display_data"
    },
    {
     "name": "stdout",
     "output_type": "stream",
     "text": [
      "Training Results - Epoch[204/1000] Loss : 2.6893865747493604\n"
     ]
    },
    {
     "data": {
      "application/vnd.jupyter.widget-view+json": {
       "model_id": "",
       "version_major": 2,
       "version_minor": 0
      },
      "text/plain": [
       "HBox(children=(HTML(value=''), FloatProgress(value=0.0, max=13.0), HTML(value='')))"
      ]
     },
     "metadata": {},
     "output_type": "display_data"
    },
    {
     "data": {
      "application/vnd.jupyter.widget-view+json": {
       "model_id": "",
       "version_major": 2,
       "version_minor": 0
      },
      "text/plain": [
       "HBox(children=(HTML(value=''), FloatProgress(value=0.0, max=12.0), HTML(value='')))"
      ]
     },
     "metadata": {},
     "output_type": "display_data"
    },
    {
     "name": "stdout",
     "output_type": "stream",
     "text": [
      "Training Results - Epoch[205/1000] Loss : 3.062376933735465\n"
     ]
    },
    {
     "data": {
      "application/vnd.jupyter.widget-view+json": {
       "model_id": "",
       "version_major": 2,
       "version_minor": 0
      },
      "text/plain": [
       "HBox(children=(HTML(value=''), FloatProgress(value=0.0, max=13.0), HTML(value='')))"
      ]
     },
     "metadata": {},
     "output_type": "display_data"
    },
    {
     "data": {
      "application/vnd.jupyter.widget-view+json": {
       "model_id": "",
       "version_major": 2,
       "version_minor": 0
      },
      "text/plain": [
       "HBox(children=(HTML(value=''), FloatProgress(value=0.0, max=12.0), HTML(value='')))"
      ]
     },
     "metadata": {},
     "output_type": "display_data"
    },
    {
     "name": "stdout",
     "output_type": "stream",
     "text": [
      "Training Results - Epoch[206/1000] Loss : 3.1434063983140184\n"
     ]
    },
    {
     "data": {
      "application/vnd.jupyter.widget-view+json": {
       "model_id": "",
       "version_major": 2,
       "version_minor": 0
      },
      "text/plain": [
       "HBox(children=(HTML(value=''), FloatProgress(value=0.0, max=13.0), HTML(value='')))"
      ]
     },
     "metadata": {},
     "output_type": "display_data"
    },
    {
     "data": {
      "application/vnd.jupyter.widget-view+json": {
       "model_id": "",
       "version_major": 2,
       "version_minor": 0
      },
      "text/plain": [
       "HBox(children=(HTML(value=''), FloatProgress(value=0.0, max=12.0), HTML(value='')))"
      ]
     },
     "metadata": {},
     "output_type": "display_data"
    },
    {
     "name": "stdout",
     "output_type": "stream",
     "text": [
      "Training Results - Epoch[207/1000] Loss : 2.550354647476388\n"
     ]
    },
    {
     "data": {
      "application/vnd.jupyter.widget-view+json": {
       "model_id": "",
       "version_major": 2,
       "version_minor": 0
      },
      "text/plain": [
       "HBox(children=(HTML(value=''), FloatProgress(value=0.0, max=13.0), HTML(value='')))"
      ]
     },
     "metadata": {},
     "output_type": "display_data"
    },
    {
     "data": {
      "application/vnd.jupyter.widget-view+json": {
       "model_id": "",
       "version_major": 2,
       "version_minor": 0
      },
      "text/plain": [
       "HBox(children=(HTML(value=''), FloatProgress(value=0.0, max=12.0), HTML(value='')))"
      ]
     },
     "metadata": {},
     "output_type": "display_data"
    },
    {
     "name": "stdout",
     "output_type": "stream",
     "text": [
      "Training Results - Epoch[208/1000] Loss : 2.2776848786516433\n"
     ]
    },
    {
     "data": {
      "application/vnd.jupyter.widget-view+json": {
       "model_id": "",
       "version_major": 2,
       "version_minor": 0
      },
      "text/plain": [
       "HBox(children=(HTML(value=''), FloatProgress(value=0.0, max=13.0), HTML(value='')))"
      ]
     },
     "metadata": {},
     "output_type": "display_data"
    },
    {
     "data": {
      "application/vnd.jupyter.widget-view+json": {
       "model_id": "",
       "version_major": 2,
       "version_minor": 0
      },
      "text/plain": [
       "HBox(children=(HTML(value=''), FloatProgress(value=0.0, max=12.0), HTML(value='')))"
      ]
     },
     "metadata": {},
     "output_type": "display_data"
    },
    {
     "name": "stdout",
     "output_type": "stream",
     "text": [
      "Training Results - Epoch[209/1000] Loss : 2.8088065377221456\n"
     ]
    },
    {
     "data": {
      "application/vnd.jupyter.widget-view+json": {
       "model_id": "",
       "version_major": 2,
       "version_minor": 0
      },
      "text/plain": [
       "HBox(children=(HTML(value=''), FloatProgress(value=0.0, max=13.0), HTML(value='')))"
      ]
     },
     "metadata": {},
     "output_type": "display_data"
    },
    {
     "data": {
      "application/vnd.jupyter.widget-view+json": {
       "model_id": "",
       "version_major": 2,
       "version_minor": 0
      },
      "text/plain": [
       "HBox(children=(HTML(value=''), FloatProgress(value=0.0, max=12.0), HTML(value='')))"
      ]
     },
     "metadata": {},
     "output_type": "display_data"
    },
    {
     "name": "stdout",
     "output_type": "stream",
     "text": [
      "Training Results - Epoch[210/1000] Loss : 3.146970292511664\n"
     ]
    },
    {
     "data": {
      "application/vnd.jupyter.widget-view+json": {
       "model_id": "",
       "version_major": 2,
       "version_minor": 0
      },
      "text/plain": [
       "HBox(children=(HTML(value=''), FloatProgress(value=0.0, max=13.0), HTML(value='')))"
      ]
     },
     "metadata": {},
     "output_type": "display_data"
    },
    {
     "data": {
      "application/vnd.jupyter.widget-view+json": {
       "model_id": "",
       "version_major": 2,
       "version_minor": 0
      },
      "text/plain": [
       "HBox(children=(HTML(value=''), FloatProgress(value=0.0, max=12.0), HTML(value='')))"
      ]
     },
     "metadata": {},
     "output_type": "display_data"
    },
    {
     "name": "stdout",
     "output_type": "stream",
     "text": [
      "Training Results - Epoch[211/1000] Loss : 2.8417559123997442\n"
     ]
    },
    {
     "data": {
      "application/vnd.jupyter.widget-view+json": {
       "model_id": "",
       "version_major": 2,
       "version_minor": 0
      },
      "text/plain": [
       "HBox(children=(HTML(value=''), FloatProgress(value=0.0, max=13.0), HTML(value='')))"
      ]
     },
     "metadata": {},
     "output_type": "display_data"
    },
    {
     "data": {
      "application/vnd.jupyter.widget-view+json": {
       "model_id": "",
       "version_major": 2,
       "version_minor": 0
      },
      "text/plain": [
       "HBox(children=(HTML(value=''), FloatProgress(value=0.0, max=12.0), HTML(value='')))"
      ]
     },
     "metadata": {},
     "output_type": "display_data"
    },
    {
     "name": "stdout",
     "output_type": "stream",
     "text": [
      "Training Results - Epoch[212/1000] Loss : 3.021318288509872\n"
     ]
    },
    {
     "data": {
      "application/vnd.jupyter.widget-view+json": {
       "model_id": "",
       "version_major": 2,
       "version_minor": 0
      },
      "text/plain": [
       "HBox(children=(HTML(value=''), FloatProgress(value=0.0, max=13.0), HTML(value='')))"
      ]
     },
     "metadata": {},
     "output_type": "display_data"
    },
    {
     "data": {
      "application/vnd.jupyter.widget-view+json": {
       "model_id": "",
       "version_major": 2,
       "version_minor": 0
      },
      "text/plain": [
       "HBox(children=(HTML(value=''), FloatProgress(value=0.0, max=12.0), HTML(value='')))"
      ]
     },
     "metadata": {},
     "output_type": "display_data"
    },
    {
     "name": "stdout",
     "output_type": "stream",
     "text": [
      "Training Results - Epoch[213/1000] Loss : 2.4632583280181284\n"
     ]
    },
    {
     "data": {
      "application/vnd.jupyter.widget-view+json": {
       "model_id": "",
       "version_major": 2,
       "version_minor": 0
      },
      "text/plain": [
       "HBox(children=(HTML(value=''), FloatProgress(value=0.0, max=13.0), HTML(value='')))"
      ]
     },
     "metadata": {},
     "output_type": "display_data"
    },
    {
     "data": {
      "application/vnd.jupyter.widget-view+json": {
       "model_id": "",
       "version_major": 2,
       "version_minor": 0
      },
      "text/plain": [
       "HBox(children=(HTML(value=''), FloatProgress(value=0.0, max=12.0), HTML(value='')))"
      ]
     },
     "metadata": {},
     "output_type": "display_data"
    },
    {
     "name": "stdout",
     "output_type": "stream",
     "text": [
      "Training Results - Epoch[214/1000] Loss : 3.519630247731035\n"
     ]
    },
    {
     "data": {
      "application/vnd.jupyter.widget-view+json": {
       "model_id": "",
       "version_major": 2,
       "version_minor": 0
      },
      "text/plain": [
       "HBox(children=(HTML(value=''), FloatProgress(value=0.0, max=13.0), HTML(value='')))"
      ]
     },
     "metadata": {},
     "output_type": "display_data"
    },
    {
     "data": {
      "application/vnd.jupyter.widget-view+json": {
       "model_id": "",
       "version_major": 2,
       "version_minor": 0
      },
      "text/plain": [
       "HBox(children=(HTML(value=''), FloatProgress(value=0.0, max=12.0), HTML(value='')))"
      ]
     },
     "metadata": {},
     "output_type": "display_data"
    },
    {
     "name": "stdout",
     "output_type": "stream",
     "text": [
      "Training Results - Epoch[215/1000] Loss : 3.3219114432713757\n"
     ]
    },
    {
     "data": {
      "application/vnd.jupyter.widget-view+json": {
       "model_id": "",
       "version_major": 2,
       "version_minor": 0
      },
      "text/plain": [
       "HBox(children=(HTML(value=''), FloatProgress(value=0.0, max=13.0), HTML(value='')))"
      ]
     },
     "metadata": {},
     "output_type": "display_data"
    },
    {
     "data": {
      "application/vnd.jupyter.widget-view+json": {
       "model_id": "",
       "version_major": 2,
       "version_minor": 0
      },
      "text/plain": [
       "HBox(children=(HTML(value=''), FloatProgress(value=0.0, max=12.0), HTML(value='')))"
      ]
     },
     "metadata": {},
     "output_type": "display_data"
    },
    {
     "name": "stdout",
     "output_type": "stream",
     "text": [
      "Training Results - Epoch[216/1000] Loss : 3.052866604818969\n"
     ]
    },
    {
     "data": {
      "application/vnd.jupyter.widget-view+json": {
       "model_id": "",
       "version_major": 2,
       "version_minor": 0
      },
      "text/plain": [
       "HBox(children=(HTML(value=''), FloatProgress(value=0.0, max=13.0), HTML(value='')))"
      ]
     },
     "metadata": {},
     "output_type": "display_data"
    },
    {
     "data": {
      "application/vnd.jupyter.widget-view+json": {
       "model_id": "",
       "version_major": 2,
       "version_minor": 0
      },
      "text/plain": [
       "HBox(children=(HTML(value=''), FloatProgress(value=0.0, max=12.0), HTML(value='')))"
      ]
     },
     "metadata": {},
     "output_type": "display_data"
    },
    {
     "name": "stdout",
     "output_type": "stream",
     "text": [
      "Training Results - Epoch[217/1000] Loss : 2.416189606818503\n"
     ]
    },
    {
     "data": {
      "application/vnd.jupyter.widget-view+json": {
       "model_id": "",
       "version_major": 2,
       "version_minor": 0
      },
      "text/plain": [
       "HBox(children=(HTML(value=''), FloatProgress(value=0.0, max=13.0), HTML(value='')))"
      ]
     },
     "metadata": {},
     "output_type": "display_data"
    },
    {
     "data": {
      "application/vnd.jupyter.widget-view+json": {
       "model_id": "",
       "version_major": 2,
       "version_minor": 0
      },
      "text/plain": [
       "HBox(children=(HTML(value=''), FloatProgress(value=0.0, max=12.0), HTML(value='')))"
      ]
     },
     "metadata": {},
     "output_type": "display_data"
    },
    {
     "name": "stdout",
     "output_type": "stream",
     "text": [
      "Training Results - Epoch[218/1000] Loss : 3.5521728383008186\n"
     ]
    },
    {
     "data": {
      "application/vnd.jupyter.widget-view+json": {
       "model_id": "",
       "version_major": 2,
       "version_minor": 0
      },
      "text/plain": [
       "HBox(children=(HTML(value=''), FloatProgress(value=0.0, max=13.0), HTML(value='')))"
      ]
     },
     "metadata": {},
     "output_type": "display_data"
    },
    {
     "data": {
      "application/vnd.jupyter.widget-view+json": {
       "model_id": "",
       "version_major": 2,
       "version_minor": 0
      },
      "text/plain": [
       "HBox(children=(HTML(value=''), FloatProgress(value=0.0, max=12.0), HTML(value='')))"
      ]
     },
     "metadata": {},
     "output_type": "display_data"
    },
    {
     "name": "stdout",
     "output_type": "stream",
     "text": [
      "Training Results - Epoch[219/1000] Loss : 2.435231087827046\n"
     ]
    },
    {
     "data": {
      "application/vnd.jupyter.widget-view+json": {
       "model_id": "",
       "version_major": 2,
       "version_minor": 0
      },
      "text/plain": [
       "HBox(children=(HTML(value=''), FloatProgress(value=0.0, max=13.0), HTML(value='')))"
      ]
     },
     "metadata": {},
     "output_type": "display_data"
    },
    {
     "data": {
      "application/vnd.jupyter.widget-view+json": {
       "model_id": "",
       "version_major": 2,
       "version_minor": 0
      },
      "text/plain": [
       "HBox(children=(HTML(value=''), FloatProgress(value=0.0, max=12.0), HTML(value='')))"
      ]
     },
     "metadata": {},
     "output_type": "display_data"
    },
    {
     "name": "stdout",
     "output_type": "stream",
     "text": [
      "Training Results - Epoch[220/1000] Loss : 1.9899313161798902\n"
     ]
    },
    {
     "data": {
      "application/vnd.jupyter.widget-view+json": {
       "model_id": "",
       "version_major": 2,
       "version_minor": 0
      },
      "text/plain": [
       "HBox(children=(HTML(value=''), FloatProgress(value=0.0, max=13.0), HTML(value='')))"
      ]
     },
     "metadata": {},
     "output_type": "display_data"
    },
    {
     "data": {
      "application/vnd.jupyter.widget-view+json": {
       "model_id": "",
       "version_major": 2,
       "version_minor": 0
      },
      "text/plain": [
       "HBox(children=(HTML(value=''), FloatProgress(value=0.0, max=12.0), HTML(value='')))"
      ]
     },
     "metadata": {},
     "output_type": "display_data"
    },
    {
     "name": "stdout",
     "output_type": "stream",
     "text": [
      "Training Results - Epoch[221/1000] Loss : 2.977361619760658\n"
     ]
    },
    {
     "data": {
      "application/vnd.jupyter.widget-view+json": {
       "model_id": "",
       "version_major": 2,
       "version_minor": 0
      },
      "text/plain": [
       "HBox(children=(HTML(value=''), FloatProgress(value=0.0, max=13.0), HTML(value='')))"
      ]
     },
     "metadata": {},
     "output_type": "display_data"
    },
    {
     "data": {
      "application/vnd.jupyter.widget-view+json": {
       "model_id": "",
       "version_major": 2,
       "version_minor": 0
      },
      "text/plain": [
       "HBox(children=(HTML(value=''), FloatProgress(value=0.0, max=12.0), HTML(value='')))"
      ]
     },
     "metadata": {},
     "output_type": "display_data"
    },
    {
     "name": "stdout",
     "output_type": "stream",
     "text": [
      "Training Results - Epoch[222/1000] Loss : 2.3473653493490896\n"
     ]
    },
    {
     "data": {
      "application/vnd.jupyter.widget-view+json": {
       "model_id": "",
       "version_major": 2,
       "version_minor": 0
      },
      "text/plain": [
       "HBox(children=(HTML(value=''), FloatProgress(value=0.0, max=13.0), HTML(value='')))"
      ]
     },
     "metadata": {},
     "output_type": "display_data"
    },
    {
     "data": {
      "application/vnd.jupyter.widget-view+json": {
       "model_id": "",
       "version_major": 2,
       "version_minor": 0
      },
      "text/plain": [
       "HBox(children=(HTML(value=''), FloatProgress(value=0.0, max=12.0), HTML(value='')))"
      ]
     },
     "metadata": {},
     "output_type": "display_data"
    },
    {
     "name": "stdout",
     "output_type": "stream",
     "text": [
      "Training Results - Epoch[223/1000] Loss : 3.2563433370983987\n"
     ]
    },
    {
     "data": {
      "application/vnd.jupyter.widget-view+json": {
       "model_id": "",
       "version_major": 2,
       "version_minor": 0
      },
      "text/plain": [
       "HBox(children=(HTML(value=''), FloatProgress(value=0.0, max=13.0), HTML(value='')))"
      ]
     },
     "metadata": {},
     "output_type": "display_data"
    },
    {
     "data": {
      "application/vnd.jupyter.widget-view+json": {
       "model_id": "",
       "version_major": 2,
       "version_minor": 0
      },
      "text/plain": [
       "HBox(children=(HTML(value=''), FloatProgress(value=0.0, max=12.0), HTML(value='')))"
      ]
     },
     "metadata": {},
     "output_type": "display_data"
    },
    {
     "name": "stdout",
     "output_type": "stream",
     "text": [
      "Training Results - Epoch[224/1000] Loss : 2.60664737562778\n"
     ]
    },
    {
     "data": {
      "application/vnd.jupyter.widget-view+json": {
       "model_id": "",
       "version_major": 2,
       "version_minor": 0
      },
      "text/plain": [
       "HBox(children=(HTML(value=''), FloatProgress(value=0.0, max=13.0), HTML(value='')))"
      ]
     },
     "metadata": {},
     "output_type": "display_data"
    },
    {
     "data": {
      "application/vnd.jupyter.widget-view+json": {
       "model_id": "",
       "version_major": 2,
       "version_minor": 0
      },
      "text/plain": [
       "HBox(children=(HTML(value=''), FloatProgress(value=0.0, max=12.0), HTML(value='')))"
      ]
     },
     "metadata": {},
     "output_type": "display_data"
    },
    {
     "name": "stdout",
     "output_type": "stream",
     "text": [
      "Training Results - Epoch[225/1000] Loss : 3.3842677396011465\n"
     ]
    },
    {
     "data": {
      "application/vnd.jupyter.widget-view+json": {
       "model_id": "",
       "version_major": 2,
       "version_minor": 0
      },
      "text/plain": [
       "HBox(children=(HTML(value=''), FloatProgress(value=0.0, max=13.0), HTML(value='')))"
      ]
     },
     "metadata": {},
     "output_type": "display_data"
    },
    {
     "data": {
      "application/vnd.jupyter.widget-view+json": {
       "model_id": "",
       "version_major": 2,
       "version_minor": 0
      },
      "text/plain": [
       "HBox(children=(HTML(value=''), FloatProgress(value=0.0, max=12.0), HTML(value='')))"
      ]
     },
     "metadata": {},
     "output_type": "display_data"
    },
    {
     "name": "stdout",
     "output_type": "stream",
     "text": [
      "Training Results - Epoch[226/1000] Loss : 4.051586792728442\n"
     ]
    },
    {
     "data": {
      "application/vnd.jupyter.widget-view+json": {
       "model_id": "",
       "version_major": 2,
       "version_minor": 0
      },
      "text/plain": [
       "HBox(children=(HTML(value=''), FloatProgress(value=0.0, max=13.0), HTML(value='')))"
      ]
     },
     "metadata": {},
     "output_type": "display_data"
    },
    {
     "data": {
      "application/vnd.jupyter.widget-view+json": {
       "model_id": "",
       "version_major": 2,
       "version_minor": 0
      },
      "text/plain": [
       "HBox(children=(HTML(value=''), FloatProgress(value=0.0, max=12.0), HTML(value='')))"
      ]
     },
     "metadata": {},
     "output_type": "display_data"
    },
    {
     "name": "stdout",
     "output_type": "stream",
     "text": [
      "Training Results - Epoch[227/1000] Loss : 3.23852197065782\n"
     ]
    },
    {
     "data": {
      "application/vnd.jupyter.widget-view+json": {
       "model_id": "",
       "version_major": 2,
       "version_minor": 0
      },
      "text/plain": [
       "HBox(children=(HTML(value=''), FloatProgress(value=0.0, max=13.0), HTML(value='')))"
      ]
     },
     "metadata": {},
     "output_type": "display_data"
    },
    {
     "data": {
      "application/vnd.jupyter.widget-view+json": {
       "model_id": "",
       "version_major": 2,
       "version_minor": 0
      },
      "text/plain": [
       "HBox(children=(HTML(value=''), FloatProgress(value=0.0, max=12.0), HTML(value='')))"
      ]
     },
     "metadata": {},
     "output_type": "display_data"
    },
    {
     "name": "stdout",
     "output_type": "stream",
     "text": [
      "Training Results - Epoch[228/1000] Loss : 4.428185654923623\n"
     ]
    },
    {
     "data": {
      "application/vnd.jupyter.widget-view+json": {
       "model_id": "",
       "version_major": 2,
       "version_minor": 0
      },
      "text/plain": [
       "HBox(children=(HTML(value=''), FloatProgress(value=0.0, max=13.0), HTML(value='')))"
      ]
     },
     "metadata": {},
     "output_type": "display_data"
    },
    {
     "data": {
      "application/vnd.jupyter.widget-view+json": {
       "model_id": "",
       "version_major": 2,
       "version_minor": 0
      },
      "text/plain": [
       "HBox(children=(HTML(value=''), FloatProgress(value=0.0, max=12.0), HTML(value='')))"
      ]
     },
     "metadata": {},
     "output_type": "display_data"
    },
    {
     "name": "stdout",
     "output_type": "stream",
     "text": [
      "Training Results - Epoch[229/1000] Loss : 3.297311799265749\n"
     ]
    },
    {
     "data": {
      "application/vnd.jupyter.widget-view+json": {
       "model_id": "",
       "version_major": 2,
       "version_minor": 0
      },
      "text/plain": [
       "HBox(children=(HTML(value=''), FloatProgress(value=0.0, max=13.0), HTML(value='')))"
      ]
     },
     "metadata": {},
     "output_type": "display_data"
    },
    {
     "data": {
      "application/vnd.jupyter.widget-view+json": {
       "model_id": "",
       "version_major": 2,
       "version_minor": 0
      },
      "text/plain": [
       "HBox(children=(HTML(value=''), FloatProgress(value=0.0, max=12.0), HTML(value='')))"
      ]
     },
     "metadata": {},
     "output_type": "display_data"
    },
    {
     "name": "stdout",
     "output_type": "stream",
     "text": [
      "Training Results - Epoch[230/1000] Loss : 3.6754035243834595\n"
     ]
    },
    {
     "data": {
      "application/vnd.jupyter.widget-view+json": {
       "model_id": "",
       "version_major": 2,
       "version_minor": 0
      },
      "text/plain": [
       "HBox(children=(HTML(value=''), FloatProgress(value=0.0, max=13.0), HTML(value='')))"
      ]
     },
     "metadata": {},
     "output_type": "display_data"
    },
    {
     "data": {
      "application/vnd.jupyter.widget-view+json": {
       "model_id": "",
       "version_major": 2,
       "version_minor": 0
      },
      "text/plain": [
       "HBox(children=(HTML(value=''), FloatProgress(value=0.0, max=12.0), HTML(value='')))"
      ]
     },
     "metadata": {},
     "output_type": "display_data"
    },
    {
     "name": "stdout",
     "output_type": "stream",
     "text": [
      "Training Results - Epoch[231/1000] Loss : 2.3017902859069452\n"
     ]
    },
    {
     "data": {
      "application/vnd.jupyter.widget-view+json": {
       "model_id": "",
       "version_major": 2,
       "version_minor": 0
      },
      "text/plain": [
       "HBox(children=(HTML(value=''), FloatProgress(value=0.0, max=13.0), HTML(value='')))"
      ]
     },
     "metadata": {},
     "output_type": "display_data"
    },
    {
     "data": {
      "application/vnd.jupyter.widget-view+json": {
       "model_id": "",
       "version_major": 2,
       "version_minor": 0
      },
      "text/plain": [
       "HBox(children=(HTML(value=''), FloatProgress(value=0.0, max=12.0), HTML(value='')))"
      ]
     },
     "metadata": {},
     "output_type": "display_data"
    },
    {
     "name": "stdout",
     "output_type": "stream",
     "text": [
      "Training Results - Epoch[232/1000] Loss : 2.1309016004944685\n"
     ]
    },
    {
     "data": {
      "application/vnd.jupyter.widget-view+json": {
       "model_id": "",
       "version_major": 2,
       "version_minor": 0
      },
      "text/plain": [
       "HBox(children=(HTML(value=''), FloatProgress(value=0.0, max=13.0), HTML(value='')))"
      ]
     },
     "metadata": {},
     "output_type": "display_data"
    },
    {
     "data": {
      "application/vnd.jupyter.widget-view+json": {
       "model_id": "",
       "version_major": 2,
       "version_minor": 0
      },
      "text/plain": [
       "HBox(children=(HTML(value=''), FloatProgress(value=0.0, max=12.0), HTML(value='')))"
      ]
     },
     "metadata": {},
     "output_type": "display_data"
    },
    {
     "name": "stdout",
     "output_type": "stream",
     "text": [
      "Training Results - Epoch[233/1000] Loss : 4.03288129538999\n"
     ]
    },
    {
     "data": {
      "application/vnd.jupyter.widget-view+json": {
       "model_id": "",
       "version_major": 2,
       "version_minor": 0
      },
      "text/plain": [
       "HBox(children=(HTML(value=''), FloatProgress(value=0.0, max=13.0), HTML(value='')))"
      ]
     },
     "metadata": {},
     "output_type": "display_data"
    },
    {
     "data": {
      "application/vnd.jupyter.widget-view+json": {
       "model_id": "",
       "version_major": 2,
       "version_minor": 0
      },
      "text/plain": [
       "HBox(children=(HTML(value=''), FloatProgress(value=0.0, max=12.0), HTML(value='')))"
      ]
     },
     "metadata": {},
     "output_type": "display_data"
    },
    {
     "name": "stdout",
     "output_type": "stream",
     "text": [
      "Training Results - Epoch[234/1000] Loss : 3.9391852449289386\n"
     ]
    },
    {
     "data": {
      "application/vnd.jupyter.widget-view+json": {
       "model_id": "",
       "version_major": 2,
       "version_minor": 0
      },
      "text/plain": [
       "HBox(children=(HTML(value=''), FloatProgress(value=0.0, max=13.0), HTML(value='')))"
      ]
     },
     "metadata": {},
     "output_type": "display_data"
    },
    {
     "data": {
      "application/vnd.jupyter.widget-view+json": {
       "model_id": "",
       "version_major": 2,
       "version_minor": 0
      },
      "text/plain": [
       "HBox(children=(HTML(value=''), FloatProgress(value=0.0, max=12.0), HTML(value='')))"
      ]
     },
     "metadata": {},
     "output_type": "display_data"
    },
    {
     "name": "stdout",
     "output_type": "stream",
     "text": [
      "Training Results - Epoch[235/1000] Loss : 3.4300352236173897\n"
     ]
    },
    {
     "data": {
      "application/vnd.jupyter.widget-view+json": {
       "model_id": "",
       "version_major": 2,
       "version_minor": 0
      },
      "text/plain": [
       "HBox(children=(HTML(value=''), FloatProgress(value=0.0, max=13.0), HTML(value='')))"
      ]
     },
     "metadata": {},
     "output_type": "display_data"
    },
    {
     "data": {
      "application/vnd.jupyter.widget-view+json": {
       "model_id": "",
       "version_major": 2,
       "version_minor": 0
      },
      "text/plain": [
       "HBox(children=(HTML(value=''), FloatProgress(value=0.0, max=12.0), HTML(value='')))"
      ]
     },
     "metadata": {},
     "output_type": "display_data"
    },
    {
     "name": "stdout",
     "output_type": "stream",
     "text": [
      "Training Results - Epoch[236/1000] Loss : 2.9784987674093966\n"
     ]
    },
    {
     "data": {
      "application/vnd.jupyter.widget-view+json": {
       "model_id": "",
       "version_major": 2,
       "version_minor": 0
      },
      "text/plain": [
       "HBox(children=(HTML(value=''), FloatProgress(value=0.0, max=13.0), HTML(value='')))"
      ]
     },
     "metadata": {},
     "output_type": "display_data"
    },
    {
     "data": {
      "application/vnd.jupyter.widget-view+json": {
       "model_id": "",
       "version_major": 2,
       "version_minor": 0
      },
      "text/plain": [
       "HBox(children=(HTML(value=''), FloatProgress(value=0.0, max=12.0), HTML(value='')))"
      ]
     },
     "metadata": {},
     "output_type": "display_data"
    },
    {
     "name": "stdout",
     "output_type": "stream",
     "text": [
      "Training Results - Epoch[237/1000] Loss : 3.4600411539660327\n"
     ]
    },
    {
     "data": {
      "application/vnd.jupyter.widget-view+json": {
       "model_id": "",
       "version_major": 2,
       "version_minor": 0
      },
      "text/plain": [
       "HBox(children=(HTML(value=''), FloatProgress(value=0.0, max=13.0), HTML(value='')))"
      ]
     },
     "metadata": {},
     "output_type": "display_data"
    },
    {
     "data": {
      "application/vnd.jupyter.widget-view+json": {
       "model_id": "",
       "version_major": 2,
       "version_minor": 0
      },
      "text/plain": [
       "HBox(children=(HTML(value=''), FloatProgress(value=0.0, max=12.0), HTML(value='')))"
      ]
     },
     "metadata": {},
     "output_type": "display_data"
    },
    {
     "name": "stdout",
     "output_type": "stream",
     "text": [
      "Training Results - Epoch[238/1000] Loss : 3.22610575458833\n"
     ]
    },
    {
     "data": {
      "application/vnd.jupyter.widget-view+json": {
       "model_id": "",
       "version_major": 2,
       "version_minor": 0
      },
      "text/plain": [
       "HBox(children=(HTML(value=''), FloatProgress(value=0.0, max=13.0), HTML(value='')))"
      ]
     },
     "metadata": {},
     "output_type": "display_data"
    },
    {
     "data": {
      "application/vnd.jupyter.widget-view+json": {
       "model_id": "",
       "version_major": 2,
       "version_minor": 0
      },
      "text/plain": [
       "HBox(children=(HTML(value=''), FloatProgress(value=0.0, max=12.0), HTML(value='')))"
      ]
     },
     "metadata": {},
     "output_type": "display_data"
    },
    {
     "name": "stdout",
     "output_type": "stream",
     "text": [
      "Training Results - Epoch[239/1000] Loss : 2.4243054240974504\n"
     ]
    },
    {
     "data": {
      "application/vnd.jupyter.widget-view+json": {
       "model_id": "",
       "version_major": 2,
       "version_minor": 0
      },
      "text/plain": [
       "HBox(children=(HTML(value=''), FloatProgress(value=0.0, max=13.0), HTML(value='')))"
      ]
     },
     "metadata": {},
     "output_type": "display_data"
    },
    {
     "data": {
      "application/vnd.jupyter.widget-view+json": {
       "model_id": "",
       "version_major": 2,
       "version_minor": 0
      },
      "text/plain": [
       "HBox(children=(HTML(value=''), FloatProgress(value=0.0, max=12.0), HTML(value='')))"
      ]
     },
     "metadata": {},
     "output_type": "display_data"
    },
    {
     "name": "stdout",
     "output_type": "stream",
     "text": [
      "Training Results - Epoch[240/1000] Loss : 3.220092821069415\n"
     ]
    },
    {
     "data": {
      "application/vnd.jupyter.widget-view+json": {
       "model_id": "",
       "version_major": 2,
       "version_minor": 0
      },
      "text/plain": [
       "HBox(children=(HTML(value=''), FloatProgress(value=0.0, max=13.0), HTML(value='')))"
      ]
     },
     "metadata": {},
     "output_type": "display_data"
    },
    {
     "data": {
      "application/vnd.jupyter.widget-view+json": {
       "model_id": "",
       "version_major": 2,
       "version_minor": 0
      },
      "text/plain": [
       "HBox(children=(HTML(value=''), FloatProgress(value=0.0, max=12.0), HTML(value='')))"
      ]
     },
     "metadata": {},
     "output_type": "display_data"
    },
    {
     "name": "stdout",
     "output_type": "stream",
     "text": [
      "Training Results - Epoch[241/1000] Loss : 4.122734462648239\n"
     ]
    },
    {
     "data": {
      "application/vnd.jupyter.widget-view+json": {
       "model_id": "",
       "version_major": 2,
       "version_minor": 0
      },
      "text/plain": [
       "HBox(children=(HTML(value=''), FloatProgress(value=0.0, max=13.0), HTML(value='')))"
      ]
     },
     "metadata": {},
     "output_type": "display_data"
    },
    {
     "data": {
      "application/vnd.jupyter.widget-view+json": {
       "model_id": "",
       "version_major": 2,
       "version_minor": 0
      },
      "text/plain": [
       "HBox(children=(HTML(value=''), FloatProgress(value=0.0, max=12.0), HTML(value='')))"
      ]
     },
     "metadata": {},
     "output_type": "display_data"
    },
    {
     "name": "stdout",
     "output_type": "stream",
     "text": [
      "Training Results - Epoch[242/1000] Loss : 3.117765277515634\n"
     ]
    },
    {
     "data": {
      "application/vnd.jupyter.widget-view+json": {
       "model_id": "",
       "version_major": 2,
       "version_minor": 0
      },
      "text/plain": [
       "HBox(children=(HTML(value=''), FloatProgress(value=0.0, max=13.0), HTML(value='')))"
      ]
     },
     "metadata": {},
     "output_type": "display_data"
    },
    {
     "data": {
      "application/vnd.jupyter.widget-view+json": {
       "model_id": "",
       "version_major": 2,
       "version_minor": 0
      },
      "text/plain": [
       "HBox(children=(HTML(value=''), FloatProgress(value=0.0, max=12.0), HTML(value='')))"
      ]
     },
     "metadata": {},
     "output_type": "display_data"
    },
    {
     "name": "stdout",
     "output_type": "stream",
     "text": [
      "Training Results - Epoch[243/1000] Loss : 2.7250564412788707\n"
     ]
    },
    {
     "data": {
      "application/vnd.jupyter.widget-view+json": {
       "model_id": "",
       "version_major": 2,
       "version_minor": 0
      },
      "text/plain": [
       "HBox(children=(HTML(value=''), FloatProgress(value=0.0, max=13.0), HTML(value='')))"
      ]
     },
     "metadata": {},
     "output_type": "display_data"
    },
    {
     "data": {
      "application/vnd.jupyter.widget-view+json": {
       "model_id": "",
       "version_major": 2,
       "version_minor": 0
      },
      "text/plain": [
       "HBox(children=(HTML(value=''), FloatProgress(value=0.0, max=12.0), HTML(value='')))"
      ]
     },
     "metadata": {},
     "output_type": "display_data"
    },
    {
     "name": "stdout",
     "output_type": "stream",
     "text": [
      "Training Results - Epoch[244/1000] Loss : 2.7224023761703253\n"
     ]
    },
    {
     "data": {
      "application/vnd.jupyter.widget-view+json": {
       "model_id": "",
       "version_major": 2,
       "version_minor": 0
      },
      "text/plain": [
       "HBox(children=(HTML(value=''), FloatProgress(value=0.0, max=13.0), HTML(value='')))"
      ]
     },
     "metadata": {},
     "output_type": "display_data"
    },
    {
     "data": {
      "application/vnd.jupyter.widget-view+json": {
       "model_id": "",
       "version_major": 2,
       "version_minor": 0
      },
      "text/plain": [
       "HBox(children=(HTML(value=''), FloatProgress(value=0.0, max=12.0), HTML(value='')))"
      ]
     },
     "metadata": {},
     "output_type": "display_data"
    },
    {
     "name": "stdout",
     "output_type": "stream",
     "text": [
      "Training Results - Epoch[245/1000] Loss : 3.1037219607645516\n"
     ]
    },
    {
     "data": {
      "application/vnd.jupyter.widget-view+json": {
       "model_id": "",
       "version_major": 2,
       "version_minor": 0
      },
      "text/plain": [
       "HBox(children=(HTML(value=''), FloatProgress(value=0.0, max=13.0), HTML(value='')))"
      ]
     },
     "metadata": {},
     "output_type": "display_data"
    },
    {
     "data": {
      "application/vnd.jupyter.widget-view+json": {
       "model_id": "",
       "version_major": 2,
       "version_minor": 0
      },
      "text/plain": [
       "HBox(children=(HTML(value=''), FloatProgress(value=0.0, max=12.0), HTML(value='')))"
      ]
     },
     "metadata": {},
     "output_type": "display_data"
    },
    {
     "name": "stdout",
     "output_type": "stream",
     "text": [
      "Training Results - Epoch[246/1000] Loss : 3.2408569058319987\n"
     ]
    },
    {
     "data": {
      "application/vnd.jupyter.widget-view+json": {
       "model_id": "",
       "version_major": 2,
       "version_minor": 0
      },
      "text/plain": [
       "HBox(children=(HTML(value=''), FloatProgress(value=0.0, max=13.0), HTML(value='')))"
      ]
     },
     "metadata": {},
     "output_type": "display_data"
    },
    {
     "data": {
      "application/vnd.jupyter.widget-view+json": {
       "model_id": "",
       "version_major": 2,
       "version_minor": 0
      },
      "text/plain": [
       "HBox(children=(HTML(value=''), FloatProgress(value=0.0, max=12.0), HTML(value='')))"
      ]
     },
     "metadata": {},
     "output_type": "display_data"
    },
    {
     "name": "stdout",
     "output_type": "stream",
     "text": [
      "Training Results - Epoch[247/1000] Loss : 2.694037923439406\n"
     ]
    },
    {
     "data": {
      "application/vnd.jupyter.widget-view+json": {
       "model_id": "",
       "version_major": 2,
       "version_minor": 0
      },
      "text/plain": [
       "HBox(children=(HTML(value=''), FloatProgress(value=0.0, max=13.0), HTML(value='')))"
      ]
     },
     "metadata": {},
     "output_type": "display_data"
    },
    {
     "data": {
      "application/vnd.jupyter.widget-view+json": {
       "model_id": "",
       "version_major": 2,
       "version_minor": 0
      },
      "text/plain": [
       "HBox(children=(HTML(value=''), FloatProgress(value=0.0, max=12.0), HTML(value='')))"
      ]
     },
     "metadata": {},
     "output_type": "display_data"
    },
    {
     "name": "stdout",
     "output_type": "stream",
     "text": [
      "Training Results - Epoch[248/1000] Loss : 3.5858667100059893\n"
     ]
    },
    {
     "data": {
      "application/vnd.jupyter.widget-view+json": {
       "model_id": "",
       "version_major": 2,
       "version_minor": 0
      },
      "text/plain": [
       "HBox(children=(HTML(value=''), FloatProgress(value=0.0, max=13.0), HTML(value='')))"
      ]
     },
     "metadata": {},
     "output_type": "display_data"
    },
    {
     "data": {
      "application/vnd.jupyter.widget-view+json": {
       "model_id": "",
       "version_major": 2,
       "version_minor": 0
      },
      "text/plain": [
       "HBox(children=(HTML(value=''), FloatProgress(value=0.0, max=12.0), HTML(value='')))"
      ]
     },
     "metadata": {},
     "output_type": "display_data"
    },
    {
     "name": "stdout",
     "output_type": "stream",
     "text": [
      "Training Results - Epoch[249/1000] Loss : 3.0195986516839164\n"
     ]
    },
    {
     "data": {
      "application/vnd.jupyter.widget-view+json": {
       "model_id": "",
       "version_major": 2,
       "version_minor": 0
      },
      "text/plain": [
       "HBox(children=(HTML(value=''), FloatProgress(value=0.0, max=13.0), HTML(value='')))"
      ]
     },
     "metadata": {},
     "output_type": "display_data"
    },
    {
     "data": {
      "application/vnd.jupyter.widget-view+json": {
       "model_id": "",
       "version_major": 2,
       "version_minor": 0
      },
      "text/plain": [
       "HBox(children=(HTML(value=''), FloatProgress(value=0.0, max=12.0), HTML(value='')))"
      ]
     },
     "metadata": {},
     "output_type": "display_data"
    },
    {
     "name": "stdout",
     "output_type": "stream",
     "text": [
      "Training Results - Epoch[250/1000] Loss : 2.462643696872602\n"
     ]
    },
    {
     "data": {
      "application/vnd.jupyter.widget-view+json": {
       "model_id": "",
       "version_major": 2,
       "version_minor": 0
      },
      "text/plain": [
       "HBox(children=(HTML(value=''), FloatProgress(value=0.0, max=13.0), HTML(value='')))"
      ]
     },
     "metadata": {},
     "output_type": "display_data"
    },
    {
     "data": {
      "application/vnd.jupyter.widget-view+json": {
       "model_id": "",
       "version_major": 2,
       "version_minor": 0
      },
      "text/plain": [
       "HBox(children=(HTML(value=''), FloatProgress(value=0.0, max=12.0), HTML(value='')))"
      ]
     },
     "metadata": {},
     "output_type": "display_data"
    },
    {
     "name": "stdout",
     "output_type": "stream",
     "text": [
      "Training Results - Epoch[251/1000] Loss : 3.4878294130234115\n"
     ]
    },
    {
     "data": {
      "application/vnd.jupyter.widget-view+json": {
       "model_id": "",
       "version_major": 2,
       "version_minor": 0
      },
      "text/plain": [
       "HBox(children=(HTML(value=''), FloatProgress(value=0.0, max=13.0), HTML(value='')))"
      ]
     },
     "metadata": {},
     "output_type": "display_data"
    },
    {
     "data": {
      "application/vnd.jupyter.widget-view+json": {
       "model_id": "",
       "version_major": 2,
       "version_minor": 0
      },
      "text/plain": [
       "HBox(children=(HTML(value=''), FloatProgress(value=0.0, max=12.0), HTML(value='')))"
      ]
     },
     "metadata": {},
     "output_type": "display_data"
    },
    {
     "name": "stdout",
     "output_type": "stream",
     "text": [
      "Training Results - Epoch[252/1000] Loss : 3.154083183318748\n"
     ]
    },
    {
     "data": {
      "application/vnd.jupyter.widget-view+json": {
       "model_id": "",
       "version_major": 2,
       "version_minor": 0
      },
      "text/plain": [
       "HBox(children=(HTML(value=''), FloatProgress(value=0.0, max=13.0), HTML(value='')))"
      ]
     },
     "metadata": {},
     "output_type": "display_data"
    },
    {
     "data": {
      "application/vnd.jupyter.widget-view+json": {
       "model_id": "",
       "version_major": 2,
       "version_minor": 0
      },
      "text/plain": [
       "HBox(children=(HTML(value=''), FloatProgress(value=0.0, max=12.0), HTML(value='')))"
      ]
     },
     "metadata": {},
     "output_type": "display_data"
    },
    {
     "name": "stdout",
     "output_type": "stream",
     "text": [
      "Training Results - Epoch[253/1000] Loss : 3.3607838410432023\n"
     ]
    },
    {
     "data": {
      "application/vnd.jupyter.widget-view+json": {
       "model_id": "",
       "version_major": 2,
       "version_minor": 0
      },
      "text/plain": [
       "HBox(children=(HTML(value=''), FloatProgress(value=0.0, max=13.0), HTML(value='')))"
      ]
     },
     "metadata": {},
     "output_type": "display_data"
    },
    {
     "data": {
      "application/vnd.jupyter.widget-view+json": {
       "model_id": "",
       "version_major": 2,
       "version_minor": 0
      },
      "text/plain": [
       "HBox(children=(HTML(value=''), FloatProgress(value=0.0, max=12.0), HTML(value='')))"
      ]
     },
     "metadata": {},
     "output_type": "display_data"
    },
    {
     "name": "stdout",
     "output_type": "stream",
     "text": [
      "Training Results - Epoch[254/1000] Loss : 2.253885317281841\n"
     ]
    },
    {
     "data": {
      "application/vnd.jupyter.widget-view+json": {
       "model_id": "",
       "version_major": 2,
       "version_minor": 0
      },
      "text/plain": [
       "HBox(children=(HTML(value=''), FloatProgress(value=0.0, max=13.0), HTML(value='')))"
      ]
     },
     "metadata": {},
     "output_type": "display_data"
    },
    {
     "data": {
      "application/vnd.jupyter.widget-view+json": {
       "model_id": "",
       "version_major": 2,
       "version_minor": 0
      },
      "text/plain": [
       "HBox(children=(HTML(value=''), FloatProgress(value=0.0, max=12.0), HTML(value='')))"
      ]
     },
     "metadata": {},
     "output_type": "display_data"
    },
    {
     "name": "stdout",
     "output_type": "stream",
     "text": [
      "Training Results - Epoch[255/1000] Loss : 3.024313241937148\n"
     ]
    },
    {
     "data": {
      "application/vnd.jupyter.widget-view+json": {
       "model_id": "",
       "version_major": 2,
       "version_minor": 0
      },
      "text/plain": [
       "HBox(children=(HTML(value=''), FloatProgress(value=0.0, max=13.0), HTML(value='')))"
      ]
     },
     "metadata": {},
     "output_type": "display_data"
    },
    {
     "data": {
      "application/vnd.jupyter.widget-view+json": {
       "model_id": "",
       "version_major": 2,
       "version_minor": 0
      },
      "text/plain": [
       "HBox(children=(HTML(value=''), FloatProgress(value=0.0, max=12.0), HTML(value='')))"
      ]
     },
     "metadata": {},
     "output_type": "display_data"
    },
    {
     "name": "stdout",
     "output_type": "stream",
     "text": [
      "Training Results - Epoch[256/1000] Loss : 4.4109829723853595\n"
     ]
    },
    {
     "data": {
      "application/vnd.jupyter.widget-view+json": {
       "model_id": "",
       "version_major": 2,
       "version_minor": 0
      },
      "text/plain": [
       "HBox(children=(HTML(value=''), FloatProgress(value=0.0, max=13.0), HTML(value='')))"
      ]
     },
     "metadata": {},
     "output_type": "display_data"
    },
    {
     "data": {
      "application/vnd.jupyter.widget-view+json": {
       "model_id": "",
       "version_major": 2,
       "version_minor": 0
      },
      "text/plain": [
       "HBox(children=(HTML(value=''), FloatProgress(value=0.0, max=12.0), HTML(value='')))"
      ]
     },
     "metadata": {},
     "output_type": "display_data"
    },
    {
     "name": "stdout",
     "output_type": "stream",
     "text": [
      "Training Results - Epoch[257/1000] Loss : 2.466934106522794\n"
     ]
    },
    {
     "data": {
      "application/vnd.jupyter.widget-view+json": {
       "model_id": "",
       "version_major": 2,
       "version_minor": 0
      },
      "text/plain": [
       "HBox(children=(HTML(value=''), FloatProgress(value=0.0, max=13.0), HTML(value='')))"
      ]
     },
     "metadata": {},
     "output_type": "display_data"
    },
    {
     "data": {
      "application/vnd.jupyter.widget-view+json": {
       "model_id": "",
       "version_major": 2,
       "version_minor": 0
      },
      "text/plain": [
       "HBox(children=(HTML(value=''), FloatProgress(value=0.0, max=12.0), HTML(value='')))"
      ]
     },
     "metadata": {},
     "output_type": "display_data"
    },
    {
     "name": "stdout",
     "output_type": "stream",
     "text": [
      "Training Results - Epoch[258/1000] Loss : 2.64630163810925\n"
     ]
    },
    {
     "data": {
      "application/vnd.jupyter.widget-view+json": {
       "model_id": "",
       "version_major": 2,
       "version_minor": 0
      },
      "text/plain": [
       "HBox(children=(HTML(value=''), FloatProgress(value=0.0, max=13.0), HTML(value='')))"
      ]
     },
     "metadata": {},
     "output_type": "display_data"
    },
    {
     "data": {
      "application/vnd.jupyter.widget-view+json": {
       "model_id": "",
       "version_major": 2,
       "version_minor": 0
      },
      "text/plain": [
       "HBox(children=(HTML(value=''), FloatProgress(value=0.0, max=12.0), HTML(value='')))"
      ]
     },
     "metadata": {},
     "output_type": "display_data"
    },
    {
     "name": "stdout",
     "output_type": "stream",
     "text": [
      "Training Results - Epoch[259/1000] Loss : 2.426548627227698\n"
     ]
    },
    {
     "data": {
      "application/vnd.jupyter.widget-view+json": {
       "model_id": "",
       "version_major": 2,
       "version_minor": 0
      },
      "text/plain": [
       "HBox(children=(HTML(value=''), FloatProgress(value=0.0, max=13.0), HTML(value='')))"
      ]
     },
     "metadata": {},
     "output_type": "display_data"
    },
    {
     "name": "stderr",
     "output_type": "stream",
     "text": [
      "2022-03-24 11:11:20,147 ignite.handlers.early_stopping.EarlyStopping INFO: EarlyStopping: Stop training\n"
     ]
    },
    {
     "name": "stdout",
     "output_type": "stream",
     "text": [
      "Best Loss :  1.861958354164267\n"
     ]
    },
    {
     "ename": "AssertionError",
     "evalue": "Torch not compiled with CUDA enabled",
     "output_type": "error",
     "traceback": [
      "\u001b[1;31m---------------------------------------------------------------------------\u001b[0m",
      "\u001b[1;31mAssertionError\u001b[0m                            Traceback (most recent call last)",
      "\u001b[1;32m<ipython-input-142-e6dfdeaca2c8>\u001b[0m in \u001b[0;36m<module>\u001b[1;34m\u001b[0m\n\u001b[1;32m----> 1\u001b[1;33m \u001b[0my_hat\u001b[0m \u001b[1;33m=\u001b[0m \u001b[0mmain\u001b[0m\u001b[1;33m(\u001b[0m\u001b[0mconfig\u001b[0m\u001b[1;33m)\u001b[0m\u001b[1;33m\u001b[0m\u001b[1;33m\u001b[0m\u001b[0m\n\u001b[0m\u001b[0;32m      2\u001b[0m \u001b[0mprint\u001b[0m\u001b[1;33m(\u001b[0m\u001b[0my_hat\u001b[0m\u001b[1;33m)\u001b[0m\u001b[1;33m\u001b[0m\u001b[1;33m\u001b[0m\u001b[0m\n",
      "\u001b[1;32m<ipython-input-132-804bf656e4d9>\u001b[0m in \u001b[0;36mmain\u001b[1;34m(config)\u001b[0m\n\u001b[0;32m     53\u001b[0m \u001b[1;33m\u001b[0m\u001b[0m\n\u001b[0;32m     54\u001b[0m     \u001b[1;32mwith\u001b[0m \u001b[0mtorch\u001b[0m\u001b[1;33m.\u001b[0m\u001b[0mno_grad\u001b[0m\u001b[1;33m(\u001b[0m\u001b[1;33m)\u001b[0m\u001b[1;33m:\u001b[0m\u001b[1;33m\u001b[0m\u001b[1;33m\u001b[0m\u001b[0m\n\u001b[1;32m---> 55\u001b[1;33m         \u001b[0my_hat\u001b[0m \u001b[1;33m=\u001b[0m \u001b[0mmodel\u001b[0m\u001b[1;33m(\u001b[0m\u001b[0mtorch\u001b[0m\u001b[1;33m.\u001b[0m\u001b[0mFloatTensor\u001b[0m\u001b[1;33m(\u001b[0m\u001b[0mtest\u001b[0m\u001b[1;33m.\u001b[0m\u001b[0miloc\u001b[0m\u001b[1;33m[\u001b[0m\u001b[1;33m:\u001b[0m\u001b[1;33m,\u001b[0m \u001b[1;36m1\u001b[0m\u001b[1;33m:\u001b[0m\u001b[1;33m]\u001b[0m\u001b[1;33m.\u001b[0m\u001b[0mvalues\u001b[0m\u001b[1;33m)\u001b[0m\u001b[1;33m.\u001b[0m\u001b[0mto\u001b[0m\u001b[1;33m(\u001b[0m\u001b[1;34m'cuda'\u001b[0m\u001b[1;33m)\u001b[0m\u001b[1;33m)\u001b[0m\u001b[1;33m\u001b[0m\u001b[1;33m\u001b[0m\u001b[0m\n\u001b[0m\u001b[0;32m     56\u001b[0m \u001b[1;33m\u001b[0m\u001b[0m\n\u001b[0;32m     57\u001b[0m     \u001b[1;32mreturn\u001b[0m \u001b[0my_hat\u001b[0m\u001b[1;33m\u001b[0m\u001b[1;33m\u001b[0m\u001b[0m\n",
      "\u001b[1;32m~\\anaconda3\\lib\\site-packages\\torch\\cuda\\__init__.py\u001b[0m in \u001b[0;36m_lazy_init\u001b[1;34m()\u001b[0m\n\u001b[0;32m    206\u001b[0m                 \"multiprocessing, you must use the 'spawn' start method\")\n\u001b[0;32m    207\u001b[0m         \u001b[1;32mif\u001b[0m \u001b[1;32mnot\u001b[0m \u001b[0mhasattr\u001b[0m\u001b[1;33m(\u001b[0m\u001b[0mtorch\u001b[0m\u001b[1;33m.\u001b[0m\u001b[0m_C\u001b[0m\u001b[1;33m,\u001b[0m \u001b[1;34m'_cuda_getDeviceCount'\u001b[0m\u001b[1;33m)\u001b[0m\u001b[1;33m:\u001b[0m\u001b[1;33m\u001b[0m\u001b[1;33m\u001b[0m\u001b[0m\n\u001b[1;32m--> 208\u001b[1;33m             \u001b[1;32mraise\u001b[0m \u001b[0mAssertionError\u001b[0m\u001b[1;33m(\u001b[0m\u001b[1;34m\"Torch not compiled with CUDA enabled\"\u001b[0m\u001b[1;33m)\u001b[0m\u001b[1;33m\u001b[0m\u001b[1;33m\u001b[0m\u001b[0m\n\u001b[0m\u001b[0;32m    209\u001b[0m         \u001b[1;32mif\u001b[0m \u001b[0m_cudart\u001b[0m \u001b[1;32mis\u001b[0m \u001b[1;32mNone\u001b[0m\u001b[1;33m:\u001b[0m\u001b[1;33m\u001b[0m\u001b[1;33m\u001b[0m\u001b[0m\n\u001b[0;32m    210\u001b[0m             raise AssertionError(\n",
      "\u001b[1;31mAssertionError\u001b[0m: Torch not compiled with CUDA enabled"
     ]
    }
   ],
   "source": [
    "y_hat = main(config)\n",
    "print(y_hat)"
   ]
  },
  {
   "cell_type": "code",
   "execution_count": 140,
   "metadata": {},
   "outputs": [
    {
     "ename": "NameError",
     "evalue": "name 'y_h' is not defined",
     "output_type": "error",
     "traceback": [
      "\u001b[1;31m---------------------------------------------------------------------------\u001b[0m",
      "\u001b[1;31mNameError\u001b[0m                                 Traceback (most recent call last)",
      "\u001b[1;32m<ipython-input-140-5d7fe26e9b50>\u001b[0m in \u001b[0;36m<module>\u001b[1;34m\u001b[0m\n\u001b[1;32m----> 1\u001b[1;33m \u001b[0my_h\u001b[0m\u001b[1;33m\u001b[0m\u001b[1;33m\u001b[0m\u001b[0m\n\u001b[0m",
      "\u001b[1;31mNameError\u001b[0m: name 'y_h' is not defined"
     ]
    }
   ],
   "source": [
    "y_hat"
   ]
  },
  {
   "cell_type": "code",
   "execution_count": null,
   "metadata": {},
   "outputs": [],
   "source": []
  },
  {
   "cell_type": "code",
   "execution_count": null,
   "metadata": {},
   "outputs": [],
   "source": []
  },
  {
   "cell_type": "code",
   "execution_count": null,
   "metadata": {},
   "outputs": [],
   "source": []
  },
  {
   "cell_type": "markdown",
   "metadata": {},
   "source": [
    "# 제출"
   ]
  },
  {
   "cell_type": "code",
   "execution_count": 29,
   "metadata": {},
   "outputs": [
    {
     "data": {
      "text/html": [
       "<div>\n",
       "<style scoped>\n",
       "    .dataframe tbody tr th:only-of-type {\n",
       "        vertical-align: middle;\n",
       "    }\n",
       "\n",
       "    .dataframe tbody tr th {\n",
       "        vertical-align: top;\n",
       "    }\n",
       "\n",
       "    .dataframe thead th {\n",
       "        text-align: right;\n",
       "    }\n",
       "</style>\n",
       "<table border=\"1\" class=\"dataframe\">\n",
       "  <thead>\n",
       "    <tr style=\"text-align: right;\">\n",
       "      <th></th>\n",
       "      <th>id</th>\n",
       "      <th>Target</th>\n",
       "    </tr>\n",
       "  </thead>\n",
       "  <tbody>\n",
       "    <tr>\n",
       "      <th>0</th>\n",
       "      <td>1</td>\n",
       "      <td>0</td>\n",
       "    </tr>\n",
       "    <tr>\n",
       "      <th>1</th>\n",
       "      <td>2</td>\n",
       "      <td>0</td>\n",
       "    </tr>\n",
       "    <tr>\n",
       "      <th>2</th>\n",
       "      <td>3</td>\n",
       "      <td>0</td>\n",
       "    </tr>\n",
       "    <tr>\n",
       "      <th>3</th>\n",
       "      <td>4</td>\n",
       "      <td>0</td>\n",
       "    </tr>\n",
       "    <tr>\n",
       "      <th>4</th>\n",
       "      <td>5</td>\n",
       "      <td>0</td>\n",
       "    </tr>\n",
       "  </tbody>\n",
       "</table>\n",
       "</div>"
      ],
      "text/plain": [
       "   id  Target\n",
       "0   1       0\n",
       "1   2       0\n",
       "2   3       0\n",
       "3   4       0\n",
       "4   5       0"
      ]
     },
     "execution_count": 29,
     "metadata": {},
     "output_type": "execute_result"
    }
   ],
   "source": [
    "submission = pd.read_csv('data/sample_submission.csv')\n",
    "submission.head()"
   ]
  },
  {
   "cell_type": "code",
   "execution_count": 137,
   "metadata": {},
   "outputs": [
    {
     "ename": "NameError",
     "evalue": "name 'y_hat' is not defined",
     "output_type": "error",
     "traceback": [
      "\u001b[1;31m---------------------------------------------------------------------------\u001b[0m",
      "\u001b[1;31mNameError\u001b[0m                                 Traceback (most recent call last)",
      "\u001b[1;32m<ipython-input-137-c3da9b1aecd3>\u001b[0m in \u001b[0;36m<module>\u001b[1;34m\u001b[0m\n\u001b[1;32m----> 1\u001b[1;33m \u001b[0msubmission\u001b[0m\u001b[1;33m[\u001b[0m\u001b[1;34m'Target'\u001b[0m\u001b[1;33m]\u001b[0m \u001b[1;33m=\u001b[0m \u001b[0my_hat\u001b[0m\u001b[1;33m.\u001b[0m\u001b[0mto\u001b[0m\u001b[1;33m(\u001b[0m\u001b[1;34m\"cpu\"\u001b[0m\u001b[1;33m)\u001b[0m\u001b[1;33m.\u001b[0m\u001b[0mdetach\u001b[0m\u001b[1;33m(\u001b[0m\u001b[1;33m)\u001b[0m\u001b[1;33m.\u001b[0m\u001b[0mnumpy\u001b[0m\u001b[1;33m(\u001b[0m\u001b[1;33m)\u001b[0m\u001b[1;33m\u001b[0m\u001b[1;33m\u001b[0m\u001b[0m\n\u001b[0m\u001b[0;32m      2\u001b[0m \u001b[1;33m\u001b[0m\u001b[0m\n\u001b[0;32m      3\u001b[0m \u001b[1;31m# 데이터가 잘 들어갔는지 확인합니다\u001b[0m\u001b[1;33m\u001b[0m\u001b[1;33m\u001b[0m\u001b[1;33m\u001b[0m\u001b[0m\n\u001b[0;32m      4\u001b[0m \u001b[0msubmission\u001b[0m\u001b[1;33m\u001b[0m\u001b[1;33m\u001b[0m\u001b[0m\n",
      "\u001b[1;31mNameError\u001b[0m: name 'y_hat' is not defined"
     ]
    }
   ],
   "source": [
    "submission['Target'] = y_hat.to(\"cpu\").detach().numpy()\n",
    "\n",
    "# 데이터가 잘 들어갔는지 확인합니다\n",
    "submission"
   ]
  },
  {
   "cell_type": "code",
   "execution_count": 32,
   "metadata": {},
   "outputs": [],
   "source": [
    "submission.to_csv('bidirectional_submit.csv', index=False)"
   ]
  },
  {
   "cell_type": "code",
   "execution_count": null,
   "metadata": {},
   "outputs": [],
   "source": []
  }
 ],
 "metadata": {
  "kernelspec": {
   "display_name": "Python 3",
   "language": "python",
   "name": "python3"
  },
  "language_info": {
   "codemirror_mode": {
    "name": "ipython",
    "version": 3
   },
   "file_extension": ".py",
   "mimetype": "text/x-python",
   "name": "python",
   "nbconvert_exporter": "python",
   "pygments_lexer": "ipython3",
   "version": "3.8.5"
  },
  "toc": {
   "base_numbering": 1,
   "nav_menu": {},
   "number_sections": true,
   "sideBar": true,
   "skip_h1_title": false,
   "title_cell": "Table of Contents",
   "title_sidebar": "Contents",
   "toc_cell": false,
   "toc_position": {},
   "toc_section_display": true,
   "toc_window_display": false
  },
  "varInspector": {
   "cols": {
    "lenName": 16,
    "lenType": 16,
    "lenVar": 40
   },
   "kernels_config": {
    "python": {
     "delete_cmd_postfix": "",
     "delete_cmd_prefix": "del ",
     "library": "var_list.py",
     "varRefreshCmd": "print(var_dic_list())"
    },
    "r": {
     "delete_cmd_postfix": ") ",
     "delete_cmd_prefix": "rm(",
     "library": "var_list.r",
     "varRefreshCmd": "cat(var_dic_list()) "
    }
   },
   "types_to_exclude": [
    "module",
    "function",
    "builtin_function_or_method",
    "instance",
    "_Feature"
   ],
   "window_display": false
  }
 },
 "nbformat": 4,
 "nbformat_minor": 4
}
